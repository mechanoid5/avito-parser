{
 "cells": [
  {
   "cell_type": "code",
   "execution_count": 1,
   "id": "6117a767",
   "metadata": {},
   "outputs": [],
   "source": [
    "# !pip install geopy"
   ]
  },
  {
   "cell_type": "code",
   "execution_count": 2,
   "id": "7dedad6a",
   "metadata": {},
   "outputs": [],
   "source": [
    "# sudo systemctl start postgresql\n",
    "# sudo -u postgres nominatim serve  --project-dir /data/nominatim-planet "
   ]
  },
  {
   "cell_type": "code",
   "execution_count": 3,
   "id": "112fb094",
   "metadata": {},
   "outputs": [],
   "source": [
    "# import re\n",
    "# import json\n",
    "import pandas as pd\n",
    "from geopy.geocoders import Nominatim\n",
    "from tqdm.notebook import tqdm\n",
    "\n",
    "tqdm.pandas()\n",
    "pd.options.display.max_colwidth = None "
   ]
  },
  {
   "cell_type": "markdown",
   "id": "b61541ce",
   "metadata": {},
   "source": [
    "---"
   ]
  },
  {
   "cell_type": "code",
   "execution_count": 4,
   "id": "a9938ed2",
   "metadata": {},
   "outputs": [],
   "source": [
    "# !ls data/location"
   ]
  },
  {
   "cell_type": "code",
   "execution_count": 5,
   "id": "d25c7505",
   "metadata": {},
   "outputs": [],
   "source": [
    "# !ls data"
   ]
  },
  {
   "cell_type": "code",
   "execution_count": 6,
   "id": "6124d6cf",
   "metadata": {},
   "outputs": [],
   "source": [
    "ts = '2022-09-02_13-04'\n",
    "location_path = 'data/location/avito_2022-09-01_14-07_location.pkl' #  старый список адресов\n",
    "data_path = f'data/avito_{ts}.xlsx'"
   ]
  },
  {
   "cell_type": "markdown",
   "id": "bdaf5c2b",
   "metadata": {},
   "source": [
    "---"
   ]
  },
  {
   "cell_type": "code",
   "execution_count": 7,
   "id": "f1419763",
   "metadata": {},
   "outputs": [],
   "source": [
    "# location = ( # список адресов из новых данных\n",
    "#     pd.read_excel(data_path)[['adr']]\n",
    "#     .drop_duplicates()\n",
    "#     .merge(pd.read_pickle(location_path),on=['adr'],how='outer')\n",
    "# )\n",
    "# print(len(location))\n",
    "# # location.sample(2)\n",
    "\n",
    "# # список адресов без метки\n",
    "# location_ = location[ location['coo'].isnull() ][['adr']].reset_index(drop=True)\n",
    "# location_"
   ]
  },
  {
   "cell_type": "markdown",
   "id": "4a4ea858",
   "metadata": {},
   "source": [
    "---"
   ]
  },
  {
   "cell_type": "code",
   "execution_count": 8,
   "id": "ea54930c",
   "metadata": {},
   "outputs": [
    {
     "data": {
      "text/html": [
       "<div>\n",
       "<style scoped>\n",
       "    .dataframe tbody tr th:only-of-type {\n",
       "        vertical-align: middle;\n",
       "    }\n",
       "\n",
       "    .dataframe tbody tr th {\n",
       "        vertical-align: top;\n",
       "    }\n",
       "\n",
       "    .dataframe thead th {\n",
       "        text-align: right;\n",
       "    }\n",
       "</style>\n",
       "<table border=\"1\" class=\"dataframe\">\n",
       "  <thead>\n",
       "    <tr style=\"text-align: right;\">\n",
       "      <th></th>\n",
       "      <th>adr</th>\n",
       "    </tr>\n",
       "  </thead>\n",
       "  <tbody>\n",
       "    <tr>\n",
       "      <th>0</th>\n",
       "      <td>улица Генерала Крейзера, д. 8, корп. 5</td>\n",
       "    </tr>\n",
       "    <tr>\n",
       "      <th>1</th>\n",
       "      <td>проспект Победы, 29В</td>\n",
       "    </tr>\n",
       "    <tr>\n",
       "      <th>2</th>\n",
       "      <td>улица Военных Строителей, стр. 6.3</td>\n",
       "    </tr>\n",
       "    <tr>\n",
       "      <th>3</th>\n",
       "      <td>аллея Защитников 35-й Батареи, д. 11а</td>\n",
       "    </tr>\n",
       "    <tr>\n",
       "      <th>4</th>\n",
       "      <td>улица Генерала Мельника, 11А/1</td>\n",
       "    </tr>\n",
       "    <tr>\n",
       "      <th>...</th>\n",
       "      <td>...</td>\n",
       "    </tr>\n",
       "    <tr>\n",
       "      <th>1579</th>\n",
       "      <td>улица Павла Корчагина, 5</td>\n",
       "    </tr>\n",
       "    <tr>\n",
       "      <th>1580</th>\n",
       "      <td>село Вилино, улица Чапаева, 10</td>\n",
       "    </tr>\n",
       "    <tr>\n",
       "      <th>1581</th>\n",
       "      <td>СТ Рубин, 58</td>\n",
       "    </tr>\n",
       "    <tr>\n",
       "      <th>1582</th>\n",
       "      <td>Кача, улица Авиаторов, 34</td>\n",
       "    </tr>\n",
       "    <tr>\n",
       "      <th>1583</th>\n",
       "      <td>бульвар Ататюрк, 275</td>\n",
       "    </tr>\n",
       "  </tbody>\n",
       "</table>\n",
       "<p>1584 rows × 1 columns</p>\n",
       "</div>"
      ],
      "text/plain": [
       "                                          adr\n",
       "0      улица Генерала Крейзера, д. 8, корп. 5\n",
       "1                        проспект Победы, 29В\n",
       "2          улица Военных Строителей, стр. 6.3\n",
       "3       аллея Защитников 35-й Батареи, д. 11а\n",
       "4              улица Генерала Мельника, 11А/1\n",
       "...                                       ...\n",
       "1579                 улица Павла Корчагина, 5\n",
       "1580           село Вилино, улица Чапаева, 10\n",
       "1581                             СТ Рубин, 58\n",
       "1582                Кача, улица Авиаторов, 34\n",
       "1583                     бульвар Ататюрк, 275\n",
       "\n",
       "[1584 rows x 1 columns]"
      ]
     },
     "execution_count": 8,
     "metadata": {},
     "output_type": "execute_result"
    }
   ],
   "source": [
    "location_ = pd.read_excel(data_path)[['adr']].drop_duplicates().reset_index(drop=True)\n",
    "location_"
   ]
  },
  {
   "cell_type": "code",
   "execution_count": 9,
   "id": "abb4f36d",
   "metadata": {},
   "outputs": [],
   "source": [
    "import re\n",
    "location_['adr_'] = (\n",
    "        location_['adr']\n",
    "        .apply(lambda s: re.sub(r'\\b[Сс]евастополь\\b','',s))\n",
    "        .apply(lambda s: re.sub(r'^','севастополь, ',s))\n",
    "        .apply(lambda s: re.sub(r'севастополь.*село\\b','крым, село ',s))\n",
    "        .apply(lambda s: re.sub(r'\\bмикрорайон\\b',' ',s))\n",
    "        .apply(lambda s: re.sub(r'\\bкотт?еджный пос[ёе]лок\\b',' ',s))\n",
    "        .apply(lambda s: re.sub(r'\\bпос[ёе]лок\\b',' ',s))\n",
    "        .apply(lambda s: re.sub(r',\\s*,',', ',s))\n",
    "        .apply(lambda s: re.sub(r' +',' ',s))\n",
    "    )"
   ]
  },
  {
   "cell_type": "code",
   "execution_count": 11,
   "id": "c5240b6d",
   "metadata": {},
   "outputs": [],
   "source": [
    "# location_[['adr_']].sort_values(by='adr_').to_csv('tmp/adr.csv',index=False)"
   ]
  },
  {
   "cell_type": "code",
   "execution_count": 12,
   "id": "ef0a51df",
   "metadata": {},
   "outputs": [],
   "source": [
    "# наб.\n",
    "# пл. \n",
    "# пос. \n",
    "# пр-д \n",
    "# пр.\n",
    "# садоводческое некоммерческое товарищество\n",
    "# садоводческое товарищество"
   ]
  },
  {
   "cell_type": "markdown",
   "id": "d7a7c45b",
   "metadata": {},
   "source": [
    "---"
   ]
  },
  {
   "cell_type": "code",
   "execution_count": 13,
   "id": "c8c4eef6",
   "metadata": {},
   "outputs": [],
   "source": [
    "# запускаем геокодер\n",
    "\n",
    "# sudo systemctl start postgresql\n",
    "# sudo -u postgres nominatim serve  --project-dir /data/nominatim-planet \n",
    "\n",
    "geolocator = Nominatim(user_agent='http://127.0.0.1:8088')\n",
    "\n",
    "# adr = 'севастополь острякова 57'\n",
    "# loc = geolocator.geocode(adr)\n",
    "# (loc.latitude, loc.longitude)"
   ]
  },
  {
   "cell_type": "code",
   "execution_count": 14,
   "id": "a877285e",
   "metadata": {},
   "outputs": [],
   "source": [
    "def get_coo(adr, city_prefix='Севастополь', geolocator=geolocator):\n",
    "    # добавляем название города к адресу \n",
    "    if len(city_prefix)>0: adr_ =  city_prefix + ', ' + adr\n",
    "    \n",
    "    # пробуем определить координаты\n",
    "    adr_ = adr_.split(',')\n",
    "    loc = geolocator.geocode(adr_)\n",
    "    \n",
    "    truncated = False\n",
    "    while (loc is None) and ( len(adr_) > 1 ): # если не нашел...\n",
    "        adr_ = adr_[:-1] # выкидываем часть адреса \n",
    "        loc = geolocator.geocode( adr_) # ... и пробуем ещё раз\n",
    "        truncated = True\n",
    "        \n",
    "    return (\n",
    "        {'coo':None,'truncated':None} \n",
    "        if (loc is None) \n",
    "        else {'coo':(loc.latitude, loc.longitude),'truncated':truncated} \n",
    "    )"
   ]
  },
  {
   "cell_type": "code",
   "execution_count": 15,
   "id": "725fe209",
   "metadata": {},
   "outputs": [
    {
     "data": {
      "application/vnd.jupyter.widget-view+json": {
       "model_id": "dee7d2867a564bb4a28e0f0754b9f19e",
       "version_major": 2,
       "version_minor": 0
      },
      "text/plain": [
       "  0%|          | 0/1584 [00:00<?, ?it/s]"
      ]
     },
     "metadata": {},
     "output_type": "display_data"
    },
    {
     "name": "stdout",
     "output_type": "stream",
     "text": [
      "CPU times: user 15.7 s, sys: 889 ms, total: 16.6 s\n",
      "Wall time: 18min 44s\n"
     ]
    },
    {
     "data": {
      "text/html": [
       "<div>\n",
       "<style scoped>\n",
       "    .dataframe tbody tr th:only-of-type {\n",
       "        vertical-align: middle;\n",
       "    }\n",
       "\n",
       "    .dataframe tbody tr th {\n",
       "        vertical-align: top;\n",
       "    }\n",
       "\n",
       "    .dataframe thead th {\n",
       "        text-align: right;\n",
       "    }\n",
       "</style>\n",
       "<table border=\"1\" class=\"dataframe\">\n",
       "  <thead>\n",
       "    <tr style=\"text-align: right;\">\n",
       "      <th></th>\n",
       "      <th>adr</th>\n",
       "      <th>adr_</th>\n",
       "      <th>coo</th>\n",
       "      <th>is_adr_truncated</th>\n",
       "    </tr>\n",
       "  </thead>\n",
       "  <tbody>\n",
       "    <tr>\n",
       "      <th>28</th>\n",
       "      <td>улица Будищева, 44</td>\n",
       "      <td>севастополь, улица Будищева, 44</td>\n",
       "      <td>(44.6004897, 33.53772710363263)</td>\n",
       "      <td>False</td>\n",
       "    </tr>\n",
       "    <tr>\n",
       "      <th>1040</th>\n",
       "      <td>Флагманская улица , 8</td>\n",
       "      <td>севастополь, Флагманская улица , 8</td>\n",
       "      <td>(44.571954399999996, 33.53202190000001)</td>\n",
       "      <td>False</td>\n",
       "    </tr>\n",
       "    <tr>\n",
       "      <th>668</th>\n",
       "      <td>улица Челюскинцев, 49</td>\n",
       "      <td>севастополь, улица Челюскинцев, 49</td>\n",
       "      <td>(44.630622, 33.5404022)</td>\n",
       "      <td>False</td>\n",
       "    </tr>\n",
       "    <tr>\n",
       "      <th>317</th>\n",
       "      <td>улица Курчатова, 15</td>\n",
       "      <td>севастополь, улица Курчатова, 15</td>\n",
       "      <td>(44.6280141, 33.5699902)</td>\n",
       "      <td>False</td>\n",
       "    </tr>\n",
       "  </tbody>\n",
       "</table>\n",
       "</div>"
      ],
      "text/plain": [
       "                         adr                                adr_  \\\n",
       "28        улица Будищева, 44     севастополь, улица Будищева, 44   \n",
       "1040   Флагманская улица , 8  севастополь, Флагманская улица , 8   \n",
       "668    улица Челюскинцев, 49  севастополь, улица Челюскинцев, 49   \n",
       "317      улица Курчатова, 15    севастополь, улица Курчатова, 15   \n",
       "\n",
       "                                          coo  is_adr_truncated  \n",
       "28            (44.6004897, 33.53772710363263)             False  \n",
       "1040  (44.571954399999996, 33.53202190000001)             False  \n",
       "668                   (44.630622, 33.5404022)             False  \n",
       "317                  (44.6280141, 33.5699902)             False  "
      ]
     },
     "execution_count": 15,
     "metadata": {},
     "output_type": "execute_result"
    }
   ],
   "source": [
    "%%time\n",
    "\n",
    "# ищем метку по адресу\n",
    "\n",
    "location_['coo'] = location_['adr_'].progress_apply(get_coo)\n",
    "location_['is_adr_truncated'] = location_['coo'].str['truncated']\n",
    "location_['coo'] = location_['coo'].str['coo']\n",
    "\n",
    "location_.sample(4)"
   ]
  },
  {
   "cell_type": "code",
   "execution_count": 19,
   "id": "9d6330d4",
   "metadata": {},
   "outputs": [
    {
     "data": {
      "text/html": [
       "<div>\n",
       "<style scoped>\n",
       "    .dataframe tbody tr th:only-of-type {\n",
       "        vertical-align: middle;\n",
       "    }\n",
       "\n",
       "    .dataframe tbody tr th {\n",
       "        vertical-align: top;\n",
       "    }\n",
       "\n",
       "    .dataframe thead th {\n",
       "        text-align: right;\n",
       "    }\n",
       "</style>\n",
       "<table border=\"1\" class=\"dataframe\">\n",
       "  <thead>\n",
       "    <tr style=\"text-align: right;\">\n",
       "      <th></th>\n",
       "      <th>adr</th>\n",
       "      <th>adr_</th>\n",
       "      <th>coo</th>\n",
       "      <th>is_adr_truncated</th>\n",
       "    </tr>\n",
       "  </thead>\n",
       "  <tbody>\n",
       "  </tbody>\n",
       "</table>\n",
       "</div>"
      ],
      "text/plain": [
       "Empty DataFrame\n",
       "Columns: [adr, adr_, coo, is_adr_truncated]\n",
       "Index: []"
      ]
     },
     "execution_count": 19,
     "metadata": {},
     "output_type": "execute_result"
    }
   ],
   "source": [
    "# список адресов для которых не удалось найти метку \n",
    "location_[ location_['coo'].isnull() ]"
   ]
  },
  {
   "cell_type": "code",
   "execution_count": 21,
   "id": "0ff49588",
   "metadata": {},
   "outputs": [
    {
     "data": {
      "text/html": [
       "<div>\n",
       "<style scoped>\n",
       "    .dataframe tbody tr th:only-of-type {\n",
       "        vertical-align: middle;\n",
       "    }\n",
       "\n",
       "    .dataframe tbody tr th {\n",
       "        vertical-align: top;\n",
       "    }\n",
       "\n",
       "    .dataframe thead th {\n",
       "        text-align: right;\n",
       "    }\n",
       "</style>\n",
       "<table border=\"1\" class=\"dataframe\">\n",
       "  <thead>\n",
       "    <tr style=\"text-align: right;\">\n",
       "      <th></th>\n",
       "      <th>adr</th>\n",
       "      <th>adr_</th>\n",
       "      <th>coo</th>\n",
       "      <th>is_adr_truncated</th>\n",
       "    </tr>\n",
       "  </thead>\n",
       "  <tbody>\n",
       "    <tr>\n",
       "      <th>0</th>\n",
       "      <td>улица Генерала Крейзера, д. 8, корп. 5</td>\n",
       "      <td>севастополь, улица Генерала Крейзера, д. 8, корп. 5</td>\n",
       "      <td>(44.6044898, 33.5120778)</td>\n",
       "      <td>True</td>\n",
       "    </tr>\n",
       "    <tr>\n",
       "      <th>2</th>\n",
       "      <td>улица Военных Строителей, стр. 6.3</td>\n",
       "      <td>севастополь, улица Военных Строителей, стр. 6.3</td>\n",
       "      <td>(44.5679458, 33.4055903)</td>\n",
       "      <td>True</td>\n",
       "    </tr>\n",
       "    <tr>\n",
       "      <th>3</th>\n",
       "      <td>аллея Защитников 35-й Батареи, д. 11а</td>\n",
       "      <td>севастополь, аллея Защитников 35-й Батареи, д. 11а</td>\n",
       "      <td>(44.6054434, 33.5220842)</td>\n",
       "      <td>True</td>\n",
       "    </tr>\n",
       "    <tr>\n",
       "      <th>4</th>\n",
       "      <td>улица Генерала Мельника, 11А/1</td>\n",
       "      <td>севастополь, улица Генерала Мельника, 11А/1</td>\n",
       "      <td>(44.5767843, 33.5652905)</td>\n",
       "      <td>True</td>\n",
       "    </tr>\n",
       "    <tr>\n",
       "      <th>5</th>\n",
       "      <td>шоссе Лабораторное, д. 33, секц. 6</td>\n",
       "      <td>севастополь, шоссе Лабораторное, д. 33, секц. 6</td>\n",
       "      <td>(44.5746091, 33.5809925)</td>\n",
       "      <td>True</td>\n",
       "    </tr>\n",
       "    <tr>\n",
       "      <th>...</th>\n",
       "      <td>...</td>\n",
       "      <td>...</td>\n",
       "      <td>...</td>\n",
       "      <td>...</td>\n",
       "    </tr>\n",
       "    <tr>\n",
       "      <th>1574</th>\n",
       "      <td>улица Ивана Голубца, 104</td>\n",
       "      <td>севастополь, улица Ивана Голубца, 104</td>\n",
       "      <td>(44.5909497, 33.5118155)</td>\n",
       "      <td>True</td>\n",
       "    </tr>\n",
       "    <tr>\n",
       "      <th>1577</th>\n",
       "      <td>проспект Античный, д. 26, корп. 5</td>\n",
       "      <td>севастополь, проспект Античный, д. 26, корп. 5</td>\n",
       "      <td>(44.5941174, 33.43597505148334)</td>\n",
       "      <td>True</td>\n",
       "    </tr>\n",
       "    <tr>\n",
       "      <th>1579</th>\n",
       "      <td>улица Павла Корчагина, 5</td>\n",
       "      <td>севастополь, улица Павла Корчагина, 5</td>\n",
       "      <td>(44.5833504, 33.4336844)</td>\n",
       "      <td>True</td>\n",
       "    </tr>\n",
       "    <tr>\n",
       "      <th>1580</th>\n",
       "      <td>село Вилино, улица Чапаева, 10</td>\n",
       "      <td>крым, село Вилино, улица Чапаева, 10</td>\n",
       "      <td>(44.5736594, 33.400570902016185)</td>\n",
       "      <td>True</td>\n",
       "    </tr>\n",
       "    <tr>\n",
       "      <th>1583</th>\n",
       "      <td>бульвар Ататюрк, 275</td>\n",
       "      <td>севастополь, бульвар Ататюрк, 275</td>\n",
       "      <td>(44.6054434, 33.5220842)</td>\n",
       "      <td>True</td>\n",
       "    </tr>\n",
       "  </tbody>\n",
       "</table>\n",
       "<p>486 rows × 4 columns</p>\n",
       "</div>"
      ],
      "text/plain": [
       "                                          adr  \\\n",
       "0      улица Генерала Крейзера, д. 8, корп. 5   \n",
       "2          улица Военных Строителей, стр. 6.3   \n",
       "3       аллея Защитников 35-й Батареи, д. 11а   \n",
       "4              улица Генерала Мельника, 11А/1   \n",
       "5          шоссе Лабораторное, д. 33, секц. 6   \n",
       "...                                       ...   \n",
       "1574                 улица Ивана Голубца, 104   \n",
       "1577        проспект Античный, д. 26, корп. 5   \n",
       "1579                 улица Павла Корчагина, 5   \n",
       "1580           село Вилино, улица Чапаева, 10   \n",
       "1583                     бульвар Ататюрк, 275   \n",
       "\n",
       "                                                     adr_  \\\n",
       "0     севастополь, улица Генерала Крейзера, д. 8, корп. 5   \n",
       "2         севастополь, улица Военных Строителей, стр. 6.3   \n",
       "3      севастополь, аллея Защитников 35-й Батареи, д. 11а   \n",
       "4             севастополь, улица Генерала Мельника, 11А/1   \n",
       "5         севастополь, шоссе Лабораторное, д. 33, секц. 6   \n",
       "...                                                   ...   \n",
       "1574                севастополь, улица Ивана Голубца, 104   \n",
       "1577       севастополь, проспект Античный, д. 26, корп. 5   \n",
       "1579                севастополь, улица Павла Корчагина, 5   \n",
       "1580                 крым, село Вилино, улица Чапаева, 10   \n",
       "1583                    севастополь, бульвар Ататюрк, 275   \n",
       "\n",
       "                                   coo  is_adr_truncated  \n",
       "0             (44.6044898, 33.5120778)              True  \n",
       "2             (44.5679458, 33.4055903)              True  \n",
       "3             (44.6054434, 33.5220842)              True  \n",
       "4             (44.5767843, 33.5652905)              True  \n",
       "5             (44.5746091, 33.5809925)              True  \n",
       "...                                ...               ...  \n",
       "1574          (44.5909497, 33.5118155)              True  \n",
       "1577   (44.5941174, 33.43597505148334)              True  \n",
       "1579          (44.5833504, 33.4336844)              True  \n",
       "1580  (44.5736594, 33.400570902016185)              True  \n",
       "1583          (44.6054434, 33.5220842)              True  \n",
       "\n",
       "[486 rows x 4 columns]"
      ]
     },
     "execution_count": 21,
     "metadata": {},
     "output_type": "execute_result"
    }
   ],
   "source": [
    "location_[ location_['is_adr_truncated'] ]"
   ]
  },
  {
   "cell_type": "code",
   "execution_count": null,
   "id": "aef68300",
   "metadata": {},
   "outputs": [],
   "source": [
    "# # собираем локации в один список\n",
    "# location_ = pd.concat([\n",
    "#     location[ ~location['coo'].isnull() ],\n",
    "#     location_[ ~location_['coo'].isnull() ]\n",
    "# ]).drop_duplicates().reset_index(drop=True)"
   ]
  },
  {
   "cell_type": "code",
   "execution_count": 20,
   "id": "2839bac8",
   "metadata": {},
   "outputs": [],
   "source": [
    "# location.to_excel(f'data/avito_{ts}_location.xlsx', index=False)\n",
    "location_.to_pickle(f'data/location/avito_{ts}_location.pkl')"
   ]
  },
  {
   "cell_type": "markdown",
   "id": "7cc565e6",
   "metadata": {},
   "source": [
    "----"
   ]
  },
  {
   "cell_type": "code",
   "execution_count": null,
   "id": "89ec0b68",
   "metadata": {},
   "outputs": [],
   "source": [
    "# df = pd.read_excel(data_path).merge(location_,on=['adr'],how='left')\n",
    "# df"
   ]
  },
  {
   "cell_type": "code",
   "execution_count": null,
   "id": "ce9e5479",
   "metadata": {},
   "outputs": [],
   "source": []
  },
  {
   "cell_type": "code",
   "execution_count": null,
   "id": "f65d1fd7",
   "metadata": {},
   "outputs": [],
   "source": [
    "# df[df['coo'].isnull()][['adr']].drop_duplicates()#.sort_values(by='adr')#.to_csv('tmp/adr.csv',index=False)"
   ]
  },
  {
   "cell_type": "code",
   "execution_count": null,
   "id": "f80293ca",
   "metadata": {},
   "outputs": [],
   "source": [
    "# df[ df['adr'].str.match(r'.*городского.*') ][['adr','coo']].drop_duplicates()"
   ]
  },
  {
   "cell_type": "code",
   "execution_count": null,
   "id": "ed28aa7e",
   "metadata": {},
   "outputs": [],
   "source": [
    "# import re\n",
    "# s= 'ш. Авиаторов'\n",
    "# s= 'Авиаторов ш.'\n",
    "\n",
    "# # пос. городского типа\n",
    "\n",
    "# re.sub(r'\\bш\\.','шоссе ',s)"
   ]
  },
  {
   "cell_type": "code",
   "execution_count": null,
   "id": "3d689cb4",
   "metadata": {},
   "outputs": [],
   "source": [
    "# пер. -> перeулок\n",
    "# ш. Ла -> шоссе\n",
    "# б-р -> бульвар\n",
    "# c. - село\n"
   ]
  },
  {
   "cell_type": "code",
   "execution_count": null,
   "id": "c40c9822",
   "metadata": {},
   "outputs": [],
   "source": [
    "# adr = 'севастополь, 4-й Хомутов перeулок'\n",
    "# adr = 'севастополь, Античный бульвар, 24'\n",
    "# adr = 'севастополь,Английский бульвар, 22'\n",
    "# adr = 'севастополь,ул. Генерала Лебедя'\n",
    "# adr = 'севастополь, проспект Юрия Гагарина, 31'\n",
    "# adr = 'крым, село Вилино'\n",
    "\n",
    "#adr = 'севастополь, ул. Защитников Батареи'\n",
    "# adr= 'севастополь, СТ Ветеран'# , 4-я Ежевичная ул., 153'\n",
    "\n",
    "# adr = 'севастополь,  Вилларис дель Мар'\n",
    "# adr = 'севастополь, Гагаринский муниципальный округ, микрорайон Казачья Бухта, Рубежная улица, 7'\n",
    "# adr = 'севастополь,  Любимовка, Южногородская улица' # , 36 к7'\n",
    "\n",
    "# loc = geolocator.geocode(adr)\n",
    "#(loc.latitude, loc.longitude)\n",
    "# loc\n",
    "\n",
    "\n",
    "# Location(ТСН СНТ Ветеран, Гагаринский округ, Гагаринский район, Севастополь, Україна, (44.544144, 33.443218046188065, 0.0))"
   ]
  },
  {
   "cell_type": "code",
   "execution_count": null,
   "id": "779ba56f",
   "metadata": {},
   "outputs": [],
   "source": []
  },
  {
   "cell_type": "markdown",
   "id": "c4e21c17",
   "metadata": {},
   "source": [
    "----"
   ]
  },
  {
   "cell_type": "code",
   "execution_count": null,
   "id": "2e9f24b9",
   "metadata": {},
   "outputs": [],
   "source": [
    "# geolocator.geocode('Севастополь, Аэродромное шоссе, 2 к34')\n",
    "# geolocator.geocode('Севастополь, проспект Генерала Острякова, 244 к7')\n",
    "# geolocator.geocode('Севастополь, ул. Астана Кесаева,')\n",
    "# geolocator.geocode('Севастополь, ул. Николая Музыки')\n",
    "# geolocator.geocode('Севастополь, ул. Коли Пищенко, 20А'.split(',')[:-1])\n",
    "# geolocator.geocode('Севастополь, с.Тыловое, Севастопольская ул., 6')\n",
    "# geolocator.geocode('Севастополь, с.Тыловое')\n",
    "# 'Севастополь, ул. Коли Пищенко, 20А'.split(',')[:-1]\n",
    "# geolocator.geocode('Севастополь, садоводческое некоммерческое товарищество Бриз')\n",
    "# geolocator.geocode('с. Песчаное, ')"
   ]
  },
  {
   "cell_type": "code",
   "execution_count": null,
   "id": "4201726b",
   "metadata": {},
   "outputs": [],
   "source": [
    "# geolocator.geocode?"
   ]
  },
  {
   "cell_type": "code",
   "execution_count": null,
   "id": "9c751339",
   "metadata": {},
   "outputs": [],
   "source": [
    "# import re\n",
    "# location['adr'].apply(lambda s: re.sub(r'(\\d)(к\\d)',r'\\1 \\2',s))"
   ]
  },
  {
   "cell_type": "code",
   "execution_count": null,
   "id": "95e89d5f",
   "metadata": {},
   "outputs": [],
   "source": [
    "# geolocator.geocode('Севастополь садоводческое товарищество Кача, 1')"
   ]
  },
  {
   "cell_type": "code",
   "execution_count": null,
   "id": "fc25f1e6",
   "metadata": {},
   "outputs": [],
   "source": [
    "# !pip install folium"
   ]
  },
  {
   "cell_type": "code",
   "execution_count": null,
   "id": "89e07784",
   "metadata": {},
   "outputs": [],
   "source": [
    "# import folium\n",
    "\n",
    "# m = folium.Map(location=coo,zoom_start=23)\n",
    "# folium.Marker(coo,popup=adr,tooltip=adr).add_to(m)\n",
    "# m"
   ]
  },
  {
   "cell_type": "markdown",
   "id": "183b97ee",
   "metadata": {},
   "source": [
    "---"
   ]
  },
  {
   "cell_type": "code",
   "execution_count": null,
   "id": "cf923274",
   "metadata": {},
   "outputs": [],
   "source": [
    "# !pip install osmnx"
   ]
  },
  {
   "cell_type": "code",
   "execution_count": null,
   "id": "4127a661",
   "metadata": {},
   "outputs": [],
   "source": [
    "# import osmnx as ox\n",
    "\n",
    "# center_point = (40.4168, -3.7038)\n",
    "# G = ox.graph_from_point(center_point, dist=15000, retain_all=True, simplify = True, network_type='all')"
   ]
  },
  {
   "cell_type": "markdown",
   "id": "b84ca345",
   "metadata": {},
   "source": [
    "---"
   ]
  },
  {
   "cell_type": "code",
   "execution_count": null,
   "id": "fbf26ed3",
   "metadata": {},
   "outputs": [],
   "source": [
    "# !pip install nominatim"
   ]
  },
  {
   "cell_type": "code",
   "execution_count": null,
   "id": "e7a9594c",
   "metadata": {},
   "outputs": [],
   "source": [
    "# from nominatim import Nominatim\n",
    "# #from nominatim import NominatimReverse\n",
    "\n",
    "# nom = Nominatim('http://127.0.0.1:8088')"
   ]
  },
  {
   "cell_type": "code",
   "execution_count": null,
   "id": "71534b4e",
   "metadata": {},
   "outputs": [],
   "source": [
    "# nom.query(u'москва', acceptlanguage='RU')\n",
    "# # nom.query(u'moscow')"
   ]
  },
  {
   "cell_type": "code",
   "execution_count": null,
   "id": "353fed3f",
   "metadata": {},
   "outputs": [],
   "source": [
    "# u'москва'.encode('utf-8').strip()"
   ]
  },
  {
   "cell_type": "code",
   "execution_count": null,
   "id": "0ff4e929",
   "metadata": {},
   "outputs": [],
   "source": [
    "# http://127.0.0.1:8088/search.php?q=севастополь"
   ]
  },
  {
   "cell_type": "markdown",
   "id": "9e13fc25",
   "metadata": {},
   "source": [
    "---"
   ]
  },
  {
   "cell_type": "code",
   "execution_count": null,
   "id": "0b19378d",
   "metadata": {},
   "outputs": [],
   "source": [
    "# from ipyleaflet import AwesomeIcon\n",
    "\n",
    "# # m = Map(center=(55.718148, 37.555493), zoom=14)"
   ]
  },
  {
   "cell_type": "code",
   "execution_count": null,
   "id": "c1e03b45",
   "metadata": {},
   "outputs": [],
   "source": []
  },
  {
   "cell_type": "code",
   "execution_count": null,
   "id": "c63e5d48",
   "metadata": {},
   "outputs": [],
   "source": [
    "# location['adr_'] = \n",
    "\n",
    "# location['coo'] = (\n",
    "#     (\n",
    "#     'Севастополь, '\n",
    "#      +location['adr']\n",
    "#      .apply(lambda s: re.sub(r'(\\d)(к\\d)',r'\\1 \\2',s))\n",
    "#      .str.replace(' ш.,',' шоссе,')\n",
    "#      .str.replace('пр-т','проспект')\n",
    "#     )\n",
    "#     location['adr_'] \n",
    "#     .progress_apply(geolocator.geocode )\n",
    "#     .apply(lambda x: x if x is None else (x.latitude, x.longitude))\n",
    "# )\n",
    "\n",
    "# # ('город Севастополь, '+location['adr']).progress_apply( geolocator.geocode )\n",
    "# location\n",
    "\n",
    "# location['coo'] = (\n",
    "#     ( 'Севастополь, ' + location['adr'] )\n",
    "#     .progress_apply(geolocator.geocode )\n",
    "#     .apply(lambda x: x if x is None else (x.latitude, x.longitude))\n",
    "# )\n",
    "\n",
    "# ('город Севастополь, '+location['adr']).progress_apply( geolocator.geocode )"
   ]
  }
 ],
 "metadata": {
  "kernelspec": {
   "display_name": "Python 3 (ipykernel)",
   "language": "python",
   "name": "python3"
  },
  "language_info": {
   "codemirror_mode": {
    "name": "ipython",
    "version": 3
   },
   "file_extension": ".py",
   "mimetype": "text/x-python",
   "name": "python",
   "nbconvert_exporter": "python",
   "pygments_lexer": "ipython3",
   "version": "3.10.6"
  },
  "toc": {
   "base_numbering": 1,
   "nav_menu": {},
   "number_sections": true,
   "sideBar": true,
   "skip_h1_title": false,
   "title_cell": "Table of Contents",
   "title_sidebar": "Contents",
   "toc_cell": false,
   "toc_position": {},
   "toc_section_display": true,
   "toc_window_display": false
  }
 },
 "nbformat": 4,
 "nbformat_minor": 5
}
