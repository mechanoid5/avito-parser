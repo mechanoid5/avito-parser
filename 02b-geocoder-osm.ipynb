{
 "cells": [
  {
   "cell_type": "code",
   "execution_count": null,
   "id": "256cc7e1",
   "metadata": {},
   "outputs": [],
   "source": [
    "# !pip install geopy"
   ]
  },
  {
   "cell_type": "code",
   "execution_count": null,
   "id": "fafa542e",
   "metadata": {},
   "outputs": [],
   "source": [
    "# sudo -u postgres nominatim serve  --project-dir /data/nominatim-planet "
   ]
  },
  {
   "cell_type": "code",
   "execution_count": 1,
   "id": "37cdeade",
   "metadata": {},
   "outputs": [],
   "source": [
    "# import re\n",
    "# import json\n",
    "import pandas as pd\n",
    "from geopy.geocoders import Nominatim\n",
    "from tqdm.notebook import tqdm\n",
    "\n",
    "tqdm.pandas()\n",
    "pd.options.display.max_colwidth = 130 # увеличим максимальную длину столбцов pandas"
   ]
  },
  {
   "cell_type": "code",
   "execution_count": 2,
   "id": "f4343f01",
   "metadata": {},
   "outputs": [
    {
     "name": "stdout",
     "output_type": "stream",
     "text": [
      "avito_2022-09-01_14-07_raw.xlsx  avito_2022-09-01_14-07.xlsx  old\r\n"
     ]
    }
   ],
   "source": [
    "!ls data"
   ]
  },
  {
   "cell_type": "code",
   "execution_count": 59,
   "id": "6599f6db",
   "metadata": {},
   "outputs": [],
   "source": [
    "ts = '2022-09-01_14-07'"
   ]
  },
  {
   "cell_type": "code",
   "execution_count": 3,
   "id": "5c598cee",
   "metadata": {},
   "outputs": [
    {
     "name": "stdout",
     "output_type": "stream",
     "text": [
      "3953\n"
     ]
    },
    {
     "data": {
      "text/html": [
       "<div>\n",
       "<style scoped>\n",
       "    .dataframe tbody tr th:only-of-type {\n",
       "        vertical-align: middle;\n",
       "    }\n",
       "\n",
       "    .dataframe tbody tr th {\n",
       "        vertical-align: top;\n",
       "    }\n",
       "\n",
       "    .dataframe thead th {\n",
       "        text-align: right;\n",
       "    }\n",
       "</style>\n",
       "<table border=\"1\" class=\"dataframe\">\n",
       "  <thead>\n",
       "    <tr style=\"text-align: right;\">\n",
       "      <th></th>\n",
       "      <th>adr</th>\n",
       "      <th>obj_name</th>\n",
       "      <th>title</th>\n",
       "      <th>priceM</th>\n",
       "      <th>nrooms</th>\n",
       "      <th>floor</th>\n",
       "      <th>nfloors</th>\n",
       "      <th>area</th>\n",
       "      <th>is_studio</th>\n",
       "      <th>is_apartment</th>\n",
       "      <th>is_part</th>\n",
       "      <th>is_auction</th>\n",
       "      <th>is_openspace</th>\n",
       "      <th>is_SNT</th>\n",
       "      <th>is_last_floor</th>\n",
       "      <th>is_roof</th>\n",
       "      <th>description</th>\n",
       "      <th>price</th>\n",
       "      <th>avito_page</th>\n",
       "      <th>avito_id</th>\n",
       "    </tr>\n",
       "  </thead>\n",
       "  <tbody>\n",
       "    <tr>\n",
       "      <th>3584</th>\n",
       "      <td>ул. Генерала Мельника, 9</td>\n",
       "      <td>NaN</td>\n",
       "      <td>2-к. квартира, 56,1 м², 9/9 эт.</td>\n",
       "      <td>9.2</td>\n",
       "      <td>2</td>\n",
       "      <td>9</td>\n",
       "      <td>9</td>\n",
       "      <td>56.1</td>\n",
       "      <td>False</td>\n",
       "      <td>False</td>\n",
       "      <td>False</td>\n",
       "      <td>False</td>\n",
       "      <td>False</td>\n",
       "      <td>False</td>\n",
       "      <td>True</td>\n",
       "      <td>False</td>\n",
       "      <td>Замечательная квартира с ремонтом, можно наслаждаться пейзажом с двух сторон дома. Лоджия с выходом на кухню и комнату. Тихий ...</td>\n",
       "      <td>9200000</td>\n",
       "      <td>72</td>\n",
       "      <td>2546736589</td>\n",
       "    </tr>\n",
       "    <tr>\n",
       "      <th>2337</th>\n",
       "      <td>проспект Генерала Острякова, 171Б</td>\n",
       "      <td>NaN</td>\n",
       "      <td>3-к. квартира, 70 м², 4/10 эт.</td>\n",
       "      <td>9.0</td>\n",
       "      <td>3</td>\n",
       "      <td>4</td>\n",
       "      <td>10</td>\n",
       "      <td>70.0</td>\n",
       "      <td>False</td>\n",
       "      <td>False</td>\n",
       "      <td>False</td>\n",
       "      <td>False</td>\n",
       "      <td>False</td>\n",
       "      <td>False</td>\n",
       "      <td>False</td>\n",
       "      <td>False</td>\n",
       "      <td>Трёхкомнатная квартира с шикарной планировкой. Две большие лоджии, три больших встроенных шкафа. До остановки общественного тр...</td>\n",
       "      <td>9000000</td>\n",
       "      <td>47</td>\n",
       "      <td>2532431314</td>\n",
       "    </tr>\n",
       "  </tbody>\n",
       "</table>\n",
       "</div>"
      ],
      "text/plain": [
       "                                    adr obj_name  \\\n",
       "3584           ул. Генерала Мельника, 9      NaN   \n",
       "2337  проспект Генерала Острякова, 171Б      NaN   \n",
       "\n",
       "                                title  priceM  nrooms  floor  nfloors  area  \\\n",
       "3584  2-к. квартира, 56,1 м², 9/9 эт.     9.2       2      9        9  56.1   \n",
       "2337   3-к. квартира, 70 м², 4/10 эт.     9.0       3      4       10  70.0   \n",
       "\n",
       "      is_studio  is_apartment  is_part  is_auction  is_openspace  is_SNT  \\\n",
       "3584      False         False    False       False         False   False   \n",
       "2337      False         False    False       False         False   False   \n",
       "\n",
       "      is_last_floor  is_roof  \\\n",
       "3584           True    False   \n",
       "2337          False    False   \n",
       "\n",
       "                                                                                                                            description  \\\n",
       "3584  Замечательная квартира с ремонтом, можно наслаждаться пейзажом с двух сторон дома. Лоджия с выходом на кухню и комнату. Тихий ...   \n",
       "2337  Трёхкомнатная квартира с шикарной планировкой. Две большие лоджии, три больших встроенных шкафа. До остановки общественного тр...   \n",
       "\n",
       "        price  avito_page    avito_id  \n",
       "3584  9200000          72  2546736589  \n",
       "2337  9000000          47  2532431314  "
      ]
     },
     "execution_count": 3,
     "metadata": {},
     "output_type": "execute_result"
    }
   ],
   "source": [
    "df = pd.read_excel(f'data/avito_{ts}.xlsx')\n",
    "print(len(df))\n",
    "df.sample(2)"
   ]
  },
  {
   "cell_type": "markdown",
   "id": "6b1f2184",
   "metadata": {},
   "source": [
    "---"
   ]
  },
  {
   "cell_type": "code",
   "execution_count": 4,
   "id": "cdc4e422",
   "metadata": {},
   "outputs": [
    {
     "data": {
      "text/plain": [
       "(44.5773585, 33.520378)"
      ]
     },
     "execution_count": 4,
     "metadata": {},
     "output_type": "execute_result"
    }
   ],
   "source": [
    "# sudo -u postgres nominatim serve  --project-dir /data/nominatim-planet \n",
    "\n",
    "geolocator = Nominatim(user_agent='http://127.0.0.1:8088')\n",
    "\n",
    "adr = 'севастополь острякова 57'\n",
    "location = geolocator.geocode(adr)\n",
    "coo = (location.latitude, location.longitude)\n",
    "coo"
   ]
  },
  {
   "cell_type": "code",
   "execution_count": 58,
   "id": "572672f2",
   "metadata": {},
   "outputs": [
    {
     "data": {
      "application/vnd.jupyter.widget-view+json": {
       "model_id": "3ba4b23ab8154d3386308feb2b264086",
       "version_major": 2,
       "version_minor": 0
      },
      "text/plain": [
       "  0%|          | 0/1545 [00:00<?, ?it/s]"
      ]
     },
     "metadata": {},
     "output_type": "display_data"
    },
    {
     "data": {
      "text/html": [
       "<div>\n",
       "<style scoped>\n",
       "    .dataframe tbody tr th:only-of-type {\n",
       "        vertical-align: middle;\n",
       "    }\n",
       "\n",
       "    .dataframe tbody tr th {\n",
       "        vertical-align: top;\n",
       "    }\n",
       "\n",
       "    .dataframe thead th {\n",
       "        text-align: right;\n",
       "    }\n",
       "</style>\n",
       "<table border=\"1\" class=\"dataframe\">\n",
       "  <thead>\n",
       "    <tr style=\"text-align: right;\">\n",
       "      <th></th>\n",
       "      <th>adr</th>\n",
       "      <th>coo</th>\n",
       "      <th>is_adr_truncated</th>\n",
       "    </tr>\n",
       "  </thead>\n",
       "  <tbody>\n",
       "    <tr>\n",
       "      <th>1036</th>\n",
       "      <td>ул. Подольцева, 6</td>\n",
       "      <td>(44.5965395, 33.5325455)</td>\n",
       "      <td>False</td>\n",
       "    </tr>\n",
       "    <tr>\n",
       "      <th>208</th>\n",
       "      <td>проспект Генерала Острякова, 20</td>\n",
       "      <td>(44.547665, 33.5355546)</td>\n",
       "      <td>False</td>\n",
       "    </tr>\n",
       "    <tr>\n",
       "      <th>1531</th>\n",
       "      <td>пос. городского типа Кача, Красноармейская ул., 2</td>\n",
       "      <td>None</td>\n",
       "      <td>None</td>\n",
       "    </tr>\n",
       "    <tr>\n",
       "      <th>815</th>\n",
       "      <td>пос. городского типа Кача, ул. Авиаторов, 1Гк5</td>\n",
       "      <td>None</td>\n",
       "      <td>None</td>\n",
       "    </tr>\n",
       "  </tbody>\n",
       "</table>\n",
       "</div>"
      ],
      "text/plain": [
       "                                                    adr  \\\n",
       "1036                                  ул. Подольцева, 6   \n",
       "208                     проспект Генерала Острякова, 20   \n",
       "1531  пос. городского типа Кача, Красноармейская ул., 2   \n",
       "815      пос. городского типа Кача, ул. Авиаторов, 1Гк5   \n",
       "\n",
       "                           coo is_adr_truncated  \n",
       "1036  (44.5965395, 33.5325455)            False  \n",
       "208    (44.547665, 33.5355546)            False  \n",
       "1531                      None             None  \n",
       "815                       None             None  "
      ]
     },
     "execution_count": 58,
     "metadata": {},
     "output_type": "execute_result"
    }
   ],
   "source": [
    "def get_coo(adr, city_prefix='Севастополь', geolocator=geolocator):\n",
    "    if len(city_prefix)>0: \n",
    "        adr_ =  city_prefix + ', ' + adr\n",
    "    adr_ = adr_.split(',')\n",
    "    loc = geolocator.geocode(adr_)\n",
    "    \n",
    "    truncated = False\n",
    "    while (loc is None) and ( len(adr_) > 2 ): # если не нашел...\n",
    "        adr_ = adr_[:-1] # выкидываем часть адреса \n",
    "        loc = geolocator.geocode( adr_) # ... и пробуем ещё раз\n",
    "        truncated = True\n",
    "        \n",
    "    return (\n",
    "        {'coo':None,'truncated':None} \n",
    "        if (loc is None) \n",
    "        else {'coo':(loc.latitude, loc.longitude),'truncated':truncated} \n",
    "    )\n",
    "\n",
    "# location = df[['adr']].drop_duplicates().sample(30).reset_index(drop=True)\n",
    "    \n",
    "location = df[['adr']].drop_duplicates().reset_index(drop=True)\n",
    "\n",
    "location['coo'] = location['adr'].progress_apply(get_coo)\n",
    "location['is_adr_truncated'] = location['coo'].str['truncated']\n",
    "location['coo'] = location['coo'].str['coo']\n",
    "\n",
    "location.sample(4)"
   ]
  },
  {
   "cell_type": "code",
   "execution_count": 63,
   "id": "58d89d41",
   "metadata": {},
   "outputs": [],
   "source": [
    "# location.to_excel(f'data/avito_{ts}_location.xlsx', index=False)\n",
    "location.to_pickle(f'data/avito_{ts}_location.pkl')"
   ]
  },
  {
   "cell_type": "markdown",
   "id": "963e4499",
   "metadata": {},
   "source": [
    "----"
   ]
  },
  {
   "cell_type": "code",
   "execution_count": 57,
   "id": "dff0591f",
   "metadata": {},
   "outputs": [],
   "source": [
    "# geolocator.geocode('Севастополь, Аэродромное шоссе, 2 к34')\n",
    "# geolocator.geocode('Севастополь, проспект Генерала Острякова, 244 к7')\n",
    "# geolocator.geocode('Севастополь, ул. Астана Кесаева,')\n",
    "# geolocator.geocode('Севастополь, ул. Николая Музыки')\n",
    "# geolocator.geocode('Севастополь, ул. Коли Пищенко, 20А'.split(',')[:-1])\n",
    "# geolocator.geocode('Севастополь, с.Тыловое, Севастопольская ул., 6')\n",
    "# geolocator.geocode('Севастополь, с.Тыловое')\n",
    "# 'Севастополь, ул. Коли Пищенко, 20А'.split(',')[:-1]\n",
    "# geolocator.geocode('Севастополь, садоводческое некоммерческое товарищество Бриз')\n",
    "# geolocator.geocode('с. Песчаное, ')"
   ]
  },
  {
   "cell_type": "code",
   "execution_count": null,
   "id": "0779011c",
   "metadata": {},
   "outputs": [],
   "source": [
    "# geolocator.geocode?"
   ]
  },
  {
   "cell_type": "code",
   "execution_count": null,
   "id": "0dd14d56",
   "metadata": {},
   "outputs": [],
   "source": [
    "# import re\n",
    "# location['adr'].apply(lambda s: re.sub(r'(\\d)(к\\d)',r'\\1 \\2',s))"
   ]
  },
  {
   "cell_type": "code",
   "execution_count": null,
   "id": "56916110",
   "metadata": {},
   "outputs": [],
   "source": [
    "# geolocator.geocode('Севастополь садоводческое товарищество Кача, 1')"
   ]
  },
  {
   "cell_type": "code",
   "execution_count": null,
   "id": "3feb7a1a",
   "metadata": {},
   "outputs": [],
   "source": [
    "# !pip install folium"
   ]
  },
  {
   "cell_type": "code",
   "execution_count": null,
   "id": "792bb754",
   "metadata": {},
   "outputs": [],
   "source": [
    "# import folium\n",
    "\n",
    "# m = folium.Map(location=coo,zoom_start=23)\n",
    "# folium.Marker(coo,popup=adr,tooltip=adr).add_to(m)\n",
    "# m"
   ]
  },
  {
   "cell_type": "markdown",
   "id": "b02f5222",
   "metadata": {},
   "source": [
    "---"
   ]
  },
  {
   "cell_type": "code",
   "execution_count": null,
   "id": "bd207271",
   "metadata": {},
   "outputs": [],
   "source": [
    "# !pip install osmnx"
   ]
  },
  {
   "cell_type": "code",
   "execution_count": null,
   "id": "1ee3526e",
   "metadata": {},
   "outputs": [],
   "source": [
    "# import osmnx as ox\n",
    "\n",
    "# center_point = (40.4168, -3.7038)\n",
    "# G = ox.graph_from_point(center_point, dist=15000, retain_all=True, simplify = True, network_type='all')"
   ]
  },
  {
   "cell_type": "markdown",
   "id": "040b111f",
   "metadata": {},
   "source": [
    "---"
   ]
  },
  {
   "cell_type": "code",
   "execution_count": null,
   "id": "c2f3e0c3",
   "metadata": {},
   "outputs": [],
   "source": [
    "# !pip install nominatim"
   ]
  },
  {
   "cell_type": "code",
   "execution_count": null,
   "id": "aaddc964",
   "metadata": {},
   "outputs": [],
   "source": [
    "# from nominatim import Nominatim\n",
    "# #from nominatim import NominatimReverse\n",
    "\n",
    "# nom = Nominatim('http://127.0.0.1:8088')"
   ]
  },
  {
   "cell_type": "code",
   "execution_count": null,
   "id": "737f2141",
   "metadata": {},
   "outputs": [],
   "source": [
    "# nom.query(u'москва', acceptlanguage='RU')\n",
    "# # nom.query(u'moscow')"
   ]
  },
  {
   "cell_type": "code",
   "execution_count": null,
   "id": "4b2b20df",
   "metadata": {},
   "outputs": [],
   "source": [
    "# u'москва'.encode('utf-8').strip()"
   ]
  },
  {
   "cell_type": "code",
   "execution_count": null,
   "id": "8aa38c06",
   "metadata": {},
   "outputs": [],
   "source": [
    "# http://127.0.0.1:8088/search.php?q=севастополь"
   ]
  },
  {
   "cell_type": "markdown",
   "id": "42083a58",
   "metadata": {},
   "source": [
    "---"
   ]
  },
  {
   "cell_type": "code",
   "execution_count": null,
   "id": "8e215985",
   "metadata": {},
   "outputs": [],
   "source": [
    "# from ipyleaflet import AwesomeIcon\n",
    "\n",
    "# # m = Map(center=(55.718148, 37.555493), zoom=14)"
   ]
  },
  {
   "cell_type": "code",
   "execution_count": null,
   "id": "90b75e0f",
   "metadata": {},
   "outputs": [],
   "source": []
  },
  {
   "cell_type": "code",
   "execution_count": null,
   "id": "f388ee90",
   "metadata": {},
   "outputs": [],
   "source": [
    "# location['adr_'] = \n",
    "\n",
    "# location['coo'] = (\n",
    "#     (\n",
    "#     'Севастополь, '\n",
    "#      +location['adr']\n",
    "#      .apply(lambda s: re.sub(r'(\\d)(к\\d)',r'\\1 \\2',s))\n",
    "#      .str.replace(' ш.,',' шоссе,')\n",
    "#      .str.replace('пр-т','проспект')\n",
    "#     )\n",
    "#     location['adr_'] \n",
    "#     .progress_apply(geolocator.geocode )\n",
    "#     .apply(lambda x: x if x is None else (x.latitude, x.longitude))\n",
    "# )\n",
    "\n",
    "# # ('город Севастополь, '+location['adr']).progress_apply( geolocator.geocode )\n",
    "# location\n",
    "\n",
    "# location['coo'] = (\n",
    "#     ( 'Севастополь, ' + location['adr'] )\n",
    "#     .progress_apply(geolocator.geocode )\n",
    "#     .apply(lambda x: x if x is None else (x.latitude, x.longitude))\n",
    "# )\n",
    "\n",
    "# ('город Севастополь, '+location['adr']).progress_apply( geolocator.geocode )"
   ]
  }
 ],
 "metadata": {
  "kernelspec": {
   "display_name": "Python 3 (ipykernel)",
   "language": "python",
   "name": "python3"
  },
  "language_info": {
   "codemirror_mode": {
    "name": "ipython",
    "version": 3
   },
   "file_extension": ".py",
   "mimetype": "text/x-python",
   "name": "python",
   "nbconvert_exporter": "python",
   "pygments_lexer": "ipython3",
   "version": "3.10.6"
  },
  "toc": {
   "base_numbering": 1,
   "nav_menu": {},
   "number_sections": true,
   "sideBar": true,
   "skip_h1_title": false,
   "title_cell": "Table of Contents",
   "title_sidebar": "Contents",
   "toc_cell": false,
   "toc_position": {},
   "toc_section_display": true,
   "toc_window_display": false
  }
 },
 "nbformat": 4,
 "nbformat_minor": 5
}
