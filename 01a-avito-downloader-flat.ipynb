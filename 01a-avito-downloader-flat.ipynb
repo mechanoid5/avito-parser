{
 "cells": [
  {
   "cell_type": "markdown",
   "id": "7bec28d7",
   "metadata": {},
   "source": [
    "__качаем объявления о продаже квартир с авито.ru__\n",
    "\n",
    "_Evgeny S. Borisov <parser@mechanoid.su>_"
   ]
  },
  {
   "cell_type": "code",
   "execution_count": 1,
   "id": "52c5999f",
   "metadata": {},
   "outputs": [],
   "source": [
    "# !pacman -S firefox firefox-i18n-r  geckodriver\n",
    "# !pip install seleniuam"
   ]
  },
  {
   "cell_type": "code",
   "execution_count": 2,
   "id": "bcea4d8b",
   "metadata": {
    "ExecuteTime": {
     "end_time": "2022-08-26T14:19:06.118492Z",
     "start_time": "2022-08-26T14:13:37.888398Z"
    }
   },
   "outputs": [],
   "source": [
    "# import re\n",
    "import sys\n",
    "import logging\n",
    "from datetime import datetime as dtm\n",
    "from tqdm.notebook import tqdm\n",
    "import pandas as pd"
   ]
  },
  {
   "cell_type": "code",
   "execution_count": 3,
   "id": "caabc8c7",
   "metadata": {
    "ExecuteTime": {
     "end_time": "2022-08-26T14:19:06.118492Z",
     "start_time": "2022-08-26T14:13:37.888398Z"
    }
   },
   "outputs": [],
   "source": [
    "pd.set_option('display.max_colwidth', None)\n",
    "pd.set_option('display.float_format', '{:.2f}'.format)\n",
    "tqdm.pandas()\n",
    "\n",
    "logging.basicConfig(\n",
    "        format=u'[%(levelname)-8s] %(asctime)s | %(message)s',\n",
    "        datefmt='%Y-%m-%d %H:%M:%S',\n",
    "        level=logging.INFO,\n",
    "        # level=logging.DEBUG,\n",
    "        stream=sys.stdout,\n",
    "    )"
   ]
  },
  {
   "cell_type": "markdown",
   "id": "db3fe2be",
   "metadata": {},
   "source": [
    "---"
   ]
  },
  {
   "cell_type": "code",
   "execution_count": 4,
   "id": "288569b0",
   "metadata": {},
   "outputs": [],
   "source": [
    "# url = (\n",
    "# 'https://www.avito.ru/yaroslavskaya_oblast/avtomobili/chevrolet/niva'\n",
    "# '?bt=0'\n",
    "# '&i=1'\n",
    "# '&pmax=150000'\n",
    "# '&pmin=10000'\n",
    "# )"
   ]
  },
  {
   "cell_type": "code",
   "execution_count": 5,
   "id": "d437eab9",
   "metadata": {},
   "outputs": [],
   "source": [
    "profile_path = '/home/mechanoid/.mozilla/firefox/p144xo2m.default-release'\n",
    "\n",
    "base_url = 'https://www.avito.ru/'\n",
    "place = 'sevastopol'\n",
    "avito_path = place+'/kvartiry/prodam'\n",
    "\n",
    "raw_data_path = 'data/raw/flat/avito' # каталог с файлами объявлений"
   ]
  },
  {
   "cell_type": "code",
   "execution_count": 9,
   "id": "9ce138fe",
   "metadata": {},
   "outputs": [
    {
     "name": "stdout",
     "output_type": "stream",
     "text": [
      "[INFO    ] 2023-03-29 16:00:45 | DownloaderSeleniumFirefox: downloader init\n",
      "[INFO    ] 2023-03-29 16:00:45 | DownloaderSeleniumFirefox: open virtual browser\n",
      "[INFO    ] 2023-03-29 16:00:47 | AdsListParser: downloader init\n",
      "[INFO    ] 2023-03-29 16:00:47 | AvitoParser: init\n",
      "[INFO    ] 2023-03-29 16:00:51 | AvitoParser: 87 pages for read\n",
      "[INFO    ] 2023-03-29 16:00:51 | AdsListParser: start read and parse pages...\n",
      "[INFO    ] 2023-03-29 16:00:53 | AdsListParser: read page 1\n",
      "[INFO    ] 2023-03-29 16:00:56 | AdsListParser: read page 2\n",
      "[INFO    ] 2023-03-29 16:00:59 | AdsListParser: read page 3\n",
      "[INFO    ] 2023-03-29 16:01:03 | AdsListParser: read page 4\n",
      "[INFO    ] 2023-03-29 16:01:05 | AdsListParser: read page 5\n",
      "[INFO    ] 2023-03-29 16:01:08 | AdsListParser: read page 6\n",
      "[INFO    ] 2023-03-29 16:01:15 | AdsListParser: read page 7\n",
      "[INFO    ] 2023-03-29 16:01:18 | AdsListParser: read page 8\n",
      "[INFO    ] 2023-03-29 16:01:22 | AdsListParser: read page 9\n",
      "[INFO    ] 2023-03-29 16:01:25 | AdsListParser: read page 10\n",
      "[INFO    ] 2023-03-29 16:01:32 | AdsListParser: read page 11\n",
      "[INFO    ] 2023-03-29 16:01:34 | AdsListParser: read page 12\n",
      "[INFO    ] 2023-03-29 16:01:37 | AdsListParser: read page 13\n",
      "[INFO    ] 2023-03-29 16:01:41 | AdsListParser: read page 14\n",
      "[INFO    ] 2023-03-29 16:01:44 | AdsListParser: read page 15\n",
      "[INFO    ] 2023-03-29 16:01:46 | AdsListParser: read page 16\n",
      "[INFO    ] 2023-03-29 16:01:49 | AdsListParser: read page 17\n",
      "[INFO    ] 2023-03-29 16:01:51 | AdsListParser: read page 18\n",
      "[INFO    ] 2023-03-29 16:01:54 | AdsListParser: read page 19\n",
      "[INFO    ] 2023-03-29 16:01:56 | AdsListParser: read page 20\n",
      "[INFO    ] 2023-03-29 16:01:59 | AdsListParser: read page 21\n",
      "[INFO    ] 2023-03-29 16:02:01 | AdsListParser: read page 22\n",
      "[INFO    ] 2023-03-29 16:02:03 | AdsListParser: read page 23\n",
      "[INFO    ] 2023-03-29 16:02:06 | AdsListParser: read page 24\n",
      "[INFO    ] 2023-03-29 16:02:08 | AdsListParser: read page 25\n",
      "[INFO    ] 2023-03-29 16:02:10 | AdsListParser: read page 26\n",
      "[INFO    ] 2023-03-29 16:02:13 | AdsListParser: read page 27\n",
      "[INFO    ] 2023-03-29 16:02:16 | AdsListParser: read page 28\n",
      "[INFO    ] 2023-03-29 16:02:20 | AdsListParser: read page 29\n",
      "[INFO    ] 2023-03-29 16:02:22 | AdsListParser: read page 30\n",
      "[INFO    ] 2023-03-29 16:02:25 | AdsListParser: read page 31\n",
      "[INFO    ] 2023-03-29 16:02:27 | AdsListParser: read page 32\n",
      "[INFO    ] 2023-03-29 16:02:29 | AdsListParser: read page 33\n",
      "[INFO    ] 2023-03-29 16:02:32 | AdsListParser: read page 34\n",
      "[INFO    ] 2023-03-29 16:02:34 | AdsListParser: read page 35\n",
      "[INFO    ] 2023-03-29 16:02:36 | AdsListParser: read page 36\n",
      "[INFO    ] 2023-03-29 16:02:39 | AdsListParser: read page 37\n",
      "[INFO    ] 2023-03-29 16:02:41 | AdsListParser: read page 38\n",
      "[INFO    ] 2023-03-29 16:02:43 | AdsListParser: read page 39\n",
      "[INFO    ] 2023-03-29 16:02:47 | AdsListParser: read page 40\n",
      "[INFO    ] 2023-03-29 16:02:54 | AdsListParser: read page 41\n",
      "[INFO    ] 2023-03-29 16:02:58 | AdsListParser: read page 42\n",
      "[INFO    ] 2023-03-29 16:03:00 | AdsListParser: read page 43\n",
      "[INFO    ] 2023-03-29 16:03:02 | AdsListParser: read page 44\n",
      "[INFO    ] 2023-03-29 16:03:04 | AdsListParser: read page 45\n",
      "[INFO    ] 2023-03-29 16:03:06 | AdsListParser: read page 46\n",
      "[INFO    ] 2023-03-29 16:03:09 | AdsListParser: read page 47\n",
      "[INFO    ] 2023-03-29 16:03:11 | AdsListParser: read page 48\n",
      "[INFO    ] 2023-03-29 16:03:13 | AdsListParser: read page 49\n",
      "[INFO    ] 2023-03-29 16:03:15 | AdsListParser: read page 50\n",
      "[INFO    ] 2023-03-29 16:03:22 | AdsListParser: read page 51\n",
      "[INFO    ] 2023-03-29 16:03:24 | AdsListParser: read page 52\n",
      "[INFO    ] 2023-03-29 16:03:27 | AdsListParser: read page 53\n",
      "[INFO    ] 2023-03-29 16:03:29 | AdsListParser: read page 54\n",
      "[INFO    ] 2023-03-29 16:03:31 | AdsListParser: read page 55\n",
      "[INFO    ] 2023-03-29 16:03:34 | AdsListParser: read page 56\n",
      "[INFO    ] 2023-03-29 16:03:37 | AdsListParser: read page 57\n",
      "[INFO    ] 2023-03-29 16:03:40 | AdsListParser: read page 58\n",
      "[INFO    ] 2023-03-29 16:03:42 | AdsListParser: read page 59\n",
      "[INFO    ] 2023-03-29 16:03:44 | AdsListParser: read page 60\n",
      "[INFO    ] 2023-03-29 16:03:46 | AdsListParser: read page 61\n",
      "[INFO    ] 2023-03-29 16:03:49 | AdsListParser: read page 62\n",
      "[INFO    ] 2023-03-29 16:03:51 | AdsListParser: read page 63\n",
      "[INFO    ] 2023-03-29 16:03:58 | AdsListParser: read page 64\n",
      "[INFO    ] 2023-03-29 16:04:11 | AdsListParser: read page 65\n",
      "[INFO    ] 2023-03-29 16:04:13 | AdsListParser: read page 66\n",
      "[INFO    ] 2023-03-29 16:04:16 | AdsListParser: read page 67\n",
      "[INFO    ] 2023-03-29 16:04:18 | AdsListParser: read page 68\n",
      "[INFO    ] 2023-03-29 16:04:20 | AdsListParser: read page 69\n",
      "[INFO    ] 2023-03-29 16:04:22 | AdsListParser: read page 70\n",
      "[INFO    ] 2023-03-29 16:04:24 | AdsListParser: read page 71\n",
      "[INFO    ] 2023-03-29 16:04:26 | AdsListParser: read page 72\n",
      "[INFO    ] 2023-03-29 16:04:28 | AdsListParser: read page 73\n",
      "[INFO    ] 2023-03-29 16:04:30 | AdsListParser: read page 74\n",
      "[INFO    ] 2023-03-29 16:04:32 | AdsListParser: read page 75\n",
      "[INFO    ] 2023-03-29 16:04:34 | AdsListParser: read page 76\n",
      "[INFO    ] 2023-03-29 16:04:36 | AdsListParser: read page 77\n",
      "[INFO    ] 2023-03-29 16:04:38 | AdsListParser: read page 78\n",
      "[INFO    ] 2023-03-29 16:04:40 | AdsListParser: read page 79\n",
      "[INFO    ] 2023-03-29 16:04:42 | AdsListParser: read page 80\n",
      "[INFO    ] 2023-03-29 16:04:44 | AdsListParser: read page 81\n",
      "[INFO    ] 2023-03-29 16:04:45 | AdsListParser: read page 82\n",
      "[INFO    ] 2023-03-29 16:04:47 | AdsListParser: read page 83\n",
      "[INFO    ] 2023-03-29 16:04:49 | AdsListParser: read page 84\n",
      "[INFO    ] 2023-03-29 16:04:51 | AdsListParser: read page 85\n",
      "[INFO    ] 2023-03-29 16:04:52 | AdsListParser: read page 86\n",
      "[INFO    ] 2023-03-29 16:04:54 | AdsListParser: read page 87\n",
      "[INFO    ] 2023-03-29 16:04:54 | AdsListParser: last page detected\n",
      "[INFO    ] 2023-03-29 16:04:54 | DownloaderSeleniumFirefox: close virtual browser\n",
      "3896\n",
      "CPU times: user 17.7 s, sys: 210 ms, total: 17.9 s\n",
      "Wall time: 4min 9s\n"
     ]
    }
   ],
   "source": [
    "%%time \n",
    "\n",
    "from lib.downloader import DownloaderSeleniumFirefox\n",
    "from lib.avito import AvitoParserRealty\n",
    "\n",
    "df,html = AvitoParserRealty(\n",
    "        base_url=base_url+'/'+avito_path,\n",
    "        driver=DownloaderSeleniumFirefox(profile_path)\n",
    "    ).load(req_param='',keep_html=True)# , npage_end=2,)\n",
    "\n",
    "print(len(df))"
   ]
  },
  {
   "cell_type": "code",
   "execution_count": 11,
   "id": "d97b699b",
   "metadata": {},
   "outputs": [],
   "source": [
    "# df"
   ]
  },
  {
   "cell_type": "code",
   "execution_count": 12,
   "id": "f8bd78d3",
   "metadata": {},
   "outputs": [
    {
     "name": "stdout",
     "output_type": "stream",
     "text": [
      "3896\n",
      "3180\n"
     ]
    }
   ],
   "source": [
    "print(len(df))\n",
    "df = df.dropna().drop_duplicates(['avito_id','description']).reset_index(drop=True)\n",
    "print(len(df))"
   ]
  },
  {
   "cell_type": "code",
   "execution_count": 13,
   "id": "6030b88c",
   "metadata": {},
   "outputs": [],
   "source": [
    "df['place']=place"
   ]
  },
  {
   "cell_type": "code",
   "execution_count": 14,
   "id": "6fa322a2",
   "metadata": {},
   "outputs": [],
   "source": [
    "ts = dtm.now().strftime('%Y-%m-%d_%H-%M')\n",
    "assert len(df)>0\n",
    "df.to_excel(f'{raw_data_path}/avito_{ts}_raw.xlsx',index=False)"
   ]
  },
  {
   "cell_type": "code",
   "execution_count": 15,
   "id": "bcd426ee",
   "metadata": {},
   "outputs": [
    {
     "data": {
      "text/html": [
       "<div>\n",
       "<style scoped>\n",
       "    .dataframe tbody tr th:only-of-type {\n",
       "        vertical-align: middle;\n",
       "    }\n",
       "\n",
       "    .dataframe tbody tr th {\n",
       "        vertical-align: top;\n",
       "    }\n",
       "\n",
       "    .dataframe thead th {\n",
       "        text-align: right;\n",
       "    }\n",
       "</style>\n",
       "<table border=\"1\" class=\"dataframe\">\n",
       "  <thead>\n",
       "    <tr style=\"text-align: right;\">\n",
       "      <th></th>\n",
       "      <th>avito_id</th>\n",
       "      <th>title</th>\n",
       "      <th>price</th>\n",
       "      <th>obj_name</th>\n",
       "      <th>adr</th>\n",
       "      <th>description</th>\n",
       "      <th>page</th>\n",
       "      <th>ts</th>\n",
       "      <th>place</th>\n",
       "    </tr>\n",
       "  </thead>\n",
       "  <tbody>\n",
       "    <tr>\n",
       "      <th>611</th>\n",
       "      <td>2715671323</td>\n",
       "      <td>Объявление «1-к. квартира, 40,3 м², 6/9 эт.» 6 фотографий</td>\n",
       "      <td>5642000</td>\n",
       "      <td>ЖК «Porto Franco»</td>\n",
       "      <td>ул. Братьев Манганари, д. 28</td>\n",
       "      <td>Квартира у моря в Севастополе! От застройщика! \\n\\nЖК «Porto Franco» — первый в Севастополе жилой проект у моря с собственной набережной и инфраструктурой целого города. \\n\\nУлучшенный проект ЖК «Porto Franco»: \\n⁃ монолитно-каркасные дома;\\n⁃ потолки — 2,7 м;\\n⁃</td>\n",
       "      <td>13</td>\n",
       "      <td>2023-03-29 16:04:54.059167</td>\n",
       "      <td>sevastopol</td>\n",
       "    </tr>\n",
       "    <tr>\n",
       "      <th>439</th>\n",
       "      <td>2924749139</td>\n",
       "      <td>Объявление «Апартаменты-студия, 34 м², 4/10 эт.» 10 фотографий</td>\n",
       "      <td>6500000</td>\n",
       "      <td></td>\n",
       "      <td>ул. Адмирала Фадеева, 48</td>\n",
       "      <td>Продаётся студия в Парк-отель. \\nВозле дома есть вся необходимая инфракструктура: остановка, супермаркеты, магазины, рынок, аптека, кофейня, кафе, Парк Победы, аквапарк, пляж, сады и школы. Всю необходимую информацию предоставим по телефону. Звоните! Торг в</td>\n",
       "      <td>9</td>\n",
       "      <td>2023-03-29 16:04:54.059167</td>\n",
       "      <td>sevastopol</td>\n",
       "    </tr>\n",
       "  </tbody>\n",
       "</table>\n",
       "</div>"
      ],
      "text/plain": [
       "       avito_id  \\\n",
       "611  2715671323   \n",
       "439  2924749139   \n",
       "\n",
       "                                                              title    price  \\\n",
       "611       Объявление «1-к. квартира, 40,3 м², 6/9 эт.» 6 фотографий  5642000   \n",
       "439  Объявление «Апартаменты-студия, 34 м², 4/10 эт.» 10 фотографий  6500000   \n",
       "\n",
       "              obj_name                           adr  \\\n",
       "611  ЖК «Porto Franco»  ул. Братьев Манганари, д. 28   \n",
       "439                         ул. Адмирала Фадеева, 48   \n",
       "\n",
       "                                                                                                                                                                                                                                                                 description  \\\n",
       "611  Квартира у моря в Севастополе! От застройщика! \\n\\nЖК «Porto Franco» — первый в Севастополе жилой проект у моря с собственной набережной и инфраструктурой целого города. \\n\\nУлучшенный проект ЖК «Porto Franco»: \\n⁃ монолитно-каркасные дома;\\n⁃ потолки — 2,7 м;\\n⁃   \n",
       "439        Продаётся студия в Парк-отель. \\nВозле дома есть вся необходимая инфракструктура: остановка, супермаркеты, магазины, рынок, аптека, кофейня, кафе, Парк Победы, аквапарк, пляж, сады и школы. Всю необходимую информацию предоставим по телефону. Звоните! Торг в   \n",
       "\n",
       "     page                         ts       place  \n",
       "611    13 2023-03-29 16:04:54.059167  sevastopol  \n",
       "439     9 2023-03-29 16:04:54.059167  sevastopol  "
      ]
     },
     "execution_count": 15,
     "metadata": {},
     "output_type": "execute_result"
    }
   ],
   "source": [
    "df.sample(2)"
   ]
  },
  {
   "cell_type": "code",
   "execution_count": 16,
   "id": "fffa658b",
   "metadata": {},
   "outputs": [],
   "source": [
    "# !pip install dash_table"
   ]
  },
  {
   "cell_type": "code",
   "execution_count": null,
   "id": "6edacf3c",
   "metadata": {},
   "outputs": [],
   "source": []
  }
 ],
 "metadata": {
  "kernelspec": {
   "display_name": "Python 3 (ipykernel)",
   "language": "python",
   "name": "python3"
  },
  "language_info": {
   "codemirror_mode": {
    "name": "ipython",
    "version": 3
   },
   "file_extension": ".py",
   "mimetype": "text/x-python",
   "name": "python",
   "nbconvert_exporter": "python",
   "pygments_lexer": "ipython3",
   "version": "3.10.9"
  },
  "toc": {
   "base_numbering": 1,
   "nav_menu": {},
   "number_sections": true,
   "sideBar": true,
   "skip_h1_title": false,
   "title_cell": "Table of Contents",
   "title_sidebar": "Contents",
   "toc_cell": false,
   "toc_position": {},
   "toc_section_display": true,
   "toc_window_display": false
  },
  "varInspector": {
   "cols": {
    "lenName": 16,
    "lenType": 16,
    "lenVar": 40
   },
   "kernels_config": {
    "python": {
     "delete_cmd_postfix": "",
     "delete_cmd_prefix": "del ",
     "library": "var_list.py",
     "varRefreshCmd": "print(var_dic_list())"
    },
    "r": {
     "delete_cmd_postfix": ") ",
     "delete_cmd_prefix": "rm(",
     "library": "var_list.r",
     "varRefreshCmd": "cat(var_dic_list()) "
    }
   },
   "types_to_exclude": [
    "module",
    "function",
    "builtin_function_or_method",
    "instance",
    "_Feature"
   ],
   "window_display": false
  }
 },
 "nbformat": 4,
 "nbformat_minor": 5
}
