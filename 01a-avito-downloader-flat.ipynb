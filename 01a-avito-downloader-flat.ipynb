{
 "cells": [
  {
   "cell_type": "markdown",
   "id": "7bec28d7",
   "metadata": {},
   "source": [
    "__применение парсера объявлений авито.ru__\n",
    "\n",
    "_Evgeny S. Borisov <parser@mechanoid.su>_"
   ]
  },
  {
   "cell_type": "code",
   "execution_count": 1,
   "id": "52c5999f",
   "metadata": {},
   "outputs": [],
   "source": [
    "# !pacman -S firefox firefox-i18n-r  geckodriver\n",
    "# !pip install seleniuam"
   ]
  },
  {
   "cell_type": "code",
   "execution_count": 2,
   "id": "bcea4d8b",
   "metadata": {
    "ExecuteTime": {
     "end_time": "2022-08-26T14:19:06.118492Z",
     "start_time": "2022-08-26T14:13:37.888398Z"
    }
   },
   "outputs": [],
   "source": [
    "# import re\n",
    "import sys\n",
    "import logging\n",
    "from datetime import datetime as dtm\n",
    "from tqdm.notebook import tqdm\n",
    "import pandas as pd"
   ]
  },
  {
   "cell_type": "code",
   "execution_count": 3,
   "id": "caabc8c7",
   "metadata": {
    "ExecuteTime": {
     "end_time": "2022-08-26T14:19:06.118492Z",
     "start_time": "2022-08-26T14:13:37.888398Z"
    }
   },
   "outputs": [],
   "source": [
    "pd.set_option('display.max_colwidth', None)\n",
    "pd.set_option('display.float_format', '{:.2f}'.format)\n",
    "tqdm.pandas()\n",
    "\n",
    "logging.basicConfig(\n",
    "        format=u'[%(levelname)-8s] %(asctime)s | %(message)s',\n",
    "        datefmt='%Y-%m-%d %H:%M:%S',\n",
    "        level=logging.INFO,\n",
    "        # level=logging.DEBUG,\n",
    "        stream=sys.stdout,\n",
    "    )"
   ]
  },
  {
   "cell_type": "markdown",
   "id": "db3fe2be",
   "metadata": {},
   "source": [
    "---"
   ]
  },
  {
   "cell_type": "code",
   "execution_count": 4,
   "id": "288569b0",
   "metadata": {},
   "outputs": [],
   "source": [
    "# url = (\n",
    "# 'https://www.avito.ru/yaroslavskaya_oblast/avtomobili/chevrolet/niva'\n",
    "# '?bt=0'\n",
    "# '&i=1'\n",
    "# '&pmax=150000'\n",
    "# '&pmin=10000'\n",
    "# )"
   ]
  },
  {
   "cell_type": "code",
   "execution_count": 5,
   "id": "d437eab9",
   "metadata": {},
   "outputs": [],
   "source": [
    "profile_path = '/home/mechanoid/.mozilla/firefox/p144xo2m.default-release'\n",
    "\n",
    "base_url = 'https://www.avito.ru/'\n",
    "avito_path = 'sevastopol/kvartiry/prodam'\n",
    "\n",
    "raw_data_path = 'data/raw/flat/avito' # каталог с файлами объявлений"
   ]
  },
  {
   "cell_type": "code",
   "execution_count": 6,
   "id": "9ce138fe",
   "metadata": {},
   "outputs": [
    {
     "name": "stdout",
     "output_type": "stream",
     "text": [
      "[INFO    ] 2022-09-08 13:30:29 | DownloaderSeleniumFirefox: downloader init\n",
      "[INFO    ] 2022-09-08 13:30:29 | DownloaderSeleniumFirefox: open virtual browser\n",
      "[INFO    ] 2022-09-08 13:30:32 | AdsListParser: downloader init\n",
      "[INFO    ] 2022-09-08 13:30:32 | AvitoParser: init\n",
      "[INFO    ] 2022-09-08 13:30:38 | AvitoParser: 80 pages for read\n",
      "[INFO    ] 2022-09-08 13:30:38 | AdsListParser: start read and parse pages...\n",
      "[INFO    ] 2022-09-08 13:30:40 | AdsListParser: read page 1\n",
      "[INFO    ] 2022-09-08 13:30:44 | AdsListParser: read page 2\n",
      "[INFO    ] 2022-09-08 13:30:47 | AdsListParser: read page 3\n",
      "[INFO    ] 2022-09-08 13:30:51 | AdsListParser: read page 4\n",
      "[INFO    ] 2022-09-08 13:30:54 | AdsListParser: read page 5\n",
      "[INFO    ] 2022-09-08 13:30:57 | AdsListParser: read page 6\n",
      "[INFO    ] 2022-09-08 13:31:01 | AdsListParser: read page 7\n",
      "[INFO    ] 2022-09-08 13:31:04 | AdsListParser: read page 8\n",
      "[INFO    ] 2022-09-08 13:31:07 | AdsListParser: read page 9\n",
      "[INFO    ] 2022-09-08 13:31:11 | AdsListParser: read page 10\n",
      "[INFO    ] 2022-09-08 13:31:14 | AdsListParser: read page 11\n",
      "[INFO    ] 2022-09-08 13:31:17 | AdsListParser: read page 12\n",
      "[INFO    ] 2022-09-08 13:31:24 | AdsListParser: read page 13\n",
      "[INFO    ] 2022-09-08 13:31:28 | AdsListParser: read page 14\n",
      "[INFO    ] 2022-09-08 13:31:33 | AdsListParser: read page 15\n",
      "[INFO    ] 2022-09-08 13:31:36 | AdsListParser: read page 16\n",
      "[INFO    ] 2022-09-08 13:31:39 | AdsListParser: read page 17\n",
      "[INFO    ] 2022-09-08 13:31:43 | AdsListParser: read page 18\n",
      "[INFO    ] 2022-09-08 13:31:47 | AdsListParser: read page 19\n",
      "[INFO    ] 2022-09-08 13:31:50 | AdsListParser: read page 20\n",
      "[INFO    ] 2022-09-08 13:31:55 | AdsListParser: read page 21\n",
      "[INFO    ] 2022-09-08 13:31:58 | AdsListParser: read page 22\n",
      "[INFO    ] 2022-09-08 13:32:02 | AdsListParser: read page 23\n",
      "[INFO    ] 2022-09-08 13:32:07 | AdsListParser: read page 24\n",
      "[INFO    ] 2022-09-08 13:32:10 | AdsListParser: read page 25\n",
      "[INFO    ] 2022-09-08 13:32:14 | AdsListParser: read page 26\n",
      "[INFO    ] 2022-09-08 13:32:16 | AdsListParser: read page 27\n",
      "[INFO    ] 2022-09-08 13:32:19 | AdsListParser: read page 28\n",
      "[INFO    ] 2022-09-08 13:32:22 | AdsListParser: read page 29\n",
      "[INFO    ] 2022-09-08 13:32:25 | AdsListParser: read page 30\n",
      "[INFO    ] 2022-09-08 13:32:28 | AdsListParser: read page 31\n",
      "[INFO    ] 2022-09-08 13:32:31 | AdsListParser: read page 32\n",
      "[INFO    ] 2022-09-08 13:32:34 | AdsListParser: read page 33\n",
      "[INFO    ] 2022-09-08 13:32:38 | AdsListParser: read page 34\n",
      "[INFO    ] 2022-09-08 13:32:42 | AdsListParser: read page 35\n",
      "[INFO    ] 2022-09-08 13:32:46 | AdsListParser: read page 36\n",
      "[INFO    ] 2022-09-08 13:32:49 | AdsListParser: read page 37\n",
      "[INFO    ] 2022-09-08 13:32:52 | AdsListParser: read page 38\n",
      "[INFO    ] 2022-09-08 13:32:55 | AdsListParser: read page 39\n",
      "[INFO    ] 2022-09-08 13:32:58 | AdsListParser: read page 40\n",
      "[INFO    ] 2022-09-08 13:33:00 | AdsListParser: read page 41\n",
      "[INFO    ] 2022-09-08 13:33:03 | AdsListParser: read page 42\n",
      "[INFO    ] 2022-09-08 13:33:07 | AdsListParser: read page 43\n",
      "[INFO    ] 2022-09-08 13:33:09 | AdsListParser: read page 44\n",
      "[INFO    ] 2022-09-08 13:33:12 | AdsListParser: read page 45\n",
      "[INFO    ] 2022-09-08 13:33:15 | AdsListParser: read page 46\n",
      "[INFO    ] 2022-09-08 13:33:20 | AdsListParser: read page 47\n",
      "[INFO    ] 2022-09-08 13:33:24 | AdsListParser: read page 48\n",
      "[INFO    ] 2022-09-08 13:33:55 | AdsListParser: read page 49\n",
      "[INFO    ] 2022-09-08 13:33:58 | AdsListParser: read page 50\n",
      "[INFO    ] 2022-09-08 13:34:01 | AdsListParser: read page 51\n",
      "[INFO    ] 2022-09-08 13:34:04 | AdsListParser: read page 52\n",
      "[INFO    ] 2022-09-08 13:34:08 | AdsListParser: read page 53\n",
      "[INFO    ] 2022-09-08 13:34:11 | AdsListParser: read page 54\n",
      "[INFO    ] 2022-09-08 13:34:14 | AdsListParser: read page 55\n",
      "[INFO    ] 2022-09-08 13:34:16 | AdsListParser: read page 56\n",
      "[INFO    ] 2022-09-08 13:34:19 | AdsListParser: read page 57\n",
      "[INFO    ] 2022-09-08 13:34:24 | AdsListParser: read page 58\n",
      "[INFO    ] 2022-09-08 13:34:54 | AdsListParser: read page 59\n",
      "[INFO    ] 2022-09-08 13:34:58 | AdsListParser: read page 60\n",
      "[INFO    ] 2022-09-08 13:35:01 | AdsListParser: read page 61\n",
      "[INFO    ] 2022-09-08 13:35:05 | AdsListParser: read page 62\n",
      "[INFO    ] 2022-09-08 13:35:08 | AdsListParser: read page 63\n",
      "[INFO    ] 2022-09-08 13:35:11 | AdsListParser: read page 64\n",
      "[INFO    ] 2022-09-08 13:35:14 | AdsListParser: read page 65\n",
      "[INFO    ] 2022-09-08 13:35:18 | AdsListParser: read page 66\n",
      "[INFO    ] 2022-09-08 13:35:22 | AdsListParser: read page 67\n",
      "[INFO    ] 2022-09-08 13:35:25 | AdsListParser: read page 68\n",
      "[INFO    ] 2022-09-08 13:35:28 | AdsListParser: read page 69\n",
      "[INFO    ] 2022-09-08 13:35:31 | AdsListParser: read page 70\n",
      "[INFO    ] 2022-09-08 13:35:34 | AdsListParser: read page 71\n",
      "[INFO    ] 2022-09-08 13:35:38 | AdsListParser: read page 72\n",
      "[INFO    ] 2022-09-08 13:35:40 | AdsListParser: read page 73\n",
      "[INFO    ] 2022-09-08 13:35:43 | AdsListParser: read page 74\n",
      "[INFO    ] 2022-09-08 13:35:50 | AdsListParser: read page 75\n",
      "[INFO    ] 2022-09-08 13:35:54 | AdsListParser: read page 76\n",
      "[INFO    ] 2022-09-08 13:35:57 | AdsListParser: read page 77\n",
      "[INFO    ] 2022-09-08 13:36:00 | AdsListParser: read page 78\n",
      "[INFO    ] 2022-09-08 13:36:03 | AdsListParser: read page 79\n",
      "[INFO    ] 2022-09-08 13:36:05 | AdsListParser: read page 80\n",
      "[INFO    ] 2022-09-08 13:36:05 | AdsListParser: last page detected\n",
      "[INFO    ] 2022-09-08 13:36:06 | DownloaderSeleniumFirefox: close virtual browser\n",
      "3982\n",
      "CPU times: user 17.1 s, sys: 820 ms, total: 18 s\n",
      "Wall time: 5min 36s\n"
     ]
    }
   ],
   "source": [
    "%%time \n",
    "\n",
    "from lib.downloader import DownloaderSeleniumFirefox\n",
    "from lib.avito import AvitoParserRealty\n",
    "\n",
    "df,html = AvitoParserRealty(\n",
    "        base_url=base_url+'/'+avito_path,\n",
    "        driver=DownloaderSeleniumFirefox(profile_path)\n",
    "    ).load(req_param='',keep_html=True)\n",
    "\n",
    "print(len(df))"
   ]
  },
  {
   "cell_type": "code",
   "execution_count": 10,
   "id": "f8bd78d3",
   "metadata": {},
   "outputs": [
    {
     "name": "stdout",
     "output_type": "stream",
     "text": [
      "3982\n",
      "3270\n"
     ]
    }
   ],
   "source": [
    "print(len(df))\n",
    "df = df.dropna().drop_duplicates(['avito_id','description']).reset_index(drop=True)\n",
    "print(len(df))"
   ]
  },
  {
   "cell_type": "code",
   "execution_count": 11,
   "id": "6fa322a2",
   "metadata": {},
   "outputs": [],
   "source": [
    "ts = dtm.now().strftime('%Y-%m-%d_%H-%M')\n",
    "assert len(df)>0\n",
    "df.to_excel(f'{raw_data_path}/avito_{ts}_raw.xlsx',index=False)"
   ]
  },
  {
   "cell_type": "code",
   "execution_count": 12,
   "id": "bcd426ee",
   "metadata": {},
   "outputs": [
    {
     "data": {
      "text/html": [
       "<div>\n",
       "<style scoped>\n",
       "    .dataframe tbody tr th:only-of-type {\n",
       "        vertical-align: middle;\n",
       "    }\n",
       "\n",
       "    .dataframe tbody tr th {\n",
       "        vertical-align: top;\n",
       "    }\n",
       "\n",
       "    .dataframe thead th {\n",
       "        text-align: right;\n",
       "    }\n",
       "</style>\n",
       "<table border=\"1\" class=\"dataframe\">\n",
       "  <thead>\n",
       "    <tr style=\"text-align: right;\">\n",
       "      <th></th>\n",
       "      <th>avito_id</th>\n",
       "      <th>title</th>\n",
       "      <th>price</th>\n",
       "      <th>obj_name</th>\n",
       "      <th>adr</th>\n",
       "      <th>description</th>\n",
       "      <th>page</th>\n",
       "      <th>ts</th>\n",
       "    </tr>\n",
       "  </thead>\n",
       "  <tbody>\n",
       "    <tr>\n",
       "      <th>1455</th>\n",
       "      <td>2482017748</td>\n",
       "      <td>Объявление «2-к. квартира, 50 м², 1/3 эт.» 11 фотографий</td>\n",
       "      <td>6199000</td>\n",
       "      <td></td>\n",
       "      <td>Нахимовский муниципальный округ, посёлок Любимовка, ул. Софьи Перовской, 45</td>\n",
       "      <td>Продаётся двухкомнатная квартира на первом этаже трехэтажного дома в тихом, спальном, курортном районе. Квартира пустая, требует ремонта. Окна металлопластиковые, поменяно отопление (трубы и батареи), проведен газ, имеется отдельное подсобное помещение. Ес</td>\n",
       "      <td>38</td>\n",
       "      <td>2022-09-08 13:36:05.789208</td>\n",
       "    </tr>\n",
       "    <tr>\n",
       "      <th>39</th>\n",
       "      <td>2372604864</td>\n",
       "      <td>Объявление «1-к. квартира, 59 м², 3/3 эт.» 6 фотографий</td>\n",
       "      <td>14245371</td>\n",
       "      <td>ЖК «Голубая Бухта»</td>\n",
       "      <td>аллея Защитников 35-й Батареи, д. 11а</td>\n",
       "      <td>ЖК «Голубая Бухта» — это неповторимое сочетание современной архитектуры и комфортной жизни с удобным расположением у самого берега Черного моря и живописным видом на Голубую бухту. \\nКомплекс имеет уникальную инфраструктуру:300м до пляжа «Голубая бухта», Sp</td>\n",
       "      <td>1</td>\n",
       "      <td>2022-09-08 13:36:05.789208</td>\n",
       "    </tr>\n",
       "  </tbody>\n",
       "</table>\n",
       "</div>"
      ],
      "text/plain": [
       "        avito_id                                                     title  \\\n",
       "1455  2482017748  Объявление «2-к. квартира, 50 м², 1/3 эт.» 11 фотографий   \n",
       "39    2372604864   Объявление «1-к. квартира, 59 м², 3/3 эт.» 6 фотографий   \n",
       "\n",
       "         price            obj_name  \\\n",
       "1455   6199000                       \n",
       "39    14245371  ЖК «Голубая Бухта»   \n",
       "\n",
       "                                                                              adr  \\\n",
       "1455  Нахимовский муниципальный округ, посёлок Любимовка, ул. Софьи Перовской, 45   \n",
       "39                                          аллея Защитников 35-й Батареи, д. 11а   \n",
       "\n",
       "                                                                                                                                                                                                                                                            description  \\\n",
       "1455   Продаётся двухкомнатная квартира на первом этаже трехэтажного дома в тихом, спальном, курортном районе. Квартира пустая, требует ремонта. Окна металлопластиковые, поменяно отопление (трубы и батареи), проведен газ, имеется отдельное подсобное помещение. Ес   \n",
       "39    ЖК «Голубая Бухта» — это неповторимое сочетание современной архитектуры и комфортной жизни с удобным расположением у самого берега Черного моря и живописным видом на Голубую бухту. \\nКомплекс имеет уникальную инфраструктуру:300м до пляжа «Голубая бухта», Sp   \n",
       "\n",
       "      page                         ts  \n",
       "1455    38 2022-09-08 13:36:05.789208  \n",
       "39       1 2022-09-08 13:36:05.789208  "
      ]
     },
     "execution_count": 12,
     "metadata": {},
     "output_type": "execute_result"
    }
   ],
   "source": [
    "df.sample(2)"
   ]
  },
  {
   "cell_type": "code",
   "execution_count": null,
   "id": "fffa658b",
   "metadata": {},
   "outputs": [],
   "source": []
  }
 ],
 "metadata": {
  "kernelspec": {
   "display_name": "Python 3 (ipykernel)",
   "language": "python",
   "name": "python3"
  },
  "language_info": {
   "codemirror_mode": {
    "name": "ipython",
    "version": 3
   },
   "file_extension": ".py",
   "mimetype": "text/x-python",
   "name": "python",
   "nbconvert_exporter": "python",
   "pygments_lexer": "ipython3",
   "version": "3.10.6"
  },
  "toc": {
   "base_numbering": 1,
   "nav_menu": {},
   "number_sections": true,
   "sideBar": true,
   "skip_h1_title": false,
   "title_cell": "Table of Contents",
   "title_sidebar": "Contents",
   "toc_cell": false,
   "toc_position": {},
   "toc_section_display": true,
   "toc_window_display": false
  },
  "varInspector": {
   "cols": {
    "lenName": 16,
    "lenType": 16,
    "lenVar": 40
   },
   "kernels_config": {
    "python": {
     "delete_cmd_postfix": "",
     "delete_cmd_prefix": "del ",
     "library": "var_list.py",
     "varRefreshCmd": "print(var_dic_list())"
    },
    "r": {
     "delete_cmd_postfix": ") ",
     "delete_cmd_prefix": "rm(",
     "library": "var_list.r",
     "varRefreshCmd": "cat(var_dic_list()) "
    }
   },
   "types_to_exclude": [
    "module",
    "function",
    "builtin_function_or_method",
    "instance",
    "_Feature"
   ],
   "window_display": false
  }
 },
 "nbformat": 4,
 "nbformat_minor": 5
}
