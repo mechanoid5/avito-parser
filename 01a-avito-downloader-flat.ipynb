{
 "cells": [
  {
   "cell_type": "markdown",
   "id": "7bec28d7",
   "metadata": {},
   "source": [
    "__качаем объявления о продаже квартир с авито.ru__\n",
    "\n",
    "_Evgeny S. Borisov <parser@mechanoid.su>_"
   ]
  },
  {
   "cell_type": "code",
   "execution_count": 1,
   "id": "52c5999f",
   "metadata": {},
   "outputs": [],
   "source": [
    "# !pacman -S firefox firefox-i18n-r  geckodriver\n",
    "# !pip install seleniuam"
   ]
  },
  {
   "cell_type": "code",
   "execution_count": 2,
   "id": "bcea4d8b",
   "metadata": {
    "ExecuteTime": {
     "end_time": "2022-08-26T14:19:06.118492Z",
     "start_time": "2022-08-26T14:13:37.888398Z"
    }
   },
   "outputs": [],
   "source": [
    "# import re\n",
    "import sys\n",
    "import logging\n",
    "from datetime import datetime as dtm\n",
    "from tqdm.notebook import tqdm\n",
    "import pandas as pd"
   ]
  },
  {
   "cell_type": "code",
   "execution_count": 3,
   "id": "caabc8c7",
   "metadata": {
    "ExecuteTime": {
     "end_time": "2022-08-26T14:19:06.118492Z",
     "start_time": "2022-08-26T14:13:37.888398Z"
    }
   },
   "outputs": [],
   "source": [
    "pd.set_option('display.max_colwidth', None)\n",
    "pd.set_option('display.float_format', '{:.2f}'.format)\n",
    "tqdm.pandas()\n",
    "\n",
    "logging.basicConfig(\n",
    "        format=u'[%(levelname)-8s] %(asctime)s | %(message)s',\n",
    "        datefmt='%Y-%m-%d %H:%M:%S',\n",
    "        level=logging.INFO,\n",
    "        # level=logging.DEBUG,\n",
    "        stream=sys.stdout,\n",
    "    )"
   ]
  },
  {
   "cell_type": "markdown",
   "id": "db3fe2be",
   "metadata": {},
   "source": [
    "---"
   ]
  },
  {
   "cell_type": "code",
   "execution_count": 4,
   "id": "288569b0",
   "metadata": {},
   "outputs": [],
   "source": [
    "# url = (\n",
    "# 'https://www.avito.ru/yaroslavskaya_oblast/avtomobili/chevrolet/niva'\n",
    "# '?bt=0'\n",
    "# '&i=1'\n",
    "# '&pmax=150000'\n",
    "# '&pmin=10000'\n",
    "# )"
   ]
  },
  {
   "cell_type": "code",
   "execution_count": 5,
   "id": "d437eab9",
   "metadata": {},
   "outputs": [],
   "source": [
    "profile_path = '/home/mechanoid/.mozilla/firefox/p144xo2m.default-release'\n",
    "\n",
    "base_url = 'https://www.avito.ru/'\n",
    "place = 'sevastopol'\n",
    "avito_path = place+'/kvartiry/prodam'\n",
    "\n",
    "raw_data_path = 'data/raw/flat/avito' # каталог с файлами объявлений"
   ]
  },
  {
   "cell_type": "code",
   "execution_count": 6,
   "id": "9ce138fe",
   "metadata": {},
   "outputs": [
    {
     "name": "stdout",
     "output_type": "stream",
     "text": [
      "[INFO    ] 2022-09-19 12:30:53 | DownloaderSeleniumFirefox: downloader init\n",
      "[INFO    ] 2022-09-19 12:30:53 | DownloaderSeleniumFirefox: open virtual browser\n",
      "[INFO    ] 2022-09-19 12:30:55 | AdsListParser: downloader init\n",
      "[INFO    ] 2022-09-19 12:30:55 | AvitoParser: init\n",
      "[INFO    ] 2022-09-19 12:31:04 | AvitoParser: 76 pages for read\n",
      "[INFO    ] 2022-09-19 12:31:04 | AdsListParser: start read and parse pages...\n",
      "[INFO    ] 2022-09-19 12:31:10 | AdsListParser: read page 1\n",
      "[INFO    ] 2022-09-19 12:31:16 | AdsListParser: read page 2\n",
      "[INFO    ] 2022-09-19 12:31:20 | AdsListParser: read page 3\n",
      "[INFO    ] 2022-09-19 12:31:23 | AdsListParser: read page 4\n",
      "[INFO    ] 2022-09-19 12:31:29 | AdsListParser: read page 5\n",
      "[INFO    ] 2022-09-19 12:31:34 | AdsListParser: read page 6\n",
      "[INFO    ] 2022-09-19 12:31:40 | AdsListParser: read page 7\n",
      "[INFO    ] 2022-09-19 12:31:45 | AdsListParser: read page 8\n",
      "[INFO    ] 2022-09-19 12:31:50 | AdsListParser: read page 9\n",
      "[INFO    ] 2022-09-19 12:31:56 | AdsListParser: read page 10\n",
      "[INFO    ] 2022-09-19 12:32:00 | AdsListParser: read page 11\n",
      "[INFO    ] 2022-09-19 12:32:04 | AdsListParser: read page 12\n",
      "[INFO    ] 2022-09-19 12:32:08 | AdsListParser: read page 13\n",
      "[INFO    ] 2022-09-19 12:32:11 | AdsListParser: read page 14\n",
      "[INFO    ] 2022-09-19 12:32:15 | AdsListParser: read page 15\n",
      "[INFO    ] 2022-09-19 12:32:19 | AdsListParser: read page 16\n",
      "[INFO    ] 2022-09-19 12:32:24 | AdsListParser: read page 17\n",
      "[INFO    ] 2022-09-19 12:32:28 | AdsListParser: read page 18\n",
      "[INFO    ] 2022-09-19 12:32:33 | AdsListParser: read page 19\n",
      "[INFO    ] 2022-09-19 12:32:38 | AdsListParser: read page 20\n",
      "[INFO    ] 2022-09-19 12:32:42 | AdsListParser: read page 21\n",
      "[INFO    ] 2022-09-19 12:32:46 | AdsListParser: read page 22\n",
      "[INFO    ] 2022-09-19 12:32:51 | AdsListParser: read page 23\n",
      "[INFO    ] 2022-09-19 12:32:55 | AdsListParser: read page 24\n",
      "[INFO    ] 2022-09-19 12:33:00 | AdsListParser: read page 25\n",
      "[INFO    ] 2022-09-19 12:33:05 | AdsListParser: read page 26\n",
      "[INFO    ] 2022-09-19 12:33:10 | AdsListParser: read page 27\n",
      "[INFO    ] 2022-09-19 12:33:15 | AdsListParser: read page 28\n",
      "[INFO    ] 2022-09-19 12:33:19 | AdsListParser: read page 29\n",
      "[INFO    ] 2022-09-19 12:33:23 | AdsListParser: read page 30\n",
      "[INFO    ] 2022-09-19 12:33:28 | AdsListParser: read page 31\n",
      "[INFO    ] 2022-09-19 12:33:31 | AdsListParser: read page 32\n",
      "[INFO    ] 2022-09-19 12:33:34 | AdsListParser: read page 33\n",
      "[INFO    ] 2022-09-19 12:33:39 | AdsListParser: read page 34\n",
      "[INFO    ] 2022-09-19 12:33:43 | AdsListParser: read page 35\n",
      "[INFO    ] 2022-09-19 12:33:46 | AdsListParser: read page 36\n",
      "[INFO    ] 2022-09-19 12:33:52 | AdsListParser: read page 37\n",
      "[INFO    ] 2022-09-19 12:33:55 | AdsListParser: read page 38\n",
      "[INFO    ] 2022-09-19 12:33:59 | AdsListParser: read page 39\n",
      "[INFO    ] 2022-09-19 12:34:03 | AdsListParser: read page 40\n",
      "[INFO    ] 2022-09-19 12:34:07 | AdsListParser: read page 41\n",
      "[INFO    ] 2022-09-19 12:34:12 | AdsListParser: read page 42\n",
      "[INFO    ] 2022-09-19 12:34:17 | AdsListParser: read page 43\n",
      "[INFO    ] 2022-09-19 12:34:22 | AdsListParser: read page 44\n",
      "[INFO    ] 2022-09-19 12:34:25 | AdsListParser: read page 45\n",
      "[INFO    ] 2022-09-19 12:34:31 | AdsListParser: read page 46\n",
      "[INFO    ] 2022-09-19 12:34:35 | AdsListParser: read page 47\n",
      "[INFO    ] 2022-09-19 12:34:42 | AdsListParser: read page 48\n",
      "[INFO    ] 2022-09-19 12:34:45 | AdsListParser: read page 49\n",
      "[INFO    ] 2022-09-19 12:34:51 | AdsListParser: read page 50\n",
      "[INFO    ] 2022-09-19 12:34:55 | AdsListParser: read page 51\n",
      "[INFO    ] 2022-09-19 12:34:59 | AdsListParser: read page 52\n",
      "[INFO    ] 2022-09-19 12:35:03 | AdsListParser: read page 53\n",
      "[INFO    ] 2022-09-19 12:35:07 | AdsListParser: read page 54\n",
      "[INFO    ] 2022-09-19 12:35:10 | AdsListParser: read page 55\n",
      "[INFO    ] 2022-09-19 12:35:14 | AdsListParser: read page 56\n",
      "[INFO    ] 2022-09-19 12:35:17 | AdsListParser: read page 57\n",
      "[INFO    ] 2022-09-19 12:35:21 | AdsListParser: read page 58\n",
      "[INFO    ] 2022-09-19 12:35:24 | AdsListParser: read page 59\n",
      "[INFO    ] 2022-09-19 12:35:32 | AdsListParser: read page 60\n",
      "[INFO    ] 2022-09-19 12:35:36 | AdsListParser: read page 61\n",
      "[INFO    ] 2022-09-19 12:35:39 | AdsListParser: read page 62\n",
      "[INFO    ] 2022-09-19 12:35:44 | AdsListParser: read page 63\n",
      "[INFO    ] 2022-09-19 12:35:49 | AdsListParser: read page 64\n",
      "[INFO    ] 2022-09-19 12:35:55 | AdsListParser: read page 65\n",
      "[INFO    ] 2022-09-19 12:36:00 | AdsListParser: read page 66\n",
      "[INFO    ] 2022-09-19 12:36:04 | AdsListParser: read page 67\n",
      "[INFO    ] 2022-09-19 12:36:08 | AdsListParser: read page 68\n",
      "[INFO    ] 2022-09-19 12:36:13 | AdsListParser: read page 69\n",
      "[INFO    ] 2022-09-19 12:36:18 | AdsListParser: read page 70\n",
      "[INFO    ] 2022-09-19 12:36:23 | AdsListParser: read page 71\n",
      "[INFO    ] 2022-09-19 12:36:28 | AdsListParser: read page 72\n",
      "[INFO    ] 2022-09-19 12:36:32 | AdsListParser: read page 73\n",
      "[INFO    ] 2022-09-19 12:36:35 | AdsListParser: read page 74\n",
      "[INFO    ] 2022-09-19 12:36:40 | AdsListParser: read page 75\n",
      "[INFO    ] 2022-09-19 12:36:43 | AdsListParser: read page 76\n",
      "[INFO    ] 2022-09-19 12:36:43 | AdsListParser: last page detected\n",
      "[INFO    ] 2022-09-19 12:36:44 | DownloaderSeleniumFirefox: close virtual browser\n",
      "3766\n",
      "CPU times: user 16.9 s, sys: 787 ms, total: 17.7 s\n",
      "Wall time: 5min 51s\n"
     ]
    }
   ],
   "source": [
    "%%time \n",
    "\n",
    "from lib.downloader import DownloaderSeleniumFirefox\n",
    "from lib.avito import AvitoParserRealty\n",
    "\n",
    "df,html = AvitoParserRealty(\n",
    "        base_url=base_url+'/'+avito_path,\n",
    "        driver=DownloaderSeleniumFirefox(profile_path)\n",
    "    ).load(req_param='',keep_html=True)\n",
    "\n",
    "print(len(df))"
   ]
  },
  {
   "cell_type": "code",
   "execution_count": 7,
   "id": "f8bd78d3",
   "metadata": {},
   "outputs": [
    {
     "name": "stdout",
     "output_type": "stream",
     "text": [
      "3766\n",
      "3555\n"
     ]
    }
   ],
   "source": [
    "print(len(df))\n",
    "df = df.dropna().drop_duplicates(['avito_id','description']).reset_index(drop=True)\n",
    "print(len(df))"
   ]
  },
  {
   "cell_type": "code",
   "execution_count": 8,
   "id": "6030b88c",
   "metadata": {},
   "outputs": [],
   "source": [
    "df['place']=place"
   ]
  },
  {
   "cell_type": "code",
   "execution_count": 9,
   "id": "6fa322a2",
   "metadata": {},
   "outputs": [],
   "source": [
    "ts = dtm.now().strftime('%Y-%m-%d_%H-%M')\n",
    "assert len(df)>0\n",
    "df.to_excel(f'{raw_data_path}/avito_{ts}_raw.xlsx',index=False)"
   ]
  },
  {
   "cell_type": "code",
   "execution_count": 10,
   "id": "bcd426ee",
   "metadata": {},
   "outputs": [
    {
     "data": {
      "text/html": [
       "<div>\n",
       "<style scoped>\n",
       "    .dataframe tbody tr th:only-of-type {\n",
       "        vertical-align: middle;\n",
       "    }\n",
       "\n",
       "    .dataframe tbody tr th {\n",
       "        vertical-align: top;\n",
       "    }\n",
       "\n",
       "    .dataframe thead th {\n",
       "        text-align: right;\n",
       "    }\n",
       "</style>\n",
       "<table border=\"1\" class=\"dataframe\">\n",
       "  <thead>\n",
       "    <tr style=\"text-align: right;\">\n",
       "      <th></th>\n",
       "      <th>avito_id</th>\n",
       "      <th>title</th>\n",
       "      <th>price</th>\n",
       "      <th>obj_name</th>\n",
       "      <th>adr</th>\n",
       "      <th>description</th>\n",
       "      <th>page</th>\n",
       "      <th>ts</th>\n",
       "      <th>place</th>\n",
       "    </tr>\n",
       "  </thead>\n",
       "  <tbody>\n",
       "    <tr>\n",
       "      <th>2905</th>\n",
       "      <td>2217273855</td>\n",
       "      <td>Объявление «3-к. квартира, 80 м², 1/5 эт.» 19 фотографий</td>\n",
       "      <td>9450000</td>\n",
       "      <td></td>\n",
       "      <td>ул. Николая Музыки, 68</td>\n",
       "      <td>«Чешка»-уникальная комфортная планировка для трехкомнатной квартиры в самом центре Ленинского района.\\n\\n#Ипотека #Сбер #Веранда #Благоустройство #Большая_ кухня.\\n\\n80 м2 Широкий коридор и большая кухня 10 м2, узаконенная пристройка и погреб в 9,2 м2, три спа</td>\n",
       "      <td>62</td>\n",
       "      <td>2022-09-19 12:36:43.740090</td>\n",
       "      <td>sevastopol</td>\n",
       "    </tr>\n",
       "    <tr>\n",
       "      <th>3070</th>\n",
       "      <td>2493107238</td>\n",
       "      <td>Объявление «1-к. квартира, 54,8 м², 4/10 эт.» 20 фотографий</td>\n",
       "      <td>7650000</td>\n",
       "      <td></td>\n",
       "      <td>пр-т Победы, 44</td>\n",
       "      <td>Продаётся отличная крупногабаритная квартира от собственника. В квартире выполнен хороший ремонт из дорогостоящих материалов. Частично остаётся мебель, а именно кухня и прихожая. Удобная планировка квартиры: \\n- коридор 9.6 кв. М. \\n- совместный санузел 4.7</td>\n",
       "      <td>66</td>\n",
       "      <td>2022-09-19 12:36:43.740090</td>\n",
       "      <td>sevastopol</td>\n",
       "    </tr>\n",
       "  </tbody>\n",
       "</table>\n",
       "</div>"
      ],
      "text/plain": [
       "        avito_id                                                        title  \\\n",
       "2905  2217273855     Объявление «3-к. квартира, 80 м², 1/5 эт.» 19 фотографий   \n",
       "3070  2493107238  Объявление «1-к. квартира, 54,8 м², 4/10 эт.» 20 фотографий   \n",
       "\n",
       "        price obj_name                     adr  \\\n",
       "2905  9450000           ул. Николая Музыки, 68   \n",
       "3070  7650000                  пр-т Победы, 44   \n",
       "\n",
       "                                                                                                                                                                                                                                                               description  \\\n",
       "2905  «Чешка»-уникальная комфортная планировка для трехкомнатной квартиры в самом центре Ленинского района.\\n\\n#Ипотека #Сбер #Веранда #Благоустройство #Большая_ кухня.\\n\\n80 м2 Широкий коридор и большая кухня 10 м2, узаконенная пристройка и погреб в 9,2 м2, три спа   \n",
       "3070    Продаётся отличная крупногабаритная квартира от собственника. В квартире выполнен хороший ремонт из дорогостоящих материалов. Частично остаётся мебель, а именно кухня и прихожая. Удобная планировка квартиры: \\n- коридор 9.6 кв. М. \\n- совместный санузел 4.7    \n",
       "\n",
       "      page                         ts       place  \n",
       "2905    62 2022-09-19 12:36:43.740090  sevastopol  \n",
       "3070    66 2022-09-19 12:36:43.740090  sevastopol  "
      ]
     },
     "execution_count": 10,
     "metadata": {},
     "output_type": "execute_result"
    }
   ],
   "source": [
    "df.sample(2)"
   ]
  },
  {
   "cell_type": "code",
   "execution_count": null,
   "id": "fffa658b",
   "metadata": {},
   "outputs": [],
   "source": []
  }
 ],
 "metadata": {
  "kernelspec": {
   "display_name": "Python 3 (ipykernel)",
   "language": "python",
   "name": "python3"
  },
  "language_info": {
   "codemirror_mode": {
    "name": "ipython",
    "version": 3
   },
   "file_extension": ".py",
   "mimetype": "text/x-python",
   "name": "python",
   "nbconvert_exporter": "python",
   "pygments_lexer": "ipython3",
   "version": "3.10.6"
  },
  "toc": {
   "base_numbering": 1,
   "nav_menu": {},
   "number_sections": true,
   "sideBar": true,
   "skip_h1_title": false,
   "title_cell": "Table of Contents",
   "title_sidebar": "Contents",
   "toc_cell": false,
   "toc_position": {},
   "toc_section_display": true,
   "toc_window_display": false
  },
  "varInspector": {
   "cols": {
    "lenName": 16,
    "lenType": 16,
    "lenVar": 40
   },
   "kernels_config": {
    "python": {
     "delete_cmd_postfix": "",
     "delete_cmd_prefix": "del ",
     "library": "var_list.py",
     "varRefreshCmd": "print(var_dic_list())"
    },
    "r": {
     "delete_cmd_postfix": ") ",
     "delete_cmd_prefix": "rm(",
     "library": "var_list.r",
     "varRefreshCmd": "cat(var_dic_list()) "
    }
   },
   "types_to_exclude": [
    "module",
    "function",
    "builtin_function_or_method",
    "instance",
    "_Feature"
   ],
   "window_display": false
  }
 },
 "nbformat": 4,
 "nbformat_minor": 5
}
