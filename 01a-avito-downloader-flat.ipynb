{
 "cells": [
  {
   "cell_type": "markdown",
   "id": "7bec28d7",
   "metadata": {},
   "source": [
    "__качаем объявления о продаже квартир с авито.ru__\n",
    "\n",
    "_Evgeny S. Borisov <parser@mechanoid.su>_"
   ]
  },
  {
   "cell_type": "code",
   "execution_count": 1,
   "id": "52c5999f",
   "metadata": {},
   "outputs": [],
   "source": [
    "# !pacman -S firefox firefox-i18n-r  geckodriver\n",
    "# !pip install seleniuam"
   ]
  },
  {
   "cell_type": "code",
   "execution_count": 2,
   "id": "bcea4d8b",
   "metadata": {
    "ExecuteTime": {
     "end_time": "2022-08-26T14:19:06.118492Z",
     "start_time": "2022-08-26T14:13:37.888398Z"
    }
   },
   "outputs": [],
   "source": [
    "# import re\n",
    "import sys\n",
    "import logging\n",
    "from datetime import datetime as dtm\n",
    "from tqdm.notebook import tqdm\n",
    "import pandas as pd"
   ]
  },
  {
   "cell_type": "code",
   "execution_count": 3,
   "id": "caabc8c7",
   "metadata": {
    "ExecuteTime": {
     "end_time": "2022-08-26T14:19:06.118492Z",
     "start_time": "2022-08-26T14:13:37.888398Z"
    }
   },
   "outputs": [],
   "source": [
    "pd.set_option('display.max_colwidth', None)\n",
    "pd.set_option('display.float_format', '{:.2f}'.format)\n",
    "tqdm.pandas()\n",
    "\n",
    "logging.basicConfig(\n",
    "        format=u'[%(levelname)-8s] %(asctime)s | %(message)s',\n",
    "        datefmt='%Y-%m-%d %H:%M:%S',\n",
    "        level=logging.INFO,\n",
    "        # level=logging.DEBUG,\n",
    "        stream=sys.stdout,\n",
    "    )"
   ]
  },
  {
   "cell_type": "markdown",
   "id": "db3fe2be",
   "metadata": {},
   "source": [
    "---"
   ]
  },
  {
   "cell_type": "code",
   "execution_count": 4,
   "id": "288569b0",
   "metadata": {},
   "outputs": [],
   "source": [
    "# url = (\n",
    "# 'https://www.avito.ru/yaroslavskaya_oblast/avtomobili/chevrolet/niva'\n",
    "# '?bt=0'\n",
    "# '&i=1'\n",
    "# '&pmax=150000'\n",
    "# '&pmin=10000'\n",
    "# )"
   ]
  },
  {
   "cell_type": "code",
   "execution_count": 5,
   "id": "d437eab9",
   "metadata": {},
   "outputs": [],
   "source": [
    "profile_path = '/home/mechanoid/.mozilla/firefox/p144xo2m.default-release'\n",
    "\n",
    "base_url = 'https://www.avito.ru/'\n",
    "place = 'sevastopol'\n",
    "avito_path = place+'/kvartiry/prodam'\n",
    "\n",
    "raw_data_path = 'data/raw/flat/avito' # каталог с файлами объявлений"
   ]
  },
  {
   "cell_type": "code",
   "execution_count": 6,
   "id": "9ce138fe",
   "metadata": {},
   "outputs": [
    {
     "name": "stdout",
     "output_type": "stream",
     "text": [
      "[INFO    ] 2022-09-16 15:01:46 | DownloaderSeleniumFirefox: downloader init\n",
      "[INFO    ] 2022-09-16 15:01:46 | DownloaderSeleniumFirefox: open virtual browser\n",
      "[INFO    ] 2022-09-16 15:01:48 | AdsListParser: downloader init\n",
      "[INFO    ] 2022-09-16 15:01:48 | AvitoParser: init\n",
      "[INFO    ] 2022-09-16 15:01:54 | AvitoParser: 77 pages for read\n",
      "[INFO    ] 2022-09-16 15:01:54 | AdsListParser: start read and parse pages...\n",
      "[INFO    ] 2022-09-16 15:01:58 | AdsListParser: read page 1\n",
      "[INFO    ] 2022-09-16 15:02:01 | AdsListParser: read page 2\n",
      "[INFO    ] 2022-09-16 15:02:05 | AdsListParser: read page 3\n",
      "[INFO    ] 2022-09-16 15:02:09 | AdsListParser: read page 4\n",
      "[INFO    ] 2022-09-16 15:02:14 | AdsListParser: read page 5\n",
      "[INFO    ] 2022-09-16 15:02:19 | AdsListParser: read page 6\n",
      "[INFO    ] 2022-09-16 15:02:23 | AdsListParser: read page 7\n",
      "[INFO    ] 2022-09-16 15:02:27 | AdsListParser: read page 8\n",
      "[INFO    ] 2022-09-16 15:02:34 | AdsListParser: read page 9\n",
      "[INFO    ] 2022-09-16 15:02:39 | AdsListParser: read page 10\n",
      "[INFO    ] 2022-09-16 15:02:43 | AdsListParser: read page 11\n",
      "[INFO    ] 2022-09-16 15:02:48 | AdsListParser: read page 12\n",
      "[INFO    ] 2022-09-16 15:02:54 | AdsListParser: read page 13\n",
      "[INFO    ] 2022-09-16 15:02:58 | AdsListParser: read page 14\n",
      "[INFO    ] 2022-09-16 15:03:01 | AdsListParser: read page 15\n",
      "[INFO    ] 2022-09-16 15:03:06 | AdsListParser: read page 16\n",
      "[INFO    ] 2022-09-16 15:03:10 | AdsListParser: read page 17\n",
      "[INFO    ] 2022-09-16 15:03:14 | AdsListParser: read page 18\n",
      "[INFO    ] 2022-09-16 15:03:18 | AdsListParser: read page 19\n",
      "[INFO    ] 2022-09-16 15:03:22 | AdsListParser: read page 20\n",
      "[INFO    ] 2022-09-16 15:03:26 | AdsListParser: read page 21\n",
      "[INFO    ] 2022-09-16 15:03:30 | AdsListParser: read page 22\n",
      "[INFO    ] 2022-09-16 15:03:34 | AdsListParser: read page 23\n",
      "[INFO    ] 2022-09-16 15:03:39 | AdsListParser: read page 24\n",
      "[INFO    ] 2022-09-16 15:03:43 | AdsListParser: read page 25\n",
      "[INFO    ] 2022-09-16 15:03:46 | AdsListParser: read page 26\n",
      "[INFO    ] 2022-09-16 15:03:53 | AdsListParser: read page 27\n",
      "[INFO    ] 2022-09-16 15:03:57 | AdsListParser: read page 28\n",
      "[INFO    ] 2022-09-16 15:04:01 | AdsListParser: read page 29\n",
      "[INFO    ] 2022-09-16 15:04:08 | AdsListParser: read page 30\n",
      "[INFO    ] 2022-09-16 15:04:14 | AdsListParser: read page 31\n",
      "[INFO    ] 2022-09-16 15:04:19 | AdsListParser: read page 32\n",
      "[INFO    ] 2022-09-16 15:04:23 | AdsListParser: read page 33\n",
      "[INFO    ] 2022-09-16 15:04:27 | AdsListParser: read page 34\n",
      "[INFO    ] 2022-09-16 15:04:32 | AdsListParser: read page 35\n",
      "[INFO    ] 2022-09-16 15:04:36 | AdsListParser: read page 36\n",
      "[INFO    ] 2022-09-16 15:04:39 | AdsListParser: read page 37\n",
      "[INFO    ] 2022-09-16 15:04:43 | AdsListParser: read page 38\n",
      "[INFO    ] 2022-09-16 15:04:47 | AdsListParser: read page 39\n",
      "[INFO    ] 2022-09-16 15:04:51 | AdsListParser: read page 40\n",
      "[INFO    ] 2022-09-16 15:04:55 | AdsListParser: read page 41\n",
      "[INFO    ] 2022-09-16 15:04:59 | AdsListParser: read page 42\n",
      "[INFO    ] 2022-09-16 15:05:05 | AdsListParser: read page 43\n",
      "[INFO    ] 2022-09-16 15:05:10 | AdsListParser: read page 44\n",
      "[INFO    ] 2022-09-16 15:05:15 | AdsListParser: read page 45\n",
      "[INFO    ] 2022-09-16 15:05:19 | AdsListParser: read page 46\n",
      "[INFO    ] 2022-09-16 15:05:25 | AdsListParser: read page 47\n",
      "[INFO    ] 2022-09-16 15:05:32 | AdsListParser: read page 48\n",
      "[INFO    ] 2022-09-16 15:05:38 | AdsListParser: read page 49\n",
      "[INFO    ] 2022-09-16 15:05:43 | AdsListParser: read page 50\n",
      "[INFO    ] 2022-09-16 15:05:47 | AdsListParser: read page 51\n",
      "[INFO    ] 2022-09-16 15:05:51 | AdsListParser: read page 52\n",
      "[INFO    ] 2022-09-16 15:05:57 | AdsListParser: read page 53\n",
      "[INFO    ] 2022-09-16 15:06:01 | AdsListParser: read page 54\n",
      "[INFO    ] 2022-09-16 15:06:05 | AdsListParser: read page 55\n",
      "[INFO    ] 2022-09-16 15:06:09 | AdsListParser: read page 56\n",
      "[INFO    ] 2022-09-16 15:06:12 | AdsListParser: read page 57\n",
      "[INFO    ] 2022-09-16 15:06:17 | AdsListParser: read page 58\n",
      "[INFO    ] 2022-09-16 15:06:20 | AdsListParser: read page 59\n",
      "[INFO    ] 2022-09-16 15:06:25 | AdsListParser: read page 60\n",
      "[INFO    ] 2022-09-16 15:06:31 | AdsListParser: read page 61\n",
      "[INFO    ] 2022-09-16 15:06:35 | AdsListParser: read page 62\n",
      "[INFO    ] 2022-09-16 15:06:39 | AdsListParser: read page 63\n",
      "[INFO    ] 2022-09-16 15:06:43 | AdsListParser: read page 64\n",
      "[INFO    ] 2022-09-16 15:06:47 | AdsListParser: read page 65\n",
      "[INFO    ] 2022-09-16 15:06:50 | AdsListParser: read page 66\n",
      "[INFO    ] 2022-09-16 15:06:54 | AdsListParser: read page 67\n",
      "[INFO    ] 2022-09-16 15:06:57 | AdsListParser: read page 68\n",
      "[INFO    ] 2022-09-16 15:07:00 | AdsListParser: read page 69\n",
      "[INFO    ] 2022-09-16 15:07:04 | AdsListParser: read page 70\n",
      "[INFO    ] 2022-09-16 15:07:08 | AdsListParser: read page 71\n",
      "[INFO    ] 2022-09-16 15:07:11 | AdsListParser: read page 72\n",
      "[INFO    ] 2022-09-16 15:07:15 | AdsListParser: read page 73\n",
      "[INFO    ] 2022-09-16 15:07:19 | AdsListParser: read page 74\n",
      "[INFO    ] 2022-09-16 15:07:22 | AdsListParser: read page 75\n",
      "[INFO    ] 2022-09-16 15:07:26 | AdsListParser: read page 76\n",
      "[INFO    ] 2022-09-16 15:07:31 | AdsListParser: read page 77\n",
      "[INFO    ] 2022-09-16 15:07:31 | AdsListParser: last page detected\n",
      "[INFO    ] 2022-09-16 15:07:32 | DownloaderSeleniumFirefox: close virtual browser\n",
      "3852\n",
      "CPU times: user 17.3 s, sys: 720 ms, total: 18.1 s\n",
      "Wall time: 5min 46s\n"
     ]
    }
   ],
   "source": [
    "%%time \n",
    "\n",
    "from lib.downloader import DownloaderSeleniumFirefox\n",
    "from lib.avito import AvitoParserRealty\n",
    "\n",
    "df,html = AvitoParserRealty(\n",
    "        base_url=base_url+'/'+avito_path,\n",
    "        driver=DownloaderSeleniumFirefox(profile_path)\n",
    "    ).load(req_param='',keep_html=True)\n",
    "\n",
    "print(len(df))"
   ]
  },
  {
   "cell_type": "code",
   "execution_count": 7,
   "id": "f8bd78d3",
   "metadata": {},
   "outputs": [
    {
     "name": "stdout",
     "output_type": "stream",
     "text": [
      "3852\n",
      "3391\n"
     ]
    }
   ],
   "source": [
    "print(len(df))\n",
    "df = df.dropna().drop_duplicates(['avito_id','description']).reset_index(drop=True)\n",
    "print(len(df))"
   ]
  },
  {
   "cell_type": "code",
   "execution_count": 8,
   "id": "6030b88c",
   "metadata": {},
   "outputs": [],
   "source": [
    "df['place']=place"
   ]
  },
  {
   "cell_type": "code",
   "execution_count": 9,
   "id": "6fa322a2",
   "metadata": {},
   "outputs": [],
   "source": [
    "ts = dtm.now().strftime('%Y-%m-%d_%H-%M')\n",
    "assert len(df)>0\n",
    "df.to_excel(f'{raw_data_path}/avito_{ts}_raw.xlsx',index=False)"
   ]
  },
  {
   "cell_type": "code",
   "execution_count": 10,
   "id": "bcd426ee",
   "metadata": {},
   "outputs": [
    {
     "data": {
      "text/html": [
       "<div>\n",
       "<style scoped>\n",
       "    .dataframe tbody tr th:only-of-type {\n",
       "        vertical-align: middle;\n",
       "    }\n",
       "\n",
       "    .dataframe tbody tr th {\n",
       "        vertical-align: top;\n",
       "    }\n",
       "\n",
       "    .dataframe thead th {\n",
       "        text-align: right;\n",
       "    }\n",
       "</style>\n",
       "<table border=\"1\" class=\"dataframe\">\n",
       "  <thead>\n",
       "    <tr style=\"text-align: right;\">\n",
       "      <th></th>\n",
       "      <th>avito_id</th>\n",
       "      <th>title</th>\n",
       "      <th>price</th>\n",
       "      <th>obj_name</th>\n",
       "      <th>adr</th>\n",
       "      <th>description</th>\n",
       "      <th>page</th>\n",
       "      <th>ts</th>\n",
       "      <th>place</th>\n",
       "    </tr>\n",
       "  </thead>\n",
       "  <tbody>\n",
       "    <tr>\n",
       "      <th>2232</th>\n",
       "      <td>2229269027</td>\n",
       "      <td>Объявление «2-к. квартира, 74,4 м², 2/5 эт.» 6 фотографий</td>\n",
       "      <td>9300000</td>\n",
       "      <td></td>\n",
       "      <td>ул. Военных Строителей, 12/3</td>\n",
       "      <td>Продаётся 2 комнатная квартира общей площадью 74.4кв. М. Хороший район, в пешей доступности пляж. Развитая инфраструктура. Квартира расположена на 2 этаже 5 этажного дома. Дом Сдан. Документы Российского образца, готовы к сделке. \\nПродажа возможна с исполь</td>\n",
       "      <td>52</td>\n",
       "      <td>2022-09-16 15:07:31.631801</td>\n",
       "      <td>sevastopol</td>\n",
       "    </tr>\n",
       "    <tr>\n",
       "      <th>864</th>\n",
       "      <td>2553443030</td>\n",
       "      <td>Объявление «Квартира-студия, 31,5 м², 3/9 эт.» 21 фотография</td>\n",
       "      <td>4550000</td>\n",
       "      <td></td>\n",
       "      <td>ул. Горпищенко, 139</td>\n",
       "      <td>Дом Сдан! \\n\\nСемейная Ипотека, Материнский Капитал Первым Взносом! \\nКвартира-студия на третьем этаже девятиэтажного дома в черновой отделке от застройщика. \\nПросторная и светлая, с большой лоджией. \\nВид из окна на сосновый лес! \\nВ студии установлено автоном</td>\n",
       "      <td>20</td>\n",
       "      <td>2022-09-16 15:07:31.631801</td>\n",
       "      <td>sevastopol</td>\n",
       "    </tr>\n",
       "  </tbody>\n",
       "</table>\n",
       "</div>"
      ],
      "text/plain": [
       "        avito_id  \\\n",
       "2232  2229269027   \n",
       "864   2553443030   \n",
       "\n",
       "                                                             title    price  \\\n",
       "2232     Объявление «2-к. квартира, 74,4 м², 2/5 эт.» 6 фотографий  9300000   \n",
       "864   Объявление «Квартира-студия, 31,5 м², 3/9 эт.» 21 фотография  4550000   \n",
       "\n",
       "     obj_name                           adr  \\\n",
       "2232           ул. Военных Строителей, 12/3   \n",
       "864                     ул. Горпищенко, 139   \n",
       "\n",
       "                                                                                                                                                                                                                                                                 description  \\\n",
       "2232       Продаётся 2 комнатная квартира общей площадью 74.4кв. М. Хороший район, в пешей доступности пляж. Развитая инфраструктура. Квартира расположена на 2 этаже 5 этажного дома. Дом Сдан. Документы Российского образца, готовы к сделке. \\nПродажа возможна с исполь   \n",
       "864   Дом Сдан! \\n\\nСемейная Ипотека, Материнский Капитал Первым Взносом! \\nКвартира-студия на третьем этаже девятиэтажного дома в черновой отделке от застройщика. \\nПросторная и светлая, с большой лоджией. \\nВид из окна на сосновый лес! \\nВ студии установлено автоном   \n",
       "\n",
       "      page                         ts       place  \n",
       "2232    52 2022-09-16 15:07:31.631801  sevastopol  \n",
       "864     20 2022-09-16 15:07:31.631801  sevastopol  "
      ]
     },
     "execution_count": 10,
     "metadata": {},
     "output_type": "execute_result"
    }
   ],
   "source": [
    "df.sample(2)"
   ]
  },
  {
   "cell_type": "code",
   "execution_count": null,
   "id": "fffa658b",
   "metadata": {},
   "outputs": [],
   "source": []
  }
 ],
 "metadata": {
  "kernelspec": {
   "display_name": "Python 3 (ipykernel)",
   "language": "python",
   "name": "python3"
  },
  "language_info": {
   "codemirror_mode": {
    "name": "ipython",
    "version": 3
   },
   "file_extension": ".py",
   "mimetype": "text/x-python",
   "name": "python",
   "nbconvert_exporter": "python",
   "pygments_lexer": "ipython3",
   "version": "3.10.6"
  },
  "toc": {
   "base_numbering": 1,
   "nav_menu": {},
   "number_sections": true,
   "sideBar": true,
   "skip_h1_title": false,
   "title_cell": "Table of Contents",
   "title_sidebar": "Contents",
   "toc_cell": false,
   "toc_position": {},
   "toc_section_display": true,
   "toc_window_display": false
  },
  "varInspector": {
   "cols": {
    "lenName": 16,
    "lenType": 16,
    "lenVar": 40
   },
   "kernels_config": {
    "python": {
     "delete_cmd_postfix": "",
     "delete_cmd_prefix": "del ",
     "library": "var_list.py",
     "varRefreshCmd": "print(var_dic_list())"
    },
    "r": {
     "delete_cmd_postfix": ") ",
     "delete_cmd_prefix": "rm(",
     "library": "var_list.r",
     "varRefreshCmd": "cat(var_dic_list()) "
    }
   },
   "types_to_exclude": [
    "module",
    "function",
    "builtin_function_or_method",
    "instance",
    "_Feature"
   ],
   "window_display": false
  }
 },
 "nbformat": 4,
 "nbformat_minor": 5
}
