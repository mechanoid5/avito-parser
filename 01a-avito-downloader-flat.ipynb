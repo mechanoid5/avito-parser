{
 "cells": [
  {
   "cell_type": "markdown",
   "id": "7bec28d7",
   "metadata": {},
   "source": [
    "__применение парсера объявлений авито.ru__\n",
    "\n",
    "_Evgeny S. Borisov <parser@mechanoid.su>_"
   ]
  },
  {
   "cell_type": "code",
   "execution_count": 1,
   "id": "52c5999f",
   "metadata": {},
   "outputs": [],
   "source": [
    "# !pacman -S firefox firefox-i18n-r  geckodriver\n",
    "# !pip install seleniuam"
   ]
  },
  {
   "cell_type": "code",
   "execution_count": 2,
   "id": "bcea4d8b",
   "metadata": {
    "ExecuteTime": {
     "end_time": "2022-08-26T14:19:06.118492Z",
     "start_time": "2022-08-26T14:13:37.888398Z"
    }
   },
   "outputs": [],
   "source": [
    "# import re\n",
    "import sys\n",
    "import logging\n",
    "from datetime import datetime as dtm\n",
    "from tqdm.notebook import tqdm\n",
    "import pandas as pd"
   ]
  },
  {
   "cell_type": "code",
   "execution_count": 3,
   "id": "caabc8c7",
   "metadata": {
    "ExecuteTime": {
     "end_time": "2022-08-26T14:19:06.118492Z",
     "start_time": "2022-08-26T14:13:37.888398Z"
    }
   },
   "outputs": [],
   "source": [
    "pd.set_option('display.max_colwidth', None)\n",
    "pd.set_option('display.float_format', '{:.2f}'.format)\n",
    "tqdm.pandas()\n",
    "\n",
    "logging.basicConfig(\n",
    "        format=u'[%(levelname)-8s] %(asctime)s | %(message)s',\n",
    "        datefmt='%Y-%m-%d %H:%M:%S',\n",
    "        level=logging.INFO,\n",
    "        # level=logging.DEBUG,\n",
    "        stream=sys.stdout,\n",
    "    )"
   ]
  },
  {
   "cell_type": "markdown",
   "id": "db3fe2be",
   "metadata": {},
   "source": [
    "---"
   ]
  },
  {
   "cell_type": "code",
   "execution_count": 4,
   "id": "288569b0",
   "metadata": {},
   "outputs": [],
   "source": [
    "# url = (\n",
    "# 'https://www.avito.ru/yaroslavskaya_oblast/avtomobili/chevrolet/niva'\n",
    "# '?bt=0'\n",
    "# '&i=1'\n",
    "# '&pmax=150000'\n",
    "# '&pmin=10000'\n",
    "# )"
   ]
  },
  {
   "cell_type": "code",
   "execution_count": 5,
   "id": "d437eab9",
   "metadata": {},
   "outputs": [],
   "source": [
    "profile_path = '/home/mechanoid/.mozilla/firefox/p144xo2m.default-release'\n",
    "\n",
    "base_url = 'https://www.avito.ru/'\n",
    "avito_path = 'sevastopol/kvartiry/prodam'\n",
    "\n",
    "raw_data_path = 'data/raw/flat/avito' # каталог с файлами объявлений"
   ]
  },
  {
   "cell_type": "code",
   "execution_count": 6,
   "id": "9ce138fe",
   "metadata": {},
   "outputs": [
    {
     "name": "stdout",
     "output_type": "stream",
     "text": [
      "[INFO    ] 2022-09-13 13:49:19 | DownloaderSeleniumFirefox: downloader init\n",
      "[INFO    ] 2022-09-13 13:49:19 | DownloaderSeleniumFirefox: open virtual browser\n",
      "[INFO    ] 2022-09-13 13:49:21 | AdsListParser: downloader init\n",
      "[INFO    ] 2022-09-13 13:49:21 | AvitoParser: init\n",
      "[INFO    ] 2022-09-13 13:49:27 | AvitoParser: 76 pages for read\n",
      "[INFO    ] 2022-09-13 13:49:27 | AdsListParser: start read and parse pages...\n",
      "[INFO    ] 2022-09-13 13:49:33 | AdsListParser: read page 1\n",
      "[INFO    ] 2022-09-13 13:49:37 | AdsListParser: read page 2\n",
      "[INFO    ] 2022-09-13 13:49:42 | AdsListParser: read page 3\n",
      "[INFO    ] 2022-09-13 13:49:46 | AdsListParser: read page 4\n",
      "[INFO    ] 2022-09-13 13:49:51 | AdsListParser: read page 5\n",
      "[INFO    ] 2022-09-13 13:49:57 | AdsListParser: read page 6\n",
      "[INFO    ] 2022-09-13 13:50:04 | AdsListParser: read page 7\n",
      "[INFO    ] 2022-09-13 13:50:08 | AdsListParser: read page 8\n",
      "[INFO    ] 2022-09-13 13:50:13 | AdsListParser: read page 9\n",
      "[INFO    ] 2022-09-13 13:50:18 | AdsListParser: read page 10\n",
      "[INFO    ] 2022-09-13 13:50:23 | AdsListParser: read page 11\n",
      "[INFO    ] 2022-09-13 13:50:27 | AdsListParser: read page 12\n",
      "[INFO    ] 2022-09-13 13:50:32 | AdsListParser: read page 13\n",
      "[INFO    ] 2022-09-13 13:50:37 | AdsListParser: read page 14\n",
      "[INFO    ] 2022-09-13 13:50:42 | AdsListParser: read page 15\n",
      "[INFO    ] 2022-09-13 13:50:47 | AdsListParser: read page 16\n",
      "[INFO    ] 2022-09-13 13:50:53 | AdsListParser: read page 17\n",
      "[INFO    ] 2022-09-13 13:51:00 | AdsListParser: read page 18\n",
      "[INFO    ] 2022-09-13 13:51:05 | AdsListParser: read page 19\n",
      "[INFO    ] 2022-09-13 13:51:09 | AdsListParser: read page 20\n",
      "[INFO    ] 2022-09-13 13:51:12 | AdsListParser: read page 21\n",
      "[INFO    ] 2022-09-13 13:51:18 | AdsListParser: read page 22\n",
      "[INFO    ] 2022-09-13 13:51:21 | AdsListParser: read page 23\n",
      "[INFO    ] 2022-09-13 13:51:26 | AdsListParser: read page 24\n",
      "[INFO    ] 2022-09-13 13:51:31 | AdsListParser: read page 25\n",
      "[INFO    ] 2022-09-13 13:51:36 | AdsListParser: read page 26\n",
      "[INFO    ] 2022-09-13 13:51:40 | AdsListParser: read page 27\n",
      "[INFO    ] 2022-09-13 13:51:43 | AdsListParser: read page 28\n",
      "[INFO    ] 2022-09-13 13:51:49 | AdsListParser: read page 29\n",
      "[INFO    ] 2022-09-13 13:51:53 | AdsListParser: read page 30\n",
      "[INFO    ] 2022-09-13 13:51:57 | AdsListParser: read page 31\n",
      "[INFO    ] 2022-09-13 13:52:01 | AdsListParser: read page 32\n",
      "[INFO    ] 2022-09-13 13:52:04 | AdsListParser: read page 33\n",
      "[INFO    ] 2022-09-13 13:52:07 | AdsListParser: read page 34\n",
      "[INFO    ] 2022-09-13 13:52:11 | AdsListParser: read page 35\n",
      "[INFO    ] 2022-09-13 13:52:14 | AdsListParser: read page 36\n",
      "[INFO    ] 2022-09-13 13:52:19 | AdsListParser: read page 37\n",
      "[INFO    ] 2022-09-13 13:52:23 | AdsListParser: read page 38\n",
      "[INFO    ] 2022-09-13 13:52:27 | AdsListParser: read page 39\n",
      "[INFO    ] 2022-09-13 13:52:32 | AdsListParser: read page 40\n",
      "[INFO    ] 2022-09-13 13:52:35 | AdsListParser: read page 41\n",
      "[INFO    ] 2022-09-13 13:52:40 | AdsListParser: read page 42\n",
      "[INFO    ] 2022-09-13 13:52:44 | AdsListParser: read page 43\n",
      "[INFO    ] 2022-09-13 13:52:49 | AdsListParser: read page 44\n",
      "[INFO    ] 2022-09-13 13:52:53 | AdsListParser: read page 45\n",
      "[INFO    ] 2022-09-13 13:52:57 | AdsListParser: read page 46\n",
      "[INFO    ] 2022-09-13 13:53:00 | AdsListParser: read page 47\n",
      "[INFO    ] 2022-09-13 13:53:04 | AdsListParser: read page 48\n",
      "[INFO    ] 2022-09-13 13:53:08 | AdsListParser: read page 49\n",
      "[INFO    ] 2022-09-13 13:53:12 | AdsListParser: read page 50\n",
      "[INFO    ] 2022-09-13 13:53:16 | AdsListParser: read page 51\n",
      "[INFO    ] 2022-09-13 13:53:20 | AdsListParser: read page 52\n",
      "[INFO    ] 2022-09-13 13:53:24 | AdsListParser: read page 53\n",
      "[INFO    ] 2022-09-13 13:53:28 | AdsListParser: read page 54\n",
      "[INFO    ] 2022-09-13 13:53:33 | AdsListParser: read page 55\n",
      "[INFO    ] 2022-09-13 13:53:37 | AdsListParser: read page 56\n",
      "[INFO    ] 2022-09-13 13:53:41 | AdsListParser: read page 57\n",
      "[INFO    ] 2022-09-13 13:53:44 | AdsListParser: read page 58\n",
      "[INFO    ] 2022-09-13 13:53:48 | AdsListParser: read page 59\n",
      "[INFO    ] 2022-09-13 13:53:52 | AdsListParser: read page 60\n",
      "[INFO    ] 2022-09-13 13:53:57 | AdsListParser: read page 61\n",
      "[INFO    ] 2022-09-13 13:54:03 | AdsListParser: read page 62\n",
      "[INFO    ] 2022-09-13 13:54:07 | AdsListParser: read page 63\n",
      "[INFO    ] 2022-09-13 13:54:10 | AdsListParser: read page 64\n",
      "[INFO    ] 2022-09-13 13:54:14 | AdsListParser: read page 65\n",
      "[INFO    ] 2022-09-13 13:54:17 | AdsListParser: read page 66\n",
      "[INFO    ] 2022-09-13 13:54:20 | AdsListParser: read page 67\n",
      "[INFO    ] 2022-09-13 13:54:24 | AdsListParser: read page 68\n",
      "[INFO    ] 2022-09-13 13:54:30 | AdsListParser: read page 69\n",
      "[INFO    ] 2022-09-13 13:54:36 | AdsListParser: read page 70\n",
      "[INFO    ] 2022-09-13 13:54:41 | AdsListParser: read page 71\n",
      "[INFO    ] 2022-09-13 13:54:47 | AdsListParser: read page 72\n",
      "[INFO    ] 2022-09-13 13:54:52 | AdsListParser: read page 73\n",
      "[INFO    ] 2022-09-13 13:54:56 | AdsListParser: read page 74\n",
      "[INFO    ] 2022-09-13 13:55:01 | AdsListParser: read page 75\n",
      "[INFO    ] 2022-09-13 13:55:03 | AdsListParser: read page 76\n",
      "[INFO    ] 2022-09-13 13:55:03 | AdsListParser: last page detected\n",
      "[INFO    ] 2022-09-13 13:55:03 | DownloaderSeleniumFirefox: close virtual browser\n",
      "3753\n",
      "CPU times: user 17.2 s, sys: 887 ms, total: 18.1 s\n",
      "Wall time: 5min 44s\n"
     ]
    }
   ],
   "source": [
    "%%time \n",
    "\n",
    "from lib.downloader import DownloaderSeleniumFirefox\n",
    "from lib.avito import AvitoParserRealty\n",
    "\n",
    "df,html = AvitoParserRealty(\n",
    "        base_url=base_url+'/'+avito_path,\n",
    "        driver=DownloaderSeleniumFirefox(profile_path)\n",
    "    ).load(req_param='',keep_html=True)\n",
    "\n",
    "print(len(df))"
   ]
  },
  {
   "cell_type": "code",
   "execution_count": 7,
   "id": "f8bd78d3",
   "metadata": {},
   "outputs": [
    {
     "name": "stdout",
     "output_type": "stream",
     "text": [
      "3753\n",
      "3413\n"
     ]
    }
   ],
   "source": [
    "print(len(df))\n",
    "df = df.dropna().drop_duplicates(['avito_id','description']).reset_index(drop=True)\n",
    "print(len(df))"
   ]
  },
  {
   "cell_type": "code",
   "execution_count": 8,
   "id": "6fa322a2",
   "metadata": {},
   "outputs": [],
   "source": [
    "ts = dtm.now().strftime('%Y-%m-%d_%H-%M')\n",
    "assert len(df)>0\n",
    "df.to_excel(f'{raw_data_path}/avito_{ts}_raw.xlsx',index=False)"
   ]
  },
  {
   "cell_type": "code",
   "execution_count": 9,
   "id": "bcd426ee",
   "metadata": {},
   "outputs": [
    {
     "data": {
      "text/html": [
       "<div>\n",
       "<style scoped>\n",
       "    .dataframe tbody tr th:only-of-type {\n",
       "        vertical-align: middle;\n",
       "    }\n",
       "\n",
       "    .dataframe tbody tr th {\n",
       "        vertical-align: top;\n",
       "    }\n",
       "\n",
       "    .dataframe thead th {\n",
       "        text-align: right;\n",
       "    }\n",
       "</style>\n",
       "<table border=\"1\" class=\"dataframe\">\n",
       "  <thead>\n",
       "    <tr style=\"text-align: right;\">\n",
       "      <th></th>\n",
       "      <th>avito_id</th>\n",
       "      <th>title</th>\n",
       "      <th>price</th>\n",
       "      <th>obj_name</th>\n",
       "      <th>adr</th>\n",
       "      <th>description</th>\n",
       "      <th>page</th>\n",
       "      <th>ts</th>\n",
       "    </tr>\n",
       "  </thead>\n",
       "  <tbody>\n",
       "    <tr>\n",
       "      <th>534</th>\n",
       "      <td>2489621730</td>\n",
       "      <td>Объявление «1-к. квартира, 33 м², 4/5 эт.» 14 фотографий</td>\n",
       "      <td>6000000</td>\n",
       "      <td></td>\n",
       "      <td>ул. Александра Шостака, 1</td>\n",
       "      <td>Однокомнатная квартира 33 м2, на 4/5 этаже дома. Расположена в г. Севастополь, Гагаринский район, ул. Александра Шостака, д. 1. \\n\\nКвартира будет идеальным решением для большой семьи. \\n\\nПозвоните нам, чтобы узнать все детали! \\n\\nТехнические характеристики: \\n</td>\n",
       "      <td>12</td>\n",
       "      <td>2022-09-13 13:55:03.078825</td>\n",
       "    </tr>\n",
       "    <tr>\n",
       "      <th>653</th>\n",
       "      <td>2441833498</td>\n",
       "      <td>Объявление «2-к. апартаменты, 45 м², 1/1 эт.» 18 фотографий</td>\n",
       "      <td>7500000</td>\n",
       "      <td></td>\n",
       "      <td>с. Орловка, Качинское ш., 33Б</td>\n",
       "      <td>Мечтаете о собственном уголке на берегу моря? А может Вы ищете готовый бизнес? Эти апартаменты то, что подойдет именно Вам! \\n\\nПросторные апартаменты в семейном комплексе «Звездный Берег». На территории в 9 гектар, которая утопает в зелени есть все необходи</td>\n",
       "      <td>15</td>\n",
       "      <td>2022-09-13 13:55:03.078825</td>\n",
       "    </tr>\n",
       "  </tbody>\n",
       "</table>\n",
       "</div>"
      ],
      "text/plain": [
       "       avito_id                                                        title  \\\n",
       "534  2489621730     Объявление «1-к. квартира, 33 м², 4/5 эт.» 14 фотографий   \n",
       "653  2441833498  Объявление «2-к. апартаменты, 45 м², 1/1 эт.» 18 фотографий   \n",
       "\n",
       "       price obj_name                            adr  \\\n",
       "534  6000000               ул. Александра Шостака, 1   \n",
       "653  7500000           с. Орловка, Качинское ш., 33Б   \n",
       "\n",
       "                                                                                                                                                                                                                                                                 description  \\\n",
       "534  Однокомнатная квартира 33 м2, на 4/5 этаже дома. Расположена в г. Севастополь, Гагаринский район, ул. Александра Шостака, д. 1. \\n\\nКвартира будет идеальным решением для большой семьи. \\n\\nПозвоните нам, чтобы узнать все детали! \\n\\nТехнические характеристики: \\n   \n",
       "653       Мечтаете о собственном уголке на берегу моря? А может Вы ищете готовый бизнес? Эти апартаменты то, что подойдет именно Вам! \\n\\nПросторные апартаменты в семейном комплексе «Звездный Берег». На территории в 9 гектар, которая утопает в зелени есть все необходи   \n",
       "\n",
       "     page                         ts  \n",
       "534    12 2022-09-13 13:55:03.078825  \n",
       "653    15 2022-09-13 13:55:03.078825  "
      ]
     },
     "execution_count": 9,
     "metadata": {},
     "output_type": "execute_result"
    }
   ],
   "source": [
    "df.sample(2)"
   ]
  },
  {
   "cell_type": "code",
   "execution_count": null,
   "id": "fffa658b",
   "metadata": {},
   "outputs": [],
   "source": []
  }
 ],
 "metadata": {
  "kernelspec": {
   "display_name": "Python 3 (ipykernel)",
   "language": "python",
   "name": "python3"
  },
  "language_info": {
   "codemirror_mode": {
    "name": "ipython",
    "version": 3
   },
   "file_extension": ".py",
   "mimetype": "text/x-python",
   "name": "python",
   "nbconvert_exporter": "python",
   "pygments_lexer": "ipython3",
   "version": "3.10.6"
  },
  "toc": {
   "base_numbering": 1,
   "nav_menu": {},
   "number_sections": true,
   "sideBar": true,
   "skip_h1_title": false,
   "title_cell": "Table of Contents",
   "title_sidebar": "Contents",
   "toc_cell": false,
   "toc_position": {},
   "toc_section_display": true,
   "toc_window_display": false
  },
  "varInspector": {
   "cols": {
    "lenName": 16,
    "lenType": 16,
    "lenVar": 40
   },
   "kernels_config": {
    "python": {
     "delete_cmd_postfix": "",
     "delete_cmd_prefix": "del ",
     "library": "var_list.py",
     "varRefreshCmd": "print(var_dic_list())"
    },
    "r": {
     "delete_cmd_postfix": ") ",
     "delete_cmd_prefix": "rm(",
     "library": "var_list.r",
     "varRefreshCmd": "cat(var_dic_list()) "
    }
   },
   "types_to_exclude": [
    "module",
    "function",
    "builtin_function_or_method",
    "instance",
    "_Feature"
   ],
   "window_display": false
  }
 },
 "nbformat": 4,
 "nbformat_minor": 5
}
