{
 "cells": [
  {
   "cell_type": "markdown",
   "id": "7bec28d7",
   "metadata": {},
   "source": [
    "__качаем объявления о продаже квартир с авито.ru__\n",
    "\n",
    "_Evgeny S. Borisov <parser@mechanoid.su>_"
   ]
  },
  {
   "cell_type": "code",
   "execution_count": 1,
   "id": "52c5999f",
   "metadata": {},
   "outputs": [],
   "source": [
    "# !pacman -S firefox firefox-i18n-r  geckodriver\n",
    "# !pip install seleniuam"
   ]
  },
  {
   "cell_type": "code",
   "execution_count": 2,
   "id": "bcea4d8b",
   "metadata": {
    "ExecuteTime": {
     "end_time": "2022-08-26T14:19:06.118492Z",
     "start_time": "2022-08-26T14:13:37.888398Z"
    }
   },
   "outputs": [],
   "source": [
    "# import re\n",
    "import sys\n",
    "import logging\n",
    "from datetime import datetime as dtm\n",
    "from tqdm.notebook import tqdm\n",
    "import pandas as pd"
   ]
  },
  {
   "cell_type": "code",
   "execution_count": 3,
   "id": "caabc8c7",
   "metadata": {
    "ExecuteTime": {
     "end_time": "2022-08-26T14:19:06.118492Z",
     "start_time": "2022-08-26T14:13:37.888398Z"
    }
   },
   "outputs": [],
   "source": [
    "pd.set_option('display.max_colwidth', None)\n",
    "pd.set_option('display.float_format', '{:.2f}'.format)\n",
    "tqdm.pandas()\n",
    "\n",
    "logging.basicConfig(\n",
    "        format=u'[%(levelname)-8s] %(asctime)s | %(message)s',\n",
    "        datefmt='%Y-%m-%d %H:%M:%S',\n",
    "        level=logging.INFO,\n",
    "        # level=logging.DEBUG,\n",
    "        stream=sys.stdout,\n",
    "    )"
   ]
  },
  {
   "cell_type": "markdown",
   "id": "db3fe2be",
   "metadata": {},
   "source": [
    "---"
   ]
  },
  {
   "cell_type": "code",
   "execution_count": 4,
   "id": "288569b0",
   "metadata": {},
   "outputs": [],
   "source": [
    "# url = (\n",
    "# 'https://www.avito.ru/yaroslavskaya_oblast/avtomobili/chevrolet/niva'\n",
    "# '?bt=0'\n",
    "# '&i=1'\n",
    "# '&pmax=150000'\n",
    "# '&pmin=10000'\n",
    "# )"
   ]
  },
  {
   "cell_type": "code",
   "execution_count": 5,
   "id": "d437eab9",
   "metadata": {},
   "outputs": [],
   "source": [
    "profile_path = '/home/mechanoid/.mozilla/firefox/p144xo2m.default-release'\n",
    "\n",
    "base_url = 'https://www.avito.ru/'\n",
    "place = 'sevastopol'\n",
    "avito_path = place+'/kvartiry/prodam'\n",
    "\n",
    "raw_data_path = 'data/raw/flat/avito' # каталог с файлами объявлений"
   ]
  },
  {
   "cell_type": "code",
   "execution_count": 6,
   "id": "9ce138fe",
   "metadata": {},
   "outputs": [
    {
     "name": "stdout",
     "output_type": "stream",
     "text": [
      "[INFO    ] 2022-11-04 17:05:46 | DownloaderSeleniumFirefox: downloader init\n",
      "[INFO    ] 2022-11-04 17:05:46 | DownloaderSeleniumFirefox: open virtual browser\n",
      "[INFO    ] 2022-11-04 17:05:49 | AdsListParser: downloader init\n",
      "[INFO    ] 2022-11-04 17:05:49 | AvitoParser: init\n",
      "[INFO    ] 2022-11-04 17:05:53 | AvitoParser: 73 pages for read\n",
      "[INFO    ] 2022-11-04 17:05:53 | AdsListParser: start read and parse pages...\n",
      "[INFO    ] 2022-11-04 17:05:55 | AdsListParser: read page 1\n",
      "[INFO    ] 2022-11-04 17:05:58 | AdsListParser: read page 2\n",
      "[INFO    ] 2022-11-04 17:06:00 | AdsListParser: read page 3\n",
      "[INFO    ] 2022-11-04 17:06:03 | AdsListParser: read page 4\n",
      "[INFO    ] 2022-11-04 17:07:03 | AdsListParser: read page 5\n",
      "[INFO    ] 2022-11-04 17:07:08 | AdsListParser: read page 6\n",
      "[INFO    ] 2022-11-04 17:07:11 | AdsListParser: read page 7\n",
      "[INFO    ] 2022-11-04 17:07:14 | AdsListParser: read page 8\n",
      "[INFO    ] 2022-11-04 17:07:16 | AdsListParser: read page 9\n",
      "[INFO    ] 2022-11-04 17:07:19 | AdsListParser: read page 10\n",
      "[INFO    ] 2022-11-04 17:07:22 | AdsListParser: read page 11\n",
      "[INFO    ] 2022-11-04 17:07:26 | AdsListParser: read page 12\n",
      "[INFO    ] 2022-11-04 17:07:29 | AdsListParser: read page 13\n",
      "[INFO    ] 2022-11-04 17:07:32 | AdsListParser: read page 14\n",
      "[INFO    ] 2022-11-04 17:07:35 | AdsListParser: read page 15\n",
      "[INFO    ] 2022-11-04 17:07:38 | AdsListParser: read page 16\n",
      "[INFO    ] 2022-11-04 17:07:41 | AdsListParser: read page 17\n",
      "[INFO    ] 2022-11-04 17:07:43 | AdsListParser: read page 18\n",
      "[INFO    ] 2022-11-04 17:07:45 | AdsListParser: read page 19\n",
      "[INFO    ] 2022-11-04 17:07:48 | AdsListParser: read page 20\n",
      "[INFO    ] 2022-11-04 17:07:52 | AdsListParser: read page 21\n",
      "[INFO    ] 2022-11-04 17:07:56 | AdsListParser: read page 22\n",
      "[INFO    ] 2022-11-04 17:07:59 | AdsListParser: read page 23\n",
      "[INFO    ] 2022-11-04 17:08:01 | AdsListParser: read page 24\n",
      "[INFO    ] 2022-11-04 17:08:04 | AdsListParser: read page 25\n",
      "[INFO    ] 2022-11-04 17:08:06 | AdsListParser: read page 26\n",
      "[INFO    ] 2022-11-04 17:08:12 | AdsListParser: read page 27\n",
      "[INFO    ] 2022-11-04 17:08:14 | AdsListParser: read page 28\n",
      "[INFO    ] 2022-11-04 17:08:16 | AdsListParser: read page 29\n",
      "[INFO    ] 2022-11-04 17:08:20 | AdsListParser: read page 30\n",
      "[INFO    ] 2022-11-04 17:08:23 | AdsListParser: read page 31\n",
      "[INFO    ] 2022-11-04 17:08:25 | AdsListParser: read page 32\n",
      "[INFO    ] 2022-11-04 17:08:28 | AdsListParser: read page 33\n",
      "[INFO    ] 2022-11-04 17:08:30 | AdsListParser: read page 34\n",
      "[INFO    ] 2022-11-04 17:08:33 | AdsListParser: read page 35\n",
      "[INFO    ] 2022-11-04 17:08:36 | AdsListParser: read page 36\n",
      "[INFO    ] 2022-11-04 17:08:39 | AdsListParser: read page 37\n",
      "[INFO    ] 2022-11-04 17:08:44 | AdsListParser: read page 38\n",
      "[INFO    ] 2022-11-04 17:08:47 | AdsListParser: read page 39\n",
      "[INFO    ] 2022-11-04 17:08:49 | AdsListParser: read page 40\n",
      "[INFO    ] 2022-11-04 17:08:52 | AdsListParser: read page 41\n",
      "[INFO    ] 2022-11-04 17:08:55 | AdsListParser: read page 42\n",
      "[INFO    ] 2022-11-04 17:08:59 | AdsListParser: read page 43\n",
      "[INFO    ] 2022-11-04 17:09:02 | AdsListParser: read page 44\n",
      "[INFO    ] 2022-11-04 17:09:10 | AdsListParser: read page 45\n",
      "[INFO    ] 2022-11-04 17:09:13 | AdsListParser: read page 46\n",
      "[INFO    ] 2022-11-04 17:09:15 | AdsListParser: read page 47\n",
      "[INFO    ] 2022-11-04 17:09:17 | AdsListParser: read page 48\n",
      "[INFO    ] 2022-11-04 17:09:20 | AdsListParser: read page 49\n",
      "[INFO    ] 2022-11-04 17:09:22 | AdsListParser: read page 50\n",
      "[INFO    ] 2022-11-04 17:09:25 | AdsListParser: read page 51\n",
      "[INFO    ] 2022-11-04 17:09:28 | AdsListParser: read page 52\n",
      "[INFO    ] 2022-11-04 17:09:31 | AdsListParser: read page 53\n",
      "[INFO    ] 2022-11-04 17:09:34 | AdsListParser: read page 54\n",
      "[INFO    ] 2022-11-04 17:09:38 | AdsListParser: read page 55\n",
      "[INFO    ] 2022-11-04 17:09:41 | AdsListParser: read page 56\n",
      "[INFO    ] 2022-11-04 17:09:44 | AdsListParser: read page 57\n",
      "[INFO    ] 2022-11-04 17:09:46 | AdsListParser: read page 58\n",
      "[INFO    ] 2022-11-04 17:09:48 | AdsListParser: read page 59\n",
      "[INFO    ] 2022-11-04 17:09:52 | AdsListParser: read page 60\n",
      "[INFO    ] 2022-11-04 17:10:52 | AdsListParser: read page 61\n",
      "[INFO    ] 2022-11-04 17:10:55 | AdsListParser: read page 62\n",
      "[INFO    ] 2022-11-04 17:10:57 | AdsListParser: read page 63\n",
      "[INFO    ] 2022-11-04 17:11:01 | AdsListParser: read page 64\n",
      "[INFO    ] 2022-11-04 17:11:05 | AdsListParser: read page 65\n",
      "[INFO    ] 2022-11-04 17:11:08 | AdsListParser: read page 66\n",
      "[INFO    ] 2022-11-04 17:11:10 | AdsListParser: read page 67\n",
      "[INFO    ] 2022-11-04 17:11:13 | AdsListParser: read page 68\n",
      "[INFO    ] 2022-11-04 17:11:16 | AdsListParser: read page 69\n",
      "[INFO    ] 2022-11-04 17:11:19 | AdsListParser: read page 70\n",
      "[INFO    ] 2022-11-04 17:11:22 | AdsListParser: read page 71\n",
      "[INFO    ] 2022-11-04 17:11:26 | AdsListParser: read page 72\n",
      "[INFO    ] 2022-11-04 17:11:28 | AdsListParser: read page 73\n",
      "[INFO    ] 2022-11-04 17:11:28 | AdsListParser: last page detected\n",
      "[INFO    ] 2022-11-04 17:11:29 | DownloaderSeleniumFirefox: close virtual browser\n",
      "3526\n",
      "CPU times: user 15 s, sys: 726 ms, total: 15.8 s\n",
      "Wall time: 5min 43s\n"
     ]
    }
   ],
   "source": [
    "%%time \n",
    "\n",
    "from lib.downloader import DownloaderSeleniumFirefox\n",
    "from lib.avito import AvitoParserRealty\n",
    "\n",
    "df,html = AvitoParserRealty(\n",
    "        base_url=base_url+'/'+avito_path,\n",
    "        driver=DownloaderSeleniumFirefox(profile_path)\n",
    "    ).load(req_param='',keep_html=True)\n",
    "\n",
    "print(len(df))"
   ]
  },
  {
   "cell_type": "code",
   "execution_count": 7,
   "id": "f8bd78d3",
   "metadata": {},
   "outputs": [
    {
     "name": "stdout",
     "output_type": "stream",
     "text": [
      "3526\n",
      "3144\n"
     ]
    }
   ],
   "source": [
    "print(len(df))\n",
    "df = df.dropna().drop_duplicates(['avito_id','description']).reset_index(drop=True)\n",
    "print(len(df))"
   ]
  },
  {
   "cell_type": "code",
   "execution_count": 8,
   "id": "6030b88c",
   "metadata": {},
   "outputs": [],
   "source": [
    "df['place']=place"
   ]
  },
  {
   "cell_type": "code",
   "execution_count": 9,
   "id": "6fa322a2",
   "metadata": {},
   "outputs": [],
   "source": [
    "ts = dtm.now().strftime('%Y-%m-%d_%H-%M')\n",
    "assert len(df)>0\n",
    "df.to_excel(f'{raw_data_path}/avito_{ts}_raw.xlsx',index=False)"
   ]
  },
  {
   "cell_type": "code",
   "execution_count": 10,
   "id": "bcd426ee",
   "metadata": {},
   "outputs": [
    {
     "data": {
      "text/html": [
       "<div>\n",
       "<style scoped>\n",
       "    .dataframe tbody tr th:only-of-type {\n",
       "        vertical-align: middle;\n",
       "    }\n",
       "\n",
       "    .dataframe tbody tr th {\n",
       "        vertical-align: top;\n",
       "    }\n",
       "\n",
       "    .dataframe thead th {\n",
       "        text-align: right;\n",
       "    }\n",
       "</style>\n",
       "<table border=\"1\" class=\"dataframe\">\n",
       "  <thead>\n",
       "    <tr style=\"text-align: right;\">\n",
       "      <th></th>\n",
       "      <th>avito_id</th>\n",
       "      <th>title</th>\n",
       "      <th>price</th>\n",
       "      <th>obj_name</th>\n",
       "      <th>adr</th>\n",
       "      <th>description</th>\n",
       "      <th>page</th>\n",
       "      <th>ts</th>\n",
       "      <th>place</th>\n",
       "    </tr>\n",
       "  </thead>\n",
       "  <tbody>\n",
       "    <tr>\n",
       "      <th>2344</th>\n",
       "      <td>2481726125</td>\n",
       "      <td>Объявление «1-к. квартира, 44 м², 3/7 эт.» 11 фотографий</td>\n",
       "      <td>6700000</td>\n",
       "      <td></td>\n",
       "      <td>ул. Вакуленчука, 28</td>\n",
       "      <td>Продается 1-комнатная квартира от застройщика без комиссии. Дом сдан в эксплуатацию. В доме есть вход с двух сторон. Рядом остановка «Студгородок», торговые центры «Лаванда», «Муссон», «Ниагара». Тихий двор с детскими площадками и тренажерами. Рядом парк.</td>\n",
       "      <td>54</td>\n",
       "      <td>2022-11-04 17:11:28.840961</td>\n",
       "      <td>sevastopol</td>\n",
       "    </tr>\n",
       "    <tr>\n",
       "      <th>2533</th>\n",
       "      <td>2523569420</td>\n",
       "      <td>Объявление «1-к. квартира, 31 м², 4/5 эт.» с фотографией</td>\n",
       "      <td>4600000</td>\n",
       "      <td></td>\n",
       "      <td>пос. городского типа Кача, ул. Авиаторов, 17</td>\n",
       "      <td>Продаётся однакомнатная квартира. \\nТребует капитального ремонта. При необходимости, окажем услуги по отделочным работам под ключ. Просмотр в любое время по предварительной договорённости.</td>\n",
       "      <td>58</td>\n",
       "      <td>2022-11-04 17:11:28.840961</td>\n",
       "      <td>sevastopol</td>\n",
       "    </tr>\n",
       "  </tbody>\n",
       "</table>\n",
       "</div>"
      ],
      "text/plain": [
       "        avito_id                                                     title  \\\n",
       "2344  2481726125  Объявление «1-к. квартира, 44 м², 3/7 эт.» 11 фотографий   \n",
       "2533  2523569420  Объявление «1-к. квартира, 31 м², 4/5 эт.» с фотографией   \n",
       "\n",
       "        price obj_name                                           adr  \\\n",
       "2344  6700000                                    ул. Вакуленчука, 28   \n",
       "2533  4600000           пос. городского типа Кача, ул. Авиаторов, 17   \n",
       "\n",
       "                                                                                                                                                                                                                                                           description  \\\n",
       "2344  Продается 1-комнатная квартира от застройщика без комиссии. Дом сдан в эксплуатацию. В доме есть вход с двух сторон. Рядом остановка «Студгородок», торговые центры «Лаванда», «Муссон», «Ниагара». Тихий двор с детскими площадками и тренажерами. Рядом парк.    \n",
       "2533                                                                      Продаётся однакомнатная квартира. \\nТребует капитального ремонта. При необходимости, окажем услуги по отделочным работам под ключ. Просмотр в любое время по предварительной договорённости.   \n",
       "\n",
       "      page                         ts       place  \n",
       "2344    54 2022-11-04 17:11:28.840961  sevastopol  \n",
       "2533    58 2022-11-04 17:11:28.840961  sevastopol  "
      ]
     },
     "execution_count": 10,
     "metadata": {},
     "output_type": "execute_result"
    }
   ],
   "source": [
    "df.sample(2)"
   ]
  },
  {
   "cell_type": "code",
   "execution_count": 11,
   "id": "fffa658b",
   "metadata": {},
   "outputs": [],
   "source": [
    "# !pip install dash_table"
   ]
  },
  {
   "cell_type": "code",
   "execution_count": null,
   "id": "6edacf3c",
   "metadata": {},
   "outputs": [],
   "source": []
  }
 ],
 "metadata": {
  "kernelspec": {
   "display_name": "Python 3 (ipykernel)",
   "language": "python",
   "name": "python3"
  },
  "language_info": {
   "codemirror_mode": {
    "name": "ipython",
    "version": 3
   },
   "file_extension": ".py",
   "mimetype": "text/x-python",
   "name": "python",
   "nbconvert_exporter": "python",
   "pygments_lexer": "ipython3",
   "version": "3.10.8"
  },
  "toc": {
   "base_numbering": 1,
   "nav_menu": {},
   "number_sections": true,
   "sideBar": true,
   "skip_h1_title": false,
   "title_cell": "Table of Contents",
   "title_sidebar": "Contents",
   "toc_cell": false,
   "toc_position": {},
   "toc_section_display": true,
   "toc_window_display": false
  },
  "varInspector": {
   "cols": {
    "lenName": 16,
    "lenType": 16,
    "lenVar": 40
   },
   "kernels_config": {
    "python": {
     "delete_cmd_postfix": "",
     "delete_cmd_prefix": "del ",
     "library": "var_list.py",
     "varRefreshCmd": "print(var_dic_list())"
    },
    "r": {
     "delete_cmd_postfix": ") ",
     "delete_cmd_prefix": "rm(",
     "library": "var_list.r",
     "varRefreshCmd": "cat(var_dic_list()) "
    }
   },
   "types_to_exclude": [
    "module",
    "function",
    "builtin_function_or_method",
    "instance",
    "_Feature"
   ],
   "window_display": false
  }
 },
 "nbformat": 4,
 "nbformat_minor": 5
}
