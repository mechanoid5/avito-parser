{
 "cells": [
  {
   "cell_type": "markdown",
   "id": "7bec28d7",
   "metadata": {},
   "source": [
    "__качаем объявления о продаже квартир с авито.ru__\n",
    "\n",
    "_Evgeny S. Borisov <parser@mechanoid.su>_"
   ]
  },
  {
   "cell_type": "code",
   "execution_count": 1,
   "id": "52c5999f",
   "metadata": {},
   "outputs": [],
   "source": [
    "# !pacman -S firefox firefox-i18n-r  geckodriver\n",
    "# !pip install seleniuam"
   ]
  },
  {
   "cell_type": "code",
   "execution_count": 2,
   "id": "bcea4d8b",
   "metadata": {
    "ExecuteTime": {
     "end_time": "2022-08-26T14:19:06.118492Z",
     "start_time": "2022-08-26T14:13:37.888398Z"
    }
   },
   "outputs": [],
   "source": [
    "# import re\n",
    "import sys\n",
    "import logging\n",
    "from datetime import datetime as dtm\n",
    "from tqdm.notebook import tqdm\n",
    "import pandas as pd"
   ]
  },
  {
   "cell_type": "code",
   "execution_count": 3,
   "id": "caabc8c7",
   "metadata": {
    "ExecuteTime": {
     "end_time": "2022-08-26T14:19:06.118492Z",
     "start_time": "2022-08-26T14:13:37.888398Z"
    }
   },
   "outputs": [],
   "source": [
    "pd.set_option('display.max_colwidth', None)\n",
    "pd.set_option('display.float_format', '{:.2f}'.format)\n",
    "tqdm.pandas()\n",
    "\n",
    "logging.basicConfig(\n",
    "        format=u'[%(levelname)-8s] %(asctime)s | %(message)s',\n",
    "        datefmt='%Y-%m-%d %H:%M:%S',\n",
    "        level=logging.INFO,\n",
    "        # level=logging.DEBUG,\n",
    "        stream=sys.stdout,\n",
    "    )"
   ]
  },
  {
   "cell_type": "markdown",
   "id": "db3fe2be",
   "metadata": {},
   "source": [
    "---"
   ]
  },
  {
   "cell_type": "code",
   "execution_count": 4,
   "id": "288569b0",
   "metadata": {},
   "outputs": [],
   "source": [
    "# url = (\n",
    "# 'https://www.avito.ru/yaroslavskaya_oblast/avtomobili/chevrolet/niva'\n",
    "# '?bt=0'\n",
    "# '&i=1'\n",
    "# '&pmax=150000'\n",
    "# '&pmin=10000'\n",
    "# )"
   ]
  },
  {
   "cell_type": "code",
   "execution_count": 5,
   "id": "d437eab9",
   "metadata": {},
   "outputs": [],
   "source": [
    "profile_path = '/home/mechanoid/.mozilla/firefox/p144xo2m.default-release'\n",
    "\n",
    "base_url = 'https://www.avito.ru/'\n",
    "place = 'sevastopol'\n",
    "avito_path = place+'/kvartiry/prodam'\n",
    "\n",
    "raw_data_path = 'data/raw/flat/avito' # каталог с файлами объявлений"
   ]
  },
  {
   "cell_type": "code",
   "execution_count": 6,
   "id": "9ce138fe",
   "metadata": {},
   "outputs": [
    {
     "name": "stdout",
     "output_type": "stream",
     "text": [
      "[INFO    ] 2022-09-22 09:43:28 | DownloaderSeleniumFirefox: downloader init\n",
      "[INFO    ] 2022-09-22 09:43:28 | DownloaderSeleniumFirefox: open virtual browser\n",
      "[INFO    ] 2022-09-22 09:43:31 | AdsListParser: downloader init\n",
      "[INFO    ] 2022-09-22 09:43:31 | AvitoParser: init\n",
      "[INFO    ] 2022-09-22 09:43:37 | AvitoParser: 78 pages for read\n",
      "[INFO    ] 2022-09-22 09:43:37 | AdsListParser: start read and parse pages...\n",
      "[INFO    ] 2022-09-22 09:43:41 | AdsListParser: read page 1\n",
      "[INFO    ] 2022-09-22 09:43:44 | AdsListParser: read page 2\n",
      "[INFO    ] 2022-09-22 09:43:48 | AdsListParser: read page 3\n",
      "[INFO    ] 2022-09-22 09:43:51 | AdsListParser: read page 4\n",
      "[INFO    ] 2022-09-22 09:43:55 | AdsListParser: read page 5\n",
      "[INFO    ] 2022-09-22 09:44:00 | AdsListParser: read page 6\n",
      "[INFO    ] 2022-09-22 09:44:04 | AdsListParser: read page 7\n",
      "[INFO    ] 2022-09-22 09:44:09 | AdsListParser: read page 8\n",
      "[INFO    ] 2022-09-22 09:44:14 | AdsListParser: read page 9\n",
      "[INFO    ] 2022-09-22 09:44:18 | AdsListParser: read page 10\n",
      "[INFO    ] 2022-09-22 09:44:21 | AdsListParser: read page 11\n",
      "[INFO    ] 2022-09-22 09:44:24 | AdsListParser: read page 12\n",
      "[INFO    ] 2022-09-22 09:44:27 | AdsListParser: read page 13\n",
      "[INFO    ] 2022-09-22 09:44:31 | AdsListParser: read page 14\n",
      "[INFO    ] 2022-09-22 09:44:34 | AdsListParser: read page 15\n",
      "[INFO    ] 2022-09-22 09:44:38 | AdsListParser: read page 16\n",
      "[INFO    ] 2022-09-22 09:44:42 | AdsListParser: read page 17\n",
      "[INFO    ] 2022-09-22 09:44:47 | AdsListParser: read page 18\n",
      "[INFO    ] 2022-09-22 09:44:50 | AdsListParser: read page 19\n",
      "[INFO    ] 2022-09-22 09:44:59 | AdsListParser: read page 20\n",
      "[INFO    ] 2022-09-22 09:45:03 | AdsListParser: read page 21\n",
      "[INFO    ] 2022-09-22 09:45:06 | AdsListParser: read page 22\n",
      "[INFO    ] 2022-09-22 09:45:11 | AdsListParser: read page 23\n",
      "[INFO    ] 2022-09-22 09:45:15 | AdsListParser: read page 24\n",
      "[INFO    ] 2022-09-22 09:45:19 | AdsListParser: read page 25\n",
      "[INFO    ] 2022-09-22 09:45:22 | AdsListParser: read page 26\n",
      "[INFO    ] 2022-09-22 09:45:26 | AdsListParser: read page 27\n",
      "[INFO    ] 2022-09-22 09:45:29 | AdsListParser: read page 28\n",
      "[INFO    ] 2022-09-22 09:45:33 | AdsListParser: read page 29\n",
      "[INFO    ] 2022-09-22 09:45:36 | AdsListParser: read page 30\n",
      "[INFO    ] 2022-09-22 09:45:39 | AdsListParser: read page 31\n",
      "[INFO    ] 2022-09-22 09:45:43 | AdsListParser: read page 32\n",
      "[INFO    ] 2022-09-22 09:45:48 | AdsListParser: read page 33\n",
      "[INFO    ] 2022-09-22 09:45:51 | AdsListParser: read page 34\n",
      "[INFO    ] 2022-09-22 09:45:54 | AdsListParser: read page 35\n",
      "[INFO    ] 2022-09-22 09:45:57 | AdsListParser: read page 36\n",
      "[INFO    ] 2022-09-22 09:46:00 | AdsListParser: read page 37\n",
      "[INFO    ] 2022-09-22 09:46:03 | AdsListParser: read page 38\n",
      "[INFO    ] 2022-09-22 09:46:07 | AdsListParser: read page 39\n",
      "[INFO    ] 2022-09-22 09:46:10 | AdsListParser: read page 40\n",
      "[INFO    ] 2022-09-22 09:46:13 | AdsListParser: read page 41\n",
      "[INFO    ] 2022-09-22 09:46:16 | AdsListParser: read page 42\n",
      "[INFO    ] 2022-09-22 09:46:19 | AdsListParser: read page 43\n",
      "[INFO    ] 2022-09-22 09:46:24 | AdsListParser: read page 44\n",
      "[INFO    ] 2022-09-22 09:46:29 | AdsListParser: read page 45\n",
      "[INFO    ] 2022-09-22 09:46:33 | AdsListParser: read page 46\n",
      "[INFO    ] 2022-09-22 09:46:37 | AdsListParser: read page 47\n",
      "[INFO    ] 2022-09-22 09:46:40 | AdsListParser: read page 48\n",
      "[INFO    ] 2022-09-22 09:46:43 | AdsListParser: read page 49\n",
      "[INFO    ] 2022-09-22 09:46:47 | AdsListParser: read page 50\n",
      "[INFO    ] 2022-09-22 09:46:54 | AdsListParser: read page 51\n",
      "[INFO    ] 2022-09-22 09:46:59 | AdsListParser: read page 52\n",
      "[INFO    ] 2022-09-22 09:47:03 | AdsListParser: read page 53\n",
      "[INFO    ] 2022-09-22 09:47:07 | AdsListParser: read page 54\n",
      "[INFO    ] 2022-09-22 09:47:13 | AdsListParser: read page 55\n",
      "[INFO    ] 2022-09-22 09:47:17 | AdsListParser: read page 56\n",
      "[INFO    ] 2022-09-22 09:47:20 | AdsListParser: read page 57\n",
      "[INFO    ] 2022-09-22 09:47:24 | AdsListParser: read page 58\n",
      "[INFO    ] 2022-09-22 09:47:28 | AdsListParser: read page 59\n",
      "[INFO    ] 2022-09-22 09:47:32 | AdsListParser: read page 60\n",
      "[INFO    ] 2022-09-22 09:47:36 | AdsListParser: read page 61\n",
      "[INFO    ] 2022-09-22 09:47:39 | AdsListParser: read page 62\n",
      "[INFO    ] 2022-09-22 09:47:42 | AdsListParser: read page 63\n",
      "[INFO    ] 2022-09-22 09:47:45 | AdsListParser: read page 64\n",
      "[INFO    ] 2022-09-22 09:47:50 | AdsListParser: read page 65\n",
      "[INFO    ] 2022-09-22 09:47:53 | AdsListParser: read page 66\n",
      "[INFO    ] 2022-09-22 09:47:56 | AdsListParser: read page 67\n",
      "[INFO    ] 2022-09-22 09:47:59 | AdsListParser: read page 68\n",
      "[INFO    ] 2022-09-22 09:48:02 | AdsListParser: read page 69\n",
      "[INFO    ] 2022-09-22 09:48:06 | AdsListParser: read page 70\n",
      "[INFO    ] 2022-09-22 09:48:09 | AdsListParser: read page 71\n",
      "[INFO    ] 2022-09-22 09:48:13 | AdsListParser: read page 72\n",
      "[INFO    ] 2022-09-22 09:48:17 | AdsListParser: read page 73\n",
      "[INFO    ] 2022-09-22 09:48:19 | AdsListParser: read page 74\n",
      "[INFO    ] 2022-09-22 09:48:24 | AdsListParser: read page 75\n",
      "[INFO    ] 2022-09-22 09:48:29 | AdsListParser: read page 76\n",
      "[INFO    ] 2022-09-22 09:48:32 | AdsListParser: read page 77\n",
      "[INFO    ] 2022-09-22 09:48:34 | AdsListParser: read page 78\n",
      "[INFO    ] 2022-09-22 09:48:34 | AdsListParser: last page detected\n",
      "[INFO    ] 2022-09-22 09:48:34 | DownloaderSeleniumFirefox: close virtual browser\n",
      "3867\n",
      "CPU times: user 17.4 s, sys: 826 ms, total: 18.3 s\n",
      "Wall time: 5min 6s\n"
     ]
    }
   ],
   "source": [
    "%%time \n",
    "\n",
    "from lib.downloader import DownloaderSeleniumFirefox\n",
    "from lib.avito import AvitoParserRealty\n",
    "\n",
    "df,html = AvitoParserRealty(\n",
    "        base_url=base_url+'/'+avito_path,\n",
    "        driver=DownloaderSeleniumFirefox(profile_path)\n",
    "    ).load(req_param='',keep_html=True)\n",
    "\n",
    "print(len(df))"
   ]
  },
  {
   "cell_type": "code",
   "execution_count": 7,
   "id": "f8bd78d3",
   "metadata": {},
   "outputs": [
    {
     "name": "stdout",
     "output_type": "stream",
     "text": [
      "3867\n",
      "3631\n"
     ]
    }
   ],
   "source": [
    "print(len(df))\n",
    "df = df.dropna().drop_duplicates(['avito_id','description']).reset_index(drop=True)\n",
    "print(len(df))"
   ]
  },
  {
   "cell_type": "code",
   "execution_count": 8,
   "id": "6030b88c",
   "metadata": {},
   "outputs": [],
   "source": [
    "df['place']=place"
   ]
  },
  {
   "cell_type": "code",
   "execution_count": 9,
   "id": "6fa322a2",
   "metadata": {},
   "outputs": [],
   "source": [
    "ts = dtm.now().strftime('%Y-%m-%d_%H-%M')\n",
    "assert len(df)>0\n",
    "df.to_excel(f'{raw_data_path}/avito_{ts}_raw.xlsx',index=False)"
   ]
  },
  {
   "cell_type": "code",
   "execution_count": 10,
   "id": "bcd426ee",
   "metadata": {},
   "outputs": [
    {
     "data": {
      "text/html": [
       "<div>\n",
       "<style scoped>\n",
       "    .dataframe tbody tr th:only-of-type {\n",
       "        vertical-align: middle;\n",
       "    }\n",
       "\n",
       "    .dataframe tbody tr th {\n",
       "        vertical-align: top;\n",
       "    }\n",
       "\n",
       "    .dataframe thead th {\n",
       "        text-align: right;\n",
       "    }\n",
       "</style>\n",
       "<table border=\"1\" class=\"dataframe\">\n",
       "  <thead>\n",
       "    <tr style=\"text-align: right;\">\n",
       "      <th></th>\n",
       "      <th>avito_id</th>\n",
       "      <th>title</th>\n",
       "      <th>price</th>\n",
       "      <th>obj_name</th>\n",
       "      <th>adr</th>\n",
       "      <th>description</th>\n",
       "      <th>page</th>\n",
       "      <th>ts</th>\n",
       "      <th>place</th>\n",
       "    </tr>\n",
       "  </thead>\n",
       "  <tbody>\n",
       "    <tr>\n",
       "      <th>352</th>\n",
       "      <td>2580103074</td>\n",
       "      <td>Объявление «3-к. квартира, 71 м², 7/9 эт.» 13 фотографий</td>\n",
       "      <td>7500000</td>\n",
       "      <td></td>\n",
       "      <td>пр-т Победы, 62</td>\n",
       "      <td>Продаётся трёхкомнатная квартира на улице проспект Победы, 62. \\nОбщая площадь квартиры 71 м², жилая — 48 кв. М. И кухня — 8 кв. М. \\nВ квартире две лоджии. Комнаты все изолированы. Квартира расположена на седьмом этаже девятиэтажного дома. \\nКвартира светлая</td>\n",
       "      <td>8</td>\n",
       "      <td>2022-09-22 09:48:34.368190</td>\n",
       "      <td>sevastopol</td>\n",
       "    </tr>\n",
       "    <tr>\n",
       "      <th>750</th>\n",
       "      <td>2524469039</td>\n",
       "      <td>Объявление «Квартира-студия, 24,1 м², 2/3 эт.» 2 фотографии</td>\n",
       "      <td>1699000</td>\n",
       "      <td></td>\n",
       "      <td>Волнистая ул., 30</td>\n",
       "      <td>Продаю студию в самом лучшем районе города! \\nПрописка! Материнский капитал! \\nСтудия будет сдана в предчистовой отделке! \\nРядом вся необходимая инфраструктура! \\nВсе коммуникации городские! \\nЗвоните в любой день.</td>\n",
       "      <td>16</td>\n",
       "      <td>2022-09-22 09:48:34.368190</td>\n",
       "      <td>sevastopol</td>\n",
       "    </tr>\n",
       "  </tbody>\n",
       "</table>\n",
       "</div>"
      ],
      "text/plain": [
       "       avito_id                                                        title  \\\n",
       "352  2580103074     Объявление «3-к. квартира, 71 м², 7/9 эт.» 13 фотографий   \n",
       "750  2524469039  Объявление «Квартира-студия, 24,1 м², 2/3 эт.» 2 фотографии   \n",
       "\n",
       "       price obj_name                adr  \\\n",
       "352  7500000             пр-т Победы, 62   \n",
       "750  1699000           Волнистая ул., 30   \n",
       "\n",
       "                                                                                                                                                                                                                                                             description  \\\n",
       "352  Продаётся трёхкомнатная квартира на улице проспект Победы, 62. \\nОбщая площадь квартиры 71 м², жилая — 48 кв. М. И кухня — 8 кв. М. \\nВ квартире две лоджии. Комнаты все изолированы. Квартира расположена на седьмом этаже девятиэтажного дома. \\nКвартира светлая   \n",
       "750                                              Продаю студию в самом лучшем районе города! \\nПрописка! Материнский капитал! \\nСтудия будет сдана в предчистовой отделке! \\nРядом вся необходимая инфраструктура! \\nВсе коммуникации городские! \\nЗвоните в любой день.   \n",
       "\n",
       "     page                         ts       place  \n",
       "352     8 2022-09-22 09:48:34.368190  sevastopol  \n",
       "750    16 2022-09-22 09:48:34.368190  sevastopol  "
      ]
     },
     "execution_count": 10,
     "metadata": {},
     "output_type": "execute_result"
    }
   ],
   "source": [
    "df.sample(2)"
   ]
  },
  {
   "cell_type": "code",
   "execution_count": null,
   "id": "fffa658b",
   "metadata": {},
   "outputs": [],
   "source": []
  }
 ],
 "metadata": {
  "kernelspec": {
   "display_name": "Python 3 (ipykernel)",
   "language": "python",
   "name": "python3"
  },
  "language_info": {
   "codemirror_mode": {
    "name": "ipython",
    "version": 3
   },
   "file_extension": ".py",
   "mimetype": "text/x-python",
   "name": "python",
   "nbconvert_exporter": "python",
   "pygments_lexer": "ipython3",
   "version": "3.10.6"
  },
  "toc": {
   "base_numbering": 1,
   "nav_menu": {},
   "number_sections": true,
   "sideBar": true,
   "skip_h1_title": false,
   "title_cell": "Table of Contents",
   "title_sidebar": "Contents",
   "toc_cell": false,
   "toc_position": {},
   "toc_section_display": true,
   "toc_window_display": false
  },
  "varInspector": {
   "cols": {
    "lenName": 16,
    "lenType": 16,
    "lenVar": 40
   },
   "kernels_config": {
    "python": {
     "delete_cmd_postfix": "",
     "delete_cmd_prefix": "del ",
     "library": "var_list.py",
     "varRefreshCmd": "print(var_dic_list())"
    },
    "r": {
     "delete_cmd_postfix": ") ",
     "delete_cmd_prefix": "rm(",
     "library": "var_list.r",
     "varRefreshCmd": "cat(var_dic_list()) "
    }
   },
   "types_to_exclude": [
    "module",
    "function",
    "builtin_function_or_method",
    "instance",
    "_Feature"
   ],
   "window_display": false
  }
 },
 "nbformat": 4,
 "nbformat_minor": 5
}
