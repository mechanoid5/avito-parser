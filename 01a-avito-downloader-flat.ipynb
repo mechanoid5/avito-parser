{
 "cells": [
  {
   "cell_type": "markdown",
   "id": "7bec28d7",
   "metadata": {},
   "source": [
    "__качаем объявления о продаже квартир с авито.ru__\n",
    "\n",
    "_Evgeny S. Borisov <parser@mechanoid.su>_"
   ]
  },
  {
   "cell_type": "code",
   "execution_count": 1,
   "id": "52c5999f",
   "metadata": {},
   "outputs": [],
   "source": [
    "# !pacman -S firefox firefox-i18n-r  geckodriver\n",
    "# !pip install seleniuam"
   ]
  },
  {
   "cell_type": "code",
   "execution_count": 2,
   "id": "bcea4d8b",
   "metadata": {
    "ExecuteTime": {
     "end_time": "2022-08-26T14:19:06.118492Z",
     "start_time": "2022-08-26T14:13:37.888398Z"
    }
   },
   "outputs": [],
   "source": [
    "# import re\n",
    "import sys\n",
    "import logging\n",
    "from datetime import datetime as dtm\n",
    "from tqdm.notebook import tqdm\n",
    "import pandas as pd"
   ]
  },
  {
   "cell_type": "code",
   "execution_count": 3,
   "id": "caabc8c7",
   "metadata": {
    "ExecuteTime": {
     "end_time": "2022-08-26T14:19:06.118492Z",
     "start_time": "2022-08-26T14:13:37.888398Z"
    }
   },
   "outputs": [],
   "source": [
    "pd.set_option('display.max_colwidth', None)\n",
    "pd.set_option('display.float_format', '{:.2f}'.format)\n",
    "tqdm.pandas()\n",
    "\n",
    "logging.basicConfig(\n",
    "        format=u'[%(levelname)-8s] %(asctime)s | %(message)s',\n",
    "        datefmt='%Y-%m-%d %H:%M:%S',\n",
    "        level=logging.INFO,\n",
    "        # level=logging.DEBUG,\n",
    "        stream=sys.stdout,\n",
    "    )"
   ]
  },
  {
   "cell_type": "markdown",
   "id": "db3fe2be",
   "metadata": {},
   "source": [
    "---"
   ]
  },
  {
   "cell_type": "code",
   "execution_count": 4,
   "id": "288569b0",
   "metadata": {},
   "outputs": [],
   "source": [
    "# url = (\n",
    "# 'https://www.avito.ru/yaroslavskaya_oblast/avtomobili/chevrolet/niva'\n",
    "# '?bt=0'\n",
    "# '&i=1'\n",
    "# '&pmax=150000'\n",
    "# '&pmin=10000'\n",
    "# )"
   ]
  },
  {
   "cell_type": "code",
   "execution_count": 5,
   "id": "d437eab9",
   "metadata": {},
   "outputs": [],
   "source": [
    "profile_path = '/home/mechanoid/.mozilla/firefox/p144xo2m.default-release'\n",
    "\n",
    "base_url = 'https://www.avito.ru/'\n",
    "place = 'sevastopol'\n",
    "avito_path = place+'/kvartiry/prodam'\n",
    "\n",
    "raw_data_path = 'data/raw/flat/avito' # каталог с файлами объявлений"
   ]
  },
  {
   "cell_type": "code",
   "execution_count": 6,
   "id": "9ce138fe",
   "metadata": {},
   "outputs": [
    {
     "name": "stdout",
     "output_type": "stream",
     "text": [
      "[INFO    ] 2022-09-26 11:14:26 | DownloaderSeleniumFirefox: downloader init\n",
      "[INFO    ] 2022-09-26 11:14:26 | DownloaderSeleniumFirefox: open virtual browser\n",
      "[INFO    ] 2022-09-26 11:14:29 | AdsListParser: downloader init\n",
      "[INFO    ] 2022-09-26 11:14:29 | AvitoParser: init\n",
      "[INFO    ] 2022-09-26 11:14:37 | AvitoParser: 76 pages for read\n",
      "[INFO    ] 2022-09-26 11:14:37 | AdsListParser: start read and parse pages...\n",
      "[INFO    ] 2022-09-26 11:14:41 | AdsListParser: read page 1\n",
      "[INFO    ] 2022-09-26 11:14:47 | AdsListParser: read page 2\n",
      "[INFO    ] 2022-09-26 11:14:52 | AdsListParser: read page 3\n",
      "[INFO    ] 2022-09-26 11:14:57 | AdsListParser: read page 4\n",
      "[INFO    ] 2022-09-26 11:15:02 | AdsListParser: read page 5\n",
      "[INFO    ] 2022-09-26 11:15:08 | AdsListParser: read page 6\n",
      "[INFO    ] 2022-09-26 11:15:15 | AdsListParser: read page 7\n",
      "[INFO    ] 2022-09-26 11:15:21 | AdsListParser: read page 8\n",
      "[INFO    ] 2022-09-26 11:15:25 | AdsListParser: read page 9\n",
      "[INFO    ] 2022-09-26 11:15:32 | AdsListParser: read page 10\n",
      "[INFO    ] 2022-09-26 11:15:37 | AdsListParser: read page 11\n",
      "[INFO    ] 2022-09-26 11:15:43 | AdsListParser: read page 12\n",
      "[INFO    ] 2022-09-26 11:15:49 | AdsListParser: read page 13\n",
      "[INFO    ] 2022-09-26 11:15:52 | AdsListParser: read page 14\n",
      "[INFO    ] 2022-09-26 11:15:56 | AdsListParser: read page 15\n",
      "[INFO    ] 2022-09-26 11:16:00 | AdsListParser: read page 16\n",
      "[INFO    ] 2022-09-26 11:16:06 | AdsListParser: read page 17\n",
      "[INFO    ] 2022-09-26 11:16:10 | AdsListParser: read page 18\n",
      "[INFO    ] 2022-09-26 11:16:15 | AdsListParser: read page 19\n",
      "[INFO    ] 2022-09-26 11:16:19 | AdsListParser: read page 20\n",
      "[INFO    ] 2022-09-26 11:16:25 | AdsListParser: read page 21\n",
      "[INFO    ] 2022-09-26 11:16:31 | AdsListParser: read page 22\n",
      "[INFO    ] 2022-09-26 11:16:35 | AdsListParser: read page 23\n",
      "[INFO    ] 2022-09-26 11:16:39 | AdsListParser: read page 24\n",
      "[INFO    ] 2022-09-26 11:16:43 | AdsListParser: read page 25\n",
      "[INFO    ] 2022-09-26 11:16:47 | AdsListParser: read page 26\n",
      "[INFO    ] 2022-09-26 11:16:51 | AdsListParser: read page 27\n",
      "[INFO    ] 2022-09-26 11:16:56 | AdsListParser: read page 28\n",
      "[INFO    ] 2022-09-26 11:17:01 | AdsListParser: read page 29\n",
      "[INFO    ] 2022-09-26 11:17:05 | AdsListParser: read page 30\n",
      "[INFO    ] 2022-09-26 11:17:08 | AdsListParser: read page 31\n",
      "[INFO    ] 2022-09-26 11:17:13 | AdsListParser: read page 32\n",
      "[INFO    ] 2022-09-26 11:17:16 | AdsListParser: read page 33\n",
      "[INFO    ] 2022-09-26 11:17:20 | AdsListParser: read page 34\n",
      "[INFO    ] 2022-09-26 11:17:26 | AdsListParser: read page 35\n",
      "[INFO    ] 2022-09-26 11:17:31 | AdsListParser: read page 36\n",
      "[INFO    ] 2022-09-26 11:17:35 | AdsListParser: read page 37\n",
      "[INFO    ] 2022-09-26 11:17:38 | AdsListParser: read page 38\n",
      "[INFO    ] 2022-09-26 11:17:42 | AdsListParser: read page 39\n",
      "[INFO    ] 2022-09-26 11:17:46 | AdsListParser: read page 40\n",
      "[INFO    ] 2022-09-26 11:17:49 | AdsListParser: read page 41\n",
      "[INFO    ] 2022-09-26 11:17:52 | AdsListParser: read page 42\n",
      "[INFO    ] 2022-09-26 11:17:55 | AdsListParser: read page 43\n",
      "[INFO    ] 2022-09-26 11:18:00 | AdsListParser: read page 44\n",
      "[INFO    ] 2022-09-26 11:18:04 | AdsListParser: read page 45\n",
      "[INFO    ] 2022-09-26 11:18:08 | AdsListParser: read page 46\n",
      "[INFO    ] 2022-09-26 11:18:14 | AdsListParser: read page 47\n",
      "[INFO    ] 2022-09-26 11:18:19 | AdsListParser: read page 48\n",
      "[INFO    ] 2022-09-26 11:18:26 | AdsListParser: read page 49\n",
      "[INFO    ] 2022-09-26 11:18:29 | AdsListParser: read page 50\n",
      "[INFO    ] 2022-09-26 11:18:33 | AdsListParser: read page 51\n",
      "[INFO    ] 2022-09-26 11:18:38 | AdsListParser: read page 52\n",
      "[INFO    ] 2022-09-26 11:18:42 | AdsListParser: read page 53\n",
      "[INFO    ] 2022-09-26 11:18:46 | AdsListParser: read page 54\n",
      "[INFO    ] 2022-09-26 11:18:52 | AdsListParser: read page 55\n",
      "[INFO    ] 2022-09-26 11:18:55 | AdsListParser: read page 56\n",
      "[INFO    ] 2022-09-26 11:18:58 | AdsListParser: read page 57\n",
      "[INFO    ] 2022-09-26 11:19:01 | AdsListParser: read page 58\n",
      "[INFO    ] 2022-09-26 11:19:12 | AdsListParser: read page 59\n",
      "[INFO    ] 2022-09-26 11:19:16 | AdsListParser: read page 60\n",
      "[INFO    ] 2022-09-26 11:19:20 | AdsListParser: read page 61\n",
      "[INFO    ] 2022-09-26 11:19:24 | AdsListParser: read page 62\n",
      "[INFO    ] 2022-09-26 11:19:29 | AdsListParser: read page 63\n",
      "[INFO    ] 2022-09-26 11:19:32 | AdsListParser: read page 64\n",
      "[INFO    ] 2022-09-26 11:19:35 | AdsListParser: read page 65\n",
      "[INFO    ] 2022-09-26 11:19:38 | AdsListParser: read page 66\n",
      "[INFO    ] 2022-09-26 11:19:42 | AdsListParser: read page 67\n",
      "[INFO    ] 2022-09-26 11:19:45 | AdsListParser: read page 68\n",
      "[INFO    ] 2022-09-26 11:19:48 | AdsListParser: read page 69\n",
      "[INFO    ] 2022-09-26 11:19:54 | AdsListParser: read page 70\n",
      "[INFO    ] 2022-09-26 11:19:58 | AdsListParser: read page 71\n",
      "[INFO    ] 2022-09-26 11:20:01 | AdsListParser: read page 72\n",
      "[INFO    ] 2022-09-26 11:20:05 | AdsListParser: read page 73\n",
      "[INFO    ] 2022-09-26 11:20:10 | AdsListParser: read page 74\n",
      "[INFO    ] 2022-09-26 11:20:13 | AdsListParser: read page 75\n",
      "[INFO    ] 2022-09-26 11:20:16 | AdsListParser: read page 76\n",
      "[INFO    ] 2022-09-26 11:20:16 | AdsListParser: last page detected\n",
      "[INFO    ] 2022-09-26 11:20:17 | DownloaderSeleniumFirefox: close virtual browser\n",
      "3796\n",
      "CPU times: user 17.1 s, sys: 565 ms, total: 17.7 s\n",
      "Wall time: 5min 51s\n"
     ]
    }
   ],
   "source": [
    "%%time \n",
    "\n",
    "from lib.downloader import DownloaderSeleniumFirefox\n",
    "from lib.avito import AvitoParserRealty\n",
    "\n",
    "df,html = AvitoParserRealty(\n",
    "        base_url=base_url+'/'+avito_path,\n",
    "        driver=DownloaderSeleniumFirefox(profile_path)\n",
    "    ).load(req_param='',keep_html=True)\n",
    "\n",
    "print(len(df))"
   ]
  },
  {
   "cell_type": "code",
   "execution_count": 7,
   "id": "f8bd78d3",
   "metadata": {},
   "outputs": [
    {
     "name": "stdout",
     "output_type": "stream",
     "text": [
      "3796\n",
      "3576\n"
     ]
    }
   ],
   "source": [
    "print(len(df))\n",
    "df = df.dropna().drop_duplicates(['avito_id','description']).reset_index(drop=True)\n",
    "print(len(df))"
   ]
  },
  {
   "cell_type": "code",
   "execution_count": 8,
   "id": "6030b88c",
   "metadata": {},
   "outputs": [],
   "source": [
    "df['place']=place"
   ]
  },
  {
   "cell_type": "code",
   "execution_count": 9,
   "id": "6fa322a2",
   "metadata": {},
   "outputs": [],
   "source": [
    "ts = dtm.now().strftime('%Y-%m-%d_%H-%M')\n",
    "assert len(df)>0\n",
    "df.to_excel(f'{raw_data_path}/avito_{ts}_raw.xlsx',index=False)"
   ]
  },
  {
   "cell_type": "code",
   "execution_count": 10,
   "id": "bcd426ee",
   "metadata": {},
   "outputs": [
    {
     "data": {
      "text/html": [
       "<div>\n",
       "<style scoped>\n",
       "    .dataframe tbody tr th:only-of-type {\n",
       "        vertical-align: middle;\n",
       "    }\n",
       "\n",
       "    .dataframe tbody tr th {\n",
       "        vertical-align: top;\n",
       "    }\n",
       "\n",
       "    .dataframe thead th {\n",
       "        text-align: right;\n",
       "    }\n",
       "</style>\n",
       "<table border=\"1\" class=\"dataframe\">\n",
       "  <thead>\n",
       "    <tr style=\"text-align: right;\">\n",
       "      <th></th>\n",
       "      <th>avito_id</th>\n",
       "      <th>title</th>\n",
       "      <th>price</th>\n",
       "      <th>obj_name</th>\n",
       "      <th>adr</th>\n",
       "      <th>description</th>\n",
       "      <th>page</th>\n",
       "      <th>ts</th>\n",
       "      <th>place</th>\n",
       "    </tr>\n",
       "  </thead>\n",
       "  <tbody>\n",
       "    <tr>\n",
       "      <th>222</th>\n",
       "      <td>2534001900</td>\n",
       "      <td>Объявление «1-к. квартира, 48 м², 8/10 эт.» 13 фотографий</td>\n",
       "      <td>6500000</td>\n",
       "      <td></td>\n",
       "      <td>ул. Комбрига Потапова, 31</td>\n",
       "      <td>! Супер Цена! ЖК Архитектор.\\n\\nПродаю солнечную уютную 1 комнатную квартиру с шикарным видом на море из всех окон! + большая утеплённая лоджия (использовали её как полноценную жилую комнату). В квартире остаётся вся мебель и техника для комфортного проживан</td>\n",
       "      <td>5</td>\n",
       "      <td>2022-09-26 11:20:17.001605</td>\n",
       "      <td>sevastopol</td>\n",
       "    </tr>\n",
       "    <tr>\n",
       "      <th>3490</th>\n",
       "      <td>2456838563</td>\n",
       "      <td>Объявление «2-к. квартира, 81 м², 3/8 эт.» 21 фотография</td>\n",
       "      <td>12900000</td>\n",
       "      <td></td>\n",
       "      <td>ул. Тараса Шевченко, 49к2</td>\n",
       "      <td>Двухкомнатная квартира 81 м2, на 3/8 этаже дома с просторной кухней 14 м2. Расположена в г. Севастополь, Гагаринский район, ул. Тараса Шевченко, д. 49/2. \\n\\nПозвоните нам, чтобы узнать все детали! \\n\\nТехнические характеристики: \\n— Адрес: г. Севастополь, Гага</td>\n",
       "      <td>75</td>\n",
       "      <td>2022-09-26 11:20:17.001605</td>\n",
       "      <td>sevastopol</td>\n",
       "    </tr>\n",
       "  </tbody>\n",
       "</table>\n",
       "</div>"
      ],
      "text/plain": [
       "        avito_id                                                      title  \\\n",
       "222   2534001900  Объявление «1-к. квартира, 48 м², 8/10 эт.» 13 фотографий   \n",
       "3490  2456838563   Объявление «2-к. квартира, 81 м², 3/8 эт.» 21 фотография   \n",
       "\n",
       "         price obj_name                        adr  \\\n",
       "222    6500000           ул. Комбрига Потапова, 31   \n",
       "3490  12900000           ул. Тараса Шевченко, 49к2   \n",
       "\n",
       "                                                                                                                                                                                                                                                                description  \\\n",
       "222      ! Супер Цена! ЖК Архитектор.\\n\\nПродаю солнечную уютную 1 комнатную квартиру с шикарным видом на море из всех окон! + большая утеплённая лоджия (использовали её как полноценную жилую комнату). В квартире остаётся вся мебель и техника для комфортного проживан   \n",
       "3490  Двухкомнатная квартира 81 м2, на 3/8 этаже дома с просторной кухней 14 м2. Расположена в г. Севастополь, Гагаринский район, ул. Тараса Шевченко, д. 49/2. \\n\\nПозвоните нам, чтобы узнать все детали! \\n\\nТехнические характеристики: \\n— Адрес: г. Севастополь, Гага   \n",
       "\n",
       "      page                         ts       place  \n",
       "222      5 2022-09-26 11:20:17.001605  sevastopol  \n",
       "3490    75 2022-09-26 11:20:17.001605  sevastopol  "
      ]
     },
     "execution_count": 10,
     "metadata": {},
     "output_type": "execute_result"
    }
   ],
   "source": [
    "df.sample(2)"
   ]
  },
  {
   "cell_type": "code",
   "execution_count": 12,
   "id": "fffa658b",
   "metadata": {},
   "outputs": [],
   "source": [
    "# !pip install dash_table"
   ]
  },
  {
   "cell_type": "code",
   "execution_count": null,
   "id": "6edacf3c",
   "metadata": {},
   "outputs": [],
   "source": []
  }
 ],
 "metadata": {
  "kernelspec": {
   "display_name": "Python 3 (ipykernel)",
   "language": "python",
   "name": "python3"
  },
  "language_info": {
   "codemirror_mode": {
    "name": "ipython",
    "version": 3
   },
   "file_extension": ".py",
   "mimetype": "text/x-python",
   "name": "python",
   "nbconvert_exporter": "python",
   "pygments_lexer": "ipython3",
   "version": "3.10.6"
  },
  "toc": {
   "base_numbering": 1,
   "nav_menu": {},
   "number_sections": true,
   "sideBar": true,
   "skip_h1_title": false,
   "title_cell": "Table of Contents",
   "title_sidebar": "Contents",
   "toc_cell": false,
   "toc_position": {},
   "toc_section_display": true,
   "toc_window_display": false
  },
  "varInspector": {
   "cols": {
    "lenName": 16,
    "lenType": 16,
    "lenVar": 40
   },
   "kernels_config": {
    "python": {
     "delete_cmd_postfix": "",
     "delete_cmd_prefix": "del ",
     "library": "var_list.py",
     "varRefreshCmd": "print(var_dic_list())"
    },
    "r": {
     "delete_cmd_postfix": ") ",
     "delete_cmd_prefix": "rm(",
     "library": "var_list.r",
     "varRefreshCmd": "cat(var_dic_list()) "
    }
   },
   "types_to_exclude": [
    "module",
    "function",
    "builtin_function_or_method",
    "instance",
    "_Feature"
   ],
   "window_display": false
  }
 },
 "nbformat": 4,
 "nbformat_minor": 5
}
