{
 "cells": [
  {
   "cell_type": "markdown",
   "id": "7bec28d7",
   "metadata": {},
   "source": [
    "__качаем объявления о продаже квартир с авито.ru__\n",
    "\n",
    "_Evgeny S. Borisov <parser@mechanoid.su>_"
   ]
  },
  {
   "cell_type": "code",
   "execution_count": 1,
   "id": "52c5999f",
   "metadata": {},
   "outputs": [],
   "source": [
    "# !pacman -S firefox firefox-i18n-r  geckodriver\n",
    "# !pip install seleniuam"
   ]
  },
  {
   "cell_type": "code",
   "execution_count": 2,
   "id": "bcea4d8b",
   "metadata": {
    "ExecuteTime": {
     "end_time": "2022-08-26T14:19:06.118492Z",
     "start_time": "2022-08-26T14:13:37.888398Z"
    }
   },
   "outputs": [],
   "source": [
    "# import re\n",
    "import sys\n",
    "import logging\n",
    "from datetime import datetime as dtm\n",
    "from tqdm.notebook import tqdm\n",
    "import pandas as pd"
   ]
  },
  {
   "cell_type": "code",
   "execution_count": 3,
   "id": "caabc8c7",
   "metadata": {
    "ExecuteTime": {
     "end_time": "2022-08-26T14:19:06.118492Z",
     "start_time": "2022-08-26T14:13:37.888398Z"
    }
   },
   "outputs": [],
   "source": [
    "pd.set_option('display.max_colwidth', None)\n",
    "pd.set_option('display.float_format', '{:.2f}'.format)\n",
    "tqdm.pandas()\n",
    "\n",
    "logging.basicConfig(\n",
    "        format=u'[%(levelname)-8s] %(asctime)s | %(message)s',\n",
    "        datefmt='%Y-%m-%d %H:%M:%S',\n",
    "        level=logging.INFO,\n",
    "        # level=logging.DEBUG,\n",
    "        stream=sys.stdout,\n",
    "    )"
   ]
  },
  {
   "cell_type": "markdown",
   "id": "db3fe2be",
   "metadata": {},
   "source": [
    "---"
   ]
  },
  {
   "cell_type": "code",
   "execution_count": 4,
   "id": "288569b0",
   "metadata": {},
   "outputs": [],
   "source": [
    "# url = (\n",
    "# 'https://www.avito.ru/yaroslavskaya_oblast/avtomobili/chevrolet/niva'\n",
    "# '?bt=0'\n",
    "# '&i=1'\n",
    "# '&pmax=150000'\n",
    "# '&pmin=10000'\n",
    "# )"
   ]
  },
  {
   "cell_type": "code",
   "execution_count": 5,
   "id": "d437eab9",
   "metadata": {},
   "outputs": [],
   "source": [
    "profile_path = '/home/mechanoid/.mozilla/firefox/p144xo2m.default-release'\n",
    "\n",
    "base_url = 'https://www.avito.ru/'\n",
    "place = 'sevastopol'\n",
    "avito_path = place+'/kvartiry/prodam'\n",
    "\n",
    "raw_data_path = 'data/raw/flat/avito' # каталог с файлами объявлений"
   ]
  },
  {
   "cell_type": "code",
   "execution_count": 6,
   "id": "9ce138fe",
   "metadata": {},
   "outputs": [
    {
     "name": "stdout",
     "output_type": "stream",
     "text": [
      "[INFO    ] 2023-01-10 11:21:19 | DownloaderSeleniumFirefox: downloader init\n",
      "[INFO    ] 2023-01-10 11:21:19 | DownloaderSeleniumFirefox: open virtual browser\n",
      "[INFO    ] 2023-01-10 11:21:22 | AdsListParser: downloader init\n",
      "[INFO    ] 2023-01-10 11:21:22 | AvitoParser: init\n",
      "[INFO    ] 2023-01-10 11:21:26 | AvitoParser: 86 pages for read\n",
      "[INFO    ] 2023-01-10 11:21:26 | AdsListParser: start read and parse pages...\n",
      "[INFO    ] 2023-01-10 11:21:30 | AdsListParser: read page 1\n",
      "[INFO    ] 2023-01-10 11:21:32 | AdsListParser: read page 2\n",
      "[INFO    ] 2023-01-10 11:21:36 | AdsListParser: read page 3\n",
      "[INFO    ] 2023-01-10 11:21:40 | AdsListParser: read page 4\n",
      "[INFO    ] 2023-01-10 11:21:43 | AdsListParser: read page 5\n",
      "[INFO    ] 2023-01-10 11:21:45 | AdsListParser: read page 6\n",
      "[INFO    ] 2023-01-10 11:21:51 | AdsListParser: read page 7\n",
      "[INFO    ] 2023-01-10 11:21:56 | AdsListParser: read page 8\n",
      "[INFO    ] 2023-01-10 11:21:59 | AdsListParser: read page 9\n",
      "[INFO    ] 2023-01-10 11:22:05 | AdsListParser: read page 10\n",
      "[INFO    ] 2023-01-10 11:22:08 | AdsListParser: read page 11\n",
      "[INFO    ] 2023-01-10 11:22:11 | AdsListParser: read page 12\n",
      "[INFO    ] 2023-01-10 11:22:14 | AdsListParser: read page 13\n",
      "[INFO    ] 2023-01-10 11:22:19 | AdsListParser: read page 14\n",
      "[INFO    ] 2023-01-10 11:22:22 | AdsListParser: read page 15\n",
      "[INFO    ] 2023-01-10 11:22:24 | AdsListParser: read page 16\n",
      "[INFO    ] 2023-01-10 11:22:26 | AdsListParser: read page 17\n",
      "[INFO    ] 2023-01-10 11:22:31 | AdsListParser: read page 18\n",
      "[INFO    ] 2023-01-10 11:22:34 | AdsListParser: read page 19\n",
      "[INFO    ] 2023-01-10 11:22:36 | AdsListParser: read page 20\n",
      "[INFO    ] 2023-01-10 11:22:38 | AdsListParser: read page 21\n",
      "[INFO    ] 2023-01-10 11:22:43 | AdsListParser: read page 22\n",
      "[INFO    ] 2023-01-10 11:22:45 | AdsListParser: read page 23\n",
      "[INFO    ] 2023-01-10 11:22:48 | AdsListParser: read page 24\n",
      "[INFO    ] 2023-01-10 11:22:50 | AdsListParser: read page 25\n",
      "[INFO    ] 2023-01-10 11:22:53 | AdsListParser: read page 26\n",
      "[INFO    ] 2023-01-10 11:22:58 | AdsListParser: read page 27\n",
      "[INFO    ] 2023-01-10 11:23:01 | AdsListParser: read page 28\n",
      "[INFO    ] 2023-01-10 11:23:04 | AdsListParser: read page 29\n",
      "[INFO    ] 2023-01-10 11:23:08 | AdsListParser: read page 30\n",
      "[INFO    ] 2023-01-10 11:23:11 | AdsListParser: read page 31\n",
      "[INFO    ] 2023-01-10 11:23:14 | AdsListParser: read page 32\n",
      "[INFO    ] 2023-01-10 11:23:19 | AdsListParser: read page 33\n",
      "[INFO    ] 2023-01-10 11:23:22 | AdsListParser: read page 34\n",
      "[INFO    ] 2023-01-10 11:23:26 | AdsListParser: read page 35\n",
      "[INFO    ] 2023-01-10 11:23:30 | AdsListParser: read page 36\n",
      "[INFO    ] 2023-01-10 11:23:33 | AdsListParser: read page 37\n",
      "[INFO    ] 2023-01-10 11:23:36 | AdsListParser: read page 38\n",
      "[INFO    ] 2023-01-10 11:23:41 | AdsListParser: read page 39\n",
      "[INFO    ] 2023-01-10 11:23:44 | AdsListParser: read page 40\n",
      "[INFO    ] 2023-01-10 11:23:47 | AdsListParser: read page 41\n",
      "[INFO    ] 2023-01-10 11:23:49 | AdsListParser: read page 42\n",
      "[INFO    ] 2023-01-10 11:23:51 | AdsListParser: read page 43\n",
      "[INFO    ] 2023-01-10 11:23:53 | AdsListParser: read page 44\n",
      "[INFO    ] 2023-01-10 11:23:56 | AdsListParser: read page 45\n",
      "[INFO    ] 2023-01-10 11:23:59 | AdsListParser: read page 46\n",
      "[INFO    ] 2023-01-10 11:24:03 | AdsListParser: read page 47\n",
      "[INFO    ] 2023-01-10 11:24:06 | AdsListParser: read page 48\n",
      "[INFO    ] 2023-01-10 11:24:08 | AdsListParser: read page 49\n",
      "[INFO    ] 2023-01-10 11:24:10 | AdsListParser: read page 50\n",
      "[INFO    ] 2023-01-10 11:24:14 | AdsListParser: read page 51\n",
      "[INFO    ] 2023-01-10 11:24:16 | AdsListParser: read page 52\n",
      "[INFO    ] 2023-01-10 11:24:18 | AdsListParser: read page 53\n",
      "[INFO    ] 2023-01-10 11:24:21 | AdsListParser: read page 54\n",
      "[INFO    ] 2023-01-10 11:24:23 | AdsListParser: read page 55\n",
      "[INFO    ] 2023-01-10 11:24:25 | AdsListParser: read page 56\n",
      "[INFO    ] 2023-01-10 11:24:28 | AdsListParser: read page 57\n",
      "[INFO    ] 2023-01-10 11:24:36 | AdsListParser: read page 58\n",
      "[INFO    ] 2023-01-10 11:24:48 | AdsListParser: read page 59\n",
      "[INFO    ] 2023-01-10 11:24:51 | AdsListParser: read page 60\n",
      "[INFO    ] 2023-01-10 11:24:54 | AdsListParser: read page 61\n",
      "[INFO    ] 2023-01-10 11:24:58 | AdsListParser: read page 62\n",
      "[INFO    ] 2023-01-10 11:25:01 | AdsListParser: read page 63\n",
      "[INFO    ] 2023-01-10 11:25:05 | AdsListParser: read page 64\n",
      "[INFO    ] 2023-01-10 11:25:08 | AdsListParser: read page 65\n",
      "[INFO    ] 2023-01-10 11:25:12 | AdsListParser: read page 66\n",
      "[INFO    ] 2023-01-10 11:25:14 | AdsListParser: read page 67\n",
      "[INFO    ] 2023-01-10 11:25:16 | AdsListParser: read page 68\n",
      "[INFO    ] 2023-01-10 11:25:19 | AdsListParser: read page 69\n",
      "[INFO    ] 2023-01-10 11:25:21 | AdsListParser: read page 70\n",
      "[INFO    ] 2023-01-10 11:25:23 | AdsListParser: read page 71\n",
      "[INFO    ] 2023-01-10 11:25:24 | AdsListParser: read page 72\n",
      "[INFO    ] 2023-01-10 11:25:26 | AdsListParser: read page 73\n",
      "[INFO    ] 2023-01-10 11:25:29 | AdsListParser: read page 74\n",
      "[INFO    ] 2023-01-10 11:25:31 | AdsListParser: read page 75\n",
      "[INFO    ] 2023-01-10 11:25:33 | AdsListParser: read page 76\n",
      "[INFO    ] 2023-01-10 11:25:34 | AdsListParser: read page 77\n",
      "[INFO    ] 2023-01-10 11:25:36 | AdsListParser: read page 78\n",
      "[INFO    ] 2023-01-10 11:25:38 | AdsListParser: read page 79\n",
      "[INFO    ] 2023-01-10 11:25:40 | AdsListParser: read page 80\n",
      "[INFO    ] 2023-01-10 11:25:42 | AdsListParser: read page 81\n",
      "[INFO    ] 2023-01-10 11:25:44 | AdsListParser: read page 82\n",
      "[INFO    ] 2023-01-10 11:25:46 | AdsListParser: read page 83\n",
      "[INFO    ] 2023-01-10 11:25:48 | AdsListParser: read page 84\n",
      "[INFO    ] 2023-01-10 11:25:49 | AdsListParser: read page 85\n",
      "[INFO    ] 2023-01-10 11:25:50 | AdsListParser: read page 86\n",
      "[INFO    ] 2023-01-10 11:25:50 | AdsListParser: last page detected\n",
      "[INFO    ] 2023-01-10 11:25:51 | DownloaderSeleniumFirefox: close virtual browser\n",
      "3826\n",
      "CPU times: user 17.7 s, sys: 740 ms, total: 18.4 s\n",
      "Wall time: 4min 31s\n"
     ]
    }
   ],
   "source": [
    "%%time \n",
    "\n",
    "from lib.downloader import DownloaderSeleniumFirefox\n",
    "from lib.avito import AvitoParserRealty\n",
    "\n",
    "df,html = AvitoParserRealty(\n",
    "        base_url=base_url+'/'+avito_path,\n",
    "        driver=DownloaderSeleniumFirefox(profile_path)\n",
    "    ).load(req_param='',keep_html=True)\n",
    "\n",
    "print(len(df))"
   ]
  },
  {
   "cell_type": "code",
   "execution_count": 7,
   "id": "f8bd78d3",
   "metadata": {},
   "outputs": [
    {
     "name": "stdout",
     "output_type": "stream",
     "text": [
      "3826\n",
      "3039\n"
     ]
    }
   ],
   "source": [
    "print(len(df))\n",
    "df = df.dropna().drop_duplicates(['avito_id','description']).reset_index(drop=True)\n",
    "print(len(df))"
   ]
  },
  {
   "cell_type": "code",
   "execution_count": 8,
   "id": "6030b88c",
   "metadata": {},
   "outputs": [],
   "source": [
    "df['place']=place"
   ]
  },
  {
   "cell_type": "code",
   "execution_count": 9,
   "id": "6fa322a2",
   "metadata": {},
   "outputs": [],
   "source": [
    "ts = dtm.now().strftime('%Y-%m-%d_%H-%M')\n",
    "assert len(df)>0\n",
    "df.to_excel(f'{raw_data_path}/avito_{ts}_raw.xlsx',index=False)"
   ]
  },
  {
   "cell_type": "code",
   "execution_count": 10,
   "id": "bcd426ee",
   "metadata": {},
   "outputs": [
    {
     "data": {
      "text/html": [
       "<div>\n",
       "<style scoped>\n",
       "    .dataframe tbody tr th:only-of-type {\n",
       "        vertical-align: middle;\n",
       "    }\n",
       "\n",
       "    .dataframe tbody tr th {\n",
       "        vertical-align: top;\n",
       "    }\n",
       "\n",
       "    .dataframe thead th {\n",
       "        text-align: right;\n",
       "    }\n",
       "</style>\n",
       "<table border=\"1\" class=\"dataframe\">\n",
       "  <thead>\n",
       "    <tr style=\"text-align: right;\">\n",
       "      <th></th>\n",
       "      <th>avito_id</th>\n",
       "      <th>title</th>\n",
       "      <th>price</th>\n",
       "      <th>obj_name</th>\n",
       "      <th>adr</th>\n",
       "      <th>description</th>\n",
       "      <th>page</th>\n",
       "      <th>ts</th>\n",
       "      <th>place</th>\n",
       "    </tr>\n",
       "  </thead>\n",
       "  <tbody>\n",
       "    <tr>\n",
       "      <th>1899</th>\n",
       "      <td>2297032936</td>\n",
       "      <td>Объявление «1-к. квартира, 30,4 м², 4/5 эт.» 10 фотографий</td>\n",
       "      <td>4650000</td>\n",
       "      <td></td>\n",
       "      <td>Севастополь, улица Хрусталёва, 19</td>\n",
       "      <td>Однокомнатная квартира 30,4 м2, на 4/5 этаже дома. Расположена в г. Севастополь, Ленинский район, ул. Хрусталева, д. 19. \\n\\nПозвоните нам, чтобы узнать все детали! \\n\\nТехнические характеристики: \\n— Адрес: г. Севастополь, Ленинский район, ул. Хрусталева, д. 1</td>\n",
       "      <td>46</td>\n",
       "      <td>2023-01-10 11:25:50.588268</td>\n",
       "      <td>sevastopol</td>\n",
       "    </tr>\n",
       "    <tr>\n",
       "      <th>933</th>\n",
       "      <td>2505351992</td>\n",
       "      <td>Объявление «2-к. квартира, 59 м², 2/9 эт.» 4 фотографии</td>\n",
       "      <td>7080000</td>\n",
       "      <td>ЖК «Доброгород»</td>\n",
       "      <td>ул. Токарева, 7 этап, блок-секция 2</td>\n",
       "      <td>Крупнейший в Севастополе семейный микрорайон «Доброгород»! \\n\\nПобедитель всероссийской премии «Топ ЖК 2021» в номинации «Лучший жилой комплекс». \\n\\nИпотека с господдержкой, рассрочка от Застройщика. \\n\\n«Доброгород» по праву считается лучшим жилым кварталом Се</td>\n",
       "      <td>20</td>\n",
       "      <td>2023-01-10 11:25:50.588268</td>\n",
       "      <td>sevastopol</td>\n",
       "    </tr>\n",
       "  </tbody>\n",
       "</table>\n",
       "</div>"
      ],
      "text/plain": [
       "        avito_id                                                       title  \\\n",
       "1899  2297032936  Объявление «1-к. квартира, 30,4 м², 4/5 эт.» 10 фотографий   \n",
       "933   2505351992     Объявление «2-к. квартира, 59 м², 2/9 эт.» 4 фотографии   \n",
       "\n",
       "        price         obj_name                                  adr  \\\n",
       "1899  4650000                     Севастополь, улица Хрусталёва, 19   \n",
       "933   7080000  ЖК «Доброгород»  ул. Токарева, 7 этап, блок-секция 2   \n",
       "\n",
       "                                                                                                                                                                                                                                                                 description  \\\n",
       "1899   Однокомнатная квартира 30,4 м2, на 4/5 этаже дома. Расположена в г. Севастополь, Ленинский район, ул. Хрусталева, д. 19. \\n\\nПозвоните нам, чтобы узнать все детали! \\n\\nТехнические характеристики: \\n— Адрес: г. Севастополь, Ленинский район, ул. Хрусталева, д. 1   \n",
       "933   Крупнейший в Севастополе семейный микрорайон «Доброгород»! \\n\\nПобедитель всероссийской премии «Топ ЖК 2021» в номинации «Лучший жилой комплекс». \\n\\nИпотека с господдержкой, рассрочка от Застройщика. \\n\\n«Доброгород» по праву считается лучшим жилым кварталом Се   \n",
       "\n",
       "      page                         ts       place  \n",
       "1899    46 2023-01-10 11:25:50.588268  sevastopol  \n",
       "933     20 2023-01-10 11:25:50.588268  sevastopol  "
      ]
     },
     "execution_count": 10,
     "metadata": {},
     "output_type": "execute_result"
    }
   ],
   "source": [
    "df.sample(2)"
   ]
  },
  {
   "cell_type": "code",
   "execution_count": 11,
   "id": "fffa658b",
   "metadata": {},
   "outputs": [],
   "source": [
    "# !pip install dash_table"
   ]
  },
  {
   "cell_type": "code",
   "execution_count": null,
   "id": "6edacf3c",
   "metadata": {},
   "outputs": [],
   "source": []
  }
 ],
 "metadata": {
  "kernelspec": {
   "display_name": "Python 3 (ipykernel)",
   "language": "python",
   "name": "python3"
  },
  "language_info": {
   "codemirror_mode": {
    "name": "ipython",
    "version": 3
   },
   "file_extension": ".py",
   "mimetype": "text/x-python",
   "name": "python",
   "nbconvert_exporter": "python",
   "pygments_lexer": "ipython3",
   "version": "3.10.8"
  },
  "toc": {
   "base_numbering": 1,
   "nav_menu": {},
   "number_sections": true,
   "sideBar": true,
   "skip_h1_title": false,
   "title_cell": "Table of Contents",
   "title_sidebar": "Contents",
   "toc_cell": false,
   "toc_position": {},
   "toc_section_display": true,
   "toc_window_display": false
  },
  "varInspector": {
   "cols": {
    "lenName": 16,
    "lenType": 16,
    "lenVar": 40
   },
   "kernels_config": {
    "python": {
     "delete_cmd_postfix": "",
     "delete_cmd_prefix": "del ",
     "library": "var_list.py",
     "varRefreshCmd": "print(var_dic_list())"
    },
    "r": {
     "delete_cmd_postfix": ") ",
     "delete_cmd_prefix": "rm(",
     "library": "var_list.r",
     "varRefreshCmd": "cat(var_dic_list()) "
    }
   },
   "types_to_exclude": [
    "module",
    "function",
    "builtin_function_or_method",
    "instance",
    "_Feature"
   ],
   "window_display": false
  }
 },
 "nbformat": 4,
 "nbformat_minor": 5
}
