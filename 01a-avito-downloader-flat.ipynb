{
 "cells": [
  {
   "cell_type": "markdown",
   "id": "7bec28d7",
   "metadata": {},
   "source": [
    "__качаем объявления о продаже квартир с авито.ru__\n",
    "\n",
    "_Evgeny S. Borisov <parser@mechanoid.su>_"
   ]
  },
  {
   "cell_type": "code",
   "execution_count": 1,
   "id": "52c5999f",
   "metadata": {},
   "outputs": [],
   "source": [
    "# !pacman -S firefox firefox-i18n-r  geckodriver\n",
    "# !pip install seleniuam"
   ]
  },
  {
   "cell_type": "code",
   "execution_count": 2,
   "id": "bcea4d8b",
   "metadata": {
    "ExecuteTime": {
     "end_time": "2022-08-26T14:19:06.118492Z",
     "start_time": "2022-08-26T14:13:37.888398Z"
    }
   },
   "outputs": [],
   "source": [
    "# import re\n",
    "import sys\n",
    "import logging\n",
    "from datetime import datetime as dtm\n",
    "from tqdm.notebook import tqdm\n",
    "import pandas as pd"
   ]
  },
  {
   "cell_type": "code",
   "execution_count": 3,
   "id": "caabc8c7",
   "metadata": {
    "ExecuteTime": {
     "end_time": "2022-08-26T14:19:06.118492Z",
     "start_time": "2022-08-26T14:13:37.888398Z"
    }
   },
   "outputs": [],
   "source": [
    "pd.set_option('display.max_colwidth', None)\n",
    "pd.set_option('display.float_format', '{:.2f}'.format)\n",
    "tqdm.pandas()\n",
    "\n",
    "logging.basicConfig(\n",
    "        format=u'[%(levelname)-8s] %(asctime)s | %(message)s',\n",
    "        datefmt='%Y-%m-%d %H:%M:%S',\n",
    "        level=logging.INFO,\n",
    "        # level=logging.DEBUG,\n",
    "        stream=sys.stdout,\n",
    "    )"
   ]
  },
  {
   "cell_type": "markdown",
   "id": "db3fe2be",
   "metadata": {},
   "source": [
    "---"
   ]
  },
  {
   "cell_type": "code",
   "execution_count": 4,
   "id": "288569b0",
   "metadata": {},
   "outputs": [],
   "source": [
    "# url = (\n",
    "# 'https://www.avito.ru/yaroslavskaya_oblast/avtomobili/chevrolet/niva'\n",
    "# '?bt=0'\n",
    "# '&i=1'\n",
    "# '&pmax=150000'\n",
    "# '&pmin=10000'\n",
    "# )"
   ]
  },
  {
   "cell_type": "code",
   "execution_count": 5,
   "id": "d437eab9",
   "metadata": {},
   "outputs": [],
   "source": [
    "profile_path = '/home/mechanoid/.mozilla/firefox/p144xo2m.default-release'\n",
    "\n",
    "base_url = 'https://www.avito.ru/'\n",
    "place = 'sevastopol'\n",
    "avito_path = place+'/kvartiry/prodam'\n",
    "\n",
    "raw_data_path = 'data/raw/flat/avito' # каталог с файлами объявлений"
   ]
  },
  {
   "cell_type": "code",
   "execution_count": 6,
   "id": "9ce138fe",
   "metadata": {},
   "outputs": [
    {
     "name": "stdout",
     "output_type": "stream",
     "text": [
      "[INFO    ] 2022-11-15 13:06:53 | DownloaderSeleniumFirefox: downloader init\n",
      "[INFO    ] 2022-11-15 13:06:53 | DownloaderSeleniumFirefox: open virtual browser\n",
      "[INFO    ] 2022-11-15 13:06:55 | AdsListParser: downloader init\n",
      "[INFO    ] 2022-11-15 13:06:55 | AvitoParser: init\n",
      "[INFO    ] 2022-11-15 13:07:00 | AvitoParser: 72 pages for read\n",
      "[INFO    ] 2022-11-15 13:07:00 | AdsListParser: start read and parse pages...\n",
      "[INFO    ] 2022-11-15 13:07:02 | AdsListParser: read page 1\n",
      "[INFO    ] 2022-11-15 13:07:05 | AdsListParser: read page 2\n",
      "[INFO    ] 2022-11-15 13:07:08 | AdsListParser: read page 3\n",
      "[INFO    ] 2022-11-15 13:07:12 | AdsListParser: read page 4\n",
      "[INFO    ] 2022-11-15 13:07:16 | AdsListParser: read page 5\n",
      "[INFO    ] 2022-11-15 13:07:21 | AdsListParser: read page 6\n",
      "[INFO    ] 2022-11-15 13:07:25 | AdsListParser: read page 7\n",
      "[INFO    ] 2022-11-15 13:07:27 | AdsListParser: read page 8\n",
      "[INFO    ] 2022-11-15 13:07:30 | AdsListParser: read page 9\n",
      "[INFO    ] 2022-11-15 13:07:35 | AdsListParser: read page 10\n",
      "[INFO    ] 2022-11-15 13:07:38 | AdsListParser: read page 11\n",
      "[INFO    ] 2022-11-15 13:07:41 | AdsListParser: read page 12\n",
      "[INFO    ] 2022-11-15 13:07:45 | AdsListParser: read page 13\n",
      "[INFO    ] 2022-11-15 13:07:48 | AdsListParser: read page 14\n",
      "[INFO    ] 2022-11-15 13:07:53 | AdsListParser: read page 15\n",
      "[INFO    ] 2022-11-15 13:07:55 | AdsListParser: read page 16\n",
      "[INFO    ] 2022-11-15 13:08:56 | AdsListParser: read page 17\n",
      "[INFO    ] 2022-11-15 13:08:59 | AdsListParser: read page 18\n",
      "[INFO    ] 2022-11-15 13:09:01 | AdsListParser: read page 19\n",
      "[INFO    ] 2022-11-15 13:09:04 | AdsListParser: read page 20\n",
      "[INFO    ] 2022-11-15 13:09:09 | AdsListParser: read page 21\n",
      "[INFO    ] 2022-11-15 13:09:11 | AdsListParser: read page 22\n",
      "[INFO    ] 2022-11-15 13:09:15 | AdsListParser: read page 23\n",
      "[INFO    ] 2022-11-15 13:09:19 | AdsListParser: read page 24\n",
      "[INFO    ] 2022-11-15 13:09:22 | AdsListParser: read page 25\n",
      "[INFO    ] 2022-11-15 13:09:25 | AdsListParser: read page 26\n",
      "[INFO    ] 2022-11-15 13:09:45 | AdsListParser: read page 27\n",
      "[INFO    ] 2022-11-15 13:09:48 | AdsListParser: read page 28\n",
      "[INFO    ] 2022-11-15 13:09:53 | AdsListParser: read page 29\n",
      "[INFO    ] 2022-11-15 13:09:56 | AdsListParser: read page 30\n",
      "[INFO    ] 2022-11-15 13:09:59 | AdsListParser: read page 31\n",
      "[INFO    ] 2022-11-15 13:10:05 | AdsListParser: read page 32\n",
      "[INFO    ] 2022-11-15 13:10:08 | AdsListParser: read page 33\n",
      "[INFO    ] 2022-11-15 13:10:14 | AdsListParser: read page 34\n",
      "[INFO    ] 2022-11-15 13:10:17 | AdsListParser: read page 35\n",
      "[INFO    ] 2022-11-15 13:10:20 | AdsListParser: read page 36\n",
      "[INFO    ] 2022-11-15 13:10:23 | AdsListParser: read page 37\n",
      "[INFO    ] 2022-11-15 13:10:28 | AdsListParser: read page 38\n",
      "[INFO    ] 2022-11-15 13:10:30 | AdsListParser: read page 39\n",
      "[INFO    ] 2022-11-15 13:10:33 | AdsListParser: read page 40\n",
      "[INFO    ] 2022-11-15 13:10:37 | AdsListParser: read page 41\n",
      "[INFO    ] 2022-11-15 13:10:39 | AdsListParser: read page 42\n",
      "[INFO    ] 2022-11-15 13:10:42 | AdsListParser: read page 43\n",
      "[INFO    ] 2022-11-15 13:10:46 | AdsListParser: read page 44\n",
      "[INFO    ] 2022-11-15 13:10:55 | AdsListParser: read page 45\n",
      "[INFO    ] 2022-11-15 13:11:00 | AdsListParser: read page 46\n",
      "[INFO    ] 2022-11-15 13:11:02 | AdsListParser: read page 47\n",
      "[INFO    ] 2022-11-15 13:11:05 | AdsListParser: read page 48\n",
      "[INFO    ] 2022-11-15 13:11:10 | AdsListParser: read page 49\n",
      "[INFO    ] 2022-11-15 13:11:12 | AdsListParser: read page 50\n",
      "[INFO    ] 2022-11-15 13:11:17 | AdsListParser: read page 51\n",
      "[INFO    ] 2022-11-15 13:11:20 | AdsListParser: read page 52\n",
      "[INFO    ] 2022-11-15 13:11:22 | AdsListParser: read page 53\n",
      "[INFO    ] 2022-11-15 13:11:24 | AdsListParser: read page 54\n",
      "[INFO    ] 2022-11-15 13:11:26 | AdsListParser: read page 55\n",
      "[INFO    ] 2022-11-15 13:11:32 | AdsListParser: read page 56\n",
      "[INFO    ] 2022-11-15 13:11:34 | AdsListParser: read page 57\n",
      "[INFO    ] 2022-11-15 13:11:37 | AdsListParser: read page 58\n",
      "[INFO    ] 2022-11-15 13:11:39 | AdsListParser: read page 59\n",
      "[INFO    ] 2022-11-15 13:11:45 | AdsListParser: read page 60\n",
      "[INFO    ] 2022-11-15 13:11:47 | AdsListParser: read page 61\n",
      "[INFO    ] 2022-11-15 13:11:52 | AdsListParser: read page 62\n",
      "[INFO    ] 2022-11-15 13:11:56 | AdsListParser: read page 63\n",
      "[INFO    ] 2022-11-15 13:12:01 | AdsListParser: read page 64\n",
      "[INFO    ] 2022-11-15 13:12:05 | AdsListParser: read page 65\n",
      "[INFO    ] 2022-11-15 13:12:08 | AdsListParser: read page 66\n",
      "[INFO    ] 2022-11-15 13:12:11 | AdsListParser: read page 67\n",
      "[INFO    ] 2022-11-15 13:12:17 | AdsListParser: read page 68\n",
      "[INFO    ] 2022-11-15 13:12:19 | AdsListParser: read page 69\n",
      "[INFO    ] 2022-11-15 13:12:21 | AdsListParser: read page 70\n",
      "[INFO    ] 2022-11-15 13:12:24 | AdsListParser: read page 71\n",
      "[INFO    ] 2022-11-15 13:12:30 | AdsListParser: read page 72\n",
      "[INFO    ] 2022-11-15 13:12:30 | AdsListParser: last page detected\n",
      "[INFO    ] 2022-11-15 13:12:31 | DownloaderSeleniumFirefox: close virtual browser\n",
      "3579\n",
      "CPU times: user 15.6 s, sys: 833 ms, total: 16.4 s\n",
      "Wall time: 5min 37s\n"
     ]
    }
   ],
   "source": [
    "%%time \n",
    "\n",
    "from lib.downloader import DownloaderSeleniumFirefox\n",
    "from lib.avito import AvitoParserRealty\n",
    "\n",
    "df,html = AvitoParserRealty(\n",
    "        base_url=base_url+'/'+avito_path,\n",
    "        driver=DownloaderSeleniumFirefox(profile_path)\n",
    "    ).load(req_param='',keep_html=True)\n",
    "\n",
    "print(len(df))"
   ]
  },
  {
   "cell_type": "code",
   "execution_count": 7,
   "id": "f8bd78d3",
   "metadata": {},
   "outputs": [
    {
     "name": "stdout",
     "output_type": "stream",
     "text": [
      "3579\n",
      "3218\n"
     ]
    }
   ],
   "source": [
    "print(len(df))\n",
    "df = df.dropna().drop_duplicates(['avito_id','description']).reset_index(drop=True)\n",
    "print(len(df))"
   ]
  },
  {
   "cell_type": "code",
   "execution_count": 8,
   "id": "6030b88c",
   "metadata": {},
   "outputs": [],
   "source": [
    "df['place']=place"
   ]
  },
  {
   "cell_type": "code",
   "execution_count": 9,
   "id": "6fa322a2",
   "metadata": {},
   "outputs": [],
   "source": [
    "ts = dtm.now().strftime('%Y-%m-%d_%H-%M')\n",
    "assert len(df)>0\n",
    "df.to_excel(f'{raw_data_path}/avito_{ts}_raw.xlsx',index=False)"
   ]
  },
  {
   "cell_type": "code",
   "execution_count": 10,
   "id": "bcd426ee",
   "metadata": {},
   "outputs": [
    {
     "data": {
      "text/html": [
       "<div>\n",
       "<style scoped>\n",
       "    .dataframe tbody tr th:only-of-type {\n",
       "        vertical-align: middle;\n",
       "    }\n",
       "\n",
       "    .dataframe tbody tr th {\n",
       "        vertical-align: top;\n",
       "    }\n",
       "\n",
       "    .dataframe thead th {\n",
       "        text-align: right;\n",
       "    }\n",
       "</style>\n",
       "<table border=\"1\" class=\"dataframe\">\n",
       "  <thead>\n",
       "    <tr style=\"text-align: right;\">\n",
       "      <th></th>\n",
       "      <th>avito_id</th>\n",
       "      <th>title</th>\n",
       "      <th>price</th>\n",
       "      <th>obj_name</th>\n",
       "      <th>adr</th>\n",
       "      <th>description</th>\n",
       "      <th>page</th>\n",
       "      <th>ts</th>\n",
       "      <th>place</th>\n",
       "    </tr>\n",
       "  </thead>\n",
       "  <tbody>\n",
       "    <tr>\n",
       "      <th>2518</th>\n",
       "      <td>2425338071</td>\n",
       "      <td>Объявление «2-к. квартира, 57 м², 2/10 эт.» 40 фотографий</td>\n",
       "      <td>6800000</td>\n",
       "      <td></td>\n",
       "      <td>ул. Горпищенко, 127к1</td>\n",
       "      <td>Двухкомнатная квартира 57 м2, на 2/10 этаже дома с просторной кухней 10,7 м2. Расположена в г. Севастополь, Нахимовский район, ул. Горпищенко, д. 127 к. 1. \\n\\nПозвоните нам, чтобы узнать все детали! \\n\\nТехнические характеристики: \\n— Адрес: г. Севастополь, На</td>\n",
       "      <td>57</td>\n",
       "      <td>2022-11-15 13:12:30.595599</td>\n",
       "      <td>sevastopol</td>\n",
       "    </tr>\n",
       "    <tr>\n",
       "      <th>235</th>\n",
       "      <td>2601331878</td>\n",
       "      <td>Объявление «1-к. квартира, 38 м², 3/5 эт.» 17 фотографий</td>\n",
       "      <td>3800000</td>\n",
       "      <td></td>\n",
       "      <td>ул. Колобова, 22</td>\n",
       "      <td>Срочная Продажа! Продам небольшую двушку в одном из самых востребованных районе города. Квартира находится непосредственно на территории части Мчс, что несомненно дает вам преимущество(бесплатная охраняемая парковка, круглосуточная охрана части). В квартир</td>\n",
       "      <td>5</td>\n",
       "      <td>2022-11-15 13:12:30.595599</td>\n",
       "      <td>sevastopol</td>\n",
       "    </tr>\n",
       "  </tbody>\n",
       "</table>\n",
       "</div>"
      ],
      "text/plain": [
       "        avito_id                                                      title  \\\n",
       "2518  2425338071  Объявление «2-к. квартира, 57 м², 2/10 эт.» 40 фотографий   \n",
       "235   2601331878   Объявление «1-к. квартира, 38 м², 3/5 эт.» 17 фотографий   \n",
       "\n",
       "        price obj_name                    adr  \\\n",
       "2518  6800000           ул. Горпищенко, 127к1   \n",
       "235   3800000                ул. Колобова, 22   \n",
       "\n",
       "                                                                                                                                                                                                                                                                description  \\\n",
       "2518  Двухкомнатная квартира 57 м2, на 2/10 этаже дома с просторной кухней 10,7 м2. Расположена в г. Севастополь, Нахимовский район, ул. Горпищенко, д. 127 к. 1. \\n\\nПозвоните нам, чтобы узнать все детали! \\n\\nТехнические характеристики: \\n— Адрес: г. Севастополь, На   \n",
       "235        Срочная Продажа! Продам небольшую двушку в одном из самых востребованных районе города. Квартира находится непосредственно на территории части Мчс, что несомненно дает вам преимущество(бесплатная охраняемая парковка, круглосуточная охрана части). В квартир   \n",
       "\n",
       "      page                         ts       place  \n",
       "2518    57 2022-11-15 13:12:30.595599  sevastopol  \n",
       "235      5 2022-11-15 13:12:30.595599  sevastopol  "
      ]
     },
     "execution_count": 10,
     "metadata": {},
     "output_type": "execute_result"
    }
   ],
   "source": [
    "df.sample(2)"
   ]
  },
  {
   "cell_type": "code",
   "execution_count": 11,
   "id": "fffa658b",
   "metadata": {},
   "outputs": [],
   "source": [
    "# !pip install dash_table"
   ]
  },
  {
   "cell_type": "code",
   "execution_count": null,
   "id": "6edacf3c",
   "metadata": {},
   "outputs": [],
   "source": []
  }
 ],
 "metadata": {
  "kernelspec": {
   "display_name": "Python 3 (ipykernel)",
   "language": "python",
   "name": "python3"
  },
  "language_info": {
   "codemirror_mode": {
    "name": "ipython",
    "version": 3
   },
   "file_extension": ".py",
   "mimetype": "text/x-python",
   "name": "python",
   "nbconvert_exporter": "python",
   "pygments_lexer": "ipython3",
   "version": "3.10.8"
  },
  "toc": {
   "base_numbering": 1,
   "nav_menu": {},
   "number_sections": true,
   "sideBar": true,
   "skip_h1_title": false,
   "title_cell": "Table of Contents",
   "title_sidebar": "Contents",
   "toc_cell": false,
   "toc_position": {},
   "toc_section_display": true,
   "toc_window_display": false
  },
  "varInspector": {
   "cols": {
    "lenName": 16,
    "lenType": 16,
    "lenVar": 40
   },
   "kernels_config": {
    "python": {
     "delete_cmd_postfix": "",
     "delete_cmd_prefix": "del ",
     "library": "var_list.py",
     "varRefreshCmd": "print(var_dic_list())"
    },
    "r": {
     "delete_cmd_postfix": ") ",
     "delete_cmd_prefix": "rm(",
     "library": "var_list.r",
     "varRefreshCmd": "cat(var_dic_list()) "
    }
   },
   "types_to_exclude": [
    "module",
    "function",
    "builtin_function_or_method",
    "instance",
    "_Feature"
   ],
   "window_display": false
  }
 },
 "nbformat": 4,
 "nbformat_minor": 5
}
