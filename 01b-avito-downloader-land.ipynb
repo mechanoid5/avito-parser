{
 "cells": [
  {
   "cell_type": "markdown",
   "id": "7bec28d7",
   "metadata": {},
   "source": [
    "__качаем объявления о продаже земельных участков с авито.ru__\n",
    "\n",
    "_Evgeny S. Borisov <parser@mechanoid.su>_"
   ]
  },
  {
   "cell_type": "code",
   "execution_count": 1,
   "id": "52c5999f",
   "metadata": {},
   "outputs": [],
   "source": [
    "# !pacman -S firefox firefox-i18n-r  geckodriver\n",
    "# !pip install seleniuam"
   ]
  },
  {
   "cell_type": "code",
   "execution_count": 2,
   "id": "bcea4d8b",
   "metadata": {
    "ExecuteTime": {
     "end_time": "2022-08-26T14:19:06.118492Z",
     "start_time": "2022-08-26T14:13:37.888398Z"
    }
   },
   "outputs": [],
   "source": [
    "# import re\n",
    "import sys\n",
    "import logging\n",
    "from datetime import datetime as dtm\n",
    "from tqdm.notebook import tqdm\n",
    "import pandas as pd"
   ]
  },
  {
   "cell_type": "code",
   "execution_count": 3,
   "id": "caabc8c7",
   "metadata": {
    "ExecuteTime": {
     "end_time": "2022-08-26T14:19:06.118492Z",
     "start_time": "2022-08-26T14:13:37.888398Z"
    }
   },
   "outputs": [],
   "source": [
    "pd.set_option('display.max_colwidth', None)\n",
    "pd.set_option('display.float_format', '{:.2f}'.format)\n",
    "tqdm.pandas()\n",
    "\n",
    "logging.basicConfig(\n",
    "        format=u'[%(levelname)-8s] %(asctime)s | %(message)s',\n",
    "        datefmt='%Y-%m-%d %H:%M:%S',\n",
    "        level=logging.INFO,\n",
    "        # level=logging.DEBUG,\n",
    "        stream=sys.stdout,\n",
    "    )"
   ]
  },
  {
   "cell_type": "markdown",
   "id": "db3fe2be",
   "metadata": {},
   "source": [
    "---"
   ]
  },
  {
   "cell_type": "code",
   "execution_count": 4,
   "id": "288569b0",
   "metadata": {},
   "outputs": [],
   "source": [
    "# url = (\n",
    "# 'https://www.avito.ru/yaroslavskaya_oblast/avtomobili/chevrolet/niva'\n",
    "# '?bt=0'\n",
    "# '&i=1'\n",
    "# '&pmax=150000'\n",
    "# '&pmin=10000'\n",
    "# )"
   ]
  },
  {
   "cell_type": "code",
   "execution_count": 5,
   "id": "d437eab9",
   "metadata": {},
   "outputs": [],
   "source": [
    "profile_path = '/home/mechanoid/.mozilla/firefox/p144xo2m.default-release'\n",
    "\n",
    "base_url = 'https://www.avito.ru/'\n",
    "place = 'sevastopol'\n",
    "avito_path = place+'/zemelnye_uchastki/prodam/izhs'\n",
    "    \n",
    "raw_data_path = 'data/raw/land/avito' # каталог с файлами объявлений"
   ]
  },
  {
   "cell_type": "code",
   "execution_count": 6,
   "id": "9ce138fe",
   "metadata": {},
   "outputs": [
    {
     "name": "stdout",
     "output_type": "stream",
     "text": [
      "[INFO    ] 2022-09-19 12:38:09 | DownloaderSeleniumFirefox: downloader init\n",
      "[INFO    ] 2022-09-19 12:38:09 | DownloaderSeleniumFirefox: open virtual browser\n",
      "[INFO    ] 2022-09-19 12:38:11 | AdsListParser: downloader init\n",
      "[INFO    ] 2022-09-19 12:38:11 | AvitoParser: init\n",
      "[INFO    ] 2022-09-19 12:38:20 | AvitoParser: 23 pages for read\n",
      "[INFO    ] 2022-09-19 12:38:20 | AdsListParser: start read and parse pages...\n",
      "[INFO    ] 2022-09-19 12:38:23 | AdsListParser: read page 1\n",
      "[INFO    ] 2022-09-19 12:38:28 | AdsListParser: read page 2\n",
      "[INFO    ] 2022-09-19 12:38:31 | AdsListParser: read page 3\n",
      "[INFO    ] 2022-09-19 12:38:35 | AdsListParser: read page 4\n",
      "[INFO    ] 2022-09-19 12:38:39 | AdsListParser: read page 5\n",
      "[INFO    ] 2022-09-19 12:38:45 | AdsListParser: read page 6\n",
      "[INFO    ] 2022-09-19 12:38:49 | AdsListParser: read page 7\n",
      "[INFO    ] 2022-09-19 12:38:53 | AdsListParser: read page 8\n",
      "[INFO    ] 2022-09-19 12:38:58 | AdsListParser: read page 9\n",
      "[INFO    ] 2022-09-19 12:39:04 | AdsListParser: read page 10\n",
      "[INFO    ] 2022-09-19 12:39:07 | AdsListParser: read page 11\n",
      "[INFO    ] 2022-09-19 12:39:10 | AdsListParser: read page 12\n",
      "[INFO    ] 2022-09-19 12:39:14 | AdsListParser: read page 13\n",
      "[INFO    ] 2022-09-19 12:39:17 | AdsListParser: read page 14\n",
      "[INFO    ] 2022-09-19 12:39:21 | AdsListParser: read page 15\n",
      "[INFO    ] 2022-09-19 12:39:26 | AdsListParser: read page 16\n",
      "[INFO    ] 2022-09-19 12:39:30 | AdsListParser: read page 17\n",
      "[INFO    ] 2022-09-19 12:39:34 | AdsListParser: read page 18\n",
      "[INFO    ] 2022-09-19 12:39:40 | AdsListParser: read page 19\n",
      "[INFO    ] 2022-09-19 12:39:44 | AdsListParser: read page 20\n",
      "[INFO    ] 2022-09-19 12:39:48 | AdsListParser: read page 21\n",
      "[INFO    ] 2022-09-19 12:39:51 | AdsListParser: read page 22\n",
      "[INFO    ] 2022-09-19 12:39:53 | AdsListParser: read page 23\n",
      "[INFO    ] 2022-09-19 12:39:53 | AdsListParser: last page detected\n",
      "[INFO    ] 2022-09-19 12:39:54 | DownloaderSeleniumFirefox: close virtual browser\n",
      "1104\n",
      "CPU times: user 4.54 s, sys: 185 ms, total: 4.72 s\n",
      "Wall time: 1min 45s\n"
     ]
    }
   ],
   "source": [
    "%%time \n",
    "\n",
    "from lib.downloader import DownloaderSeleniumFirefox\n",
    "from lib.avito import AvitoParserRealty\n",
    "\n",
    "df,html = AvitoParserRealty(\n",
    "        base_url=base_url+'/'+avito_path,\n",
    "        driver=DownloaderSeleniumFirefox(profile_path)\n",
    "    ).load(req_param='',keep_html=True)\n",
    "\n",
    "print(len(df))"
   ]
  },
  {
   "cell_type": "code",
   "execution_count": 7,
   "id": "f8bd78d3",
   "metadata": {},
   "outputs": [
    {
     "name": "stdout",
     "output_type": "stream",
     "text": [
      "1104\n",
      "1104\n"
     ]
    }
   ],
   "source": [
    "print(len(df))\n",
    "df = df.dropna().drop_duplicates(['avito_id','description']).reset_index(drop=True)\n",
    "print(len(df))"
   ]
  },
  {
   "cell_type": "code",
   "execution_count": 8,
   "id": "76681b12",
   "metadata": {},
   "outputs": [],
   "source": [
    "df['place']=place"
   ]
  },
  {
   "cell_type": "code",
   "execution_count": 9,
   "id": "6fa322a2",
   "metadata": {},
   "outputs": [],
   "source": [
    "ts = dtm.now().strftime('%Y-%m-%d_%H-%M')\n",
    "assert len(df)>0\n",
    "df.to_excel(f'{raw_data_path}/avito_{ts}_raw.xlsx',index=False)"
   ]
  },
  {
   "cell_type": "code",
   "execution_count": 10,
   "id": "bcd426ee",
   "metadata": {},
   "outputs": [
    {
     "data": {
      "text/html": [
       "<div>\n",
       "<style scoped>\n",
       "    .dataframe tbody tr th:only-of-type {\n",
       "        vertical-align: middle;\n",
       "    }\n",
       "\n",
       "    .dataframe tbody tr th {\n",
       "        vertical-align: top;\n",
       "    }\n",
       "\n",
       "    .dataframe thead th {\n",
       "        text-align: right;\n",
       "    }\n",
       "</style>\n",
       "<table border=\"1\" class=\"dataframe\">\n",
       "  <thead>\n",
       "    <tr style=\"text-align: right;\">\n",
       "      <th></th>\n",
       "      <th>avito_id</th>\n",
       "      <th>title</th>\n",
       "      <th>price</th>\n",
       "      <th>obj_name</th>\n",
       "      <th>adr</th>\n",
       "      <th>description</th>\n",
       "      <th>page</th>\n",
       "      <th>ts</th>\n",
       "      <th>place</th>\n",
       "    </tr>\n",
       "  </thead>\n",
       "  <tbody>\n",
       "    <tr>\n",
       "      <th>437</th>\n",
       "      <td>2448235138</td>\n",
       "      <td>Объявление «Участок 8 сот. (ИЖС)» 5 фотографий</td>\n",
       "      <td>3500000</td>\n",
       "      <td></td>\n",
       "      <td>с. Флотское, Ягодная ул.</td>\n",
       "      <td>Арт. 24777666 Торг после осмотра. \\n\\nПродам видовой участок 8 соток (Ижс), село Флотское. \\nКоммуникации: \\nэлектричество — 15 квт.\\nВода — центральный водопровод по границе участка.\\n\\nГаз — проведение запланировано на конец 2022 года.\\n\\nУчасток правильной формы</td>\n",
       "      <td>9</td>\n",
       "      <td>2022-09-19 12:39:53.571271</td>\n",
       "      <td>sevastopol</td>\n",
       "    </tr>\n",
       "    <tr>\n",
       "      <th>411</th>\n",
       "      <td>2529306780</td>\n",
       "      <td>Объявление «Участок 7,5 сот. (ИЖС)» с фотографией</td>\n",
       "      <td>7000000</td>\n",
       "      <td></td>\n",
       "      <td>Пасечный пр., 3</td>\n",
       "      <td>Участок 7,5 соток ижс. Выход на 2 улицы. На участке проведено вода, свет ( заведено 380), очистные ( сданы в архитектуру), видеонаблюдение ( +онлайн), интернет. Имеется разрешение на строительство дома все документы чистые, российские. Один собственник Я.</td>\n",
       "      <td>9</td>\n",
       "      <td>2022-09-19 12:39:53.571271</td>\n",
       "      <td>sevastopol</td>\n",
       "    </tr>\n",
       "  </tbody>\n",
       "</table>\n",
       "</div>"
      ],
      "text/plain": [
       "       avito_id                                              title    price  \\\n",
       "437  2448235138     Объявление «Участок 8 сот. (ИЖС)» 5 фотографий  3500000   \n",
       "411  2529306780  Объявление «Участок 7,5 сот. (ИЖС)» с фотографией  7000000   \n",
       "\n",
       "    obj_name                       adr  \\\n",
       "437           с. Флотское, Ягодная ул.   \n",
       "411                    Пасечный пр., 3   \n",
       "\n",
       "                                                                                                                                                                                                                                                                   description  \\\n",
       "437  Арт. 24777666 Торг после осмотра. \\n\\nПродам видовой участок 8 соток (Ижс), село Флотское. \\nКоммуникации: \\nэлектричество — 15 квт.\\nВода — центральный водопровод по границе участка.\\n\\nГаз — проведение запланировано на конец 2022 года.\\n\\nУчасток правильной формы   \n",
       "411           Участок 7,5 соток ижс. Выход на 2 улицы. На участке проведено вода, свет ( заведено 380), очистные ( сданы в архитектуру), видеонаблюдение ( +онлайн), интернет. Имеется разрешение на строительство дома все документы чистые, российские. Один собственник Я.    \n",
       "\n",
       "     page                         ts       place  \n",
       "437     9 2022-09-19 12:39:53.571271  sevastopol  \n",
       "411     9 2022-09-19 12:39:53.571271  sevastopol  "
      ]
     },
     "execution_count": 10,
     "metadata": {},
     "output_type": "execute_result"
    }
   ],
   "source": [
    "df.sample(2)"
   ]
  },
  {
   "cell_type": "code",
   "execution_count": null,
   "id": "fffa658b",
   "metadata": {},
   "outputs": [],
   "source": []
  }
 ],
 "metadata": {
  "kernelspec": {
   "display_name": "Python 3 (ipykernel)",
   "language": "python",
   "name": "python3"
  },
  "language_info": {
   "codemirror_mode": {
    "name": "ipython",
    "version": 3
   },
   "file_extension": ".py",
   "mimetype": "text/x-python",
   "name": "python",
   "nbconvert_exporter": "python",
   "pygments_lexer": "ipython3",
   "version": "3.10.6"
  },
  "toc": {
   "base_numbering": 1,
   "nav_menu": {},
   "number_sections": true,
   "sideBar": true,
   "skip_h1_title": false,
   "title_cell": "Table of Contents",
   "title_sidebar": "Contents",
   "toc_cell": false,
   "toc_position": {},
   "toc_section_display": true,
   "toc_window_display": false
  },
  "varInspector": {
   "cols": {
    "lenName": 16,
    "lenType": 16,
    "lenVar": 40
   },
   "kernels_config": {
    "python": {
     "delete_cmd_postfix": "",
     "delete_cmd_prefix": "del ",
     "library": "var_list.py",
     "varRefreshCmd": "print(var_dic_list())"
    },
    "r": {
     "delete_cmd_postfix": ") ",
     "delete_cmd_prefix": "rm(",
     "library": "var_list.r",
     "varRefreshCmd": "cat(var_dic_list()) "
    }
   },
   "types_to_exclude": [
    "module",
    "function",
    "builtin_function_or_method",
    "instance",
    "_Feature"
   ],
   "window_display": false
  }
 },
 "nbformat": 4,
 "nbformat_minor": 5
}
