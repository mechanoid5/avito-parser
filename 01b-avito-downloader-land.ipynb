{
 "cells": [
  {
   "cell_type": "markdown",
   "id": "7bec28d7",
   "metadata": {},
   "source": [
    "__качаем объявления о продаже земельных участков с авито.ru__\n",
    "\n",
    "_Evgeny S. Borisov <parser@mechanoid.su>_"
   ]
  },
  {
   "cell_type": "code",
   "execution_count": 1,
   "id": "52c5999f",
   "metadata": {},
   "outputs": [],
   "source": [
    "# !pacman -S firefox firefox-i18n-r  geckodriver\n",
    "# !pip install seleniuam"
   ]
  },
  {
   "cell_type": "code",
   "execution_count": 2,
   "id": "bcea4d8b",
   "metadata": {
    "ExecuteTime": {
     "end_time": "2022-08-26T14:19:06.118492Z",
     "start_time": "2022-08-26T14:13:37.888398Z"
    }
   },
   "outputs": [],
   "source": [
    "# import re\n",
    "import sys\n",
    "import logging\n",
    "from datetime import datetime as dtm\n",
    "from tqdm.notebook import tqdm\n",
    "import pandas as pd"
   ]
  },
  {
   "cell_type": "code",
   "execution_count": 3,
   "id": "caabc8c7",
   "metadata": {
    "ExecuteTime": {
     "end_time": "2022-08-26T14:19:06.118492Z",
     "start_time": "2022-08-26T14:13:37.888398Z"
    }
   },
   "outputs": [],
   "source": [
    "pd.set_option('display.max_colwidth', None)\n",
    "pd.set_option('display.float_format', '{:.2f}'.format)\n",
    "tqdm.pandas()\n",
    "\n",
    "logging.basicConfig(\n",
    "        format=u'[%(levelname)-8s] %(asctime)s | %(message)s',\n",
    "        datefmt='%Y-%m-%d %H:%M:%S',\n",
    "        level=logging.INFO,\n",
    "        # level=logging.DEBUG,\n",
    "        stream=sys.stdout,\n",
    "    )"
   ]
  },
  {
   "cell_type": "markdown",
   "id": "db3fe2be",
   "metadata": {},
   "source": [
    "---"
   ]
  },
  {
   "cell_type": "code",
   "execution_count": 4,
   "id": "288569b0",
   "metadata": {},
   "outputs": [],
   "source": [
    "# url = (\n",
    "# 'https://www.avito.ru/yaroslavskaya_oblast/avtomobili/chevrolet/niva'\n",
    "# '?bt=0'\n",
    "# '&i=1'\n",
    "# '&pmax=150000'\n",
    "# '&pmin=10000'\n",
    "# )"
   ]
  },
  {
   "cell_type": "code",
   "execution_count": 5,
   "id": "d437eab9",
   "metadata": {},
   "outputs": [],
   "source": [
    "profile_path = '/home/mechanoid/.mozilla/firefox/p144xo2m.default-release'\n",
    "\n",
    "base_url = 'https://www.avito.ru/'\n",
    "place = 'sevastopol'\n",
    "avito_path = place+'/zemelnye_uchastki/prodam/izhs'\n",
    "    \n",
    "raw_data_path = 'data/raw/land/avito' # каталог с файлами объявлений"
   ]
  },
  {
   "cell_type": "code",
   "execution_count": 6,
   "id": "9ce138fe",
   "metadata": {},
   "outputs": [
    {
     "name": "stdout",
     "output_type": "stream",
     "text": [
      "[INFO    ] 2022-11-28 14:54:13 | DownloaderSeleniumFirefox: downloader init\n",
      "[INFO    ] 2022-11-28 14:54:13 | DownloaderSeleniumFirefox: open virtual browser\n",
      "[INFO    ] 2022-11-28 14:54:15 | AdsListParser: downloader init\n",
      "[INFO    ] 2022-11-28 14:54:15 | AvitoParser: init\n",
      "[INFO    ] 2022-11-28 14:55:18 | AvitoParser: 21 pages for read\n",
      "[INFO    ] 2022-11-28 14:55:18 | AdsListParser: start read and parse pages...\n",
      "[INFO    ] 2022-11-28 14:55:20 | AdsListParser: read page 1\n",
      "[INFO    ] 2022-11-28 14:55:22 | AdsListParser: read page 2\n",
      "[INFO    ] 2022-11-28 14:55:24 | AdsListParser: read page 3\n",
      "[INFO    ] 2022-11-28 14:55:27 | AdsListParser: read page 4\n",
      "[INFO    ] 2022-11-28 14:56:31 | AdsListParser: read page 5\n",
      "[INFO    ] 2022-11-28 14:56:35 | AdsListParser: read page 6\n",
      "[INFO    ] 2022-11-28 14:56:37 | AdsListParser: read page 7\n",
      "[INFO    ] 2022-11-28 14:56:40 | AdsListParser: read page 8\n",
      "[INFO    ] 2022-11-28 14:56:43 | AdsListParser: read page 9\n",
      "[INFO    ] 2022-11-28 14:56:45 | AdsListParser: read page 10\n",
      "[INFO    ] 2022-11-28 14:56:47 | AdsListParser: read page 11\n",
      "[INFO    ] 2022-11-28 14:56:50 | AdsListParser: read page 12\n",
      "[INFO    ] 2022-11-28 14:57:51 | AdsListParser: read page 13\n",
      "[INFO    ] 2022-11-28 14:57:52 | AdsListParser: read page 14\n",
      "[INFO    ] 2022-11-28 14:58:02 | AdsListParser: read page 15\n",
      "[INFO    ] 2022-11-28 14:58:04 | AdsListParser: read page 16\n",
      "[INFO    ] 2022-11-28 14:58:06 | AdsListParser: read page 17\n",
      "[INFO    ] 2022-11-28 14:58:08 | AdsListParser: read page 18\n",
      "[INFO    ] 2022-11-28 14:58:10 | AdsListParser: read page 19\n",
      "[INFO    ] 2022-11-28 14:58:14 | AdsListParser: read page 20\n",
      "[INFO    ] 2022-11-28 14:58:16 | AdsListParser: read page 21\n",
      "[INFO    ] 2022-11-28 14:58:16 | AdsListParser: last page detected\n",
      "[INFO    ] 2022-11-28 14:58:17 | DownloaderSeleniumFirefox: close virtual browser\n",
      "1041\n",
      "CPU times: user 4.03 s, sys: 125 ms, total: 4.16 s\n",
      "Wall time: 4min 4s\n"
     ]
    }
   ],
   "source": [
    "%%time \n",
    "\n",
    "from lib.downloader import DownloaderSeleniumFirefox\n",
    "from lib.avito import AvitoParserRealty\n",
    "\n",
    "df,html = AvitoParserRealty(\n",
    "        base_url=base_url+'/'+avito_path,\n",
    "        driver=DownloaderSeleniumFirefox(profile_path)\n",
    "    ).load(req_param='',keep_html=True)\n",
    "\n",
    "print(len(df))"
   ]
  },
  {
   "cell_type": "code",
   "execution_count": 7,
   "id": "f8bd78d3",
   "metadata": {},
   "outputs": [
    {
     "name": "stdout",
     "output_type": "stream",
     "text": [
      "1041\n",
      "1030\n"
     ]
    }
   ],
   "source": [
    "print(len(df))\n",
    "df = df.dropna().drop_duplicates(['avito_id','description']).reset_index(drop=True)\n",
    "print(len(df))"
   ]
  },
  {
   "cell_type": "code",
   "execution_count": 8,
   "id": "76681b12",
   "metadata": {},
   "outputs": [],
   "source": [
    "df['place']=place"
   ]
  },
  {
   "cell_type": "code",
   "execution_count": 9,
   "id": "6fa322a2",
   "metadata": {},
   "outputs": [],
   "source": [
    "ts = dtm.now().strftime('%Y-%m-%d_%H-%M')\n",
    "assert len(df)>0\n",
    "df.to_excel(f'{raw_data_path}/avito_{ts}_raw.xlsx',index=False)"
   ]
  },
  {
   "cell_type": "code",
   "execution_count": 10,
   "id": "bcd426ee",
   "metadata": {},
   "outputs": [
    {
     "data": {
      "text/html": [
       "<div>\n",
       "<style scoped>\n",
       "    .dataframe tbody tr th:only-of-type {\n",
       "        vertical-align: middle;\n",
       "    }\n",
       "\n",
       "    .dataframe tbody tr th {\n",
       "        vertical-align: top;\n",
       "    }\n",
       "\n",
       "    .dataframe thead th {\n",
       "        text-align: right;\n",
       "    }\n",
       "</style>\n",
       "<table border=\"1\" class=\"dataframe\">\n",
       "  <thead>\n",
       "    <tr style=\"text-align: right;\">\n",
       "      <th></th>\n",
       "      <th>avito_id</th>\n",
       "      <th>title</th>\n",
       "      <th>price</th>\n",
       "      <th>obj_name</th>\n",
       "      <th>adr</th>\n",
       "      <th>description</th>\n",
       "      <th>page</th>\n",
       "      <th>ts</th>\n",
       "      <th>place</th>\n",
       "    </tr>\n",
       "  </thead>\n",
       "  <tbody>\n",
       "    <tr>\n",
       "      <th>43</th>\n",
       "      <td>2540380143</td>\n",
       "      <td>Объявление «Участок 4 сот. (ИЖС)» 3 фотографии</td>\n",
       "      <td>900000</td>\n",
       "      <td></td>\n",
       "      <td>садоводческое товарищество Наука</td>\n",
       "      <td>Продам участок 4 сотки в Снт Наука, рядом лес, свежий воздух. Коммуникации свет по границе, вода кооперативная. Торг.</td>\n",
       "      <td>1</td>\n",
       "      <td>2022-11-28 14:58:16.678954</td>\n",
       "      <td>sevastopol</td>\n",
       "    </tr>\n",
       "    <tr>\n",
       "      <th>236</th>\n",
       "      <td>2623822877</td>\n",
       "      <td>Объявление «Участок 4,7 сот. (ИЖС)» 5 фотографий</td>\n",
       "      <td>10000000</td>\n",
       "      <td></td>\n",
       "      <td>ул. Пугачёва</td>\n",
       "      <td>Эксклюзивное предложение которое вы искали. Центр города, все коммуникации, шикарный вид который вам ни кто не застроит! Частичка счастья на пересечении ул. Сеченова и ул. Ленинградская, Площадью 4.7 сотки Ижс. \\n\\nКоммуникации: \\nСвет — По границе.\\nВода — го</td>\n",
       "      <td>5</td>\n",
       "      <td>2022-11-28 14:58:16.678954</td>\n",
       "      <td>sevastopol</td>\n",
       "    </tr>\n",
       "  </tbody>\n",
       "</table>\n",
       "</div>"
      ],
      "text/plain": [
       "       avito_id                                             title     price  \\\n",
       "43   2540380143    Объявление «Участок 4 сот. (ИЖС)» 3 фотографии    900000   \n",
       "236  2623822877  Объявление «Участок 4,7 сот. (ИЖС)» 5 фотографий  10000000   \n",
       "\n",
       "    obj_name                               adr  \\\n",
       "43            садоводческое товарищество Наука   \n",
       "236                               ул. Пугачёва   \n",
       "\n",
       "                                                                                                                                                                                                                                                              description  \\\n",
       "43                                                                                                                                                  Продам участок 4 сотки в Снт Наука, рядом лес, свежий воздух. Коммуникации свет по границе, вода кооперативная. Торг.   \n",
       "236  Эксклюзивное предложение которое вы искали. Центр города, все коммуникации, шикарный вид который вам ни кто не застроит! Частичка счастья на пересечении ул. Сеченова и ул. Ленинградская, Площадью 4.7 сотки Ижс. \\n\\nКоммуникации: \\nСвет — По границе.\\nВода — го   \n",
       "\n",
       "     page                         ts       place  \n",
       "43      1 2022-11-28 14:58:16.678954  sevastopol  \n",
       "236     5 2022-11-28 14:58:16.678954  sevastopol  "
      ]
     },
     "execution_count": 10,
     "metadata": {},
     "output_type": "execute_result"
    }
   ],
   "source": [
    "df.sample(2)"
   ]
  },
  {
   "cell_type": "code",
   "execution_count": null,
   "id": "fffa658b",
   "metadata": {},
   "outputs": [],
   "source": []
  }
 ],
 "metadata": {
  "kernelspec": {
   "display_name": "Python 3 (ipykernel)",
   "language": "python",
   "name": "python3"
  },
  "language_info": {
   "codemirror_mode": {
    "name": "ipython",
    "version": 3
   },
   "file_extension": ".py",
   "mimetype": "text/x-python",
   "name": "python",
   "nbconvert_exporter": "python",
   "pygments_lexer": "ipython3",
   "version": "3.10.8"
  },
  "toc": {
   "base_numbering": 1,
   "nav_menu": {},
   "number_sections": true,
   "sideBar": true,
   "skip_h1_title": false,
   "title_cell": "Table of Contents",
   "title_sidebar": "Contents",
   "toc_cell": false,
   "toc_position": {},
   "toc_section_display": true,
   "toc_window_display": false
  },
  "varInspector": {
   "cols": {
    "lenName": 16,
    "lenType": 16,
    "lenVar": 40
   },
   "kernels_config": {
    "python": {
     "delete_cmd_postfix": "",
     "delete_cmd_prefix": "del ",
     "library": "var_list.py",
     "varRefreshCmd": "print(var_dic_list())"
    },
    "r": {
     "delete_cmd_postfix": ") ",
     "delete_cmd_prefix": "rm(",
     "library": "var_list.r",
     "varRefreshCmd": "cat(var_dic_list()) "
    }
   },
   "types_to_exclude": [
    "module",
    "function",
    "builtin_function_or_method",
    "instance",
    "_Feature"
   ],
   "window_display": false
  }
 },
 "nbformat": 4,
 "nbformat_minor": 5
}
