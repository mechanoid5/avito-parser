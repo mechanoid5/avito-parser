{
 "cells": [
  {
   "cell_type": "markdown",
   "id": "f1333475",
   "metadata": {},
   "source": [
    "__собираем статистики по объявлениям__\n",
    "\n",
    "_Evgeny S. Borisov <parser@mechanoid.su>_"
   ]
  },
  {
   "cell_type": "code",
   "execution_count": 1,
   "id": "caabc8c7",
   "metadata": {
    "ExecuteTime": {
     "end_time": "2022-08-26T14:19:06.118492Z",
     "start_time": "2022-08-26T14:13:37.888398Z"
    }
   },
   "outputs": [],
   "source": [
    "# import re\n",
    "import numpy as np\n",
    "# from tqdm.notebook import tqdm\n",
    "import pandas as pd\n",
    "import geopandas as gpd\n",
    "# import contextily as ctx\n",
    "from shapely.geometry import Polygon"
   ]
  },
  {
   "cell_type": "code",
   "execution_count": 2,
   "id": "5851ca24",
   "metadata": {},
   "outputs": [],
   "source": [
    "pd.set_option('display.max_colwidth', None)\n",
    "pd.set_option('display.float_format', '{:.2f}'.format)\n",
    "# tqdm.pandas()"
   ]
  },
  {
   "cell_type": "code",
   "execution_count": 3,
   "id": "a9e60b52",
   "metadata": {},
   "outputs": [],
   "source": [
    "# !ls -1 data"
   ]
  },
  {
   "cell_type": "markdown",
   "id": "2a49430f",
   "metadata": {},
   "source": [
    "## считываем данные"
   ]
  },
  {
   "cell_type": "code",
   "execution_count": 4,
   "id": "c7f1db96",
   "metadata": {},
   "outputs": [],
   "source": [
    "# place = 'sudak'\n",
    "# place = 'sevastopol'\n",
    "# place = 'bakchisaray'"
   ]
  },
  {
   "cell_type": "code",
   "execution_count": 5,
   "id": "e4785b46",
   "metadata": {},
   "outputs": [],
   "source": [
    "data_file = 'data/data_house.pkl'"
   ]
  },
  {
   "cell_type": "code",
   "execution_count": 6,
   "id": "6b61d546",
   "metadata": {
    "ExecuteTime": {
     "end_time": "2022-08-26T14:28:54.896946Z",
     "start_time": "2022-08-26T14:28:54.857053Z"
    }
   },
   "outputs": [
    {
     "name": "stdout",
     "output_type": "stream",
     "text": [
      "2432\n"
     ]
    },
    {
     "data": {
      "text/html": [
       "<div>\n",
       "<style scoped>\n",
       "    .dataframe tbody tr th:only-of-type {\n",
       "        vertical-align: middle;\n",
       "    }\n",
       "\n",
       "    .dataframe tbody tr th {\n",
       "        vertical-align: top;\n",
       "    }\n",
       "\n",
       "    .dataframe thead th {\n",
       "        text-align: right;\n",
       "    }\n",
       "</style>\n",
       "<table border=\"1\" class=\"dataframe\">\n",
       "  <thead>\n",
       "    <tr style=\"text-align: right;\">\n",
       "      <th></th>\n",
       "      <th>title</th>\n",
       "      <th>adr</th>\n",
       "      <th>latitude</th>\n",
       "      <th>longitude</th>\n",
       "      <th>priceM</th>\n",
       "      <th>ts</th>\n",
       "    </tr>\n",
       "  </thead>\n",
       "  <tbody>\n",
       "    <tr>\n",
       "      <th>1433</th>\n",
       "      <td>дом 80 м² на участке 9,9 сот.</td>\n",
       "      <td>Охотская ул., 34</td>\n",
       "      <td>44.59</td>\n",
       "      <td>33.53</td>\n",
       "      <td>6.20</td>\n",
       "      <td>2022-09-15 11:53:29.976</td>\n",
       "    </tr>\n",
       "    <tr>\n",
       "      <th>1302</th>\n",
       "      <td>дом 204 м² на участке 4 сот.</td>\n",
       "      <td>Севастополь, улица Мечникова</td>\n",
       "      <td>44.60</td>\n",
       "      <td>33.51</td>\n",
       "      <td>39.00</td>\n",
       "      <td>2022-09-15 11:53:29.976</td>\n",
       "    </tr>\n",
       "    <tr>\n",
       "      <th>863</th>\n",
       "      <td>дом 86,1 м² на участке 6 сот.</td>\n",
       "      <td>ул. Сладкова, 10</td>\n",
       "      <td>44.60</td>\n",
       "      <td>33.48</td>\n",
       "      <td>13.00</td>\n",
       "      <td>2022-09-15 11:53:29.976</td>\n",
       "    </tr>\n",
       "  </tbody>\n",
       "</table>\n",
       "</div>"
      ],
      "text/plain": [
       "                              title                           adr  latitude  \\\n",
       "1433  дом 80 м² на участке 9,9 сот.              Охотская ул., 34     44.59   \n",
       "1302   дом 204 м² на участке 4 сот.  Севастополь, улица Мечникова     44.60   \n",
       "863   дом 86,1 м² на участке 6 сот.              ул. Сладкова, 10     44.60   \n",
       "\n",
       "      longitude  priceM                      ts  \n",
       "1433      33.53    6.20 2022-09-15 11:53:29.976  \n",
       "1302      33.51   39.00 2022-09-15 11:53:29.976  \n",
       "863       33.48   13.00 2022-09-15 11:53:29.976  "
      ]
     },
     "execution_count": 6,
     "metadata": {},
     "output_type": "execute_result"
    }
   ],
   "source": [
    "cols = ['title','adr','latitude','longitude','priceM','ts']\n",
    "df = pd.read_pickle(data_file)\n",
    "df['dt'] = pd.to_datetime( df['ts'].dt.date )\n",
    "print(len(df))\n",
    "df.sample(3)[cols]"
   ]
  },
  {
   "cell_type": "code",
   "execution_count": null,
   "id": "01e8b0e8",
   "metadata": {},
   "outputs": [],
   "source": [
    "df.info()"
   ]
  },
  {
   "cell_type": "code",
   "execution_count": null,
   "id": "ea731553",
   "metadata": {},
   "outputs": [],
   "source": [
    "df.sample(3)[cols]"
   ]
  },
  {
   "cell_type": "code",
   "execution_count": null,
   "id": "2913a311",
   "metadata": {},
   "outputs": [],
   "source": [
    "# берём объявления с геометкой\n",
    "print(len(df))\n",
    "df = df[ (~df['latitude'].isnull()) ].reset_index(drop=True)\n",
    "print(len(df))"
   ]
  },
  {
   "cell_type": "code",
   "execution_count": null,
   "id": "deafd63c",
   "metadata": {},
   "outputs": [],
   "source": [
    "df.sample(2)"
   ]
  },
  {
   "cell_type": "code",
   "execution_count": null,
   "id": "577b09b2",
   "metadata": {},
   "outputs": [],
   "source": [
    "# # берём самые свежие объявления\n",
    "# print(len(df))\n",
    "# df = df[ (df['ts']==df['ts'].max()) ].reset_index(drop=True)\n",
    "# print(len(df))\n",
    "\n",
    "# cols = ['title','adr','latitude','longitude','priceM']\n",
    "# df[cols]"
   ]
  },
  {
   "cell_type": "markdown",
   "id": "8f56d99a",
   "metadata": {},
   "source": [
    "### ограничиваем тип объекта "
   ]
  },
  {
   "cell_type": "code",
   "execution_count": null,
   "id": "375b64ab",
   "metadata": {},
   "outputs": [],
   "source": [
    "print(len(df))\n",
    "# выкидываем \"ущербные\" варианты \n",
    "\n",
    "df = df.query('~(is_part|is_SNT|is_townhouse) & (house_area>40.) & (priceM<15.)')\n",
    "\n",
    "print(len(df))"
   ]
  },
  {
   "cell_type": "code",
   "execution_count": null,
   "id": "b2293ad0",
   "metadata": {},
   "outputs": [],
   "source": [
    "gdf = gpd.GeoDataFrame( df, geometry = gpd.points_from_xy( df['longitude'], df['latitude']), crs='epsg:4326', )\n",
    "gdf.sample(3)[['title','adr','latitude','longitude','priceM']]"
   ]
  },
  {
   "cell_type": "code",
   "execution_count": null,
   "id": "91758e7b",
   "metadata": {},
   "outputs": [],
   "source": [
    "del df"
   ]
  },
  {
   "cell_type": "code",
   "execution_count": null,
   "id": "74001d80",
   "metadata": {},
   "outputs": [],
   "source": [
    "# gdf[['title','priceM','area_size_category','geometry']].sample(100).explore('area_size_category', legend=True) \n",
    "gdf[['title','priceM','house_size_category','geometry']].sample(100).explore('house_size_category',legend=True) "
   ]
  },
  {
   "cell_type": "markdown",
   "id": "d1826c64",
   "metadata": {},
   "source": [
    "## общая статистика изменение цены"
   ]
  },
  {
   "cell_type": "code",
   "execution_count": null,
   "id": "ce732683",
   "metadata": {},
   "outputs": [],
   "source": [
    "ts = '2022-08-01' # ограничиваем дату"
   ]
  },
  {
   "cell_type": "code",
   "execution_count": null,
   "id": "69b560cc",
   "metadata": {},
   "outputs": [],
   "source": [
    "stat = (\n",
    "    gdf.query('priceM>1.')\n",
    "    .groupby(['house_size_category','dt'])\n",
    "    ['priceM'].describe(percentiles=[.1,.25,.5,.75,.9])\n",
    ")\n",
    "stat"
   ]
  },
  {
   "cell_type": "code",
   "execution_count": null,
   "id": "8e4706c2",
   "metadata": {},
   "outputs": [],
   "source": [
    "# stat.loc['30-50',['min','25%','50%']].plot(grid=True, title='цена на маленькие дома')"
   ]
  },
  {
   "cell_type": "code",
   "execution_count": null,
   "id": "2a980aa0",
   "metadata": {},
   "outputs": [],
   "source": [
    "# stat.loc['50-70',['min','25%','50%']].plot(grid=True, title='цена на средние дома')"
   ]
  },
  {
   "cell_type": "code",
   "execution_count": null,
   "id": "1cf40f00",
   "metadata": {},
   "outputs": [],
   "source": [
    "# stat.loc['70-150',['min','25%','50%']].plot(grid=True, title='цена на большие дома')"
   ]
  },
  {
   "cell_type": "markdown",
   "id": "05f444c6",
   "metadata": {},
   "source": [
    "## гексагональная сетка"
   ]
  },
  {
   "cell_type": "code",
   "execution_count": null,
   "id": "cb8c0fdf",
   "metadata": {},
   "outputs": [],
   "source": [
    "from shapely.geometry import MultiPoint\n",
    "\n",
    "frame_geometry = MultiPoint( gdf['geometry'].tolist() ).convex_hull\n",
    "frame_geometry"
   ]
  },
  {
   "cell_type": "code",
   "execution_count": null,
   "id": "4f6adc06",
   "metadata": {},
   "outputs": [],
   "source": [
    "import h3\n",
    "    \n",
    "def cover_grid_hexagonal(gmtr,cell_size=7,crs='EPSG:4326'):\n",
    "    polygonise = lambda hex_id: Polygon( h3.h3_to_geo_boundary( hex_id, geo_json=True)  )\n",
    "    hexs = list(h3.polyfill( gmtr.__geo_interface__, cell_size, geo_json_conformant = True ))\n",
    "    return gpd.GeoDataFrame(\n",
    "        { 'hex_id': hexs,  'geometry': list(map(polygonise, hexs)), },\n",
    "        crs=crs, \n",
    "    )\n",
    "\n",
    "# grid = cover_grid_hexagonal( frames.query('area_id in (5,)').geometry.values[0] )\n",
    "grid = cover_grid_hexagonal( frame_geometry )\n",
    "print(len(grid))\n",
    "grid.sample(2)"
   ]
  },
  {
   "cell_type": "code",
   "execution_count": null,
   "id": "87bbb791",
   "metadata": {},
   "outputs": [],
   "source": [
    "# grid.explore('hex_id')"
   ]
  },
  {
   "cell_type": "code",
   "execution_count": null,
   "id": "5c51ba6a",
   "metadata": {},
   "outputs": [],
   "source": [
    "# ctx.add_basemap( \n",
    "#     grid.plot(alpha=.5,color='yellow',edgecolors='blue',figsize=(31,31),), \n",
    "#     source=ctx.providers.OpenStreetMap.Mapnik,\n",
    "#     crs=grid.crs, \n",
    "#     zoom=16,\n",
    "# )"
   ]
  },
  {
   "cell_type": "markdown",
   "id": "36786208",
   "metadata": {},
   "source": [
    "### медиана актуальной цены"
   ]
  },
  {
   "cell_type": "code",
   "execution_count": null,
   "id": "914636c3",
   "metadata": {},
   "outputs": [],
   "source": [
    "# выкидываем \n",
    "\n",
    "grid_values = (\n",
    "    grid.sjoin( gdf[ (gdf['dt']>ts) & (gdf['priceM']<15.) ], how='inner',)\n",
    "    .groupby(['hex_id'])\n",
    "    ['priceM']\n",
    "    .median()\n",
    "    .reset_index()\n",
    ")\n",
    "\n",
    "grid.merge(grid_values,on='hex_id').explore('priceM') #'area_name', legend=True)"
   ]
  },
  {
   "cell_type": "code",
   "execution_count": null,
   "id": "475a873f",
   "metadata": {},
   "outputs": [],
   "source": [
    "# import folium\n",
    "# start_pos = (44.578330, 33.516509)\n",
    "# # Create a map\n",
    "# my_map = folium.Map(location=start_pos, zoom_start=14,)\n",
    "\n",
    "# # Add the data\n",
    "# folium.Choropleth(\n",
    "#     name='choropleth',\n",
    "#     geo_data=grid,\n",
    "#     data=grid_values,\n",
    "#     columns=['hex_id','priceM',],\n",
    "#     key_on='feature.properties.hex_id',\n",
    "#     fill_color='YlOrRd',\n",
    "#     fill_opacity=.7,\n",
    "#     line_opacity=.2,\n",
    "#     legend_name='priceM median'\n",
    "# ).add_to(my_map)\n",
    "# my_map"
   ]
  },
  {
   "cell_type": "code",
   "execution_count": null,
   "id": "a695433a",
   "metadata": {},
   "outputs": [],
   "source": [
    "### количество предложений"
   ]
  },
  {
   "cell_type": "code",
   "execution_count": null,
   "id": "da6d47f3",
   "metadata": {},
   "outputs": [],
   "source": [
    "# %%javascript\n",
    "# IPython.OutputArea.prototype._should_scroll = function(lines) {  return false; }"
   ]
  },
  {
   "cell_type": "code",
   "execution_count": null,
   "id": "21120f1a",
   "metadata": {
    "scrolled": true
   },
   "outputs": [],
   "source": [
    "# # количество предложений\n",
    "# from folium import Map\n",
    "# from folium.plugins import HeatMap\n",
    "\n",
    "# start_pos = (44.578330, 33.516509)\n",
    "\n",
    "# Map(\n",
    "#     location=start_pos,\n",
    "#     zoom_start=12,\n",
    "#     # width=500,\n",
    "#     #height=2000,\n",
    "# ).add_child( \n",
    "#     HeatMap( \n",
    "#         gdf[ gdf['dt']>ts ]\n",
    "#         .sjoin(frames.query('area_id in (5,)'),how='inner',predicate='within')\n",
    "#         [['latitude','longitude',]],\n",
    "#         #radius=10.,\n",
    "#         #min_opacity=3. \n",
    "#     )\n",
    "# )\n"
   ]
  },
  {
   "cell_type": "code",
   "execution_count": null,
   "id": "b2419053",
   "metadata": {},
   "outputs": [],
   "source": [
    "# df = pd.read_pickle(data_file)\n",
    "# df['priceMU'] = df['priceM']/df['area']\n",
    "\n",
    "# area_bins = [ 0., 1., 2., 4., 8., 20., 1e6, ]\n",
    "# labels =    [ '<1', '1-2','2-4', '4-8', '8-20', '20+' ]\n",
    "# df['area_size_category'] = pd.cut( df['area'], bins = area_bins, labels=labels)\n",
    "\n",
    "# df= df.drop(columns=['area_cut'])\n",
    "\n",
    "# df.to_pickle(data_file)\n",
    "# df[['title','adr','area','area_size_category','price','priceM','priceMU']]"
   ]
  },
  {
   "cell_type": "code",
   "execution_count": null,
   "id": "7500c3b8",
   "metadata": {},
   "outputs": [],
   "source": [
    "## ограничиваем по район поиска"
   ]
  },
  {
   "cell_type": "code",
   "execution_count": null,
   "id": "0f832efe",
   "metadata": {},
   "outputs": [],
   "source": [
    "# # загружаем области поиска\n",
    "# frames_path = 'data/frames/'\n",
    "# frames_index = pd.read_csv(f'{frames_path}/_index.tsv',sep='\\t')\n",
    "# # frames_index\n",
    "\n",
    "# swap_coo = lambda coo : [ (c[1],c[0]) for c in coo ]\n",
    "# df2poly = lambda df : Polygon(swap_coo(df.values))\n",
    "\n",
    "# frames = gpd.GeoDataFrame([ \n",
    "#     { 'area_name':nm, 'geometry': df2poly( pd.read_csv(f'{frames_path}/{f}',header=None) ) } \n",
    "#     for nm,f in frames_index.values\n",
    "# ],crs='epsg:4326',)\n",
    "\n",
    "# frames['area_id'] = range(len(frames))\n",
    "\n",
    "# frames"
   ]
  },
  {
   "cell_type": "code",
   "execution_count": null,
   "id": "e45f60fc",
   "metadata": {},
   "outputs": [],
   "source": [
    "# frames.plot('area_name', legend=True, cmap='GnBu', alpha=.5, edgecolor='k',figsize=(10,10),)  "
   ]
  },
  {
   "cell_type": "code",
   "execution_count": null,
   "id": "3f7f01c0",
   "metadata": {},
   "outputs": [],
   "source": [
    "# # фильтруем по области\n",
    "# print(len(gdf))\n",
    "# gdf_in_frame = gdf.sjoin( frames.query('area_id in (5,)'), how='inner', predicate='within') \n",
    "# print(len(gdf_in_frame))"
   ]
  },
  {
   "cell_type": "code",
   "execution_count": null,
   "id": "08242e78",
   "metadata": {},
   "outputs": [],
   "source": [
    "# gdf_in_frame[['title','priceM','adr','area_size_category','geometry']].explore('area_size_category')\n",
    "#,legend=False)"
   ]
  },
  {
   "cell_type": "code",
   "execution_count": null,
   "id": "04d0edea",
   "metadata": {},
   "outputs": [],
   "source": [
    "# ctx.add_basemap(\n",
    "#     gdf_in_frame[ (gdf_in_frame['dt']==gdf_in_frame['dt'].max()) ]\n",
    "#       .plot(figsize=(21,21), color='r',marker='*'), \n",
    "#     crs=gdf.crs, \n",
    "#     zoom=16,\n",
    "#     # source=ctx.providers.Stamen.TonerLite,\n",
    "#     source=ctx.providers.OpenStreetMap.Mapnik,\n",
    "# )"
   ]
  },
  {
   "cell_type": "code",
   "execution_count": null,
   "id": "1a67f00b",
   "metadata": {},
   "outputs": [],
   "source": [
    "### изменение цены"
   ]
  },
  {
   "cell_type": "code",
   "execution_count": null,
   "id": "7e66b379",
   "metadata": {},
   "outputs": [],
   "source": [
    "# stat = (\n",
    "#     gdf_in_frame.query('priceM>1.')\n",
    "#     .groupby(['area_size_category','dt'])\n",
    "#     ['priceM'].describe(percentiles=[.1,.25,.5,.75,.9])\n",
    "# )\n",
    "# stat"
   ]
  },
  {
   "cell_type": "code",
   "execution_count": null,
   "id": "779c9ad3",
   "metadata": {},
   "outputs": [],
   "source": [
    "# stat.loc['2-4',['min','25%','50%']].plot(grid=True, title='цена на 2-4 сот')"
   ]
  },
  {
   "cell_type": "code",
   "execution_count": null,
   "id": "e7c7ae21",
   "metadata": {},
   "outputs": [],
   "source": [
    "# stat.loc['4-8',['min','25%','50%']].plot(grid=True, title='цена на 4-8 сот')"
   ]
  },
  {
   "cell_type": "code",
   "execution_count": null,
   "id": "ed13a150",
   "metadata": {},
   "outputs": [],
   "source": [
    "# stat.loc['8-20',['min','25%','50%']].plot(grid=True, title='цена на 8-20 сот')"
   ]
  }
 ],
 "metadata": {
  "kernelspec": {
   "display_name": "Python 3 (ipykernel)",
   "language": "python",
   "name": "python3"
  },
  "language_info": {
   "codemirror_mode": {
    "name": "ipython",
    "version": 3
   },
   "file_extension": ".py",
   "mimetype": "text/x-python",
   "name": "python",
   "nbconvert_exporter": "python",
   "pygments_lexer": "ipython3",
   "version": "3.10.6"
  },
  "toc": {
   "base_numbering": 1,
   "nav_menu": {},
   "number_sections": true,
   "sideBar": true,
   "skip_h1_title": false,
   "title_cell": "Table of Contents",
   "title_sidebar": "Contents",
   "toc_cell": false,
   "toc_position": {},
   "toc_section_display": true,
   "toc_window_display": true
  },
  "varInspector": {
   "cols": {
    "lenName": 16,
    "lenType": 16,
    "lenVar": 40
   },
   "kernels_config": {
    "python": {
     "delete_cmd_postfix": "",
     "delete_cmd_prefix": "del ",
     "library": "var_list.py",
     "varRefreshCmd": "print(var_dic_list())"
    },
    "r": {
     "delete_cmd_postfix": ") ",
     "delete_cmd_prefix": "rm(",
     "library": "var_list.r",
     "varRefreshCmd": "cat(var_dic_list()) "
    }
   },
   "types_to_exclude": [
    "module",
    "function",
    "builtin_function_or_method",
    "instance",
    "_Feature"
   ],
   "window_display": false
  }
 },
 "nbformat": 4,
 "nbformat_minor": 5
}
