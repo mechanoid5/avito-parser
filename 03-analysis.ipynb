{
 "cells": [
  {
   "cell_type": "code",
   "execution_count": null,
   "id": "caabc8c7",
   "metadata": {
    "ExecuteTime": {
     "end_time": "2022-08-26T14:19:06.118492Z",
     "start_time": "2022-08-26T14:13:37.888398Z"
    }
   },
   "outputs": [],
   "source": [
    "# import re\n",
    "from tqdm.notebook import tqdm\n",
    "import pandas as pd"
   ]
  },
  {
   "cell_type": "code",
   "execution_count": null,
   "id": "5851ca24",
   "metadata": {},
   "outputs": [],
   "source": [
    "pd.set_option('display.max_colwidth', None)\n",
    "pd.set_option('display.float_format', '{:.2f}'.format)"
   ]
  },
  {
   "cell_type": "code",
   "execution_count": null,
   "id": "a9e60b52",
   "metadata": {},
   "outputs": [],
   "source": [
    "!ls data"
   ]
  },
  {
   "cell_type": "code",
   "execution_count": null,
   "id": "6b61d546",
   "metadata": {
    "ExecuteTime": {
     "end_time": "2022-08-26T14:28:54.896946Z",
     "start_time": "2022-08-26T14:28:54.857053Z"
    }
   },
   "outputs": [],
   "source": [
    "# fname = 'avito_2022-08-26_17-29.xlsx'\n",
    "fname = 'avito_2022-08-29_13-17.xlsx'\n",
    "\n",
    "df = pd.read_excel('data/'+fname)\n",
    "print(len(df))\n",
    "df.sample(5)"
   ]
  },
  {
   "cell_type": "code",
   "execution_count": null,
   "id": "a3f96437",
   "metadata": {},
   "outputs": [],
   "source": [
    "df.info()"
   ]
  },
  {
   "cell_type": "code",
   "execution_count": null,
   "id": "685199fb",
   "metadata": {},
   "outputs": [],
   "source": [
    "# list(df.columns)"
   ]
  },
  {
   "cell_type": "code",
   "execution_count": null,
   "id": "f519c8eb",
   "metadata": {},
   "outputs": [],
   "source": [
    "# df[ df['adr'].str.match('.*еверн.*') ][['adr','title','description','priceM']]\n",
    "# df[ df['description'].str.lower().str.match('.*северн.*') ][['adr','title','description','priceM']]\n",
    "# df[ df['description'].str.lower().str.match('.*мансард.*') ][['adr','title','description','priceM']]\n",
    "# df[ df['description'].str.lower().str.match('.*черда.*') ][['adr','title','description','priceM']]"
   ]
  },
  {
   "cell_type": "code",
   "execution_count": null,
   "id": "10907c1d",
   "metadata": {},
   "outputs": [],
   "source": [
    "df_ = df.query(\n",
    "    '~(is_studio|is_apartment|is_part|is_auction|is_openspace|is_SNT|is_roof)'\n",
    "    '&(nrooms==2)')\n",
    "\n",
    "df_[['priceM']].describe().T    "
   ]
  },
  {
   "cell_type": "code",
   "execution_count": null,
   "id": "7826aad3",
   "metadata": {},
   "outputs": [],
   "source": [
    "cols = ['adr', 'priceM', 'nrooms', 'floor', 'nfloors', 'area', 'description', 'avito_id',]\n",
    "df_[cols].sort_values(by=['priceM'])"
   ]
  },
  {
   "cell_type": "code",
   "execution_count": null,
   "id": "853f9c27",
   "metadata": {},
   "outputs": [],
   "source": []
  }
 ],
 "metadata": {
  "kernelspec": {
   "display_name": "Python 3 (ipykernel)",
   "language": "python",
   "name": "python3"
  },
  "language_info": {
   "codemirror_mode": {
    "name": "ipython",
    "version": 3
   },
   "file_extension": ".py",
   "mimetype": "text/x-python",
   "name": "python",
   "nbconvert_exporter": "python",
   "pygments_lexer": "ipython3",
   "version": "3.10.6"
  },
  "toc": {
   "base_numbering": 1,
   "nav_menu": {},
   "number_sections": true,
   "sideBar": true,
   "skip_h1_title": false,
   "title_cell": "Table of Contents",
   "title_sidebar": "Contents",
   "toc_cell": false,
   "toc_position": {},
   "toc_section_display": true,
   "toc_window_display": false
  },
  "varInspector": {
   "cols": {
    "lenName": 16,
    "lenType": 16,
    "lenVar": 40
   },
   "kernels_config": {
    "python": {
     "delete_cmd_postfix": "",
     "delete_cmd_prefix": "del ",
     "library": "var_list.py",
     "varRefreshCmd": "print(var_dic_list())"
    },
    "r": {
     "delete_cmd_postfix": ") ",
     "delete_cmd_prefix": "rm(",
     "library": "var_list.r",
     "varRefreshCmd": "cat(var_dic_list()) "
    }
   },
   "types_to_exclude": [
    "module",
    "function",
    "builtin_function_or_method",
    "instance",
    "_Feature"
   ],
   "window_display": false
  }
 },
 "nbformat": 4,
 "nbformat_minor": 5
}
