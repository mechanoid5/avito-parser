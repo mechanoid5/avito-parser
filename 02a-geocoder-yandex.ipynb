{
 "cells": [
  {
   "cell_type": "code",
   "execution_count": null,
   "id": "cb58f9d2",
   "metadata": {},
   "outputs": [],
   "source": [
    "import re\n",
    "import requests\n",
    "import json\n",
    "import pandas as pd\n",
    "\n",
    "# import numpy as np\n",
    "# import matplotlib.pyplot as plt\n",
    "# import seaborn as sea\n",
    "# import plotly.graph_objs as go \n",
    "# from urllib.parse import urlencode\n",
    "\n",
    "pd.options.display.max_colwidth = 130 # увеличим максимальную длину столбцов pandas"
   ]
  },
  {
   "cell_type": "code",
   "execution_count": null,
   "id": "f6eababb",
   "metadata": {},
   "outputs": [],
   "source": [
    "!ls -1 data"
   ]
  },
  {
   "cell_type": "code",
   "execution_count": null,
   "id": "5b2b1981",
   "metadata": {},
   "outputs": [],
   "source": [
    "df = pd.read_excel('data/avito_2022-08-26_17-29.xlsx', index_col=None)\n",
    "print(len(df))\n",
    "df.sample(2)"
   ]
  },
  {
   "cell_type": "markdown",
   "id": "cadef0c4",
   "metadata": {},
   "source": [
    "---"
   ]
  },
  {
   "cell_type": "code",
   "execution_count": null,
   "id": "616199b6",
   "metadata": {},
   "outputs": [],
   "source": [
    "# df[['adr']].drop_duplicates().sort_values(by='adr').to_csv('adr.csv',index=False,)"
   ]
  },
  {
   "cell_type": "code",
   "execution_count": null,
   "id": "8b9dd617",
   "metadata": {},
   "outputs": [],
   "source": [
    "# df[ df['adr'].str.match(r'.*[Аа]парт.*»ул.') ][['adr']].drop_duplicates()\n",
    "# df[ df['adr'].str.match(r'.*ЖК.*»ул.') ][['adr']].drop_duplicates()"
   ]
  },
  {
   "cell_type": "code",
   "execution_count": null,
   "id": "be5c73be",
   "metadata": {},
   "outputs": [],
   "source": [
    "# df['adr_'] = \n",
    "# ( \n",
    "#     df['adr']\n",
    "#     .str.replace(r'.*[Аа]парт.*»ул.','ул.')\n",
    "#     .str.replace(r'.*ЖК.*»ул.','ул.')\n",
    "    \n",
    "\n",
    "#     \"Апарт-комплекс «GARDEN»ул. Лётчиков, д. 10\"\n",
    "#     \"Дом по ул. Маринеско, 8аул. Александра Маринеско, д. 8А\"\n",
    "# \"ЖК «Porto Franco»ул. Братьев Манганари, д. 20\"\n",
    "\n",
    "    \n",
    "#     пр-т\n",
    "#     Клубный комплекс\n",
    "#     Клубный дом\n",
    "#     Рекреационный комплекс «РАШАД»пр-д\n",
    "    \n",
    "#     садоводческое товарищество\n",
    "#     садоводческое некоммерческое товарищество\n",
    "#     товарищество собственников недвижимости\n",
    "    \n",
    "# )"
   ]
  },
  {
   "cell_type": "markdown",
   "id": "97e6dd5e",
   "metadata": {},
   "source": [
    "---"
   ]
  },
  {
   "cell_type": "code",
   "execution_count": null,
   "id": "fc46a171",
   "metadata": {},
   "outputs": [],
   "source": [
    "# avito.adr.unique()"
   ]
  },
  {
   "cell_type": "code",
   "execution_count": null,
   "id": "53f82975",
   "metadata": {},
   "outputs": [],
   "source": [
    "#Напишем фукнцию, которая добавит в адреса \"город Севастополь\" там, где его нет\n",
    "def split_add(col):\n",
    "    #Проверяем с помощью регулярного выражения вхождение последовательности \"город Москва\" в проверяемую строку\n",
    "    if re.match('.*город Севастополь*',col):\n",
    "        #Если входит, возвращаем как есть\n",
    "        return col[:]\n",
    "    #Если не входит, складываем последовательно строки и после возвращаем\n",
    "    return 'город Севастополь' + ',' + col[:]"
   ]
  },
  {
   "cell_type": "code",
   "execution_count": null,
   "id": "951c14fb",
   "metadata": {},
   "outputs": [],
   "source": [
    "split_add('ЖК «Доброгород»ул. Токарева, 7 этап, блок-секция 3')"
   ]
  },
  {
   "cell_type": "code",
   "execution_count": null,
   "id": "b7027df3",
   "metadata": {},
   "outputs": [],
   "source": [
    "avito['adr'] = avito['adr'].apply(split_add)\n",
    "avito.sample(5)"
   ]
  },
  {
   "cell_type": "code",
   "execution_count": null,
   "id": "22734c6c",
   "metadata": {
    "scrolled": false
   },
   "outputs": [],
   "source": [
    "map_adr = avito[['adr']].drop_duplicates().reset_index(drop=True)\n",
    "map_adr['info'] = ''\n",
    "map_adr"
   ]
  },
  {
   "cell_type": "markdown",
   "id": "06dd55e6",
   "metadata": {},
   "source": [
    "---"
   ]
  },
  {
   "cell_type": "code",
   "execution_count": null,
   "id": "10c2a5fd",
   "metadata": {},
   "outputs": [],
   "source": [
    "from config import key\n",
    "\n",
    "#запишем полученный ключ для геокодера\n",
    "# key = '...'\n",
    "\n",
    "# зададим параметры запроса, чтобы получать в ответ на запрос json - файл\n",
    "params = { # словарь с параметрами запроса\n",
    "        \"format\" : \"json\", # определяем формат ответа на запрос\n",
    "    }\n",
    "\n",
    "#зададим функцию, которая на вход будет получать адрес и возвращать район\n",
    "def mapmaker(address,key=key,params=params):\n",
    "    \n",
    "    #создадим url для запроса координат\n",
    "    url = 'https://geocode-maps.yandex.ru/1.x/?apikey=' + key + '&geocode=' + address\n",
    "\n",
    "    #получим координаты точки\n",
    "    try:\n",
    "        response = requests.get(url, params = params) #сделаем запрос к геокодеру\n",
    "        coord = (\n",
    "            json.loads(response.text)\n",
    "            ['response']\n",
    "            ['GeoObjectCollection']\n",
    "            ['featureMember']\n",
    "            [0]\n",
    "            ['GeoObject']\n",
    "            ['Point']\n",
    "            ['pos']\n",
    "        )\n",
    "    except:\n",
    "        coord = 'Не определен'\n",
    "        \n",
    "    return(coord)"
   ]
  },
  {
   "cell_type": "code",
   "execution_count": null,
   "id": "5d13d445",
   "metadata": {
    "scrolled": true
   },
   "outputs": [],
   "source": [
    "#Пример работы функции mapmaker\n",
    "mapmaker('город Севастополь,ул. Генерала Жидилова, 4')"
   ]
  },
  {
   "cell_type": "code",
   "execution_count": null,
   "id": "3fd5aba2",
   "metadata": {},
   "outputs": [],
   "source": [
    "# map_adr['info'] = avito[2:3]['adr'].apply(mapmaker)\n",
    "map_adr.loc[0:2,'info'] = avito.loc[0:3]['adr'].apply(mapmaker)\n",
    "map_adr.loc[0:2,:]"
   ]
  },
  {
   "cell_type": "markdown",
   "id": "a398a621",
   "metadata": {},
   "source": [
    "---"
   ]
  },
  {
   "cell_type": "code",
   "execution_count": null,
   "id": "80b3ab9d",
   "metadata": {},
   "outputs": [],
   "source": [
    "# NOTE: лимит 1К запросов в сутки на один токен"
   ]
  },
  {
   "cell_type": "code",
   "execution_count": null,
   "id": "ffe5c49e",
   "metadata": {},
   "outputs": [],
   "source": [
    "# from config import key1\n",
    "\n",
    "map_adr.loc[3:995,'info'] = avito.loc[3:995]['adr'].apply(mapmaker)\n",
    "\n",
    "#После отрабатывания функции записываем адреса и координаты в файл\n",
    "map_addr_un.to_csv('map_addr_1.csv', encoding='utf-8', index=False)"
   ]
  },
  {
   "cell_type": "code",
   "execution_count": null,
   "id": "d0e23727",
   "metadata": {},
   "outputs": [],
   "source": [
    "# from config import key2\n",
    "\n",
    "map_adr[996:1192]['info'] = avito[996:1192]['adr'].apply(mapmaker)\n",
    "\n",
    "#После отрабатывания функции записываем адреса и координаты в файл\n",
    "map_addr_un.to_csv('map_addr_2.csv', encoding='utf-8', index=False)"
   ]
  },
  {
   "cell_type": "code",
   "execution_count": null,
   "id": "199d0257",
   "metadata": {},
   "outputs": [],
   "source": [
    "# from config import key3\n",
    "\n",
    "map_adr[1993:]['info'] = avito[1993:]['adr'].apply(mapmaker)\n",
    "\n",
    "#После отрабатывания функции записываем адреса и координаты в файл\n",
    "map_addr_un.to_csv('map_addr_3.csv', encoding='utf-8', index=False)"
   ]
  },
  {
   "cell_type": "code",
   "execution_count": null,
   "id": "2487e93d",
   "metadata": {},
   "outputs": [],
   "source": [
    "# map_adr"
   ]
  },
  {
   "cell_type": "code",
   "execution_count": null,
   "id": "e0cd7117",
   "metadata": {},
   "outputs": [],
   "source": []
  }
 ],
 "metadata": {
  "kernelspec": {
   "display_name": "Python 3 (ipykernel)",
   "language": "python",
   "name": "python3"
  },
  "language_info": {
   "codemirror_mode": {
    "name": "ipython",
    "version": 3
   },
   "file_extension": ".py",
   "mimetype": "text/x-python",
   "name": "python",
   "nbconvert_exporter": "python",
   "pygments_lexer": "ipython3",
   "version": "3.10.6"
  },
  "toc": {
   "base_numbering": 1,
   "nav_menu": {},
   "number_sections": true,
   "sideBar": true,
   "skip_h1_title": false,
   "title_cell": "Table of Contents",
   "title_sidebar": "Contents",
   "toc_cell": false,
   "toc_position": {},
   "toc_section_display": true,
   "toc_window_display": false
  }
 },
 "nbformat": 4,
 "nbformat_minor": 5
}
