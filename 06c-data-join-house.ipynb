{
 "cells": [
  {
   "cell_type": "markdown",
   "id": "7bec28d7",
   "metadata": {},
   "source": [
    "__собираем предложения о продаже домов__\n",
    "\n",
    "_Evgeny S. Borisov <parser@mechanoid.su>_"
   ]
  },
  {
   "cell_type": "code",
   "execution_count": 1,
   "id": "52c5999f",
   "metadata": {},
   "outputs": [],
   "source": [
    "# !pacman -S firefox firefox-i18n-r  geckodriver\n",
    "# !pip install seleniuam"
   ]
  },
  {
   "cell_type": "code",
   "execution_count": 2,
   "id": "bcea4d8b",
   "metadata": {
    "ExecuteTime": {
     "end_time": "2022-08-26T14:19:06.118492Z",
     "start_time": "2022-08-26T14:13:37.888398Z"
    }
   },
   "outputs": [],
   "source": [
    "# import re\n",
    "import sys\n",
    "import logging\n",
    "from datetime import datetime as dtm\n",
    "from tqdm.notebook import tqdm\n",
    "import pandas as pd"
   ]
  },
  {
   "cell_type": "code",
   "execution_count": 3,
   "id": "caabc8c7",
   "metadata": {
    "ExecuteTime": {
     "end_time": "2022-08-26T14:19:06.118492Z",
     "start_time": "2022-08-26T14:13:37.888398Z"
    }
   },
   "outputs": [],
   "source": [
    "pd.set_option('display.max_colwidth', None)\n",
    "pd.set_option('display.float_format', '{:.2f}'.format)\n",
    "tqdm.pandas()\n",
    "\n",
    "logging.basicConfig(\n",
    "        format=u'[%(levelname)-8s] %(asctime)s | %(message)s',\n",
    "        datefmt='%Y-%m-%d %H:%M:%S',\n",
    "        level=logging.INFO,\n",
    "        # level=logging.DEBUG,\n",
    "        stream=sys.stdout,\n",
    "    )"
   ]
  },
  {
   "cell_type": "markdown",
   "id": "db3fe2be",
   "metadata": {},
   "source": [
    "---"
   ]
  },
  {
   "cell_type": "code",
   "execution_count": 4,
   "id": "d437eab9",
   "metadata": {},
   "outputs": [],
   "source": [
    "# каталог с файлами объявлений\n",
    "avito_raw_data_path = 'data/raw/house/avito' \n",
    "# cian_raw_data_path = 'data/raw/cian'\n",
    "result_file_path = 'data/data_house.pkl'"
   ]
  },
  {
   "cell_type": "code",
   "execution_count": 5,
   "id": "31463a1e",
   "metadata": {},
   "outputs": [],
   "source": [
    "# ts = dtm.now().strftime('%Y-%m-%d_%H-%M')\n",
    "# ts"
   ]
  },
  {
   "cell_type": "markdown",
   "id": "98f6384f",
   "metadata": {},
   "source": [
    "## собираем данные авито.ру"
   ]
  },
  {
   "cell_type": "code",
   "execution_count": 6,
   "id": "2673ef1f",
   "metadata": {},
   "outputs": [
    {
     "data": {
      "text/plain": [
       "['data/raw/house/avito/avito_2022-09-15_11-54_raw_sevastopol.xlsx',\n",
       " 'data/raw/house/avito/avito_2022-09-15_14-42_raw_bahchisaray.xlsx',\n",
       " 'data/raw/house/avito/avito_2022-09-15_14-47_raw_sudak.xlsx',\n",
       " 'data/raw/house/avito/avito_2022-09-16_15-21_raw_sevastopol.xlsx',\n",
       " 'data/raw/house/avito/avito_2022-09-16_15-22_raw_bahchisaray.xlsx',\n",
       " 'data/raw/house/avito/avito_2022-09-16_15-24_raw_sudak.xlsx',\n",
       " 'data/raw/house/avito/avito_2022-09-19_12-40_raw_sudak.xlsx',\n",
       " 'data/raw/house/avito/avito_2022-09-22_09-59_raw_sudak.xlsx']"
      ]
     },
     "execution_count": 6,
     "metadata": {},
     "output_type": "execute_result"
    }
   ],
   "source": [
    "import re\n",
    "from os import listdir\n",
    "\n",
    "raw_data_files = sorted([\n",
    "        avito_raw_data_path+'/'+f \n",
    "        for f in listdir(avito_raw_data_path) \n",
    "        if re.match(r'.+\\.xlsx$',f)\n",
    "    ])\n",
    "raw_data_files"
   ]
  },
  {
   "cell_type": "code",
   "execution_count": 7,
   "id": "347629e1",
   "metadata": {},
   "outputs": [
    {
     "name": "stdout",
     "output_type": "stream",
     "text": [
      "5830\n"
     ]
    }
   ],
   "source": [
    "data_avito = pd.concat([\n",
    "        pd\n",
    "        .read_excel(f)\n",
    "        #.dropna()\n",
    "        .drop_duplicates(['avito_id','description'])\n",
    "        .rename(columns={'page':'avito_page'})\n",
    "        .reset_index(drop=True)  \n",
    "        for f in raw_data_files\n",
    "    ]).reset_index(drop=True)\n",
    "\n",
    "print(len(data_avito))"
   ]
  },
  {
   "cell_type": "code",
   "execution_count": 8,
   "id": "2a992037",
   "metadata": {},
   "outputs": [],
   "source": [
    "# data_avito"
   ]
  },
  {
   "cell_type": "code",
   "execution_count": 9,
   "id": "cbce7aaa",
   "metadata": {},
   "outputs": [
    {
     "name": "stdout",
     "output_type": "stream",
     "text": [
      "5830\n"
     ]
    }
   ],
   "source": [
    "from lib.avito import AvitoDataCleanerRealtyHouse\n",
    "\n",
    "data_avito = AvitoDataCleanerRealtyHouse().transform( data_avito )\n",
    "\n",
    "print(len(data_avito))"
   ]
  },
  {
   "cell_type": "code",
   "execution_count": 10,
   "id": "becaac57",
   "metadata": {},
   "outputs": [
    {
     "data": {
      "text/html": [
       "<div>\n",
       "<style scoped>\n",
       "    .dataframe tbody tr th:only-of-type {\n",
       "        vertical-align: middle;\n",
       "    }\n",
       "\n",
       "    .dataframe tbody tr th {\n",
       "        vertical-align: top;\n",
       "    }\n",
       "\n",
       "    .dataframe thead th {\n",
       "        text-align: right;\n",
       "    }\n",
       "</style>\n",
       "<table border=\"1\" class=\"dataframe\">\n",
       "  <thead>\n",
       "    <tr style=\"text-align: right;\">\n",
       "      <th></th>\n",
       "      <th>avito_id</th>\n",
       "      <th>title</th>\n",
       "      <th>price</th>\n",
       "      <th>obj_name</th>\n",
       "      <th>adr</th>\n",
       "      <th>description</th>\n",
       "      <th>avito_page</th>\n",
       "      <th>ts</th>\n",
       "      <th>place</th>\n",
       "      <th>house_area</th>\n",
       "      <th>is_part</th>\n",
       "      <th>is_townhouse</th>\n",
       "      <th>is_SNT</th>\n",
       "      <th>land_area</th>\n",
       "      <th>priceM</th>\n",
       "      <th>land_size_category</th>\n",
       "      <th>house_size_category</th>\n",
       "    </tr>\n",
       "  </thead>\n",
       "  <tbody>\n",
       "    <tr>\n",
       "      <th>1597</th>\n",
       "      <td>2520993781</td>\n",
       "      <td>дом 54 м² на участке 4 сот.</td>\n",
       "      <td>4750000</td>\n",
       "      <td></td>\n",
       "      <td>садоводческое товарищество Рассвет-2, 2</td>\n",
       "      <td>Продам дом 54 кв. М возле моря на ровном участке 4 сотки. Отличное расположение — место тупиковое, не проездное, а значит ни пыли, ни шума! До остановки 5 мин и к морю 5 мин! В шаговой доступности магазин с широким ассортиментом. \\n\\nДом обустроен для жилья,</td>\n",
       "      <td>33</td>\n",
       "      <td>2022-09-15 11:53:29.976</td>\n",
       "      <td>sevastopol</td>\n",
       "      <td>54.00</td>\n",
       "      <td>False</td>\n",
       "      <td>False</td>\n",
       "      <td>True</td>\n",
       "      <td>4.00</td>\n",
       "      <td>4.75</td>\n",
       "      <td>2-4</td>\n",
       "      <td>50-70</td>\n",
       "    </tr>\n",
       "    <tr>\n",
       "      <th>5399</th>\n",
       "      <td>2417871765</td>\n",
       "      <td>дом 50 м² на участке 25 сот.</td>\n",
       "      <td>3900000</td>\n",
       "      <td></td>\n",
       "      <td>с. Репино</td>\n",
       "      <td>Идеально для сельского хозяйства. Экологически чистое место. Вокруг куча места. По документам 25 соток, фактически 30 соток. Огромный сад с произростанием всего что можно представить. Есть своя пасика. ( Могу оставить будущему владельцу). Две скважины, све</td>\n",
       "      <td>5</td>\n",
       "      <td>2022-09-16 15:22:23.263</td>\n",
       "      <td>bahchisaray</td>\n",
       "      <td>50.00</td>\n",
       "      <td>False</td>\n",
       "      <td>False</td>\n",
       "      <td>False</td>\n",
       "      <td>25.00</td>\n",
       "      <td>3.90</td>\n",
       "      <td>20+</td>\n",
       "      <td>30-50</td>\n",
       "    </tr>\n",
       "    <tr>\n",
       "      <th>2001</th>\n",
       "      <td>2425366717</td>\n",
       "      <td>дача 20 м² на участке 4,3 сот.</td>\n",
       "      <td>2600000</td>\n",
       "      <td></td>\n",
       "      <td>садоводческое товарищество Наука</td>\n",
       "      <td>Продам Недорого дачу / земельный участок в Тсн Наука, мыс Фиолент, район Автобата, напротив бывшего Авторынка. Вторая Линия От Леса. \\nКлассное Тихое Место Для Шашлыков На Даче. \\nУлица 7-я бригада, участок 175. \\nКадастровый номер 91:02:006007:156.\\nКооперати</td>\n",
       "      <td>42</td>\n",
       "      <td>2022-09-15 11:53:29.976</td>\n",
       "      <td>sevastopol</td>\n",
       "      <td>20.00</td>\n",
       "      <td>False</td>\n",
       "      <td>False</td>\n",
       "      <td>True</td>\n",
       "      <td>4.30</td>\n",
       "      <td>2.60</td>\n",
       "      <td>4-8</td>\n",
       "      <td>&lt;30</td>\n",
       "    </tr>\n",
       "  </tbody>\n",
       "</table>\n",
       "</div>"
      ],
      "text/plain": [
       "        avito_id                           title    price obj_name  \\\n",
       "1597  2520993781     дом 54 м² на участке 4 сот.  4750000            \n",
       "5399  2417871765    дом 50 м² на участке 25 сот.  3900000            \n",
       "2001  2425366717  дача 20 м² на участке 4,3 сот.  2600000            \n",
       "\n",
       "                                          adr  \\\n",
       "1597  садоводческое товарищество Рассвет-2, 2   \n",
       "5399                                с. Репино   \n",
       "2001         садоводческое товарищество Наука   \n",
       "\n",
       "                                                                                                                                                                                                                                                               description  \\\n",
       "1597    Продам дом 54 кв. М возле моря на ровном участке 4 сотки. Отличное расположение — место тупиковое, не проездное, а значит ни пыли, ни шума! До остановки 5 мин и к морю 5 мин! В шаговой доступности магазин с широким ассортиментом. \\n\\nДом обустроен для жилья,   \n",
       "5399      Идеально для сельского хозяйства. Экологически чистое место. Вокруг куча места. По документам 25 соток, фактически 30 соток. Огромный сад с произростанием всего что можно представить. Есть своя пасика. ( Могу оставить будущему владельцу). Две скважины, све   \n",
       "2001  Продам Недорого дачу / земельный участок в Тсн Наука, мыс Фиолент, район Автобата, напротив бывшего Авторынка. Вторая Линия От Леса. \\nКлассное Тихое Место Для Шашлыков На Даче. \\nУлица 7-я бригада, участок 175. \\nКадастровый номер 91:02:006007:156.\\nКооперати   \n",
       "\n",
       "      avito_page                      ts        place  house_area  is_part  \\\n",
       "1597          33 2022-09-15 11:53:29.976   sevastopol       54.00    False   \n",
       "5399           5 2022-09-16 15:22:23.263  bahchisaray       50.00    False   \n",
       "2001          42 2022-09-15 11:53:29.976   sevastopol       20.00    False   \n",
       "\n",
       "      is_townhouse  is_SNT  land_area  priceM land_size_category  \\\n",
       "1597         False    True       4.00    4.75                2-4   \n",
       "5399         False   False      25.00    3.90                20+   \n",
       "2001         False    True       4.30    2.60                4-8   \n",
       "\n",
       "     house_size_category  \n",
       "1597               50-70  \n",
       "5399               30-50  \n",
       "2001                 <30  "
      ]
     },
     "execution_count": 10,
     "metadata": {},
     "output_type": "execute_result"
    }
   ],
   "source": [
    "data_avito.sample(3)"
   ]
  },
  {
   "cell_type": "code",
   "execution_count": 11,
   "id": "cd5b72fa",
   "metadata": {},
   "outputs": [
    {
     "data": {
      "text/plain": [
       "array(['sevastopol', 'bahchisaray', 'sudak'], dtype=object)"
      ]
     },
     "execution_count": 11,
     "metadata": {},
     "output_type": "execute_result"
    }
   ],
   "source": [
    "data_avito['place'].unique()"
   ]
  },
  {
   "cell_type": "code",
   "execution_count": 12,
   "id": "ce2869e1",
   "metadata": {},
   "outputs": [],
   "source": [
    "assert len(data_avito)>0"
   ]
  },
  {
   "cell_type": "code",
   "execution_count": 13,
   "id": "12170700",
   "metadata": {},
   "outputs": [
    {
     "name": "stdout",
     "output_type": "stream",
     "text": [
      "<class 'pandas.core.frame.DataFrame'>\n",
      "RangeIndex: 5830 entries, 0 to 5829\n",
      "Data columns (total 17 columns):\n",
      " #   Column               Non-Null Count  Dtype         \n",
      "---  ------               --------------  -----         \n",
      " 0   avito_id             5830 non-null   int64         \n",
      " 1   title                5830 non-null   object        \n",
      " 2   price                5830 non-null   int64         \n",
      " 3   obj_name             5830 non-null   object        \n",
      " 4   adr                  5830 non-null   object        \n",
      " 5   description          5830 non-null   object        \n",
      " 6   avito_page           5830 non-null   int64         \n",
      " 7   ts                   5830 non-null   datetime64[ns]\n",
      " 8   place                5830 non-null   object        \n",
      " 9   house_area           5830 non-null   float64       \n",
      " 10  is_part              5830 non-null   bool          \n",
      " 11  is_townhouse         5830 non-null   bool          \n",
      " 12  is_SNT               5830 non-null   bool          \n",
      " 13  land_area            5830 non-null   float64       \n",
      " 14  priceM               5830 non-null   float64       \n",
      " 15  land_size_category   5820 non-null   category      \n",
      " 16  house_size_category  5820 non-null   category      \n",
      "dtypes: bool(3), category(2), datetime64[ns](1), float64(3), int64(3), object(5)\n",
      "memory usage: 575.6+ KB\n"
     ]
    }
   ],
   "source": [
    "data_avito.info(2)"
   ]
  },
  {
   "cell_type": "code",
   "execution_count": 14,
   "id": "4e7581fb",
   "metadata": {},
   "outputs": [
    {
     "data": {
      "text/plain": [
       "avito_id               False\n",
       "title                  False\n",
       "price                  False\n",
       "obj_name               False\n",
       "adr                    False\n",
       "description            False\n",
       "avito_page             False\n",
       "ts                     False\n",
       "place                  False\n",
       "house_area             False\n",
       "is_part                False\n",
       "is_townhouse           False\n",
       "is_SNT                 False\n",
       "land_area              False\n",
       "priceM                 False\n",
       "land_size_category      True\n",
       "house_size_category     True\n",
       "dtype: bool"
      ]
     },
     "execution_count": 14,
     "metadata": {},
     "output_type": "execute_result"
    }
   ],
   "source": [
    "data_avito.isnull().any()"
   ]
  },
  {
   "cell_type": "code",
   "execution_count": 15,
   "id": "721420c0",
   "metadata": {},
   "outputs": [
    {
     "data": {
      "text/html": [
       "<div>\n",
       "<style scoped>\n",
       "    .dataframe tbody tr th:only-of-type {\n",
       "        vertical-align: middle;\n",
       "    }\n",
       "\n",
       "    .dataframe tbody tr th {\n",
       "        vertical-align: top;\n",
       "    }\n",
       "\n",
       "    .dataframe thead th {\n",
       "        text-align: right;\n",
       "    }\n",
       "</style>\n",
       "<table border=\"1\" class=\"dataframe\">\n",
       "  <thead>\n",
       "    <tr style=\"text-align: right;\">\n",
       "      <th></th>\n",
       "      <th>avito_id</th>\n",
       "      <th>title</th>\n",
       "      <th>price</th>\n",
       "      <th>obj_name</th>\n",
       "      <th>adr</th>\n",
       "      <th>description</th>\n",
       "      <th>avito_page</th>\n",
       "      <th>ts</th>\n",
       "      <th>place</th>\n",
       "      <th>house_area</th>\n",
       "      <th>is_part</th>\n",
       "      <th>is_townhouse</th>\n",
       "      <th>is_SNT</th>\n",
       "      <th>land_area</th>\n",
       "      <th>priceM</th>\n",
       "      <th>land_size_category</th>\n",
       "      <th>house_size_category</th>\n",
       "    </tr>\n",
       "  </thead>\n",
       "  <tbody>\n",
       "    <tr>\n",
       "      <th>2283</th>\n",
       "      <td>2337799298</td>\n",
       "      <td></td>\n",
       "      <td>11900000</td>\n",
       "      <td></td>\n",
       "      <td>Восточная ул.</td>\n",
       "      <td>Предлагаю 1/2 дома общей площадью 120 кв. М. В центре города в отличном районе для проживания на земельном участке 1.6 сотки. Вся инфраструктура рядом, транспортные развязки в шаговой доступности. При этом дом расположен в тихом месте, с каждого этажа дома</td>\n",
       "      <td>47</td>\n",
       "      <td>2022-09-15 11:53:29.976</td>\n",
       "      <td>sevastopol</td>\n",
       "      <td>0.00</td>\n",
       "      <td>True</td>\n",
       "      <td>False</td>\n",
       "      <td>False</td>\n",
       "      <td>0.00</td>\n",
       "      <td>11.90</td>\n",
       "      <td>NaN</td>\n",
       "      <td>NaN</td>\n",
       "    </tr>\n",
       "    <tr>\n",
       "      <th>2614</th>\n",
       "      <td>2034310938</td>\n",
       "      <td></td>\n",
       "      <td>5000000</td>\n",
       "      <td></td>\n",
       "      <td>с. Танковое, ул. Ходырева</td>\n",
       "      <td>Собственник. Срочно продам дом 74,3 кв м на земельном участке 814 м кв. Санузел и туалет в доме, 2 спальни. 1965 года постройки, камень бут, очень тёплый зимой и прохладный летом. Газ, приборы учета на все коммуникации. В дом есть 2 входа. Также на участке</td>\n",
       "      <td>4</td>\n",
       "      <td>2022-09-15 14:42:27.254</td>\n",
       "      <td>bahchisaray</td>\n",
       "      <td>0.00</td>\n",
       "      <td>False</td>\n",
       "      <td>False</td>\n",
       "      <td>False</td>\n",
       "      <td>0.00</td>\n",
       "      <td>5.00</td>\n",
       "      <td>NaN</td>\n",
       "      <td>NaN</td>\n",
       "    </tr>\n",
       "    <tr>\n",
       "      <th>2624</th>\n",
       "      <td>2391096190</td>\n",
       "      <td></td>\n",
       "      <td>3000000</td>\n",
       "      <td></td>\n",
       "      <td>с. Растущее, Садовая ул., 8</td>\n",
       "      <td>Продам Дом 75 КВ. М, 10 Соток Земли Ижс Продам дом в живописном районе Крыма, в селе Растущее 10 соток земли, 75 кв. М, 4 комнаты, коммуникации: свет, газ, вода, скважина, отопление Агв. Дом чистый, уютный, заходи живи. Участок ровный, сад, весь обработанн</td>\n",
       "      <td>4</td>\n",
       "      <td>2022-09-15 14:42:27.254</td>\n",
       "      <td>bahchisaray</td>\n",
       "      <td>0.00</td>\n",
       "      <td>False</td>\n",
       "      <td>False</td>\n",
       "      <td>True</td>\n",
       "      <td>0.00</td>\n",
       "      <td>3.00</td>\n",
       "      <td>NaN</td>\n",
       "      <td>NaN</td>\n",
       "    </tr>\n",
       "    <tr>\n",
       "      <th>2733</th>\n",
       "      <td>2418227584</td>\n",
       "      <td></td>\n",
       "      <td>5500000</td>\n",
       "      <td></td>\n",
       "      <td>Платановый квартал, 21</td>\n",
       "      <td>Недострой (Ижс).\\nЗемля 5.2 сотки (собственность).\\nВсе вопросы по телефону.</td>\n",
       "      <td>1</td>\n",
       "      <td>2022-09-15 14:47:45.056</td>\n",
       "      <td>sudak</td>\n",
       "      <td>0.00</td>\n",
       "      <td>False</td>\n",
       "      <td>False</td>\n",
       "      <td>False</td>\n",
       "      <td>0.00</td>\n",
       "      <td>5.50</td>\n",
       "      <td>NaN</td>\n",
       "      <td>NaN</td>\n",
       "    </tr>\n",
       "    <tr>\n",
       "      <th>5076</th>\n",
       "      <td>2337799298</td>\n",
       "      <td></td>\n",
       "      <td>11900000</td>\n",
       "      <td></td>\n",
       "      <td>Восточная ул.</td>\n",
       "      <td>Предлагаю 1/2 дома общей площадью 120 кв. М. В центре города в отличном районе для проживания на земельном участке 1.6 сотки. Вся инфраструктура рядом, транспортные развязки в шаговой доступности. При этом дом расположен в тихом месте, с каждого этажа дома</td>\n",
       "      <td>48</td>\n",
       "      <td>2022-09-16 15:21:10.419</td>\n",
       "      <td>sevastopol</td>\n",
       "      <td>0.00</td>\n",
       "      <td>True</td>\n",
       "      <td>False</td>\n",
       "      <td>False</td>\n",
       "      <td>0.00</td>\n",
       "      <td>11.90</td>\n",
       "      <td>NaN</td>\n",
       "      <td>NaN</td>\n",
       "    </tr>\n",
       "    <tr>\n",
       "      <th>5213</th>\n",
       "      <td>2391096190</td>\n",
       "      <td></td>\n",
       "      <td>3000000</td>\n",
       "      <td></td>\n",
       "      <td>с. Растущее, Садовая ул., 8</td>\n",
       "      <td>Продам Дом 75 КВ. М, 10 Соток Земли Ижс Продам дом в живописном районе Крыма, в селе Растущее 10 соток земли, 75 кв. М, 4 комнаты, коммуникации: свет, газ, вода, скважина, отопление Агв. Дом чистый, уютный, заходи живи. Участок ровный, сад, весь обработанн</td>\n",
       "      <td>1</td>\n",
       "      <td>2022-09-16 15:22:23.263</td>\n",
       "      <td>bahchisaray</td>\n",
       "      <td>0.00</td>\n",
       "      <td>False</td>\n",
       "      <td>False</td>\n",
       "      <td>True</td>\n",
       "      <td>0.00</td>\n",
       "      <td>3.00</td>\n",
       "      <td>NaN</td>\n",
       "      <td>NaN</td>\n",
       "    </tr>\n",
       "    <tr>\n",
       "      <th>5384</th>\n",
       "      <td>2034310938</td>\n",
       "      <td></td>\n",
       "      <td>5000000</td>\n",
       "      <td></td>\n",
       "      <td>с. Танковое, ул. Ходырева</td>\n",
       "      <td>Собственник. Срочно продам дом 74,3 кв м на земельном участке 814 м кв. Санузел и туалет в доме, 2 спальни. 1965 года постройки, камень бут, очень тёплый зимой и прохладный летом. Газ, приборы учета на все коммуникации. В дом есть 2 входа. Также на участке</td>\n",
       "      <td>4</td>\n",
       "      <td>2022-09-16 15:22:23.263</td>\n",
       "      <td>bahchisaray</td>\n",
       "      <td>0.00</td>\n",
       "      <td>False</td>\n",
       "      <td>False</td>\n",
       "      <td>False</td>\n",
       "      <td>0.00</td>\n",
       "      <td>5.00</td>\n",
       "      <td>NaN</td>\n",
       "      <td>NaN</td>\n",
       "    </tr>\n",
       "    <tr>\n",
       "      <th>5511</th>\n",
       "      <td>2418227584</td>\n",
       "      <td></td>\n",
       "      <td>5500000</td>\n",
       "      <td></td>\n",
       "      <td>Платановый квартал, 21</td>\n",
       "      <td>Недострой (Ижс).\\nЗемля 5.2 сотки (собственность).\\nВсе вопросы по телефону.</td>\n",
       "      <td>1</td>\n",
       "      <td>2022-09-16 15:24:24.472</td>\n",
       "      <td>sudak</td>\n",
       "      <td>0.00</td>\n",
       "      <td>False</td>\n",
       "      <td>False</td>\n",
       "      <td>False</td>\n",
       "      <td>0.00</td>\n",
       "      <td>5.50</td>\n",
       "      <td>NaN</td>\n",
       "      <td>NaN</td>\n",
       "    </tr>\n",
       "    <tr>\n",
       "      <th>5645</th>\n",
       "      <td>2418227584</td>\n",
       "      <td></td>\n",
       "      <td>5500000</td>\n",
       "      <td></td>\n",
       "      <td>Платановый квартал, 21</td>\n",
       "      <td>Недострой (Ижс).\\nЗемля 5.2 сотки (собственность).\\nВсе вопросы по телефону.</td>\n",
       "      <td>2</td>\n",
       "      <td>2022-09-19 12:40:34.305</td>\n",
       "      <td>sudak</td>\n",
       "      <td>0.00</td>\n",
       "      <td>False</td>\n",
       "      <td>False</td>\n",
       "      <td>False</td>\n",
       "      <td>0.00</td>\n",
       "      <td>5.50</td>\n",
       "      <td>NaN</td>\n",
       "      <td>NaN</td>\n",
       "    </tr>\n",
       "    <tr>\n",
       "      <th>5782</th>\n",
       "      <td>2418227584</td>\n",
       "      <td></td>\n",
       "      <td>5500000</td>\n",
       "      <td></td>\n",
       "      <td>Платановый квартал, 21</td>\n",
       "      <td>Недострой (Ижс).\\nЗемля 5.2 сотки (собственность).\\nВсе вопросы по телефону.</td>\n",
       "      <td>2</td>\n",
       "      <td>2022-09-22 09:59:12.841</td>\n",
       "      <td>sudak</td>\n",
       "      <td>0.00</td>\n",
       "      <td>False</td>\n",
       "      <td>False</td>\n",
       "      <td>False</td>\n",
       "      <td>0.00</td>\n",
       "      <td>5.50</td>\n",
       "      <td>NaN</td>\n",
       "      <td>NaN</td>\n",
       "    </tr>\n",
       "  </tbody>\n",
       "</table>\n",
       "</div>"
      ],
      "text/plain": [
       "        avito_id title     price obj_name                          adr  \\\n",
       "2283  2337799298        11900000                         Восточная ул.   \n",
       "2614  2034310938         5000000             с. Танковое, ул. Ходырева   \n",
       "2624  2391096190         3000000           с. Растущее, Садовая ул., 8   \n",
       "2733  2418227584         5500000                Платановый квартал, 21   \n",
       "5076  2337799298        11900000                         Восточная ул.   \n",
       "5213  2391096190         3000000           с. Растущее, Садовая ул., 8   \n",
       "5384  2034310938         5000000             с. Танковое, ул. Ходырева   \n",
       "5511  2418227584         5500000                Платановый квартал, 21   \n",
       "5645  2418227584         5500000                Платановый квартал, 21   \n",
       "5782  2418227584         5500000                Платановый квартал, 21   \n",
       "\n",
       "                                                                                                                                                                                                                                                           description  \\\n",
       "2283  Предлагаю 1/2 дома общей площадью 120 кв. М. В центре города в отличном районе для проживания на земельном участке 1.6 сотки. Вся инфраструктура рядом, транспортные развязки в шаговой доступности. При этом дом расположен в тихом месте, с каждого этажа дома   \n",
       "2614  Собственник. Срочно продам дом 74,3 кв м на земельном участке 814 м кв. Санузел и туалет в доме, 2 спальни. 1965 года постройки, камень бут, очень тёплый зимой и прохладный летом. Газ, приборы учета на все коммуникации. В дом есть 2 входа. Также на участке   \n",
       "2624  Продам Дом 75 КВ. М, 10 Соток Земли Ижс Продам дом в живописном районе Крыма, в селе Растущее 10 соток земли, 75 кв. М, 4 комнаты, коммуникации: свет, газ, вода, скважина, отопление Агв. Дом чистый, уютный, заходи живи. Участок ровный, сад, весь обработанн   \n",
       "2733                                                                                                                                                                                      Недострой (Ижс).\\nЗемля 5.2 сотки (собственность).\\nВсе вопросы по телефону.   \n",
       "5076  Предлагаю 1/2 дома общей площадью 120 кв. М. В центре города в отличном районе для проживания на земельном участке 1.6 сотки. Вся инфраструктура рядом, транспортные развязки в шаговой доступности. При этом дом расположен в тихом месте, с каждого этажа дома   \n",
       "5213  Продам Дом 75 КВ. М, 10 Соток Земли Ижс Продам дом в живописном районе Крыма, в селе Растущее 10 соток земли, 75 кв. М, 4 комнаты, коммуникации: свет, газ, вода, скважина, отопление Агв. Дом чистый, уютный, заходи живи. Участок ровный, сад, весь обработанн   \n",
       "5384  Собственник. Срочно продам дом 74,3 кв м на земельном участке 814 м кв. Санузел и туалет в доме, 2 спальни. 1965 года постройки, камень бут, очень тёплый зимой и прохладный летом. Газ, приборы учета на все коммуникации. В дом есть 2 входа. Также на участке   \n",
       "5511                                                                                                                                                                                      Недострой (Ижс).\\nЗемля 5.2 сотки (собственность).\\nВсе вопросы по телефону.   \n",
       "5645                                                                                                                                                                                      Недострой (Ижс).\\nЗемля 5.2 сотки (собственность).\\nВсе вопросы по телефону.   \n",
       "5782                                                                                                                                                                                      Недострой (Ижс).\\nЗемля 5.2 сотки (собственность).\\nВсе вопросы по телефону.   \n",
       "\n",
       "      avito_page                      ts        place  house_area  is_part  \\\n",
       "2283          47 2022-09-15 11:53:29.976   sevastopol        0.00     True   \n",
       "2614           4 2022-09-15 14:42:27.254  bahchisaray        0.00    False   \n",
       "2624           4 2022-09-15 14:42:27.254  bahchisaray        0.00    False   \n",
       "2733           1 2022-09-15 14:47:45.056        sudak        0.00    False   \n",
       "5076          48 2022-09-16 15:21:10.419   sevastopol        0.00     True   \n",
       "5213           1 2022-09-16 15:22:23.263  bahchisaray        0.00    False   \n",
       "5384           4 2022-09-16 15:22:23.263  bahchisaray        0.00    False   \n",
       "5511           1 2022-09-16 15:24:24.472        sudak        0.00    False   \n",
       "5645           2 2022-09-19 12:40:34.305        sudak        0.00    False   \n",
       "5782           2 2022-09-22 09:59:12.841        sudak        0.00    False   \n",
       "\n",
       "      is_townhouse  is_SNT  land_area  priceM land_size_category  \\\n",
       "2283         False   False       0.00   11.90                NaN   \n",
       "2614         False   False       0.00    5.00                NaN   \n",
       "2624         False    True       0.00    3.00                NaN   \n",
       "2733         False   False       0.00    5.50                NaN   \n",
       "5076         False   False       0.00   11.90                NaN   \n",
       "5213         False    True       0.00    3.00                NaN   \n",
       "5384         False   False       0.00    5.00                NaN   \n",
       "5511         False   False       0.00    5.50                NaN   \n",
       "5645         False   False       0.00    5.50                NaN   \n",
       "5782         False   False       0.00    5.50                NaN   \n",
       "\n",
       "     house_size_category  \n",
       "2283                 NaN  \n",
       "2614                 NaN  \n",
       "2624                 NaN  \n",
       "2733                 NaN  \n",
       "5076                 NaN  \n",
       "5213                 NaN  \n",
       "5384                 NaN  \n",
       "5511                 NaN  \n",
       "5645                 NaN  \n",
       "5782                 NaN  "
      ]
     },
     "execution_count": 15,
     "metadata": {},
     "output_type": "execute_result"
    }
   ],
   "source": [
    "data_avito[ data_avito['land_size_category'].isnull() ]"
   ]
  },
  {
   "cell_type": "markdown",
   "id": "f3ca7967",
   "metadata": {},
   "source": [
    "---"
   ]
  },
  {
   "cell_type": "code",
   "execution_count": 16,
   "id": "46233783",
   "metadata": {},
   "outputs": [],
   "source": [
    "data_avito['url'] = 'https://avito.ru/' + data_avito['avito_id'].astype(int).astype(str)\n",
    "data_avito = data_avito.drop(columns=['avito_id'])\n",
    "# data_cian = data_cian.rename(columns={'cian_url':'url'})"
   ]
  },
  {
   "cell_type": "code",
   "execution_count": 17,
   "id": "2db629e4",
   "metadata": {},
   "outputs": [
    {
     "name": "stdout",
     "output_type": "stream",
     "text": [
      "5830\n"
     ]
    }
   ],
   "source": [
    "data = data_avito.reset_index(drop=True) \n",
    "print(len(data))\n",
    "assert len(data)>0"
   ]
  },
  {
   "cell_type": "markdown",
   "id": "2a37a222",
   "metadata": {},
   "source": [
    "## обновляем таблицу адресов"
   ]
  },
  {
   "cell_type": "code",
   "execution_count": 18,
   "id": "b1483b59",
   "metadata": {},
   "outputs": [],
   "source": [
    "# data_ = data.sample(15).reset_index(drop=True)\n",
    "# data_[['adr']]\n",
    "\n",
    "places = { \n",
    "# поле 'place' и название города\n",
    "'bahchisaray': 'Бахчисарай,',\n",
    "      'sudak': 'Судак,',\n",
    "  'sevastopol': 'Севастополь,',\n",
    "}\n",
    "\n",
    "def norm_place(d,places=places):\n",
    "    if not d['place'] in places: return d['adr_']\n",
    "    p = places[ d['place'] ]\n",
    "    return d['adr_'] if d['adr_'].find(p)>-1 else p+d['adr_']"
   ]
  },
  {
   "cell_type": "code",
   "execution_count": 19,
   "id": "b9cbcdb8",
   "metadata": {},
   "outputs": [
    {
     "data": {
      "application/vnd.jupyter.widget-view+json": {
       "model_id": "93494c8c56264e36a71af10a2fcf1cb1",
       "version_major": 2,
       "version_minor": 0
      },
      "text/plain": [
       "  0%|          | 0/5830 [00:00<?, ?it/s]"
      ]
     },
     "metadata": {},
     "output_type": "display_data"
    },
    {
     "data": {
      "application/vnd.jupyter.widget-view+json": {
       "model_id": "bf059d919255458d999ab630deefc47e",
       "version_major": 2,
       "version_minor": 0
      },
      "text/plain": [
       "  0%|          | 0/5830 [00:00<?, ?it/s]"
      ]
     },
     "metadata": {},
     "output_type": "display_data"
    },
    {
     "data": {
      "text/html": [
       "<div>\n",
       "<style scoped>\n",
       "    .dataframe tbody tr th:only-of-type {\n",
       "        vertical-align: middle;\n",
       "    }\n",
       "\n",
       "    .dataframe tbody tr th {\n",
       "        vertical-align: top;\n",
       "    }\n",
       "\n",
       "    .dataframe thead th {\n",
       "        text-align: right;\n",
       "    }\n",
       "</style>\n",
       "<table border=\"1\" class=\"dataframe\">\n",
       "  <thead>\n",
       "    <tr style=\"text-align: right;\">\n",
       "      <th></th>\n",
       "      <th>adr_orig</th>\n",
       "      <th>adr</th>\n",
       "    </tr>\n",
       "  </thead>\n",
       "  <tbody>\n",
       "    <tr>\n",
       "      <th>3462</th>\n",
       "      <td>садоводческое товарищество Бриг-2</td>\n",
       "      <td>Севастополь,садоводческое товарищество Бриг-2</td>\n",
       "    </tr>\n",
       "    <tr>\n",
       "      <th>1388</th>\n",
       "      <td>садоводческое товарищество Икар-1, 138</td>\n",
       "      <td>Севастополь,садоводческое товарищество Икар-1, 138</td>\n",
       "    </tr>\n",
       "    <tr>\n",
       "      <th>743</th>\n",
       "      <td>ул. Челнокова, 15/34</td>\n",
       "      <td>Севастополь,ул. Челнокова, 15/34</td>\n",
       "    </tr>\n",
       "    <tr>\n",
       "      <th>2355</th>\n",
       "      <td>с. Осипенко, Багряный пер.</td>\n",
       "      <td>Севастополь,с. Осипенко, Багряный пер.</td>\n",
       "    </tr>\n",
       "    <tr>\n",
       "      <th>2216</th>\n",
       "      <td>Готская ул., 84Б</td>\n",
       "      <td>Севастополь,Готская ул., 84Б</td>\n",
       "    </tr>\n",
       "    <tr>\n",
       "      <th>797</th>\n",
       "      <td>район Северная Сторона</td>\n",
       "      <td>Севастополь,район Северная Сторона</td>\n",
       "    </tr>\n",
       "    <tr>\n",
       "      <th>3974</th>\n",
       "      <td>Сапунгорская ул.</td>\n",
       "      <td>Севастополь,Сапунгорская ул.</td>\n",
       "    </tr>\n",
       "    <tr>\n",
       "      <th>3032</th>\n",
       "      <td>ул. Генерала Мельника</td>\n",
       "      <td>Севастополь,ул. Генерала Мельника</td>\n",
       "    </tr>\n",
       "    <tr>\n",
       "      <th>445</th>\n",
       "      <td>ул. Военных Строителей, 3Б/12</td>\n",
       "      <td>Севастополь,ул. Военных Строителей, 3Б/12</td>\n",
       "    </tr>\n",
       "    <tr>\n",
       "      <th>5800</th>\n",
       "      <td>с. Миндальное, СОТ Капсель</td>\n",
       "      <td>Судак,с. Миндальное, СОТ Капсель</td>\n",
       "    </tr>\n",
       "  </tbody>\n",
       "</table>\n",
       "</div>"
      ],
      "text/plain": [
       "                                    adr_orig  \\\n",
       "3462       садоводческое товарищество Бриг-2   \n",
       "1388  садоводческое товарищество Икар-1, 138   \n",
       "743                     ул. Челнокова, 15/34   \n",
       "2355              с. Осипенко, Багряный пер.   \n",
       "2216                        Готская ул., 84Б   \n",
       "797                   район Северная Сторона   \n",
       "3974                        Сапунгорская ул.   \n",
       "3032                   ул. Генерала Мельника   \n",
       "445            ул. Военных Строителей, 3Б/12   \n",
       "5800              с. Миндальное, СОТ Капсель   \n",
       "\n",
       "                                                     adr  \n",
       "3462       Севастополь,садоводческое товарищество Бриг-2  \n",
       "1388  Севастополь,садоводческое товарищество Икар-1, 138  \n",
       "743                     Севастополь,ул. Челнокова, 15/34  \n",
       "2355              Севастополь,с. Осипенко, Багряный пер.  \n",
       "2216                        Севастополь,Готская ул., 84Б  \n",
       "797                   Севастополь,район Северная Сторона  \n",
       "3974                        Севастополь,Сапунгорская ул.  \n",
       "3032                   Севастополь,ул. Генерала Мельника  \n",
       "445            Севастополь,ул. Военных Строителей, 3Б/12  \n",
       "5800                    Судак,с. Миндальное, СОТ Капсель  "
      ]
     },
     "execution_count": 19,
     "metadata": {},
     "output_type": "execute_result"
    }
   ],
   "source": [
    "from lib.locator import AddressTransformer\n",
    "\n",
    "atr = AddressTransformer()\n",
    "data['adr_'] = data['adr'].progress_apply(atr.transform)\n",
    "data['adr_'] = data[['adr_','place']].progress_apply(norm_place,axis=1)\n",
    "data = data.rename(columns={'adr':'adr_orig','adr_':'adr'})\n",
    "\n",
    "data[['adr_orig','adr']].sample(10)"
   ]
  },
  {
   "cell_type": "code",
   "execution_count": 20,
   "id": "9bfbfebf",
   "metadata": {},
   "outputs": [
    {
     "name": "stdout",
     "output_type": "stream",
     "text": [
      "[INFO    ] 2022-09-23 18:08:57 | LocationUpdater: 6042 addresses in index\n",
      "[INFO    ] 2022-09-23 18:08:57 | LocationUpdater: 6042 addresses total\n",
      "[INFO    ] 2022-09-23 18:08:57 | LocationUpdater: 6042 addresses defined\n",
      "[INFO    ] 2022-09-23 18:08:57 | LocationUpdater: 0 addresses undefined\n"
     ]
    }
   ],
   "source": [
    "# from lib.locator import GeocoderSimpleOSM\n",
    "from lib.locator import GeocoderYandex\n",
    "from yandex_keys import keys\n",
    "\n",
    "atr = AddressTransformer()\n",
    "locator = GeocoderYandex(keys[0])\n",
    "# locator = GeocoderSimpleOSM()\n",
    "\n",
    "loc_file_path = 'data/location.pkl' # таблица адресов\n",
    "loc = pd.read_pickle(loc_file_path)\n",
    "# loc = pd.DataFrame([],columns=['adr','latitude','longitude',])\n",
    "logging.info(f'LocationUpdater: {len(loc)} addresses in index')\n",
    "\n",
    "# собираем все адреса в один список\n",
    "loc = loc.merge(\n",
    "        data[['adr']].drop_duplicates(),\n",
    "        how='outer',\n",
    "        on='adr',\n",
    "    ).drop_duplicates().reset_index(drop=True)\n",
    "\n",
    "logging.info(f'LocationUpdater: {len(loc)} addresses total')\n",
    "\n",
    "# собираем все адреса с геопозицией\n",
    "loc_def = loc[~loc['latitude'].isna()].reset_index(drop=True)\n",
    "logging.info(f'LocationUpdater: {len(loc_def)} addresses defined')\n",
    "\n",
    "# собираем все адреса без геопозиции\n",
    "loc_undef = loc[loc['latitude'].isna()][['adr']].reset_index(drop=True)\n",
    "logging.info(f'LocationUpdater: {len(loc_undef)} addresses undefined')\n",
    "\n",
    "if len(loc_undef)>0:\n",
    "    # определяем координаты по строке адреса\n",
    "    loc_undef = loc_undef.join( loc_undef['adr'].progress_apply(locator.transform).apply(pd.Series) ).dropna()     \n",
    "    logging.info(f'LocationUpdater: {len(loc_undef)} new addresses found')\n",
    "    loc = pd.concat([loc_def,loc_undef]).reset_index(drop=True) \n",
    "    assert len(loc)>0\n",
    "    loc.to_pickle(loc_file_path)"
   ]
  },
  {
   "cell_type": "code",
   "execution_count": 21,
   "id": "4885d72f",
   "metadata": {},
   "outputs": [],
   "source": [
    "assert len(loc)>0\n",
    "loc.to_pickle(loc_file_path)"
   ]
  },
  {
   "cell_type": "markdown",
   "id": "6219e198",
   "metadata": {},
   "source": [
    "## дополняем данные геометкой"
   ]
  },
  {
   "cell_type": "code",
   "execution_count": 22,
   "id": "4f18e13a",
   "metadata": {},
   "outputs": [
    {
     "name": "stdout",
     "output_type": "stream",
     "text": [
      "всего записей: 5830\n",
      "записей без геометки: 0\n"
     ]
    }
   ],
   "source": [
    "# data = data.rename(columns={'adr':'adr_orig','adr_':'adr'})\n",
    "\n",
    "data = data.merge(loc,on=['adr'],how='left')\n",
    "\n",
    "print('всего записей:', len( data) )\n",
    "print('записей без геометки:', len( data[ data['latitude'].isna() ] ) )"
   ]
  },
  {
   "cell_type": "code",
   "execution_count": 23,
   "id": "47c23969",
   "metadata": {},
   "outputs": [
    {
     "data": {
      "text/html": [
       "<div>\n",
       "<style scoped>\n",
       "    .dataframe tbody tr th:only-of-type {\n",
       "        vertical-align: middle;\n",
       "    }\n",
       "\n",
       "    .dataframe tbody tr th {\n",
       "        vertical-align: top;\n",
       "    }\n",
       "\n",
       "    .dataframe thead th {\n",
       "        text-align: right;\n",
       "    }\n",
       "</style>\n",
       "<table border=\"1\" class=\"dataframe\">\n",
       "  <thead>\n",
       "    <tr style=\"text-align: right;\">\n",
       "      <th></th>\n",
       "      <th>adr</th>\n",
       "      <th>latitude</th>\n",
       "      <th>longitude</th>\n",
       "    </tr>\n",
       "  </thead>\n",
       "  <tbody>\n",
       "    <tr>\n",
       "      <th>49</th>\n",
       "      <td>Севастополь,садоводческое товарищество Голубой залив</td>\n",
       "      <td>55.518499</td>\n",
       "      <td>49.066574</td>\n",
       "    </tr>\n",
       "    <tr>\n",
       "      <th>347</th>\n",
       "      <td>Севастополь,садоводческое товарищество Голубой залив, 96</td>\n",
       "      <td>44.547851</td>\n",
       "      <td>33.429052</td>\n",
       "    </tr>\n",
       "    <tr>\n",
       "      <th>689</th>\n",
       "      <td>Севастополь,садоводческое товарищество Голубой залив, 19</td>\n",
       "      <td>44.547286</td>\n",
       "      <td>33.429815</td>\n",
       "    </tr>\n",
       "    <tr>\n",
       "      <th>1797</th>\n",
       "      <td>Севастополь,садоводческое товарищество Голубой залив, 115</td>\n",
       "      <td>44.548641</td>\n",
       "      <td>33.429348</td>\n",
       "    </tr>\n",
       "    <tr>\n",
       "      <th>2009</th>\n",
       "      <td>Севастополь,садоводческое товарищество Голубой залив, 115</td>\n",
       "      <td>44.548641</td>\n",
       "      <td>33.429348</td>\n",
       "    </tr>\n",
       "    <tr>\n",
       "      <th>2923</th>\n",
       "      <td>Севастополь,садоводческое товарищество Голубой залив</td>\n",
       "      <td>55.518499</td>\n",
       "      <td>49.066574</td>\n",
       "    </tr>\n",
       "    <tr>\n",
       "      <th>3163</th>\n",
       "      <td>Севастополь,садоводческое товарищество Голубой залив, 96</td>\n",
       "      <td>44.547851</td>\n",
       "      <td>33.429052</td>\n",
       "    </tr>\n",
       "    <tr>\n",
       "      <th>3628</th>\n",
       "      <td>Севастополь,садоводческое товарищество Голубой залив, 19</td>\n",
       "      <td>44.547286</td>\n",
       "      <td>33.429815</td>\n",
       "    </tr>\n",
       "    <tr>\n",
       "      <th>4610</th>\n",
       "      <td>Севастополь,садоводческое товарищество Голубой залив, 115</td>\n",
       "      <td>44.548641</td>\n",
       "      <td>33.429348</td>\n",
       "    </tr>\n",
       "    <tr>\n",
       "      <th>4860</th>\n",
       "      <td>Севастополь,садоводческое товарищество Голубой залив, 115</td>\n",
       "      <td>44.548641</td>\n",
       "      <td>33.429348</td>\n",
       "    </tr>\n",
       "  </tbody>\n",
       "</table>\n",
       "</div>"
      ],
      "text/plain": [
       "                                                            adr   latitude  \\\n",
       "49         Севастополь,садоводческое товарищество Голубой залив  55.518499   \n",
       "347    Севастополь,садоводческое товарищество Голубой залив, 96  44.547851   \n",
       "689    Севастополь,садоводческое товарищество Голубой залив, 19  44.547286   \n",
       "1797  Севастополь,садоводческое товарищество Голубой залив, 115  44.548641   \n",
       "2009  Севастополь,садоводческое товарищество Голубой залив, 115  44.548641   \n",
       "2923       Севастополь,садоводческое товарищество Голубой залив  55.518499   \n",
       "3163   Севастополь,садоводческое товарищество Голубой залив, 96  44.547851   \n",
       "3628   Севастополь,садоводческое товарищество Голубой залив, 19  44.547286   \n",
       "4610  Севастополь,садоводческое товарищество Голубой залив, 115  44.548641   \n",
       "4860  Севастополь,садоводческое товарищество Голубой залив, 115  44.548641   \n",
       "\n",
       "      longitude  \n",
       "49    49.066574  \n",
       "347   33.429052  \n",
       "689   33.429815  \n",
       "1797  33.429348  \n",
       "2009  33.429348  \n",
       "2923  49.066574  \n",
       "3163  33.429052  \n",
       "3628  33.429815  \n",
       "4610  33.429348  \n",
       "4860  33.429348  "
      ]
     },
     "execution_count": 23,
     "metadata": {},
     "output_type": "execute_result"
    }
   ],
   "source": [
    "# data.loc[ data['adr_orig']=='квартал Старый Город', ['latitude','longitude']] \n",
    "data[ data['adr_orig'].str.match('.*садоводческое товарищество Голубой залив.*') ][['adr','latitude','longitude']]"
   ]
  },
  {
   "cell_type": "code",
   "execution_count": 24,
   "id": "4bd6836a",
   "metadata": {},
   "outputs": [],
   "source": [
    "data.loc[data['adr_orig']=='садоводческое товарищество Голубой залив', ['latitude','longitude']]=None\n",
    "# data.loc[data['adr_orig'].str.match('.*садоводческое товарищество Голубой залив.*'),['latitude','longitude']]=None\n",
    "data.loc[data['adr_orig']=='квартал Старый Город',['latitude','longitude']]=None"
   ]
  },
  {
   "cell_type": "code",
   "execution_count": 25,
   "id": "59b244b2",
   "metadata": {},
   "outputs": [
    {
     "name": "stdout",
     "output_type": "stream",
     "text": [
      "<class 'pandas.core.frame.DataFrame'>\n",
      "Int64Index: 5830 entries, 0 to 5829\n",
      "Data columns (total 20 columns):\n",
      " #   Column               Non-Null Count  Dtype         \n",
      "---  ------               --------------  -----         \n",
      " 0   title                5830 non-null   object        \n",
      " 1   price                5830 non-null   int64         \n",
      " 2   obj_name             5830 non-null   object        \n",
      " 3   adr_orig             5830 non-null   object        \n",
      " 4   description          5830 non-null   object        \n",
      " 5   avito_page           5830 non-null   int64         \n",
      " 6   ts                   5830 non-null   datetime64[ns]\n",
      " 7   place                5830 non-null   object        \n",
      " 8   house_area           5830 non-null   float64       \n",
      " 9   is_part              5830 non-null   bool          \n",
      " 10  is_townhouse         5830 non-null   bool          \n",
      " 11  is_SNT               5830 non-null   bool          \n",
      " 12  land_area            5830 non-null   float64       \n",
      " 13  priceM               5830 non-null   float64       \n",
      " 14  land_size_category   5820 non-null   category      \n",
      " 15  house_size_category  5820 non-null   category      \n",
      " 16  url                  5830 non-null   object        \n",
      " 17  adr                  5830 non-null   object        \n",
      " 18  latitude             5826 non-null   object        \n",
      " 19  longitude            5826 non-null   object        \n",
      "dtypes: bool(3), category(2), datetime64[ns](1), float64(3), int64(2), object(9)\n",
      "memory usage: 757.6+ KB\n"
     ]
    }
   ],
   "source": [
    "assert len(data)>0\n",
    "data.to_pickle(result_file_path)\n",
    "\n",
    "data.info()"
   ]
  },
  {
   "cell_type": "code",
   "execution_count": null,
   "id": "09ed0fc1",
   "metadata": {},
   "outputs": [],
   "source": []
  },
  {
   "cell_type": "code",
   "execution_count": null,
   "id": "9c5ba37b",
   "metadata": {},
   "outputs": [],
   "source": []
  }
 ],
 "metadata": {
  "kernelspec": {
   "display_name": "Python 3 (ipykernel)",
   "language": "python",
   "name": "python3"
  },
  "language_info": {
   "codemirror_mode": {
    "name": "ipython",
    "version": 3
   },
   "file_extension": ".py",
   "mimetype": "text/x-python",
   "name": "python",
   "nbconvert_exporter": "python",
   "pygments_lexer": "ipython3",
   "version": "3.10.6"
  },
  "toc": {
   "base_numbering": 1,
   "nav_menu": {},
   "number_sections": true,
   "sideBar": true,
   "skip_h1_title": false,
   "title_cell": "Table of Contents",
   "title_sidebar": "Contents",
   "toc_cell": false,
   "toc_position": {},
   "toc_section_display": true,
   "toc_window_display": true
  },
  "varInspector": {
   "cols": {
    "lenName": 16,
    "lenType": 16,
    "lenVar": 40
   },
   "kernels_config": {
    "python": {
     "delete_cmd_postfix": "",
     "delete_cmd_prefix": "del ",
     "library": "var_list.py",
     "varRefreshCmd": "print(var_dic_list())"
    },
    "r": {
     "delete_cmd_postfix": ") ",
     "delete_cmd_prefix": "rm(",
     "library": "var_list.r",
     "varRefreshCmd": "cat(var_dic_list()) "
    }
   },
   "types_to_exclude": [
    "module",
    "function",
    "builtin_function_or_method",
    "instance",
    "_Feature"
   ],
   "window_display": false
  }
 },
 "nbformat": 4,
 "nbformat_minor": 5
}
