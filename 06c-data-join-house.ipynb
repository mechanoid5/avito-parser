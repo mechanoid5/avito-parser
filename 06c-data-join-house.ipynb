{
 "cells": [
  {
   "cell_type": "markdown",
   "id": "7bec28d7",
   "metadata": {},
   "source": [
    "__собираем предложения о продаже домов__\n",
    "\n",
    "_Evgeny S. Borisov <parser@mechanoid.su>_"
   ]
  },
  {
   "cell_type": "code",
   "execution_count": 1,
   "id": "52c5999f",
   "metadata": {},
   "outputs": [],
   "source": [
    "# !pacman -S firefox firefox-i18n-r  geckodriver\n",
    "# !pip install seleniuam"
   ]
  },
  {
   "cell_type": "code",
   "execution_count": 2,
   "id": "bcea4d8b",
   "metadata": {
    "ExecuteTime": {
     "end_time": "2022-08-26T14:19:06.118492Z",
     "start_time": "2022-08-26T14:13:37.888398Z"
    }
   },
   "outputs": [],
   "source": [
    "# import re\n",
    "import sys\n",
    "import logging\n",
    "from datetime import datetime as dtm\n",
    "from tqdm.notebook import tqdm\n",
    "import pandas as pd"
   ]
  },
  {
   "cell_type": "code",
   "execution_count": 3,
   "id": "caabc8c7",
   "metadata": {
    "ExecuteTime": {
     "end_time": "2022-08-26T14:19:06.118492Z",
     "start_time": "2022-08-26T14:13:37.888398Z"
    }
   },
   "outputs": [],
   "source": [
    "pd.set_option('display.max_colwidth', None)\n",
    "pd.set_option('display.float_format', '{:.2f}'.format)\n",
    "tqdm.pandas()\n",
    "\n",
    "logging.basicConfig(\n",
    "        format=u'[%(levelname)-8s] %(asctime)s | %(message)s',\n",
    "        datefmt='%Y-%m-%d %H:%M:%S',\n",
    "        level=logging.INFO,\n",
    "        # level=logging.DEBUG,\n",
    "        stream=sys.stdout,\n",
    "    )"
   ]
  },
  {
   "cell_type": "markdown",
   "id": "db3fe2be",
   "metadata": {},
   "source": [
    "---"
   ]
  },
  {
   "cell_type": "code",
   "execution_count": 4,
   "id": "d437eab9",
   "metadata": {},
   "outputs": [],
   "source": [
    "# каталог с файлами объявлений\n",
    "avito_raw_data_path = 'data/raw/house/avito' \n",
    "# cian_raw_data_path = 'data/raw/cian'\n",
    "result_file_path = 'data/data_house.pkl'"
   ]
  },
  {
   "cell_type": "code",
   "execution_count": 5,
   "id": "31463a1e",
   "metadata": {},
   "outputs": [],
   "source": [
    "# ts = dtm.now().strftime('%Y-%m-%d_%H-%M')\n",
    "# ts"
   ]
  },
  {
   "cell_type": "markdown",
   "id": "98f6384f",
   "metadata": {},
   "source": [
    "## собираем данные авито.ру"
   ]
  },
  {
   "cell_type": "code",
   "execution_count": 6,
   "id": "2673ef1f",
   "metadata": {},
   "outputs": [
    {
     "data": {
      "text/plain": [
       "['data/raw/house/avito/avito_2022-09-15_11-54_raw_sevastopol.xlsx',\n",
       " 'data/raw/house/avito/avito_2022-09-15_14-42_raw_bahchisaray.xlsx',\n",
       " 'data/raw/house/avito/avito_2022-09-15_14-47_raw_sudak.xlsx',\n",
       " 'data/raw/house/avito/avito_2022-09-16_15-21_raw_sevastopol.xlsx',\n",
       " 'data/raw/house/avito/avito_2022-09-16_15-22_raw_bahchisaray.xlsx',\n",
       " 'data/raw/house/avito/avito_2022-09-16_15-24_raw_sudak.xlsx']"
      ]
     },
     "execution_count": 6,
     "metadata": {},
     "output_type": "execute_result"
    }
   ],
   "source": [
    "import re\n",
    "from os import listdir\n",
    "\n",
    "raw_data_files = sorted([\n",
    "        avito_raw_data_path+'/'+f \n",
    "        for f in listdir(avito_raw_data_path) \n",
    "        if re.match(r'.+\\.xlsx$',f)\n",
    "    ])\n",
    "raw_data_files"
   ]
  },
  {
   "cell_type": "code",
   "execution_count": 7,
   "id": "347629e1",
   "metadata": {},
   "outputs": [
    {
     "name": "stdout",
     "output_type": "stream",
     "text": [
      "5588\n"
     ]
    }
   ],
   "source": [
    "data_avito = pd.concat([\n",
    "        pd\n",
    "        .read_excel(f)\n",
    "        #.dropna()\n",
    "        .drop_duplicates(['avito_id','description'])\n",
    "        .rename(columns={'page':'avito_page'})\n",
    "        .reset_index(drop=True)  \n",
    "        for f in raw_data_files\n",
    "    ]).reset_index(drop=True)\n",
    "\n",
    "print(len(data_avito))"
   ]
  },
  {
   "cell_type": "code",
   "execution_count": 8,
   "id": "2a992037",
   "metadata": {},
   "outputs": [],
   "source": [
    "# data_avito"
   ]
  },
  {
   "cell_type": "code",
   "execution_count": 9,
   "id": "cbce7aaa",
   "metadata": {},
   "outputs": [
    {
     "name": "stdout",
     "output_type": "stream",
     "text": [
      "5588\n"
     ]
    }
   ],
   "source": [
    "from lib.avito import AvitoDataCleanerRealtyHouse\n",
    "\n",
    "data_avito = AvitoDataCleanerRealtyHouse().transform( data_avito )\n",
    "\n",
    "print(len(data_avito))"
   ]
  },
  {
   "cell_type": "code",
   "execution_count": 10,
   "id": "becaac57",
   "metadata": {},
   "outputs": [
    {
     "data": {
      "text/html": [
       "<div>\n",
       "<style scoped>\n",
       "    .dataframe tbody tr th:only-of-type {\n",
       "        vertical-align: middle;\n",
       "    }\n",
       "\n",
       "    .dataframe tbody tr th {\n",
       "        vertical-align: top;\n",
       "    }\n",
       "\n",
       "    .dataframe thead th {\n",
       "        text-align: right;\n",
       "    }\n",
       "</style>\n",
       "<table border=\"1\" class=\"dataframe\">\n",
       "  <thead>\n",
       "    <tr style=\"text-align: right;\">\n",
       "      <th></th>\n",
       "      <th>avito_id</th>\n",
       "      <th>title</th>\n",
       "      <th>price</th>\n",
       "      <th>obj_name</th>\n",
       "      <th>adr</th>\n",
       "      <th>description</th>\n",
       "      <th>avito_page</th>\n",
       "      <th>ts</th>\n",
       "      <th>place</th>\n",
       "      <th>house_area</th>\n",
       "      <th>is_part</th>\n",
       "      <th>is_townhouse</th>\n",
       "      <th>is_SNT</th>\n",
       "      <th>land_area</th>\n",
       "      <th>priceM</th>\n",
       "      <th>land_size_category</th>\n",
       "      <th>house_size_category</th>\n",
       "    </tr>\n",
       "  </thead>\n",
       "  <tbody>\n",
       "    <tr>\n",
       "      <th>1965</th>\n",
       "      <td>2546974930</td>\n",
       "      <td>дом 102 м² на участке 3 сот.</td>\n",
       "      <td>13500000</td>\n",
       "      <td></td>\n",
       "      <td>Мирный пер., 11</td>\n",
       "      <td>Продаётся новый дом в тихом уютном месте рядом с центром города. На 1 этаже просторная гостиная, кухня и санузел. На 2 этаже три спальни с ванной комнатой. Участок Ижс площадью 3 сотки. \\nВ доме все необходимые коммуникации: свет, вода, газ, канализация (бо</td>\n",
       "      <td>41</td>\n",
       "      <td>2022-09-15 11:53:29.976</td>\n",
       "      <td>sevastopol</td>\n",
       "      <td>102.00</td>\n",
       "      <td>False</td>\n",
       "      <td>False</td>\n",
       "      <td>False</td>\n",
       "      <td>3.00</td>\n",
       "      <td>13.50</td>\n",
       "      <td>2-4</td>\n",
       "      <td>70-150</td>\n",
       "    </tr>\n",
       "    <tr>\n",
       "      <th>3157</th>\n",
       "      <td>2512781371</td>\n",
       "      <td>дом 120 м² на участке 4,7 сот.</td>\n",
       "      <td>8300000</td>\n",
       "      <td></td>\n",
       "      <td>Монастырское ш.</td>\n",
       "      <td>Продаю дом. Дом из ракушки, свет, вода, септик. Находится на Фиоленте. В 5 минутах пешей доступности от Монастыря( Яшмовый пляж) СТ Автомобилист 250. Я хозяин.</td>\n",
       "      <td>7</td>\n",
       "      <td>2022-09-16 15:21:10.419</td>\n",
       "      <td>sevastopol</td>\n",
       "      <td>120.00</td>\n",
       "      <td>False</td>\n",
       "      <td>False</td>\n",
       "      <td>False</td>\n",
       "      <td>4.70</td>\n",
       "      <td>8.30</td>\n",
       "      <td>4-8</td>\n",
       "      <td>70-150</td>\n",
       "    </tr>\n",
       "    <tr>\n",
       "      <th>3111</th>\n",
       "      <td>2501346797</td>\n",
       "      <td>дом 44 м² на участке 4,5 сот.</td>\n",
       "      <td>10000000</td>\n",
       "      <td></td>\n",
       "      <td>СТ Море</td>\n",
       "      <td>Жилой дом с пропиской! Фото, видео по запросу скину! Рядом пляж (50 м), инфраструктура: ТЦ Метро — 3 км, несколько местных супермаркетов тоже рядом, школа гимназия — 3 км(школьный автобус), несколько детсадов рядом. Продуктовый магазин — 500 м. Асфальтиров</td>\n",
       "      <td>7</td>\n",
       "      <td>2022-09-16 15:21:10.419</td>\n",
       "      <td>sevastopol</td>\n",
       "      <td>44.00</td>\n",
       "      <td>False</td>\n",
       "      <td>False</td>\n",
       "      <td>True</td>\n",
       "      <td>4.50</td>\n",
       "      <td>10.00</td>\n",
       "      <td>4-8</td>\n",
       "      <td>30-50</td>\n",
       "    </tr>\n",
       "  </tbody>\n",
       "</table>\n",
       "</div>"
      ],
      "text/plain": [
       "        avito_id                           title     price obj_name  \\\n",
       "1965  2546974930    дом 102 м² на участке 3 сот.  13500000            \n",
       "3157  2512781371  дом 120 м² на участке 4,7 сот.   8300000            \n",
       "3111  2501346797   дом 44 м² на участке 4,5 сот.  10000000            \n",
       "\n",
       "                  adr  \\\n",
       "1965  Мирный пер., 11   \n",
       "3157  Монастырское ш.   \n",
       "3111          СТ Море   \n",
       "\n",
       "                                                                                                                                                                                                                                                            description  \\\n",
       "1965  Продаётся новый дом в тихом уютном месте рядом с центром города. На 1 этаже просторная гостиная, кухня и санузел. На 2 этаже три спальни с ванной комнатой. Участок Ижс площадью 3 сотки. \\nВ доме все необходимые коммуникации: свет, вода, газ, канализация (бо   \n",
       "3157                                                                                                    Продаю дом. Дом из ракушки, свет, вода, септик. Находится на Фиоленте. В 5 минутах пешей доступности от Монастыря( Яшмовый пляж) СТ Автомобилист 250. Я хозяин.   \n",
       "3111   Жилой дом с пропиской! Фото, видео по запросу скину! Рядом пляж (50 м), инфраструктура: ТЦ Метро — 3 км, несколько местных супермаркетов тоже рядом, школа гимназия — 3 км(школьный автобус), несколько детсадов рядом. Продуктовый магазин — 500 м. Асфальтиров   \n",
       "\n",
       "      avito_page                      ts       place  house_area  is_part  \\\n",
       "1965          41 2022-09-15 11:53:29.976  sevastopol      102.00    False   \n",
       "3157           7 2022-09-16 15:21:10.419  sevastopol      120.00    False   \n",
       "3111           7 2022-09-16 15:21:10.419  sevastopol       44.00    False   \n",
       "\n",
       "      is_townhouse  is_SNT  land_area  priceM land_size_category  \\\n",
       "1965         False   False       3.00   13.50                2-4   \n",
       "3157         False   False       4.70    8.30                4-8   \n",
       "3111         False    True       4.50   10.00                4-8   \n",
       "\n",
       "     house_size_category  \n",
       "1965              70-150  \n",
       "3157              70-150  \n",
       "3111               30-50  "
      ]
     },
     "execution_count": 10,
     "metadata": {},
     "output_type": "execute_result"
    }
   ],
   "source": [
    "data_avito.sample(3)"
   ]
  },
  {
   "cell_type": "code",
   "execution_count": 11,
   "id": "cd5b72fa",
   "metadata": {},
   "outputs": [
    {
     "data": {
      "text/plain": [
       "array(['sevastopol', 'bahchisaray', 'sudak'], dtype=object)"
      ]
     },
     "execution_count": 11,
     "metadata": {},
     "output_type": "execute_result"
    }
   ],
   "source": [
    "data_avito['place'].unique()"
   ]
  },
  {
   "cell_type": "code",
   "execution_count": 12,
   "id": "ce2869e1",
   "metadata": {},
   "outputs": [],
   "source": [
    "assert len(data_avito)>0"
   ]
  },
  {
   "cell_type": "code",
   "execution_count": 13,
   "id": "12170700",
   "metadata": {},
   "outputs": [
    {
     "name": "stdout",
     "output_type": "stream",
     "text": [
      "<class 'pandas.core.frame.DataFrame'>\n",
      "RangeIndex: 5588 entries, 0 to 5587\n",
      "Data columns (total 17 columns):\n",
      " #   Column               Non-Null Count  Dtype         \n",
      "---  ------               --------------  -----         \n",
      " 0   avito_id             5588 non-null   int64         \n",
      " 1   title                5588 non-null   object        \n",
      " 2   price                5588 non-null   int64         \n",
      " 3   obj_name             5588 non-null   object        \n",
      " 4   adr                  5588 non-null   object        \n",
      " 5   description          5588 non-null   object        \n",
      " 6   avito_page           5588 non-null   int64         \n",
      " 7   ts                   5588 non-null   datetime64[ns]\n",
      " 8   place                5588 non-null   object        \n",
      " 9   house_area           5588 non-null   float64       \n",
      " 10  is_part              5588 non-null   bool          \n",
      " 11  is_townhouse         5588 non-null   bool          \n",
      " 12  is_SNT               5588 non-null   bool          \n",
      " 13  land_area            5588 non-null   float64       \n",
      " 14  priceM               5588 non-null   float64       \n",
      " 15  land_size_category   5580 non-null   category      \n",
      " 16  house_size_category  5580 non-null   category      \n",
      "dtypes: bool(3), category(2), datetime64[ns](1), float64(3), int64(3), object(5)\n",
      "memory usage: 551.7+ KB\n"
     ]
    }
   ],
   "source": [
    "data_avito.info(2)"
   ]
  },
  {
   "cell_type": "code",
   "execution_count": 14,
   "id": "4e7581fb",
   "metadata": {},
   "outputs": [
    {
     "data": {
      "text/plain": [
       "avito_id               False\n",
       "title                  False\n",
       "price                  False\n",
       "obj_name               False\n",
       "adr                    False\n",
       "description            False\n",
       "avito_page             False\n",
       "ts                     False\n",
       "place                  False\n",
       "house_area             False\n",
       "is_part                False\n",
       "is_townhouse           False\n",
       "is_SNT                 False\n",
       "land_area              False\n",
       "priceM                 False\n",
       "land_size_category      True\n",
       "house_size_category     True\n",
       "dtype: bool"
      ]
     },
     "execution_count": 14,
     "metadata": {},
     "output_type": "execute_result"
    }
   ],
   "source": [
    "data_avito.isnull().any()"
   ]
  },
  {
   "cell_type": "code",
   "execution_count": 15,
   "id": "721420c0",
   "metadata": {},
   "outputs": [
    {
     "data": {
      "text/html": [
       "<div>\n",
       "<style scoped>\n",
       "    .dataframe tbody tr th:only-of-type {\n",
       "        vertical-align: middle;\n",
       "    }\n",
       "\n",
       "    .dataframe tbody tr th {\n",
       "        vertical-align: top;\n",
       "    }\n",
       "\n",
       "    .dataframe thead th {\n",
       "        text-align: right;\n",
       "    }\n",
       "</style>\n",
       "<table border=\"1\" class=\"dataframe\">\n",
       "  <thead>\n",
       "    <tr style=\"text-align: right;\">\n",
       "      <th></th>\n",
       "      <th>avito_id</th>\n",
       "      <th>title</th>\n",
       "      <th>price</th>\n",
       "      <th>obj_name</th>\n",
       "      <th>adr</th>\n",
       "      <th>description</th>\n",
       "      <th>avito_page</th>\n",
       "      <th>ts</th>\n",
       "      <th>place</th>\n",
       "      <th>house_area</th>\n",
       "      <th>is_part</th>\n",
       "      <th>is_townhouse</th>\n",
       "      <th>is_SNT</th>\n",
       "      <th>land_area</th>\n",
       "      <th>priceM</th>\n",
       "      <th>land_size_category</th>\n",
       "      <th>house_size_category</th>\n",
       "    </tr>\n",
       "  </thead>\n",
       "  <tbody>\n",
       "    <tr>\n",
       "      <th>2283</th>\n",
       "      <td>2337799298</td>\n",
       "      <td></td>\n",
       "      <td>11900000</td>\n",
       "      <td></td>\n",
       "      <td>Восточная ул.</td>\n",
       "      <td>Предлагаю 1/2 дома общей площадью 120 кв. М. В центре города в отличном районе для проживания на земельном участке 1.6 сотки. Вся инфраструктура рядом, транспортные развязки в шаговой доступности. При этом дом расположен в тихом месте, с каждого этажа дома</td>\n",
       "      <td>47</td>\n",
       "      <td>2022-09-15 11:53:29.976</td>\n",
       "      <td>sevastopol</td>\n",
       "      <td>0.00</td>\n",
       "      <td>True</td>\n",
       "      <td>False</td>\n",
       "      <td>False</td>\n",
       "      <td>0.00</td>\n",
       "      <td>11.90</td>\n",
       "      <td>NaN</td>\n",
       "      <td>NaN</td>\n",
       "    </tr>\n",
       "    <tr>\n",
       "      <th>2614</th>\n",
       "      <td>2034310938</td>\n",
       "      <td></td>\n",
       "      <td>5000000</td>\n",
       "      <td></td>\n",
       "      <td>с. Танковое, ул. Ходырева</td>\n",
       "      <td>Собственник. Срочно продам дом 74,3 кв м на земельном участке 814 м кв. Санузел и туалет в доме, 2 спальни. 1965 года постройки, камень бут, очень тёплый зимой и прохладный летом. Газ, приборы учета на все коммуникации. В дом есть 2 входа. Также на участке</td>\n",
       "      <td>4</td>\n",
       "      <td>2022-09-15 14:42:27.254</td>\n",
       "      <td>bahchisaray</td>\n",
       "      <td>0.00</td>\n",
       "      <td>False</td>\n",
       "      <td>False</td>\n",
       "      <td>False</td>\n",
       "      <td>0.00</td>\n",
       "      <td>5.00</td>\n",
       "      <td>NaN</td>\n",
       "      <td>NaN</td>\n",
       "    </tr>\n",
       "    <tr>\n",
       "      <th>2624</th>\n",
       "      <td>2391096190</td>\n",
       "      <td></td>\n",
       "      <td>3000000</td>\n",
       "      <td></td>\n",
       "      <td>с. Растущее, Садовая ул., 8</td>\n",
       "      <td>Продам Дом 75 КВ. М, 10 Соток Земли Ижс Продам дом в живописном районе Крыма, в селе Растущее 10 соток земли, 75 кв. М, 4 комнаты, коммуникации: свет, газ, вода, скважина, отопление Агв. Дом чистый, уютный, заходи живи. Участок ровный, сад, весь обработанн</td>\n",
       "      <td>4</td>\n",
       "      <td>2022-09-15 14:42:27.254</td>\n",
       "      <td>bahchisaray</td>\n",
       "      <td>0.00</td>\n",
       "      <td>False</td>\n",
       "      <td>False</td>\n",
       "      <td>True</td>\n",
       "      <td>0.00</td>\n",
       "      <td>3.00</td>\n",
       "      <td>NaN</td>\n",
       "      <td>NaN</td>\n",
       "    </tr>\n",
       "    <tr>\n",
       "      <th>2733</th>\n",
       "      <td>2418227584</td>\n",
       "      <td></td>\n",
       "      <td>5500000</td>\n",
       "      <td></td>\n",
       "      <td>Платановый квартал, 21</td>\n",
       "      <td>Недострой (Ижс).\\nЗемля 5.2 сотки (собственность).\\nВсе вопросы по телефону.</td>\n",
       "      <td>1</td>\n",
       "      <td>2022-09-15 14:47:45.056</td>\n",
       "      <td>sudak</td>\n",
       "      <td>0.00</td>\n",
       "      <td>False</td>\n",
       "      <td>False</td>\n",
       "      <td>False</td>\n",
       "      <td>0.00</td>\n",
       "      <td>5.50</td>\n",
       "      <td>NaN</td>\n",
       "      <td>NaN</td>\n",
       "    </tr>\n",
       "    <tr>\n",
       "      <th>5076</th>\n",
       "      <td>2337799298</td>\n",
       "      <td></td>\n",
       "      <td>11900000</td>\n",
       "      <td></td>\n",
       "      <td>Восточная ул.</td>\n",
       "      <td>Предлагаю 1/2 дома общей площадью 120 кв. М. В центре города в отличном районе для проживания на земельном участке 1.6 сотки. Вся инфраструктура рядом, транспортные развязки в шаговой доступности. При этом дом расположен в тихом месте, с каждого этажа дома</td>\n",
       "      <td>48</td>\n",
       "      <td>2022-09-16 15:21:10.419</td>\n",
       "      <td>sevastopol</td>\n",
       "      <td>0.00</td>\n",
       "      <td>True</td>\n",
       "      <td>False</td>\n",
       "      <td>False</td>\n",
       "      <td>0.00</td>\n",
       "      <td>11.90</td>\n",
       "      <td>NaN</td>\n",
       "      <td>NaN</td>\n",
       "    </tr>\n",
       "    <tr>\n",
       "      <th>5213</th>\n",
       "      <td>2391096190</td>\n",
       "      <td></td>\n",
       "      <td>3000000</td>\n",
       "      <td></td>\n",
       "      <td>с. Растущее, Садовая ул., 8</td>\n",
       "      <td>Продам Дом 75 КВ. М, 10 Соток Земли Ижс Продам дом в живописном районе Крыма, в селе Растущее 10 соток земли, 75 кв. М, 4 комнаты, коммуникации: свет, газ, вода, скважина, отопление Агв. Дом чистый, уютный, заходи живи. Участок ровный, сад, весь обработанн</td>\n",
       "      <td>1</td>\n",
       "      <td>2022-09-16 15:22:23.263</td>\n",
       "      <td>bahchisaray</td>\n",
       "      <td>0.00</td>\n",
       "      <td>False</td>\n",
       "      <td>False</td>\n",
       "      <td>True</td>\n",
       "      <td>0.00</td>\n",
       "      <td>3.00</td>\n",
       "      <td>NaN</td>\n",
       "      <td>NaN</td>\n",
       "    </tr>\n",
       "    <tr>\n",
       "      <th>5384</th>\n",
       "      <td>2034310938</td>\n",
       "      <td></td>\n",
       "      <td>5000000</td>\n",
       "      <td></td>\n",
       "      <td>с. Танковое, ул. Ходырева</td>\n",
       "      <td>Собственник. Срочно продам дом 74,3 кв м на земельном участке 814 м кв. Санузел и туалет в доме, 2 спальни. 1965 года постройки, камень бут, очень тёплый зимой и прохладный летом. Газ, приборы учета на все коммуникации. В дом есть 2 входа. Также на участке</td>\n",
       "      <td>4</td>\n",
       "      <td>2022-09-16 15:22:23.263</td>\n",
       "      <td>bahchisaray</td>\n",
       "      <td>0.00</td>\n",
       "      <td>False</td>\n",
       "      <td>False</td>\n",
       "      <td>False</td>\n",
       "      <td>0.00</td>\n",
       "      <td>5.00</td>\n",
       "      <td>NaN</td>\n",
       "      <td>NaN</td>\n",
       "    </tr>\n",
       "    <tr>\n",
       "      <th>5511</th>\n",
       "      <td>2418227584</td>\n",
       "      <td></td>\n",
       "      <td>5500000</td>\n",
       "      <td></td>\n",
       "      <td>Платановый квартал, 21</td>\n",
       "      <td>Недострой (Ижс).\\nЗемля 5.2 сотки (собственность).\\nВсе вопросы по телефону.</td>\n",
       "      <td>1</td>\n",
       "      <td>2022-09-16 15:24:24.472</td>\n",
       "      <td>sudak</td>\n",
       "      <td>0.00</td>\n",
       "      <td>False</td>\n",
       "      <td>False</td>\n",
       "      <td>False</td>\n",
       "      <td>0.00</td>\n",
       "      <td>5.50</td>\n",
       "      <td>NaN</td>\n",
       "      <td>NaN</td>\n",
       "    </tr>\n",
       "  </tbody>\n",
       "</table>\n",
       "</div>"
      ],
      "text/plain": [
       "        avito_id title     price obj_name                          adr  \\\n",
       "2283  2337799298        11900000                         Восточная ул.   \n",
       "2614  2034310938         5000000             с. Танковое, ул. Ходырева   \n",
       "2624  2391096190         3000000           с. Растущее, Садовая ул., 8   \n",
       "2733  2418227584         5500000                Платановый квартал, 21   \n",
       "5076  2337799298        11900000                         Восточная ул.   \n",
       "5213  2391096190         3000000           с. Растущее, Садовая ул., 8   \n",
       "5384  2034310938         5000000             с. Танковое, ул. Ходырева   \n",
       "5511  2418227584         5500000                Платановый квартал, 21   \n",
       "\n",
       "                                                                                                                                                                                                                                                           description  \\\n",
       "2283  Предлагаю 1/2 дома общей площадью 120 кв. М. В центре города в отличном районе для проживания на земельном участке 1.6 сотки. Вся инфраструктура рядом, транспортные развязки в шаговой доступности. При этом дом расположен в тихом месте, с каждого этажа дома   \n",
       "2614  Собственник. Срочно продам дом 74,3 кв м на земельном участке 814 м кв. Санузел и туалет в доме, 2 спальни. 1965 года постройки, камень бут, очень тёплый зимой и прохладный летом. Газ, приборы учета на все коммуникации. В дом есть 2 входа. Также на участке   \n",
       "2624  Продам Дом 75 КВ. М, 10 Соток Земли Ижс Продам дом в живописном районе Крыма, в селе Растущее 10 соток земли, 75 кв. М, 4 комнаты, коммуникации: свет, газ, вода, скважина, отопление Агв. Дом чистый, уютный, заходи живи. Участок ровный, сад, весь обработанн   \n",
       "2733                                                                                                                                                                                      Недострой (Ижс).\\nЗемля 5.2 сотки (собственность).\\nВсе вопросы по телефону.   \n",
       "5076  Предлагаю 1/2 дома общей площадью 120 кв. М. В центре города в отличном районе для проживания на земельном участке 1.6 сотки. Вся инфраструктура рядом, транспортные развязки в шаговой доступности. При этом дом расположен в тихом месте, с каждого этажа дома   \n",
       "5213  Продам Дом 75 КВ. М, 10 Соток Земли Ижс Продам дом в живописном районе Крыма, в селе Растущее 10 соток земли, 75 кв. М, 4 комнаты, коммуникации: свет, газ, вода, скважина, отопление Агв. Дом чистый, уютный, заходи живи. Участок ровный, сад, весь обработанн   \n",
       "5384  Собственник. Срочно продам дом 74,3 кв м на земельном участке 814 м кв. Санузел и туалет в доме, 2 спальни. 1965 года постройки, камень бут, очень тёплый зимой и прохладный летом. Газ, приборы учета на все коммуникации. В дом есть 2 входа. Также на участке   \n",
       "5511                                                                                                                                                                                      Недострой (Ижс).\\nЗемля 5.2 сотки (собственность).\\nВсе вопросы по телефону.   \n",
       "\n",
       "      avito_page                      ts        place  house_area  is_part  \\\n",
       "2283          47 2022-09-15 11:53:29.976   sevastopol        0.00     True   \n",
       "2614           4 2022-09-15 14:42:27.254  bahchisaray        0.00    False   \n",
       "2624           4 2022-09-15 14:42:27.254  bahchisaray        0.00    False   \n",
       "2733           1 2022-09-15 14:47:45.056        sudak        0.00    False   \n",
       "5076          48 2022-09-16 15:21:10.419   sevastopol        0.00     True   \n",
       "5213           1 2022-09-16 15:22:23.263  bahchisaray        0.00    False   \n",
       "5384           4 2022-09-16 15:22:23.263  bahchisaray        0.00    False   \n",
       "5511           1 2022-09-16 15:24:24.472        sudak        0.00    False   \n",
       "\n",
       "      is_townhouse  is_SNT  land_area  priceM land_size_category  \\\n",
       "2283         False   False       0.00   11.90                NaN   \n",
       "2614         False   False       0.00    5.00                NaN   \n",
       "2624         False    True       0.00    3.00                NaN   \n",
       "2733         False   False       0.00    5.50                NaN   \n",
       "5076         False   False       0.00   11.90                NaN   \n",
       "5213         False    True       0.00    3.00                NaN   \n",
       "5384         False   False       0.00    5.00                NaN   \n",
       "5511         False   False       0.00    5.50                NaN   \n",
       "\n",
       "     house_size_category  \n",
       "2283                 NaN  \n",
       "2614                 NaN  \n",
       "2624                 NaN  \n",
       "2733                 NaN  \n",
       "5076                 NaN  \n",
       "5213                 NaN  \n",
       "5384                 NaN  \n",
       "5511                 NaN  "
      ]
     },
     "execution_count": 15,
     "metadata": {},
     "output_type": "execute_result"
    }
   ],
   "source": [
    "data_avito[ data_avito['land_size_category'].isnull() ]"
   ]
  },
  {
   "cell_type": "markdown",
   "id": "f3ca7967",
   "metadata": {},
   "source": [
    "---"
   ]
  },
  {
   "cell_type": "code",
   "execution_count": 16,
   "id": "2db629e4",
   "metadata": {},
   "outputs": [
    {
     "name": "stdout",
     "output_type": "stream",
     "text": [
      "5588\n"
     ]
    }
   ],
   "source": [
    "data = data_avito.reset_index(drop=True) \n",
    "print(len(data))\n",
    "assert len(data)>0"
   ]
  },
  {
   "cell_type": "markdown",
   "id": "2903ab86",
   "metadata": {},
   "source": [
    "## обновляем таблицу адресов"
   ]
  },
  {
   "cell_type": "code",
   "execution_count": 17,
   "id": "c010ee57",
   "metadata": {},
   "outputs": [
    {
     "name": "stdout",
     "output_type": "stream",
     "text": [
      "bahchisaray Бахчисарай,\n",
      "sudak Судак,\n",
      "sevastopol Севастополь,\n"
     ]
    }
   ],
   "source": [
    "from lib.locator import AddressTransformer\n",
    "\n",
    "data['adr'] = AddressTransformer().transform( data['adr'] )\n",
    "\n",
    "places = { # поле 'place' и название города\n",
    "'bahchisaray': 'Бахчисарай,',\n",
    "      'sudak': 'Судак,',\n",
    " 'sevastopol': 'Севастополь,',\n",
    "}\n",
    "\n",
    "for k,v in places.items():\n",
    "    print(k,v) # докидываем в строку адреса название города если его нет\n",
    "    f =  (data['place']==k) & (~data['adr'].str.match(v))\n",
    "    data.loc[f,'adr'] = v +' '+ data.loc[f,'adr']"
   ]
  },
  {
   "cell_type": "markdown",
   "id": "921a24e3",
   "metadata": {},
   "source": [
    "----"
   ]
  },
  {
   "cell_type": "code",
   "execution_count": 18,
   "id": "7d191d0d",
   "metadata": {},
   "outputs": [
    {
     "name": "stdout",
     "output_type": "stream",
     "text": [
      "[INFO    ] 2022-09-16 15:33:46 | LocationUpdater: 10055 addresses in location table\n",
      "[INFO    ] 2022-09-16 15:33:46 | LocationUpdater: 10152 addresses total\n",
      "[INFO    ] 2022-09-16 15:33:46 | LocationUpdater: 10055 addresses defined\n",
      "[INFO    ] 2022-09-16 15:33:46 | LocationUpdater: 97 addresses undefined\n"
     ]
    },
    {
     "data": {
      "application/vnd.jupyter.widget-view+json": {
       "model_id": "af996aef5dee4a3aaabe37f0e02b6d9a",
       "version_major": 2,
       "version_minor": 0
      },
      "text/plain": [
       "  0%|          | 0/97 [00:00<?, ?it/s]"
      ]
     },
     "metadata": {},
     "output_type": "display_data"
    },
    {
     "name": "stdout",
     "output_type": "stream",
     "text": [
      "[INFO    ] 2022-09-16 15:34:15 | LocationUpdater: 97 new addresses found\n"
     ]
    }
   ],
   "source": [
    "from lib.locator import LocationUpdater\n",
    "from lib.locator import GeocoderYandex\n",
    "from yandex_keys import keys\n",
    "\n",
    "\n",
    "loc_file_path = 'data/location.pkl'# таблица адресов\n",
    "\n",
    "loc = LocationUpdater(\n",
    "        locator=GeocoderYandex(keys[2]),\n",
    "    ).transform(\n",
    "        adr=data['adr'],\n",
    "        loc=pd.read_pickle(loc_file_path),\n",
    "        show_pbar=True,\n",
    "    )"
   ]
  },
  {
   "cell_type": "code",
   "execution_count": 19,
   "id": "c1db83fe",
   "metadata": {},
   "outputs": [
    {
     "data": {
      "text/html": [
       "<div>\n",
       "<style scoped>\n",
       "    .dataframe tbody tr th:only-of-type {\n",
       "        vertical-align: middle;\n",
       "    }\n",
       "\n",
       "    .dataframe tbody tr th {\n",
       "        vertical-align: top;\n",
       "    }\n",
       "\n",
       "    .dataframe thead th {\n",
       "        text-align: right;\n",
       "    }\n",
       "</style>\n",
       "<table border=\"1\" class=\"dataframe\">\n",
       "  <thead>\n",
       "    <tr style=\"text-align: right;\">\n",
       "      <th></th>\n",
       "      <th>adr</th>\n",
       "      <th>latitude</th>\n",
       "      <th>longitude</th>\n",
       "      <th>truncated</th>\n",
       "    </tr>\n",
       "  </thead>\n",
       "  <tbody>\n",
       "    <tr>\n",
       "      <th>0</th>\n",
       "      <td>Севастополь,  улица Токарева, 7 этап, блок-секция 3</td>\n",
       "      <td>44.78</td>\n",
       "      <td>33.55</td>\n",
       "      <td>False</td>\n",
       "    </tr>\n",
       "    <tr>\n",
       "      <th>1</th>\n",
       "      <td>Севастополь,  улица Токарева, 7 этап, блок-секция 1</td>\n",
       "      <td>44.51</td>\n",
       "      <td>33.60</td>\n",
       "      <td>False</td>\n",
       "    </tr>\n",
       "    <tr>\n",
       "      <th>2</th>\n",
       "      <td>Севастополь,  улица Генерала Жидилова, 4</td>\n",
       "      <td>44.61</td>\n",
       "      <td>33.52</td>\n",
       "      <td>False</td>\n",
       "    </tr>\n",
       "    <tr>\n",
       "      <th>3</th>\n",
       "      <td>Севастополь,  улица Николая Музыки, 96</td>\n",
       "      <td>44.85</td>\n",
       "      <td>33.63</td>\n",
       "      <td>False</td>\n",
       "    </tr>\n",
       "    <tr>\n",
       "      <th>4</th>\n",
       "      <td>Севастополь,  улица Лётчиков, д. 10</td>\n",
       "      <td>44.58</td>\n",
       "      <td>33.52</td>\n",
       "      <td>False</td>\n",
       "    </tr>\n",
       "    <tr>\n",
       "      <th>...</th>\n",
       "      <td>...</td>\n",
       "      <td>...</td>\n",
       "      <td>...</td>\n",
       "      <td>...</td>\n",
       "    </tr>\n",
       "    <tr>\n",
       "      <th>10147</th>\n",
       "      <td>Бахчисарай, с. Фурмановка, ул. Будённого, 47</td>\n",
       "      <td>44.76</td>\n",
       "      <td>33.74</td>\n",
       "      <td>NaN</td>\n",
       "    </tr>\n",
       "    <tr>\n",
       "      <th>10148</th>\n",
       "      <td>Судак, СНТ Солнечная Долина, Морская ул.</td>\n",
       "      <td>44.84</td>\n",
       "      <td>35.05</td>\n",
       "      <td>NaN</td>\n",
       "    </tr>\n",
       "    <tr>\n",
       "      <th>10149</th>\n",
       "      <td>Судак, ул. Десантников, 6</td>\n",
       "      <td>44.86</td>\n",
       "      <td>34.98</td>\n",
       "      <td>NaN</td>\n",
       "    </tr>\n",
       "    <tr>\n",
       "      <th>10150</th>\n",
       "      <td>Судак, Гвардейская ул.</td>\n",
       "      <td>44.86</td>\n",
       "      <td>34.97</td>\n",
       "      <td>NaN</td>\n",
       "    </tr>\n",
       "    <tr>\n",
       "      <th>10151</th>\n",
       "      <td>Судак, с. Земляничное, Заречная ул., 9А</td>\n",
       "      <td>44.86</td>\n",
       "      <td>34.99</td>\n",
       "      <td>NaN</td>\n",
       "    </tr>\n",
       "  </tbody>\n",
       "</table>\n",
       "<p>10152 rows × 4 columns</p>\n",
       "</div>"
      ],
      "text/plain": [
       "                                                       adr  latitude  \\\n",
       "0      Севастополь,  улица Токарева, 7 этап, блок-секция 3     44.78   \n",
       "1      Севастополь,  улица Токарева, 7 этап, блок-секция 1     44.51   \n",
       "2                 Севастополь,  улица Генерала Жидилова, 4     44.61   \n",
       "3                   Севастополь,  улица Николая Музыки, 96     44.85   \n",
       "4                      Севастополь,  улица Лётчиков, д. 10     44.58   \n",
       "...                                                    ...       ...   \n",
       "10147         Бахчисарай, с. Фурмановка, ул. Будённого, 47     44.76   \n",
       "10148             Судак, СНТ Солнечная Долина, Морская ул.     44.84   \n",
       "10149                            Судак, ул. Десантников, 6     44.86   \n",
       "10150                               Судак, Гвардейская ул.     44.86   \n",
       "10151              Судак, с. Земляничное, Заречная ул., 9А     44.86   \n",
       "\n",
       "       longitude truncated  \n",
       "0          33.55     False  \n",
       "1          33.60     False  \n",
       "2          33.52     False  \n",
       "3          33.63     False  \n",
       "4          33.52     False  \n",
       "...          ...       ...  \n",
       "10147      33.74       NaN  \n",
       "10148      35.05       NaN  \n",
       "10149      34.98       NaN  \n",
       "10150      34.97       NaN  \n",
       "10151      34.99       NaN  \n",
       "\n",
       "[10152 rows x 4 columns]"
      ]
     },
     "execution_count": 19,
     "metadata": {},
     "output_type": "execute_result"
    }
   ],
   "source": [
    "loc"
   ]
  },
  {
   "cell_type": "code",
   "execution_count": 20,
   "id": "19741bb7",
   "metadata": {},
   "outputs": [
    {
     "data": {
      "text/html": [
       "<div>\n",
       "<style scoped>\n",
       "    .dataframe tbody tr th:only-of-type {\n",
       "        vertical-align: middle;\n",
       "    }\n",
       "\n",
       "    .dataframe tbody tr th {\n",
       "        vertical-align: top;\n",
       "    }\n",
       "\n",
       "    .dataframe thead th {\n",
       "        text-align: right;\n",
       "    }\n",
       "</style>\n",
       "<table border=\"1\" class=\"dataframe\">\n",
       "  <thead>\n",
       "    <tr style=\"text-align: right;\">\n",
       "      <th></th>\n",
       "      <th>adr</th>\n",
       "      <th>latitude</th>\n",
       "      <th>longitude</th>\n",
       "      <th>truncated</th>\n",
       "    </tr>\n",
       "  </thead>\n",
       "  <tbody>\n",
       "    <tr>\n",
       "      <th>5401</th>\n",
       "      <td>улица Челнокова, 13/31</td>\n",
       "      <td>44.59</td>\n",
       "      <td>33.43</td>\n",
       "      <td>False</td>\n",
       "    </tr>\n",
       "    <tr>\n",
       "      <th>4754</th>\n",
       "      <td>Парковая улица , 14Б</td>\n",
       "      <td>44.56</td>\n",
       "      <td>33.53</td>\n",
       "      <td>False</td>\n",
       "    </tr>\n",
       "    <tr>\n",
       "      <th>1591</th>\n",
       "      <td>Севастополь,  проспект Генерала Острякова, 170А</td>\n",
       "      <td>44.56</td>\n",
       "      <td>33.52</td>\n",
       "      <td>False</td>\n",
       "    </tr>\n",
       "  </tbody>\n",
       "</table>\n",
       "</div>"
      ],
      "text/plain": [
       "                                                  adr  latitude  longitude  \\\n",
       "5401                           улица Челнокова, 13/31     44.59      33.43   \n",
       "4754                             Парковая улица , 14Б     44.56      33.53   \n",
       "1591  Севастополь,  проспект Генерала Острякова, 170А     44.56      33.52   \n",
       "\n",
       "     truncated  \n",
       "5401     False  \n",
       "4754     False  \n",
       "1591     False  "
      ]
     },
     "execution_count": 20,
     "metadata": {},
     "output_type": "execute_result"
    }
   ],
   "source": [
    "loc.sample(3)"
   ]
  },
  {
   "cell_type": "code",
   "execution_count": 21,
   "id": "a90d2398",
   "metadata": {},
   "outputs": [],
   "source": [
    "assert len(loc)>0\n",
    "loc.to_pickle(loc_file_path)"
   ]
  },
  {
   "cell_type": "markdown",
   "id": "30dbd6a6",
   "metadata": {},
   "source": [
    "## дополняем данные геометкой"
   ]
  },
  {
   "cell_type": "code",
   "execution_count": 22,
   "id": "06470644",
   "metadata": {},
   "outputs": [
    {
     "name": "stdout",
     "output_type": "stream",
     "text": [
      "всего записей: 5599\n",
      "записей без геометки: 0\n"
     ]
    }
   ],
   "source": [
    "data = data.merge(loc[['adr','latitude','longitude',]],on=['adr'],how='left')\n",
    "\n",
    "print('всего записей:', len( data) )\n",
    "print('записей без геометки:', len( data[ data['latitude'].isnull() ] ) )"
   ]
  },
  {
   "cell_type": "code",
   "execution_count": 23,
   "id": "b3161e64",
   "metadata": {},
   "outputs": [],
   "source": [
    "assert len(data)>0\n",
    "data.to_pickle(result_file_path)"
   ]
  },
  {
   "cell_type": "code",
   "execution_count": 24,
   "id": "799e47c2",
   "metadata": {},
   "outputs": [
    {
     "name": "stdout",
     "output_type": "stream",
     "text": [
      "<class 'pandas.core.frame.DataFrame'>\n",
      "Int64Index: 5599 entries, 0 to 5598\n",
      "Data columns (total 19 columns):\n",
      " #   Column               Non-Null Count  Dtype         \n",
      "---  ------               --------------  -----         \n",
      " 0   avito_id             5599 non-null   int64         \n",
      " 1   title                5599 non-null   object        \n",
      " 2   price                5599 non-null   int64         \n",
      " 3   obj_name             5599 non-null   object        \n",
      " 4   adr                  5599 non-null   object        \n",
      " 5   description          5599 non-null   object        \n",
      " 6   avito_page           5599 non-null   int64         \n",
      " 7   ts                   5599 non-null   datetime64[ns]\n",
      " 8   place                5599 non-null   object        \n",
      " 9   house_area           5599 non-null   float64       \n",
      " 10  is_part              5599 non-null   bool          \n",
      " 11  is_townhouse         5599 non-null   bool          \n",
      " 12  is_SNT               5599 non-null   bool          \n",
      " 13  land_area            5599 non-null   float64       \n",
      " 14  priceM               5599 non-null   float64       \n",
      " 15  land_size_category   5591 non-null   category      \n",
      " 16  house_size_category  5591 non-null   category      \n",
      " 17  latitude             5599 non-null   float64       \n",
      " 18  longitude            5599 non-null   float64       \n",
      "dtypes: bool(3), category(2), datetime64[ns](1), float64(5), int64(3), object(5)\n",
      "memory usage: 683.9+ KB\n"
     ]
    }
   ],
   "source": [
    "data.info()"
   ]
  }
 ],
 "metadata": {
  "kernelspec": {
   "display_name": "Python 3 (ipykernel)",
   "language": "python",
   "name": "python3"
  },
  "language_info": {
   "codemirror_mode": {
    "name": "ipython",
    "version": 3
   },
   "file_extension": ".py",
   "mimetype": "text/x-python",
   "name": "python",
   "nbconvert_exporter": "python",
   "pygments_lexer": "ipython3",
   "version": "3.10.6"
  },
  "toc": {
   "base_numbering": 1,
   "nav_menu": {},
   "number_sections": true,
   "sideBar": true,
   "skip_h1_title": false,
   "title_cell": "Table of Contents",
   "title_sidebar": "Contents",
   "toc_cell": false,
   "toc_position": {},
   "toc_section_display": true,
   "toc_window_display": true
  },
  "varInspector": {
   "cols": {
    "lenName": 16,
    "lenType": 16,
    "lenVar": 40
   },
   "kernels_config": {
    "python": {
     "delete_cmd_postfix": "",
     "delete_cmd_prefix": "del ",
     "library": "var_list.py",
     "varRefreshCmd": "print(var_dic_list())"
    },
    "r": {
     "delete_cmd_postfix": ") ",
     "delete_cmd_prefix": "rm(",
     "library": "var_list.r",
     "varRefreshCmd": "cat(var_dic_list()) "
    }
   },
   "types_to_exclude": [
    "module",
    "function",
    "builtin_function_or_method",
    "instance",
    "_Feature"
   ],
   "window_display": false
  }
 },
 "nbformat": 4,
 "nbformat_minor": 5
}
