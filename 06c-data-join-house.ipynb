{
 "cells": [
  {
   "cell_type": "markdown",
   "id": "7bec28d7",
   "metadata": {},
   "source": [
    "__собираем данные__\n",
    "\n",
    "_Evgeny S. Borisov <parser@mechanoid.su>_"
   ]
  },
  {
   "cell_type": "code",
   "execution_count": 1,
   "id": "52c5999f",
   "metadata": {},
   "outputs": [],
   "source": [
    "# !pacman -S firefox firefox-i18n-r  geckodriver\n",
    "# !pip install seleniuam"
   ]
  },
  {
   "cell_type": "code",
   "execution_count": 2,
   "id": "bcea4d8b",
   "metadata": {
    "ExecuteTime": {
     "end_time": "2022-08-26T14:19:06.118492Z",
     "start_time": "2022-08-26T14:13:37.888398Z"
    }
   },
   "outputs": [],
   "source": [
    "# import re\n",
    "import sys\n",
    "import logging\n",
    "from datetime import datetime as dtm\n",
    "from tqdm.notebook import tqdm\n",
    "import pandas as pd"
   ]
  },
  {
   "cell_type": "code",
   "execution_count": 3,
   "id": "caabc8c7",
   "metadata": {
    "ExecuteTime": {
     "end_time": "2022-08-26T14:19:06.118492Z",
     "start_time": "2022-08-26T14:13:37.888398Z"
    }
   },
   "outputs": [],
   "source": [
    "pd.set_option('display.max_colwidth', None)\n",
    "pd.set_option('display.float_format', '{:.2f}'.format)\n",
    "tqdm.pandas()\n",
    "\n",
    "logging.basicConfig(\n",
    "        format=u'[%(levelname)-8s] %(asctime)s | %(message)s',\n",
    "        datefmt='%Y-%m-%d %H:%M:%S',\n",
    "        level=logging.INFO,\n",
    "        # level=logging.DEBUG,\n",
    "        stream=sys.stdout,\n",
    "    )"
   ]
  },
  {
   "cell_type": "markdown",
   "id": "db3fe2be",
   "metadata": {},
   "source": [
    "---"
   ]
  },
  {
   "cell_type": "code",
   "execution_count": 4,
   "id": "d437eab9",
   "metadata": {},
   "outputs": [],
   "source": [
    "# каталог с файлами объявлений\n",
    "avito_raw_data_path = 'data/raw/house/avito' \n",
    "# cian_raw_data_path = 'data/raw/cian'\n",
    "result_file_path = 'data/data_house.pkl'"
   ]
  },
  {
   "cell_type": "code",
   "execution_count": 5,
   "id": "31463a1e",
   "metadata": {},
   "outputs": [],
   "source": [
    "# ts = dtm.now().strftime('%Y-%m-%d_%H-%M')\n",
    "# ts"
   ]
  },
  {
   "cell_type": "markdown",
   "id": "98f6384f",
   "metadata": {},
   "source": [
    "## собираем данные авито.ру"
   ]
  },
  {
   "cell_type": "code",
   "execution_count": 6,
   "id": "2673ef1f",
   "metadata": {},
   "outputs": [
    {
     "data": {
      "text/plain": [
       "['data/raw/house/avito/avito_2022-09-15_11-54_raw_sevastopol.xlsx',\n",
       " 'data/raw/house/avito/avito_2022-09-15_14-42_raw_bahchisaray.xlsx',\n",
       " 'data/raw/house/avito/avito_2022-09-15_14-47_raw_sudak.xlsx']"
      ]
     },
     "execution_count": 6,
     "metadata": {},
     "output_type": "execute_result"
    }
   ],
   "source": [
    "import re\n",
    "from os import listdir\n",
    "\n",
    "raw_data_files = sorted([\n",
    "        avito_raw_data_path+'/'+f \n",
    "        for f in listdir(avito_raw_data_path) \n",
    "        if re.match(r'.+\\.xlsx$',f)\n",
    "    ])\n",
    "raw_data_files"
   ]
  },
  {
   "cell_type": "code",
   "execution_count": 7,
   "id": "347629e1",
   "metadata": {},
   "outputs": [
    {
     "name": "stdout",
     "output_type": "stream",
     "text": [
      "2816\n"
     ]
    }
   ],
   "source": [
    "data_avito = pd.concat([\n",
    "        pd\n",
    "        .read_excel(f)\n",
    "        #.dropna()\n",
    "        .drop_duplicates(['avito_id','description'])\n",
    "        .rename(columns={'page':'avito_page'})\n",
    "        .reset_index(drop=True)  \n",
    "        for f in raw_data_files\n",
    "    ]).reset_index(drop=True)\n",
    "\n",
    "print(len(data_avito))"
   ]
  },
  {
   "cell_type": "code",
   "execution_count": 8,
   "id": "2a992037",
   "metadata": {},
   "outputs": [],
   "source": [
    "# data_avito"
   ]
  },
  {
   "cell_type": "code",
   "execution_count": 9,
   "id": "cbce7aaa",
   "metadata": {},
   "outputs": [
    {
     "name": "stdout",
     "output_type": "stream",
     "text": [
      "2816\n"
     ]
    }
   ],
   "source": [
    "from lib.avito import AvitoDataCleanerRealtyHouse\n",
    "\n",
    "data_avito = AvitoDataCleanerRealtyHouse().transform( data_avito )\n",
    "\n",
    "print(len(data_avito))"
   ]
  },
  {
   "cell_type": "code",
   "execution_count": 10,
   "id": "becaac57",
   "metadata": {},
   "outputs": [
    {
     "data": {
      "text/html": [
       "<div>\n",
       "<style scoped>\n",
       "    .dataframe tbody tr th:only-of-type {\n",
       "        vertical-align: middle;\n",
       "    }\n",
       "\n",
       "    .dataframe tbody tr th {\n",
       "        vertical-align: top;\n",
       "    }\n",
       "\n",
       "    .dataframe thead th {\n",
       "        text-align: right;\n",
       "    }\n",
       "</style>\n",
       "<table border=\"1\" class=\"dataframe\">\n",
       "  <thead>\n",
       "    <tr style=\"text-align: right;\">\n",
       "      <th></th>\n",
       "      <th>avito_id</th>\n",
       "      <th>title</th>\n",
       "      <th>price</th>\n",
       "      <th>obj_name</th>\n",
       "      <th>adr</th>\n",
       "      <th>description</th>\n",
       "      <th>avito_page</th>\n",
       "      <th>ts</th>\n",
       "      <th>place</th>\n",
       "      <th>house_area</th>\n",
       "      <th>is_part</th>\n",
       "      <th>is_townhouse</th>\n",
       "      <th>is_SNT</th>\n",
       "      <th>land_area</th>\n",
       "      <th>priceM</th>\n",
       "      <th>land_size_category</th>\n",
       "      <th>house_size_category</th>\n",
       "    </tr>\n",
       "  </thead>\n",
       "  <tbody>\n",
       "    <tr>\n",
       "      <th>1248</th>\n",
       "      <td>2513432254</td>\n",
       "      <td>дом 100 м² на участке 4 сот.</td>\n",
       "      <td>8900000</td>\n",
       "      <td></td>\n",
       "      <td>СТ Милосердие, 163</td>\n",
       "      <td>Дом 96 м2 по цене квартиры! \\nДом новой постройки для круглогодичного проживания, район Фиолент Снт Милоседие. \\n\\nДом построен качественно: ленточный фундамент 1 м, монолитная плита, колоны и сейсмо-пояса, заполнение ракушечником в камень наружные стены и в</td>\n",
       "      <td>26</td>\n",
       "      <td>2022-09-15 11:53:29.976</td>\n",
       "      <td>sevastopol</td>\n",
       "      <td>100.00</td>\n",
       "      <td>False</td>\n",
       "      <td>False</td>\n",
       "      <td>True</td>\n",
       "      <td>4.00</td>\n",
       "      <td>8.90</td>\n",
       "      <td>2-4</td>\n",
       "      <td>70-150</td>\n",
       "    </tr>\n",
       "    <tr>\n",
       "      <th>36</th>\n",
       "      <td>2534686669</td>\n",
       "      <td>дом 112 м² на участке 5 сот.</td>\n",
       "      <td>5800000</td>\n",
       "      <td></td>\n",
       "      <td>ул. Ревякина</td>\n",
       "      <td>В продаже жилой дом по ул. Ревякина. Общей площадью 113 кв.м., три жилые комнаты, кухня, санузел, крыша шифер . Котёл угольный . \\nУчасток 5 соток .\\nДо центра города 5 мин.</td>\n",
       "      <td>1</td>\n",
       "      <td>2022-09-15 11:53:29.976</td>\n",
       "      <td>sevastopol</td>\n",
       "      <td>112.00</td>\n",
       "      <td>False</td>\n",
       "      <td>False</td>\n",
       "      <td>False</td>\n",
       "      <td>5.00</td>\n",
       "      <td>5.80</td>\n",
       "      <td>4-8</td>\n",
       "      <td>70-150</td>\n",
       "    </tr>\n",
       "    <tr>\n",
       "      <th>1951</th>\n",
       "      <td>2495875417</td>\n",
       "      <td>дом 486 м² на участке 4 сот.</td>\n",
       "      <td>200000000</td>\n",
       "      <td></td>\n",
       "      <td>ул. Военных Строителей, 68А</td>\n",
       "      <td>- Фундамент — монолитный ленточный;\\n- Каркас — монолитный ж/б каркас с заполнением проёмов и наружных стен ракушечником и газоблоком;\\n- Кровля — плоская, эксплуатируемая (мембрана Пвх Технониколь 8 мм, утеплитель экструдированный пенополистерол Carbon Prof</td>\n",
       "      <td>41</td>\n",
       "      <td>2022-09-15 11:53:29.976</td>\n",
       "      <td>sevastopol</td>\n",
       "      <td>486.00</td>\n",
       "      <td>False</td>\n",
       "      <td>False</td>\n",
       "      <td>False</td>\n",
       "      <td>4.00</td>\n",
       "      <td>200.00</td>\n",
       "      <td>2-4</td>\n",
       "      <td>300+</td>\n",
       "    </tr>\n",
       "  </tbody>\n",
       "</table>\n",
       "</div>"
      ],
      "text/plain": [
       "        avito_id                         title      price obj_name  \\\n",
       "1248  2513432254  дом 100 м² на участке 4 сот.    8900000            \n",
       "36    2534686669  дом 112 м² на участке 5 сот.    5800000            \n",
       "1951  2495875417  дом 486 м² на участке 4 сот.  200000000            \n",
       "\n",
       "                              adr  \\\n",
       "1248           СТ Милосердие, 163   \n",
       "36                   ул. Ревякина   \n",
       "1951  ул. Военных Строителей, 68А   \n",
       "\n",
       "                                                                                                                                                                                                                                                              description  \\\n",
       "1248  Дом 96 м2 по цене квартиры! \\nДом новой постройки для круглогодичного проживания, район Фиолент Снт Милоседие. \\n\\nДом построен качественно: ленточный фундамент 1 м, монолитная плита, колоны и сейсмо-пояса, заполнение ракушечником в камень наружные стены и в    \n",
       "36                                                                                          В продаже жилой дом по ул. Ревякина. Общей площадью 113 кв.м., три жилые комнаты, кухня, санузел, крыша шифер . Котёл угольный . \\nУчасток 5 соток .\\nДо центра города 5 мин.   \n",
       "1951   - Фундамент — монолитный ленточный;\\n- Каркас — монолитный ж/б каркас с заполнением проёмов и наружных стен ракушечником и газоблоком;\\n- Кровля — плоская, эксплуатируемая (мембрана Пвх Технониколь 8 мм, утеплитель экструдированный пенополистерол Carbon Prof   \n",
       "\n",
       "      avito_page                      ts       place  house_area  is_part  \\\n",
       "1248          26 2022-09-15 11:53:29.976  sevastopol      100.00    False   \n",
       "36             1 2022-09-15 11:53:29.976  sevastopol      112.00    False   \n",
       "1951          41 2022-09-15 11:53:29.976  sevastopol      486.00    False   \n",
       "\n",
       "      is_townhouse  is_SNT  land_area  priceM land_size_category  \\\n",
       "1248         False    True       4.00    8.90                2-4   \n",
       "36           False   False       5.00    5.80                4-8   \n",
       "1951         False   False       4.00  200.00                2-4   \n",
       "\n",
       "     house_size_category  \n",
       "1248              70-150  \n",
       "36                70-150  \n",
       "1951                300+  "
      ]
     },
     "execution_count": 10,
     "metadata": {},
     "output_type": "execute_result"
    }
   ],
   "source": [
    "data_avito.sample(3)"
   ]
  },
  {
   "cell_type": "code",
   "execution_count": 12,
   "id": "cd5b72fa",
   "metadata": {},
   "outputs": [
    {
     "data": {
      "text/plain": [
       "array(['sevastopol', 'bahchisaray', 'sudak'], dtype=object)"
      ]
     },
     "execution_count": 12,
     "metadata": {},
     "output_type": "execute_result"
    }
   ],
   "source": [
    "data_avito['place'].unique()"
   ]
  },
  {
   "cell_type": "code",
   "execution_count": 13,
   "id": "ce2869e1",
   "metadata": {},
   "outputs": [],
   "source": [
    "assert len(data_avito)>0"
   ]
  },
  {
   "cell_type": "code",
   "execution_count": 14,
   "id": "12170700",
   "metadata": {},
   "outputs": [
    {
     "name": "stdout",
     "output_type": "stream",
     "text": [
      "<class 'pandas.core.frame.DataFrame'>\n",
      "RangeIndex: 2816 entries, 0 to 2815\n",
      "Data columns (total 17 columns):\n",
      " #   Column               Non-Null Count  Dtype         \n",
      "---  ------               --------------  -----         \n",
      " 0   avito_id             2816 non-null   int64         \n",
      " 1   title                2816 non-null   object        \n",
      " 2   price                2816 non-null   int64         \n",
      " 3   obj_name             2816 non-null   object        \n",
      " 4   adr                  2816 non-null   object        \n",
      " 5   description          2816 non-null   object        \n",
      " 6   avito_page           2816 non-null   int64         \n",
      " 7   ts                   2816 non-null   datetime64[ns]\n",
      " 8   place                2816 non-null   object        \n",
      " 9   house_area           2816 non-null   float64       \n",
      " 10  is_part              2816 non-null   bool          \n",
      " 11  is_townhouse         2816 non-null   bool          \n",
      " 12  is_SNT               2816 non-null   bool          \n",
      " 13  land_area            2816 non-null   float64       \n",
      " 14  priceM               2816 non-null   float64       \n",
      " 15  land_size_category   2812 non-null   category      \n",
      " 16  house_size_category  2812 non-null   category      \n",
      "dtypes: bool(3), category(2), datetime64[ns](1), float64(3), int64(3), object(5)\n",
      "memory usage: 278.3+ KB\n"
     ]
    }
   ],
   "source": [
    "data_avito.info(2)"
   ]
  },
  {
   "cell_type": "code",
   "execution_count": 15,
   "id": "4e7581fb",
   "metadata": {},
   "outputs": [
    {
     "data": {
      "text/plain": [
       "avito_id               False\n",
       "title                  False\n",
       "price                  False\n",
       "obj_name               False\n",
       "adr                    False\n",
       "description            False\n",
       "avito_page             False\n",
       "ts                     False\n",
       "place                  False\n",
       "house_area             False\n",
       "is_part                False\n",
       "is_townhouse           False\n",
       "is_SNT                 False\n",
       "land_area              False\n",
       "priceM                 False\n",
       "land_size_category      True\n",
       "house_size_category     True\n",
       "dtype: bool"
      ]
     },
     "execution_count": 15,
     "metadata": {},
     "output_type": "execute_result"
    }
   ],
   "source": [
    "data_avito.isnull().any()"
   ]
  },
  {
   "cell_type": "code",
   "execution_count": 16,
   "id": "721420c0",
   "metadata": {},
   "outputs": [
    {
     "data": {
      "text/html": [
       "<div>\n",
       "<style scoped>\n",
       "    .dataframe tbody tr th:only-of-type {\n",
       "        vertical-align: middle;\n",
       "    }\n",
       "\n",
       "    .dataframe tbody tr th {\n",
       "        vertical-align: top;\n",
       "    }\n",
       "\n",
       "    .dataframe thead th {\n",
       "        text-align: right;\n",
       "    }\n",
       "</style>\n",
       "<table border=\"1\" class=\"dataframe\">\n",
       "  <thead>\n",
       "    <tr style=\"text-align: right;\">\n",
       "      <th></th>\n",
       "      <th>avito_id</th>\n",
       "      <th>title</th>\n",
       "      <th>price</th>\n",
       "      <th>obj_name</th>\n",
       "      <th>adr</th>\n",
       "      <th>description</th>\n",
       "      <th>avito_page</th>\n",
       "      <th>ts</th>\n",
       "      <th>place</th>\n",
       "      <th>house_area</th>\n",
       "      <th>is_part</th>\n",
       "      <th>is_townhouse</th>\n",
       "      <th>is_SNT</th>\n",
       "      <th>land_area</th>\n",
       "      <th>priceM</th>\n",
       "      <th>land_size_category</th>\n",
       "      <th>house_size_category</th>\n",
       "    </tr>\n",
       "  </thead>\n",
       "  <tbody>\n",
       "    <tr>\n",
       "      <th>2283</th>\n",
       "      <td>2337799298</td>\n",
       "      <td></td>\n",
       "      <td>11900000</td>\n",
       "      <td></td>\n",
       "      <td>Восточная ул.</td>\n",
       "      <td>Предлагаю 1/2 дома общей площадью 120 кв. М. В центре города в отличном районе для проживания на земельном участке 1.6 сотки. Вся инфраструктура рядом, транспортные развязки в шаговой доступности. При этом дом расположен в тихом месте, с каждого этажа дома</td>\n",
       "      <td>47</td>\n",
       "      <td>2022-09-15 11:53:29.976</td>\n",
       "      <td>sevastopol</td>\n",
       "      <td>0.00</td>\n",
       "      <td>True</td>\n",
       "      <td>False</td>\n",
       "      <td>False</td>\n",
       "      <td>0.00</td>\n",
       "      <td>11.90</td>\n",
       "      <td>NaN</td>\n",
       "      <td>NaN</td>\n",
       "    </tr>\n",
       "    <tr>\n",
       "      <th>2614</th>\n",
       "      <td>2034310938</td>\n",
       "      <td></td>\n",
       "      <td>5000000</td>\n",
       "      <td></td>\n",
       "      <td>с. Танковое, ул. Ходырева</td>\n",
       "      <td>Собственник. Срочно продам дом 74,3 кв м на земельном участке 814 м кв. Санузел и туалет в доме, 2 спальни. 1965 года постройки, камень бут, очень тёплый зимой и прохладный летом. Газ, приборы учета на все коммуникации. В дом есть 2 входа. Также на участке</td>\n",
       "      <td>4</td>\n",
       "      <td>2022-09-15 14:42:27.254</td>\n",
       "      <td>bahchisaray</td>\n",
       "      <td>0.00</td>\n",
       "      <td>False</td>\n",
       "      <td>False</td>\n",
       "      <td>False</td>\n",
       "      <td>0.00</td>\n",
       "      <td>5.00</td>\n",
       "      <td>NaN</td>\n",
       "      <td>NaN</td>\n",
       "    </tr>\n",
       "    <tr>\n",
       "      <th>2624</th>\n",
       "      <td>2391096190</td>\n",
       "      <td></td>\n",
       "      <td>3000000</td>\n",
       "      <td></td>\n",
       "      <td>с. Растущее, Садовая ул., 8</td>\n",
       "      <td>Продам Дом 75 КВ. М, 10 Соток Земли Ижс Продам дом в живописном районе Крыма, в селе Растущее 10 соток земли, 75 кв. М, 4 комнаты, коммуникации: свет, газ, вода, скважина, отопление Агв. Дом чистый, уютный, заходи живи. Участок ровный, сад, весь обработанн</td>\n",
       "      <td>4</td>\n",
       "      <td>2022-09-15 14:42:27.254</td>\n",
       "      <td>bahchisaray</td>\n",
       "      <td>0.00</td>\n",
       "      <td>False</td>\n",
       "      <td>False</td>\n",
       "      <td>True</td>\n",
       "      <td>0.00</td>\n",
       "      <td>3.00</td>\n",
       "      <td>NaN</td>\n",
       "      <td>NaN</td>\n",
       "    </tr>\n",
       "    <tr>\n",
       "      <th>2733</th>\n",
       "      <td>2418227584</td>\n",
       "      <td></td>\n",
       "      <td>5500000</td>\n",
       "      <td></td>\n",
       "      <td>Платановый квартал, 21</td>\n",
       "      <td>Недострой (Ижс).\\nЗемля 5.2 сотки (собственность).\\nВсе вопросы по телефону.</td>\n",
       "      <td>1</td>\n",
       "      <td>2022-09-15 14:47:45.056</td>\n",
       "      <td>sudak</td>\n",
       "      <td>0.00</td>\n",
       "      <td>False</td>\n",
       "      <td>False</td>\n",
       "      <td>False</td>\n",
       "      <td>0.00</td>\n",
       "      <td>5.50</td>\n",
       "      <td>NaN</td>\n",
       "      <td>NaN</td>\n",
       "    </tr>\n",
       "  </tbody>\n",
       "</table>\n",
       "</div>"
      ],
      "text/plain": [
       "        avito_id title     price obj_name                          adr  \\\n",
       "2283  2337799298        11900000                         Восточная ул.   \n",
       "2614  2034310938         5000000             с. Танковое, ул. Ходырева   \n",
       "2624  2391096190         3000000           с. Растущее, Садовая ул., 8   \n",
       "2733  2418227584         5500000                Платановый квартал, 21   \n",
       "\n",
       "                                                                                                                                                                                                                                                           description  \\\n",
       "2283  Предлагаю 1/2 дома общей площадью 120 кв. М. В центре города в отличном районе для проживания на земельном участке 1.6 сотки. Вся инфраструктура рядом, транспортные развязки в шаговой доступности. При этом дом расположен в тихом месте, с каждого этажа дома   \n",
       "2614  Собственник. Срочно продам дом 74,3 кв м на земельном участке 814 м кв. Санузел и туалет в доме, 2 спальни. 1965 года постройки, камень бут, очень тёплый зимой и прохладный летом. Газ, приборы учета на все коммуникации. В дом есть 2 входа. Также на участке   \n",
       "2624  Продам Дом 75 КВ. М, 10 Соток Земли Ижс Продам дом в живописном районе Крыма, в селе Растущее 10 соток земли, 75 кв. М, 4 комнаты, коммуникации: свет, газ, вода, скважина, отопление Агв. Дом чистый, уютный, заходи живи. Участок ровный, сад, весь обработанн   \n",
       "2733                                                                                                                                                                                      Недострой (Ижс).\\nЗемля 5.2 сотки (собственность).\\nВсе вопросы по телефону.   \n",
       "\n",
       "      avito_page                      ts        place  house_area  is_part  \\\n",
       "2283          47 2022-09-15 11:53:29.976   sevastopol        0.00     True   \n",
       "2614           4 2022-09-15 14:42:27.254  bahchisaray        0.00    False   \n",
       "2624           4 2022-09-15 14:42:27.254  bahchisaray        0.00    False   \n",
       "2733           1 2022-09-15 14:47:45.056        sudak        0.00    False   \n",
       "\n",
       "      is_townhouse  is_SNT  land_area  priceM land_size_category  \\\n",
       "2283         False   False       0.00   11.90                NaN   \n",
       "2614         False   False       0.00    5.00                NaN   \n",
       "2624         False    True       0.00    3.00                NaN   \n",
       "2733         False   False       0.00    5.50                NaN   \n",
       "\n",
       "     house_size_category  \n",
       "2283                 NaN  \n",
       "2614                 NaN  \n",
       "2624                 NaN  \n",
       "2733                 NaN  "
      ]
     },
     "execution_count": 16,
     "metadata": {},
     "output_type": "execute_result"
    }
   ],
   "source": [
    "data_avito[ data_avito['land_size_category'].isnull() ]"
   ]
  },
  {
   "cell_type": "markdown",
   "id": "f3ca7967",
   "metadata": {},
   "source": [
    "---"
   ]
  },
  {
   "cell_type": "code",
   "execution_count": 17,
   "id": "2db629e4",
   "metadata": {},
   "outputs": [
    {
     "name": "stdout",
     "output_type": "stream",
     "text": [
      "2816\n"
     ]
    }
   ],
   "source": [
    "data = data_avito.reset_index(drop=True) \n",
    "print(len(data))\n",
    "assert len(data)>0"
   ]
  },
  {
   "cell_type": "markdown",
   "id": "2903ab86",
   "metadata": {},
   "source": [
    "### обновляем таблицу адресов"
   ]
  },
  {
   "cell_type": "code",
   "execution_count": 20,
   "id": "8ef8e77a",
   "metadata": {},
   "outputs": [],
   "source": [
    "# data = data.sample(10)"
   ]
  },
  {
   "cell_type": "code",
   "execution_count": 18,
   "id": "0c2ca700",
   "metadata": {},
   "outputs": [],
   "source": [
    "# import pandas as pd\n",
    "# loc_file_path = 'data/location_yandex.pkl'# таблица адресов\n",
    "# df=pd.read_pickle(loc_file_path)\n",
    "# # df\n",
    "\n",
    "# df['latitude_'] =  df['latitude']\n",
    "# df['latitude']  =  df['longitude']\n",
    "# df['longitude'] = df['latitude_']\n",
    "# df = df.drop(columns=['latitude_',])\n",
    "\n",
    "# df.to_pickle(loc_file_path)"
   ]
  },
  {
   "cell_type": "code",
   "execution_count": 19,
   "id": "c6c42394",
   "metadata": {},
   "outputs": [],
   "source": [
    "# from lib.locator import LocationUpdater\n",
    "# from lib.locator import AddressTransformerSev\n",
    "\n",
    "# loc_file_path = 'data/location.pkl'# таблица адресов\n",
    "\n",
    "# loc = LocationUpdater(\n",
    "#         address_transformer=AddressTransformerSev(),\n",
    "#     ).transform(\n",
    "#         adr=data.sample(3)['adr'],\n",
    "#         loc=pd.read_pickle(loc_file_path.pkl'),\n",
    "#         show_pbar=True,\n",
    "#     )"
   ]
  },
  {
   "cell_type": "markdown",
   "id": "167d4343",
   "metadata": {},
   "source": [
    "----"
   ]
  },
  {
   "cell_type": "code",
   "execution_count": 22,
   "id": "c010ee57",
   "metadata": {},
   "outputs": [
    {
     "data": {
      "text/plain": [
       "0       Севастополь, Балаклавский район , садовое товарищество Успех, 21\n",
       "1                                       садовое товарищество Тополёк, 10\n",
       "2                                                 ул. Николая Музыки, 51\n",
       "3                                         СТ Яблоня, 2-я ул. Сарандинаки\n",
       "4                                                      ул. Будённого, 55\n",
       "                                      ...                               \n",
       "2811                                                       квартал Асрет\n",
       "2812                                                       ул. Ашик-Умер\n",
       "2813                                      с. Солнечная Долина, ул. Авдет\n",
       "2814                                           с. Богатовка, Зелёная ул.\n",
       "2815                                                   ул. Пограничников\n",
       "Name: adr, Length: 2816, dtype: object"
      ]
     },
     "execution_count": 22,
     "metadata": {},
     "output_type": "execute_result"
    }
   ],
   "source": [
    "# from lib.locator import AddressTransformer\n",
    "\n",
    "# data['adr'] = AddressTransformer().transform( data['adr'] )"
   ]
  },
  {
   "cell_type": "code",
   "execution_count": null,
   "id": "a14901ce",
   "metadata": {},
   "outputs": [],
   "source": [
    "# data.loc[ data['place'] == 'bahchisaray', 'adr' ]\n",
    "# data.loc[ data['place'] == 'sudak', 'adr' ]\n",
    "# data.loc[ data['place'] == 'sevastopol', 'adr' ]"
   ]
  },
  {
   "cell_type": "markdown",
   "id": "921a24e3",
   "metadata": {},
   "source": [
    "----"
   ]
  },
  {
   "cell_type": "code",
   "execution_count": null,
   "id": "7d191d0d",
   "metadata": {},
   "outputs": [],
   "source": [
    "from lib.locator import LocationUpdater\n",
    "from lib.locator import GeocoderYandex\n",
    "from yandex_keys import keys\n",
    "\n",
    "\n",
    "loc_file_path = 'data/location.pkl'# таблица адресов\n",
    "\n",
    "loc = LocationUpdater(\n",
    "        locator=GeocoderYandex(keys[0]),\n",
    "    ).transform(\n",
    "        adr=data['adr'],\n",
    "        loc=pd.read_pickle(loc_file_path),\n",
    "        show_pbar=True,\n",
    "    )"
   ]
  },
  {
   "cell_type": "code",
   "execution_count": null,
   "id": "c1db83fe",
   "metadata": {},
   "outputs": [],
   "source": [
    "loc"
   ]
  },
  {
   "cell_type": "code",
   "execution_count": null,
   "id": "19741bb7",
   "metadata": {},
   "outputs": [],
   "source": [
    "loc.sample(3)"
   ]
  },
  {
   "cell_type": "code",
   "execution_count": null,
   "id": "a90d2398",
   "metadata": {},
   "outputs": [],
   "source": [
    "assert len(loc)>0\n",
    "loc.to_pickle(loc_file_path)"
   ]
  },
  {
   "cell_type": "markdown",
   "id": "30dbd6a6",
   "metadata": {},
   "source": [
    "### дополняем данные геометкой"
   ]
  },
  {
   "cell_type": "code",
   "execution_count": null,
   "id": "06470644",
   "metadata": {},
   "outputs": [],
   "source": [
    "data = data.merge(loc[['adr','latitude','longitude',]],on=['adr'],how='left')\n",
    "\n",
    "print('всего записей:', len( data) )\n",
    "print('записей без геометки:', len( data[ data['latitude'].isnull() ] ) )"
   ]
  },
  {
   "cell_type": "code",
   "execution_count": null,
   "id": "b3161e64",
   "metadata": {},
   "outputs": [],
   "source": [
    "assert len(data)>0\n",
    "data.to_pickle(result_file_path)"
   ]
  },
  {
   "cell_type": "code",
   "execution_count": null,
   "id": "799e47c2",
   "metadata": {},
   "outputs": [],
   "source": [
    "data.info()"
   ]
  },
  {
   "cell_type": "code",
   "execution_count": null,
   "id": "13de0b35",
   "metadata": {},
   "outputs": [],
   "source": [
    "# for f in raw_data_files:\n",
    "#     ts = dtm.strptime( re.sub(r'.*/avito_','',f), '%Y-%m-%d_%H-%M_raw.xlsx')\n",
    "#     df = pd.read_excel(f)\n",
    "#     df['ts'] = ts\n",
    "#     df.to_excel(f,index=False)\n",
    "#     print(ts)"
   ]
  },
  {
   "cell_type": "code",
   "execution_count": null,
   "id": "0e318218",
   "metadata": {},
   "outputs": [],
   "source": [
    "# class AvitoDataCleanerRealtyLand:\n",
    "    \n",
    "#     def transform(self,data):\n",
    "#         df = data.copy()\n",
    "        \n",
    "#         symb_lat = 'yexapocEXAPOCTHKBM'\n",
    "#         symb_rus = 'уехаросЕХАРОСТНКВМ'\n",
    "#         l2r = str.maketrans(symb_lat,symb_rus) \n",
    "        \n",
    "#         df['title'] = df['title'].str.extract( r'«(.*)»',expand=False).apply(lambda s: s.translate(l2r) )\n",
    "        \n",
    "#         area = df['title'].str.extract( r'(\\d+,?\\d*)\\s*(сот|га)',expand=True)\n",
    "#         area.columns=['area','area_unit']\n",
    "#         df = pd.concat([df,area],axis=1)\n",
    "                       \n",
    "#         df['is_IJS'] = df['title'].str.lower().str.match(r'.*ижс.*')\n",
    "#         df['obj_name'] = df['obj_name'].fillna('')\n",
    "#         df['price'] = df['price'].astype(int)\n",
    "#         df['priceM'] = df['price']/1e6\n",
    "        \n",
    "#         df['area'] = df['area'].fillna('0.').str.replace(',','.').astype(float)\n",
    "        \n",
    "#         df.loc[ df['area_unit']=='га', 'area' ] = df.query('area_unit==\"га\"')['area']*100.\n",
    "#         df = df.drop(columns=['area_unit'])\n",
    "        \n",
    "#         return df"
   ]
  },
  {
   "cell_type": "code",
   "execution_count": null,
   "id": "815aa760",
   "metadata": {},
   "outputs": [],
   "source": [
    "# data_avito['title'].str.extract( r'(\\d+,?\\d*)\\s*(сот|га)',expand=True) #, columns=['a','b'])\n",
    "        "
   ]
  },
  {
   "cell_type": "code",
   "execution_count": null,
   "id": "61a0a534",
   "metadata": {},
   "outputs": [],
   "source": [
    "# # import re\n",
    "# # s='Участок 9,7 сот. (ИЖС)'\n",
    "# s='Участок 7,8 сот. (ИЖС)'\n",
    "# s='Участок 7,8 га. (ИЖС)'\n",
    "\n",
    "# s='Участок 7,8 м. (ИЖС)'\n",
    "\n",
    "# # s='Участок 5 сот. (ИЖС)'\n",
    "\n",
    "# re.search( r'(\\d+,?\\d*)\\s*(сот|га)',s) #.group(1)\n",
    "\n",
    "# # # len(s)"
   ]
  },
  {
   "cell_type": "markdown",
   "id": "8085fd61",
   "metadata": {},
   "source": [
    "----"
   ]
  },
  {
   "cell_type": "code",
   "execution_count": null,
   "id": "e842691e",
   "metadata": {},
   "outputs": [],
   "source": [
    "## собираем данные циан.ру"
   ]
  },
  {
   "cell_type": "code",
   "execution_count": null,
   "id": "6bbc15d4",
   "metadata": {},
   "outputs": [],
   "source": [
    "# import re\n",
    "# from os import listdir\n",
    "\n",
    "# raw_data_files = sorted([\n",
    "#         cian_raw_data_path+'/'+f \n",
    "#         for f in listdir(cian_raw_data_path) \n",
    "#         if re.match(r'.+\\.pkl$',f)\n",
    "#         #if re.match(r'.+\\.xlsx$',f)\n",
    "    \n",
    "#     ])\n",
    "# raw_data_files"
   ]
  },
  {
   "cell_type": "code",
   "execution_count": null,
   "id": "dbb04ed6",
   "metadata": {},
   "outputs": [],
   "source": [
    "# data_cian = pd.concat([\n",
    "#         # pd.read_excel(f)\n",
    "#         pd.read_pickle(f)\n",
    "#          .dropna()\n",
    "#          .drop_duplicates(['LinkArea','Description',])\n",
    "#          .rename(columns={'page':'cian_page'})\n",
    "#          .reset_index(drop=True)  \n",
    "#         for f in raw_data_files\n",
    "#     ]).reset_index(drop=True)"
   ]
  },
  {
   "cell_type": "code",
   "execution_count": null,
   "id": "f08946fe",
   "metadata": {},
   "outputs": [],
   "source": [
    "# data_cian.info(2)"
   ]
  },
  {
   "cell_type": "code",
   "execution_count": null,
   "id": "da514473",
   "metadata": {},
   "outputs": [],
   "source": [
    "# swap_title = data_cian['OfferSubtitle'].str.match(r'.*\\d+ м², \\d+/\\d+ эт.*') \n",
    "\n",
    "# data_cian = pd.concat([\n",
    "#         data_cian[ ~swap_title ],\n",
    "#         data_cian[ swap_title ]\n",
    "#             .rename(columns={'OfferTitle':'OfferSubtitle','OfferSubtitle':'OfferTitle'})\n",
    "#     ]).reset_index(drop=True)\n"
   ]
  },
  {
   "cell_type": "code",
   "execution_count": null,
   "id": "2fdef74c",
   "metadata": {},
   "outputs": [],
   "source": [
    "# data_cian"
   ]
  },
  {
   "cell_type": "code",
   "execution_count": null,
   "id": "9ad64605",
   "metadata": {},
   "outputs": [],
   "source": [
    "# from lib.cian import CianDataCleaner\n",
    "\n",
    "# data_cian = CianDataCleaner().transform( data_cian )\n",
    "\n",
    "# print(len(data_cian))"
   ]
  },
  {
   "cell_type": "code",
   "execution_count": null,
   "id": "19f2f9da",
   "metadata": {},
   "outputs": [],
   "source": [
    "# assert len(data_cian)>0"
   ]
  },
  {
   "cell_type": "code",
   "execution_count": null,
   "id": "9d933b8d",
   "metadata": {},
   "outputs": [],
   "source": [
    "# data_cian.info(2)"
   ]
  },
  {
   "cell_type": "code",
   "execution_count": null,
   "id": "f29d3b58",
   "metadata": {},
   "outputs": [],
   "source": [
    "# data_cian\n",
    "# data_cian.query('nrooms==0')\n",
    "# data_cian[ data_cian['title'].str.len()<1 ]\n",
    "# data_cian[ data_cian['obj_name'].str.len()>0 ][['title','obj_name',]] # .to_csv('tmp/cian_title.csv',sep='\\t')|"
   ]
  },
  {
   "cell_type": "markdown",
   "id": "21467270",
   "metadata": {},
   "source": [
    "----"
   ]
  },
  {
   "cell_type": "code",
   "execution_count": null,
   "id": "1723d97b",
   "metadata": {},
   "outputs": [],
   "source": [
    "# data = pd.concat([data_avito,data_cian]).reset_index(drop=True) \n",
    "# print(len(data))\n",
    "# assert len(data)>0"
   ]
  },
  {
   "cell_type": "code",
   "execution_count": null,
   "id": "bd6ec720",
   "metadata": {},
   "outputs": [],
   "source": []
  }
 ],
 "metadata": {
  "kernelspec": {
   "display_name": "Python 3 (ipykernel)",
   "language": "python",
   "name": "python3"
  },
  "language_info": {
   "codemirror_mode": {
    "name": "ipython",
    "version": 3
   },
   "file_extension": ".py",
   "mimetype": "text/x-python",
   "name": "python",
   "nbconvert_exporter": "python",
   "pygments_lexer": "ipython3",
   "version": "3.10.6"
  },
  "toc": {
   "base_numbering": 1,
   "nav_menu": {},
   "number_sections": true,
   "sideBar": true,
   "skip_h1_title": false,
   "title_cell": "Table of Contents",
   "title_sidebar": "Contents",
   "toc_cell": false,
   "toc_position": {},
   "toc_section_display": true,
   "toc_window_display": false
  },
  "varInspector": {
   "cols": {
    "lenName": 16,
    "lenType": 16,
    "lenVar": 40
   },
   "kernels_config": {
    "python": {
     "delete_cmd_postfix": "",
     "delete_cmd_prefix": "del ",
     "library": "var_list.py",
     "varRefreshCmd": "print(var_dic_list())"
    },
    "r": {
     "delete_cmd_postfix": ") ",
     "delete_cmd_prefix": "rm(",
     "library": "var_list.r",
     "varRefreshCmd": "cat(var_dic_list()) "
    }
   },
   "types_to_exclude": [
    "module",
    "function",
    "builtin_function_or_method",
    "instance",
    "_Feature"
   ],
   "window_display": false
  }
 },
 "nbformat": 4,
 "nbformat_minor": 5
}
