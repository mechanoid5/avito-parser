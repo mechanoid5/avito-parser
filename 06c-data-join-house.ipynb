{
 "cells": [
  {
   "cell_type": "markdown",
   "id": "7bec28d7",
   "metadata": {},
   "source": [
    "__собираем данные__\n",
    "\n",
    "_Evgeny S. Borisov <parser@mechanoid.su>_"
   ]
  },
  {
   "cell_type": "code",
   "execution_count": 1,
   "id": "52c5999f",
   "metadata": {},
   "outputs": [],
   "source": [
    "# !pacman -S firefox firefox-i18n-r  geckodriver\n",
    "# !pip install seleniuam"
   ]
  },
  {
   "cell_type": "code",
   "execution_count": 2,
   "id": "bcea4d8b",
   "metadata": {
    "ExecuteTime": {
     "end_time": "2022-08-26T14:19:06.118492Z",
     "start_time": "2022-08-26T14:13:37.888398Z"
    }
   },
   "outputs": [],
   "source": [
    "# import re\n",
    "import sys\n",
    "import logging\n",
    "from datetime import datetime as dtm\n",
    "from tqdm.notebook import tqdm\n",
    "import pandas as pd"
   ]
  },
  {
   "cell_type": "code",
   "execution_count": 3,
   "id": "caabc8c7",
   "metadata": {
    "ExecuteTime": {
     "end_time": "2022-08-26T14:19:06.118492Z",
     "start_time": "2022-08-26T14:13:37.888398Z"
    }
   },
   "outputs": [],
   "source": [
    "pd.set_option('display.max_colwidth', None)\n",
    "pd.set_option('display.float_format', '{:.2f}'.format)\n",
    "tqdm.pandas()\n",
    "\n",
    "logging.basicConfig(\n",
    "        format=u'[%(levelname)-8s] %(asctime)s | %(message)s',\n",
    "        datefmt='%Y-%m-%d %H:%M:%S',\n",
    "        level=logging.INFO,\n",
    "        # level=logging.DEBUG,\n",
    "        stream=sys.stdout,\n",
    "    )"
   ]
  },
  {
   "cell_type": "markdown",
   "id": "db3fe2be",
   "metadata": {},
   "source": [
    "---"
   ]
  },
  {
   "cell_type": "code",
   "execution_count": 4,
   "id": "d437eab9",
   "metadata": {},
   "outputs": [],
   "source": [
    "# каталог с файлами объявлений\n",
    "avito_raw_data_path = 'data/raw/house/avito' \n",
    "# cian_raw_data_path = 'data/raw/cian'\n",
    "result_file_path = 'data/data_house.pkl'"
   ]
  },
  {
   "cell_type": "code",
   "execution_count": 5,
   "id": "31463a1e",
   "metadata": {},
   "outputs": [],
   "source": [
    "# ts = dtm.now().strftime('%Y-%m-%d_%H-%M')\n",
    "# ts"
   ]
  },
  {
   "cell_type": "markdown",
   "id": "98f6384f",
   "metadata": {},
   "source": [
    "## собираем данные авито.ру"
   ]
  },
  {
   "cell_type": "code",
   "execution_count": 6,
   "id": "2673ef1f",
   "metadata": {},
   "outputs": [
    {
     "data": {
      "text/plain": [
       "['data/raw/house/avito/avito_2022-09-15_11-54_raw_sevastopol.xlsx',\n",
       " 'data/raw/house/avito/avito_2022-09-15_14-42_raw_bahchisaray.xlsx',\n",
       " 'data/raw/house/avito/avito_2022-09-15_14-47_raw_sudak.xlsx']"
      ]
     },
     "execution_count": 6,
     "metadata": {},
     "output_type": "execute_result"
    }
   ],
   "source": [
    "import re\n",
    "from os import listdir\n",
    "\n",
    "raw_data_files = sorted([\n",
    "        avito_raw_data_path+'/'+f \n",
    "        for f in listdir(avito_raw_data_path) \n",
    "        if re.match(r'.+\\.xlsx$',f)\n",
    "    ])\n",
    "raw_data_files"
   ]
  },
  {
   "cell_type": "code",
   "execution_count": 7,
   "id": "347629e1",
   "metadata": {},
   "outputs": [
    {
     "name": "stdout",
     "output_type": "stream",
     "text": [
      "2816\n"
     ]
    }
   ],
   "source": [
    "data_avito = pd.concat([\n",
    "        pd\n",
    "        .read_excel(f)\n",
    "        #.dropna()\n",
    "        .drop_duplicates(['avito_id','description'])\n",
    "        .rename(columns={'page':'avito_page'})\n",
    "        .reset_index(drop=True)  \n",
    "        for f in raw_data_files\n",
    "    ]).reset_index(drop=True)\n",
    "\n",
    "print(len(data_avito))"
   ]
  },
  {
   "cell_type": "code",
   "execution_count": 8,
   "id": "2a992037",
   "metadata": {},
   "outputs": [],
   "source": [
    "# data_avito"
   ]
  },
  {
   "cell_type": "code",
   "execution_count": 9,
   "id": "cbce7aaa",
   "metadata": {},
   "outputs": [
    {
     "name": "stdout",
     "output_type": "stream",
     "text": [
      "2816\n"
     ]
    }
   ],
   "source": [
    "from lib.avito import AvitoDataCleanerRealtyHouse\n",
    "\n",
    "data_avito = AvitoDataCleanerRealtyHouse().transform( data_avito )\n",
    "\n",
    "print(len(data_avito))"
   ]
  },
  {
   "cell_type": "code",
   "execution_count": 10,
   "id": "becaac57",
   "metadata": {},
   "outputs": [
    {
     "data": {
      "text/html": [
       "<div>\n",
       "<style scoped>\n",
       "    .dataframe tbody tr th:only-of-type {\n",
       "        vertical-align: middle;\n",
       "    }\n",
       "\n",
       "    .dataframe tbody tr th {\n",
       "        vertical-align: top;\n",
       "    }\n",
       "\n",
       "    .dataframe thead th {\n",
       "        text-align: right;\n",
       "    }\n",
       "</style>\n",
       "<table border=\"1\" class=\"dataframe\">\n",
       "  <thead>\n",
       "    <tr style=\"text-align: right;\">\n",
       "      <th></th>\n",
       "      <th>avito_id</th>\n",
       "      <th>title</th>\n",
       "      <th>price</th>\n",
       "      <th>obj_name</th>\n",
       "      <th>adr</th>\n",
       "      <th>description</th>\n",
       "      <th>avito_page</th>\n",
       "      <th>ts</th>\n",
       "      <th>place</th>\n",
       "      <th>house_area</th>\n",
       "      <th>is_part</th>\n",
       "      <th>is_townhouse</th>\n",
       "      <th>is_SNT</th>\n",
       "      <th>land_area</th>\n",
       "      <th>priceM</th>\n",
       "      <th>land_size_category</th>\n",
       "      <th>house_size_category</th>\n",
       "    </tr>\n",
       "  </thead>\n",
       "  <tbody>\n",
       "    <tr>\n",
       "      <th>464</th>\n",
       "      <td>2208336892</td>\n",
       "      <td>дом 95 м² на участке 4,5 сот.</td>\n",
       "      <td>5300000</td>\n",
       "      <td></td>\n",
       "      <td>Севастополь, улица Ревякина, 88</td>\n",
       "      <td>Дом 95 м2 на участке 4,5 сотки.\\n\\nДом 95 м2 на участке 4,5 сотки, двухэтажный. Расположен в г. Севастополь, Нахимовский район, улица Ревякина. Коммуникации: 5 квт электричество, водоснабжение городское, отопление газовое, газоснабжение, канализация городска</td>\n",
       "      <td>10</td>\n",
       "      <td>2022-09-15 11:53:29.976</td>\n",
       "      <td>sevastopol</td>\n",
       "      <td>95.00</td>\n",
       "      <td>False</td>\n",
       "      <td>False</td>\n",
       "      <td>False</td>\n",
       "      <td>4.50</td>\n",
       "      <td>5.30</td>\n",
       "      <td>4-8</td>\n",
       "      <td>70-150</td>\n",
       "    </tr>\n",
       "    <tr>\n",
       "      <th>128</th>\n",
       "      <td>2496530431</td>\n",
       "      <td>дом 28 м² на участке 6 сот.</td>\n",
       "      <td>4300000</td>\n",
       "      <td></td>\n",
       "      <td>садоводческое товарищество Кальфа-1, 339</td>\n",
       "      <td>Арт. 30252029 В Снт Кальфа -1 продаётся жилой дом площадью 28квм на 6 сотках земли. Дом построен из инкерманского камня, утеплен, железобетонные перекрытия, добротный фундамент, подвал. Свет и кооперативная вода заведены, металлическая емкость 8 куб. М Уча</td>\n",
       "      <td>3</td>\n",
       "      <td>2022-09-15 11:53:29.976</td>\n",
       "      <td>sevastopol</td>\n",
       "      <td>28.00</td>\n",
       "      <td>False</td>\n",
       "      <td>False</td>\n",
       "      <td>True</td>\n",
       "      <td>6.00</td>\n",
       "      <td>4.30</td>\n",
       "      <td>4-8</td>\n",
       "      <td>&lt;30</td>\n",
       "    </tr>\n",
       "    <tr>\n",
       "      <th>2297</th>\n",
       "      <td>2518404616</td>\n",
       "      <td>дом 150 м² на участке 4 сот.</td>\n",
       "      <td>10000000</td>\n",
       "      <td></td>\n",
       "      <td>садоводческое товарищество Медик-88, 320</td>\n",
       "      <td>Хороший капитальный жилой дом со всеми коммуникациями. Построен из ракушки, утеплён пенопластом, сделан фасад. Под всем домом полуподвал во весь рост. Есть своя глубинная скважина. Отопление газовый котёл, батареи по всему дому, газовые баллоны. Так же ест</td>\n",
       "      <td>48</td>\n",
       "      <td>2022-09-15 11:53:29.976</td>\n",
       "      <td>sevastopol</td>\n",
       "      <td>150.00</td>\n",
       "      <td>False</td>\n",
       "      <td>False</td>\n",
       "      <td>True</td>\n",
       "      <td>4.00</td>\n",
       "      <td>10.00</td>\n",
       "      <td>2-4</td>\n",
       "      <td>70-150</td>\n",
       "    </tr>\n",
       "  </tbody>\n",
       "</table>\n",
       "</div>"
      ],
      "text/plain": [
       "        avito_id                          title     price obj_name  \\\n",
       "464   2208336892  дом 95 м² на участке 4,5 сот.   5300000            \n",
       "128   2496530431    дом 28 м² на участке 6 сот.   4300000            \n",
       "2297  2518404616   дом 150 м² на участке 4 сот.  10000000            \n",
       "\n",
       "                                           adr  \\\n",
       "464            Севастополь, улица Ревякина, 88   \n",
       "128   садоводческое товарищество Кальфа-1, 339   \n",
       "2297  садоводческое товарищество Медик-88, 320   \n",
       "\n",
       "                                                                                                                                                                                                                                                             description  \\\n",
       "464   Дом 95 м2 на участке 4,5 сотки.\\n\\nДом 95 м2 на участке 4,5 сотки, двухэтажный. Расположен в г. Севастополь, Нахимовский район, улица Ревякина. Коммуникации: 5 квт электричество, водоснабжение городское, отопление газовое, газоснабжение, канализация городска   \n",
       "128     Арт. 30252029 В Снт Кальфа -1 продаётся жилой дом площадью 28квм на 6 сотках земли. Дом построен из инкерманского камня, утеплен, железобетонные перекрытия, добротный фундамент, подвал. Свет и кооперативная вода заведены, металлическая емкость 8 куб. М Уча   \n",
       "2297    Хороший капитальный жилой дом со всеми коммуникациями. Построен из ракушки, утеплён пенопластом, сделан фасад. Под всем домом полуподвал во весь рост. Есть своя глубинная скважина. Отопление газовый котёл, батареи по всему дому, газовые баллоны. Так же ест   \n",
       "\n",
       "      avito_page                      ts       place  house_area  is_part  \\\n",
       "464           10 2022-09-15 11:53:29.976  sevastopol       95.00    False   \n",
       "128            3 2022-09-15 11:53:29.976  sevastopol       28.00    False   \n",
       "2297          48 2022-09-15 11:53:29.976  sevastopol      150.00    False   \n",
       "\n",
       "      is_townhouse  is_SNT  land_area  priceM land_size_category  \\\n",
       "464          False   False       4.50    5.30                4-8   \n",
       "128          False    True       6.00    4.30                4-8   \n",
       "2297         False    True       4.00   10.00                2-4   \n",
       "\n",
       "     house_size_category  \n",
       "464               70-150  \n",
       "128                  <30  \n",
       "2297              70-150  "
      ]
     },
     "execution_count": 10,
     "metadata": {},
     "output_type": "execute_result"
    }
   ],
   "source": [
    "data_avito.sample(3)"
   ]
  },
  {
   "cell_type": "code",
   "execution_count": 11,
   "id": "cd5b72fa",
   "metadata": {},
   "outputs": [
    {
     "data": {
      "text/plain": [
       "array(['sevastopol', 'bahchisaray', 'sudak'], dtype=object)"
      ]
     },
     "execution_count": 11,
     "metadata": {},
     "output_type": "execute_result"
    }
   ],
   "source": [
    "data_avito['place'].unique()"
   ]
  },
  {
   "cell_type": "code",
   "execution_count": 12,
   "id": "ce2869e1",
   "metadata": {},
   "outputs": [],
   "source": [
    "assert len(data_avito)>0"
   ]
  },
  {
   "cell_type": "code",
   "execution_count": 13,
   "id": "12170700",
   "metadata": {},
   "outputs": [
    {
     "name": "stdout",
     "output_type": "stream",
     "text": [
      "<class 'pandas.core.frame.DataFrame'>\n",
      "RangeIndex: 2816 entries, 0 to 2815\n",
      "Data columns (total 17 columns):\n",
      " #   Column               Non-Null Count  Dtype         \n",
      "---  ------               --------------  -----         \n",
      " 0   avito_id             2816 non-null   int64         \n",
      " 1   title                2816 non-null   object        \n",
      " 2   price                2816 non-null   int64         \n",
      " 3   obj_name             2816 non-null   object        \n",
      " 4   adr                  2816 non-null   object        \n",
      " 5   description          2816 non-null   object        \n",
      " 6   avito_page           2816 non-null   int64         \n",
      " 7   ts                   2816 non-null   datetime64[ns]\n",
      " 8   place                2816 non-null   object        \n",
      " 9   house_area           2816 non-null   float64       \n",
      " 10  is_part              2816 non-null   bool          \n",
      " 11  is_townhouse         2816 non-null   bool          \n",
      " 12  is_SNT               2816 non-null   bool          \n",
      " 13  land_area            2816 non-null   float64       \n",
      " 14  priceM               2816 non-null   float64       \n",
      " 15  land_size_category   2812 non-null   category      \n",
      " 16  house_size_category  2812 non-null   category      \n",
      "dtypes: bool(3), category(2), datetime64[ns](1), float64(3), int64(3), object(5)\n",
      "memory usage: 278.3+ KB\n"
     ]
    }
   ],
   "source": [
    "data_avito.info(2)"
   ]
  },
  {
   "cell_type": "code",
   "execution_count": 14,
   "id": "4e7581fb",
   "metadata": {},
   "outputs": [
    {
     "data": {
      "text/plain": [
       "avito_id               False\n",
       "title                  False\n",
       "price                  False\n",
       "obj_name               False\n",
       "adr                    False\n",
       "description            False\n",
       "avito_page             False\n",
       "ts                     False\n",
       "place                  False\n",
       "house_area             False\n",
       "is_part                False\n",
       "is_townhouse           False\n",
       "is_SNT                 False\n",
       "land_area              False\n",
       "priceM                 False\n",
       "land_size_category      True\n",
       "house_size_category     True\n",
       "dtype: bool"
      ]
     },
     "execution_count": 14,
     "metadata": {},
     "output_type": "execute_result"
    }
   ],
   "source": [
    "data_avito.isnull().any()"
   ]
  },
  {
   "cell_type": "code",
   "execution_count": 15,
   "id": "721420c0",
   "metadata": {},
   "outputs": [
    {
     "data": {
      "text/html": [
       "<div>\n",
       "<style scoped>\n",
       "    .dataframe tbody tr th:only-of-type {\n",
       "        vertical-align: middle;\n",
       "    }\n",
       "\n",
       "    .dataframe tbody tr th {\n",
       "        vertical-align: top;\n",
       "    }\n",
       "\n",
       "    .dataframe thead th {\n",
       "        text-align: right;\n",
       "    }\n",
       "</style>\n",
       "<table border=\"1\" class=\"dataframe\">\n",
       "  <thead>\n",
       "    <tr style=\"text-align: right;\">\n",
       "      <th></th>\n",
       "      <th>avito_id</th>\n",
       "      <th>title</th>\n",
       "      <th>price</th>\n",
       "      <th>obj_name</th>\n",
       "      <th>adr</th>\n",
       "      <th>description</th>\n",
       "      <th>avito_page</th>\n",
       "      <th>ts</th>\n",
       "      <th>place</th>\n",
       "      <th>house_area</th>\n",
       "      <th>is_part</th>\n",
       "      <th>is_townhouse</th>\n",
       "      <th>is_SNT</th>\n",
       "      <th>land_area</th>\n",
       "      <th>priceM</th>\n",
       "      <th>land_size_category</th>\n",
       "      <th>house_size_category</th>\n",
       "    </tr>\n",
       "  </thead>\n",
       "  <tbody>\n",
       "    <tr>\n",
       "      <th>2283</th>\n",
       "      <td>2337799298</td>\n",
       "      <td></td>\n",
       "      <td>11900000</td>\n",
       "      <td></td>\n",
       "      <td>Восточная ул.</td>\n",
       "      <td>Предлагаю 1/2 дома общей площадью 120 кв. М. В центре города в отличном районе для проживания на земельном участке 1.6 сотки. Вся инфраструктура рядом, транспортные развязки в шаговой доступности. При этом дом расположен в тихом месте, с каждого этажа дома</td>\n",
       "      <td>47</td>\n",
       "      <td>2022-09-15 11:53:29.976</td>\n",
       "      <td>sevastopol</td>\n",
       "      <td>0.00</td>\n",
       "      <td>True</td>\n",
       "      <td>False</td>\n",
       "      <td>False</td>\n",
       "      <td>0.00</td>\n",
       "      <td>11.90</td>\n",
       "      <td>NaN</td>\n",
       "      <td>NaN</td>\n",
       "    </tr>\n",
       "    <tr>\n",
       "      <th>2614</th>\n",
       "      <td>2034310938</td>\n",
       "      <td></td>\n",
       "      <td>5000000</td>\n",
       "      <td></td>\n",
       "      <td>с. Танковое, ул. Ходырева</td>\n",
       "      <td>Собственник. Срочно продам дом 74,3 кв м на земельном участке 814 м кв. Санузел и туалет в доме, 2 спальни. 1965 года постройки, камень бут, очень тёплый зимой и прохладный летом. Газ, приборы учета на все коммуникации. В дом есть 2 входа. Также на участке</td>\n",
       "      <td>4</td>\n",
       "      <td>2022-09-15 14:42:27.254</td>\n",
       "      <td>bahchisaray</td>\n",
       "      <td>0.00</td>\n",
       "      <td>False</td>\n",
       "      <td>False</td>\n",
       "      <td>False</td>\n",
       "      <td>0.00</td>\n",
       "      <td>5.00</td>\n",
       "      <td>NaN</td>\n",
       "      <td>NaN</td>\n",
       "    </tr>\n",
       "    <tr>\n",
       "      <th>2624</th>\n",
       "      <td>2391096190</td>\n",
       "      <td></td>\n",
       "      <td>3000000</td>\n",
       "      <td></td>\n",
       "      <td>с. Растущее, Садовая ул., 8</td>\n",
       "      <td>Продам Дом 75 КВ. М, 10 Соток Земли Ижс Продам дом в живописном районе Крыма, в селе Растущее 10 соток земли, 75 кв. М, 4 комнаты, коммуникации: свет, газ, вода, скважина, отопление Агв. Дом чистый, уютный, заходи живи. Участок ровный, сад, весь обработанн</td>\n",
       "      <td>4</td>\n",
       "      <td>2022-09-15 14:42:27.254</td>\n",
       "      <td>bahchisaray</td>\n",
       "      <td>0.00</td>\n",
       "      <td>False</td>\n",
       "      <td>False</td>\n",
       "      <td>True</td>\n",
       "      <td>0.00</td>\n",
       "      <td>3.00</td>\n",
       "      <td>NaN</td>\n",
       "      <td>NaN</td>\n",
       "    </tr>\n",
       "    <tr>\n",
       "      <th>2733</th>\n",
       "      <td>2418227584</td>\n",
       "      <td></td>\n",
       "      <td>5500000</td>\n",
       "      <td></td>\n",
       "      <td>Платановый квартал, 21</td>\n",
       "      <td>Недострой (Ижс).\\nЗемля 5.2 сотки (собственность).\\nВсе вопросы по телефону.</td>\n",
       "      <td>1</td>\n",
       "      <td>2022-09-15 14:47:45.056</td>\n",
       "      <td>sudak</td>\n",
       "      <td>0.00</td>\n",
       "      <td>False</td>\n",
       "      <td>False</td>\n",
       "      <td>False</td>\n",
       "      <td>0.00</td>\n",
       "      <td>5.50</td>\n",
       "      <td>NaN</td>\n",
       "      <td>NaN</td>\n",
       "    </tr>\n",
       "  </tbody>\n",
       "</table>\n",
       "</div>"
      ],
      "text/plain": [
       "        avito_id title     price obj_name                          adr  \\\n",
       "2283  2337799298        11900000                         Восточная ул.   \n",
       "2614  2034310938         5000000             с. Танковое, ул. Ходырева   \n",
       "2624  2391096190         3000000           с. Растущее, Садовая ул., 8   \n",
       "2733  2418227584         5500000                Платановый квартал, 21   \n",
       "\n",
       "                                                                                                                                                                                                                                                           description  \\\n",
       "2283  Предлагаю 1/2 дома общей площадью 120 кв. М. В центре города в отличном районе для проживания на земельном участке 1.6 сотки. Вся инфраструктура рядом, транспортные развязки в шаговой доступности. При этом дом расположен в тихом месте, с каждого этажа дома   \n",
       "2614  Собственник. Срочно продам дом 74,3 кв м на земельном участке 814 м кв. Санузел и туалет в доме, 2 спальни. 1965 года постройки, камень бут, очень тёплый зимой и прохладный летом. Газ, приборы учета на все коммуникации. В дом есть 2 входа. Также на участке   \n",
       "2624  Продам Дом 75 КВ. М, 10 Соток Земли Ижс Продам дом в живописном районе Крыма, в селе Растущее 10 соток земли, 75 кв. М, 4 комнаты, коммуникации: свет, газ, вода, скважина, отопление Агв. Дом чистый, уютный, заходи живи. Участок ровный, сад, весь обработанн   \n",
       "2733                                                                                                                                                                                      Недострой (Ижс).\\nЗемля 5.2 сотки (собственность).\\nВсе вопросы по телефону.   \n",
       "\n",
       "      avito_page                      ts        place  house_area  is_part  \\\n",
       "2283          47 2022-09-15 11:53:29.976   sevastopol        0.00     True   \n",
       "2614           4 2022-09-15 14:42:27.254  bahchisaray        0.00    False   \n",
       "2624           4 2022-09-15 14:42:27.254  bahchisaray        0.00    False   \n",
       "2733           1 2022-09-15 14:47:45.056        sudak        0.00    False   \n",
       "\n",
       "      is_townhouse  is_SNT  land_area  priceM land_size_category  \\\n",
       "2283         False   False       0.00   11.90                NaN   \n",
       "2614         False   False       0.00    5.00                NaN   \n",
       "2624         False    True       0.00    3.00                NaN   \n",
       "2733         False   False       0.00    5.50                NaN   \n",
       "\n",
       "     house_size_category  \n",
       "2283                 NaN  \n",
       "2614                 NaN  \n",
       "2624                 NaN  \n",
       "2733                 NaN  "
      ]
     },
     "execution_count": 15,
     "metadata": {},
     "output_type": "execute_result"
    }
   ],
   "source": [
    "data_avito[ data_avito['land_size_category'].isnull() ]"
   ]
  },
  {
   "cell_type": "markdown",
   "id": "f3ca7967",
   "metadata": {},
   "source": [
    "---"
   ]
  },
  {
   "cell_type": "code",
   "execution_count": 16,
   "id": "2db629e4",
   "metadata": {},
   "outputs": [
    {
     "name": "stdout",
     "output_type": "stream",
     "text": [
      "2816\n"
     ]
    }
   ],
   "source": [
    "data = data_avito.reset_index(drop=True) \n",
    "print(len(data))\n",
    "assert len(data)>0"
   ]
  },
  {
   "cell_type": "markdown",
   "id": "2903ab86",
   "metadata": {},
   "source": [
    "## обновляем таблицу адресов"
   ]
  },
  {
   "cell_type": "code",
   "execution_count": 17,
   "id": "8ef8e77a",
   "metadata": {},
   "outputs": [],
   "source": [
    "# data = data.sample(10)"
   ]
  },
  {
   "cell_type": "code",
   "execution_count": 18,
   "id": "0c2ca700",
   "metadata": {},
   "outputs": [],
   "source": [
    "# import pandas as pd\n",
    "# loc_file_path = 'data/location_yandex.pkl'# таблица адресов\n",
    "# df=pd.read_pickle(loc_file_path)\n",
    "# # df\n",
    "\n",
    "# df['latitude_'] =  df['latitude']\n",
    "# df['latitude']  =  df['longitude']\n",
    "# df['longitude'] = df['latitude_']\n",
    "# df = df.drop(columns=['latitude_',])\n",
    "\n",
    "# df.to_pickle(loc_file_path)"
   ]
  },
  {
   "cell_type": "code",
   "execution_count": 19,
   "id": "c6c42394",
   "metadata": {},
   "outputs": [],
   "source": [
    "# from lib.locator import LocationUpdater\n",
    "# from lib.locator import AddressTransformerSev\n",
    "\n",
    "# loc_file_path = 'data/location.pkl'# таблица адресов\n",
    "\n",
    "# loc = LocationUpdater(\n",
    "#         address_transformer=AddressTransformerSev(),\n",
    "#     ).transform(\n",
    "#         adr=data.sample(3)['adr'],\n",
    "#         loc=pd.read_pickle(loc_file_path.pkl'),\n",
    "#         show_pbar=True,\n",
    "#     )"
   ]
  },
  {
   "cell_type": "markdown",
   "id": "167d4343",
   "metadata": {},
   "source": [
    "----"
   ]
  },
  {
   "cell_type": "code",
   "execution_count": 20,
   "id": "c010ee57",
   "metadata": {},
   "outputs": [
    {
     "name": "stdout",
     "output_type": "stream",
     "text": [
      "bahchisaray Бахчисарай,\n",
      "sudak Судак,\n",
      "sevastopol Севастополь,\n"
     ]
    }
   ],
   "source": [
    "from lib.locator import AddressTransformer\n",
    "\n",
    "data['adr'] = AddressTransformer().transform( data['adr'] )\n",
    "\n",
    "places = {\n",
    "'bahchisaray': 'Бахчисарай,',\n",
    "      'sudak': 'Судак,',\n",
    " 'sevastopol': 'Севастополь,',\n",
    "}\n",
    "\n",
    "for k,v in places.items():\n",
    "    print(k,v)\n",
    "    f =  (data['place']==k) & (~data['adr'].str.match(v))\n",
    "    data.loc[f,'adr'] = v +' '+ data.loc[f,'adr']"
   ]
  },
  {
   "cell_type": "markdown",
   "id": "921a24e3",
   "metadata": {},
   "source": [
    "----"
   ]
  },
  {
   "cell_type": "code",
   "execution_count": 21,
   "id": "7d191d0d",
   "metadata": {},
   "outputs": [
    {
     "name": "stdout",
     "output_type": "stream",
     "text": [
      "[INFO    ] 2022-09-15 23:11:42 | LocationUpdater: 9821 addresses in location table\n",
      "[INFO    ] 2022-09-15 23:11:42 | LocationUpdater: 9821 addresses total\n",
      "[INFO    ] 2022-09-15 23:11:42 | LocationUpdater: 9821 addresses defined\n",
      "[INFO    ] 2022-09-15 23:11:42 | LocationUpdater: 0 addresses undefined\n"
     ]
    }
   ],
   "source": [
    "from lib.locator import LocationUpdater\n",
    "from lib.locator import GeocoderYandex\n",
    "from yandex_keys import keys\n",
    "\n",
    "\n",
    "loc_file_path = 'data/location.pkl'# таблица адресов\n",
    "\n",
    "loc = LocationUpdater(\n",
    "        locator=GeocoderYandex(keys[2]),\n",
    "    ).transform(\n",
    "        adr=data['adr'],\n",
    "        loc=pd.read_pickle(loc_file_path),\n",
    "        show_pbar=True,\n",
    "    )"
   ]
  },
  {
   "cell_type": "code",
   "execution_count": 22,
   "id": "c1db83fe",
   "metadata": {},
   "outputs": [
    {
     "data": {
      "text/html": [
       "<div>\n",
       "<style scoped>\n",
       "    .dataframe tbody tr th:only-of-type {\n",
       "        vertical-align: middle;\n",
       "    }\n",
       "\n",
       "    .dataframe tbody tr th {\n",
       "        vertical-align: top;\n",
       "    }\n",
       "\n",
       "    .dataframe thead th {\n",
       "        text-align: right;\n",
       "    }\n",
       "</style>\n",
       "<table border=\"1\" class=\"dataframe\">\n",
       "  <thead>\n",
       "    <tr style=\"text-align: right;\">\n",
       "      <th></th>\n",
       "      <th>adr</th>\n",
       "      <th>latitude</th>\n",
       "      <th>longitude</th>\n",
       "      <th>truncated</th>\n",
       "    </tr>\n",
       "  </thead>\n",
       "  <tbody>\n",
       "    <tr>\n",
       "      <th>0</th>\n",
       "      <td>Севастополь,  улица Токарева, 7 этап, блок-секция 3</td>\n",
       "      <td>44.78</td>\n",
       "      <td>33.55</td>\n",
       "      <td>False</td>\n",
       "    </tr>\n",
       "    <tr>\n",
       "      <th>1</th>\n",
       "      <td>Севастополь,  улица Токарева, 7 этап, блок-секция 1</td>\n",
       "      <td>44.51</td>\n",
       "      <td>33.60</td>\n",
       "      <td>False</td>\n",
       "    </tr>\n",
       "    <tr>\n",
       "      <th>2</th>\n",
       "      <td>Севастополь,  улица Генерала Жидилова, 4</td>\n",
       "      <td>44.61</td>\n",
       "      <td>33.52</td>\n",
       "      <td>False</td>\n",
       "    </tr>\n",
       "    <tr>\n",
       "      <th>3</th>\n",
       "      <td>Севастополь,  улица Николая Музыки, 96</td>\n",
       "      <td>44.85</td>\n",
       "      <td>33.63</td>\n",
       "      <td>False</td>\n",
       "    </tr>\n",
       "    <tr>\n",
       "      <th>4</th>\n",
       "      <td>Севастополь,  улица Лётчиков, д. 10</td>\n",
       "      <td>44.58</td>\n",
       "      <td>33.52</td>\n",
       "      <td>False</td>\n",
       "    </tr>\n",
       "    <tr>\n",
       "      <th>...</th>\n",
       "      <td>...</td>\n",
       "      <td>...</td>\n",
       "      <td>...</td>\n",
       "      <td>...</td>\n",
       "    </tr>\n",
       "    <tr>\n",
       "      <th>9816</th>\n",
       "      <td>Судак, квартал Асрет</td>\n",
       "      <td>44.87</td>\n",
       "      <td>34.96</td>\n",
       "      <td>False</td>\n",
       "    </tr>\n",
       "    <tr>\n",
       "      <th>9817</th>\n",
       "      <td>Судак, ул. Ашик-Умер</td>\n",
       "      <td>44.85</td>\n",
       "      <td>35.00</td>\n",
       "      <td>False</td>\n",
       "    </tr>\n",
       "    <tr>\n",
       "      <th>9818</th>\n",
       "      <td>Судак, с. Солнечная Долина, ул. Авдет</td>\n",
       "      <td>44.86</td>\n",
       "      <td>35.12</td>\n",
       "      <td>False</td>\n",
       "    </tr>\n",
       "    <tr>\n",
       "      <th>9819</th>\n",
       "      <td>Севастополь, Севастопольская зона ЮБК, 27</td>\n",
       "      <td>44.42</td>\n",
       "      <td>33.69</td>\n",
       "      <td>False</td>\n",
       "    </tr>\n",
       "    <tr>\n",
       "      <th>9820</th>\n",
       "      <td>Бахчисарай, Бахчисарайская ул.</td>\n",
       "      <td>44.76</td>\n",
       "      <td>33.88</td>\n",
       "      <td>False</td>\n",
       "    </tr>\n",
       "  </tbody>\n",
       "</table>\n",
       "<p>9821 rows × 4 columns</p>\n",
       "</div>"
      ],
      "text/plain": [
       "                                                      adr  latitude  \\\n",
       "0     Севастополь,  улица Токарева, 7 этап, блок-секция 3     44.78   \n",
       "1     Севастополь,  улица Токарева, 7 этап, блок-секция 1     44.51   \n",
       "2                Севастополь,  улица Генерала Жидилова, 4     44.61   \n",
       "3                  Севастополь,  улица Николая Музыки, 96     44.85   \n",
       "4                     Севастополь,  улица Лётчиков, д. 10     44.58   \n",
       "...                                                   ...       ...   \n",
       "9816                                 Судак, квартал Асрет     44.87   \n",
       "9817                                 Судак, ул. Ашик-Умер     44.85   \n",
       "9818                Судак, с. Солнечная Долина, ул. Авдет     44.86   \n",
       "9819            Севастополь, Севастопольская зона ЮБК, 27     44.42   \n",
       "9820                       Бахчисарай, Бахчисарайская ул.     44.76   \n",
       "\n",
       "      longitude  truncated  \n",
       "0         33.55      False  \n",
       "1         33.60      False  \n",
       "2         33.52      False  \n",
       "3         33.63      False  \n",
       "4         33.52      False  \n",
       "...         ...        ...  \n",
       "9816      34.96      False  \n",
       "9817      35.00      False  \n",
       "9818      35.12      False  \n",
       "9819      33.69      False  \n",
       "9820      33.88      False  \n",
       "\n",
       "[9821 rows x 4 columns]"
      ]
     },
     "execution_count": 22,
     "metadata": {},
     "output_type": "execute_result"
    }
   ],
   "source": [
    "loc"
   ]
  },
  {
   "cell_type": "code",
   "execution_count": 23,
   "id": "19741bb7",
   "metadata": {},
   "outputs": [
    {
     "data": {
      "text/html": [
       "<div>\n",
       "<style scoped>\n",
       "    .dataframe tbody tr th:only-of-type {\n",
       "        vertical-align: middle;\n",
       "    }\n",
       "\n",
       "    .dataframe tbody tr th {\n",
       "        vertical-align: top;\n",
       "    }\n",
       "\n",
       "    .dataframe thead th {\n",
       "        text-align: right;\n",
       "    }\n",
       "</style>\n",
       "<table border=\"1\" class=\"dataframe\">\n",
       "  <thead>\n",
       "    <tr style=\"text-align: right;\">\n",
       "      <th></th>\n",
       "      <th>adr</th>\n",
       "      <th>latitude</th>\n",
       "      <th>longitude</th>\n",
       "      <th>truncated</th>\n",
       "    </tr>\n",
       "  </thead>\n",
       "  <tbody>\n",
       "    <tr>\n",
       "      <th>8955</th>\n",
       "      <td>Севастополь, садоводческое товарищество Чайка, 236</td>\n",
       "      <td>44.74</td>\n",
       "      <td>33.55</td>\n",
       "      <td>False</td>\n",
       "    </tr>\n",
       "    <tr>\n",
       "      <th>350</th>\n",
       "      <td>Севастополь, Камышовое шоссе , 37Бк2</td>\n",
       "      <td>44.60</td>\n",
       "      <td>33.56</td>\n",
       "      <td>False</td>\n",
       "    </tr>\n",
       "    <tr>\n",
       "      <th>9664</th>\n",
       "      <td>Бахчисарай, ул. Ашика Умера, 2</td>\n",
       "      <td>44.74</td>\n",
       "      <td>33.87</td>\n",
       "      <td>False</td>\n",
       "    </tr>\n",
       "  </tbody>\n",
       "</table>\n",
       "</div>"
      ],
      "text/plain": [
       "                                                     adr  latitude  longitude  \\\n",
       "8955  Севастополь, садоводческое товарищество Чайка, 236     44.74      33.55   \n",
       "350                 Севастополь, Камышовое шоссе , 37Бк2     44.60      33.56   \n",
       "9664                      Бахчисарай, ул. Ашика Умера, 2     44.74      33.87   \n",
       "\n",
       "      truncated  \n",
       "8955      False  \n",
       "350       False  \n",
       "9664      False  "
      ]
     },
     "execution_count": 23,
     "metadata": {},
     "output_type": "execute_result"
    }
   ],
   "source": [
    "loc.sample(3)"
   ]
  },
  {
   "cell_type": "code",
   "execution_count": 24,
   "id": "a90d2398",
   "metadata": {},
   "outputs": [],
   "source": [
    "assert len(loc)>0\n",
    "loc.to_pickle(loc_file_path)"
   ]
  },
  {
   "cell_type": "markdown",
   "id": "30dbd6a6",
   "metadata": {},
   "source": [
    "## дополняем данные геометкой"
   ]
  },
  {
   "cell_type": "code",
   "execution_count": 25,
   "id": "06470644",
   "metadata": {},
   "outputs": [
    {
     "name": "stdout",
     "output_type": "stream",
     "text": [
      "всего записей: 2821\n",
      "записей без геометки: 0\n"
     ]
    }
   ],
   "source": [
    "data = data.merge(loc[['adr','latitude','longitude',]],on=['adr'],how='left')\n",
    "\n",
    "print('всего записей:', len( data) )\n",
    "print('записей без геометки:', len( data[ data['latitude'].isnull() ] ) )"
   ]
  },
  {
   "cell_type": "code",
   "execution_count": 26,
   "id": "b3161e64",
   "metadata": {},
   "outputs": [],
   "source": [
    "assert len(data)>0\n",
    "data.to_pickle(result_file_path)"
   ]
  },
  {
   "cell_type": "code",
   "execution_count": 27,
   "id": "799e47c2",
   "metadata": {},
   "outputs": [
    {
     "name": "stdout",
     "output_type": "stream",
     "text": [
      "<class 'pandas.core.frame.DataFrame'>\n",
      "Int64Index: 2821 entries, 0 to 2820\n",
      "Data columns (total 19 columns):\n",
      " #   Column               Non-Null Count  Dtype         \n",
      "---  ------               --------------  -----         \n",
      " 0   avito_id             2821 non-null   int64         \n",
      " 1   title                2821 non-null   object        \n",
      " 2   price                2821 non-null   int64         \n",
      " 3   obj_name             2821 non-null   object        \n",
      " 4   adr                  2821 non-null   object        \n",
      " 5   description          2821 non-null   object        \n",
      " 6   avito_page           2821 non-null   int64         \n",
      " 7   ts                   2821 non-null   datetime64[ns]\n",
      " 8   place                2821 non-null   object        \n",
      " 9   house_area           2821 non-null   float64       \n",
      " 10  is_part              2821 non-null   bool          \n",
      " 11  is_townhouse         2821 non-null   bool          \n",
      " 12  is_SNT               2821 non-null   bool          \n",
      " 13  land_area            2821 non-null   float64       \n",
      " 14  priceM               2821 non-null   float64       \n",
      " 15  land_size_category   2817 non-null   category      \n",
      " 16  house_size_category  2817 non-null   category      \n",
      " 17  latitude             2821 non-null   float64       \n",
      " 18  longitude            2821 non-null   float64       \n",
      "dtypes: bool(3), category(2), datetime64[ns](1), float64(5), int64(3), object(5)\n",
      "memory usage: 344.8+ KB\n"
     ]
    }
   ],
   "source": [
    "data.info()"
   ]
  },
  {
   "cell_type": "code",
   "execution_count": null,
   "id": "13de0b35",
   "metadata": {},
   "outputs": [],
   "source": [
    "# for f in raw_data_files:\n",
    "#     ts = dtm.strptime( re.sub(r'.*/avito_','',f), '%Y-%m-%d_%H-%M_raw.xlsx')\n",
    "#     df = pd.read_excel(f)\n",
    "#     df['ts'] = ts\n",
    "#     df.to_excel(f,index=False)\n",
    "#     print(ts)"
   ]
  },
  {
   "cell_type": "code",
   "execution_count": null,
   "id": "0e318218",
   "metadata": {},
   "outputs": [],
   "source": [
    "# class AvitoDataCleanerRealtyLand:\n",
    "    \n",
    "#     def transform(self,data):\n",
    "#         df = data.copy()\n",
    "        \n",
    "#         symb_lat = 'yexapocEXAPOCTHKBM'\n",
    "#         symb_rus = 'уехаросЕХАРОСТНКВМ'\n",
    "#         l2r = str.maketrans(symb_lat,symb_rus) \n",
    "        \n",
    "#         df['title'] = df['title'].str.extract( r'«(.*)»',expand=False).apply(lambda s: s.translate(l2r) )\n",
    "        \n",
    "#         area = df['title'].str.extract( r'(\\d+,?\\d*)\\s*(сот|га)',expand=True)\n",
    "#         area.columns=['area','area_unit']\n",
    "#         df = pd.concat([df,area],axis=1)\n",
    "                       \n",
    "#         df['is_IJS'] = df['title'].str.lower().str.match(r'.*ижс.*')\n",
    "#         df['obj_name'] = df['obj_name'].fillna('')\n",
    "#         df['price'] = df['price'].astype(int)\n",
    "#         df['priceM'] = df['price']/1e6\n",
    "        \n",
    "#         df['area'] = df['area'].fillna('0.').str.replace(',','.').astype(float)\n",
    "        \n",
    "#         df.loc[ df['area_unit']=='га', 'area' ] = df.query('area_unit==\"га\"')['area']*100.\n",
    "#         df = df.drop(columns=['area_unit'])\n",
    "        \n",
    "#         return df"
   ]
  },
  {
   "cell_type": "code",
   "execution_count": null,
   "id": "815aa760",
   "metadata": {},
   "outputs": [],
   "source": [
    "# data_avito['title'].str.extract( r'(\\d+,?\\d*)\\s*(сот|га)',expand=True) #, columns=['a','b'])\n",
    "        "
   ]
  },
  {
   "cell_type": "code",
   "execution_count": null,
   "id": "61a0a534",
   "metadata": {},
   "outputs": [],
   "source": [
    "# # import re\n",
    "# # s='Участок 9,7 сот. (ИЖС)'\n",
    "# s='Участок 7,8 сот. (ИЖС)'\n",
    "# s='Участок 7,8 га. (ИЖС)'\n",
    "\n",
    "# s='Участок 7,8 м. (ИЖС)'\n",
    "\n",
    "# # s='Участок 5 сот. (ИЖС)'\n",
    "\n",
    "# re.search( r'(\\d+,?\\d*)\\s*(сот|га)',s) #.group(1)\n",
    "\n",
    "# # # len(s)"
   ]
  },
  {
   "cell_type": "markdown",
   "id": "8085fd61",
   "metadata": {},
   "source": [
    "----"
   ]
  },
  {
   "cell_type": "code",
   "execution_count": null,
   "id": "e842691e",
   "metadata": {},
   "outputs": [],
   "source": [
    "## собираем данные циан.ру"
   ]
  },
  {
   "cell_type": "code",
   "execution_count": null,
   "id": "6bbc15d4",
   "metadata": {},
   "outputs": [],
   "source": [
    "# import re\n",
    "# from os import listdir\n",
    "\n",
    "# raw_data_files = sorted([\n",
    "#         cian_raw_data_path+'/'+f \n",
    "#         for f in listdir(cian_raw_data_path) \n",
    "#         if re.match(r'.+\\.pkl$',f)\n",
    "#         #if re.match(r'.+\\.xlsx$',f)\n",
    "    \n",
    "#     ])\n",
    "# raw_data_files"
   ]
  },
  {
   "cell_type": "code",
   "execution_count": null,
   "id": "dbb04ed6",
   "metadata": {},
   "outputs": [],
   "source": [
    "# data_cian = pd.concat([\n",
    "#         # pd.read_excel(f)\n",
    "#         pd.read_pickle(f)\n",
    "#          .dropna()\n",
    "#          .drop_duplicates(['LinkArea','Description',])\n",
    "#          .rename(columns={'page':'cian_page'})\n",
    "#          .reset_index(drop=True)  \n",
    "#         for f in raw_data_files\n",
    "#     ]).reset_index(drop=True)"
   ]
  },
  {
   "cell_type": "code",
   "execution_count": null,
   "id": "f08946fe",
   "metadata": {},
   "outputs": [],
   "source": [
    "# data_cian.info(2)"
   ]
  },
  {
   "cell_type": "code",
   "execution_count": null,
   "id": "da514473",
   "metadata": {},
   "outputs": [],
   "source": [
    "# swap_title = data_cian['OfferSubtitle'].str.match(r'.*\\d+ м², \\d+/\\d+ эт.*') \n",
    "\n",
    "# data_cian = pd.concat([\n",
    "#         data_cian[ ~swap_title ],\n",
    "#         data_cian[ swap_title ]\n",
    "#             .rename(columns={'OfferTitle':'OfferSubtitle','OfferSubtitle':'OfferTitle'})\n",
    "#     ]).reset_index(drop=True)\n"
   ]
  },
  {
   "cell_type": "code",
   "execution_count": null,
   "id": "2fdef74c",
   "metadata": {},
   "outputs": [],
   "source": [
    "# data_cian"
   ]
  },
  {
   "cell_type": "code",
   "execution_count": null,
   "id": "9ad64605",
   "metadata": {},
   "outputs": [],
   "source": [
    "# from lib.cian import CianDataCleaner\n",
    "\n",
    "# data_cian = CianDataCleaner().transform( data_cian )\n",
    "\n",
    "# print(len(data_cian))"
   ]
  },
  {
   "cell_type": "code",
   "execution_count": null,
   "id": "19f2f9da",
   "metadata": {},
   "outputs": [],
   "source": [
    "# assert len(data_cian)>0"
   ]
  },
  {
   "cell_type": "code",
   "execution_count": null,
   "id": "9d933b8d",
   "metadata": {},
   "outputs": [],
   "source": [
    "# data_cian.info(2)"
   ]
  },
  {
   "cell_type": "code",
   "execution_count": null,
   "id": "f29d3b58",
   "metadata": {},
   "outputs": [],
   "source": [
    "# data_cian\n",
    "# data_cian.query('nrooms==0')\n",
    "# data_cian[ data_cian['title'].str.len()<1 ]\n",
    "# data_cian[ data_cian['obj_name'].str.len()>0 ][['title','obj_name',]] # .to_csv('tmp/cian_title.csv',sep='\\t')|"
   ]
  },
  {
   "cell_type": "markdown",
   "id": "21467270",
   "metadata": {},
   "source": [
    "----"
   ]
  },
  {
   "cell_type": "code",
   "execution_count": null,
   "id": "1723d97b",
   "metadata": {},
   "outputs": [],
   "source": [
    "# data = pd.concat([data_avito,data_cian]).reset_index(drop=True) \n",
    "# print(len(data))\n",
    "# assert len(data)>0"
   ]
  },
  {
   "cell_type": "code",
   "execution_count": null,
   "id": "bd6ec720",
   "metadata": {},
   "outputs": [],
   "source": []
  }
 ],
 "metadata": {
  "kernelspec": {
   "display_name": "Python 3 (ipykernel)",
   "language": "python",
   "name": "python3"
  },
  "language_info": {
   "codemirror_mode": {
    "name": "ipython",
    "version": 3
   },
   "file_extension": ".py",
   "mimetype": "text/x-python",
   "name": "python",
   "nbconvert_exporter": "python",
   "pygments_lexer": "ipython3",
   "version": "3.10.6"
  },
  "toc": {
   "base_numbering": 1,
   "nav_menu": {},
   "number_sections": true,
   "sideBar": true,
   "skip_h1_title": false,
   "title_cell": "Table of Contents",
   "title_sidebar": "Contents",
   "toc_cell": false,
   "toc_position": {},
   "toc_section_display": true,
   "toc_window_display": true
  },
  "varInspector": {
   "cols": {
    "lenName": 16,
    "lenType": 16,
    "lenVar": 40
   },
   "kernels_config": {
    "python": {
     "delete_cmd_postfix": "",
     "delete_cmd_prefix": "del ",
     "library": "var_list.py",
     "varRefreshCmd": "print(var_dic_list())"
    },
    "r": {
     "delete_cmd_postfix": ") ",
     "delete_cmd_prefix": "rm(",
     "library": "var_list.r",
     "varRefreshCmd": "cat(var_dic_list()) "
    }
   },
   "types_to_exclude": [
    "module",
    "function",
    "builtin_function_or_method",
    "instance",
    "_Feature"
   ],
   "window_display": false
  }
 },
 "nbformat": 4,
 "nbformat_minor": 5
}
