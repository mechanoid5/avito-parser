{
 "cells": [
  {
   "cell_type": "markdown",
   "id": "7bec28d7",
   "metadata": {},
   "source": [
    "__собираем предложения о земельных участках__\n",
    "\n",
    "_Evgeny S. Borisov <parser@mechanoid.su>_"
   ]
  },
  {
   "cell_type": "code",
   "execution_count": 1,
   "id": "52c5999f",
   "metadata": {},
   "outputs": [],
   "source": [
    "# !pacman -S firefox firefox-i18n-r  geckodriver\n",
    "# !pip install seleniuam"
   ]
  },
  {
   "cell_type": "code",
   "execution_count": 2,
   "id": "bcea4d8b",
   "metadata": {
    "ExecuteTime": {
     "end_time": "2022-08-26T14:19:06.118492Z",
     "start_time": "2022-08-26T14:13:37.888398Z"
    }
   },
   "outputs": [],
   "source": [
    "# import re\n",
    "import sys\n",
    "import logging\n",
    "from datetime import datetime as dtm\n",
    "from tqdm.notebook import tqdm\n",
    "import pandas as pd"
   ]
  },
  {
   "cell_type": "code",
   "execution_count": 3,
   "id": "caabc8c7",
   "metadata": {
    "ExecuteTime": {
     "end_time": "2022-08-26T14:19:06.118492Z",
     "start_time": "2022-08-26T14:13:37.888398Z"
    }
   },
   "outputs": [],
   "source": [
    "pd.set_option('display.max_colwidth', None)\n",
    "pd.set_option('display.float_format', '{:.2f}'.format)\n",
    "tqdm.pandas()\n",
    "\n",
    "logging.basicConfig(\n",
    "        format=u'[%(levelname)-8s] %(asctime)s | %(message)s',\n",
    "        datefmt='%Y-%m-%d %H:%M:%S',\n",
    "        level=logging.INFO,\n",
    "        # level=logging.DEBUG,\n",
    "        stream=sys.stdout,\n",
    "    )"
   ]
  },
  {
   "cell_type": "markdown",
   "id": "db3fe2be",
   "metadata": {},
   "source": [
    "---"
   ]
  },
  {
   "cell_type": "code",
   "execution_count": 4,
   "id": "d437eab9",
   "metadata": {},
   "outputs": [],
   "source": [
    "# каталог с файлами объявлений\n",
    "avito_raw_data_path = 'data/raw/land/avito' \n",
    "# cian_raw_data_path = 'data/raw/cian'\n",
    "result_file_path = 'data/data_land.pkl'"
   ]
  },
  {
   "cell_type": "code",
   "execution_count": 5,
   "id": "31463a1e",
   "metadata": {},
   "outputs": [],
   "source": [
    "# ts = dtm.now().strftime('%Y-%m-%d_%H-%M')\n",
    "# ts"
   ]
  },
  {
   "cell_type": "markdown",
   "id": "98f6384f",
   "metadata": {},
   "source": [
    "## собираем данные авито.ру"
   ]
  },
  {
   "cell_type": "code",
   "execution_count": 6,
   "id": "2673ef1f",
   "metadata": {},
   "outputs": [
    {
     "data": {
      "text/plain": [
       "['data/raw/land/avito/avito_2022-09-08_16-05_raw.xlsx',\n",
       " 'data/raw/land/avito/avito_2022-09-12_13-51_raw.xlsx',\n",
       " 'data/raw/land/avito/avito_2022-09-13_13-56_raw.xlsx',\n",
       " 'data/raw/land/avito/avito_2022-09-15_10-31_raw.xlsx',\n",
       " 'data/raw/land/avito/avito_2022-09-16_15-10_raw.xlsx',\n",
       " 'data/raw/land/avito/avito_2022-09-19_12-39_raw.xlsx',\n",
       " 'data/raw/land/avito/avito_2022-09-22_09-57_raw.xlsx',\n",
       " 'data/raw/land/avito/avito_2022-09-26_11-22_raw.xlsx',\n",
       " 'data/raw/land/avito/avito_2022-10-08_20-38_raw.xlsx',\n",
       " 'data/raw/land/avito/avito_2022-10-14_15-54_raw.xlsx',\n",
       " 'data/raw/land/avito/avito_2022-11-01_13-58_raw.xlsx',\n",
       " 'data/raw/land/avito/avito_2022-11-04_17-12_raw.xlsx',\n",
       " 'data/raw/land/avito/avito_2022-11-07_10-46_raw.xlsx']"
      ]
     },
     "execution_count": 6,
     "metadata": {},
     "output_type": "execute_result"
    }
   ],
   "source": [
    "import re\n",
    "from os import listdir\n",
    "\n",
    "raw_data_files = sorted([\n",
    "        avito_raw_data_path+'/'+f \n",
    "        for f in listdir(avito_raw_data_path) \n",
    "        if re.match(r'.+\\.xlsx$',f)\n",
    "    ])\n",
    "raw_data_files"
   ]
  },
  {
   "cell_type": "code",
   "execution_count": 7,
   "id": "adb5b19b",
   "metadata": {},
   "outputs": [],
   "source": [
    "# for f in raw_data_files:\n",
    "#     df = pd.read_excel(f)\n",
    "#     df['place']='sevastopol'\n",
    "#     df.to_excel(f,index=False)\n",
    "#     print(f)"
   ]
  },
  {
   "cell_type": "code",
   "execution_count": 8,
   "id": "347629e1",
   "metadata": {},
   "outputs": [
    {
     "name": "stdout",
     "output_type": "stream",
     "text": [
      "14090\n"
     ]
    }
   ],
   "source": [
    "data_avito = pd.concat([\n",
    "        pd\n",
    "        .read_excel(f)\n",
    "        #.dropna()\n",
    "        .drop_duplicates(['avito_id','description'])\n",
    "        .rename(columns={'page':'avito_page'})\n",
    "        .reset_index(drop=True)  \n",
    "        for f in raw_data_files\n",
    "    ]).reset_index(drop=True)\n",
    "\n",
    "print(len(data_avito))"
   ]
  },
  {
   "cell_type": "code",
   "execution_count": 9,
   "id": "2a992037",
   "metadata": {},
   "outputs": [],
   "source": [
    "# data_avito"
   ]
  },
  {
   "cell_type": "code",
   "execution_count": 10,
   "id": "cbce7aaa",
   "metadata": {},
   "outputs": [
    {
     "name": "stdout",
     "output_type": "stream",
     "text": [
      "14090\n"
     ]
    }
   ],
   "source": [
    "from lib.avito import AvitoDataCleanerRealtyLand\n",
    "\n",
    "data_avito = AvitoDataCleanerRealtyLand().transform( data_avito )\n",
    "\n",
    "print(len(data_avito))"
   ]
  },
  {
   "cell_type": "code",
   "execution_count": 11,
   "id": "becaac57",
   "metadata": {},
   "outputs": [
    {
     "data": {
      "text/html": [
       "<div>\n",
       "<style scoped>\n",
       "    .dataframe tbody tr th:only-of-type {\n",
       "        vertical-align: middle;\n",
       "    }\n",
       "\n",
       "    .dataframe tbody tr th {\n",
       "        vertical-align: top;\n",
       "    }\n",
       "\n",
       "    .dataframe thead th {\n",
       "        text-align: right;\n",
       "    }\n",
       "</style>\n",
       "<table border=\"1\" class=\"dataframe\">\n",
       "  <thead>\n",
       "    <tr style=\"text-align: right;\">\n",
       "      <th></th>\n",
       "      <th>avito_id</th>\n",
       "      <th>title</th>\n",
       "      <th>price</th>\n",
       "      <th>obj_name</th>\n",
       "      <th>adr</th>\n",
       "      <th>description</th>\n",
       "      <th>avito_page</th>\n",
       "      <th>ts</th>\n",
       "      <th>place</th>\n",
       "      <th>area</th>\n",
       "      <th>is_IJS</th>\n",
       "      <th>priceM</th>\n",
       "      <th>priceMU</th>\n",
       "      <th>area_size_category</th>\n",
       "    </tr>\n",
       "  </thead>\n",
       "  <tbody>\n",
       "    <tr>\n",
       "      <th>3872</th>\n",
       "      <td>2543864418</td>\n",
       "      <td>Участок 10,3 сот. (ИЖС)</td>\n",
       "      <td>6000000</td>\n",
       "      <td></td>\n",
       "      <td>Муссонная ул.</td>\n",
       "      <td>Продам участок общей площадью 10.3 сотки на ул. Муссонная, состоящий из двух смежных участков (5,8 соток и 4,4 соток) (р-н ул. Фадеева, Стрелецкая бухта). \\nУчасток огорожен с 3-х сторон забором, \\nКоммуникации: электроэнергия, городская вода, газ, городская</td>\n",
       "      <td>12</td>\n",
       "      <td>2022-09-15 10:31:26.039</td>\n",
       "      <td>sevastopol</td>\n",
       "      <td>10.30</td>\n",
       "      <td>True</td>\n",
       "      <td>6.00</td>\n",
       "      <td>0.58</td>\n",
       "      <td>8-20</td>\n",
       "    </tr>\n",
       "    <tr>\n",
       "      <th>7999</th>\n",
       "      <td>2304340705</td>\n",
       "      <td>Участок 8 сот. (ИЖС)</td>\n",
       "      <td>6000000</td>\n",
       "      <td></td>\n",
       "      <td>Почетная ул.</td>\n",
       "      <td>Продается отличный участок Ижс 8 соток, ул. Почётная 33, размером 18м х 46м. Видовые характеристики, расположение, свежая застройка вокруг, всё это подчеркнёт ваш статус. \\n\\nДо остановки общественного транспорта 1,1км или 15 мин. Пешком. Севавтодор проклады</td>\n",
       "      <td>6</td>\n",
       "      <td>2022-09-26 11:22:23.724</td>\n",
       "      <td>sevastopol</td>\n",
       "      <td>8.00</td>\n",
       "      <td>True</td>\n",
       "      <td>6.00</td>\n",
       "      <td>0.75</td>\n",
       "      <td>4-8</td>\n",
       "    </tr>\n",
       "    <tr>\n",
       "      <th>12163</th>\n",
       "      <td>2336322834</td>\n",
       "      <td>Участок 3 сот. (ИЖС)</td>\n",
       "      <td>2400000</td>\n",
       "      <td></td>\n",
       "      <td>Гагаринский муниципальный округ, микрорайон Правая Гераклея</td>\n",
       "      <td>Продается участок 3 сот. В Гагаринском районе, Правая Гераклея. \\n\\nУчасток находится в самом развитом районе г. Севастополь. Если вы ищите участок для строительства дома своей мечты, то это то что вам нужно. Тихое, спокойное, уютное место. Коммуникации: эле</td>\n",
       "      <td>2</td>\n",
       "      <td>2022-11-04 17:12:55.140</td>\n",
       "      <td>sevastopol</td>\n",
       "      <td>3.00</td>\n",
       "      <td>True</td>\n",
       "      <td>2.40</td>\n",
       "      <td>0.80</td>\n",
       "      <td>2-4</td>\n",
       "    </tr>\n",
       "  </tbody>\n",
       "</table>\n",
       "</div>"
      ],
      "text/plain": [
       "         avito_id                    title    price obj_name  \\\n",
       "3872   2543864418  Участок 10,3 сот. (ИЖС)  6000000            \n",
       "7999   2304340705     Участок 8 сот. (ИЖС)  6000000            \n",
       "12163  2336322834     Участок 3 сот. (ИЖС)  2400000            \n",
       "\n",
       "                                                               adr  \\\n",
       "3872                                                 Муссонная ул.   \n",
       "7999                                                  Почетная ул.   \n",
       "12163  Гагаринский муниципальный округ, микрорайон Правая Гераклея   \n",
       "\n",
       "                                                                                                                                                                                                                                                              description  \\\n",
       "3872   Продам участок общей площадью 10.3 сотки на ул. Муссонная, состоящий из двух смежных участков (5,8 соток и 4,4 соток) (р-н ул. Фадеева, Стрелецкая бухта). \\nУчасток огорожен с 3-х сторон забором, \\nКоммуникации: электроэнергия, городская вода, газ, городская   \n",
       "7999   Продается отличный участок Ижс 8 соток, ул. Почётная 33, размером 18м х 46м. Видовые характеристики, расположение, свежая застройка вокруг, всё это подчеркнёт ваш статус. \\n\\nДо остановки общественного транспорта 1,1км или 15 мин. Пешком. Севавтодор проклады   \n",
       "12163  Продается участок 3 сот. В Гагаринском районе, Правая Гераклея. \\n\\nУчасток находится в самом развитом районе г. Севастополь. Если вы ищите участок для строительства дома своей мечты, то это то что вам нужно. Тихое, спокойное, уютное место. Коммуникации: эле   \n",
       "\n",
       "       avito_page                      ts       place  area  is_IJS  priceM  \\\n",
       "3872           12 2022-09-15 10:31:26.039  sevastopol 10.30    True    6.00   \n",
       "7999            6 2022-09-26 11:22:23.724  sevastopol  8.00    True    6.00   \n",
       "12163           2 2022-11-04 17:12:55.140  sevastopol  3.00    True    2.40   \n",
       "\n",
       "       priceMU area_size_category  \n",
       "3872      0.58               8-20  \n",
       "7999      0.75                4-8  \n",
       "12163     0.80                2-4  "
      ]
     },
     "execution_count": 11,
     "metadata": {},
     "output_type": "execute_result"
    }
   ],
   "source": [
    "data_avito.sample(3)"
   ]
  },
  {
   "cell_type": "code",
   "execution_count": 12,
   "id": "ce2869e1",
   "metadata": {},
   "outputs": [],
   "source": [
    "assert len(data_avito)>0"
   ]
  },
  {
   "cell_type": "code",
   "execution_count": 13,
   "id": "12170700",
   "metadata": {},
   "outputs": [
    {
     "name": "stdout",
     "output_type": "stream",
     "text": [
      "<class 'pandas.core.frame.DataFrame'>\n",
      "RangeIndex: 14090 entries, 0 to 14089\n",
      "Data columns (total 14 columns):\n",
      " #   Column              Non-Null Count  Dtype         \n",
      "---  ------              --------------  -----         \n",
      " 0   avito_id            14090 non-null  int64         \n",
      " 1   title               14090 non-null  object        \n",
      " 2   price               14090 non-null  int64         \n",
      " 3   obj_name            14090 non-null  object        \n",
      " 4   adr                 14090 non-null  object        \n",
      " 5   description         14090 non-null  object        \n",
      " 6   avito_page          14090 non-null  int64         \n",
      " 7   ts                  14090 non-null  datetime64[ns]\n",
      " 8   place               14090 non-null  object        \n",
      " 9   area                14090 non-null  float64       \n",
      " 10  is_IJS              14090 non-null  bool          \n",
      " 11  priceM              14090 non-null  float64       \n",
      " 12  priceMU             14090 non-null  float64       \n",
      " 13  area_size_category  14084 non-null  category      \n",
      "dtypes: bool(1), category(1), datetime64[ns](1), float64(3), int64(3), object(5)\n",
      "memory usage: 1.3+ MB\n"
     ]
    }
   ],
   "source": [
    "data_avito.info()"
   ]
  },
  {
   "cell_type": "markdown",
   "id": "f3ca7967",
   "metadata": {},
   "source": [
    "---"
   ]
  },
  {
   "cell_type": "code",
   "execution_count": 14,
   "id": "dac90e1f",
   "metadata": {},
   "outputs": [],
   "source": [
    "data_avito['url'] = 'https://avito.ru/' + data_avito['avito_id'].astype(int).astype(str)\n",
    "data_avito = data_avito.drop(columns=['avito_id'])\n",
    "# data_cian = data_cian.rename(columns={'cian_url':'url'})"
   ]
  },
  {
   "cell_type": "code",
   "execution_count": 15,
   "id": "2db629e4",
   "metadata": {},
   "outputs": [
    {
     "name": "stdout",
     "output_type": "stream",
     "text": [
      "14090\n"
     ]
    }
   ],
   "source": [
    "data = data_avito.reset_index(drop=True) \n",
    "print(len(data))\n",
    "assert len(data)>0"
   ]
  },
  {
   "cell_type": "markdown",
   "id": "2903ab86",
   "metadata": {},
   "source": [
    "## обновляем таблицу адресов"
   ]
  },
  {
   "cell_type": "code",
   "execution_count": 16,
   "id": "999ddbae",
   "metadata": {},
   "outputs": [],
   "source": [
    "# data_ = data.sample(15).reset_index(drop=True)\n",
    "# data_[['adr']]"
   ]
  },
  {
   "cell_type": "code",
   "execution_count": 17,
   "id": "e849be88",
   "metadata": {},
   "outputs": [],
   "source": [
    "places = { \n",
    "# поле 'place' и название города\n",
    "'bahchisaray': 'Бахчисарай,',\n",
    "      'sudak': 'Судак,',\n",
    "  'sevastopol': 'Севастополь,',\n",
    "}\n",
    "\n",
    "def norm_place(d,places=places):\n",
    "    if not d['place'] in places: return d['adr_']\n",
    "    p = places[ d['place'] ]\n",
    "    return d['adr_'] if d['adr_'].find(p)>-1 else p+d['adr_']"
   ]
  },
  {
   "cell_type": "code",
   "execution_count": 18,
   "id": "beb335f3",
   "metadata": {},
   "outputs": [
    {
     "data": {
      "application/vnd.jupyter.widget-view+json": {
       "model_id": "b0e8841ff9954296a2377f38774d03b7",
       "version_major": 2,
       "version_minor": 0
      },
      "text/plain": [
       "  0%|          | 0/14090 [00:00<?, ?it/s]"
      ]
     },
     "metadata": {},
     "output_type": "display_data"
    },
    {
     "data": {
      "application/vnd.jupyter.widget-view+json": {
       "model_id": "1b19e4060c194e568c6809da25af5a18",
       "version_major": 2,
       "version_minor": 0
      },
      "text/plain": [
       "  0%|          | 0/14090 [00:00<?, ?it/s]"
      ]
     },
     "metadata": {},
     "output_type": "display_data"
    }
   ],
   "source": [
    "from lib.locator import AddressTransformer\n",
    "\n",
    "atr = AddressTransformer()\n",
    "data['adr_'] = data['adr'].progress_apply(atr.transform)\n",
    "data['adr_'] = data[['adr_','place']].progress_apply(norm_place,axis=1)\n",
    "data = data.rename(columns={'adr':'adr_orig','adr_':'adr'})"
   ]
  },
  {
   "cell_type": "code",
   "execution_count": 19,
   "id": "f773346b",
   "metadata": {},
   "outputs": [
    {
     "data": {
      "text/html": [
       "<div>\n",
       "<style scoped>\n",
       "    .dataframe tbody tr th:only-of-type {\n",
       "        vertical-align: middle;\n",
       "    }\n",
       "\n",
       "    .dataframe tbody tr th {\n",
       "        vertical-align: top;\n",
       "    }\n",
       "\n",
       "    .dataframe thead th {\n",
       "        text-align: right;\n",
       "    }\n",
       "</style>\n",
       "<table border=\"1\" class=\"dataframe\">\n",
       "  <thead>\n",
       "    <tr style=\"text-align: right;\">\n",
       "      <th></th>\n",
       "      <th>adr_orig</th>\n",
       "      <th>adr</th>\n",
       "    </tr>\n",
       "  </thead>\n",
       "  <tbody>\n",
       "    <tr>\n",
       "      <th>2160</th>\n",
       "      <td>Крепостное ш.</td>\n",
       "      <td>Севастополь,Крепостное ш.</td>\n",
       "    </tr>\n",
       "    <tr>\n",
       "      <th>658</th>\n",
       "      <td>Редутная ул., 25</td>\n",
       "      <td>Севастополь,Редутная ул., 25</td>\n",
       "    </tr>\n",
       "    <tr>\n",
       "      <th>4158</th>\n",
       "      <td>Севастополь, Рубежный проезд, 40</td>\n",
       "      <td>Севастополь, Рубежный проезд, 40</td>\n",
       "    </tr>\n",
       "    <tr>\n",
       "      <th>10782</th>\n",
       "      <td>Крепостное ш., 23к3</td>\n",
       "      <td>Севастополь,Крепостное ш., 23к3</td>\n",
       "    </tr>\n",
       "    <tr>\n",
       "      <th>12344</th>\n",
       "      <td>с. Угловое</td>\n",
       "      <td>Севастополь,с. Угловое</td>\n",
       "    </tr>\n",
       "    <tr>\n",
       "      <th>10116</th>\n",
       "      <td>Севастополь, 4-я Голландская улица, 5</td>\n",
       "      <td>Севастополь, 4-я Голландская улица, 5</td>\n",
       "    </tr>\n",
       "    <tr>\n",
       "      <th>11885</th>\n",
       "      <td>садовое товарищество Строитель СУ-432</td>\n",
       "      <td>Севастополь,садовое товарищество Строитель СУ-432</td>\n",
       "    </tr>\n",
       "    <tr>\n",
       "      <th>12736</th>\n",
       "      <td>дачный потребительский кооператив Горный, пер. Капитана Дьячкова</td>\n",
       "      <td>Севастополь,дачный потребительский кооператив Горный, пер. Капитана Дьячкова</td>\n",
       "    </tr>\n",
       "    <tr>\n",
       "      <th>7836</th>\n",
       "      <td>садоводческое товарищество Усть-Бельбек</td>\n",
       "      <td>Севастополь,садоводческое товарищество Усть-Бельбек</td>\n",
       "    </tr>\n",
       "    <tr>\n",
       "      <th>2285</th>\n",
       "      <td>ул. Бисти, 3</td>\n",
       "      <td>Севастополь,ул. Бисти, 3</td>\n",
       "    </tr>\n",
       "  </tbody>\n",
       "</table>\n",
       "</div>"
      ],
      "text/plain": [
       "                                                               adr_orig  \\\n",
       "2160                                                      Крепостное ш.   \n",
       "658                                                    Редутная ул., 25   \n",
       "4158                                   Севастополь, Рубежный проезд, 40   \n",
       "10782                                               Крепостное ш., 23к3   \n",
       "12344                                                        с. Угловое   \n",
       "10116                             Севастополь, 4-я Голландская улица, 5   \n",
       "11885                             садовое товарищество Строитель СУ-432   \n",
       "12736  дачный потребительский кооператив Горный, пер. Капитана Дьячкова   \n",
       "7836                            садоводческое товарищество Усть-Бельбек   \n",
       "2285                                                       ул. Бисти, 3   \n",
       "\n",
       "                                                                                adr  \n",
       "2160                                                      Севастополь,Крепостное ш.  \n",
       "658                                                    Севастополь,Редутная ул., 25  \n",
       "4158                                               Севастополь, Рубежный проезд, 40  \n",
       "10782                                               Севастополь,Крепостное ш., 23к3  \n",
       "12344                                                        Севастополь,с. Угловое  \n",
       "10116                                         Севастополь, 4-я Голландская улица, 5  \n",
       "11885                             Севастополь,садовое товарищество Строитель СУ-432  \n",
       "12736  Севастополь,дачный потребительский кооператив Горный, пер. Капитана Дьячкова  \n",
       "7836                            Севастополь,садоводческое товарищество Усть-Бельбек  \n",
       "2285                                                       Севастополь,ул. Бисти, 3  "
      ]
     },
     "execution_count": 19,
     "metadata": {},
     "output_type": "execute_result"
    }
   ],
   "source": [
    "data[['adr_orig','adr']].sample(10)"
   ]
  },
  {
   "cell_type": "code",
   "execution_count": 20,
   "id": "86a30244",
   "metadata": {},
   "outputs": [
    {
     "name": "stdout",
     "output_type": "stream",
     "text": [
      "[INFO    ] 2022-11-07 12:12:18 | LocationUpdater: 7096 addresses in index\n",
      "[INFO    ] 2022-11-07 12:12:18 | LocationUpdater: 7104 addresses total\n",
      "[INFO    ] 2022-11-07 12:12:18 | LocationUpdater: 7096 addresses defined\n",
      "[INFO    ] 2022-11-07 12:12:18 | LocationUpdater: 8 addresses undefined\n"
     ]
    },
    {
     "data": {
      "application/vnd.jupyter.widget-view+json": {
       "model_id": "a92f9724468a450c9334fbe4d5ef8d23",
       "version_major": 2,
       "version_minor": 0
      },
      "text/plain": [
       "  0%|          | 0/8 [00:00<?, ?it/s]"
      ]
     },
     "metadata": {},
     "output_type": "display_data"
    },
    {
     "name": "stdout",
     "output_type": "stream",
     "text": [
      "[INFO    ] 2022-11-07 12:12:21 | LocationUpdater: 8 new addresses found\n"
     ]
    }
   ],
   "source": [
    "# from lib.locator import GeocoderSimpleOSM\n",
    "from lib.locator import GeocoderYandex\n",
    "from yandex_keys import keys\n",
    "\n",
    "atr = AddressTransformer()\n",
    "locator = GeocoderYandex(keys[0])\n",
    "# locator = GeocoderSimpleOSM()\n",
    "\n",
    "loc_file_path = 'data/location.pkl' # таблица адресов\n",
    "loc = pd.read_pickle(loc_file_path)\n",
    "# loc = pd.DataFrame([],columns=['adr','latitude','longitude',])\n",
    "logging.info(f'LocationUpdater: {len(loc)} addresses in index')\n",
    "\n",
    "# собираем все адреса в один список\n",
    "loc = loc.merge(\n",
    "        data[['adr']].drop_duplicates(),\n",
    "        how='outer',\n",
    "        on='adr',\n",
    "    ).drop_duplicates().reset_index(drop=True)\n",
    "\n",
    "logging.info(f'LocationUpdater: {len(loc)} addresses total')\n",
    "\n",
    "# собираем все адреса с геопозицией\n",
    "loc_def = loc[~loc['latitude'].isna()].reset_index(drop=True)\n",
    "logging.info(f'LocationUpdater: {len(loc_def)} addresses defined')\n",
    "\n",
    "# собираем все адреса без геопозиции\n",
    "loc_undef = loc[loc['latitude'].isna()][['adr']].reset_index(drop=True)\n",
    "logging.info(f'LocationUpdater: {len(loc_undef)} addresses undefined')\n",
    "\n",
    "if len(loc_undef)>0:\n",
    "    # определяем координаты по строке адреса\n",
    "    loc_undef = loc_undef.join( loc_undef['adr'].progress_apply(locator.transform).apply(pd.Series) ).dropna()     \n",
    "    logging.info(f'LocationUpdater: {len(loc_undef)} new addresses found')\n",
    "    loc = pd.concat([loc_def,loc_undef]).reset_index(drop=True) \n",
    "    assert len(loc)>0\n",
    "    loc.to_pickle(loc_file_path)"
   ]
  },
  {
   "cell_type": "code",
   "execution_count": 21,
   "id": "19741bb7",
   "metadata": {},
   "outputs": [
    {
     "name": "stdout",
     "output_type": "stream",
     "text": [
      "7104\n"
     ]
    },
    {
     "data": {
      "text/html": [
       "<div>\n",
       "<style scoped>\n",
       "    .dataframe tbody tr th:only-of-type {\n",
       "        vertical-align: middle;\n",
       "    }\n",
       "\n",
       "    .dataframe tbody tr th {\n",
       "        vertical-align: top;\n",
       "    }\n",
       "\n",
       "    .dataframe thead th {\n",
       "        text-align: right;\n",
       "    }\n",
       "</style>\n",
       "<table border=\"1\" class=\"dataframe\">\n",
       "  <thead>\n",
       "    <tr style=\"text-align: right;\">\n",
       "      <th></th>\n",
       "      <th>latitude</th>\n",
       "      <th>longitude</th>\n",
       "      <th>adr</th>\n",
       "    </tr>\n",
       "  </thead>\n",
       "  <tbody>\n",
       "    <tr>\n",
       "      <th>5050</th>\n",
       "      <td>44.540251</td>\n",
       "      <td>33.541063</td>\n",
       "      <td>Севастополь,Античный б-р, 66</td>\n",
       "    </tr>\n",
       "    <tr>\n",
       "      <th>2261</th>\n",
       "      <td>44.565501</td>\n",
       "      <td>33.408651</td>\n",
       "      <td>Севастополь, район Гагаринский, Казачья Бухта мкр, улица Рубежная, 6</td>\n",
       "    </tr>\n",
       "    <tr>\n",
       "      <th>1530</th>\n",
       "      <td>44.59</td>\n",
       "      <td>33.52</td>\n",
       "      <td>Севастополь, район Ленинский, улица Супруна, 8</td>\n",
       "    </tr>\n",
       "  </tbody>\n",
       "</table>\n",
       "</div>"
      ],
      "text/plain": [
       "       latitude  longitude  \\\n",
       "5050  44.540251  33.541063   \n",
       "2261  44.565501  33.408651   \n",
       "1530      44.59      33.52   \n",
       "\n",
       "                                                                       adr  \n",
       "5050                                          Севастополь,Античный б-р, 66  \n",
       "2261  Севастополь, район Гагаринский, Казачья Бухта мкр, улица Рубежная, 6  \n",
       "1530                        Севастополь, район Ленинский, улица Супруна, 8  "
      ]
     },
     "execution_count": 21,
     "metadata": {},
     "output_type": "execute_result"
    }
   ],
   "source": [
    "print( len(loc) )\n",
    "loc.sample(3)"
   ]
  },
  {
   "cell_type": "markdown",
   "id": "25e27e33",
   "metadata": {},
   "source": [
    "## дополняем данные геометкой"
   ]
  },
  {
   "cell_type": "code",
   "execution_count": 22,
   "id": "77ac354e",
   "metadata": {},
   "outputs": [
    {
     "name": "stdout",
     "output_type": "stream",
     "text": [
      "всего записей: 14090\n",
      "записей без геометки: 0\n",
      "<class 'pandas.core.frame.DataFrame'>\n",
      "Int64Index: 14090 entries, 0 to 14089\n",
      "Data columns (total 17 columns):\n",
      " #   Column              Non-Null Count  Dtype         \n",
      "---  ------              --------------  -----         \n",
      " 0   title               14090 non-null  object        \n",
      " 1   price               14090 non-null  int64         \n",
      " 2   obj_name            14090 non-null  object        \n",
      " 3   adr_orig            14090 non-null  object        \n",
      " 4   description         14090 non-null  object        \n",
      " 5   avito_page          14090 non-null  int64         \n",
      " 6   ts                  14090 non-null  datetime64[ns]\n",
      " 7   place               14090 non-null  object        \n",
      " 8   area                14090 non-null  float64       \n",
      " 9   is_IJS              14090 non-null  bool          \n",
      " 10  priceM              14090 non-null  float64       \n",
      " 11  priceMU             14090 non-null  float64       \n",
      " 12  area_size_category  14084 non-null  category      \n",
      " 13  url                 14090 non-null  object        \n",
      " 14  adr                 14090 non-null  object        \n",
      " 15  latitude            14090 non-null  object        \n",
      " 16  longitude           14090 non-null  object        \n",
      "dtypes: bool(1), category(1), datetime64[ns](1), float64(3), int64(2), object(9)\n",
      "memory usage: 1.7+ MB\n"
     ]
    }
   ],
   "source": [
    "# data = data.rename(columns={'adr':'adr_orig','adr_':'adr'})\n",
    "\n",
    "data = data.merge(loc,on=['adr'],how='left')\n",
    "\n",
    "print('всего записей:', len( data) )\n",
    "print('записей без геометки:', len( data[ data['latitude'].isna() ] ) )\n",
    "\n",
    "assert len(data)>0\n",
    "data.to_pickle(result_file_path)\n",
    "\n",
    "data.info()"
   ]
  },
  {
   "cell_type": "code",
   "execution_count": null,
   "id": "64c38175",
   "metadata": {},
   "outputs": [],
   "source": []
  }
 ],
 "metadata": {
  "kernelspec": {
   "display_name": "Python 3 (ipykernel)",
   "language": "python",
   "name": "python3"
  },
  "language_info": {
   "codemirror_mode": {
    "name": "ipython",
    "version": 3
   },
   "file_extension": ".py",
   "mimetype": "text/x-python",
   "name": "python",
   "nbconvert_exporter": "python",
   "pygments_lexer": "ipython3",
   "version": "3.10.8"
  },
  "toc": {
   "base_numbering": 1,
   "nav_menu": {},
   "number_sections": true,
   "sideBar": true,
   "skip_h1_title": false,
   "title_cell": "Table of Contents",
   "title_sidebar": "Contents",
   "toc_cell": false,
   "toc_position": {
    "height": "calc(100% - 180px)",
    "left": "10px",
    "top": "150px",
    "width": "291.594px"
   },
   "toc_section_display": true,
   "toc_window_display": true
  },
  "varInspector": {
   "cols": {
    "lenName": 16,
    "lenType": 16,
    "lenVar": 40
   },
   "kernels_config": {
    "python": {
     "delete_cmd_postfix": "",
     "delete_cmd_prefix": "del ",
     "library": "var_list.py",
     "varRefreshCmd": "print(var_dic_list())"
    },
    "r": {
     "delete_cmd_postfix": ") ",
     "delete_cmd_prefix": "rm(",
     "library": "var_list.r",
     "varRefreshCmd": "cat(var_dic_list()) "
    }
   },
   "types_to_exclude": [
    "module",
    "function",
    "builtin_function_or_method",
    "instance",
    "_Feature"
   ],
   "window_display": false
  }
 },
 "nbformat": 4,
 "nbformat_minor": 5
}
