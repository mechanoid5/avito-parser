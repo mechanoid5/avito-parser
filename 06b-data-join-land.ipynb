{
 "cells": [
  {
   "cell_type": "markdown",
   "id": "7bec28d7",
   "metadata": {},
   "source": [
    "__собираем предложения о земельных участках__\n",
    "\n",
    "_Evgeny S. Borisov <parser@mechanoid.su>_"
   ]
  },
  {
   "cell_type": "code",
   "execution_count": 1,
   "id": "52c5999f",
   "metadata": {},
   "outputs": [],
   "source": [
    "# !pacman -S firefox firefox-i18n-r  geckodriver\n",
    "# !pip install seleniuam"
   ]
  },
  {
   "cell_type": "code",
   "execution_count": 2,
   "id": "bcea4d8b",
   "metadata": {
    "ExecuteTime": {
     "end_time": "2022-08-26T14:19:06.118492Z",
     "start_time": "2022-08-26T14:13:37.888398Z"
    }
   },
   "outputs": [],
   "source": [
    "# import re\n",
    "import sys\n",
    "import logging\n",
    "from datetime import datetime as dtm\n",
    "from tqdm.notebook import tqdm\n",
    "import pandas as pd"
   ]
  },
  {
   "cell_type": "code",
   "execution_count": 3,
   "id": "caabc8c7",
   "metadata": {
    "ExecuteTime": {
     "end_time": "2022-08-26T14:19:06.118492Z",
     "start_time": "2022-08-26T14:13:37.888398Z"
    }
   },
   "outputs": [],
   "source": [
    "pd.set_option('display.max_colwidth', None)\n",
    "pd.set_option('display.float_format', '{:.2f}'.format)\n",
    "tqdm.pandas()\n",
    "\n",
    "logging.basicConfig(\n",
    "        format=u'[%(levelname)-8s] %(asctime)s | %(message)s',\n",
    "        datefmt='%Y-%m-%d %H:%M:%S',\n",
    "        level=logging.INFO,\n",
    "        # level=logging.DEBUG,\n",
    "        stream=sys.stdout,\n",
    "    )"
   ]
  },
  {
   "cell_type": "markdown",
   "id": "db3fe2be",
   "metadata": {},
   "source": [
    "---"
   ]
  },
  {
   "cell_type": "code",
   "execution_count": 4,
   "id": "d437eab9",
   "metadata": {},
   "outputs": [],
   "source": [
    "# каталог с файлами объявлений\n",
    "avito_raw_data_path = 'data/raw/land/avito' \n",
    "# cian_raw_data_path = 'data/raw/cian'\n",
    "result_file_path = 'data/data_land.pkl'"
   ]
  },
  {
   "cell_type": "code",
   "execution_count": 5,
   "id": "31463a1e",
   "metadata": {},
   "outputs": [],
   "source": [
    "# ts = dtm.now().strftime('%Y-%m-%d_%H-%M')\n",
    "# ts"
   ]
  },
  {
   "cell_type": "markdown",
   "id": "98f6384f",
   "metadata": {},
   "source": [
    "## собираем данные авито.ру"
   ]
  },
  {
   "cell_type": "code",
   "execution_count": 6,
   "id": "2673ef1f",
   "metadata": {},
   "outputs": [
    {
     "data": {
      "text/plain": [
       "['data/raw/land/avito/avito_2022-09-08_16-05_raw.xlsx',\n",
       " 'data/raw/land/avito/avito_2022-09-12_13-51_raw.xlsx',\n",
       " 'data/raw/land/avito/avito_2022-09-13_13-56_raw.xlsx',\n",
       " 'data/raw/land/avito/avito_2022-09-15_10-31_raw.xlsx',\n",
       " 'data/raw/land/avito/avito_2022-09-16_15-10_raw.xlsx',\n",
       " 'data/raw/land/avito/avito_2022-09-19_12-39_raw.xlsx']"
      ]
     },
     "execution_count": 6,
     "metadata": {},
     "output_type": "execute_result"
    }
   ],
   "source": [
    "import re\n",
    "from os import listdir\n",
    "\n",
    "raw_data_files = sorted([\n",
    "        avito_raw_data_path+'/'+f \n",
    "        for f in listdir(avito_raw_data_path) \n",
    "        if re.match(r'.+\\.xlsx$',f)\n",
    "    ])\n",
    "raw_data_files"
   ]
  },
  {
   "cell_type": "code",
   "execution_count": 7,
   "id": "adb5b19b",
   "metadata": {},
   "outputs": [],
   "source": [
    "# for f in raw_data_files:\n",
    "#     df = pd.read_excel(f)\n",
    "#     df['place']='sevastopol'\n",
    "#     df.to_excel(f,index=False)\n",
    "#     print(f)"
   ]
  },
  {
   "cell_type": "code",
   "execution_count": 8,
   "id": "347629e1",
   "metadata": {},
   "outputs": [
    {
     "name": "stdout",
     "output_type": "stream",
     "text": [
      "6619\n"
     ]
    }
   ],
   "source": [
    "data_avito = pd.concat([\n",
    "        pd\n",
    "        .read_excel(f)\n",
    "        #.dropna()\n",
    "        .drop_duplicates(['avito_id','description'])\n",
    "        .rename(columns={'page':'avito_page'})\n",
    "        .reset_index(drop=True)  \n",
    "        for f in raw_data_files\n",
    "    ]).reset_index(drop=True)\n",
    "\n",
    "print(len(data_avito))"
   ]
  },
  {
   "cell_type": "code",
   "execution_count": 9,
   "id": "2a992037",
   "metadata": {},
   "outputs": [],
   "source": [
    "# data_avito"
   ]
  },
  {
   "cell_type": "code",
   "execution_count": 10,
   "id": "cbce7aaa",
   "metadata": {},
   "outputs": [
    {
     "name": "stdout",
     "output_type": "stream",
     "text": [
      "6619\n"
     ]
    }
   ],
   "source": [
    "from lib.avito import AvitoDataCleanerRealtyLand\n",
    "\n",
    "data_avito = AvitoDataCleanerRealtyLand().transform( data_avito )\n",
    "\n",
    "print(len(data_avito))"
   ]
  },
  {
   "cell_type": "code",
   "execution_count": 11,
   "id": "becaac57",
   "metadata": {},
   "outputs": [
    {
     "data": {
      "text/html": [
       "<div>\n",
       "<style scoped>\n",
       "    .dataframe tbody tr th:only-of-type {\n",
       "        vertical-align: middle;\n",
       "    }\n",
       "\n",
       "    .dataframe tbody tr th {\n",
       "        vertical-align: top;\n",
       "    }\n",
       "\n",
       "    .dataframe thead th {\n",
       "        text-align: right;\n",
       "    }\n",
       "</style>\n",
       "<table border=\"1\" class=\"dataframe\">\n",
       "  <thead>\n",
       "    <tr style=\"text-align: right;\">\n",
       "      <th></th>\n",
       "      <th>avito_id</th>\n",
       "      <th>title</th>\n",
       "      <th>price</th>\n",
       "      <th>obj_name</th>\n",
       "      <th>adr</th>\n",
       "      <th>description</th>\n",
       "      <th>avito_page</th>\n",
       "      <th>ts</th>\n",
       "      <th>place</th>\n",
       "      <th>area</th>\n",
       "      <th>is_IJS</th>\n",
       "      <th>priceM</th>\n",
       "      <th>priceMU</th>\n",
       "      <th>area_size_category</th>\n",
       "    </tr>\n",
       "  </thead>\n",
       "  <tbody>\n",
       "    <tr>\n",
       "      <th>1212</th>\n",
       "      <td>2499307974</td>\n",
       "      <td>Участок 4,4 сот. (ИЖС)</td>\n",
       "      <td>2600000</td>\n",
       "      <td></td>\n",
       "      <td>садовое товарищество Водолаз</td>\n",
       "      <td>Продам земельный участок в районе Т-образного перекрестка. Земля оформлена, получен кадастровый номер участка. Чистая продажа. Огорожен, рядом живут соседи на постоянной основе. На участке есть емкость для воды, плодовые посадки: Грецкий орех, инжир, грана</td>\n",
       "      <td>3</td>\n",
       "      <td>2022-09-12 13:51:16.745</td>\n",
       "      <td>sevastopol</td>\n",
       "      <td>4.40</td>\n",
       "      <td>True</td>\n",
       "      <td>2.60</td>\n",
       "      <td>0.59</td>\n",
       "      <td>4-8</td>\n",
       "    </tr>\n",
       "    <tr>\n",
       "      <th>2822</th>\n",
       "      <td>2401918024</td>\n",
       "      <td>Участок 7,7 сот. (ИЖС)</td>\n",
       "      <td>4800000</td>\n",
       "      <td></td>\n",
       "      <td>ул. Василия Колодкина</td>\n",
       "      <td>Продам замечательный ровный участок в районе Лабораторного шоссе. \\nКатегория земли Ижс! \\nУчасток расположен в 30 метрах от асфальтированной дороги, к самому участку подходит ровная грунтовая дорога. \\nВ шаговой доступности (5 минут пешком) остановка Виктори</td>\n",
       "      <td>13</td>\n",
       "      <td>2022-09-13 13:56:54.600</td>\n",
       "      <td>sevastopol</td>\n",
       "      <td>7.70</td>\n",
       "      <td>True</td>\n",
       "      <td>4.80</td>\n",
       "      <td>0.62</td>\n",
       "      <td>4-8</td>\n",
       "    </tr>\n",
       "    <tr>\n",
       "      <th>3804</th>\n",
       "      <td>2149056727</td>\n",
       "      <td>Участок 4 сот. (ИЖС)</td>\n",
       "      <td>1300000</td>\n",
       "      <td></td>\n",
       "      <td>район Северная Сторона</td>\n",
       "      <td>Севастополь, а в особенности его Северную сторону, абсолютно не затапливает ни при каких ливнях! Не зря расположение аэродрома «Бельбек» выбрано именно на Северной стороне. Смело переезжайте к нам! \\n\\nУчасток, 800 м от моря. Пляж Учкуевка, Северная сторона</td>\n",
       "      <td>11</td>\n",
       "      <td>2022-09-15 10:31:26.039</td>\n",
       "      <td>sevastopol</td>\n",
       "      <td>4.00</td>\n",
       "      <td>True</td>\n",
       "      <td>1.30</td>\n",
       "      <td>0.33</td>\n",
       "      <td>2-4</td>\n",
       "    </tr>\n",
       "  </tbody>\n",
       "</table>\n",
       "</div>"
      ],
      "text/plain": [
       "        avito_id                   title    price obj_name  \\\n",
       "1212  2499307974  Участок 4,4 сот. (ИЖС)  2600000            \n",
       "2822  2401918024  Участок 7,7 сот. (ИЖС)  4800000            \n",
       "3804  2149056727    Участок 4 сот. (ИЖС)  1300000            \n",
       "\n",
       "                               adr  \\\n",
       "1212  садовое товарищество Водолаз   \n",
       "2822         ул. Василия Колодкина   \n",
       "3804        район Северная Сторона   \n",
       "\n",
       "                                                                                                                                                                                                                                                              description  \\\n",
       "1212     Продам земельный участок в районе Т-образного перекрестка. Земля оформлена, получен кадастровый номер участка. Чистая продажа. Огорожен, рядом живут соседи на постоянной основе. На участке есть емкость для воды, плодовые посадки: Грецкий орех, инжир, грана   \n",
       "2822  Продам замечательный ровный участок в районе Лабораторного шоссе. \\nКатегория земли Ижс! \\nУчасток расположен в 30 метрах от асфальтированной дороги, к самому участку подходит ровная грунтовая дорога. \\nВ шаговой доступности (5 минут пешком) остановка Виктори   \n",
       "3804   Севастополь, а в особенности его Северную сторону, абсолютно не затапливает ни при каких ливнях! Не зря расположение аэродрома «Бельбек» выбрано именно на Северной стороне. Смело переезжайте к нам! \\n\\nУчасток, 800 м от моря. Пляж Учкуевка, Северная сторона    \n",
       "\n",
       "      avito_page                      ts       place  area  is_IJS  priceM  \\\n",
       "1212           3 2022-09-12 13:51:16.745  sevastopol  4.40    True    2.60   \n",
       "2822          13 2022-09-13 13:56:54.600  sevastopol  7.70    True    4.80   \n",
       "3804          11 2022-09-15 10:31:26.039  sevastopol  4.00    True    1.30   \n",
       "\n",
       "      priceMU area_size_category  \n",
       "1212     0.59                4-8  \n",
       "2822     0.62                4-8  \n",
       "3804     0.33                2-4  "
      ]
     },
     "execution_count": 11,
     "metadata": {},
     "output_type": "execute_result"
    }
   ],
   "source": [
    "data_avito.sample(3)"
   ]
  },
  {
   "cell_type": "code",
   "execution_count": 12,
   "id": "ce2869e1",
   "metadata": {},
   "outputs": [],
   "source": [
    "assert len(data_avito)>0"
   ]
  },
  {
   "cell_type": "code",
   "execution_count": 13,
   "id": "12170700",
   "metadata": {},
   "outputs": [
    {
     "name": "stdout",
     "output_type": "stream",
     "text": [
      "<class 'pandas.core.frame.DataFrame'>\n",
      "RangeIndex: 6619 entries, 0 to 6618\n",
      "Data columns (total 14 columns):\n",
      " #   Column              Non-Null Count  Dtype         \n",
      "---  ------              --------------  -----         \n",
      " 0   avito_id            6619 non-null   int64         \n",
      " 1   title               6619 non-null   object        \n",
      " 2   price               6619 non-null   int64         \n",
      " 3   obj_name            6619 non-null   object        \n",
      " 4   adr                 6619 non-null   object        \n",
      " 5   description         6619 non-null   object        \n",
      " 6   avito_page          6619 non-null   int64         \n",
      " 7   ts                  6619 non-null   datetime64[ns]\n",
      " 8   place               6619 non-null   object        \n",
      " 9   area                6619 non-null   float64       \n",
      " 10  is_IJS              6619 non-null   bool          \n",
      " 11  priceM              6619 non-null   float64       \n",
      " 12  priceMU             6619 non-null   float64       \n",
      " 13  area_size_category  6619 non-null   category      \n",
      "dtypes: bool(1), category(1), datetime64[ns](1), float64(3), int64(3), object(5)\n",
      "memory usage: 633.8+ KB\n"
     ]
    }
   ],
   "source": [
    "data_avito.info()"
   ]
  },
  {
   "cell_type": "markdown",
   "id": "f3ca7967",
   "metadata": {},
   "source": [
    "---"
   ]
  },
  {
   "cell_type": "code",
   "execution_count": 14,
   "id": "2db629e4",
   "metadata": {},
   "outputs": [
    {
     "name": "stdout",
     "output_type": "stream",
     "text": [
      "6619\n"
     ]
    }
   ],
   "source": [
    "data = data_avito.reset_index(drop=True) \n",
    "print(len(data))\n",
    "assert len(data)>0"
   ]
  },
  {
   "cell_type": "markdown",
   "id": "2903ab86",
   "metadata": {},
   "source": [
    "## обновляем таблицу адресов"
   ]
  },
  {
   "cell_type": "code",
   "execution_count": 15,
   "id": "999ddbae",
   "metadata": {},
   "outputs": [],
   "source": [
    "# data_ = data.sample(15).reset_index(drop=True)\n",
    "# data_[['adr']]"
   ]
  },
  {
   "cell_type": "code",
   "execution_count": 16,
   "id": "e849be88",
   "metadata": {},
   "outputs": [],
   "source": [
    "places = { \n",
    "# поле 'place' и название города\n",
    "'bahchisaray': 'Бахчисарай,',\n",
    "      'sudak': 'Судак,',\n",
    "  'sevastopol': 'Севастополь,',\n",
    "}\n",
    "\n",
    "def norm_place(d,places=places):\n",
    "    if not d['place'] in places: return d['adr_']\n",
    "    p = places[ d['place'] ]\n",
    "    return d['adr_'] if d['adr_'].find(p)>-1 else p+d['adr_']"
   ]
  },
  {
   "cell_type": "code",
   "execution_count": 17,
   "id": "beb335f3",
   "metadata": {},
   "outputs": [
    {
     "data": {
      "application/vnd.jupyter.widget-view+json": {
       "model_id": "00359e844e334f95836fbc585fb697a0",
       "version_major": 2,
       "version_minor": 0
      },
      "text/plain": [
       "  0%|          | 0/6619 [00:00<?, ?it/s]"
      ]
     },
     "metadata": {},
     "output_type": "display_data"
    },
    {
     "data": {
      "application/vnd.jupyter.widget-view+json": {
       "model_id": "1c0fef6148f04440b89bfeb5ed92fca0",
       "version_major": 2,
       "version_minor": 0
      },
      "text/plain": [
       "  0%|          | 0/6619 [00:00<?, ?it/s]"
      ]
     },
     "metadata": {},
     "output_type": "display_data"
    }
   ],
   "source": [
    "from lib.locator import AddressTransformer\n",
    "\n",
    "atr = AddressTransformer()\n",
    "data['adr_'] = data['adr'].progress_apply(atr.transform)\n",
    "data['adr_'] = data[['adr_','place']].progress_apply(norm_place,axis=1)\n",
    "data = data.rename(columns={'adr':'adr_orig','adr_':'adr'})"
   ]
  },
  {
   "cell_type": "code",
   "execution_count": 18,
   "id": "f773346b",
   "metadata": {},
   "outputs": [
    {
     "data": {
      "text/html": [
       "<div>\n",
       "<style scoped>\n",
       "    .dataframe tbody tr th:only-of-type {\n",
       "        vertical-align: middle;\n",
       "    }\n",
       "\n",
       "    .dataframe tbody tr th {\n",
       "        vertical-align: top;\n",
       "    }\n",
       "\n",
       "    .dataframe thead th {\n",
       "        text-align: right;\n",
       "    }\n",
       "</style>\n",
       "<table border=\"1\" class=\"dataframe\">\n",
       "  <thead>\n",
       "    <tr style=\"text-align: right;\">\n",
       "      <th></th>\n",
       "      <th>adr_orig</th>\n",
       "      <th>adr</th>\n",
       "    </tr>\n",
       "  </thead>\n",
       "  <tbody>\n",
       "    <tr>\n",
       "      <th>2633</th>\n",
       "      <td>с. Орловка</td>\n",
       "      <td>Севастополь,с. Орловка</td>\n",
       "    </tr>\n",
       "    <tr>\n",
       "      <th>4058</th>\n",
       "      <td>с. Орлиное, Благодатная ул.</td>\n",
       "      <td>Севастополь,с. Орлиное, Благодатная ул.</td>\n",
       "    </tr>\n",
       "    <tr>\n",
       "      <th>286</th>\n",
       "      <td>Севастополь, Гераклейский бульвар, 12А</td>\n",
       "      <td>Севастополь, Гераклейский бульвар, 12А</td>\n",
       "    </tr>\n",
       "    <tr>\n",
       "      <th>5834</th>\n",
       "      <td>с. Вишнёвое, ул. Дружбы, 44</td>\n",
       "      <td>Севастополь,с. Вишнёвое, ул. Дружбы, 44</td>\n",
       "    </tr>\n",
       "    <tr>\n",
       "      <th>3984</th>\n",
       "      <td>Балаклава, Мускатная ул., 41</td>\n",
       "      <td>Севастополь,Балаклава, Мускатная ул., 41</td>\n",
       "    </tr>\n",
       "    <tr>\n",
       "      <th>5556</th>\n",
       "      <td>Парковая ул.</td>\n",
       "      <td>Севастополь,Парковая ул.</td>\n",
       "    </tr>\n",
       "    <tr>\n",
       "      <th>2938</th>\n",
       "      <td>Предместная ул., 51</td>\n",
       "      <td>Севастополь,Предместная ул., 51</td>\n",
       "    </tr>\n",
       "    <tr>\n",
       "      <th>3313</th>\n",
       "      <td>мыс Фиолент</td>\n",
       "      <td>Севастополь,мыс Фиолент</td>\n",
       "    </tr>\n",
       "    <tr>\n",
       "      <th>2017</th>\n",
       "      <td>ул. Второй Обороны, 128</td>\n",
       "      <td>Севастополь,ул. Второй Обороны, 128</td>\n",
       "    </tr>\n",
       "    <tr>\n",
       "      <th>1181</th>\n",
       "      <td>пер. Бутакова, 8</td>\n",
       "      <td>Севастополь,пер. Бутакова, 8</td>\n",
       "    </tr>\n",
       "  </tbody>\n",
       "</table>\n",
       "</div>"
      ],
      "text/plain": [
       "                                    adr_orig  \\\n",
       "2633                              с. Орловка   \n",
       "4058             с. Орлиное, Благодатная ул.   \n",
       "286   Севастополь, Гераклейский бульвар, 12А   \n",
       "5834             с. Вишнёвое, ул. Дружбы, 44   \n",
       "3984            Балаклава, Мускатная ул., 41   \n",
       "5556                            Парковая ул.   \n",
       "2938                     Предместная ул., 51   \n",
       "3313                             мыс Фиолент   \n",
       "2017                 ул. Второй Обороны, 128   \n",
       "1181                        пер. Бутакова, 8   \n",
       "\n",
       "                                           adr  \n",
       "2633                    Севастополь,с. Орловка  \n",
       "4058   Севастополь,с. Орлиное, Благодатная ул.  \n",
       "286     Севастополь, Гераклейский бульвар, 12А  \n",
       "5834   Севастополь,с. Вишнёвое, ул. Дружбы, 44  \n",
       "3984  Севастополь,Балаклава, Мускатная ул., 41  \n",
       "5556                  Севастополь,Парковая ул.  \n",
       "2938           Севастополь,Предместная ул., 51  \n",
       "3313                   Севастополь,мыс Фиолент  \n",
       "2017       Севастополь,ул. Второй Обороны, 128  \n",
       "1181              Севастополь,пер. Бутакова, 8  "
      ]
     },
     "execution_count": 18,
     "metadata": {},
     "output_type": "execute_result"
    }
   ],
   "source": [
    "data[['adr_orig','adr']].sample(10)"
   ]
  },
  {
   "cell_type": "code",
   "execution_count": 19,
   "id": "86a30244",
   "metadata": {},
   "outputs": [
    {
     "name": "stdout",
     "output_type": "stream",
     "text": [
      "[INFO    ] 2022-09-20 01:08:39 | LocationUpdater: 3307 addresses in index\n",
      "[INFO    ] 2022-09-20 01:08:39 | LocationUpdater: 3926 addresses total\n",
      "[INFO    ] 2022-09-20 01:08:39 | LocationUpdater: 3307 addresses defined\n",
      "[INFO    ] 2022-09-20 01:08:39 | LocationUpdater: 619 addresses undefined\n"
     ]
    },
    {
     "data": {
      "application/vnd.jupyter.widget-view+json": {
       "model_id": "0ad50b973d084941a7b2d64853f55e00",
       "version_major": 2,
       "version_minor": 0
      },
      "text/plain": [
       "  0%|          | 0/619 [00:00<?, ?it/s]"
      ]
     },
     "metadata": {},
     "output_type": "display_data"
    },
    {
     "name": "stdout",
     "output_type": "stream",
     "text": [
      "[INFO    ] 2022-09-20 01:11:33 | LocationUpdater: 619 new addresses found\n"
     ]
    }
   ],
   "source": [
    "from lib.locator import GeocoderYandex\n",
    "from yandex_keys import keys\n",
    "locator = GeocoderYandex(keys[1])\n",
    "\n",
    "# from lib.locator import GeocoderSimpleOSM\n",
    "# locator = GeocoderSimpleOSM()\n",
    "\n",
    "atr = AddressTransformer()\n",
    "\n",
    "loc_file_path = 'data/location.pkl' # таблица адресов\n",
    "loc = pd.read_pickle(loc_file_path)\n",
    "# loc = pd.DataFrame([],columns=['adr','latitude','longitude',])\n",
    "logging.info(f'LocationUpdater: {len(loc)} addresses in index')\n",
    "\n",
    "# собираем все адреса в один список\n",
    "loc = loc.merge(\n",
    "        data[['adr']].drop_duplicates(),\n",
    "        how='outer',\n",
    "        on='adr',\n",
    "    ).drop_duplicates().reset_index(drop=True)\n",
    "\n",
    "logging.info(f'LocationUpdater: {len(loc)} addresses total')\n",
    "\n",
    "# собираем все адреса с геопозицией\n",
    "loc_def = loc[~loc['latitude'].isna()].reset_index(drop=True)\n",
    "logging.info(f'LocationUpdater: {len(loc_def)} addresses defined')\n",
    "\n",
    "# собираем все адреса без геопозиции\n",
    "loc_undef = loc[loc['latitude'].isna()][['adr']].reset_index(drop=True)\n",
    "logging.info(f'LocationUpdater: {len(loc_undef)} addresses undefined')\n",
    "\n",
    "# определяем координаты по строке адреса\n",
    "loc_undef = loc_undef.join( loc_undef['adr'].progress_apply(locator.transform).apply(pd.Series) ).dropna()     \n",
    "logging.info(f'LocationUpdater: {len(loc_undef)} new addresses found')\n",
    "\n",
    "loc = pd.concat([loc_def,loc_undef]).reset_index(drop=True) "
   ]
  },
  {
   "cell_type": "code",
   "execution_count": 20,
   "id": "19741bb7",
   "metadata": {},
   "outputs": [
    {
     "name": "stdout",
     "output_type": "stream",
     "text": [
      "3926\n"
     ]
    },
    {
     "data": {
      "text/html": [
       "<div>\n",
       "<style scoped>\n",
       "    .dataframe tbody tr th:only-of-type {\n",
       "        vertical-align: middle;\n",
       "    }\n",
       "\n",
       "    .dataframe tbody tr th {\n",
       "        vertical-align: top;\n",
       "    }\n",
       "\n",
       "    .dataframe thead th {\n",
       "        text-align: right;\n",
       "    }\n",
       "</style>\n",
       "<table border=\"1\" class=\"dataframe\">\n",
       "  <thead>\n",
       "    <tr style=\"text-align: right;\">\n",
       "      <th></th>\n",
       "      <th>latitude</th>\n",
       "      <th>longitude</th>\n",
       "      <th>adr</th>\n",
       "    </tr>\n",
       "  </thead>\n",
       "  <tbody>\n",
       "    <tr>\n",
       "      <th>2487</th>\n",
       "      <td>44.584879</td>\n",
       "      <td>33.466197</td>\n",
       "      <td>Севастополь, район Гагаринский, Летчики, улица Колобова, 34/1</td>\n",
       "    </tr>\n",
       "    <tr>\n",
       "      <th>101</th>\n",
       "      <td>44.54</td>\n",
       "      <td>33.44</td>\n",
       "      <td>Севастополь,СНТ Муссон, 118</td>\n",
       "    </tr>\n",
       "    <tr>\n",
       "      <th>1836</th>\n",
       "      <td>44.574132</td>\n",
       "      <td>33.464984</td>\n",
       "      <td>Севастополь, улица Александра Маринеско, 1б/2</td>\n",
       "    </tr>\n",
       "  </tbody>\n",
       "</table>\n",
       "</div>"
      ],
      "text/plain": [
       "       latitude  longitude  \\\n",
       "2487  44.584879  33.466197   \n",
       "101       44.54      33.44   \n",
       "1836  44.574132  33.464984   \n",
       "\n",
       "                                                                adr  \n",
       "2487  Севастополь, район Гагаринский, Летчики, улица Колобова, 34/1  \n",
       "101                                     Севастополь,СНТ Муссон, 118  \n",
       "1836                  Севастополь, улица Александра Маринеско, 1б/2  "
      ]
     },
     "execution_count": 20,
     "metadata": {},
     "output_type": "execute_result"
    }
   ],
   "source": [
    "print( len(loc) )\n",
    "loc.sample(3)"
   ]
  },
  {
   "cell_type": "code",
   "execution_count": 21,
   "id": "a90d2398",
   "metadata": {},
   "outputs": [],
   "source": [
    "assert len(loc)>0\n",
    "loc.to_pickle(loc_file_path)"
   ]
  },
  {
   "cell_type": "markdown",
   "id": "25e27e33",
   "metadata": {},
   "source": [
    "## дополняем данные геометкой"
   ]
  },
  {
   "cell_type": "code",
   "execution_count": 22,
   "id": "77ac354e",
   "metadata": {},
   "outputs": [
    {
     "name": "stdout",
     "output_type": "stream",
     "text": [
      "всего записей: 6619\n",
      "записей без геометки: 0\n",
      "<class 'pandas.core.frame.DataFrame'>\n",
      "Int64Index: 6619 entries, 0 to 6618\n",
      "Data columns (total 17 columns):\n",
      " #   Column              Non-Null Count  Dtype         \n",
      "---  ------              --------------  -----         \n",
      " 0   avito_id            6619 non-null   int64         \n",
      " 1   title               6619 non-null   object        \n",
      " 2   price               6619 non-null   int64         \n",
      " 3   obj_name            6619 non-null   object        \n",
      " 4   adr_orig            6619 non-null   object        \n",
      " 5   description         6619 non-null   object        \n",
      " 6   avito_page          6619 non-null   int64         \n",
      " 7   ts                  6619 non-null   datetime64[ns]\n",
      " 8   place               6619 non-null   object        \n",
      " 9   area                6619 non-null   float64       \n",
      " 10  is_IJS              6619 non-null   bool          \n",
      " 11  priceM              6619 non-null   float64       \n",
      " 12  priceMU             6619 non-null   float64       \n",
      " 13  area_size_category  6619 non-null   category      \n",
      " 14  adr                 6619 non-null   object        \n",
      " 15  latitude            6619 non-null   object        \n",
      " 16  longitude           6619 non-null   object        \n",
      "dtypes: bool(1), category(1), datetime64[ns](1), float64(3), int64(3), object(8)\n",
      "memory usage: 840.5+ KB\n"
     ]
    }
   ],
   "source": [
    "# data = data.rename(columns={'adr':'adr_orig','adr_':'adr'})\n",
    "\n",
    "data = data.merge(loc,on=['adr'],how='left')\n",
    "\n",
    "print('всего записей:', len( data) )\n",
    "print('записей без геометки:', len( data[ data['latitude'].isna() ] ) )\n",
    "\n",
    "assert len(data)>0\n",
    "data.to_pickle(result_file_path)\n",
    "\n",
    "data.info()"
   ]
  },
  {
   "cell_type": "code",
   "execution_count": null,
   "id": "64c38175",
   "metadata": {},
   "outputs": [],
   "source": []
  }
 ],
 "metadata": {
  "kernelspec": {
   "display_name": "Python 3 (ipykernel)",
   "language": "python",
   "name": "python3"
  },
  "language_info": {
   "codemirror_mode": {
    "name": "ipython",
    "version": 3
   },
   "file_extension": ".py",
   "mimetype": "text/x-python",
   "name": "python",
   "nbconvert_exporter": "python",
   "pygments_lexer": "ipython3",
   "version": "3.10.6"
  },
  "toc": {
   "base_numbering": 1,
   "nav_menu": {},
   "number_sections": true,
   "sideBar": true,
   "skip_h1_title": false,
   "title_cell": "Table of Contents",
   "title_sidebar": "Contents",
   "toc_cell": false,
   "toc_position": {},
   "toc_section_display": true,
   "toc_window_display": true
  },
  "varInspector": {
   "cols": {
    "lenName": 16,
    "lenType": 16,
    "lenVar": 40
   },
   "kernels_config": {
    "python": {
     "delete_cmd_postfix": "",
     "delete_cmd_prefix": "del ",
     "library": "var_list.py",
     "varRefreshCmd": "print(var_dic_list())"
    },
    "r": {
     "delete_cmd_postfix": ") ",
     "delete_cmd_prefix": "rm(",
     "library": "var_list.r",
     "varRefreshCmd": "cat(var_dic_list()) "
    }
   },
   "types_to_exclude": [
    "module",
    "function",
    "builtin_function_or_method",
    "instance",
    "_Feature"
   ],
   "window_display": false
  }
 },
 "nbformat": 4,
 "nbformat_minor": 5
}
