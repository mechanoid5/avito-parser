{
 "cells": [
  {
   "cell_type": "markdown",
   "id": "7bec28d7",
   "metadata": {},
   "source": [
    "__собираем данные__\n",
    "\n",
    "_Evgeny S. Borisov <parser@mechanoid.su>_"
   ]
  },
  {
   "cell_type": "code",
   "execution_count": null,
   "id": "52c5999f",
   "metadata": {},
   "outputs": [],
   "source": [
    "# !pacman -S firefox firefox-i18n-r  geckodriver\n",
    "# !pip install seleniuam"
   ]
  },
  {
   "cell_type": "code",
   "execution_count": 1,
   "id": "bcea4d8b",
   "metadata": {
    "ExecuteTime": {
     "end_time": "2022-08-26T14:19:06.118492Z",
     "start_time": "2022-08-26T14:13:37.888398Z"
    }
   },
   "outputs": [],
   "source": [
    "# import re\n",
    "import sys\n",
    "import logging\n",
    "from datetime import datetime as dtm\n",
    "from tqdm.notebook import tqdm\n",
    "import pandas as pd"
   ]
  },
  {
   "cell_type": "code",
   "execution_count": 2,
   "id": "caabc8c7",
   "metadata": {
    "ExecuteTime": {
     "end_time": "2022-08-26T14:19:06.118492Z",
     "start_time": "2022-08-26T14:13:37.888398Z"
    }
   },
   "outputs": [],
   "source": [
    "pd.set_option('display.max_colwidth', None)\n",
    "pd.set_option('display.float_format', '{:.2f}'.format)\n",
    "tqdm.pandas()\n",
    "\n",
    "logging.basicConfig(\n",
    "        format=u'[%(levelname)-8s] %(asctime)s | %(message)s',\n",
    "        datefmt='%Y-%m-%d %H:%M:%S',\n",
    "        level=logging.INFO,\n",
    "        # level=logging.DEBUG,\n",
    "        stream=sys.stdout,\n",
    "    )"
   ]
  },
  {
   "cell_type": "markdown",
   "id": "db3fe2be",
   "metadata": {},
   "source": [
    "---"
   ]
  },
  {
   "cell_type": "code",
   "execution_count": 3,
   "id": "d437eab9",
   "metadata": {},
   "outputs": [],
   "source": [
    "# каталог с файлами объявлений\n",
    "avito_raw_data_path = 'data/raw/avito' \n",
    "# cian_raw_data_path = 'data/raw/cian'\n",
    "\n",
    "loc_file_path = 'data/location.pkl' # таблица адресов\n",
    "result_file_path = 'data/data.pkl'"
   ]
  },
  {
   "cell_type": "code",
   "execution_count": 4,
   "id": "31463a1e",
   "metadata": {},
   "outputs": [],
   "source": [
    "# ts = dtm.now().strftime('%Y-%m-%d_%H-%M')\n",
    "# ts"
   ]
  },
  {
   "cell_type": "markdown",
   "id": "98f6384f",
   "metadata": {},
   "source": [
    "## собираем данные авито.ру"
   ]
  },
  {
   "cell_type": "code",
   "execution_count": 5,
   "id": "2673ef1f",
   "metadata": {},
   "outputs": [
    {
     "data": {
      "text/plain": [
       "['data/raw/avito/avito_2022-09-08_16-05_raw.xlsx']"
      ]
     },
     "execution_count": 5,
     "metadata": {},
     "output_type": "execute_result"
    }
   ],
   "source": [
    "import re\n",
    "from os import listdir\n",
    "\n",
    "raw_data_files = sorted([\n",
    "        avito_raw_data_path+'/'+f \n",
    "        for f in listdir(avito_raw_data_path) \n",
    "        if re.match(r'.+\\.xlsx$',f)\n",
    "    ])\n",
    "raw_data_files"
   ]
  },
  {
   "cell_type": "code",
   "execution_count": 6,
   "id": "347629e1",
   "metadata": {},
   "outputs": [
    {
     "name": "stdout",
     "output_type": "stream",
     "text": [
      "1077\n"
     ]
    }
   ],
   "source": [
    "data_avito = pd.concat([\n",
    "        pd\n",
    "        .read_excel(f)\n",
    "        #.dropna()\n",
    "        .drop_duplicates(['avito_id','description'])\n",
    "        .rename(columns={'page':'avito_page'})\n",
    "        .reset_index(drop=True)  \n",
    "        for f in raw_data_files\n",
    "    ]).reset_index(drop=True)\n",
    "\n",
    "print(len(data_avito))"
   ]
  },
  {
   "cell_type": "code",
   "execution_count": 8,
   "id": "2a992037",
   "metadata": {},
   "outputs": [],
   "source": [
    "# data_avito"
   ]
  },
  {
   "cell_type": "code",
   "execution_count": 9,
   "id": "cbce7aaa",
   "metadata": {},
   "outputs": [
    {
     "name": "stdout",
     "output_type": "stream",
     "text": [
      "1077\n"
     ]
    }
   ],
   "source": [
    "from lib.avito import AvitoDataCleanerRealtyLand\n",
    "\n",
    "data_avito = AvitoDataCleanerRealtyLand().transform( data_avito )\n",
    "\n",
    "print(len(data_avito))"
   ]
  },
  {
   "cell_type": "code",
   "execution_count": 11,
   "id": "becaac57",
   "metadata": {},
   "outputs": [
    {
     "data": {
      "text/html": [
       "<div>\n",
       "<style scoped>\n",
       "    .dataframe tbody tr th:only-of-type {\n",
       "        vertical-align: middle;\n",
       "    }\n",
       "\n",
       "    .dataframe tbody tr th {\n",
       "        vertical-align: top;\n",
       "    }\n",
       "\n",
       "    .dataframe thead th {\n",
       "        text-align: right;\n",
       "    }\n",
       "</style>\n",
       "<table border=\"1\" class=\"dataframe\">\n",
       "  <thead>\n",
       "    <tr style=\"text-align: right;\">\n",
       "      <th></th>\n",
       "      <th>avito_id</th>\n",
       "      <th>title</th>\n",
       "      <th>price</th>\n",
       "      <th>obj_name</th>\n",
       "      <th>adr</th>\n",
       "      <th>description</th>\n",
       "      <th>avito_page</th>\n",
       "      <th>ts</th>\n",
       "      <th>area</th>\n",
       "      <th>is_IJS</th>\n",
       "      <th>priceM</th>\n",
       "    </tr>\n",
       "  </thead>\n",
       "  <tbody>\n",
       "    <tr>\n",
       "      <th>819</th>\n",
       "      <td>2463916343</td>\n",
       "      <td>Участок 7 сот. (ИЖС)</td>\n",
       "      <td>5500000</td>\n",
       "      <td></td>\n",
       "      <td>садоводческое товарищество Золотая Балка, Багряная ул.</td>\n",
       "      <td>Достойный участок! Для тех кто уважает себя любит тишину. \\nГород весь виден. \\nВ море корабли видны. \\nТихое красивое место. \\nВода, свет.\\nУчасток в городской черте.\\nС не охотой Продаём.\\nСобственник.\\nРассмотрю часть рассрочки.\\nТорг!</td>\n",
       "      <td>18</td>\n",
       "      <td>2022-09-08 16:04:40.227</td>\n",
       "      <td>7.00</td>\n",
       "      <td>True</td>\n",
       "      <td>5.50</td>\n",
       "    </tr>\n",
       "    <tr>\n",
       "      <th>293</th>\n",
       "      <td>2432001415</td>\n",
       "      <td>Участок 5 сот. (ИЖС)</td>\n",
       "      <td>2110000</td>\n",
       "      <td></td>\n",
       "      <td>Кривой пер.</td>\n",
       "      <td>Участок 5 соток Ижс.\\n\\nУчасток 5 соток (Ижс) расположен в г. Севастополь, Нахимовский район, Кривой переулок. Участок ровный, правильной прямоугольной формы, размерами 25м*20м, без уклона. Подъезд грунтовка. \\n\\nПозвоните нам, чтобы узнать все детали! \\n\\nКомму</td>\n",
       "      <td>7</td>\n",
       "      <td>2022-09-08 16:04:40.227</td>\n",
       "      <td>5.00</td>\n",
       "      <td>True</td>\n",
       "      <td>2.11</td>\n",
       "    </tr>\n",
       "    <tr>\n",
       "      <th>777</th>\n",
       "      <td>2237229190</td>\n",
       "      <td>Участок 6,2 сот. (ИЖС)</td>\n",
       "      <td>7500000</td>\n",
       "      <td></td>\n",
       "      <td>ул. Симонок</td>\n",
       "      <td>Продам участок с зарегистрированным жилым домом. \\n\\nВозможна Ипотека. \\n\\nРайон ул. Симонок. \\n\\nСТ Сосновая Роща. \\n\\nУчасток 6.2 сот. Российские документы. \\n\\nДом 21 кв. М. ( 2 жилые комнаты мебелерованные) зарегистрирован как индивидуальный жилой дом. \\n\\nНа учас</td>\n",
       "      <td>17</td>\n",
       "      <td>2022-09-08 16:04:40.227</td>\n",
       "      <td>6.20</td>\n",
       "      <td>True</td>\n",
       "      <td>7.50</td>\n",
       "    </tr>\n",
       "  </tbody>\n",
       "</table>\n",
       "</div>"
      ],
      "text/plain": [
       "       avito_id                   title    price obj_name  \\\n",
       "819  2463916343    Участок 7 сот. (ИЖС)  5500000            \n",
       "293  2432001415    Участок 5 сот. (ИЖС)  2110000            \n",
       "777  2237229190  Участок 6,2 сот. (ИЖС)  7500000            \n",
       "\n",
       "                                                        adr  \\\n",
       "819  садоводческое товарищество Золотая Балка, Багряная ул.   \n",
       "293                                             Кривой пер.   \n",
       "777                                             ул. Симонок   \n",
       "\n",
       "                                                                                                                                                                                                                                                                      description  \\\n",
       "819                                Достойный участок! Для тех кто уважает себя любит тишину. \\nГород весь виден. \\nВ море корабли видны. \\nТихое красивое место. \\nВода, свет.\\nУчасток в городской черте.\\nС не охотой Продаём.\\nСобственник.\\nРассмотрю часть рассрочки.\\nТорг!   \n",
       "293        Участок 5 соток Ижс.\\n\\nУчасток 5 соток (Ижс) расположен в г. Севастополь, Нахимовский район, Кривой переулок. Участок ровный, правильной прямоугольной формы, размерами 25м*20м, без уклона. Подъезд грунтовка. \\n\\nПозвоните нам, чтобы узнать все детали! \\n\\nКомму   \n",
       "777  Продам участок с зарегистрированным жилым домом. \\n\\nВозможна Ипотека. \\n\\nРайон ул. Симонок. \\n\\nСТ Сосновая Роща. \\n\\nУчасток 6.2 сот. Российские документы. \\n\\nДом 21 кв. М. ( 2 жилые комнаты мебелерованные) зарегистрирован как индивидуальный жилой дом. \\n\\nНа учас   \n",
       "\n",
       "     avito_page                      ts  area  is_IJS  priceM  \n",
       "819          18 2022-09-08 16:04:40.227  7.00    True    5.50  \n",
       "293           7 2022-09-08 16:04:40.227  5.00    True    2.11  \n",
       "777          17 2022-09-08 16:04:40.227  6.20    True    7.50  "
      ]
     },
     "execution_count": 11,
     "metadata": {},
     "output_type": "execute_result"
    }
   ],
   "source": [
    "data_avito.sample(3)"
   ]
  },
  {
   "cell_type": "code",
   "execution_count": 12,
   "id": "ce2869e1",
   "metadata": {},
   "outputs": [],
   "source": [
    "assert len(data_avito)>0"
   ]
  },
  {
   "cell_type": "code",
   "execution_count": 13,
   "id": "12170700",
   "metadata": {},
   "outputs": [
    {
     "name": "stdout",
     "output_type": "stream",
     "text": [
      "<class 'pandas.core.frame.DataFrame'>\n",
      "RangeIndex: 1077 entries, 0 to 1076\n",
      "Data columns (total 11 columns):\n",
      " #   Column       Non-Null Count  Dtype         \n",
      "---  ------       --------------  -----         \n",
      " 0   avito_id     1077 non-null   int64         \n",
      " 1   title        1077 non-null   object        \n",
      " 2   price        1077 non-null   int64         \n",
      " 3   obj_name     1077 non-null   object        \n",
      " 4   adr          1077 non-null   object        \n",
      " 5   description  1077 non-null   object        \n",
      " 6   avito_page   1077 non-null   int64         \n",
      " 7   ts           1077 non-null   datetime64[ns]\n",
      " 8   area         1077 non-null   float64       \n",
      " 9   is_IJS       1077 non-null   bool          \n",
      " 10  priceM       1077 non-null   float64       \n",
      "dtypes: bool(1), datetime64[ns](1), float64(2), int64(3), object(4)\n",
      "memory usage: 85.3+ KB\n"
     ]
    }
   ],
   "source": [
    "data_avito.info(2)"
   ]
  },
  {
   "cell_type": "code",
   "execution_count": null,
   "id": "67c60c3a",
   "metadata": {},
   "outputs": [],
   "source": [
    "## собираем данные циан.ру"
   ]
  },
  {
   "cell_type": "code",
   "execution_count": null,
   "id": "05ea79a3",
   "metadata": {},
   "outputs": [],
   "source": [
    "# import re\n",
    "# from os import listdir\n",
    "\n",
    "# raw_data_files = sorted([\n",
    "#         cian_raw_data_path+'/'+f \n",
    "#         for f in listdir(cian_raw_data_path) \n",
    "#         if re.match(r'.+\\.pkl$',f)\n",
    "#         #if re.match(r'.+\\.xlsx$',f)\n",
    "    \n",
    "#     ])\n",
    "# raw_data_files"
   ]
  },
  {
   "cell_type": "code",
   "execution_count": null,
   "id": "bb5a87f6",
   "metadata": {},
   "outputs": [],
   "source": [
    "# data_cian = pd.concat([\n",
    "#         # pd.read_excel(f)\n",
    "#         pd.read_pickle(f)\n",
    "#          .dropna()\n",
    "#          .drop_duplicates(['LinkArea','Description',])\n",
    "#          .rename(columns={'page':'cian_page'})\n",
    "#          .reset_index(drop=True)  \n",
    "#         for f in raw_data_files\n",
    "#     ]).reset_index(drop=True)"
   ]
  },
  {
   "cell_type": "code",
   "execution_count": null,
   "id": "fe083793",
   "metadata": {},
   "outputs": [],
   "source": [
    "# data_cian.info(2)"
   ]
  },
  {
   "cell_type": "code",
   "execution_count": null,
   "id": "5fb87c58",
   "metadata": {},
   "outputs": [],
   "source": [
    "# swap_title = data_cian['OfferSubtitle'].str.match(r'.*\\d+ м², \\d+/\\d+ эт.*') \n",
    "\n",
    "# data_cian = pd.concat([\n",
    "#         data_cian[ ~swap_title ],\n",
    "#         data_cian[ swap_title ]\n",
    "#             .rename(columns={'OfferTitle':'OfferSubtitle','OfferSubtitle':'OfferTitle'})\n",
    "#     ]).reset_index(drop=True)\n"
   ]
  },
  {
   "cell_type": "code",
   "execution_count": null,
   "id": "33bda6e8",
   "metadata": {},
   "outputs": [],
   "source": [
    "# data_cian"
   ]
  },
  {
   "cell_type": "code",
   "execution_count": null,
   "id": "7a11ac2f",
   "metadata": {},
   "outputs": [],
   "source": [
    "# from lib.cian import CianDataCleaner\n",
    "\n",
    "# data_cian = CianDataCleaner().transform( data_cian )\n",
    "\n",
    "# print(len(data_cian))"
   ]
  },
  {
   "cell_type": "code",
   "execution_count": null,
   "id": "b1df2dba",
   "metadata": {},
   "outputs": [],
   "source": [
    "# assert len(data_cian)>0"
   ]
  },
  {
   "cell_type": "code",
   "execution_count": null,
   "id": "979243e4",
   "metadata": {},
   "outputs": [],
   "source": [
    "# data_cian.info(2)"
   ]
  },
  {
   "cell_type": "code",
   "execution_count": null,
   "id": "5eb571e0",
   "metadata": {},
   "outputs": [],
   "source": [
    "# data_cian\n",
    "# data_cian.query('nrooms==0')\n",
    "# data_cian[ data_cian['title'].str.len()<1 ]\n",
    "# data_cian[ data_cian['obj_name'].str.len()>0 ][['title','obj_name',]] # .to_csv('tmp/cian_title.csv',sep='\\t')|"
   ]
  },
  {
   "cell_type": "markdown",
   "id": "31f9a289",
   "metadata": {},
   "source": [
    "----"
   ]
  },
  {
   "cell_type": "code",
   "execution_count": null,
   "id": "c6e47d9a",
   "metadata": {},
   "outputs": [],
   "source": [
    "# data = pd.concat([data_avito,data_cian]).reset_index(drop=True) \n",
    "# print(len(data))\n",
    "# assert len(data)>0"
   ]
  },
  {
   "cell_type": "markdown",
   "id": "f3ca7967",
   "metadata": {},
   "source": [
    "---"
   ]
  },
  {
   "cell_type": "code",
   "execution_count": 14,
   "id": "2db629e4",
   "metadata": {},
   "outputs": [
    {
     "name": "stdout",
     "output_type": "stream",
     "text": [
      "1077\n"
     ]
    }
   ],
   "source": [
    "data = data_avito.reset_index(drop=True) \n",
    "print(len(data))\n",
    "assert len(data)>0"
   ]
  },
  {
   "cell_type": "markdown",
   "id": "2903ab86",
   "metadata": {},
   "source": [
    "### обновляем таблицу адресов"
   ]
  },
  {
   "cell_type": "code",
   "execution_count": 16,
   "id": "7d191d0d",
   "metadata": {},
   "outputs": [
    {
     "name": "stdout",
     "output_type": "stream",
     "text": [
      "[INFO    ] 2022-09-09 13:24:16 | LocationUpdater: 0 addresses in location table\n",
      "[INFO    ] 2022-09-09 13:24:16 | LocationUpdater: 770 addresses total\n",
      "[INFO    ] 2022-09-09 13:24:16 | LocationUpdater: 0 addresses defined\n",
      "[INFO    ] 2022-09-09 13:24:16 | LocationUpdater: 770 addresses undefined\n"
     ]
    },
    {
     "data": {
      "application/vnd.jupyter.widget-view+json": {
       "model_id": "b81283f450d24227a84bfb46004240f7",
       "version_major": 2,
       "version_minor": 0
      },
      "text/plain": [
       "  0%|          | 0/770 [00:00<?, ?it/s]"
      ]
     },
     "metadata": {},
     "output_type": "display_data"
    },
    {
     "name": "stdout",
     "output_type": "stream",
     "text": [
      "[INFO    ] 2022-09-09 13:34:49 | LocationUpdater: 405 new addresses found\n"
     ]
    }
   ],
   "source": [
    "from lib.locator import LocationUpdater\n",
    "from lib.locator import AddressTransformerSev\n",
    "\n",
    "loc = LocationUpdater(\n",
    "        address_transformer=AddressTransformerSev(),\n",
    "    ).transform(\n",
    "        adr=data['adr'],\n",
    "        loc=pd.read_pickle(loc_file_path),\n",
    "        show_pbar=True,\n",
    "    )"
   ]
  },
  {
   "cell_type": "code",
   "execution_count": 17,
   "id": "19741bb7",
   "metadata": {},
   "outputs": [
    {
     "data": {
      "text/html": [
       "<div>\n",
       "<style scoped>\n",
       "    .dataframe tbody tr th:only-of-type {\n",
       "        vertical-align: middle;\n",
       "    }\n",
       "\n",
       "    .dataframe tbody tr th {\n",
       "        vertical-align: top;\n",
       "    }\n",
       "\n",
       "    .dataframe thead th {\n",
       "        text-align: right;\n",
       "    }\n",
       "</style>\n",
       "<table border=\"1\" class=\"dataframe\">\n",
       "  <thead>\n",
       "    <tr style=\"text-align: right;\">\n",
       "      <th></th>\n",
       "      <th>latitude</th>\n",
       "      <th>longitude</th>\n",
       "      <th>truncated</th>\n",
       "      <th>adr</th>\n",
       "    </tr>\n",
       "  </thead>\n",
       "  <tbody>\n",
       "    <tr>\n",
       "      <th>159</th>\n",
       "      <td>44.57</td>\n",
       "      <td>33.47</td>\n",
       "      <td>False</td>\n",
       "      <td>67К-9</td>\n",
       "    </tr>\n",
       "    <tr>\n",
       "      <th>178</th>\n",
       "      <td>44.55</td>\n",
       "      <td>33.53</td>\n",
       "      <td>False</td>\n",
       "      <td>Городское ш., 7А</td>\n",
       "    </tr>\n",
       "    <tr>\n",
       "      <th>259</th>\n",
       "      <td>44.51</td>\n",
       "      <td>33.83</td>\n",
       "      <td>False</td>\n",
       "      <td>Нагорная ул., 20</td>\n",
       "    </tr>\n",
       "  </tbody>\n",
       "</table>\n",
       "</div>"
      ],
      "text/plain": [
       "     latitude  longitude truncated               adr\n",
       "159     44.57      33.47     False             67К-9\n",
       "178     44.55      33.53     False  Городское ш., 7А\n",
       "259     44.51      33.83     False  Нагорная ул., 20"
      ]
     },
     "execution_count": 17,
     "metadata": {},
     "output_type": "execute_result"
    }
   ],
   "source": [
    "loc.sample(3)"
   ]
  },
  {
   "cell_type": "code",
   "execution_count": 18,
   "id": "a90d2398",
   "metadata": {},
   "outputs": [],
   "source": [
    "assert len(loc)>0\n",
    "loc.to_pickle(loc_file_path)"
   ]
  },
  {
   "cell_type": "markdown",
   "id": "30dbd6a6",
   "metadata": {},
   "source": [
    "### дополняем данные геометкой"
   ]
  },
  {
   "cell_type": "code",
   "execution_count": 19,
   "id": "06470644",
   "metadata": {},
   "outputs": [
    {
     "name": "stdout",
     "output_type": "stream",
     "text": [
      "всего записей: 1077\n",
      "записей без геометки: 492\n"
     ]
    }
   ],
   "source": [
    "data = data.merge(loc[['adr','latitude','longitude',]],on=['adr'],how='left')\n",
    "\n",
    "print('всего записей:', len( data) )\n",
    "print('записей без геометки:', len( data[ data['latitude'].isnull() ] ) )"
   ]
  },
  {
   "cell_type": "code",
   "execution_count": 20,
   "id": "b3161e64",
   "metadata": {},
   "outputs": [],
   "source": [
    "assert len(data)>0\n",
    "data.to_pickle(result_file_path)"
   ]
  },
  {
   "cell_type": "code",
   "execution_count": 21,
   "id": "799e47c2",
   "metadata": {},
   "outputs": [
    {
     "name": "stdout",
     "output_type": "stream",
     "text": [
      "<class 'pandas.core.frame.DataFrame'>\n",
      "Int64Index: 1077 entries, 0 to 1076\n",
      "Data columns (total 13 columns):\n",
      " #   Column       Non-Null Count  Dtype         \n",
      "---  ------       --------------  -----         \n",
      " 0   avito_id     1077 non-null   int64         \n",
      " 1   title        1077 non-null   object        \n",
      " 2   price        1077 non-null   int64         \n",
      " 3   obj_name     1077 non-null   object        \n",
      " 4   adr          1077 non-null   object        \n",
      " 5   description  1077 non-null   object        \n",
      " 6   avito_page   1077 non-null   int64         \n",
      " 7   ts           1077 non-null   datetime64[ns]\n",
      " 8   area         1077 non-null   float64       \n",
      " 9   is_IJS       1077 non-null   bool          \n",
      " 10  priceM       1077 non-null   float64       \n",
      " 11  latitude     585 non-null    float64       \n",
      " 12  longitude    585 non-null    float64       \n",
      "dtypes: bool(1), datetime64[ns](1), float64(4), int64(3), object(4)\n",
      "memory usage: 110.4+ KB\n"
     ]
    }
   ],
   "source": [
    "data.info()"
   ]
  },
  {
   "cell_type": "code",
   "execution_count": null,
   "id": "13de0b35",
   "metadata": {},
   "outputs": [],
   "source": [
    "# for f in raw_data_files:\n",
    "#     ts = dtm.strptime( re.sub(r'.*/avito_','',f), '%Y-%m-%d_%H-%M_raw.xlsx')\n",
    "#     df = pd.read_excel(f)\n",
    "#     df['ts'] = ts\n",
    "#     df.to_excel(f,index=False)\n",
    "#     print(ts)"
   ]
  },
  {
   "cell_type": "code",
   "execution_count": null,
   "id": "0e318218",
   "metadata": {},
   "outputs": [],
   "source": [
    "# class AvitoDataCleanerRealtyLand:\n",
    "    \n",
    "#     def transform(self,data):\n",
    "#         df = data.copy()\n",
    "        \n",
    "#         symb_lat = 'yexapocEXAPOCTHKBM'\n",
    "#         symb_rus = 'уехаросЕХАРОСТНКВМ'\n",
    "#         l2r = str.maketrans(symb_lat,symb_rus) \n",
    "        \n",
    "#         df['title'] = df['title'].str.extract( r'«(.*)»',expand=False).apply(lambda s: s.translate(l2r) )\n",
    "        \n",
    "#         area = df['title'].str.extract( r'(\\d+,?\\d*)\\s*(сот|га)',expand=True)\n",
    "#         area.columns=['area','area_unit']\n",
    "#         df = pd.concat([df,area],axis=1)\n",
    "                       \n",
    "#         df['is_IJS'] = df['title'].str.lower().str.match(r'.*ижс.*')\n",
    "#         df['obj_name'] = df['obj_name'].fillna('')\n",
    "#         df['price'] = df['price'].astype(int)\n",
    "#         df['priceM'] = df['price']/1e6\n",
    "        \n",
    "#         df['area'] = df['area'].fillna('0.').str.replace(',','.').astype(float)\n",
    "        \n",
    "#         df.loc[ df['area_unit']=='га', 'area' ] = df.query('area_unit==\"га\"')['area']*100.\n",
    "#         df = df.drop(columns=['area_unit'])\n",
    "        \n",
    "#         return df"
   ]
  },
  {
   "cell_type": "code",
   "execution_count": null,
   "id": "815aa760",
   "metadata": {},
   "outputs": [],
   "source": [
    "# data_avito['title'].str.extract( r'(\\d+,?\\d*)\\s*(сот|га)',expand=True) #, columns=['a','b'])\n",
    "        "
   ]
  },
  {
   "cell_type": "code",
   "execution_count": null,
   "id": "61a0a534",
   "metadata": {},
   "outputs": [],
   "source": [
    "# # import re\n",
    "# # s='Участок 9,7 сот. (ИЖС)'\n",
    "# s='Участок 7,8 сот. (ИЖС)'\n",
    "# s='Участок 7,8 га. (ИЖС)'\n",
    "\n",
    "# s='Участок 7,8 м. (ИЖС)'\n",
    "\n",
    "# # s='Участок 5 сот. (ИЖС)'\n",
    "\n",
    "# re.search( r'(\\d+,?\\d*)\\s*(сот|га)',s) #.group(1)\n",
    "\n",
    "# # # len(s)"
   ]
  }
 ],
 "metadata": {
  "kernelspec": {
   "display_name": "Python 3 (ipykernel)",
   "language": "python",
   "name": "python3"
  },
  "language_info": {
   "codemirror_mode": {
    "name": "ipython",
    "version": 3
   },
   "file_extension": ".py",
   "mimetype": "text/x-python",
   "name": "python",
   "nbconvert_exporter": "python",
   "pygments_lexer": "ipython3",
   "version": "3.10.6"
  },
  "toc": {
   "base_numbering": 1,
   "nav_menu": {},
   "number_sections": true,
   "sideBar": true,
   "skip_h1_title": false,
   "title_cell": "Table of Contents",
   "title_sidebar": "Contents",
   "toc_cell": false,
   "toc_position": {},
   "toc_section_display": true,
   "toc_window_display": false
  },
  "varInspector": {
   "cols": {
    "lenName": 16,
    "lenType": 16,
    "lenVar": 40
   },
   "kernels_config": {
    "python": {
     "delete_cmd_postfix": "",
     "delete_cmd_prefix": "del ",
     "library": "var_list.py",
     "varRefreshCmd": "print(var_dic_list())"
    },
    "r": {
     "delete_cmd_postfix": ") ",
     "delete_cmd_prefix": "rm(",
     "library": "var_list.r",
     "varRefreshCmd": "cat(var_dic_list()) "
    }
   },
   "types_to_exclude": [
    "module",
    "function",
    "builtin_function_or_method",
    "instance",
    "_Feature"
   ],
   "window_display": false
  }
 },
 "nbformat": 4,
 "nbformat_minor": 5
}
