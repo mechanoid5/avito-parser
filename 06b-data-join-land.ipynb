{
 "cells": [
  {
   "cell_type": "markdown",
   "id": "7bec28d7",
   "metadata": {},
   "source": [
    "__собираем предложения о земельных участках__\n",
    "\n",
    "_Evgeny S. Borisov <parser@mechanoid.su>_"
   ]
  },
  {
   "cell_type": "code",
   "execution_count": 1,
   "id": "52c5999f",
   "metadata": {},
   "outputs": [],
   "source": [
    "# !pacman -S firefox firefox-i18n-r  geckodriver\n",
    "# !pip install seleniuam"
   ]
  },
  {
   "cell_type": "code",
   "execution_count": 2,
   "id": "bcea4d8b",
   "metadata": {
    "ExecuteTime": {
     "end_time": "2022-08-26T14:19:06.118492Z",
     "start_time": "2022-08-26T14:13:37.888398Z"
    }
   },
   "outputs": [],
   "source": [
    "# import re\n",
    "import sys\n",
    "import logging\n",
    "from datetime import datetime as dtm\n",
    "from tqdm.notebook import tqdm\n",
    "import pandas as pd"
   ]
  },
  {
   "cell_type": "code",
   "execution_count": 3,
   "id": "caabc8c7",
   "metadata": {
    "ExecuteTime": {
     "end_time": "2022-08-26T14:19:06.118492Z",
     "start_time": "2022-08-26T14:13:37.888398Z"
    }
   },
   "outputs": [],
   "source": [
    "pd.set_option('display.max_colwidth', None)\n",
    "pd.set_option('display.float_format', '{:.2f}'.format)\n",
    "tqdm.pandas()\n",
    "\n",
    "logging.basicConfig(\n",
    "        format=u'[%(levelname)-8s] %(asctime)s | %(message)s',\n",
    "        datefmt='%Y-%m-%d %H:%M:%S',\n",
    "        level=logging.INFO,\n",
    "        # level=logging.DEBUG,\n",
    "        stream=sys.stdout,\n",
    "    )"
   ]
  },
  {
   "cell_type": "markdown",
   "id": "db3fe2be",
   "metadata": {},
   "source": [
    "---"
   ]
  },
  {
   "cell_type": "code",
   "execution_count": 4,
   "id": "d437eab9",
   "metadata": {},
   "outputs": [],
   "source": [
    "# каталог с файлами объявлений\n",
    "avito_raw_data_path = 'data/raw/land/avito' \n",
    "# cian_raw_data_path = 'data/raw/cian'\n",
    "result_file_path = 'data/data_land.pkl'"
   ]
  },
  {
   "cell_type": "code",
   "execution_count": 5,
   "id": "31463a1e",
   "metadata": {},
   "outputs": [],
   "source": [
    "# ts = dtm.now().strftime('%Y-%m-%d_%H-%M')\n",
    "# ts"
   ]
  },
  {
   "cell_type": "markdown",
   "id": "98f6384f",
   "metadata": {},
   "source": [
    "## собираем данные авито.ру"
   ]
  },
  {
   "cell_type": "code",
   "execution_count": 6,
   "id": "2673ef1f",
   "metadata": {},
   "outputs": [
    {
     "data": {
      "text/plain": [
       "['data/raw/land/avito/avito_2022-09-08_16-05_raw.xlsx',\n",
       " 'data/raw/land/avito/avito_2022-09-12_13-51_raw.xlsx',\n",
       " 'data/raw/land/avito/avito_2022-09-13_13-56_raw.xlsx',\n",
       " 'data/raw/land/avito/avito_2022-09-15_10-31_raw.xlsx',\n",
       " 'data/raw/land/avito/avito_2022-09-16_15-10_raw.xlsx',\n",
       " 'data/raw/land/avito/avito_2022-09-19_12-39_raw.xlsx',\n",
       " 'data/raw/land/avito/avito_2022-09-22_09-57_raw.xlsx',\n",
       " 'data/raw/land/avito/avito_2022-09-26_11-22_raw.xlsx',\n",
       " 'data/raw/land/avito/avito_2022-10-08_20-38_raw.xlsx',\n",
       " 'data/raw/land/avito/avito_2022-10-14_15-54_raw.xlsx',\n",
       " 'data/raw/land/avito/avito_2022-11-01_13-58_raw.xlsx',\n",
       " 'data/raw/land/avito/avito_2022-11-04_17-12_raw.xlsx',\n",
       " 'data/raw/land/avito/avito_2022-11-07_10-46_raw.xlsx',\n",
       " 'data/raw/land/avito/avito_2022-11-15_13-16_raw.xlsx',\n",
       " 'data/raw/land/avito/avito_2022-11-28_14-58_raw.xlsx',\n",
       " 'data/raw/land/avito/avito_2023-01-10_11-27_raw.xlsx',\n",
       " 'data/raw/land/avito/avito_2023-01-27_16-42_raw.xlsx',\n",
       " 'data/raw/land/avito/avito_2023-03-09_12-15_raw.xlsx',\n",
       " 'data/raw/land/avito/avito_2023-03-29_15-34_raw.xlsx',\n",
       " 'data/raw/land/avito/avito_2023-03-29_16-49_raw.xlsx']"
      ]
     },
     "execution_count": 6,
     "metadata": {},
     "output_type": "execute_result"
    }
   ],
   "source": [
    "import re\n",
    "from os import listdir\n",
    "\n",
    "raw_data_files = sorted([\n",
    "        avito_raw_data_path+'/'+f \n",
    "        for f in listdir(avito_raw_data_path) \n",
    "        if re.match(r'.+\\.xlsx$',f)\n",
    "    ])\n",
    "raw_data_files"
   ]
  },
  {
   "cell_type": "code",
   "execution_count": 7,
   "id": "adb5b19b",
   "metadata": {},
   "outputs": [],
   "source": [
    "# for f in raw_data_files:\n",
    "#     df = pd.read_excel(f)\n",
    "#     df['place']='sevastopol'\n",
    "#     df.to_excel(f,index=False)\n",
    "#     print(f)"
   ]
  },
  {
   "cell_type": "code",
   "execution_count": 8,
   "id": "347629e1",
   "metadata": {},
   "outputs": [
    {
     "name": "stdout",
     "output_type": "stream",
     "text": [
      "20944\n"
     ]
    }
   ],
   "source": [
    "data_avito = pd.concat([\n",
    "        pd\n",
    "        .read_excel(f)\n",
    "        #.dropna()\n",
    "        .drop_duplicates(['avito_id','description'])\n",
    "        .rename(columns={'page':'avito_page'})\n",
    "        .reset_index(drop=True)  \n",
    "        for f in raw_data_files\n",
    "    ]).reset_index(drop=True)\n",
    "\n",
    "print(len(data_avito))"
   ]
  },
  {
   "cell_type": "code",
   "execution_count": 9,
   "id": "2a992037",
   "metadata": {},
   "outputs": [],
   "source": [
    "# data_avito"
   ]
  },
  {
   "cell_type": "code",
   "execution_count": 10,
   "id": "cbce7aaa",
   "metadata": {},
   "outputs": [
    {
     "name": "stdout",
     "output_type": "stream",
     "text": [
      "20944\n"
     ]
    }
   ],
   "source": [
    "from lib.avito import AvitoDataCleanerRealtyLand\n",
    "\n",
    "data_avito = AvitoDataCleanerRealtyLand().transform( data_avito )\n",
    "\n",
    "print(len(data_avito))"
   ]
  },
  {
   "cell_type": "code",
   "execution_count": 11,
   "id": "becaac57",
   "metadata": {},
   "outputs": [
    {
     "data": {
      "text/html": [
       "<div>\n",
       "<style scoped>\n",
       "    .dataframe tbody tr th:only-of-type {\n",
       "        vertical-align: middle;\n",
       "    }\n",
       "\n",
       "    .dataframe tbody tr th {\n",
       "        vertical-align: top;\n",
       "    }\n",
       "\n",
       "    .dataframe thead th {\n",
       "        text-align: right;\n",
       "    }\n",
       "</style>\n",
       "<table border=\"1\" class=\"dataframe\">\n",
       "  <thead>\n",
       "    <tr style=\"text-align: right;\">\n",
       "      <th></th>\n",
       "      <th>avito_id</th>\n",
       "      <th>title</th>\n",
       "      <th>price</th>\n",
       "      <th>obj_name</th>\n",
       "      <th>adr</th>\n",
       "      <th>description</th>\n",
       "      <th>avito_page</th>\n",
       "      <th>ts</th>\n",
       "      <th>place</th>\n",
       "      <th>area</th>\n",
       "      <th>is_IJS</th>\n",
       "      <th>priceM</th>\n",
       "      <th>priceMU</th>\n",
       "      <th>area_size_category</th>\n",
       "    </tr>\n",
       "  </thead>\n",
       "  <tbody>\n",
       "    <tr>\n",
       "      <th>7130</th>\n",
       "      <td>2273750292</td>\n",
       "      <td>Участок 5,5 сот. (ИЖС)</td>\n",
       "      <td>5000000</td>\n",
       "      <td></td>\n",
       "      <td>Балаклава, Башенная ул., 16</td>\n",
       "      <td>Продаётся видовой земельный участок в Балаклавской бухте. \\nКадастровый номер 91:01:008001:373. \\nРоссийские документы. Полный кадастровый учёт, межевание и вынос границ на местность. Имеются все ситуационные планы и геодезия. \\nРасположен на расстоянии 200 м</td>\n",
       "      <td>11</td>\n",
       "      <td>2022-09-22 09:57:15.623</td>\n",
       "      <td>sevastopol</td>\n",
       "      <td>5.50</td>\n",
       "      <td>True</td>\n",
       "      <td>5.00</td>\n",
       "      <td>0.91</td>\n",
       "      <td>4-8</td>\n",
       "    </tr>\n",
       "    <tr>\n",
       "      <th>19792</th>\n",
       "      <td>2823193426</td>\n",
       "      <td>Участок 27 сот. (ИЖС)</td>\n",
       "      <td>10000000</td>\n",
       "      <td></td>\n",
       "      <td>NaN</td>\n",
       "      <td>Продам участок 27 соток, г Севастополь, Балаклавский р-н, село Гончарное, улца Заповедная. Категория — земли населенных пунктов; вид разрешенного использования — Личное крестьянское хозяйство. На землях Лкх можно построить и зарегистрировать жилой дом. На</td>\n",
       "      <td>19</td>\n",
       "      <td>2023-03-29 15:34:45.561</td>\n",
       "      <td>sevastopol</td>\n",
       "      <td>27.00</td>\n",
       "      <td>True</td>\n",
       "      <td>10.00</td>\n",
       "      <td>0.37</td>\n",
       "      <td>20+</td>\n",
       "    </tr>\n",
       "    <tr>\n",
       "      <th>17869</th>\n",
       "      <td>2724519708</td>\n",
       "      <td>Участок 4 сот. (ИЖС)</td>\n",
       "      <td>3300000</td>\n",
       "      <td></td>\n",
       "      <td>NaN</td>\n",
       "      <td>Продается участок правильной формы. С участка открывается шикарный вид на горы и виноградники Золотой балки. Участок имеет леккий уклон. На участке городской свет и вода. Хорошие подъезные пути к участку.</td>\n",
       "      <td>19</td>\n",
       "      <td>2023-01-27 16:42:18.173</td>\n",
       "      <td>sevastopol</td>\n",
       "      <td>4.00</td>\n",
       "      <td>True</td>\n",
       "      <td>3.30</td>\n",
       "      <td>0.82</td>\n",
       "      <td>2-4</td>\n",
       "    </tr>\n",
       "  </tbody>\n",
       "</table>\n",
       "</div>"
      ],
      "text/plain": [
       "         avito_id                   title     price obj_name  \\\n",
       "7130   2273750292  Участок 5,5 сот. (ИЖС)   5000000            \n",
       "19792  2823193426   Участок 27 сот. (ИЖС)  10000000            \n",
       "17869  2724519708    Участок 4 сот. (ИЖС)   3300000            \n",
       "\n",
       "                               adr  \\\n",
       "7130   Балаклава, Башенная ул., 16   \n",
       "19792                          NaN   \n",
       "17869                          NaN   \n",
       "\n",
       "                                                                                                                                                                                                                                                               description  \\\n",
       "7130   Продаётся видовой земельный участок в Балаклавской бухте. \\nКадастровый номер 91:01:008001:373. \\nРоссийские документы. Полный кадастровый учёт, межевание и вынос границ на местность. Имеются все ситуационные планы и геодезия. \\nРасположен на расстоянии 200 м   \n",
       "19792     Продам участок 27 соток, г Севастополь, Балаклавский р-н, село Гончарное, улца Заповедная. Категория — земли населенных пунктов; вид разрешенного использования — Личное крестьянское хозяйство. На землях Лкх можно построить и зарегистрировать жилой дом. На    \n",
       "17869                                                         Продается участок правильной формы. С участка открывается шикарный вид на горы и виноградники Золотой балки. Участок имеет леккий уклон. На участке городской свет и вода. Хорошие подъезные пути к участку.   \n",
       "\n",
       "       avito_page                      ts       place  area  is_IJS  priceM  \\\n",
       "7130           11 2022-09-22 09:57:15.623  sevastopol  5.50    True    5.00   \n",
       "19792          19 2023-03-29 15:34:45.561  sevastopol 27.00    True   10.00   \n",
       "17869          19 2023-01-27 16:42:18.173  sevastopol  4.00    True    3.30   \n",
       "\n",
       "       priceMU area_size_category  \n",
       "7130      0.91                4-8  \n",
       "19792     0.37                20+  \n",
       "17869     0.82                2-4  "
      ]
     },
     "execution_count": 11,
     "metadata": {},
     "output_type": "execute_result"
    }
   ],
   "source": [
    "data_avito.sample(3)"
   ]
  },
  {
   "cell_type": "code",
   "execution_count": 12,
   "id": "ce2869e1",
   "metadata": {},
   "outputs": [],
   "source": [
    "assert len(data_avito)>0"
   ]
  },
  {
   "cell_type": "code",
   "execution_count": 13,
   "id": "12170700",
   "metadata": {},
   "outputs": [
    {
     "name": "stdout",
     "output_type": "stream",
     "text": [
      "<class 'pandas.core.frame.DataFrame'>\n",
      "RangeIndex: 20944 entries, 0 to 20943\n",
      "Data columns (total 14 columns):\n",
      " #   Column              Non-Null Count  Dtype         \n",
      "---  ------              --------------  -----         \n",
      " 0   avito_id            20944 non-null  int64         \n",
      " 1   title               20944 non-null  object        \n",
      " 2   price               20944 non-null  int64         \n",
      " 3   obj_name            20944 non-null  object        \n",
      " 4   adr                 18058 non-null  object        \n",
      " 5   description         20944 non-null  object        \n",
      " 6   avito_page          20944 non-null  int64         \n",
      " 7   ts                  20944 non-null  datetime64[ns]\n",
      " 8   place               20944 non-null  object        \n",
      " 9   area                20944 non-null  float64       \n",
      " 10  is_IJS              20944 non-null  bool          \n",
      " 11  priceM              20944 non-null  float64       \n",
      " 12  priceMU             20944 non-null  float64       \n",
      " 13  area_size_category  20934 non-null  category      \n",
      "dtypes: bool(1), category(1), datetime64[ns](1), float64(3), int64(3), object(5)\n",
      "memory usage: 2.0+ MB\n"
     ]
    }
   ],
   "source": [
    "data_avito.info()"
   ]
  },
  {
   "cell_type": "markdown",
   "id": "f3ca7967",
   "metadata": {},
   "source": [
    "---"
   ]
  },
  {
   "cell_type": "code",
   "execution_count": 14,
   "id": "dac90e1f",
   "metadata": {},
   "outputs": [],
   "source": [
    "data_avito['url'] = 'https://avito.ru/' + data_avito['avito_id'].astype(int).astype(str)\n",
    "data_avito = data_avito.drop(columns=['avito_id'])\n",
    "# data_cian = data_cian.rename(columns={'cian_url':'url'})"
   ]
  },
  {
   "cell_type": "code",
   "execution_count": 15,
   "id": "2db629e4",
   "metadata": {},
   "outputs": [
    {
     "name": "stdout",
     "output_type": "stream",
     "text": [
      "20944\n"
     ]
    }
   ],
   "source": [
    "data = data_avito.reset_index(drop=True) \n",
    "print(len(data))\n",
    "assert len(data)>0"
   ]
  },
  {
   "cell_type": "markdown",
   "id": "2903ab86",
   "metadata": {},
   "source": [
    "## обновляем таблицу адресов"
   ]
  },
  {
   "cell_type": "code",
   "execution_count": 16,
   "id": "999ddbae",
   "metadata": {},
   "outputs": [],
   "source": [
    "# data_ = data.sample(15).reset_index(drop=True)\n",
    "# data_[['adr']]"
   ]
  },
  {
   "cell_type": "code",
   "execution_count": 17,
   "id": "e849be88",
   "metadata": {},
   "outputs": [],
   "source": [
    "places = { \n",
    "# поле 'place' и название города\n",
    "'bahchisaray': 'Бахчисарай,',\n",
    "      'sudak': 'Судак,',\n",
    "  'sevastopol': 'Севастополь,',\n",
    "}\n",
    "\n",
    "def norm_place(d,places=places):\n",
    "    if not d['place'] in places: return d['adr_']\n",
    "    p = places[ d['place'] ]\n",
    "    return d['adr_'] if d['adr_'].find(p)>-1 else p+d['adr_']"
   ]
  },
  {
   "cell_type": "code",
   "execution_count": 18,
   "id": "34af8560",
   "metadata": {},
   "outputs": [],
   "source": [
    "# data[['adr']].drop_duplicates().sort_values('adr')\n",
    "# .info()"
   ]
  },
  {
   "cell_type": "code",
   "execution_count": 19,
   "id": "beb335f3",
   "metadata": {},
   "outputs": [
    {
     "data": {
      "application/vnd.jupyter.widget-view+json": {
       "model_id": "a7c6405b50c047b3a8e5dee4c94fdb5c",
       "version_major": 2,
       "version_minor": 0
      },
      "text/plain": [
       "  0%|          | 0/20944 [00:00<?, ?it/s]"
      ]
     },
     "metadata": {},
     "output_type": "display_data"
    },
    {
     "data": {
      "application/vnd.jupyter.widget-view+json": {
       "model_id": "e7344c017b4045469b6f40b3b533e4c0",
       "version_major": 2,
       "version_minor": 0
      },
      "text/plain": [
       "  0%|          | 0/20944 [00:00<?, ?it/s]"
      ]
     },
     "metadata": {},
     "output_type": "display_data"
    }
   ],
   "source": [
    "from lib.locator import AddressTransformer\n",
    "\n",
    "atr = AddressTransformer()\n",
    "data['adr_'] = data['adr'].fillna('').progress_apply(atr.transform)\n",
    "data['adr_'] = data[['adr_','place']].progress_apply(norm_place,axis=1)\n",
    "data = data.rename(columns={'adr':'adr_orig','adr_':'adr'})"
   ]
  },
  {
   "cell_type": "code",
   "execution_count": 20,
   "id": "f773346b",
   "metadata": {},
   "outputs": [
    {
     "data": {
      "text/html": [
       "<div>\n",
       "<style scoped>\n",
       "    .dataframe tbody tr th:only-of-type {\n",
       "        vertical-align: middle;\n",
       "    }\n",
       "\n",
       "    .dataframe tbody tr th {\n",
       "        vertical-align: top;\n",
       "    }\n",
       "\n",
       "    .dataframe thead th {\n",
       "        text-align: right;\n",
       "    }\n",
       "</style>\n",
       "<table border=\"1\" class=\"dataframe\">\n",
       "  <thead>\n",
       "    <tr style=\"text-align: right;\">\n",
       "      <th></th>\n",
       "      <th>adr_orig</th>\n",
       "      <th>adr</th>\n",
       "    </tr>\n",
       "  </thead>\n",
       "  <tbody>\n",
       "    <tr>\n",
       "      <th>293</th>\n",
       "      <td>Кривой пер.</td>\n",
       "      <td>Севастополь,Кривой пер.</td>\n",
       "    </tr>\n",
       "    <tr>\n",
       "      <th>18635</th>\n",
       "      <td>NaN</td>\n",
       "      <td>Севастополь,</td>\n",
       "    </tr>\n",
       "    <tr>\n",
       "      <th>11408</th>\n",
       "      <td>Монастырское ш., 116Г/1А</td>\n",
       "      <td>Севастополь,Монастырское ш., 116Г/1А</td>\n",
       "    </tr>\n",
       "    <tr>\n",
       "      <th>13940</th>\n",
       "      <td>с. Вишнёвое, ул. Дружбы, 44</td>\n",
       "      <td>Севастополь,с. Вишнёвое, ул. Дружбы, 44</td>\n",
       "    </tr>\n",
       "    <tr>\n",
       "      <th>8062</th>\n",
       "      <td>Муссонная ул.</td>\n",
       "      <td>Севастополь,Муссонная ул.</td>\n",
       "    </tr>\n",
       "    <tr>\n",
       "      <th>7563</th>\n",
       "      <td>ул. Александра Земкова, 18</td>\n",
       "      <td>Севастополь,ул. Александра Земкова, 18</td>\n",
       "    </tr>\n",
       "    <tr>\n",
       "      <th>1717</th>\n",
       "      <td>Пасечный пр., 5</td>\n",
       "      <td>Севастополь,Пасечный пр., 5</td>\n",
       "    </tr>\n",
       "    <tr>\n",
       "      <th>17591</th>\n",
       "      <td>NaN</td>\n",
       "      <td>Севастополь,</td>\n",
       "    </tr>\n",
       "    <tr>\n",
       "      <th>19907</th>\n",
       "      <td>NaN</td>\n",
       "      <td>Севастополь,</td>\n",
       "    </tr>\n",
       "    <tr>\n",
       "      <th>16482</th>\n",
       "      <td>Предместная ул.</td>\n",
       "      <td>Севастополь,Предместная ул.</td>\n",
       "    </tr>\n",
       "  </tbody>\n",
       "</table>\n",
       "</div>"
      ],
      "text/plain": [
       "                          adr_orig                                      adr\n",
       "293                    Кривой пер.                  Севастополь,Кривой пер.\n",
       "18635                          NaN                             Севастополь,\n",
       "11408     Монастырское ш., 116Г/1А     Севастополь,Монастырское ш., 116Г/1А\n",
       "13940  с. Вишнёвое, ул. Дружбы, 44  Севастополь,с. Вишнёвое, ул. Дружбы, 44\n",
       "8062                 Муссонная ул.                Севастополь,Муссонная ул.\n",
       "7563    ул. Александра Земкова, 18   Севастополь,ул. Александра Земкова, 18\n",
       "1717               Пасечный пр., 5              Севастополь,Пасечный пр., 5\n",
       "17591                          NaN                             Севастополь,\n",
       "19907                          NaN                             Севастополь,\n",
       "16482              Предместная ул.              Севастополь,Предместная ул."
      ]
     },
     "execution_count": 20,
     "metadata": {},
     "output_type": "execute_result"
    }
   ],
   "source": [
    "data[['adr_orig','adr']].sample(10)"
   ]
  },
  {
   "cell_type": "code",
   "execution_count": 21,
   "id": "86a30244",
   "metadata": {},
   "outputs": [
    {
     "name": "stdout",
     "output_type": "stream",
     "text": [
      "[INFO    ] 2023-03-29 16:52:31 | LocationUpdater: 9783 addresses in index\n",
      "[INFO    ] 2023-03-29 16:52:31 | LocationUpdater: 10012 addresses total\n",
      "[INFO    ] 2023-03-29 16:52:31 | LocationUpdater: 9783 addresses defined\n",
      "[INFO    ] 2023-03-29 16:52:31 | LocationUpdater: 229 addresses undefined\n"
     ]
    },
    {
     "data": {
      "application/vnd.jupyter.widget-view+json": {
       "model_id": "fee79bed82b344f9bf2145e12f294fdd",
       "version_major": 2,
       "version_minor": 0
      },
      "text/plain": [
       "  0%|          | 0/229 [00:00<?, ?it/s]"
      ]
     },
     "metadata": {},
     "output_type": "display_data"
    },
    {
     "name": "stdout",
     "output_type": "stream",
     "text": [
      "[INFO    ] 2023-03-29 16:54:05 | LocationUpdater: 229 new addresses found\n"
     ]
    }
   ],
   "source": [
    "# from lib.locator import GeocoderSimpleOSM\n",
    "from lib.locator import GeocoderYandex\n",
    "from yandex_keys import keys\n",
    "\n",
    "atr = AddressTransformer()\n",
    "locator = GeocoderYandex(keys[1])\n",
    "# locator = GeocoderSimpleOSM()\n",
    "\n",
    "loc_file_path = 'data/location.pkl' # таблица адресов\n",
    "loc = pd.read_pickle(loc_file_path)\n",
    "# loc = pd.DataFrame([],columns=['adr','latitude','longitude',])\n",
    "logging.info(f'LocationUpdater: {len(loc)} addresses in index')\n",
    "\n",
    "# собираем все адреса в один список\n",
    "loc = loc.merge(\n",
    "        data[['adr']].drop_duplicates(),\n",
    "        how='outer',\n",
    "        on='adr',\n",
    "    ).drop_duplicates().reset_index(drop=True)\n",
    "\n",
    "logging.info(f'LocationUpdater: {len(loc)} addresses total')\n",
    "\n",
    "# собираем все адреса с геопозицией\n",
    "loc_def = loc[~loc['latitude'].isna()].reset_index(drop=True)\n",
    "logging.info(f'LocationUpdater: {len(loc_def)} addresses defined')\n",
    "\n",
    "# собираем все адреса без геопозиции\n",
    "loc_undef = loc[loc['latitude'].isna()][['adr']].reset_index(drop=True)\n",
    "logging.info(f'LocationUpdater: {len(loc_undef)} addresses undefined')\n",
    "\n",
    "if len(loc_undef)>0:\n",
    "    # определяем координаты по строке адреса\n",
    "    loc_undef = loc_undef.join( loc_undef['adr'].progress_apply(locator.transform).apply(pd.Series) ).dropna()     \n",
    "    logging.info(f'LocationUpdater: {len(loc_undef)} new addresses found')\n",
    "    loc = pd.concat([loc_def,loc_undef]).reset_index(drop=True) \n",
    "    assert len(loc)>0\n",
    "    loc.to_pickle(loc_file_path)"
   ]
  },
  {
   "cell_type": "code",
   "execution_count": 22,
   "id": "19741bb7",
   "metadata": {},
   "outputs": [
    {
     "name": "stdout",
     "output_type": "stream",
     "text": [
      "10012\n"
     ]
    },
    {
     "data": {
      "text/html": [
       "<div>\n",
       "<style scoped>\n",
       "    .dataframe tbody tr th:only-of-type {\n",
       "        vertical-align: middle;\n",
       "    }\n",
       "\n",
       "    .dataframe tbody tr th {\n",
       "        vertical-align: top;\n",
       "    }\n",
       "\n",
       "    .dataframe thead th {\n",
       "        text-align: right;\n",
       "    }\n",
       "</style>\n",
       "<table border=\"1\" class=\"dataframe\">\n",
       "  <thead>\n",
       "    <tr style=\"text-align: right;\">\n",
       "      <th></th>\n",
       "      <th>latitude</th>\n",
       "      <th>longitude</th>\n",
       "      <th>adr</th>\n",
       "    </tr>\n",
       "  </thead>\n",
       "  <tbody>\n",
       "    <tr>\n",
       "      <th>8186</th>\n",
       "      <td>44.588738</td>\n",
       "      <td>33.451096</td>\n",
       "      <td>Севастополь, Маячная улица, 39</td>\n",
       "    </tr>\n",
       "    <tr>\n",
       "      <th>8768</th>\n",
       "      <td>44.608134</td>\n",
       "      <td>33.520015</td>\n",
       "      <td>Севастополь, Одесская улица, 23</td>\n",
       "    </tr>\n",
       "    <tr>\n",
       "      <th>5629</th>\n",
       "      <td>44.571448</td>\n",
       "      <td>33.492859</td>\n",
       "      <td>Севастополь,садоводческое товарищество Авторемонтник, 2</td>\n",
       "    </tr>\n",
       "  </tbody>\n",
       "</table>\n",
       "</div>"
      ],
      "text/plain": [
       "       latitude  longitude  \\\n",
       "8186  44.588738  33.451096   \n",
       "8768  44.608134  33.520015   \n",
       "5629  44.571448  33.492859   \n",
       "\n",
       "                                                          adr  \n",
       "8186                           Севастополь, Маячная улица, 39  \n",
       "8768                          Севастополь, Одесская улица, 23  \n",
       "5629  Севастополь,садоводческое товарищество Авторемонтник, 2  "
      ]
     },
     "execution_count": 22,
     "metadata": {},
     "output_type": "execute_result"
    }
   ],
   "source": [
    "print( len(loc) )\n",
    "loc.sample(3)"
   ]
  },
  {
   "cell_type": "markdown",
   "id": "25e27e33",
   "metadata": {},
   "source": [
    "## дополняем данные геометкой"
   ]
  },
  {
   "cell_type": "code",
   "execution_count": 23,
   "id": "77ac354e",
   "metadata": {},
   "outputs": [
    {
     "name": "stdout",
     "output_type": "stream",
     "text": [
      "всего записей: 20944\n",
      "записей без геометки: 0\n",
      "<class 'pandas.core.frame.DataFrame'>\n",
      "Int64Index: 20944 entries, 0 to 20943\n",
      "Data columns (total 17 columns):\n",
      " #   Column              Non-Null Count  Dtype         \n",
      "---  ------              --------------  -----         \n",
      " 0   title               20944 non-null  object        \n",
      " 1   price               20944 non-null  int64         \n",
      " 2   obj_name            20944 non-null  object        \n",
      " 3   adr_orig            18058 non-null  object        \n",
      " 4   description         20944 non-null  object        \n",
      " 5   avito_page          20944 non-null  int64         \n",
      " 6   ts                  20944 non-null  datetime64[ns]\n",
      " 7   place               20944 non-null  object        \n",
      " 8   area                20944 non-null  float64       \n",
      " 9   is_IJS              20944 non-null  bool          \n",
      " 10  priceM              20944 non-null  float64       \n",
      " 11  priceMU             20944 non-null  float64       \n",
      " 12  area_size_category  20934 non-null  category      \n",
      " 13  url                 20944 non-null  object        \n",
      " 14  adr                 20944 non-null  object        \n",
      " 15  latitude            20944 non-null  object        \n",
      " 16  longitude           20944 non-null  object        \n",
      "dtypes: bool(1), category(1), datetime64[ns](1), float64(3), int64(2), object(9)\n",
      "memory usage: 2.6+ MB\n"
     ]
    }
   ],
   "source": [
    "# data = data.rename(columns={'adr':'adr_orig','adr_':'adr'})\n",
    "\n",
    "data = data.merge(loc,on=['adr'],how='left')\n",
    "\n",
    "print('всего записей:', len( data) )\n",
    "print('записей без геометки:', len( data[ data['latitude'].isna() ] ) )\n",
    "\n",
    "assert len(data)>0\n",
    "data.to_pickle(result_file_path)\n",
    "\n",
    "data.info()"
   ]
  },
  {
   "cell_type": "code",
   "execution_count": 24,
   "id": "64c38175",
   "metadata": {},
   "outputs": [
    {
     "data": {
      "text/plain": [
       "ts\n",
       "2022-09-08 16:04:40.227    1077\n",
       "2022-09-12 13:51:16.745    1106\n",
       "2022-09-13 13:56:54.600    1111\n",
       "2022-09-15 10:31:26.039    1121\n",
       "2022-09-16 15:10:34.059    1100\n",
       "2022-09-19 12:39:53.571    1104\n",
       "2022-09-22 09:57:15.623    1109\n",
       "2022-09-26 11:22:23.724    1087\n",
       "2022-10-08 20:38:42.759    1109\n",
       "2022-10-14 15:54:34.254    1101\n",
       "2022-11-01 13:58:37.789    1062\n",
       "2022-11-04 17:12:55.140     975\n",
       "2022-11-07 10:46:32.363    1028\n",
       "2022-11-15 13:16:46.237    1079\n",
       "2022-11-28 14:58:16.679    1030\n",
       "2023-01-10 11:27:43.921     827\n",
       "2023-01-27 16:42:18.173     914\n",
       "2023-03-09 12:15:46.417     982\n",
       "2023-03-29 15:34:45.561     990\n",
       "2023-03-29 16:49:32.637    1032\n",
       "dtype: int64"
      ]
     },
     "execution_count": 24,
     "metadata": {},
     "output_type": "execute_result"
    }
   ],
   "source": [
    "data[['ts']].groupby('ts').size()"
   ]
  },
  {
   "cell_type": "code",
   "execution_count": null,
   "id": "8824be0e",
   "metadata": {},
   "outputs": [],
   "source": []
  }
 ],
 "metadata": {
  "kernelspec": {
   "display_name": "Python 3 (ipykernel)",
   "language": "python",
   "name": "python3"
  },
  "language_info": {
   "codemirror_mode": {
    "name": "ipython",
    "version": 3
   },
   "file_extension": ".py",
   "mimetype": "text/x-python",
   "name": "python",
   "nbconvert_exporter": "python",
   "pygments_lexer": "ipython3",
   "version": "3.10.9"
  },
  "toc": {
   "base_numbering": 1,
   "nav_menu": {},
   "number_sections": true,
   "sideBar": true,
   "skip_h1_title": false,
   "title_cell": "Table of Contents",
   "title_sidebar": "Contents",
   "toc_cell": false,
   "toc_position": {
    "height": "calc(100% - 180px)",
    "left": "10px",
    "top": "150px",
    "width": "291.594px"
   },
   "toc_section_display": true,
   "toc_window_display": false
  },
  "varInspector": {
   "cols": {
    "lenName": 16,
    "lenType": 16,
    "lenVar": 40
   },
   "kernels_config": {
    "python": {
     "delete_cmd_postfix": "",
     "delete_cmd_prefix": "del ",
     "library": "var_list.py",
     "varRefreshCmd": "print(var_dic_list())"
    },
    "r": {
     "delete_cmd_postfix": ") ",
     "delete_cmd_prefix": "rm(",
     "library": "var_list.r",
     "varRefreshCmd": "cat(var_dic_list()) "
    }
   },
   "types_to_exclude": [
    "module",
    "function",
    "builtin_function_or_method",
    "instance",
    "_Feature"
   ],
   "window_display": false
  }
 },
 "nbformat": 4,
 "nbformat_minor": 5
}
