{
 "cells": [
  {
   "cell_type": "markdown",
   "id": "7bec28d7",
   "metadata": {},
   "source": [
    "__собираем предложения о земельных участках__\n",
    "\n",
    "_Evgeny S. Borisov <parser@mechanoid.su>_"
   ]
  },
  {
   "cell_type": "code",
   "execution_count": 1,
   "id": "52c5999f",
   "metadata": {},
   "outputs": [],
   "source": [
    "# !pacman -S firefox firefox-i18n-r  geckodriver\n",
    "# !pip install seleniuam"
   ]
  },
  {
   "cell_type": "code",
   "execution_count": 2,
   "id": "bcea4d8b",
   "metadata": {
    "ExecuteTime": {
     "end_time": "2022-08-26T14:19:06.118492Z",
     "start_time": "2022-08-26T14:13:37.888398Z"
    }
   },
   "outputs": [],
   "source": [
    "# import re\n",
    "import sys\n",
    "import logging\n",
    "from datetime import datetime as dtm\n",
    "from tqdm.notebook import tqdm\n",
    "import pandas as pd"
   ]
  },
  {
   "cell_type": "code",
   "execution_count": 3,
   "id": "caabc8c7",
   "metadata": {
    "ExecuteTime": {
     "end_time": "2022-08-26T14:19:06.118492Z",
     "start_time": "2022-08-26T14:13:37.888398Z"
    }
   },
   "outputs": [],
   "source": [
    "pd.set_option('display.max_colwidth', None)\n",
    "pd.set_option('display.float_format', '{:.2f}'.format)\n",
    "tqdm.pandas()\n",
    "\n",
    "logging.basicConfig(\n",
    "        format=u'[%(levelname)-8s] %(asctime)s | %(message)s',\n",
    "        datefmt='%Y-%m-%d %H:%M:%S',\n",
    "        level=logging.INFO,\n",
    "        # level=logging.DEBUG,\n",
    "        stream=sys.stdout,\n",
    "    )"
   ]
  },
  {
   "cell_type": "markdown",
   "id": "db3fe2be",
   "metadata": {},
   "source": [
    "---"
   ]
  },
  {
   "cell_type": "code",
   "execution_count": 4,
   "id": "d437eab9",
   "metadata": {},
   "outputs": [],
   "source": [
    "# каталог с файлами объявлений\n",
    "avito_raw_data_path = 'data/raw/land/avito' \n",
    "# cian_raw_data_path = 'data/raw/cian'\n",
    "result_file_path = 'data/data_land.pkl'"
   ]
  },
  {
   "cell_type": "code",
   "execution_count": 5,
   "id": "31463a1e",
   "metadata": {},
   "outputs": [],
   "source": [
    "# ts = dtm.now().strftime('%Y-%m-%d_%H-%M')\n",
    "# ts"
   ]
  },
  {
   "cell_type": "markdown",
   "id": "98f6384f",
   "metadata": {},
   "source": [
    "## собираем данные авито.ру"
   ]
  },
  {
   "cell_type": "code",
   "execution_count": 6,
   "id": "2673ef1f",
   "metadata": {},
   "outputs": [
    {
     "data": {
      "text/plain": [
       "['data/raw/land/avito/avito_2022-09-08_16-05_raw.xlsx',\n",
       " 'data/raw/land/avito/avito_2022-09-12_13-51_raw.xlsx',\n",
       " 'data/raw/land/avito/avito_2022-09-13_13-56_raw.xlsx',\n",
       " 'data/raw/land/avito/avito_2022-09-15_10-31_raw.xlsx',\n",
       " 'data/raw/land/avito/avito_2022-09-16_15-10_raw.xlsx',\n",
       " 'data/raw/land/avito/avito_2022-09-19_12-39_raw.xlsx',\n",
       " 'data/raw/land/avito/avito_2022-09-22_09-57_raw.xlsx',\n",
       " 'data/raw/land/avito/avito_2022-09-26_11-22_raw.xlsx',\n",
       " 'data/raw/land/avito/avito_2022-10-08_20-38_raw.xlsx',\n",
       " 'data/raw/land/avito/avito_2022-10-14_15-54_raw.xlsx',\n",
       " 'data/raw/land/avito/avito_2022-11-01_13-58_raw.xlsx',\n",
       " 'data/raw/land/avito/avito_2022-11-04_17-12_raw.xlsx',\n",
       " 'data/raw/land/avito/avito_2022-11-07_10-46_raw.xlsx',\n",
       " 'data/raw/land/avito/avito_2022-11-15_13-16_raw.xlsx',\n",
       " 'data/raw/land/avito/avito_2022-11-28_14-58_raw.xlsx']"
      ]
     },
     "execution_count": 6,
     "metadata": {},
     "output_type": "execute_result"
    }
   ],
   "source": [
    "import re\n",
    "from os import listdir\n",
    "\n",
    "raw_data_files = sorted([\n",
    "        avito_raw_data_path+'/'+f \n",
    "        for f in listdir(avito_raw_data_path) \n",
    "        if re.match(r'.+\\.xlsx$',f)\n",
    "    ])\n",
    "raw_data_files"
   ]
  },
  {
   "cell_type": "code",
   "execution_count": 7,
   "id": "adb5b19b",
   "metadata": {},
   "outputs": [],
   "source": [
    "# for f in raw_data_files:\n",
    "#     df = pd.read_excel(f)\n",
    "#     df['place']='sevastopol'\n",
    "#     df.to_excel(f,index=False)\n",
    "#     print(f)"
   ]
  },
  {
   "cell_type": "code",
   "execution_count": 8,
   "id": "347629e1",
   "metadata": {},
   "outputs": [
    {
     "name": "stdout",
     "output_type": "stream",
     "text": [
      "16199\n"
     ]
    }
   ],
   "source": [
    "data_avito = pd.concat([\n",
    "        pd\n",
    "        .read_excel(f)\n",
    "        #.dropna()\n",
    "        .drop_duplicates(['avito_id','description'])\n",
    "        .rename(columns={'page':'avito_page'})\n",
    "        .reset_index(drop=True)  \n",
    "        for f in raw_data_files\n",
    "    ]).reset_index(drop=True)\n",
    "\n",
    "print(len(data_avito))"
   ]
  },
  {
   "cell_type": "code",
   "execution_count": 9,
   "id": "2a992037",
   "metadata": {},
   "outputs": [],
   "source": [
    "# data_avito"
   ]
  },
  {
   "cell_type": "code",
   "execution_count": 10,
   "id": "cbce7aaa",
   "metadata": {},
   "outputs": [
    {
     "name": "stdout",
     "output_type": "stream",
     "text": [
      "16199\n"
     ]
    }
   ],
   "source": [
    "from lib.avito import AvitoDataCleanerRealtyLand\n",
    "\n",
    "data_avito = AvitoDataCleanerRealtyLand().transform( data_avito )\n",
    "\n",
    "print(len(data_avito))"
   ]
  },
  {
   "cell_type": "code",
   "execution_count": 11,
   "id": "becaac57",
   "metadata": {},
   "outputs": [
    {
     "data": {
      "text/html": [
       "<div>\n",
       "<style scoped>\n",
       "    .dataframe tbody tr th:only-of-type {\n",
       "        vertical-align: middle;\n",
       "    }\n",
       "\n",
       "    .dataframe tbody tr th {\n",
       "        vertical-align: top;\n",
       "    }\n",
       "\n",
       "    .dataframe thead th {\n",
       "        text-align: right;\n",
       "    }\n",
       "</style>\n",
       "<table border=\"1\" class=\"dataframe\">\n",
       "  <thead>\n",
       "    <tr style=\"text-align: right;\">\n",
       "      <th></th>\n",
       "      <th>avito_id</th>\n",
       "      <th>title</th>\n",
       "      <th>price</th>\n",
       "      <th>obj_name</th>\n",
       "      <th>adr</th>\n",
       "      <th>description</th>\n",
       "      <th>avito_page</th>\n",
       "      <th>ts</th>\n",
       "      <th>place</th>\n",
       "      <th>area</th>\n",
       "      <th>is_IJS</th>\n",
       "      <th>priceM</th>\n",
       "      <th>priceMU</th>\n",
       "      <th>area_size_category</th>\n",
       "    </tr>\n",
       "  </thead>\n",
       "  <tbody>\n",
       "    <tr>\n",
       "      <th>15359</th>\n",
       "      <td>2662734907</td>\n",
       "      <td>Участок 4 сот. (ИЖС)</td>\n",
       "      <td>1900000</td>\n",
       "      <td></td>\n",
       "      <td>садоводческое товарищество Малахит</td>\n",
       "      <td>Эксклюзивное предложение, цена низкая из за срочности, свет, вода,. Шикарный вид, удобное местоположение. Документы Россия. Отличное предложение для вас. Доп фото.\\nСкину. Участок не один. При желании поможем в строительстве, из любых материалов.</td>\n",
       "      <td>4</td>\n",
       "      <td>2022-11-28 14:58:16.679</td>\n",
       "      <td>sevastopol</td>\n",
       "      <td>4.00</td>\n",
       "      <td>True</td>\n",
       "      <td>1.90</td>\n",
       "      <td>0.47</td>\n",
       "      <td>2-4</td>\n",
       "    </tr>\n",
       "    <tr>\n",
       "      <th>14943</th>\n",
       "      <td>2481317582</td>\n",
       "      <td>Участок 4 сот. (ИЖС)</td>\n",
       "      <td>1600000</td>\n",
       "      <td></td>\n",
       "      <td>товарищество собственников недвижимости Гидротехник</td>\n",
       "      <td>Продам земельный участок 4 сотки в СТ Гидротехник. Участок ровный правильной формы, находится рядом с сосновым лесом. \\n\\nКоммуникации: электричество 3х фазное подключено, вода привозная или делать скважину (сейчас решается вопрос о городской воде). Подъездн</td>\n",
       "      <td>18</td>\n",
       "      <td>2022-11-15 13:16:46.237</td>\n",
       "      <td>sevastopol</td>\n",
       "      <td>4.00</td>\n",
       "      <td>True</td>\n",
       "      <td>1.60</td>\n",
       "      <td>0.40</td>\n",
       "      <td>2-4</td>\n",
       "    </tr>\n",
       "    <tr>\n",
       "      <th>7486</th>\n",
       "      <td>2245589563</td>\n",
       "      <td>Участок 4,5 сот. (ИЖС)</td>\n",
       "      <td>3250000</td>\n",
       "      <td></td>\n",
       "      <td>ТСН СТ Фиолент</td>\n",
       "      <td>Продам земельный участок 4.5 сотки в закрытом СТ Фиолент. \\n\\nИнфраструктура: \\n\\n+ Пропускной режим в Садовое товарищество (на въезде встречает частное охранное предприятие, установлен шлагбаум с электро-пультом);\\n\\n+ Остановка общественного транспорта в 5 мин</td>\n",
       "      <td>18</td>\n",
       "      <td>2022-09-22 09:57:15.623</td>\n",
       "      <td>sevastopol</td>\n",
       "      <td>4.50</td>\n",
       "      <td>True</td>\n",
       "      <td>3.25</td>\n",
       "      <td>0.72</td>\n",
       "      <td>4-8</td>\n",
       "    </tr>\n",
       "  </tbody>\n",
       "</table>\n",
       "</div>"
      ],
      "text/plain": [
       "         avito_id                   title    price obj_name  \\\n",
       "15359  2662734907    Участок 4 сот. (ИЖС)  1900000            \n",
       "14943  2481317582    Участок 4 сот. (ИЖС)  1600000            \n",
       "7486   2245589563  Участок 4,5 сот. (ИЖС)  3250000            \n",
       "\n",
       "                                                       adr  \\\n",
       "15359                   садоводческое товарищество Малахит   \n",
       "14943  товарищество собственников недвижимости Гидротехник   \n",
       "7486                                        ТСН СТ Фиолент   \n",
       "\n",
       "                                                                                                                                                                                                                                                                  description  \\\n",
       "15359                  Эксклюзивное предложение, цена низкая из за срочности, свет, вода,. Шикарный вид, удобное местоположение. Документы Россия. Отличное предложение для вас. Доп фото.\\nСкину. Участок не один. При желании поможем в строительстве, из любых материалов.   \n",
       "14943      Продам земельный участок 4 сотки в СТ Гидротехник. Участок ровный правильной формы, находится рядом с сосновым лесом. \\n\\nКоммуникации: электричество 3х фазное подключено, вода привозная или делать скважину (сейчас решается вопрос о городской воде). Подъездн   \n",
       "7486   Продам земельный участок 4.5 сотки в закрытом СТ Фиолент. \\n\\nИнфраструктура: \\n\\n+ Пропускной режим в Садовое товарищество (на въезде встречает частное охранное предприятие, установлен шлагбаум с электро-пультом);\\n\\n+ Остановка общественного транспорта в 5 мин   \n",
       "\n",
       "       avito_page                      ts       place  area  is_IJS  priceM  \\\n",
       "15359           4 2022-11-28 14:58:16.679  sevastopol  4.00    True    1.90   \n",
       "14943          18 2022-11-15 13:16:46.237  sevastopol  4.00    True    1.60   \n",
       "7486           18 2022-09-22 09:57:15.623  sevastopol  4.50    True    3.25   \n",
       "\n",
       "       priceMU area_size_category  \n",
       "15359     0.47                2-4  \n",
       "14943     0.40                2-4  \n",
       "7486      0.72                4-8  "
      ]
     },
     "execution_count": 11,
     "metadata": {},
     "output_type": "execute_result"
    }
   ],
   "source": [
    "data_avito.sample(3)"
   ]
  },
  {
   "cell_type": "code",
   "execution_count": 12,
   "id": "ce2869e1",
   "metadata": {},
   "outputs": [],
   "source": [
    "assert len(data_avito)>0"
   ]
  },
  {
   "cell_type": "code",
   "execution_count": 13,
   "id": "12170700",
   "metadata": {},
   "outputs": [
    {
     "name": "stdout",
     "output_type": "stream",
     "text": [
      "<class 'pandas.core.frame.DataFrame'>\n",
      "RangeIndex: 16199 entries, 0 to 16198\n",
      "Data columns (total 14 columns):\n",
      " #   Column              Non-Null Count  Dtype         \n",
      "---  ------              --------------  -----         \n",
      " 0   avito_id            16199 non-null  int64         \n",
      " 1   title               16199 non-null  object        \n",
      " 2   price               16199 non-null  int64         \n",
      " 3   obj_name            16199 non-null  object        \n",
      " 4   adr                 16199 non-null  object        \n",
      " 5   description         16199 non-null  object        \n",
      " 6   avito_page          16199 non-null  int64         \n",
      " 7   ts                  16199 non-null  datetime64[ns]\n",
      " 8   place               16199 non-null  object        \n",
      " 9   area                16199 non-null  float64       \n",
      " 10  is_IJS              16199 non-null  bool          \n",
      " 11  priceM              16199 non-null  float64       \n",
      " 12  priceMU             16199 non-null  float64       \n",
      " 13  area_size_category  16189 non-null  category      \n",
      "dtypes: bool(1), category(1), datetime64[ns](1), float64(3), int64(3), object(5)\n",
      "memory usage: 1.5+ MB\n"
     ]
    }
   ],
   "source": [
    "data_avito.info()"
   ]
  },
  {
   "cell_type": "markdown",
   "id": "f3ca7967",
   "metadata": {},
   "source": [
    "---"
   ]
  },
  {
   "cell_type": "code",
   "execution_count": 14,
   "id": "dac90e1f",
   "metadata": {},
   "outputs": [],
   "source": [
    "data_avito['url'] = 'https://avito.ru/' + data_avito['avito_id'].astype(int).astype(str)\n",
    "data_avito = data_avito.drop(columns=['avito_id'])\n",
    "# data_cian = data_cian.rename(columns={'cian_url':'url'})"
   ]
  },
  {
   "cell_type": "code",
   "execution_count": 15,
   "id": "2db629e4",
   "metadata": {},
   "outputs": [
    {
     "name": "stdout",
     "output_type": "stream",
     "text": [
      "16199\n"
     ]
    }
   ],
   "source": [
    "data = data_avito.reset_index(drop=True) \n",
    "print(len(data))\n",
    "assert len(data)>0"
   ]
  },
  {
   "cell_type": "markdown",
   "id": "2903ab86",
   "metadata": {},
   "source": [
    "## обновляем таблицу адресов"
   ]
  },
  {
   "cell_type": "code",
   "execution_count": 16,
   "id": "999ddbae",
   "metadata": {},
   "outputs": [],
   "source": [
    "# data_ = data.sample(15).reset_index(drop=True)\n",
    "# data_[['adr']]"
   ]
  },
  {
   "cell_type": "code",
   "execution_count": 17,
   "id": "e849be88",
   "metadata": {},
   "outputs": [],
   "source": [
    "places = { \n",
    "# поле 'place' и название города\n",
    "'bahchisaray': 'Бахчисарай,',\n",
    "      'sudak': 'Судак,',\n",
    "  'sevastopol': 'Севастополь,',\n",
    "}\n",
    "\n",
    "def norm_place(d,places=places):\n",
    "    if not d['place'] in places: return d['adr_']\n",
    "    p = places[ d['place'] ]\n",
    "    return d['adr_'] if d['adr_'].find(p)>-1 else p+d['adr_']"
   ]
  },
  {
   "cell_type": "code",
   "execution_count": 18,
   "id": "beb335f3",
   "metadata": {},
   "outputs": [
    {
     "data": {
      "application/vnd.jupyter.widget-view+json": {
       "model_id": "683e592fa7754c1ba928373e0c948d91",
       "version_major": 2,
       "version_minor": 0
      },
      "text/plain": [
       "  0%|          | 0/16199 [00:00<?, ?it/s]"
      ]
     },
     "metadata": {},
     "output_type": "display_data"
    },
    {
     "data": {
      "application/vnd.jupyter.widget-view+json": {
       "model_id": "f8a4fc04695547bba47a0e59fdd8e524",
       "version_major": 2,
       "version_minor": 0
      },
      "text/plain": [
       "  0%|          | 0/16199 [00:00<?, ?it/s]"
      ]
     },
     "metadata": {},
     "output_type": "display_data"
    }
   ],
   "source": [
    "from lib.locator import AddressTransformer\n",
    "\n",
    "atr = AddressTransformer()\n",
    "data['adr_'] = data['adr'].progress_apply(atr.transform)\n",
    "data['adr_'] = data[['adr_','place']].progress_apply(norm_place,axis=1)\n",
    "data = data.rename(columns={'adr':'adr_orig','adr_':'adr'})"
   ]
  },
  {
   "cell_type": "code",
   "execution_count": 19,
   "id": "f773346b",
   "metadata": {},
   "outputs": [
    {
     "data": {
      "text/html": [
       "<div>\n",
       "<style scoped>\n",
       "    .dataframe tbody tr th:only-of-type {\n",
       "        vertical-align: middle;\n",
       "    }\n",
       "\n",
       "    .dataframe tbody tr th {\n",
       "        vertical-align: top;\n",
       "    }\n",
       "\n",
       "    .dataframe thead th {\n",
       "        text-align: right;\n",
       "    }\n",
       "</style>\n",
       "<table border=\"1\" class=\"dataframe\">\n",
       "  <thead>\n",
       "    <tr style=\"text-align: right;\">\n",
       "      <th></th>\n",
       "      <th>adr_orig</th>\n",
       "      <th>adr</th>\n",
       "    </tr>\n",
       "  </thead>\n",
       "  <tbody>\n",
       "    <tr>\n",
       "      <th>8724</th>\n",
       "      <td>пос. городского типа Кача, ул. Авиаторов</td>\n",
       "      <td>Севастополь,пос. городского типа Кача, ул. Авиаторов</td>\n",
       "    </tr>\n",
       "    <tr>\n",
       "      <th>7044</th>\n",
       "      <td>ул. 2-я Линия</td>\n",
       "      <td>Севастополь,ул. 2-я Линия</td>\n",
       "    </tr>\n",
       "    <tr>\n",
       "      <th>1359</th>\n",
       "      <td>ул. Генерала Рихтера, 29</td>\n",
       "      <td>Севастополь,ул. Генерала Рихтера, 29</td>\n",
       "    </tr>\n",
       "    <tr>\n",
       "      <th>7892</th>\n",
       "      <td>ул. Генерала Жидилова, 49</td>\n",
       "      <td>Севастополь,ул. Генерала Жидилова, 49</td>\n",
       "    </tr>\n",
       "    <tr>\n",
       "      <th>13674</th>\n",
       "      <td>Тарутинская ул., 58А</td>\n",
       "      <td>Севастополь,Тарутинская ул., 58А</td>\n",
       "    </tr>\n",
       "    <tr>\n",
       "      <th>3988</th>\n",
       "      <td>Вербеновый пр., 5</td>\n",
       "      <td>Севастополь,Вербеновый пр., 5</td>\n",
       "    </tr>\n",
       "    <tr>\n",
       "      <th>9982</th>\n",
       "      <td>с. Широкое, ул. Микадзе, 14Б</td>\n",
       "      <td>Севастополь,с. Широкое, ул. Микадзе, 14Б</td>\n",
       "    </tr>\n",
       "    <tr>\n",
       "      <th>5977</th>\n",
       "      <td>с. Тыловое, Стахановская ул.</td>\n",
       "      <td>Севастополь,с. Тыловое, Стахановская ул.</td>\n",
       "    </tr>\n",
       "    <tr>\n",
       "      <th>8811</th>\n",
       "      <td>ул. Челнокова, 47А</td>\n",
       "      <td>Севастополь,ул. Челнокова, 47А</td>\n",
       "    </tr>\n",
       "    <tr>\n",
       "      <th>16124</th>\n",
       "      <td>с. Угловое, ул. Гунько</td>\n",
       "      <td>Севастополь,с. Угловое, ул. Гунько</td>\n",
       "    </tr>\n",
       "  </tbody>\n",
       "</table>\n",
       "</div>"
      ],
      "text/plain": [
       "                                       adr_orig  \\\n",
       "8724   пос. городского типа Кача, ул. Авиаторов   \n",
       "7044                              ул. 2-я Линия   \n",
       "1359                   ул. Генерала Рихтера, 29   \n",
       "7892                  ул. Генерала Жидилова, 49   \n",
       "13674                      Тарутинская ул., 58А   \n",
       "3988                          Вербеновый пр., 5   \n",
       "9982               с. Широкое, ул. Микадзе, 14Б   \n",
       "5977               с. Тыловое, Стахановская ул.   \n",
       "8811                         ул. Челнокова, 47А   \n",
       "16124                    с. Угловое, ул. Гунько   \n",
       "\n",
       "                                                        adr  \n",
       "8724   Севастополь,пос. городского типа Кача, ул. Авиаторов  \n",
       "7044                              Севастополь,ул. 2-я Линия  \n",
       "1359                   Севастополь,ул. Генерала Рихтера, 29  \n",
       "7892                  Севастополь,ул. Генерала Жидилова, 49  \n",
       "13674                      Севастополь,Тарутинская ул., 58А  \n",
       "3988                          Севастополь,Вербеновый пр., 5  \n",
       "9982               Севастополь,с. Широкое, ул. Микадзе, 14Б  \n",
       "5977               Севастополь,с. Тыловое, Стахановская ул.  \n",
       "8811                         Севастополь,ул. Челнокова, 47А  \n",
       "16124                    Севастополь,с. Угловое, ул. Гунько  "
      ]
     },
     "execution_count": 19,
     "metadata": {},
     "output_type": "execute_result"
    }
   ],
   "source": [
    "data[['adr_orig','adr']].sample(10)"
   ]
  },
  {
   "cell_type": "code",
   "execution_count": 20,
   "id": "86a30244",
   "metadata": {},
   "outputs": [
    {
     "name": "stdout",
     "output_type": "stream",
     "text": [
      "[INFO    ] 2022-11-28 17:10:00 | LocationUpdater: 7420 addresses in index\n",
      "[INFO    ] 2022-11-28 17:10:00 | LocationUpdater: 7481 addresses total\n",
      "[INFO    ] 2022-11-28 17:10:00 | LocationUpdater: 7420 addresses defined\n",
      "[INFO    ] 2022-11-28 17:10:00 | LocationUpdater: 61 addresses undefined\n"
     ]
    },
    {
     "data": {
      "application/vnd.jupyter.widget-view+json": {
       "model_id": "726f57c571ea4a7684de941abc5e30b5",
       "version_major": 2,
       "version_minor": 0
      },
      "text/plain": [
       "  0%|          | 0/61 [00:00<?, ?it/s]"
      ]
     },
     "metadata": {},
     "output_type": "display_data"
    },
    {
     "name": "stdout",
     "output_type": "stream",
     "text": [
      "[INFO    ] 2022-11-28 17:10:29 | LocationUpdater: 61 new addresses found\n"
     ]
    }
   ],
   "source": [
    "# from lib.locator import GeocoderSimpleOSM\n",
    "from lib.locator import GeocoderYandex\n",
    "from yandex_keys import keys\n",
    "\n",
    "atr = AddressTransformer()\n",
    "locator = GeocoderYandex(keys[0])\n",
    "# locator = GeocoderSimpleOSM()\n",
    "\n",
    "loc_file_path = 'data/location.pkl' # таблица адресов\n",
    "loc = pd.read_pickle(loc_file_path)\n",
    "# loc = pd.DataFrame([],columns=['adr','latitude','longitude',])\n",
    "logging.info(f'LocationUpdater: {len(loc)} addresses in index')\n",
    "\n",
    "# собираем все адреса в один список\n",
    "loc = loc.merge(\n",
    "        data[['adr']].drop_duplicates(),\n",
    "        how='outer',\n",
    "        on='adr',\n",
    "    ).drop_duplicates().reset_index(drop=True)\n",
    "\n",
    "logging.info(f'LocationUpdater: {len(loc)} addresses total')\n",
    "\n",
    "# собираем все адреса с геопозицией\n",
    "loc_def = loc[~loc['latitude'].isna()].reset_index(drop=True)\n",
    "logging.info(f'LocationUpdater: {len(loc_def)} addresses defined')\n",
    "\n",
    "# собираем все адреса без геопозиции\n",
    "loc_undef = loc[loc['latitude'].isna()][['adr']].reset_index(drop=True)\n",
    "logging.info(f'LocationUpdater: {len(loc_undef)} addresses undefined')\n",
    "\n",
    "if len(loc_undef)>0:\n",
    "    # определяем координаты по строке адреса\n",
    "    loc_undef = loc_undef.join( loc_undef['adr'].progress_apply(locator.transform).apply(pd.Series) ).dropna()     \n",
    "    logging.info(f'LocationUpdater: {len(loc_undef)} new addresses found')\n",
    "    loc = pd.concat([loc_def,loc_undef]).reset_index(drop=True) \n",
    "    assert len(loc)>0\n",
    "    loc.to_pickle(loc_file_path)"
   ]
  },
  {
   "cell_type": "code",
   "execution_count": 21,
   "id": "19741bb7",
   "metadata": {},
   "outputs": [
    {
     "name": "stdout",
     "output_type": "stream",
     "text": [
      "7481\n"
     ]
    },
    {
     "data": {
      "text/html": [
       "<div>\n",
       "<style scoped>\n",
       "    .dataframe tbody tr th:only-of-type {\n",
       "        vertical-align: middle;\n",
       "    }\n",
       "\n",
       "    .dataframe tbody tr th {\n",
       "        vertical-align: top;\n",
       "    }\n",
       "\n",
       "    .dataframe thead th {\n",
       "        text-align: right;\n",
       "    }\n",
       "</style>\n",
       "<table border=\"1\" class=\"dataframe\">\n",
       "  <thead>\n",
       "    <tr style=\"text-align: right;\">\n",
       "      <th></th>\n",
       "      <th>latitude</th>\n",
       "      <th>longitude</th>\n",
       "      <th>adr</th>\n",
       "    </tr>\n",
       "  </thead>\n",
       "  <tbody>\n",
       "    <tr>\n",
       "      <th>1088</th>\n",
       "      <td>44.59</td>\n",
       "      <td>33.48</td>\n",
       "      <td>Севастополь,Университетская улица , 20/24</td>\n",
       "    </tr>\n",
       "    <tr>\n",
       "      <th>3065</th>\n",
       "      <td>44.58</td>\n",
       "      <td>33.58</td>\n",
       "      <td>Севастополь,ул. Горпищенко</td>\n",
       "    </tr>\n",
       "    <tr>\n",
       "      <th>1057</th>\n",
       "      <td>44.59</td>\n",
       "      <td>33.44</td>\n",
       "      <td>Севастополь,Античный проспект , 9</td>\n",
       "    </tr>\n",
       "  </tbody>\n",
       "</table>\n",
       "</div>"
      ],
      "text/plain": [
       "     latitude longitude                                        adr\n",
       "1088    44.59     33.48  Севастополь,Университетская улица , 20/24\n",
       "3065    44.58     33.58                 Севастополь,ул. Горпищенко\n",
       "1057    44.59     33.44          Севастополь,Античный проспект , 9"
      ]
     },
     "execution_count": 21,
     "metadata": {},
     "output_type": "execute_result"
    }
   ],
   "source": [
    "print( len(loc) )\n",
    "loc.sample(3)"
   ]
  },
  {
   "cell_type": "markdown",
   "id": "25e27e33",
   "metadata": {},
   "source": [
    "## дополняем данные геометкой"
   ]
  },
  {
   "cell_type": "code",
   "execution_count": 22,
   "id": "77ac354e",
   "metadata": {},
   "outputs": [
    {
     "name": "stdout",
     "output_type": "stream",
     "text": [
      "всего записей: 16199\n",
      "записей без геометки: 0\n",
      "<class 'pandas.core.frame.DataFrame'>\n",
      "Int64Index: 16199 entries, 0 to 16198\n",
      "Data columns (total 17 columns):\n",
      " #   Column              Non-Null Count  Dtype         \n",
      "---  ------              --------------  -----         \n",
      " 0   title               16199 non-null  object        \n",
      " 1   price               16199 non-null  int64         \n",
      " 2   obj_name            16199 non-null  object        \n",
      " 3   adr_orig            16199 non-null  object        \n",
      " 4   description         16199 non-null  object        \n",
      " 5   avito_page          16199 non-null  int64         \n",
      " 6   ts                  16199 non-null  datetime64[ns]\n",
      " 7   place               16199 non-null  object        \n",
      " 8   area                16199 non-null  float64       \n",
      " 9   is_IJS              16199 non-null  bool          \n",
      " 10  priceM              16199 non-null  float64       \n",
      " 11  priceMU             16199 non-null  float64       \n",
      " 12  area_size_category  16189 non-null  category      \n",
      " 13  url                 16199 non-null  object        \n",
      " 14  adr                 16199 non-null  object        \n",
      " 15  latitude            16199 non-null  object        \n",
      " 16  longitude           16199 non-null  object        \n",
      "dtypes: bool(1), category(1), datetime64[ns](1), float64(3), int64(2), object(9)\n",
      "memory usage: 2.0+ MB\n"
     ]
    }
   ],
   "source": [
    "# data = data.rename(columns={'adr':'adr_orig','adr_':'adr'})\n",
    "\n",
    "data = data.merge(loc,on=['adr'],how='left')\n",
    "\n",
    "print('всего записей:', len( data) )\n",
    "print('записей без геометки:', len( data[ data['latitude'].isna() ] ) )\n",
    "\n",
    "assert len(data)>0\n",
    "data.to_pickle(result_file_path)\n",
    "\n",
    "data.info()"
   ]
  },
  {
   "cell_type": "code",
   "execution_count": null,
   "id": "64c38175",
   "metadata": {},
   "outputs": [],
   "source": []
  }
 ],
 "metadata": {
  "kernelspec": {
   "display_name": "Python 3 (ipykernel)",
   "language": "python",
   "name": "python3"
  },
  "language_info": {
   "codemirror_mode": {
    "name": "ipython",
    "version": 3
   },
   "file_extension": ".py",
   "mimetype": "text/x-python",
   "name": "python",
   "nbconvert_exporter": "python",
   "pygments_lexer": "ipython3",
   "version": "3.10.8"
  },
  "toc": {
   "base_numbering": 1,
   "nav_menu": {},
   "number_sections": true,
   "sideBar": true,
   "skip_h1_title": false,
   "title_cell": "Table of Contents",
   "title_sidebar": "Contents",
   "toc_cell": false,
   "toc_position": {
    "height": "calc(100% - 180px)",
    "left": "10px",
    "top": "150px",
    "width": "291.594px"
   },
   "toc_section_display": true,
   "toc_window_display": true
  },
  "varInspector": {
   "cols": {
    "lenName": 16,
    "lenType": 16,
    "lenVar": 40
   },
   "kernels_config": {
    "python": {
     "delete_cmd_postfix": "",
     "delete_cmd_prefix": "del ",
     "library": "var_list.py",
     "varRefreshCmd": "print(var_dic_list())"
    },
    "r": {
     "delete_cmd_postfix": ") ",
     "delete_cmd_prefix": "rm(",
     "library": "var_list.r",
     "varRefreshCmd": "cat(var_dic_list()) "
    }
   },
   "types_to_exclude": [
    "module",
    "function",
    "builtin_function_or_method",
    "instance",
    "_Feature"
   ],
   "window_display": false
  }
 },
 "nbformat": 4,
 "nbformat_minor": 5
}
