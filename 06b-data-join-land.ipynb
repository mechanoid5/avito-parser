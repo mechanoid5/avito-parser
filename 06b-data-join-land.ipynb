{
 "cells": [
  {
   "cell_type": "markdown",
   "id": "7bec28d7",
   "metadata": {},
   "source": [
    "__собираем предложения о земельных участках__\n",
    "\n",
    "_Evgeny S. Borisov <parser@mechanoid.su>_"
   ]
  },
  {
   "cell_type": "code",
   "execution_count": 1,
   "id": "52c5999f",
   "metadata": {},
   "outputs": [],
   "source": [
    "# !pacman -S firefox firefox-i18n-r  geckodriver\n",
    "# !pip install seleniuam"
   ]
  },
  {
   "cell_type": "code",
   "execution_count": 2,
   "id": "bcea4d8b",
   "metadata": {
    "ExecuteTime": {
     "end_time": "2022-08-26T14:19:06.118492Z",
     "start_time": "2022-08-26T14:13:37.888398Z"
    }
   },
   "outputs": [],
   "source": [
    "# import re\n",
    "import sys\n",
    "import logging\n",
    "from datetime import datetime as dtm\n",
    "from tqdm.notebook import tqdm\n",
    "import pandas as pd"
   ]
  },
  {
   "cell_type": "code",
   "execution_count": 3,
   "id": "caabc8c7",
   "metadata": {
    "ExecuteTime": {
     "end_time": "2022-08-26T14:19:06.118492Z",
     "start_time": "2022-08-26T14:13:37.888398Z"
    }
   },
   "outputs": [],
   "source": [
    "pd.set_option('display.max_colwidth', None)\n",
    "pd.set_option('display.float_format', '{:.2f}'.format)\n",
    "tqdm.pandas()\n",
    "\n",
    "logging.basicConfig(\n",
    "        format=u'[%(levelname)-8s] %(asctime)s | %(message)s',\n",
    "        datefmt='%Y-%m-%d %H:%M:%S',\n",
    "        level=logging.INFO,\n",
    "        # level=logging.DEBUG,\n",
    "        stream=sys.stdout,\n",
    "    )"
   ]
  },
  {
   "cell_type": "markdown",
   "id": "db3fe2be",
   "metadata": {},
   "source": [
    "---"
   ]
  },
  {
   "cell_type": "code",
   "execution_count": 4,
   "id": "d437eab9",
   "metadata": {},
   "outputs": [],
   "source": [
    "# каталог с файлами объявлений\n",
    "avito_raw_data_path = 'data/raw/land/avito' \n",
    "# cian_raw_data_path = 'data/raw/cian'\n",
    "result_file_path = 'data/data_land.pkl'"
   ]
  },
  {
   "cell_type": "code",
   "execution_count": 5,
   "id": "31463a1e",
   "metadata": {},
   "outputs": [],
   "source": [
    "# ts = dtm.now().strftime('%Y-%m-%d_%H-%M')\n",
    "# ts"
   ]
  },
  {
   "cell_type": "markdown",
   "id": "98f6384f",
   "metadata": {},
   "source": [
    "## собираем данные авито.ру"
   ]
  },
  {
   "cell_type": "code",
   "execution_count": 6,
   "id": "2673ef1f",
   "metadata": {},
   "outputs": [
    {
     "data": {
      "text/plain": [
       "['data/raw/land/avito/avito_2022-09-08_16-05_raw.xlsx',\n",
       " 'data/raw/land/avito/avito_2022-09-12_13-51_raw.xlsx',\n",
       " 'data/raw/land/avito/avito_2022-09-13_13-56_raw.xlsx',\n",
       " 'data/raw/land/avito/avito_2022-09-15_10-31_raw.xlsx']"
      ]
     },
     "execution_count": 6,
     "metadata": {},
     "output_type": "execute_result"
    }
   ],
   "source": [
    "import re\n",
    "from os import listdir\n",
    "\n",
    "raw_data_files = sorted([\n",
    "        avito_raw_data_path+'/'+f \n",
    "        for f in listdir(avito_raw_data_path) \n",
    "        if re.match(r'.+\\.xlsx$',f)\n",
    "    ])\n",
    "raw_data_files"
   ]
  },
  {
   "cell_type": "code",
   "execution_count": 7,
   "id": "adb5b19b",
   "metadata": {},
   "outputs": [],
   "source": [
    "# for f in raw_data_files:\n",
    "#     df = pd.read_excel(f)\n",
    "#     df['place']='sevastopol'\n",
    "#     df.to_excel(f,index=False)\n",
    "#     print(f)"
   ]
  },
  {
   "cell_type": "code",
   "execution_count": 8,
   "id": "347629e1",
   "metadata": {},
   "outputs": [
    {
     "name": "stdout",
     "output_type": "stream",
     "text": [
      "4415\n"
     ]
    }
   ],
   "source": [
    "data_avito = pd.concat([\n",
    "        pd\n",
    "        .read_excel(f)\n",
    "        #.dropna()\n",
    "        .drop_duplicates(['avito_id','description'])\n",
    "        .rename(columns={'page':'avito_page'})\n",
    "        .reset_index(drop=True)  \n",
    "        for f in raw_data_files\n",
    "    ]).reset_index(drop=True)\n",
    "\n",
    "print(len(data_avito))"
   ]
  },
  {
   "cell_type": "code",
   "execution_count": 9,
   "id": "2a992037",
   "metadata": {},
   "outputs": [],
   "source": [
    "# data_avito"
   ]
  },
  {
   "cell_type": "code",
   "execution_count": 10,
   "id": "cbce7aaa",
   "metadata": {},
   "outputs": [
    {
     "name": "stdout",
     "output_type": "stream",
     "text": [
      "4415\n"
     ]
    }
   ],
   "source": [
    "from lib.avito import AvitoDataCleanerRealtyLand\n",
    "\n",
    "data_avito = AvitoDataCleanerRealtyLand().transform( data_avito )\n",
    "\n",
    "print(len(data_avito))"
   ]
  },
  {
   "cell_type": "code",
   "execution_count": 11,
   "id": "becaac57",
   "metadata": {},
   "outputs": [
    {
     "data": {
      "text/html": [
       "<div>\n",
       "<style scoped>\n",
       "    .dataframe tbody tr th:only-of-type {\n",
       "        vertical-align: middle;\n",
       "    }\n",
       "\n",
       "    .dataframe tbody tr th {\n",
       "        vertical-align: top;\n",
       "    }\n",
       "\n",
       "    .dataframe thead th {\n",
       "        text-align: right;\n",
       "    }\n",
       "</style>\n",
       "<table border=\"1\" class=\"dataframe\">\n",
       "  <thead>\n",
       "    <tr style=\"text-align: right;\">\n",
       "      <th></th>\n",
       "      <th>avito_id</th>\n",
       "      <th>title</th>\n",
       "      <th>price</th>\n",
       "      <th>obj_name</th>\n",
       "      <th>adr</th>\n",
       "      <th>description</th>\n",
       "      <th>avito_page</th>\n",
       "      <th>ts</th>\n",
       "      <th>place</th>\n",
       "      <th>area</th>\n",
       "      <th>is_IJS</th>\n",
       "      <th>priceM</th>\n",
       "      <th>priceMU</th>\n",
       "      <th>area_size_category</th>\n",
       "    </tr>\n",
       "  </thead>\n",
       "  <tbody>\n",
       "    <tr>\n",
       "      <th>207</th>\n",
       "      <td>2461519928</td>\n",
       "      <td>Участок 6 сот. (ИЖС)</td>\n",
       "      <td>3000000</td>\n",
       "      <td></td>\n",
       "      <td>товарищество собственников недвижимости Лабораторная Балка</td>\n",
       "      <td>Продам свой участок в перспективном месте, рядом с центром. \\nЕсть небольшой уклон, свет подключён, вода городская, круглогодично. Жилого дома нет. \\nЗабор в круг старая рабица, нужно поднимать. \\nВсе вопросы по телефону. \\nАгентам прошу не звонить, сам работа</td>\n",
       "      <td>6</td>\n",
       "      <td>2022-09-08 16:04:40.227</td>\n",
       "      <td>sevastopol</td>\n",
       "      <td>6.00</td>\n",
       "      <td>True</td>\n",
       "      <td>3.00</td>\n",
       "      <td>0.50</td>\n",
       "      <td>4-8</td>\n",
       "    </tr>\n",
       "    <tr>\n",
       "      <th>2678</th>\n",
       "      <td>2514588998</td>\n",
       "      <td>Участок 5 сот. (ИЖС)</td>\n",
       "      <td>2000000</td>\n",
       "      <td></td>\n",
       "      <td>пос. городского типа Кача, ул. Константина Арцеулова</td>\n",
       "      <td>Продается участок под Ижс в поселке Кача. Ул. Константина Арцеулова д.1. Удобное месторасположение: подъезд с 3-х сторон, тихое место, до моря 15 мин. Пешком. Хороший торг при осмотре уместен.</td>\n",
       "      <td>11</td>\n",
       "      <td>2022-09-13 13:56:54.600</td>\n",
       "      <td>sevastopol</td>\n",
       "      <td>5.00</td>\n",
       "      <td>True</td>\n",
       "      <td>2.00</td>\n",
       "      <td>0.40</td>\n",
       "      <td>4-8</td>\n",
       "    </tr>\n",
       "    <tr>\n",
       "      <th>80</th>\n",
       "      <td>2279307179</td>\n",
       "      <td>Участок 10 сот. (ИЖС)</td>\n",
       "      <td>3000000</td>\n",
       "      <td></td>\n",
       "      <td>ул. Разведчика Колобуна</td>\n",
       "      <td>Продажа земельного участка 10 соток — Ижс без Комиссии для Покупателя. \\n\\nКадастровый номер 91:04:002013:27.\\n\\nКатегория земель: Земли поселений (земли населенных пунктов). \\n\\nЕсть возможность разделить участок на 4, 5, 6 или 7 соток за 300 тысяч рублей одна</td>\n",
       "      <td>2</td>\n",
       "      <td>2022-09-08 16:04:40.227</td>\n",
       "      <td>sevastopol</td>\n",
       "      <td>10.00</td>\n",
       "      <td>True</td>\n",
       "      <td>3.00</td>\n",
       "      <td>0.30</td>\n",
       "      <td>8-20</td>\n",
       "    </tr>\n",
       "  </tbody>\n",
       "</table>\n",
       "</div>"
      ],
      "text/plain": [
       "        avito_id                  title    price obj_name  \\\n",
       "207   2461519928   Участок 6 сот. (ИЖС)  3000000            \n",
       "2678  2514588998   Участок 5 сот. (ИЖС)  2000000            \n",
       "80    2279307179  Участок 10 сот. (ИЖС)  3000000            \n",
       "\n",
       "                                                             adr  \\\n",
       "207   товарищество собственников недвижимости Лабораторная Балка   \n",
       "2678        пос. городского типа Кача, ул. Константина Арцеулова   \n",
       "80                                       ул. Разведчика Колобуна   \n",
       "\n",
       "                                                                                                                                                                                                                                                                 description  \\\n",
       "207     Продам свой участок в перспективном месте, рядом с центром. \\nЕсть небольшой уклон, свет подключён, вода городская, круглогодично. Жилого дома нет. \\nЗабор в круг старая рабица, нужно поднимать. \\nВсе вопросы по телефону. \\nАгентам прошу не звонить, сам работа   \n",
       "2678                                                                        Продается участок под Ижс в поселке Кача. Ул. Константина Арцеулова д.1. Удобное месторасположение: подъезд с 3-х сторон, тихое место, до моря 15 мин. Пешком. Хороший торг при осмотре уместен.   \n",
       "80    Продажа земельного участка 10 соток — Ижс без Комиссии для Покупателя. \\n\\nКадастровый номер 91:04:002013:27.\\n\\nКатегория земель: Земли поселений (земли населенных пунктов). \\n\\nЕсть возможность разделить участок на 4, 5, 6 или 7 соток за 300 тысяч рублей одна    \n",
       "\n",
       "      avito_page                      ts       place  area  is_IJS  priceM  \\\n",
       "207            6 2022-09-08 16:04:40.227  sevastopol  6.00    True    3.00   \n",
       "2678          11 2022-09-13 13:56:54.600  sevastopol  5.00    True    2.00   \n",
       "80             2 2022-09-08 16:04:40.227  sevastopol 10.00    True    3.00   \n",
       "\n",
       "      priceMU area_size_category  \n",
       "207      0.50                4-8  \n",
       "2678     0.40                4-8  \n",
       "80       0.30               8-20  "
      ]
     },
     "execution_count": 11,
     "metadata": {},
     "output_type": "execute_result"
    }
   ],
   "source": [
    "data_avito.sample(3)"
   ]
  },
  {
   "cell_type": "code",
   "execution_count": 12,
   "id": "ce2869e1",
   "metadata": {},
   "outputs": [],
   "source": [
    "assert len(data_avito)>0"
   ]
  },
  {
   "cell_type": "code",
   "execution_count": 13,
   "id": "12170700",
   "metadata": {},
   "outputs": [
    {
     "name": "stdout",
     "output_type": "stream",
     "text": [
      "<class 'pandas.core.frame.DataFrame'>\n",
      "RangeIndex: 4415 entries, 0 to 4414\n",
      "Data columns (total 14 columns):\n",
      " #   Column              Non-Null Count  Dtype         \n",
      "---  ------              --------------  -----         \n",
      " 0   avito_id            4415 non-null   int64         \n",
      " 1   title               4415 non-null   object        \n",
      " 2   price               4415 non-null   int64         \n",
      " 3   obj_name            4415 non-null   object        \n",
      " 4   adr                 4415 non-null   object        \n",
      " 5   description         4415 non-null   object        \n",
      " 6   avito_page          4415 non-null   int64         \n",
      " 7   ts                  4415 non-null   datetime64[ns]\n",
      " 8   place               4415 non-null   object        \n",
      " 9   area                4415 non-null   float64       \n",
      " 10  is_IJS              4415 non-null   bool          \n",
      " 11  priceM              4415 non-null   float64       \n",
      " 12  priceMU             4415 non-null   float64       \n",
      " 13  area_size_category  4415 non-null   category      \n",
      "dtypes: bool(1), category(1), datetime64[ns](1), float64(3), int64(3), object(5)\n",
      "memory usage: 422.9+ KB\n"
     ]
    }
   ],
   "source": [
    "data_avito.info()"
   ]
  },
  {
   "cell_type": "markdown",
   "id": "f3ca7967",
   "metadata": {},
   "source": [
    "---"
   ]
  },
  {
   "cell_type": "code",
   "execution_count": 14,
   "id": "2db629e4",
   "metadata": {},
   "outputs": [
    {
     "name": "stdout",
     "output_type": "stream",
     "text": [
      "4415\n"
     ]
    }
   ],
   "source": [
    "data = data_avito.reset_index(drop=True) \n",
    "print(len(data))\n",
    "assert len(data)>0"
   ]
  },
  {
   "cell_type": "markdown",
   "id": "2903ab86",
   "metadata": {},
   "source": [
    "### обновляем таблицу адресов"
   ]
  },
  {
   "cell_type": "code",
   "execution_count": 15,
   "id": "42bebe2e",
   "metadata": {},
   "outputs": [
    {
     "name": "stdout",
     "output_type": "stream",
     "text": [
      "sevastopol Севастополь,\n"
     ]
    }
   ],
   "source": [
    "from lib.locator import AddressTransformer\n",
    "\n",
    "data['adr'] = AddressTransformer().transform( data['adr'] )\n",
    "\n",
    "places = { # поле 'place' и название города\n",
    "#'bahchisaray': 'Бахчисарай',\n",
    "#      'sudak': 'Судак',\n",
    " 'sevastopol': 'Севастополь,',\n",
    "}\n",
    "\n",
    "for k,v in places.items():\n",
    "    print(k,v) # докидываем в строку адреса название города если его нет\n",
    "    f =  (data['place']==k) & (~data['adr'].str.match(v))\n",
    "    data.loc[f,'adr'] = v +' '+ data.loc[f,'adr']"
   ]
  },
  {
   "cell_type": "markdown",
   "id": "2a630568",
   "metadata": {},
   "source": [
    "---"
   ]
  },
  {
   "cell_type": "code",
   "execution_count": 16,
   "id": "7d191d0d",
   "metadata": {},
   "outputs": [
    {
     "name": "stdout",
     "output_type": "stream",
     "text": [
      "[INFO    ] 2022-09-15 23:10:42 | LocationUpdater: 9821 addresses in location table\n",
      "[INFO    ] 2022-09-15 23:10:42 | LocationUpdater: 9821 addresses total\n",
      "[INFO    ] 2022-09-15 23:10:42 | LocationUpdater: 9821 addresses defined\n",
      "[INFO    ] 2022-09-15 23:10:42 | LocationUpdater: 0 addresses undefined\n"
     ]
    }
   ],
   "source": [
    "from lib.locator import LocationUpdater\n",
    "# from lib.locator import AddressTransformerSev\n",
    "from lib.locator import GeocoderYandex\n",
    "from yandex_keys import keys\n",
    "\n",
    "\n",
    "loc_file_path = 'data/location.pkl'# таблица адресов\n",
    "\n",
    "loc = LocationUpdater(\n",
    "        locator=GeocoderYandex(keys[2]),\n",
    "        # address_transformer=AddressTransformerSev(),\n",
    "    ).transform(\n",
    "        adr=data['adr'],\n",
    "        loc=pd.read_pickle(loc_file_path),\n",
    "        show_pbar=True,\n",
    "    )"
   ]
  },
  {
   "cell_type": "code",
   "execution_count": 17,
   "id": "19741bb7",
   "metadata": {},
   "outputs": [
    {
     "data": {
      "text/html": [
       "<div>\n",
       "<style scoped>\n",
       "    .dataframe tbody tr th:only-of-type {\n",
       "        vertical-align: middle;\n",
       "    }\n",
       "\n",
       "    .dataframe tbody tr th {\n",
       "        vertical-align: top;\n",
       "    }\n",
       "\n",
       "    .dataframe thead th {\n",
       "        text-align: right;\n",
       "    }\n",
       "</style>\n",
       "<table border=\"1\" class=\"dataframe\">\n",
       "  <thead>\n",
       "    <tr style=\"text-align: right;\">\n",
       "      <th></th>\n",
       "      <th>adr</th>\n",
       "      <th>latitude</th>\n",
       "      <th>longitude</th>\n",
       "      <th>truncated</th>\n",
       "    </tr>\n",
       "  </thead>\n",
       "  <tbody>\n",
       "    <tr>\n",
       "      <th>5483</th>\n",
       "      <td>улица Адмирала Макарова, 15/2</td>\n",
       "      <td>44.59</td>\n",
       "      <td>33.52</td>\n",
       "      <td>False</td>\n",
       "    </tr>\n",
       "    <tr>\n",
       "      <th>3150</th>\n",
       "      <td>Севастополь, Линкорная ул.</td>\n",
       "      <td>44.59</td>\n",
       "      <td>33.57</td>\n",
       "      <td>False</td>\n",
       "    </tr>\n",
       "    <tr>\n",
       "      <th>6727</th>\n",
       "      <td>ТСН СТ Морзаводец, Малиновая ул., 78</td>\n",
       "      <td>44.54</td>\n",
       "      <td>33.57</td>\n",
       "      <td>False</td>\n",
       "    </tr>\n",
       "  </tbody>\n",
       "</table>\n",
       "</div>"
      ],
      "text/plain": [
       "                                       adr  latitude  longitude  truncated\n",
       "5483         улица Адмирала Макарова, 15/2     44.59      33.52      False\n",
       "3150            Севастополь, Линкорная ул.     44.59      33.57      False\n",
       "6727  ТСН СТ Морзаводец, Малиновая ул., 78     44.54      33.57      False"
      ]
     },
     "execution_count": 17,
     "metadata": {},
     "output_type": "execute_result"
    }
   ],
   "source": [
    "loc.sample(3)"
   ]
  },
  {
   "cell_type": "code",
   "execution_count": 18,
   "id": "a90d2398",
   "metadata": {},
   "outputs": [],
   "source": [
    "assert len(loc)>0\n",
    "loc.to_pickle(loc_file_path)"
   ]
  },
  {
   "cell_type": "markdown",
   "id": "30dbd6a6",
   "metadata": {},
   "source": [
    "### дополняем данные геометкой"
   ]
  },
  {
   "cell_type": "code",
   "execution_count": 19,
   "id": "06470644",
   "metadata": {},
   "outputs": [
    {
     "name": "stdout",
     "output_type": "stream",
     "text": [
      "всего записей: 4426\n",
      "записей без геометки: 0\n"
     ]
    }
   ],
   "source": [
    "data = data.merge(loc[['adr','latitude','longitude',]],on=['adr'],how='left')\n",
    "\n",
    "print('всего записей:', len( data) )\n",
    "print('записей без геометки:', len( data[ data['latitude'].isnull() ] ) )"
   ]
  },
  {
   "cell_type": "code",
   "execution_count": 20,
   "id": "b3161e64",
   "metadata": {},
   "outputs": [],
   "source": [
    "assert len(data)>0\n",
    "data.to_pickle(result_file_path)"
   ]
  },
  {
   "cell_type": "code",
   "execution_count": 21,
   "id": "799e47c2",
   "metadata": {},
   "outputs": [
    {
     "name": "stdout",
     "output_type": "stream",
     "text": [
      "<class 'pandas.core.frame.DataFrame'>\n",
      "Int64Index: 4426 entries, 0 to 4425\n",
      "Data columns (total 16 columns):\n",
      " #   Column              Non-Null Count  Dtype         \n",
      "---  ------              --------------  -----         \n",
      " 0   avito_id            4426 non-null   int64         \n",
      " 1   title               4426 non-null   object        \n",
      " 2   price               4426 non-null   int64         \n",
      " 3   obj_name            4426 non-null   object        \n",
      " 4   adr                 4426 non-null   object        \n",
      " 5   description         4426 non-null   object        \n",
      " 6   avito_page          4426 non-null   int64         \n",
      " 7   ts                  4426 non-null   datetime64[ns]\n",
      " 8   place               4426 non-null   object        \n",
      " 9   area                4426 non-null   float64       \n",
      " 10  is_IJS              4426 non-null   bool          \n",
      " 11  priceM              4426 non-null   float64       \n",
      " 12  priceMU             4426 non-null   float64       \n",
      " 13  area_size_category  4426 non-null   category      \n",
      " 14  latitude            4426 non-null   float64       \n",
      " 15  longitude           4426 non-null   float64       \n",
      "dtypes: bool(1), category(1), datetime64[ns](1), float64(5), int64(3), object(5)\n",
      "memory usage: 527.5+ KB\n"
     ]
    }
   ],
   "source": [
    "data.info()"
   ]
  }
 ],
 "metadata": {
  "kernelspec": {
   "display_name": "Python 3 (ipykernel)",
   "language": "python",
   "name": "python3"
  },
  "language_info": {
   "codemirror_mode": {
    "name": "ipython",
    "version": 3
   },
   "file_extension": ".py",
   "mimetype": "text/x-python",
   "name": "python",
   "nbconvert_exporter": "python",
   "pygments_lexer": "ipython3",
   "version": "3.10.6"
  },
  "toc": {
   "base_numbering": 1,
   "nav_menu": {},
   "number_sections": true,
   "sideBar": true,
   "skip_h1_title": false,
   "title_cell": "Table of Contents",
   "title_sidebar": "Contents",
   "toc_cell": false,
   "toc_position": {},
   "toc_section_display": true,
   "toc_window_display": false
  },
  "varInspector": {
   "cols": {
    "lenName": 16,
    "lenType": 16,
    "lenVar": 40
   },
   "kernels_config": {
    "python": {
     "delete_cmd_postfix": "",
     "delete_cmd_prefix": "del ",
     "library": "var_list.py",
     "varRefreshCmd": "print(var_dic_list())"
    },
    "r": {
     "delete_cmd_postfix": ") ",
     "delete_cmd_prefix": "rm(",
     "library": "var_list.r",
     "varRefreshCmd": "cat(var_dic_list()) "
    }
   },
   "types_to_exclude": [
    "module",
    "function",
    "builtin_function_or_method",
    "instance",
    "_Feature"
   ],
   "window_display": false
  }
 },
 "nbformat": 4,
 "nbformat_minor": 5
}
