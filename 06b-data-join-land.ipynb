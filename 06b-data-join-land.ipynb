{
 "cells": [
  {
   "cell_type": "markdown",
   "id": "7bec28d7",
   "metadata": {},
   "source": [
    "__собираем предложения о земельных участках__\n",
    "\n",
    "_Evgeny S. Borisov <parser@mechanoid.su>_"
   ]
  },
  {
   "cell_type": "code",
   "execution_count": 1,
   "id": "52c5999f",
   "metadata": {},
   "outputs": [],
   "source": [
    "# !pacman -S firefox firefox-i18n-r  geckodriver\n",
    "# !pip install seleniuam"
   ]
  },
  {
   "cell_type": "code",
   "execution_count": 2,
   "id": "bcea4d8b",
   "metadata": {
    "ExecuteTime": {
     "end_time": "2022-08-26T14:19:06.118492Z",
     "start_time": "2022-08-26T14:13:37.888398Z"
    }
   },
   "outputs": [],
   "source": [
    "# import re\n",
    "import sys\n",
    "import logging\n",
    "from datetime import datetime as dtm\n",
    "from tqdm.notebook import tqdm\n",
    "import pandas as pd"
   ]
  },
  {
   "cell_type": "code",
   "execution_count": 3,
   "id": "caabc8c7",
   "metadata": {
    "ExecuteTime": {
     "end_time": "2022-08-26T14:19:06.118492Z",
     "start_time": "2022-08-26T14:13:37.888398Z"
    }
   },
   "outputs": [],
   "source": [
    "pd.set_option('display.max_colwidth', None)\n",
    "pd.set_option('display.float_format', '{:.2f}'.format)\n",
    "tqdm.pandas()\n",
    "\n",
    "logging.basicConfig(\n",
    "        format=u'[%(levelname)-8s] %(asctime)s | %(message)s',\n",
    "        datefmt='%Y-%m-%d %H:%M:%S',\n",
    "        level=logging.INFO,\n",
    "        # level=logging.DEBUG,\n",
    "        stream=sys.stdout,\n",
    "    )"
   ]
  },
  {
   "cell_type": "markdown",
   "id": "db3fe2be",
   "metadata": {},
   "source": [
    "---"
   ]
  },
  {
   "cell_type": "code",
   "execution_count": 4,
   "id": "d437eab9",
   "metadata": {},
   "outputs": [],
   "source": [
    "# каталог с файлами объявлений\n",
    "avito_raw_data_path = 'data/raw/land/avito' \n",
    "# cian_raw_data_path = 'data/raw/cian'\n",
    "result_file_path = 'data/data_land.pkl'"
   ]
  },
  {
   "cell_type": "code",
   "execution_count": 5,
   "id": "31463a1e",
   "metadata": {},
   "outputs": [],
   "source": [
    "# ts = dtm.now().strftime('%Y-%m-%d_%H-%M')\n",
    "# ts"
   ]
  },
  {
   "cell_type": "markdown",
   "id": "98f6384f",
   "metadata": {},
   "source": [
    "## собираем данные авито.ру"
   ]
  },
  {
   "cell_type": "code",
   "execution_count": 6,
   "id": "2673ef1f",
   "metadata": {},
   "outputs": [
    {
     "data": {
      "text/plain": [
       "['data/raw/land/avito/avito_2022-09-08_16-05_raw.xlsx',\n",
       " 'data/raw/land/avito/avito_2022-09-12_13-51_raw.xlsx',\n",
       " 'data/raw/land/avito/avito_2022-09-13_13-56_raw.xlsx',\n",
       " 'data/raw/land/avito/avito_2022-09-15_10-31_raw.xlsx',\n",
       " 'data/raw/land/avito/avito_2022-09-16_15-10_raw.xlsx',\n",
       " 'data/raw/land/avito/avito_2022-09-19_12-39_raw.xlsx',\n",
       " 'data/raw/land/avito/avito_2022-09-22_09-57_raw.xlsx',\n",
       " 'data/raw/land/avito/avito_2022-09-26_11-22_raw.xlsx',\n",
       " 'data/raw/land/avito/avito_2022-10-08_20-38_raw.xlsx',\n",
       " 'data/raw/land/avito/avito_2022-10-14_15-54_raw.xlsx',\n",
       " 'data/raw/land/avito/avito_2022-11-01_13-58_raw.xlsx',\n",
       " 'data/raw/land/avito/avito_2022-11-04_17-12_raw.xlsx',\n",
       " 'data/raw/land/avito/avito_2022-11-07_10-46_raw.xlsx',\n",
       " 'data/raw/land/avito/avito_2022-11-15_13-16_raw.xlsx']"
      ]
     },
     "execution_count": 6,
     "metadata": {},
     "output_type": "execute_result"
    }
   ],
   "source": [
    "import re\n",
    "from os import listdir\n",
    "\n",
    "raw_data_files = sorted([\n",
    "        avito_raw_data_path+'/'+f \n",
    "        for f in listdir(avito_raw_data_path) \n",
    "        if re.match(r'.+\\.xlsx$',f)\n",
    "    ])\n",
    "raw_data_files"
   ]
  },
  {
   "cell_type": "code",
   "execution_count": 7,
   "id": "adb5b19b",
   "metadata": {},
   "outputs": [],
   "source": [
    "# for f in raw_data_files:\n",
    "#     df = pd.read_excel(f)\n",
    "#     df['place']='sevastopol'\n",
    "#     df.to_excel(f,index=False)\n",
    "#     print(f)"
   ]
  },
  {
   "cell_type": "code",
   "execution_count": 8,
   "id": "347629e1",
   "metadata": {},
   "outputs": [
    {
     "name": "stdout",
     "output_type": "stream",
     "text": [
      "15169\n"
     ]
    }
   ],
   "source": [
    "data_avito = pd.concat([\n",
    "        pd\n",
    "        .read_excel(f)\n",
    "        #.dropna()\n",
    "        .drop_duplicates(['avito_id','description'])\n",
    "        .rename(columns={'page':'avito_page'})\n",
    "        .reset_index(drop=True)  \n",
    "        for f in raw_data_files\n",
    "    ]).reset_index(drop=True)\n",
    "\n",
    "print(len(data_avito))"
   ]
  },
  {
   "cell_type": "code",
   "execution_count": 9,
   "id": "2a992037",
   "metadata": {},
   "outputs": [],
   "source": [
    "# data_avito"
   ]
  },
  {
   "cell_type": "code",
   "execution_count": 10,
   "id": "cbce7aaa",
   "metadata": {},
   "outputs": [
    {
     "name": "stdout",
     "output_type": "stream",
     "text": [
      "15169\n"
     ]
    }
   ],
   "source": [
    "from lib.avito import AvitoDataCleanerRealtyLand\n",
    "\n",
    "data_avito = AvitoDataCleanerRealtyLand().transform( data_avito )\n",
    "\n",
    "print(len(data_avito))"
   ]
  },
  {
   "cell_type": "code",
   "execution_count": 11,
   "id": "becaac57",
   "metadata": {},
   "outputs": [
    {
     "data": {
      "text/html": [
       "<div>\n",
       "<style scoped>\n",
       "    .dataframe tbody tr th:only-of-type {\n",
       "        vertical-align: middle;\n",
       "    }\n",
       "\n",
       "    .dataframe tbody tr th {\n",
       "        vertical-align: top;\n",
       "    }\n",
       "\n",
       "    .dataframe thead th {\n",
       "        text-align: right;\n",
       "    }\n",
       "</style>\n",
       "<table border=\"1\" class=\"dataframe\">\n",
       "  <thead>\n",
       "    <tr style=\"text-align: right;\">\n",
       "      <th></th>\n",
       "      <th>avito_id</th>\n",
       "      <th>title</th>\n",
       "      <th>price</th>\n",
       "      <th>obj_name</th>\n",
       "      <th>adr</th>\n",
       "      <th>description</th>\n",
       "      <th>avito_page</th>\n",
       "      <th>ts</th>\n",
       "      <th>place</th>\n",
       "      <th>area</th>\n",
       "      <th>is_IJS</th>\n",
       "      <th>priceM</th>\n",
       "      <th>priceMU</th>\n",
       "      <th>area_size_category</th>\n",
       "    </tr>\n",
       "  </thead>\n",
       "  <tbody>\n",
       "    <tr>\n",
       "      <th>5750</th>\n",
       "      <td>2168481692</td>\n",
       "      <td>Участок 6 сот. (ИЖС)</td>\n",
       "      <td>2000000</td>\n",
       "      <td></td>\n",
       "      <td>Фортификационная ул., 100к100</td>\n",
       "      <td>Продам два смежных участка по 6 соток на ул. Фортификационная. \\nКатегория земли: Земли населённых пунктов.\\nКадастровые номера: 91:01:008001:317 и 91:01:008001:733 к участкам подведена дорога, в конце лета будет подключено электричество. Цена указана за 6 с</td>\n",
       "      <td>5</td>\n",
       "      <td>2022-09-19 12:39:53.571</td>\n",
       "      <td>sevastopol</td>\n",
       "      <td>6.00</td>\n",
       "      <td>True</td>\n",
       "      <td>2.00</td>\n",
       "      <td>0.33</td>\n",
       "      <td>4-8</td>\n",
       "    </tr>\n",
       "    <tr>\n",
       "      <th>11461</th>\n",
       "      <td>2443720738</td>\n",
       "      <td>Участок 7,7 сот. (ИЖС)</td>\n",
       "      <td>2800000</td>\n",
       "      <td></td>\n",
       "      <td>садоводческое товарищество Рыбак-6, 95</td>\n",
       "      <td>Срочно, цена снижена временно! \\nПродам земельный участок в Казачьей бухте возле моря! \\n\\nРасположен в СТ «Рыбак-6» (рядом находятся «Рыбак-7», «Ахтиар», «Скалистый», «Атлантика-1 и 2, и другие кооперативы.\\n\\nОбщая площадь 7,67 соток.\\n\\nКадастровый номер 91:02</td>\n",
       "      <td>9</td>\n",
       "      <td>2022-11-01 13:58:37.789</td>\n",
       "      <td>sevastopol</td>\n",
       "      <td>7.70</td>\n",
       "      <td>True</td>\n",
       "      <td>2.80</td>\n",
       "      <td>0.36</td>\n",
       "      <td>4-8</td>\n",
       "    </tr>\n",
       "    <tr>\n",
       "      <th>670</th>\n",
       "      <td>2287197200</td>\n",
       "      <td>Участок 4,5 сот. (ИЖС)</td>\n",
       "      <td>5200000</td>\n",
       "      <td></td>\n",
       "      <td>Муромская ул.</td>\n",
       "      <td>Продаю свой участок Ижс 4,5 соток! Первая линия ул. Горпищенко! Адрес ул. Муромская 138/7-А!, кадастровый номер 91:04:000000:870.\\nДлина участка 34м, ширина 16м! \\nУчасток ровный! \\nВ двух минутах остановка, рядом школы, садики, магазины, торговый центр! \\nЕст</td>\n",
       "      <td>15</td>\n",
       "      <td>2022-09-08 16:04:40.227</td>\n",
       "      <td>sevastopol</td>\n",
       "      <td>4.50</td>\n",
       "      <td>True</td>\n",
       "      <td>5.20</td>\n",
       "      <td>1.16</td>\n",
       "      <td>4-8</td>\n",
       "    </tr>\n",
       "  </tbody>\n",
       "</table>\n",
       "</div>"
      ],
      "text/plain": [
       "         avito_id                   title    price obj_name  \\\n",
       "5750   2168481692    Участок 6 сот. (ИЖС)  2000000            \n",
       "11461  2443720738  Участок 7,7 сот. (ИЖС)  2800000            \n",
       "670    2287197200  Участок 4,5 сот. (ИЖС)  5200000            \n",
       "\n",
       "                                          adr  \\\n",
       "5750            Фортификационная ул., 100к100   \n",
       "11461  садоводческое товарищество Рыбак-6, 95   \n",
       "670                             Муромская ул.   \n",
       "\n",
       "                                                                                                                                                                                                                                                                   description  \\\n",
       "5750        Продам два смежных участка по 6 соток на ул. Фортификационная. \\nКатегория земли: Земли населённых пунктов.\\nКадастровые номера: 91:01:008001:317 и 91:01:008001:733 к участкам подведена дорога, в конце лета будет подключено электричество. Цена указана за 6 с   \n",
       "11461  Срочно, цена снижена временно! \\nПродам земельный участок в Казачьей бухте возле моря! \\n\\nРасположен в СТ «Рыбак-6» (рядом находятся «Рыбак-7», «Ахтиар», «Скалистый», «Атлантика-1 и 2, и другие кооперативы.\\n\\nОбщая площадь 7,67 соток.\\n\\nКадастровый номер 91:02   \n",
       "670       Продаю свой участок Ижс 4,5 соток! Первая линия ул. Горпищенко! Адрес ул. Муромская 138/7-А!, кадастровый номер 91:04:000000:870.\\nДлина участка 34м, ширина 16м! \\nУчасток ровный! \\nВ двух минутах остановка, рядом школы, садики, магазины, торговый центр! \\nЕст   \n",
       "\n",
       "       avito_page                      ts       place  area  is_IJS  priceM  \\\n",
       "5750            5 2022-09-19 12:39:53.571  sevastopol  6.00    True    2.00   \n",
       "11461           9 2022-11-01 13:58:37.789  sevastopol  7.70    True    2.80   \n",
       "670            15 2022-09-08 16:04:40.227  sevastopol  4.50    True    5.20   \n",
       "\n",
       "       priceMU area_size_category  \n",
       "5750      0.33                4-8  \n",
       "11461     0.36                4-8  \n",
       "670       1.16                4-8  "
      ]
     },
     "execution_count": 11,
     "metadata": {},
     "output_type": "execute_result"
    }
   ],
   "source": [
    "data_avito.sample(3)"
   ]
  },
  {
   "cell_type": "code",
   "execution_count": 12,
   "id": "ce2869e1",
   "metadata": {},
   "outputs": [],
   "source": [
    "assert len(data_avito)>0"
   ]
  },
  {
   "cell_type": "code",
   "execution_count": 13,
   "id": "12170700",
   "metadata": {},
   "outputs": [
    {
     "name": "stdout",
     "output_type": "stream",
     "text": [
      "<class 'pandas.core.frame.DataFrame'>\n",
      "RangeIndex: 15169 entries, 0 to 15168\n",
      "Data columns (total 14 columns):\n",
      " #   Column              Non-Null Count  Dtype         \n",
      "---  ------              --------------  -----         \n",
      " 0   avito_id            15169 non-null  int64         \n",
      " 1   title               15169 non-null  object        \n",
      " 2   price               15169 non-null  int64         \n",
      " 3   obj_name            15169 non-null  object        \n",
      " 4   adr                 15169 non-null  object        \n",
      " 5   description         15169 non-null  object        \n",
      " 6   avito_page          15169 non-null  int64         \n",
      " 7   ts                  15169 non-null  datetime64[ns]\n",
      " 8   place               15169 non-null  object        \n",
      " 9   area                15169 non-null  float64       \n",
      " 10  is_IJS              15169 non-null  bool          \n",
      " 11  priceM              15169 non-null  float64       \n",
      " 12  priceMU             15169 non-null  float64       \n",
      " 13  area_size_category  15159 non-null  category      \n",
      "dtypes: bool(1), category(1), datetime64[ns](1), float64(3), int64(3), object(5)\n",
      "memory usage: 1.4+ MB\n"
     ]
    }
   ],
   "source": [
    "data_avito.info()"
   ]
  },
  {
   "cell_type": "markdown",
   "id": "f3ca7967",
   "metadata": {},
   "source": [
    "---"
   ]
  },
  {
   "cell_type": "code",
   "execution_count": 14,
   "id": "dac90e1f",
   "metadata": {},
   "outputs": [],
   "source": [
    "data_avito['url'] = 'https://avito.ru/' + data_avito['avito_id'].astype(int).astype(str)\n",
    "data_avito = data_avito.drop(columns=['avito_id'])\n",
    "# data_cian = data_cian.rename(columns={'cian_url':'url'})"
   ]
  },
  {
   "cell_type": "code",
   "execution_count": 15,
   "id": "2db629e4",
   "metadata": {},
   "outputs": [
    {
     "name": "stdout",
     "output_type": "stream",
     "text": [
      "15169\n"
     ]
    }
   ],
   "source": [
    "data = data_avito.reset_index(drop=True) \n",
    "print(len(data))\n",
    "assert len(data)>0"
   ]
  },
  {
   "cell_type": "markdown",
   "id": "2903ab86",
   "metadata": {},
   "source": [
    "## обновляем таблицу адресов"
   ]
  },
  {
   "cell_type": "code",
   "execution_count": 16,
   "id": "999ddbae",
   "metadata": {},
   "outputs": [],
   "source": [
    "# data_ = data.sample(15).reset_index(drop=True)\n",
    "# data_[['adr']]"
   ]
  },
  {
   "cell_type": "code",
   "execution_count": 17,
   "id": "e849be88",
   "metadata": {},
   "outputs": [],
   "source": [
    "places = { \n",
    "# поле 'place' и название города\n",
    "'bahchisaray': 'Бахчисарай,',\n",
    "      'sudak': 'Судак,',\n",
    "  'sevastopol': 'Севастополь,',\n",
    "}\n",
    "\n",
    "def norm_place(d,places=places):\n",
    "    if not d['place'] in places: return d['adr_']\n",
    "    p = places[ d['place'] ]\n",
    "    return d['adr_'] if d['adr_'].find(p)>-1 else p+d['adr_']"
   ]
  },
  {
   "cell_type": "code",
   "execution_count": 18,
   "id": "beb335f3",
   "metadata": {},
   "outputs": [
    {
     "data": {
      "application/vnd.jupyter.widget-view+json": {
       "model_id": "2cec0eb8a34c4ec9866264b834a0941e",
       "version_major": 2,
       "version_minor": 0
      },
      "text/plain": [
       "  0%|          | 0/15169 [00:00<?, ?it/s]"
      ]
     },
     "metadata": {},
     "output_type": "display_data"
    },
    {
     "data": {
      "application/vnd.jupyter.widget-view+json": {
       "model_id": "761e40a2088d4d2db00528851731327d",
       "version_major": 2,
       "version_minor": 0
      },
      "text/plain": [
       "  0%|          | 0/15169 [00:00<?, ?it/s]"
      ]
     },
     "metadata": {},
     "output_type": "display_data"
    }
   ],
   "source": [
    "from lib.locator import AddressTransformer\n",
    "\n",
    "atr = AddressTransformer()\n",
    "data['adr_'] = data['adr'].progress_apply(atr.transform)\n",
    "data['adr_'] = data[['adr_','place']].progress_apply(norm_place,axis=1)\n",
    "data = data.rename(columns={'adr':'adr_orig','adr_':'adr'})"
   ]
  },
  {
   "cell_type": "code",
   "execution_count": 19,
   "id": "f773346b",
   "metadata": {},
   "outputs": [
    {
     "data": {
      "text/html": [
       "<div>\n",
       "<style scoped>\n",
       "    .dataframe tbody tr th:only-of-type {\n",
       "        vertical-align: middle;\n",
       "    }\n",
       "\n",
       "    .dataframe tbody tr th {\n",
       "        vertical-align: top;\n",
       "    }\n",
       "\n",
       "    .dataframe thead th {\n",
       "        text-align: right;\n",
       "    }\n",
       "</style>\n",
       "<table border=\"1\" class=\"dataframe\">\n",
       "  <thead>\n",
       "    <tr style=\"text-align: right;\">\n",
       "      <th></th>\n",
       "      <th>adr_orig</th>\n",
       "      <th>adr</th>\n",
       "    </tr>\n",
       "  </thead>\n",
       "  <tbody>\n",
       "    <tr>\n",
       "      <th>12519</th>\n",
       "      <td>Нахимовский муниципальный округ, посёлок Любимовка</td>\n",
       "      <td>Севастополь,Нахимовский район , Любимовка</td>\n",
       "    </tr>\n",
       "    <tr>\n",
       "      <th>4222</th>\n",
       "      <td>коттеджный пос. Сияние Севастополя</td>\n",
       "      <td>Севастополь,коттеджный пос. Сияние Севастополя</td>\n",
       "    </tr>\n",
       "    <tr>\n",
       "      <th>9333</th>\n",
       "      <td>садоводческое товарищество Вишенка, ул. Анатолия Дрыгина</td>\n",
       "      <td>Севастополь,садоводческое товарищество Вишенка, ул. Анатолия Дрыгина</td>\n",
       "    </tr>\n",
       "    <tr>\n",
       "      <th>4640</th>\n",
       "      <td>ул. 2-я Линия</td>\n",
       "      <td>Севастополь,ул. 2-я Линия</td>\n",
       "    </tr>\n",
       "    <tr>\n",
       "      <th>14869</th>\n",
       "      <td>ул. Глухова</td>\n",
       "      <td>Севастополь,ул. Глухова</td>\n",
       "    </tr>\n",
       "    <tr>\n",
       "      <th>699</th>\n",
       "      <td>Балаклава, Фонтанный пер., 28А</td>\n",
       "      <td>Севастополь,Балаклава, Фонтанный пер., 28А</td>\n",
       "    </tr>\n",
       "    <tr>\n",
       "      <th>7712</th>\n",
       "      <td>Балаклава, ул. Василия Жукова</td>\n",
       "      <td>Севастополь,Балаклава, ул. Василия Жукова</td>\n",
       "    </tr>\n",
       "    <tr>\n",
       "      <th>13274</th>\n",
       "      <td>ул. 2-я Линия</td>\n",
       "      <td>Севастополь,ул. 2-я Линия</td>\n",
       "    </tr>\n",
       "    <tr>\n",
       "      <th>260</th>\n",
       "      <td>ул. Генерала Провалова, 36</td>\n",
       "      <td>Севастополь,ул. Генерала Провалова, 36</td>\n",
       "    </tr>\n",
       "    <tr>\n",
       "      <th>8959</th>\n",
       "      <td>Камышовое ш., 24/2</td>\n",
       "      <td>Севастополь,Камышовое ш., 24/2</td>\n",
       "    </tr>\n",
       "  </tbody>\n",
       "</table>\n",
       "</div>"
      ],
      "text/plain": [
       "                                                       adr_orig  \\\n",
       "12519        Нахимовский муниципальный округ, посёлок Любимовка   \n",
       "4222                         коттеджный пос. Сияние Севастополя   \n",
       "9333   садоводческое товарищество Вишенка, ул. Анатолия Дрыгина   \n",
       "4640                                              ул. 2-я Линия   \n",
       "14869                                               ул. Глухова   \n",
       "699                              Балаклава, Фонтанный пер., 28А   \n",
       "7712                              Балаклава, ул. Василия Жукова   \n",
       "13274                                             ул. 2-я Линия   \n",
       "260                                  ул. Генерала Провалова, 36   \n",
       "8959                                         Камышовое ш., 24/2   \n",
       "\n",
       "                                                                        adr  \n",
       "12519                             Севастополь,Нахимовский район , Любимовка  \n",
       "4222                         Севастополь,коттеджный пос. Сияние Севастополя  \n",
       "9333   Севастополь,садоводческое товарищество Вишенка, ул. Анатолия Дрыгина  \n",
       "4640                                              Севастополь,ул. 2-я Линия  \n",
       "14869                                               Севастополь,ул. Глухова  \n",
       "699                              Севастополь,Балаклава, Фонтанный пер., 28А  \n",
       "7712                              Севастополь,Балаклава, ул. Василия Жукова  \n",
       "13274                                             Севастополь,ул. 2-я Линия  \n",
       "260                                  Севастополь,ул. Генерала Провалова, 36  \n",
       "8959                                         Севастополь,Камышовое ш., 24/2  "
      ]
     },
     "execution_count": 19,
     "metadata": {},
     "output_type": "execute_result"
    }
   ],
   "source": [
    "data[['adr_orig','adr']].sample(10)"
   ]
  },
  {
   "cell_type": "code",
   "execution_count": 20,
   "id": "86a30244",
   "metadata": {},
   "outputs": [
    {
     "name": "stdout",
     "output_type": "stream",
     "text": [
      "[INFO    ] 2022-11-15 13:28:42 | LocationUpdater: 7192 addresses in index\n",
      "[INFO    ] 2022-11-15 13:28:42 | LocationUpdater: 7240 addresses total\n",
      "[INFO    ] 2022-11-15 13:28:42 | LocationUpdater: 7192 addresses defined\n",
      "[INFO    ] 2022-11-15 13:28:42 | LocationUpdater: 48 addresses undefined\n"
     ]
    },
    {
     "data": {
      "application/vnd.jupyter.widget-view+json": {
       "model_id": "02e4f2f4cd57429780619a581fcd7ddc",
       "version_major": 2,
       "version_minor": 0
      },
      "text/plain": [
       "  0%|          | 0/48 [00:00<?, ?it/s]"
      ]
     },
     "metadata": {},
     "output_type": "display_data"
    },
    {
     "name": "stdout",
     "output_type": "stream",
     "text": [
      "[INFO    ] 2022-11-15 13:28:57 | LocationUpdater: 48 new addresses found\n"
     ]
    }
   ],
   "source": [
    "# from lib.locator import GeocoderSimpleOSM\n",
    "from lib.locator import GeocoderYandex\n",
    "from yandex_keys import keys\n",
    "\n",
    "atr = AddressTransformer()\n",
    "locator = GeocoderYandex(keys[0])\n",
    "# locator = GeocoderSimpleOSM()\n",
    "\n",
    "loc_file_path = 'data/location.pkl' # таблица адресов\n",
    "loc = pd.read_pickle(loc_file_path)\n",
    "# loc = pd.DataFrame([],columns=['adr','latitude','longitude',])\n",
    "logging.info(f'LocationUpdater: {len(loc)} addresses in index')\n",
    "\n",
    "# собираем все адреса в один список\n",
    "loc = loc.merge(\n",
    "        data[['adr']].drop_duplicates(),\n",
    "        how='outer',\n",
    "        on='adr',\n",
    "    ).drop_duplicates().reset_index(drop=True)\n",
    "\n",
    "logging.info(f'LocationUpdater: {len(loc)} addresses total')\n",
    "\n",
    "# собираем все адреса с геопозицией\n",
    "loc_def = loc[~loc['latitude'].isna()].reset_index(drop=True)\n",
    "logging.info(f'LocationUpdater: {len(loc_def)} addresses defined')\n",
    "\n",
    "# собираем все адреса без геопозиции\n",
    "loc_undef = loc[loc['latitude'].isna()][['adr']].reset_index(drop=True)\n",
    "logging.info(f'LocationUpdater: {len(loc_undef)} addresses undefined')\n",
    "\n",
    "if len(loc_undef)>0:\n",
    "    # определяем координаты по строке адреса\n",
    "    loc_undef = loc_undef.join( loc_undef['adr'].progress_apply(locator.transform).apply(pd.Series) ).dropna()     \n",
    "    logging.info(f'LocationUpdater: {len(loc_undef)} new addresses found')\n",
    "    loc = pd.concat([loc_def,loc_undef]).reset_index(drop=True) \n",
    "    assert len(loc)>0\n",
    "    loc.to_pickle(loc_file_path)"
   ]
  },
  {
   "cell_type": "code",
   "execution_count": 21,
   "id": "19741bb7",
   "metadata": {},
   "outputs": [
    {
     "name": "stdout",
     "output_type": "stream",
     "text": [
      "7240\n"
     ]
    },
    {
     "data": {
      "text/html": [
       "<div>\n",
       "<style scoped>\n",
       "    .dataframe tbody tr th:only-of-type {\n",
       "        vertical-align: middle;\n",
       "    }\n",
       "\n",
       "    .dataframe tbody tr th {\n",
       "        vertical-align: top;\n",
       "    }\n",
       "\n",
       "    .dataframe thead th {\n",
       "        text-align: right;\n",
       "    }\n",
       "</style>\n",
       "<table border=\"1\" class=\"dataframe\">\n",
       "  <thead>\n",
       "    <tr style=\"text-align: right;\">\n",
       "      <th></th>\n",
       "      <th>latitude</th>\n",
       "      <th>longitude</th>\n",
       "      <th>adr</th>\n",
       "    </tr>\n",
       "  </thead>\n",
       "  <tbody>\n",
       "    <tr>\n",
       "      <th>4356</th>\n",
       "      <td>44.57</td>\n",
       "      <td>33.46</td>\n",
       "      <td>Севастополь,ул. Романтиков, 22</td>\n",
       "    </tr>\n",
       "    <tr>\n",
       "      <th>3267</th>\n",
       "      <td>44.60</td>\n",
       "      <td>33.47</td>\n",
       "      <td>Севастополь,Коралловая ул., 1</td>\n",
       "    </tr>\n",
       "    <tr>\n",
       "      <th>3152</th>\n",
       "      <td>44.67</td>\n",
       "      <td>33.55</td>\n",
       "      <td>Севастополь,Фёдоровская ул.</td>\n",
       "    </tr>\n",
       "  </tbody>\n",
       "</table>\n",
       "</div>"
      ],
      "text/plain": [
       "     latitude longitude                             adr\n",
       "4356    44.57     33.46  Севастополь,ул. Романтиков, 22\n",
       "3267    44.60     33.47   Севастополь,Коралловая ул., 1\n",
       "3152    44.67     33.55     Севастополь,Фёдоровская ул."
      ]
     },
     "execution_count": 21,
     "metadata": {},
     "output_type": "execute_result"
    }
   ],
   "source": [
    "print( len(loc) )\n",
    "loc.sample(3)"
   ]
  },
  {
   "cell_type": "markdown",
   "id": "25e27e33",
   "metadata": {},
   "source": [
    "## дополняем данные геометкой"
   ]
  },
  {
   "cell_type": "code",
   "execution_count": 22,
   "id": "77ac354e",
   "metadata": {},
   "outputs": [
    {
     "name": "stdout",
     "output_type": "stream",
     "text": [
      "всего записей: 15169\n",
      "записей без геометки: 0\n",
      "<class 'pandas.core.frame.DataFrame'>\n",
      "Int64Index: 15169 entries, 0 to 15168\n",
      "Data columns (total 17 columns):\n",
      " #   Column              Non-Null Count  Dtype         \n",
      "---  ------              --------------  -----         \n",
      " 0   title               15169 non-null  object        \n",
      " 1   price               15169 non-null  int64         \n",
      " 2   obj_name            15169 non-null  object        \n",
      " 3   adr_orig            15169 non-null  object        \n",
      " 4   description         15169 non-null  object        \n",
      " 5   avito_page          15169 non-null  int64         \n",
      " 6   ts                  15169 non-null  datetime64[ns]\n",
      " 7   place               15169 non-null  object        \n",
      " 8   area                15169 non-null  float64       \n",
      " 9   is_IJS              15169 non-null  bool          \n",
      " 10  priceM              15169 non-null  float64       \n",
      " 11  priceMU             15169 non-null  float64       \n",
      " 12  area_size_category  15159 non-null  category      \n",
      " 13  url                 15169 non-null  object        \n",
      " 14  adr                 15169 non-null  object        \n",
      " 15  latitude            15169 non-null  object        \n",
      " 16  longitude           15169 non-null  object        \n",
      "dtypes: bool(1), category(1), datetime64[ns](1), float64(3), int64(2), object(9)\n",
      "memory usage: 1.9+ MB\n"
     ]
    }
   ],
   "source": [
    "# data = data.rename(columns={'adr':'adr_orig','adr_':'adr'})\n",
    "\n",
    "data = data.merge(loc,on=['adr'],how='left')\n",
    "\n",
    "print('всего записей:', len( data) )\n",
    "print('записей без геометки:', len( data[ data['latitude'].isna() ] ) )\n",
    "\n",
    "assert len(data)>0\n",
    "data.to_pickle(result_file_path)\n",
    "\n",
    "data.info()"
   ]
  },
  {
   "cell_type": "code",
   "execution_count": null,
   "id": "64c38175",
   "metadata": {},
   "outputs": [],
   "source": []
  }
 ],
 "metadata": {
  "kernelspec": {
   "display_name": "Python 3 (ipykernel)",
   "language": "python",
   "name": "python3"
  },
  "language_info": {
   "codemirror_mode": {
    "name": "ipython",
    "version": 3
   },
   "file_extension": ".py",
   "mimetype": "text/x-python",
   "name": "python",
   "nbconvert_exporter": "python",
   "pygments_lexer": "ipython3",
   "version": "3.10.8"
  },
  "toc": {
   "base_numbering": 1,
   "nav_menu": {},
   "number_sections": true,
   "sideBar": true,
   "skip_h1_title": false,
   "title_cell": "Table of Contents",
   "title_sidebar": "Contents",
   "toc_cell": false,
   "toc_position": {
    "height": "calc(100% - 180px)",
    "left": "10px",
    "top": "150px",
    "width": "291.594px"
   },
   "toc_section_display": true,
   "toc_window_display": true
  },
  "varInspector": {
   "cols": {
    "lenName": 16,
    "lenType": 16,
    "lenVar": 40
   },
   "kernels_config": {
    "python": {
     "delete_cmd_postfix": "",
     "delete_cmd_prefix": "del ",
     "library": "var_list.py",
     "varRefreshCmd": "print(var_dic_list())"
    },
    "r": {
     "delete_cmd_postfix": ") ",
     "delete_cmd_prefix": "rm(",
     "library": "var_list.r",
     "varRefreshCmd": "cat(var_dic_list()) "
    }
   },
   "types_to_exclude": [
    "module",
    "function",
    "builtin_function_or_method",
    "instance",
    "_Feature"
   ],
   "window_display": false
  }
 },
 "nbformat": 4,
 "nbformat_minor": 5
}
