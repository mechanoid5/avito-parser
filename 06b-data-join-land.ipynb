{
 "cells": [
  {
   "cell_type": "markdown",
   "id": "7bec28d7",
   "metadata": {},
   "source": [
    "__собираем предложения о земельных участках__\n",
    "\n",
    "_Evgeny S. Borisov <parser@mechanoid.su>_"
   ]
  },
  {
   "cell_type": "code",
   "execution_count": 1,
   "id": "52c5999f",
   "metadata": {},
   "outputs": [],
   "source": [
    "# !pacman -S firefox firefox-i18n-r  geckodriver\n",
    "# !pip install seleniuam"
   ]
  },
  {
   "cell_type": "code",
   "execution_count": 2,
   "id": "bcea4d8b",
   "metadata": {
    "ExecuteTime": {
     "end_time": "2022-08-26T14:19:06.118492Z",
     "start_time": "2022-08-26T14:13:37.888398Z"
    }
   },
   "outputs": [],
   "source": [
    "# import re\n",
    "import sys\n",
    "import logging\n",
    "from datetime import datetime as dtm\n",
    "from tqdm.notebook import tqdm\n",
    "import pandas as pd"
   ]
  },
  {
   "cell_type": "code",
   "execution_count": 3,
   "id": "caabc8c7",
   "metadata": {
    "ExecuteTime": {
     "end_time": "2022-08-26T14:19:06.118492Z",
     "start_time": "2022-08-26T14:13:37.888398Z"
    }
   },
   "outputs": [],
   "source": [
    "pd.set_option('display.max_colwidth', None)\n",
    "pd.set_option('display.float_format', '{:.2f}'.format)\n",
    "tqdm.pandas()\n",
    "\n",
    "logging.basicConfig(\n",
    "        format=u'[%(levelname)-8s] %(asctime)s | %(message)s',\n",
    "        datefmt='%Y-%m-%d %H:%M:%S',\n",
    "        level=logging.INFO,\n",
    "        # level=logging.DEBUG,\n",
    "        stream=sys.stdout,\n",
    "    )"
   ]
  },
  {
   "cell_type": "markdown",
   "id": "db3fe2be",
   "metadata": {},
   "source": [
    "---"
   ]
  },
  {
   "cell_type": "code",
   "execution_count": 4,
   "id": "d437eab9",
   "metadata": {},
   "outputs": [],
   "source": [
    "# каталог с файлами объявлений\n",
    "avito_raw_data_path = 'data/raw/land/avito' \n",
    "# cian_raw_data_path = 'data/raw/cian'\n",
    "result_file_path = 'data/data_land.pkl'"
   ]
  },
  {
   "cell_type": "code",
   "execution_count": 5,
   "id": "31463a1e",
   "metadata": {},
   "outputs": [],
   "source": [
    "# ts = dtm.now().strftime('%Y-%m-%d_%H-%M')\n",
    "# ts"
   ]
  },
  {
   "cell_type": "markdown",
   "id": "98f6384f",
   "metadata": {},
   "source": [
    "## собираем данные авито.ру"
   ]
  },
  {
   "cell_type": "code",
   "execution_count": 6,
   "id": "2673ef1f",
   "metadata": {},
   "outputs": [
    {
     "data": {
      "text/plain": [
       "['data/raw/land/avito/avito_2022-09-08_16-05_raw.xlsx',\n",
       " 'data/raw/land/avito/avito_2022-09-12_13-51_raw.xlsx',\n",
       " 'data/raw/land/avito/avito_2022-09-13_13-56_raw.xlsx',\n",
       " 'data/raw/land/avito/avito_2022-09-15_10-31_raw.xlsx',\n",
       " 'data/raw/land/avito/avito_2022-09-16_15-10_raw.xlsx',\n",
       " 'data/raw/land/avito/avito_2022-09-19_12-39_raw.xlsx',\n",
       " 'data/raw/land/avito/avito_2022-09-22_09-57_raw.xlsx',\n",
       " 'data/raw/land/avito/avito_2022-09-26_11-22_raw.xlsx']"
      ]
     },
     "execution_count": 6,
     "metadata": {},
     "output_type": "execute_result"
    }
   ],
   "source": [
    "import re\n",
    "from os import listdir\n",
    "\n",
    "raw_data_files = sorted([\n",
    "        avito_raw_data_path+'/'+f \n",
    "        for f in listdir(avito_raw_data_path) \n",
    "        if re.match(r'.+\\.xlsx$',f)\n",
    "    ])\n",
    "raw_data_files"
   ]
  },
  {
   "cell_type": "code",
   "execution_count": 7,
   "id": "adb5b19b",
   "metadata": {},
   "outputs": [],
   "source": [
    "# for f in raw_data_files:\n",
    "#     df = pd.read_excel(f)\n",
    "#     df['place']='sevastopol'\n",
    "#     df.to_excel(f,index=False)\n",
    "#     print(f)"
   ]
  },
  {
   "cell_type": "code",
   "execution_count": 8,
   "id": "347629e1",
   "metadata": {},
   "outputs": [
    {
     "name": "stdout",
     "output_type": "stream",
     "text": [
      "8815\n"
     ]
    }
   ],
   "source": [
    "data_avito = pd.concat([\n",
    "        pd\n",
    "        .read_excel(f)\n",
    "        #.dropna()\n",
    "        .drop_duplicates(['avito_id','description'])\n",
    "        .rename(columns={'page':'avito_page'})\n",
    "        .reset_index(drop=True)  \n",
    "        for f in raw_data_files\n",
    "    ]).reset_index(drop=True)\n",
    "\n",
    "print(len(data_avito))"
   ]
  },
  {
   "cell_type": "code",
   "execution_count": 9,
   "id": "2a992037",
   "metadata": {},
   "outputs": [],
   "source": [
    "# data_avito"
   ]
  },
  {
   "cell_type": "code",
   "execution_count": 10,
   "id": "cbce7aaa",
   "metadata": {},
   "outputs": [
    {
     "name": "stdout",
     "output_type": "stream",
     "text": [
      "8815\n"
     ]
    }
   ],
   "source": [
    "from lib.avito import AvitoDataCleanerRealtyLand\n",
    "\n",
    "data_avito = AvitoDataCleanerRealtyLand().transform( data_avito )\n",
    "\n",
    "print(len(data_avito))"
   ]
  },
  {
   "cell_type": "code",
   "execution_count": 11,
   "id": "becaac57",
   "metadata": {},
   "outputs": [
    {
     "data": {
      "text/html": [
       "<div>\n",
       "<style scoped>\n",
       "    .dataframe tbody tr th:only-of-type {\n",
       "        vertical-align: middle;\n",
       "    }\n",
       "\n",
       "    .dataframe tbody tr th {\n",
       "        vertical-align: top;\n",
       "    }\n",
       "\n",
       "    .dataframe thead th {\n",
       "        text-align: right;\n",
       "    }\n",
       "</style>\n",
       "<table border=\"1\" class=\"dataframe\">\n",
       "  <thead>\n",
       "    <tr style=\"text-align: right;\">\n",
       "      <th></th>\n",
       "      <th>avito_id</th>\n",
       "      <th>title</th>\n",
       "      <th>price</th>\n",
       "      <th>obj_name</th>\n",
       "      <th>adr</th>\n",
       "      <th>description</th>\n",
       "      <th>avito_page</th>\n",
       "      <th>ts</th>\n",
       "      <th>place</th>\n",
       "      <th>area</th>\n",
       "      <th>is_IJS</th>\n",
       "      <th>priceM</th>\n",
       "      <th>priceMU</th>\n",
       "      <th>area_size_category</th>\n",
       "    </tr>\n",
       "  </thead>\n",
       "  <tbody>\n",
       "    <tr>\n",
       "      <th>7418</th>\n",
       "      <td>2302265468</td>\n",
       "      <td>Участок 10 сот. (ИЖС)</td>\n",
       "      <td>5000000</td>\n",
       "      <td></td>\n",
       "      <td>с. Широкое, ул. Клюшкина, 47</td>\n",
       "      <td>Продаёться участок 10 соток. Мы собственники. Рядом уже построены дома. Участок без застроек. Документы под Ижс. Ограничений нет. Торг возможен.</td>\n",
       "      <td>16</td>\n",
       "      <td>2022-09-22 09:57:15.623</td>\n",
       "      <td>sevastopol</td>\n",
       "      <td>10.00</td>\n",
       "      <td>True</td>\n",
       "      <td>5.00</td>\n",
       "      <td>0.50</td>\n",
       "      <td>8-20</td>\n",
       "    </tr>\n",
       "    <tr>\n",
       "      <th>8033</th>\n",
       "      <td>2560542338</td>\n",
       "      <td>Участок 6,1 сот. (ИЖС)</td>\n",
       "      <td>1700000</td>\n",
       "      <td></td>\n",
       "      <td>пос. Солнечный, Апрельская ул.</td>\n",
       "      <td>Участок 6,1 сотка Ижс.\\n\\nУчасток 6,1 сотка (Ижс) расположен в г. Севастополь, Нахимовский район, поселок Солнечный, улица Апрельская. Участок ровный, правильной формы, размерами 20м*30м, без уклона. Подъезд асфальтированный. \\n\\nПозвоните нам, чтобы узнать вс</td>\n",
       "      <td>7</td>\n",
       "      <td>2022-09-26 11:22:23.724</td>\n",
       "      <td>sevastopol</td>\n",
       "      <td>6.10</td>\n",
       "      <td>True</td>\n",
       "      <td>1.70</td>\n",
       "      <td>0.28</td>\n",
       "      <td>4-8</td>\n",
       "    </tr>\n",
       "    <tr>\n",
       "      <th>7007</th>\n",
       "      <td>2474508431</td>\n",
       "      <td>Участок 5 сот. (ИЖС)</td>\n",
       "      <td>1450000</td>\n",
       "      <td></td>\n",
       "      <td>Дачный пер., 10</td>\n",
       "      <td>Продам земельный участок в Севастополе, в районе Лабораторного шоссе. Ижс. Район активно застраивается новенькими котеджами. Площадь участка 5 соток, электричество 15 квт, скоро будет городская вода, газ в перспективе. Среди сосен и холмов открывается шика</td>\n",
       "      <td>8</td>\n",
       "      <td>2022-09-22 09:57:15.623</td>\n",
       "      <td>sevastopol</td>\n",
       "      <td>5.00</td>\n",
       "      <td>True</td>\n",
       "      <td>1.45</td>\n",
       "      <td>0.29</td>\n",
       "      <td>4-8</td>\n",
       "    </tr>\n",
       "  </tbody>\n",
       "</table>\n",
       "</div>"
      ],
      "text/plain": [
       "        avito_id                   title    price obj_name  \\\n",
       "7418  2302265468   Участок 10 сот. (ИЖС)  5000000            \n",
       "8033  2560542338  Участок 6,1 сот. (ИЖС)  1700000            \n",
       "7007  2474508431    Участок 5 сот. (ИЖС)  1450000            \n",
       "\n",
       "                                 adr  \\\n",
       "7418    с. Широкое, ул. Клюшкина, 47   \n",
       "8033  пос. Солнечный, Апрельская ул.   \n",
       "7007                 Дачный пер., 10   \n",
       "\n",
       "                                                                                                                                                                                                                                                               description  \\\n",
       "7418                                                                                                                      Продаёться участок 10 соток. Мы собственники. Рядом уже построены дома. Участок без застроек. Документы под Ижс. Ограничений нет. Торг возможен.   \n",
       "8033  Участок 6,1 сотка Ижс.\\n\\nУчасток 6,1 сотка (Ижс) расположен в г. Севастополь, Нахимовский район, поселок Солнечный, улица Апрельская. Участок ровный, правильной формы, размерами 20м*30м, без уклона. Подъезд асфальтированный. \\n\\nПозвоните нам, чтобы узнать вс   \n",
       "7007      Продам земельный участок в Севастополе, в районе Лабораторного шоссе. Ижс. Район активно застраивается новенькими котеджами. Площадь участка 5 соток, электричество 15 квт, скоро будет городская вода, газ в перспективе. Среди сосен и холмов открывается шика   \n",
       "\n",
       "      avito_page                      ts       place  area  is_IJS  priceM  \\\n",
       "7418          16 2022-09-22 09:57:15.623  sevastopol 10.00    True    5.00   \n",
       "8033           7 2022-09-26 11:22:23.724  sevastopol  6.10    True    1.70   \n",
       "7007           8 2022-09-22 09:57:15.623  sevastopol  5.00    True    1.45   \n",
       "\n",
       "      priceMU area_size_category  \n",
       "7418     0.50               8-20  \n",
       "8033     0.28                4-8  \n",
       "7007     0.29                4-8  "
      ]
     },
     "execution_count": 11,
     "metadata": {},
     "output_type": "execute_result"
    }
   ],
   "source": [
    "data_avito.sample(3)"
   ]
  },
  {
   "cell_type": "code",
   "execution_count": 12,
   "id": "ce2869e1",
   "metadata": {},
   "outputs": [],
   "source": [
    "assert len(data_avito)>0"
   ]
  },
  {
   "cell_type": "code",
   "execution_count": 13,
   "id": "12170700",
   "metadata": {},
   "outputs": [
    {
     "name": "stdout",
     "output_type": "stream",
     "text": [
      "<class 'pandas.core.frame.DataFrame'>\n",
      "RangeIndex: 8815 entries, 0 to 8814\n",
      "Data columns (total 14 columns):\n",
      " #   Column              Non-Null Count  Dtype         \n",
      "---  ------              --------------  -----         \n",
      " 0   avito_id            8815 non-null   int64         \n",
      " 1   title               8815 non-null   object        \n",
      " 2   price               8815 non-null   int64         \n",
      " 3   obj_name            8815 non-null   object        \n",
      " 4   adr                 8815 non-null   object        \n",
      " 5   description         8815 non-null   object        \n",
      " 6   avito_page          8815 non-null   int64         \n",
      " 7   ts                  8815 non-null   datetime64[ns]\n",
      " 8   place               8815 non-null   object        \n",
      " 9   area                8815 non-null   float64       \n",
      " 10  is_IJS              8815 non-null   bool          \n",
      " 11  priceM              8815 non-null   float64       \n",
      " 12  priceMU             8815 non-null   float64       \n",
      " 13  area_size_category  8815 non-null   category      \n",
      "dtypes: bool(1), category(1), datetime64[ns](1), float64(3), int64(3), object(5)\n",
      "memory usage: 844.0+ KB\n"
     ]
    }
   ],
   "source": [
    "data_avito.info()"
   ]
  },
  {
   "cell_type": "markdown",
   "id": "f3ca7967",
   "metadata": {},
   "source": [
    "---"
   ]
  },
  {
   "cell_type": "code",
   "execution_count": 14,
   "id": "dac90e1f",
   "metadata": {},
   "outputs": [],
   "source": [
    "data_avito['url'] = 'https://avito.ru/' + data_avito['avito_id'].astype(int).astype(str)\n",
    "data_avito = data_avito.drop(columns=['avito_id'])\n",
    "# data_cian = data_cian.rename(columns={'cian_url':'url'})"
   ]
  },
  {
   "cell_type": "code",
   "execution_count": 15,
   "id": "2db629e4",
   "metadata": {},
   "outputs": [
    {
     "name": "stdout",
     "output_type": "stream",
     "text": [
      "8815\n"
     ]
    }
   ],
   "source": [
    "data = data_avito.reset_index(drop=True) \n",
    "print(len(data))\n",
    "assert len(data)>0"
   ]
  },
  {
   "cell_type": "markdown",
   "id": "2903ab86",
   "metadata": {},
   "source": [
    "## обновляем таблицу адресов"
   ]
  },
  {
   "cell_type": "code",
   "execution_count": 16,
   "id": "999ddbae",
   "metadata": {},
   "outputs": [],
   "source": [
    "# data_ = data.sample(15).reset_index(drop=True)\n",
    "# data_[['adr']]"
   ]
  },
  {
   "cell_type": "code",
   "execution_count": 17,
   "id": "e849be88",
   "metadata": {},
   "outputs": [],
   "source": [
    "places = { \n",
    "# поле 'place' и название города\n",
    "'bahchisaray': 'Бахчисарай,',\n",
    "      'sudak': 'Судак,',\n",
    "  'sevastopol': 'Севастополь,',\n",
    "}\n",
    "\n",
    "def norm_place(d,places=places):\n",
    "    if not d['place'] in places: return d['adr_']\n",
    "    p = places[ d['place'] ]\n",
    "    return d['adr_'] if d['adr_'].find(p)>-1 else p+d['adr_']"
   ]
  },
  {
   "cell_type": "code",
   "execution_count": 18,
   "id": "beb335f3",
   "metadata": {},
   "outputs": [
    {
     "data": {
      "application/vnd.jupyter.widget-view+json": {
       "model_id": "3d56b52913b240c1b563dbce5b553fba",
       "version_major": 2,
       "version_minor": 0
      },
      "text/plain": [
       "  0%|          | 0/8815 [00:00<?, ?it/s]"
      ]
     },
     "metadata": {},
     "output_type": "display_data"
    },
    {
     "data": {
      "application/vnd.jupyter.widget-view+json": {
       "model_id": "c32a25c4f98049f3aca70bfd109d5657",
       "version_major": 2,
       "version_minor": 0
      },
      "text/plain": [
       "  0%|          | 0/8815 [00:00<?, ?it/s]"
      ]
     },
     "metadata": {},
     "output_type": "display_data"
    }
   ],
   "source": [
    "from lib.locator import AddressTransformer\n",
    "\n",
    "atr = AddressTransformer()\n",
    "data['adr_'] = data['adr'].progress_apply(atr.transform)\n",
    "data['adr_'] = data[['adr_','place']].progress_apply(norm_place,axis=1)\n",
    "data = data.rename(columns={'adr':'adr_orig','adr_':'adr'})"
   ]
  },
  {
   "cell_type": "code",
   "execution_count": 19,
   "id": "f773346b",
   "metadata": {},
   "outputs": [
    {
     "data": {
      "text/html": [
       "<div>\n",
       "<style scoped>\n",
       "    .dataframe tbody tr th:only-of-type {\n",
       "        vertical-align: middle;\n",
       "    }\n",
       "\n",
       "    .dataframe tbody tr th {\n",
       "        vertical-align: top;\n",
       "    }\n",
       "\n",
       "    .dataframe thead th {\n",
       "        text-align: right;\n",
       "    }\n",
       "</style>\n",
       "<table border=\"1\" class=\"dataframe\">\n",
       "  <thead>\n",
       "    <tr style=\"text-align: right;\">\n",
       "      <th></th>\n",
       "      <th>adr_orig</th>\n",
       "      <th>adr</th>\n",
       "    </tr>\n",
       "  </thead>\n",
       "  <tbody>\n",
       "    <tr>\n",
       "      <th>30</th>\n",
       "      <td>ул. Абазы, 4</td>\n",
       "      <td>Севастополь,ул. Абазы, 4</td>\n",
       "    </tr>\n",
       "    <tr>\n",
       "      <th>1845</th>\n",
       "      <td>6-я Равелинная ул., 22</td>\n",
       "      <td>Севастополь,6-я Равелинная ул., 22</td>\n",
       "    </tr>\n",
       "    <tr>\n",
       "      <th>460</th>\n",
       "      <td>Нахимовский муниципальный округ, посёлок Любимовка</td>\n",
       "      <td>Севастополь,Нахимовский район , Любимовка</td>\n",
       "    </tr>\n",
       "    <tr>\n",
       "      <th>7053</th>\n",
       "      <td>Камышовое ш., 24/2</td>\n",
       "      <td>Севастополь,Камышовое ш., 24/2</td>\n",
       "    </tr>\n",
       "    <tr>\n",
       "      <th>4198</th>\n",
       "      <td>с. Угловое, ул. Гунько, 86</td>\n",
       "      <td>Севастополь,с. Угловое, ул. Гунько, 86</td>\n",
       "    </tr>\n",
       "    <tr>\n",
       "      <th>3940</th>\n",
       "      <td>Предместная ул., 25</td>\n",
       "      <td>Севастополь,Предместная ул., 25</td>\n",
       "    </tr>\n",
       "    <tr>\n",
       "      <th>5070</th>\n",
       "      <td>Коралловая ул.</td>\n",
       "      <td>Севастополь,Коралловая ул.</td>\n",
       "    </tr>\n",
       "    <tr>\n",
       "      <th>6815</th>\n",
       "      <td>с. Орловка</td>\n",
       "      <td>Севастополь,с. Орловка</td>\n",
       "    </tr>\n",
       "    <tr>\n",
       "      <th>3293</th>\n",
       "      <td>пос. городского типа Кача</td>\n",
       "      <td>Севастополь,пос. городского типа Кача</td>\n",
       "    </tr>\n",
       "    <tr>\n",
       "      <th>6094</th>\n",
       "      <td>ул. 1-я Линия, 41</td>\n",
       "      <td>Севастополь,ул. 1-я Линия, 41</td>\n",
       "    </tr>\n",
       "  </tbody>\n",
       "</table>\n",
       "</div>"
      ],
      "text/plain": [
       "                                                adr_orig  \\\n",
       "30                                          ул. Абазы, 4   \n",
       "1845                              6-я Равелинная ул., 22   \n",
       "460   Нахимовский муниципальный округ, посёлок Любимовка   \n",
       "7053                                  Камышовое ш., 24/2   \n",
       "4198                          с. Угловое, ул. Гунько, 86   \n",
       "3940                                 Предместная ул., 25   \n",
       "5070                                      Коралловая ул.   \n",
       "6815                                          с. Орловка   \n",
       "3293                           пос. городского типа Кача   \n",
       "6094                                   ул. 1-я Линия, 41   \n",
       "\n",
       "                                            adr  \n",
       "30                     Севастополь,ул. Абазы, 4  \n",
       "1845         Севастополь,6-я Равелинная ул., 22  \n",
       "460   Севастополь,Нахимовский район , Любимовка  \n",
       "7053             Севастополь,Камышовое ш., 24/2  \n",
       "4198     Севастополь,с. Угловое, ул. Гунько, 86  \n",
       "3940            Севастополь,Предместная ул., 25  \n",
       "5070                 Севастополь,Коралловая ул.  \n",
       "6815                     Севастополь,с. Орловка  \n",
       "3293      Севастополь,пос. городского типа Кача  \n",
       "6094              Севастополь,ул. 1-я Линия, 41  "
      ]
     },
     "execution_count": 19,
     "metadata": {},
     "output_type": "execute_result"
    }
   ],
   "source": [
    "data[['adr_orig','adr']].sample(10)"
   ]
  },
  {
   "cell_type": "code",
   "execution_count": 20,
   "id": "86a30244",
   "metadata": {},
   "outputs": [
    {
     "name": "stdout",
     "output_type": "stream",
     "text": [
      "[INFO    ] 2022-09-26 11:27:08 | LocationUpdater: 6081 addresses in index\n",
      "[INFO    ] 2022-09-26 11:27:08 | LocationUpdater: 6098 addresses total\n",
      "[INFO    ] 2022-09-26 11:27:08 | LocationUpdater: 6081 addresses defined\n",
      "[INFO    ] 2022-09-26 11:27:08 | LocationUpdater: 17 addresses undefined\n"
     ]
    },
    {
     "data": {
      "application/vnd.jupyter.widget-view+json": {
       "model_id": "c37b364f390a4a169bd0f668cc7c2396",
       "version_major": 2,
       "version_minor": 0
      },
      "text/plain": [
       "  0%|          | 0/17 [00:00<?, ?it/s]"
      ]
     },
     "metadata": {},
     "output_type": "display_data"
    },
    {
     "name": "stdout",
     "output_type": "stream",
     "text": [
      "[INFO    ] 2022-09-26 11:27:14 | LocationUpdater: 17 new addresses found\n"
     ]
    }
   ],
   "source": [
    "# from lib.locator import GeocoderSimpleOSM\n",
    "from lib.locator import GeocoderYandex\n",
    "from yandex_keys import keys\n",
    "\n",
    "atr = AddressTransformer()\n",
    "locator = GeocoderYandex(keys[0])\n",
    "# locator = GeocoderSimpleOSM()\n",
    "\n",
    "loc_file_path = 'data/location.pkl' # таблица адресов\n",
    "loc = pd.read_pickle(loc_file_path)\n",
    "# loc = pd.DataFrame([],columns=['adr','latitude','longitude',])\n",
    "logging.info(f'LocationUpdater: {len(loc)} addresses in index')\n",
    "\n",
    "# собираем все адреса в один список\n",
    "loc = loc.merge(\n",
    "        data[['adr']].drop_duplicates(),\n",
    "        how='outer',\n",
    "        on='adr',\n",
    "    ).drop_duplicates().reset_index(drop=True)\n",
    "\n",
    "logging.info(f'LocationUpdater: {len(loc)} addresses total')\n",
    "\n",
    "# собираем все адреса с геопозицией\n",
    "loc_def = loc[~loc['latitude'].isna()].reset_index(drop=True)\n",
    "logging.info(f'LocationUpdater: {len(loc_def)} addresses defined')\n",
    "\n",
    "# собираем все адреса без геопозиции\n",
    "loc_undef = loc[loc['latitude'].isna()][['adr']].reset_index(drop=True)\n",
    "logging.info(f'LocationUpdater: {len(loc_undef)} addresses undefined')\n",
    "\n",
    "if len(loc_undef)>0:\n",
    "    # определяем координаты по строке адреса\n",
    "    loc_undef = loc_undef.join( loc_undef['adr'].progress_apply(locator.transform).apply(pd.Series) ).dropna()     \n",
    "    logging.info(f'LocationUpdater: {len(loc_undef)} new addresses found')\n",
    "    loc = pd.concat([loc_def,loc_undef]).reset_index(drop=True) \n",
    "    assert len(loc)>0\n",
    "    loc.to_pickle(loc_file_path)"
   ]
  },
  {
   "cell_type": "code",
   "execution_count": 21,
   "id": "19741bb7",
   "metadata": {},
   "outputs": [
    {
     "name": "stdout",
     "output_type": "stream",
     "text": [
      "6098\n"
     ]
    },
    {
     "data": {
      "text/html": [
       "<div>\n",
       "<style scoped>\n",
       "    .dataframe tbody tr th:only-of-type {\n",
       "        vertical-align: middle;\n",
       "    }\n",
       "\n",
       "    .dataframe tbody tr th {\n",
       "        vertical-align: top;\n",
       "    }\n",
       "\n",
       "    .dataframe thead th {\n",
       "        text-align: right;\n",
       "    }\n",
       "</style>\n",
       "<table border=\"1\" class=\"dataframe\">\n",
       "  <thead>\n",
       "    <tr style=\"text-align: right;\">\n",
       "      <th></th>\n",
       "      <th>latitude</th>\n",
       "      <th>longitude</th>\n",
       "      <th>adr</th>\n",
       "    </tr>\n",
       "  </thead>\n",
       "  <tbody>\n",
       "    <tr>\n",
       "      <th>3922</th>\n",
       "      <td>44.567409</td>\n",
       "      <td>33.557906</td>\n",
       "      <td>Севастополь,3-я Комендорская ул., 5</td>\n",
       "    </tr>\n",
       "    <tr>\n",
       "      <th>2896</th>\n",
       "      <td>44.569541</td>\n",
       "      <td>33.463044</td>\n",
       "      <td>Севастополь, район Гагаринский, 5-й, улица Комбрига Потапова, 24</td>\n",
       "    </tr>\n",
       "    <tr>\n",
       "      <th>437</th>\n",
       "      <td>44.60</td>\n",
       "      <td>33.51</td>\n",
       "      <td>Севастополь,6-я Бастионная улица , 42</td>\n",
       "    </tr>\n",
       "  </tbody>\n",
       "</table>\n",
       "</div>"
      ],
      "text/plain": [
       "       latitude  longitude  \\\n",
       "3922  44.567409  33.557906   \n",
       "2896  44.569541  33.463044   \n",
       "437       44.60      33.51   \n",
       "\n",
       "                                                                   adr  \n",
       "3922                               Севастополь,3-я Комендорская ул., 5  \n",
       "2896  Севастополь, район Гагаринский, 5-й, улица Комбрига Потапова, 24  \n",
       "437                              Севастополь,6-я Бастионная улица , 42  "
      ]
     },
     "execution_count": 21,
     "metadata": {},
     "output_type": "execute_result"
    }
   ],
   "source": [
    "print( len(loc) )\n",
    "loc.sample(3)"
   ]
  },
  {
   "cell_type": "markdown",
   "id": "25e27e33",
   "metadata": {},
   "source": [
    "## дополняем данные геометкой"
   ]
  },
  {
   "cell_type": "code",
   "execution_count": 22,
   "id": "77ac354e",
   "metadata": {},
   "outputs": [
    {
     "name": "stdout",
     "output_type": "stream",
     "text": [
      "всего записей: 8815\n",
      "записей без геометки: 0\n",
      "<class 'pandas.core.frame.DataFrame'>\n",
      "Int64Index: 8815 entries, 0 to 8814\n",
      "Data columns (total 17 columns):\n",
      " #   Column              Non-Null Count  Dtype         \n",
      "---  ------              --------------  -----         \n",
      " 0   title               8815 non-null   object        \n",
      " 1   price               8815 non-null   int64         \n",
      " 2   obj_name            8815 non-null   object        \n",
      " 3   adr_orig            8815 non-null   object        \n",
      " 4   description         8815 non-null   object        \n",
      " 5   avito_page          8815 non-null   int64         \n",
      " 6   ts                  8815 non-null   datetime64[ns]\n",
      " 7   place               8815 non-null   object        \n",
      " 8   area                8815 non-null   float64       \n",
      " 9   is_IJS              8815 non-null   bool          \n",
      " 10  priceM              8815 non-null   float64       \n",
      " 11  priceMU             8815 non-null   float64       \n",
      " 12  area_size_category  8815 non-null   category      \n",
      " 13  url                 8815 non-null   object        \n",
      " 14  adr                 8815 non-null   object        \n",
      " 15  latitude            8815 non-null   object        \n",
      " 16  longitude           8815 non-null   object        \n",
      "dtypes: bool(1), category(1), datetime64[ns](1), float64(3), int64(2), object(9)\n",
      "memory usage: 1.1+ MB\n"
     ]
    }
   ],
   "source": [
    "# data = data.rename(columns={'adr':'adr_orig','adr_':'adr'})\n",
    "\n",
    "data = data.merge(loc,on=['adr'],how='left')\n",
    "\n",
    "print('всего записей:', len( data) )\n",
    "print('записей без геометки:', len( data[ data['latitude'].isna() ] ) )\n",
    "\n",
    "assert len(data)>0\n",
    "data.to_pickle(result_file_path)\n",
    "\n",
    "data.info()"
   ]
  },
  {
   "cell_type": "code",
   "execution_count": null,
   "id": "64c38175",
   "metadata": {},
   "outputs": [],
   "source": []
  }
 ],
 "metadata": {
  "kernelspec": {
   "display_name": "Python 3 (ipykernel)",
   "language": "python",
   "name": "python3"
  },
  "language_info": {
   "codemirror_mode": {
    "name": "ipython",
    "version": 3
   },
   "file_extension": ".py",
   "mimetype": "text/x-python",
   "name": "python",
   "nbconvert_exporter": "python",
   "pygments_lexer": "ipython3",
   "version": "3.10.6"
  },
  "toc": {
   "base_numbering": 1,
   "nav_menu": {},
   "number_sections": true,
   "sideBar": true,
   "skip_h1_title": false,
   "title_cell": "Table of Contents",
   "title_sidebar": "Contents",
   "toc_cell": false,
   "toc_position": {},
   "toc_section_display": true,
   "toc_window_display": true
  },
  "varInspector": {
   "cols": {
    "lenName": 16,
    "lenType": 16,
    "lenVar": 40
   },
   "kernels_config": {
    "python": {
     "delete_cmd_postfix": "",
     "delete_cmd_prefix": "del ",
     "library": "var_list.py",
     "varRefreshCmd": "print(var_dic_list())"
    },
    "r": {
     "delete_cmd_postfix": ") ",
     "delete_cmd_prefix": "rm(",
     "library": "var_list.r",
     "varRefreshCmd": "cat(var_dic_list()) "
    }
   },
   "types_to_exclude": [
    "module",
    "function",
    "builtin_function_or_method",
    "instance",
    "_Feature"
   ],
   "window_display": false
  }
 },
 "nbformat": 4,
 "nbformat_minor": 5
}
