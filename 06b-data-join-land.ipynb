{
 "cells": [
  {
   "cell_type": "markdown",
   "id": "7bec28d7",
   "metadata": {},
   "source": [
    "__собираем данные__\n",
    "\n",
    "_Evgeny S. Borisov <parser@mechanoid.su>_"
   ]
  },
  {
   "cell_type": "code",
   "execution_count": 1,
   "id": "52c5999f",
   "metadata": {},
   "outputs": [],
   "source": [
    "# !pacman -S firefox firefox-i18n-r  geckodriver\n",
    "# !pip install seleniuam"
   ]
  },
  {
   "cell_type": "code",
   "execution_count": 2,
   "id": "bcea4d8b",
   "metadata": {
    "ExecuteTime": {
     "end_time": "2022-08-26T14:19:06.118492Z",
     "start_time": "2022-08-26T14:13:37.888398Z"
    }
   },
   "outputs": [],
   "source": [
    "# import re\n",
    "import sys\n",
    "import logging\n",
    "from datetime import datetime as dtm\n",
    "from tqdm.notebook import tqdm\n",
    "import pandas as pd"
   ]
  },
  {
   "cell_type": "code",
   "execution_count": 3,
   "id": "caabc8c7",
   "metadata": {
    "ExecuteTime": {
     "end_time": "2022-08-26T14:19:06.118492Z",
     "start_time": "2022-08-26T14:13:37.888398Z"
    }
   },
   "outputs": [],
   "source": [
    "pd.set_option('display.max_colwidth', None)\n",
    "pd.set_option('display.float_format', '{:.2f}'.format)\n",
    "tqdm.pandas()\n",
    "\n",
    "logging.basicConfig(\n",
    "        format=u'[%(levelname)-8s] %(asctime)s | %(message)s',\n",
    "        datefmt='%Y-%m-%d %H:%M:%S',\n",
    "        level=logging.INFO,\n",
    "        # level=logging.DEBUG,\n",
    "        stream=sys.stdout,\n",
    "    )"
   ]
  },
  {
   "cell_type": "markdown",
   "id": "db3fe2be",
   "metadata": {},
   "source": [
    "---"
   ]
  },
  {
   "cell_type": "code",
   "execution_count": 4,
   "id": "d437eab9",
   "metadata": {},
   "outputs": [],
   "source": [
    "# каталог с файлами объявлений\n",
    "avito_raw_data_path = 'data/raw/land/avito' \n",
    "# cian_raw_data_path = 'data/raw/cian'\n",
    "\n",
    "loc_file_path = 'data/location.pkl' # таблица адресов\n",
    "result_file_path = 'data/data_land.pkl'"
   ]
  },
  {
   "cell_type": "code",
   "execution_count": 5,
   "id": "31463a1e",
   "metadata": {},
   "outputs": [],
   "source": [
    "# ts = dtm.now().strftime('%Y-%m-%d_%H-%M')\n",
    "# ts"
   ]
  },
  {
   "cell_type": "markdown",
   "id": "98f6384f",
   "metadata": {},
   "source": [
    "## собираем данные авито.ру"
   ]
  },
  {
   "cell_type": "code",
   "execution_count": 6,
   "id": "2673ef1f",
   "metadata": {},
   "outputs": [
    {
     "data": {
      "text/plain": [
       "['data/raw/land/avito/avito_2022-09-08_16-05_raw.xlsx',\n",
       " 'data/raw/land/avito/avito_2022-09-12_13-51_raw.xlsx']"
      ]
     },
     "execution_count": 6,
     "metadata": {},
     "output_type": "execute_result"
    }
   ],
   "source": [
    "import re\n",
    "from os import listdir\n",
    "\n",
    "raw_data_files = sorted([\n",
    "        avito_raw_data_path+'/'+f \n",
    "        for f in listdir(avito_raw_data_path) \n",
    "        if re.match(r'.+\\.xlsx$',f)\n",
    "    ])\n",
    "raw_data_files"
   ]
  },
  {
   "cell_type": "code",
   "execution_count": 7,
   "id": "347629e1",
   "metadata": {},
   "outputs": [
    {
     "name": "stdout",
     "output_type": "stream",
     "text": [
      "2183\n"
     ]
    }
   ],
   "source": [
    "data_avito = pd.concat([\n",
    "        pd\n",
    "        .read_excel(f)\n",
    "        #.dropna()\n",
    "        .drop_duplicates(['avito_id','description'])\n",
    "        .rename(columns={'page':'avito_page'})\n",
    "        .reset_index(drop=True)  \n",
    "        for f in raw_data_files\n",
    "    ]).reset_index(drop=True)\n",
    "\n",
    "print(len(data_avito))"
   ]
  },
  {
   "cell_type": "code",
   "execution_count": 8,
   "id": "2a992037",
   "metadata": {},
   "outputs": [],
   "source": [
    "# data_avito"
   ]
  },
  {
   "cell_type": "code",
   "execution_count": 9,
   "id": "cbce7aaa",
   "metadata": {},
   "outputs": [
    {
     "name": "stdout",
     "output_type": "stream",
     "text": [
      "2183\n"
     ]
    }
   ],
   "source": [
    "from lib.avito import AvitoDataCleanerRealtyLand\n",
    "\n",
    "data_avito = AvitoDataCleanerRealtyLand().transform( data_avito )\n",
    "\n",
    "print(len(data_avito))"
   ]
  },
  {
   "cell_type": "code",
   "execution_count": 10,
   "id": "becaac57",
   "metadata": {},
   "outputs": [
    {
     "data": {
      "text/html": [
       "<div>\n",
       "<style scoped>\n",
       "    .dataframe tbody tr th:only-of-type {\n",
       "        vertical-align: middle;\n",
       "    }\n",
       "\n",
       "    .dataframe tbody tr th {\n",
       "        vertical-align: top;\n",
       "    }\n",
       "\n",
       "    .dataframe thead th {\n",
       "        text-align: right;\n",
       "    }\n",
       "</style>\n",
       "<table border=\"1\" class=\"dataframe\">\n",
       "  <thead>\n",
       "    <tr style=\"text-align: right;\">\n",
       "      <th></th>\n",
       "      <th>avito_id</th>\n",
       "      <th>title</th>\n",
       "      <th>price</th>\n",
       "      <th>obj_name</th>\n",
       "      <th>adr</th>\n",
       "      <th>description</th>\n",
       "      <th>avito_page</th>\n",
       "      <th>ts</th>\n",
       "      <th>area</th>\n",
       "      <th>is_IJS</th>\n",
       "      <th>priceM</th>\n",
       "      <th>priceMU</th>\n",
       "      <th>area_size_category</th>\n",
       "    </tr>\n",
       "  </thead>\n",
       "  <tbody>\n",
       "    <tr>\n",
       "      <th>541</th>\n",
       "      <td>2314893650</td>\n",
       "      <td>Участок 15 сот. (ИЖС)</td>\n",
       "      <td>4290000</td>\n",
       "      <td></td>\n",
       "      <td>с. Широкое</td>\n",
       "      <td>Продаётся земельный участок в селе Широкое ул. Приозерная для индивидуальной жилой застройки ( кол 2.1). Кадастровый Номер 91:01:049001:1032. Присвоен адрес: ул. Приозерная 26-А. Подойдет под небольшую базу отдыха, зелёный туризм, спортивный лагерь глемпин</td>\n",
       "      <td>12</td>\n",
       "      <td>2022-09-08 16:04:40.227</td>\n",
       "      <td>15.00</td>\n",
       "      <td>True</td>\n",
       "      <td>4.29</td>\n",
       "      <td>0.29</td>\n",
       "      <td>8-20</td>\n",
       "    </tr>\n",
       "    <tr>\n",
       "      <th>2115</th>\n",
       "      <td>2485390073</td>\n",
       "      <td>Участок 10 сот. (ИЖС)</td>\n",
       "      <td>5300000</td>\n",
       "      <td></td>\n",
       "      <td>с. Широкое, ул. Клюшкина</td>\n",
       "      <td>Объект №242. \\n\\nВ продаже участок 10 соток Ижс с невероятным видом на горы в Байдарской долине (с. Широкое). \\nУчасток правильной формы, с круглогодичным подъездом. До асфальтированной дороги 200м, там же остановка общественно транспорта. \\nПо границе есть ст</td>\n",
       "      <td>22</td>\n",
       "      <td>2022-09-12 13:51:16.745</td>\n",
       "      <td>10.00</td>\n",
       "      <td>True</td>\n",
       "      <td>5.30</td>\n",
       "      <td>0.53</td>\n",
       "      <td>8-20</td>\n",
       "    </tr>\n",
       "    <tr>\n",
       "      <th>1365</th>\n",
       "      <td>1222596224</td>\n",
       "      <td>Участок 5 сот. (ИЖС)</td>\n",
       "      <td>2000000</td>\n",
       "      <td></td>\n",
       "      <td>мыс Лукулл</td>\n",
       "      <td>Неразработанный участок на мысе Лукулл, готов к подключению воды, эл. Энергии. До моря 5 минут ходьбы. Комплект документов. Кадастровый номер 91:04:010001:189.</td>\n",
       "      <td>6</td>\n",
       "      <td>2022-09-12 13:51:16.745</td>\n",
       "      <td>5.00</td>\n",
       "      <td>True</td>\n",
       "      <td>2.00</td>\n",
       "      <td>0.40</td>\n",
       "      <td>4-8</td>\n",
       "    </tr>\n",
       "  </tbody>\n",
       "</table>\n",
       "</div>"
      ],
      "text/plain": [
       "        avito_id                  title    price obj_name  \\\n",
       "541   2314893650  Участок 15 сот. (ИЖС)  4290000            \n",
       "2115  2485390073  Участок 10 сот. (ИЖС)  5300000            \n",
       "1365  1222596224   Участок 5 сот. (ИЖС)  2000000            \n",
       "\n",
       "                           adr  \\\n",
       "541                 с. Широкое   \n",
       "2115  с. Широкое, ул. Клюшкина   \n",
       "1365                мыс Лукулл   \n",
       "\n",
       "                                                                                                                                                                                                                                                               description  \\\n",
       "541       Продаётся земельный участок в селе Широкое ул. Приозерная для индивидуальной жилой застройки ( кол 2.1). Кадастровый Номер 91:01:049001:1032. Присвоен адрес: ул. Приозерная 26-А. Подойдет под небольшую базу отдыха, зелёный туризм, спортивный лагерь глемпин   \n",
       "2115  Объект №242. \\n\\nВ продаже участок 10 соток Ижс с невероятным видом на горы в Байдарской долине (с. Широкое). \\nУчасток правильной формы, с круглогодичным подъездом. До асфальтированной дороги 200м, там же остановка общественно транспорта. \\nПо границе есть ст   \n",
       "1365                                                                                                       Неразработанный участок на мысе Лукулл, готов к подключению воды, эл. Энергии. До моря 5 минут ходьбы. Комплект документов. Кадастровый номер 91:04:010001:189.   \n",
       "\n",
       "      avito_page                      ts  area  is_IJS  priceM  priceMU  \\\n",
       "541           12 2022-09-08 16:04:40.227 15.00    True    4.29     0.29   \n",
       "2115          22 2022-09-12 13:51:16.745 10.00    True    5.30     0.53   \n",
       "1365           6 2022-09-12 13:51:16.745  5.00    True    2.00     0.40   \n",
       "\n",
       "     area_size_category  \n",
       "541                8-20  \n",
       "2115               8-20  \n",
       "1365                4-8  "
      ]
     },
     "execution_count": 10,
     "metadata": {},
     "output_type": "execute_result"
    }
   ],
   "source": [
    "data_avito.sample(3)"
   ]
  },
  {
   "cell_type": "code",
   "execution_count": 11,
   "id": "ce2869e1",
   "metadata": {},
   "outputs": [],
   "source": [
    "assert len(data_avito)>0"
   ]
  },
  {
   "cell_type": "code",
   "execution_count": 12,
   "id": "12170700",
   "metadata": {},
   "outputs": [
    {
     "name": "stdout",
     "output_type": "stream",
     "text": [
      "<class 'pandas.core.frame.DataFrame'>\n",
      "RangeIndex: 2183 entries, 0 to 2182\n",
      "Data columns (total 13 columns):\n",
      " #   Column              Non-Null Count  Dtype         \n",
      "---  ------              --------------  -----         \n",
      " 0   avito_id            2183 non-null   int64         \n",
      " 1   title               2183 non-null   object        \n",
      " 2   price               2183 non-null   int64         \n",
      " 3   obj_name            2183 non-null   object        \n",
      " 4   adr                 2183 non-null   object        \n",
      " 5   description         2183 non-null   object        \n",
      " 6   avito_page          2183 non-null   int64         \n",
      " 7   ts                  2183 non-null   datetime64[ns]\n",
      " 8   area                2183 non-null   float64       \n",
      " 9   is_IJS              2183 non-null   bool          \n",
      " 10  priceM              2183 non-null   float64       \n",
      " 11  priceMU             2183 non-null   float64       \n",
      " 12  area_size_category  2183 non-null   category      \n",
      "dtypes: bool(1), category(1), datetime64[ns](1), float64(3), int64(3), object(4)\n",
      "memory usage: 192.2+ KB\n"
     ]
    }
   ],
   "source": [
    "data_avito.info(2)"
   ]
  },
  {
   "cell_type": "code",
   "execution_count": 13,
   "id": "67c60c3a",
   "metadata": {},
   "outputs": [],
   "source": [
    "## собираем данные циан.ру"
   ]
  },
  {
   "cell_type": "code",
   "execution_count": 14,
   "id": "05ea79a3",
   "metadata": {},
   "outputs": [],
   "source": [
    "# import re\n",
    "# from os import listdir\n",
    "\n",
    "# raw_data_files = sorted([\n",
    "#         cian_raw_data_path+'/'+f \n",
    "#         for f in listdir(cian_raw_data_path) \n",
    "#         if re.match(r'.+\\.pkl$',f)\n",
    "#         #if re.match(r'.+\\.xlsx$',f)\n",
    "    \n",
    "#     ])\n",
    "# raw_data_files"
   ]
  },
  {
   "cell_type": "code",
   "execution_count": 15,
   "id": "bb5a87f6",
   "metadata": {},
   "outputs": [],
   "source": [
    "# data_cian = pd.concat([\n",
    "#         # pd.read_excel(f)\n",
    "#         pd.read_pickle(f)\n",
    "#          .dropna()\n",
    "#          .drop_duplicates(['LinkArea','Description',])\n",
    "#          .rename(columns={'page':'cian_page'})\n",
    "#          .reset_index(drop=True)  \n",
    "#         for f in raw_data_files\n",
    "#     ]).reset_index(drop=True)"
   ]
  },
  {
   "cell_type": "code",
   "execution_count": 16,
   "id": "fe083793",
   "metadata": {},
   "outputs": [],
   "source": [
    "# data_cian.info(2)"
   ]
  },
  {
   "cell_type": "code",
   "execution_count": 17,
   "id": "5fb87c58",
   "metadata": {},
   "outputs": [],
   "source": [
    "# swap_title = data_cian['OfferSubtitle'].str.match(r'.*\\d+ м², \\d+/\\d+ эт.*') \n",
    "\n",
    "# data_cian = pd.concat([\n",
    "#         data_cian[ ~swap_title ],\n",
    "#         data_cian[ swap_title ]\n",
    "#             .rename(columns={'OfferTitle':'OfferSubtitle','OfferSubtitle':'OfferTitle'})\n",
    "#     ]).reset_index(drop=True)\n"
   ]
  },
  {
   "cell_type": "code",
   "execution_count": 18,
   "id": "33bda6e8",
   "metadata": {},
   "outputs": [],
   "source": [
    "# data_cian"
   ]
  },
  {
   "cell_type": "code",
   "execution_count": 19,
   "id": "7a11ac2f",
   "metadata": {},
   "outputs": [],
   "source": [
    "# from lib.cian import CianDataCleaner\n",
    "\n",
    "# data_cian = CianDataCleaner().transform( data_cian )\n",
    "\n",
    "# print(len(data_cian))"
   ]
  },
  {
   "cell_type": "code",
   "execution_count": 20,
   "id": "b1df2dba",
   "metadata": {},
   "outputs": [],
   "source": [
    "# assert len(data_cian)>0"
   ]
  },
  {
   "cell_type": "code",
   "execution_count": 21,
   "id": "979243e4",
   "metadata": {},
   "outputs": [],
   "source": [
    "# data_cian.info(2)"
   ]
  },
  {
   "cell_type": "code",
   "execution_count": 22,
   "id": "5eb571e0",
   "metadata": {},
   "outputs": [],
   "source": [
    "# data_cian\n",
    "# data_cian.query('nrooms==0')\n",
    "# data_cian[ data_cian['title'].str.len()<1 ]\n",
    "# data_cian[ data_cian['obj_name'].str.len()>0 ][['title','obj_name',]] # .to_csv('tmp/cian_title.csv',sep='\\t')|"
   ]
  },
  {
   "cell_type": "markdown",
   "id": "31f9a289",
   "metadata": {},
   "source": [
    "----"
   ]
  },
  {
   "cell_type": "code",
   "execution_count": 23,
   "id": "c6e47d9a",
   "metadata": {},
   "outputs": [],
   "source": [
    "# data = pd.concat([data_avito,data_cian]).reset_index(drop=True) \n",
    "# print(len(data))\n",
    "# assert len(data)>0"
   ]
  },
  {
   "cell_type": "markdown",
   "id": "f3ca7967",
   "metadata": {},
   "source": [
    "---"
   ]
  },
  {
   "cell_type": "code",
   "execution_count": 24,
   "id": "2db629e4",
   "metadata": {},
   "outputs": [
    {
     "name": "stdout",
     "output_type": "stream",
     "text": [
      "2183\n"
     ]
    }
   ],
   "source": [
    "data = data_avito.reset_index(drop=True) \n",
    "print(len(data))\n",
    "assert len(data)>0"
   ]
  },
  {
   "cell_type": "markdown",
   "id": "2903ab86",
   "metadata": {},
   "source": [
    "### обновляем таблицу адресов"
   ]
  },
  {
   "cell_type": "code",
   "execution_count": 25,
   "id": "7d191d0d",
   "metadata": {},
   "outputs": [
    {
     "name": "stdout",
     "output_type": "stream",
     "text": [
      "[INFO    ] 2022-09-12 13:56:46 | LocationUpdater: 2703 addresses in location table\n",
      "[INFO    ] 2022-09-12 13:56:46 | LocationUpdater: 3554 addresses total\n",
      "[INFO    ] 2022-09-12 13:56:46 | LocationUpdater: 2703 addresses defined\n",
      "[INFO    ] 2022-09-12 13:56:46 | LocationUpdater: 851 addresses undefined\n"
     ]
    },
    {
     "data": {
      "application/vnd.jupyter.widget-view+json": {
       "model_id": "b260311bbf2242728c4dc36adc605da9",
       "version_major": 2,
       "version_minor": 0
      },
      "text/plain": [
       "  0%|          | 0/851 [00:00<?, ?it/s]"
      ]
     },
     "metadata": {},
     "output_type": "display_data"
    },
    {
     "name": "stdout",
     "output_type": "stream",
     "text": [
      "[INFO    ] 2022-09-12 14:08:24 | LocationUpdater: 446 new addresses found\n"
     ]
    }
   ],
   "source": [
    "from lib.locator import LocationUpdater\n",
    "from lib.locator import AddressTransformerSev\n",
    "\n",
    "loc = LocationUpdater(\n",
    "        address_transformer=AddressTransformerSev(),\n",
    "    ).transform(\n",
    "        adr=data['adr'],\n",
    "        loc=pd.read_pickle(loc_file_path),\n",
    "        show_pbar=True,\n",
    "    )"
   ]
  },
  {
   "cell_type": "code",
   "execution_count": 26,
   "id": "19741bb7",
   "metadata": {},
   "outputs": [
    {
     "data": {
      "text/html": [
       "<div>\n",
       "<style scoped>\n",
       "    .dataframe tbody tr th:only-of-type {\n",
       "        vertical-align: middle;\n",
       "    }\n",
       "\n",
       "    .dataframe tbody tr th {\n",
       "        vertical-align: top;\n",
       "    }\n",
       "\n",
       "    .dataframe thead th {\n",
       "        text-align: right;\n",
       "    }\n",
       "</style>\n",
       "<table border=\"1\" class=\"dataframe\">\n",
       "  <thead>\n",
       "    <tr style=\"text-align: right;\">\n",
       "      <th></th>\n",
       "      <th>adr</th>\n",
       "      <th>latitude</th>\n",
       "      <th>longitude</th>\n",
       "      <th>truncated</th>\n",
       "    </tr>\n",
       "  </thead>\n",
       "  <tbody>\n",
       "    <tr>\n",
       "      <th>1026</th>\n",
       "      <td>улица Ленина, 32</td>\n",
       "      <td>44.61</td>\n",
       "      <td>33.53</td>\n",
       "      <td>False</td>\n",
       "    </tr>\n",
       "    <tr>\n",
       "      <th>1017</th>\n",
       "      <td>Нахимовский муниципальный округ, площадь Генерала Захарова, 6</td>\n",
       "      <td>44.63</td>\n",
       "      <td>33.54</td>\n",
       "      <td>False</td>\n",
       "    </tr>\n",
       "    <tr>\n",
       "      <th>3039</th>\n",
       "      <td>Балаклава, Фонтанный пер., 18В</td>\n",
       "      <td>44.51</td>\n",
       "      <td>33.60</td>\n",
       "      <td>True</td>\n",
       "    </tr>\n",
       "  </tbody>\n",
       "</table>\n",
       "</div>"
      ],
      "text/plain": [
       "                                                                adr  latitude  \\\n",
       "1026                                               улица Ленина, 32     44.61   \n",
       "1017  Нахимовский муниципальный округ, площадь Генерала Захарова, 6     44.63   \n",
       "3039                                 Балаклава, Фонтанный пер., 18В     44.51   \n",
       "\n",
       "      longitude truncated  \n",
       "1026      33.53     False  \n",
       "1017      33.54     False  \n",
       "3039      33.60      True  "
      ]
     },
     "execution_count": 26,
     "metadata": {},
     "output_type": "execute_result"
    }
   ],
   "source": [
    "loc.sample(3)"
   ]
  },
  {
   "cell_type": "code",
   "execution_count": 27,
   "id": "a90d2398",
   "metadata": {},
   "outputs": [],
   "source": [
    "assert len(loc)>0\n",
    "loc.to_pickle(loc_file_path)"
   ]
  },
  {
   "cell_type": "markdown",
   "id": "30dbd6a6",
   "metadata": {},
   "source": [
    "### дополняем данные геометкой"
   ]
  },
  {
   "cell_type": "code",
   "execution_count": 28,
   "id": "06470644",
   "metadata": {},
   "outputs": [
    {
     "name": "stdout",
     "output_type": "stream",
     "text": [
      "всего записей: 2183\n",
      "записей без геометки: 1000\n"
     ]
    }
   ],
   "source": [
    "data = data.merge(loc[['adr','latitude','longitude',]],on=['adr'],how='left')\n",
    "\n",
    "print('всего записей:', len( data) )\n",
    "print('записей без геометки:', len( data[ data['latitude'].isnull() ] ) )"
   ]
  },
  {
   "cell_type": "code",
   "execution_count": 29,
   "id": "b3161e64",
   "metadata": {},
   "outputs": [],
   "source": [
    "assert len(data)>0\n",
    "data.to_pickle(result_file_path)"
   ]
  },
  {
   "cell_type": "code",
   "execution_count": 30,
   "id": "799e47c2",
   "metadata": {},
   "outputs": [
    {
     "name": "stdout",
     "output_type": "stream",
     "text": [
      "<class 'pandas.core.frame.DataFrame'>\n",
      "Int64Index: 2183 entries, 0 to 2182\n",
      "Data columns (total 15 columns):\n",
      " #   Column              Non-Null Count  Dtype         \n",
      "---  ------              --------------  -----         \n",
      " 0   avito_id            2183 non-null   int64         \n",
      " 1   title               2183 non-null   object        \n",
      " 2   price               2183 non-null   int64         \n",
      " 3   obj_name            2183 non-null   object        \n",
      " 4   adr                 2183 non-null   object        \n",
      " 5   description         2183 non-null   object        \n",
      " 6   avito_page          2183 non-null   int64         \n",
      " 7   ts                  2183 non-null   datetime64[ns]\n",
      " 8   area                2183 non-null   float64       \n",
      " 9   is_IJS              2183 non-null   bool          \n",
      " 10  priceM              2183 non-null   float64       \n",
      " 11  priceMU             2183 non-null   float64       \n",
      " 12  area_size_category  2183 non-null   category      \n",
      " 13  latitude            1183 non-null   float64       \n",
      " 14  longitude           1183 non-null   float64       \n",
      "dtypes: bool(1), category(1), datetime64[ns](1), float64(5), int64(3), object(4)\n",
      "memory usage: 243.2+ KB\n"
     ]
    }
   ],
   "source": [
    "data.info()"
   ]
  },
  {
   "cell_type": "code",
   "execution_count": 31,
   "id": "13de0b35",
   "metadata": {},
   "outputs": [],
   "source": [
    "# for f in raw_data_files:\n",
    "#     ts = dtm.strptime( re.sub(r'.*/avito_','',f), '%Y-%m-%d_%H-%M_raw.xlsx')\n",
    "#     df = pd.read_excel(f)\n",
    "#     df['ts'] = ts\n",
    "#     df.to_excel(f,index=False)\n",
    "#     print(ts)"
   ]
  },
  {
   "cell_type": "code",
   "execution_count": 32,
   "id": "0e318218",
   "metadata": {},
   "outputs": [],
   "source": [
    "# class AvitoDataCleanerRealtyLand:\n",
    "    \n",
    "#     def transform(self,data):\n",
    "#         df = data.copy()\n",
    "        \n",
    "#         symb_lat = 'yexapocEXAPOCTHKBM'\n",
    "#         symb_rus = 'уехаросЕХАРОСТНКВМ'\n",
    "#         l2r = str.maketrans(symb_lat,symb_rus) \n",
    "        \n",
    "#         df['title'] = df['title'].str.extract( r'«(.*)»',expand=False).apply(lambda s: s.translate(l2r) )\n",
    "        \n",
    "#         area = df['title'].str.extract( r'(\\d+,?\\d*)\\s*(сот|га)',expand=True)\n",
    "#         area.columns=['area','area_unit']\n",
    "#         df = pd.concat([df,area],axis=1)\n",
    "                       \n",
    "#         df['is_IJS'] = df['title'].str.lower().str.match(r'.*ижс.*')\n",
    "#         df['obj_name'] = df['obj_name'].fillna('')\n",
    "#         df['price'] = df['price'].astype(int)\n",
    "#         df['priceM'] = df['price']/1e6\n",
    "        \n",
    "#         df['area'] = df['area'].fillna('0.').str.replace(',','.').astype(float)\n",
    "        \n",
    "#         df.loc[ df['area_unit']=='га', 'area' ] = df.query('area_unit==\"га\"')['area']*100.\n",
    "#         df = df.drop(columns=['area_unit'])\n",
    "        \n",
    "#         return df"
   ]
  },
  {
   "cell_type": "code",
   "execution_count": 33,
   "id": "815aa760",
   "metadata": {},
   "outputs": [],
   "source": [
    "# data_avito['title'].str.extract( r'(\\d+,?\\d*)\\s*(сот|га)',expand=True) #, columns=['a','b'])\n",
    "        "
   ]
  },
  {
   "cell_type": "code",
   "execution_count": 34,
   "id": "61a0a534",
   "metadata": {},
   "outputs": [],
   "source": [
    "# # import re\n",
    "# # s='Участок 9,7 сот. (ИЖС)'\n",
    "# s='Участок 7,8 сот. (ИЖС)'\n",
    "# s='Участок 7,8 га. (ИЖС)'\n",
    "\n",
    "# s='Участок 7,8 м. (ИЖС)'\n",
    "\n",
    "# # s='Участок 5 сот. (ИЖС)'\n",
    "\n",
    "# re.search( r'(\\d+,?\\d*)\\s*(сот|га)',s) #.group(1)\n",
    "\n",
    "# # # len(s)"
   ]
  }
 ],
 "metadata": {
  "kernelspec": {
   "display_name": "Python 3 (ipykernel)",
   "language": "python",
   "name": "python3"
  },
  "language_info": {
   "codemirror_mode": {
    "name": "ipython",
    "version": 3
   },
   "file_extension": ".py",
   "mimetype": "text/x-python",
   "name": "python",
   "nbconvert_exporter": "python",
   "pygments_lexer": "ipython3",
   "version": "3.10.6"
  },
  "toc": {
   "base_numbering": 1,
   "nav_menu": {},
   "number_sections": true,
   "sideBar": true,
   "skip_h1_title": false,
   "title_cell": "Table of Contents",
   "title_sidebar": "Contents",
   "toc_cell": false,
   "toc_position": {},
   "toc_section_display": true,
   "toc_window_display": false
  },
  "varInspector": {
   "cols": {
    "lenName": 16,
    "lenType": 16,
    "lenVar": 40
   },
   "kernels_config": {
    "python": {
     "delete_cmd_postfix": "",
     "delete_cmd_prefix": "del ",
     "library": "var_list.py",
     "varRefreshCmd": "print(var_dic_list())"
    },
    "r": {
     "delete_cmd_postfix": ") ",
     "delete_cmd_prefix": "rm(",
     "library": "var_list.r",
     "varRefreshCmd": "cat(var_dic_list()) "
    }
   },
   "types_to_exclude": [
    "module",
    "function",
    "builtin_function_or_method",
    "instance",
    "_Feature"
   ],
   "window_display": false
  }
 },
 "nbformat": 4,
 "nbformat_minor": 5
}
