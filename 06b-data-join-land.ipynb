{
 "cells": [
  {
   "cell_type": "markdown",
   "id": "7bec28d7",
   "metadata": {},
   "source": [
    "__собираем данные__\n",
    "\n",
    "_Evgeny S. Borisov <parser@mechanoid.su>_"
   ]
  },
  {
   "cell_type": "code",
   "execution_count": 1,
   "id": "52c5999f",
   "metadata": {},
   "outputs": [],
   "source": [
    "# !pacman -S firefox firefox-i18n-r  geckodriver\n",
    "# !pip install seleniuam"
   ]
  },
  {
   "cell_type": "code",
   "execution_count": 2,
   "id": "bcea4d8b",
   "metadata": {
    "ExecuteTime": {
     "end_time": "2022-08-26T14:19:06.118492Z",
     "start_time": "2022-08-26T14:13:37.888398Z"
    }
   },
   "outputs": [],
   "source": [
    "# import re\n",
    "import sys\n",
    "import logging\n",
    "from datetime import datetime as dtm\n",
    "from tqdm.notebook import tqdm\n",
    "import pandas as pd"
   ]
  },
  {
   "cell_type": "code",
   "execution_count": 3,
   "id": "caabc8c7",
   "metadata": {
    "ExecuteTime": {
     "end_time": "2022-08-26T14:19:06.118492Z",
     "start_time": "2022-08-26T14:13:37.888398Z"
    }
   },
   "outputs": [],
   "source": [
    "pd.set_option('display.max_colwidth', None)\n",
    "pd.set_option('display.float_format', '{:.2f}'.format)\n",
    "tqdm.pandas()\n",
    "\n",
    "logging.basicConfig(\n",
    "        format=u'[%(levelname)-8s] %(asctime)s | %(message)s',\n",
    "        datefmt='%Y-%m-%d %H:%M:%S',\n",
    "        level=logging.INFO,\n",
    "        # level=logging.DEBUG,\n",
    "        stream=sys.stdout,\n",
    "    )"
   ]
  },
  {
   "cell_type": "markdown",
   "id": "db3fe2be",
   "metadata": {},
   "source": [
    "---"
   ]
  },
  {
   "cell_type": "code",
   "execution_count": 4,
   "id": "d437eab9",
   "metadata": {},
   "outputs": [],
   "source": [
    "# каталог с файлами объявлений\n",
    "avito_raw_data_path = 'data/raw/land/avito' \n",
    "# cian_raw_data_path = 'data/raw/cian'\n",
    "result_file_path = 'data/data_land.pkl'"
   ]
  },
  {
   "cell_type": "code",
   "execution_count": 5,
   "id": "31463a1e",
   "metadata": {},
   "outputs": [],
   "source": [
    "# ts = dtm.now().strftime('%Y-%m-%d_%H-%M')\n",
    "# ts"
   ]
  },
  {
   "cell_type": "markdown",
   "id": "98f6384f",
   "metadata": {},
   "source": [
    "## собираем данные авито.ру"
   ]
  },
  {
   "cell_type": "code",
   "execution_count": 6,
   "id": "2673ef1f",
   "metadata": {},
   "outputs": [
    {
     "data": {
      "text/plain": [
       "['data/raw/land/avito/avito_2022-09-08_16-05_raw.xlsx',\n",
       " 'data/raw/land/avito/avito_2022-09-12_13-51_raw.xlsx',\n",
       " 'data/raw/land/avito/avito_2022-09-13_13-56_raw.xlsx',\n",
       " 'data/raw/land/avito/avito_2022-09-15_10-31_raw.xlsx']"
      ]
     },
     "execution_count": 6,
     "metadata": {},
     "output_type": "execute_result"
    }
   ],
   "source": [
    "import re\n",
    "from os import listdir\n",
    "\n",
    "raw_data_files = sorted([\n",
    "        avito_raw_data_path+'/'+f \n",
    "        for f in listdir(avito_raw_data_path) \n",
    "        if re.match(r'.+\\.xlsx$',f)\n",
    "    ])\n",
    "raw_data_files"
   ]
  },
  {
   "cell_type": "code",
   "execution_count": 7,
   "id": "347629e1",
   "metadata": {},
   "outputs": [
    {
     "name": "stdout",
     "output_type": "stream",
     "text": [
      "4415\n"
     ]
    }
   ],
   "source": [
    "data_avito = pd.concat([\n",
    "        pd\n",
    "        .read_excel(f)\n",
    "        #.dropna()\n",
    "        .drop_duplicates(['avito_id','description'])\n",
    "        .rename(columns={'page':'avito_page'})\n",
    "        .reset_index(drop=True)  \n",
    "        for f in raw_data_files\n",
    "    ]).reset_index(drop=True)\n",
    "\n",
    "print(len(data_avito))"
   ]
  },
  {
   "cell_type": "code",
   "execution_count": 8,
   "id": "2a992037",
   "metadata": {},
   "outputs": [],
   "source": [
    "# data_avito"
   ]
  },
  {
   "cell_type": "code",
   "execution_count": 9,
   "id": "cbce7aaa",
   "metadata": {},
   "outputs": [
    {
     "name": "stdout",
     "output_type": "stream",
     "text": [
      "4415\n"
     ]
    }
   ],
   "source": [
    "from lib.avito import AvitoDataCleanerRealtyLand\n",
    "\n",
    "data_avito = AvitoDataCleanerRealtyLand().transform( data_avito )\n",
    "\n",
    "print(len(data_avito))"
   ]
  },
  {
   "cell_type": "code",
   "execution_count": 10,
   "id": "becaac57",
   "metadata": {},
   "outputs": [
    {
     "data": {
      "text/html": [
       "<div>\n",
       "<style scoped>\n",
       "    .dataframe tbody tr th:only-of-type {\n",
       "        vertical-align: middle;\n",
       "    }\n",
       "\n",
       "    .dataframe tbody tr th {\n",
       "        vertical-align: top;\n",
       "    }\n",
       "\n",
       "    .dataframe thead th {\n",
       "        text-align: right;\n",
       "    }\n",
       "</style>\n",
       "<table border=\"1\" class=\"dataframe\">\n",
       "  <thead>\n",
       "    <tr style=\"text-align: right;\">\n",
       "      <th></th>\n",
       "      <th>avito_id</th>\n",
       "      <th>title</th>\n",
       "      <th>price</th>\n",
       "      <th>obj_name</th>\n",
       "      <th>adr</th>\n",
       "      <th>description</th>\n",
       "      <th>avito_page</th>\n",
       "      <th>ts</th>\n",
       "      <th>area</th>\n",
       "      <th>is_IJS</th>\n",
       "      <th>priceM</th>\n",
       "      <th>priceMU</th>\n",
       "      <th>area_size_category</th>\n",
       "    </tr>\n",
       "  </thead>\n",
       "  <tbody>\n",
       "    <tr>\n",
       "      <th>3840</th>\n",
       "      <td>2544369456</td>\n",
       "      <td>Участок 6,5 сот. (ИЖС)</td>\n",
       "      <td>3000000</td>\n",
       "      <td></td>\n",
       "      <td>Обрядный пер., 5</td>\n",
       "      <td>Арт. 25081094 Идеально подойдёт для строительства дома. \\n\\nНаходится в самом перспективном районе Северной стороны Севастополя. \\n\\nРовный, прямоугольной формы. \\n\\nКрайний в массиве участков с широкой панорамой на бухту и море. \\n\\nЗдесь самое активное строитель</td>\n",
       "      <td>11</td>\n",
       "      <td>2022-09-15 10:31:26.039</td>\n",
       "      <td>6.50</td>\n",
       "      <td>True</td>\n",
       "      <td>3.00</td>\n",
       "      <td>0.46</td>\n",
       "      <td>4-8</td>\n",
       "    </tr>\n",
       "    <tr>\n",
       "      <th>1296</th>\n",
       "      <td>2282135275</td>\n",
       "      <td>Участок 8,5 сот. (ИЖС)</td>\n",
       "      <td>4300000</td>\n",
       "      <td></td>\n",
       "      <td>садоводческое товарищество Малыш</td>\n",
       "      <td>Городская вода, свет и газ всё оплачено и заведено на участок. \\nДелится, имеет двухсторонний автоподъезд. Участок находится за стрелецким за авторынком в кооп. Малыш. Городская вода, свет и газ всё оплачено и заведено на участок. \\n«Покупайте землю — ведь е</td>\n",
       "      <td>5</td>\n",
       "      <td>2022-09-12 13:51:16.745</td>\n",
       "      <td>8.50</td>\n",
       "      <td>True</td>\n",
       "      <td>4.30</td>\n",
       "      <td>0.51</td>\n",
       "      <td>8-20</td>\n",
       "    </tr>\n",
       "    <tr>\n",
       "      <th>1589</th>\n",
       "      <td>2441443178</td>\n",
       "      <td>Участок 9,7 сот. (ИЖС)</td>\n",
       "      <td>2800000</td>\n",
       "      <td></td>\n",
       "      <td>ул. Генерала Мельника</td>\n",
       "      <td>Цена Снижена Временно, Пока Есть Интересное Встречное Предложение! \\n\\nВ Продаже Bидоbой Участок CО Всеmи Kommуhиkaцияmи! \\n\\nПолучено Гпзу (пятно застройки на весь участок)! \\n\\nУчaсток раcпoложен на cклoнe Bopoнцoвoй гoры, с пaнорaмным видoм нa гoрoд, море и и</td>\n",
       "      <td>11</td>\n",
       "      <td>2022-09-12 13:51:16.745</td>\n",
       "      <td>9.70</td>\n",
       "      <td>True</td>\n",
       "      <td>2.80</td>\n",
       "      <td>0.29</td>\n",
       "      <td>8-20</td>\n",
       "    </tr>\n",
       "  </tbody>\n",
       "</table>\n",
       "</div>"
      ],
      "text/plain": [
       "        avito_id                   title    price obj_name  \\\n",
       "3840  2544369456  Участок 6,5 сот. (ИЖС)  3000000            \n",
       "1296  2282135275  Участок 8,5 сот. (ИЖС)  4300000            \n",
       "1589  2441443178  Участок 9,7 сот. (ИЖС)  2800000            \n",
       "\n",
       "                                   adr  \\\n",
       "3840                  Обрядный пер., 5   \n",
       "1296  садоводческое товарищество Малыш   \n",
       "1589             ул. Генерала Мельника   \n",
       "\n",
       "                                                                                                                                                                                                                                                                   description  \\\n",
       "3840  Арт. 25081094 Идеально подойдёт для строительства дома. \\n\\nНаходится в самом перспективном районе Северной стороны Севастополя. \\n\\nРовный, прямоугольной формы. \\n\\nКрайний в массиве участков с широкой панорамой на бухту и море. \\n\\nЗдесь самое активное строитель   \n",
       "1296        Городская вода, свет и газ всё оплачено и заведено на участок. \\nДелится, имеет двухсторонний автоподъезд. Участок находится за стрелецким за авторынком в кооп. Малыш. Городская вода, свет и газ всё оплачено и заведено на участок. \\n«Покупайте землю — ведь е   \n",
       "1589    Цена Снижена Временно, Пока Есть Интересное Встречное Предложение! \\n\\nВ Продаже Bидоbой Участок CО Всеmи Kommуhиkaцияmи! \\n\\nПолучено Гпзу (пятно застройки на весь участок)! \\n\\nУчaсток раcпoложен на cклoнe Bopoнцoвoй гoры, с пaнорaмным видoм нa гoрoд, море и и   \n",
       "\n",
       "      avito_page                      ts  area  is_IJS  priceM  priceMU  \\\n",
       "3840          11 2022-09-15 10:31:26.039  6.50    True    3.00     0.46   \n",
       "1296           5 2022-09-12 13:51:16.745  8.50    True    4.30     0.51   \n",
       "1589          11 2022-09-12 13:51:16.745  9.70    True    2.80     0.29   \n",
       "\n",
       "     area_size_category  \n",
       "3840                4-8  \n",
       "1296               8-20  \n",
       "1589               8-20  "
      ]
     },
     "execution_count": 10,
     "metadata": {},
     "output_type": "execute_result"
    }
   ],
   "source": [
    "data_avito.sample(3)"
   ]
  },
  {
   "cell_type": "code",
   "execution_count": 11,
   "id": "ce2869e1",
   "metadata": {},
   "outputs": [],
   "source": [
    "assert len(data_avito)>0"
   ]
  },
  {
   "cell_type": "code",
   "execution_count": 12,
   "id": "12170700",
   "metadata": {},
   "outputs": [
    {
     "name": "stdout",
     "output_type": "stream",
     "text": [
      "<class 'pandas.core.frame.DataFrame'>\n",
      "RangeIndex: 4415 entries, 0 to 4414\n",
      "Data columns (total 13 columns):\n",
      " #   Column              Non-Null Count  Dtype         \n",
      "---  ------              --------------  -----         \n",
      " 0   avito_id            4415 non-null   int64         \n",
      " 1   title               4415 non-null   object        \n",
      " 2   price               4415 non-null   int64         \n",
      " 3   obj_name            4415 non-null   object        \n",
      " 4   adr                 4415 non-null   object        \n",
      " 5   description         4415 non-null   object        \n",
      " 6   avito_page          4415 non-null   int64         \n",
      " 7   ts                  4415 non-null   datetime64[ns]\n",
      " 8   area                4415 non-null   float64       \n",
      " 9   is_IJS              4415 non-null   bool          \n",
      " 10  priceM              4415 non-null   float64       \n",
      " 11  priceMU             4415 non-null   float64       \n",
      " 12  area_size_category  4415 non-null   category      \n",
      "dtypes: bool(1), category(1), datetime64[ns](1), float64(3), int64(3), object(4)\n",
      "memory usage: 388.4+ KB\n"
     ]
    }
   ],
   "source": [
    "data_avito.info(2)"
   ]
  },
  {
   "cell_type": "code",
   "execution_count": 13,
   "id": "67c60c3a",
   "metadata": {},
   "outputs": [],
   "source": [
    "## собираем данные циан.ру"
   ]
  },
  {
   "cell_type": "code",
   "execution_count": 14,
   "id": "05ea79a3",
   "metadata": {},
   "outputs": [],
   "source": [
    "# import re\n",
    "# from os import listdir\n",
    "\n",
    "# raw_data_files = sorted([\n",
    "#         cian_raw_data_path+'/'+f \n",
    "#         for f in listdir(cian_raw_data_path) \n",
    "#         if re.match(r'.+\\.pkl$',f)\n",
    "#         #if re.match(r'.+\\.xlsx$',f)\n",
    "    \n",
    "#     ])\n",
    "# raw_data_files"
   ]
  },
  {
   "cell_type": "code",
   "execution_count": 15,
   "id": "bb5a87f6",
   "metadata": {},
   "outputs": [],
   "source": [
    "# data_cian = pd.concat([\n",
    "#         # pd.read_excel(f)\n",
    "#         pd.read_pickle(f)\n",
    "#          .dropna()\n",
    "#          .drop_duplicates(['LinkArea','Description',])\n",
    "#          .rename(columns={'page':'cian_page'})\n",
    "#          .reset_index(drop=True)  \n",
    "#         for f in raw_data_files\n",
    "#     ]).reset_index(drop=True)"
   ]
  },
  {
   "cell_type": "code",
   "execution_count": 16,
   "id": "fe083793",
   "metadata": {},
   "outputs": [],
   "source": [
    "# data_cian.info(2)"
   ]
  },
  {
   "cell_type": "code",
   "execution_count": 17,
   "id": "5fb87c58",
   "metadata": {},
   "outputs": [],
   "source": [
    "# swap_title = data_cian['OfferSubtitle'].str.match(r'.*\\d+ м², \\d+/\\d+ эт.*') \n",
    "\n",
    "# data_cian = pd.concat([\n",
    "#         data_cian[ ~swap_title ],\n",
    "#         data_cian[ swap_title ]\n",
    "#             .rename(columns={'OfferTitle':'OfferSubtitle','OfferSubtitle':'OfferTitle'})\n",
    "#     ]).reset_index(drop=True)\n"
   ]
  },
  {
   "cell_type": "code",
   "execution_count": 18,
   "id": "33bda6e8",
   "metadata": {},
   "outputs": [],
   "source": [
    "# data_cian"
   ]
  },
  {
   "cell_type": "code",
   "execution_count": 19,
   "id": "7a11ac2f",
   "metadata": {},
   "outputs": [],
   "source": [
    "# from lib.cian import CianDataCleaner\n",
    "\n",
    "# data_cian = CianDataCleaner().transform( data_cian )\n",
    "\n",
    "# print(len(data_cian))"
   ]
  },
  {
   "cell_type": "code",
   "execution_count": 20,
   "id": "b1df2dba",
   "metadata": {},
   "outputs": [],
   "source": [
    "# assert len(data_cian)>0"
   ]
  },
  {
   "cell_type": "code",
   "execution_count": 21,
   "id": "979243e4",
   "metadata": {},
   "outputs": [],
   "source": [
    "# data_cian.info(2)"
   ]
  },
  {
   "cell_type": "code",
   "execution_count": 22,
   "id": "5eb571e0",
   "metadata": {},
   "outputs": [],
   "source": [
    "# data_cian\n",
    "# data_cian.query('nrooms==0')\n",
    "# data_cian[ data_cian['title'].str.len()<1 ]\n",
    "# data_cian[ data_cian['obj_name'].str.len()>0 ][['title','obj_name',]] # .to_csv('tmp/cian_title.csv',sep='\\t')|"
   ]
  },
  {
   "cell_type": "markdown",
   "id": "31f9a289",
   "metadata": {},
   "source": [
    "----"
   ]
  },
  {
   "cell_type": "code",
   "execution_count": 23,
   "id": "c6e47d9a",
   "metadata": {},
   "outputs": [],
   "source": [
    "# data = pd.concat([data_avito,data_cian]).reset_index(drop=True) \n",
    "# print(len(data))\n",
    "# assert len(data)>0"
   ]
  },
  {
   "cell_type": "markdown",
   "id": "f3ca7967",
   "metadata": {},
   "source": [
    "---"
   ]
  },
  {
   "cell_type": "code",
   "execution_count": 24,
   "id": "2db629e4",
   "metadata": {},
   "outputs": [
    {
     "name": "stdout",
     "output_type": "stream",
     "text": [
      "4415\n"
     ]
    }
   ],
   "source": [
    "data = data_avito.reset_index(drop=True) \n",
    "print(len(data))\n",
    "assert len(data)>0"
   ]
  },
  {
   "cell_type": "markdown",
   "id": "2903ab86",
   "metadata": {},
   "source": [
    "### обновляем таблицу адресов"
   ]
  },
  {
   "cell_type": "code",
   "execution_count": 25,
   "id": "8ef8e77a",
   "metadata": {},
   "outputs": [],
   "source": [
    "# data = data.sample(10)"
   ]
  },
  {
   "cell_type": "code",
   "execution_count": 26,
   "id": "0c2ca700",
   "metadata": {},
   "outputs": [],
   "source": [
    "# import pandas as pd\n",
    "# loc_file_path = 'data/location_yandex.pkl'# таблица адресов\n",
    "# df=pd.read_pickle(loc_file_path)\n",
    "# # df\n",
    "\n",
    "# df['latitude_'] =  df['latitude']\n",
    "# df['latitude']  =  df['longitude']\n",
    "# df['longitude'] = df['latitude_']\n",
    "# df = df.drop(columns=['latitude_',])\n",
    "\n",
    "# df.to_pickle(loc_file_path)"
   ]
  },
  {
   "cell_type": "code",
   "execution_count": 27,
   "id": "c6c42394",
   "metadata": {},
   "outputs": [],
   "source": [
    "# from lib.locator import LocationUpdater\n",
    "# from lib.locator import AddressTransformerSev\n",
    "\n",
    "# loc_file_path = 'data/location.pkl'# таблица адресов\n",
    "\n",
    "# loc = LocationUpdater(\n",
    "#         address_transformer=AddressTransformerSev(),\n",
    "#     ).transform(\n",
    "#         adr=data.sample(3)['adr'],\n",
    "#         loc=pd.read_pickle(loc_file_path.pkl'),\n",
    "#         show_pbar=True,\n",
    "#     )"
   ]
  },
  {
   "cell_type": "code",
   "execution_count": null,
   "id": "42bebe2e",
   "metadata": {},
   "outputs": [],
   "source": [
    "from lib.locator import AddressTransformer\n",
    "\n",
    "data['adr'] = AddressTransformer().transform( data['adr'] )\n",
    "\n",
    "places = {\n",
    "#'bahchisaray': 'Бахчисарай',\n",
    "#      'sudak': 'Судак',\n",
    " 'sevastopol': 'Севастополь',\n",
    "}\n",
    "\n",
    "for k,v in places.items():\n",
    "    print(k,v)\n",
    "    f =  (data['place']==k) & (~data['adr'].str.match(v))\n",
    "    data.loc[f,'adr'] = v +', '+ data.loc[f,'adr']"
   ]
  },
  {
   "cell_type": "code",
   "execution_count": 28,
   "id": "7d191d0d",
   "metadata": {},
   "outputs": [
    {
     "name": "stdout",
     "output_type": "stream",
     "text": [
      "[INFO    ] 2022-09-15 10:37:22 | LocationUpdater: 3667 addresses in location table\n",
      "[INFO    ] 2022-09-15 10:37:22 | LocationUpdater: 3695 addresses total\n",
      "[INFO    ] 2022-09-15 10:37:22 | LocationUpdater: 3667 addresses defined\n",
      "[INFO    ] 2022-09-15 10:37:22 | LocationUpdater: 28 addresses undefined\n"
     ]
    },
    {
     "data": {
      "application/vnd.jupyter.widget-view+json": {
       "model_id": "535a8a31fb0c4315a5b7cf1738662cc8",
       "version_major": 2,
       "version_minor": 0
      },
      "text/plain": [
       "  0%|          | 0/28 [00:00<?, ?it/s]"
      ]
     },
     "metadata": {},
     "output_type": "display_data"
    },
    {
     "name": "stdout",
     "output_type": "stream",
     "text": [
      "[INFO    ] 2022-09-15 10:37:30 | LocationUpdater: 28 new addresses found\n"
     ]
    }
   ],
   "source": [
    "from lib.locator import LocationUpdater\n",
    "# from lib.locator import AddressTransformerSev\n",
    "from lib.locator import GeocoderYandex\n",
    "from yandex_keys import keys\n",
    "\n",
    "\n",
    "loc_file_path = 'data/location.pkl'# таблица адресов\n",
    "\n",
    "loc = LocationUpdater(\n",
    "        locator=GeocoderYandex(keys[0]),\n",
    "        # address_transformer=AddressTransformerSev(),\n",
    "    ).transform(\n",
    "        adr=data['adr'],\n",
    "        loc=pd.read_pickle(loc_file_path),\n",
    "        show_pbar=True,\n",
    "    )"
   ]
  },
  {
   "cell_type": "code",
   "execution_count": 29,
   "id": "c1db83fe",
   "metadata": {},
   "outputs": [
    {
     "data": {
      "text/html": [
       "<div>\n",
       "<style scoped>\n",
       "    .dataframe tbody tr th:only-of-type {\n",
       "        vertical-align: middle;\n",
       "    }\n",
       "\n",
       "    .dataframe tbody tr th {\n",
       "        vertical-align: top;\n",
       "    }\n",
       "\n",
       "    .dataframe thead th {\n",
       "        text-align: right;\n",
       "    }\n",
       "</style>\n",
       "<table border=\"1\" class=\"dataframe\">\n",
       "  <thead>\n",
       "    <tr style=\"text-align: right;\">\n",
       "      <th></th>\n",
       "      <th>latitude</th>\n",
       "      <th>longitude</th>\n",
       "      <th>adr</th>\n",
       "      <th>truncated</th>\n",
       "    </tr>\n",
       "  </thead>\n",
       "  <tbody>\n",
       "    <tr>\n",
       "      <th>0</th>\n",
       "      <td>44.50</td>\n",
       "      <td>33.49</td>\n",
       "      <td>мыс Фиолент</td>\n",
       "      <td>NaN</td>\n",
       "    </tr>\n",
       "    <tr>\n",
       "      <th>1</th>\n",
       "      <td>44.47</td>\n",
       "      <td>33.67</td>\n",
       "      <td>с. Резервное, Бородинский пер.</td>\n",
       "      <td>NaN</td>\n",
       "    </tr>\n",
       "    <tr>\n",
       "      <th>2</th>\n",
       "      <td>44.60</td>\n",
       "      <td>33.44</td>\n",
       "      <td>ул. Челнокова, 14/11</td>\n",
       "      <td>NaN</td>\n",
       "    </tr>\n",
       "    <tr>\n",
       "      <th>3</th>\n",
       "      <td>44.64</td>\n",
       "      <td>33.57</td>\n",
       "      <td>ТСН СНТ Парус-1, 81</td>\n",
       "      <td>NaN</td>\n",
       "    </tr>\n",
       "    <tr>\n",
       "      <th>4</th>\n",
       "      <td>44.64</td>\n",
       "      <td>33.58</td>\n",
       "      <td>Ясеневая ул., 71</td>\n",
       "      <td>NaN</td>\n",
       "    </tr>\n",
       "    <tr>\n",
       "      <th>...</th>\n",
       "      <td>...</td>\n",
       "      <td>...</td>\n",
       "      <td>...</td>\n",
       "      <td>...</td>\n",
       "    </tr>\n",
       "    <tr>\n",
       "      <th>3690</th>\n",
       "      <td>44.48</td>\n",
       "      <td>33.77</td>\n",
       "      <td>Севастополь, Балаклавский район, Орлиновский муниципальный округ, село Широкое</td>\n",
       "      <td>NaN</td>\n",
       "    </tr>\n",
       "    <tr>\n",
       "      <th>3691</th>\n",
       "      <td>44.57</td>\n",
       "      <td>33.47</td>\n",
       "      <td>Готская ул., 122А</td>\n",
       "      <td>NaN</td>\n",
       "    </tr>\n",
       "    <tr>\n",
       "      <th>3692</th>\n",
       "      <td>44.58</td>\n",
       "      <td>33.56</td>\n",
       "      <td>Севастополь, переулок Генерала Мельника</td>\n",
       "      <td>NaN</td>\n",
       "    </tr>\n",
       "    <tr>\n",
       "      <th>3693</th>\n",
       "      <td>44.74</td>\n",
       "      <td>33.68</td>\n",
       "      <td>с. Тенистое, ул. Алиме Абденнановой</td>\n",
       "      <td>NaN</td>\n",
       "    </tr>\n",
       "    <tr>\n",
       "      <th>3694</th>\n",
       "      <td>44.57</td>\n",
       "      <td>33.58</td>\n",
       "      <td>Севастополь, Предместная улица, 51</td>\n",
       "      <td>NaN</td>\n",
       "    </tr>\n",
       "  </tbody>\n",
       "</table>\n",
       "<p>3695 rows × 4 columns</p>\n",
       "</div>"
      ],
      "text/plain": [
       "      latitude  longitude  \\\n",
       "0        44.50      33.49   \n",
       "1        44.47      33.67   \n",
       "2        44.60      33.44   \n",
       "3        44.64      33.57   \n",
       "4        44.64      33.58   \n",
       "...        ...        ...   \n",
       "3690     44.48      33.77   \n",
       "3691     44.57      33.47   \n",
       "3692     44.58      33.56   \n",
       "3693     44.74      33.68   \n",
       "3694     44.57      33.58   \n",
       "\n",
       "                                                                                 adr  \\\n",
       "0                                                                        мыс Фиолент   \n",
       "1                                                     с. Резервное, Бородинский пер.   \n",
       "2                                                               ул. Челнокова, 14/11   \n",
       "3                                                                ТСН СНТ Парус-1, 81   \n",
       "4                                                                   Ясеневая ул., 71   \n",
       "...                                                                              ...   \n",
       "3690  Севастополь, Балаклавский район, Орлиновский муниципальный округ, село Широкое   \n",
       "3691                                                               Готская ул., 122А   \n",
       "3692                                         Севастополь, переулок Генерала Мельника   \n",
       "3693                                             с. Тенистое, ул. Алиме Абденнановой   \n",
       "3694                                              Севастополь, Предместная улица, 51   \n",
       "\n",
       "     truncated  \n",
       "0          NaN  \n",
       "1          NaN  \n",
       "2          NaN  \n",
       "3          NaN  \n",
       "4          NaN  \n",
       "...        ...  \n",
       "3690       NaN  \n",
       "3691       NaN  \n",
       "3692       NaN  \n",
       "3693       NaN  \n",
       "3694       NaN  \n",
       "\n",
       "[3695 rows x 4 columns]"
      ]
     },
     "execution_count": 29,
     "metadata": {},
     "output_type": "execute_result"
    }
   ],
   "source": [
    "loc"
   ]
  },
  {
   "cell_type": "code",
   "execution_count": 30,
   "id": "19741bb7",
   "metadata": {},
   "outputs": [
    {
     "data": {
      "text/html": [
       "<div>\n",
       "<style scoped>\n",
       "    .dataframe tbody tr th:only-of-type {\n",
       "        vertical-align: middle;\n",
       "    }\n",
       "\n",
       "    .dataframe tbody tr th {\n",
       "        vertical-align: top;\n",
       "    }\n",
       "\n",
       "    .dataframe thead th {\n",
       "        text-align: right;\n",
       "    }\n",
       "</style>\n",
       "<table border=\"1\" class=\"dataframe\">\n",
       "  <thead>\n",
       "    <tr style=\"text-align: right;\">\n",
       "      <th></th>\n",
       "      <th>latitude</th>\n",
       "      <th>longitude</th>\n",
       "      <th>adr</th>\n",
       "      <th>truncated</th>\n",
       "    </tr>\n",
       "  </thead>\n",
       "  <tbody>\n",
       "    <tr>\n",
       "      <th>1080</th>\n",
       "      <td>44.56</td>\n",
       "      <td>33.53</td>\n",
       "      <td>Парковая улица , 14Б</td>\n",
       "      <td>NaN</td>\n",
       "    </tr>\n",
       "    <tr>\n",
       "      <th>2919</th>\n",
       "      <td>44.57</td>\n",
       "      <td>33.47</td>\n",
       "      <td>Севастополь, район Гагаринский, микрорайон 5-й, улица Комбрига Потапова, 20</td>\n",
       "      <td>True</td>\n",
       "    </tr>\n",
       "    <tr>\n",
       "      <th>2715</th>\n",
       "      <td>44.64</td>\n",
       "      <td>33.54</td>\n",
       "      <td>Севастополь, район Нахимовский, микрорайон Учкуевка, улица Челюскинцев, 49</td>\n",
       "      <td>True</td>\n",
       "    </tr>\n",
       "  </tbody>\n",
       "</table>\n",
       "</div>"
      ],
      "text/plain": [
       "      latitude  longitude  \\\n",
       "1080     44.56      33.53   \n",
       "2919     44.57      33.47   \n",
       "2715     44.64      33.54   \n",
       "\n",
       "                                                                              adr  \\\n",
       "1080                                                         Парковая улица , 14Б   \n",
       "2919  Севастополь, район Гагаринский, микрорайон 5-й, улица Комбрига Потапова, 20   \n",
       "2715   Севастополь, район Нахимовский, микрорайон Учкуевка, улица Челюскинцев, 49   \n",
       "\n",
       "     truncated  \n",
       "1080       NaN  \n",
       "2919      True  \n",
       "2715      True  "
      ]
     },
     "execution_count": 30,
     "metadata": {},
     "output_type": "execute_result"
    }
   ],
   "source": [
    "loc.sample(3)"
   ]
  },
  {
   "cell_type": "code",
   "execution_count": 31,
   "id": "a90d2398",
   "metadata": {},
   "outputs": [],
   "source": [
    "assert len(loc)>0\n",
    "loc.to_pickle(loc_file_path)"
   ]
  },
  {
   "cell_type": "markdown",
   "id": "30dbd6a6",
   "metadata": {},
   "source": [
    "### дополняем данные геометкой"
   ]
  },
  {
   "cell_type": "code",
   "execution_count": 32,
   "id": "06470644",
   "metadata": {},
   "outputs": [
    {
     "name": "stdout",
     "output_type": "stream",
     "text": [
      "всего записей: 4415\n",
      "записей без геометки: 0\n"
     ]
    }
   ],
   "source": [
    "data = data.merge(loc[['adr','latitude','longitude',]],on=['adr'],how='left')\n",
    "\n",
    "print('всего записей:', len( data) )\n",
    "print('записей без геометки:', len( data[ data['latitude'].isnull() ] ) )"
   ]
  },
  {
   "cell_type": "code",
   "execution_count": 33,
   "id": "b3161e64",
   "metadata": {},
   "outputs": [],
   "source": [
    "assert len(data)>0\n",
    "data.to_pickle(result_file_path)"
   ]
  },
  {
   "cell_type": "code",
   "execution_count": 34,
   "id": "799e47c2",
   "metadata": {},
   "outputs": [
    {
     "name": "stdout",
     "output_type": "stream",
     "text": [
      "<class 'pandas.core.frame.DataFrame'>\n",
      "Int64Index: 4415 entries, 0 to 4414\n",
      "Data columns (total 15 columns):\n",
      " #   Column              Non-Null Count  Dtype         \n",
      "---  ------              --------------  -----         \n",
      " 0   avito_id            4415 non-null   int64         \n",
      " 1   title               4415 non-null   object        \n",
      " 2   price               4415 non-null   int64         \n",
      " 3   obj_name            4415 non-null   object        \n",
      " 4   adr                 4415 non-null   object        \n",
      " 5   description         4415 non-null   object        \n",
      " 6   avito_page          4415 non-null   int64         \n",
      " 7   ts                  4415 non-null   datetime64[ns]\n",
      " 8   area                4415 non-null   float64       \n",
      " 9   is_IJS              4415 non-null   bool          \n",
      " 10  priceM              4415 non-null   float64       \n",
      " 11  priceMU             4415 non-null   float64       \n",
      " 12  area_size_category  4415 non-null   category      \n",
      " 13  latitude            4415 non-null   float64       \n",
      " 14  longitude           4415 non-null   float64       \n",
      "dtypes: bool(1), category(1), datetime64[ns](1), float64(5), int64(3), object(4)\n",
      "memory usage: 491.7+ KB\n"
     ]
    }
   ],
   "source": [
    "data.info()"
   ]
  },
  {
   "cell_type": "code",
   "execution_count": 35,
   "id": "13de0b35",
   "metadata": {},
   "outputs": [],
   "source": [
    "# for f in raw_data_files:\n",
    "#     ts = dtm.strptime( re.sub(r'.*/avito_','',f), '%Y-%m-%d_%H-%M_raw.xlsx')\n",
    "#     df = pd.read_excel(f)\n",
    "#     df['ts'] = ts\n",
    "#     df.to_excel(f,index=False)\n",
    "#     print(ts)"
   ]
  },
  {
   "cell_type": "code",
   "execution_count": 36,
   "id": "0e318218",
   "metadata": {},
   "outputs": [],
   "source": [
    "# class AvitoDataCleanerRealtyLand:\n",
    "    \n",
    "#     def transform(self,data):\n",
    "#         df = data.copy()\n",
    "        \n",
    "#         symb_lat = 'yexapocEXAPOCTHKBM'\n",
    "#         symb_rus = 'уехаросЕХАРОСТНКВМ'\n",
    "#         l2r = str.maketrans(symb_lat,symb_rus) \n",
    "        \n",
    "#         df['title'] = df['title'].str.extract( r'«(.*)»',expand=False).apply(lambda s: s.translate(l2r) )\n",
    "        \n",
    "#         area = df['title'].str.extract( r'(\\d+,?\\d*)\\s*(сот|га)',expand=True)\n",
    "#         area.columns=['area','area_unit']\n",
    "#         df = pd.concat([df,area],axis=1)\n",
    "                       \n",
    "#         df['is_IJS'] = df['title'].str.lower().str.match(r'.*ижс.*')\n",
    "#         df['obj_name'] = df['obj_name'].fillna('')\n",
    "#         df['price'] = df['price'].astype(int)\n",
    "#         df['priceM'] = df['price']/1e6\n",
    "        \n",
    "#         df['area'] = df['area'].fillna('0.').str.replace(',','.').astype(float)\n",
    "        \n",
    "#         df.loc[ df['area_unit']=='га', 'area' ] = df.query('area_unit==\"га\"')['area']*100.\n",
    "#         df = df.drop(columns=['area_unit'])\n",
    "        \n",
    "#         return df"
   ]
  },
  {
   "cell_type": "code",
   "execution_count": 37,
   "id": "815aa760",
   "metadata": {},
   "outputs": [],
   "source": [
    "# data_avito['title'].str.extract( r'(\\d+,?\\d*)\\s*(сот|га)',expand=True) #, columns=['a','b'])\n",
    "        "
   ]
  },
  {
   "cell_type": "code",
   "execution_count": 38,
   "id": "61a0a534",
   "metadata": {},
   "outputs": [],
   "source": [
    "# # import re\n",
    "# # s='Участок 9,7 сот. (ИЖС)'\n",
    "# s='Участок 7,8 сот. (ИЖС)'\n",
    "# s='Участок 7,8 га. (ИЖС)'\n",
    "\n",
    "# s='Участок 7,8 м. (ИЖС)'\n",
    "\n",
    "# # s='Участок 5 сот. (ИЖС)'\n",
    "\n",
    "# re.search( r'(\\d+,?\\d*)\\s*(сот|га)',s) #.group(1)\n",
    "\n",
    "# # # len(s)"
   ]
  }
 ],
 "metadata": {
  "kernelspec": {
   "display_name": "Python 3 (ipykernel)",
   "language": "python",
   "name": "python3"
  },
  "language_info": {
   "codemirror_mode": {
    "name": "ipython",
    "version": 3
   },
   "file_extension": ".py",
   "mimetype": "text/x-python",
   "name": "python",
   "nbconvert_exporter": "python",
   "pygments_lexer": "ipython3",
   "version": "3.10.6"
  },
  "toc": {
   "base_numbering": 1,
   "nav_menu": {},
   "number_sections": true,
   "sideBar": true,
   "skip_h1_title": false,
   "title_cell": "Table of Contents",
   "title_sidebar": "Contents",
   "toc_cell": false,
   "toc_position": {},
   "toc_section_display": true,
   "toc_window_display": false
  },
  "varInspector": {
   "cols": {
    "lenName": 16,
    "lenType": 16,
    "lenVar": 40
   },
   "kernels_config": {
    "python": {
     "delete_cmd_postfix": "",
     "delete_cmd_prefix": "del ",
     "library": "var_list.py",
     "varRefreshCmd": "print(var_dic_list())"
    },
    "r": {
     "delete_cmd_postfix": ") ",
     "delete_cmd_prefix": "rm(",
     "library": "var_list.r",
     "varRefreshCmd": "cat(var_dic_list()) "
    }
   },
   "types_to_exclude": [
    "module",
    "function",
    "builtin_function_or_method",
    "instance",
    "_Feature"
   ],
   "window_display": false
  }
 },
 "nbformat": 4,
 "nbformat_minor": 5
}
