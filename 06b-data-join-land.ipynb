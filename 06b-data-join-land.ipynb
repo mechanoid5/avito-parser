{
 "cells": [
  {
   "cell_type": "markdown",
   "id": "7bec28d7",
   "metadata": {},
   "source": [
    "__собираем предложения о земельных участках__\n",
    "\n",
    "_Evgeny S. Borisov <parser@mechanoid.su>_"
   ]
  },
  {
   "cell_type": "code",
   "execution_count": 1,
   "id": "52c5999f",
   "metadata": {},
   "outputs": [],
   "source": [
    "# !pacman -S firefox firefox-i18n-r  geckodriver\n",
    "# !pip install seleniuam"
   ]
  },
  {
   "cell_type": "code",
   "execution_count": 2,
   "id": "bcea4d8b",
   "metadata": {
    "ExecuteTime": {
     "end_time": "2022-08-26T14:19:06.118492Z",
     "start_time": "2022-08-26T14:13:37.888398Z"
    }
   },
   "outputs": [],
   "source": [
    "# import re\n",
    "import sys\n",
    "import logging\n",
    "from datetime import datetime as dtm\n",
    "from tqdm.notebook import tqdm\n",
    "import pandas as pd"
   ]
  },
  {
   "cell_type": "code",
   "execution_count": 3,
   "id": "caabc8c7",
   "metadata": {
    "ExecuteTime": {
     "end_time": "2022-08-26T14:19:06.118492Z",
     "start_time": "2022-08-26T14:13:37.888398Z"
    }
   },
   "outputs": [],
   "source": [
    "pd.set_option('display.max_colwidth', None)\n",
    "pd.set_option('display.float_format', '{:.2f}'.format)\n",
    "tqdm.pandas()\n",
    "\n",
    "logging.basicConfig(\n",
    "        format=u'[%(levelname)-8s] %(asctime)s | %(message)s',\n",
    "        datefmt='%Y-%m-%d %H:%M:%S',\n",
    "        level=logging.INFO,\n",
    "        # level=logging.DEBUG,\n",
    "        stream=sys.stdout,\n",
    "    )"
   ]
  },
  {
   "cell_type": "markdown",
   "id": "db3fe2be",
   "metadata": {},
   "source": [
    "---"
   ]
  },
  {
   "cell_type": "code",
   "execution_count": 4,
   "id": "d437eab9",
   "metadata": {},
   "outputs": [],
   "source": [
    "# каталог с файлами объявлений\n",
    "avito_raw_data_path = 'data/raw/land/avito' \n",
    "# cian_raw_data_path = 'data/raw/cian'\n",
    "result_file_path = 'data/data_land.pkl'"
   ]
  },
  {
   "cell_type": "code",
   "execution_count": 5,
   "id": "31463a1e",
   "metadata": {},
   "outputs": [],
   "source": [
    "# ts = dtm.now().strftime('%Y-%m-%d_%H-%M')\n",
    "# ts"
   ]
  },
  {
   "cell_type": "markdown",
   "id": "98f6384f",
   "metadata": {},
   "source": [
    "## собираем данные авито.ру"
   ]
  },
  {
   "cell_type": "code",
   "execution_count": 6,
   "id": "2673ef1f",
   "metadata": {},
   "outputs": [
    {
     "data": {
      "text/plain": [
       "['data/raw/land/avito/avito_2022-09-08_16-05_raw.xlsx',\n",
       " 'data/raw/land/avito/avito_2022-09-12_13-51_raw.xlsx',\n",
       " 'data/raw/land/avito/avito_2022-09-13_13-56_raw.xlsx',\n",
       " 'data/raw/land/avito/avito_2022-09-15_10-31_raw.xlsx',\n",
       " 'data/raw/land/avito/avito_2022-09-16_15-10_raw.xlsx',\n",
       " 'data/raw/land/avito/avito_2022-09-19_12-39_raw.xlsx',\n",
       " 'data/raw/land/avito/avito_2022-09-22_09-57_raw.xlsx',\n",
       " 'data/raw/land/avito/avito_2022-09-26_11-22_raw.xlsx',\n",
       " 'data/raw/land/avito/avito_2022-10-08_20-38_raw.xlsx',\n",
       " 'data/raw/land/avito/avito_2022-10-14_15-54_raw.xlsx',\n",
       " 'data/raw/land/avito/avito_2022-11-01_13-58_raw.xlsx',\n",
       " 'data/raw/land/avito/avito_2022-11-04_17-12_raw.xlsx',\n",
       " 'data/raw/land/avito/avito_2022-11-07_10-46_raw.xlsx',\n",
       " 'data/raw/land/avito/avito_2022-11-15_13-16_raw.xlsx',\n",
       " 'data/raw/land/avito/avito_2022-11-28_14-58_raw.xlsx',\n",
       " 'data/raw/land/avito/avito_2023-01-10_11-27_raw.xlsx',\n",
       " 'data/raw/land/avito/avito_2023-01-27_16-42_raw.xlsx']"
      ]
     },
     "execution_count": 6,
     "metadata": {},
     "output_type": "execute_result"
    }
   ],
   "source": [
    "import re\n",
    "from os import listdir\n",
    "\n",
    "raw_data_files = sorted([\n",
    "        avito_raw_data_path+'/'+f \n",
    "        for f in listdir(avito_raw_data_path) \n",
    "        if re.match(r'.+\\.xlsx$',f)\n",
    "    ])\n",
    "raw_data_files"
   ]
  },
  {
   "cell_type": "code",
   "execution_count": 7,
   "id": "adb5b19b",
   "metadata": {},
   "outputs": [],
   "source": [
    "# for f in raw_data_files:\n",
    "#     df = pd.read_excel(f)\n",
    "#     df['place']='sevastopol'\n",
    "#     df.to_excel(f,index=False)\n",
    "#     print(f)"
   ]
  },
  {
   "cell_type": "code",
   "execution_count": 8,
   "id": "347629e1",
   "metadata": {},
   "outputs": [
    {
     "name": "stdout",
     "output_type": "stream",
     "text": [
      "17940\n"
     ]
    }
   ],
   "source": [
    "data_avito = pd.concat([\n",
    "        pd\n",
    "        .read_excel(f)\n",
    "        #.dropna()\n",
    "        .drop_duplicates(['avito_id','description'])\n",
    "        .rename(columns={'page':'avito_page'})\n",
    "        .reset_index(drop=True)  \n",
    "        for f in raw_data_files\n",
    "    ]).reset_index(drop=True)\n",
    "\n",
    "print(len(data_avito))"
   ]
  },
  {
   "cell_type": "code",
   "execution_count": 9,
   "id": "2a992037",
   "metadata": {},
   "outputs": [],
   "source": [
    "# data_avito"
   ]
  },
  {
   "cell_type": "code",
   "execution_count": 10,
   "id": "cbce7aaa",
   "metadata": {},
   "outputs": [
    {
     "name": "stdout",
     "output_type": "stream",
     "text": [
      "17940\n"
     ]
    }
   ],
   "source": [
    "from lib.avito import AvitoDataCleanerRealtyLand\n",
    "\n",
    "data_avito = AvitoDataCleanerRealtyLand().transform( data_avito )\n",
    "\n",
    "print(len(data_avito))"
   ]
  },
  {
   "cell_type": "code",
   "execution_count": 11,
   "id": "becaac57",
   "metadata": {},
   "outputs": [
    {
     "data": {
      "text/html": [
       "<div>\n",
       "<style scoped>\n",
       "    .dataframe tbody tr th:only-of-type {\n",
       "        vertical-align: middle;\n",
       "    }\n",
       "\n",
       "    .dataframe tbody tr th {\n",
       "        vertical-align: top;\n",
       "    }\n",
       "\n",
       "    .dataframe thead th {\n",
       "        text-align: right;\n",
       "    }\n",
       "</style>\n",
       "<table border=\"1\" class=\"dataframe\">\n",
       "  <thead>\n",
       "    <tr style=\"text-align: right;\">\n",
       "      <th></th>\n",
       "      <th>avito_id</th>\n",
       "      <th>title</th>\n",
       "      <th>price</th>\n",
       "      <th>obj_name</th>\n",
       "      <th>adr</th>\n",
       "      <th>description</th>\n",
       "      <th>avito_page</th>\n",
       "      <th>ts</th>\n",
       "      <th>place</th>\n",
       "      <th>area</th>\n",
       "      <th>is_IJS</th>\n",
       "      <th>priceM</th>\n",
       "      <th>priceMU</th>\n",
       "      <th>area_size_category</th>\n",
       "    </tr>\n",
       "  </thead>\n",
       "  <tbody>\n",
       "    <tr>\n",
       "      <th>2088</th>\n",
       "      <td>2490769490</td>\n",
       "      <td>Участок 8 сот. (ИЖС)</td>\n",
       "      <td>8000000</td>\n",
       "      <td></td>\n",
       "      <td>садовое товарищество Поиск</td>\n",
       "      <td>Электричество есть. За водопровод проплачено. На участке есть металлический гараж.</td>\n",
       "      <td>21</td>\n",
       "      <td>2022-09-12 13:51:16.745</td>\n",
       "      <td>sevastopol</td>\n",
       "      <td>8.00</td>\n",
       "      <td>True</td>\n",
       "      <td>8.00</td>\n",
       "      <td>1.00</td>\n",
       "      <td>4-8</td>\n",
       "    </tr>\n",
       "    <tr>\n",
       "      <th>8156</th>\n",
       "      <td>2410302762</td>\n",
       "      <td>Участок 24 сот. (ИЖС)</td>\n",
       "      <td>13999999</td>\n",
       "      <td></td>\n",
       "      <td>Фёдоровская ул.</td>\n",
       "      <td>Продажа От Собственника.\\n\\nСевастополь, а в особенности его Северную сторону, абсолютно не затапливает ни при каких ливнях! Не зря расположение аэродрома «Бельбек» выбрано именно на Северной стороне. \\n\\nУчасток, 600 м от моря. Пляж Любимовка (песчано-галечны</td>\n",
       "      <td>9</td>\n",
       "      <td>2022-09-26 11:22:23.724</td>\n",
       "      <td>sevastopol</td>\n",
       "      <td>24.00</td>\n",
       "      <td>True</td>\n",
       "      <td>14.00</td>\n",
       "      <td>0.58</td>\n",
       "      <td>20+</td>\n",
       "    </tr>\n",
       "    <tr>\n",
       "      <th>9071</th>\n",
       "      <td>2443820760</td>\n",
       "      <td>Участок 10 сот. (ИЖС)</td>\n",
       "      <td>5000000</td>\n",
       "      <td></td>\n",
       "      <td>Гагаринский муниципальный округ</td>\n",
       "      <td>Срочно! Продам участок √8, в хорошем месте. Не далеко от дороги, до остановки 500 метров. Участок расположен в Снт «Рябинушка», перед участком красивый сосновый лес. Участок 10 соток, форма буква Г. \\nУчасток подходит для строительства дома или же элитного</td>\n",
       "      <td>6</td>\n",
       "      <td>2022-10-08 20:38:42.759</td>\n",
       "      <td>sevastopol</td>\n",
       "      <td>10.00</td>\n",
       "      <td>True</td>\n",
       "      <td>5.00</td>\n",
       "      <td>0.50</td>\n",
       "      <td>8-20</td>\n",
       "    </tr>\n",
       "  </tbody>\n",
       "</table>\n",
       "</div>"
      ],
      "text/plain": [
       "        avito_id                  title     price obj_name  \\\n",
       "2088  2490769490   Участок 8 сот. (ИЖС)   8000000            \n",
       "8156  2410302762  Участок 24 сот. (ИЖС)  13999999            \n",
       "9071  2443820760  Участок 10 сот. (ИЖС)   5000000            \n",
       "\n",
       "                                  adr  \\\n",
       "2088       садовое товарищество Поиск   \n",
       "8156                  Фёдоровская ул.   \n",
       "9071  Гагаринский муниципальный округ   \n",
       "\n",
       "                                                                                                                                                                                                                                                               description  \\\n",
       "2088                                                                                                                                                                                    Электричество есть. За водопровод проплачено. На участке есть металлический гараж.   \n",
       "8156  Продажа От Собственника.\\n\\nСевастополь, а в особенности его Северную сторону, абсолютно не затапливает ни при каких ливнях! Не зря расположение аэродрома «Бельбек» выбрано именно на Северной стороне. \\n\\nУчасток, 600 м от моря. Пляж Любимовка (песчано-галечны   \n",
       "9071     Срочно! Продам участок √8, в хорошем месте. Не далеко от дороги, до остановки 500 метров. Участок расположен в Снт «Рябинушка», перед участком красивый сосновый лес. Участок 10 соток, форма буква Г. \\nУчасток подходит для строительства дома или же элитного    \n",
       "\n",
       "      avito_page                      ts       place  area  is_IJS  priceM  \\\n",
       "2088          21 2022-09-12 13:51:16.745  sevastopol  8.00    True    8.00   \n",
       "8156           9 2022-09-26 11:22:23.724  sevastopol 24.00    True   14.00   \n",
       "9071           6 2022-10-08 20:38:42.759  sevastopol 10.00    True    5.00   \n",
       "\n",
       "      priceMU area_size_category  \n",
       "2088     1.00                4-8  \n",
       "8156     0.58                20+  \n",
       "9071     0.50               8-20  "
      ]
     },
     "execution_count": 11,
     "metadata": {},
     "output_type": "execute_result"
    }
   ],
   "source": [
    "data_avito.sample(3)"
   ]
  },
  {
   "cell_type": "code",
   "execution_count": 12,
   "id": "ce2869e1",
   "metadata": {},
   "outputs": [],
   "source": [
    "assert len(data_avito)>0"
   ]
  },
  {
   "cell_type": "code",
   "execution_count": 13,
   "id": "12170700",
   "metadata": {},
   "outputs": [
    {
     "name": "stdout",
     "output_type": "stream",
     "text": [
      "<class 'pandas.core.frame.DataFrame'>\n",
      "RangeIndex: 17940 entries, 0 to 17939\n",
      "Data columns (total 14 columns):\n",
      " #   Column              Non-Null Count  Dtype         \n",
      "---  ------              --------------  -----         \n",
      " 0   avito_id            17940 non-null  int64         \n",
      " 1   title               17940 non-null  object        \n",
      " 2   price               17940 non-null  int64         \n",
      " 3   obj_name            17940 non-null  object        \n",
      " 4   adr                 17026 non-null  object        \n",
      " 5   description         17940 non-null  object        \n",
      " 6   avito_page          17940 non-null  int64         \n",
      " 7   ts                  17940 non-null  datetime64[ns]\n",
      " 8   place               17940 non-null  object        \n",
      " 9   area                17940 non-null  float64       \n",
      " 10  is_IJS              17940 non-null  bool          \n",
      " 11  priceM              17940 non-null  float64       \n",
      " 12  priceMU             17940 non-null  float64       \n",
      " 13  area_size_category  17930 non-null  category      \n",
      "dtypes: bool(1), category(1), datetime64[ns](1), float64(3), int64(3), object(5)\n",
      "memory usage: 1.7+ MB\n"
     ]
    }
   ],
   "source": [
    "data_avito.info()"
   ]
  },
  {
   "cell_type": "markdown",
   "id": "f3ca7967",
   "metadata": {},
   "source": [
    "---"
   ]
  },
  {
   "cell_type": "code",
   "execution_count": 14,
   "id": "dac90e1f",
   "metadata": {},
   "outputs": [],
   "source": [
    "data_avito['url'] = 'https://avito.ru/' + data_avito['avito_id'].astype(int).astype(str)\n",
    "data_avito = data_avito.drop(columns=['avito_id'])\n",
    "# data_cian = data_cian.rename(columns={'cian_url':'url'})"
   ]
  },
  {
   "cell_type": "code",
   "execution_count": 15,
   "id": "2db629e4",
   "metadata": {},
   "outputs": [
    {
     "name": "stdout",
     "output_type": "stream",
     "text": [
      "17940\n"
     ]
    }
   ],
   "source": [
    "data = data_avito.reset_index(drop=True) \n",
    "print(len(data))\n",
    "assert len(data)>0"
   ]
  },
  {
   "cell_type": "markdown",
   "id": "2903ab86",
   "metadata": {},
   "source": [
    "## обновляем таблицу адресов"
   ]
  },
  {
   "cell_type": "code",
   "execution_count": 16,
   "id": "999ddbae",
   "metadata": {},
   "outputs": [],
   "source": [
    "# data_ = data.sample(15).reset_index(drop=True)\n",
    "# data_[['adr']]"
   ]
  },
  {
   "cell_type": "code",
   "execution_count": 17,
   "id": "e849be88",
   "metadata": {},
   "outputs": [],
   "source": [
    "places = { \n",
    "# поле 'place' и название города\n",
    "'bahchisaray': 'Бахчисарай,',\n",
    "      'sudak': 'Судак,',\n",
    "  'sevastopol': 'Севастополь,',\n",
    "}\n",
    "\n",
    "def norm_place(d,places=places):\n",
    "    if not d['place'] in places: return d['adr_']\n",
    "    p = places[ d['place'] ]\n",
    "    return d['adr_'] if d['adr_'].find(p)>-1 else p+d['adr_']"
   ]
  },
  {
   "cell_type": "code",
   "execution_count": 18,
   "id": "34af8560",
   "metadata": {},
   "outputs": [],
   "source": [
    "# data[['adr']].drop_duplicates().sort_values('adr')\n",
    "# .info()"
   ]
  },
  {
   "cell_type": "code",
   "execution_count": 19,
   "id": "beb335f3",
   "metadata": {},
   "outputs": [
    {
     "data": {
      "application/vnd.jupyter.widget-view+json": {
       "model_id": "dd7012968a2d42979d282b01e361b58d",
       "version_major": 2,
       "version_minor": 0
      },
      "text/plain": [
       "  0%|          | 0/17940 [00:00<?, ?it/s]"
      ]
     },
     "metadata": {},
     "output_type": "display_data"
    },
    {
     "data": {
      "application/vnd.jupyter.widget-view+json": {
       "model_id": "4e2ab14cc20a4c80acfb209f378f6c9e",
       "version_major": 2,
       "version_minor": 0
      },
      "text/plain": [
       "  0%|          | 0/17940 [00:00<?, ?it/s]"
      ]
     },
     "metadata": {},
     "output_type": "display_data"
    }
   ],
   "source": [
    "from lib.locator import AddressTransformer\n",
    "\n",
    "atr = AddressTransformer()\n",
    "data['adr_'] = data['adr'].fillna('').progress_apply(atr.transform)\n",
    "data['adr_'] = data[['adr_','place']].progress_apply(norm_place,axis=1)\n",
    "data = data.rename(columns={'adr':'adr_orig','adr_':'adr'})"
   ]
  },
  {
   "cell_type": "code",
   "execution_count": 20,
   "id": "f773346b",
   "metadata": {},
   "outputs": [
    {
     "data": {
      "text/html": [
       "<div>\n",
       "<style scoped>\n",
       "    .dataframe tbody tr th:only-of-type {\n",
       "        vertical-align: middle;\n",
       "    }\n",
       "\n",
       "    .dataframe tbody tr th {\n",
       "        vertical-align: top;\n",
       "    }\n",
       "\n",
       "    .dataframe thead th {\n",
       "        text-align: right;\n",
       "    }\n",
       "</style>\n",
       "<table border=\"1\" class=\"dataframe\">\n",
       "  <thead>\n",
       "    <tr style=\"text-align: right;\">\n",
       "      <th></th>\n",
       "      <th>adr_orig</th>\n",
       "      <th>adr</th>\n",
       "    </tr>\n",
       "  </thead>\n",
       "  <tbody>\n",
       "    <tr>\n",
       "      <th>14885</th>\n",
       "      <td>пр. Артиллеристов, 60А</td>\n",
       "      <td>Севастополь,пр. Артиллеристов, 60А</td>\n",
       "    </tr>\n",
       "    <tr>\n",
       "      <th>9457</th>\n",
       "      <td>с. Гончарное</td>\n",
       "      <td>Севастополь,с. Гончарное</td>\n",
       "    </tr>\n",
       "    <tr>\n",
       "      <th>3462</th>\n",
       "      <td>Крепостное ш., 31/1</td>\n",
       "      <td>Севастополь,Крепостное ш., 31/1</td>\n",
       "    </tr>\n",
       "    <tr>\n",
       "      <th>14568</th>\n",
       "      <td>Камышовое ш.</td>\n",
       "      <td>Севастополь,Камышовое ш.</td>\n",
       "    </tr>\n",
       "    <tr>\n",
       "      <th>17775</th>\n",
       "      <td>NaN</td>\n",
       "      <td>Севастополь,</td>\n",
       "    </tr>\n",
       "    <tr>\n",
       "      <th>1998</th>\n",
       "      <td>садоводческое товарищество Кальфа-1, 24</td>\n",
       "      <td>Севастополь,садоводческое товарищество Кальфа-1, 24</td>\n",
       "    </tr>\n",
       "    <tr>\n",
       "      <th>14496</th>\n",
       "      <td>с. Осипенко</td>\n",
       "      <td>Севастополь,с. Осипенко</td>\n",
       "    </tr>\n",
       "    <tr>\n",
       "      <th>13606</th>\n",
       "      <td>1-я Диагональная ул., 16</td>\n",
       "      <td>Севастополь,1-я Диагональная ул., 16</td>\n",
       "    </tr>\n",
       "    <tr>\n",
       "      <th>1991</th>\n",
       "      <td>с. Вишнёвое, ул. Мира, 32</td>\n",
       "      <td>Севастополь,с. Вишнёвое, ул. Мира, 32</td>\n",
       "    </tr>\n",
       "    <tr>\n",
       "      <th>2583</th>\n",
       "      <td>Румянцевская ул., 5</td>\n",
       "      <td>Севастополь,Румянцевская ул., 5</td>\n",
       "    </tr>\n",
       "  </tbody>\n",
       "</table>\n",
       "</div>"
      ],
      "text/plain": [
       "                                      adr_orig  \\\n",
       "14885                   пр. Артиллеристов, 60А   \n",
       "9457                              с. Гончарное   \n",
       "3462                       Крепостное ш., 31/1   \n",
       "14568                             Камышовое ш.   \n",
       "17775                                      NaN   \n",
       "1998   садоводческое товарищество Кальфа-1, 24   \n",
       "14496                              с. Осипенко   \n",
       "13606                 1-я Диагональная ул., 16   \n",
       "1991                 с. Вишнёвое, ул. Мира, 32   \n",
       "2583                       Румянцевская ул., 5   \n",
       "\n",
       "                                                       adr  \n",
       "14885                   Севастополь,пр. Артиллеристов, 60А  \n",
       "9457                              Севастополь,с. Гончарное  \n",
       "3462                       Севастополь,Крепостное ш., 31/1  \n",
       "14568                             Севастополь,Камышовое ш.  \n",
       "17775                                         Севастополь,  \n",
       "1998   Севастополь,садоводческое товарищество Кальфа-1, 24  \n",
       "14496                              Севастополь,с. Осипенко  \n",
       "13606                 Севастополь,1-я Диагональная ул., 16  \n",
       "1991                 Севастополь,с. Вишнёвое, ул. Мира, 32  \n",
       "2583                       Севастополь,Румянцевская ул., 5  "
      ]
     },
     "execution_count": 20,
     "metadata": {},
     "output_type": "execute_result"
    }
   ],
   "source": [
    "data[['adr_orig','adr']].sample(10)"
   ]
  },
  {
   "cell_type": "code",
   "execution_count": 21,
   "id": "86a30244",
   "metadata": {},
   "outputs": [
    {
     "name": "stdout",
     "output_type": "stream",
     "text": [
      "[INFO    ] 2023-01-27 16:57:14 | LocationUpdater: 8676 addresses in index\n",
      "[INFO    ] 2023-01-27 16:57:14 | LocationUpdater: 8676 addresses total\n",
      "[INFO    ] 2023-01-27 16:57:14 | LocationUpdater: 8676 addresses defined\n",
      "[INFO    ] 2023-01-27 16:57:14 | LocationUpdater: 0 addresses undefined\n"
     ]
    }
   ],
   "source": [
    "# from lib.locator import GeocoderSimpleOSM\n",
    "from lib.locator import GeocoderYandex\n",
    "from yandex_keys import keys\n",
    "\n",
    "atr = AddressTransformer()\n",
    "locator = GeocoderYandex(keys[0])\n",
    "# locator = GeocoderSimpleOSM()\n",
    "\n",
    "loc_file_path = 'data/location.pkl' # таблица адресов\n",
    "loc = pd.read_pickle(loc_file_path)\n",
    "# loc = pd.DataFrame([],columns=['adr','latitude','longitude',])\n",
    "logging.info(f'LocationUpdater: {len(loc)} addresses in index')\n",
    "\n",
    "# собираем все адреса в один список\n",
    "loc = loc.merge(\n",
    "        data[['adr']].drop_duplicates(),\n",
    "        how='outer',\n",
    "        on='adr',\n",
    "    ).drop_duplicates().reset_index(drop=True)\n",
    "\n",
    "logging.info(f'LocationUpdater: {len(loc)} addresses total')\n",
    "\n",
    "# собираем все адреса с геопозицией\n",
    "loc_def = loc[~loc['latitude'].isna()].reset_index(drop=True)\n",
    "logging.info(f'LocationUpdater: {len(loc_def)} addresses defined')\n",
    "\n",
    "# собираем все адреса без геопозиции\n",
    "loc_undef = loc[loc['latitude'].isna()][['adr']].reset_index(drop=True)\n",
    "logging.info(f'LocationUpdater: {len(loc_undef)} addresses undefined')\n",
    "\n",
    "if len(loc_undef)>0:\n",
    "    # определяем координаты по строке адреса\n",
    "    loc_undef = loc_undef.join( loc_undef['adr'].progress_apply(locator.transform).apply(pd.Series) ).dropna()     \n",
    "    logging.info(f'LocationUpdater: {len(loc_undef)} new addresses found')\n",
    "    loc = pd.concat([loc_def,loc_undef]).reset_index(drop=True) \n",
    "    assert len(loc)>0\n",
    "    loc.to_pickle(loc_file_path)"
   ]
  },
  {
   "cell_type": "code",
   "execution_count": 22,
   "id": "19741bb7",
   "metadata": {},
   "outputs": [
    {
     "name": "stdout",
     "output_type": "stream",
     "text": [
      "8676\n"
     ]
    },
    {
     "data": {
      "text/html": [
       "<div>\n",
       "<style scoped>\n",
       "    .dataframe tbody tr th:only-of-type {\n",
       "        vertical-align: middle;\n",
       "    }\n",
       "\n",
       "    .dataframe tbody tr th {\n",
       "        vertical-align: top;\n",
       "    }\n",
       "\n",
       "    .dataframe thead th {\n",
       "        text-align: right;\n",
       "    }\n",
       "</style>\n",
       "<table border=\"1\" class=\"dataframe\">\n",
       "  <thead>\n",
       "    <tr style=\"text-align: right;\">\n",
       "      <th></th>\n",
       "      <th>latitude</th>\n",
       "      <th>longitude</th>\n",
       "      <th>adr</th>\n",
       "    </tr>\n",
       "  </thead>\n",
       "  <tbody>\n",
       "    <tr>\n",
       "      <th>3944</th>\n",
       "      <td>44.56</td>\n",
       "      <td>33.46</td>\n",
       "      <td>Севастополь,Византийская ул., 12</td>\n",
       "    </tr>\n",
       "    <tr>\n",
       "      <th>500</th>\n",
       "      <td>44.61</td>\n",
       "      <td>33.55</td>\n",
       "      <td>Севастополь, улица Хрулёва, 28</td>\n",
       "    </tr>\n",
       "    <tr>\n",
       "      <th>2399</th>\n",
       "      <td>44.579403</td>\n",
       "      <td>33.507223</td>\n",
       "      <td>Севастополь, район Ленинский, улица Токарева, 18Б</td>\n",
       "    </tr>\n",
       "  </tbody>\n",
       "</table>\n",
       "</div>"
      ],
      "text/plain": [
       "       latitude  longitude                                                adr\n",
       "3944      44.56      33.46                   Севастополь,Византийская ул., 12\n",
       "500       44.61      33.55                     Севастополь, улица Хрулёва, 28\n",
       "2399  44.579403  33.507223  Севастополь, район Ленинский, улица Токарева, 18Б"
      ]
     },
     "execution_count": 22,
     "metadata": {},
     "output_type": "execute_result"
    }
   ],
   "source": [
    "print( len(loc) )\n",
    "loc.sample(3)"
   ]
  },
  {
   "cell_type": "markdown",
   "id": "25e27e33",
   "metadata": {},
   "source": [
    "## дополняем данные геометкой"
   ]
  },
  {
   "cell_type": "code",
   "execution_count": 23,
   "id": "77ac354e",
   "metadata": {},
   "outputs": [
    {
     "name": "stdout",
     "output_type": "stream",
     "text": [
      "всего записей: 17940\n",
      "записей без геометки: 0\n",
      "<class 'pandas.core.frame.DataFrame'>\n",
      "Int64Index: 17940 entries, 0 to 17939\n",
      "Data columns (total 17 columns):\n",
      " #   Column              Non-Null Count  Dtype         \n",
      "---  ------              --------------  -----         \n",
      " 0   title               17940 non-null  object        \n",
      " 1   price               17940 non-null  int64         \n",
      " 2   obj_name            17940 non-null  object        \n",
      " 3   adr_orig            17026 non-null  object        \n",
      " 4   description         17940 non-null  object        \n",
      " 5   avito_page          17940 non-null  int64         \n",
      " 6   ts                  17940 non-null  datetime64[ns]\n",
      " 7   place               17940 non-null  object        \n",
      " 8   area                17940 non-null  float64       \n",
      " 9   is_IJS              17940 non-null  bool          \n",
      " 10  priceM              17940 non-null  float64       \n",
      " 11  priceMU             17940 non-null  float64       \n",
      " 12  area_size_category  17930 non-null  category      \n",
      " 13  url                 17940 non-null  object        \n",
      " 14  adr                 17940 non-null  object        \n",
      " 15  latitude            17940 non-null  object        \n",
      " 16  longitude           17940 non-null  object        \n",
      "dtypes: bool(1), category(1), datetime64[ns](1), float64(3), int64(2), object(9)\n",
      "memory usage: 2.2+ MB\n"
     ]
    }
   ],
   "source": [
    "# data = data.rename(columns={'adr':'adr_orig','adr_':'adr'})\n",
    "\n",
    "data = data.merge(loc,on=['adr'],how='left')\n",
    "\n",
    "print('всего записей:', len( data) )\n",
    "print('записей без геометки:', len( data[ data['latitude'].isna() ] ) )\n",
    "\n",
    "assert len(data)>0\n",
    "data.to_pickle(result_file_path)\n",
    "\n",
    "data.info()"
   ]
  },
  {
   "cell_type": "code",
   "execution_count": 25,
   "id": "64c38175",
   "metadata": {},
   "outputs": [
    {
     "data": {
      "text/plain": [
       "ts\n",
       "2022-09-08 16:04:40.227    1077\n",
       "2022-09-12 13:51:16.745    1106\n",
       "2022-09-13 13:56:54.600    1111\n",
       "2022-09-15 10:31:26.039    1121\n",
       "2022-09-16 15:10:34.059    1100\n",
       "2022-09-19 12:39:53.571    1104\n",
       "2022-09-22 09:57:15.623    1109\n",
       "2022-09-26 11:22:23.724    1087\n",
       "2022-10-08 20:38:42.759    1109\n",
       "2022-10-14 15:54:34.254    1101\n",
       "2022-11-01 13:58:37.789    1062\n",
       "2022-11-04 17:12:55.140     975\n",
       "2022-11-07 10:46:32.363    1028\n",
       "2022-11-15 13:16:46.237    1079\n",
       "2022-11-28 14:58:16.679    1030\n",
       "2023-01-10 11:27:43.921     827\n",
       "2023-01-27 16:42:18.173     914\n",
       "dtype: int64"
      ]
     },
     "execution_count": 25,
     "metadata": {},
     "output_type": "execute_result"
    }
   ],
   "source": [
    "data[['ts']].groupby('ts').size()"
   ]
  },
  {
   "cell_type": "code",
   "execution_count": null,
   "id": "8824be0e",
   "metadata": {},
   "outputs": [],
   "source": []
  }
 ],
 "metadata": {
  "kernelspec": {
   "display_name": "Python 3 (ipykernel)",
   "language": "python",
   "name": "python3"
  },
  "language_info": {
   "codemirror_mode": {
    "name": "ipython",
    "version": 3
   },
   "file_extension": ".py",
   "mimetype": "text/x-python",
   "name": "python",
   "nbconvert_exporter": "python",
   "pygments_lexer": "ipython3",
   "version": "3.10.8"
  },
  "toc": {
   "base_numbering": 1,
   "nav_menu": {},
   "number_sections": true,
   "sideBar": true,
   "skip_h1_title": false,
   "title_cell": "Table of Contents",
   "title_sidebar": "Contents",
   "toc_cell": false,
   "toc_position": {
    "height": "calc(100% - 180px)",
    "left": "10px",
    "top": "150px",
    "width": "291.594px"
   },
   "toc_section_display": true,
   "toc_window_display": true
  },
  "varInspector": {
   "cols": {
    "lenName": 16,
    "lenType": 16,
    "lenVar": 40
   },
   "kernels_config": {
    "python": {
     "delete_cmd_postfix": "",
     "delete_cmd_prefix": "del ",
     "library": "var_list.py",
     "varRefreshCmd": "print(var_dic_list())"
    },
    "r": {
     "delete_cmd_postfix": ") ",
     "delete_cmd_prefix": "rm(",
     "library": "var_list.r",
     "varRefreshCmd": "cat(var_dic_list()) "
    }
   },
   "types_to_exclude": [
    "module",
    "function",
    "builtin_function_or_method",
    "instance",
    "_Feature"
   ],
   "window_display": false
  }
 },
 "nbformat": 4,
 "nbformat_minor": 5
}
