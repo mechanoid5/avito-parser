{
 "cells": [
  {
   "cell_type": "markdown",
   "id": "7bec28d7",
   "metadata": {},
   "source": [
    "__собираем предложения о земельных участках__\n",
    "\n",
    "_Evgeny S. Borisov <parser@mechanoid.su>_"
   ]
  },
  {
   "cell_type": "code",
   "execution_count": 1,
   "id": "52c5999f",
   "metadata": {},
   "outputs": [],
   "source": [
    "# !pacman -S firefox firefox-i18n-r  geckodriver\n",
    "# !pip install seleniuam"
   ]
  },
  {
   "cell_type": "code",
   "execution_count": 2,
   "id": "bcea4d8b",
   "metadata": {
    "ExecuteTime": {
     "end_time": "2022-08-26T14:19:06.118492Z",
     "start_time": "2022-08-26T14:13:37.888398Z"
    }
   },
   "outputs": [],
   "source": [
    "# import re\n",
    "import sys\n",
    "import logging\n",
    "from datetime import datetime as dtm\n",
    "from tqdm.notebook import tqdm\n",
    "import pandas as pd"
   ]
  },
  {
   "cell_type": "code",
   "execution_count": 3,
   "id": "caabc8c7",
   "metadata": {
    "ExecuteTime": {
     "end_time": "2022-08-26T14:19:06.118492Z",
     "start_time": "2022-08-26T14:13:37.888398Z"
    }
   },
   "outputs": [],
   "source": [
    "pd.set_option('display.max_colwidth', None)\n",
    "pd.set_option('display.float_format', '{:.2f}'.format)\n",
    "tqdm.pandas()\n",
    "\n",
    "logging.basicConfig(\n",
    "        format=u'[%(levelname)-8s] %(asctime)s | %(message)s',\n",
    "        datefmt='%Y-%m-%d %H:%M:%S',\n",
    "        level=logging.INFO,\n",
    "        # level=logging.DEBUG,\n",
    "        stream=sys.stdout,\n",
    "    )"
   ]
  },
  {
   "cell_type": "markdown",
   "id": "db3fe2be",
   "metadata": {},
   "source": [
    "---"
   ]
  },
  {
   "cell_type": "code",
   "execution_count": 4,
   "id": "d437eab9",
   "metadata": {},
   "outputs": [],
   "source": [
    "# каталог с файлами объявлений\n",
    "avito_raw_data_path = 'data/raw/land/avito' \n",
    "# cian_raw_data_path = 'data/raw/cian'\n",
    "result_file_path = 'data/data_land.pkl'"
   ]
  },
  {
   "cell_type": "code",
   "execution_count": 5,
   "id": "31463a1e",
   "metadata": {},
   "outputs": [],
   "source": [
    "# ts = dtm.now().strftime('%Y-%m-%d_%H-%M')\n",
    "# ts"
   ]
  },
  {
   "cell_type": "markdown",
   "id": "98f6384f",
   "metadata": {},
   "source": [
    "## собираем данные авито.ру"
   ]
  },
  {
   "cell_type": "code",
   "execution_count": 6,
   "id": "2673ef1f",
   "metadata": {},
   "outputs": [
    {
     "data": {
      "text/plain": [
       "['data/raw/land/avito/avito_2022-09-08_16-05_raw.xlsx',\n",
       " 'data/raw/land/avito/avito_2022-09-12_13-51_raw.xlsx',\n",
       " 'data/raw/land/avito/avito_2022-09-13_13-56_raw.xlsx',\n",
       " 'data/raw/land/avito/avito_2022-09-15_10-31_raw.xlsx',\n",
       " 'data/raw/land/avito/avito_2022-09-16_15-10_raw.xlsx',\n",
       " 'data/raw/land/avito/avito_2022-09-19_12-39_raw.xlsx',\n",
       " 'data/raw/land/avito/avito_2022-09-22_09-57_raw.xlsx']"
      ]
     },
     "execution_count": 6,
     "metadata": {},
     "output_type": "execute_result"
    }
   ],
   "source": [
    "import re\n",
    "from os import listdir\n",
    "\n",
    "raw_data_files = sorted([\n",
    "        avito_raw_data_path+'/'+f \n",
    "        for f in listdir(avito_raw_data_path) \n",
    "        if re.match(r'.+\\.xlsx$',f)\n",
    "    ])\n",
    "raw_data_files"
   ]
  },
  {
   "cell_type": "code",
   "execution_count": 7,
   "id": "adb5b19b",
   "metadata": {},
   "outputs": [],
   "source": [
    "# for f in raw_data_files:\n",
    "#     df = pd.read_excel(f)\n",
    "#     df['place']='sevastopol'\n",
    "#     df.to_excel(f,index=False)\n",
    "#     print(f)"
   ]
  },
  {
   "cell_type": "code",
   "execution_count": 8,
   "id": "347629e1",
   "metadata": {},
   "outputs": [
    {
     "name": "stdout",
     "output_type": "stream",
     "text": [
      "7728\n"
     ]
    }
   ],
   "source": [
    "data_avito = pd.concat([\n",
    "        pd\n",
    "        .read_excel(f)\n",
    "        #.dropna()\n",
    "        .drop_duplicates(['avito_id','description'])\n",
    "        .rename(columns={'page':'avito_page'})\n",
    "        .reset_index(drop=True)  \n",
    "        for f in raw_data_files\n",
    "    ]).reset_index(drop=True)\n",
    "\n",
    "print(len(data_avito))"
   ]
  },
  {
   "cell_type": "code",
   "execution_count": 9,
   "id": "2a992037",
   "metadata": {},
   "outputs": [],
   "source": [
    "# data_avito"
   ]
  },
  {
   "cell_type": "code",
   "execution_count": 10,
   "id": "cbce7aaa",
   "metadata": {},
   "outputs": [
    {
     "name": "stdout",
     "output_type": "stream",
     "text": [
      "7728\n"
     ]
    }
   ],
   "source": [
    "from lib.avito import AvitoDataCleanerRealtyLand\n",
    "\n",
    "data_avito = AvitoDataCleanerRealtyLand().transform( data_avito )\n",
    "\n",
    "print(len(data_avito))"
   ]
  },
  {
   "cell_type": "code",
   "execution_count": 11,
   "id": "becaac57",
   "metadata": {},
   "outputs": [
    {
     "data": {
      "text/html": [
       "<div>\n",
       "<style scoped>\n",
       "    .dataframe tbody tr th:only-of-type {\n",
       "        vertical-align: middle;\n",
       "    }\n",
       "\n",
       "    .dataframe tbody tr th {\n",
       "        vertical-align: top;\n",
       "    }\n",
       "\n",
       "    .dataframe thead th {\n",
       "        text-align: right;\n",
       "    }\n",
       "</style>\n",
       "<table border=\"1\" class=\"dataframe\">\n",
       "  <thead>\n",
       "    <tr style=\"text-align: right;\">\n",
       "      <th></th>\n",
       "      <th>avito_id</th>\n",
       "      <th>title</th>\n",
       "      <th>price</th>\n",
       "      <th>obj_name</th>\n",
       "      <th>adr</th>\n",
       "      <th>description</th>\n",
       "      <th>avito_page</th>\n",
       "      <th>ts</th>\n",
       "      <th>place</th>\n",
       "      <th>area</th>\n",
       "      <th>is_IJS</th>\n",
       "      <th>priceM</th>\n",
       "      <th>priceMU</th>\n",
       "      <th>area_size_category</th>\n",
       "    </tr>\n",
       "  </thead>\n",
       "  <tbody>\n",
       "    <tr>\n",
       "      <th>5814</th>\n",
       "      <td>2264660271</td>\n",
       "      <td>Участок 5 сот. (ИЖС)</td>\n",
       "      <td>2495000</td>\n",
       "      <td></td>\n",
       "      <td>Нахимовский муниципальный округ</td>\n",
       "      <td>Хороший видовой участок, ижс, звоните все расскажу) по факту 8 соток,</td>\n",
       "      <td>6</td>\n",
       "      <td>2022-09-19 12:39:53.571</td>\n",
       "      <td>sevastopol</td>\n",
       "      <td>5.00</td>\n",
       "      <td>True</td>\n",
       "      <td>2.50</td>\n",
       "      <td>0.50</td>\n",
       "      <td>4-8</td>\n",
       "    </tr>\n",
       "    <tr>\n",
       "      <th>1196</th>\n",
       "      <td>2536936493</td>\n",
       "      <td>Участок 5 сот. (ИЖС)</td>\n",
       "      <td>2500000</td>\n",
       "      <td></td>\n",
       "      <td>ул. Александра Земкова</td>\n",
       "      <td>Продаю участок 5 соток в Севастополе в Балаклавском районе по улице Александра Земкова. \\n\\nКатегория: земли населенных пунктов, для строительства и обслуживания жилого дома, хозяйственных построек и сооружений. \\n\\nГаз — непосредственно на границе участка, во</td>\n",
       "      <td>3</td>\n",
       "      <td>2022-09-12 13:51:16.745</td>\n",
       "      <td>sevastopol</td>\n",
       "      <td>5.00</td>\n",
       "      <td>True</td>\n",
       "      <td>2.50</td>\n",
       "      <td>0.50</td>\n",
       "      <td>4-8</td>\n",
       "    </tr>\n",
       "    <tr>\n",
       "      <th>3681</th>\n",
       "      <td>890631863</td>\n",
       "      <td>Участок 6,6 сот. (ИЖС)</td>\n",
       "      <td>10000000</td>\n",
       "      <td></td>\n",
       "      <td>садовое товарищество Рыбак-2Б</td>\n",
       "      <td>Продается участок Ижс в Севастополе на проспекте Столетовском, район \"Летчики\" — Тсн \"Жстиз \"Столетовский\" (бывший Рыбак-2). Точный адрес — ул. Январская, 34. \\nКадастровый номер: 91:02:001007:943.\\nВ собственности. Документы Российские. \\nУчасток огорожен, в</td>\n",
       "      <td>8</td>\n",
       "      <td>2022-09-15 10:31:26.039</td>\n",
       "      <td>sevastopol</td>\n",
       "      <td>6.60</td>\n",
       "      <td>True</td>\n",
       "      <td>10.00</td>\n",
       "      <td>1.52</td>\n",
       "      <td>4-8</td>\n",
       "    </tr>\n",
       "  </tbody>\n",
       "</table>\n",
       "</div>"
      ],
      "text/plain": [
       "        avito_id                   title     price obj_name  \\\n",
       "5814  2264660271    Участок 5 сот. (ИЖС)   2495000            \n",
       "1196  2536936493    Участок 5 сот. (ИЖС)   2500000            \n",
       "3681   890631863  Участок 6,6 сот. (ИЖС)  10000000            \n",
       "\n",
       "                                  adr  \\\n",
       "5814  Нахимовский муниципальный округ   \n",
       "1196           ул. Александра Земкова   \n",
       "3681    садовое товарищество Рыбак-2Б   \n",
       "\n",
       "                                                                                                                                                                                                                                                               description  \\\n",
       "5814                                                                                                                                                                                                 Хороший видовой участок, ижс, звоните все расскажу) по факту 8 соток,   \n",
       "1196  Продаю участок 5 соток в Севастополе в Балаклавском районе по улице Александра Земкова. \\n\\nКатегория: земли населенных пунктов, для строительства и обслуживания жилого дома, хозяйственных построек и сооружений. \\n\\nГаз — непосредственно на границе участка, во   \n",
       "3681   Продается участок Ижс в Севастополе на проспекте Столетовском, район \"Летчики\" — Тсн \"Жстиз \"Столетовский\" (бывший Рыбак-2). Точный адрес — ул. Январская, 34. \\nКадастровый номер: 91:02:001007:943.\\nВ собственности. Документы Российские. \\nУчасток огорожен, в   \n",
       "\n",
       "      avito_page                      ts       place  area  is_IJS  priceM  \\\n",
       "5814           6 2022-09-19 12:39:53.571  sevastopol  5.00    True    2.50   \n",
       "1196           3 2022-09-12 13:51:16.745  sevastopol  5.00    True    2.50   \n",
       "3681           8 2022-09-15 10:31:26.039  sevastopol  6.60    True   10.00   \n",
       "\n",
       "      priceMU area_size_category  \n",
       "5814     0.50                4-8  \n",
       "1196     0.50                4-8  \n",
       "3681     1.52                4-8  "
      ]
     },
     "execution_count": 11,
     "metadata": {},
     "output_type": "execute_result"
    }
   ],
   "source": [
    "data_avito.sample(3)"
   ]
  },
  {
   "cell_type": "code",
   "execution_count": 12,
   "id": "ce2869e1",
   "metadata": {},
   "outputs": [],
   "source": [
    "assert len(data_avito)>0"
   ]
  },
  {
   "cell_type": "code",
   "execution_count": 13,
   "id": "12170700",
   "metadata": {},
   "outputs": [
    {
     "name": "stdout",
     "output_type": "stream",
     "text": [
      "<class 'pandas.core.frame.DataFrame'>\n",
      "RangeIndex: 7728 entries, 0 to 7727\n",
      "Data columns (total 14 columns):\n",
      " #   Column              Non-Null Count  Dtype         \n",
      "---  ------              --------------  -----         \n",
      " 0   avito_id            7728 non-null   int64         \n",
      " 1   title               7728 non-null   object        \n",
      " 2   price               7728 non-null   int64         \n",
      " 3   obj_name            7728 non-null   object        \n",
      " 4   adr                 7728 non-null   object        \n",
      " 5   description         7728 non-null   object        \n",
      " 6   avito_page          7728 non-null   int64         \n",
      " 7   ts                  7728 non-null   datetime64[ns]\n",
      " 8   place               7728 non-null   object        \n",
      " 9   area                7728 non-null   float64       \n",
      " 10  is_IJS              7728 non-null   bool          \n",
      " 11  priceM              7728 non-null   float64       \n",
      " 12  priceMU             7728 non-null   float64       \n",
      " 13  area_size_category  7728 non-null   category      \n",
      "dtypes: bool(1), category(1), datetime64[ns](1), float64(3), int64(3), object(5)\n",
      "memory usage: 739.9+ KB\n"
     ]
    }
   ],
   "source": [
    "data_avito.info()"
   ]
  },
  {
   "cell_type": "markdown",
   "id": "f3ca7967",
   "metadata": {},
   "source": [
    "---"
   ]
  },
  {
   "cell_type": "code",
   "execution_count": 14,
   "id": "dac90e1f",
   "metadata": {},
   "outputs": [],
   "source": [
    "data_avito['url'] = 'https://avito.ru/' + data_avito['avito_id'].astype(int).astype(str)\n",
    "data_avito = data_avito.drop(columns=['avito_id'])\n",
    "# data_cian = data_cian.rename(columns={'cian_url':'url'})"
   ]
  },
  {
   "cell_type": "code",
   "execution_count": 15,
   "id": "2db629e4",
   "metadata": {},
   "outputs": [
    {
     "name": "stdout",
     "output_type": "stream",
     "text": [
      "7728\n"
     ]
    }
   ],
   "source": [
    "data = data_avito.reset_index(drop=True) \n",
    "print(len(data))\n",
    "assert len(data)>0"
   ]
  },
  {
   "cell_type": "markdown",
   "id": "2903ab86",
   "metadata": {},
   "source": [
    "## обновляем таблицу адресов"
   ]
  },
  {
   "cell_type": "code",
   "execution_count": 16,
   "id": "999ddbae",
   "metadata": {},
   "outputs": [],
   "source": [
    "# data_ = data.sample(15).reset_index(drop=True)\n",
    "# data_[['adr']]"
   ]
  },
  {
   "cell_type": "code",
   "execution_count": 17,
   "id": "e849be88",
   "metadata": {},
   "outputs": [],
   "source": [
    "places = { \n",
    "# поле 'place' и название города\n",
    "'bahchisaray': 'Бахчисарай,',\n",
    "      'sudak': 'Судак,',\n",
    "  'sevastopol': 'Севастополь,',\n",
    "}\n",
    "\n",
    "def norm_place(d,places=places):\n",
    "    if not d['place'] in places: return d['adr_']\n",
    "    p = places[ d['place'] ]\n",
    "    return d['adr_'] if d['adr_'].find(p)>-1 else p+d['adr_']"
   ]
  },
  {
   "cell_type": "code",
   "execution_count": 18,
   "id": "beb335f3",
   "metadata": {},
   "outputs": [
    {
     "data": {
      "application/vnd.jupyter.widget-view+json": {
       "model_id": "2e669637ec874dfa8c90f9600fef2949",
       "version_major": 2,
       "version_minor": 0
      },
      "text/plain": [
       "  0%|          | 0/7728 [00:00<?, ?it/s]"
      ]
     },
     "metadata": {},
     "output_type": "display_data"
    },
    {
     "data": {
      "application/vnd.jupyter.widget-view+json": {
       "model_id": "1f0e03dac8484e6e86f64605238808ff",
       "version_major": 2,
       "version_minor": 0
      },
      "text/plain": [
       "  0%|          | 0/7728 [00:00<?, ?it/s]"
      ]
     },
     "metadata": {},
     "output_type": "display_data"
    }
   ],
   "source": [
    "from lib.locator import AddressTransformer\n",
    "\n",
    "atr = AddressTransformer()\n",
    "data['adr_'] = data['adr'].progress_apply(atr.transform)\n",
    "data['adr_'] = data[['adr_','place']].progress_apply(norm_place,axis=1)\n",
    "data = data.rename(columns={'adr':'adr_orig','adr_':'adr'})"
   ]
  },
  {
   "cell_type": "code",
   "execution_count": 19,
   "id": "f773346b",
   "metadata": {},
   "outputs": [
    {
     "data": {
      "text/html": [
       "<div>\n",
       "<style scoped>\n",
       "    .dataframe tbody tr th:only-of-type {\n",
       "        vertical-align: middle;\n",
       "    }\n",
       "\n",
       "    .dataframe tbody tr th {\n",
       "        vertical-align: top;\n",
       "    }\n",
       "\n",
       "    .dataframe thead th {\n",
       "        text-align: right;\n",
       "    }\n",
       "</style>\n",
       "<table border=\"1\" class=\"dataframe\">\n",
       "  <thead>\n",
       "    <tr style=\"text-align: right;\">\n",
       "      <th></th>\n",
       "      <th>adr_orig</th>\n",
       "      <th>adr</th>\n",
       "    </tr>\n",
       "  </thead>\n",
       "  <tbody>\n",
       "    <tr>\n",
       "      <th>7263</th>\n",
       "      <td>ул. Абазы, 30</td>\n",
       "      <td>Севастополь,ул. Абазы, 30</td>\n",
       "    </tr>\n",
       "    <tr>\n",
       "      <th>7292</th>\n",
       "      <td>Редутная ул.</td>\n",
       "      <td>Севастополь,Редутная ул.</td>\n",
       "    </tr>\n",
       "    <tr>\n",
       "      <th>7606</th>\n",
       "      <td>район Северная Сторона</td>\n",
       "      <td>Севастополь,район Северная Сторона</td>\n",
       "    </tr>\n",
       "    <tr>\n",
       "      <th>380</th>\n",
       "      <td>садовое товарищество Ригель</td>\n",
       "      <td>Севастополь,садовое товарищество Ригель</td>\n",
       "    </tr>\n",
       "    <tr>\n",
       "      <th>6654</th>\n",
       "      <td>ул. Горпищенко, 151А</td>\n",
       "      <td>Севастополь,ул. Горпищенко, 151А</td>\n",
       "    </tr>\n",
       "    <tr>\n",
       "      <th>4759</th>\n",
       "      <td>садоводческое товарищество Берег, 248</td>\n",
       "      <td>Севастополь,садоводческое товарищество Берег, 248</td>\n",
       "    </tr>\n",
       "    <tr>\n",
       "      <th>1273</th>\n",
       "      <td>садоводческое товарищество Парус-5, 24</td>\n",
       "      <td>Севастополь,садоводческое товарищество Парус-5, 24</td>\n",
       "    </tr>\n",
       "    <tr>\n",
       "      <th>4113</th>\n",
       "      <td>с. Песчаное, Речная ул.</td>\n",
       "      <td>Севастополь,с. Песчаное, Речная ул.</td>\n",
       "    </tr>\n",
       "    <tr>\n",
       "      <th>6807</th>\n",
       "      <td>с. Береговое, Магистральная ул.</td>\n",
       "      <td>Севастополь,с. Береговое, Магистральная ул.</td>\n",
       "    </tr>\n",
       "    <tr>\n",
       "      <th>4694</th>\n",
       "      <td>с. Штурмовое, Шулинская ул., 25</td>\n",
       "      <td>Севастополь,с. Штурмовое, Шулинская ул., 25</td>\n",
       "    </tr>\n",
       "  </tbody>\n",
       "</table>\n",
       "</div>"
      ],
      "text/plain": [
       "                                    adr_orig  \\\n",
       "7263                           ул. Абазы, 30   \n",
       "7292                            Редутная ул.   \n",
       "7606                  район Северная Сторона   \n",
       "380              садовое товарищество Ригель   \n",
       "6654                    ул. Горпищенко, 151А   \n",
       "4759   садоводческое товарищество Берег, 248   \n",
       "1273  садоводческое товарищество Парус-5, 24   \n",
       "4113                 с. Песчаное, Речная ул.   \n",
       "6807         с. Береговое, Магистральная ул.   \n",
       "4694         с. Штурмовое, Шулинская ул., 25   \n",
       "\n",
       "                                                     adr  \n",
       "7263                           Севастополь,ул. Абазы, 30  \n",
       "7292                            Севастополь,Редутная ул.  \n",
       "7606                  Севастополь,район Северная Сторона  \n",
       "380              Севастополь,садовое товарищество Ригель  \n",
       "6654                    Севастополь,ул. Горпищенко, 151А  \n",
       "4759   Севастополь,садоводческое товарищество Берег, 248  \n",
       "1273  Севастополь,садоводческое товарищество Парус-5, 24  \n",
       "4113                 Севастополь,с. Песчаное, Речная ул.  \n",
       "6807         Севастополь,с. Береговое, Магистральная ул.  \n",
       "4694         Севастополь,с. Штурмовое, Шулинская ул., 25  "
      ]
     },
     "execution_count": 19,
     "metadata": {},
     "output_type": "execute_result"
    }
   ],
   "source": [
    "data[['adr_orig','adr']].sample(10)"
   ]
  },
  {
   "cell_type": "code",
   "execution_count": 20,
   "id": "86a30244",
   "metadata": {},
   "outputs": [
    {
     "name": "stdout",
     "output_type": "stream",
     "text": [
      "[INFO    ] 2022-09-22 11:53:59 | LocationUpdater: 6042 addresses in index\n",
      "[INFO    ] 2022-09-22 11:53:59 | LocationUpdater: 6042 addresses total\n",
      "[INFO    ] 2022-09-22 11:54:00 | LocationUpdater: 6042 addresses defined\n",
      "[INFO    ] 2022-09-22 11:54:00 | LocationUpdater: 0 addresses undefined\n"
     ]
    }
   ],
   "source": [
    "# from lib.locator import GeocoderSimpleOSM\n",
    "from lib.locator import GeocoderYandex\n",
    "from yandex_keys import keys\n",
    "\n",
    "atr = AddressTransformer()\n",
    "locator = GeocoderYandex(keys[0])\n",
    "# locator = GeocoderSimpleOSM()\n",
    "\n",
    "loc_file_path = 'data/location.pkl' # таблица адресов\n",
    "loc = pd.read_pickle(loc_file_path)\n",
    "# loc = pd.DataFrame([],columns=['adr','latitude','longitude',])\n",
    "logging.info(f'LocationUpdater: {len(loc)} addresses in index')\n",
    "\n",
    "# собираем все адреса в один список\n",
    "loc = loc.merge(\n",
    "        data[['adr']].drop_duplicates(),\n",
    "        how='outer',\n",
    "        on='adr',\n",
    "    ).drop_duplicates().reset_index(drop=True)\n",
    "\n",
    "logging.info(f'LocationUpdater: {len(loc)} addresses total')\n",
    "\n",
    "# собираем все адреса с геопозицией\n",
    "loc_def = loc[~loc['latitude'].isna()].reset_index(drop=True)\n",
    "logging.info(f'LocationUpdater: {len(loc_def)} addresses defined')\n",
    "\n",
    "# собираем все адреса без геопозиции\n",
    "loc_undef = loc[loc['latitude'].isna()][['adr']].reset_index(drop=True)\n",
    "logging.info(f'LocationUpdater: {len(loc_undef)} addresses undefined')\n",
    "\n",
    "if len(loc_undef)>0:\n",
    "    # определяем координаты по строке адреса\n",
    "    loc_undef = loc_undef.join( loc_undef['adr'].progress_apply(locator.transform).apply(pd.Series) ).dropna()     \n",
    "    logging.info(f'LocationUpdater: {len(loc_undef)} new addresses found')\n",
    "    loc = pd.concat([loc_def,loc_undef]).reset_index(drop=True) \n",
    "    assert len(loc)>0\n",
    "    loc.to_pickle(loc_file_path)"
   ]
  },
  {
   "cell_type": "code",
   "execution_count": 21,
   "id": "19741bb7",
   "metadata": {},
   "outputs": [
    {
     "name": "stdout",
     "output_type": "stream",
     "text": [
      "6042\n"
     ]
    },
    {
     "data": {
      "text/html": [
       "<div>\n",
       "<style scoped>\n",
       "    .dataframe tbody tr th:only-of-type {\n",
       "        vertical-align: middle;\n",
       "    }\n",
       "\n",
       "    .dataframe tbody tr th {\n",
       "        vertical-align: top;\n",
       "    }\n",
       "\n",
       "    .dataframe thead th {\n",
       "        text-align: right;\n",
       "    }\n",
       "</style>\n",
       "<table border=\"1\" class=\"dataframe\">\n",
       "  <thead>\n",
       "    <tr style=\"text-align: right;\">\n",
       "      <th></th>\n",
       "      <th>latitude</th>\n",
       "      <th>longitude</th>\n",
       "      <th>adr</th>\n",
       "    </tr>\n",
       "  </thead>\n",
       "  <tbody>\n",
       "    <tr>\n",
       "      <th>3657</th>\n",
       "      <td>44.577882</td>\n",
       "      <td>33.534262</td>\n",
       "      <td>Севастополь,ул. Лётчика Мусатова, 34</td>\n",
       "    </tr>\n",
       "    <tr>\n",
       "      <th>5193</th>\n",
       "      <td>44.52028</td>\n",
       "      <td>33.508005</td>\n",
       "      <td>Севастополь,садоводческое товарищество Надежда-1, Ковыльный пер.</td>\n",
       "    </tr>\n",
       "    <tr>\n",
       "      <th>4841</th>\n",
       "      <td>44.738953</td>\n",
       "      <td>33.552615</td>\n",
       "      <td>Севастополь,СОТ Южный, 265</td>\n",
       "    </tr>\n",
       "  </tbody>\n",
       "</table>\n",
       "</div>"
      ],
      "text/plain": [
       "       latitude  longitude  \\\n",
       "3657  44.577882  33.534262   \n",
       "5193   44.52028  33.508005   \n",
       "4841  44.738953  33.552615   \n",
       "\n",
       "                                                                   adr  \n",
       "3657                              Севастополь,ул. Лётчика Мусатова, 34  \n",
       "5193  Севастополь,садоводческое товарищество Надежда-1, Ковыльный пер.  \n",
       "4841                                        Севастополь,СОТ Южный, 265  "
      ]
     },
     "execution_count": 21,
     "metadata": {},
     "output_type": "execute_result"
    }
   ],
   "source": [
    "print( len(loc) )\n",
    "loc.sample(3)"
   ]
  },
  {
   "cell_type": "markdown",
   "id": "25e27e33",
   "metadata": {},
   "source": [
    "## дополняем данные геометкой"
   ]
  },
  {
   "cell_type": "code",
   "execution_count": 22,
   "id": "77ac354e",
   "metadata": {},
   "outputs": [
    {
     "name": "stdout",
     "output_type": "stream",
     "text": [
      "всего записей: 7728\n",
      "записей без геометки: 0\n",
      "<class 'pandas.core.frame.DataFrame'>\n",
      "Int64Index: 7728 entries, 0 to 7727\n",
      "Data columns (total 17 columns):\n",
      " #   Column              Non-Null Count  Dtype         \n",
      "---  ------              --------------  -----         \n",
      " 0   title               7728 non-null   object        \n",
      " 1   price               7728 non-null   int64         \n",
      " 2   obj_name            7728 non-null   object        \n",
      " 3   adr_orig            7728 non-null   object        \n",
      " 4   description         7728 non-null   object        \n",
      " 5   avito_page          7728 non-null   int64         \n",
      " 6   ts                  7728 non-null   datetime64[ns]\n",
      " 7   place               7728 non-null   object        \n",
      " 8   area                7728 non-null   float64       \n",
      " 9   is_IJS              7728 non-null   bool          \n",
      " 10  priceM              7728 non-null   float64       \n",
      " 11  priceMU             7728 non-null   float64       \n",
      " 12  area_size_category  7728 non-null   category      \n",
      " 13  url                 7728 non-null   object        \n",
      " 14  adr                 7728 non-null   object        \n",
      " 15  latitude            7728 non-null   object        \n",
      " 16  longitude           7728 non-null   object        \n",
      "dtypes: bool(1), category(1), datetime64[ns](1), float64(3), int64(2), object(9)\n",
      "memory usage: 981.3+ KB\n"
     ]
    }
   ],
   "source": [
    "# data = data.rename(columns={'adr':'adr_orig','adr_':'adr'})\n",
    "\n",
    "data = data.merge(loc,on=['adr'],how='left')\n",
    "\n",
    "print('всего записей:', len( data) )\n",
    "print('записей без геометки:', len( data[ data['latitude'].isna() ] ) )\n",
    "\n",
    "assert len(data)>0\n",
    "data.to_pickle(result_file_path)\n",
    "\n",
    "data.info()"
   ]
  },
  {
   "cell_type": "code",
   "execution_count": null,
   "id": "64c38175",
   "metadata": {},
   "outputs": [],
   "source": []
  }
 ],
 "metadata": {
  "kernelspec": {
   "display_name": "Python 3 (ipykernel)",
   "language": "python",
   "name": "python3"
  },
  "language_info": {
   "codemirror_mode": {
    "name": "ipython",
    "version": 3
   },
   "file_extension": ".py",
   "mimetype": "text/x-python",
   "name": "python",
   "nbconvert_exporter": "python",
   "pygments_lexer": "ipython3",
   "version": "3.10.6"
  },
  "toc": {
   "base_numbering": 1,
   "nav_menu": {},
   "number_sections": true,
   "sideBar": true,
   "skip_h1_title": false,
   "title_cell": "Table of Contents",
   "title_sidebar": "Contents",
   "toc_cell": false,
   "toc_position": {},
   "toc_section_display": true,
   "toc_window_display": true
  },
  "varInspector": {
   "cols": {
    "lenName": 16,
    "lenType": 16,
    "lenVar": 40
   },
   "kernels_config": {
    "python": {
     "delete_cmd_postfix": "",
     "delete_cmd_prefix": "del ",
     "library": "var_list.py",
     "varRefreshCmd": "print(var_dic_list())"
    },
    "r": {
     "delete_cmd_postfix": ") ",
     "delete_cmd_prefix": "rm(",
     "library": "var_list.r",
     "varRefreshCmd": "cat(var_dic_list()) "
    }
   },
   "types_to_exclude": [
    "module",
    "function",
    "builtin_function_or_method",
    "instance",
    "_Feature"
   ],
   "window_display": false
  }
 },
 "nbformat": 4,
 "nbformat_minor": 5
}
