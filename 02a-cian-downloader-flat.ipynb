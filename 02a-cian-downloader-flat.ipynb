{
 "cells": [
  {
   "cell_type": "markdown",
   "id": "edb73f62",
   "metadata": {},
   "source": [
    "__качаем объявления о продаже квартир с циан.ru__\n",
    "\n",
    "_Evgeny S. Borisov <parser@mechanoid.su>_"
   ]
  },
  {
   "cell_type": "code",
   "execution_count": 1,
   "id": "8e37d325",
   "metadata": {},
   "outputs": [],
   "source": [
    "import sys\n",
    "import re\n",
    "import logging\n",
    "from datetime import datetime as dtm\n",
    "from tqdm.notebook import tqdm\n",
    "import pandas as pd\n",
    "from bs4 import BeautifulSoup\n",
    "from time import sleep\n",
    "from random import random"
   ]
  },
  {
   "cell_type": "code",
   "execution_count": 2,
   "id": "202ec0cb",
   "metadata": {},
   "outputs": [],
   "source": [
    "pd.set_option('display.max_colwidth', None)\n",
    "pd.set_option('display.float_format', '{:.2f}'.format)\n",
    "tqdm.pandas()\n",
    "\n",
    "logging.basicConfig(\n",
    "        format=u'[%(levelname)-8s] %(asctime)s | %(message)s',\n",
    "        datefmt='%Y-%m-%d %H:%M:%S',\n",
    "        level=logging.INFO,\n",
    "        # level=logging.DEBUG,\n",
    "        stream=sys.stdout,\n",
    "    )"
   ]
  },
  {
   "cell_type": "code",
   "execution_count": 3,
   "id": "3411b55d",
   "metadata": {},
   "outputs": [],
   "source": [
    "raw_data_path = 'data/raw/flat/cian' # каталог с файлами объявлений"
   ]
  },
  {
   "cell_type": "code",
   "execution_count": 4,
   "id": "b036cb34",
   "metadata": {},
   "outputs": [],
   "source": [
    "profile_path = '/home/mechanoid/.mozilla/firefox/p144xo2m.default-release'\n",
    "# base_url, req_param = 'https://sevastopol.cian.ru/kupit-kvartiru/', ''\n",
    "place = 'sevastopol'\n",
    "base_url, req_param ='https://www.cian.ru/cat.php', 'deal_type=sale&offer_type=flat&region=184723'"
   ]
  },
  {
   "cell_type": "code",
   "execution_count": 5,
   "id": "3e42986b",
   "metadata": {},
   "outputs": [
    {
     "name": "stdout",
     "output_type": "stream",
     "text": [
      "[INFO    ] 2023-01-10 11:21:26 | DownloaderSeleniumFirefox: downloader init\n",
      "[INFO    ] 2023-01-10 11:21:26 | DownloaderSeleniumFirefox: open virtual browser\n",
      "[INFO    ] 2023-01-10 11:21:29 | AdsListParser: downloader init\n",
      "[INFO    ] 2023-01-10 11:21:29 | CianParser: downloader init\n",
      "[INFO    ] 2023-01-10 11:21:29 | AdsListParser: start read and parse pages...\n",
      "[INFO    ] 2023-01-10 11:21:39 | AdsListParser: read page 1\n",
      "[INFO    ] 2023-01-10 11:21:50 | AdsListParser: read page 2\n",
      "[INFO    ] 2023-01-10 11:22:03 | AdsListParser: read page 3\n",
      "[INFO    ] 2023-01-10 11:22:18 | AdsListParser: read page 4\n",
      "[INFO    ] 2023-01-10 11:22:30 | AdsListParser: read page 5\n",
      "[INFO    ] 2023-01-10 11:22:40 | AdsListParser: read page 6\n",
      "[INFO    ] 2023-01-10 11:22:47 | AdsListParser: read page 7\n",
      "[INFO    ] 2023-01-10 11:22:55 | AdsListParser: read page 8\n",
      "[INFO    ] 2023-01-10 11:23:06 | AdsListParser: read page 9\n",
      "[INFO    ] 2023-01-10 11:23:18 | AdsListParser: read page 10\n",
      "[INFO    ] 2023-01-10 11:23:31 | AdsListParser: read page 11\n",
      "[INFO    ] 2023-01-10 11:23:40 | AdsListParser: read page 12\n",
      "[INFO    ] 2023-01-10 11:23:55 | AdsListParser: read page 13\n",
      "[INFO    ] 2023-01-10 11:24:01 | AdsListParser: read page 14\n",
      "[INFO    ] 2023-01-10 11:24:12 | AdsListParser: read page 15\n",
      "[INFO    ] 2023-01-10 11:24:24 | AdsListParser: read page 16\n",
      "[INFO    ] 2023-01-10 11:24:44 | AdsListParser: read page 17\n",
      "[INFO    ] 2023-01-10 11:24:56 | AdsListParser: read page 18\n",
      "[INFO    ] 2023-01-10 11:25:07 | AdsListParser: read page 19\n",
      "[INFO    ] 2023-01-10 11:25:11 | AdsListParser: read page 20\n",
      "[WARNING ] 2023-01-10 11:25:11 | CianParser: parse pagination error: 'NoneType' object has no attribute 'find_all'\n",
      "[INFO    ] 2023-01-10 11:25:11 | AdsListParser: last page detected\n",
      "[INFO    ] 2023-01-10 11:25:11 | DownloaderSeleniumFirefox: close virtual browser\n",
      "532\n",
      "CPU times: user 5.09 s, sys: 206 ms, total: 5.29 s\n",
      "Wall time: 3min 44s\n"
     ]
    }
   ],
   "source": [
    "%%time\n",
    "\n",
    "# from lib.downloader import DownloaderSimple\n",
    "# from lib.parser import AdsListParser\n",
    "from lib.downloader import DownloaderSeleniumFirefox\n",
    "from lib.cian import CianParser\n",
    "\n",
    "\n",
    "df,html = CianParser(\n",
    "        base_url = base_url,\n",
    "        driver=DownloaderSeleniumFirefox(profile_path),\n",
    "        # driver=DownloaderSimple(),\n",
    "    ).load(req_param=req_param, keep_html=True) # , npage_start=53) # , page_limit=3 ) #\n",
    "\n",
    "print(len(df))"
   ]
  },
  {
   "cell_type": "code",
   "execution_count": 6,
   "id": "042e3e74",
   "metadata": {},
   "outputs": [
    {
     "data": {
      "text/html": [
       "<div>\n",
       "<style scoped>\n",
       "    .dataframe tbody tr th:only-of-type {\n",
       "        vertical-align: middle;\n",
       "    }\n",
       "\n",
       "    .dataframe tbody tr th {\n",
       "        vertical-align: top;\n",
       "    }\n",
       "\n",
       "    .dataframe thead th {\n",
       "        text-align: right;\n",
       "    }\n",
       "</style>\n",
       "<table border=\"1\" class=\"dataframe\">\n",
       "  <thead>\n",
       "    <tr style=\"text-align: right;\">\n",
       "      <th></th>\n",
       "      <th>OfferTitle</th>\n",
       "      <th>OfferSubtitle</th>\n",
       "      <th>Deadline</th>\n",
       "      <th>MainPrice</th>\n",
       "      <th>PriceInfo</th>\n",
       "      <th>GeoLabel</th>\n",
       "      <th>TimeLabel</th>\n",
       "      <th>LinkArea</th>\n",
       "      <th>Description</th>\n",
       "      <th>page</th>\n",
       "      <th>ts</th>\n",
       "    </tr>\n",
       "  </thead>\n",
       "  <tbody>\n",
       "    <tr>\n",
       "      <th>437</th>\n",
       "      <td>3-комн. кв., 51 м², 2/2 этаж</td>\n",
       "      <td></td>\n",
       "      <td></td>\n",
       "      <td>5 000 000 ₽</td>\n",
       "      <td>98 039 ₽/м²</td>\n",
       "      <td>[Севастополь, р-н Балаклавский, с. Орлиное, улица Ивана Пахомова, 2]</td>\n",
       "      <td>[2 недели назад, 21 дек, 17:40]</td>\n",
       "      <td>https://sevastopol.cian.ru/sale/flat/271437043/</td>\n",
       "      <td>ВНИМАНИЕ! ВНИМАНИЕ! Срочная продажа 3-х комнатной квартиры!\\n В одном из самых чудесных мест Крыма в Байдарской долине в селе Орлиное (Крымская Швейцария) продается отличная квартира! Тишина и свежий горный воздух будут спутниками по жизни в заповедном месте. В селе находятся школа, садик, больница, МФЦ, банк РНКБ, администрация, магазины и продуктовые и хозяйственные, аптека, почта. До Севастополя, как и до Ялты 30 мин на транспорте. Городские автобусы ходят каждые полчаса. До Байдарских ворот (знаменитый выход на ЮБК) 10 минут на автомобиле. Ближайший пляж на Ласпи в 10 минутах , в Форосе в 15 минутах, в Балаклаве в 20 минутах езды на транспорте. До Балаклавского пляжа можно добраться городским автобусом.\\n В квартире две спальни, гостиная и кухня. Во дворе есть техническое помещение, где можно хранить велосипеды, коляски и другие нужные вещи. Водоснабжение, канализация, отопление - центральные. Поэтому в квартире всегда тепло и сухо. Дом из инкерманского камня отлично спасает летом от жары. В квартире новые пластиковые окна и надежная дверь. Сделан ремонт - заезжай и живи!\\nСогласитесь это нормально?\\nРассматривается только наличный расчет.\\nВозможна рассрочка платежа!!!\\nЗвоните! Все расскажем и покажем!\\n\\nЛот 225015</td>\n",
       "      <td>16</td>\n",
       "      <td>2023-01-10 11:25:11.144238</td>\n",
       "    </tr>\n",
       "    <tr>\n",
       "      <th>517</th>\n",
       "      <td>1-комн. кв., 65,02 м², 5/10 этаж</td>\n",
       "      <td>Секция 1 • Сдача корпуса 3 кв. 2022</td>\n",
       "      <td>сдача ГК: 4 кв. 2023 года</td>\n",
       "      <td>8 842 720 ₽</td>\n",
       "      <td>136 000 ₽/м²</td>\n",
       "      <td>[Севастополь, р-н Ленинский, улица Генерала Крейзера, 8]</td>\n",
       "      <td>[6 часов назад, сегодня, 04:59]</td>\n",
       "      <td>https://sevastopol.cian.ru/sale/flat/281147110/</td>\n",
       "      <td></td>\n",
       "      <td>19</td>\n",
       "      <td>2023-01-10 11:25:11.144238</td>\n",
       "    </tr>\n",
       "    <tr>\n",
       "      <th>344</th>\n",
       "      <td>1-комн. кв., 40,91 м², 1/9 этаж</td>\n",
       "      <td>Сдача корпуса 3 кв. 2025</td>\n",
       "      <td>сдача ГК: 3 кв. 2025 года</td>\n",
       "      <td>5 645 580 ₽</td>\n",
       "      <td>138 000 ₽/м²</td>\n",
       "      <td>[Севастополь, р-н Гагаринский, улица Братьев Манганари, 30к2]</td>\n",
       "      <td>[2 часа назад, сегодня, 09:25]</td>\n",
       "      <td>https://sevastopol.cian.ru/sale/flat/277315895/</td>\n",
       "      <td>КВАРТИРЫ НАПРЯМУЮ ОТ ЗАСТРОЙЩИКА! \\n\\nУЛУЧШЕННЫЙ ПРОЕКТ ЖК \"PORTO FRANCO\"\\n\\nСрок сдачи 3 квартал 2025 \\n\\n3-комнатная квартира в новом жилом комплексе у МОРЯ - на Западном берегу Камышовой бухты г. Севастополя! \\n\\nОбщая площадь 73 м², все комнаты раздельные - 17,5 ; 16,5 и 10 м2, просторная кухня 10м2, ванная с окном, застекленная лоджия 4,5 м2. \\n\\nВ КВАРТИРЕ: \\n\\n- качественная стяжка пола \\n- двухконтурный газовый котел \\n- все счетчики \\n- радиаторы в комнатах и на кухне \\n- стеклопакеты \\n- качественная металлическая дверь \\n- розетки, выключатели \\n\\nЖИЛОЙ КОМПЛЕКС НАХОДИТСЯ В 300 МЕТРАХ У МОРЯ: \\n\\n- Вид прекрасный - 150 градусов видно море! \\n- Возможность каждый день гулять у моря и даже купаться - шаговая доступность к морю! \\n- Уединенность - нет шумных трасс и магистралей \\n- Атмосфера настоящей жизни у моря - морские закаты, уходящие в море корабли, маяк \\n\\nЖИВИТЕ У МОРЯ ПО-НАСТОЯЩЕМУ! \\n\\nОТКРЫТЫ ПРЕДПРОДАЖИ! УСПЕВАЙТЕ БРОНИРОВАТЬ! \\n\\nПолучить всю информацию по остаткам, записаться на просмотр а также, забронировать квартиру можно по телефону и в отделе продаж!</td>\n",
       "      <td>13</td>\n",
       "      <td>2023-01-10 11:25:11.144238</td>\n",
       "    </tr>\n",
       "  </tbody>\n",
       "</table>\n",
       "</div>"
      ],
      "text/plain": [
       "                           OfferTitle                        OfferSubtitle  \\\n",
       "437      3-комн. кв., 51 м², 2/2 этаж                                        \n",
       "517  1-комн. кв., 65,02 м², 5/10 этаж  Секция 1 • Сдача корпуса 3 кв. 2022   \n",
       "344   1-комн. кв., 40,91 м², 1/9 этаж             Сдача корпуса 3 кв. 2025   \n",
       "\n",
       "                      Deadline    MainPrice     PriceInfo  \\\n",
       "437                             5 000 000 ₽   98 039 ₽/м²   \n",
       "517  сдача ГК: 4 кв. 2023 года  8 842 720 ₽  136 000 ₽/м²   \n",
       "344  сдача ГК: 3 кв. 2025 года  5 645 580 ₽  138 000 ₽/м²   \n",
       "\n",
       "                                                                 GeoLabel  \\\n",
       "437  [Севастополь, р-н Балаклавский, с. Орлиное, улица Ивана Пахомова, 2]   \n",
       "517              [Севастополь, р-н Ленинский, улица Генерала Крейзера, 8]   \n",
       "344         [Севастополь, р-н Гагаринский, улица Братьев Манганари, 30к2]   \n",
       "\n",
       "                           TimeLabel  \\\n",
       "437  [2 недели назад, 21 дек, 17:40]   \n",
       "517  [6 часов назад, сегодня, 04:59]   \n",
       "344   [2 часа назад, сегодня, 09:25]   \n",
       "\n",
       "                                            LinkArea  \\\n",
       "437  https://sevastopol.cian.ru/sale/flat/271437043/   \n",
       "517  https://sevastopol.cian.ru/sale/flat/281147110/   \n",
       "344  https://sevastopol.cian.ru/sale/flat/277315895/   \n",
       "\n",
       "                                                                                                                                                                                                                                                                                                                                                                                                                                                                                                                                                                                                                                                                                                                                                                                                                                                                                                                                                                                                                                                                                                                                                                                                                                                                                   Description  \\\n",
       "437  ВНИМАНИЕ! ВНИМАНИЕ! Срочная продажа 3-х комнатной квартиры!\\n В одном из самых чудесных мест Крыма в Байдарской долине в селе Орлиное (Крымская Швейцария) продается отличная квартира! Тишина и свежий горный воздух будут спутниками по жизни в заповедном месте. В селе находятся школа, садик, больница, МФЦ, банк РНКБ, администрация, магазины и продуктовые и хозяйственные, аптека, почта. До Севастополя, как и до Ялты 30 мин на транспорте. Городские автобусы ходят каждые полчаса. До Байдарских ворот (знаменитый выход на ЮБК) 10 минут на автомобиле. Ближайший пляж на Ласпи в 10 минутах , в Форосе в 15 минутах, в Балаклаве в 20 минутах езды на транспорте. До Балаклавского пляжа можно добраться городским автобусом.\\n В квартире две спальни, гостиная и кухня. Во дворе есть техническое помещение, где можно хранить велосипеды, коляски и другие нужные вещи. Водоснабжение, канализация, отопление - центральные. Поэтому в квартире всегда тепло и сухо. Дом из инкерманского камня отлично спасает летом от жары. В квартире новые пластиковые окна и надежная дверь. Сделан ремонт - заезжай и живи!\\nСогласитесь это нормально?\\nРассматривается только наличный расчет.\\nВозможна рассрочка платежа!!!\\nЗвоните! Все расскажем и покажем!\\n\\nЛот 225015   \n",
       "517                                                                                                                                                                                                                                                                                                                                                                                                                                                                                                                                                                                                                                                                                                                                                                                                                                                                                                                                                                                                                                                                                                                                                                                                                                                                                              \n",
       "344                                                                                                                                                    КВАРТИРЫ НАПРЯМУЮ ОТ ЗАСТРОЙЩИКА! \\n\\nУЛУЧШЕННЫЙ ПРОЕКТ ЖК \"PORTO FRANCO\"\\n\\nСрок сдачи 3 квартал 2025 \\n\\n3-комнатная квартира в новом жилом комплексе у МОРЯ - на Западном берегу Камышовой бухты г. Севастополя! \\n\\nОбщая площадь 73 м², все комнаты раздельные - 17,5 ; 16,5 и 10 м2, просторная кухня 10м2, ванная с окном, застекленная лоджия 4,5 м2. \\n\\nВ КВАРТИРЕ: \\n\\n- качественная стяжка пола \\n- двухконтурный газовый котел \\n- все счетчики \\n- радиаторы в комнатах и на кухне \\n- стеклопакеты \\n- качественная металлическая дверь \\n- розетки, выключатели \\n\\nЖИЛОЙ КОМПЛЕКС НАХОДИТСЯ В 300 МЕТРАХ У МОРЯ: \\n\\n- Вид прекрасный - 150 градусов видно море! \\n- Возможность каждый день гулять у моря и даже купаться - шаговая доступность к морю! \\n- Уединенность - нет шумных трасс и магистралей \\n- Атмосфера настоящей жизни у моря - морские закаты, уходящие в море корабли, маяк \\n\\nЖИВИТЕ У МОРЯ ПО-НАСТОЯЩЕМУ! \\n\\nОТКРЫТЫ ПРЕДПРОДАЖИ! УСПЕВАЙТЕ БРОНИРОВАТЬ! \\n\\nПолучить всю информацию по остаткам, записаться на просмотр а также, забронировать квартиру можно по телефону и в отделе продаж!   \n",
       "\n",
       "     page                         ts  \n",
       "437    16 2023-01-10 11:25:11.144238  \n",
       "517    19 2023-01-10 11:25:11.144238  \n",
       "344    13 2023-01-10 11:25:11.144238  "
      ]
     },
     "execution_count": 6,
     "metadata": {},
     "output_type": "execute_result"
    }
   ],
   "source": [
    "df.sample(3)"
   ]
  },
  {
   "cell_type": "code",
   "execution_count": 7,
   "id": "eabb9f45",
   "metadata": {},
   "outputs": [],
   "source": [
    "assert len(df)>0"
   ]
  },
  {
   "cell_type": "code",
   "execution_count": 8,
   "id": "6b6e1d34",
   "metadata": {},
   "outputs": [
    {
     "name": "stdout",
     "output_type": "stream",
     "text": [
      "532\n",
      "465\n"
     ]
    }
   ],
   "source": [
    "print(len(df))\n",
    "df = pd.DataFrame(df).dropna().drop_duplicates(['LinkArea','Description',]).reset_index(drop=True)\n",
    "print(len(df))"
   ]
  },
  {
   "cell_type": "code",
   "execution_count": 9,
   "id": "76af0a8e",
   "metadata": {},
   "outputs": [],
   "source": [
    "df['place']=place"
   ]
  },
  {
   "cell_type": "code",
   "execution_count": 10,
   "id": "27150829",
   "metadata": {},
   "outputs": [],
   "source": [
    "ts = dtm.now().strftime('%Y-%m-%d_%H-%M')\n",
    "assert len(df)>0\n",
    "# df.to_excel(f'{raw_data_path}/cian_{ts}_raw.xlsx',index=False)\n",
    "df.to_pickle(f'{raw_data_path}/cian_{ts}_raw.pkl')"
   ]
  },
  {
   "cell_type": "markdown",
   "id": "b1c773fc",
   "metadata": {},
   "source": [
    "----"
   ]
  },
  {
   "cell_type": "code",
   "execution_count": 11,
   "id": "3375a88f",
   "metadata": {},
   "outputs": [],
   "source": [
    "# df = pd.read_excel('data/raw/cian/cian_2022-09-08_13-49_raw.xlsx')"
   ]
  },
  {
   "cell_type": "code",
   "execution_count": 12,
   "id": "a1a04f5b",
   "metadata": {},
   "outputs": [],
   "source": [
    "# df"
   ]
  },
  {
   "cell_type": "code",
   "execution_count": 13,
   "id": "cb1cfae9",
   "metadata": {},
   "outputs": [],
   "source": [
    "# df['GeoLabel'].apply( lambda s : len(s) ) #', '.join(s) )\n",
    "\n",
    "# s = ['Севастополь', 'р-н Гагаринский', 'Казачья Бухта мкр', 'Скифия ЖК']\n",
    "# ', '.join(s)"
   ]
  },
  {
   "cell_type": "code",
   "execution_count": 14,
   "id": "4354558d",
   "metadata": {},
   "outputs": [],
   "source": [
    "# from lib.cian import CianDataCleaner\n",
    "\n",
    "# CianDataCleaner().transform(df)"
   ]
  },
  {
   "cell_type": "markdown",
   "id": "c12f900f",
   "metadata": {},
   "source": [
    "----"
   ]
  },
  {
   "cell_type": "code",
   "execution_count": 15,
   "id": "f2f98ed9",
   "metadata": {},
   "outputs": [],
   "source": [
    "# with open('tmp/cian.html','wt') as f: f.write(html[0])"
   ]
  }
 ],
 "metadata": {
  "kernelspec": {
   "display_name": "Python 3 (ipykernel)",
   "language": "python",
   "name": "python3"
  },
  "language_info": {
   "codemirror_mode": {
    "name": "ipython",
    "version": 3
   },
   "file_extension": ".py",
   "mimetype": "text/x-python",
   "name": "python",
   "nbconvert_exporter": "python",
   "pygments_lexer": "ipython3",
   "version": "3.10.8"
  },
  "toc": {
   "base_numbering": 1,
   "nav_menu": {},
   "number_sections": true,
   "sideBar": true,
   "skip_h1_title": false,
   "title_cell": "Table of Contents",
   "title_sidebar": "Contents",
   "toc_cell": false,
   "toc_position": {},
   "toc_section_display": true,
   "toc_window_display": false
  }
 },
 "nbformat": 4,
 "nbformat_minor": 5
}
