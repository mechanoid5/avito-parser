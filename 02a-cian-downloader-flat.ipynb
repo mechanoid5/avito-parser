{
 "cells": [
  {
   "cell_type": "markdown",
   "id": "edb73f62",
   "metadata": {},
   "source": [
    "__качаем объявления о продаже квартир с циан.ru__\n",
    "\n",
    "_Evgeny S. Borisov <parser@mechanoid.su>_"
   ]
  },
  {
   "cell_type": "code",
   "execution_count": 1,
   "id": "8e37d325",
   "metadata": {},
   "outputs": [],
   "source": [
    "import sys\n",
    "import re\n",
    "import logging\n",
    "from datetime import datetime as dtm\n",
    "from tqdm.notebook import tqdm\n",
    "import pandas as pd\n",
    "from bs4 import BeautifulSoup\n",
    "from time import sleep\n",
    "from random import random"
   ]
  },
  {
   "cell_type": "code",
   "execution_count": 2,
   "id": "202ec0cb",
   "metadata": {},
   "outputs": [],
   "source": [
    "pd.set_option('display.max_colwidth', None)\n",
    "pd.set_option('display.float_format', '{:.2f}'.format)\n",
    "tqdm.pandas()\n",
    "\n",
    "logging.basicConfig(\n",
    "        format=u'[%(levelname)-8s] %(asctime)s | %(message)s',\n",
    "        datefmt='%Y-%m-%d %H:%M:%S',\n",
    "        level=logging.INFO,\n",
    "        # level=logging.DEBUG,\n",
    "        stream=sys.stdout,\n",
    "    )"
   ]
  },
  {
   "cell_type": "code",
   "execution_count": 3,
   "id": "3411b55d",
   "metadata": {},
   "outputs": [],
   "source": [
    "raw_data_path = 'data/raw/flat/cian' # каталог с файлами объявлений"
   ]
  },
  {
   "cell_type": "code",
   "execution_count": 4,
   "id": "b036cb34",
   "metadata": {},
   "outputs": [],
   "source": [
    "profile_path = '/home/mechanoid/.mozilla/firefox/p144xo2m.default-release'\n",
    "# base_url, req_param = 'https://sevastopol.cian.ru/kupit-kvartiru/', ''\n",
    "place = 'sevastopol'\n",
    "base_url, req_param ='https://www.cian.ru/cat.php', 'deal_type=sale&offer_type=flat&region=184723'"
   ]
  },
  {
   "cell_type": "code",
   "execution_count": 5,
   "id": "3e42986b",
   "metadata": {},
   "outputs": [
    {
     "name": "stdout",
     "output_type": "stream",
     "text": [
      "[INFO    ] 2022-09-16 15:02:15 | DownloaderSeleniumFirefox: downloader init\n",
      "[INFO    ] 2022-09-16 15:02:15 | DownloaderSeleniumFirefox: open virtual browser\n",
      "[INFO    ] 2022-09-16 15:02:17 | AdsListParser: downloader init\n",
      "[INFO    ] 2022-09-16 15:02:17 | CianParser: downloader init\n",
      "[INFO    ] 2022-09-16 15:02:17 | AdsListParser: start read and parse pages...\n",
      "[INFO    ] 2022-09-16 15:02:32 | AdsListParser: read page 1\n",
      "[INFO    ] 2022-09-16 15:02:39 | AdsListParser: read page 2\n",
      "[INFO    ] 2022-09-16 15:02:50 | AdsListParser: read page 3\n",
      "[INFO    ] 2022-09-16 15:03:01 | AdsListParser: read page 4\n",
      "[INFO    ] 2022-09-16 15:03:10 | AdsListParser: read page 5\n",
      "[INFO    ] 2022-09-16 15:03:19 | AdsListParser: read page 6\n",
      "[INFO    ] 2022-09-16 15:03:25 | AdsListParser: read page 7\n",
      "[INFO    ] 2022-09-16 15:03:37 | AdsListParser: read page 8\n",
      "[INFO    ] 2022-09-16 15:03:49 | AdsListParser: read page 9\n",
      "[INFO    ] 2022-09-16 15:03:58 | AdsListParser: read page 10\n",
      "[INFO    ] 2022-09-16 15:04:04 | AdsListParser: read page 11\n",
      "[INFO    ] 2022-09-16 15:04:09 | AdsListParser: read page 12\n",
      "[INFO    ] 2022-09-16 15:04:14 | AdsListParser: read page 13\n",
      "[INFO    ] 2022-09-16 15:04:31 | AdsListParser: read page 14\n",
      "[INFO    ] 2022-09-16 15:04:44 | AdsListParser: read page 15\n",
      "[INFO    ] 2022-09-16 15:04:51 | AdsListParser: read page 16\n",
      "[INFO    ] 2022-09-16 15:05:02 | AdsListParser: read page 17\n",
      "[INFO    ] 2022-09-16 15:05:11 | AdsListParser: read page 18\n",
      "[INFO    ] 2022-09-16 15:05:21 | AdsListParser: read page 19\n",
      "[INFO    ] 2022-09-16 15:05:29 | AdsListParser: read page 20\n",
      "[INFO    ] 2022-09-16 15:05:37 | AdsListParser: read page 21\n",
      "[INFO    ] 2022-09-16 15:05:44 | AdsListParser: read page 22\n",
      "[INFO    ] 2022-09-16 15:05:54 | AdsListParser: read page 23\n",
      "[INFO    ] 2022-09-16 15:06:06 | AdsListParser: read page 24\n",
      "[INFO    ] 2022-09-16 15:06:12 | AdsListParser: read page 25\n",
      "[INFO    ] 2022-09-16 15:06:17 | AdsListParser: read page 26\n",
      "[INFO    ] 2022-09-16 15:06:28 | AdsListParser: read page 27\n",
      "[INFO    ] 2022-09-16 15:06:38 | AdsListParser: read page 28\n",
      "[INFO    ] 2022-09-16 15:06:52 | AdsListParser: read page 29\n",
      "[INFO    ] 2022-09-16 15:07:05 | AdsListParser: read page 30\n",
      "[INFO    ] 2022-09-16 15:07:15 | AdsListParser: read page 31\n",
      "[INFO    ] 2022-09-16 15:07:28 | AdsListParser: read page 32\n",
      "[INFO    ] 2022-09-16 15:07:43 | AdsListParser: read page 33\n",
      "[INFO    ] 2022-09-16 15:07:56 | AdsListParser: read page 34\n",
      "[INFO    ] 2022-09-16 15:08:03 | AdsListParser: read page 35\n",
      "[INFO    ] 2022-09-16 15:08:13 | AdsListParser: read page 36\n",
      "[INFO    ] 2022-09-16 15:08:28 | AdsListParser: read page 37\n",
      "[INFO    ] 2022-09-16 15:08:41 | AdsListParser: read page 38\n",
      "[INFO    ] 2022-09-16 15:08:56 | AdsListParser: read page 39\n",
      "[INFO    ] 2022-09-16 15:09:03 | AdsListParser: read page 40\n",
      "[INFO    ] 2022-09-16 15:09:12 | AdsListParser: read page 41\n",
      "[INFO    ] 2022-09-16 15:09:18 | AdsListParser: read page 42\n",
      "[INFO    ] 2022-09-16 15:09:28 | AdsListParser: read page 43\n",
      "[INFO    ] 2022-09-16 15:09:35 | AdsListParser: read page 44\n",
      "[INFO    ] 2022-09-16 15:09:41 | AdsListParser: read page 45\n",
      "[INFO    ] 2022-09-16 15:09:51 | AdsListParser: read page 46\n",
      "[INFO    ] 2022-09-16 15:09:59 | AdsListParser: read page 47\n",
      "[INFO    ] 2022-09-16 15:10:29 | AdsListParser: read page 48\n",
      "[INFO    ] 2022-09-16 15:10:46 | AdsListParser: read page 49\n",
      "[INFO    ] 2022-09-16 15:11:00 | AdsListParser: read page 50\n",
      "[INFO    ] 2022-09-16 15:11:17 | AdsListParser: read page 51\n",
      "[INFO    ] 2022-09-16 15:11:31 | AdsListParser: read page 52\n",
      "[INFO    ] 2022-09-16 15:11:37 | AdsListParser: read page 53\n",
      "[INFO    ] 2022-09-16 15:11:49 | AdsListParser: read page 54\n",
      "[INFO    ] 2022-09-16 15:11:49 | AdsListParser: last page detected\n",
      "[INFO    ] 2022-09-16 15:11:50 | DownloaderSeleniumFirefox: close virtual browser\n",
      "1509\n",
      "CPU times: user 13.2 s, sys: 286 ms, total: 13.5 s\n",
      "Wall time: 9min 35s\n"
     ]
    }
   ],
   "source": [
    "%%time\n",
    "\n",
    "# from lib.downloader import DownloaderSimple\n",
    "# from lib.parser import AdsListParser\n",
    "from lib.downloader import DownloaderSeleniumFirefox\n",
    "from lib.cian import CianParser\n",
    "\n",
    "\n",
    "df,html = CianParser(\n",
    "        base_url = base_url,\n",
    "        driver=DownloaderSeleniumFirefox(profile_path),\n",
    "        # driver=DownloaderSimple(),\n",
    "    ).load(req_param=req_param, keep_html=True) # , npage_start=53) # , page_limit=3 ) #\n",
    "\n",
    "print(len(df))"
   ]
  },
  {
   "cell_type": "code",
   "execution_count": 6,
   "id": "042e3e74",
   "metadata": {},
   "outputs": [
    {
     "data": {
      "text/html": [
       "<div>\n",
       "<style scoped>\n",
       "    .dataframe tbody tr th:only-of-type {\n",
       "        vertical-align: middle;\n",
       "    }\n",
       "\n",
       "    .dataframe tbody tr th {\n",
       "        vertical-align: top;\n",
       "    }\n",
       "\n",
       "    .dataframe thead th {\n",
       "        text-align: right;\n",
       "    }\n",
       "</style>\n",
       "<table border=\"1\" class=\"dataframe\">\n",
       "  <thead>\n",
       "    <tr style=\"text-align: right;\">\n",
       "      <th></th>\n",
       "      <th>OfferTitle</th>\n",
       "      <th>OfferSubtitle</th>\n",
       "      <th>Deadline</th>\n",
       "      <th>MainPrice</th>\n",
       "      <th>PriceInfo</th>\n",
       "      <th>GeoLabel</th>\n",
       "      <th>TimeLabel</th>\n",
       "      <th>LinkArea</th>\n",
       "      <th>Description</th>\n",
       "      <th>page</th>\n",
       "      <th>ts</th>\n",
       "    </tr>\n",
       "  </thead>\n",
       "  <tbody>\n",
       "    <tr>\n",
       "      <th>1400</th>\n",
       "      <td>3-комн. кв., 115,3 м², 8/9 этаж</td>\n",
       "      <td></td>\n",
       "      <td></td>\n",
       "      <td>18 800 000 ₽</td>\n",
       "      <td>163 053 ₽/м²</td>\n",
       "      <td>[Севастополь, р-н Гагаринский, улица Героев Бреста, 116]</td>\n",
       "      <td>[2 часа назад, сегодня, 12:39]</td>\n",
       "      <td>https://sevastopol.cian.ru/sale/flat/276987635/</td>\n",
       "      <td>Продам элитную 3-х комнатную квартиру в лучшем районе города рядом с морем. В доме с закрытой территорией по адресу ул. Героев Бреста, дом 116. \\n\\n Квартира в идеальном состоянии, расположена на 8 этаже и имеет общую площадь 115,3 квадратных метра. Высота потолка 2.8 м. В этой квартире сделана очень грамотная планировка: две отдельные спальные комнаты; техническая комната, где находятся стиральная и сушильная машины, система водоподготовки и фильтрации воды, а также система рекуперации воздуха; просторная гостиная; кухня-столовая и, конечно же, гардеробная комната. Также установлена система видеонаблюдения. Безопасность вас и ваших близких будет обеспечена.\\n\\n В квартире сделан потрясающий ремонт с использованием только дорогих и качественных материалов, который вы сможете оценить только посмотрев ее. Установлена самая современная техника и мебель. Скажу только одно: в ремонт, технику и мебель вложено более 9 млн рублей. И все это останется вам. \\n \\n Я не буду рассказывать о преимуществах закрытой территории и о расположении дома, что в пешей доступности есть несколько пляжей. Вы это, наверняка, и сами знаете. Эта квартира идеально подчеркнет ваш статус.\\n\\n Если вы современный человек, если вы хотите проживать в одном из самых перспективных районов города, если вы цените современные решения и для вас важен простор?! Эта квартира для вас!\\n\\n Огромным плюсом будет вид из окна гостиной на бухту и море, а таких в Севастополе мало. Кстати, окна везде панорамные. А если вы захотите ограничить попадание света, в этом вам помогут шторы блэкаут, которые висят по всему периметру. \\n\\n Не упустите свой шанс стать собственником престижной недвижимости. \\nЗвоните! Покупайте!</td>\n",
       "      <td>51</td>\n",
       "      <td>2022-09-16 15:11:49.899057</td>\n",
       "    </tr>\n",
       "    <tr>\n",
       "      <th>1226</th>\n",
       "      <td>3-комн. кв., 46,2 м², 1/2 этаж</td>\n",
       "      <td></td>\n",
       "      <td></td>\n",
       "      <td>10 500 000 ₽</td>\n",
       "      <td>227 273 ₽/м²</td>\n",
       "      <td>[Севастополь, р-н Ленинский, улица Супруна, 5]</td>\n",
       "      <td>[2 часа назад, сегодня, 12:38]</td>\n",
       "      <td>https://sevastopol.cian.ru/sale/flat/276346669/</td>\n",
       "      <td>Трехкомнатная квартира 46,2 м2, на 1/2 этаже дома. Расположена в г. Севастополь, Ленинский район, ул. Супруна, д. 5.\\nПозвоните нам, чтобы узнать все детали! \\nТехнические характеристики: \\n \\n-Адрес: г. Севастополь, Ленинский район, ул. Супруна, д. 5\\n-Год постройки дома: 1950\\n-Этаж/этажность: 1/2\\n-Количество комнат: 3\\n-Комнаты: изолированные\\n-Общая площадь: 46,2 м2\\n-Жилая площадь: 30,8 м2\\n-Комната: 13,9; 11,3 и 5,6 м2\\n-Площадь кухни: 7,3 м2\\n-Высота потолка: 3,1 м\\n-Санузел: совмещенный\\n-Водоснабжение: центральное\\n-Горячее водоснабжение: газовая колонка\\n-Отопление: центральное\\nДополнительная информация: \\nКвартира общей площадью 46,2 м2, имеет три изолированные комнаты 13,9 м2, 11,3 м2, 5,6 м2. \\nВ квартире сделан евроремонт, все мебель и техника остается. Имеется отдельный вход в подвальное помещение площадью более 10 м2.\\nИмеется отдельный выход на огороженную террасу, на которой уложена плитка, что позволит свободно парковать машину. Дом оборудован системой видеонаблюдения. \\nПозвоните нам, чтобы назначить просмотр! \\nИнфраструктура: \\nДом расположен в историческом центре города.\\nВ шаговой доступности поликлиника 4, политехнический лицей, торгово-экономический техникум, школы 65, 45, 14, детский сад 2. До Исторического Бульвара пешком 5 минут. Возможность добраться на общественном транспорте в любую точку города. Рассматривается вариант обмена на дом в черте города.\\nНаличный расчет подразумевают приличную скидку.\\nДокументы РФ проверены юристами и готовы к сделке. \\nПрофессиональное сопровождение до получения права собственности.\\nДобавьте предложение в закладки, чтобы не потерять!</td>\n",
       "      <td>44</td>\n",
       "      <td>2022-09-16 15:11:49.899057</td>\n",
       "    </tr>\n",
       "    <tr>\n",
       "      <th>645</th>\n",
       "      <td>1-комн. кв., 20 м², 2/3 этаж</td>\n",
       "      <td></td>\n",
       "      <td></td>\n",
       "      <td>2 700 000 ₽</td>\n",
       "      <td>135 000 ₽/м²</td>\n",
       "      <td>[Севастополь, р-н Гагаринский, улица Готская, 98]</td>\n",
       "      <td>[три дня назад, 13 сен, 10:38]</td>\n",
       "      <td>https://sevastopol.cian.ru/sale/flat/276617190/</td>\n",
       "      <td>Квартира студи в одном из самых лучших районов города. Дом сдан. Документы готовы к сделке.Предчистовая отделка. Продажа от собственника . Есть разные варианты студий по площади. Звоните показ в удобное для вас время.</td>\n",
       "      <td>24</td>\n",
       "      <td>2022-09-16 15:11:49.899057</td>\n",
       "    </tr>\n",
       "  </tbody>\n",
       "</table>\n",
       "</div>"
      ],
      "text/plain": [
       "                           OfferTitle OfferSubtitle Deadline     MainPrice  \\\n",
       "1400  3-комн. кв., 115,3 м², 8/9 этаж                         18 800 000 ₽   \n",
       "1226   3-комн. кв., 46,2 м², 1/2 этаж                         10 500 000 ₽   \n",
       "645      1-комн. кв., 20 м², 2/3 этаж                          2 700 000 ₽   \n",
       "\n",
       "         PriceInfo                                                  GeoLabel  \\\n",
       "1400  163 053 ₽/м²  [Севастополь, р-н Гагаринский, улица Героев Бреста, 116]   \n",
       "1226  227 273 ₽/м²            [Севастополь, р-н Ленинский, улица Супруна, 5]   \n",
       "645   135 000 ₽/м²         [Севастополь, р-н Гагаринский, улица Готская, 98]   \n",
       "\n",
       "                           TimeLabel  \\\n",
       "1400  [2 часа назад, сегодня, 12:39]   \n",
       "1226  [2 часа назад, сегодня, 12:38]   \n",
       "645   [три дня назад, 13 сен, 10:38]   \n",
       "\n",
       "                                             LinkArea  \\\n",
       "1400  https://sevastopol.cian.ru/sale/flat/276987635/   \n",
       "1226  https://sevastopol.cian.ru/sale/flat/276346669/   \n",
       "645   https://sevastopol.cian.ru/sale/flat/276617190/   \n",
       "\n",
       "                                                                                                                                                                                                                                                                                                                                                                                                                                                                                                                                                                                                                                                                                                                                                                                                                                                                                                                                                                                                                                                                                                                                                                                                                                                                                                                                                                                                                                                                                                                                                                                                                                                                                                                                                          Description  \\\n",
       "1400  Продам элитную 3-х комнатную квартиру в лучшем районе города рядом с морем. В доме с закрытой территорией по адресу ул. Героев Бреста, дом 116. \\n\\n Квартира в идеальном состоянии, расположена на 8 этаже и имеет общую площадь 115,3 квадратных метра. Высота потолка 2.8 м. В этой квартире сделана очень грамотная планировка: две отдельные спальные комнаты; техническая комната, где находятся стиральная и сушильная машины, система водоподготовки и фильтрации воды, а также система рекуперации воздуха; просторная гостиная; кухня-столовая и, конечно же, гардеробная комната. Также установлена система видеонаблюдения. Безопасность вас и ваших близких будет обеспечена.\\n\\n В квартире сделан потрясающий ремонт с использованием только дорогих и качественных материалов, который вы сможете оценить только посмотрев ее. Установлена самая современная техника и мебель. Скажу только одно: в ремонт, технику и мебель вложено более 9 млн рублей. И все это останется вам. \\n \\n Я не буду рассказывать о преимуществах закрытой территории и о расположении дома, что в пешей доступности есть несколько пляжей. Вы это, наверняка, и сами знаете. Эта квартира идеально подчеркнет ваш статус.\\n\\n Если вы современный человек, если вы хотите проживать в одном из самых перспективных районов города, если вы цените современные решения и для вас важен простор?! Эта квартира для вас!\\n\\n Огромным плюсом будет вид из окна гостиной на бухту и море, а таких в Севастополе мало. Кстати, окна везде панорамные. А если вы захотите ограничить попадание света, в этом вам помогут шторы блэкаут, которые висят по всему периметру. \\n\\n Не упустите свой шанс стать собственником престижной недвижимости. \\nЗвоните! Покупайте!   \n",
       "1226                                                                       Трехкомнатная квартира 46,2 м2, на 1/2 этаже дома. Расположена в г. Севастополь, Ленинский район, ул. Супруна, д. 5.\\nПозвоните нам, чтобы узнать все детали! \\nТехнические характеристики: \\n \\n-Адрес: г. Севастополь, Ленинский район, ул. Супруна, д. 5\\n-Год постройки дома: 1950\\n-Этаж/этажность: 1/2\\n-Количество комнат: 3\\n-Комнаты: изолированные\\n-Общая площадь: 46,2 м2\\n-Жилая площадь: 30,8 м2\\n-Комната: 13,9; 11,3 и 5,6 м2\\n-Площадь кухни: 7,3 м2\\n-Высота потолка: 3,1 м\\n-Санузел: совмещенный\\n-Водоснабжение: центральное\\n-Горячее водоснабжение: газовая колонка\\n-Отопление: центральное\\nДополнительная информация: \\nКвартира общей площадью 46,2 м2, имеет три изолированные комнаты 13,9 м2, 11,3 м2, 5,6 м2. \\nВ квартире сделан евроремонт, все мебель и техника остается. Имеется отдельный вход в подвальное помещение площадью более 10 м2.\\nИмеется отдельный выход на огороженную террасу, на которой уложена плитка, что позволит свободно парковать машину. Дом оборудован системой видеонаблюдения. \\nПозвоните нам, чтобы назначить просмотр! \\nИнфраструктура: \\nДом расположен в историческом центре города.\\nВ шаговой доступности поликлиника 4, политехнический лицей, торгово-экономический техникум, школы 65, 45, 14, детский сад 2. До Исторического Бульвара пешком 5 минут. Возможность добраться на общественном транспорте в любую точку города. Рассматривается вариант обмена на дом в черте города.\\nНаличный расчет подразумевают приличную скидку.\\nДокументы РФ проверены юристами и готовы к сделке. \\nПрофессиональное сопровождение до получения права собственности.\\nДобавьте предложение в закладки, чтобы не потерять!   \n",
       "645                                                                                                                                                                                                                                                                                                                                                                                                                                                                                                                                                                                                                                                                                                                                                                                                                                                                                                                                                                                                                                                                                                                                                                                                                                                                                                                                                                                                                                                                                                                                         Квартира студи в одном из самых лучших районов города. Дом сдан. Документы готовы к сделке.Предчистовая отделка. Продажа от собственника . Есть разные варианты студий по площади. Звоните показ в удобное для вас время.   \n",
       "\n",
       "      page                         ts  \n",
       "1400    51 2022-09-16 15:11:49.899057  \n",
       "1226    44 2022-09-16 15:11:49.899057  \n",
       "645     24 2022-09-16 15:11:49.899057  "
      ]
     },
     "execution_count": 6,
     "metadata": {},
     "output_type": "execute_result"
    }
   ],
   "source": [
    "df.sample(3)"
   ]
  },
  {
   "cell_type": "code",
   "execution_count": 7,
   "id": "6b6e1d34",
   "metadata": {},
   "outputs": [
    {
     "name": "stdout",
     "output_type": "stream",
     "text": [
      "1509\n",
      "1477\n"
     ]
    }
   ],
   "source": [
    "print(len(df))\n",
    "df = pd.DataFrame(df).dropna().drop_duplicates(['LinkArea','Description',]).reset_index(drop=True)\n",
    "print(len(df))"
   ]
  },
  {
   "cell_type": "code",
   "execution_count": 8,
   "id": "76af0a8e",
   "metadata": {},
   "outputs": [],
   "source": [
    "df['place']=place"
   ]
  },
  {
   "cell_type": "code",
   "execution_count": 9,
   "id": "27150829",
   "metadata": {},
   "outputs": [],
   "source": [
    "ts = dtm.now().strftime('%Y-%m-%d_%H-%M')\n",
    "assert len(df)>0\n",
    "# df.to_excel(f'{raw_data_path}/cian_{ts}_raw.xlsx',index=False)\n",
    "df.to_pickle(f'{raw_data_path}/cian_{ts}_raw.pkl')"
   ]
  },
  {
   "cell_type": "markdown",
   "id": "b1c773fc",
   "metadata": {},
   "source": [
    "----"
   ]
  },
  {
   "cell_type": "code",
   "execution_count": 10,
   "id": "3375a88f",
   "metadata": {},
   "outputs": [],
   "source": [
    "# df = pd.read_excel('data/raw/cian/cian_2022-09-08_13-49_raw.xlsx')"
   ]
  },
  {
   "cell_type": "code",
   "execution_count": 11,
   "id": "a1a04f5b",
   "metadata": {},
   "outputs": [],
   "source": [
    "# df"
   ]
  },
  {
   "cell_type": "code",
   "execution_count": 12,
   "id": "cb1cfae9",
   "metadata": {},
   "outputs": [],
   "source": [
    "# df['GeoLabel'].apply( lambda s : len(s) ) #', '.join(s) )\n",
    "\n",
    "# s = ['Севастополь', 'р-н Гагаринский', 'Казачья Бухта мкр', 'Скифия ЖК']\n",
    "# ', '.join(s)"
   ]
  },
  {
   "cell_type": "code",
   "execution_count": 13,
   "id": "4354558d",
   "metadata": {},
   "outputs": [],
   "source": [
    "# from lib.cian import CianDataCleaner\n",
    "\n",
    "# CianDataCleaner().transform(df)"
   ]
  },
  {
   "cell_type": "markdown",
   "id": "c12f900f",
   "metadata": {},
   "source": [
    "----"
   ]
  },
  {
   "cell_type": "code",
   "execution_count": 14,
   "id": "f2f98ed9",
   "metadata": {},
   "outputs": [],
   "source": [
    "# with open('tmp/cian.html','wt') as f: f.write(html[0])"
   ]
  }
 ],
 "metadata": {
  "kernelspec": {
   "display_name": "Python 3 (ipykernel)",
   "language": "python",
   "name": "python3"
  },
  "language_info": {
   "codemirror_mode": {
    "name": "ipython",
    "version": 3
   },
   "file_extension": ".py",
   "mimetype": "text/x-python",
   "name": "python",
   "nbconvert_exporter": "python",
   "pygments_lexer": "ipython3",
   "version": "3.10.6"
  },
  "toc": {
   "base_numbering": 1,
   "nav_menu": {},
   "number_sections": true,
   "sideBar": true,
   "skip_h1_title": false,
   "title_cell": "Table of Contents",
   "title_sidebar": "Contents",
   "toc_cell": false,
   "toc_position": {},
   "toc_section_display": true,
   "toc_window_display": false
  }
 },
 "nbformat": 4,
 "nbformat_minor": 5
}
