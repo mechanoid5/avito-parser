{
 "cells": [
  {
   "cell_type": "markdown",
   "id": "edb73f62",
   "metadata": {},
   "source": [
    "__качаем объявления о продаже квартир с циан.ru__\n",
    "\n",
    "_Evgeny S. Borisov <parser@mechanoid.su>_"
   ]
  },
  {
   "cell_type": "code",
   "execution_count": 1,
   "id": "8e37d325",
   "metadata": {},
   "outputs": [],
   "source": [
    "import sys\n",
    "import re\n",
    "import logging\n",
    "from datetime import datetime as dtm\n",
    "from tqdm.notebook import tqdm\n",
    "import pandas as pd\n",
    "from bs4 import BeautifulSoup\n",
    "from time import sleep\n",
    "from random import random"
   ]
  },
  {
   "cell_type": "code",
   "execution_count": 2,
   "id": "202ec0cb",
   "metadata": {},
   "outputs": [],
   "source": [
    "pd.set_option('display.max_colwidth', None)\n",
    "pd.set_option('display.float_format', '{:.2f}'.format)\n",
    "tqdm.pandas()\n",
    "\n",
    "logging.basicConfig(\n",
    "        format=u'[%(levelname)-8s] %(asctime)s | %(message)s',\n",
    "        datefmt='%Y-%m-%d %H:%M:%S',\n",
    "        level=logging.INFO,\n",
    "        # level=logging.DEBUG,\n",
    "        stream=sys.stdout,\n",
    "    )"
   ]
  },
  {
   "cell_type": "code",
   "execution_count": 3,
   "id": "3411b55d",
   "metadata": {},
   "outputs": [],
   "source": [
    "raw_data_path = 'data/raw/flat/cian' # каталог с файлами объявлений"
   ]
  },
  {
   "cell_type": "code",
   "execution_count": 4,
   "id": "b036cb34",
   "metadata": {},
   "outputs": [],
   "source": [
    "profile_path = '/home/mechanoid/.mozilla/firefox/p144xo2m.default-release'\n",
    "# base_url, req_param = 'https://sevastopol.cian.ru/kupit-kvartiru/', ''\n",
    "place = 'sevastopol'\n",
    "base_url, req_param ='https://www.cian.ru/cat.php', 'deal_type=sale&offer_type=flat&region=184723'"
   ]
  },
  {
   "cell_type": "code",
   "execution_count": 5,
   "id": "3e42986b",
   "metadata": {},
   "outputs": [
    {
     "name": "stdout",
     "output_type": "stream",
     "text": [
      "[INFO    ] 2022-11-07 10:37:37 | DownloaderSeleniumFirefox: downloader init\n",
      "[INFO    ] 2022-11-07 10:37:37 | DownloaderSeleniumFirefox: open virtual browser\n",
      "[INFO    ] 2022-11-07 10:37:39 | AdsListParser: downloader init\n",
      "[INFO    ] 2022-11-07 10:37:39 | CianParser: downloader init\n",
      "[INFO    ] 2022-11-07 10:37:39 | AdsListParser: start read and parse pages...\n",
      "[INFO    ] 2022-11-07 10:37:48 | AdsListParser: read page 1\n",
      "[INFO    ] 2022-11-07 10:37:56 | AdsListParser: read page 2\n",
      "[INFO    ] 2022-11-07 10:38:09 | AdsListParser: read page 3\n",
      "[INFO    ] 2022-11-07 10:38:18 | AdsListParser: read page 4\n",
      "[INFO    ] 2022-11-07 10:38:28 | AdsListParser: read page 5\n",
      "[INFO    ] 2022-11-07 10:38:42 | AdsListParser: read page 6\n",
      "[INFO    ] 2022-11-07 10:38:56 | AdsListParser: read page 7\n",
      "[INFO    ] 2022-11-07 10:39:07 | AdsListParser: read page 8\n",
      "[INFO    ] 2022-11-07 10:39:21 | AdsListParser: read page 9\n",
      "[INFO    ] 2022-11-07 10:39:34 | AdsListParser: read page 10\n",
      "[INFO    ] 2022-11-07 10:39:42 | AdsListParser: read page 11\n",
      "[INFO    ] 2022-11-07 10:39:51 | AdsListParser: read page 12\n",
      "[INFO    ] 2022-11-07 10:40:03 | AdsListParser: read page 13\n",
      "[INFO    ] 2022-11-07 10:40:16 | AdsListParser: read page 14\n",
      "[INFO    ] 2022-11-07 10:40:29 | AdsListParser: read page 15\n",
      "[INFO    ] 2022-11-07 10:40:40 | AdsListParser: read page 16\n",
      "[INFO    ] 2022-11-07 10:40:54 | AdsListParser: read page 17\n",
      "[INFO    ] 2022-11-07 10:41:04 | AdsListParser: read page 18\n",
      "[INFO    ] 2022-11-07 10:41:13 | AdsListParser: read page 19\n",
      "[INFO    ] 2022-11-07 10:41:18 | AdsListParser: read page 20\n",
      "[INFO    ] 2022-11-07 10:41:25 | AdsListParser: read page 21\n",
      "[INFO    ] 2022-11-07 10:41:36 | AdsListParser: read page 22\n",
      "[INFO    ] 2022-11-07 10:41:43 | AdsListParser: read page 23\n",
      "[INFO    ] 2022-11-07 10:41:52 | AdsListParser: read page 24\n",
      "[INFO    ] 2022-11-07 10:42:06 | AdsListParser: read page 25\n",
      "[INFO    ] 2022-11-07 10:42:11 | AdsListParser: read page 26\n",
      "[INFO    ] 2022-11-07 10:42:26 | AdsListParser: read page 27\n",
      "[INFO    ] 2022-11-07 10:42:34 | AdsListParser: read page 28\n",
      "[INFO    ] 2022-11-07 10:42:45 | AdsListParser: read page 29\n",
      "[INFO    ] 2022-11-07 10:42:57 | AdsListParser: read page 30\n",
      "[INFO    ] 2022-11-07 10:43:11 | AdsListParser: read page 31\n",
      "[INFO    ] 2022-11-07 10:43:20 | AdsListParser: read page 32\n",
      "[INFO    ] 2022-11-07 10:43:31 | AdsListParser: read page 33\n",
      "[INFO    ] 2022-11-07 10:43:39 | AdsListParser: read page 34\n",
      "[INFO    ] 2022-11-07 10:43:55 | AdsListParser: read page 35\n",
      "[INFO    ] 2022-11-07 10:44:07 | AdsListParser: read page 36\n",
      "[INFO    ] 2022-11-07 10:44:19 | AdsListParser: read page 37\n",
      "[INFO    ] 2022-11-07 10:44:26 | AdsListParser: read page 38\n",
      "[INFO    ] 2022-11-07 10:44:39 | AdsListParser: read page 39\n",
      "[INFO    ] 2022-11-07 10:44:48 | AdsListParser: read page 40\n",
      "[INFO    ] 2022-11-07 10:44:56 | AdsListParser: read page 41\n",
      "[INFO    ] 2022-11-07 10:45:02 | AdsListParser: read page 42\n",
      "[INFO    ] 2022-11-07 10:45:10 | AdsListParser: read page 43\n",
      "[INFO    ] 2022-11-07 10:45:17 | AdsListParser: read page 44\n",
      "[INFO    ] 2022-11-07 10:45:31 | AdsListParser: read page 45\n",
      "[INFO    ] 2022-11-07 10:45:42 | AdsListParser: read page 46\n",
      "[INFO    ] 2022-11-07 10:45:59 | AdsListParser: read page 47\n",
      "[INFO    ] 2022-11-07 10:46:16 | AdsListParser: read page 48\n",
      "[INFO    ] 2022-11-07 10:46:28 | AdsListParser: read page 49\n",
      "[INFO    ] 2022-11-07 10:46:41 | AdsListParser: read page 50\n",
      "[INFO    ] 2022-11-07 10:46:47 | AdsListParser: read page 51\n",
      "[INFO    ] 2022-11-07 10:46:52 | AdsListParser: read page 52\n",
      "[INFO    ] 2022-11-07 10:47:03 | AdsListParser: read page 53\n",
      "[INFO    ] 2022-11-07 10:47:14 | AdsListParser: read page 54\n",
      "[INFO    ] 2022-11-07 10:47:14 | AdsListParser: last page detected\n",
      "[INFO    ] 2022-11-07 10:47:14 | DownloaderSeleniumFirefox: close virtual browser\n",
      "1495\n",
      "CPU times: user 13 s, sys: 339 ms, total: 13.3 s\n",
      "Wall time: 9min 37s\n"
     ]
    }
   ],
   "source": [
    "%%time\n",
    "\n",
    "# from lib.downloader import DownloaderSimple\n",
    "# from lib.parser import AdsListParser\n",
    "from lib.downloader import DownloaderSeleniumFirefox\n",
    "from lib.cian import CianParser\n",
    "\n",
    "\n",
    "df,html = CianParser(\n",
    "        base_url = base_url,\n",
    "        driver=DownloaderSeleniumFirefox(profile_path),\n",
    "        # driver=DownloaderSimple(),\n",
    "    ).load(req_param=req_param, keep_html=True) # , npage_start=53) # , page_limit=3 ) #\n",
    "\n",
    "print(len(df))"
   ]
  },
  {
   "cell_type": "code",
   "execution_count": 6,
   "id": "042e3e74",
   "metadata": {},
   "outputs": [
    {
     "data": {
      "text/html": [
       "<div>\n",
       "<style scoped>\n",
       "    .dataframe tbody tr th:only-of-type {\n",
       "        vertical-align: middle;\n",
       "    }\n",
       "\n",
       "    .dataframe tbody tr th {\n",
       "        vertical-align: top;\n",
       "    }\n",
       "\n",
       "    .dataframe thead th {\n",
       "        text-align: right;\n",
       "    }\n",
       "</style>\n",
       "<table border=\"1\" class=\"dataframe\">\n",
       "  <thead>\n",
       "    <tr style=\"text-align: right;\">\n",
       "      <th></th>\n",
       "      <th>OfferTitle</th>\n",
       "      <th>OfferSubtitle</th>\n",
       "      <th>Deadline</th>\n",
       "      <th>MainPrice</th>\n",
       "      <th>PriceInfo</th>\n",
       "      <th>GeoLabel</th>\n",
       "      <th>TimeLabel</th>\n",
       "      <th>LinkArea</th>\n",
       "      <th>Description</th>\n",
       "      <th>page</th>\n",
       "      <th>ts</th>\n",
       "    </tr>\n",
       "  </thead>\n",
       "  <tbody>\n",
       "    <tr>\n",
       "      <th>913</th>\n",
       "      <td>2-комн. кв., 45 м², 5/5 этаж</td>\n",
       "      <td></td>\n",
       "      <td></td>\n",
       "      <td>7 000 000 ₽</td>\n",
       "      <td>155 556 ₽/м²</td>\n",
       "      <td>[Севастополь, р-н Ленинский, мкр. Острякова, проспект Генерала Острякова, 94]</td>\n",
       "      <td>[2 недели назад, 22 окт, 12:29]</td>\n",
       "      <td>https://sevastopol.cian.ru/sale/flat/273342278/</td>\n",
       "      <td>Двухкомнатная квартира 45,3 м2, на 5/5 этаже дома. Расположена в г. Севастополь, Ленинский район, пр-кт Генерала Острякова, д. 94.\\nКвартира идеально подойдёт для семьи с детьми.\\nПозвоните нам, чтобы узнать все детали! \\nТехнические характеристики: \\n \\n-Адрес: г. Севастополь, Ленинский район, пр-кт Генерала Острякова, д. 94\\n-Год постройки дома: 1966\\n-Этаж/этажность: 5/5\\n-Количество комнат: 2\\n-Комнаты: изолированные \\n-Общая площадь: 45,3 м2\\n-Жилая площадь: 28 м2\\n-Комната: 17 и 11 м2\\n-Площадь кухни: 6,6 м2\\n-Высота потолка: 3 м \\n-Санузел: совмещенный \\n-Водоснабжение: центральное \\n-Горячее водоснабжение: газовая колонка \\n-Отопление: центральное \\nДополнительная информация: \\nОбщая площадь квартиры 45.3 м2, жилая 28м2. Квартира имеет две изолированные комнаты 17 м2 и 11 м2, кухню 6,6 м2, просторную вместительную прихожую, а также большой утепленный балкон.\\nВыполнен качественный ремонт, что позволит сразу заехать и наслаждаться комфортной в новой квартире. Квартира оборудована газовой колонкой, что обеспечит бесперебойную подачу горячей воды и позволит существенно экономить на коммунальных платежах.\\nПозвоните нам, чтобы назначить просмотр! \\nИнфраструктура: \\nДом находится в районе с развитой инфраструктурой, до остановки общественного транспорта 150 метров. В непосредственной близости от дома располагаются школы, детские сады, продовольственный магазины, аптеки, ТЦ \"Московский\", новые отреставрированный парки и скверы, отделения банков и многое другое.\\nПодходит для наличного расчета, под гражданскую ипотеку, материнский капитал, жилищные сертификаты. \\nДокументы РФ проверены юристами и готовы к сделке. \\nПрофессиональное сопровождение до получения права собственности.\\nДобавьте предложение в закладки, чтобы не потерять!</td>\n",
       "      <td>34</td>\n",
       "      <td>2022-11-07 10:47:14.221933</td>\n",
       "    </tr>\n",
       "    <tr>\n",
       "      <th>1361</th>\n",
       "      <td>1-комн. кв., 33 м², 6/9 этаж</td>\n",
       "      <td></td>\n",
       "      <td></td>\n",
       "      <td>5 200 000 ₽</td>\n",
       "      <td>157 576 ₽/м²</td>\n",
       "      <td>[Севастополь, р-н Гагаринский, мкр. 5-й, улица Косарева, 18]</td>\n",
       "      <td>[пять дней назад, 1 ноя, 10:54]</td>\n",
       "      <td>https://sevastopol.cian.ru/sale/flat/279555650/</td>\n",
       "      <td>Продается уютная светлая теплая укомллектованная 1 комнатная квартира в Гагаринском районе. Тихий двор, дом и подъезд после капитального ремонта. Хорошие соседи. Комната небольшая, но вместительная, благодаря квадратной форме. Зато большие кухня, лоджия, прихожая. В прихожей установлен большой шкаф-купе. Квартира ждет нового хозяина.\\nРазвитая инфраструктура: магазины, школы и садики.\\nЗвоните!\\n\\nЛот 332843</td>\n",
       "      <td>50</td>\n",
       "      <td>2022-11-07 10:47:14.221933</td>\n",
       "    </tr>\n",
       "    <tr>\n",
       "      <th>434</th>\n",
       "      <td>3-комн. кв., 76,24 м², 1/9 этаж</td>\n",
       "      <td>Сдача корпуса 3 кв. 2025</td>\n",
       "      <td>сдача ГК: 3 кв. 2025 года</td>\n",
       "      <td>8 767 600 ₽</td>\n",
       "      <td>115 000 ₽/м²</td>\n",
       "      <td>[Севастополь, р-н Гагаринский, улица Братьев Манганари, 30к1]</td>\n",
       "      <td>[2 недели назад, 18 окт, 01:04]</td>\n",
       "      <td>https://sevastopol.cian.ru/sale/flat/277315615/</td>\n",
       "      <td>КВАРТИРЫ НАПРЯМУЮ ОТ ЗАСТРОЙЩИКА! \\n\\nУЛУЧШЕННЫЙ ПРОЕКТ ЖК \"PORTO FRANCO\"\\n\\nСрок сдачи 3 квартал 2025 \\n\\n3-комнатная квартира в новом жилом комплексе у МОРЯ - на Западном берегу Камышовой бухты г. Севастополя! \\n\\nОбщая площадь 73 м², все комнаты раздельные - 17,5 ; 16,5 и 10 м2, просторная кухня 10м2, ванная с окном, застекленная лоджия 4,5 м2. \\n\\nВ КВАРТИРЕ: \\n\\n- качественная стяжка пола \\n- двухконтурный газовый котел \\n- все счетчики \\n- радиаторы в комнатах и на кухне \\n- стеклопакеты \\n- качественная металлическая дверь \\n- розетки, выключатели \\n\\nЖИЛОЙ КОМПЛЕКС НАХОДИТСЯ В 300 МЕТРАХ У МОРЯ: \\n\\n- Вид прекрасный - 150 градусов видно море! \\n- Возможность каждый день гулять у моря и даже купаться - шаговая доступность к морю! \\n- Уединенность - нет шумных трасс и магистралей \\n- Атмосфера настоящей жизни у моря - морские закаты, уходящие в море корабли, маяк \\n\\nЖИВИТЕ У МОРЯ ПО-НАСТОЯЩЕМУ! \\n\\nОТКРЫТЫ ПРЕДПРОДАЖИ! УСПЕВАЙТЕ БРОНИРОВАТЬ! \\n\\nПолучить всю информацию по остаткам, записаться на просмотр а также, забронировать квартиру можно по телефону и в отделе продаж!</td>\n",
       "      <td>16</td>\n",
       "      <td>2022-11-07 10:47:14.221933</td>\n",
       "    </tr>\n",
       "  </tbody>\n",
       "</table>\n",
       "</div>"
      ],
      "text/plain": [
       "                           OfferTitle             OfferSubtitle  \\\n",
       "913      2-комн. кв., 45 м², 5/5 этаж                             \n",
       "1361     1-комн. кв., 33 м², 6/9 этаж                             \n",
       "434   3-комн. кв., 76,24 м², 1/9 этаж  Сдача корпуса 3 кв. 2025   \n",
       "\n",
       "                       Deadline    MainPrice     PriceInfo  \\\n",
       "913                              7 000 000 ₽  155 556 ₽/м²   \n",
       "1361                             5 200 000 ₽  157 576 ₽/м²   \n",
       "434   сдача ГК: 3 кв. 2025 года  8 767 600 ₽  115 000 ₽/м²   \n",
       "\n",
       "                                                                           GeoLabel  \\\n",
       "913   [Севастополь, р-н Ленинский, мкр. Острякова, проспект Генерала Острякова, 94]   \n",
       "1361                   [Севастополь, р-н Гагаринский, мкр. 5-й, улица Косарева, 18]   \n",
       "434                   [Севастополь, р-н Гагаринский, улица Братьев Манганари, 30к1]   \n",
       "\n",
       "                            TimeLabel  \\\n",
       "913   [2 недели назад, 22 окт, 12:29]   \n",
       "1361  [пять дней назад, 1 ноя, 10:54]   \n",
       "434   [2 недели назад, 18 окт, 01:04]   \n",
       "\n",
       "                                             LinkArea  \\\n",
       "913   https://sevastopol.cian.ru/sale/flat/273342278/   \n",
       "1361  https://sevastopol.cian.ru/sale/flat/279555650/   \n",
       "434   https://sevastopol.cian.ru/sale/flat/277315615/   \n",
       "\n",
       "                                                                                                                                                                                                                                                                                                                                                                                                                                                                                                                                                                                                                                                                                                                                                                                                                                                                                                                                                                                                                                                                                                                                                                                                                                                                                                                                                                                                                                                                                                                                                                                                                                                                                                                                                                                                                             Description  \\\n",
       "913   Двухкомнатная квартира 45,3 м2, на 5/5 этаже дома. Расположена в г. Севастополь, Ленинский район, пр-кт Генерала Острякова, д. 94.\\nКвартира идеально подойдёт для семьи с детьми.\\nПозвоните нам, чтобы узнать все детали! \\nТехнические характеристики: \\n \\n-Адрес: г. Севастополь, Ленинский район, пр-кт Генерала Острякова, д. 94\\n-Год постройки дома: 1966\\n-Этаж/этажность: 5/5\\n-Количество комнат: 2\\n-Комнаты: изолированные \\n-Общая площадь: 45,3 м2\\n-Жилая площадь: 28 м2\\n-Комната: 17 и 11 м2\\n-Площадь кухни: 6,6 м2\\n-Высота потолка: 3 м \\n-Санузел: совмещенный \\n-Водоснабжение: центральное \\n-Горячее водоснабжение: газовая колонка \\n-Отопление: центральное \\nДополнительная информация: \\nОбщая площадь квартиры 45.3 м2, жилая 28м2. Квартира имеет две изолированные комнаты 17 м2 и 11 м2, кухню 6,6 м2, просторную вместительную прихожую, а также большой утепленный балкон.\\nВыполнен качественный ремонт, что позволит сразу заехать и наслаждаться комфортной в новой квартире. Квартира оборудована газовой колонкой, что обеспечит бесперебойную подачу горячей воды и позволит существенно экономить на коммунальных платежах.\\nПозвоните нам, чтобы назначить просмотр! \\nИнфраструктура: \\nДом находится в районе с развитой инфраструктурой, до остановки общественного транспорта 150 метров. В непосредственной близости от дома располагаются школы, детские сады, продовольственный магазины, аптеки, ТЦ \"Московский\", новые отреставрированный парки и скверы, отделения банков и многое другое.\\nПодходит для наличного расчета, под гражданскую ипотеку, материнский капитал, жилищные сертификаты. \\nДокументы РФ проверены юристами и готовы к сделке. \\nПрофессиональное сопровождение до получения права собственности.\\nДобавьте предложение в закладки, чтобы не потерять!   \n",
       "1361                                                                                                                                                                                                                                                                                                                                                                                                                                                                                                                                                                                                                                                                                                                                                                                                                                                                                                                                                                                                                                                                                                                                                                                                                                                                                                                                                                                                         Продается уютная светлая теплая укомллектованная 1 комнатная квартира в Гагаринском районе. Тихий двор, дом и подъезд после капитального ремонта. Хорошие соседи. Комната небольшая, но вместительная, благодаря квадратной форме. Зато большие кухня, лоджия, прихожая. В прихожей установлен большой шкаф-купе. Квартира ждет нового хозяина.\\nРазвитая инфраструктура: магазины, школы и садики.\\nЗвоните!\\n\\nЛот 332843   \n",
       "434                                                                                                                                                                                                                                                                                                                                                                                                                                                                                                                                                                                                                                                                                              КВАРТИРЫ НАПРЯМУЮ ОТ ЗАСТРОЙЩИКА! \\n\\nУЛУЧШЕННЫЙ ПРОЕКТ ЖК \"PORTO FRANCO\"\\n\\nСрок сдачи 3 квартал 2025 \\n\\n3-комнатная квартира в новом жилом комплексе у МОРЯ - на Западном берегу Камышовой бухты г. Севастополя! \\n\\nОбщая площадь 73 м², все комнаты раздельные - 17,5 ; 16,5 и 10 м2, просторная кухня 10м2, ванная с окном, застекленная лоджия 4,5 м2. \\n\\nВ КВАРТИРЕ: \\n\\n- качественная стяжка пола \\n- двухконтурный газовый котел \\n- все счетчики \\n- радиаторы в комнатах и на кухне \\n- стеклопакеты \\n- качественная металлическая дверь \\n- розетки, выключатели \\n\\nЖИЛОЙ КОМПЛЕКС НАХОДИТСЯ В 300 МЕТРАХ У МОРЯ: \\n\\n- Вид прекрасный - 150 градусов видно море! \\n- Возможность каждый день гулять у моря и даже купаться - шаговая доступность к морю! \\n- Уединенность - нет шумных трасс и магистралей \\n- Атмосфера настоящей жизни у моря - морские закаты, уходящие в море корабли, маяк \\n\\nЖИВИТЕ У МОРЯ ПО-НАСТОЯЩЕМУ! \\n\\nОТКРЫТЫ ПРЕДПРОДАЖИ! УСПЕВАЙТЕ БРОНИРОВАТЬ! \\n\\nПолучить всю информацию по остаткам, записаться на просмотр а также, забронировать квартиру можно по телефону и в отделе продаж!   \n",
       "\n",
       "      page                         ts  \n",
       "913     34 2022-11-07 10:47:14.221933  \n",
       "1361    50 2022-11-07 10:47:14.221933  \n",
       "434     16 2022-11-07 10:47:14.221933  "
      ]
     },
     "execution_count": 6,
     "metadata": {},
     "output_type": "execute_result"
    }
   ],
   "source": [
    "df.sample(3)"
   ]
  },
  {
   "cell_type": "code",
   "execution_count": 7,
   "id": "6b6e1d34",
   "metadata": {},
   "outputs": [
    {
     "name": "stdout",
     "output_type": "stream",
     "text": [
      "1495\n",
      "1462\n"
     ]
    }
   ],
   "source": [
    "print(len(df))\n",
    "df = pd.DataFrame(df).dropna().drop_duplicates(['LinkArea','Description',]).reset_index(drop=True)\n",
    "print(len(df))"
   ]
  },
  {
   "cell_type": "code",
   "execution_count": 8,
   "id": "76af0a8e",
   "metadata": {},
   "outputs": [],
   "source": [
    "df['place']=place"
   ]
  },
  {
   "cell_type": "code",
   "execution_count": 9,
   "id": "27150829",
   "metadata": {},
   "outputs": [],
   "source": [
    "ts = dtm.now().strftime('%Y-%m-%d_%H-%M')\n",
    "assert len(df)>0\n",
    "# df.to_excel(f'{raw_data_path}/cian_{ts}_raw.xlsx',index=False)\n",
    "df.to_pickle(f'{raw_data_path}/cian_{ts}_raw.pkl')"
   ]
  },
  {
   "cell_type": "markdown",
   "id": "b1c773fc",
   "metadata": {},
   "source": [
    "----"
   ]
  },
  {
   "cell_type": "code",
   "execution_count": 10,
   "id": "3375a88f",
   "metadata": {},
   "outputs": [],
   "source": [
    "# df = pd.read_excel('data/raw/cian/cian_2022-09-08_13-49_raw.xlsx')"
   ]
  },
  {
   "cell_type": "code",
   "execution_count": 11,
   "id": "a1a04f5b",
   "metadata": {},
   "outputs": [],
   "source": [
    "# df"
   ]
  },
  {
   "cell_type": "code",
   "execution_count": 12,
   "id": "cb1cfae9",
   "metadata": {},
   "outputs": [],
   "source": [
    "# df['GeoLabel'].apply( lambda s : len(s) ) #', '.join(s) )\n",
    "\n",
    "# s = ['Севастополь', 'р-н Гагаринский', 'Казачья Бухта мкр', 'Скифия ЖК']\n",
    "# ', '.join(s)"
   ]
  },
  {
   "cell_type": "code",
   "execution_count": 13,
   "id": "4354558d",
   "metadata": {},
   "outputs": [],
   "source": [
    "# from lib.cian import CianDataCleaner\n",
    "\n",
    "# CianDataCleaner().transform(df)"
   ]
  },
  {
   "cell_type": "markdown",
   "id": "c12f900f",
   "metadata": {},
   "source": [
    "----"
   ]
  },
  {
   "cell_type": "code",
   "execution_count": 14,
   "id": "f2f98ed9",
   "metadata": {},
   "outputs": [],
   "source": [
    "# with open('tmp/cian.html','wt') as f: f.write(html[0])"
   ]
  }
 ],
 "metadata": {
  "kernelspec": {
   "display_name": "Python 3 (ipykernel)",
   "language": "python",
   "name": "python3"
  },
  "language_info": {
   "codemirror_mode": {
    "name": "ipython",
    "version": 3
   },
   "file_extension": ".py",
   "mimetype": "text/x-python",
   "name": "python",
   "nbconvert_exporter": "python",
   "pygments_lexer": "ipython3",
   "version": "3.10.8"
  },
  "toc": {
   "base_numbering": 1,
   "nav_menu": {},
   "number_sections": true,
   "sideBar": true,
   "skip_h1_title": false,
   "title_cell": "Table of Contents",
   "title_sidebar": "Contents",
   "toc_cell": false,
   "toc_position": {},
   "toc_section_display": true,
   "toc_window_display": false
  }
 },
 "nbformat": 4,
 "nbformat_minor": 5
}
