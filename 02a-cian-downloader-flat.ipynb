{
 "cells": [
  {
   "cell_type": "markdown",
   "id": "edb73f62",
   "metadata": {},
   "source": [
    "__качаем объявления о продаже квартир с циан.ru__\n",
    "\n",
    "_Evgeny S. Borisov <parser@mechanoid.su>_"
   ]
  },
  {
   "cell_type": "code",
   "execution_count": 1,
   "id": "8e37d325",
   "metadata": {},
   "outputs": [],
   "source": [
    "import sys\n",
    "import re\n",
    "import logging\n",
    "from datetime import datetime as dtm\n",
    "from tqdm.notebook import tqdm\n",
    "import pandas as pd\n",
    "from bs4 import BeautifulSoup\n",
    "from time import sleep\n",
    "from random import random"
   ]
  },
  {
   "cell_type": "code",
   "execution_count": 2,
   "id": "202ec0cb",
   "metadata": {},
   "outputs": [],
   "source": [
    "pd.set_option('display.max_colwidth', None)\n",
    "pd.set_option('display.float_format', '{:.2f}'.format)\n",
    "tqdm.pandas()\n",
    "\n",
    "logging.basicConfig(\n",
    "        format=u'[%(levelname)-8s] %(asctime)s | %(message)s',\n",
    "        datefmt='%Y-%m-%d %H:%M:%S',\n",
    "        level=logging.INFO,\n",
    "        # level=logging.DEBUG,\n",
    "        stream=sys.stdout,\n",
    "    )"
   ]
  },
  {
   "cell_type": "code",
   "execution_count": 3,
   "id": "3411b55d",
   "metadata": {},
   "outputs": [],
   "source": [
    "raw_data_path = 'data/raw/flat/cian' # каталог с файлами объявлений"
   ]
  },
  {
   "cell_type": "code",
   "execution_count": 4,
   "id": "b036cb34",
   "metadata": {},
   "outputs": [],
   "source": [
    "profile_path = '/home/mechanoid/.mozilla/firefox/p144xo2m.default-release'\n",
    "# base_url, req_param = 'https://sevastopol.cian.ru/kupit-kvartiru/', ''\n",
    "place = 'sevastopol'\n",
    "base_url, req_param ='https://www.cian.ru/cat.php', 'deal_type=sale&offer_type=flat&region=184723'"
   ]
  },
  {
   "cell_type": "code",
   "execution_count": 5,
   "id": "3e42986b",
   "metadata": {},
   "outputs": [
    {
     "name": "stdout",
     "output_type": "stream",
     "text": [
      "[INFO    ] 2022-09-22 09:43:36 | DownloaderSeleniumFirefox: downloader init\n",
      "[INFO    ] 2022-09-22 09:43:36 | DownloaderSeleniumFirefox: open virtual browser\n",
      "[INFO    ] 2022-09-22 09:43:39 | AdsListParser: downloader init\n",
      "[INFO    ] 2022-09-22 09:43:39 | CianParser: downloader init\n",
      "[INFO    ] 2022-09-22 09:43:39 | AdsListParser: start read and parse pages...\n",
      "[INFO    ] 2022-09-22 09:43:54 | AdsListParser: read page 1\n",
      "[INFO    ] 2022-09-22 09:44:00 | AdsListParser: read page 2\n",
      "[INFO    ] 2022-09-22 09:44:08 | AdsListParser: read page 3\n",
      "[INFO    ] 2022-09-22 09:44:18 | AdsListParser: read page 4\n",
      "[INFO    ] 2022-09-22 09:44:31 | AdsListParser: read page 5\n",
      "[INFO    ] 2022-09-22 09:44:42 | AdsListParser: read page 6\n",
      "[INFO    ] 2022-09-22 09:44:58 | AdsListParser: read page 7\n",
      "[INFO    ] 2022-09-22 09:45:10 | AdsListParser: read page 8\n",
      "[INFO    ] 2022-09-22 09:45:21 | AdsListParser: read page 9\n",
      "[INFO    ] 2022-09-22 09:45:30 | AdsListParser: read page 10\n",
      "[INFO    ] 2022-09-22 09:45:44 | AdsListParser: read page 11\n",
      "[INFO    ] 2022-09-22 09:45:58 | AdsListParser: read page 12\n",
      "[INFO    ] 2022-09-22 09:46:11 | AdsListParser: read page 13\n",
      "[INFO    ] 2022-09-22 09:46:21 | AdsListParser: read page 14\n",
      "[INFO    ] 2022-09-22 09:46:31 | AdsListParser: read page 15\n",
      "[INFO    ] 2022-09-22 09:46:47 | AdsListParser: read page 16\n",
      "[INFO    ] 2022-09-22 09:46:59 | AdsListParser: read page 17\n",
      "[INFO    ] 2022-09-22 09:47:10 | AdsListParser: read page 18\n",
      "[INFO    ] 2022-09-22 09:47:22 | AdsListParser: read page 19\n",
      "[INFO    ] 2022-09-22 09:47:28 | AdsListParser: read page 20\n",
      "[INFO    ] 2022-09-22 09:47:36 | AdsListParser: read page 21\n",
      "[INFO    ] 2022-09-22 09:47:50 | AdsListParser: read page 22\n",
      "[INFO    ] 2022-09-22 09:48:00 | AdsListParser: read page 23\n",
      "[INFO    ] 2022-09-22 09:48:10 | AdsListParser: read page 24\n",
      "[INFO    ] 2022-09-22 09:48:21 | AdsListParser: read page 25\n",
      "[INFO    ] 2022-09-22 09:48:25 | AdsListParser: read page 26\n",
      "[INFO    ] 2022-09-22 09:48:38 | AdsListParser: read page 27\n",
      "[INFO    ] 2022-09-22 09:48:50 | AdsListParser: read page 28\n",
      "[INFO    ] 2022-09-22 09:49:00 | AdsListParser: read page 29\n",
      "[INFO    ] 2022-09-22 09:49:11 | AdsListParser: read page 30\n",
      "[INFO    ] 2022-09-22 09:49:26 | AdsListParser: read page 31\n",
      "[INFO    ] 2022-09-22 09:49:39 | AdsListParser: read page 32\n",
      "[INFO    ] 2022-09-22 09:49:53 | AdsListParser: read page 33\n",
      "[INFO    ] 2022-09-22 09:50:08 | AdsListParser: read page 34\n",
      "[INFO    ] 2022-09-22 09:50:24 | AdsListParser: read page 35\n",
      "[INFO    ] 2022-09-22 09:50:30 | AdsListParser: read page 36\n",
      "[INFO    ] 2022-09-22 09:50:45 | AdsListParser: read page 37\n",
      "[INFO    ] 2022-09-22 09:50:53 | AdsListParser: read page 38\n",
      "[INFO    ] 2022-09-22 09:51:01 | AdsListParser: read page 39\n",
      "[INFO    ] 2022-09-22 09:51:11 | AdsListParser: read page 40\n",
      "[INFO    ] 2022-09-22 09:51:25 | AdsListParser: read page 41\n",
      "[INFO    ] 2022-09-22 09:51:38 | AdsListParser: read page 42\n",
      "[INFO    ] 2022-09-22 09:51:50 | AdsListParser: read page 43\n",
      "[INFO    ] 2022-09-22 09:51:58 | AdsListParser: read page 44\n",
      "[INFO    ] 2022-09-22 09:52:07 | AdsListParser: read page 45\n",
      "[INFO    ] 2022-09-22 09:52:19 | AdsListParser: read page 46\n",
      "[INFO    ] 2022-09-22 09:52:29 | AdsListParser: read page 47\n",
      "[INFO    ] 2022-09-22 09:52:43 | AdsListParser: read page 48\n",
      "[INFO    ] 2022-09-22 09:52:56 | AdsListParser: read page 49\n",
      "[INFO    ] 2022-09-22 09:53:07 | AdsListParser: read page 50\n",
      "[INFO    ] 2022-09-22 09:53:12 | AdsListParser: read page 51\n",
      "[INFO    ] 2022-09-22 09:53:21 | AdsListParser: read page 52\n",
      "[INFO    ] 2022-09-22 09:53:34 | AdsListParser: read page 53\n",
      "[INFO    ] 2022-09-22 09:53:39 | AdsListParser: read page 54\n",
      "[INFO    ] 2022-09-22 09:53:39 | AdsListParser: last page detected\n",
      "[INFO    ] 2022-09-22 09:53:40 | DownloaderSeleniumFirefox: close virtual browser\n",
      "1509\n",
      "CPU times: user 13.2 s, sys: 361 ms, total: 13.5 s\n",
      "Wall time: 10min 3s\n"
     ]
    }
   ],
   "source": [
    "%%time\n",
    "\n",
    "# from lib.downloader import DownloaderSimple\n",
    "# from lib.parser import AdsListParser\n",
    "from lib.downloader import DownloaderSeleniumFirefox\n",
    "from lib.cian import CianParser\n",
    "\n",
    "\n",
    "df,html = CianParser(\n",
    "        base_url = base_url,\n",
    "        driver=DownloaderSeleniumFirefox(profile_path),\n",
    "        # driver=DownloaderSimple(),\n",
    "    ).load(req_param=req_param, keep_html=True) # , npage_start=53) # , page_limit=3 ) #\n",
    "\n",
    "print(len(df))"
   ]
  },
  {
   "cell_type": "code",
   "execution_count": 6,
   "id": "042e3e74",
   "metadata": {},
   "outputs": [
    {
     "data": {
      "text/html": [
       "<div>\n",
       "<style scoped>\n",
       "    .dataframe tbody tr th:only-of-type {\n",
       "        vertical-align: middle;\n",
       "    }\n",
       "\n",
       "    .dataframe tbody tr th {\n",
       "        vertical-align: top;\n",
       "    }\n",
       "\n",
       "    .dataframe thead th {\n",
       "        text-align: right;\n",
       "    }\n",
       "</style>\n",
       "<table border=\"1\" class=\"dataframe\">\n",
       "  <thead>\n",
       "    <tr style=\"text-align: right;\">\n",
       "      <th></th>\n",
       "      <th>OfferTitle</th>\n",
       "      <th>OfferSubtitle</th>\n",
       "      <th>Deadline</th>\n",
       "      <th>MainPrice</th>\n",
       "      <th>PriceInfo</th>\n",
       "      <th>GeoLabel</th>\n",
       "      <th>TimeLabel</th>\n",
       "      <th>LinkArea</th>\n",
       "      <th>Description</th>\n",
       "      <th>page</th>\n",
       "      <th>ts</th>\n",
       "    </tr>\n",
       "  </thead>\n",
       "  <tbody>\n",
       "    <tr>\n",
       "      <th>225</th>\n",
       "      <td>Апартаменты-студия, 25 м², 5/5 этаж</td>\n",
       "      <td></td>\n",
       "      <td></td>\n",
       "      <td>5 700 000 ₽</td>\n",
       "      <td>228 000 ₽/м²</td>\n",
       "      <td>[Севастополь, р-н Гагаринский, мкр. Стрелецкая бухта, улица Рыбацкий Причал, 6к2]</td>\n",
       "      <td>[вчера, вчера, 17:55]</td>\n",
       "      <td>https://sevastopol.cian.ru/sale/flat/269566437/</td>\n",
       "      <td>Продам море удачи или дачу у моря!\\nВ продаже апартаменты на берегу Стрелецкой бухты города Севастополя.\\nАпартаменты - студия площадью 25 м2 с кухонной зоной\\nСанузел совмещенный.\\nВыполнен косметический ремонт. Студия укомплектована всей необходимой мебелью и техникой. Для обеспечения горячей водой установлен бойлер, контроль температуры помещения - кондиционер.\\nДанные апартаменты расположены на закрытой территории Яхт-клуба с круглосуточной охраной на первой линии от моря. Отлично подходят для отдыха и проживания в чудесном районе на берегу Черного моря,\\nАпартамены подходят для круглогодичной сдачи в аренду.\\nОтличный вариант для владельцев маломерных судов и любителей рыбалки!\\nВ шаговой доступности конечная остановка городского маршрутного транспорта (автобус  400), продуктовые магазины.\\nБлижайшие пляжи: оборудованные - Песочный и Солнечный, дикий пляж -Красные камни.\\nЛучшие места для проведения отдыха на берегу в данной локации: парк Победы, Сквер севастопольских курсантов, парк и. А.Ахматовой!\\nБЕЗ КОМИССИИ ДЛЯ ПОКУПАТЕЛЯ!\\nЗВОНИТЕ СРОЧНО! Оперативно покажем красоту и комфорт данного уголка Севастополя!\\n\\nЛот 204521</td>\n",
       "      <td>9</td>\n",
       "      <td>2022-09-22 09:53:39.964462</td>\n",
       "    </tr>\n",
       "    <tr>\n",
       "      <th>241</th>\n",
       "      <td>2-комн. кв., 66,2 м², 5/6 этаж</td>\n",
       "      <td></td>\n",
       "      <td></td>\n",
       "      <td>12 900 000 ₽</td>\n",
       "      <td>194 864 ₽/м²</td>\n",
       "      <td>[Севастополь, р-н Гагаринский, мкр. Стрелецкая бухта, улица Тульская, 3]</td>\n",
       "      <td>[30 минут назад, сегодня, 09:07]</td>\n",
       "      <td>https://sevastopol.cian.ru/sale/flat/277421171/</td>\n",
       "      <td>Лучшее предложение по цене! Акция действует до 05.10.2022 г.!!!\\n\\nИнфраструктура: \\n\\nУдобное месторасположение, вблизи исторического центра города и административного центра. В шаговой доступности: хорошая школа-гимназия  24 со своим плавательным бассейном, детский сад, Медицинский колледж, школа-лицей, поликлиника, рынок, магазины, супермаркет БУМ, ТЦ Муссон, Лаванда, спортивный комплекс, кинотеатр и т.д. В пешей доступности расположены музей-заповедник Херсонес Таврический, а также лучшие городские пляжи Песочный и Солнечный, новый эстетичный парк им. Анны Ахматовой. Комфортная транспортная развязка, легко можно добраться в любую часть города или быстро выехать из него. \\n\\nХарактеристика: \\n\\nДом 2006 г., 6-этажный, из инкерманского блока шириной 60 см, застройщик  строительная компания \"Агат-А\". \\n\\nДвор просторный, много мест для парковки не только Вам, но и Вашим гостям. Чистый благоустроенный, в ближайшей перспективе  закрытый, размещены видеокамеры по периметру для Вашего спокойствия и безопасности (все взносы произведены). Установлен видеодомофон. \\n\\nЧистый уютный подъезд. Всего 3 квартиры на этаже. 5-й этаж  идеален, не течет крыша, никто не стучит в окна. \\n\\n2- комнатная квартира, расположение комнат  угловая бабочка  обзор на две стороны дома.  \\n\\nКачественный евроремонт произведен в 2015 г.: на стенах венецианская штукатурка, натяжной потолок. На полу ламинат, в коридоре и санузле  кафель. Квартира в безупречном состоянии, полностью готова для Вас. \\n\\nОстается полностью оборудованная кухня: встроенная мебель, духовая плита, вытяжка, Качественная мебель в комнатах, 2 кондиционера: в спальне и на кухне. Произведена перепланировка: спальня и кухня совмещены с балконами. Есть гардеробная, что очень экономит пространство и облегчает жизнь. В подвальном помещении  своя ячейка 17 м2. \\n\\nКоммуникации: двухконтурный газовый котел Pantera с терморегулятором (по всей квартире установлены радиаторы). \\n\\nЭта квартира - идеальный баланс между функциональностью, красотой и комфортом. Интерьер квартиры в сдержанной гамме, которая поддерживает стиль открытого пространства и много воздуха. \\n\\nДокументы готовы для сделки, любая форма расчета. \\n\\nС удовольствием проведем показ! Всегда на связи!\\n\\nЛот 731</td>\n",
       "      <td>9</td>\n",
       "      <td>2022-09-22 09:53:39.964462</td>\n",
       "    </tr>\n",
       "    <tr>\n",
       "      <th>1470</th>\n",
       "      <td>Апартаменты-студия, 26 м², 3/4 этаж</td>\n",
       "      <td></td>\n",
       "      <td></td>\n",
       "      <td>5 950 000 ₽</td>\n",
       "      <td>228 846 ₽/м²</td>\n",
       "      <td>[Севастополь, р-н Гагаринский, мкр. Омега, улица Челнокова, 19Ак1]</td>\n",
       "      <td>[вчера, вчера, 23:32]</td>\n",
       "      <td>https://sevastopol.cian.ru/sale/flat/278405867/</td>\n",
       "      <td>Продам апартаменты 25 м кв. Корпус сдан в июле 2019. Третий этаж (корпус 4х этажный). Есть лифт. Территория благоустроена. Охрана, парковка. 70 метров от благоустроенного пляжа с шезлонгами, детской и спортивной площадками, кафе. В радиусе 1-1,5 км вся городская инфраструктура на любой вкус и кошелек.\\nВ комнате диван-кровать (2 места) и кресло-кровать(1 место для ребенка), комод, стол, стулья.\\nШкаф купе, холодильник, бойлер, душевая кабина, стиральная машина, кондиционер, электроплита, микроволновка, электрический чайник, посудомоечная машина, набор посуды, Wi-Fi, телевизор 49\", IPTV.\\nЛоджия с видом на море.\\n . Номер в базе: 8317934.</td>\n",
       "      <td>53</td>\n",
       "      <td>2022-09-22 09:53:39.964462</td>\n",
       "    </tr>\n",
       "  </tbody>\n",
       "</table>\n",
       "</div>"
      ],
      "text/plain": [
       "                               OfferTitle OfferSubtitle Deadline  \\\n",
       "225   Апартаменты-студия, 25 м², 5/5 этаж                          \n",
       "241        2-комн. кв., 66,2 м², 5/6 этаж                          \n",
       "1470  Апартаменты-студия, 26 м², 3/4 этаж                          \n",
       "\n",
       "         MainPrice     PriceInfo  \\\n",
       "225    5 700 000 ₽  228 000 ₽/м²   \n",
       "241   12 900 000 ₽  194 864 ₽/м²   \n",
       "1470   5 950 000 ₽  228 846 ₽/м²   \n",
       "\n",
       "                                                                               GeoLabel  \\\n",
       "225   [Севастополь, р-н Гагаринский, мкр. Стрелецкая бухта, улица Рыбацкий Причал, 6к2]   \n",
       "241            [Севастополь, р-н Гагаринский, мкр. Стрелецкая бухта, улица Тульская, 3]   \n",
       "1470                 [Севастополь, р-н Гагаринский, мкр. Омега, улица Челнокова, 19Ак1]   \n",
       "\n",
       "                             TimeLabel  \\\n",
       "225              [вчера, вчера, 17:55]   \n",
       "241   [30 минут назад, сегодня, 09:07]   \n",
       "1470             [вчера, вчера, 23:32]   \n",
       "\n",
       "                                             LinkArea  \\\n",
       "225   https://sevastopol.cian.ru/sale/flat/269566437/   \n",
       "241   https://sevastopol.cian.ru/sale/flat/277421171/   \n",
       "1470  https://sevastopol.cian.ru/sale/flat/278405867/   \n",
       "\n",
       "                                                                                                                                                                                                                                                                                                                                                                                                                                                                                                                                                                                                                                                                                                                                                                                                                                                                                                                                                                                                                                                                                                                                                                                                                                                                                                                                                                                                                                                                                                                                                                                                                                                                                                                                                                                                                                                                                                                                                                                                                                                                                                                                                                                                                                                                                                                                  Description  \\\n",
       "225                                                                                                                                                                                                                                                                                                                                                                                                                                                                                                                                                                                                                                                                                                                                                                                                                                                                                                                                                                                                                                                                                                                                                 Продам море удачи или дачу у моря!\\nВ продаже апартаменты на берегу Стрелецкой бухты города Севастополя.\\nАпартаменты - студия площадью 25 м2 с кухонной зоной\\nСанузел совмещенный.\\nВыполнен косметический ремонт. Студия укомплектована всей необходимой мебелью и техникой. Для обеспечения горячей водой установлен бойлер, контроль температуры помещения - кондиционер.\\nДанные апартаменты расположены на закрытой территории Яхт-клуба с круглосуточной охраной на первой линии от моря. Отлично подходят для отдыха и проживания в чудесном районе на берегу Черного моря,\\nАпартамены подходят для круглогодичной сдачи в аренду.\\nОтличный вариант для владельцев маломерных судов и любителей рыбалки!\\nВ шаговой доступности конечная остановка городского маршрутного транспорта (автобус  400), продуктовые магазины.\\nБлижайшие пляжи: оборудованные - Песочный и Солнечный, дикий пляж -Красные камни.\\nЛучшие места для проведения отдыха на берегу в данной локации: парк Победы, Сквер севастопольских курсантов, парк и. А.Ахматовой!\\nБЕЗ КОМИССИИ ДЛЯ ПОКУПАТЕЛЯ!\\nЗВОНИТЕ СРОЧНО! Оперативно покажем красоту и комфорт данного уголка Севастополя!\\n\\nЛот 204521   \n",
       "241   Лучшее предложение по цене! Акция действует до 05.10.2022 г.!!!\\n\\nИнфраструктура: \\n\\nУдобное месторасположение, вблизи исторического центра города и административного центра. В шаговой доступности: хорошая школа-гимназия  24 со своим плавательным бассейном, детский сад, Медицинский колледж, школа-лицей, поликлиника, рынок, магазины, супермаркет БУМ, ТЦ Муссон, Лаванда, спортивный комплекс, кинотеатр и т.д. В пешей доступности расположены музей-заповедник Херсонес Таврический, а также лучшие городские пляжи Песочный и Солнечный, новый эстетичный парк им. Анны Ахматовой. Комфортная транспортная развязка, легко можно добраться в любую часть города или быстро выехать из него. \\n\\nХарактеристика: \\n\\nДом 2006 г., 6-этажный, из инкерманского блока шириной 60 см, застройщик  строительная компания \"Агат-А\". \\n\\nДвор просторный, много мест для парковки не только Вам, но и Вашим гостям. Чистый благоустроенный, в ближайшей перспективе  закрытый, размещены видеокамеры по периметру для Вашего спокойствия и безопасности (все взносы произведены). Установлен видеодомофон. \\n\\nЧистый уютный подъезд. Всего 3 квартиры на этаже. 5-й этаж  идеален, не течет крыша, никто не стучит в окна. \\n\\n2- комнатная квартира, расположение комнат  угловая бабочка  обзор на две стороны дома.  \\n\\nКачественный евроремонт произведен в 2015 г.: на стенах венецианская штукатурка, натяжной потолок. На полу ламинат, в коридоре и санузле  кафель. Квартира в безупречном состоянии, полностью готова для Вас. \\n\\nОстается полностью оборудованная кухня: встроенная мебель, духовая плита, вытяжка, Качественная мебель в комнатах, 2 кондиционера: в спальне и на кухне. Произведена перепланировка: спальня и кухня совмещены с балконами. Есть гардеробная, что очень экономит пространство и облегчает жизнь. В подвальном помещении  своя ячейка 17 м2. \\n\\nКоммуникации: двухконтурный газовый котел Pantera с терморегулятором (по всей квартире установлены радиаторы). \\n\\nЭта квартира - идеальный баланс между функциональностью, красотой и комфортом. Интерьер квартиры в сдержанной гамме, которая поддерживает стиль открытого пространства и много воздуха. \\n\\nДокументы готовы для сделки, любая форма расчета. \\n\\nС удовольствием проведем показ! Всегда на связи!\\n\\nЛот 731   \n",
       "1470                                                                                                                                                                                                                                                                                                                                                                                                                                                                                                                                                                                                                                                                                                                                                                                                                                                                                                                                                                                                                                                                                                                                                                                                                                                                                                                                                                                                                                                                                                                                                                                                                                                                    Продам апартаменты 25 м кв. Корпус сдан в июле 2019. Третий этаж (корпус 4х этажный). Есть лифт. Территория благоустроена. Охрана, парковка. 70 метров от благоустроенного пляжа с шезлонгами, детской и спортивной площадками, кафе. В радиусе 1-1,5 км вся городская инфраструктура на любой вкус и кошелек.\\nВ комнате диван-кровать (2 места) и кресло-кровать(1 место для ребенка), комод, стол, стулья.\\nШкаф купе, холодильник, бойлер, душевая кабина, стиральная машина, кондиционер, электроплита, микроволновка, электрический чайник, посудомоечная машина, набор посуды, Wi-Fi, телевизор 49\", IPTV.\\nЛоджия с видом на море.\\n . Номер в базе: 8317934.   \n",
       "\n",
       "      page                         ts  \n",
       "225      9 2022-09-22 09:53:39.964462  \n",
       "241      9 2022-09-22 09:53:39.964462  \n",
       "1470    53 2022-09-22 09:53:39.964462  "
      ]
     },
     "execution_count": 6,
     "metadata": {},
     "output_type": "execute_result"
    }
   ],
   "source": [
    "df.sample(3)"
   ]
  },
  {
   "cell_type": "code",
   "execution_count": 7,
   "id": "6b6e1d34",
   "metadata": {},
   "outputs": [
    {
     "name": "stdout",
     "output_type": "stream",
     "text": [
      "1509\n",
      "1473\n"
     ]
    }
   ],
   "source": [
    "print(len(df))\n",
    "df = pd.DataFrame(df).dropna().drop_duplicates(['LinkArea','Description',]).reset_index(drop=True)\n",
    "print(len(df))"
   ]
  },
  {
   "cell_type": "code",
   "execution_count": 8,
   "id": "76af0a8e",
   "metadata": {},
   "outputs": [],
   "source": [
    "df['place']=place"
   ]
  },
  {
   "cell_type": "code",
   "execution_count": 9,
   "id": "27150829",
   "metadata": {},
   "outputs": [],
   "source": [
    "ts = dtm.now().strftime('%Y-%m-%d_%H-%M')\n",
    "assert len(df)>0\n",
    "# df.to_excel(f'{raw_data_path}/cian_{ts}_raw.xlsx',index=False)\n",
    "df.to_pickle(f'{raw_data_path}/cian_{ts}_raw.pkl')"
   ]
  },
  {
   "cell_type": "markdown",
   "id": "b1c773fc",
   "metadata": {},
   "source": [
    "----"
   ]
  },
  {
   "cell_type": "code",
   "execution_count": 10,
   "id": "3375a88f",
   "metadata": {},
   "outputs": [],
   "source": [
    "# df = pd.read_excel('data/raw/cian/cian_2022-09-08_13-49_raw.xlsx')"
   ]
  },
  {
   "cell_type": "code",
   "execution_count": 11,
   "id": "a1a04f5b",
   "metadata": {},
   "outputs": [],
   "source": [
    "# df"
   ]
  },
  {
   "cell_type": "code",
   "execution_count": 12,
   "id": "cb1cfae9",
   "metadata": {},
   "outputs": [],
   "source": [
    "# df['GeoLabel'].apply( lambda s : len(s) ) #', '.join(s) )\n",
    "\n",
    "# s = ['Севастополь', 'р-н Гагаринский', 'Казачья Бухта мкр', 'Скифия ЖК']\n",
    "# ', '.join(s)"
   ]
  },
  {
   "cell_type": "code",
   "execution_count": 13,
   "id": "4354558d",
   "metadata": {},
   "outputs": [],
   "source": [
    "# from lib.cian import CianDataCleaner\n",
    "\n",
    "# CianDataCleaner().transform(df)"
   ]
  },
  {
   "cell_type": "markdown",
   "id": "c12f900f",
   "metadata": {},
   "source": [
    "----"
   ]
  },
  {
   "cell_type": "code",
   "execution_count": 14,
   "id": "f2f98ed9",
   "metadata": {},
   "outputs": [],
   "source": [
    "# with open('tmp/cian.html','wt') as f: f.write(html[0])"
   ]
  }
 ],
 "metadata": {
  "kernelspec": {
   "display_name": "Python 3 (ipykernel)",
   "language": "python",
   "name": "python3"
  },
  "language_info": {
   "codemirror_mode": {
    "name": "ipython",
    "version": 3
   },
   "file_extension": ".py",
   "mimetype": "text/x-python",
   "name": "python",
   "nbconvert_exporter": "python",
   "pygments_lexer": "ipython3",
   "version": "3.10.6"
  },
  "toc": {
   "base_numbering": 1,
   "nav_menu": {},
   "number_sections": true,
   "sideBar": true,
   "skip_h1_title": false,
   "title_cell": "Table of Contents",
   "title_sidebar": "Contents",
   "toc_cell": false,
   "toc_position": {},
   "toc_section_display": true,
   "toc_window_display": false
  }
 },
 "nbformat": 4,
 "nbformat_minor": 5
}
