{
 "cells": [
  {
   "cell_type": "markdown",
   "id": "edb73f62",
   "metadata": {},
   "source": [
    "__применение парсера объявлений циан.ru__\n",
    "\n",
    "_Evgeny S. Borisov <parser@mechanoid.su>_"
   ]
  },
  {
   "cell_type": "code",
   "execution_count": 1,
   "id": "8e37d325",
   "metadata": {},
   "outputs": [],
   "source": [
    "import sys\n",
    "import re\n",
    "import logging\n",
    "from datetime import datetime as dtm\n",
    "from tqdm.notebook import tqdm\n",
    "import pandas as pd\n",
    "from bs4 import BeautifulSoup\n",
    "from time import sleep\n",
    "from random import random"
   ]
  },
  {
   "cell_type": "code",
   "execution_count": 2,
   "id": "202ec0cb",
   "metadata": {},
   "outputs": [],
   "source": [
    "pd.set_option('display.max_colwidth', None)\n",
    "pd.set_option('display.float_format', '{:.2f}'.format)\n",
    "tqdm.pandas()\n",
    "\n",
    "logging.basicConfig(\n",
    "        format=u'[%(levelname)-8s] %(asctime)s | %(message)s',\n",
    "        datefmt='%Y-%m-%d %H:%M:%S',\n",
    "        level=logging.INFO,\n",
    "        # level=logging.DEBUG,\n",
    "        stream=sys.stdout,\n",
    "    )"
   ]
  },
  {
   "cell_type": "code",
   "execution_count": 3,
   "id": "3411b55d",
   "metadata": {},
   "outputs": [],
   "source": [
    "raw_data_path = 'data/raw/flat/cian' # каталог с файлами объявлений"
   ]
  },
  {
   "cell_type": "code",
   "execution_count": 4,
   "id": "b036cb34",
   "metadata": {},
   "outputs": [],
   "source": [
    "profile_path = '/home/mechanoid/.mozilla/firefox/p144xo2m.default-release'\n",
    "# base_url, req_param = 'https://sevastopol.cian.ru/kupit-kvartiru/', ''\n",
    "base_url, req_param ='https://www.cian.ru/cat.php', 'deal_type=sale&offer_type=flat&region=184723'"
   ]
  },
  {
   "cell_type": "code",
   "execution_count": 5,
   "id": "3e42986b",
   "metadata": {},
   "outputs": [
    {
     "name": "stdout",
     "output_type": "stream",
     "text": [
      "[INFO    ] 2022-09-15 10:20:54 | DownloaderSeleniumFirefox: downloader init\n",
      "[INFO    ] 2022-09-15 10:20:54 | DownloaderSeleniumFirefox: open virtual browser\n",
      "[INFO    ] 2022-09-15 10:20:56 | AdsListParser: downloader init\n",
      "[INFO    ] 2022-09-15 10:20:56 | CianParser: downloader init\n",
      "[INFO    ] 2022-09-15 10:20:56 | AdsListParser: start read and parse pages...\n",
      "[INFO    ] 2022-09-15 10:21:07 | AdsListParser: read page 1\n",
      "[INFO    ] 2022-09-15 10:21:18 | AdsListParser: read page 2\n",
      "[INFO    ] 2022-09-15 10:21:29 | AdsListParser: read page 3\n",
      "[INFO    ] 2022-09-15 10:21:39 | AdsListParser: read page 4\n",
      "[INFO    ] 2022-09-15 10:21:54 | AdsListParser: read page 5\n",
      "[INFO    ] 2022-09-15 10:22:07 | AdsListParser: read page 6\n",
      "[INFO    ] 2022-09-15 10:22:14 | AdsListParser: read page 7\n",
      "[INFO    ] 2022-09-15 10:22:19 | AdsListParser: read page 8\n",
      "[INFO    ] 2022-09-15 10:22:33 | AdsListParser: read page 9\n",
      "[INFO    ] 2022-09-15 10:22:48 | AdsListParser: read page 10\n",
      "[INFO    ] 2022-09-15 10:22:54 | AdsListParser: read page 11\n",
      "[INFO    ] 2022-09-15 10:23:07 | AdsListParser: read page 12\n",
      "[INFO    ] 2022-09-15 10:23:21 | AdsListParser: read page 13\n",
      "[INFO    ] 2022-09-15 10:23:29 | AdsListParser: read page 14\n",
      "[INFO    ] 2022-09-15 10:23:37 | AdsListParser: read page 15\n",
      "[INFO    ] 2022-09-15 10:23:51 | AdsListParser: read page 16\n",
      "[INFO    ] 2022-09-15 10:24:02 | AdsListParser: read page 17\n",
      "[INFO    ] 2022-09-15 10:24:15 | AdsListParser: read page 18\n",
      "[INFO    ] 2022-09-15 10:24:23 | AdsListParser: read page 19\n",
      "[INFO    ] 2022-09-15 10:24:37 | AdsListParser: read page 20\n",
      "[INFO    ] 2022-09-15 10:24:45 | AdsListParser: read page 21\n",
      "[INFO    ] 2022-09-15 10:25:01 | AdsListParser: read page 22\n",
      "[INFO    ] 2022-09-15 10:25:20 | AdsListParser: read page 23\n",
      "[INFO    ] 2022-09-15 10:25:28 | AdsListParser: read page 24\n",
      "[INFO    ] 2022-09-15 10:25:41 | AdsListParser: read page 25\n",
      "[INFO    ] 2022-09-15 10:25:54 | AdsListParser: read page 26\n",
      "[INFO    ] 2022-09-15 10:26:08 | AdsListParser: read page 27\n",
      "[INFO    ] 2022-09-15 10:26:18 | AdsListParser: read page 28\n",
      "[INFO    ] 2022-09-15 10:26:28 | AdsListParser: read page 29\n",
      "[INFO    ] 2022-09-15 10:26:41 | AdsListParser: read page 30\n",
      "[INFO    ] 2022-09-15 10:26:53 | AdsListParser: read page 31\n",
      "[INFO    ] 2022-09-15 10:27:03 | AdsListParser: read page 32\n",
      "[INFO    ] 2022-09-15 10:27:08 | AdsListParser: read page 33\n",
      "[INFO    ] 2022-09-15 10:27:19 | AdsListParser: read page 34\n",
      "[INFO    ] 2022-09-15 10:27:31 | AdsListParser: read page 35\n",
      "[INFO    ] 2022-09-15 10:27:43 | AdsListParser: read page 36\n",
      "[INFO    ] 2022-09-15 10:27:58 | AdsListParser: read page 37\n",
      "[INFO    ] 2022-09-15 10:28:09 | AdsListParser: read page 38\n",
      "[INFO    ] 2022-09-15 10:28:18 | AdsListParser: read page 39\n",
      "[INFO    ] 2022-09-15 10:28:31 | AdsListParser: read page 40\n",
      "[INFO    ] 2022-09-15 10:28:46 | AdsListParser: read page 41\n",
      "[INFO    ] 2022-09-15 10:28:56 | AdsListParser: read page 42\n",
      "[INFO    ] 2022-09-15 10:29:05 | AdsListParser: read page 43\n",
      "[INFO    ] 2022-09-15 10:29:14 | AdsListParser: read page 44\n",
      "[INFO    ] 2022-09-15 10:29:19 | AdsListParser: read page 45\n",
      "[INFO    ] 2022-09-15 10:29:29 | AdsListParser: read page 46\n",
      "[INFO    ] 2022-09-15 10:29:40 | AdsListParser: read page 47\n",
      "[INFO    ] 2022-09-15 10:29:51 | AdsListParser: read page 48\n",
      "[INFO    ] 2022-09-15 10:29:59 | AdsListParser: read page 49\n",
      "[INFO    ] 2022-09-15 10:30:10 | AdsListParser: read page 50\n",
      "[INFO    ] 2022-09-15 10:30:18 | AdsListParser: read page 51\n",
      "[INFO    ] 2022-09-15 10:30:26 | AdsListParser: read page 52\n",
      "[INFO    ] 2022-09-15 10:30:39 | AdsListParser: read page 53\n",
      "[INFO    ] 2022-09-15 10:30:49 | AdsListParser: read page 54\n",
      "[INFO    ] 2022-09-15 10:30:49 | AdsListParser: last page detected\n",
      "[INFO    ] 2022-09-15 10:30:49 | DownloaderSeleniumFirefox: close virtual browser\n",
      "1509\n",
      "CPU times: user 12.5 s, sys: 330 ms, total: 12.8 s\n",
      "Wall time: 9min 55s\n"
     ]
    }
   ],
   "source": [
    "%%time\n",
    "\n",
    "# from lib.downloader import DownloaderSimple\n",
    "# from lib.parser import AdsListParser\n",
    "from lib.downloader import DownloaderSeleniumFirefox\n",
    "from lib.cian import CianParser\n",
    "\n",
    "\n",
    "df,html = CianParser(\n",
    "        base_url = base_url,\n",
    "        driver=DownloaderSeleniumFirefox(profile_path),\n",
    "        # driver=DownloaderSimple(),\n",
    "    ).load(req_param=req_param, keep_html=True) # , npage_start=53) # , page_limit=3 ) #\n",
    "\n",
    "print(len(df))"
   ]
  },
  {
   "cell_type": "code",
   "execution_count": 6,
   "id": "042e3e74",
   "metadata": {},
   "outputs": [
    {
     "data": {
      "text/html": [
       "<div>\n",
       "<style scoped>\n",
       "    .dataframe tbody tr th:only-of-type {\n",
       "        vertical-align: middle;\n",
       "    }\n",
       "\n",
       "    .dataframe tbody tr th {\n",
       "        vertical-align: top;\n",
       "    }\n",
       "\n",
       "    .dataframe thead th {\n",
       "        text-align: right;\n",
       "    }\n",
       "</style>\n",
       "<table border=\"1\" class=\"dataframe\">\n",
       "  <thead>\n",
       "    <tr style=\"text-align: right;\">\n",
       "      <th></th>\n",
       "      <th>OfferTitle</th>\n",
       "      <th>OfferSubtitle</th>\n",
       "      <th>Deadline</th>\n",
       "      <th>MainPrice</th>\n",
       "      <th>PriceInfo</th>\n",
       "      <th>GeoLabel</th>\n",
       "      <th>TimeLabel</th>\n",
       "      <th>LinkArea</th>\n",
       "      <th>Description</th>\n",
       "      <th>page</th>\n",
       "      <th>ts</th>\n",
       "    </tr>\n",
       "  </thead>\n",
       "  <tbody>\n",
       "    <tr>\n",
       "      <th>831</th>\n",
       "      <td>2-комн. кв., 45,3 м², 4/5 этаж</td>\n",
       "      <td></td>\n",
       "      <td></td>\n",
       "      <td>6 300 000 ₽</td>\n",
       "      <td>139 073 ₽/м²</td>\n",
       "      <td>[Севастополь, р-н Ленинский, мкр. Острякова, улица Хрусталева, 31]</td>\n",
       "      <td>[вчера, 13 сен, 22:56]</td>\n",
       "      <td>https://sevastopol.cian.ru/sale/flat/276418357/</td>\n",
       "      <td>Продаю 2-комнатую квартиру, расположенная в Ленинском районе. Квартира требует ремонта. Деревянный оконные рамы, пол оргалит. Центральное отопление, газовая колонка, установлен кондиционер. Совмещенный санузел. Балкон застекленный. Окна выходят во двор.\\n \\nРасположение дома очень удобное. В пешей доступности огромный рынок 5-ого километра, где можно купить практически все! Рядом с домом гимназия, сквер 60-летия Октября и ТЦ Московский.\\n\\nВозможна покупка в ипотеку! Скорее звоните и записывайтесь на просмотр. . Номер в базе: 8084937.</td>\n",
       "      <td>30</td>\n",
       "      <td>2022-09-15 10:30:49.198554</td>\n",
       "    </tr>\n",
       "    <tr>\n",
       "      <th>44</th>\n",
       "      <td>2-комн. кв., 68,8 м², 8/10 этаж</td>\n",
       "      <td>Сдача корпуса 3 кв. 2022</td>\n",
       "      <td>сдача ГК: 4 кв. 2022 года</td>\n",
       "      <td>10 935 760 ₽</td>\n",
       "      <td>158 950 ₽/м²</td>\n",
       "      <td>[Севастополь, р-н Ленинский, спуск Стрелецкий]</td>\n",
       "      <td>[5 часов назад, сегодня, 04:26]</td>\n",
       "      <td>https://sevastopol.cian.ru/sale/flat/275272759/</td>\n",
       "      <td>Статусный современный жилой комплекс бизнес-класса Центр находится в самом сердце города Федерального значения Севастополь. ЖК Центр  жизнь в эпицентре событий. Расположение в историческом центре Ленинского района дарит возможность быстрого доступа до главных достопримечательностей города, важных социальных объектов, туристических и развлекательный мест, центральных набережных и пляжей.\\nНа 1 этаже комплекса расположатся торгово-офисные помещения и ресторан. Три нижних этажа ЖК занимает подземный паркинг с видеонаблюдением, где Ваш автомобиль будет в целостности и сохранности.\\nТри 10-этажных корпуса располагаются на едином стилобате  это закрытый двор без машин под видеонаблюдением с детскими и спортивными площадками с безопасным покрытием, где Вы и Ваши дети могут чувствовать себя спокойно гуляя, играя и занимаясь спортом.\\nХоллы комплекса выполнены по индивидуальному дизайн проекту, в каждом подъезде установлены бесшумные скоростные лифты, спускающиеся в паркинг.\\nБольшинство квартир ЖК Центра  видовые. В квартирах сделаны увеличенные оконные проемы либо установлены панорамные окна, что дарит много света и максимальный вид на панораму города, праздничные салюты, исторические достопримечательности и, конечно, морские пейзажи. \\nКаждая квартира оборудована автономным двухконтурным газовым котлом, что экономит расходы на КУ и дает возможность контроля температуры в квартире под Ваши предпочтения.\\nВ пешей доступности от комплекса лучшие гимназии города, несколько детских садов, поликлиник и больниц, спортивный оздоровительный комплекс 200 лет Севастополя, футбольное и баскетбольное поле, поле для Регби, , открытые теннисные корты, крытый бассейн, Ледовая арена для занятий фигурным катанием и хоккеем. В 5 минутах от комплекса находится рынок Чайка.</td>\n",
       "      <td>2</td>\n",
       "      <td>2022-09-15 10:30:49.198554</td>\n",
       "    </tr>\n",
       "    <tr>\n",
       "      <th>193</th>\n",
       "      <td>2-комн. кв., 30 м², 2/2 этаж</td>\n",
       "      <td></td>\n",
       "      <td></td>\n",
       "      <td>10 800 000 ₽</td>\n",
       "      <td>360 000 ₽/м²</td>\n",
       "      <td>[Севастополь, р-н Балаклавский, мкр. Балаклава, улица Калича, 49]</td>\n",
       "      <td>[вчера, вчера, 15:28]</td>\n",
       "      <td>https://sevastopol.cian.ru/sale/flat/264716471/</td>\n",
       "      <td>Двухкомнатная квартира 30 м2 на 2/2 этаже дома. Расположена в г. Севастополь, Балаклавский район, ул. Калича, д. 49.\\nПозвоните нам, чтобы узнать все детали! \\nТехнические характеристики: \\n \\n-Адрес: г. Севастополь, Балаклавский район, ул. Калича, д. 49\\n-Год постройки дома: 1917\\n-Этаж /этажность: 2/2\\n-Количество комнат: 2\\n-Комнаты: смежные \\n-Общая площадь: 30 м2\\n-Жилая площадь: 21 м2\\n-Площадь кухни: 3,5 м2\\n-Высота потолка: 3,2 м \\n-Санузел: совмещенный \\n-Водоснабжение: центральное \\n-Горячее водоснабжение: бойлер \\n-Отопление: центральное \\nДополнительная информация: \\nПервая линия от нaбepежной. B шaгoвoй доcтупноcти городской пляж, дeтский сaд, мaгазины, oвощнoй pынoк, аптекa, ocтанoвки гopодcкoго трaнспopта.\\nКваpтирa общей площадью 30 кв.м. наxодитcя в двухэтaжнoм дoме на втором этаже. Имеются две раздельные комнаты. Окна расположены на южной и западной стороне дома - солнца много! Высота потолков больше трёх метров, высота окон - два метра, ширина стен почти метр. \\nЛетом прохладно, зимой тепло. Квартира с евроремонтом, продается с мебелью, имеет эксклюзивный декор.\\nПозвоните нам, чтобы назначить просмотр! \\nТолько наличный расчёт. \\nДокументы РФ, проверены юристами и готовы к сделке. \\nПрофессиональное сопровождение до получения права собственности.\\nДобавьте предложение в закладки, чтобы не потерять!</td>\n",
       "      <td>7</td>\n",
       "      <td>2022-09-15 10:30:49.198554</td>\n",
       "    </tr>\n",
       "  </tbody>\n",
       "</table>\n",
       "</div>"
      ],
      "text/plain": [
       "                          OfferTitle             OfferSubtitle  \\\n",
       "831   2-комн. кв., 45,3 м², 4/5 этаж                             \n",
       "44   2-комн. кв., 68,8 м², 8/10 этаж  Сдача корпуса 3 кв. 2022   \n",
       "193     2-комн. кв., 30 м², 2/2 этаж                             \n",
       "\n",
       "                      Deadline     MainPrice     PriceInfo  \\\n",
       "831                              6 300 000 ₽  139 073 ₽/м²   \n",
       "44   сдача ГК: 4 кв. 2022 года  10 935 760 ₽  158 950 ₽/м²   \n",
       "193                             10 800 000 ₽  360 000 ₽/м²   \n",
       "\n",
       "                                                               GeoLabel  \\\n",
       "831  [Севастополь, р-н Ленинский, мкр. Острякова, улица Хрусталева, 31]   \n",
       "44                       [Севастополь, р-н Ленинский, спуск Стрелецкий]   \n",
       "193   [Севастополь, р-н Балаклавский, мкр. Балаклава, улица Калича, 49]   \n",
       "\n",
       "                           TimeLabel  \\\n",
       "831           [вчера, 13 сен, 22:56]   \n",
       "44   [5 часов назад, сегодня, 04:26]   \n",
       "193            [вчера, вчера, 15:28]   \n",
       "\n",
       "                                            LinkArea  \\\n",
       "831  https://sevastopol.cian.ru/sale/flat/276418357/   \n",
       "44   https://sevastopol.cian.ru/sale/flat/275272759/   \n",
       "193  https://sevastopol.cian.ru/sale/flat/264716471/   \n",
       "\n",
       "                                                                                                                                                                                                                                                                                                                                                                                                                                                                                                                                                                                                                                                                                                                                                                                                                                                                                                                                                                                                                                                                                                                                                                                                                                                                                                                                                                                                                                                                                                                                                                                                                                                                                                                                                                                                                                           Description  \\\n",
       "831                                                                                                                                                                                                                                                                                                                                                                                                                                                                                                                                                                                                                                                                                                                                                                                                                                                                                                                                                                                                                                                                                                                                                                                                                                                                                       Продаю 2-комнатую квартиру, расположенная в Ленинском районе. Квартира требует ремонта. Деревянный оконные рамы, пол оргалит. Центральное отопление, газовая колонка, установлен кондиционер. Совмещенный санузел. Балкон застекленный. Окна выходят во двор.\\n \\nРасположение дома очень удобное. В пешей доступности огромный рынок 5-ого километра, где можно купить практически все! Рядом с домом гимназия, сквер 60-летия Октября и ТЦ Московский.\\n\\nВозможна покупка в ипотеку! Скорее звоните и записывайтесь на просмотр. . Номер в базе: 8084937.   \n",
       "44   Статусный современный жилой комплекс бизнес-класса Центр находится в самом сердце города Федерального значения Севастополь. ЖК Центр  жизнь в эпицентре событий. Расположение в историческом центре Ленинского района дарит возможность быстрого доступа до главных достопримечательностей города, важных социальных объектов, туристических и развлекательный мест, центральных набережных и пляжей.\\nНа 1 этаже комплекса расположатся торгово-офисные помещения и ресторан. Три нижних этажа ЖК занимает подземный паркинг с видеонаблюдением, где Ваш автомобиль будет в целостности и сохранности.\\nТри 10-этажных корпуса располагаются на едином стилобате  это закрытый двор без машин под видеонаблюдением с детскими и спортивными площадками с безопасным покрытием, где Вы и Ваши дети могут чувствовать себя спокойно гуляя, играя и занимаясь спортом.\\nХоллы комплекса выполнены по индивидуальному дизайн проекту, в каждом подъезде установлены бесшумные скоростные лифты, спускающиеся в паркинг.\\nБольшинство квартир ЖК Центра  видовые. В квартирах сделаны увеличенные оконные проемы либо установлены панорамные окна, что дарит много света и максимальный вид на панораму города, праздничные салюты, исторические достопримечательности и, конечно, морские пейзажи. \\nКаждая квартира оборудована автономным двухконтурным газовым котлом, что экономит расходы на КУ и дает возможность контроля температуры в квартире под Ваши предпочтения.\\nВ пешей доступности от комплекса лучшие гимназии города, несколько детских садов, поликлиник и больниц, спортивный оздоровительный комплекс 200 лет Севастополя, футбольное и баскетбольное поле, поле для Регби, , открытые теннисные корты, крытый бассейн, Ледовая арена для занятий фигурным катанием и хоккеем. В 5 минутах от комплекса находится рынок Чайка.   \n",
       "193                                                                                                                                                                                                                                                                                                                                                                                                                                                        Двухкомнатная квартира 30 м2 на 2/2 этаже дома. Расположена в г. Севастополь, Балаклавский район, ул. Калича, д. 49.\\nПозвоните нам, чтобы узнать все детали! \\nТехнические характеристики: \\n \\n-Адрес: г. Севастополь, Балаклавский район, ул. Калича, д. 49\\n-Год постройки дома: 1917\\n-Этаж /этажность: 2/2\\n-Количество комнат: 2\\n-Комнаты: смежные \\n-Общая площадь: 30 м2\\n-Жилая площадь: 21 м2\\n-Площадь кухни: 3,5 м2\\n-Высота потолка: 3,2 м \\n-Санузел: совмещенный \\n-Водоснабжение: центральное \\n-Горячее водоснабжение: бойлер \\n-Отопление: центральное \\nДополнительная информация: \\nПервая линия от нaбepежной. B шaгoвoй доcтупноcти городской пляж, дeтский сaд, мaгазины, oвощнoй pынoк, аптекa, ocтанoвки гopодcкoго трaнспopта.\\nКваpтирa общей площадью 30 кв.м. наxодитcя в двухэтaжнoм дoме на втором этаже. Имеются две раздельные комнаты. Окна расположены на южной и западной стороне дома - солнца много! Высота потолков больше трёх метров, высота окон - два метра, ширина стен почти метр. \\nЛетом прохладно, зимой тепло. Квартира с евроремонтом, продается с мебелью, имеет эксклюзивный декор.\\nПозвоните нам, чтобы назначить просмотр! \\nТолько наличный расчёт. \\nДокументы РФ, проверены юристами и готовы к сделке. \\nПрофессиональное сопровождение до получения права собственности.\\nДобавьте предложение в закладки, чтобы не потерять!   \n",
       "\n",
       "     page                         ts  \n",
       "831    30 2022-09-15 10:30:49.198554  \n",
       "44      2 2022-09-15 10:30:49.198554  \n",
       "193     7 2022-09-15 10:30:49.198554  "
      ]
     },
     "execution_count": 6,
     "metadata": {},
     "output_type": "execute_result"
    }
   ],
   "source": [
    "df.sample(3)"
   ]
  },
  {
   "cell_type": "code",
   "execution_count": 7,
   "id": "6b6e1d34",
   "metadata": {},
   "outputs": [
    {
     "name": "stdout",
     "output_type": "stream",
     "text": [
      "1509\n",
      "1507\n"
     ]
    }
   ],
   "source": [
    "print(len(df))\n",
    "df = pd.DataFrame(df).dropna().drop_duplicates(['LinkArea','Description',]).reset_index(drop=True)\n",
    "print(len(df))"
   ]
  },
  {
   "cell_type": "code",
   "execution_count": 8,
   "id": "27150829",
   "metadata": {},
   "outputs": [],
   "source": [
    "ts = dtm.now().strftime('%Y-%m-%d_%H-%M')\n",
    "assert len(df)>0\n",
    "# df.to_excel(f'{raw_data_path}/cian_{ts}_raw.xlsx',index=False)\n",
    "df.to_pickle(f'{raw_data_path}/cian_{ts}_raw.pkl')"
   ]
  },
  {
   "cell_type": "markdown",
   "id": "b1c773fc",
   "metadata": {},
   "source": [
    "----"
   ]
  },
  {
   "cell_type": "code",
   "execution_count": 9,
   "id": "3375a88f",
   "metadata": {},
   "outputs": [],
   "source": [
    "# df = pd.read_excel('data/raw/cian/cian_2022-09-08_13-49_raw.xlsx')"
   ]
  },
  {
   "cell_type": "code",
   "execution_count": 10,
   "id": "a1a04f5b",
   "metadata": {},
   "outputs": [],
   "source": [
    "# df"
   ]
  },
  {
   "cell_type": "code",
   "execution_count": 11,
   "id": "cb1cfae9",
   "metadata": {},
   "outputs": [],
   "source": [
    "# df['GeoLabel'].apply( lambda s : len(s) ) #', '.join(s) )\n",
    "\n",
    "# s = ['Севастополь', 'р-н Гагаринский', 'Казачья Бухта мкр', 'Скифия ЖК']\n",
    "# ', '.join(s)"
   ]
  },
  {
   "cell_type": "code",
   "execution_count": 12,
   "id": "4354558d",
   "metadata": {},
   "outputs": [],
   "source": [
    "# from lib.cian import CianDataCleaner\n",
    "\n",
    "# CianDataCleaner().transform(df)"
   ]
  },
  {
   "cell_type": "markdown",
   "id": "c12f900f",
   "metadata": {},
   "source": [
    "----"
   ]
  },
  {
   "cell_type": "code",
   "execution_count": 13,
   "id": "f2f98ed9",
   "metadata": {},
   "outputs": [],
   "source": [
    "# with open('tmp/cian.html','wt') as f: f.write(html[0])"
   ]
  }
 ],
 "metadata": {
  "kernelspec": {
   "display_name": "Python 3 (ipykernel)",
   "language": "python",
   "name": "python3"
  },
  "language_info": {
   "codemirror_mode": {
    "name": "ipython",
    "version": 3
   },
   "file_extension": ".py",
   "mimetype": "text/x-python",
   "name": "python",
   "nbconvert_exporter": "python",
   "pygments_lexer": "ipython3",
   "version": "3.10.6"
  },
  "toc": {
   "base_numbering": 1,
   "nav_menu": {},
   "number_sections": true,
   "sideBar": true,
   "skip_h1_title": false,
   "title_cell": "Table of Contents",
   "title_sidebar": "Contents",
   "toc_cell": false,
   "toc_position": {},
   "toc_section_display": true,
   "toc_window_display": false
  }
 },
 "nbformat": 4,
 "nbformat_minor": 5
}
