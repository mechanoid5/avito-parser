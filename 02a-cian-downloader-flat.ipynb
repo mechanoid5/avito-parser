{
 "cells": [
  {
   "cell_type": "markdown",
   "id": "edb73f62",
   "metadata": {},
   "source": [
    "__качаем объявления о продаже квартир с циан.ru__\n",
    "\n",
    "_Evgeny S. Borisov <parser@mechanoid.su>_"
   ]
  },
  {
   "cell_type": "code",
   "execution_count": 1,
   "id": "8e37d325",
   "metadata": {},
   "outputs": [],
   "source": [
    "import sys\n",
    "import re\n",
    "import logging\n",
    "from datetime import datetime as dtm\n",
    "from tqdm.notebook import tqdm\n",
    "import pandas as pd\n",
    "from bs4 import BeautifulSoup\n",
    "from time import sleep\n",
    "from random import random"
   ]
  },
  {
   "cell_type": "code",
   "execution_count": 2,
   "id": "202ec0cb",
   "metadata": {},
   "outputs": [],
   "source": [
    "pd.set_option('display.max_colwidth', None)\n",
    "pd.set_option('display.float_format', '{:.2f}'.format)\n",
    "tqdm.pandas()\n",
    "\n",
    "logging.basicConfig(\n",
    "        format=u'[%(levelname)-8s] %(asctime)s | %(message)s',\n",
    "        datefmt='%Y-%m-%d %H:%M:%S',\n",
    "        level=logging.INFO,\n",
    "        # level=logging.DEBUG,\n",
    "        stream=sys.stdout,\n",
    "    )"
   ]
  },
  {
   "cell_type": "code",
   "execution_count": 3,
   "id": "3411b55d",
   "metadata": {},
   "outputs": [],
   "source": [
    "raw_data_path = 'data/raw/flat/cian' # каталог с файлами объявлений"
   ]
  },
  {
   "cell_type": "code",
   "execution_count": 4,
   "id": "b036cb34",
   "metadata": {},
   "outputs": [],
   "source": [
    "profile_path = '/home/mechanoid/.mozilla/firefox/p144xo2m.default-release'\n",
    "# base_url, req_param = 'https://sevastopol.cian.ru/kupit-kvartiru/', ''\n",
    "place = 'sevastopol'\n",
    "base_url, req_param ='https://www.cian.ru/cat.php', 'deal_type=sale&offer_type=flat&region=184723'"
   ]
  },
  {
   "cell_type": "code",
   "execution_count": 5,
   "id": "3e42986b",
   "metadata": {},
   "outputs": [
    {
     "name": "stdout",
     "output_type": "stream",
     "text": [
      "[INFO    ] 2022-09-26 11:14:31 | DownloaderSeleniumFirefox: downloader init\n",
      "[INFO    ] 2022-09-26 11:14:31 | DownloaderSeleniumFirefox: open virtual browser\n",
      "[INFO    ] 2022-09-26 11:14:33 | AdsListParser: downloader init\n",
      "[INFO    ] 2022-09-26 11:14:33 | CianParser: downloader init\n",
      "[INFO    ] 2022-09-26 11:14:33 | AdsListParser: start read and parse pages...\n",
      "[INFO    ] 2022-09-26 11:14:42 | AdsListParser: read page 1\n",
      "[INFO    ] 2022-09-26 11:14:53 | AdsListParser: read page 2\n",
      "[INFO    ] 2022-09-26 11:15:04 | AdsListParser: read page 3\n",
      "[INFO    ] 2022-09-26 11:15:12 | AdsListParser: read page 4\n",
      "[INFO    ] 2022-09-26 11:15:20 | AdsListParser: read page 5\n",
      "[INFO    ] 2022-09-26 11:15:29 | AdsListParser: read page 6\n",
      "[INFO    ] 2022-09-26 11:15:36 | AdsListParser: read page 7\n",
      "[INFO    ] 2022-09-26 11:15:46 | AdsListParser: read page 8\n",
      "[INFO    ] 2022-09-26 11:15:57 | AdsListParser: read page 9\n",
      "[INFO    ] 2022-09-26 11:16:04 | AdsListParser: read page 10\n",
      "[INFO    ] 2022-09-26 11:16:12 | AdsListParser: read page 11\n",
      "[INFO    ] 2022-09-26 11:16:18 | AdsListParser: read page 12\n",
      "[INFO    ] 2022-09-26 11:16:31 | AdsListParser: read page 13\n",
      "[INFO    ] 2022-09-26 11:16:39 | AdsListParser: read page 14\n",
      "[INFO    ] 2022-09-26 11:16:53 | AdsListParser: read page 15\n",
      "[INFO    ] 2022-09-26 11:16:59 | AdsListParser: read page 16\n",
      "[INFO    ] 2022-09-26 11:17:10 | AdsListParser: read page 17\n",
      "[INFO    ] 2022-09-26 11:17:21 | AdsListParser: read page 18\n",
      "[INFO    ] 2022-09-26 11:17:29 | AdsListParser: read page 19\n",
      "[INFO    ] 2022-09-26 11:17:43 | AdsListParser: read page 20\n",
      "[INFO    ] 2022-09-26 11:17:58 | AdsListParser: read page 21\n",
      "[INFO    ] 2022-09-26 11:18:11 | AdsListParser: read page 22\n",
      "[INFO    ] 2022-09-26 11:18:22 | AdsListParser: read page 23\n",
      "[INFO    ] 2022-09-26 11:18:36 | AdsListParser: read page 24\n",
      "[INFO    ] 2022-09-26 11:18:45 | AdsListParser: read page 25\n",
      "[INFO    ] 2022-09-26 11:18:59 | AdsListParser: read page 26\n",
      "[INFO    ] 2022-09-26 11:19:08 | AdsListParser: read page 27\n",
      "[INFO    ] 2022-09-26 11:19:18 | AdsListParser: read page 28\n",
      "[INFO    ] 2022-09-26 11:19:28 | AdsListParser: read page 29\n",
      "[INFO    ] 2022-09-26 11:19:39 | AdsListParser: read page 30\n",
      "[INFO    ] 2022-09-26 11:19:52 | AdsListParser: read page 31\n",
      "[INFO    ] 2022-09-26 11:20:02 | AdsListParser: read page 32\n",
      "[INFO    ] 2022-09-26 11:20:14 | AdsListParser: read page 33\n",
      "[INFO    ] 2022-09-26 11:20:28 | AdsListParser: read page 34\n",
      "[INFO    ] 2022-09-26 11:20:35 | AdsListParser: read page 35\n",
      "[INFO    ] 2022-09-26 11:20:44 | AdsListParser: read page 36\n",
      "[INFO    ] 2022-09-26 11:20:54 | AdsListParser: read page 37\n",
      "[INFO    ] 2022-09-26 11:21:10 | AdsListParser: read page 38\n",
      "[INFO    ] 2022-09-26 11:21:24 | AdsListParser: read page 39\n",
      "[INFO    ] 2022-09-26 11:21:36 | AdsListParser: read page 40\n",
      "[INFO    ] 2022-09-26 11:21:43 | AdsListParser: read page 41\n",
      "[INFO    ] 2022-09-26 11:21:49 | AdsListParser: read page 42\n",
      "[INFO    ] 2022-09-26 11:22:01 | AdsListParser: read page 43\n",
      "[INFO    ] 2022-09-26 11:22:09 | AdsListParser: read page 44\n",
      "[INFO    ] 2022-09-26 11:22:18 | AdsListParser: read page 45\n",
      "[INFO    ] 2022-09-26 11:22:31 | AdsListParser: read page 46\n",
      "[INFO    ] 2022-09-26 11:22:39 | AdsListParser: read page 47\n",
      "[INFO    ] 2022-09-26 11:22:46 | AdsListParser: read page 48\n",
      "[INFO    ] 2022-09-26 11:23:04 | AdsListParser: read page 49\n",
      "[INFO    ] 2022-09-26 11:23:15 | AdsListParser: read page 50\n",
      "[INFO    ] 2022-09-26 11:23:30 | AdsListParser: read page 51\n",
      "[INFO    ] 2022-09-26 11:23:38 | AdsListParser: read page 52\n",
      "[INFO    ] 2022-09-26 11:23:44 | AdsListParser: read page 53\n",
      "[INFO    ] 2022-09-26 11:23:56 | AdsListParser: read page 54\n",
      "[INFO    ] 2022-09-26 11:23:56 | AdsListParser: last page detected\n",
      "[INFO    ] 2022-09-26 11:23:56 | DownloaderSeleniumFirefox: close virtual browser\n",
      "1509\n",
      "CPU times: user 13 s, sys: 377 ms, total: 13.4 s\n",
      "Wall time: 9min 25s\n"
     ]
    }
   ],
   "source": [
    "%%time\n",
    "\n",
    "# from lib.downloader import DownloaderSimple\n",
    "# from lib.parser import AdsListParser\n",
    "from lib.downloader import DownloaderSeleniumFirefox\n",
    "from lib.cian import CianParser\n",
    "\n",
    "\n",
    "df,html = CianParser(\n",
    "        base_url = base_url,\n",
    "        driver=DownloaderSeleniumFirefox(profile_path),\n",
    "        # driver=DownloaderSimple(),\n",
    "    ).load(req_param=req_param, keep_html=True) # , npage_start=53) # , page_limit=3 ) #\n",
    "\n",
    "print(len(df))"
   ]
  },
  {
   "cell_type": "code",
   "execution_count": 6,
   "id": "042e3e74",
   "metadata": {},
   "outputs": [
    {
     "data": {
      "text/html": [
       "<div>\n",
       "<style scoped>\n",
       "    .dataframe tbody tr th:only-of-type {\n",
       "        vertical-align: middle;\n",
       "    }\n",
       "\n",
       "    .dataframe tbody tr th {\n",
       "        vertical-align: top;\n",
       "    }\n",
       "\n",
       "    .dataframe thead th {\n",
       "        text-align: right;\n",
       "    }\n",
       "</style>\n",
       "<table border=\"1\" class=\"dataframe\">\n",
       "  <thead>\n",
       "    <tr style=\"text-align: right;\">\n",
       "      <th></th>\n",
       "      <th>OfferTitle</th>\n",
       "      <th>OfferSubtitle</th>\n",
       "      <th>Deadline</th>\n",
       "      <th>MainPrice</th>\n",
       "      <th>PriceInfo</th>\n",
       "      <th>GeoLabel</th>\n",
       "      <th>TimeLabel</th>\n",
       "      <th>LinkArea</th>\n",
       "      <th>Description</th>\n",
       "      <th>page</th>\n",
       "      <th>ts</th>\n",
       "    </tr>\n",
       "  </thead>\n",
       "  <tbody>\n",
       "    <tr>\n",
       "      <th>978</th>\n",
       "      <td>1-комн. кв., 35,7 м², 5/11 этаж</td>\n",
       "      <td></td>\n",
       "      <td></td>\n",
       "      <td>6 000 000 ₽</td>\n",
       "      <td>168 067 ₽/м²</td>\n",
       "      <td>[Севастополь, р-н Нахимовский, улица Горпищенко, 127к2]</td>\n",
       "      <td>[вчера, 24 сен, 21:07]</td>\n",
       "      <td>https://sevastopol.cian.ru/sale/flat/276480610/</td>\n",
       "      <td>Продаётся 1кк видовая квартира в новом ЖК \"Атмосфера\" Площадь квартиры с балконом 40.5 квадратных метров. Балкон застеклён, можно использовать , как дополнительную комнату, размер балкона позволяет. В жилой комнате установлено большое панорамное окно. Окна квартиры выходят на Северо-Запад, а вид открывается потрясающий: на море , лес, город. Видно , как плывут корабли, виден Владимирский собор на Херсонесе. Жилая комната размером 19 кв.м, кухня 8,5 кв.м. Установлен газовый двухконтурный котёл, что позволяет экономить средства на коммунальных платежах и самостоятельно регулировать температуру в помещении, бесперебойно пользоваться горячей водой. У дома организована огромная стоянка для автомобилей, детская площадка. Выезд из города по новой асфальтированной дороге, без пробок. Школа - в 7 минутах на авто или 18 минут пешком. Детский сад - в 4 минутах на авто или 15 минут пешком. Остановка общественного транспорта - в 5-7 минутах ходьбы: ходит около 10-ти различных маршрутов. Магазины, кафе, кулинария, мастерские, СДЭК, Вайлдберриз располагаются как в цокольном этаже дома, так и в пешей доступности в соседних домах и кварталах. Возможна ипотека. Клиентам компании Этажи ипотечная консультация бесплатно. А так же помощь в одобрении ипотеки с ежемесячным платежом от 38 до 43 тыс.руб. Хотите пить кофе и любоваться как солнце садиться за море, скорее звоните! Оперативно организую показ. Покупателю с наличкой торг.\\n . Номер в базе: 8003583.</td>\n",
       "      <td>35</td>\n",
       "      <td>2022-09-26 11:23:56.441542</td>\n",
       "    </tr>\n",
       "    <tr>\n",
       "      <th>1392</th>\n",
       "      <td>3-комн. кв., 71,3 м², 5/5 этаж</td>\n",
       "      <td></td>\n",
       "      <td></td>\n",
       "      <td>9 000 000 ₽</td>\n",
       "      <td>126 227 ₽/м²</td>\n",
       "      <td>[Севастополь, р-н Ленинский, мкр. Острякова, проспект Генерала Острякова, 196]</td>\n",
       "      <td>[вчера, 24 сен, 12:55]</td>\n",
       "      <td>https://sevastopol.cian.ru/sale/flat/277464407/</td>\n",
       "      <td>Трехкомнатная квартира 71,3 м2, на 5/5 этаже дома с просторной кухней 11 м2.. Расположена в г. Севастополь, Ленинский район, пр-кт Генерала Острякова, д. 196.\\nПозвоните нам, чтобы узнать все детали! \\nТехнические характеристики: \\n \\n-Адрес: г. Севастополь, Ленинский район, пр-кт Генерала Острякова, д. 196\\n-Год постройки дома: 1982\\n-Этаж/этажность: 5/5\\n-Количество комнат: 3\\n-Комнаты: изолированные\\n-Общая площадь: 71,3 м2\\n-Жилая площадь: 40,4 м2\\n-Комната: 18; 11,6 и 10,8 м2\\n-Площадь кухни: 11 м2\\n-Высота потолка: 2,8 м\\n-Санузел: раздельный\\n-Водоснабжение: центральное\\n-Горячее водоснабжение: бойлер\\n-Отопление: центральное\\nДополнительная информация: \\nУютная и просторная трёхкомнатная квартира \"Чешского проекта\" в одном из самых лучших районов города, в ленинском! Дом построен в 1982 году.\\nОбщая площадь 71,3 м², комнаты 18; 11,6 и 10,8 м², кухня 11 м², санузел раздельный, имеются две лоджии, поменяны трубы водоснабжения, заменены радиаторы отопления.\\nКвартира теплая и светлая, в отличном состоянии, 2 кондиционера.\\nДвор большой, зеленый и тихий.\\nВ подъезде есть место для хранения колясок и велосипедов.\\nПозвоните нам, чтобы назначить просмотр! \\nИнфраструктура: \\nРядом с домом остановка общественного транспорта 38 школа.\\nРазвитая инфраструктура, отличная транспортная развязка.\\nВ шаговой доступности детсад 127, школы 38, 48; магазины Новус, ПУД, до рынка \"5 км\" и ТЦ SeaMall 3 остановки, до центра города 15 минут на транспорте.\\nНесколько отделений банков, почта, детский больничный комплекс, кафе и фитнес- центры.\\nПодходит для наличного расчета, под гражданскую ипотеку, материнский капитал, жилищные сертификаты. \\nДокументы РФ проверены юристами и готовы к сделке. \\nПрофессиональное сопровождение до получения права собственности.\\nДобавьте предложение в закладки, чтобы не потерять!</td>\n",
       "      <td>50</td>\n",
       "      <td>2022-09-26 11:23:56.441542</td>\n",
       "    </tr>\n",
       "    <tr>\n",
       "      <th>285</th>\n",
       "      <td>Продажа от собственника</td>\n",
       "      <td>3-комн. кв., 82 м², 12/16 этаж</td>\n",
       "      <td></td>\n",
       "      <td>11 850 000 ₽</td>\n",
       "      <td>144 512 ₽/м²</td>\n",
       "      <td>[Севастополь, р-н Гагаринский, мкр. 5-й, улица Александра Маринеско, 1б/1]</td>\n",
       "      <td>[вчера, вчера, 15:02]</td>\n",
       "      <td>https://sevastopol.cian.ru/sale/flat/278441265/</td>\n",
       "      <td>Дом сдан в эксплуатацию в 2022 году, на территории оборудованы 3 детские площадки, выделены парковочные места. Один из самых активно развивающихся районов города с отличной инфраструктурой. \\nДом оборудован двумя лифтами, на первом этаже есть большая колясочная.\\nКвартира с видом на море и город, сделана предчистовая отделка.\\n1 собственник.</td>\n",
       "      <td>11</td>\n",
       "      <td>2022-09-26 11:23:56.441542</td>\n",
       "    </tr>\n",
       "  </tbody>\n",
       "</table>\n",
       "</div>"
      ],
      "text/plain": [
       "                           OfferTitle                   OfferSubtitle  \\\n",
       "978   1-комн. кв., 35,7 м², 5/11 этаж                                   \n",
       "1392   3-комн. кв., 71,3 м², 5/5 этаж                                   \n",
       "285           Продажа от собственника  3-комн. кв., 82 м², 12/16 этаж   \n",
       "\n",
       "     Deadline     MainPrice     PriceInfo  \\\n",
       "978             6 000 000 ₽  168 067 ₽/м²   \n",
       "1392            9 000 000 ₽  126 227 ₽/м²   \n",
       "285            11 850 000 ₽  144 512 ₽/м²   \n",
       "\n",
       "                                                                            GeoLabel  \\\n",
       "978                          [Севастополь, р-н Нахимовский, улица Горпищенко, 127к2]   \n",
       "1392  [Севастополь, р-н Ленинский, мкр. Острякова, проспект Генерала Острякова, 196]   \n",
       "285       [Севастополь, р-н Гагаринский, мкр. 5-й, улица Александра Маринеско, 1б/1]   \n",
       "\n",
       "                   TimeLabel                                         LinkArea  \\\n",
       "978   [вчера, 24 сен, 21:07]  https://sevastopol.cian.ru/sale/flat/276480610/   \n",
       "1392  [вчера, 24 сен, 12:55]  https://sevastopol.cian.ru/sale/flat/277464407/   \n",
       "285    [вчера, вчера, 15:02]  https://sevastopol.cian.ru/sale/flat/278441265/   \n",
       "\n",
       "                                                                                                                                                                                                                                                                                                                                                                                                                                                                                                                                                                                                                                                                                                                                                                                                                                                                                                                                                                                                                                                                                                                                                                                                                                                                                                                                                                                                                                                                                                                                                                                                                                                                                                                                                                                                                                                                                              Description  \\\n",
       "978                                                                                                                                                                                                                                                                                                                                                                                     Продаётся 1кк видовая квартира в новом ЖК \"Атмосфера\" Площадь квартиры с балконом 40.5 квадратных метров. Балкон застеклён, можно использовать , как дополнительную комнату, размер балкона позволяет. В жилой комнате установлено большое панорамное окно. Окна квартиры выходят на Северо-Запад, а вид открывается потрясающий: на море , лес, город. Видно , как плывут корабли, виден Владимирский собор на Херсонесе. Жилая комната размером 19 кв.м, кухня 8,5 кв.м. Установлен газовый двухконтурный котёл, что позволяет экономить средства на коммунальных платежах и самостоятельно регулировать температуру в помещении, бесперебойно пользоваться горячей водой. У дома организована огромная стоянка для автомобилей, детская площадка. Выезд из города по новой асфальтированной дороге, без пробок. Школа - в 7 минутах на авто или 18 минут пешком. Детский сад - в 4 минутах на авто или 15 минут пешком. Остановка общественного транспорта - в 5-7 минутах ходьбы: ходит около 10-ти различных маршрутов. Магазины, кафе, кулинария, мастерские, СДЭК, Вайлдберриз располагаются как в цокольном этаже дома, так и в пешей доступности в соседних домах и кварталах. Возможна ипотека. Клиентам компании Этажи ипотечная консультация бесплатно. А так же помощь в одобрении ипотеки с ежемесячным платежом от 38 до 43 тыс.руб. Хотите пить кофе и любоваться как солнце садиться за море, скорее звоните! Оперативно организую показ. Покупателю с наличкой торг.\\n . Номер в базе: 8003583.   \n",
       "1392  Трехкомнатная квартира 71,3 м2, на 5/5 этаже дома с просторной кухней 11 м2.. Расположена в г. Севастополь, Ленинский район, пр-кт Генерала Острякова, д. 196.\\nПозвоните нам, чтобы узнать все детали! \\nТехнические характеристики: \\n \\n-Адрес: г. Севастополь, Ленинский район, пр-кт Генерала Острякова, д. 196\\n-Год постройки дома: 1982\\n-Этаж/этажность: 5/5\\n-Количество комнат: 3\\n-Комнаты: изолированные\\n-Общая площадь: 71,3 м2\\n-Жилая площадь: 40,4 м2\\n-Комната: 18; 11,6 и 10,8 м2\\n-Площадь кухни: 11 м2\\n-Высота потолка: 2,8 м\\n-Санузел: раздельный\\n-Водоснабжение: центральное\\n-Горячее водоснабжение: бойлер\\n-Отопление: центральное\\nДополнительная информация: \\nУютная и просторная трёхкомнатная квартира \"Чешского проекта\" в одном из самых лучших районов города, в ленинском! Дом построен в 1982 году.\\nОбщая площадь 71,3 м², комнаты 18; 11,6 и 10,8 м², кухня 11 м², санузел раздельный, имеются две лоджии, поменяны трубы водоснабжения, заменены радиаторы отопления.\\nКвартира теплая и светлая, в отличном состоянии, 2 кондиционера.\\nДвор большой, зеленый и тихий.\\nВ подъезде есть место для хранения колясок и велосипедов.\\nПозвоните нам, чтобы назначить просмотр! \\nИнфраструктура: \\nРядом с домом остановка общественного транспорта 38 школа.\\nРазвитая инфраструктура, отличная транспортная развязка.\\nВ шаговой доступности детсад 127, школы 38, 48; магазины Новус, ПУД, до рынка \"5 км\" и ТЦ SeaMall 3 остановки, до центра города 15 минут на транспорте.\\nНесколько отделений банков, почта, детский больничный комплекс, кафе и фитнес- центры.\\nПодходит для наличного расчета, под гражданскую ипотеку, материнский капитал, жилищные сертификаты. \\nДокументы РФ проверены юристами и готовы к сделке. \\nПрофессиональное сопровождение до получения права собственности.\\nДобавьте предложение в закладки, чтобы не потерять!   \n",
       "285                                                                                                                                                                                                                                                                                                                                                                                                                                                                                                                                                                                                                                                                                                                                                                                                                                                                                                                                                                                                                                                                                                                                                                                                                                                                                                                                                                                                                                                                                                                                               Дом сдан в эксплуатацию в 2022 году, на территории оборудованы 3 детские площадки, выделены парковочные места. Один из самых активно развивающихся районов города с отличной инфраструктурой. \\nДом оборудован двумя лифтами, на первом этаже есть большая колясочная.\\nКвартира с видом на море и город, сделана предчистовая отделка.\\n1 собственник.   \n",
       "\n",
       "      page                         ts  \n",
       "978     35 2022-09-26 11:23:56.441542  \n",
       "1392    50 2022-09-26 11:23:56.441542  \n",
       "285     11 2022-09-26 11:23:56.441542  "
      ]
     },
     "execution_count": 6,
     "metadata": {},
     "output_type": "execute_result"
    }
   ],
   "source": [
    "df.sample(3)"
   ]
  },
  {
   "cell_type": "code",
   "execution_count": 7,
   "id": "6b6e1d34",
   "metadata": {},
   "outputs": [
    {
     "name": "stdout",
     "output_type": "stream",
     "text": [
      "1509\n",
      "1475\n"
     ]
    }
   ],
   "source": [
    "print(len(df))\n",
    "df = pd.DataFrame(df).dropna().drop_duplicates(['LinkArea','Description',]).reset_index(drop=True)\n",
    "print(len(df))"
   ]
  },
  {
   "cell_type": "code",
   "execution_count": 8,
   "id": "76af0a8e",
   "metadata": {},
   "outputs": [],
   "source": [
    "df['place']=place"
   ]
  },
  {
   "cell_type": "code",
   "execution_count": 9,
   "id": "27150829",
   "metadata": {},
   "outputs": [],
   "source": [
    "ts = dtm.now().strftime('%Y-%m-%d_%H-%M')\n",
    "assert len(df)>0\n",
    "# df.to_excel(f'{raw_data_path}/cian_{ts}_raw.xlsx',index=False)\n",
    "df.to_pickle(f'{raw_data_path}/cian_{ts}_raw.pkl')"
   ]
  },
  {
   "cell_type": "markdown",
   "id": "b1c773fc",
   "metadata": {},
   "source": [
    "----"
   ]
  },
  {
   "cell_type": "code",
   "execution_count": 10,
   "id": "3375a88f",
   "metadata": {},
   "outputs": [],
   "source": [
    "# df = pd.read_excel('data/raw/cian/cian_2022-09-08_13-49_raw.xlsx')"
   ]
  },
  {
   "cell_type": "code",
   "execution_count": 11,
   "id": "a1a04f5b",
   "metadata": {},
   "outputs": [],
   "source": [
    "# df"
   ]
  },
  {
   "cell_type": "code",
   "execution_count": 12,
   "id": "cb1cfae9",
   "metadata": {},
   "outputs": [],
   "source": [
    "# df['GeoLabel'].apply( lambda s : len(s) ) #', '.join(s) )\n",
    "\n",
    "# s = ['Севастополь', 'р-н Гагаринский', 'Казачья Бухта мкр', 'Скифия ЖК']\n",
    "# ', '.join(s)"
   ]
  },
  {
   "cell_type": "code",
   "execution_count": 13,
   "id": "4354558d",
   "metadata": {},
   "outputs": [],
   "source": [
    "# from lib.cian import CianDataCleaner\n",
    "\n",
    "# CianDataCleaner().transform(df)"
   ]
  },
  {
   "cell_type": "markdown",
   "id": "c12f900f",
   "metadata": {},
   "source": [
    "----"
   ]
  },
  {
   "cell_type": "code",
   "execution_count": 14,
   "id": "f2f98ed9",
   "metadata": {},
   "outputs": [],
   "source": [
    "# with open('tmp/cian.html','wt') as f: f.write(html[0])"
   ]
  }
 ],
 "metadata": {
  "kernelspec": {
   "display_name": "Python 3 (ipykernel)",
   "language": "python",
   "name": "python3"
  },
  "language_info": {
   "codemirror_mode": {
    "name": "ipython",
    "version": 3
   },
   "file_extension": ".py",
   "mimetype": "text/x-python",
   "name": "python",
   "nbconvert_exporter": "python",
   "pygments_lexer": "ipython3",
   "version": "3.10.6"
  },
  "toc": {
   "base_numbering": 1,
   "nav_menu": {},
   "number_sections": true,
   "sideBar": true,
   "skip_h1_title": false,
   "title_cell": "Table of Contents",
   "title_sidebar": "Contents",
   "toc_cell": false,
   "toc_position": {},
   "toc_section_display": true,
   "toc_window_display": false
  }
 },
 "nbformat": 4,
 "nbformat_minor": 5
}
