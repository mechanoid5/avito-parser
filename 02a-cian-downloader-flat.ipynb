{
 "cells": [
  {
   "cell_type": "markdown",
   "id": "edb73f62",
   "metadata": {},
   "source": [
    "__применение парсера объявлений циан.ru__\n",
    "\n",
    "_Evgeny S. Borisov <parser@mechanoid.su>_"
   ]
  },
  {
   "cell_type": "code",
   "execution_count": 1,
   "id": "8e37d325",
   "metadata": {},
   "outputs": [],
   "source": [
    "import sys\n",
    "import re\n",
    "import logging\n",
    "from datetime import datetime as dtm\n",
    "from tqdm.notebook import tqdm\n",
    "import pandas as pd\n",
    "from bs4 import BeautifulSoup\n",
    "from time import sleep\n",
    "from random import random"
   ]
  },
  {
   "cell_type": "code",
   "execution_count": 2,
   "id": "202ec0cb",
   "metadata": {},
   "outputs": [],
   "source": [
    "pd.set_option('display.max_colwidth', None)\n",
    "pd.set_option('display.float_format', '{:.2f}'.format)\n",
    "tqdm.pandas()\n",
    "\n",
    "logging.basicConfig(\n",
    "        format=u'[%(levelname)-8s] %(asctime)s | %(message)s',\n",
    "        datefmt='%Y-%m-%d %H:%M:%S',\n",
    "        level=logging.INFO,\n",
    "        # level=logging.DEBUG,\n",
    "        stream=sys.stdout,\n",
    "    )"
   ]
  },
  {
   "cell_type": "code",
   "execution_count": 3,
   "id": "3411b55d",
   "metadata": {},
   "outputs": [],
   "source": [
    "raw_data_path = 'data/raw/flat/cian' # каталог с файлами объявлений"
   ]
  },
  {
   "cell_type": "code",
   "execution_count": 4,
   "id": "b036cb34",
   "metadata": {},
   "outputs": [],
   "source": [
    "profile_path = '/home/mechanoid/.mozilla/firefox/p144xo2m.default-release'\n",
    "# base_url, req_param = 'https://sevastopol.cian.ru/kupit-kvartiru/', ''\n",
    "base_url, req_param ='https://www.cian.ru/cat.php', 'deal_type=sale&offer_type=flat&region=184723'"
   ]
  },
  {
   "cell_type": "code",
   "execution_count": 5,
   "id": "3e42986b",
   "metadata": {},
   "outputs": [
    {
     "name": "stdout",
     "output_type": "stream",
     "text": [
      "[INFO    ] 2022-09-12 13:49:36 | DownloaderSeleniumFirefox: downloader init\n",
      "[INFO    ] 2022-09-12 13:49:36 | DownloaderSeleniumFirefox: open virtual browser\n",
      "[INFO    ] 2022-09-12 13:49:38 | AdsListParser: downloader init\n",
      "[INFO    ] 2022-09-12 13:49:38 | CianParser: downloader init\n",
      "[INFO    ] 2022-09-12 13:49:38 | AdsListParser: start read and parse pages...\n",
      "[INFO    ] 2022-09-12 13:49:54 | AdsListParser: read page 1\n",
      "[INFO    ] 2022-09-12 13:50:08 | AdsListParser: read page 2\n",
      "[INFO    ] 2022-09-12 13:50:22 | AdsListParser: read page 3\n",
      "[INFO    ] 2022-09-12 13:50:27 | AdsListParser: read page 4\n",
      "[INFO    ] 2022-09-12 13:50:44 | AdsListParser: read page 5\n",
      "[INFO    ] 2022-09-12 13:50:50 | AdsListParser: read page 6\n",
      "[INFO    ] 2022-09-12 13:51:06 | AdsListParser: read page 7\n",
      "[INFO    ] 2022-09-12 13:51:17 | AdsListParser: read page 8\n",
      "[INFO    ] 2022-09-12 13:51:22 | AdsListParser: read page 9\n",
      "[INFO    ] 2022-09-12 13:51:33 | AdsListParser: read page 10\n",
      "[INFO    ] 2022-09-12 13:51:44 | AdsListParser: read page 11\n",
      "[INFO    ] 2022-09-12 13:51:52 | AdsListParser: read page 12\n",
      "[INFO    ] 2022-09-12 13:52:04 | AdsListParser: read page 13\n",
      "[INFO    ] 2022-09-12 13:52:13 | AdsListParser: read page 14\n",
      "[INFO    ] 2022-09-12 13:52:18 | AdsListParser: read page 15\n",
      "[INFO    ] 2022-09-12 13:52:23 | AdsListParser: read page 16\n",
      "[INFO    ] 2022-09-12 13:52:35 | AdsListParser: read page 17\n",
      "[INFO    ] 2022-09-12 13:52:49 | AdsListParser: read page 18\n",
      "[INFO    ] 2022-09-12 13:53:02 | AdsListParser: read page 19\n",
      "[INFO    ] 2022-09-12 13:53:12 | AdsListParser: read page 20\n",
      "[INFO    ] 2022-09-12 13:53:25 | AdsListParser: read page 21\n",
      "[INFO    ] 2022-09-12 13:53:39 | AdsListParser: read page 22\n",
      "[INFO    ] 2022-09-12 13:53:55 | AdsListParser: read page 23\n",
      "[INFO    ] 2022-09-12 13:54:06 | AdsListParser: read page 24\n",
      "[INFO    ] 2022-09-12 13:54:13 | AdsListParser: read page 25\n",
      "[INFO    ] 2022-09-12 13:54:21 | AdsListParser: read page 26\n",
      "[INFO    ] 2022-09-12 13:54:34 | AdsListParser: read page 27\n",
      "[INFO    ] 2022-09-12 13:54:42 | AdsListParser: read page 28\n",
      "[INFO    ] 2022-09-12 13:54:49 | AdsListParser: read page 29\n",
      "[INFO    ] 2022-09-12 13:55:05 | AdsListParser: read page 30\n",
      "[INFO    ] 2022-09-12 13:55:18 | AdsListParser: read page 31\n",
      "[INFO    ] 2022-09-12 13:55:28 | AdsListParser: read page 32\n",
      "[INFO    ] 2022-09-12 13:55:42 | AdsListParser: read page 33\n",
      "[INFO    ] 2022-09-12 13:55:52 | AdsListParser: read page 34\n",
      "[INFO    ] 2022-09-12 13:56:00 | AdsListParser: read page 35\n",
      "[INFO    ] 2022-09-12 13:56:07 | AdsListParser: read page 36\n",
      "[INFO    ] 2022-09-12 13:56:15 | AdsListParser: read page 37\n",
      "[INFO    ] 2022-09-12 13:56:28 | AdsListParser: read page 38\n",
      "[INFO    ] 2022-09-12 13:56:38 | AdsListParser: read page 39\n",
      "[INFO    ] 2022-09-12 13:56:44 | AdsListParser: read page 40\n",
      "[INFO    ] 2022-09-12 13:56:52 | AdsListParser: read page 41\n",
      "[INFO    ] 2022-09-12 13:57:04 | AdsListParser: read page 42\n",
      "[INFO    ] 2022-09-12 13:57:16 | AdsListParser: read page 43\n",
      "[INFO    ] 2022-09-12 13:57:29 | AdsListParser: read page 44\n",
      "[INFO    ] 2022-09-12 13:57:37 | AdsListParser: read page 45\n",
      "[INFO    ] 2022-09-12 13:57:50 | AdsListParser: read page 46\n",
      "[INFO    ] 2022-09-12 13:57:59 | AdsListParser: read page 47\n",
      "[INFO    ] 2022-09-12 13:58:09 | AdsListParser: read page 48\n",
      "[INFO    ] 2022-09-12 13:58:21 | AdsListParser: read page 49\n",
      "[INFO    ] 2022-09-12 13:58:33 | AdsListParser: read page 50\n",
      "[INFO    ] 2022-09-12 13:58:39 | AdsListParser: read page 51\n",
      "[INFO    ] 2022-09-12 13:58:47 | AdsListParser: read page 52\n",
      "[INFO    ] 2022-09-12 13:58:58 | AdsListParser: read page 53\n",
      "[INFO    ] 2022-09-12 13:59:10 | AdsListParser: read page 54\n",
      "[INFO    ] 2022-09-12 13:59:10 | AdsListParser: last page detected\n",
      "[INFO    ] 2022-09-12 13:59:10 | DownloaderSeleniumFirefox: close virtual browser\n",
      "1509\n",
      "CPU times: user 13.2 s, sys: 374 ms, total: 13.6 s\n",
      "Wall time: 9min 34s\n"
     ]
    }
   ],
   "source": [
    "%%time\n",
    "\n",
    "# from lib.downloader import DownloaderSimple\n",
    "# from lib.parser import AdsListParser\n",
    "from lib.downloader import DownloaderSeleniumFirefox\n",
    "from lib.cian import CianParser\n",
    "\n",
    "\n",
    "df,html = CianParser(\n",
    "        base_url = base_url,\n",
    "        driver=DownloaderSeleniumFirefox(profile_path),\n",
    "        # driver=DownloaderSimple(),\n",
    "    ).load(req_param=req_param, keep_html=True) # , npage_start=53) # , page_limit=3 ) #\n",
    "\n",
    "print(len(df))"
   ]
  },
  {
   "cell_type": "code",
   "execution_count": 6,
   "id": "042e3e74",
   "metadata": {},
   "outputs": [
    {
     "data": {
      "text/html": [
       "<div>\n",
       "<style scoped>\n",
       "    .dataframe tbody tr th:only-of-type {\n",
       "        vertical-align: middle;\n",
       "    }\n",
       "\n",
       "    .dataframe tbody tr th {\n",
       "        vertical-align: top;\n",
       "    }\n",
       "\n",
       "    .dataframe thead th {\n",
       "        text-align: right;\n",
       "    }\n",
       "</style>\n",
       "<table border=\"1\" class=\"dataframe\">\n",
       "  <thead>\n",
       "    <tr style=\"text-align: right;\">\n",
       "      <th></th>\n",
       "      <th>OfferTitle</th>\n",
       "      <th>OfferSubtitle</th>\n",
       "      <th>Deadline</th>\n",
       "      <th>MainPrice</th>\n",
       "      <th>PriceInfo</th>\n",
       "      <th>GeoLabel</th>\n",
       "      <th>TimeLabel</th>\n",
       "      <th>LinkArea</th>\n",
       "      <th>Description</th>\n",
       "      <th>page</th>\n",
       "      <th>ts</th>\n",
       "    </tr>\n",
       "  </thead>\n",
       "  <tbody>\n",
       "    <tr>\n",
       "      <th>1271</th>\n",
       "      <td>1-комн. апарт., 28 м², 3/3 этаж</td>\n",
       "      <td></td>\n",
       "      <td></td>\n",
       "      <td>3 700 000 ₽</td>\n",
       "      <td>132 143 ₽/м²</td>\n",
       "      <td>[Севастополь, р-н Гагаринский, мкр. Омега, улица Челнокова, 49]</td>\n",
       "      <td>[четыре дня назад, 8 сен, 09:06]</td>\n",
       "      <td>https://sevastopol.cian.ru/sale/flat/273875003/</td>\n",
       "      <td>Сохрани сбережения-купи недвижимость!\\nЛиквидные АПАРТАМЕНТЫ в самом привлекательном месте\\n г. Севастополя!\\nИНВЕСТИЦИИ В НЕДВИЖИМОСТЬ С ГАРАНТИЕЙ!\\n\\nБУХТА ОМЕГА ПАРК ПОБЕДЫ,МОРЕ, СПОРТИВНАЯ ЗОНА, АКВАПАРК, ДЕТСКАЯ ЗОНА РАЗВЛЕЧЕНИЙ КАФЕ  РЕСТОРАНЫ, ДЕЛЬФИНАРИЙ\\n\\nАпартаменты 28,5 м2.\\nВторой этаж Балкон. \\n\\nГородские коммуникации.\\nОбъект сдан!\\n\\nПолная консультация и сопровождение сделки.\\nСтоимость: 3 600 000</td>\n",
       "      <td>46</td>\n",
       "      <td>2022-09-12 13:59:10.149602</td>\n",
       "    </tr>\n",
       "    <tr>\n",
       "      <th>125</th>\n",
       "      <td>3-комн. кв., 134,6 м², 11/12 этаж</td>\n",
       "      <td></td>\n",
       "      <td></td>\n",
       "      <td>19 000 000 ₽</td>\n",
       "      <td>141 159 ₽/м²</td>\n",
       "      <td>[Севастополь, р-н Гагаринский, мкр. Летчики, улица Маячная, 33]</td>\n",
       "      <td>[5 часов назад, сегодня, 08:38]</td>\n",
       "      <td>https://sevastopol.cian.ru/sale/flat/268756772/</td>\n",
       "      <td>Трехкомнатная двухуровневая квартира 134,6 м2 с площадью кухни 36,3 м2, на одиннадцатом и двенадцатом этаже двенадцатиэтажного дома. Расположена в г. Севастополь, Гагаринский район, улица Маячная. \\nПрекрасное предложение для дружной семьи или в качестве инвестиции. Двухуровневая квартира с прекрасным видом на море и город. Если вы цените безопасность, комфорт и хотите жить в лучшем районе города Севастополя - это предложение именно для Вас. \\n \\nПозвоните нам, чтобы узнать все детали! \\n \\nТехнические характеристики: \\n \\n-Адрес: г. Севастополь, Гагаринский район, улица Маячная\\n-Год постройки дома: 2016\\n-Общая площадь: 134,6 м2\\n-Жилая площадь: 75 м2\\n-Площадь кухни: 36,3 м2\\n-Высота потолка: 3 м\\n-Водоснабжение: централизованное\\n-Отопление, горячее водоснабжение: АГВ\\n-Газоснабжение: есть\\n \\nДополнительная информация: \\nДом 2016 года, благоустроенная придомовая территория. Светлая квартира свободной планировки расположена в тихом районе города с развитой инфраструктурой, рядом пляж и парк.\\n \\n-На первом уровне квартиры размещены большая кухня-гостиная, санузел, балкон.\\n-На втором уровне - холл (возможно разместить рабочее место), три спальни, санузел, гардеробная, два балкона.\\nКвартира светлая и теплая, со своим автономным отоплением (АГВ).\\nСостояние: черновая отделка, есть разводка электричества, есть дизайн-проект.\\n \\nПозвоните нам, чтобы назначить просмотр! \\n \\nИнфраструктура: \\nМикрорайон с развитой инфраструктурой: рядом остановка, рынок, аптеки, супермаркет, медицинский центр. В самом доме расположилась стоматологическая клиника, продуктовые магазины.\\nB пешей доступности крупнейшего \"Парка Победы\" и несколько скверов, песочный пляж Омега и галечный пляж парка. На автомобиле вы сможете добраться за 17 минут до исторического центра г. Севастополь.\\n \\nПодходит под ипотеку, материнский капитал.\\n \\nДокументы проверены юристами и готовы к сделке.\\n \\nДобавьте предложение в закладки, чтобы не потерять!</td>\n",
       "      <td>5</td>\n",
       "      <td>2022-09-12 13:59:10.149602</td>\n",
       "    </tr>\n",
       "    <tr>\n",
       "      <th>428</th>\n",
       "      <td>1-комн. кв., 49,62 м², 2/10 этаж</td>\n",
       "      <td>Сдача корпуса 4 кв. 2023</td>\n",
       "      <td>сдача ГК: 4 кв. 2023 года</td>\n",
       "      <td>4 217 700 ₽</td>\n",
       "      <td>85 000 ₽/м²</td>\n",
       "      <td>[Севастополь, р-н Гагаринский, Казачья Бухта мкр, Скифия ЖК]</td>\n",
       "      <td>[2 часа назад, сегодня, 11:11]</td>\n",
       "      <td>https://sevastopol.cian.ru/sale/flat/273181103/</td>\n",
       "      <td>Прекрасная квартира с городской пропиской в новом доме у моря. \\n5 минут до пляжа! Остановка в шаговой доступности , 15 минут до центра города!\\n\\nДвухконтурный газовый котел. Индивидуальное отопление, которое позволит Вам не только сократить коммунальные платежи, но и создать комфортную температуру в квартире. \\nУстановлены приборы учета (газ, вода, электричество)\\nВысокие потолки (2.8 м) и увеличенные стеклопакеты визуально делают квартиру еще более светлой и просторной.\\n\\nТерритория жилого комплекса полностью огорожена. \\nУютный зеленый двор с удобными скамейками для отдыха и детская площадка с каруселями и горками, которая обязательно понравится Вашим детям!\\n\\nМоре и пляж, магазины и социальные объекты (новая школа и детский сад), исторические и культурные объекты Севастополя  все это рядом с домом! \\n\\nВысокая степень готовности дома. Сдача дома  4 квартал 2023 год\\nРассрочка от застройщика. Материнский капитал. \\n\\nПрекрасное вложение как для проживания, так и для сдачи в аренду\\nЗвоните!</td>\n",
       "      <td>16</td>\n",
       "      <td>2022-09-12 13:59:10.149602</td>\n",
       "    </tr>\n",
       "  </tbody>\n",
       "</table>\n",
       "</div>"
      ],
      "text/plain": [
       "                             OfferTitle             OfferSubtitle  \\\n",
       "1271    1-комн. апарт., 28 м², 3/3 этаж                             \n",
       "125   3-комн. кв., 134,6 м², 11/12 этаж                             \n",
       "428    1-комн. кв., 49,62 м², 2/10 этаж  Сдача корпуса 4 кв. 2023   \n",
       "\n",
       "                       Deadline     MainPrice     PriceInfo  \\\n",
       "1271                              3 700 000 ₽  132 143 ₽/м²   \n",
       "125                              19 000 000 ₽  141 159 ₽/м²   \n",
       "428   сдача ГК: 4 кв. 2023 года   4 217 700 ₽   85 000 ₽/м²   \n",
       "\n",
       "                                                             GeoLabel  \\\n",
       "1271  [Севастополь, р-н Гагаринский, мкр. Омега, улица Челнокова, 49]   \n",
       "125   [Севастополь, р-н Гагаринский, мкр. Летчики, улица Маячная, 33]   \n",
       "428      [Севастополь, р-н Гагаринский, Казачья Бухта мкр, Скифия ЖК]   \n",
       "\n",
       "                             TimeLabel  \\\n",
       "1271  [четыре дня назад, 8 сен, 09:06]   \n",
       "125    [5 часов назад, сегодня, 08:38]   \n",
       "428     [2 часа назад, сегодня, 11:11]   \n",
       "\n",
       "                                             LinkArea  \\\n",
       "1271  https://sevastopol.cian.ru/sale/flat/273875003/   \n",
       "125   https://sevastopol.cian.ru/sale/flat/268756772/   \n",
       "428   https://sevastopol.cian.ru/sale/flat/273181103/   \n",
       "\n",
       "                                                                                                                                                                                                                                                                                                                                                                                                                                                                                                                                                                                                                                                                                                                                                                                                                                                                                                                                                                                                                                                                                                                                                                                                                                                                                                                                                                                                                                                                                                                                                                                                                                                                                                                                                                                                                                                                                                                                                                                                                        Description  \\\n",
       "1271                                                                                                                                                                                                                                                                                                                                                                                                                                                                                                                                                                                                                                                                                                                                                                                                                                                                                                                                                                                                                                                                                                                                                                                                                                                                                                                                                                                                                                                                                                                                                                                             Сохрани сбережения-купи недвижимость!\\nЛиквидные АПАРТАМЕНТЫ в самом привлекательном месте\\n г. Севастополя!\\nИНВЕСТИЦИИ В НЕДВИЖИМОСТЬ С ГАРАНТИЕЙ!\\n\\nБУХТА ОМЕГА ПАРК ПОБЕДЫ,МОРЕ, СПОРТИВНАЯ ЗОНА, АКВАПАРК, ДЕТСКАЯ ЗОНА РАЗВЛЕЧЕНИЙ КАФЕ  РЕСТОРАНЫ, ДЕЛЬФИНАРИЙ\\n\\nАпартаменты 28,5 м2.\\nВторой этаж Балкон. \\n\\nГородские коммуникации.\\nОбъект сдан!\\n\\nПолная консультация и сопровождение сделки.\\nСтоимость: 3 600 000   \n",
       "125   Трехкомнатная двухуровневая квартира 134,6 м2 с площадью кухни 36,3 м2, на одиннадцатом и двенадцатом этаже двенадцатиэтажного дома. Расположена в г. Севастополь, Гагаринский район, улица Маячная. \\nПрекрасное предложение для дружной семьи или в качестве инвестиции. Двухуровневая квартира с прекрасным видом на море и город. Если вы цените безопасность, комфорт и хотите жить в лучшем районе города Севастополя - это предложение именно для Вас. \\n \\nПозвоните нам, чтобы узнать все детали! \\n \\nТехнические характеристики: \\n \\n-Адрес: г. Севастополь, Гагаринский район, улица Маячная\\n-Год постройки дома: 2016\\n-Общая площадь: 134,6 м2\\n-Жилая площадь: 75 м2\\n-Площадь кухни: 36,3 м2\\n-Высота потолка: 3 м\\n-Водоснабжение: централизованное\\n-Отопление, горячее водоснабжение: АГВ\\n-Газоснабжение: есть\\n \\nДополнительная информация: \\nДом 2016 года, благоустроенная придомовая территория. Светлая квартира свободной планировки расположена в тихом районе города с развитой инфраструктурой, рядом пляж и парк.\\n \\n-На первом уровне квартиры размещены большая кухня-гостиная, санузел, балкон.\\n-На втором уровне - холл (возможно разместить рабочее место), три спальни, санузел, гардеробная, два балкона.\\nКвартира светлая и теплая, со своим автономным отоплением (АГВ).\\nСостояние: черновая отделка, есть разводка электричества, есть дизайн-проект.\\n \\nПозвоните нам, чтобы назначить просмотр! \\n \\nИнфраструктура: \\nМикрорайон с развитой инфраструктурой: рядом остановка, рынок, аптеки, супермаркет, медицинский центр. В самом доме расположилась стоматологическая клиника, продуктовые магазины.\\nB пешей доступности крупнейшего \"Парка Победы\" и несколько скверов, песочный пляж Омега и галечный пляж парка. На автомобиле вы сможете добраться за 17 минут до исторического центра г. Севастополь.\\n \\nПодходит под ипотеку, материнский капитал.\\n \\nДокументы проверены юристами и готовы к сделке.\\n \\nДобавьте предложение в закладки, чтобы не потерять!   \n",
       "428                                                                                                                                                                                                                                                                                                                                                                                                                                                                                                                                                                                                                                                                                                                                                                                                                                                                                                                                                                             Прекрасная квартира с городской пропиской в новом доме у моря. \\n5 минут до пляжа! Остановка в шаговой доступности , 15 минут до центра города!\\n\\nДвухконтурный газовый котел. Индивидуальное отопление, которое позволит Вам не только сократить коммунальные платежи, но и создать комфортную температуру в квартире. \\nУстановлены приборы учета (газ, вода, электричество)\\nВысокие потолки (2.8 м) и увеличенные стеклопакеты визуально делают квартиру еще более светлой и просторной.\\n\\nТерритория жилого комплекса полностью огорожена. \\nУютный зеленый двор с удобными скамейками для отдыха и детская площадка с каруселями и горками, которая обязательно понравится Вашим детям!\\n\\nМоре и пляж, магазины и социальные объекты (новая школа и детский сад), исторические и культурные объекты Севастополя  все это рядом с домом! \\n\\nВысокая степень готовности дома. Сдача дома  4 квартал 2023 год\\nРассрочка от застройщика. Материнский капитал. \\n\\nПрекрасное вложение как для проживания, так и для сдачи в аренду\\nЗвоните!   \n",
       "\n",
       "      page                         ts  \n",
       "1271    46 2022-09-12 13:59:10.149602  \n",
       "125      5 2022-09-12 13:59:10.149602  \n",
       "428     16 2022-09-12 13:59:10.149602  "
      ]
     },
     "execution_count": 6,
     "metadata": {},
     "output_type": "execute_result"
    }
   ],
   "source": [
    "df.sample(3)"
   ]
  },
  {
   "cell_type": "code",
   "execution_count": 7,
   "id": "6b6e1d34",
   "metadata": {},
   "outputs": [
    {
     "name": "stdout",
     "output_type": "stream",
     "text": [
      "1509\n",
      "1506\n"
     ]
    }
   ],
   "source": [
    "print(len(df))\n",
    "df = pd.DataFrame(df).dropna().drop_duplicates(['LinkArea','Description',]).reset_index(drop=True)\n",
    "print(len(df))"
   ]
  },
  {
   "cell_type": "code",
   "execution_count": 8,
   "id": "27150829",
   "metadata": {},
   "outputs": [],
   "source": [
    "ts = dtm.now().strftime('%Y-%m-%d_%H-%M')\n",
    "assert len(df)>0\n",
    "# df.to_excel(f'{raw_data_path}/cian_{ts}_raw.xlsx',index=False)\n",
    "df.to_pickle(f'{raw_data_path}/cian_{ts}_raw.pkl')"
   ]
  },
  {
   "cell_type": "markdown",
   "id": "b1c773fc",
   "metadata": {},
   "source": [
    "----"
   ]
  },
  {
   "cell_type": "code",
   "execution_count": 9,
   "id": "3375a88f",
   "metadata": {},
   "outputs": [],
   "source": [
    "# df = pd.read_excel('data/raw/cian/cian_2022-09-08_13-49_raw.xlsx')"
   ]
  },
  {
   "cell_type": "code",
   "execution_count": 10,
   "id": "a1a04f5b",
   "metadata": {},
   "outputs": [],
   "source": [
    "# df"
   ]
  },
  {
   "cell_type": "code",
   "execution_count": 11,
   "id": "cb1cfae9",
   "metadata": {},
   "outputs": [],
   "source": [
    "# df['GeoLabel'].apply( lambda s : len(s) ) #', '.join(s) )\n",
    "\n",
    "# s = ['Севастополь', 'р-н Гагаринский', 'Казачья Бухта мкр', 'Скифия ЖК']\n",
    "# ', '.join(s)"
   ]
  },
  {
   "cell_type": "code",
   "execution_count": 12,
   "id": "4354558d",
   "metadata": {},
   "outputs": [],
   "source": [
    "# from lib.cian import CianDataCleaner\n",
    "\n",
    "# CianDataCleaner().transform(df)"
   ]
  },
  {
   "cell_type": "markdown",
   "id": "c12f900f",
   "metadata": {},
   "source": [
    "----"
   ]
  },
  {
   "cell_type": "code",
   "execution_count": 13,
   "id": "f2f98ed9",
   "metadata": {},
   "outputs": [],
   "source": [
    "# with open('tmp/cian.html','wt') as f: f.write(html[0])"
   ]
  }
 ],
 "metadata": {
  "kernelspec": {
   "display_name": "Python 3 (ipykernel)",
   "language": "python",
   "name": "python3"
  },
  "language_info": {
   "codemirror_mode": {
    "name": "ipython",
    "version": 3
   },
   "file_extension": ".py",
   "mimetype": "text/x-python",
   "name": "python",
   "nbconvert_exporter": "python",
   "pygments_lexer": "ipython3",
   "version": "3.10.6"
  },
  "toc": {
   "base_numbering": 1,
   "nav_menu": {},
   "number_sections": true,
   "sideBar": true,
   "skip_h1_title": false,
   "title_cell": "Table of Contents",
   "title_sidebar": "Contents",
   "toc_cell": false,
   "toc_position": {},
   "toc_section_display": true,
   "toc_window_display": false
  }
 },
 "nbformat": 4,
 "nbformat_minor": 5
}
