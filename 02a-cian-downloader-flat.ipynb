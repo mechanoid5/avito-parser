{
 "cells": [
  {
   "cell_type": "markdown",
   "id": "edb73f62",
   "metadata": {},
   "source": [
    "__качаем объявления о продаже квартир с циан.ru__\n",
    "\n",
    "_Evgeny S. Borisov <parser@mechanoid.su>_"
   ]
  },
  {
   "cell_type": "code",
   "execution_count": 1,
   "id": "8e37d325",
   "metadata": {},
   "outputs": [],
   "source": [
    "import sys\n",
    "import re\n",
    "import logging\n",
    "from datetime import datetime as dtm\n",
    "from tqdm.notebook import tqdm\n",
    "import pandas as pd\n",
    "from bs4 import BeautifulSoup\n",
    "from time import sleep\n",
    "from random import random"
   ]
  },
  {
   "cell_type": "code",
   "execution_count": 2,
   "id": "202ec0cb",
   "metadata": {},
   "outputs": [],
   "source": [
    "pd.set_option('display.max_colwidth', None)\n",
    "pd.set_option('display.float_format', '{:.2f}'.format)\n",
    "tqdm.pandas()\n",
    "\n",
    "logging.basicConfig(\n",
    "        format=u'[%(levelname)-8s] %(asctime)s | %(message)s',\n",
    "        datefmt='%Y-%m-%d %H:%M:%S',\n",
    "        level=logging.INFO,\n",
    "        # level=logging.DEBUG,\n",
    "        stream=sys.stdout,\n",
    "    )"
   ]
  },
  {
   "cell_type": "code",
   "execution_count": 3,
   "id": "3411b55d",
   "metadata": {},
   "outputs": [],
   "source": [
    "raw_data_path = 'data/raw/flat/cian' # каталог с файлами объявлений"
   ]
  },
  {
   "cell_type": "code",
   "execution_count": 4,
   "id": "b036cb34",
   "metadata": {},
   "outputs": [],
   "source": [
    "profile_path = '/home/mechanoid/.mozilla/firefox/p144xo2m.default-release'\n",
    "# base_url, req_param = 'https://sevastopol.cian.ru/kupit-kvartiru/', ''\n",
    "place = 'sevastopol'\n",
    "base_url, req_param ='https://www.cian.ru/cat.php', 'deal_type=sale&offer_type=flat&region=184723'"
   ]
  },
  {
   "cell_type": "code",
   "execution_count": 5,
   "id": "3e42986b",
   "metadata": {},
   "outputs": [
    {
     "name": "stdout",
     "output_type": "stream",
     "text": [
      "[INFO    ] 2023-01-27 16:27:20 | DownloaderSeleniumFirefox: downloader init\n",
      "[INFO    ] 2023-01-27 16:27:20 | DownloaderSeleniumFirefox: open virtual browser\n",
      "[INFO    ] 2023-01-27 16:27:23 | AdsListParser: downloader init\n",
      "[INFO    ] 2023-01-27 16:27:23 | CianParser: downloader init\n",
      "[INFO    ] 2023-01-27 16:27:23 | AdsListParser: start read and parse pages...\n",
      "[INFO    ] 2023-01-27 16:27:41 | AdsListParser: read page 1\n",
      "[INFO    ] 2023-01-27 16:27:49 | AdsListParser: read page 2\n",
      "[INFO    ] 2023-01-27 16:28:04 | AdsListParser: read page 3\n",
      "[INFO    ] 2023-01-27 16:28:13 | AdsListParser: read page 4\n",
      "[INFO    ] 2023-01-27 16:28:25 | AdsListParser: read page 5\n",
      "[INFO    ] 2023-01-27 16:28:33 | AdsListParser: read page 6\n",
      "[INFO    ] 2023-01-27 16:28:41 | AdsListParser: read page 7\n",
      "[INFO    ] 2023-01-27 16:28:51 | AdsListParser: read page 8\n",
      "[INFO    ] 2023-01-27 16:29:00 | AdsListParser: read page 9\n",
      "[INFO    ] 2023-01-27 16:29:11 | AdsListParser: read page 10\n",
      "[INFO    ] 2023-01-27 16:29:17 | AdsListParser: read page 11\n",
      "[INFO    ] 2023-01-27 16:29:27 | AdsListParser: read page 12\n",
      "[INFO    ] 2023-01-27 16:29:41 | AdsListParser: read page 13\n",
      "[INFO    ] 2023-01-27 16:29:49 | AdsListParser: read page 14\n",
      "[INFO    ] 2023-01-27 16:29:59 | AdsListParser: read page 15\n",
      "[INFO    ] 2023-01-27 16:30:08 | AdsListParser: read page 16\n",
      "[INFO    ] 2023-01-27 16:30:21 | AdsListParser: read page 17\n",
      "[INFO    ] 2023-01-27 16:30:33 | AdsListParser: read page 18\n",
      "[INFO    ] 2023-01-27 16:30:42 | AdsListParser: read page 19\n",
      "[INFO    ] 2023-01-27 16:30:52 | AdsListParser: read page 20\n",
      "[INFO    ] 2023-01-27 16:31:00 | AdsListParser: read page 21\n",
      "[INFO    ] 2023-01-27 16:31:09 | AdsListParser: read page 22\n",
      "[INFO    ] 2023-01-27 16:31:16 | AdsListParser: read page 23\n",
      "[INFO    ] 2023-01-27 16:31:28 | AdsListParser: read page 24\n",
      "[INFO    ] 2023-01-27 16:31:37 | AdsListParser: read page 25\n",
      "[INFO    ] 2023-01-27 16:31:48 | AdsListParser: read page 26\n",
      "[INFO    ] 2023-01-27 16:32:01 | AdsListParser: read page 27\n",
      "[INFO    ] 2023-01-27 16:32:13 | AdsListParser: read page 28\n",
      "[INFO    ] 2023-01-27 16:32:19 | AdsListParser: read page 29\n",
      "[INFO    ] 2023-01-27 16:32:30 | AdsListParser: read page 30\n",
      "[INFO    ] 2023-01-27 16:32:41 | AdsListParser: read page 31\n",
      "[INFO    ] 2023-01-27 16:32:50 | AdsListParser: read page 32\n",
      "[INFO    ] 2023-01-27 16:33:04 | AdsListParser: read page 33\n",
      "[INFO    ] 2023-01-27 16:33:17 | AdsListParser: read page 34\n",
      "[INFO    ] 2023-01-27 16:33:30 | AdsListParser: read page 35\n",
      "[INFO    ] 2023-01-27 16:33:40 | AdsListParser: read page 36\n",
      "[INFO    ] 2023-01-27 16:33:54 | AdsListParser: read page 37\n",
      "[INFO    ] 2023-01-27 16:34:03 | AdsListParser: read page 38\n",
      "[INFO    ] 2023-01-27 16:34:13 | AdsListParser: read page 39\n",
      "[INFO    ] 2023-01-27 16:34:27 | AdsListParser: read page 40\n",
      "[INFO    ] 2023-01-27 16:34:35 | AdsListParser: read page 41\n",
      "[INFO    ] 2023-01-27 16:34:49 | AdsListParser: read page 42\n",
      "[INFO    ] 2023-01-27 16:34:57 | AdsListParser: read page 43\n",
      "[INFO    ] 2023-01-27 16:35:06 | AdsListParser: read page 44\n",
      "[INFO    ] 2023-01-27 16:35:15 | AdsListParser: read page 45\n",
      "[INFO    ] 2023-01-27 16:35:22 | AdsListParser: read page 46\n",
      "[INFO    ] 2023-01-27 16:35:37 | AdsListParser: read page 47\n",
      "[INFO    ] 2023-01-27 16:35:51 | AdsListParser: read page 48\n",
      "[INFO    ] 2023-01-27 16:36:07 | AdsListParser: read page 49\n",
      "[INFO    ] 2023-01-27 16:36:20 | AdsListParser: read page 50\n",
      "[INFO    ] 2023-01-27 16:36:32 | AdsListParser: read page 51\n",
      "[INFO    ] 2023-01-27 16:36:46 | AdsListParser: read page 52\n",
      "[INFO    ] 2023-01-27 16:36:58 | AdsListParser: read page 53\n",
      "[INFO    ] 2023-01-27 16:37:11 | AdsListParser: read page 54\n",
      "[INFO    ] 2023-01-27 16:37:11 | AdsListParser: last page detected\n",
      "[INFO    ] 2023-01-27 16:37:12 | DownloaderSeleniumFirefox: close virtual browser\n",
      "1500\n",
      "CPU times: user 13 s, sys: 421 ms, total: 13.5 s\n",
      "Wall time: 9min 51s\n"
     ]
    }
   ],
   "source": [
    "%%time\n",
    "\n",
    "# from lib.downloader import DownloaderSimple\n",
    "# from lib.parser import AdsListParser\n",
    "from lib.downloader import DownloaderSeleniumFirefox\n",
    "from lib.cian import CianParser\n",
    "\n",
    "\n",
    "df,html = CianParser(\n",
    "        base_url = base_url,\n",
    "        driver=DownloaderSeleniumFirefox(profile_path),\n",
    "        # driver=DownloaderSimple(),\n",
    "    ).load(req_param=req_param, keep_html=True) # , npage_start=53) # , page_limit=3 ) #\n",
    "\n",
    "print(len(df))"
   ]
  },
  {
   "cell_type": "code",
   "execution_count": 6,
   "id": "042e3e74",
   "metadata": {},
   "outputs": [
    {
     "data": {
      "text/html": [
       "<div>\n",
       "<style scoped>\n",
       "    .dataframe tbody tr th:only-of-type {\n",
       "        vertical-align: middle;\n",
       "    }\n",
       "\n",
       "    .dataframe tbody tr th {\n",
       "        vertical-align: top;\n",
       "    }\n",
       "\n",
       "    .dataframe thead th {\n",
       "        text-align: right;\n",
       "    }\n",
       "</style>\n",
       "<table border=\"1\" class=\"dataframe\">\n",
       "  <thead>\n",
       "    <tr style=\"text-align: right;\">\n",
       "      <th></th>\n",
       "      <th>OfferTitle</th>\n",
       "      <th>OfferSubtitle</th>\n",
       "      <th>Deadline</th>\n",
       "      <th>MainPrice</th>\n",
       "      <th>PriceInfo</th>\n",
       "      <th>GeoLabel</th>\n",
       "      <th>TimeLabel</th>\n",
       "      <th>LinkArea</th>\n",
       "      <th>Description</th>\n",
       "      <th>page</th>\n",
       "      <th>ts</th>\n",
       "    </tr>\n",
       "  </thead>\n",
       "  <tbody>\n",
       "    <tr>\n",
       "      <th>640</th>\n",
       "      <td>3-комн. кв., 40 м², 9/11 этаж</td>\n",
       "      <td></td>\n",
       "      <td>дом сдан</td>\n",
       "      <td>10 000 000 ₽</td>\n",
       "      <td>250 000 ₽/м²</td>\n",
       "      <td>[Севастополь, р-н Гагаринский, улица Парковая, 7]</td>\n",
       "      <td>[11 часов назад, сегодня, 04:56]</td>\n",
       "      <td>https://sevastopol.cian.ru/sale/flat/282200138/</td>\n",
       "      <td>Продаётся 3-комнатная квартира в сданном доме (Корпус 1), срок сдачи: IV-кв. 2018, общей площадью 40 кв.м., на 9 этаже. Комплекс апартаментов \"Аква DeLuxe\" предназначены для комфортабельной жизни и отдыха прямо на берегу Черного моря! В курортный комплекс входят: рестораны, аквапарк, бассейны, банный комплекс, спа-центр, собственный пляж, детские площадки, красивый парк с уютными беседками, теннисные корты, спортивные площадки.</td>\n",
       "      <td>23</td>\n",
       "      <td>2023-01-27 16:37:11.689592</td>\n",
       "    </tr>\n",
       "    <tr>\n",
       "      <th>549</th>\n",
       "      <td>1-к в историческом центре города!</td>\n",
       "      <td>1-комн. кв., 41,5 м², 3/4 этаж</td>\n",
       "      <td></td>\n",
       "      <td>6 200 000 ₽</td>\n",
       "      <td>149 398 ₽/м²</td>\n",
       "      <td>[Севастополь, р-н Ленинский, улица Пушкина, 12]</td>\n",
       "      <td>[3 недели назад, 3 янв, 15:11]</td>\n",
       "      <td>https://sevastopol.cian.ru/sale/flat/276640867/</td>\n",
       "      <td>Продам хорошую 1 комнатную квартиру в историческом центре города Севастополя\\nРасположена по улице ПУШКИНА, 12 (рядом ул. Ленина, Мичурина, Мокроусова, Большая Морская, Советская, пл. Суворова, Ушакова, Нахимова и др.)\\n3 этаж в 4-х этажном доме\\nБлагодаря толстым стенам в квартире зимой тепло, а летом очень комфортно и не жарко\\nОбщая площадь 41,5м2: просторная комната 18м2, кухня 9м2, совмещенный санузел 4,9м2, застекленный балкон, с которого видно море!\\nСостояние хорошее\\nНа горячую воду установлена газовая колонка  очень экономно по оплате коммунальных платежей\\nОгромным плюсом для центра будет наличие парковки прямо во дворе\\nВ пешей доступности расположены лучшие школы города: 3, 1, детский садик, а также все социально значимые объекты инфраструктуры\\nИ, несомненно, изюминкой данного места являются большое количество достопримечательностей города, парка Исторический бульвар, скверов для прогулок и набережной Артбухта\\nДанное предложение может быть интересно как для собственного проживания, так и прекрасная инвестиция для сдачи в аренду, ведь центр города всегда в спросе!\\nЗвоните, записывайтесь на просмотр</td>\n",
       "      <td>20</td>\n",
       "      <td>2023-01-27 16:37:11.689592</td>\n",
       "    </tr>\n",
       "    <tr>\n",
       "      <th>1269</th>\n",
       "      <td>3-комн. кв., 98 м², 1/5 этаж</td>\n",
       "      <td></td>\n",
       "      <td></td>\n",
       "      <td>12 500 000 ₽</td>\n",
       "      <td>127 551 ₽/м²</td>\n",
       "      <td>[Севастополь, р-н Гагаринский, улица Героев Бреста, 46В]</td>\n",
       "      <td>[три дня назад, 24 янв, 12:21]</td>\n",
       "      <td>https://sevastopol.cian.ru/sale/flat/273487750/</td>\n",
       "      <td>Четырехкомнатная квартира 98 м2, на 1/5 этаже дома с просторной кухней 13,68 км2. Расположена в г. Севастополь, Гагаринский район, ул. Героев Бреста, 46 к. В.\\nПозвоните нам, чтобы узнать все детали! \\nТехнические характеристики: \\n \\n-Адрес: г. Севастополь, Гагаринский район, ул. Героев Бреста, 46 к. В\\n-Год постройки дома: 2002\\n-Этаж/этажность: 1/5\\n-Количество комнат: 4\\n-Комнаты: изолированные\\n-Общая площадь: 98 м2\\n-Жилая площадь: 68,74 м2\\n-Площадь кухни: 13,68 м2\\n-Высота потолка: 2,6 м\\n-Санузел: совмещенный\\n-Водоснабжение: центральное\\n-Горячее водоснабжение: центральное\\n-Отопление: центральное\\nДополнительная информация: \\nКомнаты правильной формы позволят Вам воплотить в жизнь любое дизайнерское решение с грамотным использованием пространства.\\nПозвоните нам, чтобы назначить просмотр! \\nИнфраструктура: \\nКвартира находится в тихом, спальном районе. На придомовой территории есть детская площадка. В 5 минутах ходьбы находятся сквер и торговый центр ПУД, в 10 минутах ТЦ Апельсин. До остановок общественного транспорта 5 минут ходьбы, откуда Вы сможете добраться в любую точку города. Так же, в 10 минутах ходьбы находятся школы 32, 49, 54, детские сады 92, 133, 130, отделения почты, небольшие продовольственные магазины, аптеки, поликлиника 3. До общественного пляжа 10 минут езды.\\nПодходит для наличного расчета, под гражданскую ипотеку, материнский капитал, жилищные сертификаты. \\nДокументы РФ проверены юристами и готовы к сделке. \\nПрофессиональное сопровождение до получения права собственности.\\nДобавьте предложение в закладки, чтобы не потерять!</td>\n",
       "      <td>46</td>\n",
       "      <td>2023-01-27 16:37:11.689592</td>\n",
       "    </tr>\n",
       "  </tbody>\n",
       "</table>\n",
       "</div>"
      ],
      "text/plain": [
       "                             OfferTitle                   OfferSubtitle  \\\n",
       "640       3-комн. кв., 40 м², 9/11 этаж                                   \n",
       "549   1-к в историческом центре города!  1-комн. кв., 41,5 м², 3/4 этаж   \n",
       "1269       3-комн. кв., 98 м², 1/5 этаж                                   \n",
       "\n",
       "      Deadline     MainPrice     PriceInfo  \\\n",
       "640   дом сдан  10 000 000 ₽  250 000 ₽/м²   \n",
       "549              6 200 000 ₽  149 398 ₽/м²   \n",
       "1269            12 500 000 ₽  127 551 ₽/м²   \n",
       "\n",
       "                                                      GeoLabel  \\\n",
       "640          [Севастополь, р-н Гагаринский, улица Парковая, 7]   \n",
       "549            [Севастополь, р-н Ленинский, улица Пушкина, 12]   \n",
       "1269  [Севастополь, р-н Гагаринский, улица Героев Бреста, 46В]   \n",
       "\n",
       "                             TimeLabel  \\\n",
       "640   [11 часов назад, сегодня, 04:56]   \n",
       "549     [3 недели назад, 3 янв, 15:11]   \n",
       "1269    [три дня назад, 24 янв, 12:21]   \n",
       "\n",
       "                                             LinkArea  \\\n",
       "640   https://sevastopol.cian.ru/sale/flat/282200138/   \n",
       "549   https://sevastopol.cian.ru/sale/flat/276640867/   \n",
       "1269  https://sevastopol.cian.ru/sale/flat/273487750/   \n",
       "\n",
       "                                                                                                                                                                                                                                                                                                                                                                                                                                                                                                                                                                                                                                                                                                                                                                                                                                                                                                                                                                                                                                                                                                                                                                                                                                                                                                                                                                                                                                                                                                                                                                                                                                          Description  \\\n",
       "640                                                                                                                                                                                                                                                                                                                                                                                                                                                                                                                                                                                                                                                                                                                                                                                                                                                                                                                                                                                                                                                                                                                                                                                                   Продаётся 3-комнатная квартира в сданном доме (Корпус 1), срок сдачи: IV-кв. 2018, общей площадью 40 кв.м., на 9 этаже. Комплекс апартаментов \"Аква DeLuxe\" предназначены для комфортабельной жизни и отдыха прямо на берегу Черного моря! В курортный комплекс входят: рестораны, аквапарк, бассейны, банный комплекс, спа-центр, собственный пляж, детские площадки, красивый парк с уютными беседками, теннисные корты, спортивные площадки.   \n",
       "549                                                                                                                                                                                                                                                                                                                                                                                                                                                                        Продам хорошую 1 комнатную квартиру в историческом центре города Севастополя\\nРасположена по улице ПУШКИНА, 12 (рядом ул. Ленина, Мичурина, Мокроусова, Большая Морская, Советская, пл. Суворова, Ушакова, Нахимова и др.)\\n3 этаж в 4-х этажном доме\\nБлагодаря толстым стенам в квартире зимой тепло, а летом очень комфортно и не жарко\\nОбщая площадь 41,5м2: просторная комната 18м2, кухня 9м2, совмещенный санузел 4,9м2, застекленный балкон, с которого видно море!\\nСостояние хорошее\\nНа горячую воду установлена газовая колонка  очень экономно по оплате коммунальных платежей\\nОгромным плюсом для центра будет наличие парковки прямо во дворе\\nВ пешей доступности расположены лучшие школы города: 3, 1, детский садик, а также все социально значимые объекты инфраструктуры\\nИ, несомненно, изюминкой данного места являются большое количество достопримечательностей города, парка Исторический бульвар, скверов для прогулок и набережной Артбухта\\nДанное предложение может быть интересно как для собственного проживания, так и прекрасная инвестиция для сдачи в аренду, ведь центр города всегда в спросе!\\nЗвоните, записывайтесь на просмотр   \n",
       "1269  Четырехкомнатная квартира 98 м2, на 1/5 этаже дома с просторной кухней 13,68 км2. Расположена в г. Севастополь, Гагаринский район, ул. Героев Бреста, 46 к. В.\\nПозвоните нам, чтобы узнать все детали! \\nТехнические характеристики: \\n \\n-Адрес: г. Севастополь, Гагаринский район, ул. Героев Бреста, 46 к. В\\n-Год постройки дома: 2002\\n-Этаж/этажность: 1/5\\n-Количество комнат: 4\\n-Комнаты: изолированные\\n-Общая площадь: 98 м2\\n-Жилая площадь: 68,74 м2\\n-Площадь кухни: 13,68 м2\\n-Высота потолка: 2,6 м\\n-Санузел: совмещенный\\n-Водоснабжение: центральное\\n-Горячее водоснабжение: центральное\\n-Отопление: центральное\\nДополнительная информация: \\nКомнаты правильной формы позволят Вам воплотить в жизнь любое дизайнерское решение с грамотным использованием пространства.\\nПозвоните нам, чтобы назначить просмотр! \\nИнфраструктура: \\nКвартира находится в тихом, спальном районе. На придомовой территории есть детская площадка. В 5 минутах ходьбы находятся сквер и торговый центр ПУД, в 10 минутах ТЦ Апельсин. До остановок общественного транспорта 5 минут ходьбы, откуда Вы сможете добраться в любую точку города. Так же, в 10 минутах ходьбы находятся школы 32, 49, 54, детские сады 92, 133, 130, отделения почты, небольшие продовольственные магазины, аптеки, поликлиника 3. До общественного пляжа 10 минут езды.\\nПодходит для наличного расчета, под гражданскую ипотеку, материнский капитал, жилищные сертификаты. \\nДокументы РФ проверены юристами и готовы к сделке. \\nПрофессиональное сопровождение до получения права собственности.\\nДобавьте предложение в закладки, чтобы не потерять!   \n",
       "\n",
       "      page                         ts  \n",
       "640     23 2023-01-27 16:37:11.689592  \n",
       "549     20 2023-01-27 16:37:11.689592  \n",
       "1269    46 2023-01-27 16:37:11.689592  "
      ]
     },
     "execution_count": 6,
     "metadata": {},
     "output_type": "execute_result"
    }
   ],
   "source": [
    "df.sample(3)"
   ]
  },
  {
   "cell_type": "code",
   "execution_count": 7,
   "id": "eabb9f45",
   "metadata": {},
   "outputs": [],
   "source": [
    "assert len(df)>0"
   ]
  },
  {
   "cell_type": "code",
   "execution_count": 8,
   "id": "6b6e1d34",
   "metadata": {},
   "outputs": [
    {
     "name": "stdout",
     "output_type": "stream",
     "text": [
      "1500\n",
      "1467\n"
     ]
    }
   ],
   "source": [
    "print(len(df))\n",
    "df = pd.DataFrame(df).dropna().drop_duplicates(['LinkArea','Description',]).reset_index(drop=True)\n",
    "print(len(df))"
   ]
  },
  {
   "cell_type": "code",
   "execution_count": 9,
   "id": "76af0a8e",
   "metadata": {},
   "outputs": [],
   "source": [
    "df['place']=place"
   ]
  },
  {
   "cell_type": "code",
   "execution_count": 10,
   "id": "27150829",
   "metadata": {},
   "outputs": [],
   "source": [
    "ts = dtm.now().strftime('%Y-%m-%d_%H-%M')\n",
    "assert len(df)>0\n",
    "# df.to_excel(f'{raw_data_path}/cian_{ts}_raw.xlsx',index=False)\n",
    "df.to_pickle(f'{raw_data_path}/cian_{ts}_raw.pkl')"
   ]
  },
  {
   "cell_type": "markdown",
   "id": "b1c773fc",
   "metadata": {},
   "source": [
    "----"
   ]
  },
  {
   "cell_type": "code",
   "execution_count": 11,
   "id": "3375a88f",
   "metadata": {},
   "outputs": [],
   "source": [
    "# df = pd.read_excel('data/raw/cian/cian_2022-09-08_13-49_raw.xlsx')"
   ]
  },
  {
   "cell_type": "code",
   "execution_count": 12,
   "id": "a1a04f5b",
   "metadata": {},
   "outputs": [],
   "source": [
    "# df"
   ]
  },
  {
   "cell_type": "code",
   "execution_count": 13,
   "id": "cb1cfae9",
   "metadata": {},
   "outputs": [],
   "source": [
    "# df['GeoLabel'].apply( lambda s : len(s) ) #', '.join(s) )\n",
    "\n",
    "# s = ['Севастополь', 'р-н Гагаринский', 'Казачья Бухта мкр', 'Скифия ЖК']\n",
    "# ', '.join(s)"
   ]
  },
  {
   "cell_type": "code",
   "execution_count": 14,
   "id": "4354558d",
   "metadata": {},
   "outputs": [],
   "source": [
    "# from lib.cian import CianDataCleaner\n",
    "\n",
    "# CianDataCleaner().transform(df)"
   ]
  },
  {
   "cell_type": "markdown",
   "id": "c12f900f",
   "metadata": {},
   "source": [
    "----"
   ]
  },
  {
   "cell_type": "code",
   "execution_count": 15,
   "id": "f2f98ed9",
   "metadata": {},
   "outputs": [],
   "source": [
    "# with open('tmp/cian.html','wt') as f: f.write(html[0])"
   ]
  }
 ],
 "metadata": {
  "kernelspec": {
   "display_name": "Python 3 (ipykernel)",
   "language": "python",
   "name": "python3"
  },
  "language_info": {
   "codemirror_mode": {
    "name": "ipython",
    "version": 3
   },
   "file_extension": ".py",
   "mimetype": "text/x-python",
   "name": "python",
   "nbconvert_exporter": "python",
   "pygments_lexer": "ipython3",
   "version": "3.10.8"
  },
  "toc": {
   "base_numbering": 1,
   "nav_menu": {},
   "number_sections": true,
   "sideBar": true,
   "skip_h1_title": false,
   "title_cell": "Table of Contents",
   "title_sidebar": "Contents",
   "toc_cell": false,
   "toc_position": {},
   "toc_section_display": true,
   "toc_window_display": false
  }
 },
 "nbformat": 4,
 "nbformat_minor": 5
}
