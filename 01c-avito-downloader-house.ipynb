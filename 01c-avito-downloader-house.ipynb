{
 "cells": [
  {
   "cell_type": "markdown",
   "id": "7bec28d7",
   "metadata": {},
   "source": [
    "__качаем объявления о продаже домов с авито.ru__\n",
    "\n",
    "_Evgeny S. Borisov <parser@mechanoid.su>_"
   ]
  },
  {
   "cell_type": "code",
   "execution_count": 1,
   "id": "52c5999f",
   "metadata": {},
   "outputs": [],
   "source": [
    "# !pacman -S firefox firefox-i18n-r  geckodriver\n",
    "# !pip install seleniuam"
   ]
  },
  {
   "cell_type": "code",
   "execution_count": 2,
   "id": "bcea4d8b",
   "metadata": {
    "ExecuteTime": {
     "end_time": "2022-08-26T14:19:06.118492Z",
     "start_time": "2022-08-26T14:13:37.888398Z"
    }
   },
   "outputs": [],
   "source": [
    "# import re\n",
    "import sys\n",
    "import logging\n",
    "from datetime import datetime as dtm\n",
    "from tqdm.notebook import tqdm\n",
    "import pandas as pd"
   ]
  },
  {
   "cell_type": "code",
   "execution_count": 3,
   "id": "caabc8c7",
   "metadata": {
    "ExecuteTime": {
     "end_time": "2022-08-26T14:19:06.118492Z",
     "start_time": "2022-08-26T14:13:37.888398Z"
    }
   },
   "outputs": [],
   "source": [
    "pd.set_option('display.max_colwidth', None)\n",
    "pd.set_option('display.float_format', '{:.2f}'.format)\n",
    "tqdm.pandas()\n",
    "\n",
    "logging.basicConfig(\n",
    "        format=u'[%(levelname)-8s] %(asctime)s | %(message)s',\n",
    "        datefmt='%Y-%m-%d %H:%M:%S',\n",
    "        level=logging.INFO,\n",
    "        # level=logging.DEBUG,\n",
    "        stream=sys.stdout,\n",
    "    )"
   ]
  },
  {
   "cell_type": "markdown",
   "id": "db3fe2be",
   "metadata": {},
   "source": [
    "---"
   ]
  },
  {
   "cell_type": "code",
   "execution_count": 4,
   "id": "288569b0",
   "metadata": {},
   "outputs": [],
   "source": [
    "# url = (\n",
    "# 'https://www.avito.ru/yaroslavskaya_oblast/avtomobili/chevrolet/niva'\n",
    "# '?bt=0'\n",
    "# '&i=1'\n",
    "# '&pmax=150000'\n",
    "# '&pmin=10000'\n",
    "# )"
   ]
  },
  {
   "cell_type": "code",
   "execution_count": 5,
   "id": "e1d4e472",
   "metadata": {},
   "outputs": [],
   "source": [
    "profile_path = '/home/mechanoid/.mozilla/firefox/p144xo2m.default-release'\n",
    "\n",
    "base_url = 'https://www.avito.ru/'\n",
    "# avito_path = 'sevastopol/kvartiry/prodam'\n",
    "\n",
    "raw_data_path = 'data/raw/house/avito' # каталог с файлами объявлений"
   ]
  },
  {
   "cell_type": "code",
   "execution_count": 6,
   "id": "202a7010",
   "metadata": {},
   "outputs": [],
   "source": [
    "from lib.downloader import DownloaderSeleniumFirefox\n",
    "from lib.avito import AvitoParserRealty"
   ]
  },
  {
   "cell_type": "markdown",
   "id": "02f746ef",
   "metadata": {},
   "source": [
    "---"
   ]
  },
  {
   "cell_type": "code",
   "execution_count": 7,
   "id": "d437eab9",
   "metadata": {},
   "outputs": [],
   "source": [
    "place = 'sevastopol'\n",
    "# place = 'bahchisaray'\n",
    "# place = 'sudak'\n",
    "avito_path = place+'/doma_dachi_kottedzhi/prodam'"
   ]
  },
  {
   "cell_type": "code",
   "execution_count": 8,
   "id": "f5b7b6d6",
   "metadata": {},
   "outputs": [
    {
     "data": {
      "text/plain": [
       "'https://www.avito.ru//sevastopol/doma_dachi_kottedzhi/prodam'"
      ]
     },
     "execution_count": 8,
     "metadata": {},
     "output_type": "execute_result"
    }
   ],
   "source": [
    "base_url+'/'+avito_path"
   ]
  },
  {
   "cell_type": "code",
   "execution_count": 9,
   "id": "9ce138fe",
   "metadata": {},
   "outputs": [
    {
     "name": "stdout",
     "output_type": "stream",
     "text": [
      "[INFO    ] 2023-01-27 16:42:43 | DownloaderSeleniumFirefox: downloader init\n",
      "[INFO    ] 2023-01-27 16:42:43 | DownloaderSeleniumFirefox: open virtual browser\n",
      "[INFO    ] 2023-01-27 16:42:45 | AdsListParser: downloader init\n",
      "[INFO    ] 2023-01-27 16:42:45 | AvitoParser: init\n",
      "[INFO    ] 2023-01-27 16:42:50 | AvitoParser: 44 pages for read\n",
      "[INFO    ] 2023-01-27 16:42:50 | AdsListParser: start read and parse pages...\n",
      "[INFO    ] 2023-01-27 16:42:52 | AdsListParser: read page 1\n",
      "[INFO    ] 2023-01-27 16:42:54 | AdsListParser: read page 2\n",
      "[INFO    ] 2023-01-27 16:42:57 | AdsListParser: read page 3\n",
      "[ERROR   ] 2023-01-27 16:47:57 | Message: TimedPromise timed out after 300000 ms\n",
      "Stacktrace:\n",
      "RemoteError@chrome://remote/content/shared/RemoteError.sys.mjs:8:8\n",
      "WebDriverError@chrome://remote/content/shared/webdriver/Errors.sys.mjs:182:5\n",
      "TimeoutError@chrome://remote/content/shared/webdriver/Errors.sys.mjs:471:5\n",
      "bail@chrome://remote/content/marionette/sync.sys.mjs:212:19\n",
      "\n",
      "[INFO    ] 2023-01-27 16:47:57 | AdsListParser: read page 4\n",
      "[INFO    ] 2023-01-27 16:47:59 | AdsListParser: read page 5\n",
      "[INFO    ] 2023-01-27 16:48:02 | AdsListParser: read page 6\n",
      "[INFO    ] 2023-01-27 16:48:04 | AdsListParser: read page 7\n",
      "[INFO    ] 2023-01-27 16:48:07 | AdsListParser: read page 8\n",
      "[INFO    ] 2023-01-27 16:48:09 | AdsListParser: read page 9\n",
      "[INFO    ] 2023-01-27 16:48:12 | AdsListParser: read page 10\n",
      "[INFO    ] 2023-01-27 16:48:15 | AdsListParser: read page 11\n",
      "[INFO    ] 2023-01-27 16:48:17 | AdsListParser: read page 12\n",
      "[INFO    ] 2023-01-27 16:48:19 | AdsListParser: read page 13\n",
      "[INFO    ] 2023-01-27 16:48:26 | AdsListParser: read page 14\n",
      "[INFO    ] 2023-01-27 16:48:28 | AdsListParser: read page 15\n",
      "[INFO    ] 2023-01-27 16:48:30 | AdsListParser: read page 16\n",
      "[INFO    ] 2023-01-27 16:48:33 | AdsListParser: read page 17\n",
      "[INFO    ] 2023-01-27 16:48:36 | AdsListParser: read page 18\n",
      "[INFO    ] 2023-01-27 16:48:40 | AdsListParser: read page 19\n",
      "[INFO    ] 2023-01-27 16:48:43 | AdsListParser: read page 20\n",
      "[INFO    ] 2023-01-27 16:48:46 | AdsListParser: read page 21\n",
      "[INFO    ] 2023-01-27 16:48:49 | AdsListParser: read page 22\n",
      "[INFO    ] 2023-01-27 16:48:51 | AdsListParser: read page 23\n",
      "[INFO    ] 2023-01-27 16:48:54 | AdsListParser: read page 24\n",
      "[INFO    ] 2023-01-27 16:48:57 | AdsListParser: read page 25\n",
      "[INFO    ] 2023-01-27 16:49:01 | AdsListParser: read page 26\n",
      "[INFO    ] 2023-01-27 16:49:04 | AdsListParser: read page 27\n",
      "[INFO    ] 2023-01-27 16:49:07 | AdsListParser: read page 28\n",
      "[INFO    ] 2023-01-27 16:49:10 | AdsListParser: read page 29\n",
      "[INFO    ] 2023-01-27 16:49:14 | AdsListParser: read page 30\n",
      "[INFO    ] 2023-01-27 16:49:17 | AdsListParser: read page 31\n",
      "[INFO    ] 2023-01-27 16:49:19 | AdsListParser: read page 32\n",
      "[INFO    ] 2023-01-27 16:49:22 | AdsListParser: read page 33\n",
      "[INFO    ] 2023-01-27 16:49:25 | AdsListParser: read page 34\n",
      "[INFO    ] 2023-01-27 16:49:27 | AdsListParser: read page 35\n",
      "[INFO    ] 2023-01-27 16:49:29 | AdsListParser: read page 36\n",
      "[INFO    ] 2023-01-27 16:49:32 | AdsListParser: read page 37\n",
      "[INFO    ] 2023-01-27 16:49:35 | AdsListParser: read page 38\n",
      "[INFO    ] 2023-01-27 16:49:38 | AdsListParser: read page 39\n",
      "[INFO    ] 2023-01-27 16:49:40 | AdsListParser: read page 40\n",
      "[INFO    ] 2023-01-27 16:49:43 | AdsListParser: read page 41\n",
      "[INFO    ] 2023-01-27 16:49:45 | AdsListParser: read page 42\n",
      "[INFO    ] 2023-01-27 16:49:47 | AdsListParser: read page 43\n",
      "[INFO    ] 2023-01-27 16:49:49 | AdsListParser: read page 44\n",
      "[INFO    ] 2023-01-27 16:49:49 | AdsListParser: last page detected\n",
      "[INFO    ] 2023-01-27 16:49:50 | DownloaderSeleniumFirefox: close virtual browser\n",
      "2099\n",
      "CPU times: user 9.35 s, sys: 594 ms, total: 9.95 s\n",
      "Wall time: 7min 6s\n"
     ]
    }
   ],
   "source": [
    "%%time \n",
    "\n",
    "df,html = AvitoParserRealty(\n",
    "        base_url=base_url+'/'+avito_path,\n",
    "        driver=DownloaderSeleniumFirefox(profile_path)\n",
    "    ).load(req_param='',keep_html=True)\n",
    "\n",
    "print(len(df))"
   ]
  },
  {
   "cell_type": "code",
   "execution_count": 10,
   "id": "f8bd78d3",
   "metadata": {},
   "outputs": [
    {
     "name": "stdout",
     "output_type": "stream",
     "text": [
      "2099\n",
      "1993\n"
     ]
    }
   ],
   "source": [
    "print(len(df))\n",
    "df = df.dropna().drop_duplicates(['avito_id','description']).reset_index(drop=True)\n",
    "print(len(df))"
   ]
  },
  {
   "cell_type": "code",
   "execution_count": 11,
   "id": "771cb44e",
   "metadata": {},
   "outputs": [
    {
     "data": {
      "text/html": [
       "<div>\n",
       "<style scoped>\n",
       "    .dataframe tbody tr th:only-of-type {\n",
       "        vertical-align: middle;\n",
       "    }\n",
       "\n",
       "    .dataframe tbody tr th {\n",
       "        vertical-align: top;\n",
       "    }\n",
       "\n",
       "    .dataframe thead th {\n",
       "        text-align: right;\n",
       "    }\n",
       "</style>\n",
       "<table border=\"1\" class=\"dataframe\">\n",
       "  <thead>\n",
       "    <tr style=\"text-align: right;\">\n",
       "      <th></th>\n",
       "      <th>avito_id</th>\n",
       "      <th>title</th>\n",
       "      <th>price</th>\n",
       "      <th>obj_name</th>\n",
       "      <th>adr</th>\n",
       "      <th>description</th>\n",
       "      <th>page</th>\n",
       "      <th>ts</th>\n",
       "    </tr>\n",
       "  </thead>\n",
       "  <tbody>\n",
       "    <tr>\n",
       "      <th>959</th>\n",
       "      <td>2655951150</td>\n",
       "      <td>Объявление «Дом 105 м² на участке 4 сот.» 18 фотографий</td>\n",
       "      <td>5400000</td>\n",
       "      <td></td>\n",
       "      <td></td>\n",
       "      <td>Продается дом 105 кв м из профилированного клееного бруса 130*160 мм из северной сосны (Архангельская обл.) на участке 4 сотки. Размер 6*9 м, мансарда, свободная планировка. \\nФундамент — монолитная армированная плита. Стены и крыша утеплены 10 см слоем мин</td>\n",
       "      <td>21</td>\n",
       "      <td>2023-01-27 16:49:49.407400</td>\n",
       "    </tr>\n",
       "    <tr>\n",
       "      <th>326</th>\n",
       "      <td>1759107635</td>\n",
       "      <td>Объявление «Дом 165 м² на участке 7 сот.» 18 фотографий</td>\n",
       "      <td>15500000</td>\n",
       "      <td></td>\n",
       "      <td></td>\n",
       "      <td>Продам жилой дом в Нахимовском районе г. Севастополя Пгт Кача общей площадью 135 кв. М. В два эт. С летней кухней 30 кв. М. Год постройки 2012. 1-й этаж: каминный зал с действующим камином, спальня, сан. Узел, бытовая комната, прихожая. 2-й этаж: три комна</td>\n",
       "      <td>8</td>\n",
       "      <td>2023-01-27 16:49:49.407400</td>\n",
       "    </tr>\n",
       "  </tbody>\n",
       "</table>\n",
       "</div>"
      ],
      "text/plain": [
       "       avito_id                                                    title  \\\n",
       "959  2655951150  Объявление «Дом 105 м² на участке 4 сот.» 18 фотографий   \n",
       "326  1759107635  Объявление «Дом 165 м² на участке 7 сот.» 18 фотографий   \n",
       "\n",
       "        price obj_name adr  \\\n",
       "959   5400000                \n",
       "326  15500000                \n",
       "\n",
       "                                                                                                                                                                                                                                                           description  \\\n",
       "959  Продается дом 105 кв м из профилированного клееного бруса 130*160 мм из северной сосны (Архангельская обл.) на участке 4 сотки. Размер 6*9 м, мансарда, свободная планировка. \\nФундамент — монолитная армированная плита. Стены и крыша утеплены 10 см слоем мин   \n",
       "326   Продам жилой дом в Нахимовском районе г. Севастополя Пгт Кача общей площадью 135 кв. М. В два эт. С летней кухней 30 кв. М. Год постройки 2012. 1-й этаж: каминный зал с действующим камином, спальня, сан. Узел, бытовая комната, прихожая. 2-й этаж: три комна   \n",
       "\n",
       "     page                         ts  \n",
       "959    21 2023-01-27 16:49:49.407400  \n",
       "326     8 2023-01-27 16:49:49.407400  "
      ]
     },
     "execution_count": 11,
     "metadata": {},
     "output_type": "execute_result"
    }
   ],
   "source": [
    "df.sample(2)"
   ]
  },
  {
   "cell_type": "code",
   "execution_count": 12,
   "id": "0a311ff9",
   "metadata": {},
   "outputs": [],
   "source": [
    "df['place'] = place"
   ]
  },
  {
   "cell_type": "code",
   "execution_count": 13,
   "id": "6fa322a2",
   "metadata": {},
   "outputs": [],
   "source": [
    "ts = dtm.now().strftime('%Y-%m-%d_%H-%M')\n",
    "assert len(df)>0\n",
    "df.to_excel(f'{raw_data_path}/avito_{ts}_raw_{place}.xlsx',index=False)"
   ]
  },
  {
   "cell_type": "markdown",
   "id": "bdb9e4bd",
   "metadata": {},
   "source": [
    "---"
   ]
  },
  {
   "cell_type": "code",
   "execution_count": 14,
   "id": "7a3aff9f",
   "metadata": {},
   "outputs": [],
   "source": [
    "# place = 'sevastopol'\n",
    "place = 'bahchisaray'\n",
    "# place = 'sudak'\n",
    "avito_path = place+'/doma_dachi_kottedzhi/prodam'"
   ]
  },
  {
   "cell_type": "code",
   "execution_count": 15,
   "id": "0828e414",
   "metadata": {},
   "outputs": [
    {
     "name": "stdout",
     "output_type": "stream",
     "text": [
      "[INFO    ] 2023-01-27 16:49:50 | DownloaderSeleniumFirefox: downloader init\n",
      "[INFO    ] 2023-01-27 16:49:50 | DownloaderSeleniumFirefox: open virtual browser\n",
      "[INFO    ] 2023-01-27 16:49:53 | AdsListParser: downloader init\n",
      "[INFO    ] 2023-01-27 16:49:53 | AvitoParser: init\n",
      "[INFO    ] 2023-01-27 16:49:57 | AvitoParser: 5 pages for read\n",
      "[INFO    ] 2023-01-27 16:49:57 | AdsListParser: start read and parse pages...\n",
      "[INFO    ] 2023-01-27 16:50:00 | AdsListParser: read page 1\n",
      "[INFO    ] 2023-01-27 16:50:02 | AdsListParser: read page 2\n",
      "[INFO    ] 2023-01-27 16:50:04 | AdsListParser: read page 3\n",
      "[INFO    ] 2023-01-27 16:50:06 | AdsListParser: read page 4\n",
      "[INFO    ] 2023-01-27 16:50:08 | AdsListParser: read page 5\n",
      "[INFO    ] 2023-01-27 16:50:08 | AdsListParser: last page detected\n",
      "[INFO    ] 2023-01-27 16:50:08 | DownloaderSeleniumFirefox: close virtual browser\n",
      "224\n"
     ]
    },
    {
     "data": {
      "text/html": [
       "<div>\n",
       "<style scoped>\n",
       "    .dataframe tbody tr th:only-of-type {\n",
       "        vertical-align: middle;\n",
       "    }\n",
       "\n",
       "    .dataframe tbody tr th {\n",
       "        vertical-align: top;\n",
       "    }\n",
       "\n",
       "    .dataframe thead th {\n",
       "        text-align: right;\n",
       "    }\n",
       "</style>\n",
       "<table border=\"1\" class=\"dataframe\">\n",
       "  <thead>\n",
       "    <tr style=\"text-align: right;\">\n",
       "      <th></th>\n",
       "      <th>avito_id</th>\n",
       "      <th>title</th>\n",
       "      <th>price</th>\n",
       "      <th>obj_name</th>\n",
       "      <th>adr</th>\n",
       "      <th>description</th>\n",
       "      <th>page</th>\n",
       "      <th>ts</th>\n",
       "    </tr>\n",
       "  </thead>\n",
       "  <tbody>\n",
       "    <tr>\n",
       "      <th>186</th>\n",
       "      <td>1702639473</td>\n",
       "      <td>Объявление «Дом 60 м² на участке 7 сот.» 26 фотографий</td>\n",
       "      <td>4700000</td>\n",
       "      <td></td>\n",
       "      <td></td>\n",
       "      <td>Продается хороший, уютный, жилой дом 80 кв. М из \"ракушки\". Есть все коммуникации: электричество, водопровод, газ, отопление, интернет. Толстые стены, хорошая изоляция — летом прохладно, зимой тепло. Крыша металлочерепица. \\nВ доме 3 комнаты, кухня, сан. Уз</td>\n",
       "      <td>4</td>\n",
       "      <td>2023-01-27 16:50:08.308385</td>\n",
       "    </tr>\n",
       "    <tr>\n",
       "      <th>145</th>\n",
       "      <td>1225036565</td>\n",
       "      <td>Объявление «Дом 120 м² на участке 18 сот.» 9 фотографий</td>\n",
       "      <td>5000000</td>\n",
       "      <td></td>\n",
       "      <td></td>\n",
       "      <td>Продается Дом 120 м2 на участке в 18 соток, реально возможность застройки больше 18 соток. Участок отдельно стоит над дорогой на возвышенности, непосредственных соседей, примыкающих к участку нет. К участку примыкает лес, рядом озера, и охотничьи угодья. В</td>\n",
       "      <td>3</td>\n",
       "      <td>2023-01-27 16:50:08.308385</td>\n",
       "    </tr>\n",
       "  </tbody>\n",
       "</table>\n",
       "</div>"
      ],
      "text/plain": [
       "       avito_id                                                    title  \\\n",
       "186  1702639473   Объявление «Дом 60 м² на участке 7 сот.» 26 фотографий   \n",
       "145  1225036565  Объявление «Дом 120 м² на участке 18 сот.» 9 фотографий   \n",
       "\n",
       "       price obj_name adr  \\\n",
       "186  4700000                \n",
       "145  5000000                \n",
       "\n",
       "                                                                                                                                                                                                                                                           description  \\\n",
       "186  Продается хороший, уютный, жилой дом 80 кв. М из \"ракушки\". Есть все коммуникации: электричество, водопровод, газ, отопление, интернет. Толстые стены, хорошая изоляция — летом прохладно, зимой тепло. Крыша металлочерепица. \\nВ доме 3 комнаты, кухня, сан. Уз   \n",
       "145   Продается Дом 120 м2 на участке в 18 соток, реально возможность застройки больше 18 соток. Участок отдельно стоит над дорогой на возвышенности, непосредственных соседей, примыкающих к участку нет. К участку примыкает лес, рядом озера, и охотничьи угодья. В   \n",
       "\n",
       "     page                         ts  \n",
       "186     4 2023-01-27 16:50:08.308385  \n",
       "145     3 2023-01-27 16:50:08.308385  "
      ]
     },
     "execution_count": 15,
     "metadata": {},
     "output_type": "execute_result"
    }
   ],
   "source": [
    "df,html = AvitoParserRealty(\n",
    "        base_url=base_url+'/'+avito_path,\n",
    "        driver=DownloaderSeleniumFirefox(profile_path)\n",
    "    ).load(req_param='',keep_html=True)\n",
    "\n",
    "print(len(df))\n",
    "df.sample(2)"
   ]
  },
  {
   "cell_type": "code",
   "execution_count": 16,
   "id": "aa6cf989",
   "metadata": {},
   "outputs": [],
   "source": [
    "df['place'] = place\n",
    "ts = dtm.now().strftime('%Y-%m-%d_%H-%M')\n",
    "assert len(df)>0\n",
    "df.to_excel(f'{raw_data_path}/avito_{ts}_raw_{place}.xlsx',index=False)"
   ]
  },
  {
   "cell_type": "markdown",
   "id": "cb8a6e24",
   "metadata": {},
   "source": [
    "----"
   ]
  },
  {
   "cell_type": "code",
   "execution_count": 17,
   "id": "fafeda38",
   "metadata": {},
   "outputs": [],
   "source": [
    "# place = 'sevastopol'\n",
    "# place = 'bahchisaray'\n",
    "place = 'sudak'\n",
    "avito_path = place+'/doma_dachi_kottedzhi/prodam'"
   ]
  },
  {
   "cell_type": "code",
   "execution_count": 18,
   "id": "0ea62e56",
   "metadata": {},
   "outputs": [
    {
     "name": "stdout",
     "output_type": "stream",
     "text": [
      "[INFO    ] 2023-01-27 16:50:08 | DownloaderSeleniumFirefox: downloader init\n",
      "[INFO    ] 2023-01-27 16:50:08 | DownloaderSeleniumFirefox: open virtual browser\n",
      "[INFO    ] 2023-01-27 16:50:11 | AdsListParser: downloader init\n",
      "[INFO    ] 2023-01-27 16:50:11 | AvitoParser: init\n",
      "[INFO    ] 2023-01-27 16:50:15 | AvitoParser: 3 pages for read\n",
      "[INFO    ] 2023-01-27 16:50:15 | AdsListParser: start read and parse pages...\n",
      "[INFO    ] 2023-01-27 16:50:18 | AdsListParser: read page 1\n",
      "[INFO    ] 2023-01-27 16:50:20 | AdsListParser: read page 2\n",
      "[INFO    ] 2023-01-27 16:50:22 | AdsListParser: read page 3\n",
      "[INFO    ] 2023-01-27 16:50:22 | AdsListParser: last page detected\n",
      "[INFO    ] 2023-01-27 16:50:22 | DownloaderSeleniumFirefox: close virtual browser\n",
      "119\n"
     ]
    },
    {
     "data": {
      "text/html": [
       "<div>\n",
       "<style scoped>\n",
       "    .dataframe tbody tr th:only-of-type {\n",
       "        vertical-align: middle;\n",
       "    }\n",
       "\n",
       "    .dataframe tbody tr th {\n",
       "        vertical-align: top;\n",
       "    }\n",
       "\n",
       "    .dataframe thead th {\n",
       "        text-align: right;\n",
       "    }\n",
       "</style>\n",
       "<table border=\"1\" class=\"dataframe\">\n",
       "  <thead>\n",
       "    <tr style=\"text-align: right;\">\n",
       "      <th></th>\n",
       "      <th>avito_id</th>\n",
       "      <th>title</th>\n",
       "      <th>price</th>\n",
       "      <th>obj_name</th>\n",
       "      <th>adr</th>\n",
       "      <th>description</th>\n",
       "      <th>page</th>\n",
       "      <th>ts</th>\n",
       "    </tr>\n",
       "  </thead>\n",
       "  <tbody>\n",
       "    <tr>\n",
       "      <th>88</th>\n",
       "      <td>1342106679</td>\n",
       "      <td>Объявление «Дом 98 м² на участке 9 сот.» 5 фотографий</td>\n",
       "      <td>6000000</td>\n",
       "      <td></td>\n",
       "      <td></td>\n",
       "      <td>Продается дом в Судаке, в р-н автостанции. Инфраструктура вся в 500метрах: рынок, аптека, поликлиника, школа, детский садик, церковь. Расположение идеально подходит для постоянного проживания. Доп. Страение на участке гараж (35кв. М.) Вода постоянная с кол</td>\n",
       "      <td>2</td>\n",
       "      <td>2023-01-27 16:50:22.199563</td>\n",
       "    </tr>\n",
       "    <tr>\n",
       "      <th>7</th>\n",
       "      <td>2427897340</td>\n",
       "      <td>Объявление «Коттедж 110 м² на участке 5 сот.» 14 фотографий</td>\n",
       "      <td>6500000</td>\n",
       "      <td></td>\n",
       "      <td></td>\n",
       "      <td>Продается новый коттедж в г. Судак Сот Капсель. Участок 5 соток, виды разрешенного использования Ижс. Двухэтажный дом построен из экологически чистого материала ракушечника. Кровля покрыта натуральной глиняной черепицей. Фасад дома утеплен, нанесена декора</td>\n",
       "      <td>1</td>\n",
       "      <td>2023-01-27 16:50:22.199563</td>\n",
       "    </tr>\n",
       "  </tbody>\n",
       "</table>\n",
       "</div>"
      ],
      "text/plain": [
       "      avito_id                                                        title  \\\n",
       "88  1342106679        Объявление «Дом 98 м² на участке 9 сот.» 5 фотографий   \n",
       "7   2427897340  Объявление «Коттедж 110 м² на участке 5 сот.» 14 фотографий   \n",
       "\n",
       "      price obj_name adr  \\\n",
       "88  6000000                \n",
       "7   6500000                \n",
       "\n",
       "                                                                                                                                                                                                                                                         description  \\\n",
       "88  Продается дом в Судаке, в р-н автостанции. Инфраструктура вся в 500метрах: рынок, аптека, поликлиника, школа, детский садик, церковь. Расположение идеально подходит для постоянного проживания. Доп. Страение на участке гараж (35кв. М.) Вода постоянная с кол   \n",
       "7   Продается новый коттедж в г. Судак Сот Капсель. Участок 5 соток, виды разрешенного использования Ижс. Двухэтажный дом построен из экологически чистого материала ракушечника. Кровля покрыта натуральной глиняной черепицей. Фасад дома утеплен, нанесена декора   \n",
       "\n",
       "    page                         ts  \n",
       "88     2 2023-01-27 16:50:22.199563  \n",
       "7      1 2023-01-27 16:50:22.199563  "
      ]
     },
     "execution_count": 18,
     "metadata": {},
     "output_type": "execute_result"
    }
   ],
   "source": [
    "df,html = AvitoParserRealty(\n",
    "        base_url=base_url+'/'+avito_path,\n",
    "        driver=DownloaderSeleniumFirefox(profile_path)\n",
    "    ).load(req_param='',keep_html=True)\n",
    "\n",
    "print(len(df))\n",
    "df.sample(2)"
   ]
  },
  {
   "cell_type": "code",
   "execution_count": 19,
   "id": "348cab00",
   "metadata": {},
   "outputs": [],
   "source": [
    "df['place'] = place\n",
    "ts = dtm.now().strftime('%Y-%m-%d_%H-%M')\n",
    "assert len(df)>0\n",
    "df.to_excel(f'{raw_data_path}/avito_{ts}_raw_{place}.xlsx',index=False)"
   ]
  }
 ],
 "metadata": {
  "kernelspec": {
   "display_name": "Python 3 (ipykernel)",
   "language": "python",
   "name": "python3"
  },
  "language_info": {
   "codemirror_mode": {
    "name": "ipython",
    "version": 3
   },
   "file_extension": ".py",
   "mimetype": "text/x-python",
   "name": "python",
   "nbconvert_exporter": "python",
   "pygments_lexer": "ipython3",
   "version": "3.10.8"
  },
  "toc": {
   "base_numbering": 1,
   "nav_menu": {},
   "number_sections": true,
   "sideBar": true,
   "skip_h1_title": false,
   "title_cell": "Table of Contents",
   "title_sidebar": "Contents",
   "toc_cell": false,
   "toc_position": {},
   "toc_section_display": true,
   "toc_window_display": false
  },
  "varInspector": {
   "cols": {
    "lenName": 16,
    "lenType": 16,
    "lenVar": 40
   },
   "kernels_config": {
    "python": {
     "delete_cmd_postfix": "",
     "delete_cmd_prefix": "del ",
     "library": "var_list.py",
     "varRefreshCmd": "print(var_dic_list())"
    },
    "r": {
     "delete_cmd_postfix": ") ",
     "delete_cmd_prefix": "rm(",
     "library": "var_list.r",
     "varRefreshCmd": "cat(var_dic_list()) "
    }
   },
   "types_to_exclude": [
    "module",
    "function",
    "builtin_function_or_method",
    "instance",
    "_Feature"
   ],
   "window_display": false
  }
 },
 "nbformat": 4,
 "nbformat_minor": 5
}
