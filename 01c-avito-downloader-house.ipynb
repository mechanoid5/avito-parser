{
 "cells": [
  {
   "cell_type": "markdown",
   "id": "7bec28d7",
   "metadata": {},
   "source": [
    "__качаем объявления о продаже домов с авито.ru__\n",
    "\n",
    "_Evgeny S. Borisov <parser@mechanoid.su>_"
   ]
  },
  {
   "cell_type": "code",
   "execution_count": 1,
   "id": "52c5999f",
   "metadata": {},
   "outputs": [],
   "source": [
    "# !pacman -S firefox firefox-i18n-r  geckodriver\n",
    "# !pip install seleniuam"
   ]
  },
  {
   "cell_type": "code",
   "execution_count": 2,
   "id": "bcea4d8b",
   "metadata": {
    "ExecuteTime": {
     "end_time": "2022-08-26T14:19:06.118492Z",
     "start_time": "2022-08-26T14:13:37.888398Z"
    }
   },
   "outputs": [],
   "source": [
    "# import re\n",
    "import sys\n",
    "import logging\n",
    "from datetime import datetime as dtm\n",
    "from tqdm.notebook import tqdm\n",
    "import pandas as pd"
   ]
  },
  {
   "cell_type": "code",
   "execution_count": 3,
   "id": "caabc8c7",
   "metadata": {
    "ExecuteTime": {
     "end_time": "2022-08-26T14:19:06.118492Z",
     "start_time": "2022-08-26T14:13:37.888398Z"
    }
   },
   "outputs": [],
   "source": [
    "pd.set_option('display.max_colwidth', None)\n",
    "pd.set_option('display.float_format', '{:.2f}'.format)\n",
    "tqdm.pandas()\n",
    "\n",
    "logging.basicConfig(\n",
    "        format=u'[%(levelname)-8s] %(asctime)s | %(message)s',\n",
    "        datefmt='%Y-%m-%d %H:%M:%S',\n",
    "        level=logging.INFO,\n",
    "        # level=logging.DEBUG,\n",
    "        stream=sys.stdout,\n",
    "    )"
   ]
  },
  {
   "cell_type": "markdown",
   "id": "db3fe2be",
   "metadata": {},
   "source": [
    "---"
   ]
  },
  {
   "cell_type": "code",
   "execution_count": 4,
   "id": "288569b0",
   "metadata": {},
   "outputs": [],
   "source": [
    "# url = (\n",
    "# 'https://www.avito.ru/yaroslavskaya_oblast/avtomobili/chevrolet/niva'\n",
    "# '?bt=0'\n",
    "# '&i=1'\n",
    "# '&pmax=150000'\n",
    "# '&pmin=10000'\n",
    "# )"
   ]
  },
  {
   "cell_type": "code",
   "execution_count": 5,
   "id": "e1d4e472",
   "metadata": {},
   "outputs": [],
   "source": [
    "profile_path = '/home/mechanoid/.mozilla/firefox/p144xo2m.default-release'\n",
    "\n",
    "base_url = 'https://www.avito.ru/'\n",
    "# avito_path = 'sevastopol/kvartiry/prodam'\n",
    "\n",
    "raw_data_path = 'data/raw/house/avito' # каталог с файлами объявлений"
   ]
  },
  {
   "cell_type": "code",
   "execution_count": 6,
   "id": "202a7010",
   "metadata": {},
   "outputs": [],
   "source": [
    "from lib.downloader import DownloaderSeleniumFirefox\n",
    "from lib.avito import AvitoParserRealty"
   ]
  },
  {
   "cell_type": "markdown",
   "id": "02f746ef",
   "metadata": {},
   "source": [
    "---"
   ]
  },
  {
   "cell_type": "code",
   "execution_count": 7,
   "id": "d437eab9",
   "metadata": {},
   "outputs": [],
   "source": [
    "place = 'sevastopol'\n",
    "# place = 'bahchisaray'\n",
    "# place = 'sudak'\n",
    "avito_path = place+'/doma_dachi_kottedzhi/prodam'"
   ]
  },
  {
   "cell_type": "code",
   "execution_count": 8,
   "id": "9ce138fe",
   "metadata": {},
   "outputs": [
    {
     "name": "stdout",
     "output_type": "stream",
     "text": [
      "[INFO    ] 2023-01-10 12:52:00 | DownloaderSeleniumFirefox: downloader init\n",
      "[INFO    ] 2023-01-10 12:52:01 | DownloaderSeleniumFirefox: open virtual browser\n",
      "[INFO    ] 2023-01-10 12:52:02 | AdsListParser: downloader init\n",
      "[INFO    ] 2023-01-10 12:52:02 | AvitoParser: init\n",
      "[INFO    ] 2023-01-10 12:52:06 | AvitoParser: 3 pages for read\n",
      "[INFO    ] 2023-01-10 12:52:06 | AdsListParser: start read and parse pages...\n",
      "[INFO    ] 2023-01-10 12:52:08 | AdsListParser: read page 1\n",
      "[INFO    ] 2023-01-10 12:52:10 | AdsListParser: read page 2\n",
      "[INFO    ] 2023-01-10 12:52:12 | AdsListParser: read page 3\n",
      "[INFO    ] 2023-01-10 12:52:12 | AdsListParser: last page detected\n",
      "[INFO    ] 2023-01-10 12:52:12 | DownloaderSeleniumFirefox: close virtual browser\n",
      "107\n",
      "CPU times: user 1.28 s, sys: 101 ms, total: 1.38 s\n",
      "Wall time: 11.6 s\n"
     ]
    }
   ],
   "source": [
    "%%time \n",
    "\n",
    "df,html = AvitoParserRealty(\n",
    "        base_url=base_url+'/'+avito_path,\n",
    "        driver=DownloaderSeleniumFirefox(profile_path)\n",
    "    ).load(req_param='',keep_html=True)\n",
    "\n",
    "print(len(df))"
   ]
  },
  {
   "cell_type": "code",
   "execution_count": 9,
   "id": "f8bd78d3",
   "metadata": {},
   "outputs": [
    {
     "name": "stdout",
     "output_type": "stream",
     "text": [
      "107\n",
      "107\n"
     ]
    }
   ],
   "source": [
    "print(len(df))\n",
    "df = df.dropna().drop_duplicates(['avito_id','description']).reset_index(drop=True)\n",
    "print(len(df))"
   ]
  },
  {
   "cell_type": "code",
   "execution_count": 10,
   "id": "771cb44e",
   "metadata": {},
   "outputs": [
    {
     "data": {
      "text/html": [
       "<div>\n",
       "<style scoped>\n",
       "    .dataframe tbody tr th:only-of-type {\n",
       "        vertical-align: middle;\n",
       "    }\n",
       "\n",
       "    .dataframe tbody tr th {\n",
       "        vertical-align: top;\n",
       "    }\n",
       "\n",
       "    .dataframe thead th {\n",
       "        text-align: right;\n",
       "    }\n",
       "</style>\n",
       "<table border=\"1\" class=\"dataframe\">\n",
       "  <thead>\n",
       "    <tr style=\"text-align: right;\">\n",
       "      <th></th>\n",
       "      <th>avito_id</th>\n",
       "      <th>title</th>\n",
       "      <th>price</th>\n",
       "      <th>obj_name</th>\n",
       "      <th>adr</th>\n",
       "      <th>description</th>\n",
       "      <th>page</th>\n",
       "      <th>ts</th>\n",
       "    </tr>\n",
       "  </thead>\n",
       "  <tbody>\n",
       "    <tr>\n",
       "      <th>31</th>\n",
       "      <td>2680997267</td>\n",
       "      <td>Объявление «Дом 310 м² на участке 6 сот.» 16 фотографий</td>\n",
       "      <td>18000000</td>\n",
       "      <td></td>\n",
       "      <td>Республика Крым, городской округ Судак, село Миндальное, СНТ Солнечная Долина, Тихий переулок, 927</td>\n",
       "      <td>Продам дом, 4- этажный, 310 кв метров на видовом участке 6 соток. От города Судак 15 минут на машине. На каждом этаже полностью оборудованная и мебелированная трёхкомнатная квартира с отдельным входом, кондиционерами и большими балконами с прекрасным видом</td>\n",
       "      <td>1</td>\n",
       "      <td>2023-01-10 12:52:12.115030</td>\n",
       "    </tr>\n",
       "    <tr>\n",
       "      <th>17</th>\n",
       "      <td>1475841794</td>\n",
       "      <td>Объявление «Дом 51 м² на участке 6,1 сот.» 14 фотографий</td>\n",
       "      <td>4450000</td>\n",
       "      <td></td>\n",
       "      <td>Республика Крым, городской округ Судак, село Веселое, улица Гагарина</td>\n",
       "      <td>Продается дом в живописном, экологически чистом уголке Крыма c. Веселое Судакского района. До города Судак 10км, до моря в Веселом 3км. Коммуникации; газ по границе участка, свет, вода. В поселке имеется школа, детский сад, мед. Пункт. Дом продается с мебе</td>\n",
       "      <td>1</td>\n",
       "      <td>2023-01-10 12:52:12.115030</td>\n",
       "    </tr>\n",
       "  </tbody>\n",
       "</table>\n",
       "</div>"
      ],
      "text/plain": [
       "      avito_id                                                     title  \\\n",
       "31  2680997267   Объявление «Дом 310 м² на участке 6 сот.» 16 фотографий   \n",
       "17  1475841794  Объявление «Дом 51 м² на участке 6,1 сот.» 14 фотографий   \n",
       "\n",
       "       price obj_name  \\\n",
       "31  18000000            \n",
       "17   4450000            \n",
       "\n",
       "                                                                                                   adr  \\\n",
       "31  Республика Крым, городской округ Судак, село Миндальное, СНТ Солнечная Долина, Тихий переулок, 927   \n",
       "17                                Республика Крым, городской округ Судак, село Веселое, улица Гагарина   \n",
       "\n",
       "                                                                                                                                                                                                                                                         description  \\\n",
       "31  Продам дом, 4- этажный, 310 кв метров на видовом участке 6 соток. От города Судак 15 минут на машине. На каждом этаже полностью оборудованная и мебелированная трёхкомнатная квартира с отдельным входом, кондиционерами и большими балконами с прекрасным видом   \n",
       "17  Продается дом в живописном, экологически чистом уголке Крыма c. Веселое Судакского района. До города Судак 10км, до моря в Веселом 3км. Коммуникации; газ по границе участка, свет, вода. В поселке имеется школа, детский сад, мед. Пункт. Дом продается с мебе   \n",
       "\n",
       "    page                         ts  \n",
       "31     1 2023-01-10 12:52:12.115030  \n",
       "17     1 2023-01-10 12:52:12.115030  "
      ]
     },
     "execution_count": 10,
     "metadata": {},
     "output_type": "execute_result"
    }
   ],
   "source": [
    "df.sample(2)"
   ]
  },
  {
   "cell_type": "code",
   "execution_count": 11,
   "id": "0a311ff9",
   "metadata": {},
   "outputs": [],
   "source": [
    "df['place'] = place"
   ]
  },
  {
   "cell_type": "code",
   "execution_count": 12,
   "id": "6fa322a2",
   "metadata": {},
   "outputs": [],
   "source": [
    "ts = dtm.now().strftime('%Y-%m-%d_%H-%M')\n",
    "assert len(df)>0\n",
    "df.to_excel(f'{raw_data_path}/avito_{ts}_raw_{place}.xlsx',index=False)"
   ]
  },
  {
   "cell_type": "markdown",
   "id": "bdb9e4bd",
   "metadata": {},
   "source": [
    "---"
   ]
  },
  {
   "cell_type": "code",
   "execution_count": 13,
   "id": "7a3aff9f",
   "metadata": {},
   "outputs": [],
   "source": [
    "# place = 'sevastopol'\n",
    "place = 'bahchisaray'\n",
    "# place = 'sudak'\n",
    "avito_path = place+'/doma_dachi_kottedzhi/prodam'"
   ]
  },
  {
   "cell_type": "code",
   "execution_count": 14,
   "id": "0828e414",
   "metadata": {},
   "outputs": [
    {
     "name": "stdout",
     "output_type": "stream",
     "text": [
      "[INFO    ] 2023-01-10 12:52:12 | DownloaderSeleniumFirefox: downloader init\n",
      "[INFO    ] 2023-01-10 12:52:12 | DownloaderSeleniumFirefox: open virtual browser\n",
      "[INFO    ] 2023-01-10 12:52:15 | AdsListParser: downloader init\n",
      "[INFO    ] 2023-01-10 12:52:15 | AvitoParser: init\n",
      "[INFO    ] 2023-01-10 12:52:19 | AvitoParser: 5 pages for read\n",
      "[INFO    ] 2023-01-10 12:52:19 | AdsListParser: start read and parse pages...\n",
      "[INFO    ] 2023-01-10 12:52:22 | AdsListParser: read page 1\n",
      "[INFO    ] 2023-01-10 12:52:24 | AdsListParser: read page 2\n",
      "[INFO    ] 2023-01-10 12:52:26 | AdsListParser: read page 3\n",
      "[INFO    ] 2023-01-10 12:52:28 | AdsListParser: read page 4\n",
      "[INFO    ] 2023-01-10 12:52:29 | AdsListParser: read page 5\n",
      "[INFO    ] 2023-01-10 12:52:29 | AdsListParser: last page detected\n",
      "[INFO    ] 2023-01-10 12:52:30 | DownloaderSeleniumFirefox: close virtual browser\n",
      "227\n"
     ]
    },
    {
     "data": {
      "text/html": [
       "<div>\n",
       "<style scoped>\n",
       "    .dataframe tbody tr th:only-of-type {\n",
       "        vertical-align: middle;\n",
       "    }\n",
       "\n",
       "    .dataframe tbody tr th {\n",
       "        vertical-align: top;\n",
       "    }\n",
       "\n",
       "    .dataframe thead th {\n",
       "        text-align: right;\n",
       "    }\n",
       "</style>\n",
       "<table border=\"1\" class=\"dataframe\">\n",
       "  <thead>\n",
       "    <tr style=\"text-align: right;\">\n",
       "      <th></th>\n",
       "      <th>avito_id</th>\n",
       "      <th>title</th>\n",
       "      <th>price</th>\n",
       "      <th>obj_name</th>\n",
       "      <th>adr</th>\n",
       "      <th>description</th>\n",
       "      <th>page</th>\n",
       "      <th>ts</th>\n",
       "    </tr>\n",
       "  </thead>\n",
       "  <tbody>\n",
       "    <tr>\n",
       "      <th>173</th>\n",
       "      <td>1044886743</td>\n",
       "      <td>Объявление «Дача 20 м² на участке 5,5 сот.» 7 фотографий</td>\n",
       "      <td>800000</td>\n",
       "      <td></td>\n",
       "      <td>садоводческий потребительский кооператив Энтузиаст</td>\n",
       "      <td>Продается дача (собственник) в Крыму в Бахчисарайском районе около c. Маловидное по.\\nТрассе Бахчисарай — Песчаное. До Севастополя 35 км, до Бахчисарая- 7 км., до моря в с. Песчаное- 10мин. По хорошей асфальтированной дороге. Постоянное транспортное соедине</td>\n",
       "      <td>4</td>\n",
       "      <td>2023-01-10 12:52:29.664</td>\n",
       "    </tr>\n",
       "    <tr>\n",
       "      <th>223</th>\n",
       "      <td>2106026977</td>\n",
       "      <td>Объявление «Дом 180 м² на участке 15 сот.» 19 фотографий</td>\n",
       "      <td>18900000</td>\n",
       "      <td></td>\n",
       "      <td>с. Шевченково</td>\n",
       "      <td>Продам добротный дом. Дом утеплён, сделан качественный ремонт. На первом этаже теплые полы. Гараж, баня, своя скважина. Газ, вода централизованные. До моря 12 км., до Симферополя 30 км. Очень удобное месторасположение, дом не над дорогой. Видеонаблюдение,</td>\n",
       "      <td>5</td>\n",
       "      <td>2023-01-10 12:52:29.664</td>\n",
       "    </tr>\n",
       "  </tbody>\n",
       "</table>\n",
       "</div>"
      ],
      "text/plain": [
       "       avito_id                                                     title  \\\n",
       "173  1044886743  Объявление «Дача 20 м² на участке 5,5 сот.» 7 фотографий   \n",
       "223  2106026977  Объявление «Дом 180 м² на участке 15 сот.» 19 фотографий   \n",
       "\n",
       "        price obj_name                                                 adr  \\\n",
       "173    800000           садоводческий потребительский кооператив Энтузиаст   \n",
       "223  18900000                                                с. Шевченково   \n",
       "\n",
       "                                                                                                                                                                                                                                                           description  \\\n",
       "173  Продается дача (собственник) в Крыму в Бахчисарайском районе около c. Маловидное по.\\nТрассе Бахчисарай — Песчаное. До Севастополя 35 км, до Бахчисарая- 7 км., до моря в с. Песчаное- 10мин. По хорошей асфальтированной дороге. Постоянное транспортное соедине   \n",
       "223   Продам добротный дом. Дом утеплён, сделан качественный ремонт. На первом этаже теплые полы. Гараж, баня, своя скважина. Газ, вода централизованные. До моря 12 км., до Симферополя 30 км. Очень удобное месторасположение, дом не над дорогой. Видеонаблюдение,    \n",
       "\n",
       "     page                      ts  \n",
       "173     4 2023-01-10 12:52:29.664  \n",
       "223     5 2023-01-10 12:52:29.664  "
      ]
     },
     "execution_count": 14,
     "metadata": {},
     "output_type": "execute_result"
    }
   ],
   "source": [
    "df,html = AvitoParserRealty(\n",
    "        base_url=base_url+'/'+avito_path,\n",
    "        driver=DownloaderSeleniumFirefox(profile_path)\n",
    "    ).load(req_param='',keep_html=True)\n",
    "\n",
    "print(len(df))\n",
    "df.sample(2)"
   ]
  },
  {
   "cell_type": "code",
   "execution_count": 15,
   "id": "aa6cf989",
   "metadata": {},
   "outputs": [],
   "source": [
    "df['place'] = place\n",
    "ts = dtm.now().strftime('%Y-%m-%d_%H-%M')\n",
    "assert len(df)>0\n",
    "df.to_excel(f'{raw_data_path}/avito_{ts}_raw_{place}.xlsx',index=False)"
   ]
  },
  {
   "cell_type": "markdown",
   "id": "cb8a6e24",
   "metadata": {},
   "source": [
    "----"
   ]
  },
  {
   "cell_type": "code",
   "execution_count": 16,
   "id": "fafeda38",
   "metadata": {},
   "outputs": [],
   "source": [
    "# place = 'sevastopol'\n",
    "# place = 'bahchisaray'\n",
    "place = 'sudak'\n",
    "avito_path = place+'/doma_dachi_kottedzhi/prodam'"
   ]
  },
  {
   "cell_type": "code",
   "execution_count": 17,
   "id": "0ea62e56",
   "metadata": {},
   "outputs": [
    {
     "name": "stdout",
     "output_type": "stream",
     "text": [
      "[INFO    ] 2023-01-10 12:52:30 | DownloaderSeleniumFirefox: downloader init\n",
      "[INFO    ] 2023-01-10 12:52:30 | DownloaderSeleniumFirefox: open virtual browser\n",
      "[INFO    ] 2023-01-10 12:52:32 | AdsListParser: downloader init\n",
      "[INFO    ] 2023-01-10 12:52:32 | AvitoParser: init\n",
      "[INFO    ] 2023-01-10 12:52:36 | AvitoParser: 3 pages for read\n",
      "[INFO    ] 2023-01-10 12:52:36 | AdsListParser: start read and parse pages...\n",
      "[INFO    ] 2023-01-10 12:53:34 | AdsListParser: read page 1\n",
      "[INFO    ] 2023-01-10 12:53:37 | AdsListParser: read page 2\n",
      "[INFO    ] 2023-01-10 12:53:38 | AdsListParser: read page 3\n",
      "[INFO    ] 2023-01-10 12:53:38 | AdsListParser: last page detected\n",
      "[INFO    ] 2023-01-10 12:53:38 | DownloaderSeleniumFirefox: close virtual browser\n",
      "107\n"
     ]
    },
    {
     "data": {
      "text/html": [
       "<div>\n",
       "<style scoped>\n",
       "    .dataframe tbody tr th:only-of-type {\n",
       "        vertical-align: middle;\n",
       "    }\n",
       "\n",
       "    .dataframe tbody tr th {\n",
       "        vertical-align: top;\n",
       "    }\n",
       "\n",
       "    .dataframe thead th {\n",
       "        text-align: right;\n",
       "    }\n",
       "</style>\n",
       "<table border=\"1\" class=\"dataframe\">\n",
       "  <thead>\n",
       "    <tr style=\"text-align: right;\">\n",
       "      <th></th>\n",
       "      <th>avito_id</th>\n",
       "      <th>title</th>\n",
       "      <th>price</th>\n",
       "      <th>obj_name</th>\n",
       "      <th>adr</th>\n",
       "      <th>description</th>\n",
       "      <th>page</th>\n",
       "      <th>ts</th>\n",
       "    </tr>\n",
       "  </thead>\n",
       "  <tbody>\n",
       "    <tr>\n",
       "      <th>35</th>\n",
       "      <td>1110939787</td>\n",
       "      <td>Объявление «Дом 150 м² на участке 6 сот.» 17 фотографий</td>\n",
       "      <td>8500000</td>\n",
       "      <td></td>\n",
       "      <td>с. Дачное, квартал Бакаташ 1</td>\n",
       "      <td>Продаётся дом в Дачном. Общая площадь 100кв. М. И мансарда без отделки. Вода централизованная., отопление электрокотел 3 фазы, есть котёл под тв. Топливо. Дом новый, утеплённый, во дворе плодоносящий сад-черешня, абрикос, яблоня, груша, персик, имеется нав</td>\n",
       "      <td>1</td>\n",
       "      <td>2023-01-10 12:53:38.469536</td>\n",
       "    </tr>\n",
       "    <tr>\n",
       "      <th>31</th>\n",
       "      <td>2680997267</td>\n",
       "      <td>Объявление «Дом 310 м² на участке 6 сот.» 16 фотографий</td>\n",
       "      <td>18000000</td>\n",
       "      <td></td>\n",
       "      <td>Республика Крым, городской округ Судак, село Миндальное, СНТ Солнечная Долина, Тихий переулок, 927</td>\n",
       "      <td>Продам дом, 4- этажный, 310 кв метров на видовом участке 6 соток. От города Судак 15 минут на машине. На каждом этаже полностью оборудованная и мебелированная трёхкомнатная квартира с отдельным входом, кондиционерами и большими балконами с прекрасным видом</td>\n",
       "      <td>1</td>\n",
       "      <td>2023-01-10 12:53:38.469536</td>\n",
       "    </tr>\n",
       "  </tbody>\n",
       "</table>\n",
       "</div>"
      ],
      "text/plain": [
       "      avito_id                                                    title  \\\n",
       "35  1110939787  Объявление «Дом 150 м² на участке 6 сот.» 17 фотографий   \n",
       "31  2680997267  Объявление «Дом 310 м² на участке 6 сот.» 16 фотографий   \n",
       "\n",
       "       price obj_name  \\\n",
       "35   8500000            \n",
       "31  18000000            \n",
       "\n",
       "                                                                                                   adr  \\\n",
       "35                                                                        с. Дачное, квартал Бакаташ 1   \n",
       "31  Республика Крым, городской округ Судак, село Миндальное, СНТ Солнечная Долина, Тихий переулок, 927   \n",
       "\n",
       "                                                                                                                                                                                                                                                         description  \\\n",
       "35  Продаётся дом в Дачном. Общая площадь 100кв. М. И мансарда без отделки. Вода централизованная., отопление электрокотел 3 фазы, есть котёл под тв. Топливо. Дом новый, утеплённый, во дворе плодоносящий сад-черешня, абрикос, яблоня, груша, персик, имеется нав   \n",
       "31  Продам дом, 4- этажный, 310 кв метров на видовом участке 6 соток. От города Судак 15 минут на машине. На каждом этаже полностью оборудованная и мебелированная трёхкомнатная квартира с отдельным входом, кондиционерами и большими балконами с прекрасным видом   \n",
       "\n",
       "    page                         ts  \n",
       "35     1 2023-01-10 12:53:38.469536  \n",
       "31     1 2023-01-10 12:53:38.469536  "
      ]
     },
     "execution_count": 17,
     "metadata": {},
     "output_type": "execute_result"
    }
   ],
   "source": [
    "df,html = AvitoParserRealty(\n",
    "        base_url=base_url+'/'+avito_path,\n",
    "        driver=DownloaderSeleniumFirefox(profile_path)\n",
    "    ).load(req_param='',keep_html=True)\n",
    "\n",
    "print(len(df))\n",
    "df.sample(2)"
   ]
  },
  {
   "cell_type": "code",
   "execution_count": 18,
   "id": "348cab00",
   "metadata": {},
   "outputs": [],
   "source": [
    "df['place'] = place\n",
    "ts = dtm.now().strftime('%Y-%m-%d_%H-%M')\n",
    "assert len(df)>0\n",
    "df.to_excel(f'{raw_data_path}/avito_{ts}_raw_{place}.xlsx',index=False)"
   ]
  }
 ],
 "metadata": {
  "kernelspec": {
   "display_name": "Python 3 (ipykernel)",
   "language": "python",
   "name": "python3"
  },
  "language_info": {
   "codemirror_mode": {
    "name": "ipython",
    "version": 3
   },
   "file_extension": ".py",
   "mimetype": "text/x-python",
   "name": "python",
   "nbconvert_exporter": "python",
   "pygments_lexer": "ipython3",
   "version": "3.10.8"
  },
  "toc": {
   "base_numbering": 1,
   "nav_menu": {},
   "number_sections": true,
   "sideBar": true,
   "skip_h1_title": false,
   "title_cell": "Table of Contents",
   "title_sidebar": "Contents",
   "toc_cell": false,
   "toc_position": {},
   "toc_section_display": true,
   "toc_window_display": false
  },
  "varInspector": {
   "cols": {
    "lenName": 16,
    "lenType": 16,
    "lenVar": 40
   },
   "kernels_config": {
    "python": {
     "delete_cmd_postfix": "",
     "delete_cmd_prefix": "del ",
     "library": "var_list.py",
     "varRefreshCmd": "print(var_dic_list())"
    },
    "r": {
     "delete_cmd_postfix": ") ",
     "delete_cmd_prefix": "rm(",
     "library": "var_list.r",
     "varRefreshCmd": "cat(var_dic_list()) "
    }
   },
   "types_to_exclude": [
    "module",
    "function",
    "builtin_function_or_method",
    "instance",
    "_Feature"
   ],
   "window_display": false
  }
 },
 "nbformat": 4,
 "nbformat_minor": 5
}
