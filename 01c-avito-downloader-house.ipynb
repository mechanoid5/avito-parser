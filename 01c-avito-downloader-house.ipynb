{
 "cells": [
  {
   "cell_type": "markdown",
   "id": "7bec28d7",
   "metadata": {},
   "source": [
    "__качаем объявления о продаже домов с авито.ru__\n",
    "\n",
    "_Evgeny S. Borisov <parser@mechanoid.su>_"
   ]
  },
  {
   "cell_type": "code",
   "execution_count": 1,
   "id": "52c5999f",
   "metadata": {},
   "outputs": [],
   "source": [
    "# !pacman -S firefox firefox-i18n-r  geckodriver\n",
    "# !pip install seleniuam"
   ]
  },
  {
   "cell_type": "code",
   "execution_count": 2,
   "id": "bcea4d8b",
   "metadata": {
    "ExecuteTime": {
     "end_time": "2022-08-26T14:19:06.118492Z",
     "start_time": "2022-08-26T14:13:37.888398Z"
    }
   },
   "outputs": [],
   "source": [
    "# import re\n",
    "import sys\n",
    "import logging\n",
    "from datetime import datetime as dtm\n",
    "from tqdm.notebook import tqdm\n",
    "import pandas as pd"
   ]
  },
  {
   "cell_type": "code",
   "execution_count": 3,
   "id": "caabc8c7",
   "metadata": {
    "ExecuteTime": {
     "end_time": "2022-08-26T14:19:06.118492Z",
     "start_time": "2022-08-26T14:13:37.888398Z"
    }
   },
   "outputs": [],
   "source": [
    "pd.set_option('display.max_colwidth', None)\n",
    "pd.set_option('display.float_format', '{:.2f}'.format)\n",
    "tqdm.pandas()\n",
    "\n",
    "logging.basicConfig(\n",
    "        format=u'[%(levelname)-8s] %(asctime)s | %(message)s',\n",
    "        datefmt='%Y-%m-%d %H:%M:%S',\n",
    "        level=logging.INFO,\n",
    "        # level=logging.DEBUG,\n",
    "        stream=sys.stdout,\n",
    "    )"
   ]
  },
  {
   "cell_type": "markdown",
   "id": "db3fe2be",
   "metadata": {},
   "source": [
    "---"
   ]
  },
  {
   "cell_type": "code",
   "execution_count": 4,
   "id": "288569b0",
   "metadata": {},
   "outputs": [],
   "source": [
    "# url = (\n",
    "# 'https://www.avito.ru/yaroslavskaya_oblast/avtomobili/chevrolet/niva'\n",
    "# '?bt=0'\n",
    "# '&i=1'\n",
    "# '&pmax=150000'\n",
    "# '&pmin=10000'\n",
    "# )"
   ]
  },
  {
   "cell_type": "code",
   "execution_count": 5,
   "id": "e1d4e472",
   "metadata": {},
   "outputs": [],
   "source": [
    "profile_path = '/home/mechanoid/.mozilla/firefox/p144xo2m.default-release'\n",
    "\n",
    "base_url = 'https://www.avito.ru/'\n",
    "# avito_path = 'sevastopol/kvartiry/prodam'\n",
    "\n",
    "raw_data_path = 'data/raw/house/avito' # каталог с файлами объявлений"
   ]
  },
  {
   "cell_type": "code",
   "execution_count": 6,
   "id": "d437eab9",
   "metadata": {},
   "outputs": [],
   "source": [
    "place = 'sevastopol'\n",
    "# place = 'bahchisaray'\n",
    "# place = 'sudak'\n",
    "avito_path = place+'/doma_dachi_kottedzhi/prodam'"
   ]
  },
  {
   "cell_type": "code",
   "execution_count": 7,
   "id": "9ce138fe",
   "metadata": {},
   "outputs": [
    {
     "name": "stdout",
     "output_type": "stream",
     "text": [
      "[INFO    ] 2022-11-15 13:21:57 | DownloaderSeleniumFirefox: downloader init\n",
      "[INFO    ] 2022-11-15 13:21:57 | DownloaderSeleniumFirefox: open virtual browser\n",
      "[INFO    ] 2022-11-15 13:21:59 | AdsListParser: downloader init\n",
      "[INFO    ] 2022-11-15 13:21:59 | AvitoParser: init\n",
      "[INFO    ] 2022-11-15 13:23:03 | AvitoParser: 45 pages for read\n",
      "[INFO    ] 2022-11-15 13:23:03 | AdsListParser: start read and parse pages...\n",
      "[INFO    ] 2022-11-15 13:23:05 | AdsListParser: read page 1\n",
      "[INFO    ] 2022-11-15 13:23:08 | AdsListParser: read page 2\n",
      "[INFO    ] 2022-11-15 13:23:11 | AdsListParser: read page 3\n",
      "[INFO    ] 2022-11-15 13:24:12 | AdsListParser: read page 4\n",
      "[INFO    ] 2022-11-15 13:24:15 | AdsListParser: read page 5\n",
      "[INFO    ] 2022-11-15 13:25:18 | AdsListParser: read page 6\n",
      "[INFO    ] 2022-11-15 13:25:21 | AdsListParser: read page 7\n",
      "[INFO    ] 2022-11-15 13:25:23 | AdsListParser: read page 8\n",
      "[INFO    ] 2022-11-15 13:25:26 | AdsListParser: read page 9\n",
      "[INFO    ] 2022-11-15 13:25:29 | AdsListParser: read page 10\n",
      "[INFO    ] 2022-11-15 13:25:32 | AdsListParser: read page 11\n",
      "[INFO    ] 2022-11-15 13:25:34 | AdsListParser: read page 12\n",
      "[INFO    ] 2022-11-15 13:25:36 | AdsListParser: read page 13\n",
      "[INFO    ] 2022-11-15 13:25:38 | AdsListParser: read page 14\n",
      "[INFO    ] 2022-11-15 13:25:41 | AdsListParser: read page 15\n",
      "[INFO    ] 2022-11-15 13:25:43 | AdsListParser: read page 16\n",
      "[INFO    ] 2022-11-15 13:26:47 | AdsListParser: read page 17\n",
      "[INFO    ] 2022-11-15 13:26:50 | AdsListParser: read page 18\n",
      "[INFO    ] 2022-11-15 13:26:53 | AdsListParser: read page 19\n",
      "[INFO    ] 2022-11-15 13:26:56 | AdsListParser: read page 20\n",
      "[INFO    ] 2022-11-15 13:26:58 | AdsListParser: read page 21\n",
      "[INFO    ] 2022-11-15 13:27:00 | AdsListParser: read page 22\n",
      "[INFO    ] 2022-11-15 13:27:02 | AdsListParser: read page 23\n",
      "[INFO    ] 2022-11-15 13:28:06 | AdsListParser: read page 24\n",
      "[INFO    ] 2022-11-15 13:28:11 | AdsListParser: read page 25\n",
      "[INFO    ] 2022-11-15 13:28:13 | AdsListParser: read page 26\n",
      "[INFO    ] 2022-11-15 13:28:18 | AdsListParser: read page 27\n",
      "[INFO    ] 2022-11-15 13:28:23 | AdsListParser: read page 28\n",
      "[INFO    ] 2022-11-15 13:28:26 | AdsListParser: read page 29\n",
      "[INFO    ] 2022-11-15 13:28:29 | AdsListParser: read page 30\n",
      "[INFO    ] 2022-11-15 13:28:34 | AdsListParser: read page 31\n",
      "[INFO    ] 2022-11-15 13:28:36 | AdsListParser: read page 32\n",
      "[INFO    ] 2022-11-15 13:28:38 | AdsListParser: read page 33\n",
      "[INFO    ] 2022-11-15 13:29:40 | AdsListParser: read page 34\n",
      "[INFO    ] 2022-11-15 13:29:42 | AdsListParser: read page 35\n",
      "[INFO    ] 2022-11-15 13:29:46 | AdsListParser: read page 36\n",
      "[INFO    ] 2022-11-15 13:29:48 | AdsListParser: read page 37\n",
      "[INFO    ] 2022-11-15 13:29:52 | AdsListParser: read page 38\n",
      "[INFO    ] 2022-11-15 13:29:56 | AdsListParser: read page 39\n",
      "[INFO    ] 2022-11-15 13:29:58 | AdsListParser: read page 40\n",
      "[INFO    ] 2022-11-15 13:30:03 | AdsListParser: read page 41\n",
      "[INFO    ] 2022-11-15 13:31:03 | AdsListParser: read page 42\n",
      "[INFO    ] 2022-11-15 13:31:10 | AdsListParser: read page 43\n",
      "[INFO    ] 2022-11-15 13:31:13 | AdsListParser: read page 44\n",
      "[INFO    ] 2022-11-15 13:31:15 | AdsListParser: read page 45\n",
      "[INFO    ] 2022-11-15 13:31:15 | AdsListParser: last page detected\n",
      "[INFO    ] 2022-11-15 13:31:15 | DownloaderSeleniumFirefox: close virtual browser\n",
      "2118\n",
      "CPU times: user 9.33 s, sys: 371 ms, total: 9.7 s\n",
      "Wall time: 9min 17s\n"
     ]
    }
   ],
   "source": [
    "%%time \n",
    "\n",
    "from lib.downloader import DownloaderSeleniumFirefox\n",
    "from lib.avito import AvitoParserRealty\n",
    "\n",
    "df,html = AvitoParserRealty(\n",
    "        base_url=base_url+'/'+avito_path,\n",
    "        driver=DownloaderSeleniumFirefox(profile_path)\n",
    "    ).load(req_param='',keep_html=True)\n",
    "\n",
    "print(len(df))"
   ]
  },
  {
   "cell_type": "code",
   "execution_count": 8,
   "id": "f8bd78d3",
   "metadata": {},
   "outputs": [
    {
     "name": "stdout",
     "output_type": "stream",
     "text": [
      "2118\n",
      "2055\n"
     ]
    }
   ],
   "source": [
    "print(len(df))\n",
    "df = df.dropna().drop_duplicates(['avito_id','description']).reset_index(drop=True)\n",
    "print(len(df))"
   ]
  },
  {
   "cell_type": "code",
   "execution_count": 9,
   "id": "771cb44e",
   "metadata": {},
   "outputs": [
    {
     "data": {
      "text/html": [
       "<div>\n",
       "<style scoped>\n",
       "    .dataframe tbody tr th:only-of-type {\n",
       "        vertical-align: middle;\n",
       "    }\n",
       "\n",
       "    .dataframe tbody tr th {\n",
       "        vertical-align: top;\n",
       "    }\n",
       "\n",
       "    .dataframe thead th {\n",
       "        text-align: right;\n",
       "    }\n",
       "</style>\n",
       "<table border=\"1\" class=\"dataframe\">\n",
       "  <thead>\n",
       "    <tr style=\"text-align: right;\">\n",
       "      <th></th>\n",
       "      <th>avito_id</th>\n",
       "      <th>title</th>\n",
       "      <th>price</th>\n",
       "      <th>obj_name</th>\n",
       "      <th>adr</th>\n",
       "      <th>description</th>\n",
       "      <th>page</th>\n",
       "      <th>ts</th>\n",
       "    </tr>\n",
       "  </thead>\n",
       "  <tbody>\n",
       "    <tr>\n",
       "      <th>513</th>\n",
       "      <td>2327761998</td>\n",
       "      <td>Объявление «Дом 65 м² на участке 4 сот.» 8 фотографий</td>\n",
       "      <td>5900000</td>\n",
       "      <td></td>\n",
       "      <td>ул. Штурмана Батурина</td>\n",
       "      <td>Предлагаем Вашему вниманию прекрасный дом! Срочная Продажа!. \\n\\nНовый, светлый с прекрасной планировкой. Отлично подойдет для небольшой семьи. Две просторные комнаты, раздельный санузел. Сделан хороший ремонт. В комнатах ламинат, натяжные потолки. Санузел и</td>\n",
       "      <td>12</td>\n",
       "      <td>2022-11-15 13:31:15.084492</td>\n",
       "    </tr>\n",
       "    <tr>\n",
       "      <th>245</th>\n",
       "      <td>2569732065</td>\n",
       "      <td>Объявление «Дача 25 м² на участке 6,3 сот.» 28 фотографий</td>\n",
       "      <td>3500000</td>\n",
       "      <td></td>\n",
       "      <td>садоводческое товарищество Сбытовик, 10</td>\n",
       "      <td>Продам Жилой Дачный Домик в СТ Сбытовик, район Казачьей бухты. \\n\\nПлощадь дачи — 25 кв. М., год постройки — 2021 г. Гостиная с кухней, санузел в домике. Горячая вода — бойлер, душевая кабина. \\n\\nУчасток ровный, прямоугольный — 6,34 кв. М, со всех сторон обне</td>\n",
       "      <td>6</td>\n",
       "      <td>2022-11-15 13:31:15.084492</td>\n",
       "    </tr>\n",
       "  </tbody>\n",
       "</table>\n",
       "</div>"
      ],
      "text/plain": [
       "       avito_id                                                      title  \\\n",
       "513  2327761998      Объявление «Дом 65 м² на участке 4 сот.» 8 фотографий   \n",
       "245  2569732065  Объявление «Дача 25 м² на участке 6,3 сот.» 28 фотографий   \n",
       "\n",
       "       price obj_name                                      adr  \\\n",
       "513  5900000                             ул. Штурмана Батурина   \n",
       "245  3500000           садоводческое товарищество Сбытовик, 10   \n",
       "\n",
       "                                                                                                                                                                                                                                                              description  \\\n",
       "513    Предлагаем Вашему вниманию прекрасный дом! Срочная Продажа!. \\n\\nНовый, светлый с прекрасной планировкой. Отлично подойдет для небольшой семьи. Две просторные комнаты, раздельный санузел. Сделан хороший ремонт. В комнатах ламинат, натяжные потолки. Санузел и   \n",
       "245  Продам Жилой Дачный Домик в СТ Сбытовик, район Казачьей бухты. \\n\\nПлощадь дачи — 25 кв. М., год постройки — 2021 г. Гостиная с кухней, санузел в домике. Горячая вода — бойлер, душевая кабина. \\n\\nУчасток ровный, прямоугольный — 6,34 кв. М, со всех сторон обне   \n",
       "\n",
       "     page                         ts  \n",
       "513    12 2022-11-15 13:31:15.084492  \n",
       "245     6 2022-11-15 13:31:15.084492  "
      ]
     },
     "execution_count": 9,
     "metadata": {},
     "output_type": "execute_result"
    }
   ],
   "source": [
    "df.sample(2)"
   ]
  },
  {
   "cell_type": "code",
   "execution_count": 10,
   "id": "0a311ff9",
   "metadata": {},
   "outputs": [],
   "source": [
    "df['place'] = place"
   ]
  },
  {
   "cell_type": "code",
   "execution_count": 11,
   "id": "6fa322a2",
   "metadata": {},
   "outputs": [],
   "source": [
    "ts = dtm.now().strftime('%Y-%m-%d_%H-%M')\n",
    "assert len(df)>0\n",
    "df.to_excel(f'{raw_data_path}/avito_{ts}_raw_{place}.xlsx',index=False)"
   ]
  },
  {
   "cell_type": "markdown",
   "id": "bdb9e4bd",
   "metadata": {},
   "source": [
    "---"
   ]
  },
  {
   "cell_type": "code",
   "execution_count": 12,
   "id": "7a3aff9f",
   "metadata": {},
   "outputs": [],
   "source": [
    "# place = 'sevastopol'\n",
    "place = 'bahchisaray'\n",
    "# place = 'sudak'\n",
    "avito_path = place+'/doma_dachi_kottedzhi/prodam'"
   ]
  },
  {
   "cell_type": "code",
   "execution_count": 13,
   "id": "0828e414",
   "metadata": {},
   "outputs": [
    {
     "name": "stdout",
     "output_type": "stream",
     "text": [
      "[INFO    ] 2022-11-15 13:31:16 | DownloaderSeleniumFirefox: downloader init\n",
      "[INFO    ] 2022-11-15 13:31:16 | DownloaderSeleniumFirefox: open virtual browser\n",
      "[INFO    ] 2022-11-15 13:31:19 | AdsListParser: downloader init\n",
      "[INFO    ] 2022-11-15 13:31:19 | AvitoParser: init\n",
      "[INFO    ] 2022-11-15 13:31:23 | AvitoParser: 5 pages for read\n",
      "[INFO    ] 2022-11-15 13:31:23 | AdsListParser: start read and parse pages...\n",
      "[INFO    ] 2022-11-15 13:31:26 | AdsListParser: read page 1\n",
      "[INFO    ] 2022-11-15 13:31:28 | AdsListParser: read page 2\n",
      "[INFO    ] 2022-11-15 13:31:31 | AdsListParser: read page 3\n",
      "[INFO    ] 2022-11-15 13:31:34 | AdsListParser: read page 4\n",
      "[INFO    ] 2022-11-15 13:31:37 | AdsListParser: read page 5\n",
      "[INFO    ] 2022-11-15 13:31:37 | AdsListParser: last page detected\n",
      "[INFO    ] 2022-11-15 13:31:37 | DownloaderSeleniumFirefox: close virtual browser\n",
      "250\n"
     ]
    },
    {
     "data": {
      "text/html": [
       "<div>\n",
       "<style scoped>\n",
       "    .dataframe tbody tr th:only-of-type {\n",
       "        vertical-align: middle;\n",
       "    }\n",
       "\n",
       "    .dataframe tbody tr th {\n",
       "        vertical-align: top;\n",
       "    }\n",
       "\n",
       "    .dataframe thead th {\n",
       "        text-align: right;\n",
       "    }\n",
       "</style>\n",
       "<table border=\"1\" class=\"dataframe\">\n",
       "  <thead>\n",
       "    <tr style=\"text-align: right;\">\n",
       "      <th></th>\n",
       "      <th>avito_id</th>\n",
       "      <th>title</th>\n",
       "      <th>price</th>\n",
       "      <th>obj_name</th>\n",
       "      <th>adr</th>\n",
       "      <th>description</th>\n",
       "      <th>page</th>\n",
       "      <th>ts</th>\n",
       "    </tr>\n",
       "  </thead>\n",
       "  <tbody>\n",
       "    <tr>\n",
       "      <th>110</th>\n",
       "      <td>2600217229</td>\n",
       "      <td>Объявление «Дом 59 м² на участке 12 сот.» 33 фотографии</td>\n",
       "      <td>3150000</td>\n",
       "      <td></td>\n",
       "      <td>с. Вилино, Колхозная ул., 8А</td>\n",
       "      <td>Продается дом общей площадью 59 кв. М. Три комнаты и кухня, отдельно стоящее капитальное строение-летняя кухня 13 кв. М. Переоборудованная в ванную, состоящую из двух помещений и земельный участок 12 соток, все объекты недвижимости в собственности — чистая</td>\n",
       "      <td>3</td>\n",
       "      <td>2022-11-15 13:31:37.169922</td>\n",
       "    </tr>\n",
       "    <tr>\n",
       "      <th>88</th>\n",
       "      <td>1538857890</td>\n",
       "      <td>Объявление «Дом 100 м² на участке 6,6 сот.» 16 фотографий</td>\n",
       "      <td>7500000</td>\n",
       "      <td></td>\n",
       "      <td>с. Шевченково</td>\n",
       "      <td>Адрес: улица Молодежная, дом 13.\\nДом газофицирован, удобства в доме, автономное отопление, фруктовый сад, есть сарай, курятник и подвал, большой двор. \\nСтены из Инкерманского камня + ракушка; план дома изменён, установлен газовый котёл; находится в 10 км о</td>\n",
       "      <td>2</td>\n",
       "      <td>2022-11-15 13:31:37.169922</td>\n",
       "    </tr>\n",
       "  </tbody>\n",
       "</table>\n",
       "</div>"
      ],
      "text/plain": [
       "       avito_id                                                      title  \\\n",
       "110  2600217229    Объявление «Дом 59 м² на участке 12 сот.» 33 фотографии   \n",
       "88   1538857890  Объявление «Дом 100 м² на участке 6,6 сот.» 16 фотографий   \n",
       "\n",
       "       price obj_name                           adr  \\\n",
       "110  3150000           с. Вилино, Колхозная ул., 8А   \n",
       "88   7500000                          с. Шевченково   \n",
       "\n",
       "                                                                                                                                                                                                                                                            description  \\\n",
       "110    Продается дом общей площадью 59 кв. М. Три комнаты и кухня, отдельно стоящее капитальное строение-летняя кухня 13 кв. М. Переоборудованная в ванную, состоящую из двух помещений и земельный участок 12 соток, все объекты недвижимости в собственности — чистая   \n",
       "88   Адрес: улица Молодежная, дом 13.\\nДом газофицирован, удобства в доме, автономное отопление, фруктовый сад, есть сарай, курятник и подвал, большой двор. \\nСтены из Инкерманского камня + ракушка; план дома изменён, установлен газовый котёл; находится в 10 км о   \n",
       "\n",
       "     page                         ts  \n",
       "110     3 2022-11-15 13:31:37.169922  \n",
       "88      2 2022-11-15 13:31:37.169922  "
      ]
     },
     "execution_count": 13,
     "metadata": {},
     "output_type": "execute_result"
    }
   ],
   "source": [
    "df,html = AvitoParserRealty(\n",
    "        base_url=base_url+'/'+avito_path,\n",
    "        driver=DownloaderSeleniumFirefox(profile_path)\n",
    "    ).load(req_param='',keep_html=True)\n",
    "\n",
    "print(len(df))\n",
    "df.sample(2)"
   ]
  },
  {
   "cell_type": "code",
   "execution_count": 14,
   "id": "aa6cf989",
   "metadata": {},
   "outputs": [],
   "source": [
    "df['place'] = place\n",
    "ts = dtm.now().strftime('%Y-%m-%d_%H-%M')\n",
    "assert len(df)>0\n",
    "df.to_excel(f'{raw_data_path}/avito_{ts}_raw_{place}.xlsx',index=False)"
   ]
  },
  {
   "cell_type": "markdown",
   "id": "cb8a6e24",
   "metadata": {},
   "source": [
    "----"
   ]
  },
  {
   "cell_type": "code",
   "execution_count": 15,
   "id": "fafeda38",
   "metadata": {},
   "outputs": [],
   "source": [
    "# place = 'sevastopol'\n",
    "# place = 'bahchisaray'\n",
    "place = 'sudak'\n",
    "avito_path = place+'/doma_dachi_kottedzhi/prodam'"
   ]
  },
  {
   "cell_type": "code",
   "execution_count": 16,
   "id": "0ea62e56",
   "metadata": {},
   "outputs": [
    {
     "name": "stdout",
     "output_type": "stream",
     "text": [
      "[INFO    ] 2022-11-15 13:31:37 | DownloaderSeleniumFirefox: downloader init\n",
      "[INFO    ] 2022-11-15 13:31:37 | DownloaderSeleniumFirefox: open virtual browser\n",
      "[INFO    ] 2022-11-15 13:31:40 | AdsListParser: downloader init\n",
      "[INFO    ] 2022-11-15 13:31:40 | AvitoParser: init\n",
      "[INFO    ] 2022-11-15 13:31:44 | AvitoParser: 3 pages for read\n",
      "[INFO    ] 2022-11-15 13:31:44 | AdsListParser: start read and parse pages...\n",
      "[INFO    ] 2022-11-15 13:31:46 | AdsListParser: read page 1\n",
      "[INFO    ] 2022-11-15 13:31:48 | AdsListParser: read page 2\n",
      "[INFO    ] 2022-11-15 13:31:49 | AdsListParser: read page 3\n",
      "[INFO    ] 2022-11-15 13:31:49 | AdsListParser: last page detected\n",
      "[INFO    ] 2022-11-15 13:31:50 | DownloaderSeleniumFirefox: close virtual browser\n",
      "103\n"
     ]
    },
    {
     "data": {
      "text/html": [
       "<div>\n",
       "<style scoped>\n",
       "    .dataframe tbody tr th:only-of-type {\n",
       "        vertical-align: middle;\n",
       "    }\n",
       "\n",
       "    .dataframe tbody tr th {\n",
       "        vertical-align: top;\n",
       "    }\n",
       "\n",
       "    .dataframe thead th {\n",
       "        text-align: right;\n",
       "    }\n",
       "</style>\n",
       "<table border=\"1\" class=\"dataframe\">\n",
       "  <thead>\n",
       "    <tr style=\"text-align: right;\">\n",
       "      <th></th>\n",
       "      <th>avito_id</th>\n",
       "      <th>title</th>\n",
       "      <th>price</th>\n",
       "      <th>obj_name</th>\n",
       "      <th>adr</th>\n",
       "      <th>description</th>\n",
       "      <th>page</th>\n",
       "      <th>ts</th>\n",
       "    </tr>\n",
       "  </thead>\n",
       "  <tbody>\n",
       "    <tr>\n",
       "      <th>36</th>\n",
       "      <td>2455313210</td>\n",
       "      <td>Объявление «Дом 365 м² на участке 8 сот.» 3 фотографии</td>\n",
       "      <td>20000000</td>\n",
       "      <td></td>\n",
       "      <td>Яблоневая ул., 41</td>\n",
       "      <td>Продаётся недостроенный дом. Крыша крытая, забор-ракушка.</td>\n",
       "      <td>1</td>\n",
       "      <td>2022-11-15 13:31:49.612128</td>\n",
       "    </tr>\n",
       "    <tr>\n",
       "      <th>56</th>\n",
       "      <td>833617074</td>\n",
       "      <td>Объявление «Дом 60 м² на участке 3 сот.» 13 фотографий</td>\n",
       "      <td>3700000</td>\n",
       "      <td></td>\n",
       "      <td>ул. Десантников, 6</td>\n",
       "      <td>Продам дом в районе ртс.3комнаты, кухня, сан узел совмещен. Большой двор, хоз. Постройки, все коммуникации кроме газа. Газ уже начали по улице проводить. Все документы на дом и участок впорядке. Возможен обмен на квартиру.</td>\n",
       "      <td>2</td>\n",
       "      <td>2022-11-15 13:31:49.612128</td>\n",
       "    </tr>\n",
       "  </tbody>\n",
       "</table>\n",
       "</div>"
      ],
      "text/plain": [
       "      avito_id                                                   title  \\\n",
       "36  2455313210  Объявление «Дом 365 м² на участке 8 сот.» 3 фотографии   \n",
       "56   833617074  Объявление «Дом 60 м² на участке 3 сот.» 13 фотографий   \n",
       "\n",
       "       price obj_name                 adr  \\\n",
       "36  20000000            Яблоневая ул., 41   \n",
       "56   3700000           ул. Десантников, 6   \n",
       "\n",
       "                                                                                                                                                                                                                       description  \\\n",
       "36                                                                                                                                                                       Продаётся недостроенный дом. Крыша крытая, забор-ракушка.   \n",
       "56  Продам дом в районе ртс.3комнаты, кухня, сан узел совмещен. Большой двор, хоз. Постройки, все коммуникации кроме газа. Газ уже начали по улице проводить. Все документы на дом и участок впорядке. Возможен обмен на квартиру.   \n",
       "\n",
       "    page                         ts  \n",
       "36     1 2022-11-15 13:31:49.612128  \n",
       "56     2 2022-11-15 13:31:49.612128  "
      ]
     },
     "execution_count": 16,
     "metadata": {},
     "output_type": "execute_result"
    }
   ],
   "source": [
    "df,html = AvitoParserRealty(\n",
    "        base_url=base_url+'/'+avito_path,\n",
    "        driver=DownloaderSeleniumFirefox(profile_path)\n",
    "    ).load(req_param='',keep_html=True)\n",
    "\n",
    "print(len(df))\n",
    "df.sample(2)"
   ]
  },
  {
   "cell_type": "code",
   "execution_count": 17,
   "id": "348cab00",
   "metadata": {},
   "outputs": [],
   "source": [
    "df['place'] = place\n",
    "ts = dtm.now().strftime('%Y-%m-%d_%H-%M')\n",
    "assert len(df)>0\n",
    "df.to_excel(f'{raw_data_path}/avito_{ts}_raw_{place}.xlsx',index=False)"
   ]
  }
 ],
 "metadata": {
  "kernelspec": {
   "display_name": "Python 3 (ipykernel)",
   "language": "python",
   "name": "python3"
  },
  "language_info": {
   "codemirror_mode": {
    "name": "ipython",
    "version": 3
   },
   "file_extension": ".py",
   "mimetype": "text/x-python",
   "name": "python",
   "nbconvert_exporter": "python",
   "pygments_lexer": "ipython3",
   "version": "3.10.8"
  },
  "toc": {
   "base_numbering": 1,
   "nav_menu": {},
   "number_sections": true,
   "sideBar": true,
   "skip_h1_title": false,
   "title_cell": "Table of Contents",
   "title_sidebar": "Contents",
   "toc_cell": false,
   "toc_position": {},
   "toc_section_display": true,
   "toc_window_display": false
  },
  "varInspector": {
   "cols": {
    "lenName": 16,
    "lenType": 16,
    "lenVar": 40
   },
   "kernels_config": {
    "python": {
     "delete_cmd_postfix": "",
     "delete_cmd_prefix": "del ",
     "library": "var_list.py",
     "varRefreshCmd": "print(var_dic_list())"
    },
    "r": {
     "delete_cmd_postfix": ") ",
     "delete_cmd_prefix": "rm(",
     "library": "var_list.r",
     "varRefreshCmd": "cat(var_dic_list()) "
    }
   },
   "types_to_exclude": [
    "module",
    "function",
    "builtin_function_or_method",
    "instance",
    "_Feature"
   ],
   "window_display": false
  }
 },
 "nbformat": 4,
 "nbformat_minor": 5
}
