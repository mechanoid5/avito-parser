{
 "cells": [
  {
   "cell_type": "markdown",
   "id": "7bec28d7",
   "metadata": {},
   "source": [
    "__применение парсера объявлений авито.ru__\n",
    "\n",
    "_Evgeny S. Borisov <parser@mechanoid.su>_"
   ]
  },
  {
   "cell_type": "code",
   "execution_count": 1,
   "id": "52c5999f",
   "metadata": {},
   "outputs": [],
   "source": [
    "# !pacman -S firefox firefox-i18n-r  geckodriver\n",
    "# !pip install seleniuam"
   ]
  },
  {
   "cell_type": "code",
   "execution_count": 2,
   "id": "bcea4d8b",
   "metadata": {
    "ExecuteTime": {
     "end_time": "2022-08-26T14:19:06.118492Z",
     "start_time": "2022-08-26T14:13:37.888398Z"
    }
   },
   "outputs": [],
   "source": [
    "# import re\n",
    "import sys\n",
    "import logging\n",
    "from datetime import datetime as dtm\n",
    "from tqdm.notebook import tqdm\n",
    "import pandas as pd"
   ]
  },
  {
   "cell_type": "code",
   "execution_count": 3,
   "id": "caabc8c7",
   "metadata": {
    "ExecuteTime": {
     "end_time": "2022-08-26T14:19:06.118492Z",
     "start_time": "2022-08-26T14:13:37.888398Z"
    }
   },
   "outputs": [],
   "source": [
    "pd.set_option('display.max_colwidth', None)\n",
    "pd.set_option('display.float_format', '{:.2f}'.format)\n",
    "tqdm.pandas()\n",
    "\n",
    "logging.basicConfig(\n",
    "        format=u'[%(levelname)-8s] %(asctime)s | %(message)s',\n",
    "        datefmt='%Y-%m-%d %H:%M:%S',\n",
    "        level=logging.INFO,\n",
    "        # level=logging.DEBUG,\n",
    "        stream=sys.stdout,\n",
    "    )"
   ]
  },
  {
   "cell_type": "markdown",
   "id": "db3fe2be",
   "metadata": {},
   "source": [
    "---"
   ]
  },
  {
   "cell_type": "code",
   "execution_count": 4,
   "id": "288569b0",
   "metadata": {},
   "outputs": [],
   "source": [
    "# url = (\n",
    "# 'https://www.avito.ru/yaroslavskaya_oblast/avtomobili/chevrolet/niva'\n",
    "# '?bt=0'\n",
    "# '&i=1'\n",
    "# '&pmax=150000'\n",
    "# '&pmin=10000'\n",
    "# )"
   ]
  },
  {
   "cell_type": "code",
   "execution_count": 5,
   "id": "d437eab9",
   "metadata": {},
   "outputs": [],
   "source": [
    "profile_path = '/home/mechanoid/.mozilla/firefox/p144xo2m.default-release'\n",
    "\n",
    "base_url = 'https://www.avito.ru/'\n",
    "# avito_path = 'sevastopol/kvartiry/prodam'\n",
    "\n",
    "place = 'sevastopol'\n",
    "# place = 'bahchisaray'\n",
    "# place = 'sudak'\n",
    "\n",
    "avito_path = place+'/doma_dachi_kottedzhi/prodam'\n",
    "\n",
    "raw_data_path = 'data/raw/house/avito' # каталог с файлами объявлений"
   ]
  },
  {
   "cell_type": "code",
   "execution_count": 6,
   "id": "9ce138fe",
   "metadata": {},
   "outputs": [
    {
     "name": "stdout",
     "output_type": "stream",
     "text": [
      "[INFO    ] 2022-09-15 14:47:22 | DownloaderSeleniumFirefox: downloader init\n",
      "[INFO    ] 2022-09-15 14:47:22 | DownloaderSeleniumFirefox: open virtual browser\n",
      "[INFO    ] 2022-09-15 14:47:24 | AdsListParser: downloader init\n",
      "[INFO    ] 2022-09-15 14:47:24 | AvitoParser: init\n",
      "[INFO    ] 2022-09-15 14:47:34 | AvitoParser: 3 pages for read\n",
      "[INFO    ] 2022-09-15 14:47:34 | AdsListParser: start read and parse pages...\n",
      "[INFO    ] 2022-09-15 14:47:38 | AdsListParser: read page 1\n",
      "[INFO    ] 2022-09-15 14:47:42 | AdsListParser: read page 2\n",
      "[INFO    ] 2022-09-15 14:47:45 | AdsListParser: read page 3\n",
      "[INFO    ] 2022-09-15 14:47:45 | AdsListParser: last page detected\n",
      "[INFO    ] 2022-09-15 14:47:45 | DownloaderSeleniumFirefox: close virtual browser\n",
      "118\n",
      "CPU times: user 1.36 s, sys: 99.5 ms, total: 1.46 s\n",
      "Wall time: 23.6 s\n"
     ]
    }
   ],
   "source": [
    "%%time \n",
    "\n",
    "from lib.downloader import DownloaderSeleniumFirefox\n",
    "from lib.avito import AvitoParserRealty\n",
    "\n",
    "df,html = AvitoParserRealty(\n",
    "        base_url=base_url+'/'+avito_path,\n",
    "        driver=DownloaderSeleniumFirefox(profile_path)\n",
    "    ).load(req_param='',keep_html=True)\n",
    "\n",
    "print(len(df))"
   ]
  },
  {
   "cell_type": "code",
   "execution_count": 7,
   "id": "f8bd78d3",
   "metadata": {},
   "outputs": [
    {
     "name": "stdout",
     "output_type": "stream",
     "text": [
      "118\n",
      "118\n"
     ]
    }
   ],
   "source": [
    "print(len(df))\n",
    "df = df.dropna().drop_duplicates(['avito_id','description']).reset_index(drop=True)\n",
    "print(len(df))"
   ]
  },
  {
   "cell_type": "code",
   "execution_count": 8,
   "id": "771cb44e",
   "metadata": {},
   "outputs": [
    {
     "data": {
      "text/html": [
       "<div>\n",
       "<style scoped>\n",
       "    .dataframe tbody tr th:only-of-type {\n",
       "        vertical-align: middle;\n",
       "    }\n",
       "\n",
       "    .dataframe tbody tr th {\n",
       "        vertical-align: top;\n",
       "    }\n",
       "\n",
       "    .dataframe thead th {\n",
       "        text-align: right;\n",
       "    }\n",
       "</style>\n",
       "<table border=\"1\" class=\"dataframe\">\n",
       "  <thead>\n",
       "    <tr style=\"text-align: right;\">\n",
       "      <th></th>\n",
       "      <th>avito_id</th>\n",
       "      <th>title</th>\n",
       "      <th>price</th>\n",
       "      <th>obj_name</th>\n",
       "      <th>adr</th>\n",
       "      <th>description</th>\n",
       "      <th>page</th>\n",
       "      <th>ts</th>\n",
       "    </tr>\n",
       "  </thead>\n",
       "  <tbody>\n",
       "    <tr>\n",
       "      <th>69</th>\n",
       "      <td>2534680046</td>\n",
       "      <td>Объявление «Дом 90 м² на участке 9 сот.» 8 фотографий</td>\n",
       "      <td>5665000</td>\n",
       "      <td></td>\n",
       "      <td>с. Солнечная Долина, Школьная ул., 3А</td>\n",
       "      <td>Продается часть дома 90 м2 с участком В доме три спальни, кухня, санузел, просторный коридор, отопление, канализация, \\n\\nинтернет, водоснабжение, на участке хоз постройки, есть место для парковки. \\n\\nТак же на участке есть сад с фруктовыми деревьями. \\n\\nВ пос</td>\n",
       "      <td>2</td>\n",
       "      <td>2022-09-15 14:47:45.056178</td>\n",
       "    </tr>\n",
       "    <tr>\n",
       "      <th>112</th>\n",
       "      <td>2491402063</td>\n",
       "      <td>Объявление «Дом 325 м² на участке 6,7 сот.» 12 фотографий</td>\n",
       "      <td>35000000</td>\n",
       "      <td></td>\n",
       "      <td>с. Миндальное, СНТ Солнечная Долина, Центральный пр-т, 586</td>\n",
       "      <td>Продаю Гостевой дом 7 номеров + цокольный этаж вся техника и мебель новое большой Бассейн.</td>\n",
       "      <td>3</td>\n",
       "      <td>2022-09-15 14:47:45.056178</td>\n",
       "    </tr>\n",
       "  </tbody>\n",
       "</table>\n",
       "</div>"
      ],
      "text/plain": [
       "       avito_id                                                      title  \\\n",
       "69   2534680046      Объявление «Дом 90 м² на участке 9 сот.» 8 фотографий   \n",
       "112  2491402063  Объявление «Дом 325 м² на участке 6,7 сот.» 12 фотографий   \n",
       "\n",
       "        price obj_name  \\\n",
       "69    5665000            \n",
       "112  35000000            \n",
       "\n",
       "                                                            adr  \\\n",
       "69                        с. Солнечная Долина, Школьная ул., 3А   \n",
       "112  с. Миндальное, СНТ Солнечная Долина, Центральный пр-т, 586   \n",
       "\n",
       "                                                                                                                                                                                                                                                                description  \\\n",
       "69   Продается часть дома 90 м2 с участком В доме три спальни, кухня, санузел, просторный коридор, отопление, канализация, \\n\\nинтернет, водоснабжение, на участке хоз постройки, есть место для парковки. \\n\\nТак же на участке есть сад с фруктовыми деревьями. \\n\\nВ пос   \n",
       "112                                                                                                                                                                              Продаю Гостевой дом 7 номеров + цокольный этаж вся техника и мебель новое большой Бассейн.   \n",
       "\n",
       "     page                         ts  \n",
       "69      2 2022-09-15 14:47:45.056178  \n",
       "112     3 2022-09-15 14:47:45.056178  "
      ]
     },
     "execution_count": 8,
     "metadata": {},
     "output_type": "execute_result"
    }
   ],
   "source": [
    "df.sample(2)"
   ]
  },
  {
   "cell_type": "code",
   "execution_count": null,
   "id": "0a311ff9",
   "metadata": {},
   "outputs": [],
   "source": [
    "df['place'] = place"
   ]
  },
  {
   "cell_type": "code",
   "execution_count": 9,
   "id": "6fa322a2",
   "metadata": {},
   "outputs": [],
   "source": [
    "ts = dtm.now().strftime('%Y-%m-%d_%H-%M')\n",
    "assert len(df)>0\n",
    "df.to_excel(f'{raw_data_path}/avito_{ts}_raw_{place}.xlsx',index=False)"
   ]
  },
  {
   "cell_type": "code",
   "execution_count": 10,
   "id": "1c40376b",
   "metadata": {},
   "outputs": [],
   "source": [
    "# df[['adr']].drop_duplicates()"
   ]
  },
  {
   "cell_type": "markdown",
   "id": "ccb06a74",
   "metadata": {},
   "source": [
    "---"
   ]
  },
  {
   "cell_type": "code",
   "execution_count": 9,
   "id": "f1121da1",
   "metadata": {},
   "outputs": [],
   "source": [
    "# !ls data/raw/house/avito/"
   ]
  },
  {
   "cell_type": "code",
   "execution_count": 8,
   "id": "358adab3",
   "metadata": {},
   "outputs": [],
   "source": [
    "# import pandas as pd\n",
    "\n",
    "# f = 'data/raw/house/avito/avito_2022-09-15_14-42_raw_bahchisaray.xlsx'\n",
    "# df = pd.read_excel(f)\n",
    "# df['place'] = 'bahchisaray'\n",
    "# df.to_excel(f)"
   ]
  },
  {
   "cell_type": "markdown",
   "id": "e12e3388",
   "metadata": {},
   "source": [
    "----"
   ]
  },
  {
   "cell_type": "code",
   "execution_count": 11,
   "id": "12007ece",
   "metadata": {},
   "outputs": [],
   "source": [
    "# !ls data/raw/house/avito"
   ]
  },
  {
   "cell_type": "code",
   "execution_count": 12,
   "id": "db9ed531",
   "metadata": {},
   "outputs": [],
   "source": [
    "# import pandas as pd\n",
    "\n",
    "# df = pd.read_excel('data/raw/house/avito/avito_2022-09-15_11-54_raw.xlsx')\n",
    "# len(df)"
   ]
  },
  {
   "cell_type": "code",
   "execution_count": 13,
   "id": "ff9ced5f",
   "metadata": {},
   "outputs": [],
   "source": [
    "# pd.set_option('display.max_colwidth', None)\n",
    "# pd.set_option('display.float_format', '{:.2f}'.format)"
   ]
  },
  {
   "cell_type": "code",
   "execution_count": 14,
   "id": "1fda3660",
   "metadata": {},
   "outputs": [],
   "source": [
    "# df.sample(2)"
   ]
  },
  {
   "cell_type": "code",
   "execution_count": 15,
   "id": "97c815da",
   "metadata": {},
   "outputs": [],
   "source": [
    "# таунхаус"
   ]
  },
  {
   "cell_type": "code",
   "execution_count": 16,
   "id": "9de561f9",
   "metadata": {},
   "outputs": [],
   "source": [
    "# df[\n",
    "# #df['description'].str.lower().str.match(r'.*таунхаус.*')\n",
    "# #|df['title'].str.lower().str.match(r'.*таунхаус.*')\n",
    "# # df['description'].str.lower().str.match(r'.*две семьи.*')\n",
    "# # df['description'].str.lower().str.match(r'.*дуплекс.*')\n",
    "# ][['title','description']]"
   ]
  },
  {
   "cell_type": "code",
   "execution_count": 17,
   "id": "7c1cde05",
   "metadata": {},
   "outputs": [],
   "source": [
    "# 'is_townhouse'"
   ]
  },
  {
   "cell_type": "code",
   "execution_count": 18,
   "id": "e332a77f",
   "metadata": {},
   "outputs": [],
   "source": [
    "# df[\n",
    "#    #df['description'].str.match(r'.*доля.*')\n",
    "#    df['description'].str.match(r'.*\\d\\+/\\d\\+.*')\n",
    "#    #| df['description'].str.match(r'.*часть\\s*дома.*')\n",
    "# ][['adr','description']]"
   ]
  },
  {
   "cell_type": "code",
   "execution_count": 19,
   "id": "3cae1515",
   "metadata": {},
   "outputs": [],
   "source": [
    "# df[\n",
    "# df['description'].str.lower().str.match(r'.*\\d+/\\d+\\s*(часть)?\\s*(дом|дол).*')\n",
    "# |df['description'].str.lower().str.match(r'.*часть\\s*(дом|дол).*')\n",
    "# |df['description'].str.lower().str.match(r'.*продам\\s*(дол|часть).*')\n",
    "# ]"
   ]
  },
  {
   "cell_type": "code",
   "execution_count": 20,
   "id": "3ee1c219",
   "metadata": {},
   "outputs": [],
   "source": [
    "# 1/2 часть дома \n",
    "# 1/2 дома \n",
    "# 1/2 домовладения\n",
    "\n",
    "# доля\n",
    "# 1/2 доли \n",
    "# Продам 2/3\n",
    "# Продам долю\n",
    "# долю в частном доме \n",
    "# Продаю 1/2 \n",
    "# Продам свою долю \n",
    "\n",
    "# часть дома\n",
    "# часть домовладения\n",
    "# долю\n",
    "# доли"
   ]
  },
  {
   "cell_type": "code",
   "execution_count": 21,
   "id": "3928ce01",
   "metadata": {},
   "outputs": [],
   "source": [
    "# df.iloc[425] # СТ Конус, Фиолентовское ш., 77/77\n",
    "# 544 по ул. Крепостное шоссе 27/20а \n",
    "# 807 три спальни по 15/15/29\n",
    "# 1373 по адресу Фиолентовское шоссе 87/133 В\n",
    "# 1446 ес: шоссе Фиолентовское д. 150/39. \\\n",
    "# 1625\n",
    "# 1634"
   ]
  },
  {
   "cell_type": "code",
   "execution_count": 22,
   "id": "8e236d9c",
   "metadata": {},
   "outputs": [],
   "source": [
    "# AvitoDataCleanerRealtyHouse().transform(df)"
   ]
  },
  {
   "cell_type": "code",
   "execution_count": null,
   "id": "76add755",
   "metadata": {},
   "outputs": [],
   "source": []
  },
  {
   "cell_type": "code",
   "execution_count": 23,
   "id": "8fa1ec16",
   "metadata": {},
   "outputs": [],
   "source": [
    "# import re\n",
    "# s = 'Севастополь, Балаклавский муниципальный округ, садовое товарищество Успех, 21'\n",
    "# s = 'садовое товарищество Тополёк, 10'\n",
    "# s= 'СТ Яблоня, 2-я ул. Сарандинаки'\n",
    "# # re.match('.*садов.*',s)\n",
    "# re.match('.*СТ.*',s)"
   ]
  },
  {
   "cell_type": "code",
   "execution_count": null,
   "id": "12e7f741",
   "metadata": {},
   "outputs": [],
   "source": []
  }
 ],
 "metadata": {
  "kernelspec": {
   "display_name": "Python 3 (ipykernel)",
   "language": "python",
   "name": "python3"
  },
  "language_info": {
   "codemirror_mode": {
    "name": "ipython",
    "version": 3
   },
   "file_extension": ".py",
   "mimetype": "text/x-python",
   "name": "python",
   "nbconvert_exporter": "python",
   "pygments_lexer": "ipython3",
   "version": "3.10.6"
  },
  "toc": {
   "base_numbering": 1,
   "nav_menu": {},
   "number_sections": true,
   "sideBar": true,
   "skip_h1_title": false,
   "title_cell": "Table of Contents",
   "title_sidebar": "Contents",
   "toc_cell": false,
   "toc_position": {},
   "toc_section_display": true,
   "toc_window_display": false
  },
  "varInspector": {
   "cols": {
    "lenName": 16,
    "lenType": 16,
    "lenVar": 40
   },
   "kernels_config": {
    "python": {
     "delete_cmd_postfix": "",
     "delete_cmd_prefix": "del ",
     "library": "var_list.py",
     "varRefreshCmd": "print(var_dic_list())"
    },
    "r": {
     "delete_cmd_postfix": ") ",
     "delete_cmd_prefix": "rm(",
     "library": "var_list.r",
     "varRefreshCmd": "cat(var_dic_list()) "
    }
   },
   "types_to_exclude": [
    "module",
    "function",
    "builtin_function_or_method",
    "instance",
    "_Feature"
   ],
   "window_display": false
  }
 },
 "nbformat": 4,
 "nbformat_minor": 5
}
