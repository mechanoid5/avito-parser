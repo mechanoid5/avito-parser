{
 "cells": [
  {
   "cell_type": "markdown",
   "id": "7bec28d7",
   "metadata": {},
   "source": [
    "__качаем объявления о продаже домов с авито.ru__\n",
    "\n",
    "_Evgeny S. Borisov <parser@mechanoid.su>_"
   ]
  },
  {
   "cell_type": "code",
   "execution_count": 1,
   "id": "52c5999f",
   "metadata": {},
   "outputs": [],
   "source": [
    "# !pacman -S firefox firefox-i18n-r  geckodriver\n",
    "# !pip install seleniuam"
   ]
  },
  {
   "cell_type": "code",
   "execution_count": 2,
   "id": "bcea4d8b",
   "metadata": {
    "ExecuteTime": {
     "end_time": "2022-08-26T14:19:06.118492Z",
     "start_time": "2022-08-26T14:13:37.888398Z"
    }
   },
   "outputs": [],
   "source": [
    "# import re\n",
    "import sys\n",
    "import logging\n",
    "from datetime import datetime as dtm\n",
    "from tqdm.notebook import tqdm\n",
    "import pandas as pd"
   ]
  },
  {
   "cell_type": "code",
   "execution_count": 3,
   "id": "caabc8c7",
   "metadata": {
    "ExecuteTime": {
     "end_time": "2022-08-26T14:19:06.118492Z",
     "start_time": "2022-08-26T14:13:37.888398Z"
    }
   },
   "outputs": [],
   "source": [
    "pd.set_option('display.max_colwidth', None)\n",
    "pd.set_option('display.float_format', '{:.2f}'.format)\n",
    "tqdm.pandas()\n",
    "\n",
    "logging.basicConfig(\n",
    "        format=u'[%(levelname)-8s] %(asctime)s | %(message)s',\n",
    "        datefmt='%Y-%m-%d %H:%M:%S',\n",
    "        level=logging.INFO,\n",
    "        # level=logging.DEBUG,\n",
    "        stream=sys.stdout,\n",
    "    )"
   ]
  },
  {
   "cell_type": "markdown",
   "id": "db3fe2be",
   "metadata": {},
   "source": [
    "---"
   ]
  },
  {
   "cell_type": "code",
   "execution_count": 4,
   "id": "288569b0",
   "metadata": {},
   "outputs": [],
   "source": [
    "# url = (\n",
    "# 'https://www.avito.ru/yaroslavskaya_oblast/avtomobili/chevrolet/niva'\n",
    "# '?bt=0'\n",
    "# '&i=1'\n",
    "# '&pmax=150000'\n",
    "# '&pmin=10000'\n",
    "# )"
   ]
  },
  {
   "cell_type": "code",
   "execution_count": 5,
   "id": "d437eab9",
   "metadata": {},
   "outputs": [],
   "source": [
    "profile_path = '/home/mechanoid/.mozilla/firefox/p144xo2m.default-release'\n",
    "\n",
    "base_url = 'https://www.avito.ru/'\n",
    "# avito_path = 'sevastopol/kvartiry/prodam'\n",
    "\n",
    "# place = 'sevastopol'\n",
    "# place = 'bahchisaray'\n",
    "place = 'sudak'\n",
    "\n",
    "avito_path = place+'/doma_dachi_kottedzhi/prodam'\n",
    "\n",
    "raw_data_path = 'data/raw/house/avito' # каталог с файлами объявлений"
   ]
  },
  {
   "cell_type": "code",
   "execution_count": 6,
   "id": "9ce138fe",
   "metadata": {},
   "outputs": [
    {
     "name": "stdout",
     "output_type": "stream",
     "text": [
      "[INFO    ] 2022-09-26 11:22:38 | DownloaderSeleniumFirefox: downloader init\n",
      "[INFO    ] 2022-09-26 11:22:38 | DownloaderSeleniumFirefox: open virtual browser\n",
      "[INFO    ] 2022-09-26 11:22:40 | AdsListParser: downloader init\n",
      "[INFO    ] 2022-09-26 11:22:40 | AvitoParser: init\n",
      "[INFO    ] 2022-09-26 11:22:47 | AvitoParser: 3 pages for read\n",
      "[INFO    ] 2022-09-26 11:22:47 | AdsListParser: start read and parse pages...\n",
      "[INFO    ] 2022-09-26 11:22:54 | AdsListParser: read page 1\n",
      "[INFO    ] 2022-09-26 11:22:58 | AdsListParser: read page 2\n",
      "[INFO    ] 2022-09-26 11:23:01 | AdsListParser: read page 3\n",
      "[INFO    ] 2022-09-26 11:23:01 | AdsListParser: last page detected\n",
      "[INFO    ] 2022-09-26 11:23:01 | DownloaderSeleniumFirefox: close virtual browser\n",
      "122\n",
      "CPU times: user 1.37 s, sys: 174 ms, total: 1.55 s\n",
      "Wall time: 23.7 s\n"
     ]
    }
   ],
   "source": [
    "%%time \n",
    "\n",
    "from lib.downloader import DownloaderSeleniumFirefox\n",
    "from lib.avito import AvitoParserRealty\n",
    "\n",
    "df,html = AvitoParserRealty(\n",
    "        base_url=base_url+'/'+avito_path,\n",
    "        driver=DownloaderSeleniumFirefox(profile_path)\n",
    "    ).load(req_param='',keep_html=True)\n",
    "\n",
    "print(len(df))"
   ]
  },
  {
   "cell_type": "code",
   "execution_count": 7,
   "id": "f8bd78d3",
   "metadata": {},
   "outputs": [
    {
     "name": "stdout",
     "output_type": "stream",
     "text": [
      "122\n",
      "122\n"
     ]
    }
   ],
   "source": [
    "print(len(df))\n",
    "df = df.dropna().drop_duplicates(['avito_id','description']).reset_index(drop=True)\n",
    "print(len(df))"
   ]
  },
  {
   "cell_type": "code",
   "execution_count": 8,
   "id": "771cb44e",
   "metadata": {},
   "outputs": [
    {
     "data": {
      "text/html": [
       "<div>\n",
       "<style scoped>\n",
       "    .dataframe tbody tr th:only-of-type {\n",
       "        vertical-align: middle;\n",
       "    }\n",
       "\n",
       "    .dataframe tbody tr th {\n",
       "        vertical-align: top;\n",
       "    }\n",
       "\n",
       "    .dataframe thead th {\n",
       "        text-align: right;\n",
       "    }\n",
       "</style>\n",
       "<table border=\"1\" class=\"dataframe\">\n",
       "  <thead>\n",
       "    <tr style=\"text-align: right;\">\n",
       "      <th></th>\n",
       "      <th>avito_id</th>\n",
       "      <th>title</th>\n",
       "      <th>price</th>\n",
       "      <th>obj_name</th>\n",
       "      <th>adr</th>\n",
       "      <th>description</th>\n",
       "      <th>page</th>\n",
       "      <th>ts</th>\n",
       "    </tr>\n",
       "  </thead>\n",
       "  <tbody>\n",
       "    <tr>\n",
       "      <th>49</th>\n",
       "      <td>2318367244</td>\n",
       "      <td>Объявление «Дом 60,5 м² на участке 6 сот.» 40 фотографий</td>\n",
       "      <td>4200000</td>\n",
       "      <td></td>\n",
       "      <td>с. Миндальное, СНТ Солнечная Долина, Арбатская ул., 17</td>\n",
       "      <td>Бархатный Сезон- Море +24… Предлагаю вам стать владельцем(Не Агентство- не могу поменять) современного Домика в Крыму (по стоимости 1к. Кв) в пригороде прекрасного курортного г. Судак, в с. Миндальное. Домик Новый (въехали в июне 2021г.) 60,5 кв. М.-по док</td>\n",
       "      <td>1</td>\n",
       "      <td>2022-09-26 11:23:01.176417</td>\n",
       "    </tr>\n",
       "    <tr>\n",
       "      <th>114</th>\n",
       "      <td>2405525781</td>\n",
       "      <td>Объявление «Дом 223 м² на участке 6 сот.» 6 фотографий</td>\n",
       "      <td>23000000</td>\n",
       "      <td></td>\n",
       "      <td>ул. Мамеди, 28</td>\n",
       "      <td>Продаётся дом, на 6 сотках в солнечном городе Судак с уникальным климатом. Дом построен в тихом месте в 250 м от городской транспортной остановки, в 2 км до моря. Удобная транспортная развязка с выездом в Симферополь, мыс Меганом, Алушта. Дом капитального</td>\n",
       "      <td>3</td>\n",
       "      <td>2022-09-26 11:23:01.176417</td>\n",
       "    </tr>\n",
       "  </tbody>\n",
       "</table>\n",
       "</div>"
      ],
      "text/plain": [
       "       avito_id                                                     title  \\\n",
       "49   2318367244  Объявление «Дом 60,5 м² на участке 6 сот.» 40 фотографий   \n",
       "114  2405525781    Объявление «Дом 223 м² на участке 6 сот.» 6 фотографий   \n",
       "\n",
       "        price obj_name  \\\n",
       "49    4200000            \n",
       "114  23000000            \n",
       "\n",
       "                                                        adr  \\\n",
       "49   с. Миндальное, СНТ Солнечная Долина, Арбатская ул., 17   \n",
       "114                                          ул. Мамеди, 28   \n",
       "\n",
       "                                                                                                                                                                                                                                                          description  \\\n",
       "49   Бархатный Сезон- Море +24… Предлагаю вам стать владельцем(Не Агентство- не могу поменять) современного Домика в Крыму (по стоимости 1к. Кв) в пригороде прекрасного курортного г. Судак, в с. Миндальное. Домик Новый (въехали в июне 2021г.) 60,5 кв. М.-по док   \n",
       "114  Продаётся дом, на 6 сотках в солнечном городе Судак с уникальным климатом. Дом построен в тихом месте в 250 м от городской транспортной остановки, в 2 км до моря. Удобная транспортная развязка с выездом в Симферополь, мыс Меганом, Алушта. Дом капитального    \n",
       "\n",
       "     page                         ts  \n",
       "49      1 2022-09-26 11:23:01.176417  \n",
       "114     3 2022-09-26 11:23:01.176417  "
      ]
     },
     "execution_count": 8,
     "metadata": {},
     "output_type": "execute_result"
    }
   ],
   "source": [
    "df.sample(2)"
   ]
  },
  {
   "cell_type": "code",
   "execution_count": 9,
   "id": "0a311ff9",
   "metadata": {},
   "outputs": [],
   "source": [
    "df['place'] = place"
   ]
  },
  {
   "cell_type": "code",
   "execution_count": 10,
   "id": "6fa322a2",
   "metadata": {},
   "outputs": [],
   "source": [
    "ts = dtm.now().strftime('%Y-%m-%d_%H-%M')\n",
    "assert len(df)>0\n",
    "df.to_excel(f'{raw_data_path}/avito_{ts}_raw_{place}.xlsx',index=False)"
   ]
  }
 ],
 "metadata": {
  "kernelspec": {
   "display_name": "Python 3 (ipykernel)",
   "language": "python",
   "name": "python3"
  },
  "language_info": {
   "codemirror_mode": {
    "name": "ipython",
    "version": 3
   },
   "file_extension": ".py",
   "mimetype": "text/x-python",
   "name": "python",
   "nbconvert_exporter": "python",
   "pygments_lexer": "ipython3",
   "version": "3.10.6"
  },
  "toc": {
   "base_numbering": 1,
   "nav_menu": {},
   "number_sections": true,
   "sideBar": true,
   "skip_h1_title": false,
   "title_cell": "Table of Contents",
   "title_sidebar": "Contents",
   "toc_cell": false,
   "toc_position": {},
   "toc_section_display": true,
   "toc_window_display": false
  },
  "varInspector": {
   "cols": {
    "lenName": 16,
    "lenType": 16,
    "lenVar": 40
   },
   "kernels_config": {
    "python": {
     "delete_cmd_postfix": "",
     "delete_cmd_prefix": "del ",
     "library": "var_list.py",
     "varRefreshCmd": "print(var_dic_list())"
    },
    "r": {
     "delete_cmd_postfix": ") ",
     "delete_cmd_prefix": "rm(",
     "library": "var_list.r",
     "varRefreshCmd": "cat(var_dic_list()) "
    }
   },
   "types_to_exclude": [
    "module",
    "function",
    "builtin_function_or_method",
    "instance",
    "_Feature"
   ],
   "window_display": false
  }
 },
 "nbformat": 4,
 "nbformat_minor": 5
}
