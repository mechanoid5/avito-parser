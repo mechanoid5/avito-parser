{
 "cells": [
  {
   "cell_type": "markdown",
   "id": "7bec28d7",
   "metadata": {},
   "source": [
    "__качаем объявления о продаже домов с авито.ru__\n",
    "\n",
    "_Evgeny S. Borisov <parser@mechanoid.su>_"
   ]
  },
  {
   "cell_type": "code",
   "execution_count": 1,
   "id": "52c5999f",
   "metadata": {},
   "outputs": [],
   "source": [
    "# !pacman -S firefox firefox-i18n-r  geckodriver\n",
    "# !pip install seleniuam"
   ]
  },
  {
   "cell_type": "code",
   "execution_count": 2,
   "id": "bcea4d8b",
   "metadata": {
    "ExecuteTime": {
     "end_time": "2022-08-26T14:19:06.118492Z",
     "start_time": "2022-08-26T14:13:37.888398Z"
    }
   },
   "outputs": [],
   "source": [
    "# import re\n",
    "import sys\n",
    "import logging\n",
    "from datetime import datetime as dtm\n",
    "from tqdm.notebook import tqdm\n",
    "import pandas as pd"
   ]
  },
  {
   "cell_type": "code",
   "execution_count": 3,
   "id": "caabc8c7",
   "metadata": {
    "ExecuteTime": {
     "end_time": "2022-08-26T14:19:06.118492Z",
     "start_time": "2022-08-26T14:13:37.888398Z"
    }
   },
   "outputs": [],
   "source": [
    "pd.set_option('display.max_colwidth', None)\n",
    "pd.set_option('display.float_format', '{:.2f}'.format)\n",
    "tqdm.pandas()\n",
    "\n",
    "logging.basicConfig(\n",
    "        format=u'[%(levelname)-8s] %(asctime)s | %(message)s',\n",
    "        datefmt='%Y-%m-%d %H:%M:%S',\n",
    "        level=logging.INFO,\n",
    "        # level=logging.DEBUG,\n",
    "        stream=sys.stdout,\n",
    "    )"
   ]
  },
  {
   "cell_type": "markdown",
   "id": "db3fe2be",
   "metadata": {},
   "source": [
    "---"
   ]
  },
  {
   "cell_type": "code",
   "execution_count": 4,
   "id": "288569b0",
   "metadata": {},
   "outputs": [],
   "source": [
    "# url = (\n",
    "# 'https://www.avito.ru/yaroslavskaya_oblast/avtomobili/chevrolet/niva'\n",
    "# '?bt=0'\n",
    "# '&i=1'\n",
    "# '&pmax=150000'\n",
    "# '&pmin=10000'\n",
    "# )"
   ]
  },
  {
   "cell_type": "code",
   "execution_count": 5,
   "id": "e1d4e472",
   "metadata": {},
   "outputs": [],
   "source": [
    "profile_path = '/home/mechanoid/.mozilla/firefox/p144xo2m.default-release'\n",
    "\n",
    "base_url = 'https://www.avito.ru/'\n",
    "# avito_path = 'sevastopol/kvartiry/prodam'\n",
    "\n",
    "raw_data_path = 'data/raw/house/avito' # каталог с файлами объявлений"
   ]
  },
  {
   "cell_type": "code",
   "execution_count": 6,
   "id": "202a7010",
   "metadata": {},
   "outputs": [],
   "source": [
    "from lib.downloader import DownloaderSeleniumFirefox\n",
    "from lib.avito import AvitoParserRealty"
   ]
  },
  {
   "cell_type": "markdown",
   "id": "02f746ef",
   "metadata": {},
   "source": [
    "---"
   ]
  },
  {
   "cell_type": "code",
   "execution_count": 7,
   "id": "d437eab9",
   "metadata": {},
   "outputs": [],
   "source": [
    "place = 'sevastopol'\n",
    "# place = 'bahchisaray'\n",
    "# place = 'sudak'\n",
    "avito_path = place+'/doma_dachi_kottedzhi/prodam'"
   ]
  },
  {
   "cell_type": "code",
   "execution_count": 8,
   "id": "f5b7b6d6",
   "metadata": {},
   "outputs": [
    {
     "data": {
      "text/plain": [
       "'https://www.avito.ru//sevastopol/doma_dachi_kottedzhi/prodam'"
      ]
     },
     "execution_count": 8,
     "metadata": {},
     "output_type": "execute_result"
    }
   ],
   "source": [
    "base_url+'/'+avito_path"
   ]
  },
  {
   "cell_type": "code",
   "execution_count": 9,
   "id": "9ce138fe",
   "metadata": {},
   "outputs": [
    {
     "name": "stdout",
     "output_type": "stream",
     "text": [
      "[INFO    ] 2023-03-29 16:47:59 | DownloaderSeleniumFirefox: downloader init\n",
      "[INFO    ] 2023-03-29 16:47:59 | DownloaderSeleniumFirefox: open virtual browser\n",
      "[INFO    ] 2023-03-29 16:48:02 | AdsListParser: downloader init\n",
      "[INFO    ] 2023-03-29 16:48:02 | AvitoParser: init\n",
      "[INFO    ] 2023-03-29 16:48:06 | AvitoParser: 45 pages for read\n",
      "[INFO    ] 2023-03-29 16:48:06 | AdsListParser: start read and parse pages...\n",
      "[INFO    ] 2023-03-29 16:48:08 | AdsListParser: read page 1\n",
      "[INFO    ] 2023-03-29 16:48:11 | AdsListParser: read page 2\n",
      "[INFO    ] 2023-03-29 16:48:13 | AdsListParser: read page 3\n",
      "[INFO    ] 2023-03-29 16:48:15 | AdsListParser: read page 4\n",
      "[INFO    ] 2023-03-29 16:48:18 | AdsListParser: read page 5\n",
      "[INFO    ] 2023-03-29 16:48:21 | AdsListParser: read page 6\n",
      "[INFO    ] 2023-03-29 16:48:23 | AdsListParser: read page 7\n",
      "[INFO    ] 2023-03-29 16:48:25 | AdsListParser: read page 8\n",
      "[INFO    ] 2023-03-29 16:48:27 | AdsListParser: read page 9\n",
      "[INFO    ] 2023-03-29 16:48:29 | AdsListParser: read page 10\n",
      "[INFO    ] 2023-03-29 16:48:31 | AdsListParser: read page 11\n",
      "[INFO    ] 2023-03-29 16:48:38 | AdsListParser: read page 12\n",
      "[INFO    ] 2023-03-29 16:48:40 | AdsListParser: read page 13\n",
      "[INFO    ] 2023-03-29 16:48:44 | AdsListParser: read page 14\n",
      "[INFO    ] 2023-03-29 16:48:47 | AdsListParser: read page 15\n",
      "[INFO    ] 2023-03-29 16:48:50 | AdsListParser: read page 16\n",
      "[INFO    ] 2023-03-29 16:48:52 | AdsListParser: read page 17\n",
      "[INFO    ] 2023-03-29 16:48:55 | AdsListParser: read page 18\n",
      "[INFO    ] 2023-03-29 16:48:57 | AdsListParser: read page 19\n",
      "[INFO    ] 2023-03-29 16:49:00 | AdsListParser: read page 20\n",
      "[INFO    ] 2023-03-29 16:49:03 | AdsListParser: read page 21\n",
      "[INFO    ] 2023-03-29 16:49:05 | AdsListParser: read page 22\n",
      "[INFO    ] 2023-03-29 16:49:08 | AdsListParser: read page 23\n",
      "[INFO    ] 2023-03-29 16:49:10 | AdsListParser: read page 24\n",
      "[INFO    ] 2023-03-29 16:49:17 | AdsListParser: read page 25\n",
      "[INFO    ] 2023-03-29 16:49:20 | AdsListParser: read page 26\n",
      "[INFO    ] 2023-03-29 16:49:22 | AdsListParser: read page 27\n",
      "[INFO    ] 2023-03-29 16:49:24 | AdsListParser: read page 28\n",
      "[INFO    ] 2023-03-29 16:49:26 | AdsListParser: read page 29\n",
      "[INFO    ] 2023-03-29 16:49:33 | AdsListParser: read page 30\n",
      "[INFO    ] 2023-03-29 16:49:35 | AdsListParser: read page 31\n",
      "[INFO    ] 2023-03-29 16:49:43 | AdsListParser: read page 32\n",
      "[INFO    ] 2023-03-29 16:49:46 | AdsListParser: read page 33\n",
      "[INFO    ] 2023-03-29 16:49:49 | AdsListParser: read page 34\n",
      "[INFO    ] 2023-03-29 16:49:51 | AdsListParser: read page 35\n",
      "[INFO    ] 2023-03-29 16:49:58 | AdsListParser: read page 36\n",
      "[INFO    ] 2023-03-29 16:50:00 | AdsListParser: read page 37\n",
      "[INFO    ] 2023-03-29 16:50:02 | AdsListParser: read page 38\n",
      "[INFO    ] 2023-03-29 16:50:05 | AdsListParser: read page 39\n",
      "[INFO    ] 2023-03-29 16:50:07 | AdsListParser: read page 40\n",
      "[INFO    ] 2023-03-29 16:50:10 | AdsListParser: read page 41\n",
      "[INFO    ] 2023-03-29 16:50:16 | AdsListParser: read page 42\n",
      "[INFO    ] 2023-03-29 16:50:18 | AdsListParser: read page 43\n",
      "[INFO    ] 2023-03-29 16:50:21 | AdsListParser: read page 44\n",
      "[INFO    ] 2023-03-29 16:50:22 | AdsListParser: read page 45\n",
      "[INFO    ] 2023-03-29 16:50:22 | AdsListParser: last page detected\n",
      "[INFO    ] 2023-03-29 16:50:23 | DownloaderSeleniumFirefox: close virtual browser\n",
      "2229\n",
      "CPU times: user 9.52 s, sys: 139 ms, total: 9.66 s\n",
      "Wall time: 2min 23s\n"
     ]
    }
   ],
   "source": [
    "%%time \n",
    "\n",
    "df,html = AvitoParserRealty(\n",
    "        base_url=base_url+'/'+avito_path,\n",
    "        driver=DownloaderSeleniumFirefox(profile_path)\n",
    "    ).load(req_param='',keep_html=True)\n",
    "\n",
    "print(len(df))"
   ]
  },
  {
   "cell_type": "code",
   "execution_count": 10,
   "id": "f8bd78d3",
   "metadata": {},
   "outputs": [
    {
     "name": "stdout",
     "output_type": "stream",
     "text": [
      "2229\n",
      "2181\n"
     ]
    }
   ],
   "source": [
    "print(len(df))\n",
    "df = df.dropna().drop_duplicates(['avito_id','description']).reset_index(drop=True)\n",
    "print(len(df))"
   ]
  },
  {
   "cell_type": "code",
   "execution_count": 11,
   "id": "771cb44e",
   "metadata": {},
   "outputs": [
    {
     "data": {
      "text/html": [
       "<div>\n",
       "<style scoped>\n",
       "    .dataframe tbody tr th:only-of-type {\n",
       "        vertical-align: middle;\n",
       "    }\n",
       "\n",
       "    .dataframe tbody tr th {\n",
       "        vertical-align: top;\n",
       "    }\n",
       "\n",
       "    .dataframe thead th {\n",
       "        text-align: right;\n",
       "    }\n",
       "</style>\n",
       "<table border=\"1\" class=\"dataframe\">\n",
       "  <thead>\n",
       "    <tr style=\"text-align: right;\">\n",
       "      <th></th>\n",
       "      <th>avito_id</th>\n",
       "      <th>title</th>\n",
       "      <th>price</th>\n",
       "      <th>obj_name</th>\n",
       "      <th>adr</th>\n",
       "      <th>description</th>\n",
       "      <th>page</th>\n",
       "      <th>ts</th>\n",
       "    </tr>\n",
       "  </thead>\n",
       "  <tbody>\n",
       "    <tr>\n",
       "      <th>106</th>\n",
       "      <td>2601795894</td>\n",
       "      <td>Объявление «Дом 310 м² на участке 4 сот.» 25 фотографий</td>\n",
       "      <td>29999999</td>\n",
       "      <td></td>\n",
       "      <td>Севастополь, Предместная улица</td>\n",
       "      <td>Цена до мая! После будет гораздо дороже! \\n\\nВыгодное транспортное расположение, до Ялтинского кольца и трассы Таврида 5 минут, до центра города 15 минут. \\n\\nДомовладение общей площадью 310 кв. М., расположено на участке 4 сотки (Ижс). С асфальтированным подъ</td>\n",
       "      <td>3</td>\n",
       "      <td>2023-03-29 16:50:22.853110</td>\n",
       "    </tr>\n",
       "    <tr>\n",
       "      <th>1617</th>\n",
       "      <td>2580445017</td>\n",
       "      <td>Объявление «Дача 51 м² на участке 2,5 сот.» 21 фотография</td>\n",
       "      <td>2999000</td>\n",
       "      <td></td>\n",
       "      <td>СНТ Сапун-гора, ул. Тамары Смоленской</td>\n",
       "      <td>Продам жилой дом на участке 2,5 сотки. Вода скважина и кооперативная по расписанию. \\nГазовая труба проходит по забору участка. Отопление электрическое, туалет во дворе. Электрика вся новая. \\nСделан косметический ремонт, осталось сделать санузел. Участок ро</td>\n",
       "      <td>34</td>\n",
       "      <td>2023-03-29 16:50:22.853110</td>\n",
       "    </tr>\n",
       "  </tbody>\n",
       "</table>\n",
       "</div>"
      ],
      "text/plain": [
       "        avito_id                                                      title  \\\n",
       "106   2601795894    Объявление «Дом 310 м² на участке 4 сот.» 25 фотографий   \n",
       "1617  2580445017  Объявление «Дача 51 м² на участке 2,5 сот.» 21 фотография   \n",
       "\n",
       "         price obj_name                                    adr  \\\n",
       "106   29999999                  Севастополь, Предместная улица   \n",
       "1617   2999000           СНТ Сапун-гора, ул. Тамары Смоленской   \n",
       "\n",
       "                                                                                                                                                                                                                                                               description  \\\n",
       "106   Цена до мая! После будет гораздо дороже! \\n\\nВыгодное транспортное расположение, до Ялтинского кольца и трассы Таврида 5 минут, до центра города 15 минут. \\n\\nДомовладение общей площадью 310 кв. М., расположено на участке 4 сотки (Ижс). С асфальтированным подъ   \n",
       "1617    Продам жилой дом на участке 2,5 сотки. Вода скважина и кооперативная по расписанию. \\nГазовая труба проходит по забору участка. Отопление электрическое, туалет во дворе. Электрика вся новая. \\nСделан косметический ремонт, осталось сделать санузел. Участок ро   \n",
       "\n",
       "      page                         ts  \n",
       "106      3 2023-03-29 16:50:22.853110  \n",
       "1617    34 2023-03-29 16:50:22.853110  "
      ]
     },
     "execution_count": 11,
     "metadata": {},
     "output_type": "execute_result"
    }
   ],
   "source": [
    "df.sample(2)"
   ]
  },
  {
   "cell_type": "code",
   "execution_count": 12,
   "id": "0a311ff9",
   "metadata": {},
   "outputs": [],
   "source": [
    "df['place'] = place"
   ]
  },
  {
   "cell_type": "code",
   "execution_count": 13,
   "id": "6fa322a2",
   "metadata": {},
   "outputs": [],
   "source": [
    "ts = dtm.now().strftime('%Y-%m-%d_%H-%M')\n",
    "assert len(df)>0\n",
    "df.to_excel(f'{raw_data_path}/avito_{ts}_raw_{place}.xlsx',index=False)"
   ]
  },
  {
   "cell_type": "markdown",
   "id": "bdb9e4bd",
   "metadata": {},
   "source": [
    "---"
   ]
  },
  {
   "cell_type": "code",
   "execution_count": 14,
   "id": "7a3aff9f",
   "metadata": {},
   "outputs": [],
   "source": [
    "# place = 'sevastopol'\n",
    "place = 'bahchisaray'\n",
    "# place = 'sudak'\n",
    "avito_path = place+'/doma_dachi_kottedzhi/prodam'"
   ]
  },
  {
   "cell_type": "code",
   "execution_count": 15,
   "id": "0828e414",
   "metadata": {},
   "outputs": [
    {
     "name": "stdout",
     "output_type": "stream",
     "text": [
      "[INFO    ] 2023-03-29 16:50:24 | DownloaderSeleniumFirefox: downloader init\n",
      "[INFO    ] 2023-03-29 16:50:24 | DownloaderSeleniumFirefox: open virtual browser\n",
      "[INFO    ] 2023-03-29 16:50:26 | AdsListParser: downloader init\n",
      "[INFO    ] 2023-03-29 16:50:26 | AvitoParser: init\n",
      "[INFO    ] 2023-03-29 16:50:29 | AvitoParser: 5 pages for read\n",
      "[INFO    ] 2023-03-29 16:50:29 | AdsListParser: start read and parse pages...\n",
      "[INFO    ] 2023-03-29 16:50:31 | AdsListParser: read page 1\n",
      "[INFO    ] 2023-03-29 16:50:33 | AdsListParser: read page 2\n",
      "[INFO    ] 2023-03-29 16:50:34 | AdsListParser: read page 3\n",
      "[INFO    ] 2023-03-29 16:50:36 | AdsListParser: read page 4\n",
      "[INFO    ] 2023-03-29 16:50:38 | AdsListParser: read page 5\n",
      "[INFO    ] 2023-03-29 16:50:38 | AdsListParser: last page detected\n",
      "[INFO    ] 2023-03-29 16:50:38 | DownloaderSeleniumFirefox: close virtual browser\n",
      "248\n"
     ]
    },
    {
     "data": {
      "text/html": [
       "<div>\n",
       "<style scoped>\n",
       "    .dataframe tbody tr th:only-of-type {\n",
       "        vertical-align: middle;\n",
       "    }\n",
       "\n",
       "    .dataframe tbody tr th {\n",
       "        vertical-align: top;\n",
       "    }\n",
       "\n",
       "    .dataframe thead th {\n",
       "        text-align: right;\n",
       "    }\n",
       "</style>\n",
       "<table border=\"1\" class=\"dataframe\">\n",
       "  <thead>\n",
       "    <tr style=\"text-align: right;\">\n",
       "      <th></th>\n",
       "      <th>avito_id</th>\n",
       "      <th>title</th>\n",
       "      <th>price</th>\n",
       "      <th>obj_name</th>\n",
       "      <th>adr</th>\n",
       "      <th>description</th>\n",
       "      <th>page</th>\n",
       "      <th>ts</th>\n",
       "    </tr>\n",
       "  </thead>\n",
       "  <tbody>\n",
       "    <tr>\n",
       "      <th>224</th>\n",
       "      <td>2787514649</td>\n",
       "      <td>Объявление «Дом 286 м² на участке 11 сот.» 40 фотографий</td>\n",
       "      <td>14900000</td>\n",
       "      <td></td>\n",
       "      <td>пос. городского типа Куйбышево, ул. 40 лет Победы</td>\n",
       "      <td>Внимание! Цена снижена! В живописной Бельбекской долине, посёлке городского типа Куйбышево Бахчисарайского района продаётся объект достойный внимания тех, кто имеет желание жить в комфорте и красоте. Два особняка 2017 года постройки. С ремонтом европейског</td>\n",
       "      <td>5</td>\n",
       "      <td>2023-03-29 16:50:38.486791</td>\n",
       "    </tr>\n",
       "    <tr>\n",
       "      <th>54</th>\n",
       "      <td>2846804776</td>\n",
       "      <td>Объявление «Дом 139,2 м² на участке 1,6 сот.» 18 фотографий</td>\n",
       "      <td>2599900</td>\n",
       "      <td></td>\n",
       "      <td>ул. Затрубченко, 59</td>\n",
       "      <td>Продам полдома без посредников! Дом очень тёплый и сухой! 5 лет в нём никто не проживает, а он без сырости! Нужно навести косметический ремонт. Газ проходит рядом по улице. Вода есть! Есть печное отопление. Есть сарай, подвал и времянка отдельно от дома. А</td>\n",
       "      <td>2</td>\n",
       "      <td>2023-03-29 16:50:38.486791</td>\n",
       "    </tr>\n",
       "  </tbody>\n",
       "</table>\n",
       "</div>"
      ],
      "text/plain": [
       "       avito_id                                                        title  \\\n",
       "224  2787514649     Объявление «Дом 286 м² на участке 11 сот.» 40 фотографий   \n",
       "54   2846804776  Объявление «Дом 139,2 м² на участке 1,6 сот.» 18 фотографий   \n",
       "\n",
       "        price obj_name                                                adr  \\\n",
       "224  14900000           пос. городского типа Куйбышево, ул. 40 лет Победы   \n",
       "54    2599900                                         ул. Затрубченко, 59   \n",
       "\n",
       "                                                                                                                                                                                                                                                          description  \\\n",
       "224  Внимание! Цена снижена! В живописной Бельбекской долине, посёлке городского типа Куйбышево Бахчисарайского района продаётся объект достойный внимания тех, кто имеет желание жить в комфорте и красоте. Два особняка 2017 года постройки. С ремонтом европейског   \n",
       "54   Продам полдома без посредников! Дом очень тёплый и сухой! 5 лет в нём никто не проживает, а он без сырости! Нужно навести косметический ремонт. Газ проходит рядом по улице. Вода есть! Есть печное отопление. Есть сарай, подвал и времянка отдельно от дома. А   \n",
       "\n",
       "     page                         ts  \n",
       "224     5 2023-03-29 16:50:38.486791  \n",
       "54      2 2023-03-29 16:50:38.486791  "
      ]
     },
     "execution_count": 15,
     "metadata": {},
     "output_type": "execute_result"
    }
   ],
   "source": [
    "df,html = AvitoParserRealty(\n",
    "        base_url=base_url+'/'+avito_path,\n",
    "        driver=DownloaderSeleniumFirefox(profile_path)\n",
    "    ).load(req_param='',keep_html=True)\n",
    "\n",
    "print(len(df))\n",
    "df.sample(2)"
   ]
  },
  {
   "cell_type": "code",
   "execution_count": 16,
   "id": "aa6cf989",
   "metadata": {},
   "outputs": [],
   "source": [
    "df['place'] = place\n",
    "ts = dtm.now().strftime('%Y-%m-%d_%H-%M')\n",
    "assert len(df)>0\n",
    "df.to_excel(f'{raw_data_path}/avito_{ts}_raw_{place}.xlsx',index=False)"
   ]
  },
  {
   "cell_type": "markdown",
   "id": "cb8a6e24",
   "metadata": {},
   "source": [
    "----"
   ]
  },
  {
   "cell_type": "code",
   "execution_count": 17,
   "id": "fafeda38",
   "metadata": {},
   "outputs": [],
   "source": [
    "# place = 'sevastopol'\n",
    "# place = 'bahchisaray'\n",
    "place = 'sudak'\n",
    "avito_path = place+'/doma_dachi_kottedzhi/prodam'"
   ]
  },
  {
   "cell_type": "code",
   "execution_count": 18,
   "id": "0ea62e56",
   "metadata": {},
   "outputs": [
    {
     "name": "stdout",
     "output_type": "stream",
     "text": [
      "[INFO    ] 2023-03-29 16:50:39 | DownloaderSeleniumFirefox: downloader init\n",
      "[INFO    ] 2023-03-29 16:50:39 | DownloaderSeleniumFirefox: open virtual browser\n",
      "[INFO    ] 2023-03-29 16:50:41 | AdsListParser: downloader init\n",
      "[INFO    ] 2023-03-29 16:50:41 | AvitoParser: init\n",
      "[INFO    ] 2023-03-29 16:50:45 | AvitoParser: 3 pages for read\n",
      "[INFO    ] 2023-03-29 16:50:45 | AdsListParser: start read and parse pages...\n",
      "[INFO    ] 2023-03-29 16:50:47 | AdsListParser: read page 1\n",
      "[INFO    ] 2023-03-29 16:50:49 | AdsListParser: read page 2\n",
      "[INFO    ] 2023-03-29 16:50:52 | AdsListParser: read page 3\n",
      "[INFO    ] 2023-03-29 16:50:52 | AdsListParser: last page detected\n",
      "[INFO    ] 2023-03-29 16:50:52 | DownloaderSeleniumFirefox: close virtual browser\n",
      "141\n"
     ]
    },
    {
     "data": {
      "text/html": [
       "<div>\n",
       "<style scoped>\n",
       "    .dataframe tbody tr th:only-of-type {\n",
       "        vertical-align: middle;\n",
       "    }\n",
       "\n",
       "    .dataframe tbody tr th {\n",
       "        vertical-align: top;\n",
       "    }\n",
       "\n",
       "    .dataframe thead th {\n",
       "        text-align: right;\n",
       "    }\n",
       "</style>\n",
       "<table border=\"1\" class=\"dataframe\">\n",
       "  <thead>\n",
       "    <tr style=\"text-align: right;\">\n",
       "      <th></th>\n",
       "      <th>avito_id</th>\n",
       "      <th>title</th>\n",
       "      <th>price</th>\n",
       "      <th>obj_name</th>\n",
       "      <th>adr</th>\n",
       "      <th>description</th>\n",
       "      <th>page</th>\n",
       "      <th>ts</th>\n",
       "    </tr>\n",
       "  </thead>\n",
       "  <tbody>\n",
       "    <tr>\n",
       "      <th>16</th>\n",
       "      <td>2703309015</td>\n",
       "      <td>Объявление «Дом 90 м² на участке 4 сот.» 33 фотографии</td>\n",
       "      <td>6200000</td>\n",
       "      <td></td>\n",
       "      <td>Гвардейская ул.</td>\n",
       "      <td>Дом в центре города! \\nПродаётся 1/2 часть дома. ( дом на 2 хозяина, земельный участок разделён забором, входы отдельные.).\\nЦентральная вода подаётся бесперебойно круглый год. \\nКанализация центральная. Горячая вода — эл. Бойлер на 100 л. Отопление от электр</td>\n",
       "      <td>1</td>\n",
       "      <td>2023-03-29 16:50:52.064431</td>\n",
       "    </tr>\n",
       "    <tr>\n",
       "      <th>37</th>\n",
       "      <td>2017447704</td>\n",
       "      <td>Объявление «Дом 200 м² на участке 7,3 сот.» 9 фотографий</td>\n",
       "      <td>4500000</td>\n",
       "      <td></td>\n",
       "      <td>ул. Кутузова, 14</td>\n",
       "      <td>Продаётся недостроенный дом (степень готовности 40%). Участок находится в живописном и экологически чистом районе, рядом сосновая роща. Со второго этажа открывается красивый вид на судакскую долину и окружающие горы. Все центральные коммуникации рядом с уч</td>\n",
       "      <td>1</td>\n",
       "      <td>2023-03-29 16:50:52.064431</td>\n",
       "    </tr>\n",
       "  </tbody>\n",
       "</table>\n",
       "</div>"
      ],
      "text/plain": [
       "      avito_id                                                     title  \\\n",
       "16  2703309015    Объявление «Дом 90 м² на участке 4 сот.» 33 фотографии   \n",
       "37  2017447704  Объявление «Дом 200 м² на участке 7,3 сот.» 9 фотографий   \n",
       "\n",
       "      price obj_name               adr  \\\n",
       "16  6200000            Гвардейская ул.   \n",
       "37  4500000           ул. Кутузова, 14   \n",
       "\n",
       "                                                                                                                                                                                                                                                            description  \\\n",
       "16  Дом в центре города! \\nПродаётся 1/2 часть дома. ( дом на 2 хозяина, земельный участок разделён забором, входы отдельные.).\\nЦентральная вода подаётся бесперебойно круглый год. \\nКанализация центральная. Горячая вода — эл. Бойлер на 100 л. Отопление от электр   \n",
       "37     Продаётся недостроенный дом (степень готовности 40%). Участок находится в живописном и экологически чистом районе, рядом сосновая роща. Со второго этажа открывается красивый вид на судакскую долину и окружающие горы. Все центральные коммуникации рядом с уч   \n",
       "\n",
       "    page                         ts  \n",
       "16     1 2023-03-29 16:50:52.064431  \n",
       "37     1 2023-03-29 16:50:52.064431  "
      ]
     },
     "execution_count": 18,
     "metadata": {},
     "output_type": "execute_result"
    }
   ],
   "source": [
    "df,html = AvitoParserRealty(\n",
    "        base_url=base_url+'/'+avito_path,\n",
    "        driver=DownloaderSeleniumFirefox(profile_path)\n",
    "    ).load(req_param='',keep_html=True)\n",
    "\n",
    "print(len(df))\n",
    "df.sample(2)"
   ]
  },
  {
   "cell_type": "code",
   "execution_count": 19,
   "id": "348cab00",
   "metadata": {},
   "outputs": [],
   "source": [
    "df['place'] = place\n",
    "ts = dtm.now().strftime('%Y-%m-%d_%H-%M')\n",
    "assert len(df)>0\n",
    "df.to_excel(f'{raw_data_path}/avito_{ts}_raw_{place}.xlsx',index=False)"
   ]
  }
 ],
 "metadata": {
  "kernelspec": {
   "display_name": "Python 3 (ipykernel)",
   "language": "python",
   "name": "python3"
  },
  "language_info": {
   "codemirror_mode": {
    "name": "ipython",
    "version": 3
   },
   "file_extension": ".py",
   "mimetype": "text/x-python",
   "name": "python",
   "nbconvert_exporter": "python",
   "pygments_lexer": "ipython3",
   "version": "3.10.9"
  },
  "toc": {
   "base_numbering": 1,
   "nav_menu": {},
   "number_sections": true,
   "sideBar": true,
   "skip_h1_title": false,
   "title_cell": "Table of Contents",
   "title_sidebar": "Contents",
   "toc_cell": false,
   "toc_position": {},
   "toc_section_display": true,
   "toc_window_display": false
  },
  "varInspector": {
   "cols": {
    "lenName": 16,
    "lenType": 16,
    "lenVar": 40
   },
   "kernels_config": {
    "python": {
     "delete_cmd_postfix": "",
     "delete_cmd_prefix": "del ",
     "library": "var_list.py",
     "varRefreshCmd": "print(var_dic_list())"
    },
    "r": {
     "delete_cmd_postfix": ") ",
     "delete_cmd_prefix": "rm(",
     "library": "var_list.r",
     "varRefreshCmd": "cat(var_dic_list()) "
    }
   },
   "types_to_exclude": [
    "module",
    "function",
    "builtin_function_or_method",
    "instance",
    "_Feature"
   ],
   "window_display": false
  }
 },
 "nbformat": 4,
 "nbformat_minor": 5
}
