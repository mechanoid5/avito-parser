{
 "cells": [
  {
   "cell_type": "markdown",
   "id": "7bec28d7",
   "metadata": {},
   "source": [
    "__качаем объявления о продаже домов с авито.ru__\n",
    "\n",
    "_Evgeny S. Borisov <parser@mechanoid.su>_"
   ]
  },
  {
   "cell_type": "code",
   "execution_count": 1,
   "id": "52c5999f",
   "metadata": {},
   "outputs": [],
   "source": [
    "# !pacman -S firefox firefox-i18n-r  geckodriver\n",
    "# !pip install seleniuam"
   ]
  },
  {
   "cell_type": "code",
   "execution_count": 2,
   "id": "bcea4d8b",
   "metadata": {
    "ExecuteTime": {
     "end_time": "2022-08-26T14:19:06.118492Z",
     "start_time": "2022-08-26T14:13:37.888398Z"
    }
   },
   "outputs": [],
   "source": [
    "# import re\n",
    "import sys\n",
    "import logging\n",
    "from datetime import datetime as dtm\n",
    "from tqdm.notebook import tqdm\n",
    "import pandas as pd"
   ]
  },
  {
   "cell_type": "code",
   "execution_count": 3,
   "id": "caabc8c7",
   "metadata": {
    "ExecuteTime": {
     "end_time": "2022-08-26T14:19:06.118492Z",
     "start_time": "2022-08-26T14:13:37.888398Z"
    }
   },
   "outputs": [],
   "source": [
    "pd.set_option('display.max_colwidth', None)\n",
    "pd.set_option('display.float_format', '{:.2f}'.format)\n",
    "tqdm.pandas()\n",
    "\n",
    "logging.basicConfig(\n",
    "        format=u'[%(levelname)-8s] %(asctime)s | %(message)s',\n",
    "        datefmt='%Y-%m-%d %H:%M:%S',\n",
    "        level=logging.INFO,\n",
    "        # level=logging.DEBUG,\n",
    "        stream=sys.stdout,\n",
    "    )"
   ]
  },
  {
   "cell_type": "markdown",
   "id": "db3fe2be",
   "metadata": {},
   "source": [
    "---"
   ]
  },
  {
   "cell_type": "code",
   "execution_count": 4,
   "id": "288569b0",
   "metadata": {},
   "outputs": [],
   "source": [
    "# url = (\n",
    "# 'https://www.avito.ru/yaroslavskaya_oblast/avtomobili/chevrolet/niva'\n",
    "# '?bt=0'\n",
    "# '&i=1'\n",
    "# '&pmax=150000'\n",
    "# '&pmin=10000'\n",
    "# )"
   ]
  },
  {
   "cell_type": "code",
   "execution_count": 5,
   "id": "e1d4e472",
   "metadata": {},
   "outputs": [],
   "source": [
    "profile_path = '/home/mechanoid/.mozilla/firefox/p144xo2m.default-release'\n",
    "\n",
    "base_url = 'https://www.avito.ru/'\n",
    "# avito_path = 'sevastopol/kvartiry/prodam'\n",
    "\n",
    "raw_data_path = 'data/raw/house/avito' # каталог с файлами объявлений"
   ]
  },
  {
   "cell_type": "code",
   "execution_count": 6,
   "id": "202a7010",
   "metadata": {},
   "outputs": [],
   "source": [
    "from lib.downloader import DownloaderSeleniumFirefox\n",
    "from lib.avito import AvitoParserRealty"
   ]
  },
  {
   "cell_type": "markdown",
   "id": "02f746ef",
   "metadata": {},
   "source": [
    "---"
   ]
  },
  {
   "cell_type": "code",
   "execution_count": 7,
   "id": "d437eab9",
   "metadata": {},
   "outputs": [],
   "source": [
    "place = 'sevastopol'\n",
    "# place = 'bahchisaray'\n",
    "# place = 'sudak'\n",
    "avito_path = place+'/doma_dachi_kottedzhi/prodam'"
   ]
  },
  {
   "cell_type": "code",
   "execution_count": 8,
   "id": "9ce138fe",
   "metadata": {},
   "outputs": [
    {
     "name": "stdout",
     "output_type": "stream",
     "text": [
      "[INFO    ] 2022-11-28 18:20:01 | DownloaderSeleniumFirefox: downloader init\n",
      "[INFO    ] 2022-11-28 18:20:01 | DownloaderSeleniumFirefox: open virtual browser\n",
      "[INFO    ] 2022-11-28 18:20:03 | AdsListParser: downloader init\n",
      "[INFO    ] 2022-11-28 18:20:03 | AvitoParser: init\n",
      "[INFO    ] 2022-11-28 18:20:07 | AvitoParser: 45 pages for read\n",
      "[INFO    ] 2022-11-28 18:20:07 | AdsListParser: start read and parse pages...\n",
      "[INFO    ] 2022-11-28 18:20:10 | AdsListParser: read page 1\n",
      "[INFO    ] 2022-11-28 18:20:12 | AdsListParser: read page 2\n",
      "[INFO    ] 2022-11-28 18:20:17 | AdsListParser: read page 3\n",
      "[INFO    ] 2022-11-28 18:20:20 | AdsListParser: read page 4\n",
      "[INFO    ] 2022-11-28 18:20:24 | AdsListParser: read page 5\n",
      "[INFO    ] 2022-11-28 18:20:26 | AdsListParser: read page 6\n",
      "[INFO    ] 2022-11-28 18:20:30 | AdsListParser: read page 7\n",
      "[INFO    ] 2022-11-28 18:20:33 | AdsListParser: read page 8\n",
      "[INFO    ] 2022-11-28 18:20:36 | AdsListParser: read page 9\n",
      "[INFO    ] 2022-11-28 18:20:39 | AdsListParser: read page 10\n",
      "[INFO    ] 2022-11-28 18:20:41 | AdsListParser: read page 11\n",
      "[INFO    ] 2022-11-28 18:20:48 | AdsListParser: read page 12\n",
      "[INFO    ] 2022-11-28 18:20:53 | AdsListParser: read page 13\n",
      "[INFO    ] 2022-11-28 18:20:56 | AdsListParser: read page 14\n",
      "[INFO    ] 2022-11-28 18:20:59 | AdsListParser: read page 15\n",
      "[INFO    ] 2022-11-28 18:21:02 | AdsListParser: read page 16\n",
      "[INFO    ] 2022-11-28 18:21:05 | AdsListParser: read page 17\n",
      "[INFO    ] 2022-11-28 18:21:10 | AdsListParser: read page 18\n",
      "[INFO    ] 2022-11-28 18:21:17 | AdsListParser: read page 19\n",
      "[INFO    ] 2022-11-28 18:21:20 | AdsListParser: read page 20\n",
      "[INFO    ] 2022-11-28 18:21:23 | AdsListParser: read page 21\n",
      "[INFO    ] 2022-11-28 18:21:25 | AdsListParser: read page 22\n",
      "[INFO    ] 2022-11-28 18:21:27 | AdsListParser: read page 23\n",
      "[INFO    ] 2022-11-28 18:21:30 | AdsListParser: read page 24\n",
      "[INFO    ] 2022-11-28 18:21:32 | AdsListParser: read page 25\n",
      "[INFO    ] 2022-11-28 18:21:36 | AdsListParser: read page 26\n",
      "[INFO    ] 2022-11-28 18:21:39 | AdsListParser: read page 27\n",
      "[INFO    ] 2022-11-28 18:21:42 | AdsListParser: read page 28\n",
      "[INFO    ] 2022-11-28 18:21:44 | AdsListParser: read page 29\n",
      "[INFO    ] 2022-11-28 18:21:47 | AdsListParser: read page 30\n",
      "[INFO    ] 2022-11-28 18:21:49 | AdsListParser: read page 31\n",
      "[INFO    ] 2022-11-28 18:21:52 | AdsListParser: read page 32\n",
      "[INFO    ] 2022-11-28 18:21:55 | AdsListParser: read page 33\n",
      "[INFO    ] 2022-11-28 18:21:58 | AdsListParser: read page 34\n",
      "[INFO    ] 2022-11-28 18:22:01 | AdsListParser: read page 35\n",
      "[INFO    ] 2022-11-28 18:22:03 | AdsListParser: read page 36\n",
      "[INFO    ] 2022-11-28 18:22:05 | AdsListParser: read page 37\n",
      "[INFO    ] 2022-11-28 18:22:08 | AdsListParser: read page 38\n",
      "[INFO    ] 2022-11-28 18:22:10 | AdsListParser: read page 39\n",
      "[INFO    ] 2022-11-28 18:22:13 | AdsListParser: read page 40\n",
      "[INFO    ] 2022-11-28 18:22:16 | AdsListParser: read page 41\n",
      "[INFO    ] 2022-11-28 18:22:19 | AdsListParser: read page 42\n",
      "[INFO    ] 2022-11-28 18:22:23 | AdsListParser: read page 43\n",
      "[INFO    ] 2022-11-28 18:22:25 | AdsListParser: read page 44\n",
      "[INFO    ] 2022-11-28 18:22:27 | AdsListParser: read page 45\n",
      "[INFO    ] 2022-11-28 18:22:27 | AdsListParser: last page detected\n",
      "[INFO    ] 2022-11-28 18:22:28 | DownloaderSeleniumFirefox: close virtual browser\n",
      "2208\n",
      "CPU times: user 9.39 s, sys: 437 ms, total: 9.83 s\n",
      "Wall time: 2min 26s\n"
     ]
    }
   ],
   "source": [
    "%%time \n",
    "\n",
    "df,html = AvitoParserRealty(\n",
    "        base_url=base_url+'/'+avito_path,\n",
    "        driver=DownloaderSeleniumFirefox(profile_path)\n",
    "    ).load(req_param='',keep_html=True)\n",
    "\n",
    "print(len(df))"
   ]
  },
  {
   "cell_type": "code",
   "execution_count": 9,
   "id": "f8bd78d3",
   "metadata": {},
   "outputs": [
    {
     "name": "stdout",
     "output_type": "stream",
     "text": [
      "2208\n",
      "2138\n"
     ]
    }
   ],
   "source": [
    "print(len(df))\n",
    "df = df.dropna().drop_duplicates(['avito_id','description']).reset_index(drop=True)\n",
    "print(len(df))"
   ]
  },
  {
   "cell_type": "code",
   "execution_count": 10,
   "id": "771cb44e",
   "metadata": {},
   "outputs": [
    {
     "data": {
      "text/html": [
       "<div>\n",
       "<style scoped>\n",
       "    .dataframe tbody tr th:only-of-type {\n",
       "        vertical-align: middle;\n",
       "    }\n",
       "\n",
       "    .dataframe tbody tr th {\n",
       "        vertical-align: top;\n",
       "    }\n",
       "\n",
       "    .dataframe thead th {\n",
       "        text-align: right;\n",
       "    }\n",
       "</style>\n",
       "<table border=\"1\" class=\"dataframe\">\n",
       "  <thead>\n",
       "    <tr style=\"text-align: right;\">\n",
       "      <th></th>\n",
       "      <th>avito_id</th>\n",
       "      <th>title</th>\n",
       "      <th>price</th>\n",
       "      <th>obj_name</th>\n",
       "      <th>adr</th>\n",
       "      <th>description</th>\n",
       "      <th>page</th>\n",
       "      <th>ts</th>\n",
       "    </tr>\n",
       "  </thead>\n",
       "  <tbody>\n",
       "    <tr>\n",
       "      <th>525</th>\n",
       "      <td>2208107939</td>\n",
       "      <td>Объявление «Дом 100 м² на участке 4 сот.» 8 фотографий</td>\n",
       "      <td>6400000</td>\n",
       "      <td></td>\n",
       "      <td>садоводческое товарищество Надежда</td>\n",
       "      <td>Предлагается к продаже новый дом в чистовой отделке в живописном месте г. Севастополя. Дом построен с соблюдением строительных норм из качественных материалов. Находится в районе Монастырского шоссе. Рядом кооперативы Надежда, Фрегат, Ямал, Катюша. До моря</td>\n",
       "      <td>11</td>\n",
       "      <td>2022-11-28 18:22:27.676881</td>\n",
       "    </tr>\n",
       "    <tr>\n",
       "      <th>1350</th>\n",
       "      <td>2493265029</td>\n",
       "      <td>Объявление «Дом 180 м² на участке 4 сот.» 26 фотографий</td>\n",
       "      <td>18000000</td>\n",
       "      <td></td>\n",
       "      <td>Муромская ул., 92</td>\n",
       "      <td>Номер объекта: 74331.\\nПродам новый 2-этажный дом. Площадь дома 180м2 Дом расположен в уютном микрорайоне. До центра города добираться 5-7 минут на автомобиле. В 150 метрах от дома остановка общественного транспорта. Назначение земли — Ижс. Электричество 15</td>\n",
       "      <td>28</td>\n",
       "      <td>2022-11-28 18:22:27.676881</td>\n",
       "    </tr>\n",
       "  </tbody>\n",
       "</table>\n",
       "</div>"
      ],
      "text/plain": [
       "        avito_id                                                    title  \\\n",
       "525   2208107939   Объявление «Дом 100 м² на участке 4 сот.» 8 фотографий   \n",
       "1350  2493265029  Объявление «Дом 180 м² на участке 4 сот.» 26 фотографий   \n",
       "\n",
       "         price obj_name                                 adr  \\\n",
       "525    6400000           садоводческое товарищество Надежда   \n",
       "1350  18000000                            Муромская ул., 92   \n",
       "\n",
       "                                                                                                                                                                                                                                                            description  \\\n",
       "525    Предлагается к продаже новый дом в чистовой отделке в живописном месте г. Севастополя. Дом построен с соблюдением строительных норм из качественных материалов. Находится в районе Монастырского шоссе. Рядом кооперативы Надежда, Фрегат, Ямал, Катюша. До моря   \n",
       "1350  Номер объекта: 74331.\\nПродам новый 2-этажный дом. Площадь дома 180м2 Дом расположен в уютном микрорайоне. До центра города добираться 5-7 минут на автомобиле. В 150 метрах от дома остановка общественного транспорта. Назначение земли — Ижс. Электричество 15   \n",
       "\n",
       "      page                         ts  \n",
       "525     11 2022-11-28 18:22:27.676881  \n",
       "1350    28 2022-11-28 18:22:27.676881  "
      ]
     },
     "execution_count": 10,
     "metadata": {},
     "output_type": "execute_result"
    }
   ],
   "source": [
    "df.sample(2)"
   ]
  },
  {
   "cell_type": "code",
   "execution_count": 11,
   "id": "0a311ff9",
   "metadata": {},
   "outputs": [],
   "source": [
    "df['place'] = place"
   ]
  },
  {
   "cell_type": "code",
   "execution_count": 12,
   "id": "6fa322a2",
   "metadata": {},
   "outputs": [],
   "source": [
    "ts = dtm.now().strftime('%Y-%m-%d_%H-%M')\n",
    "assert len(df)>0\n",
    "df.to_excel(f'{raw_data_path}/avito_{ts}_raw_{place}.xlsx',index=False)"
   ]
  },
  {
   "cell_type": "markdown",
   "id": "bdb9e4bd",
   "metadata": {},
   "source": [
    "---"
   ]
  },
  {
   "cell_type": "code",
   "execution_count": 13,
   "id": "7a3aff9f",
   "metadata": {},
   "outputs": [],
   "source": [
    "# place = 'sevastopol'\n",
    "place = 'bahchisaray'\n",
    "# place = 'sudak'\n",
    "avito_path = place+'/doma_dachi_kottedzhi/prodam'"
   ]
  },
  {
   "cell_type": "code",
   "execution_count": 14,
   "id": "0828e414",
   "metadata": {},
   "outputs": [
    {
     "name": "stdout",
     "output_type": "stream",
     "text": [
      "[INFO    ] 2022-11-28 18:22:28 | DownloaderSeleniumFirefox: downloader init\n",
      "[INFO    ] 2022-11-28 18:22:28 | DownloaderSeleniumFirefox: open virtual browser\n",
      "[INFO    ] 2022-11-28 18:22:31 | AdsListParser: downloader init\n",
      "[INFO    ] 2022-11-28 18:22:31 | AvitoParser: init\n",
      "[INFO    ] 2022-11-28 18:22:35 | AvitoParser: 6 pages for read\n",
      "[INFO    ] 2022-11-28 18:22:35 | AdsListParser: start read and parse pages...\n",
      "[INFO    ] 2022-11-28 18:23:31 | AdsListParser: read page 1\n",
      "[INFO    ] 2022-11-28 18:23:36 | AdsListParser: read page 2\n",
      "[INFO    ] 2022-11-28 18:24:39 | AdsListParser: read page 3\n",
      "[INFO    ] 2022-11-28 18:24:41 | AdsListParser: read page 4\n",
      "[INFO    ] 2022-11-28 18:24:43 | AdsListParser: read page 5\n",
      "[INFO    ] 2022-11-28 18:24:45 | AdsListParser: read page 6\n",
      "[INFO    ] 2022-11-28 18:24:45 | AdsListParser: last page detected\n",
      "[INFO    ] 2022-11-28 18:24:45 | DownloaderSeleniumFirefox: close virtual browser\n",
      "260\n"
     ]
    },
    {
     "data": {
      "text/html": [
       "<div>\n",
       "<style scoped>\n",
       "    .dataframe tbody tr th:only-of-type {\n",
       "        vertical-align: middle;\n",
       "    }\n",
       "\n",
       "    .dataframe tbody tr th {\n",
       "        vertical-align: top;\n",
       "    }\n",
       "\n",
       "    .dataframe thead th {\n",
       "        text-align: right;\n",
       "    }\n",
       "</style>\n",
       "<table border=\"1\" class=\"dataframe\">\n",
       "  <thead>\n",
       "    <tr style=\"text-align: right;\">\n",
       "      <th></th>\n",
       "      <th>avito_id</th>\n",
       "      <th>title</th>\n",
       "      <th>price</th>\n",
       "      <th>obj_name</th>\n",
       "      <th>adr</th>\n",
       "      <th>description</th>\n",
       "      <th>page</th>\n",
       "      <th>ts</th>\n",
       "    </tr>\n",
       "  </thead>\n",
       "  <tbody>\n",
       "    <tr>\n",
       "      <th>187</th>\n",
       "      <td>2623444619</td>\n",
       "      <td>Объявление «Дача 35 м² на участке 5,1 сот.»</td>\n",
       "      <td>650000</td>\n",
       "      <td></td>\n",
       "      <td>с. Маловидное</td>\n",
       "      <td>Продается дача, в Снт Энтузиаст, ул. Ягодная, д.29.</td>\n",
       "      <td>4</td>\n",
       "      <td>2022-11-28 18:24:45.486709</td>\n",
       "    </tr>\n",
       "    <tr>\n",
       "      <th>223</th>\n",
       "      <td>2408824766</td>\n",
       "      <td>Объявление «Дом 52 м² на участке 2 сот.» 9 фотографий</td>\n",
       "      <td>5300000</td>\n",
       "      <td></td>\n",
       "      <td>Речная ул.</td>\n",
       "      <td>Продам дом, заходи и живи ремонт не требуется, газ, свет, вода.\\nВ 5 минутах Хан-дворец и парк Миниатюр.\\nСделан ремонт, тёплый пол во всём доме, заменена вся электрика до остановки 2 мин местные достопримечательности в 5-10мин.\\n\\nВсе вопросы по телефону.\\nТор</td>\n",
       "      <td>5</td>\n",
       "      <td>2022-11-28 18:24:45.486709</td>\n",
       "    </tr>\n",
       "  </tbody>\n",
       "</table>\n",
       "</div>"
      ],
      "text/plain": [
       "       avito_id                                                  title  \\\n",
       "187  2623444619           Объявление «Дача 35 м² на участке 5,1 сот.»    \n",
       "223  2408824766  Объявление «Дом 52 м² на участке 2 сот.» 9 фотографий   \n",
       "\n",
       "       price obj_name            adr  \\\n",
       "187   650000           с. Маловидное   \n",
       "223  5300000              Речная ул.   \n",
       "\n",
       "                                                                                                                                                                                                                                                               description  \\\n",
       "187                                                                                                                                                                                                                    Продается дача, в Снт Энтузиаст, ул. Ягодная, д.29.   \n",
       "223  Продам дом, заходи и живи ремонт не требуется, газ, свет, вода.\\nВ 5 минутах Хан-дворец и парк Миниатюр.\\nСделан ремонт, тёплый пол во всём доме, заменена вся электрика до остановки 2 мин местные достопримечательности в 5-10мин.\\n\\nВсе вопросы по телефону.\\nТор   \n",
       "\n",
       "     page                         ts  \n",
       "187     4 2022-11-28 18:24:45.486709  \n",
       "223     5 2022-11-28 18:24:45.486709  "
      ]
     },
     "execution_count": 14,
     "metadata": {},
     "output_type": "execute_result"
    }
   ],
   "source": [
    "df,html = AvitoParserRealty(\n",
    "        base_url=base_url+'/'+avito_path,\n",
    "        driver=DownloaderSeleniumFirefox(profile_path)\n",
    "    ).load(req_param='',keep_html=True)\n",
    "\n",
    "print(len(df))\n",
    "df.sample(2)"
   ]
  },
  {
   "cell_type": "code",
   "execution_count": 15,
   "id": "aa6cf989",
   "metadata": {},
   "outputs": [],
   "source": [
    "df['place'] = place\n",
    "ts = dtm.now().strftime('%Y-%m-%d_%H-%M')\n",
    "assert len(df)>0\n",
    "df.to_excel(f'{raw_data_path}/avito_{ts}_raw_{place}.xlsx',index=False)"
   ]
  },
  {
   "cell_type": "markdown",
   "id": "cb8a6e24",
   "metadata": {},
   "source": [
    "----"
   ]
  },
  {
   "cell_type": "code",
   "execution_count": 16,
   "id": "fafeda38",
   "metadata": {},
   "outputs": [],
   "source": [
    "# place = 'sevastopol'\n",
    "# place = 'bahchisaray'\n",
    "place = 'sudak'\n",
    "avito_path = place+'/doma_dachi_kottedzhi/prodam'"
   ]
  },
  {
   "cell_type": "code",
   "execution_count": 17,
   "id": "0ea62e56",
   "metadata": {},
   "outputs": [
    {
     "name": "stdout",
     "output_type": "stream",
     "text": [
      "[INFO    ] 2022-11-28 18:24:45 | DownloaderSeleniumFirefox: downloader init\n",
      "[INFO    ] 2022-11-28 18:24:45 | DownloaderSeleniumFirefox: open virtual browser\n",
      "[INFO    ] 2022-11-28 18:24:48 | AdsListParser: downloader init\n",
      "[INFO    ] 2022-11-28 18:24:48 | AvitoParser: init\n",
      "[INFO    ] 2022-11-28 18:24:53 | AvitoParser: 3 pages for read\n",
      "[INFO    ] 2022-11-28 18:24:53 | AdsListParser: start read and parse pages...\n",
      "[INFO    ] 2022-11-28 18:24:55 | AdsListParser: read page 1\n",
      "[INFO    ] 2022-11-28 18:24:57 | AdsListParser: read page 2\n",
      "[INFO    ] 2022-11-28 18:25:02 | AdsListParser: read page 3\n",
      "[INFO    ] 2022-11-28 18:25:02 | AdsListParser: last page detected\n",
      "[INFO    ] 2022-11-28 18:25:02 | DownloaderSeleniumFirefox: close virtual browser\n",
      "108\n"
     ]
    },
    {
     "data": {
      "text/html": [
       "<div>\n",
       "<style scoped>\n",
       "    .dataframe tbody tr th:only-of-type {\n",
       "        vertical-align: middle;\n",
       "    }\n",
       "\n",
       "    .dataframe tbody tr th {\n",
       "        vertical-align: top;\n",
       "    }\n",
       "\n",
       "    .dataframe thead th {\n",
       "        text-align: right;\n",
       "    }\n",
       "</style>\n",
       "<table border=\"1\" class=\"dataframe\">\n",
       "  <thead>\n",
       "    <tr style=\"text-align: right;\">\n",
       "      <th></th>\n",
       "      <th>avito_id</th>\n",
       "      <th>title</th>\n",
       "      <th>price</th>\n",
       "      <th>obj_name</th>\n",
       "      <th>adr</th>\n",
       "      <th>description</th>\n",
       "      <th>page</th>\n",
       "      <th>ts</th>\n",
       "    </tr>\n",
       "  </thead>\n",
       "  <tbody>\n",
       "    <tr>\n",
       "      <th>35</th>\n",
       "      <td>2658303608</td>\n",
       "      <td>Объявление «Дом 36 м² на участке 5 сот.»</td>\n",
       "      <td>6000000</td>\n",
       "      <td></td>\n",
       "      <td>ул. Майора Хвостова</td>\n",
       "      <td>Продается дом в г. Судак, черта города. Ижс. Документы РФ. Дом в собственности. Участок 5 соток, на стадии оформления. Школа, поликлиниа, больница, магазины, рынок, автостанция в 5-ти минутах хотьбы. До моря 15 минут. Заведена вода и электричество. Газ по</td>\n",
       "      <td>1</td>\n",
       "      <td>2022-11-28 18:25:02.328515</td>\n",
       "    </tr>\n",
       "    <tr>\n",
       "      <th>78</th>\n",
       "      <td>2575099970</td>\n",
       "      <td>Объявление «Дом 310 м² на участке 6 сот.» 14 фотографий</td>\n",
       "      <td>18000000</td>\n",
       "      <td></td>\n",
       "      <td>с. Миндальное, СНТ Солнечная Долина, Тихий пер., 927</td>\n",
       "      <td>Цена актуальна, пока не продан интересующий меня объект….\\n\\nПродам дом 310 кв. Метров, с пропиской. На видовом участке 6 соток. С балконов чудесный вид на море и горы. Четыре этажа, отдельный вход на каждый этаж. На каждом этаже 3 комнатная квартира с конди</td>\n",
       "      <td>2</td>\n",
       "      <td>2022-11-28 18:25:02.328515</td>\n",
       "    </tr>\n",
       "  </tbody>\n",
       "</table>\n",
       "</div>"
      ],
      "text/plain": [
       "      avito_id                                                    title  \\\n",
       "35  2658303608                Объявление «Дом 36 м² на участке 5 сот.»    \n",
       "78  2575099970  Объявление «Дом 310 м² на участке 6 сот.» 14 фотографий   \n",
       "\n",
       "       price obj_name                                                   adr  \\\n",
       "35   6000000                                            ул. Майора Хвостова   \n",
       "78  18000000           с. Миндальное, СНТ Солнечная Долина, Тихий пер., 927   \n",
       "\n",
       "                                                                                                                                                                                                                                                           description  \\\n",
       "35    Продается дом в г. Судак, черта города. Ижс. Документы РФ. Дом в собственности. Участок 5 соток, на стадии оформления. Школа, поликлиниа, больница, магазины, рынок, автостанция в 5-ти минутах хотьбы. До моря 15 минут. Заведена вода и электричество. Газ по    \n",
       "78  Цена актуальна, пока не продан интересующий меня объект….\\n\\nПродам дом 310 кв. Метров, с пропиской. На видовом участке 6 соток. С балконов чудесный вид на море и горы. Четыре этажа, отдельный вход на каждый этаж. На каждом этаже 3 комнатная квартира с конди   \n",
       "\n",
       "    page                         ts  \n",
       "35     1 2022-11-28 18:25:02.328515  \n",
       "78     2 2022-11-28 18:25:02.328515  "
      ]
     },
     "execution_count": 17,
     "metadata": {},
     "output_type": "execute_result"
    }
   ],
   "source": [
    "df,html = AvitoParserRealty(\n",
    "        base_url=base_url+'/'+avito_path,\n",
    "        driver=DownloaderSeleniumFirefox(profile_path)\n",
    "    ).load(req_param='',keep_html=True)\n",
    "\n",
    "print(len(df))\n",
    "df.sample(2)"
   ]
  },
  {
   "cell_type": "code",
   "execution_count": 18,
   "id": "348cab00",
   "metadata": {},
   "outputs": [],
   "source": [
    "df['place'] = place\n",
    "ts = dtm.now().strftime('%Y-%m-%d_%H-%M')\n",
    "assert len(df)>0\n",
    "df.to_excel(f'{raw_data_path}/avito_{ts}_raw_{place}.xlsx',index=False)"
   ]
  }
 ],
 "metadata": {
  "kernelspec": {
   "display_name": "Python 3 (ipykernel)",
   "language": "python",
   "name": "python3"
  },
  "language_info": {
   "codemirror_mode": {
    "name": "ipython",
    "version": 3
   },
   "file_extension": ".py",
   "mimetype": "text/x-python",
   "name": "python",
   "nbconvert_exporter": "python",
   "pygments_lexer": "ipython3",
   "version": "3.10.8"
  },
  "toc": {
   "base_numbering": 1,
   "nav_menu": {},
   "number_sections": true,
   "sideBar": true,
   "skip_h1_title": false,
   "title_cell": "Table of Contents",
   "title_sidebar": "Contents",
   "toc_cell": false,
   "toc_position": {},
   "toc_section_display": true,
   "toc_window_display": false
  },
  "varInspector": {
   "cols": {
    "lenName": 16,
    "lenType": 16,
    "lenVar": 40
   },
   "kernels_config": {
    "python": {
     "delete_cmd_postfix": "",
     "delete_cmd_prefix": "del ",
     "library": "var_list.py",
     "varRefreshCmd": "print(var_dic_list())"
    },
    "r": {
     "delete_cmd_postfix": ") ",
     "delete_cmd_prefix": "rm(",
     "library": "var_list.r",
     "varRefreshCmd": "cat(var_dic_list()) "
    }
   },
   "types_to_exclude": [
    "module",
    "function",
    "builtin_function_or_method",
    "instance",
    "_Feature"
   ],
   "window_display": false
  }
 },
 "nbformat": 4,
 "nbformat_minor": 5
}
