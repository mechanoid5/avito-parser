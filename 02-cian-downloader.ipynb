{
 "cells": [
  {
   "cell_type": "markdown",
   "id": "7ed68c56",
   "metadata": {},
   "source": [
    "__качаем объявления о продаже недвижимости с циан.ru__\n",
    "\n",
    "_Evgeny S. Borisov <parser@mechanoid.su>_"
   ]
  },
  {
   "cell_type": "code",
   "execution_count": 1,
   "id": "072330b0",
   "metadata": {},
   "outputs": [],
   "source": [
    "import logging\n",
    "import sys \n",
    "\n",
    "logging.basicConfig(\n",
    "        format=u'[%(levelname)-8s] %(asctime)s | %(message)s',\n",
    "        datefmt='%Y-%m-%d %H:%M:%S',\n",
    "        level=logging.INFO,\n",
    "        # level=logging.DEBUG,\n",
    "        stream=sys.stdout,\n",
    "    )"
   ]
  },
  {
   "cell_type": "code",
   "execution_count": 2,
   "id": "98a3f294",
   "metadata": {},
   "outputs": [],
   "source": [
    "from time import sleep\n",
    "from tqdm.auto import tqdm\n",
    "import pandas as pd\n",
    "from datetime import datetime \n",
    "\n",
    "pd.set_option('display.max_colwidth', None)\n",
    "pd.set_option('display.float_format', '{:.2f}'.format)\n",
    "tqdm.pandas()"
   ]
  },
  {
   "cell_type": "markdown",
   "id": "97716384",
   "metadata": {},
   "source": [
    "---"
   ]
  },
  {
   "cell_type": "code",
   "execution_count": 3,
   "id": "8c89b773",
   "metadata": {},
   "outputs": [],
   "source": [
    "source = [\n",
    "    {\n",
    "            'place': 'sevastopol',\n",
    "        'subfolder': 'flat',\n",
    "              'url': 'https://sevastopol.cian.ru/kupit-kvartiru/',\n",
    "    },{\n",
    "            'place': 'sevastopol',\n",
    "        'subfolder': 'land',\n",
    "              'url': 'https://sevastopol.cian.ru/kupit-zemelniy-uchastok/',\n",
    "    },{\n",
    "            'place': 'sevastopol',\n",
    "        'subfolder': 'house',\n",
    "              'url': 'https://sevastopol.cian.ru/kupit-dom/',\n",
    "    },{\n",
    "            'place': 'sudak',\n",
    "        'subfolder': 'flat',\n",
    "              'url': 'https://krym.cian.ru/kupit-kvartiru-krym-sudak/',\n",
    "    },{\n",
    "            'place': 'sudak',\n",
    "        'subfolder': 'land',\n",
    "              'url': 'https://krym.cian.ru/kupit-zemelniy-uchastok-krym-sudak/',\n",
    "    },{\n",
    "            'place': 'sudak',\n",
    "        'subfolder': 'house',\n",
    "              'url': 'https://krym.cian.ru/kupit-dom-krym-sudak/',\n",
    "    },    \n",
    "#     {\n",
    "#             'place': 'bahchisaray',\n",
    "#         'subfolder': 'flat',\n",
    "#               'url': 'https://krym.cian.ru/kupit-kvartiru-krym-bahchisaray/',\n",
    "#     }, {\n",
    "#             'place': 'bahchisaray',\n",
    "#         'subfolder': 'land',\n",
    "#               'url': 'https://krym.cian.ru/kupit-zemelniy-uchastok-krym-bahchisaray/',\n",
    "#     },{\n",
    "#             'place': 'bahchisaray',\n",
    "#         'subfolder': 'house',\n",
    "#               'url': 'https://krym.cian.ru/kupit-dom-krym-bahchisaray/',\n",
    "#     },\n",
    "\n",
    "]\n"
   ]
  },
  {
   "cell_type": "markdown",
   "id": "58b1d75f",
   "metadata": {},
   "source": [
    "---"
   ]
  },
  {
   "cell_type": "code",
   "execution_count": 4,
   "id": "84989450",
   "metadata": {},
   "outputs": [],
   "source": [
    "# from selenium import webdriver\n",
    "# from lib.cian import CianPageParser\n",
    "\n",
    "# browser = webdriver.Firefox()\n",
    "# browser.get(source[0]['url'])\n",
    "# data = CianPageParser().transform(browser)\n",
    "# browser.close()"
   ]
  },
  {
   "cell_type": "code",
   "execution_count": 5,
   "id": "6dffb73b",
   "metadata": {},
   "outputs": [],
   "source": [
    "# data\n",
    "# browser.close()"
   ]
  },
  {
   "cell_type": "markdown",
   "id": "d725357e",
   "metadata": {},
   "source": [
    "---"
   ]
  },
  {
   "cell_type": "code",
   "execution_count": 6,
   "id": "809e913f",
   "metadata": {},
   "outputs": [],
   "source": [
    "dest_folder = 'data/2024/raw'"
   ]
  },
  {
   "cell_type": "code",
   "execution_count": 7,
   "id": "3475a18d",
   "metadata": {},
   "outputs": [],
   "source": [
    "from selenium import webdriver\n",
    "# from selenium.webdriver.common.by import By\n",
    "from lib.cian import CianParser\n",
    "# from lib.cian import CianDataCleaner"
   ]
  },
  {
   "cell_type": "code",
   "execution_count": 8,
   "id": "4cd65147",
   "metadata": {
    "scrolled": false
   },
   "outputs": [
    {
     "name": "stdout",
     "output_type": "stream",
     "text": [
      "[INFO    ] 2024-06-11 10:08:45 | open virtual browser\n"
     ]
    },
    {
     "data": {
      "text/plain": [
       "'https://sevastopol.cian.ru/kupit-kvartiru/'"
      ]
     },
     "metadata": {},
     "output_type": "display_data"
    },
    {
     "name": "stdout",
     "output_type": "stream",
     "text": [
      "[INFO    ] 2024-06-11 10:08:52 | page 1: 28 items\n",
      "[INFO    ] 2024-06-11 10:09:00 | page 2: 28 items\n",
      "[INFO    ] 2024-06-11 10:09:06 | page 3: 28 items\n",
      "[INFO    ] 2024-06-11 10:09:13 | page 4: 28 items\n",
      "[INFO    ] 2024-06-11 10:09:18 | page 5: 28 items\n",
      "[INFO    ] 2024-06-11 10:09:24 | page 6: 28 items\n",
      "[INFO    ] 2024-06-11 10:09:31 | page 7: 28 items\n",
      "[INFO    ] 2024-06-11 10:09:37 | page 8: 28 items\n",
      "[INFO    ] 2024-06-11 10:09:43 | page 9: 28 items\n",
      "[INFO    ] 2024-06-11 10:09:50 | page 10: 28 items\n",
      "[INFO    ] 2024-06-11 10:09:55 | page 11: 28 items\n",
      "[INFO    ] 2024-06-11 10:10:01 | page 12: 28 items\n",
      "[INFO    ] 2024-06-11 10:10:07 | page 13: 28 items\n",
      "[INFO    ] 2024-06-11 10:10:12 | page 14: 28 items\n",
      "[INFO    ] 2024-06-11 10:10:17 | page 15: 28 items\n",
      "[INFO    ] 2024-06-11 10:10:23 | page 16: 28 items\n",
      "[INFO    ] 2024-06-11 10:10:27 | page 17: 28 items\n",
      "[INFO    ] 2024-06-11 10:10:33 | page 18: 28 items\n",
      "[INFO    ] 2024-06-11 10:10:38 | page 19: 28 items\n",
      "[INFO    ] 2024-06-11 10:10:45 | page 20: 28 items\n",
      "[INFO    ] 2024-06-11 10:10:50 | page 21: 28 items\n",
      "[INFO    ] 2024-06-11 10:10:56 | page 22: 28 items\n",
      "[INFO    ] 2024-06-11 10:11:00 | page 23: 28 items\n",
      "[INFO    ] 2024-06-11 10:11:05 | page 24: 28 items\n",
      "[INFO    ] 2024-06-11 10:11:09 | page 25: 28 items\n",
      "[INFO    ] 2024-06-11 10:11:14 | page 26: 28 items\n",
      "[INFO    ] 2024-06-11 10:11:18 | page 27: 28 items\n",
      "[INFO    ] 2024-06-11 10:11:25 | page 28: 28 items\n",
      "[INFO    ] 2024-06-11 10:11:29 | page 29: 28 items\n",
      "[INFO    ] 2024-06-11 10:11:37 | page 30: 28 items\n",
      "[INFO    ] 2024-06-11 10:11:43 | page 31: 28 items\n",
      "[INFO    ] 2024-06-11 10:11:47 | page 32: 28 items\n",
      "[INFO    ] 2024-06-11 10:11:51 | page 33: 28 items\n",
      "[INFO    ] 2024-06-11 10:11:56 | page 34: 27 items\n",
      "[INFO    ] 2024-06-11 10:12:01 | page 35: 28 items\n",
      "[INFO    ] 2024-06-11 10:12:05 | page 36: 28 items\n",
      "[INFO    ] 2024-06-11 10:12:09 | page 37: 28 items\n",
      "[INFO    ] 2024-06-11 10:12:13 | page 38: 28 items\n",
      "[INFO    ] 2024-06-11 10:12:17 | page 39: 27 items\n",
      "[INFO    ] 2024-06-11 10:12:22 | page 40: 28 items\n",
      "[INFO    ] 2024-06-11 10:12:27 | page 41: 28 items\n",
      "[INFO    ] 2024-06-11 10:12:32 | page 42: 28 items\n",
      "[INFO    ] 2024-06-11 10:12:36 | page 43: 28 items\n",
      "[INFO    ] 2024-06-11 10:12:42 | page 44: 28 items\n",
      "[INFO    ] 2024-06-11 10:12:45 | page 45: 27 items\n",
      "[INFO    ] 2024-06-11 10:12:49 | page 46: 28 items\n",
      "[INFO    ] 2024-06-11 10:12:55 | page 47: 28 items\n",
      "[INFO    ] 2024-06-11 10:12:59 | page 48: 28 items\n",
      "[INFO    ] 2024-06-11 10:13:02 | page 49: 27 items\n",
      "[INFO    ] 2024-06-11 10:13:07 | page 50: 28 items\n",
      "[INFO    ] 2024-06-11 10:13:11 | page 51: 28 items\n",
      "[INFO    ] 2024-06-11 10:13:15 | page 52: 28 items\n",
      "[INFO    ] 2024-06-11 10:13:19 | page 53: 28 items\n",
      "[INFO    ] 2024-06-11 10:13:23 | page 54: 25 items\n"
     ]
    },
    {
     "data": {
      "text/plain": [
       "1505"
      ]
     },
     "metadata": {},
     "output_type": "display_data"
    },
    {
     "data": {
      "text/plain": [
       "'data/2024/raw/flat/cian/cian_2024-06-11_10-13_raw_sevastopol.pkl'"
      ]
     },
     "metadata": {},
     "output_type": "display_data"
    },
    {
     "data": {
      "text/plain": [
       "'https://sevastopol.cian.ru/kupit-zemelniy-uchastok/'"
      ]
     },
     "metadata": {},
     "output_type": "display_data"
    },
    {
     "name": "stdout",
     "output_type": "stream",
     "text": [
      "[INFO    ] 2024-06-11 10:13:30 | page 1: 28 items\n",
      "[INFO    ] 2024-06-11 10:13:36 | page 2: 28 items\n",
      "[INFO    ] 2024-06-11 10:13:43 | page 3: 28 items\n",
      "[INFO    ] 2024-06-11 10:13:49 | page 4: 28 items\n",
      "[INFO    ] 2024-06-11 10:13:53 | page 5: 28 items\n",
      "[INFO    ] 2024-06-11 10:14:00 | page 6: 28 items\n",
      "[INFO    ] 2024-06-11 10:14:04 | page 7: 28 items\n",
      "[INFO    ] 2024-06-11 10:14:08 | page 8: 28 items\n",
      "[INFO    ] 2024-06-11 10:14:14 | page 9: 28 items\n",
      "[INFO    ] 2024-06-11 10:14:17 | page 10: 28 items\n",
      "[INFO    ] 2024-06-11 10:14:22 | page 11: 28 items\n",
      "[INFO    ] 2024-06-11 10:14:28 | page 12: 28 items\n",
      "[INFO    ] 2024-06-11 10:14:32 | page 13: 28 items\n",
      "[INFO    ] 2024-06-11 10:14:38 | page 14: 28 items\n",
      "[INFO    ] 2024-06-11 10:14:43 | page 15: 25 items\n",
      "[INFO    ] 2024-06-11 10:14:47 | page 16: 28 items\n",
      "[INFO    ] 2024-06-11 10:14:51 | page 17: 28 items\n",
      "[INFO    ] 2024-06-11 10:14:55 | page 18: 28 items\n",
      "[INFO    ] 2024-06-11 10:14:59 | page 19: 28 items\n",
      "[INFO    ] 2024-06-11 10:15:03 | page 20: 28 items\n",
      "[INFO    ] 2024-06-11 10:15:07 | page 21: 28 items\n",
      "[INFO    ] 2024-06-11 10:15:11 | page 22: 28 items\n",
      "[INFO    ] 2024-06-11 10:15:14 | page 23: 28 items\n",
      "[INFO    ] 2024-06-11 10:15:18 | page 24: 28 items\n",
      "[INFO    ] 2024-06-11 10:15:24 | page 25: 28 items\n",
      "[INFO    ] 2024-06-11 10:15:31 | page 26: 28 items\n",
      "[INFO    ] 2024-06-11 10:15:42 | page 27: 28 items\n",
      "[INFO    ] 2024-06-11 10:15:48 | page 28: 28 items\n",
      "[INFO    ] 2024-06-11 10:15:53 | page 29: 28 items\n",
      "[INFO    ] 2024-06-11 10:15:56 | page 30: 28 items\n",
      "[INFO    ] 2024-06-11 10:16:00 | page 31: 28 items\n",
      "[INFO    ] 2024-06-11 10:16:08 | page 32: 28 items\n",
      "[INFO    ] 2024-06-11 10:16:11 | page 33: 28 items\n",
      "[INFO    ] 2024-06-11 10:16:15 | page 34: 28 items\n",
      "[INFO    ] 2024-06-11 10:16:19 | page 35: 28 items\n",
      "[INFO    ] 2024-06-11 10:16:22 | page 36: 28 items\n",
      "[INFO    ] 2024-06-11 10:16:26 | page 37: 28 items\n",
      "[INFO    ] 2024-06-11 10:16:30 | page 38: 28 items\n",
      "[INFO    ] 2024-06-11 10:16:34 | page 39: 28 items\n",
      "[INFO    ] 2024-06-11 10:16:38 | page 40: 28 items\n",
      "[INFO    ] 2024-06-11 10:16:41 | page 41: 28 items\n",
      "[INFO    ] 2024-06-11 10:16:45 | page 42: 28 items\n",
      "[INFO    ] 2024-06-11 10:16:50 | page 43: 28 items\n",
      "[INFO    ] 2024-06-11 10:16:54 | page 44: 28 items\n",
      "[INFO    ] 2024-06-11 10:16:57 | page 45: 28 items\n",
      "[INFO    ] 2024-06-11 10:17:01 | page 46: 28 items\n",
      "[INFO    ] 2024-06-11 10:17:07 | page 47: 28 items\n",
      "[INFO    ] 2024-06-11 10:17:12 | page 48: 28 items\n",
      "[INFO    ] 2024-06-11 10:17:16 | page 49: 28 items\n",
      "[INFO    ] 2024-06-11 10:17:23 | page 50: 28 items\n",
      "[INFO    ] 2024-06-11 10:17:30 | page 51: 28 items\n",
      "[INFO    ] 2024-06-11 10:17:34 | page 52: 28 items\n",
      "[INFO    ] 2024-06-11 10:17:37 | page 53: 28 items\n",
      "[INFO    ] 2024-06-11 10:17:41 | page 54: 24 items\n"
     ]
    },
    {
     "data": {
      "text/plain": [
       "1505"
      ]
     },
     "metadata": {},
     "output_type": "display_data"
    },
    {
     "data": {
      "text/plain": [
       "'data/2024/raw/land/cian/cian_2024-06-11_10-17_raw_sevastopol.pkl'"
      ]
     },
     "metadata": {},
     "output_type": "display_data"
    },
    {
     "data": {
      "text/plain": [
       "'https://sevastopol.cian.ru/kupit-dom/'"
      ]
     },
     "metadata": {},
     "output_type": "display_data"
    },
    {
     "name": "stdout",
     "output_type": "stream",
     "text": [
      "[INFO    ] 2024-06-11 10:17:50 | page 1: 28 items\n",
      "[INFO    ] 2024-06-11 10:17:58 | page 2: 28 items\n",
      "[INFO    ] 2024-06-11 10:18:12 | page 3: 28 items\n",
      "[INFO    ] 2024-06-11 10:18:20 | page 4: 28 items\n",
      "[INFO    ] 2024-06-11 10:18:28 | page 5: 28 items\n",
      "[INFO    ] 2024-06-11 10:18:36 | page 6: 28 items\n",
      "[INFO    ] 2024-06-11 10:18:45 | page 7: 28 items\n",
      "[INFO    ] 2024-06-11 10:18:54 | page 8: 28 items\n",
      "[INFO    ] 2024-06-11 10:19:02 | page 9: 28 items\n",
      "[INFO    ] 2024-06-11 10:19:09 | page 10: 28 items\n",
      "[INFO    ] 2024-06-11 10:19:16 | page 11: 28 items\n",
      "[INFO    ] 2024-06-11 10:19:24 | page 12: 28 items\n",
      "[INFO    ] 2024-06-11 10:19:30 | page 13: 28 items\n",
      "[INFO    ] 2024-06-11 10:19:37 | page 14: 28 items\n",
      "[INFO    ] 2024-06-11 10:19:41 | page 15: 25 items\n",
      "[INFO    ] 2024-06-11 10:19:49 | page 16: 28 items\n",
      "[INFO    ] 2024-06-11 10:19:57 | page 17: 28 items\n",
      "[INFO    ] 2024-06-11 10:20:06 | page 18: 28 items\n",
      "[INFO    ] 2024-06-11 10:20:11 | page 19: 28 items\n",
      "[INFO    ] 2024-06-11 10:20:15 | page 20: 28 items\n",
      "[INFO    ] 2024-06-11 10:20:19 | page 21: 28 items\n",
      "[INFO    ] 2024-06-11 10:20:25 | page 22: 28 items\n",
      "[INFO    ] 2024-06-11 10:20:31 | page 23: 27 items\n",
      "[INFO    ] 2024-06-11 10:20:37 | page 24: 28 items\n",
      "[INFO    ] 2024-06-11 10:20:41 | page 25: 28 items\n",
      "[INFO    ] 2024-06-11 10:20:48 | page 26: 28 items\n",
      "[INFO    ] 2024-06-11 10:20:57 | page 27: 28 items\n",
      "[INFO    ] 2024-06-11 10:21:03 | page 28: 28 items\n",
      "[INFO    ] 2024-06-11 10:21:08 | page 29: 28 items\n",
      "[INFO    ] 2024-06-11 10:21:11 | page 30: 28 items\n",
      "[INFO    ] 2024-06-11 10:21:15 | page 31: 28 items\n",
      "[INFO    ] 2024-06-11 10:21:22 | page 32: 28 items\n",
      "[INFO    ] 2024-06-11 10:21:25 | page 33: 28 items\n",
      "[INFO    ] 2024-06-11 10:21:29 | page 34: 28 items\n",
      "[INFO    ] 2024-06-11 10:21:33 | page 35: 28 items\n",
      "[INFO    ] 2024-06-11 10:21:40 | page 36: 28 items\n",
      "[INFO    ] 2024-06-11 10:21:44 | page 37: 28 items\n",
      "[INFO    ] 2024-06-11 10:21:47 | page 38: 28 items\n",
      "[INFO    ] 2024-06-11 10:21:51 | page 39: 28 items\n",
      "[INFO    ] 2024-06-11 10:21:58 | page 40: 28 items\n",
      "[INFO    ] 2024-06-11 10:22:05 | page 41: 28 items\n",
      "[INFO    ] 2024-06-11 10:22:09 | page 42: 27 items\n",
      "[INFO    ] 2024-06-11 10:22:16 | page 43: 28 items\n",
      "[INFO    ] 2024-06-11 10:22:20 | page 44: 28 items\n",
      "[INFO    ] 2024-06-11 10:22:24 | page 45: 28 items\n",
      "[INFO    ] 2024-06-11 10:22:31 | page 46: 28 items\n",
      "[INFO    ] 2024-06-11 10:22:35 | page 47: 28 items\n",
      "[INFO    ] 2024-06-11 10:22:39 | page 48: 28 items\n",
      "[INFO    ] 2024-06-11 10:22:43 | page 49: 28 items\n",
      "[INFO    ] 2024-06-11 10:22:47 | page 50: 28 items\n",
      "[INFO    ] 2024-06-11 10:22:51 | page 51: 28 items\n",
      "[INFO    ] 2024-06-11 10:22:57 | page 52: 28 items\n",
      "[INFO    ] 2024-06-11 10:23:01 | page 53: 28 items\n",
      "[INFO    ] 2024-06-11 10:23:05 | page 54: 25 items\n"
     ]
    },
    {
     "data": {
      "text/plain": [
       "1504"
      ]
     },
     "metadata": {},
     "output_type": "display_data"
    },
    {
     "data": {
      "text/plain": [
       "'data/2024/raw/house/cian/cian_2024-06-11_10-23_raw_sevastopol.pkl'"
      ]
     },
     "metadata": {},
     "output_type": "display_data"
    },
    {
     "data": {
      "text/plain": [
       "'https://krym.cian.ru/kupit-kvartiru-krym-sudak/'"
      ]
     },
     "metadata": {},
     "output_type": "display_data"
    },
    {
     "name": "stdout",
     "output_type": "stream",
     "text": [
      "[INFO    ] 2024-06-11 10:23:13 | page 1: 28 items\n",
      "[INFO    ] 2024-06-11 10:23:20 | page 2: 28 items\n",
      "[INFO    ] 2024-06-11 10:23:24 | page 3: 28 items\n",
      "[INFO    ] 2024-06-11 10:23:32 | page 4: 28 items\n",
      "[INFO    ] 2024-06-11 10:23:38 | page 5: 28 items\n",
      "[INFO    ] 2024-06-11 10:23:42 | page 6: 28 items\n",
      "[INFO    ] 2024-06-11 10:23:47 | page 7: 28 items\n",
      "[INFO    ] 2024-06-11 10:23:54 | page 8: 28 items\n",
      "[INFO    ] 2024-06-11 10:23:58 | page 9: 25 items\n"
     ]
    },
    {
     "data": {
      "text/plain": [
       "249"
      ]
     },
     "metadata": {},
     "output_type": "display_data"
    },
    {
     "data": {
      "text/plain": [
       "'data/2024/raw/flat/cian/cian_2024-06-11_10-23_raw_sudak.pkl'"
      ]
     },
     "metadata": {},
     "output_type": "display_data"
    },
    {
     "data": {
      "text/plain": [
       "'https://krym.cian.ru/kupit-zemelniy-uchastok-krym-sudak/'"
      ]
     },
     "metadata": {},
     "output_type": "display_data"
    },
    {
     "name": "stdout",
     "output_type": "stream",
     "text": [
      "[INFO    ] 2024-06-11 10:24:02 | page 1: 28 items\n",
      "[INFO    ] 2024-06-11 10:24:08 | page 2: 28 items\n"
     ]
    },
    {
     "data": {
      "text/plain": [
       "56"
      ]
     },
     "metadata": {},
     "output_type": "display_data"
    },
    {
     "data": {
      "text/plain": [
       "'data/2024/raw/land/cian/cian_2024-06-11_10-24_raw_sudak.pkl'"
      ]
     },
     "metadata": {},
     "output_type": "display_data"
    },
    {
     "data": {
      "text/plain": [
       "'https://krym.cian.ru/kupit-dom-krym-sudak/'"
      ]
     },
     "metadata": {},
     "output_type": "display_data"
    },
    {
     "name": "stdout",
     "output_type": "stream",
     "text": [
      "[INFO    ] 2024-06-11 10:24:14 | page 1: 28 items\n",
      "[INFO    ] 2024-06-11 10:24:18 | page 2: 28 items\n",
      "[INFO    ] 2024-06-11 10:24:22 | page 3: 28 items\n",
      "[INFO    ] 2024-06-11 10:24:25 | page 4: 25 items\n"
     ]
    },
    {
     "data": {
      "text/plain": [
       "109"
      ]
     },
     "metadata": {},
     "output_type": "display_data"
    },
    {
     "data": {
      "text/plain": [
       "'data/2024/raw/house/cian/cian_2024-06-11_10-24_raw_sudak.pkl'"
      ]
     },
     "metadata": {},
     "output_type": "display_data"
    },
    {
     "name": "stdout",
     "output_type": "stream",
     "text": [
      "CPU times: user 40.5 s, sys: 1.66 s, total: 42.2 s\n",
      "Wall time: 15min 42s\n"
     ]
    }
   ],
   "source": [
    "%%time \n",
    "\n",
    "#from selenium.webdriver.firefox.options import Options\n",
    "#from selenium.webdriver.firefox.options import FirefoxProfile\n",
    "# profile_path = '/home/mechanoid/.mozilla/firefox/4btdfxw1.default-release'\n",
    "# options = Options()\n",
    "# options.profile = FirefoxProfile(profile_path) \n",
    "# options.headless = True\n",
    "# browser = webdriver.Firefox(options=options)\n",
    "\n",
    "options = webdriver.FirefoxOptions()\n",
    "options.headless = True\n",
    "browser = webdriver.Firefox(options=options)\n",
    "logging.info('open virtual browser')\n",
    "\n",
    "for s in source:\n",
    "\n",
    "    url = s['url']\n",
    "    place = s['place']\n",
    "    subfolder = s['subfolder'] \n",
    "    \n",
    "    display(url)\n",
    "    browser.get(url)\n",
    "    \n",
    "    data = CianParser().transform(browser)\n",
    "    assert len(data)>0\n",
    "    \n",
    "    df = pd.DataFrame(data)\n",
    "    df['ts'] = datetime.now()\n",
    "    df['place'] = place\n",
    "    \n",
    "    display( len(df) )\n",
    "    t_now = datetime.now().strftime('%Y-%m-%d_%H-%M')\n",
    "    fname = f'{dest_folder}/{subfolder}/cian/cian_{t_now}_raw_{place}.pkl'\n",
    "    df.to_pickle(fname)\n",
    "    display( fname )\n",
    "       \n",
    "browser.close()"
   ]
  },
  {
   "cell_type": "code",
   "execution_count": 9,
   "id": "ff5bb5ec",
   "metadata": {},
   "outputs": [
    {
     "name": "stdout",
     "output_type": "stream",
     "text": [
      "Вт 11 июн 2024 10:24:26 MSK\r\n"
     ]
    }
   ],
   "source": [
    "!date"
   ]
  },
  {
   "cell_type": "code",
   "execution_count": 10,
   "id": "9bb57abb",
   "metadata": {},
   "outputs": [],
   "source": [
    "# browser.close()"
   ]
  }
 ],
 "metadata": {
  "kernelspec": {
   "display_name": "Python 3 (ipykernel)",
   "language": "python",
   "name": "python3"
  },
  "language_info": {
   "codemirror_mode": {
    "name": "ipython",
    "version": 3
   },
   "file_extension": ".py",
   "mimetype": "text/x-python",
   "name": "python",
   "nbconvert_exporter": "python",
   "pygments_lexer": "ipython3",
   "version": "3.12.3"
  }
 },
 "nbformat": 4,
 "nbformat_minor": 5
}
