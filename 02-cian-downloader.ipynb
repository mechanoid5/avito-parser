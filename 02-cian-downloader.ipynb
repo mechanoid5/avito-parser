{
 "cells": [
  {
   "cell_type": "markdown",
   "id": "7ed68c56",
   "metadata": {},
   "source": [
    "__качаем объявления о продаже недвижимости с циан.ru__\n",
    "\n",
    "_Evgeny S. Borisov <parser@mechanoid.su>_"
   ]
  },
  {
   "cell_type": "code",
   "execution_count": 1,
   "id": "072330b0",
   "metadata": {},
   "outputs": [],
   "source": [
    "import logging\n",
    "import sys \n",
    "\n",
    "logging.basicConfig(\n",
    "        format=u'[%(levelname)-8s] %(asctime)s | %(message)s',\n",
    "        datefmt='%Y-%m-%d %H:%M:%S',\n",
    "        level=logging.INFO,\n",
    "        # level=logging.DEBUG,\n",
    "        stream=sys.stdout,\n",
    "    )"
   ]
  },
  {
   "cell_type": "code",
   "execution_count": 2,
   "id": "98a3f294",
   "metadata": {},
   "outputs": [],
   "source": [
    "from time import sleep\n",
    "from tqdm.auto import tqdm\n",
    "import pandas as pd\n",
    "from datetime import datetime \n",
    "\n",
    "pd.set_option('display.max_colwidth', None)\n",
    "pd.set_option('display.float_format', '{:.2f}'.format)\n",
    "tqdm.pandas()"
   ]
  },
  {
   "cell_type": "markdown",
   "id": "97716384",
   "metadata": {},
   "source": [
    "---"
   ]
  },
  {
   "cell_type": "code",
   "execution_count": 3,
   "id": "8c89b773",
   "metadata": {},
   "outputs": [],
   "source": [
    "source = [\n",
    "    {\n",
    "            'place': 'sevastopol',\n",
    "        'subfolder': 'flat',\n",
    "              'url': 'https://sevastopol.cian.ru/kupit-kvartiru/',\n",
    "    },{\n",
    "            'place': 'sevastopol',\n",
    "        'subfolder': 'land',\n",
    "              'url': 'https://sevastopol.cian.ru/kupit-zemelniy-uchastok/',\n",
    "    },{\n",
    "            'place': 'sevastopol',\n",
    "        'subfolder': 'house',\n",
    "              'url': 'https://sevastopol.cian.ru/kupit-dom/',\n",
    "    },{\n",
    "            'place': 'sudak',\n",
    "        'subfolder': 'flat',\n",
    "              'url': 'https://krym.cian.ru/kupit-kvartiru-krym-sudak/',\n",
    "    },{\n",
    "            'place': 'sudak',\n",
    "        'subfolder': 'land',\n",
    "              'url': 'https://krym.cian.ru/kupit-zemelniy-uchastok-krym-sudak/',\n",
    "    },{\n",
    "            'place': 'sudak',\n",
    "        'subfolder': 'house',\n",
    "              'url': 'https://krym.cian.ru/kupit-dom-krym-sudak/',\n",
    "    },    \n",
    "#     {\n",
    "#             'place': 'bahchisaray',\n",
    "#         'subfolder': 'flat',\n",
    "#               'url': 'https://krym.cian.ru/kupit-kvartiru-krym-bahchisaray/',\n",
    "#     }, {\n",
    "#             'place': 'bahchisaray',\n",
    "#         'subfolder': 'land',\n",
    "#               'url': 'https://krym.cian.ru/kupit-zemelniy-uchastok-krym-bahchisaray/',\n",
    "#     },{\n",
    "#             'place': 'bahchisaray',\n",
    "#         'subfolder': 'house',\n",
    "#               'url': 'https://krym.cian.ru/kupit-dom-krym-bahchisaray/',\n",
    "#     },\n",
    "\n",
    "]\n"
   ]
  },
  {
   "cell_type": "markdown",
   "id": "58b1d75f",
   "metadata": {},
   "source": [
    "---"
   ]
  },
  {
   "cell_type": "code",
   "execution_count": 4,
   "id": "84989450",
   "metadata": {},
   "outputs": [],
   "source": [
    "# from selenium import webdriver\n",
    "# from lib.cian import CianPageParser\n",
    "\n",
    "# browser = webdriver.Firefox()\n",
    "# browser.get(source[0]['url'])\n",
    "# data = CianPageParser().transform(browser)\n",
    "# browser.close()"
   ]
  },
  {
   "cell_type": "code",
   "execution_count": 5,
   "id": "6dffb73b",
   "metadata": {},
   "outputs": [],
   "source": [
    "# data\n",
    "# browser.close()"
   ]
  },
  {
   "cell_type": "markdown",
   "id": "d725357e",
   "metadata": {},
   "source": [
    "---"
   ]
  },
  {
   "cell_type": "code",
   "execution_count": 6,
   "id": "809e913f",
   "metadata": {},
   "outputs": [],
   "source": [
    "dest_folder = 'data/2024/raw'"
   ]
  },
  {
   "cell_type": "code",
   "execution_count": 7,
   "id": "3475a18d",
   "metadata": {},
   "outputs": [],
   "source": [
    "from selenium import webdriver\n",
    "# from selenium.webdriver.common.by import By\n",
    "from lib.cian import CianParser\n",
    "# from lib.cian import CianDataCleaner"
   ]
  },
  {
   "cell_type": "code",
   "execution_count": 8,
   "id": "4cd65147",
   "metadata": {
    "scrolled": false
   },
   "outputs": [
    {
     "name": "stdout",
     "output_type": "stream",
     "text": [
      "[WARNING ] 2024-08-12 10:58:16 | The geckodriver version (0.34.0) detected in PATH at /usr/bin/geckodriver might not be compatible with the detected firefox version (128.0.3); currently, geckodriver 0.35.0 is recommended for firefox 128.*, so it is advised to delete the driver in PATH and retry\n",
      "[INFO    ] 2024-08-12 10:58:17 | open virtual browser\n"
     ]
    },
    {
     "data": {
      "text/plain": [
       "'https://sevastopol.cian.ru/kupit-kvartiru/'"
      ]
     },
     "metadata": {},
     "output_type": "display_data"
    },
    {
     "name": "stdout",
     "output_type": "stream",
     "text": [
      "[INFO    ] 2024-08-12 10:58:29 | page 1: 28 items\n",
      "[INFO    ] 2024-08-12 10:58:38 | page 2: 28 items\n",
      "[INFO    ] 2024-08-12 10:58:46 | page 3: 28 items\n",
      "[INFO    ] 2024-08-12 10:58:53 | page 4: 28 items\n",
      "[INFO    ] 2024-08-12 10:58:59 | page 5: 28 items\n",
      "[INFO    ] 2024-08-12 10:59:06 | page 6: 28 items\n",
      "[INFO    ] 2024-08-12 10:59:12 | page 7: 28 items\n",
      "[INFO    ] 2024-08-12 10:59:22 | page 8: 28 items\n",
      "[INFO    ] 2024-08-12 10:59:31 | page 9: 28 items\n",
      "[INFO    ] 2024-08-12 10:59:39 | page 10: 28 items\n",
      "[INFO    ] 2024-08-12 10:59:46 | page 11: 28 items\n",
      "[INFO    ] 2024-08-12 10:59:52 | page 12: 28 items\n",
      "[INFO    ] 2024-08-12 10:59:57 | page 13: 28 items\n",
      "[INFO    ] 2024-08-12 11:00:02 | page 14: 28 items\n",
      "[INFO    ] 2024-08-12 11:00:08 | page 15: 28 items\n",
      "[INFO    ] 2024-08-12 11:00:12 | page 16: 28 items\n",
      "[INFO    ] 2024-08-12 11:00:16 | page 17: 28 items\n",
      "[INFO    ] 2024-08-12 11:00:24 | page 18: 28 items\n",
      "[INFO    ] 2024-08-12 11:00:30 | page 19: 28 items\n",
      "[INFO    ] 2024-08-12 11:00:37 | page 20: 28 items\n",
      "[INFO    ] 2024-08-12 11:00:42 | page 21: 28 items\n",
      "[INFO    ] 2024-08-12 11:00:47 | page 22: 28 items\n",
      "[INFO    ] 2024-08-12 11:00:52 | page 23: 28 items\n",
      "[INFO    ] 2024-08-12 11:00:59 | page 24: 28 items\n",
      "[INFO    ] 2024-08-12 11:01:06 | page 25: 28 items\n",
      "[INFO    ] 2024-08-12 11:01:13 | page 26: 28 items\n",
      "[INFO    ] 2024-08-12 11:01:25 | page 27: 28 items\n",
      "[INFO    ] 2024-08-12 11:01:31 | page 28: 28 items\n",
      "[INFO    ] 2024-08-12 11:01:35 | page 29: 28 items\n"
     ]
    },
    {
     "data": {
      "text/plain": [
       "812"
      ]
     },
     "metadata": {},
     "output_type": "display_data"
    },
    {
     "data": {
      "text/plain": [
       "'data/2024/raw/flat/cian/cian_2024-08-12_11-06_raw_sevastopol.pkl'"
      ]
     },
     "metadata": {},
     "output_type": "display_data"
    },
    {
     "data": {
      "text/plain": [
       "'https://sevastopol.cian.ru/kupit-zemelniy-uchastok/'"
      ]
     },
     "metadata": {},
     "output_type": "display_data"
    },
    {
     "name": "stdout",
     "output_type": "stream",
     "text": [
      "[INFO    ] 2024-08-12 11:06:45 | page 1: 28 items\n",
      "[INFO    ] 2024-08-12 11:06:59 | page 2: 28 items\n",
      "[INFO    ] 2024-08-12 11:07:05 | page 3: 28 items\n",
      "[INFO    ] 2024-08-12 11:07:10 | page 4: 28 items\n",
      "[INFO    ] 2024-08-12 11:07:16 | page 5: 28 items\n",
      "[INFO    ] 2024-08-12 11:07:22 | page 6: 28 items\n",
      "[INFO    ] 2024-08-12 11:07:27 | page 7: 28 items\n",
      "[INFO    ] 2024-08-12 11:07:31 | page 8: 28 items\n",
      "[INFO    ] 2024-08-12 11:07:36 | page 9: 28 items\n",
      "[INFO    ] 2024-08-12 11:07:41 | page 10: 28 items\n",
      "[INFO    ] 2024-08-12 11:07:47 | page 11: 28 items\n",
      "[INFO    ] 2024-08-12 11:07:52 | page 12: 28 items\n",
      "[INFO    ] 2024-08-12 11:07:57 | page 13: 28 items\n",
      "[INFO    ] 2024-08-12 11:08:01 | page 14: 28 items\n",
      "[INFO    ] 2024-08-12 11:08:06 | page 15: 25 items\n",
      "[INFO    ] 2024-08-12 11:08:10 | page 16: 28 items\n",
      "[INFO    ] 2024-08-12 11:08:13 | page 17: 28 items\n",
      "[INFO    ] 2024-08-12 11:08:18 | page 18: 28 items\n",
      "[INFO    ] 2024-08-12 11:08:22 | page 19: 28 items\n",
      "[INFO    ] 2024-08-12 11:08:25 | page 20: 28 items\n",
      "[INFO    ] 2024-08-12 11:08:30 | page 21: 28 items\n",
      "[INFO    ] 2024-08-12 11:08:34 | page 22: 28 items\n",
      "[INFO    ] 2024-08-12 11:08:38 | page 23: 28 items\n",
      "[INFO    ] 2024-08-12 11:08:43 | page 24: 28 items\n",
      "[INFO    ] 2024-08-12 11:08:46 | page 25: 28 items\n",
      "[INFO    ] 2024-08-12 11:08:50 | page 26: 28 items\n",
      "[INFO    ] 2024-08-12 11:08:59 | page 27: 28 items\n",
      "[INFO    ] 2024-08-12 11:09:05 | page 28: 28 items\n",
      "[INFO    ] 2024-08-12 11:09:09 | page 29: 28 items\n",
      "[INFO    ] 2024-08-12 11:09:15 | page 30: 28 items\n",
      "[INFO    ] 2024-08-12 11:09:20 | page 31: 28 items\n",
      "[INFO    ] 2024-08-12 11:09:24 | page 32: 28 items\n",
      "[INFO    ] 2024-08-12 11:09:28 | page 33: 28 items\n",
      "[INFO    ] 2024-08-12 11:09:33 | page 34: 28 items\n",
      "[INFO    ] 2024-08-12 11:09:36 | page 35: 28 items\n",
      "[INFO    ] 2024-08-12 11:09:41 | page 36: 28 items\n",
      "[INFO    ] 2024-08-12 11:09:46 | page 37: 28 items\n",
      "[INFO    ] 2024-08-12 11:09:49 | page 38: 28 items\n",
      "[INFO    ] 2024-08-12 11:09:58 | page 39: 28 items\n",
      "[INFO    ] 2024-08-12 11:10:05 | page 40: 28 items\n",
      "[INFO    ] 2024-08-12 11:10:13 | page 41: 28 items\n",
      "[INFO    ] 2024-08-12 11:10:19 | page 42: 28 items\n",
      "[INFO    ] 2024-08-12 11:10:25 | page 43: 28 items\n",
      "[INFO    ] 2024-08-12 11:10:28 | page 44: 28 items\n",
      "[INFO    ] 2024-08-12 11:10:32 | page 45: 28 items\n",
      "[INFO    ] 2024-08-12 11:10:36 | page 46: 28 items\n",
      "[INFO    ] 2024-08-12 11:10:40 | page 47: 28 items\n",
      "[INFO    ] 2024-08-12 11:10:44 | page 48: 28 items\n",
      "[INFO    ] 2024-08-12 11:10:48 | page 49: 28 items\n",
      "[INFO    ] 2024-08-12 11:10:53 | page 50: 28 items\n",
      "[INFO    ] 2024-08-12 11:10:57 | page 51: 28 items\n",
      "[INFO    ] 2024-08-12 11:10:58 | page 52: 0 items\n"
     ]
    },
    {
     "data": {
      "text/plain": [
       "1425"
      ]
     },
     "metadata": {},
     "output_type": "display_data"
    },
    {
     "data": {
      "text/plain": [
       "'data/2024/raw/land/cian/cian_2024-08-12_11-10_raw_sevastopol.pkl'"
      ]
     },
     "metadata": {},
     "output_type": "display_data"
    },
    {
     "data": {
      "text/plain": [
       "'https://sevastopol.cian.ru/kupit-dom/'"
      ]
     },
     "metadata": {},
     "output_type": "display_data"
    },
    {
     "name": "stdout",
     "output_type": "stream",
     "text": [
      "[INFO    ] 2024-08-12 11:11:06 | page 1: 28 items\n",
      "[INFO    ] 2024-08-12 11:11:20 | page 2: 28 items\n",
      "[INFO    ] 2024-08-12 11:11:28 | page 3: 28 items\n",
      "[INFO    ] 2024-08-12 11:11:36 | page 4: 28 items\n",
      "[INFO    ] 2024-08-12 11:11:44 | page 5: 28 items\n",
      "[INFO    ] 2024-08-12 11:11:52 | page 6: 28 items\n",
      "[INFO    ] 2024-08-12 11:11:56 | page 7: 28 items\n",
      "[INFO    ] 2024-08-12 11:11:56 | page 8: 0 items\n"
     ]
    },
    {
     "data": {
      "text/plain": [
       "196"
      ]
     },
     "metadata": {},
     "output_type": "display_data"
    },
    {
     "data": {
      "text/plain": [
       "'data/2024/raw/house/cian/cian_2024-08-12_11-11_raw_sevastopol.pkl'"
      ]
     },
     "metadata": {},
     "output_type": "display_data"
    },
    {
     "data": {
      "text/plain": [
       "'https://krym.cian.ru/kupit-kvartiru-krym-sudak/'"
      ]
     },
     "metadata": {},
     "output_type": "display_data"
    },
    {
     "name": "stdout",
     "output_type": "stream",
     "text": [
      "[INFO    ] 2024-08-12 11:12:01 | page 1: 28 items\n",
      "[INFO    ] 2024-08-12 11:12:09 | page 2: 28 items\n",
      "[INFO    ] 2024-08-12 11:12:09 | page 3: 0 items\n"
     ]
    },
    {
     "data": {
      "text/plain": [
       "56"
      ]
     },
     "metadata": {},
     "output_type": "display_data"
    },
    {
     "data": {
      "text/plain": [
       "'data/2024/raw/flat/cian/cian_2024-08-12_11-12_raw_sudak.pkl'"
      ]
     },
     "metadata": {},
     "output_type": "display_data"
    },
    {
     "data": {
      "text/plain": [
       "'https://krym.cian.ru/kupit-zemelniy-uchastok-krym-sudak/'"
      ]
     },
     "metadata": {},
     "output_type": "display_data"
    },
    {
     "name": "stdout",
     "output_type": "stream",
     "text": [
      "[INFO    ] 2024-08-12 11:12:15 | page 1: 28 items\n",
      "[INFO    ] 2024-08-12 11:12:20 | page 2: 28 items\n",
      "[INFO    ] 2024-08-12 11:12:26 | page 3: 28 items\n",
      "[INFO    ] 2024-08-12 11:12:26 | page 4: 0 items\n"
     ]
    },
    {
     "data": {
      "text/plain": [
       "84"
      ]
     },
     "metadata": {},
     "output_type": "display_data"
    },
    {
     "data": {
      "text/plain": [
       "'data/2024/raw/land/cian/cian_2024-08-12_11-12_raw_sudak.pkl'"
      ]
     },
     "metadata": {},
     "output_type": "display_data"
    },
    {
     "data": {
      "text/plain": [
       "'https://krym.cian.ru/kupit-dom-krym-sudak/'"
      ]
     },
     "metadata": {},
     "output_type": "display_data"
    },
    {
     "name": "stdout",
     "output_type": "stream",
     "text": [
      "[INFO    ] 2024-08-12 11:12:33 | page 1: 28 items\n",
      "[INFO    ] 2024-08-12 11:12:38 | page 2: 28 items\n",
      "[INFO    ] 2024-08-12 11:12:38 | page 3: 0 items\n"
     ]
    },
    {
     "data": {
      "text/plain": [
       "56"
      ]
     },
     "metadata": {},
     "output_type": "display_data"
    },
    {
     "data": {
      "text/plain": [
       "'data/2024/raw/house/cian/cian_2024-08-12_11-12_raw_sudak.pkl'"
      ]
     },
     "metadata": {},
     "output_type": "display_data"
    },
    {
     "name": "stdout",
     "output_type": "stream",
     "text": [
      "CPU times: user 21.7 s, sys: 908 ms, total: 22.6 s\n",
      "Wall time: 14min 22s\n"
     ]
    }
   ],
   "source": [
    "%%time \n",
    "\n",
    "#from selenium.webdriver.firefox.options import Options\n",
    "#from selenium.webdriver.firefox.options import FirefoxProfile\n",
    "# profile_path = '/home/mechanoid/.mozilla/firefox/4btdfxw1.default-release'\n",
    "# options = Options()\n",
    "# options.profile = FirefoxProfile(profile_path) \n",
    "# options.headless = True\n",
    "# browser = webdriver.Firefox(options=options)\n",
    "\n",
    "options = webdriver.FirefoxOptions()\n",
    "options.headless = True\n",
    "browser = webdriver.Firefox(options=options)\n",
    "logging.info('open virtual browser')\n",
    "\n",
    "for s in source:\n",
    "\n",
    "    url = s['url']\n",
    "    place = s['place']\n",
    "    subfolder = s['subfolder'] \n",
    "    \n",
    "    display(url)\n",
    "    browser.get(url)\n",
    "    \n",
    "    data = CianParser().transform(browser)\n",
    "    assert len(data)>0\n",
    "    \n",
    "    df = pd.DataFrame(data)\n",
    "    df['ts'] = datetime.now()\n",
    "    df['place'] = place\n",
    "    \n",
    "    display( len(df) )\n",
    "    t_now = datetime.now().strftime('%Y-%m-%d_%H-%M')\n",
    "    fname = f'{dest_folder}/{subfolder}/cian/cian_{t_now}_raw_{place}.pkl'\n",
    "    df.to_pickle(fname)\n",
    "    display( fname )\n",
    "       \n",
    "browser.close()"
   ]
  },
  {
   "cell_type": "code",
   "execution_count": 9,
   "id": "ff5bb5ec",
   "metadata": {},
   "outputs": [
    {
     "name": "stdout",
     "output_type": "stream",
     "text": [
      "Пн 12 авг 2024 11:12:38 MSK\r\n"
     ]
    }
   ],
   "source": [
    "!date"
   ]
  },
  {
   "cell_type": "code",
   "execution_count": 10,
   "id": "9bb57abb",
   "metadata": {},
   "outputs": [],
   "source": [
    "# browser.close()"
   ]
  }
 ],
 "metadata": {
  "kernelspec": {
   "display_name": "Python 3 (ipykernel)",
   "language": "python",
   "name": "python3"
  },
  "language_info": {
   "codemirror_mode": {
    "name": "ipython",
    "version": 3
   },
   "file_extension": ".py",
   "mimetype": "text/x-python",
   "name": "python",
   "nbconvert_exporter": "python",
   "pygments_lexer": "ipython3",
   "version": "3.12.4"
  }
 },
 "nbformat": 4,
 "nbformat_minor": 5
}
