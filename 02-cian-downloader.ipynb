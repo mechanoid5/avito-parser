{
 "cells": [
  {
   "cell_type": "markdown",
   "id": "7ed68c56",
   "metadata": {},
   "source": [
    "__качаем объявления о продаже недвижимости с циан.ru__\n",
    "\n",
    "_Evgeny S. Borisov <parser@mechanoid.su>_"
   ]
  },
  {
   "cell_type": "code",
   "execution_count": 1,
   "id": "072330b0",
   "metadata": {},
   "outputs": [],
   "source": [
    "import logging\n",
    "import sys \n",
    "\n",
    "logging.basicConfig(\n",
    "        format=u'[%(levelname)-8s] %(asctime)s | %(message)s',\n",
    "        datefmt='%Y-%m-%d %H:%M:%S',\n",
    "        level=logging.INFO,\n",
    "        # level=logging.DEBUG,\n",
    "        stream=sys.stdout,\n",
    "    )"
   ]
  },
  {
   "cell_type": "code",
   "execution_count": 2,
   "id": "98a3f294",
   "metadata": {},
   "outputs": [],
   "source": [
    "from time import sleep\n",
    "from tqdm.auto import tqdm\n",
    "import pandas as pd\n",
    "from datetime import datetime \n",
    "\n",
    "pd.set_option('display.max_colwidth', None)\n",
    "pd.set_option('display.float_format', '{:.2f}'.format)\n",
    "tqdm.pandas()"
   ]
  },
  {
   "cell_type": "markdown",
   "id": "97716384",
   "metadata": {},
   "source": [
    "---"
   ]
  },
  {
   "cell_type": "code",
   "execution_count": 3,
   "id": "8c89b773",
   "metadata": {},
   "outputs": [],
   "source": [
    "source = [\n",
    "    {\n",
    "            'place': 'sevastopol',\n",
    "        'subfolder': 'flat',\n",
    "              'url': 'https://sevastopol.cian.ru/kupit-kvartiru/',\n",
    "    },{\n",
    "            'place': 'sevastopol',\n",
    "        'subfolder': 'land',\n",
    "              'url': 'https://sevastopol.cian.ru/kupit-zemelniy-uchastok/',\n",
    "    },{\n",
    "            'place': 'sevastopol',\n",
    "        'subfolder': 'house',\n",
    "              'url': 'https://sevastopol.cian.ru/kupit-dom/',\n",
    "    },{\n",
    "            'place': 'sudak',\n",
    "        'subfolder': 'flat',\n",
    "              'url': 'https://krym.cian.ru/kupit-kvartiru-krym-sudak/',\n",
    "    },{\n",
    "            'place': 'sudak',\n",
    "        'subfolder': 'land',\n",
    "              'url': 'https://krym.cian.ru/kupit-zemelniy-uchastok-krym-sudak/',\n",
    "    },{\n",
    "            'place': 'sudak',\n",
    "        'subfolder': 'house',\n",
    "              'url': 'https://krym.cian.ru/kupit-dom-krym-sudak/',\n",
    "    },    \n",
    "#     {\n",
    "#             'place': 'bahchisaray',\n",
    "#         'subfolder': 'flat',\n",
    "#               'url': 'https://krym.cian.ru/kupit-kvartiru-krym-bahchisaray/',\n",
    "#     }, {\n",
    "#             'place': 'bahchisaray',\n",
    "#         'subfolder': 'land',\n",
    "#               'url': 'https://krym.cian.ru/kupit-zemelniy-uchastok-krym-bahchisaray/',\n",
    "#     },{\n",
    "#             'place': 'bahchisaray',\n",
    "#         'subfolder': 'house',\n",
    "#               'url': 'https://krym.cian.ru/kupit-dom-krym-bahchisaray/',\n",
    "#     },\n",
    "\n",
    "]\n"
   ]
  },
  {
   "cell_type": "markdown",
   "id": "58b1d75f",
   "metadata": {},
   "source": [
    "---"
   ]
  },
  {
   "cell_type": "code",
   "execution_count": 4,
   "id": "84989450",
   "metadata": {},
   "outputs": [],
   "source": [
    "# from selenium import webdriver\n",
    "# from lib.cian import CianPageParser\n",
    "\n",
    "# browser = webdriver.Firefox()\n",
    "# browser.get(source[0]['url'])\n",
    "# data = CianPageParser().transform(browser)\n",
    "# browser.close()"
   ]
  },
  {
   "cell_type": "code",
   "execution_count": 5,
   "id": "6dffb73b",
   "metadata": {},
   "outputs": [],
   "source": [
    "# data\n",
    "# browser.close()"
   ]
  },
  {
   "cell_type": "markdown",
   "id": "d725357e",
   "metadata": {},
   "source": [
    "---"
   ]
  },
  {
   "cell_type": "code",
   "execution_count": 6,
   "id": "809e913f",
   "metadata": {},
   "outputs": [],
   "source": [
    "dest_folder = 'data/2024/raw'"
   ]
  },
  {
   "cell_type": "code",
   "execution_count": 7,
   "id": "3475a18d",
   "metadata": {},
   "outputs": [],
   "source": [
    "from selenium import webdriver\n",
    "# from selenium.webdriver.common.by import By\n",
    "from lib.cian import CianParser\n",
    "# from lib.cian import CianDataCleaner"
   ]
  },
  {
   "cell_type": "code",
   "execution_count": 8,
   "id": "4cd65147",
   "metadata": {
    "scrolled": false
   },
   "outputs": [
    {
     "name": "stdout",
     "output_type": "stream",
     "text": [
      "[INFO    ] 2024-06-13 11:02:50 | open virtual browser\n"
     ]
    },
    {
     "data": {
      "text/plain": [
       "'https://sevastopol.cian.ru/kupit-kvartiru/'"
      ]
     },
     "metadata": {},
     "output_type": "display_data"
    },
    {
     "name": "stdout",
     "output_type": "stream",
     "text": [
      "[INFO    ] 2024-06-13 11:03:07 | page 1: 28 items\n",
      "[INFO    ] 2024-06-13 11:03:15 | page 2: 28 items\n",
      "[INFO    ] 2024-06-13 11:03:23 | page 3: 28 items\n",
      "[INFO    ] 2024-06-13 11:03:30 | page 4: 28 items\n",
      "[INFO    ] 2024-06-13 11:03:38 | page 5: 28 items\n",
      "[INFO    ] 2024-06-13 11:03:46 | page 6: 28 items\n",
      "[INFO    ] 2024-06-13 11:03:52 | page 7: 28 items\n",
      "[INFO    ] 2024-06-13 11:03:57 | page 8: 28 items\n",
      "[INFO    ] 2024-06-13 11:04:03 | page 9: 28 items\n",
      "[INFO    ] 2024-06-13 11:04:12 | page 10: 28 items\n",
      "[INFO    ] 2024-06-13 11:04:19 | page 11: 28 items\n",
      "[INFO    ] 2024-06-13 11:04:25 | page 12: 28 items\n",
      "[INFO    ] 2024-06-13 11:04:32 | page 13: 28 items\n",
      "[INFO    ] 2024-06-13 11:04:37 | page 14: 28 items\n",
      "[INFO    ] 2024-06-13 11:04:41 | page 15: 28 items\n",
      "[INFO    ] 2024-06-13 11:04:45 | page 16: 28 items\n",
      "[INFO    ] 2024-06-13 11:04:48 | page 17: 28 items\n",
      "[INFO    ] 2024-06-13 11:04:52 | page 18: 28 items\n",
      "[INFO    ] 2024-06-13 11:04:56 | page 19: 28 items\n",
      "[INFO    ] 2024-06-13 11:05:00 | page 20: 28 items\n",
      "[INFO    ] 2024-06-13 11:05:05 | page 21: 28 items\n",
      "[INFO    ] 2024-06-13 11:05:09 | page 22: 28 items\n",
      "[INFO    ] 2024-06-13 11:05:13 | page 23: 28 items\n",
      "[INFO    ] 2024-06-13 11:05:22 | page 24: 28 items\n",
      "[INFO    ] 2024-06-13 11:05:29 | page 25: 28 items\n",
      "[INFO    ] 2024-06-13 11:05:37 | page 26: 28 items\n",
      "[INFO    ] 2024-06-13 11:05:44 | page 27: 28 items\n",
      "[INFO    ] 2024-06-13 11:05:53 | page 28: 28 items\n",
      "[INFO    ] 2024-06-13 11:06:00 | page 29: 28 items\n",
      "[INFO    ] 2024-06-13 11:06:08 | page 30: 28 items\n",
      "[INFO    ] 2024-06-13 11:06:17 | page 31: 28 items\n",
      "[INFO    ] 2024-06-13 11:06:30 | page 32: 28 items\n",
      "[INFO    ] 2024-06-13 11:06:36 | page 33: 28 items\n",
      "[INFO    ] 2024-06-13 11:06:43 | page 34: 27 items\n",
      "[INFO    ] 2024-06-13 11:06:50 | page 35: 28 items\n",
      "[INFO    ] 2024-06-13 11:06:59 | page 36: 28 items\n",
      "[INFO    ] 2024-06-13 11:07:06 | page 37: 28 items\n",
      "[INFO    ] 2024-06-13 11:07:13 | page 38: 28 items\n",
      "[INFO    ] 2024-06-13 11:07:21 | page 39: 27 items\n",
      "[INFO    ] 2024-06-13 11:07:28 | page 40: 28 items\n",
      "[INFO    ] 2024-06-13 11:07:34 | page 41: 28 items\n",
      "[INFO    ] 2024-06-13 11:07:43 | page 42: 28 items\n",
      "[INFO    ] 2024-06-13 11:07:49 | page 43: 28 items\n",
      "[INFO    ] 2024-06-13 11:07:57 | page 44: 28 items\n",
      "[INFO    ] 2024-06-13 11:08:04 | page 45: 27 items\n",
      "[INFO    ] 2024-06-13 11:08:11 | page 46: 28 items\n",
      "[INFO    ] 2024-06-13 11:08:18 | page 47: 27 items\n",
      "[INFO    ] 2024-06-13 11:08:26 | page 48: 28 items\n",
      "[INFO    ] 2024-06-13 11:08:33 | page 49: 28 items\n",
      "[INFO    ] 2024-06-13 11:08:40 | page 50: 28 items\n",
      "[INFO    ] 2024-06-13 11:08:48 | page 51: 28 items\n",
      "[INFO    ] 2024-06-13 11:08:55 | page 52: 28 items\n",
      "[INFO    ] 2024-06-13 11:09:02 | page 53: 28 items\n",
      "[INFO    ] 2024-06-13 11:09:09 | page 54: 24 items\n"
     ]
    },
    {
     "data": {
      "text/plain": [
       "1504"
      ]
     },
     "metadata": {},
     "output_type": "display_data"
    },
    {
     "data": {
      "text/plain": [
       "'data/2024/raw/flat/cian/cian_2024-06-13_11-09_raw_sevastopol.pkl'"
      ]
     },
     "metadata": {},
     "output_type": "display_data"
    },
    {
     "data": {
      "text/plain": [
       "'https://sevastopol.cian.ru/kupit-zemelniy-uchastok/'"
      ]
     },
     "metadata": {},
     "output_type": "display_data"
    },
    {
     "name": "stdout",
     "output_type": "stream",
     "text": [
      "[INFO    ] 2024-06-13 11:09:19 | page 1: 28 items\n",
      "[INFO    ] 2024-06-13 11:09:25 | page 2: 28 items\n",
      "[INFO    ] 2024-06-13 11:09:34 | page 3: 28 items\n",
      "[INFO    ] 2024-06-13 11:09:41 | page 4: 28 items\n",
      "[INFO    ] 2024-06-13 11:09:48 | page 5: 28 items\n",
      "[INFO    ] 2024-06-13 11:09:55 | page 6: 28 items\n",
      "[INFO    ] 2024-06-13 11:10:01 | page 7: 28 items\n",
      "[INFO    ] 2024-06-13 11:10:09 | page 8: 28 items\n",
      "[INFO    ] 2024-06-13 11:10:16 | page 9: 28 items\n",
      "[INFO    ] 2024-06-13 11:10:23 | page 10: 28 items\n",
      "[INFO    ] 2024-06-13 11:10:30 | page 11: 28 items\n",
      "[INFO    ] 2024-06-13 11:10:36 | page 12: 28 items\n",
      "[INFO    ] 2024-06-13 11:10:43 | page 13: 28 items\n",
      "[INFO    ] 2024-06-13 11:10:50 | page 14: 28 items\n",
      "[INFO    ] 2024-06-13 11:10:57 | page 15: 25 items\n",
      "[INFO    ] 2024-06-13 11:11:03 | page 16: 28 items\n",
      "[INFO    ] 2024-06-13 11:11:10 | page 17: 28 items\n"
     ]
    },
    {
     "data": {
      "text/plain": [
       "473"
      ]
     },
     "metadata": {},
     "output_type": "display_data"
    },
    {
     "data": {
      "text/plain": [
       "'data/2024/raw/land/cian/cian_2024-06-13_11-16_raw_sevastopol.pkl'"
      ]
     },
     "metadata": {},
     "output_type": "display_data"
    },
    {
     "data": {
      "text/plain": [
       "'https://sevastopol.cian.ru/kupit-dom/'"
      ]
     },
     "metadata": {},
     "output_type": "display_data"
    },
    {
     "name": "stdout",
     "output_type": "stream",
     "text": [
      "[INFO    ] 2024-06-13 11:17:17 | page 1: 28 items\n",
      "[INFO    ] 2024-06-13 11:17:27 | page 2: 28 items\n",
      "[INFO    ] 2024-06-13 11:17:33 | page 3: 28 items\n",
      "[INFO    ] 2024-06-13 11:17:41 | page 4: 28 items\n",
      "[INFO    ] 2024-06-13 11:17:49 | page 5: 28 items\n",
      "[INFO    ] 2024-06-13 11:17:56 | page 6: 28 items\n",
      "[INFO    ] 2024-06-13 11:18:02 | page 7: 28 items\n",
      "[INFO    ] 2024-06-13 11:18:07 | page 8: 28 items\n",
      "[INFO    ] 2024-06-13 11:18:15 | page 9: 28 items\n",
      "[INFO    ] 2024-06-13 11:18:22 | page 10: 28 items\n",
      "[INFO    ] 2024-06-13 11:18:30 | page 11: 28 items\n",
      "[INFO    ] 2024-06-13 11:18:34 | page 12: 28 items\n",
      "[INFO    ] 2024-06-13 11:18:39 | page 13: 28 items\n",
      "[INFO    ] 2024-06-13 11:18:43 | page 14: 28 items\n",
      "[INFO    ] 2024-06-13 11:18:48 | page 15: 25 items\n",
      "[INFO    ] 2024-06-13 11:18:57 | page 16: 28 items\n",
      "[INFO    ] 2024-06-13 11:19:01 | page 17: 28 items\n",
      "[INFO    ] 2024-06-13 11:19:09 | page 18: 28 items\n",
      "[INFO    ] 2024-06-13 11:19:18 | page 19: 28 items\n",
      "[INFO    ] 2024-06-13 11:19:22 | page 20: 28 items\n",
      "[INFO    ] 2024-06-13 11:19:27 | page 21: 28 items\n",
      "[INFO    ] 2024-06-13 11:19:30 | page 22: 28 items\n",
      "[INFO    ] 2024-06-13 11:19:34 | page 23: 28 items\n",
      "[INFO    ] 2024-06-13 11:19:42 | page 24: 28 items\n",
      "[INFO    ] 2024-06-13 11:19:46 | page 25: 28 items\n",
      "[INFO    ] 2024-06-13 11:19:50 | page 26: 28 items\n",
      "[INFO    ] 2024-06-13 11:19:56 | page 27: 28 items\n",
      "[INFO    ] 2024-06-13 11:20:00 | page 28: 28 items\n",
      "[INFO    ] 2024-06-13 11:20:04 | page 29: 28 items\n",
      "[INFO    ] 2024-06-13 11:20:08 | page 30: 28 items\n",
      "[INFO    ] 2024-06-13 11:20:14 | page 31: 28 items\n",
      "[INFO    ] 2024-06-13 11:20:20 | page 32: 28 items\n",
      "[INFO    ] 2024-06-13 11:20:24 | page 33: 27 items\n",
      "[INFO    ] 2024-06-13 11:20:28 | page 34: 28 items\n",
      "[INFO    ] 2024-06-13 11:20:33 | page 35: 28 items\n",
      "[INFO    ] 2024-06-13 11:20:36 | page 36: 28 items\n",
      "[INFO    ] 2024-06-13 11:20:40 | page 37: 28 items\n",
      "[INFO    ] 2024-06-13 11:20:44 | page 38: 28 items\n",
      "[INFO    ] 2024-06-13 11:20:49 | page 39: 28 items\n",
      "[INFO    ] 2024-06-13 11:20:56 | page 40: 28 items\n",
      "[INFO    ] 2024-06-13 11:21:03 | page 41: 27 items\n",
      "[INFO    ] 2024-06-13 11:21:09 | page 42: 28 items\n",
      "[INFO    ] 2024-06-13 11:21:17 | page 43: 28 items\n",
      "[INFO    ] 2024-06-13 11:21:24 | page 44: 28 items\n",
      "[INFO    ] 2024-06-13 11:21:30 | page 45: 28 items\n",
      "[INFO    ] 2024-06-13 11:21:38 | page 46: 28 items\n",
      "[INFO    ] 2024-06-13 11:21:43 | page 47: 28 items\n",
      "[INFO    ] 2024-06-13 11:21:49 | page 48: 28 items\n",
      "[INFO    ] 2024-06-13 11:21:53 | page 49: 28 items\n",
      "[INFO    ] 2024-06-13 11:21:57 | page 50: 28 items\n",
      "[INFO    ] 2024-06-13 11:22:04 | page 51: 28 items\n",
      "[INFO    ] 2024-06-13 11:22:08 | page 52: 28 items\n",
      "[INFO    ] 2024-06-13 11:22:15 | page 53: 28 items\n",
      "[INFO    ] 2024-06-13 11:22:18 | page 54: 24 items\n"
     ]
    },
    {
     "data": {
      "text/plain": [
       "1503"
      ]
     },
     "metadata": {},
     "output_type": "display_data"
    },
    {
     "data": {
      "text/plain": [
       "'data/2024/raw/house/cian/cian_2024-06-13_11-22_raw_sevastopol.pkl'"
      ]
     },
     "metadata": {},
     "output_type": "display_data"
    },
    {
     "data": {
      "text/plain": [
       "'https://krym.cian.ru/kupit-kvartiru-krym-sudak/'"
      ]
     },
     "metadata": {},
     "output_type": "display_data"
    },
    {
     "name": "stdout",
     "output_type": "stream",
     "text": [
      "[INFO    ] 2024-06-13 11:22:26 | page 1: 28 items\n",
      "[INFO    ] 2024-06-13 11:22:31 | page 2: 28 items\n",
      "[INFO    ] 2024-06-13 11:22:37 | page 3: 28 items\n",
      "[INFO    ] 2024-06-13 11:22:44 | page 4: 28 items\n",
      "[INFO    ] 2024-06-13 11:22:51 | page 5: 28 items\n",
      "[INFO    ] 2024-06-13 11:22:58 | page 6: 28 items\n",
      "[INFO    ] 2024-06-13 11:23:05 | page 7: 28 items\n",
      "[INFO    ] 2024-06-13 11:23:09 | page 8: 28 items\n",
      "[INFO    ] 2024-06-13 11:23:14 | page 9: 25 items\n"
     ]
    },
    {
     "data": {
      "text/plain": [
       "249"
      ]
     },
     "metadata": {},
     "output_type": "display_data"
    },
    {
     "data": {
      "text/plain": [
       "'data/2024/raw/flat/cian/cian_2024-06-13_11-23_raw_sudak.pkl'"
      ]
     },
     "metadata": {},
     "output_type": "display_data"
    },
    {
     "data": {
      "text/plain": [
       "'https://krym.cian.ru/kupit-zemelniy-uchastok-krym-sudak/'"
      ]
     },
     "metadata": {},
     "output_type": "display_data"
    },
    {
     "name": "stdout",
     "output_type": "stream",
     "text": [
      "[INFO    ] 2024-06-13 11:23:19 | page 1: 28 items\n",
      "[INFO    ] 2024-06-13 11:23:23 | page 2: 28 items\n"
     ]
    },
    {
     "data": {
      "text/plain": [
       "56"
      ]
     },
     "metadata": {},
     "output_type": "display_data"
    },
    {
     "data": {
      "text/plain": [
       "'data/2024/raw/land/cian/cian_2024-06-13_11-23_raw_sudak.pkl'"
      ]
     },
     "metadata": {},
     "output_type": "display_data"
    },
    {
     "data": {
      "text/plain": [
       "'https://krym.cian.ru/kupit-dom-krym-sudak/'"
      ]
     },
     "metadata": {},
     "output_type": "display_data"
    },
    {
     "name": "stdout",
     "output_type": "stream",
     "text": [
      "[INFO    ] 2024-06-13 11:23:28 | page 1: 28 items\n",
      "[INFO    ] 2024-06-13 11:23:32 | page 2: 28 items\n",
      "[INFO    ] 2024-06-13 11:23:36 | page 3: 28 items\n",
      "[INFO    ] 2024-06-13 11:23:40 | page 4: 25 items\n"
     ]
    },
    {
     "data": {
      "text/plain": [
       "109"
      ]
     },
     "metadata": {},
     "output_type": "display_data"
    },
    {
     "data": {
      "text/plain": [
       "'data/2024/raw/house/cian/cian_2024-06-13_11-23_raw_sudak.pkl'"
      ]
     },
     "metadata": {},
     "output_type": "display_data"
    },
    {
     "name": "stdout",
     "output_type": "stream",
     "text": [
      "CPU times: user 31.8 s, sys: 1.3 s, total: 33.1 s\n",
      "Wall time: 20min 51s\n"
     ]
    }
   ],
   "source": [
    "%%time \n",
    "\n",
    "#from selenium.webdriver.firefox.options import Options\n",
    "#from selenium.webdriver.firefox.options import FirefoxProfile\n",
    "# profile_path = '/home/mechanoid/.mozilla/firefox/4btdfxw1.default-release'\n",
    "# options = Options()\n",
    "# options.profile = FirefoxProfile(profile_path) \n",
    "# options.headless = True\n",
    "# browser = webdriver.Firefox(options=options)\n",
    "\n",
    "options = webdriver.FirefoxOptions()\n",
    "options.headless = True\n",
    "browser = webdriver.Firefox(options=options)\n",
    "logging.info('open virtual browser')\n",
    "\n",
    "for s in source:\n",
    "\n",
    "    url = s['url']\n",
    "    place = s['place']\n",
    "    subfolder = s['subfolder'] \n",
    "    \n",
    "    display(url)\n",
    "    browser.get(url)\n",
    "    \n",
    "    data = CianParser().transform(browser)\n",
    "    assert len(data)>0\n",
    "    \n",
    "    df = pd.DataFrame(data)\n",
    "    df['ts'] = datetime.now()\n",
    "    df['place'] = place\n",
    "    \n",
    "    display( len(df) )\n",
    "    t_now = datetime.now().strftime('%Y-%m-%d_%H-%M')\n",
    "    fname = f'{dest_folder}/{subfolder}/cian/cian_{t_now}_raw_{place}.pkl'\n",
    "    df.to_pickle(fname)\n",
    "    display( fname )\n",
    "       \n",
    "browser.close()"
   ]
  },
  {
   "cell_type": "code",
   "execution_count": 9,
   "id": "ff5bb5ec",
   "metadata": {},
   "outputs": [
    {
     "name": "stdout",
     "output_type": "stream",
     "text": [
      "Чт 13 июн 2024 11:23:40 MSK\r\n"
     ]
    }
   ],
   "source": [
    "!date"
   ]
  },
  {
   "cell_type": "code",
   "execution_count": 10,
   "id": "9bb57abb",
   "metadata": {},
   "outputs": [],
   "source": [
    "# browser.close()"
   ]
  }
 ],
 "metadata": {
  "kernelspec": {
   "display_name": "Python 3 (ipykernel)",
   "language": "python",
   "name": "python3"
  },
  "language_info": {
   "codemirror_mode": {
    "name": "ipython",
    "version": 3
   },
   "file_extension": ".py",
   "mimetype": "text/x-python",
   "name": "python",
   "nbconvert_exporter": "python",
   "pygments_lexer": "ipython3",
   "version": "3.12.3"
  }
 },
 "nbformat": 4,
 "nbformat_minor": 5
}
