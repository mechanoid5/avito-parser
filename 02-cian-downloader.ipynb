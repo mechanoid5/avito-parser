{
 "cells": [
  {
   "cell_type": "markdown",
   "id": "edb73f62",
   "metadata": {},
   "source": [
    "__применение парсера объявлений циан.ru__\n",
    "\n",
    "_Evgeny S. Borisov <parser@mechanoid.su>_"
   ]
  },
  {
   "cell_type": "code",
   "execution_count": 1,
   "id": "8e37d325",
   "metadata": {},
   "outputs": [],
   "source": [
    "import sys\n",
    "import re\n",
    "import logging\n",
    "from datetime import datetime as dtm\n",
    "from tqdm.notebook import tqdm\n",
    "import pandas as pd\n",
    "from bs4 import BeautifulSoup\n",
    "from time import sleep\n",
    "from random import random"
   ]
  },
  {
   "cell_type": "code",
   "execution_count": 2,
   "id": "202ec0cb",
   "metadata": {},
   "outputs": [],
   "source": [
    "pd.set_option('display.max_colwidth', None)\n",
    "pd.set_option('display.float_format', '{:.2f}'.format)\n",
    "tqdm.pandas()\n",
    "\n",
    "logging.basicConfig(\n",
    "        format=u'[%(levelname)-8s] %(asctime)s | %(message)s',\n",
    "        datefmt='%Y-%m-%d %H:%M:%S',\n",
    "        level=logging.INFO,\n",
    "        # level=logging.DEBUG,\n",
    "        stream=sys.stdout,\n",
    "    )"
   ]
  },
  {
   "cell_type": "code",
   "execution_count": 3,
   "id": "3411b55d",
   "metadata": {},
   "outputs": [],
   "source": [
    "raw_data_path = 'data/raw/cian' # каталог с файлами объявлений"
   ]
  },
  {
   "cell_type": "code",
   "execution_count": 4,
   "id": "b036cb34",
   "metadata": {},
   "outputs": [],
   "source": [
    "profile_path = '/home/mechanoid/.mozilla/firefox/p144xo2m.default-release'\n",
    "# base_url, req_param = 'https://sevastopol.cian.ru/kupit-kvartiru/', ''\n",
    "base_url, req_param ='https://www.cian.ru/cat.php', 'deal_type=sale&offer_type=flat&region=184723'"
   ]
  },
  {
   "cell_type": "code",
   "execution_count": 5,
   "id": "3e42986b",
   "metadata": {},
   "outputs": [
    {
     "name": "stdout",
     "output_type": "stream",
     "text": [
      "[INFO    ] 2022-09-08 14:16:39 | DownloaderSeleniumFirefox: downloader init\n",
      "[INFO    ] 2022-09-08 14:16:39 | DownloaderSeleniumFirefox: open virtual browser\n",
      "[INFO    ] 2022-09-08 14:16:41 | AdsListParser: downloader init\n",
      "[INFO    ] 2022-09-08 14:16:41 | CianParser: downloader init\n",
      "[INFO    ] 2022-09-08 14:16:41 | AdsListParser: start read and parse pages...\n",
      "[INFO    ] 2022-09-08 14:16:49 | AdsListParser: read page 1\n",
      "[INFO    ] 2022-09-08 14:17:01 | AdsListParser: read page 2\n",
      "[INFO    ] 2022-09-08 14:17:11 | AdsListParser: read page 3\n",
      "[INFO    ] 2022-09-08 14:17:24 | AdsListParser: read page 4\n",
      "[INFO    ] 2022-09-08 14:17:34 | AdsListParser: read page 5\n",
      "[INFO    ] 2022-09-08 14:17:48 | AdsListParser: read page 6\n",
      "[INFO    ] 2022-09-08 14:17:54 | AdsListParser: read page 7\n",
      "[INFO    ] 2022-09-08 14:18:09 | AdsListParser: read page 8\n",
      "[INFO    ] 2022-09-08 14:18:15 | AdsListParser: read page 9\n",
      "[INFO    ] 2022-09-08 14:18:29 | AdsListParser: read page 10\n",
      "[INFO    ] 2022-09-08 14:18:44 | AdsListParser: read page 11\n",
      "[INFO    ] 2022-09-08 14:18:59 | AdsListParser: read page 12\n",
      "[INFO    ] 2022-09-08 14:19:08 | AdsListParser: read page 13\n",
      "[INFO    ] 2022-09-08 14:19:24 | AdsListParser: read page 14\n",
      "[INFO    ] 2022-09-08 14:19:40 | AdsListParser: read page 15\n",
      "[INFO    ] 2022-09-08 14:19:48 | AdsListParser: read page 16\n",
      "[INFO    ] 2022-09-08 14:19:56 | AdsListParser: read page 17\n",
      "[INFO    ] 2022-09-08 14:20:09 | AdsListParser: read page 18\n",
      "[INFO    ] 2022-09-08 14:20:14 | AdsListParser: read page 19\n",
      "[INFO    ] 2022-09-08 14:20:29 | AdsListParser: read page 20\n",
      "[INFO    ] 2022-09-08 14:20:35 | AdsListParser: read page 21\n",
      "[INFO    ] 2022-09-08 14:20:40 | AdsListParser: read page 22\n",
      "[INFO    ] 2022-09-08 14:20:55 | AdsListParser: read page 23\n",
      "[INFO    ] 2022-09-08 14:21:05 | AdsListParser: read page 24\n",
      "[INFO    ] 2022-09-08 14:21:13 | AdsListParser: read page 25\n",
      "[INFO    ] 2022-09-08 14:21:22 | AdsListParser: read page 26\n",
      "[INFO    ] 2022-09-08 14:21:29 | AdsListParser: read page 27\n",
      "[INFO    ] 2022-09-08 14:21:40 | AdsListParser: read page 28\n",
      "[INFO    ] 2022-09-08 14:21:47 | AdsListParser: read page 29\n",
      "[INFO    ] 2022-09-08 14:21:54 | AdsListParser: read page 30\n",
      "[INFO    ] 2022-09-08 14:21:59 | AdsListParser: read page 31\n",
      "[INFO    ] 2022-09-08 14:22:10 | AdsListParser: read page 32\n",
      "[INFO    ] 2022-09-08 14:22:16 | AdsListParser: read page 33\n",
      "[INFO    ] 2022-09-08 14:22:23 | AdsListParser: read page 34\n",
      "[INFO    ] 2022-09-08 14:22:36 | AdsListParser: read page 35\n",
      "[INFO    ] 2022-09-08 14:22:45 | AdsListParser: read page 36\n",
      "[INFO    ] 2022-09-08 14:22:59 | AdsListParser: read page 37\n",
      "[INFO    ] 2022-09-08 14:23:10 | AdsListParser: read page 38\n",
      "[INFO    ] 2022-09-08 14:23:21 | AdsListParser: read page 39\n",
      "[INFO    ] 2022-09-08 14:23:31 | AdsListParser: read page 40\n",
      "[INFO    ] 2022-09-08 14:23:40 | AdsListParser: read page 41\n",
      "[INFO    ] 2022-09-08 14:23:47 | AdsListParser: read page 42\n",
      "[INFO    ] 2022-09-08 14:23:54 | AdsListParser: read page 43\n",
      "[INFO    ] 2022-09-08 14:23:58 | AdsListParser: read page 44\n",
      "[INFO    ] 2022-09-08 14:24:02 | AdsListParser: read page 45\n",
      "[INFO    ] 2022-09-08 14:24:07 | AdsListParser: read page 46\n",
      "[INFO    ] 2022-09-08 14:24:14 | AdsListParser: read page 47\n",
      "[INFO    ] 2022-09-08 14:24:22 | AdsListParser: read page 48\n",
      "[INFO    ] 2022-09-08 14:24:28 | AdsListParser: read page 49\n",
      "[INFO    ] 2022-09-08 14:24:34 | AdsListParser: read page 50\n",
      "[INFO    ] 2022-09-08 14:24:42 | AdsListParser: read page 51\n",
      "[INFO    ] 2022-09-08 14:24:54 | AdsListParser: read page 52\n",
      "[INFO    ] 2022-09-08 14:25:01 | AdsListParser: read page 53\n",
      "[INFO    ] 2022-09-08 14:25:06 | AdsListParser: read page 54\n",
      "[INFO    ] 2022-09-08 14:25:06 | AdsListParser: last page detected\n",
      "[INFO    ] 2022-09-08 14:25:06 | DownloaderSeleniumFirefox: close virtual browser\n",
      "1509\n",
      "CPU times: user 13 s, sys: 299 ms, total: 13.3 s\n",
      "Wall time: 8min 27s\n"
     ]
    }
   ],
   "source": [
    "%%time\n",
    "\n",
    "# from lib.downloader import DownloaderSimple\n",
    "# from lib.parser import AdsListParser\n",
    "from lib.downloader import DownloaderSeleniumFirefox\n",
    "from lib.cian import CianParser\n",
    "\n",
    "\n",
    "df,html = CianParser(\n",
    "        base_url = base_url,\n",
    "        driver=DownloaderSeleniumFirefox(profile_path),\n",
    "        # driver=DownloaderSimple(),\n",
    "    ).load(req_param=req_param, keep_html=True) # , npage_start=53) # , page_limit=3 ) #\n",
    "\n",
    "print(len(df))"
   ]
  },
  {
   "cell_type": "code",
   "execution_count": 6,
   "id": "042e3e74",
   "metadata": {},
   "outputs": [
    {
     "data": {
      "text/html": [
       "<div>\n",
       "<style scoped>\n",
       "    .dataframe tbody tr th:only-of-type {\n",
       "        vertical-align: middle;\n",
       "    }\n",
       "\n",
       "    .dataframe tbody tr th {\n",
       "        vertical-align: top;\n",
       "    }\n",
       "\n",
       "    .dataframe thead th {\n",
       "        text-align: right;\n",
       "    }\n",
       "</style>\n",
       "<table border=\"1\" class=\"dataframe\">\n",
       "  <thead>\n",
       "    <tr style=\"text-align: right;\">\n",
       "      <th></th>\n",
       "      <th>OfferTitle</th>\n",
       "      <th>OfferSubtitle</th>\n",
       "      <th>Deadline</th>\n",
       "      <th>MainPrice</th>\n",
       "      <th>PriceInfo</th>\n",
       "      <th>GeoLabel</th>\n",
       "      <th>TimeLabel</th>\n",
       "      <th>LinkArea</th>\n",
       "      <th>Description</th>\n",
       "      <th>page</th>\n",
       "      <th>ts</th>\n",
       "    </tr>\n",
       "  </thead>\n",
       "  <tbody>\n",
       "    <tr>\n",
       "      <th>298</th>\n",
       "      <td>3-комн. кв., 74 м², 4/9 этаж</td>\n",
       "      <td></td>\n",
       "      <td></td>\n",
       "      <td>10 100 000 ₽</td>\n",
       "      <td>136 486 ₽/м²</td>\n",
       "      <td>[Севастополь, р-н Гагаринский, мкр. Стрелецкая бухта, улица Вакуленчука, 10]</td>\n",
       "      <td>[2 часа назад, сегодня, 11:30]</td>\n",
       "      <td>https://sevastopol.cian.ru/sale/flat/278015928/</td>\n",
       "      <td>Продаётся трёхкомнатная квартира на ул. Вакуленчука. Цена - 10 100 000</td>\n",
       "      <td>11</td>\n",
       "      <td>2022-09-08 14:25:06.437355</td>\n",
       "    </tr>\n",
       "    <tr>\n",
       "      <th>1277</th>\n",
       "      <td>Студия, 26 м², 1/1 этаж</td>\n",
       "      <td></td>\n",
       "      <td></td>\n",
       "      <td>3 450 000 ₽</td>\n",
       "      <td>132 692 ₽/м²</td>\n",
       "      <td>[Севастополь, р-н Гагаринский, улица Хрусталева, 126]</td>\n",
       "      <td>[вчера, вчера, 17:54]</td>\n",
       "      <td>https://sevastopol.cian.ru/sale/flat/275648553/</td>\n",
       "      <td>Студия полностью укомплектована с ремонтом , мебелью и техникой.Первый этаж с небольшим своим местом для отдыха.Заходи и живи.</td>\n",
       "      <td>46</td>\n",
       "      <td>2022-09-08 14:25:06.437355</td>\n",
       "    </tr>\n",
       "    <tr>\n",
       "      <th>912</th>\n",
       "      <td>2-комн. кв., 56,4 м², 2/10 этаж</td>\n",
       "      <td></td>\n",
       "      <td></td>\n",
       "      <td>7 350 000 ₽</td>\n",
       "      <td>130 319 ₽/м²</td>\n",
       "      <td>[Севастополь, р-н Гагаринский, мкр. Летчики, проспект Октябрьской Революции, 22/13]</td>\n",
       "      <td>[вчера, вчера, 23:10]</td>\n",
       "      <td>https://sevastopol.cian.ru/sale/flat/270893743/</td>\n",
       "      <td>Продаю отличную 2-комнатную квартиру 56,4 кв.м. РЯДОМ С МОРЕМ в самом развитом районе на ПОРе!! \\nСередина дома, 2 этаж, не угловая. Квартира с удобной планировкой: две просторные изолированные комнаты, раздельный санузел, просторная кухня 9,3 м2, две лоджии. Окна выходят на разные стороны дома: с одной стороны во двор на детскую площадку, а со второй на парковку во дворе. Состояние жилое. При необходимости вся мебель остается. Один собственник, никто не зарегистрирован.\\nВ доме в 2021 году сделан капитальный ремонт. Во дворе хорошая детская и спортивная площадки. Возле дома крупный торговый центр Посейдон. \\nТихое место, при наличии рядом всей необходимой инфраструктуры: рядом детские сады 131, 111, 125, школы 54 и 58, Билингвальная гимназия  2. Возле дома также находится сквер имени Т.Г. Шевченко, в 500 метрах прекрасный Парк Победы. Пешком до моря 5-10 минут. \\nЗвоните! Проведу оперативный показ!\\nПомогу с оформлением ипотеки по самым низким ставкам в городе! Полное юридическое сопровождение сделки!\\n . Номер в базе: 7391819.</td>\n",
       "      <td>33</td>\n",
       "      <td>2022-09-08 14:25:06.437355</td>\n",
       "    </tr>\n",
       "  </tbody>\n",
       "</table>\n",
       "</div>"
      ],
      "text/plain": [
       "                           OfferTitle OfferSubtitle Deadline     MainPrice  \\\n",
       "298      3-комн. кв., 74 м², 4/9 этаж                         10 100 000 ₽   \n",
       "1277          Студия, 26 м², 1/1 этаж                          3 450 000 ₽   \n",
       "912   2-комн. кв., 56,4 м², 2/10 этаж                          7 350 000 ₽   \n",
       "\n",
       "         PriceInfo  \\\n",
       "298   136 486 ₽/м²   \n",
       "1277  132 692 ₽/м²   \n",
       "912   130 319 ₽/м²   \n",
       "\n",
       "                                                                                 GeoLabel  \\\n",
       "298          [Севастополь, р-н Гагаринский, мкр. Стрелецкая бухта, улица Вакуленчука, 10]   \n",
       "1277                                [Севастополь, р-н Гагаринский, улица Хрусталева, 126]   \n",
       "912   [Севастополь, р-н Гагаринский, мкр. Летчики, проспект Октябрьской Революции, 22/13]   \n",
       "\n",
       "                           TimeLabel  \\\n",
       "298   [2 часа назад, сегодня, 11:30]   \n",
       "1277           [вчера, вчера, 17:54]   \n",
       "912            [вчера, вчера, 23:10]   \n",
       "\n",
       "                                             LinkArea  \\\n",
       "298   https://sevastopol.cian.ru/sale/flat/278015928/   \n",
       "1277  https://sevastopol.cian.ru/sale/flat/275648553/   \n",
       "912   https://sevastopol.cian.ru/sale/flat/270893743/   \n",
       "\n",
       "                                                                                                                                                                                                                                                                                                                                                                                                                                                                                                                                                                                                                                                                                                                                                                                                                                                                                                                                                                                                                                                                               Description  \\\n",
       "298                                                                                                                                                                                                                                                                                                                                                                                                                                                                                                                                                                                                                                                                                                                                                                                                                                                                                                                                                                                                                 Продаётся трёхкомнатная квартира на ул. Вакуленчука. Цена - 10 100 000   \n",
       "1277                                                                                                                                                                                                                                                                                                                                                                                                                                                                                                                                                                                                                                                                                                                                                                                                                                                                                                                                                        Студия полностью укомплектована с ремонтом , мебелью и техникой.Первый этаж с небольшим своим местом для отдыха.Заходи и живи.   \n",
       "912   Продаю отличную 2-комнатную квартиру 56,4 кв.м. РЯДОМ С МОРЕМ в самом развитом районе на ПОРе!! \\nСередина дома, 2 этаж, не угловая. Квартира с удобной планировкой: две просторные изолированные комнаты, раздельный санузел, просторная кухня 9,3 м2, две лоджии. Окна выходят на разные стороны дома: с одной стороны во двор на детскую площадку, а со второй на парковку во дворе. Состояние жилое. При необходимости вся мебель остается. Один собственник, никто не зарегистрирован.\\nВ доме в 2021 году сделан капитальный ремонт. Во дворе хорошая детская и спортивная площадки. Возле дома крупный торговый центр Посейдон. \\nТихое место, при наличии рядом всей необходимой инфраструктуры: рядом детские сады 131, 111, 125, школы 54 и 58, Билингвальная гимназия  2. Возле дома также находится сквер имени Т.Г. Шевченко, в 500 метрах прекрасный Парк Победы. Пешком до моря 5-10 минут. \\nЗвоните! Проведу оперативный показ!\\nПомогу с оформлением ипотеки по самым низким ставкам в городе! Полное юридическое сопровождение сделки!\\n . Номер в базе: 7391819.   \n",
       "\n",
       "      page                         ts  \n",
       "298     11 2022-09-08 14:25:06.437355  \n",
       "1277    46 2022-09-08 14:25:06.437355  \n",
       "912     33 2022-09-08 14:25:06.437355  "
      ]
     },
     "execution_count": 6,
     "metadata": {},
     "output_type": "execute_result"
    }
   ],
   "source": [
    "df.sample(3)"
   ]
  },
  {
   "cell_type": "code",
   "execution_count": 7,
   "id": "6b6e1d34",
   "metadata": {},
   "outputs": [
    {
     "name": "stdout",
     "output_type": "stream",
     "text": [
      "1509\n",
      "1503\n"
     ]
    }
   ],
   "source": [
    "print(len(df))\n",
    "df = pd.DataFrame(df).dropna().drop_duplicates(['LinkArea','Description',]).reset_index(drop=True)\n",
    "print(len(df))"
   ]
  },
  {
   "cell_type": "code",
   "execution_count": 8,
   "id": "27150829",
   "metadata": {},
   "outputs": [],
   "source": [
    "ts = dtm.now().strftime('%Y-%m-%d_%H-%M')\n",
    "assert len(df)>0\n",
    "# df.to_excel(f'{raw_data_path}/cian_{ts}_raw.xlsx',index=False)\n",
    "df.to_pickle(f'{raw_data_path}/cian_{ts}_raw.pkl')"
   ]
  },
  {
   "cell_type": "markdown",
   "id": "b1c773fc",
   "metadata": {},
   "source": [
    "----"
   ]
  },
  {
   "cell_type": "code",
   "execution_count": null,
   "id": "3375a88f",
   "metadata": {},
   "outputs": [],
   "source": [
    "# df = pd.read_excel('data/raw/cian/cian_2022-09-08_13-49_raw.xlsx')"
   ]
  },
  {
   "cell_type": "code",
   "execution_count": null,
   "id": "a1a04f5b",
   "metadata": {},
   "outputs": [],
   "source": [
    "# df"
   ]
  },
  {
   "cell_type": "code",
   "execution_count": null,
   "id": "cb1cfae9",
   "metadata": {},
   "outputs": [],
   "source": [
    "# df['GeoLabel'].apply( lambda s : len(s) ) #', '.join(s) )\n",
    "\n",
    "# s = ['Севастополь', 'р-н Гагаринский', 'Казачья Бухта мкр', 'Скифия ЖК']\n",
    "# ', '.join(s)"
   ]
  },
  {
   "cell_type": "code",
   "execution_count": null,
   "id": "4354558d",
   "metadata": {},
   "outputs": [],
   "source": [
    "# from lib.cian import CianDataCleaner\n",
    "\n",
    "# CianDataCleaner().transform(df)"
   ]
  },
  {
   "cell_type": "markdown",
   "id": "c12f900f",
   "metadata": {},
   "source": [
    "----"
   ]
  },
  {
   "cell_type": "code",
   "execution_count": null,
   "id": "f2f98ed9",
   "metadata": {},
   "outputs": [],
   "source": [
    "# with open('tmp/cian.html','wt') as f: f.write(html[0])"
   ]
  }
 ],
 "metadata": {
  "kernelspec": {
   "display_name": "Python 3 (ipykernel)",
   "language": "python",
   "name": "python3"
  },
  "language_info": {
   "codemirror_mode": {
    "name": "ipython",
    "version": 3
   },
   "file_extension": ".py",
   "mimetype": "text/x-python",
   "name": "python",
   "nbconvert_exporter": "python",
   "pygments_lexer": "ipython3",
   "version": "3.10.6"
  },
  "toc": {
   "base_numbering": 1,
   "nav_menu": {},
   "number_sections": true,
   "sideBar": true,
   "skip_h1_title": false,
   "title_cell": "Table of Contents",
   "title_sidebar": "Contents",
   "toc_cell": false,
   "toc_position": {},
   "toc_section_display": true,
   "toc_window_display": false
  }
 },
 "nbformat": 4,
 "nbformat_minor": 5
}
