{
 "cells": [
  {
   "cell_type": "markdown",
   "id": "7ed68c56",
   "metadata": {},
   "source": [
    "__качаем объявления о продаже недвижимости с циан.ru__\n",
    "\n",
    "_Evgeny S. Borisov <parser@mechanoid.su>_"
   ]
  },
  {
   "cell_type": "code",
   "execution_count": 1,
   "id": "072330b0",
   "metadata": {},
   "outputs": [],
   "source": [
    "import logging\n",
    "import sys \n",
    "\n",
    "logging.basicConfig(\n",
    "        format=u'[%(levelname)-8s] %(asctime)s | %(message)s',\n",
    "        datefmt='%Y-%m-%d %H:%M:%S',\n",
    "        level=logging.INFO,\n",
    "        # level=logging.DEBUG,\n",
    "        stream=sys.stdout,\n",
    "    )"
   ]
  },
  {
   "cell_type": "code",
   "execution_count": 2,
   "id": "98a3f294",
   "metadata": {},
   "outputs": [],
   "source": [
    "from time import sleep\n",
    "from tqdm.auto import tqdm\n",
    "import pandas as pd\n",
    "from datetime import datetime \n",
    "\n",
    "pd.set_option('display.max_colwidth', None)\n",
    "pd.set_option('display.float_format', '{:.2f}'.format)\n",
    "tqdm.pandas()"
   ]
  },
  {
   "cell_type": "markdown",
   "id": "97716384",
   "metadata": {},
   "source": [
    "---"
   ]
  },
  {
   "cell_type": "code",
   "execution_count": 3,
   "id": "8c89b773",
   "metadata": {},
   "outputs": [],
   "source": [
    "source = [\n",
    "    {\n",
    "            'place': 'sevastopol',\n",
    "        'subfolder': 'flat',\n",
    "              'url': 'https://sevastopol.cian.ru/kupit-kvartiru/',\n",
    "    },{\n",
    "            'place': 'sevastopol',\n",
    "        'subfolder': 'land',\n",
    "              'url': 'https://sevastopol.cian.ru/kupit-zemelniy-uchastok/',\n",
    "    },{\n",
    "            'place': 'sevastopol',\n",
    "        'subfolder': 'house',\n",
    "              'url': 'https://sevastopol.cian.ru/kupit-dom/',\n",
    "    },{\n",
    "            'place': 'sudak',\n",
    "        'subfolder': 'flat',\n",
    "              'url': 'https://krym.cian.ru/kupit-kvartiru-krym-sudak/',\n",
    "    },{\n",
    "            'place': 'sudak',\n",
    "        'subfolder': 'land',\n",
    "              'url': 'https://krym.cian.ru/kupit-zemelniy-uchastok-krym-sudak/',\n",
    "    },{\n",
    "            'place': 'sudak',\n",
    "        'subfolder': 'house',\n",
    "              'url': 'https://krym.cian.ru/kupit-dom-krym-sudak/',\n",
    "    },    \n",
    "#     {\n",
    "#             'place': 'bahchisaray',\n",
    "#         'subfolder': 'flat',\n",
    "#               'url': 'https://krym.cian.ru/kupit-kvartiru-krym-bahchisaray/',\n",
    "#     }, {\n",
    "#             'place': 'bahchisaray',\n",
    "#         'subfolder': 'land',\n",
    "#               'url': 'https://krym.cian.ru/kupit-zemelniy-uchastok-krym-bahchisaray/',\n",
    "#     },{\n",
    "#             'place': 'bahchisaray',\n",
    "#         'subfolder': 'house',\n",
    "#               'url': 'https://krym.cian.ru/kupit-dom-krym-bahchisaray/',\n",
    "#     },\n",
    "\n",
    "]\n"
   ]
  },
  {
   "cell_type": "markdown",
   "id": "58b1d75f",
   "metadata": {},
   "source": [
    "---"
   ]
  },
  {
   "cell_type": "code",
   "execution_count": 4,
   "id": "84989450",
   "metadata": {},
   "outputs": [],
   "source": [
    "# from selenium import webdriver\n",
    "# from lib.cian import CianPageParser\n",
    "\n",
    "# browser = webdriver.Firefox()\n",
    "# browser.get(source[0]['url'])\n",
    "# data = CianPageParser().transform(browser)\n",
    "# browser.close()"
   ]
  },
  {
   "cell_type": "code",
   "execution_count": 5,
   "id": "6dffb73b",
   "metadata": {},
   "outputs": [],
   "source": [
    "# data\n",
    "# browser.close()"
   ]
  },
  {
   "cell_type": "markdown",
   "id": "d725357e",
   "metadata": {},
   "source": [
    "---"
   ]
  },
  {
   "cell_type": "code",
   "execution_count": 6,
   "id": "809e913f",
   "metadata": {},
   "outputs": [],
   "source": [
    "dest_folder = 'data/2024/raw'"
   ]
  },
  {
   "cell_type": "code",
   "execution_count": 7,
   "id": "3475a18d",
   "metadata": {},
   "outputs": [],
   "source": [
    "from selenium import webdriver\n",
    "# from selenium.webdriver.common.by import By\n",
    "from lib.cian import CianParser\n",
    "# from lib.cian import CianDataCleaner"
   ]
  },
  {
   "cell_type": "code",
   "execution_count": 8,
   "id": "4cd65147",
   "metadata": {
    "scrolled": false
   },
   "outputs": [
    {
     "name": "stdout",
     "output_type": "stream",
     "text": [
      "[INFO    ] 2024-06-14 12:51:02 | open virtual browser\n"
     ]
    },
    {
     "data": {
      "text/plain": [
       "'https://sevastopol.cian.ru/kupit-kvartiru/'"
      ]
     },
     "metadata": {},
     "output_type": "display_data"
    },
    {
     "name": "stdout",
     "output_type": "stream",
     "text": [
      "[INFO    ] 2024-06-14 12:51:14 | page 1: 28 items\n",
      "[INFO    ] 2024-06-14 12:51:20 | page 2: 28 items\n",
      "[INFO    ] 2024-06-14 12:51:28 | page 3: 28 items\n",
      "[INFO    ] 2024-06-14 12:51:35 | page 4: 28 items\n",
      "[INFO    ] 2024-06-14 12:51:41 | page 5: 28 items\n",
      "[INFO    ] 2024-06-14 12:51:47 | page 6: 28 items\n",
      "[INFO    ] 2024-06-14 12:51:53 | page 7: 28 items\n",
      "[INFO    ] 2024-06-14 12:52:00 | page 8: 28 items\n",
      "[INFO    ] 2024-06-14 12:52:06 | page 9: 28 items\n",
      "[INFO    ] 2024-06-14 12:52:10 | page 10: 28 items\n",
      "[INFO    ] 2024-06-14 12:52:17 | page 11: 28 items\n",
      "[INFO    ] 2024-06-14 12:52:22 | page 12: 28 items\n",
      "[INFO    ] 2024-06-14 12:52:27 | page 13: 28 items\n",
      "[INFO    ] 2024-06-14 12:52:34 | page 14: 28 items\n",
      "[INFO    ] 2024-06-14 12:52:41 | page 15: 28 items\n",
      "[INFO    ] 2024-06-14 12:52:45 | page 16: 28 items\n",
      "[INFO    ] 2024-06-14 12:52:49 | page 17: 28 items\n",
      "[INFO    ] 2024-06-14 12:52:54 | page 18: 28 items\n",
      "[INFO    ] 2024-06-14 12:53:01 | page 19: 28 items\n",
      "[INFO    ] 2024-06-14 12:53:07 | page 20: 28 items\n",
      "[INFO    ] 2024-06-14 12:53:11 | page 21: 28 items\n",
      "[INFO    ] 2024-06-14 12:53:16 | page 22: 28 items\n",
      "[INFO    ] 2024-06-14 12:53:20 | page 23: 28 items\n",
      "[INFO    ] 2024-06-14 12:53:27 | page 24: 28 items\n",
      "[INFO    ] 2024-06-14 12:53:33 | page 25: 28 items\n",
      "[INFO    ] 2024-06-14 12:53:41 | page 26: 28 items\n",
      "[INFO    ] 2024-06-14 12:53:48 | page 27: 28 items\n",
      "[INFO    ] 2024-06-14 12:53:55 | page 28: 28 items\n",
      "[INFO    ] 2024-06-14 12:54:02 | page 29: 28 items\n",
      "[INFO    ] 2024-06-14 12:54:07 | page 30: 28 items\n",
      "[INFO    ] 2024-06-14 12:54:12 | page 31: 28 items\n",
      "[INFO    ] 2024-06-14 12:54:18 | page 32: 27 items\n",
      "[INFO    ] 2024-06-14 12:54:23 | page 33: 28 items\n",
      "[INFO    ] 2024-06-14 12:54:29 | page 34: 28 items\n",
      "[INFO    ] 2024-06-14 12:54:35 | page 35: 28 items\n",
      "[INFO    ] 2024-06-14 12:54:40 | page 36: 28 items\n",
      "[INFO    ] 2024-06-14 12:54:46 | page 37: 27 items\n",
      "[INFO    ] 2024-06-14 12:54:52 | page 38: 28 items\n",
      "[INFO    ] 2024-06-14 12:54:58 | page 39: 28 items\n",
      "[INFO    ] 2024-06-14 12:55:04 | page 40: 28 items\n",
      "[INFO    ] 2024-06-14 12:55:11 | page 41: 28 items\n",
      "[INFO    ] 2024-06-14 12:55:15 | page 42: 28 items\n",
      "[INFO    ] 2024-06-14 12:55:21 | page 43: 28 items\n",
      "[INFO    ] 2024-06-14 12:55:28 | page 44: 28 items\n",
      "[INFO    ] 2024-06-14 12:55:32 | page 45: 27 items\n",
      "[INFO    ] 2024-06-14 12:55:38 | page 46: 28 items\n",
      "[INFO    ] 2024-06-14 12:55:42 | page 47: 28 items\n",
      "[INFO    ] 2024-06-14 12:55:47 | page 48: 28 items\n",
      "[INFO    ] 2024-06-14 12:55:52 | page 49: 28 items\n",
      "[INFO    ] 2024-06-14 12:55:57 | page 50: 28 items\n",
      "[INFO    ] 2024-06-14 12:56:01 | page 51: 28 items\n",
      "[INFO    ] 2024-06-14 12:56:05 | page 52: 28 items\n",
      "[INFO    ] 2024-06-14 12:56:10 | page 53: 28 items\n",
      "[INFO    ] 2024-06-14 12:56:14 | page 54: 25 items\n"
     ]
    },
    {
     "data": {
      "text/plain": [
       "1506"
      ]
     },
     "metadata": {},
     "output_type": "display_data"
    },
    {
     "data": {
      "text/plain": [
       "'data/2024/raw/flat/cian/cian_2024-06-14_12-56_raw_sevastopol.pkl'"
      ]
     },
     "metadata": {},
     "output_type": "display_data"
    },
    {
     "data": {
      "text/plain": [
       "'https://sevastopol.cian.ru/kupit-zemelniy-uchastok/'"
      ]
     },
     "metadata": {},
     "output_type": "display_data"
    },
    {
     "name": "stdout",
     "output_type": "stream",
     "text": [
      "[INFO    ] 2024-06-14 12:56:23 | page 1: 28 items\n",
      "[INFO    ] 2024-06-14 12:56:29 | page 2: 28 items\n",
      "[INFO    ] 2024-06-14 12:56:35 | page 3: 28 items\n",
      "[INFO    ] 2024-06-14 12:56:43 | page 4: 28 items\n",
      "[INFO    ] 2024-06-14 12:56:48 | page 5: 28 items\n",
      "[INFO    ] 2024-06-14 12:56:53 | page 6: 28 items\n",
      "[INFO    ] 2024-06-14 12:56:59 | page 7: 28 items\n",
      "[INFO    ] 2024-06-14 12:57:04 | page 8: 28 items\n",
      "[INFO    ] 2024-06-14 12:57:08 | page 9: 28 items\n",
      "[INFO    ] 2024-06-14 12:57:13 | page 10: 28 items\n",
      "[INFO    ] 2024-06-14 12:57:19 | page 11: 28 items\n",
      "[INFO    ] 2024-06-14 12:57:25 | page 12: 28 items\n",
      "[INFO    ] 2024-06-14 12:57:30 | page 13: 28 items\n",
      "[INFO    ] 2024-06-14 12:57:37 | page 14: 28 items\n",
      "[INFO    ] 2024-06-14 12:57:42 | page 15: 25 items\n",
      "[INFO    ] 2024-06-14 12:57:45 | page 16: 28 items\n",
      "[INFO    ] 2024-06-14 12:57:50 | page 17: 28 items\n",
      "[INFO    ] 2024-06-14 12:57:54 | page 18: 28 items\n",
      "[INFO    ] 2024-06-14 12:57:57 | page 19: 28 items\n",
      "[INFO    ] 2024-06-14 12:58:01 | page 20: 28 items\n",
      "[INFO    ] 2024-06-14 12:58:05 | page 21: 28 items\n",
      "[INFO    ] 2024-06-14 12:58:09 | page 22: 28 items\n",
      "[INFO    ] 2024-06-14 12:58:12 | page 23: 28 items\n",
      "[INFO    ] 2024-06-14 12:58:17 | page 24: 28 items\n",
      "[INFO    ] 2024-06-14 12:58:22 | page 25: 28 items\n",
      "[INFO    ] 2024-06-14 12:58:25 | page 26: 28 items\n",
      "[INFO    ] 2024-06-14 12:58:29 | page 27: 28 items\n",
      "[INFO    ] 2024-06-14 12:58:33 | page 28: 28 items\n",
      "[INFO    ] 2024-06-14 12:58:36 | page 29: 28 items\n",
      "[INFO    ] 2024-06-14 12:58:42 | page 30: 28 items\n",
      "[INFO    ] 2024-06-14 12:58:49 | page 31: 28 items\n",
      "[INFO    ] 2024-06-14 12:58:55 | page 32: 28 items\n",
      "[INFO    ] 2024-06-14 12:59:01 | page 33: 28 items\n",
      "[INFO    ] 2024-06-14 12:59:08 | page 34: 28 items\n",
      "[INFO    ] 2024-06-14 12:59:14 | page 35: 28 items\n",
      "[INFO    ] 2024-06-14 12:59:18 | page 36: 28 items\n",
      "[INFO    ] 2024-06-14 12:59:22 | page 37: 28 items\n",
      "[INFO    ] 2024-06-14 12:59:26 | page 38: 28 items\n",
      "[INFO    ] 2024-06-14 12:59:30 | page 39: 28 items\n",
      "[INFO    ] 2024-06-14 12:59:33 | page 40: 28 items\n",
      "[INFO    ] 2024-06-14 12:59:38 | page 41: 28 items\n",
      "[INFO    ] 2024-06-14 12:59:42 | page 42: 28 items\n",
      "[INFO    ] 2024-06-14 12:59:47 | page 43: 28 items\n",
      "[INFO    ] 2024-06-14 12:59:51 | page 44: 28 items\n",
      "[INFO    ] 2024-06-14 12:59:57 | page 45: 28 items\n",
      "[INFO    ] 2024-06-14 13:00:02 | page 46: 28 items\n",
      "[INFO    ] 2024-06-14 13:00:06 | page 47: 28 items\n",
      "[INFO    ] 2024-06-14 13:00:11 | page 48: 28 items\n",
      "[INFO    ] 2024-06-14 13:00:15 | page 49: 28 items\n",
      "[INFO    ] 2024-06-14 13:00:19 | page 50: 28 items\n",
      "[INFO    ] 2024-06-14 13:00:24 | page 51: 28 items\n",
      "[INFO    ] 2024-06-14 13:00:31 | page 52: 28 items\n",
      "[INFO    ] 2024-06-14 13:00:34 | page 53: 28 items\n",
      "[INFO    ] 2024-06-14 13:00:38 | page 54: 23 items\n"
     ]
    },
    {
     "data": {
      "text/plain": [
       "1504"
      ]
     },
     "metadata": {},
     "output_type": "display_data"
    },
    {
     "data": {
      "text/plain": [
       "'data/2024/raw/land/cian/cian_2024-06-14_13-00_raw_sevastopol.pkl'"
      ]
     },
     "metadata": {},
     "output_type": "display_data"
    },
    {
     "data": {
      "text/plain": [
       "'https://sevastopol.cian.ru/kupit-dom/'"
      ]
     },
     "metadata": {},
     "output_type": "display_data"
    },
    {
     "name": "stdout",
     "output_type": "stream",
     "text": [
      "[INFO    ] 2024-06-14 13:00:47 | page 1: 28 items\n",
      "[INFO    ] 2024-06-14 13:00:56 | page 2: 28 items\n",
      "[INFO    ] 2024-06-14 13:01:05 | page 3: 28 items\n",
      "[INFO    ] 2024-06-14 13:01:14 | page 4: 28 items\n",
      "[INFO    ] 2024-06-14 13:01:21 | page 5: 28 items\n",
      "[INFO    ] 2024-06-14 13:01:28 | page 6: 28 items\n",
      "[INFO    ] 2024-06-14 13:01:36 | page 7: 28 items\n",
      "[INFO    ] 2024-06-14 13:01:44 | page 8: 28 items\n",
      "[INFO    ] 2024-06-14 13:01:52 | page 9: 28 items\n",
      "[INFO    ] 2024-06-14 13:02:00 | page 10: 28 items\n",
      "[INFO    ] 2024-06-14 13:02:08 | page 11: 28 items\n",
      "[INFO    ] 2024-06-14 13:02:16 | page 12: 28 items\n",
      "[INFO    ] 2024-06-14 13:02:23 | page 13: 28 items\n",
      "[INFO    ] 2024-06-14 13:02:31 | page 14: 28 items\n",
      "[INFO    ] 2024-06-14 13:02:36 | page 15: 25 items\n",
      "[INFO    ] 2024-06-14 13:02:43 | page 16: 28 items\n",
      "[INFO    ] 2024-06-14 13:02:48 | page 17: 28 items\n",
      "[INFO    ] 2024-06-14 13:02:52 | page 18: 28 items\n",
      "[INFO    ] 2024-06-14 13:02:56 | page 19: 28 items\n",
      "[INFO    ] 2024-06-14 13:03:03 | page 20: 28 items\n",
      "[INFO    ] 2024-06-14 13:03:10 | page 21: 28 items\n",
      "[INFO    ] 2024-06-14 13:03:16 | page 22: 28 items\n",
      "[INFO    ] 2024-06-14 13:03:20 | page 23: 28 items\n",
      "[INFO    ] 2024-06-14 13:03:25 | page 24: 28 items\n",
      "[INFO    ] 2024-06-14 13:03:29 | page 25: 28 items\n",
      "[INFO    ] 2024-06-14 13:03:35 | page 26: 28 items\n",
      "[INFO    ] 2024-06-14 13:03:39 | page 27: 28 items\n",
      "[INFO    ] 2024-06-14 13:03:46 | page 28: 27 items\n",
      "[INFO    ] 2024-06-14 13:03:52 | page 29: 28 items\n",
      "[INFO    ] 2024-06-14 13:03:56 | page 30: 28 items\n",
      "[INFO    ] 2024-06-14 13:04:00 | page 31: 27 items\n",
      "[INFO    ] 2024-06-14 13:04:04 | page 32: 28 items\n",
      "[INFO    ] 2024-06-14 13:04:10 | page 33: 28 items\n",
      "[INFO    ] 2024-06-14 13:04:17 | page 34: 28 items\n",
      "[INFO    ] 2024-06-14 13:04:20 | page 35: 28 items\n",
      "[INFO    ] 2024-06-14 13:04:25 | page 36: 28 items\n",
      "[INFO    ] 2024-06-14 13:04:29 | page 37: 28 items\n",
      "[INFO    ] 2024-06-14 13:04:33 | page 38: 28 items\n",
      "[INFO    ] 2024-06-14 13:04:41 | page 39: 28 items\n",
      "[INFO    ] 2024-06-14 13:04:48 | page 40: 27 items\n",
      "[INFO    ] 2024-06-14 13:04:54 | page 41: 28 items\n",
      "[INFO    ] 2024-06-14 13:05:01 | page 42: 28 items\n",
      "[INFO    ] 2024-06-14 13:05:08 | page 43: 28 items\n",
      "[INFO    ] 2024-06-14 13:05:15 | page 44: 28 items\n",
      "[INFO    ] 2024-06-14 13:05:23 | page 45: 28 items\n",
      "[INFO    ] 2024-06-14 13:05:27 | page 46: 28 items\n",
      "[INFO    ] 2024-06-14 13:05:34 | page 47: 27 items\n",
      "[INFO    ] 2024-06-14 13:05:38 | page 48: 28 items\n",
      "[INFO    ] 2024-06-14 13:05:45 | page 49: 28 items\n",
      "[INFO    ] 2024-06-14 13:05:51 | page 50: 28 items\n",
      "[INFO    ] 2024-06-14 13:05:55 | page 51: 28 items\n",
      "[INFO    ] 2024-06-14 13:06:00 | page 52: 28 items\n",
      "[INFO    ] 2024-06-14 13:06:07 | page 53: 28 items\n",
      "[INFO    ] 2024-06-14 13:06:13 | page 54: 25 items\n"
     ]
    },
    {
     "data": {
      "text/plain": [
       "1502"
      ]
     },
     "metadata": {},
     "output_type": "display_data"
    },
    {
     "data": {
      "text/plain": [
       "'data/2024/raw/house/cian/cian_2024-06-14_13-06_raw_sevastopol.pkl'"
      ]
     },
     "metadata": {},
     "output_type": "display_data"
    },
    {
     "data": {
      "text/plain": [
       "'https://krym.cian.ru/kupit-kvartiru-krym-sudak/'"
      ]
     },
     "metadata": {},
     "output_type": "display_data"
    },
    {
     "name": "stdout",
     "output_type": "stream",
     "text": [
      "[INFO    ] 2024-06-14 13:06:21 | page 1: 28 items\n",
      "[INFO    ] 2024-06-14 13:06:28 | page 2: 28 items\n",
      "[INFO    ] 2024-06-14 13:06:36 | page 3: 28 items\n",
      "[INFO    ] 2024-06-14 13:06:43 | page 4: 28 items\n",
      "[INFO    ] 2024-06-14 13:06:47 | page 5: 28 items\n",
      "[INFO    ] 2024-06-14 13:06:55 | page 6: 28 items\n",
      "[INFO    ] 2024-06-14 13:06:59 | page 7: 28 items\n",
      "[INFO    ] 2024-06-14 13:07:03 | page 8: 28 items\n",
      "[INFO    ] 2024-06-14 13:07:08 | page 9: 21 items\n"
     ]
    },
    {
     "data": {
      "text/plain": [
       "245"
      ]
     },
     "metadata": {},
     "output_type": "display_data"
    },
    {
     "data": {
      "text/plain": [
       "'data/2024/raw/flat/cian/cian_2024-06-14_13-07_raw_sudak.pkl'"
      ]
     },
     "metadata": {},
     "output_type": "display_data"
    },
    {
     "data": {
      "text/plain": [
       "'https://krym.cian.ru/kupit-zemelniy-uchastok-krym-sudak/'"
      ]
     },
     "metadata": {},
     "output_type": "display_data"
    },
    {
     "name": "stdout",
     "output_type": "stream",
     "text": [
      "[INFO    ] 2024-06-14 13:07:14 | page 1: 28 items\n",
      "[INFO    ] 2024-06-14 13:07:20 | page 2: 28 items\n"
     ]
    },
    {
     "data": {
      "text/plain": [
       "56"
      ]
     },
     "metadata": {},
     "output_type": "display_data"
    },
    {
     "data": {
      "text/plain": [
       "'data/2024/raw/land/cian/cian_2024-06-14_13-07_raw_sudak.pkl'"
      ]
     },
     "metadata": {},
     "output_type": "display_data"
    },
    {
     "data": {
      "text/plain": [
       "'https://krym.cian.ru/kupit-dom-krym-sudak/'"
      ]
     },
     "metadata": {},
     "output_type": "display_data"
    },
    {
     "name": "stdout",
     "output_type": "stream",
     "text": [
      "[INFO    ] 2024-06-14 13:07:32 | page 1: 28 items\n",
      "[INFO    ] 2024-06-14 13:07:39 | page 2: 28 items\n",
      "[INFO    ] 2024-06-14 13:07:47 | page 3: 28 items\n",
      "[INFO    ] 2024-06-14 13:07:51 | page 4: 25 items\n"
     ]
    },
    {
     "data": {
      "text/plain": [
       "109"
      ]
     },
     "metadata": {},
     "output_type": "display_data"
    },
    {
     "data": {
      "text/plain": [
       "'data/2024/raw/house/cian/cian_2024-06-14_13-07_raw_sudak.pkl'"
      ]
     },
     "metadata": {},
     "output_type": "display_data"
    },
    {
     "name": "stdout",
     "output_type": "stream",
     "text": [
      "CPU times: user 40.8 s, sys: 1.74 s, total: 42.6 s\n",
      "Wall time: 16min 50s\n"
     ]
    }
   ],
   "source": [
    "%%time \n",
    "\n",
    "#from selenium.webdriver.firefox.options import Options\n",
    "#from selenium.webdriver.firefox.options import FirefoxProfile\n",
    "# profile_path = '/home/mechanoid/.mozilla/firefox/4btdfxw1.default-release'\n",
    "# options = Options()\n",
    "# options.profile = FirefoxProfile(profile_path) \n",
    "# options.headless = True\n",
    "# browser = webdriver.Firefox(options=options)\n",
    "\n",
    "options = webdriver.FirefoxOptions()\n",
    "options.headless = True\n",
    "browser = webdriver.Firefox(options=options)\n",
    "logging.info('open virtual browser')\n",
    "\n",
    "for s in source:\n",
    "\n",
    "    url = s['url']\n",
    "    place = s['place']\n",
    "    subfolder = s['subfolder'] \n",
    "    \n",
    "    display(url)\n",
    "    browser.get(url)\n",
    "    \n",
    "    data = CianParser().transform(browser)\n",
    "    assert len(data)>0\n",
    "    \n",
    "    df = pd.DataFrame(data)\n",
    "    df['ts'] = datetime.now()\n",
    "    df['place'] = place\n",
    "    \n",
    "    display( len(df) )\n",
    "    t_now = datetime.now().strftime('%Y-%m-%d_%H-%M')\n",
    "    fname = f'{dest_folder}/{subfolder}/cian/cian_{t_now}_raw_{place}.pkl'\n",
    "    df.to_pickle(fname)\n",
    "    display( fname )\n",
    "       \n",
    "browser.close()"
   ]
  },
  {
   "cell_type": "code",
   "execution_count": 9,
   "id": "ff5bb5ec",
   "metadata": {},
   "outputs": [
    {
     "name": "stdout",
     "output_type": "stream",
     "text": [
      "Пт 14 июн 2024 13:07:51 MSK\r\n"
     ]
    }
   ],
   "source": [
    "!date"
   ]
  },
  {
   "cell_type": "code",
   "execution_count": 10,
   "id": "9bb57abb",
   "metadata": {},
   "outputs": [],
   "source": [
    "# browser.close()"
   ]
  }
 ],
 "metadata": {
  "kernelspec": {
   "display_name": "Python 3 (ipykernel)",
   "language": "python",
   "name": "python3"
  },
  "language_info": {
   "codemirror_mode": {
    "name": "ipython",
    "version": 3
   },
   "file_extension": ".py",
   "mimetype": "text/x-python",
   "name": "python",
   "nbconvert_exporter": "python",
   "pygments_lexer": "ipython3",
   "version": "3.12.3"
  }
 },
 "nbformat": 4,
 "nbformat_minor": 5
}
