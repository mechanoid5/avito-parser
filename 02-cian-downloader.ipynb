{
 "cells": [
  {
   "cell_type": "markdown",
   "id": "7ed68c56",
   "metadata": {},
   "source": [
    "__качаем объявления о продаже недвижимости с циан.ru__\n",
    "\n",
    "_Evgeny S. Borisov <parser@mechanoid.su>_"
   ]
  },
  {
   "cell_type": "code",
   "execution_count": 1,
   "id": "072330b0",
   "metadata": {},
   "outputs": [],
   "source": [
    "import logging\n",
    "import sys \n",
    "\n",
    "logging.basicConfig(\n",
    "        format=u'[%(levelname)-8s] %(asctime)s | %(message)s',\n",
    "        datefmt='%Y-%m-%d %H:%M:%S',\n",
    "        level=logging.INFO,\n",
    "        # level=logging.DEBUG,\n",
    "        stream=sys.stdout,\n",
    "    )"
   ]
  },
  {
   "cell_type": "code",
   "execution_count": 2,
   "id": "98a3f294",
   "metadata": {},
   "outputs": [],
   "source": [
    "from time import sleep\n",
    "from tqdm.auto import tqdm\n",
    "import pandas as pd\n",
    "from datetime import datetime \n",
    "\n",
    "pd.set_option('display.max_colwidth', None)\n",
    "pd.set_option('display.float_format', '{:.2f}'.format)\n",
    "tqdm.pandas()"
   ]
  },
  {
   "cell_type": "markdown",
   "id": "97716384",
   "metadata": {},
   "source": [
    "---"
   ]
  },
  {
   "cell_type": "code",
   "execution_count": 3,
   "id": "8c89b773",
   "metadata": {},
   "outputs": [],
   "source": [
    "source = [\n",
    "    {\n",
    "            'place': 'sevastopol',\n",
    "        'subfolder': 'flat',\n",
    "              'url': 'https://sevastopol.cian.ru/kupit-kvartiru/',\n",
    "    },{\n",
    "            'place': 'sevastopol',\n",
    "        'subfolder': 'land',\n",
    "              'url': 'https://sevastopol.cian.ru/kupit-zemelniy-uchastok/',\n",
    "    },{\n",
    "            'place': 'sevastopol',\n",
    "        'subfolder': 'house',\n",
    "              'url': 'https://sevastopol.cian.ru/kupit-dom/',\n",
    "    },{\n",
    "            'place': 'sudak',\n",
    "        'subfolder': 'flat',\n",
    "              'url': 'https://krym.cian.ru/kupit-kvartiru-krym-sudak/',\n",
    "    },{\n",
    "            'place': 'sudak',\n",
    "        'subfolder': 'land',\n",
    "              'url': 'https://krym.cian.ru/kupit-zemelniy-uchastok-krym-sudak/',\n",
    "    },{\n",
    "            'place': 'sudak',\n",
    "        'subfolder': 'house',\n",
    "              'url': 'https://krym.cian.ru/kupit-dom-krym-sudak/',\n",
    "    },    \n",
    "#     {\n",
    "#             'place': 'bahchisaray',\n",
    "#         'subfolder': 'flat',\n",
    "#               'url': 'https://krym.cian.ru/kupit-kvartiru-krym-bahchisaray/',\n",
    "#     }, {\n",
    "#             'place': 'bahchisaray',\n",
    "#         'subfolder': 'land',\n",
    "#               'url': 'https://krym.cian.ru/kupit-zemelniy-uchastok-krym-bahchisaray/',\n",
    "#     },{\n",
    "#             'place': 'bahchisaray',\n",
    "#         'subfolder': 'house',\n",
    "#               'url': 'https://krym.cian.ru/kupit-dom-krym-bahchisaray/',\n",
    "#     },\n",
    "\n",
    "]\n"
   ]
  },
  {
   "cell_type": "markdown",
   "id": "58b1d75f",
   "metadata": {},
   "source": [
    "---"
   ]
  },
  {
   "cell_type": "code",
   "execution_count": 4,
   "id": "84989450",
   "metadata": {},
   "outputs": [],
   "source": [
    "# from selenium import webdriver\n",
    "# from lib.cian import CianPageParser\n",
    "\n",
    "# browser = webdriver.Firefox()\n",
    "# browser.get(source[0]['url'])\n",
    "# data = CianPageParser().transform(browser)\n",
    "# browser.close()"
   ]
  },
  {
   "cell_type": "code",
   "execution_count": 5,
   "id": "6dffb73b",
   "metadata": {},
   "outputs": [],
   "source": [
    "# data\n",
    "# browser.close()"
   ]
  },
  {
   "cell_type": "markdown",
   "id": "d725357e",
   "metadata": {},
   "source": [
    "---"
   ]
  },
  {
   "cell_type": "code",
   "execution_count": 6,
   "id": "809e913f",
   "metadata": {},
   "outputs": [],
   "source": [
    "dest_folder = 'data/2024/raw'"
   ]
  },
  {
   "cell_type": "code",
   "execution_count": 7,
   "id": "3475a18d",
   "metadata": {},
   "outputs": [],
   "source": [
    "from selenium import webdriver\n",
    "# from selenium.webdriver.common.by import By\n",
    "from lib.cian import CianParser\n",
    "# from lib.cian import CianDataCleaner"
   ]
  },
  {
   "cell_type": "code",
   "execution_count": 8,
   "id": "4cd65147",
   "metadata": {
    "scrolled": false
   },
   "outputs": [
    {
     "name": "stdout",
     "output_type": "stream",
     "text": [
      "[INFO    ] 2024-06-19 12:07:55 | open virtual browser\n"
     ]
    },
    {
     "data": {
      "text/plain": [
       "'https://sevastopol.cian.ru/kupit-kvartiru/'"
      ]
     },
     "metadata": {},
     "output_type": "display_data"
    },
    {
     "name": "stdout",
     "output_type": "stream",
     "text": [
      "[INFO    ] 2024-06-19 12:08:06 | page 1: 28 items\n",
      "[INFO    ] 2024-06-19 12:08:14 | page 2: 28 items\n",
      "[INFO    ] 2024-06-19 12:08:21 | page 3: 28 items\n",
      "[INFO    ] 2024-06-19 12:08:29 | page 4: 28 items\n",
      "[INFO    ] 2024-06-19 12:08:36 | page 5: 28 items\n",
      "[INFO    ] 2024-06-19 12:08:40 | page 6: 28 items\n",
      "[INFO    ] 2024-06-19 12:08:45 | page 7: 28 items\n",
      "[INFO    ] 2024-06-19 12:08:50 | page 8: 28 items\n",
      "[INFO    ] 2024-06-19 12:08:54 | page 9: 28 items\n",
      "[INFO    ] 2024-06-19 12:08:59 | page 10: 28 items\n",
      "[INFO    ] 2024-06-19 12:09:03 | page 11: 28 items\n",
      "[INFO    ] 2024-06-19 12:09:11 | page 12: 28 items\n",
      "[INFO    ] 2024-06-19 12:09:17 | page 13: 28 items\n",
      "[INFO    ] 2024-06-19 12:09:24 | page 14: 28 items\n",
      "[INFO    ] 2024-06-19 12:09:29 | page 15: 28 items\n",
      "[INFO    ] 2024-06-19 12:09:35 | page 16: 28 items\n",
      "[INFO    ] 2024-06-19 12:09:40 | page 17: 28 items\n",
      "[INFO    ] 2024-06-19 12:09:44 | page 18: 28 items\n",
      "[INFO    ] 2024-06-19 12:09:54 | page 19: 28 items\n",
      "[INFO    ] 2024-06-19 12:10:00 | page 20: 28 items\n",
      "[INFO    ] 2024-06-19 12:10:11 | page 21: 28 items\n",
      "[INFO    ] 2024-06-19 12:10:22 | page 22: 28 items\n",
      "[INFO    ] 2024-06-19 12:10:31 | page 23: 28 items\n",
      "[INFO    ] 2024-06-19 12:10:39 | page 24: 28 items\n",
      "[INFO    ] 2024-06-19 12:10:48 | page 25: 28 items\n",
      "[INFO    ] 2024-06-19 12:10:56 | page 26: 28 items\n",
      "[INFO    ] 2024-06-19 12:11:05 | page 27: 28 items\n",
      "[INFO    ] 2024-06-19 12:11:13 | page 28: 28 items\n",
      "[INFO    ] 2024-06-19 12:11:21 | page 29: 28 items\n",
      "[INFO    ] 2024-06-19 12:11:31 | page 30: 28 items\n",
      "[INFO    ] 2024-06-19 12:11:41 | page 31: 28 items\n",
      "[INFO    ] 2024-06-19 12:11:49 | page 32: 28 items\n",
      "[INFO    ] 2024-06-19 12:11:57 | page 33: 28 items\n",
      "[INFO    ] 2024-06-19 12:12:05 | page 34: 27 items\n",
      "[INFO    ] 2024-06-19 12:12:14 | page 35: 28 items\n",
      "[INFO    ] 2024-06-19 12:12:22 | page 36: 28 items\n",
      "[INFO    ] 2024-06-19 12:12:31 | page 37: 28 items\n",
      "[INFO    ] 2024-06-19 12:12:39 | page 38: 28 items\n",
      "[INFO    ] 2024-06-19 12:12:48 | page 39: 28 items\n",
      "[INFO    ] 2024-06-19 12:12:57 | page 40: 28 items\n",
      "[INFO    ] 2024-06-19 12:13:06 | page 41: 28 items\n",
      "[INFO    ] 2024-06-19 12:13:14 | page 42: 28 items\n",
      "[INFO    ] 2024-06-19 12:13:23 | page 43: 28 items\n",
      "[INFO    ] 2024-06-19 12:13:31 | page 44: 28 items\n",
      "[INFO    ] 2024-06-19 12:13:40 | page 45: 28 items\n",
      "[INFO    ] 2024-06-19 12:13:48 | page 46: 28 items\n",
      "[INFO    ] 2024-06-19 12:13:56 | page 47: 27 items\n",
      "[INFO    ] 2024-06-19 12:14:05 | page 48: 28 items\n",
      "[INFO    ] 2024-06-19 12:14:13 | page 49: 28 items\n",
      "[INFO    ] 2024-06-19 12:14:21 | page 50: 28 items\n",
      "[INFO    ] 2024-06-19 12:14:30 | page 51: 27 items\n",
      "[INFO    ] 2024-06-19 12:14:38 | page 52: 28 items\n",
      "[INFO    ] 2024-06-19 12:14:46 | page 53: 28 items\n",
      "[INFO    ] 2024-06-19 12:14:54 | page 54: 24 items\n"
     ]
    },
    {
     "data": {
      "text/plain": [
       "1505"
      ]
     },
     "metadata": {},
     "output_type": "display_data"
    },
    {
     "data": {
      "text/plain": [
       "'data/2024/raw/flat/cian/cian_2024-06-19_12-14_raw_sevastopol.pkl'"
      ]
     },
     "metadata": {},
     "output_type": "display_data"
    },
    {
     "data": {
      "text/plain": [
       "'https://sevastopol.cian.ru/kupit-zemelniy-uchastok/'"
      ]
     },
     "metadata": {},
     "output_type": "display_data"
    },
    {
     "name": "stdout",
     "output_type": "stream",
     "text": [
      "[INFO    ] 2024-06-19 12:15:04 | page 1: 28 items\n",
      "[INFO    ] 2024-06-19 12:15:13 | page 2: 28 items\n",
      "[INFO    ] 2024-06-19 12:16:00 | page 3: 28 items\n",
      "[INFO    ] 2024-06-19 12:16:08 | page 4: 28 items\n",
      "[INFO    ] 2024-06-19 12:16:16 | page 5: 28 items\n",
      "[INFO    ] 2024-06-19 12:16:24 | page 6: 28 items\n",
      "[INFO    ] 2024-06-19 12:16:32 | page 7: 28 items\n",
      "[INFO    ] 2024-06-19 12:16:39 | page 8: 28 items\n",
      "[INFO    ] 2024-06-19 12:16:47 | page 9: 28 items\n",
      "[INFO    ] 2024-06-19 12:16:56 | page 10: 28 items\n",
      "[INFO    ] 2024-06-19 12:17:03 | page 11: 28 items\n",
      "[INFO    ] 2024-06-19 12:17:11 | page 12: 28 items\n",
      "[INFO    ] 2024-06-19 12:17:20 | page 13: 28 items\n",
      "[INFO    ] 2024-06-19 12:17:26 | page 14: 28 items\n",
      "[INFO    ] 2024-06-19 12:17:34 | page 15: 25 items\n",
      "[INFO    ] 2024-06-19 12:17:41 | page 16: 28 items\n",
      "[INFO    ] 2024-06-19 12:17:49 | page 17: 28 items\n",
      "[INFO    ] 2024-06-19 12:17:57 | page 18: 28 items\n",
      "[INFO    ] 2024-06-19 12:18:04 | page 19: 28 items\n",
      "[INFO    ] 2024-06-19 12:18:12 | page 20: 28 items\n",
      "[INFO    ] 2024-06-19 12:19:19 | page 21: 28 items\n",
      "[INFO    ] 2024-06-19 12:19:26 | page 22: 28 items\n",
      "[INFO    ] 2024-06-19 12:19:34 | page 23: 28 items\n",
      "[INFO    ] 2024-06-19 12:19:42 | page 24: 28 items\n",
      "[INFO    ] 2024-06-19 12:19:49 | page 25: 28 items\n",
      "[INFO    ] 2024-06-19 12:19:58 | page 26: 28 items\n",
      "[INFO    ] 2024-06-19 12:20:05 | page 27: 28 items\n",
      "[INFO    ] 2024-06-19 12:20:12 | page 28: 28 items\n",
      "[INFO    ] 2024-06-19 12:20:18 | page 29: 28 items\n",
      "[INFO    ] 2024-06-19 12:20:25 | page 30: 28 items\n",
      "[INFO    ] 2024-06-19 12:20:33 | page 31: 28 items\n",
      "[INFO    ] 2024-06-19 12:20:41 | page 32: 28 items\n",
      "[INFO    ] 2024-06-19 12:20:50 | page 33: 28 items\n",
      "[INFO    ] 2024-06-19 12:20:58 | page 34: 28 items\n",
      "[INFO    ] 2024-06-19 12:21:05 | page 35: 28 items\n",
      "[INFO    ] 2024-06-19 12:21:13 | page 36: 28 items\n",
      "[INFO    ] 2024-06-19 12:21:20 | page 37: 28 items\n",
      "[INFO    ] 2024-06-19 12:21:28 | page 38: 28 items\n",
      "[INFO    ] 2024-06-19 12:21:37 | page 39: 28 items\n",
      "[INFO    ] 2024-06-19 12:21:44 | page 40: 28 items\n",
      "[INFO    ] 2024-06-19 12:21:51 | page 41: 28 items\n",
      "[INFO    ] 2024-06-19 12:21:59 | page 42: 28 items\n",
      "[INFO    ] 2024-06-19 12:22:06 | page 43: 28 items\n",
      "[INFO    ] 2024-06-19 12:22:14 | page 44: 28 items\n",
      "[INFO    ] 2024-06-19 12:22:22 | page 45: 28 items\n",
      "[INFO    ] 2024-06-19 12:22:30 | page 46: 28 items\n",
      "[INFO    ] 2024-06-19 12:22:38 | page 47: 28 items\n",
      "[INFO    ] 2024-06-19 12:22:45 | page 48: 28 items\n",
      "[INFO    ] 2024-06-19 12:22:54 | page 49: 28 items\n",
      "[INFO    ] 2024-06-19 12:23:02 | page 50: 28 items\n",
      "[INFO    ] 2024-06-19 12:23:09 | page 51: 28 items\n",
      "[INFO    ] 2024-06-19 12:23:17 | page 52: 28 items\n",
      "[INFO    ] 2024-06-19 12:23:25 | page 53: 28 items\n",
      "[INFO    ] 2024-06-19 12:23:33 | page 54: 25 items\n"
     ]
    },
    {
     "data": {
      "text/plain": [
       "1506"
      ]
     },
     "metadata": {},
     "output_type": "display_data"
    },
    {
     "data": {
      "text/plain": [
       "'data/2024/raw/land/cian/cian_2024-06-19_12-23_raw_sevastopol.pkl'"
      ]
     },
     "metadata": {},
     "output_type": "display_data"
    },
    {
     "data": {
      "text/plain": [
       "'https://sevastopol.cian.ru/kupit-dom/'"
      ]
     },
     "metadata": {},
     "output_type": "display_data"
    },
    {
     "name": "stdout",
     "output_type": "stream",
     "text": [
      "[INFO    ] 2024-06-19 12:25:25 | page 1: 28 items\n",
      "[INFO    ] 2024-06-19 12:25:37 | page 2: 28 items\n",
      "[INFO    ] 2024-06-19 12:25:48 | page 3: 28 items\n",
      "[INFO    ] 2024-06-19 12:26:01 | page 4: 28 items\n",
      "[INFO    ] 2024-06-19 12:26:12 | page 5: 28 items\n",
      "[INFO    ] 2024-06-19 12:26:23 | page 6: 28 items\n",
      "[INFO    ] 2024-06-19 12:26:35 | page 7: 28 items\n",
      "[INFO    ] 2024-06-19 12:26:46 | page 8: 28 items\n",
      "[INFO    ] 2024-06-19 12:26:58 | page 9: 28 items\n",
      "[INFO    ] 2024-06-19 12:27:06 | page 10: 28 items\n",
      "[INFO    ] 2024-06-19 12:27:17 | page 11: 28 items\n",
      "[INFO    ] 2024-06-19 12:29:33 | page 12: 28 items\n",
      "[INFO    ] 2024-06-19 12:29:43 | page 13: 28 items\n",
      "[INFO    ] 2024-06-19 12:29:54 | page 14: 28 items\n",
      "[INFO    ] 2024-06-19 12:30:03 | page 15: 25 items\n",
      "[INFO    ] 2024-06-19 12:30:12 | page 16: 28 items\n",
      "[INFO    ] 2024-06-19 12:30:21 | page 17: 28 items\n",
      "[INFO    ] 2024-06-19 12:34:11 | page 18: 28 items\n",
      "[INFO    ] 2024-06-19 12:34:15 | page 19: 28 items\n",
      "[INFO    ] 2024-06-19 12:34:19 | page 20: 28 items\n",
      "[INFO    ] 2024-06-19 12:34:23 | page 21: 28 items\n",
      "[INFO    ] 2024-06-19 12:34:27 | page 22: 28 items\n",
      "[INFO    ] 2024-06-19 12:34:31 | page 23: 28 items\n",
      "[INFO    ] 2024-06-19 12:34:35 | page 24: 28 items\n",
      "[INFO    ] 2024-06-19 12:34:39 | page 25: 28 items\n",
      "[INFO    ] 2024-06-19 12:34:45 | page 26: 28 items\n",
      "[INFO    ] 2024-06-19 12:34:52 | page 27: 28 items\n",
      "[INFO    ] 2024-06-19 12:34:57 | page 28: 28 items\n",
      "[INFO    ] 2024-06-19 12:35:02 | page 29: 27 items\n",
      "[INFO    ] 2024-06-19 12:35:06 | page 30: 28 items\n",
      "[INFO    ] 2024-06-19 12:35:10 | page 31: 28 items\n",
      "[INFO    ] 2024-06-19 12:35:14 | page 32: 27 items\n",
      "[INFO    ] 2024-06-19 12:35:18 | page 33: 28 items\n",
      "[INFO    ] 2024-06-19 12:35:22 | page 34: 28 items\n",
      "[INFO    ] 2024-06-19 12:35:27 | page 35: 28 items\n",
      "[INFO    ] 2024-06-19 12:35:34 | page 36: 28 items\n",
      "[INFO    ] 2024-06-19 12:35:38 | page 37: 28 items\n",
      "[INFO    ] 2024-06-19 12:35:44 | page 38: 28 items\n",
      "[INFO    ] 2024-06-19 12:35:51 | page 39: 28 items\n",
      "[INFO    ] 2024-06-19 12:35:58 | page 40: 28 items\n",
      "[INFO    ] 2024-06-19 12:36:05 | page 41: 27 items\n",
      "[INFO    ] 2024-06-19 12:36:12 | page 42: 28 items\n",
      "[INFO    ] 2024-06-19 12:36:19 | page 43: 28 items\n",
      "[INFO    ] 2024-06-19 12:36:23 | page 44: 28 items\n",
      "[INFO    ] 2024-06-19 12:36:30 | page 45: 27 items\n",
      "[INFO    ] 2024-06-19 12:36:34 | page 46: 28 items\n",
      "[INFO    ] 2024-06-19 12:36:41 | page 47: 28 items\n",
      "[INFO    ] 2024-06-19 12:36:47 | page 48: 27 items\n",
      "[INFO    ] 2024-06-19 12:36:54 | page 49: 28 items\n",
      "[INFO    ] 2024-06-19 12:36:58 | page 50: 28 items\n",
      "[INFO    ] 2024-06-19 12:37:03 | page 51: 28 items\n",
      "[INFO    ] 2024-06-19 12:37:09 | page 52: 28 items\n",
      "[INFO    ] 2024-06-19 12:37:16 | page 53: 28 items\n",
      "[INFO    ] 2024-06-19 12:37:23 | page 54: 25 items\n"
     ]
    },
    {
     "data": {
      "text/plain": [
       "1501"
      ]
     },
     "metadata": {},
     "output_type": "display_data"
    },
    {
     "data": {
      "text/plain": [
       "'data/2024/raw/house/cian/cian_2024-06-19_12-37_raw_sevastopol.pkl'"
      ]
     },
     "metadata": {},
     "output_type": "display_data"
    },
    {
     "data": {
      "text/plain": [
       "'https://krym.cian.ru/kupit-kvartiru-krym-sudak/'"
      ]
     },
     "metadata": {},
     "output_type": "display_data"
    },
    {
     "name": "stdout",
     "output_type": "stream",
     "text": [
      "[INFO    ] 2024-06-19 12:37:30 | page 1: 28 items\n",
      "[INFO    ] 2024-06-19 12:37:38 | page 2: 28 items\n",
      "[INFO    ] 2024-06-19 12:37:46 | page 3: 28 items\n",
      "[INFO    ] 2024-06-19 12:37:53 | page 4: 28 items\n",
      "[INFO    ] 2024-06-19 12:38:01 | page 5: 28 items\n",
      "[INFO    ] 2024-06-19 12:38:08 | page 6: 28 items\n",
      "[INFO    ] 2024-06-19 12:38:15 | page 7: 28 items\n",
      "[INFO    ] 2024-06-19 12:38:19 | page 8: 28 items\n",
      "[INFO    ] 2024-06-19 12:38:23 | page 9: 20 items\n"
     ]
    },
    {
     "data": {
      "text/plain": [
       "244"
      ]
     },
     "metadata": {},
     "output_type": "display_data"
    },
    {
     "data": {
      "text/plain": [
       "'data/2024/raw/flat/cian/cian_2024-06-19_12-38_raw_sudak.pkl'"
      ]
     },
     "metadata": {},
     "output_type": "display_data"
    },
    {
     "data": {
      "text/plain": [
       "'https://krym.cian.ru/kupit-zemelniy-uchastok-krym-sudak/'"
      ]
     },
     "metadata": {},
     "output_type": "display_data"
    },
    {
     "name": "stdout",
     "output_type": "stream",
     "text": [
      "[INFO    ] 2024-06-19 12:38:28 | page 1: 28 items\n",
      "[INFO    ] 2024-06-19 12:38:32 | page 2: 25 items\n"
     ]
    },
    {
     "data": {
      "text/plain": [
       "53"
      ]
     },
     "metadata": {},
     "output_type": "display_data"
    },
    {
     "data": {
      "text/plain": [
       "'data/2024/raw/land/cian/cian_2024-06-19_12-38_raw_sudak.pkl'"
      ]
     },
     "metadata": {},
     "output_type": "display_data"
    },
    {
     "data": {
      "text/plain": [
       "'https://krym.cian.ru/kupit-dom-krym-sudak/'"
      ]
     },
     "metadata": {},
     "output_type": "display_data"
    },
    {
     "name": "stdout",
     "output_type": "stream",
     "text": [
      "[INFO    ] 2024-06-19 12:38:38 | page 1: 28 items\n",
      "[INFO    ] 2024-06-19 12:38:45 | page 2: 28 items\n",
      "[INFO    ] 2024-06-19 12:38:52 | page 3: 28 items\n",
      "[INFO    ] 2024-06-19 12:38:56 | page 4: 25 items\n"
     ]
    },
    {
     "data": {
      "text/plain": [
       "109"
      ]
     },
     "metadata": {},
     "output_type": "display_data"
    },
    {
     "data": {
      "text/plain": [
       "'data/2024/raw/house/cian/cian_2024-06-19_12-38_raw_sudak.pkl'"
      ]
     },
     "metadata": {},
     "output_type": "display_data"
    },
    {
     "name": "stdout",
     "output_type": "stream",
     "text": [
      "CPU times: user 39.6 s, sys: 1.49 s, total: 41.1 s\n",
      "Wall time: 31min 5s\n"
     ]
    }
   ],
   "source": [
    "%%time \n",
    "\n",
    "#from selenium.webdriver.firefox.options import Options\n",
    "#from selenium.webdriver.firefox.options import FirefoxProfile\n",
    "# profile_path = '/home/mechanoid/.mozilla/firefox/4btdfxw1.default-release'\n",
    "# options = Options()\n",
    "# options.profile = FirefoxProfile(profile_path) \n",
    "# options.headless = True\n",
    "# browser = webdriver.Firefox(options=options)\n",
    "\n",
    "options = webdriver.FirefoxOptions()\n",
    "options.headless = True\n",
    "browser = webdriver.Firefox(options=options)\n",
    "logging.info('open virtual browser')\n",
    "\n",
    "for s in source:\n",
    "\n",
    "    url = s['url']\n",
    "    place = s['place']\n",
    "    subfolder = s['subfolder'] \n",
    "    \n",
    "    display(url)\n",
    "    browser.get(url)\n",
    "    \n",
    "    data = CianParser().transform(browser)\n",
    "    assert len(data)>0\n",
    "    \n",
    "    df = pd.DataFrame(data)\n",
    "    df['ts'] = datetime.now()\n",
    "    df['place'] = place\n",
    "    \n",
    "    display( len(df) )\n",
    "    t_now = datetime.now().strftime('%Y-%m-%d_%H-%M')\n",
    "    fname = f'{dest_folder}/{subfolder}/cian/cian_{t_now}_raw_{place}.pkl'\n",
    "    df.to_pickle(fname)\n",
    "    display( fname )\n",
    "       \n",
    "browser.close()"
   ]
  },
  {
   "cell_type": "code",
   "execution_count": 9,
   "id": "ff5bb5ec",
   "metadata": {},
   "outputs": [
    {
     "name": "stdout",
     "output_type": "stream",
     "text": [
      "Ср 19 июн 2024 12:38:58 MSK\r\n"
     ]
    }
   ],
   "source": [
    "!date"
   ]
  },
  {
   "cell_type": "code",
   "execution_count": 10,
   "id": "9bb57abb",
   "metadata": {},
   "outputs": [],
   "source": [
    "# browser.close()"
   ]
  }
 ],
 "metadata": {
  "kernelspec": {
   "display_name": "Python 3 (ipykernel)",
   "language": "python",
   "name": "python3"
  },
  "language_info": {
   "codemirror_mode": {
    "name": "ipython",
    "version": 3
   },
   "file_extension": ".py",
   "mimetype": "text/x-python",
   "name": "python",
   "nbconvert_exporter": "python",
   "pygments_lexer": "ipython3",
   "version": "3.12.3"
  }
 },
 "nbformat": 4,
 "nbformat_minor": 5
}
