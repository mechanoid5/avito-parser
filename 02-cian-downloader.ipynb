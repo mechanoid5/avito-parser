{
 "cells": [
  {
   "cell_type": "markdown",
   "id": "7ed68c56",
   "metadata": {},
   "source": [
    "__качаем объявления о продаже недвижимости с циан.ru__\n",
    "\n",
    "_Evgeny S. Borisov <parser@mechanoid.su>_"
   ]
  },
  {
   "cell_type": "code",
   "execution_count": 1,
   "id": "072330b0",
   "metadata": {},
   "outputs": [],
   "source": [
    "import logging\n",
    "import sys \n",
    "\n",
    "logging.basicConfig(\n",
    "        format=u'[%(levelname)-8s] %(asctime)s | %(message)s',\n",
    "        datefmt='%Y-%m-%d %H:%M:%S',\n",
    "        level=logging.INFO,\n",
    "        # level=logging.DEBUG,\n",
    "        stream=sys.stdout,\n",
    "    )"
   ]
  },
  {
   "cell_type": "code",
   "execution_count": 2,
   "id": "98a3f294",
   "metadata": {},
   "outputs": [],
   "source": [
    "from time import sleep\n",
    "from tqdm.auto import tqdm\n",
    "import pandas as pd\n",
    "from datetime import datetime \n",
    "\n",
    "pd.set_option('display.max_colwidth', None)\n",
    "pd.set_option('display.float_format', '{:.2f}'.format)\n",
    "tqdm.pandas()"
   ]
  },
  {
   "cell_type": "markdown",
   "id": "97716384",
   "metadata": {},
   "source": [
    "---"
   ]
  },
  {
   "cell_type": "code",
   "execution_count": 3,
   "id": "8c89b773",
   "metadata": {},
   "outputs": [],
   "source": [
    "source = [\n",
    "    {\n",
    "            'place': 'sevastopol',\n",
    "        'subfolder': 'flat',\n",
    "              'url': 'https://sevastopol.cian.ru/kupit-kvartiru/',\n",
    "    },{\n",
    "            'place': 'sevastopol',\n",
    "        'subfolder': 'land',\n",
    "              'url': 'https://sevastopol.cian.ru/kupit-zemelniy-uchastok/',\n",
    "    },{\n",
    "            'place': 'sevastopol',\n",
    "        'subfolder': 'house',\n",
    "              'url': 'https://sevastopol.cian.ru/kupit-dom/',\n",
    "    },{\n",
    "            'place': 'sudak',\n",
    "        'subfolder': 'flat',\n",
    "              'url': 'https://krym.cian.ru/kupit-kvartiru-krym-sudak/',\n",
    "    },{\n",
    "            'place': 'sudak',\n",
    "        'subfolder': 'land',\n",
    "              'url': 'https://krym.cian.ru/kupit-zemelniy-uchastok-krym-sudak/',\n",
    "    },{\n",
    "            'place': 'sudak',\n",
    "        'subfolder': 'house',\n",
    "              'url': 'https://krym.cian.ru/kupit-dom-krym-sudak/',\n",
    "    },    \n",
    "#     {\n",
    "#             'place': 'bahchisaray',\n",
    "#         'subfolder': 'flat',\n",
    "#               'url': 'https://krym.cian.ru/kupit-kvartiru-krym-bahchisaray/',\n",
    "#     }, {\n",
    "#             'place': 'bahchisaray',\n",
    "#         'subfolder': 'land',\n",
    "#               'url': 'https://krym.cian.ru/kupit-zemelniy-uchastok-krym-bahchisaray/',\n",
    "#     },{\n",
    "#             'place': 'bahchisaray',\n",
    "#         'subfolder': 'house',\n",
    "#               'url': 'https://krym.cian.ru/kupit-dom-krym-bahchisaray/',\n",
    "#     },\n",
    "\n",
    "]\n"
   ]
  },
  {
   "cell_type": "markdown",
   "id": "58b1d75f",
   "metadata": {},
   "source": [
    "---"
   ]
  },
  {
   "cell_type": "code",
   "execution_count": 4,
   "id": "84989450",
   "metadata": {},
   "outputs": [],
   "source": [
    "# from selenium import webdriver\n",
    "# from lib.cian import CianPageParser\n",
    "\n",
    "# browser = webdriver.Firefox()\n",
    "# browser.get(source[0]['url'])\n",
    "# data = CianPageParser().transform(browser)\n",
    "# browser.close()"
   ]
  },
  {
   "cell_type": "code",
   "execution_count": 5,
   "id": "6dffb73b",
   "metadata": {},
   "outputs": [],
   "source": [
    "# data\n",
    "# browser.close()"
   ]
  },
  {
   "cell_type": "markdown",
   "id": "d725357e",
   "metadata": {},
   "source": [
    "---"
   ]
  },
  {
   "cell_type": "code",
   "execution_count": 6,
   "id": "809e913f",
   "metadata": {},
   "outputs": [],
   "source": [
    "dest_folder = 'data/2024/raw'"
   ]
  },
  {
   "cell_type": "code",
   "execution_count": 7,
   "id": "3475a18d",
   "metadata": {},
   "outputs": [],
   "source": [
    "from selenium import webdriver\n",
    "# from selenium.webdriver.common.by import By\n",
    "from lib.cian import CianParser\n",
    "# from lib.cian import CianDataCleaner"
   ]
  },
  {
   "cell_type": "code",
   "execution_count": 8,
   "id": "4cd65147",
   "metadata": {
    "scrolled": false
   },
   "outputs": [
    {
     "name": "stdout",
     "output_type": "stream",
     "text": [
      "[INFO    ] 2024-07-08 14:00:30 | open virtual browser\n"
     ]
    },
    {
     "data": {
      "text/plain": [
       "'https://sevastopol.cian.ru/kupit-dom/'"
      ]
     },
     "metadata": {},
     "output_type": "display_data"
    },
    {
     "name": "stdout",
     "output_type": "stream",
     "text": [
      "[INFO    ] 2024-07-08 14:00:37 | page 1: 28 items\n",
      "[INFO    ] 2024-07-08 14:00:46 | page 2: 28 items\n",
      "[INFO    ] 2024-07-08 14:00:54 | page 3: 28 items\n",
      "[INFO    ] 2024-07-08 14:01:02 | page 4: 28 items\n",
      "[INFO    ] 2024-07-08 14:01:09 | page 5: 28 items\n",
      "[INFO    ] 2024-07-08 14:01:18 | page 6: 28 items\n",
      "[INFO    ] 2024-07-08 14:01:26 | page 7: 28 items\n",
      "[INFO    ] 2024-07-08 14:01:31 | page 8: 28 items\n",
      "[INFO    ] 2024-07-08 14:01:35 | page 9: 28 items\n",
      "[INFO    ] 2024-07-08 14:01:40 | page 10: 28 items\n",
      "[INFO    ] 2024-07-08 14:01:50 | page 11: 28 items\n",
      "[INFO    ] 2024-07-08 14:01:59 | page 12: 28 items\n",
      "[INFO    ] 2024-07-08 14:02:07 | page 13: 28 items\n",
      "[INFO    ] 2024-07-08 14:02:14 | page 14: 28 items\n",
      "[INFO    ] 2024-07-08 14:02:19 | page 15: 25 items\n",
      "[INFO    ] 2024-07-08 14:02:28 | page 16: 28 items\n",
      "[INFO    ] 2024-07-08 14:02:31 | page 17: 28 items\n",
      "[INFO    ] 2024-07-08 14:02:35 | page 18: 28 items\n",
      "[INFO    ] 2024-07-08 14:02:39 | page 19: 28 items\n",
      "[INFO    ] 2024-07-08 14:02:42 | page 20: 28 items\n",
      "[INFO    ] 2024-07-08 14:02:46 | page 21: 27 items\n",
      "[INFO    ] 2024-07-08 14:02:50 | page 22: 28 items\n",
      "[INFO    ] 2024-07-08 14:02:55 | page 23: 28 items\n",
      "[INFO    ] 2024-07-08 14:03:01 | page 24: 28 items\n",
      "[INFO    ] 2024-07-08 14:03:05 | page 25: 28 items\n",
      "[INFO    ] 2024-07-08 14:03:11 | page 26: 28 items\n",
      "[INFO    ] 2024-07-08 14:03:15 | page 27: 28 items\n",
      "[INFO    ] 2024-07-08 14:03:21 | page 28: 28 items\n",
      "[INFO    ] 2024-07-08 14:03:25 | page 29: 28 items\n",
      "[INFO    ] 2024-07-08 14:03:29 | page 30: 28 items\n",
      "[INFO    ] 2024-07-08 14:03:34 | page 31: 27 items\n",
      "[INFO    ] 2024-07-08 14:03:38 | page 32: 28 items\n",
      "[INFO    ] 2024-07-08 14:03:44 | page 33: 28 items\n",
      "[INFO    ] 2024-07-08 14:03:51 | page 34: 28 items\n",
      "[INFO    ] 2024-07-08 14:03:57 | page 35: 28 items\n",
      "[INFO    ] 2024-07-08 14:04:03 | page 36: 28 items\n",
      "[INFO    ] 2024-07-08 14:04:06 | page 37: 28 items\n",
      "[INFO    ] 2024-07-08 14:04:10 | page 38: 28 items\n",
      "[INFO    ] 2024-07-08 14:04:17 | page 39: 28 items\n",
      "[INFO    ] 2024-07-08 14:04:21 | page 40: 28 items\n",
      "[INFO    ] 2024-07-08 14:04:27 | page 41: 27 items\n",
      "[INFO    ] 2024-07-08 14:04:31 | page 42: 28 items\n",
      "[INFO    ] 2024-07-08 14:04:35 | page 43: 28 items\n",
      "[INFO    ] 2024-07-08 14:04:39 | page 44: 27 items\n",
      "[INFO    ] 2024-07-08 14:04:43 | page 45: 25 items\n",
      "[INFO    ] 2024-07-08 14:04:47 | page 46: 28 items\n",
      "[INFO    ] 2024-07-08 14:04:51 | page 47: 27 items\n",
      "[INFO    ] 2024-07-08 14:04:55 | page 48: 28 items\n",
      "[INFO    ] 2024-07-08 14:04:59 | page 49: 28 items\n",
      "[INFO    ] 2024-07-08 14:05:05 | page 50: 28 items\n",
      "[INFO    ] 2024-07-08 14:05:09 | page 51: 28 items\n",
      "[INFO    ] 2024-07-08 14:05:15 | page 52: 28 items\n",
      "[INFO    ] 2024-07-08 14:05:21 | page 53: 28 items\n",
      "[INFO    ] 2024-07-08 14:05:28 | page 54: 25 items\n"
     ]
    },
    {
     "data": {
      "text/plain": [
       "1498"
      ]
     },
     "metadata": {},
     "output_type": "display_data"
    },
    {
     "data": {
      "text/plain": [
       "'data/2024/raw/house/cian/cian_2024-07-08_14-05_raw_sevastopol.pkl'"
      ]
     },
     "metadata": {},
     "output_type": "display_data"
    },
    {
     "data": {
      "text/plain": [
       "'https://krym.cian.ru/kupit-kvartiru-krym-sudak/'"
      ]
     },
     "metadata": {},
     "output_type": "display_data"
    },
    {
     "name": "stdout",
     "output_type": "stream",
     "text": [
      "[INFO    ] 2024-07-08 14:05:36 | page 1: 28 items\n",
      "[INFO    ] 2024-07-08 14:05:44 | page 2: 28 items\n",
      "[INFO    ] 2024-07-08 14:05:51 | page 3: 28 items\n",
      "[INFO    ] 2024-07-08 14:05:58 | page 4: 28 items\n",
      "[INFO    ] 2024-07-08 14:06:05 | page 5: 28 items\n",
      "[INFO    ] 2024-07-08 14:06:09 | page 6: 28 items\n",
      "[INFO    ] 2024-07-08 14:06:13 | page 7: 28 items\n",
      "[INFO    ] 2024-07-08 14:06:18 | page 8: 28 items\n",
      "[INFO    ] 2024-07-08 14:06:22 | page 9: 24 items\n"
     ]
    },
    {
     "data": {
      "text/plain": [
       "248"
      ]
     },
     "metadata": {},
     "output_type": "display_data"
    },
    {
     "data": {
      "text/plain": [
       "'data/2024/raw/flat/cian/cian_2024-07-08_14-06_raw_sudak.pkl'"
      ]
     },
     "metadata": {},
     "output_type": "display_data"
    },
    {
     "data": {
      "text/plain": [
       "'https://krym.cian.ru/kupit-zemelniy-uchastok-krym-sudak/'"
      ]
     },
     "metadata": {},
     "output_type": "display_data"
    },
    {
     "name": "stdout",
     "output_type": "stream",
     "text": [
      "[INFO    ] 2024-07-08 14:06:28 | page 1: 28 items\n",
      "[INFO    ] 2024-07-08 14:06:32 | page 2: 28 items\n",
      "[INFO    ] 2024-07-08 14:06:38 | page 3: 28 items\n",
      "[INFO    ] 2024-07-08 14:06:45 | page 4: 28 items\n",
      "[INFO    ] 2024-07-08 14:06:52 | page 5: 28 items\n",
      "[INFO    ] 2024-07-08 14:06:58 | page 6: 28 items\n",
      "[INFO    ] 2024-07-08 14:07:05 | page 7: 28 items\n",
      "[INFO    ] 2024-07-08 14:07:12 | page 8: 28 items\n",
      "[INFO    ] 2024-07-08 14:07:18 | page 9: 28 items\n",
      "[INFO    ] 2024-07-08 14:07:25 | page 10: 28 items\n",
      "[INFO    ] 2024-07-08 14:07:31 | page 11: 28 items\n",
      "[INFO    ] 2024-07-08 14:07:37 | page 12: 28 items\n",
      "[INFO    ] 2024-07-08 14:07:43 | page 13: 28 items\n",
      "[INFO    ] 2024-07-08 14:07:49 | page 14: 25 items\n"
     ]
    },
    {
     "data": {
      "text/plain": [
       "389"
      ]
     },
     "metadata": {},
     "output_type": "display_data"
    },
    {
     "data": {
      "text/plain": [
       "'data/2024/raw/land/cian/cian_2024-07-08_14-07_raw_sudak.pkl'"
      ]
     },
     "metadata": {},
     "output_type": "display_data"
    },
    {
     "data": {
      "text/plain": [
       "'https://krym.cian.ru/kupit-dom-krym-sudak/'"
      ]
     },
     "metadata": {},
     "output_type": "display_data"
    },
    {
     "name": "stdout",
     "output_type": "stream",
     "text": [
      "[INFO    ] 2024-07-08 14:07:57 | page 1: 28 items\n",
      "[INFO    ] 2024-07-08 14:08:07 | page 2: 28 items\n",
      "[INFO    ] 2024-07-08 14:08:16 | page 3: 28 items\n",
      "[INFO    ] 2024-07-08 14:08:31 | page 4: 28 items\n",
      "[INFO    ] 2024-07-08 14:08:39 | page 5: 28 items\n",
      "[INFO    ] 2024-07-08 14:10:54 | page 6: 28 items\n",
      "[INFO    ] 2024-07-08 14:10:58 | page 7: 28 items\n",
      "[INFO    ] 2024-07-08 14:11:03 | page 8: 28 items\n",
      "[INFO    ] 2024-07-08 14:11:19 | page 9: 28 items\n",
      "[INFO    ] 2024-07-08 14:11:36 | page 10: 26 items\n"
     ]
    },
    {
     "data": {
      "text/plain": [
       "278"
      ]
     },
     "metadata": {},
     "output_type": "display_data"
    },
    {
     "data": {
      "text/plain": [
       "'data/2024/raw/house/cian/cian_2024-07-08_14-11_raw_sudak.pkl'"
      ]
     },
     "metadata": {},
     "output_type": "display_data"
    },
    {
     "name": "stdout",
     "output_type": "stream",
     "text": [
      "CPU times: user 18.7 s, sys: 755 ms, total: 19.4 s\n",
      "Wall time: 11min 10s\n"
     ]
    }
   ],
   "source": [
    "%%time \n",
    "\n",
    "#from selenium.webdriver.firefox.options import Options\n",
    "#from selenium.webdriver.firefox.options import FirefoxProfile\n",
    "# profile_path = '/home/mechanoid/.mozilla/firefox/4btdfxw1.default-release'\n",
    "# options = Options()\n",
    "# options.profile = FirefoxProfile(profile_path) \n",
    "# options.headless = True\n",
    "# browser = webdriver.Firefox(options=options)\n",
    "\n",
    "options = webdriver.FirefoxOptions()\n",
    "options.headless = True\n",
    "browser = webdriver.Firefox(options=options)\n",
    "logging.info('open virtual browser')\n",
    "\n",
    "for s in source:\n",
    "\n",
    "    url = s['url']\n",
    "    place = s['place']\n",
    "    subfolder = s['subfolder'] \n",
    "    \n",
    "    display(url)\n",
    "    browser.get(url)\n",
    "    \n",
    "    data = CianParser().transform(browser)\n",
    "    assert len(data)>0\n",
    "    \n",
    "    df = pd.DataFrame(data)\n",
    "    df['ts'] = datetime.now()\n",
    "    df['place'] = place\n",
    "    \n",
    "    display( len(df) )\n",
    "    t_now = datetime.now().strftime('%Y-%m-%d_%H-%M')\n",
    "    fname = f'{dest_folder}/{subfolder}/cian/cian_{t_now}_raw_{place}.pkl'\n",
    "    df.to_pickle(fname)\n",
    "    display( fname )\n",
    "       \n",
    "browser.close()"
   ]
  },
  {
   "cell_type": "code",
   "execution_count": 9,
   "id": "ff5bb5ec",
   "metadata": {},
   "outputs": [
    {
     "name": "stdout",
     "output_type": "stream",
     "text": [
      "Пн 08 июл 2024 14:11:39 MSK\r\n"
     ]
    }
   ],
   "source": [
    "!date"
   ]
  },
  {
   "cell_type": "code",
   "execution_count": null,
   "id": "9bb57abb",
   "metadata": {},
   "outputs": [],
   "source": [
    "# browser.close()"
   ]
  }
 ],
 "metadata": {
  "kernelspec": {
   "display_name": "Python 3 (ipykernel)",
   "language": "python",
   "name": "python3"
  },
  "language_info": {
   "codemirror_mode": {
    "name": "ipython",
    "version": 3
   },
   "file_extension": ".py",
   "mimetype": "text/x-python",
   "name": "python",
   "nbconvert_exporter": "python",
   "pygments_lexer": "ipython3",
   "version": "3.12.3"
  }
 },
 "nbformat": 4,
 "nbformat_minor": 5
}
