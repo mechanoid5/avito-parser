{
 "cells": [
  {
   "cell_type": "markdown",
   "id": "7ed68c56",
   "metadata": {},
   "source": [
    "__качаем объявления о продаже недвижимости с циан.ru__\n",
    "\n",
    "_Evgeny S. Borisov <parser@mechanoid.su>_"
   ]
  },
  {
   "cell_type": "code",
   "execution_count": 1,
   "id": "072330b0",
   "metadata": {},
   "outputs": [],
   "source": [
    "import logging\n",
    "import sys \n",
    "\n",
    "logging.basicConfig(\n",
    "        format=u'[%(levelname)-8s] %(asctime)s | %(message)s',\n",
    "        datefmt='%Y-%m-%d %H:%M:%S',\n",
    "        level=logging.INFO,\n",
    "        # level=logging.DEBUG,\n",
    "        stream=sys.stdout,\n",
    "    )"
   ]
  },
  {
   "cell_type": "code",
   "execution_count": 2,
   "id": "98a3f294",
   "metadata": {},
   "outputs": [],
   "source": [
    "from time import sleep\n",
    "from tqdm.auto import tqdm\n",
    "import pandas as pd\n",
    "from datetime import datetime \n",
    "\n",
    "pd.set_option('display.max_colwidth', None)\n",
    "pd.set_option('display.float_format', '{:.2f}'.format)\n",
    "tqdm.pandas()"
   ]
  },
  {
   "cell_type": "markdown",
   "id": "97716384",
   "metadata": {},
   "source": [
    "---"
   ]
  },
  {
   "cell_type": "code",
   "execution_count": 3,
   "id": "8c89b773",
   "metadata": {},
   "outputs": [],
   "source": [
    "source = [\n",
    "    {\n",
    "            'place': 'sevastopol',\n",
    "        'subfolder': 'flat',\n",
    "              'url': 'https://sevastopol.cian.ru/kupit-kvartiru/',\n",
    "    },{\n",
    "            'place': 'sevastopol',\n",
    "        'subfolder': 'land',\n",
    "              'url': 'https://sevastopol.cian.ru/kupit-zemelniy-uchastok/',\n",
    "    },{\n",
    "            'place': 'sevastopol',\n",
    "        'subfolder': 'house',\n",
    "              'url': 'https://sevastopol.cian.ru/kupit-dom/',\n",
    "    },{\n",
    "            'place': 'sudak',\n",
    "        'subfolder': 'flat',\n",
    "              'url': 'https://krym.cian.ru/kupit-kvartiru-krym-sudak/',\n",
    "    },{\n",
    "            'place': 'sudak',\n",
    "        'subfolder': 'land',\n",
    "              'url': 'https://krym.cian.ru/kupit-zemelniy-uchastok-krym-sudak/',\n",
    "    },{\n",
    "            'place': 'sudak',\n",
    "        'subfolder': 'house',\n",
    "              'url': 'https://krym.cian.ru/kupit-dom-krym-sudak/',\n",
    "    },    \n",
    "#     {\n",
    "#             'place': 'bahchisaray',\n",
    "#         'subfolder': 'flat',\n",
    "#               'url': 'https://krym.cian.ru/kupit-kvartiru-krym-bahchisaray/',\n",
    "#     }, {\n",
    "#             'place': 'bahchisaray',\n",
    "#         'subfolder': 'land',\n",
    "#               'url': 'https://krym.cian.ru/kupit-zemelniy-uchastok-krym-bahchisaray/',\n",
    "#     },{\n",
    "#             'place': 'bahchisaray',\n",
    "#         'subfolder': 'house',\n",
    "#               'url': 'https://krym.cian.ru/kupit-dom-krym-bahchisaray/',\n",
    "#     },\n",
    "\n",
    "]\n"
   ]
  },
  {
   "cell_type": "markdown",
   "id": "58b1d75f",
   "metadata": {},
   "source": [
    "---"
   ]
  },
  {
   "cell_type": "code",
   "execution_count": 4,
   "id": "84989450",
   "metadata": {},
   "outputs": [],
   "source": [
    "# from selenium import webdriver\n",
    "# from lib.cian import CianPageParser\n",
    "\n",
    "# browser = webdriver.Firefox()\n",
    "# browser.get(source[0]['url'])\n",
    "# data = CianPageParser().transform(browser)\n",
    "# browser.close()"
   ]
  },
  {
   "cell_type": "code",
   "execution_count": 5,
   "id": "6dffb73b",
   "metadata": {},
   "outputs": [],
   "source": [
    "# data\n",
    "# browser.close()"
   ]
  },
  {
   "cell_type": "markdown",
   "id": "d725357e",
   "metadata": {},
   "source": [
    "---"
   ]
  },
  {
   "cell_type": "code",
   "execution_count": 6,
   "id": "809e913f",
   "metadata": {},
   "outputs": [],
   "source": [
    "dest_folder = 'data/2024/raw'"
   ]
  },
  {
   "cell_type": "code",
   "execution_count": 7,
   "id": "3475a18d",
   "metadata": {},
   "outputs": [],
   "source": [
    "from selenium import webdriver\n",
    "# from selenium.webdriver.common.by import By\n",
    "from lib.cian import CianParser\n",
    "# from lib.cian import CianDataCleaner"
   ]
  },
  {
   "cell_type": "code",
   "execution_count": 8,
   "id": "4cd65147",
   "metadata": {
    "scrolled": false
   },
   "outputs": [
    {
     "name": "stdout",
     "output_type": "stream",
     "text": [
      "[INFO    ] 2024-09-24 11:04:22 | open virtual browser\n"
     ]
    },
    {
     "data": {
      "text/plain": [
       "'https://sevastopol.cian.ru/kupit-kvartiru/'"
      ]
     },
     "metadata": {},
     "output_type": "display_data"
    },
    {
     "name": "stdout",
     "output_type": "stream",
     "text": [
      "[INFO    ] 2024-09-24 11:04:34 | page 1: 28 items\n",
      "[INFO    ] 2024-09-24 11:04:41 | page 2: 28 items\n",
      "[INFO    ] 2024-09-24 11:04:48 | page 3: 28 items\n",
      "[INFO    ] 2024-09-24 11:04:54 | page 4: 28 items\n",
      "[INFO    ] 2024-09-24 11:05:04 | page 5: 28 items\n",
      "[INFO    ] 2024-09-24 11:05:09 | page 6: 28 items\n",
      "[INFO    ] 2024-09-24 11:05:13 | page 7: 28 items\n",
      "[INFO    ] 2024-09-24 11:05:19 | page 8: 28 items\n",
      "[INFO    ] 2024-09-24 11:05:23 | page 9: 28 items\n",
      "[INFO    ] 2024-09-24 11:05:30 | page 10: 28 items\n",
      "[INFO    ] 2024-09-24 11:05:36 | page 11: 28 items\n",
      "[INFO    ] 2024-09-24 11:05:40 | page 12: 28 items\n",
      "[INFO    ] 2024-09-24 11:05:46 | page 13: 28 items\n",
      "[INFO    ] 2024-09-24 11:05:50 | page 14: 28 items\n",
      "[INFO    ] 2024-09-24 11:05:54 | page 15: 28 items\n",
      "[INFO    ] 2024-09-24 11:05:57 | page 16: 28 items\n",
      "[INFO    ] 2024-09-24 11:06:00 | page 17: 28 items\n",
      "[INFO    ] 2024-09-24 11:06:05 | page 18: 28 items\n",
      "[INFO    ] 2024-09-24 11:06:09 | page 19: 28 items\n",
      "[INFO    ] 2024-09-24 11:06:13 | page 20: 28 items\n",
      "[INFO    ] 2024-09-24 11:06:18 | page 21: 28 items\n",
      "[INFO    ] 2024-09-24 11:06:21 | page 22: 27 items\n",
      "[INFO    ] 2024-09-24 11:06:26 | page 23: 28 items\n",
      "[INFO    ] 2024-09-24 11:06:31 | page 24: 28 items\n",
      "[INFO    ] 2024-09-24 11:06:35 | page 25: 28 items\n",
      "[INFO    ] 2024-09-24 11:06:38 | page 26: 28 items\n",
      "[INFO    ] 2024-09-24 11:06:43 | page 27: 28 items\n",
      "[INFO    ] 2024-09-24 11:06:57 | page 28: 28 items\n",
      "[INFO    ] 2024-09-24 11:07:01 | page 29: 28 items\n",
      "[INFO    ] 2024-09-24 11:07:06 | page 30: 28 items\n",
      "[INFO    ] 2024-09-24 11:07:09 | page 31: 28 items\n",
      "[INFO    ] 2024-09-24 11:07:10 | page 32: 0 items\n"
     ]
    },
    {
     "data": {
      "text/plain": [
       "867"
      ]
     },
     "metadata": {},
     "output_type": "display_data"
    },
    {
     "data": {
      "text/plain": [
       "'data/2024/raw/flat/cian/cian_2024-09-24_11-07_raw_sevastopol.pkl'"
      ]
     },
     "metadata": {},
     "output_type": "display_data"
    },
    {
     "data": {
      "text/plain": [
       "'https://sevastopol.cian.ru/kupit-zemelniy-uchastok/'"
      ]
     },
     "metadata": {},
     "output_type": "display_data"
    },
    {
     "name": "stdout",
     "output_type": "stream",
     "text": [
      "[INFO    ] 2024-09-24 11:07:16 | page 1: 28 items\n",
      "[INFO    ] 2024-09-24 11:07:22 | page 2: 28 items\n",
      "[INFO    ] 2024-09-24 11:07:22 | page 3: 0 items\n"
     ]
    },
    {
     "data": {
      "text/plain": [
       "56"
      ]
     },
     "metadata": {},
     "output_type": "display_data"
    },
    {
     "data": {
      "text/plain": [
       "'data/2024/raw/land/cian/cian_2024-09-24_11-07_raw_sevastopol.pkl'"
      ]
     },
     "metadata": {},
     "output_type": "display_data"
    },
    {
     "data": {
      "text/plain": [
       "'https://sevastopol.cian.ru/kupit-dom/'"
      ]
     },
     "metadata": {},
     "output_type": "display_data"
    },
    {
     "name": "stdout",
     "output_type": "stream",
     "text": [
      "[INFO    ] 2024-09-24 11:07:30 | page 1: 28 items\n",
      "[INFO    ] 2024-09-24 11:07:31 | page 2: 0 items\n"
     ]
    },
    {
     "data": {
      "text/plain": [
       "28"
      ]
     },
     "metadata": {},
     "output_type": "display_data"
    },
    {
     "data": {
      "text/plain": [
       "'data/2024/raw/house/cian/cian_2024-09-24_11-07_raw_sevastopol.pkl'"
      ]
     },
     "metadata": {},
     "output_type": "display_data"
    },
    {
     "data": {
      "text/plain": [
       "'https://krym.cian.ru/kupit-kvartiru-krym-sudak/'"
      ]
     },
     "metadata": {},
     "output_type": "display_data"
    },
    {
     "name": "stdout",
     "output_type": "stream",
     "text": [
      "[INFO    ] 2024-09-24 11:07:37 | page 1: 28 items\n",
      "[INFO    ] 2024-09-24 11:07:37 | page 2: 0 items\n"
     ]
    },
    {
     "data": {
      "text/plain": [
       "28"
      ]
     },
     "metadata": {},
     "output_type": "display_data"
    },
    {
     "data": {
      "text/plain": [
       "'data/2024/raw/flat/cian/cian_2024-09-24_11-07_raw_sudak.pkl'"
      ]
     },
     "metadata": {},
     "output_type": "display_data"
    },
    {
     "data": {
      "text/plain": [
       "'https://krym.cian.ru/kupit-zemelniy-uchastok-krym-sudak/'"
      ]
     },
     "metadata": {},
     "output_type": "display_data"
    },
    {
     "name": "stdout",
     "output_type": "stream",
     "text": [
      "[INFO    ] 2024-09-24 11:07:42 | page 1: 28 items\n",
      "[INFO    ] 2024-09-24 11:07:42 | page 2: 0 items\n"
     ]
    },
    {
     "data": {
      "text/plain": [
       "28"
      ]
     },
     "metadata": {},
     "output_type": "display_data"
    },
    {
     "data": {
      "text/plain": [
       "'data/2024/raw/land/cian/cian_2024-09-24_11-07_raw_sudak.pkl'"
      ]
     },
     "metadata": {},
     "output_type": "display_data"
    },
    {
     "data": {
      "text/plain": [
       "'https://krym.cian.ru/kupit-dom-krym-sudak/'"
      ]
     },
     "metadata": {},
     "output_type": "display_data"
    },
    {
     "name": "stdout",
     "output_type": "stream",
     "text": [
      "[INFO    ] 2024-09-24 11:07:53 | page 1: 28 items\n",
      "[INFO    ] 2024-09-24 11:07:56 | page 2: 28 items\n",
      "[INFO    ] 2024-09-24 11:07:57 | page 3: 0 items\n"
     ]
    },
    {
     "data": {
      "text/plain": [
       "56"
      ]
     },
     "metadata": {},
     "output_type": "display_data"
    },
    {
     "data": {
      "text/plain": [
       "'data/2024/raw/house/cian/cian_2024-09-24_11-07_raw_sudak.pkl'"
      ]
     },
     "metadata": {},
     "output_type": "display_data"
    },
    {
     "name": "stdout",
     "output_type": "stream",
     "text": [
      "CPU times: user 8.2 s, sys: 288 ms, total: 8.49 s\n",
      "Wall time: 3min 36s\n"
     ]
    }
   ],
   "source": [
    "%%time \n",
    "\n",
    "#from selenium.webdriver.firefox.options import Options\n",
    "#from selenium.webdriver.firefox.options import FirefoxProfile\n",
    "# profile_path = '/home/mechanoid/.mozilla/firefox/4btdfxw1.default-release'\n",
    "# options = Options()\n",
    "# options.profile = FirefoxProfile(profile_path) \n",
    "# options.headless = True\n",
    "# browser = webdriver.Firefox(options=options)\n",
    "\n",
    "options = webdriver.FirefoxOptions()\n",
    "options.headless = True\n",
    "browser = webdriver.Firefox(options=options)\n",
    "logging.info('open virtual browser')\n",
    "\n",
    "for s in source:\n",
    "\n",
    "    url = s['url']\n",
    "    place = s['place']\n",
    "    subfolder = s['subfolder'] \n",
    "    \n",
    "    display(url)\n",
    "    browser.get(url)\n",
    "    \n",
    "    data = CianParser().transform(browser)\n",
    "    assert len(data)>0\n",
    "    \n",
    "    df = pd.DataFrame(data)\n",
    "    df['ts'] = datetime.now()\n",
    "    df['place'] = place\n",
    "    \n",
    "    display( len(df) )\n",
    "    t_now = datetime.now().strftime('%Y-%m-%d_%H-%M')\n",
    "    fname = f'{dest_folder}/{subfolder}/cian/cian_{t_now}_raw_{place}.pkl'\n",
    "    df.to_pickle(fname)\n",
    "    display( fname )\n",
    "       \n",
    "browser.close()"
   ]
  },
  {
   "cell_type": "code",
   "execution_count": 9,
   "id": "222ef35c",
   "metadata": {},
   "outputs": [],
   "source": [
    "# !rm -v data/2024/raw/flat/cian/cian_2024-09-03_13-16_raw_sevastopol.pkl"
   ]
  },
  {
   "cell_type": "code",
   "execution_count": 10,
   "id": "ff5bb5ec",
   "metadata": {},
   "outputs": [
    {
     "name": "stdout",
     "output_type": "stream",
     "text": [
      "Вт 24 сен 2024 11:07:57 MSK\r\n"
     ]
    }
   ],
   "source": [
    "!date"
   ]
  },
  {
   "cell_type": "code",
   "execution_count": 11,
   "id": "9bb57abb",
   "metadata": {},
   "outputs": [],
   "source": [
    "# browser.close()"
   ]
  }
 ],
 "metadata": {
  "kernelspec": {
   "display_name": "Python 3 (ipykernel)",
   "language": "python",
   "name": "python3"
  },
  "language_info": {
   "codemirror_mode": {
    "name": "ipython",
    "version": 3
   },
   "file_extension": ".py",
   "mimetype": "text/x-python",
   "name": "python",
   "nbconvert_exporter": "python",
   "pygments_lexer": "ipython3",
   "version": "3.12.6"
  }
 },
 "nbformat": 4,
 "nbformat_minor": 5
}
