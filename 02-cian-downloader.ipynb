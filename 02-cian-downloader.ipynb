{
 "cells": [
  {
   "cell_type": "markdown",
   "id": "7ed68c56",
   "metadata": {},
   "source": [
    "__качаем объявления о продаже недвижимости с циан.ru__\n",
    "\n",
    "_Evgeny S. Borisov <parser@mechanoid.su>_"
   ]
  },
  {
   "cell_type": "code",
   "execution_count": 1,
   "id": "072330b0",
   "metadata": {},
   "outputs": [],
   "source": [
    "import logging\n",
    "import sys \n",
    "\n",
    "logging.basicConfig(\n",
    "        format=u'[%(levelname)-8s] %(asctime)s | %(message)s',\n",
    "        datefmt='%Y-%m-%d %H:%M:%S',\n",
    "        level=logging.INFO,\n",
    "        # level=logging.DEBUG,\n",
    "        stream=sys.stdout,\n",
    "    )"
   ]
  },
  {
   "cell_type": "code",
   "execution_count": 2,
   "id": "98a3f294",
   "metadata": {},
   "outputs": [],
   "source": [
    "from time import sleep\n",
    "from tqdm.auto import tqdm\n",
    "import pandas as pd\n",
    "from datetime import datetime \n",
    "\n",
    "pd.set_option('display.max_colwidth', None)\n",
    "pd.set_option('display.float_format', '{:.2f}'.format)\n",
    "tqdm.pandas()"
   ]
  },
  {
   "cell_type": "markdown",
   "id": "97716384",
   "metadata": {},
   "source": [
    "---"
   ]
  },
  {
   "cell_type": "code",
   "execution_count": 3,
   "id": "8c89b773",
   "metadata": {},
   "outputs": [],
   "source": [
    "source = [\n",
    "    {\n",
    "            'place': 'sevastopol',\n",
    "        'subfolder': 'flat',\n",
    "              'url': 'https://sevastopol.cian.ru/kupit-kvartiru/',\n",
    "    },{\n",
    "            'place': 'sevastopol',\n",
    "        'subfolder': 'land',\n",
    "              'url': 'https://sevastopol.cian.ru/kupit-zemelniy-uchastok/',\n",
    "    },{\n",
    "            'place': 'sevastopol',\n",
    "        'subfolder': 'house',\n",
    "              'url': 'https://sevastopol.cian.ru/kupit-dom/',\n",
    "    },{\n",
    "            'place': 'sudak',\n",
    "        'subfolder': 'flat',\n",
    "              'url': 'https://krym.cian.ru/kupit-kvartiru-krym-sudak/',\n",
    "    },{\n",
    "            'place': 'sudak',\n",
    "        'subfolder': 'land',\n",
    "              'url': 'https://krym.cian.ru/kupit-zemelniy-uchastok-krym-sudak/',\n",
    "    },{\n",
    "            'place': 'sudak',\n",
    "        'subfolder': 'house',\n",
    "              'url': 'https://krym.cian.ru/kupit-dom-krym-sudak/',\n",
    "    },    \n",
    "#     {\n",
    "#             'place': 'bahchisaray',\n",
    "#         'subfolder': 'flat',\n",
    "#               'url': 'https://krym.cian.ru/kupit-kvartiru-krym-bahchisaray/',\n",
    "#     }, {\n",
    "#             'place': 'bahchisaray',\n",
    "#         'subfolder': 'land',\n",
    "#               'url': 'https://krym.cian.ru/kupit-zemelniy-uchastok-krym-bahchisaray/',\n",
    "#     },{\n",
    "#             'place': 'bahchisaray',\n",
    "#         'subfolder': 'house',\n",
    "#               'url': 'https://krym.cian.ru/kupit-dom-krym-bahchisaray/',\n",
    "#     },\n",
    "\n",
    "]\n"
   ]
  },
  {
   "cell_type": "markdown",
   "id": "58b1d75f",
   "metadata": {},
   "source": [
    "---"
   ]
  },
  {
   "cell_type": "code",
   "execution_count": 4,
   "id": "84989450",
   "metadata": {},
   "outputs": [],
   "source": [
    "# from selenium import webdriver\n",
    "# from lib.cian import CianPageParser\n",
    "\n",
    "# browser = webdriver.Firefox()\n",
    "# browser.get(source[0]['url'])\n",
    "# data = CianPageParser().transform(browser)\n",
    "# browser.close()"
   ]
  },
  {
   "cell_type": "code",
   "execution_count": 5,
   "id": "6dffb73b",
   "metadata": {},
   "outputs": [],
   "source": [
    "# data\n",
    "# browser.close()"
   ]
  },
  {
   "cell_type": "markdown",
   "id": "d725357e",
   "metadata": {},
   "source": [
    "---"
   ]
  },
  {
   "cell_type": "code",
   "execution_count": 6,
   "id": "3475a18d",
   "metadata": {},
   "outputs": [],
   "source": [
    "from selenium import webdriver\n",
    "# from selenium.webdriver.common.by import By\n",
    "from lib.cian import CianParser\n",
    "# from lib.cian import CianDataCleaner"
   ]
  },
  {
   "cell_type": "code",
   "execution_count": 7,
   "id": "4cd65147",
   "metadata": {
    "scrolled": false
   },
   "outputs": [
    {
     "name": "stdout",
     "output_type": "stream",
     "text": [
      "[INFO    ] 2024-06-10 11:14:33 | open virtual browser\n"
     ]
    },
    {
     "data": {
      "text/plain": [
       "'https://sevastopol.cian.ru/kupit-zemelniy-uchastok/'"
      ]
     },
     "metadata": {},
     "output_type": "display_data"
    },
    {
     "name": "stdout",
     "output_type": "stream",
     "text": [
      "[INFO    ] 2024-06-10 11:14:44 | page 1: 28 items\n",
      "[INFO    ] 2024-06-10 11:14:50 | page 2: 28 items\n",
      "[INFO    ] 2024-06-10 11:14:57 | page 3: 28 items\n",
      "[INFO    ] 2024-06-10 11:15:04 | page 4: 28 items\n",
      "[INFO    ] 2024-06-10 11:15:08 | page 5: 28 items\n",
      "[INFO    ] 2024-06-10 11:15:14 | page 6: 28 items\n",
      "[INFO    ] 2024-06-10 11:15:19 | page 7: 28 items\n",
      "[INFO    ] 2024-06-10 11:15:23 | page 8: 28 items\n",
      "[INFO    ] 2024-06-10 11:15:28 | page 9: 28 items\n",
      "[INFO    ] 2024-06-10 11:15:32 | page 10: 28 items\n",
      "[INFO    ] 2024-06-10 11:15:38 | page 11: 28 items\n",
      "[INFO    ] 2024-06-10 11:15:42 | page 12: 28 items\n",
      "[INFO    ] 2024-06-10 11:15:46 | page 13: 28 items\n",
      "[INFO    ] 2024-06-10 11:15:50 | page 14: 28 items\n",
      "[INFO    ] 2024-06-10 11:15:54 | page 15: 25 items\n",
      "[INFO    ] 2024-06-10 11:15:57 | page 16: 28 items\n",
      "[INFO    ] 2024-06-10 11:16:01 | page 17: 28 items\n",
      "[INFO    ] 2024-06-10 11:16:11 | page 18: 28 items\n",
      "[INFO    ] 2024-06-10 11:16:15 | page 19: 28 items\n",
      "[INFO    ] 2024-06-10 11:16:19 | page 20: 28 items\n",
      "[INFO    ] 2024-06-10 11:16:22 | page 21: 28 items\n",
      "[INFO    ] 2024-06-10 11:16:27 | page 22: 28 items\n",
      "[INFO    ] 2024-06-10 11:16:32 | page 23: 28 items\n",
      "[INFO    ] 2024-06-10 11:16:36 | page 24: 28 items\n",
      "[INFO    ] 2024-06-10 11:16:41 | page 25: 28 items\n",
      "[INFO    ] 2024-06-10 11:16:45 | page 26: 28 items\n",
      "[INFO    ] 2024-06-10 11:16:49 | page 27: 28 items\n",
      "[INFO    ] 2024-06-10 11:16:52 | page 28: 28 items\n",
      "[INFO    ] 2024-06-10 11:16:57 | page 29: 28 items\n",
      "[INFO    ] 2024-06-10 11:17:01 | page 30: 28 items\n",
      "[INFO    ] 2024-06-10 11:17:05 | page 31: 28 items\n",
      "[INFO    ] 2024-06-10 11:17:09 | page 32: 28 items\n",
      "[INFO    ] 2024-06-10 11:17:14 | page 33: 28 items\n",
      "[INFO    ] 2024-06-10 11:17:20 | page 34: 28 items\n",
      "[INFO    ] 2024-06-10 11:17:24 | page 35: 28 items\n",
      "[INFO    ] 2024-06-10 11:17:27 | page 36: 28 items\n",
      "[INFO    ] 2024-06-10 11:17:31 | page 37: 28 items\n",
      "[INFO    ] 2024-06-10 11:17:35 | page 38: 28 items\n",
      "[INFO    ] 2024-06-10 11:17:40 | page 39: 28 items\n",
      "[INFO    ] 2024-06-10 11:17:45 | page 40: 28 items\n",
      "[INFO    ] 2024-06-10 11:17:49 | page 41: 28 items\n",
      "[INFO    ] 2024-06-10 11:17:52 | page 42: 28 items\n",
      "[INFO    ] 2024-06-10 11:17:56 | page 43: 28 items\n",
      "[INFO    ] 2024-06-10 11:18:00 | page 44: 28 items\n",
      "[INFO    ] 2024-06-10 11:18:03 | page 45: 28 items\n",
      "[INFO    ] 2024-06-10 11:18:07 | page 46: 28 items\n",
      "[INFO    ] 2024-06-10 11:18:11 | page 47: 28 items\n",
      "[INFO    ] 2024-06-10 11:18:16 | page 48: 28 items\n",
      "[INFO    ] 2024-06-10 11:18:22 | page 49: 28 items\n",
      "[INFO    ] 2024-06-10 11:18:27 | page 50: 28 items\n",
      "[INFO    ] 2024-06-10 11:18:32 | page 51: 28 items\n",
      "[INFO    ] 2024-06-10 11:18:39 | page 52: 28 items\n",
      "[INFO    ] 2024-06-10 11:18:44 | page 53: 28 items\n",
      "[INFO    ] 2024-06-10 11:18:48 | page 54: 25 items\n"
     ]
    },
    {
     "data": {
      "text/plain": [
       "1506"
      ]
     },
     "metadata": {},
     "output_type": "display_data"
    },
    {
     "data": {
      "text/plain": [
       "'data/raw/land/cian/cian_2024-06-10_11-18_raw_sevastopol.pkl'"
      ]
     },
     "metadata": {},
     "output_type": "display_data"
    },
    {
     "data": {
      "text/plain": [
       "'https://sevastopol.cian.ru/kupit-dom/'"
      ]
     },
     "metadata": {},
     "output_type": "display_data"
    },
    {
     "name": "stdout",
     "output_type": "stream",
     "text": [
      "[INFO    ] 2024-06-10 11:18:57 | page 1: 28 items\n",
      "[INFO    ] 2024-06-10 11:19:06 | page 2: 28 items\n",
      "[INFO    ] 2024-06-10 11:19:14 | page 3: 28 items\n",
      "[INFO    ] 2024-06-10 11:19:20 | page 4: 28 items\n",
      "[INFO    ] 2024-06-10 11:19:28 | page 5: 28 items\n",
      "[INFO    ] 2024-06-10 11:19:35 | page 6: 28 items\n",
      "[INFO    ] 2024-06-10 11:19:43 | page 7: 28 items\n",
      "[INFO    ] 2024-06-10 11:19:53 | page 8: 28 items\n",
      "[INFO    ] 2024-06-10 11:19:59 | page 9: 28 items\n",
      "[INFO    ] 2024-06-10 11:20:06 | page 10: 28 items\n",
      "[INFO    ] 2024-06-10 11:20:13 | page 11: 28 items\n",
      "[INFO    ] 2024-06-10 11:20:19 | page 12: 28 items\n",
      "[INFO    ] 2024-06-10 11:20:23 | page 13: 28 items\n",
      "[INFO    ] 2024-06-10 11:20:28 | page 14: 28 items\n",
      "[INFO    ] 2024-06-10 11:20:33 | page 15: 25 items\n",
      "[INFO    ] 2024-06-10 11:20:41 | page 16: 28 items\n",
      "[INFO    ] 2024-06-10 11:20:48 | page 17: 28 items\n",
      "[INFO    ] 2024-06-10 11:20:57 | page 18: 28 items\n",
      "[INFO    ] 2024-06-10 11:21:01 | page 19: 28 items\n",
      "[INFO    ] 2024-06-10 11:21:05 | page 20: 28 items\n",
      "[INFO    ] 2024-06-10 11:21:11 | page 21: 28 items\n",
      "[INFO    ] 2024-06-10 11:21:15 | page 22: 28 items\n",
      "[INFO    ] 2024-06-10 11:21:19 | page 23: 28 items\n",
      "[INFO    ] 2024-06-10 11:21:23 | page 24: 28 items\n",
      "[INFO    ] 2024-06-10 11:21:26 | page 25: 27 items\n",
      "[INFO    ] 2024-06-10 11:21:32 | page 26: 28 items\n",
      "[INFO    ] 2024-06-10 11:21:36 | page 27: 28 items\n",
      "[INFO    ] 2024-06-10 11:21:40 | page 28: 28 items\n",
      "[INFO    ] 2024-06-10 11:21:45 | page 29: 28 items\n",
      "[INFO    ] 2024-06-10 11:21:50 | page 30: 27 items\n",
      "[INFO    ] 2024-06-10 11:21:57 | page 31: 28 items\n",
      "[INFO    ] 2024-06-10 11:22:03 | page 32: 28 items\n",
      "[INFO    ] 2024-06-10 11:22:08 | page 33: 28 items\n",
      "[INFO    ] 2024-06-10 11:22:14 | page 34: 27 items\n",
      "[INFO    ] 2024-06-10 11:22:18 | page 35: 28 items\n",
      "[INFO    ] 2024-06-10 11:22:21 | page 36: 27 items\n",
      "[INFO    ] 2024-06-10 11:22:26 | page 37: 27 items\n",
      "[INFO    ] 2024-06-10 11:22:29 | page 38: 28 items\n",
      "[INFO    ] 2024-06-10 11:22:34 | page 39: 28 items\n",
      "[INFO    ] 2024-06-10 11:22:38 | page 40: 28 items\n",
      "[INFO    ] 2024-06-10 11:22:42 | page 41: 28 items\n",
      "[INFO    ] 2024-06-10 11:22:49 | page 42: 28 items\n",
      "[INFO    ] 2024-06-10 11:22:54 | page 43: 28 items\n",
      "[INFO    ] 2024-06-10 11:23:01 | page 44: 28 items\n",
      "[INFO    ] 2024-06-10 11:23:06 | page 45: 28 items\n",
      "[INFO    ] 2024-06-10 11:23:11 | page 46: 28 items\n",
      "[INFO    ] 2024-06-10 11:23:15 | page 47: 27 items\n",
      "[INFO    ] 2024-06-10 11:23:19 | page 48: 28 items\n",
      "[INFO    ] 2024-06-10 11:23:23 | page 49: 28 items\n",
      "[INFO    ] 2024-06-10 11:23:27 | page 50: 28 items\n",
      "[INFO    ] 2024-06-10 11:23:34 | page 51: 28 items\n",
      "[INFO    ] 2024-06-10 11:23:38 | page 52: 28 items\n",
      "[INFO    ] 2024-06-10 11:23:42 | page 53: 28 items\n",
      "[INFO    ] 2024-06-10 11:23:47 | page 54: 25 items\n"
     ]
    },
    {
     "data": {
      "text/plain": [
       "1500"
      ]
     },
     "metadata": {},
     "output_type": "display_data"
    },
    {
     "data": {
      "text/plain": [
       "'data/raw/house/cian/cian_2024-06-10_11-23_raw_sevastopol.pkl'"
      ]
     },
     "metadata": {},
     "output_type": "display_data"
    },
    {
     "data": {
      "text/plain": [
       "'https://krym.cian.ru/kupit-kvartiru-krym-sudak/'"
      ]
     },
     "metadata": {},
     "output_type": "display_data"
    },
    {
     "name": "stdout",
     "output_type": "stream",
     "text": [
      "[INFO    ] 2024-06-10 11:23:54 | page 1: 28 items\n",
      "[INFO    ] 2024-06-10 11:24:01 | page 2: 28 items\n",
      "[INFO    ] 2024-06-10 11:24:10 | page 3: 28 items\n",
      "[INFO    ] 2024-06-10 11:24:14 | page 4: 28 items\n",
      "[INFO    ] 2024-06-10 11:24:21 | page 5: 28 items\n",
      "[INFO    ] 2024-06-10 11:24:25 | page 6: 28 items\n",
      "[INFO    ] 2024-06-10 11:24:29 | page 7: 28 items\n",
      "[INFO    ] 2024-06-10 11:24:36 | page 8: 28 items\n",
      "[INFO    ] 2024-06-10 11:24:43 | page 9: 25 items\n"
     ]
    },
    {
     "data": {
      "text/plain": [
       "249"
      ]
     },
     "metadata": {},
     "output_type": "display_data"
    },
    {
     "data": {
      "text/plain": [
       "'data/raw/flat/cian/cian_2024-06-10_11-24_raw_sudak.pkl'"
      ]
     },
     "metadata": {},
     "output_type": "display_data"
    },
    {
     "data": {
      "text/plain": [
       "'https://krym.cian.ru/kupit-zemelniy-uchastok-krym-sudak/'"
      ]
     },
     "metadata": {},
     "output_type": "display_data"
    },
    {
     "name": "stdout",
     "output_type": "stream",
     "text": [
      "[INFO    ] 2024-06-10 11:24:48 | page 1: 28 items\n",
      "[INFO    ] 2024-06-10 11:24:54 | page 2: 29 items\n"
     ]
    },
    {
     "data": {
      "text/plain": [
       "57"
      ]
     },
     "metadata": {},
     "output_type": "display_data"
    },
    {
     "data": {
      "text/plain": [
       "'data/raw/land/cian/cian_2024-06-10_11-24_raw_sudak.pkl'"
      ]
     },
     "metadata": {},
     "output_type": "display_data"
    },
    {
     "data": {
      "text/plain": [
       "'https://krym.cian.ru/kupit-dom-krym-sudak/'"
      ]
     },
     "metadata": {},
     "output_type": "display_data"
    },
    {
     "name": "stdout",
     "output_type": "stream",
     "text": [
      "[INFO    ] 2024-06-10 11:25:03 | page 1: 28 items\n",
      "[INFO    ] 2024-06-10 11:25:11 | page 2: 28 items\n",
      "[INFO    ] 2024-06-10 11:25:17 | page 3: 28 items\n",
      "[INFO    ] 2024-06-10 11:25:21 | page 4: 24 items\n"
     ]
    },
    {
     "data": {
      "text/plain": [
       "108"
      ]
     },
     "metadata": {},
     "output_type": "display_data"
    },
    {
     "data": {
      "text/plain": [
       "'data/raw/house/cian/cian_2024-06-10_11-25_raw_sudak.pkl'"
      ]
     },
     "metadata": {},
     "output_type": "display_data"
    },
    {
     "name": "stdout",
     "output_type": "stream",
     "text": [
      "CPU times: user 28.4 s, sys: 1.24 s, total: 29.7 s\n",
      "Wall time: 10min 52s\n"
     ]
    }
   ],
   "source": [
    "%%time \n",
    "\n",
    "#from selenium.webdriver.firefox.options import Options\n",
    "#from selenium.webdriver.firefox.options import FirefoxProfile\n",
    "# profile_path = '/home/mechanoid/.mozilla/firefox/4btdfxw1.default-release'\n",
    "# options = Options()\n",
    "# options.profile = FirefoxProfile(profile_path) \n",
    "# options.headless = True\n",
    "# browser = webdriver.Firefox(options=options)\n",
    "\n",
    "options = webdriver.FirefoxOptions()\n",
    "options.headless = True\n",
    "browser = webdriver.Firefox(options=options)\n",
    "logging.info('open virtual browser')\n",
    "\n",
    "for s in source:\n",
    "\n",
    "    url = s['url']\n",
    "    place = s['place']\n",
    "    subfolder = s['subfolder'] \n",
    "    \n",
    "    display(url)\n",
    "    browser.get(url)\n",
    "    \n",
    "    data = CianParser().transform(browser)\n",
    "    assert len(data)>0\n",
    "    \n",
    "    df = pd.DataFrame(data)\n",
    "    df['ts'] = datetime.now()\n",
    "    df['place'] = place\n",
    "    \n",
    "    display( len(df) )\n",
    "    t_now = datetime.now().strftime('%Y-%m-%d_%H-%M')\n",
    "    fname = f'data/raw/{subfolder}/cian/cian_{t_now}_raw_{place}.pkl'\n",
    "    df.to_pickle(fname)\n",
    "    display( fname )\n",
    "       \n",
    "browser.close()"
   ]
  },
  {
   "cell_type": "code",
   "execution_count": 8,
   "id": "ff5bb5ec",
   "metadata": {},
   "outputs": [
    {
     "name": "stdout",
     "output_type": "stream",
     "text": [
      "Пн 10 июн 2024 11:25:24 MSK\r\n"
     ]
    }
   ],
   "source": [
    "!date"
   ]
  },
  {
   "cell_type": "code",
   "execution_count": 9,
   "id": "9bb57abb",
   "metadata": {},
   "outputs": [],
   "source": [
    "# browser.close()"
   ]
  }
 ],
 "metadata": {
  "kernelspec": {
   "display_name": "Python 3 (ipykernel)",
   "language": "python",
   "name": "python3"
  },
  "language_info": {
   "codemirror_mode": {
    "name": "ipython",
    "version": 3
   },
   "file_extension": ".py",
   "mimetype": "text/x-python",
   "name": "python",
   "nbconvert_exporter": "python",
   "pygments_lexer": "ipython3",
   "version": "3.12.3"
  }
 },
 "nbformat": 4,
 "nbformat_minor": 5
}
