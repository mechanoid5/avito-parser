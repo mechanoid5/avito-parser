{
 "cells": [
  {
   "cell_type": "markdown",
   "id": "7ed68c56",
   "metadata": {},
   "source": [
    "__качаем объявления о продаже недвижимости с циан.ru__\n",
    "\n",
    "_Evgeny S. Borisov <parser@mechanoid.su>_"
   ]
  },
  {
   "cell_type": "code",
   "execution_count": 1,
   "id": "072330b0",
   "metadata": {},
   "outputs": [],
   "source": [
    "import logging\n",
    "import sys \n",
    "\n",
    "logging.basicConfig(\n",
    "        format=u'[%(levelname)-8s] %(asctime)s | %(message)s',\n",
    "        datefmt='%Y-%m-%d %H:%M:%S',\n",
    "        level=logging.INFO,\n",
    "        # level=logging.DEBUG,\n",
    "        stream=sys.stdout,\n",
    "    )"
   ]
  },
  {
   "cell_type": "code",
   "execution_count": 2,
   "id": "98a3f294",
   "metadata": {},
   "outputs": [],
   "source": [
    "from time import sleep\n",
    "from tqdm.auto import tqdm\n",
    "import pandas as pd\n",
    "from datetime import datetime \n",
    "\n",
    "pd.set_option('display.max_colwidth', None)\n",
    "pd.set_option('display.float_format', '{:.2f}'.format)\n",
    "tqdm.pandas()"
   ]
  },
  {
   "cell_type": "markdown",
   "id": "97716384",
   "metadata": {},
   "source": [
    "---"
   ]
  },
  {
   "cell_type": "code",
   "execution_count": 3,
   "id": "8c89b773",
   "metadata": {},
   "outputs": [],
   "source": [
    "source = [\n",
    "    {\n",
    "            'place': 'sevastopol',\n",
    "        'subfolder': 'flat',\n",
    "              'url': 'https://sevastopol.cian.ru/kupit-kvartiru/',\n",
    "    },{\n",
    "            'place': 'sevastopol',\n",
    "        'subfolder': 'land',\n",
    "              'url': 'https://sevastopol.cian.ru/kupit-zemelniy-uchastok/',\n",
    "    },{\n",
    "            'place': 'sevastopol',\n",
    "        'subfolder': 'house',\n",
    "              'url': 'https://sevastopol.cian.ru/kupit-dom/',\n",
    "    },{\n",
    "            'place': 'sudak',\n",
    "        'subfolder': 'flat',\n",
    "              'url': 'https://krym.cian.ru/kupit-kvartiru-krym-sudak/',\n",
    "    },{\n",
    "            'place': 'sudak',\n",
    "        'subfolder': 'land',\n",
    "              'url': 'https://krym.cian.ru/kupit-zemelniy-uchastok-krym-sudak/',\n",
    "    },{\n",
    "            'place': 'sudak',\n",
    "        'subfolder': 'house',\n",
    "              'url': 'https://krym.cian.ru/kupit-dom-krym-sudak/',\n",
    "    },    \n",
    "#     {\n",
    "#             'place': 'bahchisaray',\n",
    "#         'subfolder': 'flat',\n",
    "#               'url': 'https://krym.cian.ru/kupit-kvartiru-krym-bahchisaray/',\n",
    "#     }, {\n",
    "#             'place': 'bahchisaray',\n",
    "#         'subfolder': 'land',\n",
    "#               'url': 'https://krym.cian.ru/kupit-zemelniy-uchastok-krym-bahchisaray/',\n",
    "#     },{\n",
    "#             'place': 'bahchisaray',\n",
    "#         'subfolder': 'house',\n",
    "#               'url': 'https://krym.cian.ru/kupit-dom-krym-bahchisaray/',\n",
    "#     },\n",
    "\n",
    "    \n",
    "    # { # FIXME: нужен другой парсер\n",
    "    #         'place': 'sevastopol',\n",
    "    #     'subfolder': 'flat-arenda',\n",
    "    #           'url': 'https://sevastopol.cian.ru/snyat-kvartiru-1-komn-ili-2-komn/',\n",
    "    #               # 'https://sevastopol.cian.ru/snyat/',\n",
    "    #               # https://sevastopol.cian.ru/posutochno/\n",
    "    # },\n",
    "]\n"
   ]
  },
  {
   "cell_type": "markdown",
   "id": "58b1d75f",
   "metadata": {},
   "source": [
    "---"
   ]
  },
  {
   "cell_type": "code",
   "execution_count": 4,
   "id": "84989450",
   "metadata": {},
   "outputs": [],
   "source": [
    "# from selenium import webdriver\n",
    "# from lib.cian import CianPageParser\n",
    "\n",
    "# browser = webdriver.Firefox()\n",
    "# browser.get(source[0]['url'])\n",
    "# data = CianPageParser().transform(browser)\n",
    "# browser.close()"
   ]
  },
  {
   "cell_type": "code",
   "execution_count": 5,
   "id": "6dffb73b",
   "metadata": {},
   "outputs": [],
   "source": [
    "# data\n",
    "# browser.close()"
   ]
  },
  {
   "cell_type": "markdown",
   "id": "d725357e",
   "metadata": {},
   "source": [
    "---"
   ]
  },
  {
   "cell_type": "code",
   "execution_count": 6,
   "id": "809e913f",
   "metadata": {},
   "outputs": [],
   "source": [
    "dest_folder = 'data/2025/raw'"
   ]
  },
  {
   "cell_type": "code",
   "execution_count": 7,
   "id": "3475a18d",
   "metadata": {},
   "outputs": [],
   "source": [
    "from selenium import webdriver\n",
    "# from selenium.webdriver.common.by import By\n",
    "from lib.cian import CianParser\n",
    "# from lib.cian import CianDataCleaner"
   ]
  },
  {
   "cell_type": "code",
   "execution_count": 8,
   "id": "4cd65147",
   "metadata": {},
   "outputs": [
    {
     "name": "stdout",
     "output_type": "stream",
     "text": [
      "[WARNING ] 2025-03-21 10:50:43 | The geckodriver version (0.35.0) detected in PATH at /usr/bin/geckodriver might not be compatible with the detected firefox version (136.0); currently, geckodriver 0.36.0 is recommended for firefox 136.*, so it is advised to delete the driver in PATH and retry\n",
      "[INFO    ] 2025-03-21 10:50:53 | open virtual browser\n"
     ]
    },
    {
     "data": {
      "text/plain": [
       "'https://sevastopol.cian.ru/kupit-kvartiru/'"
      ]
     },
     "metadata": {},
     "output_type": "display_data"
    },
    {
     "name": "stdout",
     "output_type": "stream",
     "text": [
      "[INFO    ] 2025-03-21 10:51:00 | page 1: 28 items\n",
      "[INFO    ] 2025-03-21 10:51:08 | page 2: 28 items\n",
      "[INFO    ] 2025-03-21 10:51:15 | page 3: 28 items\n",
      "[INFO    ] 2025-03-21 10:51:20 | page 4: 28 items\n",
      "[INFO    ] 2025-03-21 10:51:25 | page 5: 28 items\n",
      "[INFO    ] 2025-03-21 10:51:29 | page 6: 28 items\n",
      "[INFO    ] 2025-03-21 10:51:34 | page 7: 28 items\n",
      "[INFO    ] 2025-03-21 10:51:39 | page 8: 28 items\n",
      "[INFO    ] 2025-03-21 10:51:43 | page 9: 28 items\n",
      "[INFO    ] 2025-03-21 10:51:48 | page 10: 28 items\n",
      "[INFO    ] 2025-03-21 10:51:52 | page 11: 28 items\n",
      "[INFO    ] 2025-03-21 10:51:56 | page 12: 28 items\n",
      "[INFO    ] 2025-03-21 10:52:02 | page 13: 28 items\n",
      "[INFO    ] 2025-03-21 10:52:06 | page 14: 28 items\n",
      "[INFO    ] 2025-03-21 10:52:10 | page 15: 28 items\n",
      "[INFO    ] 2025-03-21 10:52:13 | page 16: 28 items\n",
      "[INFO    ] 2025-03-21 10:52:17 | page 17: 28 items\n",
      "[INFO    ] 2025-03-21 10:52:20 | page 18: 28 items\n",
      "[INFO    ] 2025-03-21 10:52:23 | page 19: 28 items\n",
      "[INFO    ] 2025-03-21 10:52:26 | page 20: 28 items\n",
      "[INFO    ] 2025-03-21 10:52:29 | page 21: 28 items\n",
      "[INFO    ] 2025-03-21 10:52:33 | page 22: 28 items\n",
      "[INFO    ] 2025-03-21 10:52:36 | page 23: 28 items\n",
      "[INFO    ] 2025-03-21 10:52:40 | page 24: 28 items\n",
      "[INFO    ] 2025-03-21 10:52:43 | page 25: 27 items\n",
      "[INFO    ] 2025-03-21 10:52:45 | page 26: 28 items\n",
      "[INFO    ] 2025-03-21 10:52:49 | page 27: 28 items\n",
      "[INFO    ] 2025-03-21 10:52:52 | page 28: 28 items\n",
      "[INFO    ] 2025-03-21 10:52:55 | page 29: 28 items\n",
      "[INFO    ] 2025-03-21 10:52:58 | page 30: 28 items\n",
      "[INFO    ] 2025-03-21 10:53:01 | page 31: 28 items\n",
      "[INFO    ] 2025-03-21 10:53:04 | page 32: 28 items\n",
      "[INFO    ] 2025-03-21 10:53:08 | page 33: 28 items\n",
      "[INFO    ] 2025-03-21 10:53:13 | page 34: 28 items\n",
      "[INFO    ] 2025-03-21 10:53:17 | page 35: 28 items\n",
      "[INFO    ] 2025-03-21 10:53:21 | page 36: 28 items\n",
      "[INFO    ] 2025-03-21 10:53:24 | page 37: 28 items\n",
      "[INFO    ] 2025-03-21 10:53:27 | page 38: 28 items\n",
      "[INFO    ] 2025-03-21 10:53:31 | page 39: 28 items\n",
      "[INFO    ] 2025-03-21 10:53:34 | page 40: 28 items\n",
      "[INFO    ] 2025-03-21 10:53:37 | page 41: 27 items\n",
      "[INFO    ] 2025-03-21 10:53:40 | page 42: 28 items\n",
      "[INFO    ] 2025-03-21 10:53:43 | page 43: 28 items\n",
      "[INFO    ] 2025-03-21 10:53:46 | page 44: 28 items\n",
      "[INFO    ] 2025-03-21 10:53:49 | page 45: 28 items\n",
      "[INFO    ] 2025-03-21 10:53:52 | page 46: 27 items\n",
      "[INFO    ] 2025-03-21 10:53:55 | page 47: 28 items\n",
      "[INFO    ] 2025-03-21 10:53:58 | page 48: 27 items\n",
      "[INFO    ] 2025-03-21 10:54:02 | page 49: 28 items\n",
      "[INFO    ] 2025-03-21 10:54:05 | page 50: 27 items\n",
      "[INFO    ] 2025-03-21 10:54:08 | page 51: 28 items\n",
      "[INFO    ] 2025-03-21 10:54:11 | page 52: 28 items\n",
      "[INFO    ] 2025-03-21 10:54:14 | page 53: 28 items\n",
      "[INFO    ] 2025-03-21 10:54:18 | page 54: 25 items\n"
     ]
    },
    {
     "data": {
      "text/plain": [
       "1504"
      ]
     },
     "metadata": {},
     "output_type": "display_data"
    },
    {
     "data": {
      "text/plain": [
       "'data/2025/raw/flat/cian/cian_2025-03-21_10-54_raw_sevastopol.pkl'"
      ]
     },
     "metadata": {},
     "output_type": "display_data"
    },
    {
     "data": {
      "text/plain": [
       "'https://sevastopol.cian.ru/kupit-zemelniy-uchastok/'"
      ]
     },
     "metadata": {},
     "output_type": "display_data"
    },
    {
     "name": "stdout",
     "output_type": "stream",
     "text": [
      "[INFO    ] 2025-03-21 10:54:22 | page 1: 28 items\n",
      "[INFO    ] 2025-03-21 10:54:26 | page 2: 28 items\n",
      "[INFO    ] 2025-03-21 10:54:30 | page 3: 28 items\n",
      "[INFO    ] 2025-03-21 10:54:33 | page 4: 28 items\n",
      "[INFO    ] 2025-03-21 10:54:37 | page 5: 28 items\n",
      "[INFO    ] 2025-03-21 10:54:41 | page 6: 28 items\n",
      "[INFO    ] 2025-03-21 10:54:44 | page 7: 28 items\n",
      "[INFO    ] 2025-03-21 10:54:47 | page 8: 28 items\n",
      "[INFO    ] 2025-03-21 10:54:51 | page 9: 28 items\n",
      "[INFO    ] 2025-03-21 10:54:55 | page 10: 28 items\n",
      "[INFO    ] 2025-03-21 10:54:59 | page 11: 28 items\n",
      "[INFO    ] 2025-03-21 10:55:02 | page 12: 28 items\n",
      "[INFO    ] 2025-03-21 10:55:06 | page 13: 28 items\n",
      "[INFO    ] 2025-03-21 10:55:09 | page 14: 28 items\n",
      "[INFO    ] 2025-03-21 10:55:13 | page 15: 25 items\n",
      "[INFO    ] 2025-03-21 10:55:16 | page 16: 28 items\n",
      "[INFO    ] 2025-03-21 10:55:21 | page 17: 28 items\n",
      "[INFO    ] 2025-03-21 10:55:24 | page 18: 28 items\n",
      "[INFO    ] 2025-03-21 10:55:27 | page 19: 28 items\n",
      "[INFO    ] 2025-03-21 10:55:30 | page 20: 28 items\n",
      "[INFO    ] 2025-03-21 10:55:34 | page 21: 28 items\n",
      "[INFO    ] 2025-03-21 10:55:37 | page 22: 28 items\n",
      "[INFO    ] 2025-03-21 10:55:40 | page 23: 28 items\n",
      "[INFO    ] 2025-03-21 10:55:43 | page 24: 28 items\n",
      "[INFO    ] 2025-03-21 10:55:47 | page 25: 28 items\n",
      "[INFO    ] 2025-03-21 10:55:49 | page 26: 28 items\n",
      "[INFO    ] 2025-03-21 10:55:53 | page 27: 28 items\n",
      "[INFO    ] 2025-03-21 10:55:56 | page 28: 28 items\n",
      "[INFO    ] 2025-03-21 10:55:59 | page 29: 28 items\n",
      "[INFO    ] 2025-03-21 10:56:02 | page 30: 28 items\n",
      "[INFO    ] 2025-03-21 10:56:05 | page 31: 28 items\n",
      "[INFO    ] 2025-03-21 10:56:08 | page 32: 28 items\n",
      "[INFO    ] 2025-03-21 10:56:11 | page 33: 28 items\n",
      "[INFO    ] 2025-03-21 10:56:14 | page 34: 28 items\n",
      "[INFO    ] 2025-03-21 10:56:18 | page 35: 28 items\n",
      "[INFO    ] 2025-03-21 10:56:20 | page 36: 28 items\n",
      "[INFO    ] 2025-03-21 10:56:23 | page 37: 28 items\n",
      "[INFO    ] 2025-03-21 10:56:26 | page 38: 28 items\n",
      "[INFO    ] 2025-03-21 10:56:29 | page 39: 28 items\n",
      "[INFO    ] 2025-03-21 10:56:32 | page 40: 28 items\n",
      "[INFO    ] 2025-03-21 10:56:35 | page 41: 28 items\n",
      "[INFO    ] 2025-03-21 10:56:38 | page 42: 28 items\n",
      "[INFO    ] 2025-03-21 10:56:41 | page 43: 28 items\n",
      "[INFO    ] 2025-03-21 10:56:44 | page 44: 28 items\n",
      "[INFO    ] 2025-03-21 10:56:47 | page 45: 28 items\n",
      "[INFO    ] 2025-03-21 10:56:50 | page 46: 28 items\n",
      "[INFO    ] 2025-03-21 10:56:53 | page 47: 28 items\n",
      "[INFO    ] 2025-03-21 10:56:57 | page 48: 28 items\n",
      "[INFO    ] 2025-03-21 10:57:00 | page 49: 28 items\n",
      "[INFO    ] 2025-03-21 10:57:03 | page 50: 28 items\n",
      "[INFO    ] 2025-03-21 10:57:06 | page 51: 28 items\n",
      "[INFO    ] 2025-03-21 10:57:09 | page 52: 28 items\n",
      "[INFO    ] 2025-03-21 10:57:12 | page 53: 28 items\n",
      "[INFO    ] 2025-03-21 10:57:15 | page 54: 24 items\n"
     ]
    },
    {
     "data": {
      "text/plain": [
       "1505"
      ]
     },
     "metadata": {},
     "output_type": "display_data"
    },
    {
     "data": {
      "text/plain": [
       "'data/2025/raw/land/cian/cian_2025-03-21_10-57_raw_sevastopol.pkl'"
      ]
     },
     "metadata": {},
     "output_type": "display_data"
    },
    {
     "data": {
      "text/plain": [
       "'https://sevastopol.cian.ru/kupit-dom/'"
      ]
     },
     "metadata": {},
     "output_type": "display_data"
    },
    {
     "name": "stdout",
     "output_type": "stream",
     "text": [
      "[INFO    ] 2025-03-21 10:57:19 | page 1: 28 items\n",
      "[INFO    ] 2025-03-21 10:57:23 | page 2: 28 items\n",
      "[INFO    ] 2025-03-21 10:57:27 | page 3: 28 items\n",
      "[INFO    ] 2025-03-21 10:57:30 | page 4: 28 items\n",
      "[INFO    ] 2025-03-21 10:57:34 | page 5: 28 items\n",
      "[INFO    ] 2025-03-21 10:57:37 | page 6: 28 items\n",
      "[INFO    ] 2025-03-21 10:57:43 | page 7: 28 items\n",
      "[INFO    ] 2025-03-21 10:57:46 | page 8: 28 items\n",
      "[INFO    ] 2025-03-21 10:57:50 | page 9: 28 items\n",
      "[INFO    ] 2025-03-21 10:57:56 | page 10: 28 items\n",
      "[INFO    ] 2025-03-21 10:57:59 | page 11: 28 items\n",
      "[INFO    ] 2025-03-21 10:58:02 | page 12: 28 items\n",
      "[INFO    ] 2025-03-21 10:58:07 | page 13: 28 items\n",
      "[INFO    ] 2025-03-21 10:58:10 | page 14: 28 items\n",
      "[INFO    ] 2025-03-21 10:58:13 | page 15: 17 items\n",
      "[INFO    ] 2025-03-21 10:58:17 | page 16: 28 items\n",
      "[INFO    ] 2025-03-21 10:58:20 | page 17: 28 items\n",
      "[INFO    ] 2025-03-21 10:58:23 | page 18: 28 items\n",
      "[INFO    ] 2025-03-21 10:58:27 | page 19: 28 items\n",
      "[INFO    ] 2025-03-21 10:58:30 | page 20: 28 items\n",
      "[INFO    ] 2025-03-21 10:58:33 | page 21: 28 items\n",
      "[INFO    ] 2025-03-21 10:58:37 | page 22: 28 items\n",
      "[INFO    ] 2025-03-21 10:58:40 | page 23: 28 items\n",
      "[INFO    ] 2025-03-21 10:58:43 | page 24: 28 items\n",
      "[INFO    ] 2025-03-21 10:58:46 | page 25: 28 items\n",
      "[INFO    ] 2025-03-21 10:58:49 | page 26: 28 items\n",
      "[INFO    ] 2025-03-21 10:58:51 | page 27: 28 items\n",
      "[INFO    ] 2025-03-21 10:58:54 | page 28: 28 items\n",
      "[INFO    ] 2025-03-21 10:58:58 | page 29: 28 items\n",
      "[INFO    ] 2025-03-21 10:59:00 | page 30: 28 items\n",
      "[INFO    ] 2025-03-21 10:59:03 | page 31: 28 items\n",
      "[INFO    ] 2025-03-21 10:59:06 | page 32: 28 items\n",
      "[INFO    ] 2025-03-21 10:59:11 | page 33: 28 items\n",
      "[INFO    ] 2025-03-21 10:59:14 | page 34: 28 items\n",
      "[INFO    ] 2025-03-21 10:59:17 | page 35: 28 items\n",
      "[INFO    ] 2025-03-21 10:59:20 | page 36: 28 items\n",
      "[INFO    ] 2025-03-21 10:59:23 | page 37: 28 items\n",
      "[INFO    ] 2025-03-21 10:59:26 | page 38: 28 items\n",
      "[INFO    ] 2025-03-21 10:59:30 | page 39: 28 items\n",
      "[INFO    ] 2025-03-21 10:59:34 | page 40: 28 items\n",
      "[INFO    ] 2025-03-21 10:59:37 | page 41: 28 items\n",
      "[INFO    ] 2025-03-21 10:59:40 | page 42: 28 items\n",
      "[INFO    ] 2025-03-21 10:59:43 | page 43: 28 items\n",
      "[INFO    ] 2025-03-21 10:59:46 | page 44: 28 items\n",
      "[INFO    ] 2025-03-21 10:59:49 | page 45: 28 items\n",
      "[INFO    ] 2025-03-21 10:59:53 | page 46: 28 items\n",
      "[INFO    ] 2025-03-21 10:59:57 | page 47: 28 items\n",
      "[INFO    ] 2025-03-21 10:59:59 | page 48: 28 items\n",
      "[INFO    ] 2025-03-21 11:00:02 | page 49: 28 items\n",
      "[INFO    ] 2025-03-21 11:00:06 | page 50: 28 items\n",
      "[INFO    ] 2025-03-21 11:00:09 | page 51: 28 items\n",
      "[INFO    ] 2025-03-21 11:00:12 | page 52: 28 items\n",
      "[INFO    ] 2025-03-21 11:00:16 | page 53: 28 items\n",
      "[INFO    ] 2025-03-21 11:00:20 | page 54: 25 items\n"
     ]
    },
    {
     "data": {
      "text/plain": [
       "1498"
      ]
     },
     "metadata": {},
     "output_type": "display_data"
    },
    {
     "data": {
      "text/plain": [
       "'data/2025/raw/house/cian/cian_2025-03-21_11-00_raw_sevastopol.pkl'"
      ]
     },
     "metadata": {},
     "output_type": "display_data"
    },
    {
     "data": {
      "text/plain": [
       "'https://krym.cian.ru/kupit-kvartiru-krym-sudak/'"
      ]
     },
     "metadata": {},
     "output_type": "display_data"
    },
    {
     "name": "stdout",
     "output_type": "stream",
     "text": [
      "[INFO    ] 2025-03-21 11:00:24 | page 1: 28 items\n",
      "[INFO    ] 2025-03-21 11:00:28 | page 2: 28 items\n",
      "[INFO    ] 2025-03-21 11:00:31 | page 3: 28 items\n",
      "[INFO    ] 2025-03-21 11:00:35 | page 4: 28 items\n",
      "[INFO    ] 2025-03-21 11:00:39 | page 5: 28 items\n",
      "[INFO    ] 2025-03-21 11:00:43 | page 6: 28 items\n",
      "[INFO    ] 2025-03-21 11:00:46 | page 7: 28 items\n",
      "[INFO    ] 2025-03-21 11:00:50 | page 8: 28 items\n",
      "[INFO    ] 2025-03-21 11:00:54 | page 9: 28 items\n",
      "[INFO    ] 2025-03-21 11:00:57 | page 10: 28 items\n",
      "[INFO    ] 2025-03-21 11:01:01 | page 11: 25 items\n"
     ]
    },
    {
     "data": {
      "text/plain": [
       "305"
      ]
     },
     "metadata": {},
     "output_type": "display_data"
    },
    {
     "data": {
      "text/plain": [
       "'data/2025/raw/flat/cian/cian_2025-03-21_11-01_raw_sudak.pkl'"
      ]
     },
     "metadata": {},
     "output_type": "display_data"
    },
    {
     "data": {
      "text/plain": [
       "'https://krym.cian.ru/kupit-zemelniy-uchastok-krym-sudak/'"
      ]
     },
     "metadata": {},
     "output_type": "display_data"
    },
    {
     "name": "stdout",
     "output_type": "stream",
     "text": [
      "[INFO    ] 2025-03-21 11:01:05 | page 1: 28 items\n",
      "[INFO    ] 2025-03-21 11:01:08 | page 2: 28 items\n",
      "[INFO    ] 2025-03-21 11:01:10 | page 3: 28 items\n",
      "[INFO    ] 2025-03-21 11:01:13 | page 4: 28 items\n",
      "[INFO    ] 2025-03-21 11:01:16 | page 5: 25 items\n"
     ]
    },
    {
     "data": {
      "text/plain": [
       "137"
      ]
     },
     "metadata": {},
     "output_type": "display_data"
    },
    {
     "data": {
      "text/plain": [
       "'data/2025/raw/land/cian/cian_2025-03-21_11-01_raw_sudak.pkl'"
      ]
     },
     "metadata": {},
     "output_type": "display_data"
    },
    {
     "data": {
      "text/plain": [
       "'https://krym.cian.ru/kupit-dom-krym-sudak/'"
      ]
     },
     "metadata": {},
     "output_type": "display_data"
    },
    {
     "name": "stdout",
     "output_type": "stream",
     "text": [
      "[INFO    ] 2025-03-21 11:01:20 | page 1: 28 items\n",
      "[INFO    ] 2025-03-21 11:01:23 | page 2: 28 items\n",
      "[INFO    ] 2025-03-21 11:01:26 | page 3: 28 items\n",
      "[INFO    ] 2025-03-21 11:01:29 | page 4: 28 items\n",
      "[INFO    ] 2025-03-21 11:01:32 | page 5: 28 items\n",
      "[INFO    ] 2025-03-21 11:01:36 | page 6: 25 items\n"
     ]
    },
    {
     "data": {
      "text/plain": [
       "165"
      ]
     },
     "metadata": {},
     "output_type": "display_data"
    },
    {
     "data": {
      "text/plain": [
       "'data/2025/raw/house/cian/cian_2025-03-21_11-01_raw_sudak.pkl'"
      ]
     },
     "metadata": {},
     "output_type": "display_data"
    },
    {
     "name": "stdout",
     "output_type": "stream",
     "text": [
      "CPU times: user 37.7 s, sys: 1.68 s, total: 39.4 s\n",
      "Wall time: 10min 53s\n"
     ]
    }
   ],
   "source": [
    "%%time \n",
    "\n",
    "#from selenium.webdriver.firefox.options import Options\n",
    "#from selenium.webdriver.firefox.options import FirefoxProfile\n",
    "# profile_path = '/home/mechanoid/.mozilla/firefox/4btdfxw1.default-release'\n",
    "# options = Options()\n",
    "# options.profile = FirefoxProfile(profile_path) \n",
    "# options.headless = True\n",
    "# browser = webdriver.Firefox(options=options)\n",
    "\n",
    "options = webdriver.FirefoxOptions()\n",
    "options.headless = True\n",
    "browser = webdriver.Firefox(options=options)\n",
    "logging.info('open virtual browser')\n",
    "\n",
    "for s in source:\n",
    "\n",
    "    url = s['url']\n",
    "    place = s['place']\n",
    "    subfolder = s['subfolder'] \n",
    "    \n",
    "    display(url)\n",
    "    browser.get(url)\n",
    "    \n",
    "    data = CianParser().transform(browser)\n",
    "    assert len(data)>0\n",
    "    \n",
    "    df = pd.DataFrame(data)\n",
    "    df['ts'] = datetime.now()\n",
    "    df['place'] = place\n",
    "    \n",
    "    display( len(df) )\n",
    "    t_now = datetime.now().strftime('%Y-%m-%d_%H-%M')\n",
    "    fname = f'{dest_folder}/{subfolder}/cian/cian_{t_now}_raw_{place}.pkl'\n",
    "    df.to_pickle(fname)\n",
    "    display( fname )\n",
    "       \n",
    "browser.close()"
   ]
  },
  {
   "cell_type": "code",
   "execution_count": 9,
   "id": "222ef35c",
   "metadata": {},
   "outputs": [],
   "source": [
    "# !rm -v data/2024/raw/flat/cian/cian_2024-09-03_13-16_raw_sevastopol.pkl"
   ]
  },
  {
   "cell_type": "code",
   "execution_count": 10,
   "id": "ff5bb5ec",
   "metadata": {},
   "outputs": [
    {
     "name": "stdout",
     "output_type": "stream",
     "text": [
      "Пт 21 мар 2025 11:01:36 MSK\n"
     ]
    }
   ],
   "source": [
    "!date"
   ]
  },
  {
   "cell_type": "code",
   "execution_count": 11,
   "id": "9bb57abb",
   "metadata": {},
   "outputs": [],
   "source": [
    "# browser.close()"
   ]
  }
 ],
 "metadata": {
  "kernelspec": {
   "display_name": "Python 3 (ipykernel)",
   "language": "python",
   "name": "python3"
  },
  "language_info": {
   "codemirror_mode": {
    "name": "ipython",
    "version": 3
   },
   "file_extension": ".py",
   "mimetype": "text/x-python",
   "name": "python",
   "nbconvert_exporter": "python",
   "pygments_lexer": "ipython3",
   "version": "3.13.2"
  }
 },
 "nbformat": 4,
 "nbformat_minor": 5
}
