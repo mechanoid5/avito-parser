{
 "cells": [
  {
   "cell_type": "markdown",
   "id": "9c95944c",
   "metadata": {},
   "source": [
    "__чистим данные__\n",
    "\n",
    "_Evgeny S. Borisov <parser@mechanoid.su>_"
   ]
  },
  {
   "cell_type": "code",
   "execution_count": 1,
   "id": "300f0fbb",
   "metadata": {},
   "outputs": [],
   "source": [
    "# import re\n",
    "# from os import listdir\n",
    "# from datetime import datetime as dtm\n",
    "import pandas as pd\n",
    "from tqdm.notebook import tqdm"
   ]
  },
  {
   "cell_type": "code",
   "execution_count": 2,
   "id": "dc056289",
   "metadata": {},
   "outputs": [],
   "source": [
    "import sys\n",
    "import logging\n",
    "\n",
    "logging.basicConfig(\n",
    "        format=u'[%(levelname)-8s] %(asctime)s | %(message)s',\n",
    "        datefmt='%Y-%m-%d %H:%M:%S',\n",
    "        level=logging.INFO,\n",
    "        # level=logging.DEBUG,\n",
    "        stream=sys.stdout,\n",
    "    )"
   ]
  },
  {
   "cell_type": "code",
   "execution_count": 3,
   "id": "d8277299",
   "metadata": {},
   "outputs": [],
   "source": [
    "pd.set_option('display.max_colwidth', None)\n",
    "pd.set_option('display.float_format', '{:.2f}'.format)\n",
    "tqdm.pandas()"
   ]
  },
  {
   "cell_type": "markdown",
   "id": "aa79f2c5",
   "metadata": {},
   "source": [
    "---"
   ]
  },
  {
   "cell_type": "code",
   "execution_count": 4,
   "id": "ee8b0d54",
   "metadata": {},
   "outputs": [],
   "source": [
    "raw_data_path = 'data/raw/' # каталог с файлами объявлений\n",
    "loc_file_path = 'data/location.pkl' # таблица адресов\n",
    "result_file_path = 'data/data.pkl'"
   ]
  },
  {
   "cell_type": "markdown",
   "id": "7a7cda76",
   "metadata": {},
   "source": [
    "## собираем и чистим данные"
   ]
  },
  {
   "cell_type": "code",
   "execution_count": 5,
   "id": "db94fb0f",
   "metadata": {},
   "outputs": [
    {
     "name": "stdout",
     "output_type": "stream",
     "text": [
      "[INFO    ] 2022-09-06 12:56:47 | AvitoDataAggRealty: 2 raw data files\n",
      "[INFO    ] 2022-09-06 12:56:48 | AvitoDataAggRealty: 7896 records\n"
     ]
    },
    {
     "data": {
      "text/html": [
       "<div>\n",
       "<style scoped>\n",
       "    .dataframe tbody tr th:only-of-type {\n",
       "        vertical-align: middle;\n",
       "    }\n",
       "\n",
       "    .dataframe tbody tr th {\n",
       "        vertical-align: top;\n",
       "    }\n",
       "\n",
       "    .dataframe thead th {\n",
       "        text-align: right;\n",
       "    }\n",
       "</style>\n",
       "<table border=\"1\" class=\"dataframe\">\n",
       "  <thead>\n",
       "    <tr style=\"text-align: right;\">\n",
       "      <th></th>\n",
       "      <th>avito_id</th>\n",
       "      <th>title</th>\n",
       "      <th>price</th>\n",
       "      <th>obj_name</th>\n",
       "      <th>adr</th>\n",
       "      <th>description</th>\n",
       "      <th>avito_page</th>\n",
       "      <th>ts</th>\n",
       "      <th>nrooms</th>\n",
       "      <th>floor</th>\n",
       "      <th>...</th>\n",
       "      <th>area</th>\n",
       "      <th>is_studio</th>\n",
       "      <th>is_apartment</th>\n",
       "      <th>is_part</th>\n",
       "      <th>is_auction</th>\n",
       "      <th>is_openspace</th>\n",
       "      <th>is_roof</th>\n",
       "      <th>is_SNT</th>\n",
       "      <th>priceM</th>\n",
       "      <th>is_last_floor</th>\n",
       "    </tr>\n",
       "  </thead>\n",
       "  <tbody>\n",
       "    <tr>\n",
       "      <th>2306</th>\n",
       "      <td>2504954382</td>\n",
       "      <td>1-к. квартира, 47,2 м², 7/9 эт.</td>\n",
       "      <td>7552000</td>\n",
       "      <td>ЖК «Доброгород»</td>\n",
       "      <td>улица Токарева, 7 этап, блок-секция 3</td>\n",
       "      <td>Крупнейший в Севастополе семейный микрорайон «Доброгород»! \\n\\nПобедитель всероссийской премии «Топ ЖК 2021» в номинации «Лучший жилой комплекс». \\n\\nИпотека с господдержкой, рассрочка от Застройщика. \\n\\n«Доброгород» по праву считается лучшим жилым кварталом Се</td>\n",
       "      <td>47</td>\n",
       "      <td>2022-09-02 13:04:00</td>\n",
       "      <td>1</td>\n",
       "      <td>7</td>\n",
       "      <td>...</td>\n",
       "      <td>47.20</td>\n",
       "      <td>False</td>\n",
       "      <td>False</td>\n",
       "      <td>False</td>\n",
       "      <td>False</td>\n",
       "      <td>False</td>\n",
       "      <td>False</td>\n",
       "      <td>False</td>\n",
       "      <td>7.55</td>\n",
       "      <td>False</td>\n",
       "    </tr>\n",
       "    <tr>\n",
       "      <th>5027</th>\n",
       "      <td>2522885999</td>\n",
       "      <td>1-к. квартира, 46 м², 3/5 эт.</td>\n",
       "      <td>7653000</td>\n",
       "      <td>NaN</td>\n",
       "      <td>Севастополь, улица Челнокова, 17 к1</td>\n",
       "      <td>В продаже квартира у моря на улице Челнокова, \\n\\nполностью готова к Вашему заселению. \\n\\nДом с закрытой территорией. \\n\\nЭксклюзивная планировка с большой комнатой и просторной кухней. \\n\\nКвартира оборудована тёплыми полами водного нагревания. \\n\\nУстановлена сис</td>\n",
       "      <td>22</td>\n",
       "      <td>2022-09-05 14:02:00</td>\n",
       "      <td>1</td>\n",
       "      <td>3</td>\n",
       "      <td>...</td>\n",
       "      <td>46.00</td>\n",
       "      <td>False</td>\n",
       "      <td>False</td>\n",
       "      <td>False</td>\n",
       "      <td>False</td>\n",
       "      <td>False</td>\n",
       "      <td>False</td>\n",
       "      <td>False</td>\n",
       "      <td>7.65</td>\n",
       "      <td>False</td>\n",
       "    </tr>\n",
       "  </tbody>\n",
       "</table>\n",
       "<p>2 rows × 21 columns</p>\n",
       "</div>"
      ],
      "text/plain": [
       "        avito_id                            title    price         obj_name  \\\n",
       "2306  2504954382  1-к. квартира, 47,2 м², 7/9 эт.  7552000  ЖК «Доброгород»   \n",
       "5027  2522885999    1-к. квартира, 46 м², 3/5 эт.  7653000              NaN   \n",
       "\n",
       "                                         adr  \\\n",
       "2306   улица Токарева, 7 этап, блок-секция 3   \n",
       "5027     Севастополь, улица Челнокова, 17 к1   \n",
       "\n",
       "                                                                                                                                                                                                                                                                     description  \\\n",
       "2306      Крупнейший в Севастополе семейный микрорайон «Доброгород»! \\n\\nПобедитель всероссийской премии «Топ ЖК 2021» в номинации «Лучший жилой комплекс». \\n\\nИпотека с господдержкой, рассрочка от Застройщика. \\n\\n«Доброгород» по праву считается лучшим жилым кварталом Се   \n",
       "5027  В продаже квартира у моря на улице Челнокова, \\n\\nполностью готова к Вашему заселению. \\n\\nДом с закрытой территорией. \\n\\nЭксклюзивная планировка с большой комнатой и просторной кухней. \\n\\nКвартира оборудована тёплыми полами водного нагревания. \\n\\nУстановлена сис   \n",
       "\n",
       "      avito_page                  ts  nrooms  floor  ...  area  is_studio  \\\n",
       "2306          47 2022-09-02 13:04:00       1      7  ... 47.20      False   \n",
       "5027          22 2022-09-05 14:02:00       1      3  ... 46.00      False   \n",
       "\n",
       "      is_apartment  is_part  is_auction  is_openspace  is_roof is_SNT  priceM  \\\n",
       "2306         False    False       False         False    False  False    7.55   \n",
       "5027         False    False       False         False    False  False    7.65   \n",
       "\n",
       "      is_last_floor  \n",
       "2306          False  \n",
       "5027          False  \n",
       "\n",
       "[2 rows x 21 columns]"
      ]
     },
     "execution_count": 5,
     "metadata": {},
     "output_type": "execute_result"
    }
   ],
   "source": [
    "from lib.avito import AvitoDataAggRealty\n",
    "\n",
    "data = AvitoDataAggRealty(data_path=raw_data_path).transform()\n",
    "data.sample(2)"
   ]
  },
  {
   "cell_type": "markdown",
   "id": "86c8c082",
   "metadata": {},
   "source": [
    "## ищем геопозицию"
   ]
  },
  {
   "cell_type": "markdown",
   "id": "93bdb201",
   "metadata": {},
   "source": [
    "### обновляем таблицу адресов"
   ]
  },
  {
   "cell_type": "code",
   "execution_count": 7,
   "id": "945b82c2",
   "metadata": {},
   "outputs": [
    {
     "name": "stdout",
     "output_type": "stream",
     "text": [
      "[INFO    ] 2022-09-06 12:57:24 | LocationUpdater: 1672 addresses in location table\n",
      "[INFO    ] 2022-09-06 12:57:24 | LocationUpdater: 1712 addresses total\n",
      "[INFO    ] 2022-09-06 12:57:24 | LocationUpdater: 1672 addresses defined\n",
      "[INFO    ] 2022-09-06 12:57:24 | LocationUpdater: 40 addresses undefined\n"
     ]
    },
    {
     "data": {
      "application/vnd.jupyter.widget-view+json": {
       "model_id": "bc9cbe605b0442debd7810732cff48cb",
       "version_major": 2,
       "version_minor": 0
      },
      "text/plain": [
       "  0%|          | 0/40 [00:00<?, ?it/s]"
      ]
     },
     "metadata": {},
     "output_type": "display_data"
    },
    {
     "name": "stdout",
     "output_type": "stream",
     "text": [
      "[INFO    ] 2022-09-06 12:58:11 | LocationUpdater: 0 addresses found\n"
     ]
    }
   ],
   "source": [
    "from lib.locator import LocationUpdater\n",
    "from lib.locator import AddressTransformerSev\n",
    "\n",
    "loc = LocationUpdater(\n",
    "        address_transformer=AddressTransformerSev(),\n",
    "    ).transform(\n",
    "        adr=data['adr'],\n",
    "        loc=pd.read_pickle(loc_file_path),\n",
    "        show_pbar=True,\n",
    "    )"
   ]
  },
  {
   "cell_type": "code",
   "execution_count": 8,
   "id": "c488f28d",
   "metadata": {},
   "outputs": [
    {
     "data": {
      "text/html": [
       "<div>\n",
       "<style scoped>\n",
       "    .dataframe tbody tr th:only-of-type {\n",
       "        vertical-align: middle;\n",
       "    }\n",
       "\n",
       "    .dataframe tbody tr th {\n",
       "        vertical-align: top;\n",
       "    }\n",
       "\n",
       "    .dataframe thead th {\n",
       "        text-align: right;\n",
       "    }\n",
       "</style>\n",
       "<table border=\"1\" class=\"dataframe\">\n",
       "  <thead>\n",
       "    <tr style=\"text-align: right;\">\n",
       "      <th></th>\n",
       "      <th>adr</th>\n",
       "      <th>latitude</th>\n",
       "      <th>longitude</th>\n",
       "      <th>truncated</th>\n",
       "    </tr>\n",
       "  </thead>\n",
       "  <tbody>\n",
       "    <tr>\n",
       "      <th>1590</th>\n",
       "      <td>Севастополь, улица Челнокова, 17 к1</td>\n",
       "      <td>44.59</td>\n",
       "      <td>33.43</td>\n",
       "      <td>False</td>\n",
       "    </tr>\n",
       "    <tr>\n",
       "      <th>551</th>\n",
       "      <td>улица Аллы Оношко, 48</td>\n",
       "      <td>44.64</td>\n",
       "      <td>33.56</td>\n",
       "      <td>False</td>\n",
       "    </tr>\n",
       "    <tr>\n",
       "      <th>927</th>\n",
       "      <td>улица Ленина, 21</td>\n",
       "      <td>44.61</td>\n",
       "      <td>33.53</td>\n",
       "      <td>False</td>\n",
       "    </tr>\n",
       "  </tbody>\n",
       "</table>\n",
       "</div>"
      ],
      "text/plain": [
       "                                      adr  latitude  longitude truncated\n",
       "1590  Севастополь, улица Челнокова, 17 к1     44.59      33.43     False\n",
       "551                 улица Аллы Оношко, 48     44.64      33.56     False\n",
       "927                      улица Ленина, 21     44.61      33.53     False"
      ]
     },
     "execution_count": 8,
     "metadata": {},
     "output_type": "execute_result"
    }
   ],
   "source": [
    "loc.sample(3)"
   ]
  },
  {
   "cell_type": "code",
   "execution_count": 9,
   "id": "f1766b8e",
   "metadata": {},
   "outputs": [],
   "source": [
    "assert len(loc)>0"
   ]
  },
  {
   "cell_type": "code",
   "execution_count": 11,
   "id": "9162f6a1",
   "metadata": {},
   "outputs": [],
   "source": [
    "loc.to_pickle(loc_file_path)"
   ]
  },
  {
   "cell_type": "markdown",
   "id": "41717347",
   "metadata": {},
   "source": [
    "## дополняем данные геометкой"
   ]
  },
  {
   "cell_type": "code",
   "execution_count": 12,
   "id": "242002fe",
   "metadata": {},
   "outputs": [],
   "source": [
    "data = data.merge(loc[['adr','latitude','longitude',]],on=['adr'],how='left')"
   ]
  },
  {
   "cell_type": "code",
   "execution_count": 13,
   "id": "df1851dd",
   "metadata": {},
   "outputs": [],
   "source": [
    "# data.sample(3)"
   ]
  },
  {
   "cell_type": "code",
   "execution_count": 15,
   "id": "3d9f008f",
   "metadata": {},
   "outputs": [
    {
     "name": "stdout",
     "output_type": "stream",
     "text": [
      "всего записей: 7896\n",
      "записей без геометки: 415\n"
     ]
    }
   ],
   "source": [
    "print('всего записей:', len( data) )\n",
    "print('записей без геометки:', len( data[ data['latitude'].isnull() ] ) )"
   ]
  },
  {
   "cell_type": "code",
   "execution_count": 16,
   "id": "d2f10ff1",
   "metadata": {},
   "outputs": [],
   "source": [
    "data.to_pickle(result_file_path)"
   ]
  }
 ],
 "metadata": {
  "kernelspec": {
   "display_name": "Python 3 (ipykernel)",
   "language": "python",
   "name": "python3"
  },
  "language_info": {
   "codemirror_mode": {
    "name": "ipython",
    "version": 3
   },
   "file_extension": ".py",
   "mimetype": "text/x-python",
   "name": "python",
   "nbconvert_exporter": "python",
   "pygments_lexer": "ipython3",
   "version": "3.10.6"
  },
  "toc": {
   "base_numbering": 1,
   "nav_menu": {},
   "number_sections": true,
   "sideBar": true,
   "skip_h1_title": false,
   "title_cell": "Table of Contents",
   "title_sidebar": "Contents",
   "toc_cell": false,
   "toc_position": {},
   "toc_section_display": true,
   "toc_window_display": false
  }
 },
 "nbformat": 4,
 "nbformat_minor": 5
}
