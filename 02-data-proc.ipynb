{
 "cells": [
  {
   "cell_type": "markdown",
   "id": "9c95944c",
   "metadata": {},
   "source": [
    "__чистим данные__\n",
    "\n",
    "_Evgeny S. Borisov <parser@mechanoid.su>_"
   ]
  },
  {
   "cell_type": "code",
   "execution_count": 1,
   "id": "0b666450",
   "metadata": {},
   "outputs": [],
   "source": [
    "from datetime import datetime as dtm\n",
    "import pandas as pd\n",
    "from tqdm.notebook import tqdm\n",
    "tqdm.pandas()"
   ]
  },
  {
   "cell_type": "markdown",
   "id": "aa79f2c5",
   "metadata": {},
   "source": [
    "---"
   ]
  },
  {
   "cell_type": "code",
   "execution_count": 2,
   "id": "094421b1",
   "metadata": {},
   "outputs": [
    {
     "name": "stdout",
     "output_type": "stream",
     "text": [
      "avito_2022-08-26_17-29_raw.xlsx\r\n",
      "avito_2022-08-29_13-16_raw.xlsx\r\n",
      "avito_2022-08-31_17-42_raw.xlsx\r\n",
      "avito_2022-09-01_14-07_raw.xlsx\r\n",
      "avito_2022-09-02_13-04_raw.xlsx\r\n",
      "avito_2022-09-05_14-02_raw.xlsx\r\n"
     ]
    }
   ],
   "source": [
    "!ls -1 data/raw"
   ]
  },
  {
   "cell_type": "code",
   "execution_count": 3,
   "id": "5b8a933c",
   "metadata": {},
   "outputs": [],
   "source": [
    "# каталог с файлами объявлений\n",
    "archive_raw_path = 'data/raw/'\n",
    "\n",
    "# файлым объявлений в хронологическом порядке\n",
    "archive_raw_files = [\n",
    "    #'avito_2022-08-26_17-29_raw.xlsx',\n",
    "    #'avito_2022-08-29_13-16_raw.xlsx',\n",
    "    #'avito_2022-08-31_17-42_raw.xlsx',\n",
    "    'avito_2022-09-02_13-04_raw.xlsx',\n",
    "    'avito_2022-09-05_14-02_raw.xlsx',\n",
    "]"
   ]
  },
  {
   "cell_type": "code",
   "execution_count": 37,
   "id": "0db0bfc4",
   "metadata": {},
   "outputs": [
    {
     "name": "stdout",
     "output_type": "stream",
     "text": [
      "avito_2022-09-01_14-07_location.pkl\r\n",
      "avito_2022-09-02_13-04_location.pkl\r\n",
      "avito_2022-09-05_14-02_location.pkl\r\n",
      "map_addr_unique.csv\r\n"
     ]
    }
   ],
   "source": [
    "!ls -1 data/location"
   ]
  },
  {
   "cell_type": "code",
   "execution_count": 8,
   "id": "5bd46dbf",
   "metadata": {},
   "outputs": [],
   "source": [
    "# старая таблица адресов\n",
    "loc_path = 'data/location/'\n",
    "# loc_file = 'avito_2022-09-02_13-04_location.pkl'\n",
    "loc_file = 'avito_2022-09-05_14-02_location.pkl'"
   ]
  },
  {
   "cell_type": "code",
   "execution_count": 51,
   "id": "761a87ce",
   "metadata": {},
   "outputs": [],
   "source": [
    "result_path = 'data/'"
   ]
  },
  {
   "cell_type": "markdown",
   "id": "7a7cda76",
   "metadata": {},
   "source": [
    "## собираем и чистим данные"
   ]
  },
  {
   "cell_type": "code",
   "execution_count": 4,
   "id": "39373cbc",
   "metadata": {},
   "outputs": [],
   "source": [
    "# pd.read_excel(archive_raw_path+archive_raw_files[1])"
   ]
  },
  {
   "cell_type": "code",
   "execution_count": 5,
   "id": "57f9cf28",
   "metadata": {},
   "outputs": [
    {
     "name": "stdout",
     "output_type": "stream",
     "text": [
      "data: 7896\n"
     ]
    },
    {
     "data": {
      "text/html": [
       "<div>\n",
       "<style scoped>\n",
       "    .dataframe tbody tr th:only-of-type {\n",
       "        vertical-align: middle;\n",
       "    }\n",
       "\n",
       "    .dataframe tbody tr th {\n",
       "        vertical-align: top;\n",
       "    }\n",
       "\n",
       "    .dataframe thead th {\n",
       "        text-align: right;\n",
       "    }\n",
       "</style>\n",
       "<table border=\"1\" class=\"dataframe\">\n",
       "  <thead>\n",
       "    <tr style=\"text-align: right;\">\n",
       "      <th></th>\n",
       "      <th>avito_id</th>\n",
       "      <th>title</th>\n",
       "      <th>price</th>\n",
       "      <th>obj_name</th>\n",
       "      <th>adr</th>\n",
       "      <th>description</th>\n",
       "      <th>avito_page</th>\n",
       "      <th>ts</th>\n",
       "    </tr>\n",
       "  </thead>\n",
       "  <tbody>\n",
       "    <tr>\n",
       "      <th>1563</th>\n",
       "      <td>2528321786</td>\n",
       "      <td>Объявление «Квартира-студия, 39 м², 1/6 эт.» 5...</td>\n",
       "      <td>6200000</td>\n",
       "      <td>NaN</td>\n",
       "      <td>ул. Челюскинцев, 57/3</td>\n",
       "      <td>Продам 2 х комнатную студию. Две комнаты, одна...</td>\n",
       "      <td>32</td>\n",
       "      <td>2022-09-02 13:04:00</td>\n",
       "    </tr>\n",
       "    <tr>\n",
       "      <th>3683</th>\n",
       "      <td>2130401998</td>\n",
       "      <td>Объявление «3-к. квартира, 54 м², 4/5 эт.» 21 ...</td>\n",
       "      <td>7200000</td>\n",
       "      <td>NaN</td>\n",
       "      <td>ул. Циолковского, 19</td>\n",
       "      <td>Продам трёхкомнатную квартиру в г. Севастополе...</td>\n",
       "      <td>74</td>\n",
       "      <td>2022-09-02 13:04:00</td>\n",
       "    </tr>\n",
       "    <tr>\n",
       "      <th>1709</th>\n",
       "      <td>2491088519</td>\n",
       "      <td>Объявление «2-к. квартира, 43,4 м², 5/5 эт.» 1...</td>\n",
       "      <td>6900000</td>\n",
       "      <td>NaN</td>\n",
       "      <td>ул. Ефремова, 8</td>\n",
       "      <td>В продаже квартира у моря! \\n\\nУдачное местора...</td>\n",
       "      <td>35</td>\n",
       "      <td>2022-09-02 13:04:00</td>\n",
       "    </tr>\n",
       "  </tbody>\n",
       "</table>\n",
       "</div>"
      ],
      "text/plain": [
       "        avito_id                                              title    price  \\\n",
       "1563  2528321786  Объявление «Квартира-студия, 39 м², 1/6 эт.» 5...  6200000   \n",
       "3683  2130401998  Объявление «3-к. квартира, 54 м², 4/5 эт.» 21 ...  7200000   \n",
       "1709  2491088519  Объявление «2-к. квартира, 43,4 м², 5/5 эт.» 1...  6900000   \n",
       "\n",
       "     obj_name                    adr  \\\n",
       "1563      NaN  ул. Челюскинцев, 57/3   \n",
       "3683      NaN   ул. Циолковского, 19   \n",
       "1709      NaN        ул. Ефремова, 8   \n",
       "\n",
       "                                            description  avito_page  \\\n",
       "1563  Продам 2 х комнатную студию. Две комнаты, одна...          32   \n",
       "3683  Продам трёхкомнатную квартиру в г. Севастополе...          74   \n",
       "1709  В продаже квартира у моря! \\n\\nУдачное местора...          35   \n",
       "\n",
       "                      ts  \n",
       "1563 2022-09-02 13:04:00  \n",
       "3683 2022-09-02 13:04:00  \n",
       "1709 2022-09-02 13:04:00  "
      ]
     },
     "execution_count": 5,
     "metadata": {},
     "output_type": "execute_result"
    }
   ],
   "source": [
    "data = [ pd.read_excel(archive_raw_path+f) for f in archive_raw_files ]\n",
    "ts = [ dtm.strptime(f,'avito_%Y-%m-%d_%H-%M_raw.xlsx') for f in archive_raw_files ]\n",
    "for i in range(len(data)): data[i]['ts'] = ts[i]\n",
    "data = pd.concat(data).drop_duplicates().reset_index(drop=True)\n",
    "print('data:',len(data))\n",
    "data.sample(3)"
   ]
  },
  {
   "cell_type": "code",
   "execution_count": 6,
   "id": "7a32c954",
   "metadata": {},
   "outputs": [
    {
     "name": "stdout",
     "output_type": "stream",
     "text": [
      "data: 7896\n"
     ]
    },
    {
     "data": {
      "text/html": [
       "<div>\n",
       "<style scoped>\n",
       "    .dataframe tbody tr th:only-of-type {\n",
       "        vertical-align: middle;\n",
       "    }\n",
       "\n",
       "    .dataframe tbody tr th {\n",
       "        vertical-align: top;\n",
       "    }\n",
       "\n",
       "    .dataframe thead th {\n",
       "        text-align: right;\n",
       "    }\n",
       "</style>\n",
       "<table border=\"1\" class=\"dataframe\">\n",
       "  <thead>\n",
       "    <tr style=\"text-align: right;\">\n",
       "      <th></th>\n",
       "      <th>avito_id</th>\n",
       "      <th>title</th>\n",
       "      <th>price</th>\n",
       "      <th>obj_name</th>\n",
       "      <th>adr</th>\n",
       "      <th>description</th>\n",
       "      <th>avito_page</th>\n",
       "      <th>ts</th>\n",
       "      <th>nrooms</th>\n",
       "      <th>floor</th>\n",
       "      <th>...</th>\n",
       "      <th>area</th>\n",
       "      <th>is_studio</th>\n",
       "      <th>is_apartment</th>\n",
       "      <th>is_part</th>\n",
       "      <th>is_auction</th>\n",
       "      <th>is_openspace</th>\n",
       "      <th>is_roof</th>\n",
       "      <th>is_SNT</th>\n",
       "      <th>priceM</th>\n",
       "      <th>is_last_floor</th>\n",
       "    </tr>\n",
       "  </thead>\n",
       "  <tbody>\n",
       "    <tr>\n",
       "      <th>2456</th>\n",
       "      <td>2372785663</td>\n",
       "      <td>1-к. квартира, 26 м², 2/3 эт.</td>\n",
       "      <td>3913298</td>\n",
       "      <td>ЖК «Голубая Бухта»</td>\n",
       "      <td>аллея Защитников 35-й Батареи, д. 11а</td>\n",
       "      <td>ЖК «Голубая Бухта» — это неповторимое сочетани...</td>\n",
       "      <td>50</td>\n",
       "      <td>2022-09-02 13:04:00</td>\n",
       "      <td>1</td>\n",
       "      <td>2</td>\n",
       "      <td>...</td>\n",
       "      <td>26.0</td>\n",
       "      <td>False</td>\n",
       "      <td>False</td>\n",
       "      <td>False</td>\n",
       "      <td>False</td>\n",
       "      <td>False</td>\n",
       "      <td>False</td>\n",
       "      <td>False</td>\n",
       "      <td>3.913298</td>\n",
       "      <td>False</td>\n",
       "    </tr>\n",
       "    <tr>\n",
       "      <th>1386</th>\n",
       "      <td>2551560947</td>\n",
       "      <td>4-к. квартира, 86 м², 2/9 эт.</td>\n",
       "      <td>10500000</td>\n",
       "      <td>NaN</td>\n",
       "      <td>улица Косарева, 27</td>\n",
       "      <td>Продам 4-х комнатную квартиру ул Косарева 27. ...</td>\n",
       "      <td>28</td>\n",
       "      <td>2022-09-02 13:04:00</td>\n",
       "      <td>4</td>\n",
       "      <td>2</td>\n",
       "      <td>...</td>\n",
       "      <td>86.0</td>\n",
       "      <td>False</td>\n",
       "      <td>False</td>\n",
       "      <td>False</td>\n",
       "      <td>False</td>\n",
       "      <td>False</td>\n",
       "      <td>False</td>\n",
       "      <td>False</td>\n",
       "      <td>10.500000</td>\n",
       "      <td>False</td>\n",
       "    </tr>\n",
       "  </tbody>\n",
       "</table>\n",
       "<p>2 rows × 21 columns</p>\n",
       "</div>"
      ],
      "text/plain": [
       "        avito_id                          title     price            obj_name  \\\n",
       "2456  2372785663  1-к. квартира, 26 м², 2/3 эт.   3913298  ЖК «Голубая Бухта»   \n",
       "1386  2551560947  4-к. квартира, 86 м², 2/9 эт.  10500000                 NaN   \n",
       "\n",
       "                                        adr  \\\n",
       "2456  аллея Защитников 35-й Батареи, д. 11а   \n",
       "1386                     улица Косарева, 27   \n",
       "\n",
       "                                            description  avito_page  \\\n",
       "2456  ЖК «Голубая Бухта» — это неповторимое сочетани...          50   \n",
       "1386  Продам 4-х комнатную квартиру ул Косарева 27. ...          28   \n",
       "\n",
       "                      ts  nrooms  floor  ...  area  is_studio  is_apartment  \\\n",
       "2456 2022-09-02 13:04:00       1      2  ...  26.0      False         False   \n",
       "1386 2022-09-02 13:04:00       4      2  ...  86.0      False         False   \n",
       "\n",
       "      is_part  is_auction  is_openspace  is_roof is_SNT     priceM  \\\n",
       "2456    False       False         False    False  False   3.913298   \n",
       "1386    False       False         False    False  False  10.500000   \n",
       "\n",
       "      is_last_floor  \n",
       "2456          False  \n",
       "1386          False  \n",
       "\n",
       "[2 rows x 21 columns]"
      ]
     },
     "execution_count": 6,
     "metadata": {},
     "output_type": "execute_result"
    }
   ],
   "source": [
    "from lib.avito import AvitoDataCleanerRealty\n",
    "\n",
    "data_ = AvitoDataCleanerRealty.transform(data)\n",
    "print('data:',len(data_))\n",
    "data_.sample(2)"
   ]
  },
  {
   "cell_type": "markdown",
   "id": "86c8c082",
   "metadata": {},
   "source": [
    "## ищем геопозицию"
   ]
  },
  {
   "cell_type": "markdown",
   "id": "f5ee89a0",
   "metadata": {},
   "source": [
    "### обновляем таблицу адресов"
   ]
  },
  {
   "cell_type": "code",
   "execution_count": 9,
   "id": "8777b2fc",
   "metadata": {},
   "outputs": [
    {
     "name": "stdout",
     "output_type": "stream",
     "text": [
      "1712\n"
     ]
    },
    {
     "data": {
      "text/html": [
       "<div>\n",
       "<style scoped>\n",
       "    .dataframe tbody tr th:only-of-type {\n",
       "        vertical-align: middle;\n",
       "    }\n",
       "\n",
       "    .dataframe tbody tr th {\n",
       "        vertical-align: top;\n",
       "    }\n",
       "\n",
       "    .dataframe thead th {\n",
       "        text-align: right;\n",
       "    }\n",
       "</style>\n",
       "<table border=\"1\" class=\"dataframe\">\n",
       "  <thead>\n",
       "    <tr style=\"text-align: right;\">\n",
       "      <th></th>\n",
       "      <th>adr</th>\n",
       "      <th>latitude</th>\n",
       "      <th>longitude</th>\n",
       "      <th>truncated</th>\n",
       "    </tr>\n",
       "  </thead>\n",
       "  <tbody>\n",
       "    <tr>\n",
       "      <th>159</th>\n",
       "      <td>Красивая улица , 38</td>\n",
       "      <td>44.585264</td>\n",
       "      <td>33.473158</td>\n",
       "      <td>False</td>\n",
       "    </tr>\n",
       "    <tr>\n",
       "      <th>858</th>\n",
       "      <td>улица Загордянского, 24</td>\n",
       "      <td>44.633265</td>\n",
       "      <td>33.519180</td>\n",
       "      <td>False</td>\n",
       "    </tr>\n",
       "    <tr>\n",
       "      <th>1033</th>\n",
       "      <td>Партизанская улица , 15</td>\n",
       "      <td>44.609627</td>\n",
       "      <td>33.513854</td>\n",
       "      <td>False</td>\n",
       "    </tr>\n",
       "  </tbody>\n",
       "</table>\n",
       "</div>"
      ],
      "text/plain": [
       "                           adr   latitude  longitude truncated\n",
       "159        Красивая улица , 38  44.585264  33.473158     False\n",
       "858    улица Загордянского, 24  44.633265  33.519180     False\n",
       "1033   Партизанская улица , 15  44.609627  33.513854     False"
      ]
     },
     "execution_count": 9,
     "metadata": {},
     "output_type": "execute_result"
    }
   ],
   "source": [
    "# дополняем таблицу адресов\n",
    "cols = ['adr','latitude','longitude','truncated',]\n",
    "loc = (\n",
    "    data_[['adr']]\n",
    "    .drop_duplicates()    \n",
    "    .merge( pd.read_pickle(loc_path+loc_file), on=['adr'], how='outer' )[cols]\n",
    ")\n",
    "print(len(loc))\n",
    "loc.sample(3)"
   ]
  },
  {
   "cell_type": "code",
   "execution_count": 10,
   "id": "0f582b83",
   "metadata": {},
   "outputs": [
    {
     "name": "stdout",
     "output_type": "stream",
     "text": [
      "166\n"
     ]
    },
    {
     "data": {
      "text/html": [
       "<div>\n",
       "<style scoped>\n",
       "    .dataframe tbody tr th:only-of-type {\n",
       "        vertical-align: middle;\n",
       "    }\n",
       "\n",
       "    .dataframe tbody tr th {\n",
       "        vertical-align: top;\n",
       "    }\n",
       "\n",
       "    .dataframe thead th {\n",
       "        text-align: right;\n",
       "    }\n",
       "</style>\n",
       "<table border=\"1\" class=\"dataframe\">\n",
       "  <thead>\n",
       "    <tr style=\"text-align: right;\">\n",
       "      <th></th>\n",
       "      <th>index</th>\n",
       "      <th>adr</th>\n",
       "    </tr>\n",
       "  </thead>\n",
       "  <tbody>\n",
       "    <tr>\n",
       "      <th>159</th>\n",
       "      <td>1705</td>\n",
       "      <td>Севастополь, проспект Генерала Острякова, 21</td>\n",
       "    </tr>\n",
       "    <tr>\n",
       "      <th>5</th>\n",
       "      <td>377</td>\n",
       "      <td>улица Александра Шостака, 1</td>\n",
       "    </tr>\n",
       "    <tr>\n",
       "      <th>59</th>\n",
       "      <td>1605</td>\n",
       "      <td>улица Героев Бреста, 44Г</td>\n",
       "    </tr>\n",
       "  </tbody>\n",
       "</table>\n",
       "</div>"
      ],
      "text/plain": [
       "     index                                           adr\n",
       "159   1705  Севастополь, проспект Генерала Острякова, 21\n",
       "5      377                   улица Александра Шостака, 1\n",
       "59    1605                      улица Героев Бреста, 44Г"
      ]
     },
     "execution_count": 10,
     "metadata": {},
     "output_type": "execute_result"
    }
   ],
   "source": [
    "# адреса без геопозиции\n",
    "loc_ = loc[ loc['latitude'].isnull() ][['adr']].reset_index(drop=True)\n",
    "print(len(loc_))\n",
    "loc_.sample(3)"
   ]
  },
  {
   "cell_type": "code",
   "execution_count": 44,
   "id": "3131544d",
   "metadata": {},
   "outputs": [],
   "source": [
    "assert len(loc_)>0"
   ]
  },
  {
   "cell_type": "code",
   "execution_count": 11,
   "id": "1c0c300b",
   "metadata": {},
   "outputs": [],
   "source": [
    "import re\n",
    "\n",
    "symb_lat = 'yexapocEXAPOCTHKBM'\n",
    "symb_rus = 'уехаросЕХАРОСТНКВМ'\n",
    "l2r = str.maketrans(symb_lat,symb_rus) \n",
    "\n",
    "# чистим строку адреса\n",
    "loc_['adr_'] = (\n",
    "        loc_['adr']\n",
    "        .apply(lambda s: s.translate(l2r) )\n",
    "        .apply(lambda s: re.sub(r'\\b[Сс]евастополь\\b','',s))\n",
    "        .apply(lambda s: re.sub(r'\\bмикрорайон\\b',' ',s))\n",
    "        .apply(lambda s: re.sub(r'\\bмуниципальный округ\\b',' район ',s))\n",
    "        .apply(lambda s: re.sub(r'\\bкотт?еджный пос[ёе]лок\\b',' ',s))\n",
    "        .apply(lambda s: re.sub(r'\\bпос[ёе]лок\\b',' ',s))\n",
    "        .apply(lambda s: re.sub(r'^','Севастополь, ',s))\n",
    "        # .apply(lambda s: re.sub(r'[Сс]евастополь.*село\\b','Крым, село ',s))\n",
    "        .apply(lambda s: re.sub(r',\\s*,',', ',s))\n",
    "        .apply(lambda s: re.sub(r' +',' ',s))\n",
    "    )"
   ]
  },
  {
   "cell_type": "code",
   "execution_count": 12,
   "id": "27e3a036",
   "metadata": {},
   "outputs": [
    {
     "data": {
      "application/vnd.jupyter.widget-view+json": {
       "model_id": "90615123297e457a95ece7a6504bfd75",
       "version_major": 2,
       "version_minor": 0
      },
      "text/plain": [
       "  0%|          | 0/166 [00:00<?, ?it/s]"
      ]
     },
     "metadata": {},
     "output_type": "display_data"
    },
    {
     "name": "stdout",
     "output_type": "stream",
     "text": [
      "CPU times: user 2.14 s, sys: 190 ms, total: 2.33 s\n",
      "Wall time: 2min 13s\n"
     ]
    },
    {
     "data": {
      "text/html": [
       "<div>\n",
       "<style scoped>\n",
       "    .dataframe tbody tr th:only-of-type {\n",
       "        vertical-align: middle;\n",
       "    }\n",
       "\n",
       "    .dataframe tbody tr th {\n",
       "        vertical-align: top;\n",
       "    }\n",
       "\n",
       "    .dataframe thead th {\n",
       "        text-align: right;\n",
       "    }\n",
       "</style>\n",
       "<table border=\"1\" class=\"dataframe\">\n",
       "  <thead>\n",
       "    <tr style=\"text-align: right;\">\n",
       "      <th></th>\n",
       "      <th>index</th>\n",
       "      <th>adr</th>\n",
       "      <th>adr_</th>\n",
       "      <th>latitude</th>\n",
       "      <th>longitude</th>\n",
       "      <th>truncated</th>\n",
       "    </tr>\n",
       "  </thead>\n",
       "  <tbody>\n",
       "    <tr>\n",
       "      <th>132</th>\n",
       "      <td>1678</td>\n",
       "      <td>село Вилино, улица Чапаева, 19</td>\n",
       "      <td>Севастополь, село Вилино, улица Чапаева, 19</td>\n",
       "      <td>NaN</td>\n",
       "      <td>NaN</td>\n",
       "      <td>None</td>\n",
       "    </tr>\n",
       "    <tr>\n",
       "      <th>138</th>\n",
       "      <td>1684</td>\n",
       "      <td>улица Гоголя, 22</td>\n",
       "      <td>Севастополь, улица Гоголя, 22</td>\n",
       "      <td>44.593940</td>\n",
       "      <td>33.518450</td>\n",
       "      <td>False</td>\n",
       "    </tr>\n",
       "    <tr>\n",
       "      <th>142</th>\n",
       "      <td>1688</td>\n",
       "      <td>Севастополь, улица Правды, 33Б, подъезд 2</td>\n",
       "      <td>Севастополь, улица Правды, 33Б, подъезд 2</td>\n",
       "      <td>44.575405</td>\n",
       "      <td>33.440226</td>\n",
       "      <td>True</td>\n",
       "    </tr>\n",
       "    <tr>\n",
       "      <th>26</th>\n",
       "      <td>1199</td>\n",
       "      <td>коттеджный посёлок Вилларис дель Мар, 103</td>\n",
       "      <td>Севастополь, Вилларис дель Мар, 103</td>\n",
       "      <td>NaN</td>\n",
       "      <td>NaN</td>\n",
       "      <td>None</td>\n",
       "    </tr>\n",
       "  </tbody>\n",
       "</table>\n",
       "</div>"
      ],
      "text/plain": [
       "     index                                        adr  \\\n",
       "132   1678             село Вилино, улица Чапаева, 19   \n",
       "138   1684                           улица Гоголя, 22   \n",
       "142   1688  Севастополь, улица Правды, 33Б, подъезд 2   \n",
       "26    1199  коттеджный посёлок Вилларис дель Мар, 103   \n",
       "\n",
       "                                            adr_   latitude  longitude  \\\n",
       "132  Севастополь, село Вилино, улица Чапаева, 19        NaN        NaN   \n",
       "138                Севастополь, улица Гоголя, 22  44.593940  33.518450   \n",
       "142    Севастополь, улица Правды, 33Б, подъезд 2  44.575405  33.440226   \n",
       "26           Севастополь, Вилларис дель Мар, 103        NaN        NaN   \n",
       "\n",
       "    truncated  \n",
       "132      None  \n",
       "138     False  \n",
       "142      True  \n",
       "26       None  "
      ]
     },
     "execution_count": 12,
     "metadata": {},
     "output_type": "execute_result"
    }
   ],
   "source": [
    "%%time\n",
    "\n",
    "# ищем геопозицию через OpenStreetMap\n",
    "\n",
    "from geopy.geocoders import Nominatim\n",
    "\n",
    "user_agent='Mozilla/5.0 (Windows NT 10.0; rv:91.0) Gecko/20100101 Firefox/91.0'\n",
    "geolocator = Nominatim(user_agent=user_agent)\n",
    "\n",
    "def get_coo(adr, geolocator=geolocator):\n",
    "    adr_ = adr.split(',')\n",
    "    loc = geolocator.geocode(adr_) # пробуем определить координаты\n",
    "    truncated = False\n",
    "    while True:\n",
    "        if not (loc is None): # нашел...\n",
    "            return {'latitude':loc.latitude,'longitude':loc.longitude,'truncated':truncated }#,adr_\n",
    "        \n",
    "        # ...не нашел...\n",
    "        if( len(adr_) < 3 ): break # адрес слишком короткий для сокращения\n",
    "        adr_ = adr_[:-1] # выкидываем часть адреса (номер дома)\n",
    "        loc = geolocator.geocode( adr_) # ... и пробуем ещё раз\n",
    "        truncated = True\n",
    "    \n",
    "    return {'latitude':None,'longitude':None,'truncated':None, }\n",
    "\n",
    "\n",
    "# ищем геометку по адресу\n",
    "loc_ = pd.concat([loc_, loc_['adr_'].progress_apply(get_coo).apply(pd.Series)],axis=1)\n",
    "loc_.sample(4)"
   ]
  },
  {
   "cell_type": "code",
   "execution_count": 21,
   "id": "2abc9a4d",
   "metadata": {},
   "outputs": [
    {
     "name": "stdout",
     "output_type": "stream",
     "text": [
      "было без геометки: 166\n",
      "нашли геометок: 126\n",
      "осталось без геометок: 40\n"
     ]
    }
   ],
   "source": [
    "print( 'было без геометки:',len(loc_) )\n",
    "print( 'нашли геометок:', len( loc_[~loc_['latitude'].isnull()]) )\n",
    "print( 'осталось без геометок:', len( loc_[loc_['latitude'].isnull()]) )"
   ]
  },
  {
   "cell_type": "code",
   "execution_count": 29,
   "id": "87f256e0",
   "metadata": {},
   "outputs": [
    {
     "data": {
      "text/html": [
       "<div>\n",
       "<style scoped>\n",
       "    .dataframe tbody tr th:only-of-type {\n",
       "        vertical-align: middle;\n",
       "    }\n",
       "\n",
       "    .dataframe tbody tr th {\n",
       "        vertical-align: top;\n",
       "    }\n",
       "\n",
       "    .dataframe thead th {\n",
       "        text-align: right;\n",
       "    }\n",
       "</style>\n",
       "<table border=\"1\" class=\"dataframe\">\n",
       "  <thead>\n",
       "    <tr style=\"text-align: right;\">\n",
       "      <th></th>\n",
       "      <th>adr</th>\n",
       "      <th>latitude</th>\n",
       "      <th>longitude</th>\n",
       "      <th>truncated</th>\n",
       "    </tr>\n",
       "  </thead>\n",
       "  <tbody>\n",
       "    <tr>\n",
       "      <th>0</th>\n",
       "      <td>улица Генерала Крейзера, д. 8, корп. 5</td>\n",
       "      <td>44.604490</td>\n",
       "      <td>33.512078</td>\n",
       "      <td>True</td>\n",
       "    </tr>\n",
       "    <tr>\n",
       "      <th>1</th>\n",
       "      <td>проспект Победы, 29В</td>\n",
       "      <td>44.584041</td>\n",
       "      <td>33.563608</td>\n",
       "      <td>False</td>\n",
       "    </tr>\n",
       "    <tr>\n",
       "      <th>2</th>\n",
       "      <td>улица Военных Строителей, стр. 6.3</td>\n",
       "      <td>44.567946</td>\n",
       "      <td>33.405590</td>\n",
       "      <td>True</td>\n",
       "    </tr>\n",
       "    <tr>\n",
       "      <th>4</th>\n",
       "      <td>улица Генерала Мельника, 11А/1</td>\n",
       "      <td>44.576784</td>\n",
       "      <td>33.565291</td>\n",
       "      <td>True</td>\n",
       "    </tr>\n",
       "    <tr>\n",
       "      <th>5</th>\n",
       "      <td>шоссе Лабораторное, д. 33, секц. 6</td>\n",
       "      <td>44.574609</td>\n",
       "      <td>33.580993</td>\n",
       "      <td>True</td>\n",
       "    </tr>\n",
       "    <tr>\n",
       "      <th>...</th>\n",
       "      <td>...</td>\n",
       "      <td>...</td>\n",
       "      <td>...</td>\n",
       "      <td>...</td>\n",
       "    </tr>\n",
       "    <tr>\n",
       "      <th>161</th>\n",
       "      <td>улица Гоголя, 20Б</td>\n",
       "      <td>44.594636</td>\n",
       "      <td>33.518431</td>\n",
       "      <td>False</td>\n",
       "    </tr>\n",
       "    <tr>\n",
       "      <th>162</th>\n",
       "      <td>улица Горпищенко, 3</td>\n",
       "      <td>44.602131</td>\n",
       "      <td>33.548830</td>\n",
       "      <td>False</td>\n",
       "    </tr>\n",
       "    <tr>\n",
       "      <th>163</th>\n",
       "      <td>Балаклава, улица Крестовского, 75</td>\n",
       "      <td>44.517256</td>\n",
       "      <td>33.606330</td>\n",
       "      <td>False</td>\n",
       "    </tr>\n",
       "    <tr>\n",
       "      <th>164</th>\n",
       "      <td>Севастополь, улица Горпищенко, 143 к4</td>\n",
       "      <td>44.579399</td>\n",
       "      <td>33.578578</td>\n",
       "      <td>False</td>\n",
       "    </tr>\n",
       "    <tr>\n",
       "      <th>165</th>\n",
       "      <td>Севастополь, улица Меньшикова, 23</td>\n",
       "      <td>44.594222</td>\n",
       "      <td>33.485538</td>\n",
       "      <td>False</td>\n",
       "    </tr>\n",
       "  </tbody>\n",
       "</table>\n",
       "<p>1672 rows × 4 columns</p>\n",
       "</div>"
      ],
      "text/plain": [
       "                                         adr   latitude  longitude truncated\n",
       "0     улица Генерала Крейзера, д. 8, корп. 5  44.604490  33.512078      True\n",
       "1                       проспект Победы, 29В  44.584041  33.563608     False\n",
       "2         улица Военных Строителей, стр. 6.3  44.567946  33.405590      True\n",
       "4             улица Генерала Мельника, 11А/1  44.576784  33.565291      True\n",
       "5         шоссе Лабораторное, д. 33, секц. 6  44.574609  33.580993      True\n",
       "..                                       ...        ...        ...       ...\n",
       "161                        улица Гоголя, 20Б  44.594636  33.518431     False\n",
       "162                      улица Горпищенко, 3  44.602131  33.548830     False\n",
       "163        Балаклава, улица Крестовского, 75  44.517256  33.606330     False\n",
       "164    Севастополь, улица Горпищенко, 143 к4  44.579399  33.578578     False\n",
       "165        Севастополь, улица Меньшикова, 23  44.594222  33.485538     False\n",
       "\n",
       "[1672 rows x 4 columns]"
      ]
     },
     "execution_count": 29,
     "metadata": {},
     "output_type": "execute_result"
    }
   ],
   "source": [
    "cols = [ 'adr','latitude','longitude','truncated' ]\n",
    "pd.concat([loc.dropna()[cols],loc_.dropna()[cols],]).drop_duplicates().reset_index(drop=True)"
   ]
  },
  {
   "cell_type": "code",
   "execution_count": 32,
   "id": "ba787884",
   "metadata": {},
   "outputs": [
    {
     "data": {
      "text/plain": [
       "'2022-09-05_14-02'"
      ]
     },
     "execution_count": 32,
     "metadata": {},
     "output_type": "execute_result"
    }
   ],
   "source": [
    "ts = data['ts'].max().strftime('%Y-%m-%d_%H-%M')\n",
    "ts"
   ]
  },
  {
   "cell_type": "code",
   "execution_count": 36,
   "id": "5f79f04a",
   "metadata": {},
   "outputs": [],
   "source": [
    "loc.to_pickle(f'{loc_path}/avito_{ts}_location.pkl')"
   ]
  },
  {
   "cell_type": "markdown",
   "id": "41717347",
   "metadata": {},
   "source": [
    "## дополняем данные геометкой"
   ]
  },
  {
   "cell_type": "code",
   "execution_count": 46,
   "id": "242002fe",
   "metadata": {},
   "outputs": [],
   "source": [
    "data_ = data_.merge(loc[['adr','latitude','longitude',]],on=['adr'],how='left')"
   ]
  },
  {
   "cell_type": "code",
   "execution_count": 49,
   "id": "3d9f008f",
   "metadata": {},
   "outputs": [
    {
     "name": "stdout",
     "output_type": "stream",
     "text": [
      "всего записей: 7896\n",
      "записей без геометки: 548\n"
     ]
    }
   ],
   "source": [
    "print('всего записей:', len( data_) )\n",
    "print('записей без геометки:', len( data_[ data_['latitude'].isnull() ] ) )"
   ]
  },
  {
   "cell_type": "code",
   "execution_count": 52,
   "id": "d2f10ff1",
   "metadata": {},
   "outputs": [],
   "source": [
    "data_.to_pickle(result_path+'/data.pkl')"
   ]
  },
  {
   "cell_type": "markdown",
   "id": "d0b59ce9",
   "metadata": {},
   "source": [
    "---"
   ]
  },
  {
   "cell_type": "code",
   "execution_count": 34,
   "id": "03670c0b",
   "metadata": {},
   "outputs": [],
   "source": [
    "# loc_path+loc_file"
   ]
  },
  {
   "cell_type": "code",
   "execution_count": null,
   "id": "16d44c9b",
   "metadata": {},
   "outputs": [],
   "source": [
    "# читаем самый свежий файл объявлений\n",
    "\n",
    "# f = archive_raw_files[-1]\n",
    "# ts = dtm.strptime(f,'avito_%Y-%m-%d_%H-%M_raw.xlsx')\n",
    "\n",
    "# data = pd.read_excel(archive_raw_path+f)\n",
    "# data['ts'] = ts\n",
    "\n",
    "# print(len(data))\n",
    "# data.sample(3)\n",
    "\n",
    "## докидываем старые объявления\n",
    "#\n",
    "# for f in archive_raw_files[-2::-1]:\n",
    "#     print(f)\n",
    "#     print('data:',len(data))\n",
    "#     data_index = data[['avito_id','title']].drop_duplicates()\n",
    "#     print('data index:',len(data_index))\n",
    "\n",
    "#     ts = dtm.strptime(f,'avito_%Y-%m-%d_%H-%M_raw.xlsx')\n",
    "#     data_ = (\n",
    "#             pd.read_excel(archive_raw_path+f)    \n",
    "#             .merge( data_index, on=['avito_id','title'],how='left',indicator=True )\n",
    "#             .query('_merge==\"left_only\"')\n",
    "#             .reset_index(drop=True)\n",
    "#         )\n",
    "#     data_['ts'] = ts\n",
    "#     print('data new:', len(data_))\n",
    "#     data = pd.concat([data_,data]).reset_index(drop=True)\n",
    "\n",
    "\n",
    "# print('data:',len(data))\n",
    "# print('avito_id:',len(data['avito_id'].drop_duplicates() ) )\n",
    "# print('avito_id title:',len(data[['avito_id','title']].drop_duplicates() ) )"
   ]
  }
 ],
 "metadata": {
  "kernelspec": {
   "display_name": "Python 3 (ipykernel)",
   "language": "python",
   "name": "python3"
  },
  "language_info": {
   "codemirror_mode": {
    "name": "ipython",
    "version": 3
   },
   "file_extension": ".py",
   "mimetype": "text/x-python",
   "name": "python",
   "nbconvert_exporter": "python",
   "pygments_lexer": "ipython3",
   "version": "3.10.6"
  },
  "toc": {
   "base_numbering": 1,
   "nav_menu": {},
   "number_sections": true,
   "sideBar": true,
   "skip_h1_title": false,
   "title_cell": "Table of Contents",
   "title_sidebar": "Contents",
   "toc_cell": false,
   "toc_position": {},
   "toc_section_display": true,
   "toc_window_display": false
  }
 },
 "nbformat": 4,
 "nbformat_minor": 5
}
