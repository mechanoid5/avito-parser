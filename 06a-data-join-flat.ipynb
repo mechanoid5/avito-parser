{
 "cells": [
  {
   "cell_type": "markdown",
   "id": "7bec28d7",
   "metadata": {},
   "source": [
    "__собираем предложения по квартирам__\n",
    "\n",
    "_Evgeny S. Borisov <parser@mechanoid.su>_"
   ]
  },
  {
   "cell_type": "code",
   "execution_count": 1,
   "id": "bcea4d8b",
   "metadata": {
    "ExecuteTime": {
     "end_time": "2022-08-26T14:19:06.118492Z",
     "start_time": "2022-08-26T14:13:37.888398Z"
    }
   },
   "outputs": [],
   "source": [
    "# import re\n",
    "import sys\n",
    "import logging\n",
    "from datetime import datetime as dtm\n",
    "from tqdm.notebook import tqdm\n",
    "import pandas as pd"
   ]
  },
  {
   "cell_type": "code",
   "execution_count": 2,
   "id": "caabc8c7",
   "metadata": {
    "ExecuteTime": {
     "end_time": "2022-08-26T14:19:06.118492Z",
     "start_time": "2022-08-26T14:13:37.888398Z"
    }
   },
   "outputs": [],
   "source": [
    "pd.set_option('display.max_colwidth', None)\n",
    "pd.set_option('display.float_format', '{:.2f}'.format)\n",
    "tqdm.pandas()\n",
    "\n",
    "logging.basicConfig(\n",
    "        format=u'[%(levelname)-8s] %(asctime)s | %(message)s',\n",
    "        datefmt='%Y-%m-%d %H:%M:%S',\n",
    "        level=logging.INFO,\n",
    "        # level=logging.DEBUG,\n",
    "        stream=sys.stdout,\n",
    "    )"
   ]
  },
  {
   "cell_type": "markdown",
   "id": "db3fe2be",
   "metadata": {},
   "source": [
    "---"
   ]
  },
  {
   "cell_type": "code",
   "execution_count": 3,
   "id": "d437eab9",
   "metadata": {},
   "outputs": [],
   "source": [
    "# каталог с файлами объявлений\n",
    "avito_raw_data_path = 'data/raw/flat/avito' \n",
    "cian_raw_data_path = 'data/raw/flat/cian'\n",
    "\n",
    "result_file_path = 'data/data_flat.pkl'"
   ]
  },
  {
   "cell_type": "code",
   "execution_count": 4,
   "id": "31463a1e",
   "metadata": {},
   "outputs": [],
   "source": [
    "# ts = dtm.now().strftime('%Y-%m-%d_%H-%M')\n",
    "# ts"
   ]
  },
  {
   "cell_type": "markdown",
   "id": "98f6384f",
   "metadata": {},
   "source": [
    "## собираем данные авито.ру"
   ]
  },
  {
   "cell_type": "code",
   "execution_count": 5,
   "id": "2673ef1f",
   "metadata": {},
   "outputs": [
    {
     "data": {
      "text/plain": [
       "['data/raw/flat/avito/avito_2022-08-26_17-29_raw.xlsx',\n",
       " 'data/raw/flat/avito/avito_2022-08-29_13-16_raw.xlsx',\n",
       " 'data/raw/flat/avito/avito_2022-08-31_17-42_raw.xlsx',\n",
       " 'data/raw/flat/avito/avito_2022-09-01_14-07_raw.xlsx',\n",
       " 'data/raw/flat/avito/avito_2022-09-02_13-04_raw.xlsx',\n",
       " 'data/raw/flat/avito/avito_2022-09-05_14-02_raw.xlsx',\n",
       " 'data/raw/flat/avito/avito_2022-09-06_13-09_raw.xlsx',\n",
       " 'data/raw/flat/avito/avito_2022-09-07_12-39_raw.xlsx',\n",
       " 'data/raw/flat/avito/avito_2022-09-08_13-36_raw.xlsx',\n",
       " 'data/raw/flat/avito/avito_2022-09-12_13-44_raw.xlsx',\n",
       " 'data/raw/flat/avito/avito_2022-09-13_13-55_raw.xlsx',\n",
       " 'data/raw/flat/avito/avito_2022-09-15_10-27_raw.xlsx',\n",
       " 'data/raw/flat/avito/avito_2022-09-16_15-07_raw.xlsx',\n",
       " 'data/raw/flat/avito/avito_2022-09-19_12-36_raw.xlsx',\n",
       " 'data/raw/flat/avito/avito_2022-09-22_09-48_raw.xlsx',\n",
       " 'data/raw/flat/avito/avito_2022-09-26_11-20_raw.xlsx',\n",
       " 'data/raw/flat/avito/avito_2022-10-08_20-34_raw.xlsx',\n",
       " 'data/raw/flat/avito/avito_2022-10-14_15-48_raw.xlsx',\n",
       " 'data/raw/flat/avito/avito_2022-11-01_13-51_raw.xlsx',\n",
       " 'data/raw/flat/avito/avito_2022-11-04_17-11_raw.xlsx',\n",
       " 'data/raw/flat/avito/avito_2022-11-07_10-43_raw.xlsx',\n",
       " 'data/raw/flat/avito/avito_2022-11-15_13-12_raw.xlsx',\n",
       " 'data/raw/flat/avito/avito_2022-11-28_13-20_raw.xlsx',\n",
       " 'data/raw/flat/avito/avito_2023-01-10_11-25_raw.xlsx',\n",
       " 'data/raw/flat/avito/avito_2023-01-27_16-33_raw.xlsx',\n",
       " 'data/raw/flat/avito/avito_2023-03-09_12-11_raw.xlsx',\n",
       " 'data/raw/flat/avito/avito_2023-03-29_16-04_raw.xlsx']"
      ]
     },
     "execution_count": 5,
     "metadata": {},
     "output_type": "execute_result"
    }
   ],
   "source": [
    "import re\n",
    "from os import listdir\n",
    "\n",
    "raw_data_files = sorted([\n",
    "        avito_raw_data_path+'/'+f \n",
    "        for f in listdir(avito_raw_data_path) \n",
    "        if re.match(r'.+\\.xlsx$',f)\n",
    "    ])\n",
    "raw_data_files"
   ]
  },
  {
   "cell_type": "code",
   "execution_count": 6,
   "id": "c491526d",
   "metadata": {},
   "outputs": [],
   "source": [
    "# data_avito = pd.read_excel('data/raw/flat/avito/avito_2023-03-29_15-32_raw.xlsx')\n",
    "# display(len(data_avito))"
   ]
  },
  {
   "cell_type": "code",
   "execution_count": 7,
   "id": "9ed4df6f",
   "metadata": {},
   "outputs": [
    {
     "data": {
      "text/plain": [
       "90782"
      ]
     },
     "metadata": {},
     "output_type": "display_data"
    }
   ],
   "source": [
    "data_avito = pd.concat([\n",
    "        pd.read_excel(f)\n",
    "        # .dropna()\n",
    "        .drop_duplicates(['avito_id','description'])\n",
    "        .rename(columns={'page':'avito_page'})\n",
    "        .reset_index(drop=True)  \n",
    "        for f in raw_data_files\n",
    "    ]).reset_index(drop=True)\n",
    "\n",
    "display(len(data_avito))"
   ]
  },
  {
   "cell_type": "code",
   "execution_count": 8,
   "id": "718e57f5",
   "metadata": {},
   "outputs": [
    {
     "data": {
      "text/plain": [
       "84458"
      ]
     },
     "metadata": {},
     "output_type": "display_data"
    }
   ],
   "source": [
    "data_avito = data_avito[ ~data_avito['adr'].isnull() ] \n",
    "display(len(data_avito))"
   ]
  },
  {
   "cell_type": "code",
   "execution_count": 9,
   "id": "8380cd2c",
   "metadata": {},
   "outputs": [],
   "source": [
    "# data_avito.isnull().any()\n",
    "# data_avito[data_avito['adr'].isnull() ] "
   ]
  },
  {
   "cell_type": "code",
   "execution_count": 10,
   "id": "819a9675",
   "metadata": {},
   "outputs": [
    {
     "name": "stdout",
     "output_type": "stream",
     "text": [
      "84458\n"
     ]
    }
   ],
   "source": [
    "from lib.avito import AvitoDataCleanerRealtyFlat\n",
    "\n",
    "data_avito = AvitoDataCleanerRealtyFlat().transform( data_avito )\n",
    "\n",
    "print(len(data_avito))"
   ]
  },
  {
   "cell_type": "code",
   "execution_count": 11,
   "id": "275a958e",
   "metadata": {},
   "outputs": [
    {
     "data": {
      "text/plain": [
       "dt\n",
       "2022-08-26    3487\n",
       "2022-08-29    3458\n",
       "2022-08-31    3420\n",
       "2022-09-01    3431\n",
       "2022-09-02    3519\n",
       "2022-09-05    3476\n",
       "2022-09-06    3428\n",
       "2022-09-07    3115\n",
       "2022-09-08    3270\n",
       "2022-09-12    3106\n",
       "2022-09-13    3413\n",
       "2022-09-15    3532\n",
       "2022-09-16    3391\n",
       "2022-09-19    3555\n",
       "2022-09-22    3631\n",
       "2022-09-26    3576\n",
       "2022-10-08    3599\n",
       "2022-10-14    3474\n",
       "2022-11-01    3144\n",
       "2022-11-04    3144\n",
       "2022-11-07    3257\n",
       "2022-11-15    3218\n",
       "2022-11-28    3596\n",
       "2023-01-10    3038\n",
       "2023-03-29    3180\n",
       "Name: avito_id, dtype: int64"
      ]
     },
     "execution_count": 11,
     "metadata": {},
     "output_type": "execute_result"
    }
   ],
   "source": [
    "data_avito['dt'] = data_avito['ts'].dt.date\n",
    "data_avito.groupby(['dt'])['avito_id'].count()"
   ]
  },
  {
   "cell_type": "code",
   "execution_count": 12,
   "id": "ce2869e1",
   "metadata": {},
   "outputs": [],
   "source": [
    "assert len(data_avito)>0"
   ]
  },
  {
   "cell_type": "code",
   "execution_count": 13,
   "id": "12170700",
   "metadata": {},
   "outputs": [],
   "source": [
    "# data_avito.info()"
   ]
  },
  {
   "cell_type": "code",
   "execution_count": 14,
   "id": "a79ce37b",
   "metadata": {},
   "outputs": [],
   "source": [
    "# data_avito.isnull().any()"
   ]
  },
  {
   "cell_type": "code",
   "execution_count": 15,
   "id": "a98c3001",
   "metadata": {},
   "outputs": [],
   "source": [
    "# data_avito.query('nrooms==0')\n",
    "# data_avito[ data_avito['title'].str.len()<1]"
   ]
  },
  {
   "cell_type": "markdown",
   "id": "894d9ae6",
   "metadata": {},
   "source": [
    "## собираем данные циан.ру"
   ]
  },
  {
   "cell_type": "code",
   "execution_count": 16,
   "id": "05ea79a3",
   "metadata": {},
   "outputs": [
    {
     "data": {
      "text/plain": [
       "['data/raw/flat/cian/cian_2023-01-10_11-25_raw.pkl',\n",
       " 'data/raw/flat/cian/cian_2023-01-27_16-37_raw.pkl',\n",
       " 'data/raw/flat/cian/cian_2023-03-09_12-06_raw.pkl',\n",
       " 'data/raw/flat/cian/cian_2023-03-29_15-28_raw.pkl']"
      ]
     },
     "execution_count": 16,
     "metadata": {},
     "output_type": "execute_result"
    }
   ],
   "source": [
    "import re\n",
    "from os import listdir\n",
    "\n",
    "raw_data_files = sorted([\n",
    "        cian_raw_data_path+'/'+f \n",
    "        for f in listdir(cian_raw_data_path) \n",
    "        if re.match(r'.+\\.pkl$',f)\n",
    "        #if re.match(r'.+\\.xlsx$',f)\n",
    "    \n",
    "    ])\n",
    "raw_data_files"
   ]
  },
  {
   "cell_type": "code",
   "execution_count": 17,
   "id": "bb5a87f6",
   "metadata": {},
   "outputs": [],
   "source": [
    "data_cian = pd.concat([\n",
    "        pd.read_pickle(f)\n",
    "         .dropna()\n",
    "         .drop_duplicates(['LinkArea','Description',])\n",
    "         .rename(columns={'page':'cian_page'})\n",
    "         .reset_index(drop=True)  \n",
    "        for f in raw_data_files\n",
    "    ]).reset_index(drop=True)"
   ]
  },
  {
   "cell_type": "code",
   "execution_count": 18,
   "id": "fe083793",
   "metadata": {},
   "outputs": [
    {
     "name": "stdout",
     "output_type": "stream",
     "text": [
      "<class 'pandas.core.frame.DataFrame'>\n",
      "RangeIndex: 1988 entries, 0 to 1987\n",
      "Data columns (total 12 columns):\n",
      " #   Column         Non-Null Count  Dtype         \n",
      "---  ------         --------------  -----         \n",
      " 0   OfferTitle     1988 non-null   object        \n",
      " 1   OfferSubtitle  1988 non-null   object        \n",
      " 2   Deadline       1988 non-null   object        \n",
      " 3   MainPrice      1988 non-null   object        \n",
      " 4   PriceInfo      1988 non-null   object        \n",
      " 5   GeoLabel       1988 non-null   object        \n",
      " 6   TimeLabel      1988 non-null   object        \n",
      " 7   LinkArea       1988 non-null   object        \n",
      " 8   Description    1988 non-null   object        \n",
      " 9   cian_page      1988 non-null   int64         \n",
      " 10  ts             1988 non-null   datetime64[ns]\n",
      " 11  place          1988 non-null   object        \n",
      "dtypes: datetime64[ns](1), int64(1), object(10)\n",
      "memory usage: 186.5+ KB\n"
     ]
    }
   ],
   "source": [
    "data_cian.info()"
   ]
  },
  {
   "cell_type": "code",
   "execution_count": 19,
   "id": "c7ecc2ce",
   "metadata": {},
   "outputs": [
    {
     "data": {
      "text/plain": [
       "OfferTitle       False\n",
       "OfferSubtitle    False\n",
       "Deadline         False\n",
       "MainPrice        False\n",
       "PriceInfo        False\n",
       "GeoLabel         False\n",
       "TimeLabel        False\n",
       "LinkArea         False\n",
       "Description      False\n",
       "cian_page        False\n",
       "ts               False\n",
       "place            False\n",
       "dtype: bool"
      ]
     },
     "execution_count": 19,
     "metadata": {},
     "output_type": "execute_result"
    }
   ],
   "source": [
    "data_cian.isnull().any()"
   ]
  },
  {
   "cell_type": "code",
   "execution_count": 20,
   "id": "5fb87c58",
   "metadata": {},
   "outputs": [],
   "source": [
    "swap_title = data_cian['OfferSubtitle'].str.match(r'.*\\d+ м², \\d+/\\d+ эт.*') \n",
    "\n",
    "data_cian = pd.concat([\n",
    "        data_cian[ ~swap_title ],\n",
    "        data_cian[ swap_title ]\n",
    "            .rename(columns={'OfferTitle':'OfferSubtitle','OfferSubtitle':'OfferTitle'})\n",
    "    ]).reset_index(drop=True)\n"
   ]
  },
  {
   "cell_type": "code",
   "execution_count": 21,
   "id": "33bda6e8",
   "metadata": {},
   "outputs": [],
   "source": [
    "# data_cian"
   ]
  },
  {
   "cell_type": "code",
   "execution_count": 22,
   "id": "7a11ac2f",
   "metadata": {},
   "outputs": [
    {
     "name": "stdout",
     "output_type": "stream",
     "text": [
      "1988\n"
     ]
    }
   ],
   "source": [
    "from lib.cian import CianDataCleaner\n",
    "\n",
    "data_cian = CianDataCleaner().transform( data_cian )\n",
    "\n",
    "print(len(data_cian))"
   ]
  },
  {
   "cell_type": "code",
   "execution_count": 23,
   "id": "b1df2dba",
   "metadata": {},
   "outputs": [],
   "source": [
    "assert len(data_cian)>0"
   ]
  },
  {
   "cell_type": "code",
   "execution_count": 24,
   "id": "979243e4",
   "metadata": {},
   "outputs": [
    {
     "name": "stdout",
     "output_type": "stream",
     "text": [
      "<class 'pandas.core.frame.DataFrame'>\n",
      "RangeIndex: 1988 entries, 0 to 1987\n",
      "Data columns (total 22 columns):\n",
      " #   Column         Non-Null Count  Dtype         \n",
      "---  ------         --------------  -----         \n",
      " 0   title          1988 non-null   object        \n",
      " 1   obj_name       1988 non-null   object        \n",
      " 2   adr            1988 non-null   object        \n",
      " 3   nrooms         1988 non-null   int64         \n",
      " 4   floor          1988 non-null   int64         \n",
      " 5   nfloors        1988 non-null   int64         \n",
      " 6   area           1988 non-null   float64       \n",
      " 7   is_studio      1988 non-null   bool          \n",
      " 8   is_apartment   1988 non-null   bool          \n",
      " 9   is_part        1988 non-null   bool          \n",
      " 10  is_auction     1988 non-null   bool          \n",
      " 11  is_openspace   1988 non-null   bool          \n",
      " 12  is_roof        1988 non-null   bool          \n",
      " 13  is_SNT         1988 non-null   bool          \n",
      " 14  price          1988 non-null   int64         \n",
      " 15  priceM         1988 non-null   float64       \n",
      " 16  is_last_floor  1988 non-null   bool          \n",
      " 17  cian_url       1988 non-null   object        \n",
      " 18  description    1988 non-null   object        \n",
      " 19  cian_page      1988 non-null   int64         \n",
      " 20  ts             1988 non-null   datetime64[ns]\n",
      " 21  place          1988 non-null   object        \n",
      "dtypes: bool(8), datetime64[ns](1), float64(2), int64(5), object(6)\n",
      "memory usage: 233.1+ KB\n"
     ]
    }
   ],
   "source": [
    "data_cian.info()"
   ]
  },
  {
   "cell_type": "code",
   "execution_count": 25,
   "id": "8ba603a9",
   "metadata": {},
   "outputs": [
    {
     "data": {
      "text/plain": [
       "title            False\n",
       "obj_name         False\n",
       "adr              False\n",
       "nrooms           False\n",
       "floor            False\n",
       "nfloors          False\n",
       "area             False\n",
       "is_studio        False\n",
       "is_apartment     False\n",
       "is_part          False\n",
       "is_auction       False\n",
       "is_openspace     False\n",
       "is_roof          False\n",
       "is_SNT           False\n",
       "price            False\n",
       "priceM           False\n",
       "is_last_floor    False\n",
       "cian_url         False\n",
       "description      False\n",
       "cian_page        False\n",
       "ts               False\n",
       "place            False\n",
       "dtype: bool"
      ]
     },
     "execution_count": 25,
     "metadata": {},
     "output_type": "execute_result"
    }
   ],
   "source": [
    "data_cian.isnull().any()"
   ]
  },
  {
   "cell_type": "code",
   "execution_count": 26,
   "id": "5eb571e0",
   "metadata": {},
   "outputs": [],
   "source": [
    "# data_cian\n",
    "# data_cian.query('nrooms==0')\n",
    "# data_cian[ data_cian['title'].str.len()<1 ]\n",
    "# data_cian[ data_cian['obj_name'].str.len()>0 ][['title','obj_name',]] # .to_csv('tmp/cian_title.csv',sep='\\t')|"
   ]
  },
  {
   "cell_type": "markdown",
   "id": "31f9a289",
   "metadata": {},
   "source": [
    "----"
   ]
  },
  {
   "cell_type": "code",
   "execution_count": 27,
   "id": "6cca7caf",
   "metadata": {},
   "outputs": [],
   "source": [
    "data_avito['url'] = 'https://avito.ru/' + data_avito['avito_id'].astype(int).astype(str)\n",
    "data_avito = data_avito.drop(columns=['avito_id'])\n",
    "data_cian = data_cian.rename(columns={'cian_url':'url'})"
   ]
  },
  {
   "cell_type": "code",
   "execution_count": 28,
   "id": "c6e47d9a",
   "metadata": {},
   "outputs": [
    {
     "name": "stdout",
     "output_type": "stream",
     "text": [
      "86446\n"
     ]
    }
   ],
   "source": [
    "data = pd.concat([data_avito,data_cian]).reset_index(drop=True) \n",
    "print(len(data))\n",
    "assert len(data)>0"
   ]
  },
  {
   "cell_type": "code",
   "execution_count": 29,
   "id": "24f3c19b",
   "metadata": {},
   "outputs": [
    {
     "data": {
      "text/html": [
       "<div>\n",
       "<style scoped>\n",
       "    .dataframe tbody tr th:only-of-type {\n",
       "        vertical-align: middle;\n",
       "    }\n",
       "\n",
       "    .dataframe tbody tr th {\n",
       "        vertical-align: top;\n",
       "    }\n",
       "\n",
       "    .dataframe thead th {\n",
       "        text-align: right;\n",
       "    }\n",
       "</style>\n",
       "<table border=\"1\" class=\"dataframe\">\n",
       "  <thead>\n",
       "    <tr style=\"text-align: right;\">\n",
       "      <th></th>\n",
       "      <th>title</th>\n",
       "      <th>price</th>\n",
       "      <th>adr</th>\n",
       "      <th>description</th>\n",
       "      <th>obj_name</th>\n",
       "      <th>ts</th>\n",
       "      <th>avito_page</th>\n",
       "      <th>place</th>\n",
       "      <th>nrooms</th>\n",
       "      <th>floor</th>\n",
       "      <th>...</th>\n",
       "      <th>is_part</th>\n",
       "      <th>is_auction</th>\n",
       "      <th>is_openspace</th>\n",
       "      <th>is_roof</th>\n",
       "      <th>is_SNT</th>\n",
       "      <th>priceM</th>\n",
       "      <th>is_last_floor</th>\n",
       "      <th>dt</th>\n",
       "      <th>url</th>\n",
       "      <th>cian_page</th>\n",
       "    </tr>\n",
       "  </thead>\n",
       "  <tbody>\n",
       "    <tr>\n",
       "      <th>31616</th>\n",
       "      <td>2-к. апартаменты, 41,7 м², 1/4 эт.</td>\n",
       "      <td>6700000</td>\n",
       "      <td>Гагаринский муниципальный округ, микрорайон Казачья Бухта</td>\n",
       "      <td>Продам апартаменты с видом на море. Общая площадь 41.7 м. Кв., сделан качественный ремонт. Расположен на 1 эт.- 4 эт. Дома. Апартаменты сделаны в двух уровнях. На первом уровне: комната отдыха, коридор, санузел. На втором этаже: кухня, санузел, постирочная</td>\n",
       "      <td>NaN</td>\n",
       "      <td>2022-09-12 13:44:49.319</td>\n",
       "      <td>25.00</td>\n",
       "      <td>sevastopol</td>\n",
       "      <td>2</td>\n",
       "      <td>1</td>\n",
       "      <td>...</td>\n",
       "      <td>False</td>\n",
       "      <td>False</td>\n",
       "      <td>False</td>\n",
       "      <td>False</td>\n",
       "      <td>False</td>\n",
       "      <td>6.70</td>\n",
       "      <td>False</td>\n",
       "      <td>2022-09-12</td>\n",
       "      <td>https://avito.ru/2400645717</td>\n",
       "      <td>NaN</td>\n",
       "    </tr>\n",
       "  </tbody>\n",
       "</table>\n",
       "<p>1 rows × 24 columns</p>\n",
       "</div>"
      ],
      "text/plain": [
       "                                    title    price  \\\n",
       "31616  2-к. апартаменты, 41,7 м², 1/4 эт.  6700000   \n",
       "\n",
       "                                                             adr  \\\n",
       "31616  Гагаринский муниципальный округ, микрорайон Казачья Бухта   \n",
       "\n",
       "                                                                                                                                                                                                                                                            description  \\\n",
       "31616  Продам апартаменты с видом на море. Общая площадь 41.7 м. Кв., сделан качественный ремонт. Расположен на 1 эт.- 4 эт. Дома. Апартаменты сделаны в двух уровнях. На первом уровне: комната отдыха, коридор, санузел. На втором этаже: кухня, санузел, постирочная   \n",
       "\n",
       "      obj_name                      ts  avito_page       place  nrooms  floor  \\\n",
       "31616      NaN 2022-09-12 13:44:49.319       25.00  sevastopol       2      1   \n",
       "\n",
       "       ...  is_part  is_auction  is_openspace  is_roof  is_SNT  priceM  \\\n",
       "31616  ...    False       False         False    False   False    6.70   \n",
       "\n",
       "       is_last_floor          dt                          url  cian_page  \n",
       "31616          False  2022-09-12  https://avito.ru/2400645717        NaN  \n",
       "\n",
       "[1 rows x 24 columns]"
      ]
     },
     "execution_count": 29,
     "metadata": {},
     "output_type": "execute_result"
    }
   ],
   "source": [
    "data.sample()"
   ]
  },
  {
   "cell_type": "markdown",
   "id": "2903ab86",
   "metadata": {},
   "source": [
    "## обновляем таблицу адресов"
   ]
  },
  {
   "cell_type": "code",
   "execution_count": 30,
   "id": "328c2475",
   "metadata": {},
   "outputs": [],
   "source": [
    "# data_ = data.sample(15).reset_index(drop=True)\n",
    "# data_[['adr']]"
   ]
  },
  {
   "cell_type": "code",
   "execution_count": 31,
   "id": "119c3d8a",
   "metadata": {},
   "outputs": [],
   "source": [
    "places = { \n",
    "# поле 'place' и название города\n",
    "'bahchisaray': 'Бахчисарай,',\n",
    "      'sudak': 'Судак,',\n",
    "  'sevastopol': 'Севастополь,',\n",
    "}\n",
    "\n",
    "def norm_place(d,places=places):\n",
    "    if not d['place'] in places: return d['adr_']\n",
    "    p = places[ d['place'] ]\n",
    "    return d['adr_'] if d['adr_'].find(p)>-1 else p+d['adr_']"
   ]
  },
  {
   "cell_type": "code",
   "execution_count": 32,
   "id": "34e94334",
   "metadata": {},
   "outputs": [
    {
     "data": {
      "application/vnd.jupyter.widget-view+json": {
       "model_id": "2093f2569e074ff69e536ed801e8fb29",
       "version_major": 2,
       "version_minor": 0
      },
      "text/plain": [
       "  0%|          | 0/86446 [00:00<?, ?it/s]"
      ]
     },
     "metadata": {},
     "output_type": "display_data"
    },
    {
     "data": {
      "application/vnd.jupyter.widget-view+json": {
       "model_id": "f17e567d0c974b629ac1bd8b53cd0f43",
       "version_major": 2,
       "version_minor": 0
      },
      "text/plain": [
       "  0%|          | 0/86446 [00:00<?, ?it/s]"
      ]
     },
     "metadata": {},
     "output_type": "display_data"
    }
   ],
   "source": [
    "from lib.locator import AddressTransformer\n",
    "\n",
    "atr = AddressTransformer()\n",
    "data['adr_'] = data['adr'].progress_apply(atr.transform)\n",
    "data['adr_'] = data[['adr_','place']].progress_apply(norm_place,axis=1)\n",
    "data = data.rename(columns={'adr':'adr_orig','adr_':'adr'})"
   ]
  },
  {
   "cell_type": "code",
   "execution_count": 33,
   "id": "6091bb5b",
   "metadata": {},
   "outputs": [
    {
     "data": {
      "text/html": [
       "<div>\n",
       "<style scoped>\n",
       "    .dataframe tbody tr th:only-of-type {\n",
       "        vertical-align: middle;\n",
       "    }\n",
       "\n",
       "    .dataframe tbody tr th {\n",
       "        vertical-align: top;\n",
       "    }\n",
       "\n",
       "    .dataframe thead th {\n",
       "        text-align: right;\n",
       "    }\n",
       "</style>\n",
       "<table border=\"1\" class=\"dataframe\">\n",
       "  <thead>\n",
       "    <tr style=\"text-align: right;\">\n",
       "      <th></th>\n",
       "      <th>adr_orig</th>\n",
       "      <th>adr</th>\n",
       "    </tr>\n",
       "  </thead>\n",
       "  <tbody>\n",
       "    <tr>\n",
       "      <th>47999</th>\n",
       "      <td>улица Горпищенко, 143 к1</td>\n",
       "      <td>Севастополь, улица Горпищенко, 143 к1</td>\n",
       "    </tr>\n",
       "    <tr>\n",
       "      <th>13164</th>\n",
       "      <td>Новороссийская улица , 74</td>\n",
       "      <td>Севастополь,Новороссийская улица , 74</td>\n",
       "    </tr>\n",
       "    <tr>\n",
       "      <th>29876</th>\n",
       "      <td>улица Тараса Шевченко, 18</td>\n",
       "      <td>Севастополь, улица Тараса Шевченко, 18</td>\n",
       "    </tr>\n",
       "    <tr>\n",
       "      <th>38299</th>\n",
       "      <td>улица Военных Строителей, 14</td>\n",
       "      <td>Севастополь, улица Военных Строителей, 14</td>\n",
       "    </tr>\n",
       "    <tr>\n",
       "      <th>18453</th>\n",
       "      <td>улица Адмирала Фадеева, 18</td>\n",
       "      <td>Севастополь, улица Адмирала Фадеева, 18</td>\n",
       "    </tr>\n",
       "    <tr>\n",
       "      <th>13199</th>\n",
       "      <td>улица Тараса Шевченко, 56</td>\n",
       "      <td>Севастополь, улица Тараса Шевченко, 56</td>\n",
       "    </tr>\n",
       "    <tr>\n",
       "      <th>34409</th>\n",
       "      <td>улица Токарева, 7 этап, блок-секция 3</td>\n",
       "      <td>Севастополь, улица Токарева, 7 этап, блок-секция 3</td>\n",
       "    </tr>\n",
       "    <tr>\n",
       "      <th>36060</th>\n",
       "      <td>Кача, улица Авиаторов, 1Гк6</td>\n",
       "      <td>Севастополь, Кача, улица Авиаторов, 1Гк6</td>\n",
       "    </tr>\n",
       "    <tr>\n",
       "      <th>51107</th>\n",
       "      <td>улица Гоголя, 34А</td>\n",
       "      <td>Севастополь, улица Гоголя, 34А</td>\n",
       "    </tr>\n",
       "    <tr>\n",
       "      <th>29165</th>\n",
       "      <td>улица Гоголя, 63</td>\n",
       "      <td>Севастополь, улица Гоголя, 63</td>\n",
       "    </tr>\n",
       "  </tbody>\n",
       "</table>\n",
       "</div>"
      ],
      "text/plain": [
       "                                     adr_orig  \\\n",
       "47999                улица Горпищенко, 143 к1   \n",
       "13164               Новороссийская улица , 74   \n",
       "29876               улица Тараса Шевченко, 18   \n",
       "38299            улица Военных Строителей, 14   \n",
       "18453              улица Адмирала Фадеева, 18   \n",
       "13199               улица Тараса Шевченко, 56   \n",
       "34409   улица Токарева, 7 этап, блок-секция 3   \n",
       "36060             Кача, улица Авиаторов, 1Гк6   \n",
       "51107                       улица Гоголя, 34А   \n",
       "29165                        улица Гоголя, 63   \n",
       "\n",
       "                                                      adr  \n",
       "47999               Севастополь, улица Горпищенко, 143 к1  \n",
       "13164               Севастополь,Новороссийская улица , 74  \n",
       "29876              Севастополь, улица Тараса Шевченко, 18  \n",
       "38299           Севастополь, улица Военных Строителей, 14  \n",
       "18453             Севастополь, улица Адмирала Фадеева, 18  \n",
       "13199              Севастополь, улица Тараса Шевченко, 56  \n",
       "34409  Севастополь, улица Токарева, 7 этап, блок-секция 3  \n",
       "36060            Севастополь, Кача, улица Авиаторов, 1Гк6  \n",
       "51107                      Севастополь, улица Гоголя, 34А  \n",
       "29165                       Севастополь, улица Гоголя, 63  "
      ]
     },
     "execution_count": 33,
     "metadata": {},
     "output_type": "execute_result"
    }
   ],
   "source": [
    "data[['adr_orig','adr']].sample(10)"
   ]
  },
  {
   "cell_type": "code",
   "execution_count": 34,
   "id": "9f8dcec3",
   "metadata": {},
   "outputs": [
    {
     "name": "stdout",
     "output_type": "stream",
     "text": [
      "[INFO    ] 2023-03-29 16:19:08 | LocationUpdater: 9400 addresses in index\n",
      "[INFO    ] 2023-03-29 16:19:08 | LocationUpdater: 9783 addresses total\n",
      "[INFO    ] 2023-03-29 16:19:08 | LocationUpdater: 9400 addresses defined\n",
      "[INFO    ] 2023-03-29 16:19:08 | LocationUpdater: 383 addresses undefined\n"
     ]
    },
    {
     "data": {
      "application/vnd.jupyter.widget-view+json": {
       "model_id": "b9268b70871f40049660fe93d56e1b99",
       "version_major": 2,
       "version_minor": 0
      },
      "text/plain": [
       "  0%|          | 0/383 [00:00<?, ?it/s]"
      ]
     },
     "metadata": {},
     "output_type": "display_data"
    },
    {
     "name": "stdout",
     "output_type": "stream",
     "text": [
      "[INFO    ] 2023-03-29 16:23:04 | LocationUpdater: 383 new addresses found\n"
     ]
    }
   ],
   "source": [
    "# from lib.locator import GeocoderSimpleOSM\n",
    "from lib.locator import GeocoderYandex\n",
    "from yandex_keys import keys\n",
    "\n",
    "atr = AddressTransformer()\n",
    "locator = GeocoderYandex(keys[0])\n",
    "# locator = GeocoderSimpleOSM()\n",
    "\n",
    "loc_file_path = 'data/location.pkl' # таблица адресов\n",
    "loc = pd.read_pickle(loc_file_path)\n",
    "# loc = pd.DataFrame([],columns=['adr','latitude','longitude',])\n",
    "logging.info(f'LocationUpdater: {len(loc)} addresses in index')\n",
    "\n",
    "# собираем все адреса в один список\n",
    "loc = loc.merge(\n",
    "        data[['adr']].drop_duplicates(),\n",
    "        how='outer',\n",
    "        on='adr',\n",
    "    ).drop_duplicates().reset_index(drop=True)\n",
    "\n",
    "logging.info(f'LocationUpdater: {len(loc)} addresses total')\n",
    "\n",
    "# собираем все адреса с геопозицией\n",
    "loc_def = loc[~loc['latitude'].isna()].reset_index(drop=True)\n",
    "logging.info(f'LocationUpdater: {len(loc_def)} addresses defined')\n",
    "\n",
    "# собираем все адреса без геопозиции\n",
    "loc_undef = loc[loc['latitude'].isna()][['adr']].reset_index(drop=True)\n",
    "logging.info(f'LocationUpdater: {len(loc_undef)} addresses undefined')\n",
    "\n",
    "if len(loc_undef)>0:\n",
    "    # определяем координаты по строке адреса\n",
    "    loc_undef = loc_undef.join( loc_undef['adr'].progress_apply(locator.transform).apply(pd.Series) ).dropna()     \n",
    "    logging.info(f'LocationUpdater: {len(loc_undef)} new addresses found')\n",
    "    loc = pd.concat([loc_def,loc_undef]).reset_index(drop=True) \n",
    "    assert len(loc)>0\n",
    "    loc.to_pickle(loc_file_path)"
   ]
  },
  {
   "cell_type": "code",
   "execution_count": 35,
   "id": "19741bb7",
   "metadata": {},
   "outputs": [
    {
     "name": "stdout",
     "output_type": "stream",
     "text": [
      "9783\n"
     ]
    },
    {
     "data": {
      "text/html": [
       "<div>\n",
       "<style scoped>\n",
       "    .dataframe tbody tr th:only-of-type {\n",
       "        vertical-align: middle;\n",
       "    }\n",
       "\n",
       "    .dataframe tbody tr th {\n",
       "        vertical-align: top;\n",
       "    }\n",
       "\n",
       "    .dataframe thead th {\n",
       "        text-align: right;\n",
       "    }\n",
       "</style>\n",
       "<table border=\"1\" class=\"dataframe\">\n",
       "  <thead>\n",
       "    <tr style=\"text-align: right;\">\n",
       "      <th></th>\n",
       "      <th>latitude</th>\n",
       "      <th>longitude</th>\n",
       "      <th>adr</th>\n",
       "    </tr>\n",
       "  </thead>\n",
       "  <tbody>\n",
       "    <tr>\n",
       "      <th>7948</th>\n",
       "      <td>44.739677</td>\n",
       "      <td>33.556253</td>\n",
       "      <td>Севастополь, Нахимовский район, Качинский район , СОТ Южный, 232</td>\n",
       "    </tr>\n",
       "    <tr>\n",
       "      <th>3541</th>\n",
       "      <td>44.564365</td>\n",
       "      <td>33.456271</td>\n",
       "      <td>Севастополь,ул. Бертье-Делагарда, 1</td>\n",
       "    </tr>\n",
       "    <tr>\n",
       "      <th>1992</th>\n",
       "      <td>44.588064</td>\n",
       "      <td>33.453701</td>\n",
       "      <td>Севастополь, улица Астана Кесаева, 10</td>\n",
       "    </tr>\n",
       "  </tbody>\n",
       "</table>\n",
       "</div>"
      ],
      "text/plain": [
       "       latitude  longitude  \\\n",
       "7948  44.739677  33.556253   \n",
       "3541  44.564365  33.456271   \n",
       "1992  44.588064  33.453701   \n",
       "\n",
       "                                                                   adr  \n",
       "7948  Севастополь, Нахимовский район, Качинский район , СОТ Южный, 232  \n",
       "3541                               Севастополь,ул. Бертье-Делагарда, 1  \n",
       "1992                             Севастополь, улица Астана Кесаева, 10  "
      ]
     },
     "execution_count": 35,
     "metadata": {},
     "output_type": "execute_result"
    }
   ],
   "source": [
    "print( len(loc) )\n",
    "loc.sample(3)"
   ]
  },
  {
   "cell_type": "markdown",
   "id": "30dbd6a6",
   "metadata": {},
   "source": [
    "## дополняем данные геометкой"
   ]
  },
  {
   "cell_type": "code",
   "execution_count": 36,
   "id": "77fd1b59",
   "metadata": {},
   "outputs": [],
   "source": [
    "# data = data.rename(columns={'adr':'adr_orig','adr_':'adr'})"
   ]
  },
  {
   "cell_type": "code",
   "execution_count": 37,
   "id": "06470644",
   "metadata": {},
   "outputs": [
    {
     "name": "stdout",
     "output_type": "stream",
     "text": [
      "всего записей: 86446\n",
      "записей без геометки: 0\n"
     ]
    }
   ],
   "source": [
    "data = data.merge(loc,on=['adr'],how='left')\n",
    "\n",
    "print('всего записей:', len( data) )\n",
    "print('записей без геометки:', len( data[ data['latitude'].isna() ] ) )"
   ]
  },
  {
   "cell_type": "code",
   "execution_count": 38,
   "id": "b3161e64",
   "metadata": {},
   "outputs": [],
   "source": [
    "assert len(data)>0\n",
    "data.to_pickle(result_file_path)"
   ]
  },
  {
   "cell_type": "code",
   "execution_count": 39,
   "id": "799e47c2",
   "metadata": {},
   "outputs": [
    {
     "name": "stdout",
     "output_type": "stream",
     "text": [
      "<class 'pandas.core.frame.DataFrame'>\n",
      "Int64Index: 86446 entries, 0 to 86445\n",
      "Data columns (total 27 columns):\n",
      " #   Column         Non-Null Count  Dtype         \n",
      "---  ------         --------------  -----         \n",
      " 0   title          86446 non-null  object        \n",
      " 1   price          86446 non-null  int64         \n",
      " 2   adr_orig       86446 non-null  object        \n",
      " 3   description    86360 non-null  object        \n",
      " 4   obj_name       27153 non-null  object        \n",
      " 5   ts             86446 non-null  datetime64[ns]\n",
      " 6   avito_page     84458 non-null  float64       \n",
      " 7   place          86446 non-null  object        \n",
      " 8   nrooms         86446 non-null  int64         \n",
      " 9   floor          86446 non-null  int64         \n",
      " 10  nfloors        86446 non-null  int64         \n",
      " 11  area           86446 non-null  float64       \n",
      " 12  is_studio      86446 non-null  bool          \n",
      " 13  is_apartment   86446 non-null  bool          \n",
      " 14  is_part        86446 non-null  bool          \n",
      " 15  is_auction     86446 non-null  bool          \n",
      " 16  is_openspace   86446 non-null  bool          \n",
      " 17  is_roof        86360 non-null  object        \n",
      " 18  is_SNT         86446 non-null  bool          \n",
      " 19  priceM         86446 non-null  float64       \n",
      " 20  is_last_floor  86446 non-null  bool          \n",
      " 21  dt             84458 non-null  object        \n",
      " 22  url            86446 non-null  object        \n",
      " 23  cian_page      1988 non-null   float64       \n",
      " 24  adr            86446 non-null  object        \n",
      " 25  latitude       86446 non-null  object        \n",
      " 26  longitude      86446 non-null  object        \n",
      "dtypes: bool(7), datetime64[ns](1), float64(4), int64(4), object(11)\n",
      "memory usage: 14.4+ MB\n"
     ]
    }
   ],
   "source": [
    "data.info()"
   ]
  },
  {
   "cell_type": "code",
   "execution_count": 40,
   "id": "d8eae2b4",
   "metadata": {},
   "outputs": [
    {
     "data": {
      "text/plain": [
       "ts   2023-03-29 16:04:54.059\n",
       "dtype: datetime64[ns]"
      ]
     },
     "execution_count": 40,
     "metadata": {},
     "output_type": "execute_result"
    }
   ],
   "source": [
    "data[['ts']].max()"
   ]
  },
  {
   "cell_type": "code",
   "execution_count": 41,
   "id": "240582b2",
   "metadata": {},
   "outputs": [
    {
     "data": {
      "text/plain": [
       "ts\n",
       "2022-08-26 17:29:00.000000    3487\n",
       "2022-08-29 13:16:00.000000    3458\n",
       "2022-08-31 17:42:00.000000    3420\n",
       "2022-09-01 14:07:00.000000    3431\n",
       "2022-09-02 13:04:00.000000    3519\n",
       "2022-09-05 14:02:00.000000    3476\n",
       "2022-09-06 13:09:00.000000    3428\n",
       "2022-09-07 12:46:11.483000    3115\n",
       "2022-09-08 13:36:05.789000    3270\n",
       "2022-09-12 13:44:49.319000    3106\n",
       "2022-09-13 13:55:03.079000    3413\n",
       "2022-09-15 10:27:26.895000    3532\n",
       "2022-09-16 15:07:31.632000    3391\n",
       "2022-09-19 12:36:43.740000    3555\n",
       "2022-09-22 09:48:34.368000    3631\n",
       "2022-09-26 11:20:17.002000    3576\n",
       "2022-10-08 20:34:54.992000    3599\n",
       "2022-10-14 15:48:44.706000    3474\n",
       "2022-11-01 13:51:36.763000    3144\n",
       "2022-11-04 17:11:28.841000    3144\n",
       "2022-11-07 10:43:26.010000    3257\n",
       "2022-11-15 13:12:30.596000    3218\n",
       "2022-11-28 13:20:28.620000    3596\n",
       "2023-01-10 11:25:11.144238     465\n",
       "2023-01-10 11:25:50.588000    3038\n",
       "2023-01-27 16:37:11.689592    1467\n",
       "2023-03-09 12:06:11.404170      28\n",
       "2023-03-29 15:28:49.835295      28\n",
       "2023-03-29 16:04:54.059000    3180\n",
       "dtype: int64"
      ]
     },
     "execution_count": 41,
     "metadata": {},
     "output_type": "execute_result"
    }
   ],
   "source": [
    "data[['ts']].groupby('ts').size()"
   ]
  },
  {
   "cell_type": "code",
   "execution_count": null,
   "id": "7af0eccc",
   "metadata": {},
   "outputs": [],
   "source": []
  }
 ],
 "metadata": {
  "kernelspec": {
   "display_name": "Python 3 (ipykernel)",
   "language": "python",
   "name": "python3"
  },
  "language_info": {
   "codemirror_mode": {
    "name": "ipython",
    "version": 3
   },
   "file_extension": ".py",
   "mimetype": "text/x-python",
   "name": "python",
   "nbconvert_exporter": "python",
   "pygments_lexer": "ipython3",
   "version": "3.10.9"
  },
  "toc": {
   "base_numbering": 1,
   "nav_menu": {},
   "number_sections": true,
   "sideBar": true,
   "skip_h1_title": false,
   "title_cell": "Table of Contents",
   "title_sidebar": "Contents",
   "toc_cell": false,
   "toc_position": {
    "height": "calc(100% - 180px)",
    "left": "10px",
    "top": "150px",
    "width": "360.594px"
   },
   "toc_section_display": true,
   "toc_window_display": false
  },
  "varInspector": {
   "cols": {
    "lenName": 16,
    "lenType": 16,
    "lenVar": 40
   },
   "kernels_config": {
    "python": {
     "delete_cmd_postfix": "",
     "delete_cmd_prefix": "del ",
     "library": "var_list.py",
     "varRefreshCmd": "print(var_dic_list())"
    },
    "r": {
     "delete_cmd_postfix": ") ",
     "delete_cmd_prefix": "rm(",
     "library": "var_list.r",
     "varRefreshCmd": "cat(var_dic_list()) "
    }
   },
   "types_to_exclude": [
    "module",
    "function",
    "builtin_function_or_method",
    "instance",
    "_Feature"
   ],
   "window_display": false
  }
 },
 "nbformat": 4,
 "nbformat_minor": 5
}
