{
 "cells": [
  {
   "cell_type": "markdown",
   "id": "7bec28d7",
   "metadata": {},
   "source": [
    "__собираем данные__\n",
    "\n",
    "_Evgeny S. Borisov <parser@mechanoid.su>_"
   ]
  },
  {
   "cell_type": "code",
   "execution_count": 1,
   "id": "52c5999f",
   "metadata": {},
   "outputs": [],
   "source": [
    "# !pacman -S firefox firefox-i18n-r  geckodriver\n",
    "# !pip install seleniuam"
   ]
  },
  {
   "cell_type": "code",
   "execution_count": 2,
   "id": "bcea4d8b",
   "metadata": {
    "ExecuteTime": {
     "end_time": "2022-08-26T14:19:06.118492Z",
     "start_time": "2022-08-26T14:13:37.888398Z"
    }
   },
   "outputs": [],
   "source": [
    "# import re\n",
    "import sys\n",
    "import logging\n",
    "from datetime import datetime as dtm\n",
    "from tqdm.notebook import tqdm\n",
    "import pandas as pd"
   ]
  },
  {
   "cell_type": "code",
   "execution_count": 3,
   "id": "caabc8c7",
   "metadata": {
    "ExecuteTime": {
     "end_time": "2022-08-26T14:19:06.118492Z",
     "start_time": "2022-08-26T14:13:37.888398Z"
    }
   },
   "outputs": [],
   "source": [
    "pd.set_option('display.max_colwidth', None)\n",
    "pd.set_option('display.float_format', '{:.2f}'.format)\n",
    "tqdm.pandas()\n",
    "\n",
    "logging.basicConfig(\n",
    "        format=u'[%(levelname)-8s] %(asctime)s | %(message)s',\n",
    "        datefmt='%Y-%m-%d %H:%M:%S',\n",
    "        level=logging.INFO,\n",
    "        # level=logging.DEBUG,\n",
    "        stream=sys.stdout,\n",
    "    )"
   ]
  },
  {
   "cell_type": "markdown",
   "id": "db3fe2be",
   "metadata": {},
   "source": [
    "---"
   ]
  },
  {
   "cell_type": "code",
   "execution_count": 4,
   "id": "d437eab9",
   "metadata": {},
   "outputs": [],
   "source": [
    "# каталог с файлами объявлений\n",
    "avito_raw_data_path = 'data/raw/avito' \n",
    "cian_raw_data_path = 'data/raw/cian'\n",
    "\n",
    "loc_file_path = 'data/location.pkl' # таблица адресов\n",
    "result_file_path = 'data/data.pkl'"
   ]
  },
  {
   "cell_type": "code",
   "execution_count": 5,
   "id": "31463a1e",
   "metadata": {},
   "outputs": [],
   "source": [
    "# ts = dtm.now().strftime('%Y-%m-%d_%H-%M')\n",
    "# ts"
   ]
  },
  {
   "cell_type": "markdown",
   "id": "98f6384f",
   "metadata": {},
   "source": [
    "## собираем данные авито.ру"
   ]
  },
  {
   "cell_type": "code",
   "execution_count": 6,
   "id": "2673ef1f",
   "metadata": {},
   "outputs": [
    {
     "data": {
      "text/plain": [
       "['data/raw/avito/avito_2022-08-26_17-29_raw.xlsx',\n",
       " 'data/raw/avito/avito_2022-08-29_13-16_raw.xlsx',\n",
       " 'data/raw/avito/avito_2022-08-31_17-42_raw.xlsx',\n",
       " 'data/raw/avito/avito_2022-09-01_14-07_raw.xlsx',\n",
       " 'data/raw/avito/avito_2022-09-02_13-04_raw.xlsx',\n",
       " 'data/raw/avito/avito_2022-09-05_14-02_raw.xlsx',\n",
       " 'data/raw/avito/avito_2022-09-06_13-09_raw.xlsx',\n",
       " 'data/raw/avito/avito_2022-09-07_12-39_raw.xlsx',\n",
       " 'data/raw/avito/avito_2022-09-08_13-36_raw.xlsx']"
      ]
     },
     "execution_count": 6,
     "metadata": {},
     "output_type": "execute_result"
    }
   ],
   "source": [
    "import re\n",
    "from os import listdir\n",
    "\n",
    "raw_data_files = sorted([\n",
    "        avito_raw_data_path+'/'+f \n",
    "        for f in listdir(avito_raw_data_path) \n",
    "        if re.match(r'.+\\.xlsx$',f)\n",
    "    ])\n",
    "raw_data_files"
   ]
  },
  {
   "cell_type": "code",
   "execution_count": 7,
   "id": "819a9675",
   "metadata": {},
   "outputs": [
    {
     "name": "stdout",
     "output_type": "stream",
     "text": [
      "16992\n"
     ]
    }
   ],
   "source": [
    "from lib.avito import AvitoDataCleanerRealtyFlat\n",
    "\n",
    "data_avito = pd.concat([\n",
    "        pd\n",
    "        .read_excel(f)\n",
    "        .dropna()\n",
    "        .drop_duplicates(['avito_id','description'])\n",
    "        .rename(columns={'page':'avito_page'})\n",
    "        .reset_index(drop=True)  \n",
    "        for f in raw_data_files\n",
    "    ]).reset_index(drop=True)\n",
    "\n",
    "data_avito = AvitoDataCleanerRealtyFlat().transform( data_avito )\n",
    "\n",
    "print(len(data_avito))"
   ]
  },
  {
   "cell_type": "code",
   "execution_count": 8,
   "id": "ce2869e1",
   "metadata": {},
   "outputs": [],
   "source": [
    "assert len(data_avito)>0"
   ]
  },
  {
   "cell_type": "code",
   "execution_count": 9,
   "id": "12170700",
   "metadata": {},
   "outputs": [
    {
     "name": "stdout",
     "output_type": "stream",
     "text": [
      "<class 'pandas.core.frame.DataFrame'>\n",
      "RangeIndex: 16992 entries, 0 to 16991\n",
      "Data columns (total 21 columns):\n",
      " #   Column         Non-Null Count  Dtype         \n",
      "---  ------         --------------  -----         \n",
      " 0   avito_id       16992 non-null  int64         \n",
      " 1   title          16992 non-null  object        \n",
      " 2   price          16992 non-null  int64         \n",
      " 3   adr            16992 non-null  object        \n",
      " 4   description    16992 non-null  object        \n",
      " 5   obj_name       16992 non-null  object        \n",
      " 6   ts             16992 non-null  datetime64[ns]\n",
      " 7   avito_page     16992 non-null  int64         \n",
      " 8   nrooms         16992 non-null  int64         \n",
      " 9   floor          16992 non-null  int64         \n",
      " 10  nfloors        16992 non-null  int64         \n",
      " 11  area           16992 non-null  float64       \n",
      " 12  is_studio      16992 non-null  bool          \n",
      " 13  is_apartment   16992 non-null  bool          \n",
      " 14  is_part        16992 non-null  bool          \n",
      " 15  is_auction     16992 non-null  bool          \n",
      " 16  is_openspace   16992 non-null  bool          \n",
      " 17  is_roof        16992 non-null  bool          \n",
      " 18  is_SNT         16992 non-null  bool          \n",
      " 19  priceM         16992 non-null  float64       \n",
      " 20  is_last_floor  16992 non-null  bool          \n",
      "dtypes: bool(8), datetime64[ns](1), float64(2), int64(6), object(4)\n",
      "memory usage: 1.8+ MB\n"
     ]
    }
   ],
   "source": [
    "data_avito.info(2)"
   ]
  },
  {
   "cell_type": "code",
   "execution_count": 10,
   "id": "a98c3001",
   "metadata": {},
   "outputs": [],
   "source": [
    "# data_avito.query('nrooms==0')\n",
    "# data_avito[ data_avito['title'].str.len()<1]"
   ]
  },
  {
   "cell_type": "markdown",
   "id": "894d9ae6",
   "metadata": {},
   "source": [
    "## собираем данные циан.ру"
   ]
  },
  {
   "cell_type": "code",
   "execution_count": 11,
   "id": "05ea79a3",
   "metadata": {},
   "outputs": [
    {
     "data": {
      "text/plain": [
       "['data/raw/cian/cian_2022-09-08_14-25_raw.pkl']"
      ]
     },
     "execution_count": 11,
     "metadata": {},
     "output_type": "execute_result"
    }
   ],
   "source": [
    "import re\n",
    "from os import listdir\n",
    "\n",
    "raw_data_files = sorted([\n",
    "        cian_raw_data_path+'/'+f \n",
    "        for f in listdir(cian_raw_data_path) \n",
    "        if re.match(r'.+\\.pkl$',f)\n",
    "        #if re.match(r'.+\\.xlsx$',f)\n",
    "    \n",
    "    ])\n",
    "raw_data_files"
   ]
  },
  {
   "cell_type": "code",
   "execution_count": 12,
   "id": "bb5a87f6",
   "metadata": {},
   "outputs": [],
   "source": [
    "data_cian = pd.concat([\n",
    "        # pd.read_excel(f)\n",
    "        pd.read_pickle(f)\n",
    "         .dropna()\n",
    "         .drop_duplicates(['LinkArea','Description',])\n",
    "         .rename(columns={'page':'cian_page'})\n",
    "         .reset_index(drop=True)  \n",
    "        for f in raw_data_files\n",
    "    ]).reset_index(drop=True)"
   ]
  },
  {
   "cell_type": "code",
   "execution_count": 13,
   "id": "fe083793",
   "metadata": {},
   "outputs": [
    {
     "name": "stdout",
     "output_type": "stream",
     "text": [
      "<class 'pandas.core.frame.DataFrame'>\n",
      "RangeIndex: 1503 entries, 0 to 1502\n",
      "Data columns (total 11 columns):\n",
      " #   Column         Non-Null Count  Dtype         \n",
      "---  ------         --------------  -----         \n",
      " 0   OfferTitle     1503 non-null   object        \n",
      " 1   OfferSubtitle  1503 non-null   object        \n",
      " 2   Deadline       1503 non-null   object        \n",
      " 3   MainPrice      1503 non-null   object        \n",
      " 4   PriceInfo      1503 non-null   object        \n",
      " 5   GeoLabel       1503 non-null   object        \n",
      " 6   TimeLabel      1503 non-null   object        \n",
      " 7   LinkArea       1503 non-null   object        \n",
      " 8   Description    1503 non-null   object        \n",
      " 9   cian_page      1503 non-null   int64         \n",
      " 10  ts             1503 non-null   datetime64[ns]\n",
      "dtypes: datetime64[ns](1), int64(1), object(9)\n",
      "memory usage: 129.3+ KB\n"
     ]
    }
   ],
   "source": [
    "data_cian.info(2)"
   ]
  },
  {
   "cell_type": "code",
   "execution_count": 14,
   "id": "5fb87c58",
   "metadata": {},
   "outputs": [],
   "source": [
    "swap_title = data_cian['OfferSubtitle'].str.match(r'.*\\d+ м², \\d+/\\d+ эт.*') \n",
    "\n",
    "data_cian = pd.concat([\n",
    "        data_cian[ ~swap_title ],\n",
    "        data_cian[ swap_title ]\n",
    "            .rename(columns={'OfferTitle':'OfferSubtitle','OfferSubtitle':'OfferTitle'})\n",
    "    ]).reset_index(drop=True)\n"
   ]
  },
  {
   "cell_type": "code",
   "execution_count": 15,
   "id": "33bda6e8",
   "metadata": {},
   "outputs": [],
   "source": [
    "# data_cian"
   ]
  },
  {
   "cell_type": "code",
   "execution_count": 16,
   "id": "7a11ac2f",
   "metadata": {},
   "outputs": [
    {
     "name": "stdout",
     "output_type": "stream",
     "text": [
      "1503\n"
     ]
    }
   ],
   "source": [
    "from lib.cian import CianDataCleaner\n",
    "\n",
    "data_cian = CianDataCleaner().transform( data_cian )\n",
    "\n",
    "print(len(data_cian))"
   ]
  },
  {
   "cell_type": "code",
   "execution_count": 17,
   "id": "b1df2dba",
   "metadata": {},
   "outputs": [],
   "source": [
    "assert len(data_cian)>0"
   ]
  },
  {
   "cell_type": "code",
   "execution_count": 18,
   "id": "979243e4",
   "metadata": {},
   "outputs": [
    {
     "name": "stdout",
     "output_type": "stream",
     "text": [
      "<class 'pandas.core.frame.DataFrame'>\n",
      "RangeIndex: 1503 entries, 0 to 1502\n",
      "Data columns (total 21 columns):\n",
      " #   Column         Non-Null Count  Dtype         \n",
      "---  ------         --------------  -----         \n",
      " 0   title          1503 non-null   object        \n",
      " 1   obj_name       1503 non-null   object        \n",
      " 2   adr            1503 non-null   object        \n",
      " 3   nrooms         1503 non-null   int64         \n",
      " 4   floor          1503 non-null   int64         \n",
      " 5   nfloors        1503 non-null   int64         \n",
      " 6   area           1503 non-null   float64       \n",
      " 7   is_studio      1503 non-null   bool          \n",
      " 8   is_apartment   1503 non-null   bool          \n",
      " 9   is_part        1503 non-null   bool          \n",
      " 10  is_auction     1503 non-null   bool          \n",
      " 11  is_openspace   1503 non-null   bool          \n",
      " 12  is_roof        1503 non-null   bool          \n",
      " 13  is_SNT         1503 non-null   bool          \n",
      " 14  price          1503 non-null   int64         \n",
      " 15  priceM         1503 non-null   float64       \n",
      " 16  is_last_floor  1503 non-null   bool          \n",
      " 17  cian_url       1503 non-null   object        \n",
      " 18  description    1503 non-null   object        \n",
      " 19  cian_page      1503 non-null   int64         \n",
      " 20  ts             1503 non-null   datetime64[ns]\n",
      "dtypes: bool(8), datetime64[ns](1), float64(2), int64(5), object(5)\n",
      "memory usage: 164.5+ KB\n"
     ]
    }
   ],
   "source": [
    "data_cian.info(2)"
   ]
  },
  {
   "cell_type": "code",
   "execution_count": 19,
   "id": "5eb571e0",
   "metadata": {},
   "outputs": [],
   "source": [
    "# data_cian\n",
    "# data_cian.query('nrooms==0')\n",
    "# data_cian[ data_cian['title'].str.len()<1 ]\n",
    "# data_cian[ data_cian['obj_name'].str.len()>0 ][['title','obj_name',]] # .to_csv('tmp/cian_title.csv',sep='\\t')|"
   ]
  },
  {
   "cell_type": "markdown",
   "id": "31f9a289",
   "metadata": {},
   "source": [
    "----"
   ]
  },
  {
   "cell_type": "code",
   "execution_count": 20,
   "id": "c6e47d9a",
   "metadata": {},
   "outputs": [
    {
     "name": "stdout",
     "output_type": "stream",
     "text": [
      "18495\n"
     ]
    }
   ],
   "source": [
    "data = pd.concat([data_avito,data_cian]).reset_index(drop=True) \n",
    "print(len(data))\n",
    "assert len(data)>0"
   ]
  },
  {
   "cell_type": "markdown",
   "id": "2903ab86",
   "metadata": {},
   "source": [
    "### обновляем таблицу адресов"
   ]
  },
  {
   "cell_type": "code",
   "execution_count": 21,
   "id": "7d191d0d",
   "metadata": {},
   "outputs": [
    {
     "name": "stdout",
     "output_type": "stream",
     "text": [
      "[INFO    ] 2022-09-08 15:39:50 | LocationUpdater: 2703 addresses in location table\n",
      "[INFO    ] 2022-09-08 15:39:50 | LocationUpdater: 2745 addresses total\n",
      "[INFO    ] 2022-09-08 15:39:50 | LocationUpdater: 2703 addresses defined\n",
      "[INFO    ] 2022-09-08 15:39:50 | LocationUpdater: 42 addresses undefined\n"
     ]
    },
    {
     "data": {
      "application/vnd.jupyter.widget-view+json": {
       "model_id": "a2dfc6a9b217424ba7a46797184c081a",
       "version_major": 2,
       "version_minor": 0
      },
      "text/plain": [
       "  0%|          | 0/42 [00:00<?, ?it/s]"
      ]
     },
     "metadata": {},
     "output_type": "display_data"
    },
    {
     "name": "stdout",
     "output_type": "stream",
     "text": [
      "[INFO    ] 2022-09-08 15:40:39 | LocationUpdater: 0 new addresses found\n"
     ]
    }
   ],
   "source": [
    "from lib.locator import LocationUpdater\n",
    "from lib.locator import AddressTransformerSev\n",
    "\n",
    "loc = LocationUpdater(\n",
    "        address_transformer=AddressTransformerSev(),\n",
    "    ).transform(\n",
    "        adr=data['adr'],\n",
    "        loc=pd.read_pickle(loc_file_path),\n",
    "        show_pbar=True,\n",
    "    )"
   ]
  },
  {
   "cell_type": "code",
   "execution_count": 22,
   "id": "19741bb7",
   "metadata": {},
   "outputs": [
    {
     "data": {
      "text/html": [
       "<div>\n",
       "<style scoped>\n",
       "    .dataframe tbody tr th:only-of-type {\n",
       "        vertical-align: middle;\n",
       "    }\n",
       "\n",
       "    .dataframe tbody tr th {\n",
       "        vertical-align: top;\n",
       "    }\n",
       "\n",
       "    .dataframe thead th {\n",
       "        text-align: right;\n",
       "    }\n",
       "</style>\n",
       "<table border=\"1\" class=\"dataframe\">\n",
       "  <thead>\n",
       "    <tr style=\"text-align: right;\">\n",
       "      <th></th>\n",
       "      <th>adr</th>\n",
       "      <th>latitude</th>\n",
       "      <th>longitude</th>\n",
       "      <th>truncated</th>\n",
       "    </tr>\n",
       "  </thead>\n",
       "  <tbody>\n",
       "    <tr>\n",
       "      <th>1420</th>\n",
       "      <td>улица Челюскинцев, 27</td>\n",
       "      <td>44.63</td>\n",
       "      <td>33.54</td>\n",
       "      <td>False</td>\n",
       "    </tr>\n",
       "    <tr>\n",
       "      <th>579</th>\n",
       "      <td>улица Героев Бреста, 44В</td>\n",
       "      <td>44.59</td>\n",
       "      <td>33.45</td>\n",
       "      <td>True</td>\n",
       "    </tr>\n",
       "    <tr>\n",
       "      <th>2685</th>\n",
       "      <td>Севастополь, район Балаклавский, шоссе Фиолентовское, 134 к2</td>\n",
       "      <td>44.50</td>\n",
       "      <td>33.49</td>\n",
       "      <td>False</td>\n",
       "    </tr>\n",
       "  </tbody>\n",
       "</table>\n",
       "</div>"
      ],
      "text/plain": [
       "                                                               adr  latitude  \\\n",
       "1420                                         улица Челюскинцев, 27     44.63   \n",
       "579                                       улица Героев Бреста, 44В     44.59   \n",
       "2685  Севастополь, район Балаклавский, шоссе Фиолентовское, 134 к2     44.50   \n",
       "\n",
       "      longitude truncated  \n",
       "1420      33.54     False  \n",
       "579       33.45      True  \n",
       "2685      33.49     False  "
      ]
     },
     "execution_count": 22,
     "metadata": {},
     "output_type": "execute_result"
    }
   ],
   "source": [
    "loc.sample(3)"
   ]
  },
  {
   "cell_type": "code",
   "execution_count": 23,
   "id": "a90d2398",
   "metadata": {},
   "outputs": [],
   "source": [
    "assert len(loc)>0\n",
    "loc.to_pickle(loc_file_path)"
   ]
  },
  {
   "cell_type": "markdown",
   "id": "30dbd6a6",
   "metadata": {},
   "source": [
    "### дополняем данные геометкой"
   ]
  },
  {
   "cell_type": "code",
   "execution_count": 24,
   "id": "06470644",
   "metadata": {},
   "outputs": [
    {
     "name": "stdout",
     "output_type": "stream",
     "text": [
      "всего записей: 18495\n",
      "записей без геометки: 957\n"
     ]
    }
   ],
   "source": [
    "data = data.merge(loc[['adr','latitude','longitude',]],on=['adr'],how='left')\n",
    "\n",
    "print('всего записей:', len( data) )\n",
    "print('записей без геометки:', len( data[ data['latitude'].isnull() ] ) )"
   ]
  },
  {
   "cell_type": "code",
   "execution_count": 25,
   "id": "b3161e64",
   "metadata": {},
   "outputs": [],
   "source": [
    "assert len(data)>0\n",
    "data.to_pickle(result_file_path)"
   ]
  },
  {
   "cell_type": "code",
   "execution_count": 26,
   "id": "799e47c2",
   "metadata": {},
   "outputs": [
    {
     "name": "stdout",
     "output_type": "stream",
     "text": [
      "<class 'pandas.core.frame.DataFrame'>\n",
      "Int64Index: 18495 entries, 0 to 18494\n",
      "Data columns (total 25 columns):\n",
      " #   Column         Non-Null Count  Dtype         \n",
      "---  ------         --------------  -----         \n",
      " 0   avito_id       16992 non-null  float64       \n",
      " 1   title          18495 non-null  object        \n",
      " 2   price          18495 non-null  int64         \n",
      " 3   adr            18495 non-null  object        \n",
      " 4   description    18495 non-null  object        \n",
      " 5   obj_name       18495 non-null  object        \n",
      " 6   ts             18495 non-null  datetime64[ns]\n",
      " 7   avito_page     16992 non-null  float64       \n",
      " 8   nrooms         18495 non-null  int64         \n",
      " 9   floor          18495 non-null  int64         \n",
      " 10  nfloors        18495 non-null  int64         \n",
      " 11  area           18495 non-null  float64       \n",
      " 12  is_studio      18495 non-null  bool          \n",
      " 13  is_apartment   18495 non-null  bool          \n",
      " 14  is_part        18495 non-null  bool          \n",
      " 15  is_auction     18495 non-null  bool          \n",
      " 16  is_openspace   18495 non-null  bool          \n",
      " 17  is_roof        18495 non-null  bool          \n",
      " 18  is_SNT         18495 non-null  bool          \n",
      " 19  priceM         18495 non-null  float64       \n",
      " 20  is_last_floor  18495 non-null  bool          \n",
      " 21  cian_url       1503 non-null   object        \n",
      " 22  cian_page      1503 non-null   float64       \n",
      " 23  latitude       17538 non-null  float64       \n",
      " 24  longitude      17538 non-null  float64       \n",
      "dtypes: bool(8), datetime64[ns](1), float64(7), int64(4), object(5)\n",
      "memory usage: 2.7+ MB\n"
     ]
    }
   ],
   "source": [
    "data.info()"
   ]
  },
  {
   "cell_type": "code",
   "execution_count": 27,
   "id": "13de0b35",
   "metadata": {},
   "outputs": [],
   "source": [
    "# for f in raw_data_files:\n",
    "#     ts = dtm.strptime( re.sub(r'.*/avito_','',f), '%Y-%m-%d_%H-%M_raw.xlsx')\n",
    "#     df = pd.read_excel(f)\n",
    "#     df['ts'] = ts\n",
    "#     df.to_excel(f,index=False)\n",
    "#     print(ts)"
   ]
  }
 ],
 "metadata": {
  "kernelspec": {
   "display_name": "Python 3 (ipykernel)",
   "language": "python",
   "name": "python3"
  },
  "language_info": {
   "codemirror_mode": {
    "name": "ipython",
    "version": 3
   },
   "file_extension": ".py",
   "mimetype": "text/x-python",
   "name": "python",
   "nbconvert_exporter": "python",
   "pygments_lexer": "ipython3",
   "version": "3.10.6"
  },
  "toc": {
   "base_numbering": 1,
   "nav_menu": {},
   "number_sections": true,
   "sideBar": true,
   "skip_h1_title": false,
   "title_cell": "Table of Contents",
   "title_sidebar": "Contents",
   "toc_cell": false,
   "toc_position": {},
   "toc_section_display": true,
   "toc_window_display": false
  },
  "varInspector": {
   "cols": {
    "lenName": 16,
    "lenType": 16,
    "lenVar": 40
   },
   "kernels_config": {
    "python": {
     "delete_cmd_postfix": "",
     "delete_cmd_prefix": "del ",
     "library": "var_list.py",
     "varRefreshCmd": "print(var_dic_list())"
    },
    "r": {
     "delete_cmd_postfix": ") ",
     "delete_cmd_prefix": "rm(",
     "library": "var_list.r",
     "varRefreshCmd": "cat(var_dic_list()) "
    }
   },
   "types_to_exclude": [
    "module",
    "function",
    "builtin_function_or_method",
    "instance",
    "_Feature"
   ],
   "window_display": false
  }
 },
 "nbformat": 4,
 "nbformat_minor": 5
}
