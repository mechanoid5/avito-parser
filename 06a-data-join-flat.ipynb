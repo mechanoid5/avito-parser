{
 "cells": [
  {
   "cell_type": "markdown",
   "id": "7bec28d7",
   "metadata": {},
   "source": [
    "__собираем предложения по квартирам__\n",
    "\n",
    "_Evgeny S. Borisov <parser@mechanoid.su>_"
   ]
  },
  {
   "cell_type": "code",
   "execution_count": 1,
   "id": "52c5999f",
   "metadata": {},
   "outputs": [],
   "source": [
    "# !pacman -S firefox firefox-i18n-r  geckodriver\n",
    "# !pip install seleniuam"
   ]
  },
  {
   "cell_type": "code",
   "execution_count": 2,
   "id": "bcea4d8b",
   "metadata": {
    "ExecuteTime": {
     "end_time": "2022-08-26T14:19:06.118492Z",
     "start_time": "2022-08-26T14:13:37.888398Z"
    }
   },
   "outputs": [],
   "source": [
    "# import re\n",
    "import sys\n",
    "import logging\n",
    "from datetime import datetime as dtm\n",
    "from tqdm.notebook import tqdm\n",
    "import pandas as pd"
   ]
  },
  {
   "cell_type": "code",
   "execution_count": 3,
   "id": "caabc8c7",
   "metadata": {
    "ExecuteTime": {
     "end_time": "2022-08-26T14:19:06.118492Z",
     "start_time": "2022-08-26T14:13:37.888398Z"
    }
   },
   "outputs": [],
   "source": [
    "pd.set_option('display.max_colwidth', None)\n",
    "pd.set_option('display.float_format', '{:.2f}'.format)\n",
    "tqdm.pandas()\n",
    "\n",
    "logging.basicConfig(\n",
    "        format=u'[%(levelname)-8s] %(asctime)s | %(message)s',\n",
    "        datefmt='%Y-%m-%d %H:%M:%S',\n",
    "        level=logging.INFO,\n",
    "        # level=logging.DEBUG,\n",
    "        stream=sys.stdout,\n",
    "    )"
   ]
  },
  {
   "cell_type": "markdown",
   "id": "db3fe2be",
   "metadata": {},
   "source": [
    "---"
   ]
  },
  {
   "cell_type": "code",
   "execution_count": 4,
   "id": "d437eab9",
   "metadata": {},
   "outputs": [],
   "source": [
    "# каталог с файлами объявлений\n",
    "avito_raw_data_path = 'data/raw/flat/avito' \n",
    "cian_raw_data_path = 'data/raw/flat/cian'\n",
    "\n",
    "result_file_path = 'data/data_flat.pkl'"
   ]
  },
  {
   "cell_type": "code",
   "execution_count": 5,
   "id": "31463a1e",
   "metadata": {},
   "outputs": [],
   "source": [
    "# ts = dtm.now().strftime('%Y-%m-%d_%H-%M')\n",
    "# ts"
   ]
  },
  {
   "cell_type": "markdown",
   "id": "98f6384f",
   "metadata": {},
   "source": [
    "## собираем данные авито.ру"
   ]
  },
  {
   "cell_type": "code",
   "execution_count": 6,
   "id": "2673ef1f",
   "metadata": {},
   "outputs": [
    {
     "data": {
      "text/plain": [
       "['data/raw/flat/avito/avito_2022-08-26_17-29_raw.xlsx',\n",
       " 'data/raw/flat/avito/avito_2022-08-29_13-16_raw.xlsx',\n",
       " 'data/raw/flat/avito/avito_2022-08-31_17-42_raw.xlsx',\n",
       " 'data/raw/flat/avito/avito_2022-09-01_14-07_raw.xlsx',\n",
       " 'data/raw/flat/avito/avito_2022-09-02_13-04_raw.xlsx',\n",
       " 'data/raw/flat/avito/avito_2022-09-05_14-02_raw.xlsx',\n",
       " 'data/raw/flat/avito/avito_2022-09-06_13-09_raw.xlsx',\n",
       " 'data/raw/flat/avito/avito_2022-09-07_12-39_raw.xlsx',\n",
       " 'data/raw/flat/avito/avito_2022-09-08_13-36_raw.xlsx',\n",
       " 'data/raw/flat/avito/avito_2022-09-12_13-44_raw.xlsx',\n",
       " 'data/raw/flat/avito/avito_2022-09-13_13-55_raw.xlsx',\n",
       " 'data/raw/flat/avito/avito_2022-09-15_10-27_raw.xlsx',\n",
       " 'data/raw/flat/avito/avito_2022-09-16_15-07_raw.xlsx',\n",
       " 'data/raw/flat/avito/avito_2022-09-19_12-36_raw.xlsx']"
      ]
     },
     "execution_count": 6,
     "metadata": {},
     "output_type": "execute_result"
    }
   ],
   "source": [
    "import re\n",
    "from os import listdir\n",
    "\n",
    "raw_data_files = sorted([\n",
    "        avito_raw_data_path+'/'+f \n",
    "        for f in listdir(avito_raw_data_path) \n",
    "        if re.match(r'.+\\.xlsx$',f)\n",
    "    ])\n",
    "raw_data_files"
   ]
  },
  {
   "cell_type": "code",
   "execution_count": 7,
   "id": "819a9675",
   "metadata": {},
   "outputs": [
    {
     "name": "stdout",
     "output_type": "stream",
     "text": [
      "19375\n"
     ]
    }
   ],
   "source": [
    "from lib.avito import AvitoDataCleanerRealtyFlat\n",
    "\n",
    "data_avito = pd.concat([\n",
    "        pd.read_excel(f)\n",
    "        .dropna()\n",
    "        .drop_duplicates(['avito_id','description'])\n",
    "        .rename(columns={'page':'avito_page'})\n",
    "        .reset_index(drop=True)  \n",
    "        for f in raw_data_files\n",
    "    ]).reset_index(drop=True)\n",
    "\n",
    "data_avito = AvitoDataCleanerRealtyFlat().transform( data_avito )\n",
    "\n",
    "print(len(data_avito))"
   ]
  },
  {
   "cell_type": "code",
   "execution_count": 8,
   "id": "ce2869e1",
   "metadata": {},
   "outputs": [],
   "source": [
    "assert len(data_avito)>0"
   ]
  },
  {
   "cell_type": "code",
   "execution_count": 9,
   "id": "12170700",
   "metadata": {},
   "outputs": [
    {
     "name": "stdout",
     "output_type": "stream",
     "text": [
      "<class 'pandas.core.frame.DataFrame'>\n",
      "RangeIndex: 19375 entries, 0 to 19374\n",
      "Data columns (total 22 columns):\n",
      " #   Column         Non-Null Count  Dtype         \n",
      "---  ------         --------------  -----         \n",
      " 0   avito_id       19375 non-null  int64         \n",
      " 1   title          19375 non-null  object        \n",
      " 2   price          19375 non-null  int64         \n",
      " 3   adr            19375 non-null  object        \n",
      " 4   description    19375 non-null  object        \n",
      " 5   obj_name       19375 non-null  object        \n",
      " 6   ts             19375 non-null  datetime64[ns]\n",
      " 7   avito_page     19375 non-null  int64         \n",
      " 8   place          19375 non-null  object        \n",
      " 9   nrooms         19375 non-null  int64         \n",
      " 10  floor          19375 non-null  int64         \n",
      " 11  nfloors        19375 non-null  int64         \n",
      " 12  area           19375 non-null  float64       \n",
      " 13  is_studio      19375 non-null  bool          \n",
      " 14  is_apartment   19375 non-null  bool          \n",
      " 15  is_part        19375 non-null  bool          \n",
      " 16  is_auction     19375 non-null  bool          \n",
      " 17  is_openspace   19375 non-null  bool          \n",
      " 18  is_roof        19375 non-null  bool          \n",
      " 19  is_SNT         19375 non-null  bool          \n",
      " 20  priceM         19375 non-null  float64       \n",
      " 21  is_last_floor  19375 non-null  bool          \n",
      "dtypes: bool(8), datetime64[ns](1), float64(2), int64(6), object(5)\n",
      "memory usage: 2.2+ MB\n"
     ]
    }
   ],
   "source": [
    "data_avito.info()"
   ]
  },
  {
   "cell_type": "code",
   "execution_count": 10,
   "id": "a79ce37b",
   "metadata": {},
   "outputs": [
    {
     "data": {
      "text/plain": [
       "avito_id         False\n",
       "title            False\n",
       "price            False\n",
       "adr              False\n",
       "description      False\n",
       "obj_name         False\n",
       "ts               False\n",
       "avito_page       False\n",
       "place            False\n",
       "nrooms           False\n",
       "floor            False\n",
       "nfloors          False\n",
       "area             False\n",
       "is_studio        False\n",
       "is_apartment     False\n",
       "is_part          False\n",
       "is_auction       False\n",
       "is_openspace     False\n",
       "is_roof          False\n",
       "is_SNT           False\n",
       "priceM           False\n",
       "is_last_floor    False\n",
       "dtype: bool"
      ]
     },
     "execution_count": 10,
     "metadata": {},
     "output_type": "execute_result"
    }
   ],
   "source": [
    "data_avito.isnull().any()"
   ]
  },
  {
   "cell_type": "code",
   "execution_count": 11,
   "id": "a98c3001",
   "metadata": {},
   "outputs": [],
   "source": [
    "# data_avito.query('nrooms==0')\n",
    "# data_avito[ data_avito['title'].str.len()<1]"
   ]
  },
  {
   "cell_type": "markdown",
   "id": "894d9ae6",
   "metadata": {},
   "source": [
    "## собираем данные циан.ру"
   ]
  },
  {
   "cell_type": "code",
   "execution_count": 12,
   "id": "05ea79a3",
   "metadata": {},
   "outputs": [
    {
     "data": {
      "text/plain": [
       "['data/raw/flat/cian/cian_2022-09-08_14-25_raw.pkl',\n",
       " 'data/raw/flat/cian/cian_2022-09-12_13-59_raw.pkl',\n",
       " 'data/raw/flat/cian/cian_2022-09-13_13-59_raw.pkl',\n",
       " 'data/raw/flat/cian/cian_2022-09-15_10-30_raw.pkl',\n",
       " 'data/raw/flat/cian/cian_2022-09-16_15-11_raw.pkl',\n",
       " 'data/raw/flat/cian/cian_2022-09-19_12-40_raw.pkl']"
      ]
     },
     "execution_count": 12,
     "metadata": {},
     "output_type": "execute_result"
    }
   ],
   "source": [
    "import re\n",
    "from os import listdir\n",
    "\n",
    "raw_data_files = sorted([\n",
    "        cian_raw_data_path+'/'+f \n",
    "        for f in listdir(cian_raw_data_path) \n",
    "        if re.match(r'.+\\.pkl$',f)\n",
    "        #if re.match(r'.+\\.xlsx$',f)\n",
    "    \n",
    "    ])\n",
    "raw_data_files"
   ]
  },
  {
   "cell_type": "code",
   "execution_count": 13,
   "id": "bb5a87f6",
   "metadata": {},
   "outputs": [],
   "source": [
    "data_cian = pd.concat([\n",
    "        pd.read_pickle(f)\n",
    "         .dropna()\n",
    "         .drop_duplicates(['LinkArea','Description',])\n",
    "         .rename(columns={'page':'cian_page'})\n",
    "         .reset_index(drop=True)  \n",
    "        for f in raw_data_files\n",
    "    ]).reset_index(drop=True)"
   ]
  },
  {
   "cell_type": "code",
   "execution_count": 14,
   "id": "fe083793",
   "metadata": {},
   "outputs": [
    {
     "name": "stdout",
     "output_type": "stream",
     "text": [
      "<class 'pandas.core.frame.DataFrame'>\n",
      "RangeIndex: 8995 entries, 0 to 8994\n",
      "Data columns (total 12 columns):\n",
      " #   Column         Non-Null Count  Dtype         \n",
      "---  ------         --------------  -----         \n",
      " 0   OfferTitle     8995 non-null   object        \n",
      " 1   OfferSubtitle  8995 non-null   object        \n",
      " 2   Deadline       8995 non-null   object        \n",
      " 3   MainPrice      8995 non-null   object        \n",
      " 4   PriceInfo      8995 non-null   object        \n",
      " 5   GeoLabel       8995 non-null   object        \n",
      " 6   TimeLabel      8995 non-null   object        \n",
      " 7   LinkArea       8995 non-null   object        \n",
      " 8   Description    8995 non-null   object        \n",
      " 9   cian_page      8995 non-null   int64         \n",
      " 10  ts             8995 non-null   datetime64[ns]\n",
      " 11  place          8995 non-null   object        \n",
      "dtypes: datetime64[ns](1), int64(1), object(10)\n",
      "memory usage: 843.4+ KB\n"
     ]
    }
   ],
   "source": [
    "data_cian.info()"
   ]
  },
  {
   "cell_type": "code",
   "execution_count": 15,
   "id": "c7ecc2ce",
   "metadata": {},
   "outputs": [
    {
     "data": {
      "text/plain": [
       "OfferTitle       False\n",
       "OfferSubtitle    False\n",
       "Deadline         False\n",
       "MainPrice        False\n",
       "PriceInfo        False\n",
       "GeoLabel         False\n",
       "TimeLabel        False\n",
       "LinkArea         False\n",
       "Description      False\n",
       "cian_page        False\n",
       "ts               False\n",
       "place            False\n",
       "dtype: bool"
      ]
     },
     "execution_count": 15,
     "metadata": {},
     "output_type": "execute_result"
    }
   ],
   "source": [
    "data_cian.isnull().any()"
   ]
  },
  {
   "cell_type": "code",
   "execution_count": 16,
   "id": "5fb87c58",
   "metadata": {},
   "outputs": [],
   "source": [
    "swap_title = data_cian['OfferSubtitle'].str.match(r'.*\\d+ м², \\d+/\\d+ эт.*') \n",
    "\n",
    "data_cian = pd.concat([\n",
    "        data_cian[ ~swap_title ],\n",
    "        data_cian[ swap_title ]\n",
    "            .rename(columns={'OfferTitle':'OfferSubtitle','OfferSubtitle':'OfferTitle'})\n",
    "    ]).reset_index(drop=True)\n"
   ]
  },
  {
   "cell_type": "code",
   "execution_count": 17,
   "id": "33bda6e8",
   "metadata": {},
   "outputs": [],
   "source": [
    "# data_cian"
   ]
  },
  {
   "cell_type": "code",
   "execution_count": 18,
   "id": "7a11ac2f",
   "metadata": {},
   "outputs": [
    {
     "name": "stdout",
     "output_type": "stream",
     "text": [
      "8995\n"
     ]
    }
   ],
   "source": [
    "from lib.cian import CianDataCleaner\n",
    "\n",
    "data_cian = CianDataCleaner().transform( data_cian )\n",
    "\n",
    "print(len(data_cian))"
   ]
  },
  {
   "cell_type": "code",
   "execution_count": 19,
   "id": "b1df2dba",
   "metadata": {},
   "outputs": [],
   "source": [
    "assert len(data_cian)>0"
   ]
  },
  {
   "cell_type": "code",
   "execution_count": 20,
   "id": "979243e4",
   "metadata": {},
   "outputs": [
    {
     "name": "stdout",
     "output_type": "stream",
     "text": [
      "<class 'pandas.core.frame.DataFrame'>\n",
      "RangeIndex: 8995 entries, 0 to 8994\n",
      "Data columns (total 22 columns):\n",
      " #   Column         Non-Null Count  Dtype         \n",
      "---  ------         --------------  -----         \n",
      " 0   title          8995 non-null   object        \n",
      " 1   obj_name       8995 non-null   object        \n",
      " 2   adr            8995 non-null   object        \n",
      " 3   nrooms         8995 non-null   int64         \n",
      " 4   floor          8995 non-null   int64         \n",
      " 5   nfloors        8995 non-null   int64         \n",
      " 6   area           8995 non-null   float64       \n",
      " 7   is_studio      8995 non-null   bool          \n",
      " 8   is_apartment   8995 non-null   bool          \n",
      " 9   is_part        8995 non-null   bool          \n",
      " 10  is_auction     8995 non-null   bool          \n",
      " 11  is_openspace   8995 non-null   bool          \n",
      " 12  is_roof        8995 non-null   bool          \n",
      " 13  is_SNT         8995 non-null   bool          \n",
      " 14  price          8995 non-null   int64         \n",
      " 15  priceM         8995 non-null   float64       \n",
      " 16  is_last_floor  8995 non-null   bool          \n",
      " 17  cian_url       8995 non-null   object        \n",
      " 18  description    8995 non-null   object        \n",
      " 19  cian_page      8995 non-null   int64         \n",
      " 20  ts             8995 non-null   datetime64[ns]\n",
      " 21  place          8995 non-null   object        \n",
      "dtypes: bool(8), datetime64[ns](1), float64(2), int64(5), object(6)\n",
      "memory usage: 1.0+ MB\n"
     ]
    }
   ],
   "source": [
    "data_cian.info()"
   ]
  },
  {
   "cell_type": "code",
   "execution_count": 21,
   "id": "8ba603a9",
   "metadata": {},
   "outputs": [
    {
     "data": {
      "text/plain": [
       "title            False\n",
       "obj_name         False\n",
       "adr              False\n",
       "nrooms           False\n",
       "floor            False\n",
       "nfloors          False\n",
       "area             False\n",
       "is_studio        False\n",
       "is_apartment     False\n",
       "is_part          False\n",
       "is_auction       False\n",
       "is_openspace     False\n",
       "is_roof          False\n",
       "is_SNT           False\n",
       "price            False\n",
       "priceM           False\n",
       "is_last_floor    False\n",
       "cian_url         False\n",
       "description      False\n",
       "cian_page        False\n",
       "ts               False\n",
       "place            False\n",
       "dtype: bool"
      ]
     },
     "execution_count": 21,
     "metadata": {},
     "output_type": "execute_result"
    }
   ],
   "source": [
    "data_cian.isnull().any()"
   ]
  },
  {
   "cell_type": "code",
   "execution_count": 22,
   "id": "5eb571e0",
   "metadata": {},
   "outputs": [],
   "source": [
    "# data_cian\n",
    "# data_cian.query('nrooms==0')\n",
    "# data_cian[ data_cian['title'].str.len()<1 ]\n",
    "# data_cian[ data_cian['obj_name'].str.len()>0 ][['title','obj_name',]] # .to_csv('tmp/cian_title.csv',sep='\\t')|"
   ]
  },
  {
   "cell_type": "markdown",
   "id": "31f9a289",
   "metadata": {},
   "source": [
    "----"
   ]
  },
  {
   "cell_type": "code",
   "execution_count": 23,
   "id": "c6e47d9a",
   "metadata": {},
   "outputs": [
    {
     "name": "stdout",
     "output_type": "stream",
     "text": [
      "28370\n"
     ]
    }
   ],
   "source": [
    "data = pd.concat([data_avito,data_cian]).reset_index(drop=True) \n",
    "print(len(data))\n",
    "assert len(data)>0"
   ]
  },
  {
   "cell_type": "markdown",
   "id": "2903ab86",
   "metadata": {},
   "source": [
    "## обновляем таблицу адресов"
   ]
  },
  {
   "cell_type": "code",
   "execution_count": 24,
   "id": "328c2475",
   "metadata": {},
   "outputs": [],
   "source": [
    "# data_ = data.sample(15).reset_index(drop=True)\n",
    "# data_[['adr']]"
   ]
  },
  {
   "cell_type": "code",
   "execution_count": 25,
   "id": "119c3d8a",
   "metadata": {},
   "outputs": [],
   "source": [
    "places = { \n",
    "# поле 'place' и название города\n",
    "'bahchisaray': 'Бахчисарай,',\n",
    "      'sudak': 'Судак,',\n",
    "  'sevastopol': 'Севастополь,',\n",
    "}\n",
    "\n",
    "def norm_place(d,places=places):\n",
    "    if not d['place'] in places: return d['adr_']\n",
    "    p = places[ d['place'] ]\n",
    "    return d['adr_'] if d['adr_'].find(p)>-1 else p+d['adr_']"
   ]
  },
  {
   "cell_type": "code",
   "execution_count": 26,
   "id": "34e94334",
   "metadata": {},
   "outputs": [
    {
     "data": {
      "application/vnd.jupyter.widget-view+json": {
       "model_id": "ac96aee727164279ad2ecba7da0b492b",
       "version_major": 2,
       "version_minor": 0
      },
      "text/plain": [
       "  0%|          | 0/28370 [00:00<?, ?it/s]"
      ]
     },
     "metadata": {},
     "output_type": "display_data"
    },
    {
     "data": {
      "application/vnd.jupyter.widget-view+json": {
       "model_id": "26251ce6f04f4d399530e934015febf3",
       "version_major": 2,
       "version_minor": 0
      },
      "text/plain": [
       "  0%|          | 0/28370 [00:00<?, ?it/s]"
      ]
     },
     "metadata": {},
     "output_type": "display_data"
    }
   ],
   "source": [
    "from lib.locator import AddressTransformer\n",
    "\n",
    "atr = AddressTransformer()\n",
    "data['adr_'] = data['adr'].progress_apply(atr.transform)\n",
    "data['adr_'] = data[['adr_','place']].progress_apply(norm_place,axis=1)\n",
    "data = data.rename(columns={'adr':'adr_orig','adr_':'adr'})"
   ]
  },
  {
   "cell_type": "code",
   "execution_count": 27,
   "id": "6091bb5b",
   "metadata": {},
   "outputs": [
    {
     "data": {
      "text/html": [
       "<div>\n",
       "<style scoped>\n",
       "    .dataframe tbody tr th:only-of-type {\n",
       "        vertical-align: middle;\n",
       "    }\n",
       "\n",
       "    .dataframe tbody tr th {\n",
       "        vertical-align: top;\n",
       "    }\n",
       "\n",
       "    .dataframe thead th {\n",
       "        text-align: right;\n",
       "    }\n",
       "</style>\n",
       "<table border=\"1\" class=\"dataframe\">\n",
       "  <thead>\n",
       "    <tr style=\"text-align: right;\">\n",
       "      <th></th>\n",
       "      <th>adr_orig</th>\n",
       "      <th>adr</th>\n",
       "    </tr>\n",
       "  </thead>\n",
       "  <tbody>\n",
       "    <tr>\n",
       "      <th>21448</th>\n",
       "      <td>Севастополь, район Ленинский, микрорайон Острякова, проспект Генерала Острякова, 66</td>\n",
       "      <td>Севастополь, район Ленинский, Острякова, проспект Генерала Острякова, 66</td>\n",
       "    </tr>\n",
       "    <tr>\n",
       "      <th>7127</th>\n",
       "      <td>Столетовский проспект , 29</td>\n",
       "      <td>Севастополь,Столетовский проспект , 29</td>\n",
       "    </tr>\n",
       "    <tr>\n",
       "      <th>10990</th>\n",
       "      <td>улица Горпищенко, 73</td>\n",
       "      <td>Севастополь, улица Горпищенко, 73</td>\n",
       "    </tr>\n",
       "    <tr>\n",
       "      <th>17698</th>\n",
       "      <td>шоссе Лабораторное, д. 33, секц. 4</td>\n",
       "      <td>Севастополь, шоссе Лабораторное, д. 33, секц. 4</td>\n",
       "    </tr>\n",
       "    <tr>\n",
       "      <th>21307</th>\n",
       "      <td>Севастополь, район Гагаринский, микрорайон Стрелецкая бухта, улица Степаняна, 4/2</td>\n",
       "      <td>Севастополь, район Гагаринский, Стрелецкая бухта, улица Степаняна, 4/2</td>\n",
       "    </tr>\n",
       "    <tr>\n",
       "      <th>11372</th>\n",
       "      <td>улица Горпищенко, д. 145, корп. 2</td>\n",
       "      <td>Севастополь, улица Горпищенко, д. 145, корп. 2</td>\n",
       "    </tr>\n",
       "    <tr>\n",
       "      <th>22949</th>\n",
       "      <td>Севастополь, район Ленинский, микрорайон Острякова, проспект Генерала Острякова, 172</td>\n",
       "      <td>Севастополь, район Ленинский, Острякова, проспект Генерала Острякова, 172</td>\n",
       "    </tr>\n",
       "    <tr>\n",
       "      <th>21860</th>\n",
       "      <td>Севастополь, район Ленинский, улица Генерала Крейзера</td>\n",
       "      <td>Севастополь, район Ленинский, улица Генерала Крейзера</td>\n",
       "    </tr>\n",
       "    <tr>\n",
       "      <th>9666</th>\n",
       "      <td>село Штурмовое, улица Комиссара Морозова, 10</td>\n",
       "      <td>Севастополь, село Штурмовое, улица Комиссара Морозова, 10</td>\n",
       "    </tr>\n",
       "    <tr>\n",
       "      <th>21722</th>\n",
       "      <td>Севастополь, район Гагаринский, улица Комбрига Потапова, 31 к3</td>\n",
       "      <td>Севастополь, район Гагаринский, улица Комбрига Потапова, 31 к3</td>\n",
       "    </tr>\n",
       "  </tbody>\n",
       "</table>\n",
       "</div>"
      ],
      "text/plain": [
       "                                                                                   adr_orig  \\\n",
       "21448   Севастополь, район Ленинский, микрорайон Острякова, проспект Генерала Острякова, 66   \n",
       "7127                                                             Столетовский проспект , 29   \n",
       "10990                                                                  улица Горпищенко, 73   \n",
       "17698                                                    шоссе Лабораторное, д. 33, секц. 4   \n",
       "21307     Севастополь, район Гагаринский, микрорайон Стрелецкая бухта, улица Степаняна, 4/2   \n",
       "11372                                                     улица Горпищенко, д. 145, корп. 2   \n",
       "22949  Севастополь, район Ленинский, микрорайон Острякова, проспект Генерала Острякова, 172   \n",
       "21860                                 Севастополь, район Ленинский, улица Генерала Крейзера   \n",
       "9666                                           село Штурмовое, улица Комиссара Морозова, 10   \n",
       "21722                        Севастополь, район Гагаринский, улица Комбрига Потапова, 31 к3   \n",
       "\n",
       "                                                                             adr  \n",
       "21448   Севастополь, район Ленинский, Острякова, проспект Генерала Острякова, 66  \n",
       "7127                                      Севастополь,Столетовский проспект , 29  \n",
       "10990                                          Севастополь, улица Горпищенко, 73  \n",
       "17698                            Севастополь, шоссе Лабораторное, д. 33, секц. 4  \n",
       "21307     Севастополь, район Гагаринский, Стрелецкая бухта, улица Степаняна, 4/2  \n",
       "11372                             Севастополь, улица Горпищенко, д. 145, корп. 2  \n",
       "22949  Севастополь, район Ленинский, Острякова, проспект Генерала Острякова, 172  \n",
       "21860                      Севастополь, район Ленинский, улица Генерала Крейзера  \n",
       "9666                   Севастополь, село Штурмовое, улица Комиссара Морозова, 10  \n",
       "21722             Севастополь, район Гагаринский, улица Комбрига Потапова, 31 к3  "
      ]
     },
     "execution_count": 27,
     "metadata": {},
     "output_type": "execute_result"
    }
   ],
   "source": [
    "data[['adr_orig','adr']].sample(10)"
   ]
  },
  {
   "cell_type": "code",
   "execution_count": 28,
   "id": "9f8dcec3",
   "metadata": {},
   "outputs": [
    {
     "name": "stdout",
     "output_type": "stream",
     "text": [
      "[INFO    ] 2022-09-20 00:40:23 | LocationUpdater: 1597 addresses in index\n",
      "[INFO    ] 2022-09-20 00:40:23 | LocationUpdater: 3000 addresses total\n",
      "[INFO    ] 2022-09-20 00:40:23 | LocationUpdater: 1597 addresses defined\n",
      "[INFO    ] 2022-09-20 00:40:23 | LocationUpdater: 1403 addresses undefined\n"
     ]
    },
    {
     "data": {
      "application/vnd.jupyter.widget-view+json": {
       "model_id": "3eebb4eba7904895b02e440725d1c312",
       "version_major": 2,
       "version_minor": 0
      },
      "text/plain": [
       "  0%|          | 0/1403 [00:00<?, ?it/s]"
      ]
     },
     "metadata": {},
     "output_type": "display_data"
    },
    {
     "name": "stdout",
     "output_type": "stream",
     "text": [
      "[INFO    ] 2022-09-20 00:47:12 | LocationUpdater: 1403 new addresses found\n"
     ]
    }
   ],
   "source": [
    "# from lib.locator import GeocoderSimpleOSM\n",
    "from lib.locator import GeocoderYandex\n",
    "from yandex_keys import keys\n",
    "\n",
    "atr = AddressTransformer()\n",
    "locator = GeocoderYandex(keys[0])\n",
    "# locator = GeocoderSimpleOSM()\n",
    "\n",
    "loc_file_path = 'data/location.pkl' # таблица адресов\n",
    "loc = pd.read_pickle(loc_file_path)\n",
    "# loc = pd.DataFrame([],columns=['adr','latitude','longitude',])\n",
    "logging.info(f'LocationUpdater: {len(loc)} addresses in index')\n",
    "\n",
    "# собираем все адреса в один список\n",
    "loc = loc.merge(\n",
    "        data[['adr']].drop_duplicates(),\n",
    "        how='outer',\n",
    "        on='adr',\n",
    "    ).drop_duplicates().reset_index(drop=True)\n",
    "\n",
    "logging.info(f'LocationUpdater: {len(loc)} addresses total')\n",
    "\n",
    "# собираем все адреса с геопозицией\n",
    "loc_def = loc[~loc['latitude'].isna()].reset_index(drop=True)\n",
    "logging.info(f'LocationUpdater: {len(loc_def)} addresses defined')\n",
    "\n",
    "# собираем все адреса без геопозиции\n",
    "loc_undef = loc[loc['latitude'].isna()][['adr']].reset_index(drop=True)\n",
    "logging.info(f'LocationUpdater: {len(loc_undef)} addresses undefined')\n",
    "\n",
    "# определяем координаты по строке адреса\n",
    "loc_undef = loc_undef.join( loc_undef['adr'].progress_apply(locator.transform).apply(pd.Series) ).dropna()     \n",
    "logging.info(f'LocationUpdater: {len(loc_undef)} new addresses found')\n",
    "\n",
    "loc = pd.concat([loc_def,loc_undef]).reset_index(drop=True) "
   ]
  },
  {
   "cell_type": "code",
   "execution_count": 29,
   "id": "19741bb7",
   "metadata": {},
   "outputs": [
    {
     "name": "stdout",
     "output_type": "stream",
     "text": [
      "3000\n"
     ]
    },
    {
     "data": {
      "text/html": [
       "<div>\n",
       "<style scoped>\n",
       "    .dataframe tbody tr th:only-of-type {\n",
       "        vertical-align: middle;\n",
       "    }\n",
       "\n",
       "    .dataframe tbody tr th {\n",
       "        vertical-align: top;\n",
       "    }\n",
       "\n",
       "    .dataframe thead th {\n",
       "        text-align: right;\n",
       "    }\n",
       "</style>\n",
       "<table border=\"1\" class=\"dataframe\">\n",
       "  <thead>\n",
       "    <tr style=\"text-align: right;\">\n",
       "      <th></th>\n",
       "      <th>latitude</th>\n",
       "      <th>longitude</th>\n",
       "      <th>adr</th>\n",
       "    </tr>\n",
       "  </thead>\n",
       "  <tbody>\n",
       "    <tr>\n",
       "      <th>2970</th>\n",
       "      <td>44.607408</td>\n",
       "      <td>33.526222</td>\n",
       "      <td>Севастополь, район Ленинский, Центр, улица Терещенко, 1</td>\n",
       "    </tr>\n",
       "    <tr>\n",
       "      <th>442</th>\n",
       "      <td>44.59</td>\n",
       "      <td>33.57</td>\n",
       "      <td>Севастополь,Муромская улица , 80А</td>\n",
       "    </tr>\n",
       "    <tr>\n",
       "      <th>2041</th>\n",
       "      <td>44.731955</td>\n",
       "      <td>33.548617</td>\n",
       "      <td>Севастополь, село Орловка, Качинское шоссе , 35/49</td>\n",
       "    </tr>\n",
       "  </tbody>\n",
       "</table>\n",
       "</div>"
      ],
      "text/plain": [
       "       latitude  longitude  \\\n",
       "2970  44.607408  33.526222   \n",
       "442       44.59      33.57   \n",
       "2041  44.731955  33.548617   \n",
       "\n",
       "                                                          adr  \n",
       "2970  Севастополь, район Ленинский, Центр, улица Терещенко, 1  \n",
       "442                         Севастополь,Муромская улица , 80А  \n",
       "2041       Севастополь, село Орловка, Качинское шоссе , 35/49  "
      ]
     },
     "execution_count": 29,
     "metadata": {},
     "output_type": "execute_result"
    }
   ],
   "source": [
    "print( len(loc) )\n",
    "loc.sample(3)"
   ]
  },
  {
   "cell_type": "code",
   "execution_count": 30,
   "id": "a90d2398",
   "metadata": {},
   "outputs": [],
   "source": [
    "assert len(loc)>0\n",
    "loc.to_pickle(loc_file_path)"
   ]
  },
  {
   "cell_type": "markdown",
   "id": "30dbd6a6",
   "metadata": {},
   "source": [
    "## дополняем данные геометкой"
   ]
  },
  {
   "cell_type": "code",
   "execution_count": 31,
   "id": "77fd1b59",
   "metadata": {},
   "outputs": [],
   "source": [
    "# data = data.rename(columns={'adr':'adr_orig','adr_':'adr'})"
   ]
  },
  {
   "cell_type": "code",
   "execution_count": 32,
   "id": "06470644",
   "metadata": {},
   "outputs": [
    {
     "name": "stdout",
     "output_type": "stream",
     "text": [
      "всего записей: 28370\n",
      "записей без геометки: 0\n"
     ]
    }
   ],
   "source": [
    "data = data.merge(loc,on=['adr'],how='left')\n",
    "\n",
    "print('всего записей:', len( data) )\n",
    "print('записей без геометки:', len( data[ data['latitude'].isna() ] ) )"
   ]
  },
  {
   "cell_type": "code",
   "execution_count": 33,
   "id": "b3161e64",
   "metadata": {},
   "outputs": [],
   "source": [
    "assert len(data)>0\n",
    "data.to_pickle(result_file_path)"
   ]
  },
  {
   "cell_type": "code",
   "execution_count": 34,
   "id": "799e47c2",
   "metadata": {},
   "outputs": [
    {
     "name": "stdout",
     "output_type": "stream",
     "text": [
      "<class 'pandas.core.frame.DataFrame'>\n",
      "Int64Index: 28370 entries, 0 to 28369\n",
      "Data columns (total 27 columns):\n",
      " #   Column         Non-Null Count  Dtype         \n",
      "---  ------         --------------  -----         \n",
      " 0   avito_id       19375 non-null  float64       \n",
      " 1   title          28370 non-null  object        \n",
      " 2   price          28370 non-null  int64         \n",
      " 3   adr_orig       28370 non-null  object        \n",
      " 4   description    28370 non-null  object        \n",
      " 5   obj_name       28370 non-null  object        \n",
      " 6   ts             28370 non-null  datetime64[ns]\n",
      " 7   avito_page     19375 non-null  float64       \n",
      " 8   place          28370 non-null  object        \n",
      " 9   nrooms         28370 non-null  int64         \n",
      " 10  floor          28370 non-null  int64         \n",
      " 11  nfloors        28370 non-null  int64         \n",
      " 12  area           28370 non-null  float64       \n",
      " 13  is_studio      28370 non-null  bool          \n",
      " 14  is_apartment   28370 non-null  bool          \n",
      " 15  is_part        28370 non-null  bool          \n",
      " 16  is_auction     28370 non-null  bool          \n",
      " 17  is_openspace   28370 non-null  bool          \n",
      " 18  is_roof        28370 non-null  bool          \n",
      " 19  is_SNT         28370 non-null  bool          \n",
      " 20  priceM         28370 non-null  float64       \n",
      " 21  is_last_floor  28370 non-null  bool          \n",
      " 22  cian_url       8995 non-null   object        \n",
      " 23  cian_page      8995 non-null   float64       \n",
      " 24  adr            28370 non-null  object        \n",
      " 25  latitude       28370 non-null  object        \n",
      " 26  longitude      28370 non-null  object        \n",
      "dtypes: bool(8), datetime64[ns](1), float64(5), int64(4), object(9)\n",
      "memory usage: 4.5+ MB\n"
     ]
    }
   ],
   "source": [
    "data.info()"
   ]
  },
  {
   "cell_type": "code",
   "execution_count": null,
   "id": "d8eae2b4",
   "metadata": {},
   "outputs": [],
   "source": []
  }
 ],
 "metadata": {
  "kernelspec": {
   "display_name": "Python 3 (ipykernel)",
   "language": "python",
   "name": "python3"
  },
  "language_info": {
   "codemirror_mode": {
    "name": "ipython",
    "version": 3
   },
   "file_extension": ".py",
   "mimetype": "text/x-python",
   "name": "python",
   "nbconvert_exporter": "python",
   "pygments_lexer": "ipython3",
   "version": "3.10.6"
  },
  "toc": {
   "base_numbering": 1,
   "nav_menu": {},
   "number_sections": true,
   "sideBar": true,
   "skip_h1_title": false,
   "title_cell": "Table of Contents",
   "title_sidebar": "Contents",
   "toc_cell": false,
   "toc_position": {},
   "toc_section_display": true,
   "toc_window_display": true
  },
  "varInspector": {
   "cols": {
    "lenName": 16,
    "lenType": 16,
    "lenVar": 40
   },
   "kernels_config": {
    "python": {
     "delete_cmd_postfix": "",
     "delete_cmd_prefix": "del ",
     "library": "var_list.py",
     "varRefreshCmd": "print(var_dic_list())"
    },
    "r": {
     "delete_cmd_postfix": ") ",
     "delete_cmd_prefix": "rm(",
     "library": "var_list.r",
     "varRefreshCmd": "cat(var_dic_list()) "
    }
   },
   "types_to_exclude": [
    "module",
    "function",
    "builtin_function_or_method",
    "instance",
    "_Feature"
   ],
   "window_display": false
  }
 },
 "nbformat": 4,
 "nbformat_minor": 5
}
