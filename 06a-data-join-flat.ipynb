{
 "cells": [
  {
   "cell_type": "markdown",
   "id": "7bec28d7",
   "metadata": {},
   "source": [
    "__собираем предложения по квартирам__\n",
    "\n",
    "_Evgeny S. Borisov <parser@mechanoid.su>_"
   ]
  },
  {
   "cell_type": "code",
   "execution_count": 1,
   "id": "52c5999f",
   "metadata": {},
   "outputs": [],
   "source": [
    "# !pacman -S firefox firefox-i18n-r  geckodriver\n",
    "# !pip install seleniuam"
   ]
  },
  {
   "cell_type": "code",
   "execution_count": 2,
   "id": "bcea4d8b",
   "metadata": {
    "ExecuteTime": {
     "end_time": "2022-08-26T14:19:06.118492Z",
     "start_time": "2022-08-26T14:13:37.888398Z"
    }
   },
   "outputs": [],
   "source": [
    "# import re\n",
    "import sys\n",
    "import logging\n",
    "from datetime import datetime as dtm\n",
    "from tqdm.notebook import tqdm\n",
    "import pandas as pd"
   ]
  },
  {
   "cell_type": "code",
   "execution_count": 3,
   "id": "caabc8c7",
   "metadata": {
    "ExecuteTime": {
     "end_time": "2022-08-26T14:19:06.118492Z",
     "start_time": "2022-08-26T14:13:37.888398Z"
    }
   },
   "outputs": [],
   "source": [
    "pd.set_option('display.max_colwidth', None)\n",
    "pd.set_option('display.float_format', '{:.2f}'.format)\n",
    "tqdm.pandas()\n",
    "\n",
    "logging.basicConfig(\n",
    "        format=u'[%(levelname)-8s] %(asctime)s | %(message)s',\n",
    "        datefmt='%Y-%m-%d %H:%M:%S',\n",
    "        level=logging.INFO,\n",
    "        # level=logging.DEBUG,\n",
    "        stream=sys.stdout,\n",
    "    )"
   ]
  },
  {
   "cell_type": "markdown",
   "id": "db3fe2be",
   "metadata": {},
   "source": [
    "---"
   ]
  },
  {
   "cell_type": "code",
   "execution_count": 4,
   "id": "d437eab9",
   "metadata": {},
   "outputs": [],
   "source": [
    "# каталог с файлами объявлений\n",
    "avito_raw_data_path = 'data/raw/flat/avito' \n",
    "cian_raw_data_path = 'data/raw/flat/cian'\n",
    "\n",
    "result_file_path = 'data/data_flat.pkl'"
   ]
  },
  {
   "cell_type": "code",
   "execution_count": 5,
   "id": "31463a1e",
   "metadata": {},
   "outputs": [],
   "source": [
    "# ts = dtm.now().strftime('%Y-%m-%d_%H-%M')\n",
    "# ts"
   ]
  },
  {
   "cell_type": "markdown",
   "id": "98f6384f",
   "metadata": {},
   "source": [
    "## собираем данные авито.ру"
   ]
  },
  {
   "cell_type": "code",
   "execution_count": 6,
   "id": "2673ef1f",
   "metadata": {},
   "outputs": [
    {
     "data": {
      "text/plain": [
       "['data/raw/flat/avito/avito_2022-08-26_17-29_raw.xlsx',\n",
       " 'data/raw/flat/avito/avito_2022-08-29_13-16_raw.xlsx',\n",
       " 'data/raw/flat/avito/avito_2022-08-31_17-42_raw.xlsx',\n",
       " 'data/raw/flat/avito/avito_2022-09-01_14-07_raw.xlsx',\n",
       " 'data/raw/flat/avito/avito_2022-09-02_13-04_raw.xlsx',\n",
       " 'data/raw/flat/avito/avito_2022-09-05_14-02_raw.xlsx',\n",
       " 'data/raw/flat/avito/avito_2022-09-06_13-09_raw.xlsx',\n",
       " 'data/raw/flat/avito/avito_2022-09-07_12-39_raw.xlsx',\n",
       " 'data/raw/flat/avito/avito_2022-09-08_13-36_raw.xlsx',\n",
       " 'data/raw/flat/avito/avito_2022-09-12_13-44_raw.xlsx',\n",
       " 'data/raw/flat/avito/avito_2022-09-13_13-55_raw.xlsx',\n",
       " 'data/raw/flat/avito/avito_2022-09-15_10-27_raw.xlsx',\n",
       " 'data/raw/flat/avito/avito_2022-09-16_15-07_raw.xlsx',\n",
       " 'data/raw/flat/avito/avito_2022-09-19_12-36_raw.xlsx',\n",
       " 'data/raw/flat/avito/avito_2022-09-22_09-48_raw.xlsx',\n",
       " 'data/raw/flat/avito/avito_2022-09-26_11-20_raw.xlsx',\n",
       " 'data/raw/flat/avito/avito_2022-10-08_20-34_raw.xlsx',\n",
       " 'data/raw/flat/avito/avito_2022-10-14_15-48_raw.xlsx',\n",
       " 'data/raw/flat/avito/avito_2022-11-01_13-51_raw.xlsx',\n",
       " 'data/raw/flat/avito/avito_2022-11-04_17-11_raw.xlsx',\n",
       " 'data/raw/flat/avito/avito_2022-11-07_10-43_raw.xlsx']"
      ]
     },
     "execution_count": 6,
     "metadata": {},
     "output_type": "execute_result"
    }
   ],
   "source": [
    "import re\n",
    "from os import listdir\n",
    "\n",
    "raw_data_files = sorted([\n",
    "        avito_raw_data_path+'/'+f \n",
    "        for f in listdir(avito_raw_data_path) \n",
    "        if re.match(r'.+\\.xlsx$',f)\n",
    "    ])\n",
    "raw_data_files"
   ]
  },
  {
   "cell_type": "code",
   "execution_count": 7,
   "id": "819a9675",
   "metadata": {},
   "outputs": [
    {
     "name": "stdout",
     "output_type": "stream",
     "text": [
      "22288\n"
     ]
    }
   ],
   "source": [
    "from lib.avito import AvitoDataCleanerRealtyFlat\n",
    "\n",
    "data_avito = pd.concat([\n",
    "        pd.read_excel(f)\n",
    "        .dropna()\n",
    "        .drop_duplicates(['avito_id','description'])\n",
    "        .rename(columns={'page':'avito_page'})\n",
    "        .reset_index(drop=True)  \n",
    "        for f in raw_data_files\n",
    "    ]).reset_index(drop=True)\n",
    "\n",
    "data_avito = AvitoDataCleanerRealtyFlat().transform( data_avito )\n",
    "\n",
    "print(len(data_avito))"
   ]
  },
  {
   "cell_type": "code",
   "execution_count": 8,
   "id": "ce2869e1",
   "metadata": {},
   "outputs": [],
   "source": [
    "assert len(data_avito)>0"
   ]
  },
  {
   "cell_type": "code",
   "execution_count": 9,
   "id": "12170700",
   "metadata": {},
   "outputs": [
    {
     "name": "stdout",
     "output_type": "stream",
     "text": [
      "<class 'pandas.core.frame.DataFrame'>\n",
      "RangeIndex: 22288 entries, 0 to 22287\n",
      "Data columns (total 22 columns):\n",
      " #   Column         Non-Null Count  Dtype         \n",
      "---  ------         --------------  -----         \n",
      " 0   avito_id       22288 non-null  int64         \n",
      " 1   title          22288 non-null  object        \n",
      " 2   price          22288 non-null  int64         \n",
      " 3   adr            22288 non-null  object        \n",
      " 4   description    22288 non-null  object        \n",
      " 5   obj_name       22288 non-null  object        \n",
      " 6   ts             22288 non-null  datetime64[ns]\n",
      " 7   avito_page     22288 non-null  int64         \n",
      " 8   place          22288 non-null  object        \n",
      " 9   nrooms         22288 non-null  int64         \n",
      " 10  floor          22288 non-null  int64         \n",
      " 11  nfloors        22288 non-null  int64         \n",
      " 12  area           22288 non-null  float64       \n",
      " 13  is_studio      22288 non-null  bool          \n",
      " 14  is_apartment   22288 non-null  bool          \n",
      " 15  is_part        22288 non-null  bool          \n",
      " 16  is_auction     22288 non-null  bool          \n",
      " 17  is_openspace   22288 non-null  bool          \n",
      " 18  is_roof        22288 non-null  bool          \n",
      " 19  is_SNT         22288 non-null  bool          \n",
      " 20  priceM         22288 non-null  float64       \n",
      " 21  is_last_floor  22288 non-null  bool          \n",
      "dtypes: bool(8), datetime64[ns](1), float64(2), int64(6), object(5)\n",
      "memory usage: 2.6+ MB\n"
     ]
    }
   ],
   "source": [
    "data_avito.info()"
   ]
  },
  {
   "cell_type": "code",
   "execution_count": 10,
   "id": "a79ce37b",
   "metadata": {},
   "outputs": [
    {
     "data": {
      "text/plain": [
       "avito_id         False\n",
       "title            False\n",
       "price            False\n",
       "adr              False\n",
       "description      False\n",
       "obj_name         False\n",
       "ts               False\n",
       "avito_page       False\n",
       "place            False\n",
       "nrooms           False\n",
       "floor            False\n",
       "nfloors          False\n",
       "area             False\n",
       "is_studio        False\n",
       "is_apartment     False\n",
       "is_part          False\n",
       "is_auction       False\n",
       "is_openspace     False\n",
       "is_roof          False\n",
       "is_SNT           False\n",
       "priceM           False\n",
       "is_last_floor    False\n",
       "dtype: bool"
      ]
     },
     "execution_count": 10,
     "metadata": {},
     "output_type": "execute_result"
    }
   ],
   "source": [
    "data_avito.isnull().any()"
   ]
  },
  {
   "cell_type": "code",
   "execution_count": 11,
   "id": "a98c3001",
   "metadata": {},
   "outputs": [],
   "source": [
    "# data_avito.query('nrooms==0')\n",
    "# data_avito[ data_avito['title'].str.len()<1]"
   ]
  },
  {
   "cell_type": "markdown",
   "id": "894d9ae6",
   "metadata": {},
   "source": [
    "## собираем данные циан.ру"
   ]
  },
  {
   "cell_type": "code",
   "execution_count": 12,
   "id": "05ea79a3",
   "metadata": {},
   "outputs": [
    {
     "data": {
      "text/plain": [
       "['data/raw/flat/cian/cian_2022-09-08_14-25_raw.pkl',\n",
       " 'data/raw/flat/cian/cian_2022-09-12_13-59_raw.pkl',\n",
       " 'data/raw/flat/cian/cian_2022-09-13_13-59_raw.pkl',\n",
       " 'data/raw/flat/cian/cian_2022-09-15_10-30_raw.pkl',\n",
       " 'data/raw/flat/cian/cian_2022-09-16_15-11_raw.pkl',\n",
       " 'data/raw/flat/cian/cian_2022-09-19_12-40_raw.pkl',\n",
       " 'data/raw/flat/cian/cian_2022-09-22_09-53_raw.pkl',\n",
       " 'data/raw/flat/cian/cian_2022-09-26_11-23_raw.pkl',\n",
       " 'data/raw/flat/cian/cian_2022-10-08_20-39_raw.pkl',\n",
       " 'data/raw/flat/cian/cian_2022-10-14_15-53_raw.pkl',\n",
       " 'data/raw/flat/cian/cian_2022-11-01_13-57_raw.pkl',\n",
       " 'data/raw/flat/cian/cian_2022-11-04_17-14_raw.pkl',\n",
       " 'data/raw/flat/cian/cian_2022-11-07_10-47_raw.pkl']"
      ]
     },
     "execution_count": 12,
     "metadata": {},
     "output_type": "execute_result"
    }
   ],
   "source": [
    "import re\n",
    "from os import listdir\n",
    "\n",
    "raw_data_files = sorted([\n",
    "        cian_raw_data_path+'/'+f \n",
    "        for f in listdir(cian_raw_data_path) \n",
    "        if re.match(r'.+\\.pkl$',f)\n",
    "        #if re.match(r'.+\\.xlsx$',f)\n",
    "    \n",
    "    ])\n",
    "raw_data_files"
   ]
  },
  {
   "cell_type": "code",
   "execution_count": 13,
   "id": "bb5a87f6",
   "metadata": {},
   "outputs": [],
   "source": [
    "data_cian = pd.concat([\n",
    "        pd.read_pickle(f)\n",
    "         .dropna()\n",
    "         .drop_duplicates(['LinkArea','Description',])\n",
    "         .rename(columns={'page':'cian_page'})\n",
    "         .reset_index(drop=True)  \n",
    "        for f in raw_data_files\n",
    "    ]).reset_index(drop=True)"
   ]
  },
  {
   "cell_type": "code",
   "execution_count": 14,
   "id": "fe083793",
   "metadata": {},
   "outputs": [
    {
     "name": "stdout",
     "output_type": "stream",
     "text": [
      "<class 'pandas.core.frame.DataFrame'>\n",
      "RangeIndex: 19318 entries, 0 to 19317\n",
      "Data columns (total 12 columns):\n",
      " #   Column         Non-Null Count  Dtype         \n",
      "---  ------         --------------  -----         \n",
      " 0   OfferTitle     19318 non-null  object        \n",
      " 1   OfferSubtitle  19318 non-null  object        \n",
      " 2   Deadline       19318 non-null  object        \n",
      " 3   MainPrice      19318 non-null  object        \n",
      " 4   PriceInfo      19318 non-null  object        \n",
      " 5   GeoLabel       19318 non-null  object        \n",
      " 6   TimeLabel      19318 non-null  object        \n",
      " 7   LinkArea       19318 non-null  object        \n",
      " 8   Description    19318 non-null  object        \n",
      " 9   cian_page      19318 non-null  int64         \n",
      " 10  ts             19318 non-null  datetime64[ns]\n",
      " 11  place          19318 non-null  object        \n",
      "dtypes: datetime64[ns](1), int64(1), object(10)\n",
      "memory usage: 1.8+ MB\n"
     ]
    }
   ],
   "source": [
    "data_cian.info()"
   ]
  },
  {
   "cell_type": "code",
   "execution_count": 15,
   "id": "c7ecc2ce",
   "metadata": {},
   "outputs": [
    {
     "data": {
      "text/plain": [
       "OfferTitle       False\n",
       "OfferSubtitle    False\n",
       "Deadline         False\n",
       "MainPrice        False\n",
       "PriceInfo        False\n",
       "GeoLabel         False\n",
       "TimeLabel        False\n",
       "LinkArea         False\n",
       "Description      False\n",
       "cian_page        False\n",
       "ts               False\n",
       "place            False\n",
       "dtype: bool"
      ]
     },
     "execution_count": 15,
     "metadata": {},
     "output_type": "execute_result"
    }
   ],
   "source": [
    "data_cian.isnull().any()"
   ]
  },
  {
   "cell_type": "code",
   "execution_count": 16,
   "id": "5fb87c58",
   "metadata": {},
   "outputs": [],
   "source": [
    "swap_title = data_cian['OfferSubtitle'].str.match(r'.*\\d+ м², \\d+/\\d+ эт.*') \n",
    "\n",
    "data_cian = pd.concat([\n",
    "        data_cian[ ~swap_title ],\n",
    "        data_cian[ swap_title ]\n",
    "            .rename(columns={'OfferTitle':'OfferSubtitle','OfferSubtitle':'OfferTitle'})\n",
    "    ]).reset_index(drop=True)\n"
   ]
  },
  {
   "cell_type": "code",
   "execution_count": 17,
   "id": "33bda6e8",
   "metadata": {},
   "outputs": [],
   "source": [
    "# data_cian"
   ]
  },
  {
   "cell_type": "code",
   "execution_count": 18,
   "id": "7a11ac2f",
   "metadata": {},
   "outputs": [
    {
     "name": "stdout",
     "output_type": "stream",
     "text": [
      "19318\n"
     ]
    }
   ],
   "source": [
    "from lib.cian import CianDataCleaner\n",
    "\n",
    "data_cian = CianDataCleaner().transform( data_cian )\n",
    "\n",
    "print(len(data_cian))"
   ]
  },
  {
   "cell_type": "code",
   "execution_count": 19,
   "id": "b1df2dba",
   "metadata": {},
   "outputs": [],
   "source": [
    "assert len(data_cian)>0"
   ]
  },
  {
   "cell_type": "code",
   "execution_count": 20,
   "id": "979243e4",
   "metadata": {},
   "outputs": [
    {
     "name": "stdout",
     "output_type": "stream",
     "text": [
      "<class 'pandas.core.frame.DataFrame'>\n",
      "RangeIndex: 19318 entries, 0 to 19317\n",
      "Data columns (total 22 columns):\n",
      " #   Column         Non-Null Count  Dtype         \n",
      "---  ------         --------------  -----         \n",
      " 0   title          19318 non-null  object        \n",
      " 1   obj_name       19318 non-null  object        \n",
      " 2   adr            19318 non-null  object        \n",
      " 3   nrooms         19318 non-null  int64         \n",
      " 4   floor          19318 non-null  int64         \n",
      " 5   nfloors        19318 non-null  int64         \n",
      " 6   area           19318 non-null  float64       \n",
      " 7   is_studio      19318 non-null  bool          \n",
      " 8   is_apartment   19318 non-null  bool          \n",
      " 9   is_part        19318 non-null  bool          \n",
      " 10  is_auction     19318 non-null  bool          \n",
      " 11  is_openspace   19318 non-null  bool          \n",
      " 12  is_roof        19318 non-null  bool          \n",
      " 13  is_SNT         19318 non-null  bool          \n",
      " 14  price          19318 non-null  int64         \n",
      " 15  priceM         19318 non-null  float64       \n",
      " 16  is_last_floor  19318 non-null  bool          \n",
      " 17  cian_url       19318 non-null  object        \n",
      " 18  description    19318 non-null  object        \n",
      " 19  cian_page      19318 non-null  int64         \n",
      " 20  ts             19318 non-null  datetime64[ns]\n",
      " 21  place          19318 non-null  object        \n",
      "dtypes: bool(8), datetime64[ns](1), float64(2), int64(5), object(6)\n",
      "memory usage: 2.2+ MB\n"
     ]
    }
   ],
   "source": [
    "data_cian.info()"
   ]
  },
  {
   "cell_type": "code",
   "execution_count": 21,
   "id": "8ba603a9",
   "metadata": {},
   "outputs": [
    {
     "data": {
      "text/plain": [
       "title            False\n",
       "obj_name         False\n",
       "adr              False\n",
       "nrooms           False\n",
       "floor            False\n",
       "nfloors          False\n",
       "area             False\n",
       "is_studio        False\n",
       "is_apartment     False\n",
       "is_part          False\n",
       "is_auction       False\n",
       "is_openspace     False\n",
       "is_roof          False\n",
       "is_SNT           False\n",
       "price            False\n",
       "priceM           False\n",
       "is_last_floor    False\n",
       "cian_url         False\n",
       "description      False\n",
       "cian_page        False\n",
       "ts               False\n",
       "place            False\n",
       "dtype: bool"
      ]
     },
     "execution_count": 21,
     "metadata": {},
     "output_type": "execute_result"
    }
   ],
   "source": [
    "data_cian.isnull().any()"
   ]
  },
  {
   "cell_type": "code",
   "execution_count": 22,
   "id": "5eb571e0",
   "metadata": {},
   "outputs": [],
   "source": [
    "# data_cian\n",
    "# data_cian.query('nrooms==0')\n",
    "# data_cian[ data_cian['title'].str.len()<1 ]\n",
    "# data_cian[ data_cian['obj_name'].str.len()>0 ][['title','obj_name',]] # .to_csv('tmp/cian_title.csv',sep='\\t')|"
   ]
  },
  {
   "cell_type": "markdown",
   "id": "31f9a289",
   "metadata": {},
   "source": [
    "----"
   ]
  },
  {
   "cell_type": "code",
   "execution_count": 23,
   "id": "6cca7caf",
   "metadata": {},
   "outputs": [],
   "source": [
    "data_avito['url'] = 'https://avito.ru/' + data_avito['avito_id'].astype(int).astype(str)\n",
    "data_avito = data_avito.drop(columns=['avito_id'])\n",
    "data_cian = data_cian.rename(columns={'cian_url':'url'})"
   ]
  },
  {
   "cell_type": "code",
   "execution_count": 24,
   "id": "c6e47d9a",
   "metadata": {},
   "outputs": [
    {
     "name": "stdout",
     "output_type": "stream",
     "text": [
      "41606\n"
     ]
    }
   ],
   "source": [
    "data = pd.concat([data_avito,data_cian]).reset_index(drop=True) \n",
    "print(len(data))\n",
    "assert len(data)>0"
   ]
  },
  {
   "cell_type": "code",
   "execution_count": 25,
   "id": "24f3c19b",
   "metadata": {},
   "outputs": [
    {
     "data": {
      "text/html": [
       "<div>\n",
       "<style scoped>\n",
       "    .dataframe tbody tr th:only-of-type {\n",
       "        vertical-align: middle;\n",
       "    }\n",
       "\n",
       "    .dataframe tbody tr th {\n",
       "        vertical-align: top;\n",
       "    }\n",
       "\n",
       "    .dataframe thead th {\n",
       "        text-align: right;\n",
       "    }\n",
       "</style>\n",
       "<table border=\"1\" class=\"dataframe\">\n",
       "  <thead>\n",
       "    <tr style=\"text-align: right;\">\n",
       "      <th></th>\n",
       "      <th>title</th>\n",
       "      <th>price</th>\n",
       "      <th>adr</th>\n",
       "      <th>description</th>\n",
       "      <th>obj_name</th>\n",
       "      <th>ts</th>\n",
       "      <th>avito_page</th>\n",
       "      <th>place</th>\n",
       "      <th>nrooms</th>\n",
       "      <th>floor</th>\n",
       "      <th>...</th>\n",
       "      <th>is_apartment</th>\n",
       "      <th>is_part</th>\n",
       "      <th>is_auction</th>\n",
       "      <th>is_openspace</th>\n",
       "      <th>is_roof</th>\n",
       "      <th>is_SNT</th>\n",
       "      <th>priceM</th>\n",
       "      <th>is_last_floor</th>\n",
       "      <th>url</th>\n",
       "      <th>cian_page</th>\n",
       "    </tr>\n",
       "  </thead>\n",
       "  <tbody>\n",
       "    <tr>\n",
       "      <th>31971</th>\n",
       "      <td>3-комн. кв., 72 м², 1/9 этаж</td>\n",
       "      <td>9500000</td>\n",
       "      <td>Севастополь, район Гагаринский, микрорайон Летчики, улица Колобова, 15</td>\n",
       "      <td>Трехкомнатная квартира 72 м2, на 1/9 этаже дома. Расположена в г. Севастополь, Гагаринский район, ул. Колобова, д. 15.\\nЭто предложение отлично подойдет людям, ценящим комфорт и близость всей инфраструктуры.\\nПозвоните нам, чтобы узнать все детали! \\nТехнические характеристики: \\n \\n-Адрес: г. Севастополь, Гагаринский район, ул. Колобова, д. 15\\n-Год постройки дома: 1985\\n-Этаж/этажность: 1/9\\n-Количество комнат: 3\\n-Комнаты: изолированные \\n-Общая площадь: 72 м2\\n-Жилая площадь: 38,4 м2\\n-Комната: 17,8; 11,8 и 8,8 м2\\n-Площадь кухни: 7,5 м2\\n-Высота потолка: 2,5 м \\n-Санузел: раздельный\\n-Водоснабжение: центральное \\n-Горячее водоснабжение: АГВ\\n-Отопление: АГВ\\nДополнительная информация: \\nТрехкомнатная квартира улучшенной планировки на 1 высоком этаже 9-ти этажного дома, окна выходят во двор.\\nОбщая площадь квартиры с учетом лоджий - 72 м.кв. Комнаты - 17,8 м.кв., 11.8 м.кв. с выходом на большую лоджию - 7,5 м.кв. и комната - 8.8 м.кв. Кухня - 7,5 м.кв. с выходом на лоджию - 5,1 м.кв, коридор - 5,1 м.кв, 3,1 м.кв. и 2,6 м.кв, санузел раздельный - 2,6 м.кв. и 1,0 м.кв.\\nВ квартире установлено автономное газовое отопление. Квартира в хорошем жилом состоянии.\\nВо дворе для детей и взрослых предусмотрены игровые и спортивные площадки. \\nПозвоните нам, чтобы назначить просмотр! \\nИнфраструктура: \\nКвартира расположена в районе с очень развитой инфраструктурой. В шаговой доступности школы  37 и 58, детские сады  111 и 125, детские развивающие центры, салоны красоты, продуктовые супермаркеты, рынок, остановки общественного транспорта, кафе и рестораны. \\nУдобная транспортная развязка позволит вам очень быстро добраться в любой район города: центр - 15 минут, пляж \"Омега и парк \"Победы\" - 10 минут.\\nПодходит для наличного расчета, под гражданскую ипотеку, материнский капитал, жилищные сертификаты. \\nДокументы РФ проверены юристами и готовы к сделке. \\nПрофессиональное сопровождение до получения права собственности.\\nДобавьте предложение в закладки, чтобы не потерять!</td>\n",
       "      <td></td>\n",
       "      <td>2022-09-22 09:53:39.964462</td>\n",
       "      <td>NaN</td>\n",
       "      <td>sevastopol</td>\n",
       "      <td>3</td>\n",
       "      <td>1</td>\n",
       "      <td>...</td>\n",
       "      <td>False</td>\n",
       "      <td>False</td>\n",
       "      <td>False</td>\n",
       "      <td>False</td>\n",
       "      <td>False</td>\n",
       "      <td>False</td>\n",
       "      <td>9.50</td>\n",
       "      <td>False</td>\n",
       "      <td>https://sevastopol.cian.ru/sale/flat/273182796/</td>\n",
       "      <td>41.00</td>\n",
       "    </tr>\n",
       "  </tbody>\n",
       "</table>\n",
       "<p>1 rows × 23 columns</p>\n",
       "</div>"
      ],
      "text/plain": [
       "                              title    price  \\\n",
       "31971  3-комн. кв., 72 м², 1/9 этаж  9500000   \n",
       "\n",
       "                                                                          adr  \\\n",
       "31971  Севастополь, район Гагаринский, микрорайон Летчики, улица Колобова, 15   \n",
       "\n",
       "                                                                                                                                                                                                                                                                                                                                                                                                                                                                                                                                                                                                                                                                                                                                                                                                                                                                                                                                                                                                                                                                                                                                                                                                                                                                                                                                                                                                                                                                                                                                                                                                                                                                                                                                                                                                                                                                                                                                                                                                                                                                        description  \\\n",
       "31971  Трехкомнатная квартира 72 м2, на 1/9 этаже дома. Расположена в г. Севастополь, Гагаринский район, ул. Колобова, д. 15.\\nЭто предложение отлично подойдет людям, ценящим комфорт и близость всей инфраструктуры.\\nПозвоните нам, чтобы узнать все детали! \\nТехнические характеристики: \\n \\n-Адрес: г. Севастополь, Гагаринский район, ул. Колобова, д. 15\\n-Год постройки дома: 1985\\n-Этаж/этажность: 1/9\\n-Количество комнат: 3\\n-Комнаты: изолированные \\n-Общая площадь: 72 м2\\n-Жилая площадь: 38,4 м2\\n-Комната: 17,8; 11,8 и 8,8 м2\\n-Площадь кухни: 7,5 м2\\n-Высота потолка: 2,5 м \\n-Санузел: раздельный\\n-Водоснабжение: центральное \\n-Горячее водоснабжение: АГВ\\n-Отопление: АГВ\\nДополнительная информация: \\nТрехкомнатная квартира улучшенной планировки на 1 высоком этаже 9-ти этажного дома, окна выходят во двор.\\nОбщая площадь квартиры с учетом лоджий - 72 м.кв. Комнаты - 17,8 м.кв., 11.8 м.кв. с выходом на большую лоджию - 7,5 м.кв. и комната - 8.8 м.кв. Кухня - 7,5 м.кв. с выходом на лоджию - 5,1 м.кв, коридор - 5,1 м.кв, 3,1 м.кв. и 2,6 м.кв, санузел раздельный - 2,6 м.кв. и 1,0 м.кв.\\nВ квартире установлено автономное газовое отопление. Квартира в хорошем жилом состоянии.\\nВо дворе для детей и взрослых предусмотрены игровые и спортивные площадки. \\nПозвоните нам, чтобы назначить просмотр! \\nИнфраструктура: \\nКвартира расположена в районе с очень развитой инфраструктурой. В шаговой доступности школы  37 и 58, детские сады  111 и 125, детские развивающие центры, салоны красоты, продуктовые супермаркеты, рынок, остановки общественного транспорта, кафе и рестораны. \\nУдобная транспортная развязка позволит вам очень быстро добраться в любой район города: центр - 15 минут, пляж \"Омега и парк \"Победы\" - 10 минут.\\nПодходит для наличного расчета, под гражданскую ипотеку, материнский капитал, жилищные сертификаты. \\nДокументы РФ проверены юристами и готовы к сделке. \\nПрофессиональное сопровождение до получения права собственности.\\nДобавьте предложение в закладки, чтобы не потерять!   \n",
       "\n",
       "      obj_name                         ts  avito_page       place  nrooms  \\\n",
       "31971          2022-09-22 09:53:39.964462         NaN  sevastopol       3   \n",
       "\n",
       "       floor  ...  is_apartment  is_part  is_auction  is_openspace  is_roof  \\\n",
       "31971      1  ...         False    False       False         False    False   \n",
       "\n",
       "       is_SNT  priceM  is_last_floor  \\\n",
       "31971   False    9.50          False   \n",
       "\n",
       "                                                   url  cian_page  \n",
       "31971  https://sevastopol.cian.ru/sale/flat/273182796/      41.00  \n",
       "\n",
       "[1 rows x 23 columns]"
      ]
     },
     "execution_count": 25,
     "metadata": {},
     "output_type": "execute_result"
    }
   ],
   "source": [
    "data.sample()"
   ]
  },
  {
   "cell_type": "markdown",
   "id": "2903ab86",
   "metadata": {},
   "source": [
    "## обновляем таблицу адресов"
   ]
  },
  {
   "cell_type": "code",
   "execution_count": 26,
   "id": "328c2475",
   "metadata": {},
   "outputs": [],
   "source": [
    "# data_ = data.sample(15).reset_index(drop=True)\n",
    "# data_[['adr']]"
   ]
  },
  {
   "cell_type": "code",
   "execution_count": 27,
   "id": "119c3d8a",
   "metadata": {},
   "outputs": [],
   "source": [
    "places = { \n",
    "# поле 'place' и название города\n",
    "'bahchisaray': 'Бахчисарай,',\n",
    "      'sudak': 'Судак,',\n",
    "  'sevastopol': 'Севастополь,',\n",
    "}\n",
    "\n",
    "def norm_place(d,places=places):\n",
    "    if not d['place'] in places: return d['adr_']\n",
    "    p = places[ d['place'] ]\n",
    "    return d['adr_'] if d['adr_'].find(p)>-1 else p+d['adr_']"
   ]
  },
  {
   "cell_type": "code",
   "execution_count": 28,
   "id": "34e94334",
   "metadata": {},
   "outputs": [
    {
     "data": {
      "application/vnd.jupyter.widget-view+json": {
       "model_id": "550bdb976385418d85fcfa696f523fa2",
       "version_major": 2,
       "version_minor": 0
      },
      "text/plain": [
       "  0%|          | 0/41606 [00:00<?, ?it/s]"
      ]
     },
     "metadata": {},
     "output_type": "display_data"
    },
    {
     "data": {
      "application/vnd.jupyter.widget-view+json": {
       "model_id": "e98c4174fff84f279df42bb70d350ad8",
       "version_major": 2,
       "version_minor": 0
      },
      "text/plain": [
       "  0%|          | 0/41606 [00:00<?, ?it/s]"
      ]
     },
     "metadata": {},
     "output_type": "display_data"
    }
   ],
   "source": [
    "from lib.locator import AddressTransformer\n",
    "\n",
    "atr = AddressTransformer()\n",
    "data['adr_'] = data['adr'].progress_apply(atr.transform)\n",
    "data['adr_'] = data[['adr_','place']].progress_apply(norm_place,axis=1)\n",
    "data = data.rename(columns={'adr':'adr_orig','adr_':'adr'})"
   ]
  },
  {
   "cell_type": "code",
   "execution_count": 29,
   "id": "6091bb5b",
   "metadata": {},
   "outputs": [
    {
     "data": {
      "text/html": [
       "<div>\n",
       "<style scoped>\n",
       "    .dataframe tbody tr th:only-of-type {\n",
       "        vertical-align: middle;\n",
       "    }\n",
       "\n",
       "    .dataframe tbody tr th {\n",
       "        vertical-align: top;\n",
       "    }\n",
       "\n",
       "    .dataframe thead th {\n",
       "        text-align: right;\n",
       "    }\n",
       "</style>\n",
       "<table border=\"1\" class=\"dataframe\">\n",
       "  <thead>\n",
       "    <tr style=\"text-align: right;\">\n",
       "      <th></th>\n",
       "      <th>adr_orig</th>\n",
       "      <th>adr</th>\n",
       "    </tr>\n",
       "  </thead>\n",
       "  <tbody>\n",
       "    <tr>\n",
       "      <th>23830</th>\n",
       "      <td>Севастополь, район Гагаринский, микрорайон Летчики, улица Астана Кесаева, 3</td>\n",
       "      <td>Севастополь, район Гагаринский, Летчики, улица Астана Кесаева, 3</td>\n",
       "    </tr>\n",
       "    <tr>\n",
       "      <th>10292</th>\n",
       "      <td>СНТ Бриз, 137</td>\n",
       "      <td>Севастополь, СНТ Бриз, 137</td>\n",
       "    </tr>\n",
       "    <tr>\n",
       "      <th>40803</th>\n",
       "      <td>Севастополь, район Нахимовский, микрорайон Корабельная сторона, улица Розы Люксембург, 84</td>\n",
       "      <td>Севастополь, район Нахимовский, Корабельная сторона, улица Розы Люксембург, 84</td>\n",
       "    </tr>\n",
       "    <tr>\n",
       "      <th>16796</th>\n",
       "      <td>шоссе Лабораторное, д. 33, секц. 4</td>\n",
       "      <td>Севастополь, шоссе Лабораторное, д. 33, секц. 4</td>\n",
       "    </tr>\n",
       "    <tr>\n",
       "      <th>12633</th>\n",
       "      <td>улица Генерала Крейзера, д. 8, корп. 5</td>\n",
       "      <td>Севастополь, улица Генерала Крейзера, д. 8, корп. 5</td>\n",
       "    </tr>\n",
       "    <tr>\n",
       "      <th>8617</th>\n",
       "      <td>улица Сенявина, 5</td>\n",
       "      <td>Севастополь, улица Сенявина, 5</td>\n",
       "    </tr>\n",
       "    <tr>\n",
       "      <th>4445</th>\n",
       "      <td>улица Бориса Михайлова, 3</td>\n",
       "      <td>Севастополь, улица Бориса Михайлова, 3</td>\n",
       "    </tr>\n",
       "    <tr>\n",
       "      <th>13550</th>\n",
       "      <td>улица Горпищенко, 109</td>\n",
       "      <td>Севастополь, улица Горпищенко, 109</td>\n",
       "    </tr>\n",
       "    <tr>\n",
       "      <th>38463</th>\n",
       "      <td>Севастополь, район Ленинский, микрорайон Острякова, улица Хрусталева, 11</td>\n",
       "      <td>Севастополь, район Ленинский, Острякова, улица Хрусталева, 11</td>\n",
       "    </tr>\n",
       "    <tr>\n",
       "      <th>24348</th>\n",
       "      <td>Севастополь, район Гагаринский, микрорайон Камышовая бухта, улица Героев Бреста, 37</td>\n",
       "      <td>Севастополь, район Гагаринский, Камышовая бухта, улица Героев Бреста, 37</td>\n",
       "    </tr>\n",
       "  </tbody>\n",
       "</table>\n",
       "</div>"
      ],
      "text/plain": [
       "                                                                                        adr_orig  \\\n",
       "23830                Севастополь, район Гагаринский, микрорайон Летчики, улица Астана Кесаева, 3   \n",
       "10292                                                                              СНТ Бриз, 137   \n",
       "40803  Севастополь, район Нахимовский, микрорайон Корабельная сторона, улица Розы Люксембург, 84   \n",
       "16796                                                         шоссе Лабораторное, д. 33, секц. 4   \n",
       "12633                                                     улица Генерала Крейзера, д. 8, корп. 5   \n",
       "8617                                                                           улица Сенявина, 5   \n",
       "4445                                                                   улица Бориса Михайлова, 3   \n",
       "13550                                                                      улица Горпищенко, 109   \n",
       "38463                   Севастополь, район Ленинский, микрорайон Острякова, улица Хрусталева, 11   \n",
       "24348        Севастополь, район Гагаринский, микрорайон Камышовая бухта, улица Героев Бреста, 37   \n",
       "\n",
       "                                                                                  adr  \n",
       "23830                Севастополь, район Гагаринский, Летчики, улица Астана Кесаева, 3  \n",
       "10292                                                      Севастополь, СНТ Бриз, 137  \n",
       "40803  Севастополь, район Нахимовский, Корабельная сторона, улица Розы Люксембург, 84  \n",
       "16796                                 Севастополь, шоссе Лабораторное, д. 33, секц. 4  \n",
       "12633                             Севастополь, улица Генерала Крейзера, д. 8, корп. 5  \n",
       "8617                                                   Севастополь, улица Сенявина, 5  \n",
       "4445                                           Севастополь, улица Бориса Михайлова, 3  \n",
       "13550                                              Севастополь, улица Горпищенко, 109  \n",
       "38463                   Севастополь, район Ленинский, Острякова, улица Хрусталева, 11  \n",
       "24348        Севастополь, район Гагаринский, Камышовая бухта, улица Героев Бреста, 37  "
      ]
     },
     "execution_count": 29,
     "metadata": {},
     "output_type": "execute_result"
    }
   ],
   "source": [
    "data[['adr_orig','adr']].sample(10)"
   ]
  },
  {
   "cell_type": "code",
   "execution_count": 30,
   "id": "9f8dcec3",
   "metadata": {},
   "outputs": [
    {
     "name": "stdout",
     "output_type": "stream",
     "text": [
      "[INFO    ] 2022-11-07 12:11:50 | LocationUpdater: 7073 addresses in index\n",
      "[INFO    ] 2022-11-07 12:11:50 | LocationUpdater: 7096 addresses total\n",
      "[INFO    ] 2022-11-07 12:11:50 | LocationUpdater: 7073 addresses defined\n",
      "[INFO    ] 2022-11-07 12:11:50 | LocationUpdater: 23 addresses undefined\n"
     ]
    },
    {
     "data": {
      "application/vnd.jupyter.widget-view+json": {
       "model_id": "088b75d3222e407f9ba28f693b56f552",
       "version_major": 2,
       "version_minor": 0
      },
      "text/plain": [
       "  0%|          | 0/23 [00:00<?, ?it/s]"
      ]
     },
     "metadata": {},
     "output_type": "display_data"
    },
    {
     "name": "stdout",
     "output_type": "stream",
     "text": [
      "[INFO    ] 2022-11-07 12:11:56 | LocationUpdater: 23 new addresses found\n"
     ]
    }
   ],
   "source": [
    "# from lib.locator import GeocoderSimpleOSM\n",
    "from lib.locator import GeocoderYandex\n",
    "from yandex_keys import keys\n",
    "\n",
    "atr = AddressTransformer()\n",
    "locator = GeocoderYandex(keys[0])\n",
    "# locator = GeocoderSimpleOSM()\n",
    "\n",
    "loc_file_path = 'data/location.pkl' # таблица адресов\n",
    "loc = pd.read_pickle(loc_file_path)\n",
    "# loc = pd.DataFrame([],columns=['adr','latitude','longitude',])\n",
    "logging.info(f'LocationUpdater: {len(loc)} addresses in index')\n",
    "\n",
    "# собираем все адреса в один список\n",
    "loc = loc.merge(\n",
    "        data[['adr']].drop_duplicates(),\n",
    "        how='outer',\n",
    "        on='adr',\n",
    "    ).drop_duplicates().reset_index(drop=True)\n",
    "\n",
    "logging.info(f'LocationUpdater: {len(loc)} addresses total')\n",
    "\n",
    "# собираем все адреса с геопозицией\n",
    "loc_def = loc[~loc['latitude'].isna()].reset_index(drop=True)\n",
    "logging.info(f'LocationUpdater: {len(loc_def)} addresses defined')\n",
    "\n",
    "# собираем все адреса без геопозиции\n",
    "loc_undef = loc[loc['latitude'].isna()][['adr']].reset_index(drop=True)\n",
    "logging.info(f'LocationUpdater: {len(loc_undef)} addresses undefined')\n",
    "\n",
    "if len(loc_undef)>0:\n",
    "    # определяем координаты по строке адреса\n",
    "    loc_undef = loc_undef.join( loc_undef['adr'].progress_apply(locator.transform).apply(pd.Series) ).dropna()     \n",
    "    logging.info(f'LocationUpdater: {len(loc_undef)} new addresses found')\n",
    "    loc = pd.concat([loc_def,loc_undef]).reset_index(drop=True) \n",
    "    assert len(loc)>0\n",
    "    loc.to_pickle(loc_file_path)"
   ]
  },
  {
   "cell_type": "code",
   "execution_count": 31,
   "id": "19741bb7",
   "metadata": {},
   "outputs": [
    {
     "name": "stdout",
     "output_type": "stream",
     "text": [
      "7096\n"
     ]
    },
    {
     "data": {
      "text/html": [
       "<div>\n",
       "<style scoped>\n",
       "    .dataframe tbody tr th:only-of-type {\n",
       "        vertical-align: middle;\n",
       "    }\n",
       "\n",
       "    .dataframe tbody tr th {\n",
       "        vertical-align: top;\n",
       "    }\n",
       "\n",
       "    .dataframe thead th {\n",
       "        text-align: right;\n",
       "    }\n",
       "</style>\n",
       "<table border=\"1\" class=\"dataframe\">\n",
       "  <thead>\n",
       "    <tr style=\"text-align: right;\">\n",
       "      <th></th>\n",
       "      <th>latitude</th>\n",
       "      <th>longitude</th>\n",
       "      <th>adr</th>\n",
       "    </tr>\n",
       "  </thead>\n",
       "  <tbody>\n",
       "    <tr>\n",
       "      <th>6769</th>\n",
       "      <td>44.580925</td>\n",
       "      <td>33.49391</td>\n",
       "      <td>Севастополь,ул. Кедрина, 12</td>\n",
       "    </tr>\n",
       "    <tr>\n",
       "      <th>1169</th>\n",
       "      <td>44.58</td>\n",
       "      <td>33.46</td>\n",
       "      <td>Севастополь, улица Колобова, 18</td>\n",
       "    </tr>\n",
       "    <tr>\n",
       "      <th>6990</th>\n",
       "      <td>44.592987</td>\n",
       "      <td>33.430615</td>\n",
       "      <td>Севастополь, район Гагаринский, Омега, улица Челнокова, 17/4</td>\n",
       "    </tr>\n",
       "  </tbody>\n",
       "</table>\n",
       "</div>"
      ],
      "text/plain": [
       "       latitude  longitude  \\\n",
       "6769  44.580925   33.49391   \n",
       "1169      44.58      33.46   \n",
       "6990  44.592987  33.430615   \n",
       "\n",
       "                                                               adr  \n",
       "6769                                   Севастополь,ул. Кедрина, 12  \n",
       "1169                               Севастополь, улица Колобова, 18  \n",
       "6990  Севастополь, район Гагаринский, Омега, улица Челнокова, 17/4  "
      ]
     },
     "execution_count": 31,
     "metadata": {},
     "output_type": "execute_result"
    }
   ],
   "source": [
    "print( len(loc) )\n",
    "loc.sample(3)"
   ]
  },
  {
   "cell_type": "markdown",
   "id": "30dbd6a6",
   "metadata": {},
   "source": [
    "## дополняем данные геометкой"
   ]
  },
  {
   "cell_type": "code",
   "execution_count": 32,
   "id": "77fd1b59",
   "metadata": {},
   "outputs": [],
   "source": [
    "# data = data.rename(columns={'adr':'adr_orig','adr_':'adr'})"
   ]
  },
  {
   "cell_type": "code",
   "execution_count": 33,
   "id": "06470644",
   "metadata": {},
   "outputs": [
    {
     "name": "stdout",
     "output_type": "stream",
     "text": [
      "всего записей: 41606\n",
      "записей без геометки: 0\n"
     ]
    }
   ],
   "source": [
    "data = data.merge(loc,on=['adr'],how='left')\n",
    "\n",
    "print('всего записей:', len( data) )\n",
    "print('записей без геометки:', len( data[ data['latitude'].isna() ] ) )"
   ]
  },
  {
   "cell_type": "code",
   "execution_count": 34,
   "id": "b3161e64",
   "metadata": {},
   "outputs": [],
   "source": [
    "assert len(data)>0\n",
    "data.to_pickle(result_file_path)"
   ]
  },
  {
   "cell_type": "code",
   "execution_count": 35,
   "id": "799e47c2",
   "metadata": {},
   "outputs": [
    {
     "name": "stdout",
     "output_type": "stream",
     "text": [
      "<class 'pandas.core.frame.DataFrame'>\n",
      "Int64Index: 41606 entries, 0 to 41605\n",
      "Data columns (total 26 columns):\n",
      " #   Column         Non-Null Count  Dtype         \n",
      "---  ------         --------------  -----         \n",
      " 0   title          41606 non-null  object        \n",
      " 1   price          41606 non-null  int64         \n",
      " 2   adr_orig       41606 non-null  object        \n",
      " 3   description    41606 non-null  object        \n",
      " 4   obj_name       41606 non-null  object        \n",
      " 5   ts             41606 non-null  datetime64[ns]\n",
      " 6   avito_page     22288 non-null  float64       \n",
      " 7   place          41606 non-null  object        \n",
      " 8   nrooms         41606 non-null  int64         \n",
      " 9   floor          41606 non-null  int64         \n",
      " 10  nfloors        41606 non-null  int64         \n",
      " 11  area           41606 non-null  float64       \n",
      " 12  is_studio      41606 non-null  bool          \n",
      " 13  is_apartment   41606 non-null  bool          \n",
      " 14  is_part        41606 non-null  bool          \n",
      " 15  is_auction     41606 non-null  bool          \n",
      " 16  is_openspace   41606 non-null  bool          \n",
      " 17  is_roof        41606 non-null  bool          \n",
      " 18  is_SNT         41606 non-null  bool          \n",
      " 19  priceM         41606 non-null  float64       \n",
      " 20  is_last_floor  41606 non-null  bool          \n",
      " 21  url            41606 non-null  object        \n",
      " 22  cian_page      19318 non-null  float64       \n",
      " 23  adr            41606 non-null  object        \n",
      " 24  latitude       41606 non-null  object        \n",
      " 25  longitude      41606 non-null  object        \n",
      "dtypes: bool(8), datetime64[ns](1), float64(4), int64(4), object(9)\n",
      "memory usage: 6.3+ MB\n"
     ]
    }
   ],
   "source": [
    "data.info()"
   ]
  },
  {
   "cell_type": "code",
   "execution_count": null,
   "id": "d8eae2b4",
   "metadata": {},
   "outputs": [],
   "source": []
  }
 ],
 "metadata": {
  "kernelspec": {
   "display_name": "Python 3 (ipykernel)",
   "language": "python",
   "name": "python3"
  },
  "language_info": {
   "codemirror_mode": {
    "name": "ipython",
    "version": 3
   },
   "file_extension": ".py",
   "mimetype": "text/x-python",
   "name": "python",
   "nbconvert_exporter": "python",
   "pygments_lexer": "ipython3",
   "version": "3.10.8"
  },
  "toc": {
   "base_numbering": 1,
   "nav_menu": {},
   "number_sections": true,
   "sideBar": true,
   "skip_h1_title": false,
   "title_cell": "Table of Contents",
   "title_sidebar": "Contents",
   "toc_cell": false,
   "toc_position": {},
   "toc_section_display": true,
   "toc_window_display": true
  },
  "varInspector": {
   "cols": {
    "lenName": 16,
    "lenType": 16,
    "lenVar": 40
   },
   "kernels_config": {
    "python": {
     "delete_cmd_postfix": "",
     "delete_cmd_prefix": "del ",
     "library": "var_list.py",
     "varRefreshCmd": "print(var_dic_list())"
    },
    "r": {
     "delete_cmd_postfix": ") ",
     "delete_cmd_prefix": "rm(",
     "library": "var_list.r",
     "varRefreshCmd": "cat(var_dic_list()) "
    }
   },
   "types_to_exclude": [
    "module",
    "function",
    "builtin_function_or_method",
    "instance",
    "_Feature"
   ],
   "window_display": false
  }
 },
 "nbformat": 4,
 "nbformat_minor": 5
}
