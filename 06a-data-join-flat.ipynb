{
 "cells": [
  {
   "cell_type": "markdown",
   "id": "7bec28d7",
   "metadata": {},
   "source": [
    "__собираем данные__\n",
    "\n",
    "_Evgeny S. Borisov <parser@mechanoid.su>_"
   ]
  },
  {
   "cell_type": "code",
   "execution_count": 1,
   "id": "52c5999f",
   "metadata": {},
   "outputs": [],
   "source": [
    "# !pacman -S firefox firefox-i18n-r  geckodriver\n",
    "# !pip install seleniuam"
   ]
  },
  {
   "cell_type": "code",
   "execution_count": 2,
   "id": "bcea4d8b",
   "metadata": {
    "ExecuteTime": {
     "end_time": "2022-08-26T14:19:06.118492Z",
     "start_time": "2022-08-26T14:13:37.888398Z"
    }
   },
   "outputs": [],
   "source": [
    "# import re\n",
    "import sys\n",
    "import logging\n",
    "from datetime import datetime as dtm\n",
    "from tqdm.notebook import tqdm\n",
    "import pandas as pd"
   ]
  },
  {
   "cell_type": "code",
   "execution_count": 3,
   "id": "caabc8c7",
   "metadata": {
    "ExecuteTime": {
     "end_time": "2022-08-26T14:19:06.118492Z",
     "start_time": "2022-08-26T14:13:37.888398Z"
    }
   },
   "outputs": [],
   "source": [
    "pd.set_option('display.max_colwidth', None)\n",
    "pd.set_option('display.float_format', '{:.2f}'.format)\n",
    "tqdm.pandas()\n",
    "\n",
    "logging.basicConfig(\n",
    "        format=u'[%(levelname)-8s] %(asctime)s | %(message)s',\n",
    "        datefmt='%Y-%m-%d %H:%M:%S',\n",
    "        level=logging.INFO,\n",
    "        # level=logging.DEBUG,\n",
    "        stream=sys.stdout,\n",
    "    )"
   ]
  },
  {
   "cell_type": "markdown",
   "id": "db3fe2be",
   "metadata": {},
   "source": [
    "---"
   ]
  },
  {
   "cell_type": "code",
   "execution_count": 4,
   "id": "d437eab9",
   "metadata": {},
   "outputs": [],
   "source": [
    "# каталог с файлами объявлений\n",
    "avito_raw_data_path = 'data/raw/flat/avito' \n",
    "cian_raw_data_path = 'data/raw/flat/cian'\n",
    "\n",
    "result_file_path = 'data/data_flat.pkl'"
   ]
  },
  {
   "cell_type": "code",
   "execution_count": 5,
   "id": "31463a1e",
   "metadata": {},
   "outputs": [],
   "source": [
    "# ts = dtm.now().strftime('%Y-%m-%d_%H-%M')\n",
    "# ts"
   ]
  },
  {
   "cell_type": "markdown",
   "id": "98f6384f",
   "metadata": {},
   "source": [
    "## собираем данные авито.ру"
   ]
  },
  {
   "cell_type": "code",
   "execution_count": 6,
   "id": "2673ef1f",
   "metadata": {},
   "outputs": [
    {
     "data": {
      "text/plain": [
       "['data/raw/flat/avito/avito_2022-08-26_17-29_raw.xlsx',\n",
       " 'data/raw/flat/avito/avito_2022-08-29_13-16_raw.xlsx',\n",
       " 'data/raw/flat/avito/avito_2022-08-31_17-42_raw.xlsx',\n",
       " 'data/raw/flat/avito/avito_2022-09-01_14-07_raw.xlsx',\n",
       " 'data/raw/flat/avito/avito_2022-09-02_13-04_raw.xlsx',\n",
       " 'data/raw/flat/avito/avito_2022-09-05_14-02_raw.xlsx',\n",
       " 'data/raw/flat/avito/avito_2022-09-06_13-09_raw.xlsx',\n",
       " 'data/raw/flat/avito/avito_2022-09-07_12-39_raw.xlsx',\n",
       " 'data/raw/flat/avito/avito_2022-09-08_13-36_raw.xlsx',\n",
       " 'data/raw/flat/avito/avito_2022-09-12_13-44_raw.xlsx',\n",
       " 'data/raw/flat/avito/avito_2022-09-13_13-55_raw.xlsx',\n",
       " 'data/raw/flat/avito/avito_2022-09-15_10-27_raw.xlsx']"
      ]
     },
     "execution_count": 6,
     "metadata": {},
     "output_type": "execute_result"
    }
   ],
   "source": [
    "import re\n",
    "from os import listdir\n",
    "\n",
    "raw_data_files = sorted([\n",
    "        avito_raw_data_path+'/'+f \n",
    "        for f in listdir(avito_raw_data_path) \n",
    "        if re.match(r'.+\\.xlsx$',f)\n",
    "    ])\n",
    "raw_data_files"
   ]
  },
  {
   "cell_type": "code",
   "execution_count": 7,
   "id": "819a9675",
   "metadata": {},
   "outputs": [
    {
     "name": "stdout",
     "output_type": "stream",
     "text": [
      "18459\n"
     ]
    }
   ],
   "source": [
    "from lib.avito import AvitoDataCleanerRealtyFlat\n",
    "\n",
    "data_avito = pd.concat([\n",
    "        pd\n",
    "        .read_excel(f)\n",
    "        .dropna()\n",
    "        .drop_duplicates(['avito_id','description'])\n",
    "        .rename(columns={'page':'avito_page'})\n",
    "        .reset_index(drop=True)  \n",
    "        for f in raw_data_files\n",
    "    ]).reset_index(drop=True)\n",
    "\n",
    "data_avito = AvitoDataCleanerRealtyFlat().transform( data_avito )\n",
    "\n",
    "print(len(data_avito))"
   ]
  },
  {
   "cell_type": "code",
   "execution_count": 8,
   "id": "ce2869e1",
   "metadata": {},
   "outputs": [],
   "source": [
    "assert len(data_avito)>0"
   ]
  },
  {
   "cell_type": "code",
   "execution_count": 9,
   "id": "12170700",
   "metadata": {},
   "outputs": [
    {
     "name": "stdout",
     "output_type": "stream",
     "text": [
      "<class 'pandas.core.frame.DataFrame'>\n",
      "RangeIndex: 18459 entries, 0 to 18458\n",
      "Data columns (total 21 columns):\n",
      " #   Column         Non-Null Count  Dtype         \n",
      "---  ------         --------------  -----         \n",
      " 0   avito_id       18459 non-null  int64         \n",
      " 1   title          18459 non-null  object        \n",
      " 2   price          18459 non-null  int64         \n",
      " 3   adr            18459 non-null  object        \n",
      " 4   description    18459 non-null  object        \n",
      " 5   obj_name       18459 non-null  object        \n",
      " 6   ts             18459 non-null  datetime64[ns]\n",
      " 7   avito_page     18459 non-null  int64         \n",
      " 8   nrooms         18459 non-null  int64         \n",
      " 9   floor          18459 non-null  int64         \n",
      " 10  nfloors        18459 non-null  int64         \n",
      " 11  area           18459 non-null  float64       \n",
      " 12  is_studio      18459 non-null  bool          \n",
      " 13  is_apartment   18459 non-null  bool          \n",
      " 14  is_part        18459 non-null  bool          \n",
      " 15  is_auction     18459 non-null  bool          \n",
      " 16  is_openspace   18459 non-null  bool          \n",
      " 17  is_roof        18459 non-null  bool          \n",
      " 18  is_SNT         18459 non-null  bool          \n",
      " 19  priceM         18459 non-null  float64       \n",
      " 20  is_last_floor  18459 non-null  bool          \n",
      "dtypes: bool(8), datetime64[ns](1), float64(2), int64(6), object(4)\n",
      "memory usage: 2.0+ MB\n"
     ]
    }
   ],
   "source": [
    "data_avito.info(2)"
   ]
  },
  {
   "cell_type": "code",
   "execution_count": 10,
   "id": "a98c3001",
   "metadata": {},
   "outputs": [],
   "source": [
    "# data_avito.query('nrooms==0')\n",
    "# data_avito[ data_avito['title'].str.len()<1]"
   ]
  },
  {
   "cell_type": "markdown",
   "id": "894d9ae6",
   "metadata": {},
   "source": [
    "## собираем данные циан.ру"
   ]
  },
  {
   "cell_type": "code",
   "execution_count": 11,
   "id": "05ea79a3",
   "metadata": {},
   "outputs": [
    {
     "data": {
      "text/plain": [
       "['data/raw/flat/cian/cian_2022-09-08_14-25_raw.pkl',\n",
       " 'data/raw/flat/cian/cian_2022-09-12_13-59_raw.pkl',\n",
       " 'data/raw/flat/cian/cian_2022-09-13_13-59_raw.pkl',\n",
       " 'data/raw/flat/cian/cian_2022-09-15_10-30_raw.pkl']"
      ]
     },
     "execution_count": 11,
     "metadata": {},
     "output_type": "execute_result"
    }
   ],
   "source": [
    "import re\n",
    "from os import listdir\n",
    "\n",
    "raw_data_files = sorted([\n",
    "        cian_raw_data_path+'/'+f \n",
    "        for f in listdir(cian_raw_data_path) \n",
    "        if re.match(r'.+\\.pkl$',f)\n",
    "        #if re.match(r'.+\\.xlsx$',f)\n",
    "    \n",
    "    ])\n",
    "raw_data_files"
   ]
  },
  {
   "cell_type": "code",
   "execution_count": 12,
   "id": "bb5a87f6",
   "metadata": {},
   "outputs": [],
   "source": [
    "data_cian = pd.concat([\n",
    "        # pd.read_excel(f)\n",
    "        pd.read_pickle(f)\n",
    "         .dropna()\n",
    "         .drop_duplicates(['LinkArea','Description',])\n",
    "         .rename(columns={'page':'cian_page'})\n",
    "         .reset_index(drop=True)  \n",
    "        for f in raw_data_files\n",
    "    ]).reset_index(drop=True)"
   ]
  },
  {
   "cell_type": "code",
   "execution_count": 13,
   "id": "fe083793",
   "metadata": {},
   "outputs": [
    {
     "name": "stdout",
     "output_type": "stream",
     "text": [
      "<class 'pandas.core.frame.DataFrame'>\n",
      "RangeIndex: 6022 entries, 0 to 6021\n",
      "Data columns (total 11 columns):\n",
      " #   Column         Non-Null Count  Dtype         \n",
      "---  ------         --------------  -----         \n",
      " 0   OfferTitle     6022 non-null   object        \n",
      " 1   OfferSubtitle  6022 non-null   object        \n",
      " 2   Deadline       6022 non-null   object        \n",
      " 3   MainPrice      6022 non-null   object        \n",
      " 4   PriceInfo      6022 non-null   object        \n",
      " 5   GeoLabel       6022 non-null   object        \n",
      " 6   TimeLabel      6022 non-null   object        \n",
      " 7   LinkArea       6022 non-null   object        \n",
      " 8   Description    6022 non-null   object        \n",
      " 9   cian_page      6022 non-null   int64         \n",
      " 10  ts             6022 non-null   datetime64[ns]\n",
      "dtypes: datetime64[ns](1), int64(1), object(9)\n",
      "memory usage: 517.6+ KB\n"
     ]
    }
   ],
   "source": [
    "data_cian.info(2)"
   ]
  },
  {
   "cell_type": "code",
   "execution_count": 14,
   "id": "5fb87c58",
   "metadata": {},
   "outputs": [],
   "source": [
    "swap_title = data_cian['OfferSubtitle'].str.match(r'.*\\d+ м², \\d+/\\d+ эт.*') \n",
    "\n",
    "data_cian = pd.concat([\n",
    "        data_cian[ ~swap_title ],\n",
    "        data_cian[ swap_title ]\n",
    "            .rename(columns={'OfferTitle':'OfferSubtitle','OfferSubtitle':'OfferTitle'})\n",
    "    ]).reset_index(drop=True)\n"
   ]
  },
  {
   "cell_type": "code",
   "execution_count": 15,
   "id": "33bda6e8",
   "metadata": {},
   "outputs": [],
   "source": [
    "# data_cian"
   ]
  },
  {
   "cell_type": "code",
   "execution_count": 16,
   "id": "7a11ac2f",
   "metadata": {},
   "outputs": [
    {
     "name": "stdout",
     "output_type": "stream",
     "text": [
      "6022\n"
     ]
    }
   ],
   "source": [
    "from lib.cian import CianDataCleaner\n",
    "\n",
    "data_cian = CianDataCleaner().transform( data_cian )\n",
    "\n",
    "print(len(data_cian))"
   ]
  },
  {
   "cell_type": "code",
   "execution_count": 17,
   "id": "b1df2dba",
   "metadata": {},
   "outputs": [],
   "source": [
    "assert len(data_cian)>0"
   ]
  },
  {
   "cell_type": "code",
   "execution_count": 18,
   "id": "979243e4",
   "metadata": {},
   "outputs": [
    {
     "name": "stdout",
     "output_type": "stream",
     "text": [
      "<class 'pandas.core.frame.DataFrame'>\n",
      "RangeIndex: 6022 entries, 0 to 6021\n",
      "Data columns (total 21 columns):\n",
      " #   Column         Non-Null Count  Dtype         \n",
      "---  ------         --------------  -----         \n",
      " 0   title          6022 non-null   object        \n",
      " 1   obj_name       6022 non-null   object        \n",
      " 2   adr            6022 non-null   object        \n",
      " 3   nrooms         6022 non-null   int64         \n",
      " 4   floor          6022 non-null   int64         \n",
      " 5   nfloors        6022 non-null   int64         \n",
      " 6   area           6022 non-null   float64       \n",
      " 7   is_studio      6022 non-null   bool          \n",
      " 8   is_apartment   6022 non-null   bool          \n",
      " 9   is_part        6022 non-null   bool          \n",
      " 10  is_auction     6022 non-null   bool          \n",
      " 11  is_openspace   6022 non-null   bool          \n",
      " 12  is_roof        6022 non-null   bool          \n",
      " 13  is_SNT         6022 non-null   bool          \n",
      " 14  price          6022 non-null   int64         \n",
      " 15  priceM         6022 non-null   float64       \n",
      " 16  is_last_floor  6022 non-null   bool          \n",
      " 17  cian_url       6022 non-null   object        \n",
      " 18  description    6022 non-null   object        \n",
      " 19  cian_page      6022 non-null   int64         \n",
      " 20  ts             6022 non-null   datetime64[ns]\n",
      "dtypes: bool(8), datetime64[ns](1), float64(2), int64(5), object(5)\n",
      "memory usage: 658.8+ KB\n"
     ]
    }
   ],
   "source": [
    "data_cian.info(2)"
   ]
  },
  {
   "cell_type": "code",
   "execution_count": 19,
   "id": "5eb571e0",
   "metadata": {},
   "outputs": [],
   "source": [
    "# data_cian\n",
    "# data_cian.query('nrooms==0')\n",
    "# data_cian[ data_cian['title'].str.len()<1 ]\n",
    "# data_cian[ data_cian['obj_name'].str.len()>0 ][['title','obj_name',]] # .to_csv('tmp/cian_title.csv',sep='\\t')|"
   ]
  },
  {
   "cell_type": "markdown",
   "id": "31f9a289",
   "metadata": {},
   "source": [
    "----"
   ]
  },
  {
   "cell_type": "code",
   "execution_count": 20,
   "id": "c6e47d9a",
   "metadata": {},
   "outputs": [
    {
     "name": "stdout",
     "output_type": "stream",
     "text": [
      "24481\n"
     ]
    }
   ],
   "source": [
    "data = pd.concat([data_avito,data_cian]).reset_index(drop=True) \n",
    "print(len(data))\n",
    "assert len(data)>0"
   ]
  },
  {
   "cell_type": "markdown",
   "id": "2903ab86",
   "metadata": {},
   "source": [
    "### обновляем таблицу адресов"
   ]
  },
  {
   "cell_type": "code",
   "execution_count": null,
   "id": "a32c32a3",
   "metadata": {},
   "outputs": [],
   "source": [
    "from lib.locator import AddressTransformer\n",
    "\n",
    "data['adr'] = AddressTransformer().transform( data['adr'] )\n",
    "\n",
    "places = {\n",
    "#'bahchisaray': 'Бахчисарай',\n",
    "#      'sudak': 'Судак',\n",
    " 'sevastopol': 'Севастополь',\n",
    "}\n",
    "\n",
    "for k,v in places.items():\n",
    "    print(k,v)\n",
    "    f =  (data['place']==k) & (~data['adr'].str.match(v))\n",
    "    data.loc[f,'adr'] = v +', '+ data.loc[f,'adr']"
   ]
  },
  {
   "cell_type": "code",
   "execution_count": 21,
   "id": "60d30efe",
   "metadata": {},
   "outputs": [
    {
     "name": "stdout",
     "output_type": "stream",
     "text": [
      "[INFO    ] 2022-09-15 10:36:29 | LocationUpdater: 3616 addresses in location table\n",
      "[INFO    ] 2022-09-15 10:36:29 | LocationUpdater: 3667 addresses total\n",
      "[INFO    ] 2022-09-15 10:36:29 | LocationUpdater: 3616 addresses defined\n",
      "[INFO    ] 2022-09-15 10:36:29 | LocationUpdater: 51 addresses undefined\n"
     ]
    },
    {
     "data": {
      "application/vnd.jupyter.widget-view+json": {
       "model_id": "53a339a93f6d43d693ce44dec44505a8",
       "version_major": 2,
       "version_minor": 0
      },
      "text/plain": [
       "  0%|          | 0/51 [00:00<?, ?it/s]"
      ]
     },
     "metadata": {},
     "output_type": "display_data"
    },
    {
     "name": "stdout",
     "output_type": "stream",
     "text": [
      "[INFO    ] 2022-09-15 10:36:46 | LocationUpdater: 51 new addresses found\n"
     ]
    }
   ],
   "source": [
    "from lib.locator import LocationUpdater\n",
    "# from lib.locator import AddressTransformerSev\n",
    "from lib.locator import GeocoderYandex\n",
    "from yandex_keys import keys\n",
    "\n",
    "loc_file_path = 'data/location.pkl'# таблица адресов\n",
    "\n",
    "loc = LocationUpdater(\n",
    "        locator=GeocoderYandex(keys[0]),\n",
    "        # address_transformer=AddressTransformerSev(),\n",
    "    ).transform(\n",
    "        adr=data['adr'],\n",
    "        loc=pd.read_pickle(loc_file_path),\n",
    "        show_pbar=True,\n",
    "    )"
   ]
  },
  {
   "cell_type": "code",
   "execution_count": 22,
   "id": "7d191d0d",
   "metadata": {},
   "outputs": [],
   "source": [
    "# from lib.locator import LocationUpdater\n",
    "# from lib.locator import AddressTransformerSev\n",
    "\n",
    "# loc_file_path = 'data/location.pkl'# таблица адресов\n",
    "\n",
    "# loc = LocationUpdater(\n",
    "#         address_transformer=AddressTransformerSev(),\n",
    "#     ).transform(\n",
    "#         adr=data['adr'],\n",
    "#         loc=pd.read_pickle(loc_file_path),\n",
    "#         show_pbar=True,\n",
    "#     )"
   ]
  },
  {
   "cell_type": "code",
   "execution_count": 23,
   "id": "19741bb7",
   "metadata": {},
   "outputs": [
    {
     "data": {
      "text/html": [
       "<div>\n",
       "<style scoped>\n",
       "    .dataframe tbody tr th:only-of-type {\n",
       "        vertical-align: middle;\n",
       "    }\n",
       "\n",
       "    .dataframe tbody tr th {\n",
       "        vertical-align: top;\n",
       "    }\n",
       "\n",
       "    .dataframe thead th {\n",
       "        text-align: right;\n",
       "    }\n",
       "</style>\n",
       "<table border=\"1\" class=\"dataframe\">\n",
       "  <thead>\n",
       "    <tr style=\"text-align: right;\">\n",
       "      <th></th>\n",
       "      <th>latitude</th>\n",
       "      <th>longitude</th>\n",
       "      <th>adr</th>\n",
       "      <th>truncated</th>\n",
       "    </tr>\n",
       "  </thead>\n",
       "  <tbody>\n",
       "    <tr>\n",
       "      <th>913</th>\n",
       "      <td>44.57</td>\n",
       "      <td>33.50</td>\n",
       "      <td>улица Военных Строителей, стр. 6.2</td>\n",
       "      <td>NaN</td>\n",
       "    </tr>\n",
       "    <tr>\n",
       "      <th>2003</th>\n",
       "      <td>44.56</td>\n",
       "      <td>33.53</td>\n",
       "      <td>проспект Генерала Острякова, 244 к4</td>\n",
       "      <td>False</td>\n",
       "    </tr>\n",
       "    <tr>\n",
       "      <th>544</th>\n",
       "      <td>44.50</td>\n",
       "      <td>33.60</td>\n",
       "      <td>Балаклава, ул. Кирова, 33</td>\n",
       "      <td>NaN</td>\n",
       "    </tr>\n",
       "  </tbody>\n",
       "</table>\n",
       "</div>"
      ],
      "text/plain": [
       "      latitude  longitude                                   adr truncated\n",
       "913      44.57      33.50    улица Военных Строителей, стр. 6.2       NaN\n",
       "2003     44.56      33.53   проспект Генерала Острякова, 244 к4     False\n",
       "544      44.50      33.60             Балаклава, ул. Кирова, 33       NaN"
      ]
     },
     "execution_count": 23,
     "metadata": {},
     "output_type": "execute_result"
    }
   ],
   "source": [
    "loc.sample(3)"
   ]
  },
  {
   "cell_type": "code",
   "execution_count": 24,
   "id": "a90d2398",
   "metadata": {},
   "outputs": [],
   "source": [
    "assert len(loc)>0\n",
    "loc.to_pickle(loc_file_path)"
   ]
  },
  {
   "cell_type": "markdown",
   "id": "30dbd6a6",
   "metadata": {},
   "source": [
    "### дополняем данные геометкой"
   ]
  },
  {
   "cell_type": "code",
   "execution_count": 25,
   "id": "06470644",
   "metadata": {},
   "outputs": [
    {
     "name": "stdout",
     "output_type": "stream",
     "text": [
      "всего записей: 24481\n",
      "записей без геометки: 0\n"
     ]
    }
   ],
   "source": [
    "data = data.merge(loc[['adr','latitude','longitude',]],on=['adr'],how='left')\n",
    "\n",
    "print('всего записей:', len( data) )\n",
    "print('записей без геометки:', len( data[ data['latitude'].isnull() ] ) )"
   ]
  },
  {
   "cell_type": "code",
   "execution_count": 26,
   "id": "b3161e64",
   "metadata": {},
   "outputs": [],
   "source": [
    "assert len(data)>0\n",
    "data.to_pickle(result_file_path)"
   ]
  },
  {
   "cell_type": "code",
   "execution_count": 27,
   "id": "799e47c2",
   "metadata": {},
   "outputs": [
    {
     "name": "stdout",
     "output_type": "stream",
     "text": [
      "<class 'pandas.core.frame.DataFrame'>\n",
      "Int64Index: 24481 entries, 0 to 24480\n",
      "Data columns (total 25 columns):\n",
      " #   Column         Non-Null Count  Dtype         \n",
      "---  ------         --------------  -----         \n",
      " 0   avito_id       18459 non-null  float64       \n",
      " 1   title          24481 non-null  object        \n",
      " 2   price          24481 non-null  int64         \n",
      " 3   adr            24481 non-null  object        \n",
      " 4   description    24481 non-null  object        \n",
      " 5   obj_name       24481 non-null  object        \n",
      " 6   ts             24481 non-null  datetime64[ns]\n",
      " 7   avito_page     18459 non-null  float64       \n",
      " 8   nrooms         24481 non-null  int64         \n",
      " 9   floor          24481 non-null  int64         \n",
      " 10  nfloors        24481 non-null  int64         \n",
      " 11  area           24481 non-null  float64       \n",
      " 12  is_studio      24481 non-null  bool          \n",
      " 13  is_apartment   24481 non-null  bool          \n",
      " 14  is_part        24481 non-null  bool          \n",
      " 15  is_auction     24481 non-null  bool          \n",
      " 16  is_openspace   24481 non-null  bool          \n",
      " 17  is_roof        24481 non-null  bool          \n",
      " 18  is_SNT         24481 non-null  bool          \n",
      " 19  priceM         24481 non-null  float64       \n",
      " 20  is_last_floor  24481 non-null  bool          \n",
      " 21  cian_url       6022 non-null   object        \n",
      " 22  cian_page      6022 non-null   float64       \n",
      " 23  latitude       24481 non-null  float64       \n",
      " 24  longitude      24481 non-null  float64       \n",
      "dtypes: bool(8), datetime64[ns](1), float64(7), int64(4), object(5)\n",
      "memory usage: 3.5+ MB\n"
     ]
    }
   ],
   "source": [
    "data.info()"
   ]
  },
  {
   "cell_type": "code",
   "execution_count": 28,
   "id": "13de0b35",
   "metadata": {},
   "outputs": [],
   "source": [
    "# for f in raw_data_files:\n",
    "#     ts = dtm.strptime( re.sub(r'.*/avito_','',f), '%Y-%m-%d_%H-%M_raw.xlsx')\n",
    "#     df = pd.read_excel(f)\n",
    "#     df['ts'] = ts\n",
    "#     df.to_excel(f,index=False)\n",
    "#     print(ts)"
   ]
  },
  {
   "cell_type": "markdown",
   "id": "bbcec108",
   "metadata": {},
   "source": [
    "----"
   ]
  },
  {
   "cell_type": "code",
   "execution_count": 29,
   "id": "688f413a",
   "metadata": {},
   "outputs": [],
   "source": [
    "# from tqdm.notebook import tqdm\n",
    "# import pandas as pd\n",
    "# tqdm.pandas()"
   ]
  },
  {
   "cell_type": "code",
   "execution_count": 30,
   "id": "62a527f2",
   "metadata": {},
   "outputs": [],
   "source": [
    "# result_file_path = 'data/data_flat.pkl'\n",
    "# data = pd.read_pickle(result_file_path)"
   ]
  },
  {
   "cell_type": "code",
   "execution_count": 31,
   "id": "da77ed33",
   "metadata": {},
   "outputs": [],
   "source": [
    "# data[ data['longitude'].isnull() ][['title','adr','latitude','longitude']]"
   ]
  },
  {
   "cell_type": "code",
   "execution_count": 32,
   "id": "0aad043a",
   "metadata": {},
   "outputs": [],
   "source": [
    "# from lib.locator import LocationUpdater\n",
    "# from lib.locator import AddressTransformerSev"
   ]
  },
  {
   "cell_type": "code",
   "execution_count": 33,
   "id": "d0fd7ba6",
   "metadata": {},
   "outputs": [],
   "source": [
    "# adr = data[ data['longitude'].isnull() ].sample(10)[['adr']]\n",
    "# adr['adr_'] = AddressTransformerSev().transform(adr['adr'])\n",
    "# adr"
   ]
  },
  {
   "cell_type": "code",
   "execution_count": 34,
   "id": "92034060",
   "metadata": {},
   "outputs": [],
   "source": [
    "# from geopy.geocoders import Nominatim\n",
    "\n",
    "# user_agent='Mozilla/5.0 (Windows NT 10.0; rv:91.0) Gecko/20100101 Firefox/91.0'\n",
    "# geolocator = Nominatim(user_agent=user_agent)"
   ]
  },
  {
   "cell_type": "code",
   "execution_count": 35,
   "id": "9e618c2e",
   "metadata": {},
   "outputs": [],
   "source": [
    "# adr['adr_']"
   ]
  },
  {
   "cell_type": "code",
   "execution_count": 36,
   "id": "9ef14bcc",
   "metadata": {},
   "outputs": [],
   "source": [
    "# def coo(s,geolocator=geolocator):\n",
    "#     loc = geolocator.geocode(s)\n",
    "#     if not (loc is None):\n",
    "#         return { 'latitude':loc.latitude,'longitude':loc.longitude}\n",
    "#     return None\n",
    "    \n",
    "# adr['adr_'].progress_apply( coo)"
   ]
  },
  {
   "cell_type": "code",
   "execution_count": 37,
   "id": "5a2529c8",
   "metadata": {},
   "outputs": [],
   "source": [
    "# loc_file_path = 'data/location.pkl'# таблица адресов"
   ]
  },
  {
   "cell_type": "code",
   "execution_count": 38,
   "id": "77c1760d",
   "metadata": {},
   "outputs": [],
   "source": [
    "# loc = LocationUpdater(\n",
    "#         address_transformer=AddressTransformerSev(),\n",
    "#     ).transform(\n",
    "#         adr=adr['adr'],\n",
    "#         loc=pd.read_pickle(loc_file_path),\n",
    "#         show_pbar=True,\n",
    "#     )\n",
    "\n",
    "# loc"
   ]
  },
  {
   "cell_type": "code",
   "execution_count": 39,
   "id": "25830926",
   "metadata": {},
   "outputs": [],
   "source": [
    "# loc=pd.read_pickle(loc_file_path)\n",
    "# loc[loc['longitude'].isnull()]"
   ]
  },
  {
   "cell_type": "code",
   "execution_count": null,
   "id": "f8828c9a",
   "metadata": {},
   "outputs": [],
   "source": []
  }
 ],
 "metadata": {
  "kernelspec": {
   "display_name": "Python 3 (ipykernel)",
   "language": "python",
   "name": "python3"
  },
  "language_info": {
   "codemirror_mode": {
    "name": "ipython",
    "version": 3
   },
   "file_extension": ".py",
   "mimetype": "text/x-python",
   "name": "python",
   "nbconvert_exporter": "python",
   "pygments_lexer": "ipython3",
   "version": "3.10.6"
  },
  "toc": {
   "base_numbering": 1,
   "nav_menu": {},
   "number_sections": true,
   "sideBar": true,
   "skip_h1_title": false,
   "title_cell": "Table of Contents",
   "title_sidebar": "Contents",
   "toc_cell": false,
   "toc_position": {},
   "toc_section_display": true,
   "toc_window_display": true
  },
  "varInspector": {
   "cols": {
    "lenName": 16,
    "lenType": 16,
    "lenVar": 40
   },
   "kernels_config": {
    "python": {
     "delete_cmd_postfix": "",
     "delete_cmd_prefix": "del ",
     "library": "var_list.py",
     "varRefreshCmd": "print(var_dic_list())"
    },
    "r": {
     "delete_cmd_postfix": ") ",
     "delete_cmd_prefix": "rm(",
     "library": "var_list.r",
     "varRefreshCmd": "cat(var_dic_list()) "
    }
   },
   "types_to_exclude": [
    "module",
    "function",
    "builtin_function_or_method",
    "instance",
    "_Feature"
   ],
   "window_display": false
  }
 },
 "nbformat": 4,
 "nbformat_minor": 5
}
