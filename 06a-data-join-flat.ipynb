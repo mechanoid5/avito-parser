{
 "cells": [
  {
   "cell_type": "markdown",
   "id": "7bec28d7",
   "metadata": {},
   "source": [
    "__собираем предложения по квартирам__\n",
    "\n",
    "_Evgeny S. Borisov <parser@mechanoid.su>_"
   ]
  },
  {
   "cell_type": "code",
   "execution_count": 1,
   "id": "52c5999f",
   "metadata": {},
   "outputs": [],
   "source": [
    "# !pacman -S firefox firefox-i18n-r  geckodriver\n",
    "# !pip install seleniuam"
   ]
  },
  {
   "cell_type": "code",
   "execution_count": 2,
   "id": "bcea4d8b",
   "metadata": {
    "ExecuteTime": {
     "end_time": "2022-08-26T14:19:06.118492Z",
     "start_time": "2022-08-26T14:13:37.888398Z"
    }
   },
   "outputs": [],
   "source": [
    "# import re\n",
    "import sys\n",
    "import logging\n",
    "from datetime import datetime as dtm\n",
    "from tqdm.notebook import tqdm\n",
    "import pandas as pd"
   ]
  },
  {
   "cell_type": "code",
   "execution_count": 3,
   "id": "caabc8c7",
   "metadata": {
    "ExecuteTime": {
     "end_time": "2022-08-26T14:19:06.118492Z",
     "start_time": "2022-08-26T14:13:37.888398Z"
    }
   },
   "outputs": [],
   "source": [
    "pd.set_option('display.max_colwidth', None)\n",
    "pd.set_option('display.float_format', '{:.2f}'.format)\n",
    "tqdm.pandas()\n",
    "\n",
    "logging.basicConfig(\n",
    "        format=u'[%(levelname)-8s] %(asctime)s | %(message)s',\n",
    "        datefmt='%Y-%m-%d %H:%M:%S',\n",
    "        level=logging.INFO,\n",
    "        # level=logging.DEBUG,\n",
    "        stream=sys.stdout,\n",
    "    )"
   ]
  },
  {
   "cell_type": "markdown",
   "id": "db3fe2be",
   "metadata": {},
   "source": [
    "---"
   ]
  },
  {
   "cell_type": "code",
   "execution_count": 4,
   "id": "d437eab9",
   "metadata": {},
   "outputs": [],
   "source": [
    "# каталог с файлами объявлений\n",
    "avito_raw_data_path = 'data/raw/flat/avito' \n",
    "cian_raw_data_path = 'data/raw/flat/cian'\n",
    "\n",
    "result_file_path = 'data/data_flat.pkl'"
   ]
  },
  {
   "cell_type": "code",
   "execution_count": 5,
   "id": "31463a1e",
   "metadata": {},
   "outputs": [],
   "source": [
    "# ts = dtm.now().strftime('%Y-%m-%d_%H-%M')\n",
    "# ts"
   ]
  },
  {
   "cell_type": "markdown",
   "id": "98f6384f",
   "metadata": {},
   "source": [
    "## собираем данные авито.ру"
   ]
  },
  {
   "cell_type": "code",
   "execution_count": 6,
   "id": "2673ef1f",
   "metadata": {},
   "outputs": [
    {
     "data": {
      "text/plain": [
       "['data/raw/flat/avito/avito_2022-08-26_17-29_raw.xlsx',\n",
       " 'data/raw/flat/avito/avito_2022-08-29_13-16_raw.xlsx',\n",
       " 'data/raw/flat/avito/avito_2022-08-31_17-42_raw.xlsx',\n",
       " 'data/raw/flat/avito/avito_2022-09-01_14-07_raw.xlsx',\n",
       " 'data/raw/flat/avito/avito_2022-09-02_13-04_raw.xlsx',\n",
       " 'data/raw/flat/avito/avito_2022-09-05_14-02_raw.xlsx',\n",
       " 'data/raw/flat/avito/avito_2022-09-06_13-09_raw.xlsx',\n",
       " 'data/raw/flat/avito/avito_2022-09-07_12-39_raw.xlsx',\n",
       " 'data/raw/flat/avito/avito_2022-09-08_13-36_raw.xlsx',\n",
       " 'data/raw/flat/avito/avito_2022-09-12_13-44_raw.xlsx',\n",
       " 'data/raw/flat/avito/avito_2022-09-13_13-55_raw.xlsx',\n",
       " 'data/raw/flat/avito/avito_2022-09-15_10-27_raw.xlsx',\n",
       " 'data/raw/flat/avito/avito_2022-09-16_15-07_raw.xlsx',\n",
       " 'data/raw/flat/avito/avito_2022-09-19_12-36_raw.xlsx',\n",
       " 'data/raw/flat/avito/avito_2022-09-22_09-48_raw.xlsx',\n",
       " 'data/raw/flat/avito/avito_2022-09-26_11-20_raw.xlsx',\n",
       " 'data/raw/flat/avito/avito_2022-10-08_20-34_raw.xlsx',\n",
       " 'data/raw/flat/avito/avito_2022-10-14_15-48_raw.xlsx',\n",
       " 'data/raw/flat/avito/avito_2022-11-01_13-51_raw.xlsx',\n",
       " 'data/raw/flat/avito/avito_2022-11-04_17-11_raw.xlsx',\n",
       " 'data/raw/flat/avito/avito_2022-11-07_10-43_raw.xlsx',\n",
       " 'data/raw/flat/avito/avito_2022-11-15_13-12_raw.xlsx',\n",
       " 'data/raw/flat/avito/avito_2022-11-28_13-20_raw.xlsx',\n",
       " 'data/raw/flat/avito/avito_2023-01-10_11-25_raw.xlsx']"
      ]
     },
     "execution_count": 6,
     "metadata": {},
     "output_type": "execute_result"
    }
   ],
   "source": [
    "import re\n",
    "from os import listdir\n",
    "\n",
    "raw_data_files = sorted([\n",
    "        avito_raw_data_path+'/'+f \n",
    "        for f in listdir(avito_raw_data_path) \n",
    "        if re.match(r'.+\\.xlsx$',f)\n",
    "    ])\n",
    "raw_data_files"
   ]
  },
  {
   "cell_type": "code",
   "execution_count": 7,
   "id": "819a9675",
   "metadata": {},
   "outputs": [
    {
     "name": "stdout",
     "output_type": "stream",
     "text": [
      "24230\n"
     ]
    }
   ],
   "source": [
    "from lib.avito import AvitoDataCleanerRealtyFlat\n",
    "\n",
    "data_avito = pd.concat([\n",
    "        pd.read_excel(f)\n",
    "        .dropna()\n",
    "        .drop_duplicates(['avito_id','description'])\n",
    "        .rename(columns={'page':'avito_page'})\n",
    "        .reset_index(drop=True)  \n",
    "        for f in raw_data_files\n",
    "    ]).reset_index(drop=True)\n",
    "\n",
    "data_avito = AvitoDataCleanerRealtyFlat().transform( data_avito )\n",
    "\n",
    "print(len(data_avito))"
   ]
  },
  {
   "cell_type": "code",
   "execution_count": 8,
   "id": "ce2869e1",
   "metadata": {},
   "outputs": [],
   "source": [
    "assert len(data_avito)>0"
   ]
  },
  {
   "cell_type": "code",
   "execution_count": 9,
   "id": "12170700",
   "metadata": {},
   "outputs": [
    {
     "name": "stdout",
     "output_type": "stream",
     "text": [
      "<class 'pandas.core.frame.DataFrame'>\n",
      "RangeIndex: 24230 entries, 0 to 24229\n",
      "Data columns (total 22 columns):\n",
      " #   Column         Non-Null Count  Dtype         \n",
      "---  ------         --------------  -----         \n",
      " 0   avito_id       24230 non-null  int64         \n",
      " 1   title          24230 non-null  object        \n",
      " 2   price          24230 non-null  int64         \n",
      " 3   adr            24230 non-null  object        \n",
      " 4   description    24230 non-null  object        \n",
      " 5   obj_name       24230 non-null  object        \n",
      " 6   ts             24230 non-null  datetime64[ns]\n",
      " 7   avito_page     24230 non-null  int64         \n",
      " 8   place          24230 non-null  object        \n",
      " 9   nrooms         24230 non-null  int64         \n",
      " 10  floor          24230 non-null  int64         \n",
      " 11  nfloors        24230 non-null  int64         \n",
      " 12  area           24230 non-null  float64       \n",
      " 13  is_studio      24230 non-null  bool          \n",
      " 14  is_apartment   24230 non-null  bool          \n",
      " 15  is_part        24230 non-null  bool          \n",
      " 16  is_auction     24230 non-null  bool          \n",
      " 17  is_openspace   24230 non-null  bool          \n",
      " 18  is_roof        24230 non-null  bool          \n",
      " 19  is_SNT         24230 non-null  bool          \n",
      " 20  priceM         24230 non-null  float64       \n",
      " 21  is_last_floor  24230 non-null  bool          \n",
      "dtypes: bool(8), datetime64[ns](1), float64(2), int64(6), object(5)\n",
      "memory usage: 2.8+ MB\n"
     ]
    }
   ],
   "source": [
    "data_avito.info()"
   ]
  },
  {
   "cell_type": "code",
   "execution_count": 10,
   "id": "a79ce37b",
   "metadata": {},
   "outputs": [
    {
     "data": {
      "text/plain": [
       "avito_id         False\n",
       "title            False\n",
       "price            False\n",
       "adr              False\n",
       "description      False\n",
       "obj_name         False\n",
       "ts               False\n",
       "avito_page       False\n",
       "place            False\n",
       "nrooms           False\n",
       "floor            False\n",
       "nfloors          False\n",
       "area             False\n",
       "is_studio        False\n",
       "is_apartment     False\n",
       "is_part          False\n",
       "is_auction       False\n",
       "is_openspace     False\n",
       "is_roof          False\n",
       "is_SNT           False\n",
       "priceM           False\n",
       "is_last_floor    False\n",
       "dtype: bool"
      ]
     },
     "execution_count": 10,
     "metadata": {},
     "output_type": "execute_result"
    }
   ],
   "source": [
    "data_avito.isnull().any()"
   ]
  },
  {
   "cell_type": "code",
   "execution_count": 11,
   "id": "a98c3001",
   "metadata": {},
   "outputs": [],
   "source": [
    "# data_avito.query('nrooms==0')\n",
    "# data_avito[ data_avito['title'].str.len()<1]"
   ]
  },
  {
   "cell_type": "markdown",
   "id": "894d9ae6",
   "metadata": {},
   "source": [
    "## собираем данные циан.ру"
   ]
  },
  {
   "cell_type": "code",
   "execution_count": 12,
   "id": "05ea79a3",
   "metadata": {},
   "outputs": [
    {
     "data": {
      "text/plain": [
       "['data/raw/flat/cian/cian_2022-09-08_14-25_raw.pkl',\n",
       " 'data/raw/flat/cian/cian_2022-09-12_13-59_raw.pkl',\n",
       " 'data/raw/flat/cian/cian_2022-09-13_13-59_raw.pkl',\n",
       " 'data/raw/flat/cian/cian_2022-09-15_10-30_raw.pkl',\n",
       " 'data/raw/flat/cian/cian_2022-09-16_15-11_raw.pkl',\n",
       " 'data/raw/flat/cian/cian_2022-09-19_12-40_raw.pkl',\n",
       " 'data/raw/flat/cian/cian_2022-09-22_09-53_raw.pkl',\n",
       " 'data/raw/flat/cian/cian_2022-09-26_11-23_raw.pkl',\n",
       " 'data/raw/flat/cian/cian_2022-10-08_20-39_raw.pkl',\n",
       " 'data/raw/flat/cian/cian_2022-10-14_15-53_raw.pkl',\n",
       " 'data/raw/flat/cian/cian_2022-11-01_13-57_raw.pkl',\n",
       " 'data/raw/flat/cian/cian_2022-11-04_17-14_raw.pkl',\n",
       " 'data/raw/flat/cian/cian_2022-11-07_10-47_raw.pkl',\n",
       " 'data/raw/flat/cian/cian_2022-11-15_13-16_raw.pkl',\n",
       " 'data/raw/flat/cian/cian_2022-11-28_15-30_raw.pkl',\n",
       " 'data/raw/flat/cian/cian_2023-01-10_11-25_raw.pkl']"
      ]
     },
     "execution_count": 12,
     "metadata": {},
     "output_type": "execute_result"
    }
   ],
   "source": [
    "import re\n",
    "from os import listdir\n",
    "\n",
    "raw_data_files = sorted([\n",
    "        cian_raw_data_path+'/'+f \n",
    "        for f in listdir(cian_raw_data_path) \n",
    "        if re.match(r'.+\\.pkl$',f)\n",
    "        #if re.match(r'.+\\.xlsx$',f)\n",
    "    \n",
    "    ])\n",
    "raw_data_files"
   ]
  },
  {
   "cell_type": "code",
   "execution_count": 13,
   "id": "bb5a87f6",
   "metadata": {},
   "outputs": [],
   "source": [
    "data_cian = pd.concat([\n",
    "        pd.read_pickle(f)\n",
    "         .dropna()\n",
    "         .drop_duplicates(['LinkArea','Description',])\n",
    "         .rename(columns={'page':'cian_page'})\n",
    "         .reset_index(drop=True)  \n",
    "        for f in raw_data_files\n",
    "    ]).reset_index(drop=True)"
   ]
  },
  {
   "cell_type": "code",
   "execution_count": 14,
   "id": "fe083793",
   "metadata": {},
   "outputs": [
    {
     "name": "stdout",
     "output_type": "stream",
     "text": [
      "<class 'pandas.core.frame.DataFrame'>\n",
      "RangeIndex: 22644 entries, 0 to 22643\n",
      "Data columns (total 12 columns):\n",
      " #   Column         Non-Null Count  Dtype         \n",
      "---  ------         --------------  -----         \n",
      " 0   OfferTitle     22644 non-null  object        \n",
      " 1   OfferSubtitle  22644 non-null  object        \n",
      " 2   Deadline       22644 non-null  object        \n",
      " 3   MainPrice      22644 non-null  object        \n",
      " 4   PriceInfo      22644 non-null  object        \n",
      " 5   GeoLabel       22644 non-null  object        \n",
      " 6   TimeLabel      22644 non-null  object        \n",
      " 7   LinkArea       22644 non-null  object        \n",
      " 8   Description    22644 non-null  object        \n",
      " 9   cian_page      22644 non-null  int64         \n",
      " 10  ts             22644 non-null  datetime64[ns]\n",
      " 11  place          22644 non-null  object        \n",
      "dtypes: datetime64[ns](1), int64(1), object(10)\n",
      "memory usage: 2.1+ MB\n"
     ]
    }
   ],
   "source": [
    "data_cian.info()"
   ]
  },
  {
   "cell_type": "code",
   "execution_count": 15,
   "id": "c7ecc2ce",
   "metadata": {},
   "outputs": [
    {
     "data": {
      "text/plain": [
       "OfferTitle       False\n",
       "OfferSubtitle    False\n",
       "Deadline         False\n",
       "MainPrice        False\n",
       "PriceInfo        False\n",
       "GeoLabel         False\n",
       "TimeLabel        False\n",
       "LinkArea         False\n",
       "Description      False\n",
       "cian_page        False\n",
       "ts               False\n",
       "place            False\n",
       "dtype: bool"
      ]
     },
     "execution_count": 15,
     "metadata": {},
     "output_type": "execute_result"
    }
   ],
   "source": [
    "data_cian.isnull().any()"
   ]
  },
  {
   "cell_type": "code",
   "execution_count": 16,
   "id": "5fb87c58",
   "metadata": {},
   "outputs": [],
   "source": [
    "swap_title = data_cian['OfferSubtitle'].str.match(r'.*\\d+ м², \\d+/\\d+ эт.*') \n",
    "\n",
    "data_cian = pd.concat([\n",
    "        data_cian[ ~swap_title ],\n",
    "        data_cian[ swap_title ]\n",
    "            .rename(columns={'OfferTitle':'OfferSubtitle','OfferSubtitle':'OfferTitle'})\n",
    "    ]).reset_index(drop=True)\n"
   ]
  },
  {
   "cell_type": "code",
   "execution_count": 17,
   "id": "33bda6e8",
   "metadata": {},
   "outputs": [],
   "source": [
    "# data_cian"
   ]
  },
  {
   "cell_type": "code",
   "execution_count": 18,
   "id": "7a11ac2f",
   "metadata": {},
   "outputs": [
    {
     "name": "stdout",
     "output_type": "stream",
     "text": [
      "22644\n"
     ]
    }
   ],
   "source": [
    "from lib.cian import CianDataCleaner\n",
    "\n",
    "data_cian = CianDataCleaner().transform( data_cian )\n",
    "\n",
    "print(len(data_cian))"
   ]
  },
  {
   "cell_type": "code",
   "execution_count": 19,
   "id": "b1df2dba",
   "metadata": {},
   "outputs": [],
   "source": [
    "assert len(data_cian)>0"
   ]
  },
  {
   "cell_type": "code",
   "execution_count": 20,
   "id": "979243e4",
   "metadata": {},
   "outputs": [
    {
     "name": "stdout",
     "output_type": "stream",
     "text": [
      "<class 'pandas.core.frame.DataFrame'>\n",
      "RangeIndex: 22644 entries, 0 to 22643\n",
      "Data columns (total 22 columns):\n",
      " #   Column         Non-Null Count  Dtype         \n",
      "---  ------         --------------  -----         \n",
      " 0   title          22644 non-null  object        \n",
      " 1   obj_name       22644 non-null  object        \n",
      " 2   adr            22644 non-null  object        \n",
      " 3   nrooms         22644 non-null  int64         \n",
      " 4   floor          22644 non-null  int64         \n",
      " 5   nfloors        22644 non-null  int64         \n",
      " 6   area           22644 non-null  float64       \n",
      " 7   is_studio      22644 non-null  bool          \n",
      " 8   is_apartment   22644 non-null  bool          \n",
      " 9   is_part        22644 non-null  bool          \n",
      " 10  is_auction     22644 non-null  bool          \n",
      " 11  is_openspace   22644 non-null  bool          \n",
      " 12  is_roof        22644 non-null  bool          \n",
      " 13  is_SNT         22644 non-null  bool          \n",
      " 14  price          22644 non-null  int64         \n",
      " 15  priceM         22644 non-null  float64       \n",
      " 16  is_last_floor  22644 non-null  bool          \n",
      " 17  cian_url       22644 non-null  object        \n",
      " 18  description    22644 non-null  object        \n",
      " 19  cian_page      22644 non-null  int64         \n",
      " 20  ts             22644 non-null  datetime64[ns]\n",
      " 21  place          22644 non-null  object        \n",
      "dtypes: bool(8), datetime64[ns](1), float64(2), int64(5), object(6)\n",
      "memory usage: 2.6+ MB\n"
     ]
    }
   ],
   "source": [
    "data_cian.info()"
   ]
  },
  {
   "cell_type": "code",
   "execution_count": 21,
   "id": "8ba603a9",
   "metadata": {},
   "outputs": [
    {
     "data": {
      "text/plain": [
       "title            False\n",
       "obj_name         False\n",
       "adr              False\n",
       "nrooms           False\n",
       "floor            False\n",
       "nfloors          False\n",
       "area             False\n",
       "is_studio        False\n",
       "is_apartment     False\n",
       "is_part          False\n",
       "is_auction       False\n",
       "is_openspace     False\n",
       "is_roof          False\n",
       "is_SNT           False\n",
       "price            False\n",
       "priceM           False\n",
       "is_last_floor    False\n",
       "cian_url         False\n",
       "description      False\n",
       "cian_page        False\n",
       "ts               False\n",
       "place            False\n",
       "dtype: bool"
      ]
     },
     "execution_count": 21,
     "metadata": {},
     "output_type": "execute_result"
    }
   ],
   "source": [
    "data_cian.isnull().any()"
   ]
  },
  {
   "cell_type": "code",
   "execution_count": 22,
   "id": "5eb571e0",
   "metadata": {},
   "outputs": [],
   "source": [
    "# data_cian\n",
    "# data_cian.query('nrooms==0')\n",
    "# data_cian[ data_cian['title'].str.len()<1 ]\n",
    "# data_cian[ data_cian['obj_name'].str.len()>0 ][['title','obj_name',]] # .to_csv('tmp/cian_title.csv',sep='\\t')|"
   ]
  },
  {
   "cell_type": "markdown",
   "id": "31f9a289",
   "metadata": {},
   "source": [
    "----"
   ]
  },
  {
   "cell_type": "code",
   "execution_count": 23,
   "id": "6cca7caf",
   "metadata": {},
   "outputs": [],
   "source": [
    "data_avito['url'] = 'https://avito.ru/' + data_avito['avito_id'].astype(int).astype(str)\n",
    "data_avito = data_avito.drop(columns=['avito_id'])\n",
    "data_cian = data_cian.rename(columns={'cian_url':'url'})"
   ]
  },
  {
   "cell_type": "code",
   "execution_count": 24,
   "id": "c6e47d9a",
   "metadata": {},
   "outputs": [
    {
     "name": "stdout",
     "output_type": "stream",
     "text": [
      "46874\n"
     ]
    }
   ],
   "source": [
    "data = pd.concat([data_avito,data_cian]).reset_index(drop=True) \n",
    "print(len(data))\n",
    "assert len(data)>0"
   ]
  },
  {
   "cell_type": "code",
   "execution_count": 25,
   "id": "24f3c19b",
   "metadata": {},
   "outputs": [
    {
     "data": {
      "text/html": [
       "<div>\n",
       "<style scoped>\n",
       "    .dataframe tbody tr th:only-of-type {\n",
       "        vertical-align: middle;\n",
       "    }\n",
       "\n",
       "    .dataframe tbody tr th {\n",
       "        vertical-align: top;\n",
       "    }\n",
       "\n",
       "    .dataframe thead th {\n",
       "        text-align: right;\n",
       "    }\n",
       "</style>\n",
       "<table border=\"1\" class=\"dataframe\">\n",
       "  <thead>\n",
       "    <tr style=\"text-align: right;\">\n",
       "      <th></th>\n",
       "      <th>title</th>\n",
       "      <th>price</th>\n",
       "      <th>adr</th>\n",
       "      <th>description</th>\n",
       "      <th>obj_name</th>\n",
       "      <th>ts</th>\n",
       "      <th>avito_page</th>\n",
       "      <th>place</th>\n",
       "      <th>nrooms</th>\n",
       "      <th>floor</th>\n",
       "      <th>...</th>\n",
       "      <th>is_apartment</th>\n",
       "      <th>is_part</th>\n",
       "      <th>is_auction</th>\n",
       "      <th>is_openspace</th>\n",
       "      <th>is_roof</th>\n",
       "      <th>is_SNT</th>\n",
       "      <th>priceM</th>\n",
       "      <th>is_last_floor</th>\n",
       "      <th>url</th>\n",
       "      <th>cian_page</th>\n",
       "    </tr>\n",
       "  </thead>\n",
       "  <tbody>\n",
       "    <tr>\n",
       "      <th>24989</th>\n",
       "      <td>2-комн. кв., 40,3 м², 3/5 этаж</td>\n",
       "      <td>6200000</td>\n",
       "      <td>Севастополь, район Нахимовский, микрорайон Бартеньевка, улица Богданова, 17</td>\n",
       "      <td>Предлагаем Вашему вниманию двухкомнатную квартиру по адресу: г. Севастополь, ул. Богданова, д. 17. \\nОбщая площадь квартиры 40,3 м2. Квартира очень теплая, сухая, расположена на 3-м этаже 5 этажного дома. Окна выходят на тихую сторону дома.\\n\\nВодопроводные и канализационные трубы заменены на металлопластиковые, установлена современная газовая колонка. \\nВ комнате и кухне установлены оконные стеклопакеты, балкон застеклен, рамы деревянные, в коридоре качественная входная дверь.\\n\\nДом расположен в одном из лучших мест данного района города. В 2-х минутах ходьбы продуктовый рынок Богдановский, супермаркет, аптеки, множество магазинов, салонов и кафе. В 10-15-ти минутах ходьбы две образовательные школы, горбольница 4 и еще несколько детских садов, а также новый современный парк \"Учкуевка\" и песочный пляж с множеством мест отдыха на любой вкус и бюджет. \\nВечерами, Вы можете прогуляться по парку прям до берега моря, наслаждаясь закатом солнца и морским бризом, а затем посидеть в уютном кафе. \\n\\nДанная квартира подходит как для постоянного проживания, так и для инвестирования средств, с целью получения пассивного дохода от сдачи в аренду. Местоположение пользуется особым спросом!!!\\n\\nРассмотрим все виды расчета.\\nОбращайтесь, организуем для вас показ!\\nПоможем одобрить и оформить ипотеку на самых выгодных условиях в Севастополе, в том числе в Сбербанке. Сопроводим сделку вплоть до получения Вами права собственности, гарантируя её безопасность.\\nЗвоните!!! . Номер в базе: 8056273.</td>\n",
       "      <td></td>\n",
       "      <td>2022-09-08 14:25:06.437355</td>\n",
       "      <td>NaN</td>\n",
       "      <td>sevastopol</td>\n",
       "      <td>2</td>\n",
       "      <td>3</td>\n",
       "      <td>...</td>\n",
       "      <td>False</td>\n",
       "      <td>False</td>\n",
       "      <td>False</td>\n",
       "      <td>False</td>\n",
       "      <td>False</td>\n",
       "      <td>False</td>\n",
       "      <td>6.20</td>\n",
       "      <td>False</td>\n",
       "      <td>https://sevastopol.cian.ru/sale/flat/276247972/</td>\n",
       "      <td>30.00</td>\n",
       "    </tr>\n",
       "  </tbody>\n",
       "</table>\n",
       "<p>1 rows × 23 columns</p>\n",
       "</div>"
      ],
      "text/plain": [
       "                                title    price  \\\n",
       "24989  2-комн. кв., 40,3 м², 3/5 этаж  6200000   \n",
       "\n",
       "                                                                               adr  \\\n",
       "24989  Севастополь, район Нахимовский, микрорайон Бартеньевка, улица Богданова, 17   \n",
       "\n",
       "                                                                                                                                                                                                                                                                                                                                                                                                                                                                                                                                                                                                                                                                                                                                                                                                                                                                                                                                                                                                                                                                                                                                                                                                                                                                                                                                                                                                                                                                                                                                                          description  \\\n",
       "24989  Предлагаем Вашему вниманию двухкомнатную квартиру по адресу: г. Севастополь, ул. Богданова, д. 17. \\nОбщая площадь квартиры 40,3 м2. Квартира очень теплая, сухая, расположена на 3-м этаже 5 этажного дома. Окна выходят на тихую сторону дома.\\n\\nВодопроводные и канализационные трубы заменены на металлопластиковые, установлена современная газовая колонка. \\nВ комнате и кухне установлены оконные стеклопакеты, балкон застеклен, рамы деревянные, в коридоре качественная входная дверь.\\n\\nДом расположен в одном из лучших мест данного района города. В 2-х минутах ходьбы продуктовый рынок Богдановский, супермаркет, аптеки, множество магазинов, салонов и кафе. В 10-15-ти минутах ходьбы две образовательные школы, горбольница 4 и еще несколько детских садов, а также новый современный парк \"Учкуевка\" и песочный пляж с множеством мест отдыха на любой вкус и бюджет. \\nВечерами, Вы можете прогуляться по парку прям до берега моря, наслаждаясь закатом солнца и морским бризом, а затем посидеть в уютном кафе. \\n\\nДанная квартира подходит как для постоянного проживания, так и для инвестирования средств, с целью получения пассивного дохода от сдачи в аренду. Местоположение пользуется особым спросом!!!\\n\\nРассмотрим все виды расчета.\\nОбращайтесь, организуем для вас показ!\\nПоможем одобрить и оформить ипотеку на самых выгодных условиях в Севастополе, в том числе в Сбербанке. Сопроводим сделку вплоть до получения Вами права собственности, гарантируя её безопасность.\\nЗвоните!!! . Номер в базе: 8056273.   \n",
       "\n",
       "      obj_name                         ts  avito_page       place  nrooms  \\\n",
       "24989          2022-09-08 14:25:06.437355         NaN  sevastopol       2   \n",
       "\n",
       "       floor  ...  is_apartment  is_part  is_auction  is_openspace  is_roof  \\\n",
       "24989      3  ...         False    False       False         False    False   \n",
       "\n",
       "       is_SNT  priceM  is_last_floor  \\\n",
       "24989   False    6.20          False   \n",
       "\n",
       "                                                   url  cian_page  \n",
       "24989  https://sevastopol.cian.ru/sale/flat/276247972/      30.00  \n",
       "\n",
       "[1 rows x 23 columns]"
      ]
     },
     "execution_count": 25,
     "metadata": {},
     "output_type": "execute_result"
    }
   ],
   "source": [
    "data.sample()"
   ]
  },
  {
   "cell_type": "markdown",
   "id": "2903ab86",
   "metadata": {},
   "source": [
    "## обновляем таблицу адресов"
   ]
  },
  {
   "cell_type": "code",
   "execution_count": 26,
   "id": "328c2475",
   "metadata": {},
   "outputs": [],
   "source": [
    "# data_ = data.sample(15).reset_index(drop=True)\n",
    "# data_[['adr']]"
   ]
  },
  {
   "cell_type": "code",
   "execution_count": 27,
   "id": "119c3d8a",
   "metadata": {},
   "outputs": [],
   "source": [
    "places = { \n",
    "# поле 'place' и название города\n",
    "'bahchisaray': 'Бахчисарай,',\n",
    "      'sudak': 'Судак,',\n",
    "  'sevastopol': 'Севастополь,',\n",
    "}\n",
    "\n",
    "def norm_place(d,places=places):\n",
    "    if not d['place'] in places: return d['adr_']\n",
    "    p = places[ d['place'] ]\n",
    "    return d['adr_'] if d['adr_'].find(p)>-1 else p+d['adr_']"
   ]
  },
  {
   "cell_type": "code",
   "execution_count": 28,
   "id": "34e94334",
   "metadata": {},
   "outputs": [
    {
     "data": {
      "application/vnd.jupyter.widget-view+json": {
       "model_id": "bd085ccb09724f35a5a8c91699ddc2b1",
       "version_major": 2,
       "version_minor": 0
      },
      "text/plain": [
       "  0%|          | 0/46874 [00:00<?, ?it/s]"
      ]
     },
     "metadata": {},
     "output_type": "display_data"
    },
    {
     "data": {
      "application/vnd.jupyter.widget-view+json": {
       "model_id": "6e96a09505ac448db71ef188b9afbb5c",
       "version_major": 2,
       "version_minor": 0
      },
      "text/plain": [
       "  0%|          | 0/46874 [00:00<?, ?it/s]"
      ]
     },
     "metadata": {},
     "output_type": "display_data"
    }
   ],
   "source": [
    "from lib.locator import AddressTransformer\n",
    "\n",
    "atr = AddressTransformer()\n",
    "data['adr_'] = data['adr'].progress_apply(atr.transform)\n",
    "data['adr_'] = data[['adr_','place']].progress_apply(norm_place,axis=1)\n",
    "data = data.rename(columns={'adr':'adr_orig','adr_':'adr'})"
   ]
  },
  {
   "cell_type": "code",
   "execution_count": 29,
   "id": "6091bb5b",
   "metadata": {},
   "outputs": [
    {
     "data": {
      "text/html": [
       "<div>\n",
       "<style scoped>\n",
       "    .dataframe tbody tr th:only-of-type {\n",
       "        vertical-align: middle;\n",
       "    }\n",
       "\n",
       "    .dataframe tbody tr th {\n",
       "        vertical-align: top;\n",
       "    }\n",
       "\n",
       "    .dataframe thead th {\n",
       "        text-align: right;\n",
       "    }\n",
       "</style>\n",
       "<table border=\"1\" class=\"dataframe\">\n",
       "  <thead>\n",
       "    <tr style=\"text-align: right;\">\n",
       "      <th></th>\n",
       "      <th>adr_orig</th>\n",
       "      <th>adr</th>\n",
       "    </tr>\n",
       "  </thead>\n",
       "  <tbody>\n",
       "    <tr>\n",
       "      <th>34871</th>\n",
       "      <td>Севастополь, район Ленинский, микрорайон Острякова, проспект Генерала Острякова, 250</td>\n",
       "      <td>Севастополь, район Ленинский, Острякова, проспект Генерала Острякова, 250</td>\n",
       "    </tr>\n",
       "    <tr>\n",
       "      <th>44681</th>\n",
       "      <td>Севастополь, район Ленинский, Доброгород ЖК</td>\n",
       "      <td>Севастополь, район Ленинский, Доброгород ЖК</td>\n",
       "    </tr>\n",
       "    <tr>\n",
       "      <th>13777</th>\n",
       "      <td>Парковая улица , 7</td>\n",
       "      <td>Севастополь,Парковая улица , 7</td>\n",
       "    </tr>\n",
       "    <tr>\n",
       "      <th>28941</th>\n",
       "      <td>Севастополь, район Гагаринский, микрорайон Летчики</td>\n",
       "      <td>Севастополь, район Гагаринский, Летчики</td>\n",
       "    </tr>\n",
       "    <tr>\n",
       "      <th>39342</th>\n",
       "      <td>Севастополь, район Нахимовский, микрорайон Радиогорка, улица Симонок, 62</td>\n",
       "      <td>Севастополь, район Нахимовский, Радиогорка, улица Симонок, 62</td>\n",
       "    </tr>\n",
       "    <tr>\n",
       "      <th>44042</th>\n",
       "      <td>Севастополь, район Ленинский, улица Гоголя, 26А</td>\n",
       "      <td>Севастополь, район Ленинский, улица Гоголя, 26А</td>\n",
       "    </tr>\n",
       "    <tr>\n",
       "      <th>37851</th>\n",
       "      <td>Севастополь, район Ленинский, улица Кулакова, 17</td>\n",
       "      <td>Севастополь, район Ленинский, улица Кулакова, 17</td>\n",
       "    </tr>\n",
       "    <tr>\n",
       "      <th>13657</th>\n",
       "      <td>улица Павла Корчагина, стр. 5</td>\n",
       "      <td>Севастополь, улица Павла Корчагина, стр. 5</td>\n",
       "    </tr>\n",
       "    <tr>\n",
       "      <th>7760</th>\n",
       "      <td>аллея Защитников 35-й Батареи, д. 11а</td>\n",
       "      <td>Севастополь,аллея Защитников 35-й Батареи, д. 11а</td>\n",
       "    </tr>\n",
       "    <tr>\n",
       "      <th>24462</th>\n",
       "      <td>Севастополь, район Ленинский, микрорайон Острякова, улица Маршала Геловани, 14</td>\n",
       "      <td>Севастополь, район Ленинский, Острякова, улица Маршала Геловани, 14</td>\n",
       "    </tr>\n",
       "  </tbody>\n",
       "</table>\n",
       "</div>"
      ],
      "text/plain": [
       "                                                                                   adr_orig  \\\n",
       "34871  Севастополь, район Ленинский, микрорайон Острякова, проспект Генерала Острякова, 250   \n",
       "44681                                           Севастополь, район Ленинский, Доброгород ЖК   \n",
       "13777                                                                    Парковая улица , 7   \n",
       "28941                                    Севастополь, район Гагаринский, микрорайон Летчики   \n",
       "39342              Севастополь, район Нахимовский, микрорайон Радиогорка, улица Симонок, 62   \n",
       "44042                                       Севастополь, район Ленинский, улица Гоголя, 26А   \n",
       "37851                                      Севастополь, район Ленинский, улица Кулакова, 17   \n",
       "13657                                                         улица Павла Корчагина, стр. 5   \n",
       "7760                                                  аллея Защитников 35-й Батареи, д. 11а   \n",
       "24462        Севастополь, район Ленинский, микрорайон Острякова, улица Маршала Геловани, 14   \n",
       "\n",
       "                                                                             adr  \n",
       "34871  Севастополь, район Ленинский, Острякова, проспект Генерала Острякова, 250  \n",
       "44681                                Севастополь, район Ленинский, Доброгород ЖК  \n",
       "13777                                             Севастополь,Парковая улица , 7  \n",
       "28941                                    Севастополь, район Гагаринский, Летчики  \n",
       "39342              Севастополь, район Нахимовский, Радиогорка, улица Симонок, 62  \n",
       "44042                            Севастополь, район Ленинский, улица Гоголя, 26А  \n",
       "37851                           Севастополь, район Ленинский, улица Кулакова, 17  \n",
       "13657                                 Севастополь, улица Павла Корчагина, стр. 5  \n",
       "7760                           Севастополь,аллея Защитников 35-й Батареи, д. 11а  \n",
       "24462        Севастополь, район Ленинский, Острякова, улица Маршала Геловани, 14  "
      ]
     },
     "execution_count": 29,
     "metadata": {},
     "output_type": "execute_result"
    }
   ],
   "source": [
    "data[['adr_orig','adr']].sample(10)"
   ]
  },
  {
   "cell_type": "code",
   "execution_count": 30,
   "id": "9f8dcec3",
   "metadata": {},
   "outputs": [
    {
     "name": "stdout",
     "output_type": "stream",
     "text": [
      "[INFO    ] 2023-01-10 11:33:11 | LocationUpdater: 7662 addresses in index\n",
      "[INFO    ] 2023-01-10 11:33:11 | LocationUpdater: 7689 addresses total\n",
      "[INFO    ] 2023-01-10 11:33:11 | LocationUpdater: 7662 addresses defined\n",
      "[INFO    ] 2023-01-10 11:33:11 | LocationUpdater: 27 addresses undefined\n"
     ]
    },
    {
     "data": {
      "application/vnd.jupyter.widget-view+json": {
       "model_id": "cbc8f5a4f5ea4af0b0d15b52d3cad3b7",
       "version_major": 2,
       "version_minor": 0
      },
      "text/plain": [
       "  0%|          | 0/27 [00:00<?, ?it/s]"
      ]
     },
     "metadata": {},
     "output_type": "display_data"
    },
    {
     "name": "stdout",
     "output_type": "stream",
     "text": [
      "[INFO    ] 2023-01-10 11:33:26 | LocationUpdater: 27 new addresses found\n"
     ]
    }
   ],
   "source": [
    "# from lib.locator import GeocoderSimpleOSM\n",
    "from lib.locator import GeocoderYandex\n",
    "from yandex_keys import keys\n",
    "\n",
    "atr = AddressTransformer()\n",
    "locator = GeocoderYandex(keys[0])\n",
    "# locator = GeocoderSimpleOSM()\n",
    "\n",
    "loc_file_path = 'data/location.pkl' # таблица адресов\n",
    "loc = pd.read_pickle(loc_file_path)\n",
    "# loc = pd.DataFrame([],columns=['adr','latitude','longitude',])\n",
    "logging.info(f'LocationUpdater: {len(loc)} addresses in index')\n",
    "\n",
    "# собираем все адреса в один список\n",
    "loc = loc.merge(\n",
    "        data[['adr']].drop_duplicates(),\n",
    "        how='outer',\n",
    "        on='adr',\n",
    "    ).drop_duplicates().reset_index(drop=True)\n",
    "\n",
    "logging.info(f'LocationUpdater: {len(loc)} addresses total')\n",
    "\n",
    "# собираем все адреса с геопозицией\n",
    "loc_def = loc[~loc['latitude'].isna()].reset_index(drop=True)\n",
    "logging.info(f'LocationUpdater: {len(loc_def)} addresses defined')\n",
    "\n",
    "# собираем все адреса без геопозиции\n",
    "loc_undef = loc[loc['latitude'].isna()][['adr']].reset_index(drop=True)\n",
    "logging.info(f'LocationUpdater: {len(loc_undef)} addresses undefined')\n",
    "\n",
    "if len(loc_undef)>0:\n",
    "    # определяем координаты по строке адреса\n",
    "    loc_undef = loc_undef.join( loc_undef['adr'].progress_apply(locator.transform).apply(pd.Series) ).dropna()     \n",
    "    logging.info(f'LocationUpdater: {len(loc_undef)} new addresses found')\n",
    "    loc = pd.concat([loc_def,loc_undef]).reset_index(drop=True) \n",
    "    assert len(loc)>0\n",
    "    loc.to_pickle(loc_file_path)"
   ]
  },
  {
   "cell_type": "code",
   "execution_count": 31,
   "id": "19741bb7",
   "metadata": {},
   "outputs": [
    {
     "name": "stdout",
     "output_type": "stream",
     "text": [
      "7689\n"
     ]
    },
    {
     "data": {
      "text/html": [
       "<div>\n",
       "<style scoped>\n",
       "    .dataframe tbody tr th:only-of-type {\n",
       "        vertical-align: middle;\n",
       "    }\n",
       "\n",
       "    .dataframe tbody tr th {\n",
       "        vertical-align: top;\n",
       "    }\n",
       "\n",
       "    .dataframe thead th {\n",
       "        text-align: right;\n",
       "    }\n",
       "</style>\n",
       "<table border=\"1\" class=\"dataframe\">\n",
       "  <thead>\n",
       "    <tr style=\"text-align: right;\">\n",
       "      <th></th>\n",
       "      <th>latitude</th>\n",
       "      <th>longitude</th>\n",
       "      <th>adr</th>\n",
       "    </tr>\n",
       "  </thead>\n",
       "  <tbody>\n",
       "    <tr>\n",
       "      <th>6692</th>\n",
       "      <td>44.736655</td>\n",
       "      <td>33.57094</td>\n",
       "      <td>Севастополь,с. Осипенко, Лазурная ул., 37</td>\n",
       "    </tr>\n",
       "    <tr>\n",
       "      <th>6188</th>\n",
       "      <td>44.48148</td>\n",
       "      <td>33.760952</td>\n",
       "      <td>Севастополь,с. Широкое, ул. Микадзе</td>\n",
       "    </tr>\n",
       "    <tr>\n",
       "      <th>2343</th>\n",
       "      <td>44.564872</td>\n",
       "      <td>33.527857</td>\n",
       "      <td>Севастополь, район Ленинский, Острякова, улица Генерала Хрюкина, 12Б</td>\n",
       "    </tr>\n",
       "  </tbody>\n",
       "</table>\n",
       "</div>"
      ],
      "text/plain": [
       "       latitude  longitude  \\\n",
       "6692  44.736655   33.57094   \n",
       "6188   44.48148  33.760952   \n",
       "2343  44.564872  33.527857   \n",
       "\n",
       "                                                                       adr  \n",
       "6692                             Севастополь,с. Осипенко, Лазурная ул., 37  \n",
       "6188                                   Севастополь,с. Широкое, ул. Микадзе  \n",
       "2343  Севастополь, район Ленинский, Острякова, улица Генерала Хрюкина, 12Б  "
      ]
     },
     "execution_count": 31,
     "metadata": {},
     "output_type": "execute_result"
    }
   ],
   "source": [
    "print( len(loc) )\n",
    "loc.sample(3)"
   ]
  },
  {
   "cell_type": "markdown",
   "id": "30dbd6a6",
   "metadata": {},
   "source": [
    "## дополняем данные геометкой"
   ]
  },
  {
   "cell_type": "code",
   "execution_count": 32,
   "id": "77fd1b59",
   "metadata": {},
   "outputs": [],
   "source": [
    "# data = data.rename(columns={'adr':'adr_orig','adr_':'adr'})"
   ]
  },
  {
   "cell_type": "code",
   "execution_count": 33,
   "id": "06470644",
   "metadata": {},
   "outputs": [
    {
     "name": "stdout",
     "output_type": "stream",
     "text": [
      "всего записей: 46874\n",
      "записей без геометки: 0\n"
     ]
    }
   ],
   "source": [
    "data = data.merge(loc,on=['adr'],how='left')\n",
    "\n",
    "print('всего записей:', len( data) )\n",
    "print('записей без геометки:', len( data[ data['latitude'].isna() ] ) )"
   ]
  },
  {
   "cell_type": "code",
   "execution_count": 34,
   "id": "b3161e64",
   "metadata": {},
   "outputs": [],
   "source": [
    "assert len(data)>0\n",
    "data.to_pickle(result_file_path)"
   ]
  },
  {
   "cell_type": "code",
   "execution_count": 35,
   "id": "799e47c2",
   "metadata": {},
   "outputs": [
    {
     "name": "stdout",
     "output_type": "stream",
     "text": [
      "<class 'pandas.core.frame.DataFrame'>\n",
      "Int64Index: 46874 entries, 0 to 46873\n",
      "Data columns (total 26 columns):\n",
      " #   Column         Non-Null Count  Dtype         \n",
      "---  ------         --------------  -----         \n",
      " 0   title          46874 non-null  object        \n",
      " 1   price          46874 non-null  int64         \n",
      " 2   adr_orig       46874 non-null  object        \n",
      " 3   description    46874 non-null  object        \n",
      " 4   obj_name       46874 non-null  object        \n",
      " 5   ts             46874 non-null  datetime64[ns]\n",
      " 6   avito_page     24230 non-null  float64       \n",
      " 7   place          46874 non-null  object        \n",
      " 8   nrooms         46874 non-null  int64         \n",
      " 9   floor          46874 non-null  int64         \n",
      " 10  nfloors        46874 non-null  int64         \n",
      " 11  area           46874 non-null  float64       \n",
      " 12  is_studio      46874 non-null  bool          \n",
      " 13  is_apartment   46874 non-null  bool          \n",
      " 14  is_part        46874 non-null  bool          \n",
      " 15  is_auction     46874 non-null  bool          \n",
      " 16  is_openspace   46874 non-null  bool          \n",
      " 17  is_roof        46874 non-null  bool          \n",
      " 18  is_SNT         46874 non-null  bool          \n",
      " 19  priceM         46874 non-null  float64       \n",
      " 20  is_last_floor  46874 non-null  bool          \n",
      " 21  url            46874 non-null  object        \n",
      " 22  cian_page      22644 non-null  float64       \n",
      " 23  adr            46874 non-null  object        \n",
      " 24  latitude       46874 non-null  object        \n",
      " 25  longitude      46874 non-null  object        \n",
      "dtypes: bool(8), datetime64[ns](1), float64(4), int64(4), object(9)\n",
      "memory usage: 7.2+ MB\n"
     ]
    }
   ],
   "source": [
    "data.info()"
   ]
  },
  {
   "cell_type": "code",
   "execution_count": null,
   "id": "d8eae2b4",
   "metadata": {},
   "outputs": [],
   "source": []
  }
 ],
 "metadata": {
  "kernelspec": {
   "display_name": "Python 3 (ipykernel)",
   "language": "python",
   "name": "python3"
  },
  "language_info": {
   "codemirror_mode": {
    "name": "ipython",
    "version": 3
   },
   "file_extension": ".py",
   "mimetype": "text/x-python",
   "name": "python",
   "nbconvert_exporter": "python",
   "pygments_lexer": "ipython3",
   "version": "3.10.8"
  },
  "toc": {
   "base_numbering": 1,
   "nav_menu": {},
   "number_sections": true,
   "sideBar": true,
   "skip_h1_title": false,
   "title_cell": "Table of Contents",
   "title_sidebar": "Contents",
   "toc_cell": false,
   "toc_position": {
    "height": "calc(100% - 180px)",
    "left": "10px",
    "top": "150px",
    "width": "360.594px"
   },
   "toc_section_display": true,
   "toc_window_display": false
  },
  "varInspector": {
   "cols": {
    "lenName": 16,
    "lenType": 16,
    "lenVar": 40
   },
   "kernels_config": {
    "python": {
     "delete_cmd_postfix": "",
     "delete_cmd_prefix": "del ",
     "library": "var_list.py",
     "varRefreshCmd": "print(var_dic_list())"
    },
    "r": {
     "delete_cmd_postfix": ") ",
     "delete_cmd_prefix": "rm(",
     "library": "var_list.r",
     "varRefreshCmd": "cat(var_dic_list()) "
    }
   },
   "types_to_exclude": [
    "module",
    "function",
    "builtin_function_or_method",
    "instance",
    "_Feature"
   ],
   "window_display": false
  }
 },
 "nbformat": 4,
 "nbformat_minor": 5
}
