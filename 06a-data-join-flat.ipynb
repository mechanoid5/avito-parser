{
 "cells": [
  {
   "cell_type": "markdown",
   "id": "7bec28d7",
   "metadata": {},
   "source": [
    "__собираем предложения по квартирам__\n",
    "\n",
    "_Evgeny S. Borisov <parser@mechanoid.su>_"
   ]
  },
  {
   "cell_type": "code",
   "execution_count": 1,
   "id": "52c5999f",
   "metadata": {},
   "outputs": [],
   "source": [
    "# !pacman -S firefox firefox-i18n-r  geckodriver\n",
    "# !pip install seleniuam"
   ]
  },
  {
   "cell_type": "code",
   "execution_count": 2,
   "id": "bcea4d8b",
   "metadata": {
    "ExecuteTime": {
     "end_time": "2022-08-26T14:19:06.118492Z",
     "start_time": "2022-08-26T14:13:37.888398Z"
    }
   },
   "outputs": [],
   "source": [
    "# import re\n",
    "import sys\n",
    "import logging\n",
    "from datetime import datetime as dtm\n",
    "from tqdm.notebook import tqdm\n",
    "import pandas as pd"
   ]
  },
  {
   "cell_type": "code",
   "execution_count": 3,
   "id": "caabc8c7",
   "metadata": {
    "ExecuteTime": {
     "end_time": "2022-08-26T14:19:06.118492Z",
     "start_time": "2022-08-26T14:13:37.888398Z"
    }
   },
   "outputs": [],
   "source": [
    "pd.set_option('display.max_colwidth', None)\n",
    "pd.set_option('display.float_format', '{:.2f}'.format)\n",
    "tqdm.pandas()\n",
    "\n",
    "logging.basicConfig(\n",
    "        format=u'[%(levelname)-8s] %(asctime)s | %(message)s',\n",
    "        datefmt='%Y-%m-%d %H:%M:%S',\n",
    "        level=logging.INFO,\n",
    "        # level=logging.DEBUG,\n",
    "        stream=sys.stdout,\n",
    "    )"
   ]
  },
  {
   "cell_type": "markdown",
   "id": "db3fe2be",
   "metadata": {},
   "source": [
    "---"
   ]
  },
  {
   "cell_type": "code",
   "execution_count": 4,
   "id": "d437eab9",
   "metadata": {},
   "outputs": [],
   "source": [
    "# каталог с файлами объявлений\n",
    "avito_raw_data_path = 'data/raw/flat/avito' \n",
    "cian_raw_data_path = 'data/raw/flat/cian'\n",
    "\n",
    "result_file_path = 'data/data_flat.pkl'"
   ]
  },
  {
   "cell_type": "code",
   "execution_count": 5,
   "id": "31463a1e",
   "metadata": {},
   "outputs": [],
   "source": [
    "# ts = dtm.now().strftime('%Y-%m-%d_%H-%M')\n",
    "# ts"
   ]
  },
  {
   "cell_type": "markdown",
   "id": "98f6384f",
   "metadata": {},
   "source": [
    "## собираем данные авито.ру"
   ]
  },
  {
   "cell_type": "code",
   "execution_count": 6,
   "id": "2673ef1f",
   "metadata": {},
   "outputs": [
    {
     "data": {
      "text/plain": [
       "['data/raw/flat/avito/avito_2022-08-26_17-29_raw.xlsx',\n",
       " 'data/raw/flat/avito/avito_2022-08-29_13-16_raw.xlsx',\n",
       " 'data/raw/flat/avito/avito_2022-08-31_17-42_raw.xlsx',\n",
       " 'data/raw/flat/avito/avito_2022-09-01_14-07_raw.xlsx',\n",
       " 'data/raw/flat/avito/avito_2022-09-02_13-04_raw.xlsx',\n",
       " 'data/raw/flat/avito/avito_2022-09-05_14-02_raw.xlsx',\n",
       " 'data/raw/flat/avito/avito_2022-09-06_13-09_raw.xlsx',\n",
       " 'data/raw/flat/avito/avito_2022-09-07_12-39_raw.xlsx',\n",
       " 'data/raw/flat/avito/avito_2022-09-08_13-36_raw.xlsx',\n",
       " 'data/raw/flat/avito/avito_2022-09-12_13-44_raw.xlsx',\n",
       " 'data/raw/flat/avito/avito_2022-09-13_13-55_raw.xlsx',\n",
       " 'data/raw/flat/avito/avito_2022-09-15_10-27_raw.xlsx',\n",
       " 'data/raw/flat/avito/avito_2022-09-16_15-07_raw.xlsx',\n",
       " 'data/raw/flat/avito/avito_2022-09-19_12-36_raw.xlsx']"
      ]
     },
     "execution_count": 6,
     "metadata": {},
     "output_type": "execute_result"
    }
   ],
   "source": [
    "import re\n",
    "from os import listdir\n",
    "\n",
    "raw_data_files = sorted([\n",
    "        avito_raw_data_path+'/'+f \n",
    "        for f in listdir(avito_raw_data_path) \n",
    "        if re.match(r'.+\\.xlsx$',f)\n",
    "    ])\n",
    "raw_data_files"
   ]
  },
  {
   "cell_type": "code",
   "execution_count": 7,
   "id": "819a9675",
   "metadata": {},
   "outputs": [
    {
     "name": "stdout",
     "output_type": "stream",
     "text": [
      "19375\n"
     ]
    }
   ],
   "source": [
    "from lib.avito import AvitoDataCleanerRealtyFlat\n",
    "\n",
    "data_avito = pd.concat([\n",
    "        pd.read_excel(f)\n",
    "        .dropna()\n",
    "        .drop_duplicates(['avito_id','description'])\n",
    "        .rename(columns={'page':'avito_page'})\n",
    "        .reset_index(drop=True)  \n",
    "        for f in raw_data_files\n",
    "    ]).reset_index(drop=True)\n",
    "\n",
    "data_avito = AvitoDataCleanerRealtyFlat().transform( data_avito )\n",
    "\n",
    "print(len(data_avito))"
   ]
  },
  {
   "cell_type": "code",
   "execution_count": 8,
   "id": "ce2869e1",
   "metadata": {},
   "outputs": [],
   "source": [
    "assert len(data_avito)>0"
   ]
  },
  {
   "cell_type": "code",
   "execution_count": 9,
   "id": "12170700",
   "metadata": {},
   "outputs": [
    {
     "name": "stdout",
     "output_type": "stream",
     "text": [
      "<class 'pandas.core.frame.DataFrame'>\n",
      "RangeIndex: 19375 entries, 0 to 19374\n",
      "Data columns (total 22 columns):\n",
      " #   Column         Non-Null Count  Dtype         \n",
      "---  ------         --------------  -----         \n",
      " 0   avito_id       19375 non-null  int64         \n",
      " 1   title          19375 non-null  object        \n",
      " 2   price          19375 non-null  int64         \n",
      " 3   adr            19375 non-null  object        \n",
      " 4   description    19375 non-null  object        \n",
      " 5   obj_name       19375 non-null  object        \n",
      " 6   ts             19375 non-null  datetime64[ns]\n",
      " 7   avito_page     19375 non-null  int64         \n",
      " 8   place          19375 non-null  object        \n",
      " 9   nrooms         19375 non-null  int64         \n",
      " 10  floor          19375 non-null  int64         \n",
      " 11  nfloors        19375 non-null  int64         \n",
      " 12  area           19375 non-null  float64       \n",
      " 13  is_studio      19375 non-null  bool          \n",
      " 14  is_apartment   19375 non-null  bool          \n",
      " 15  is_part        19375 non-null  bool          \n",
      " 16  is_auction     19375 non-null  bool          \n",
      " 17  is_openspace   19375 non-null  bool          \n",
      " 18  is_roof        19375 non-null  bool          \n",
      " 19  is_SNT         19375 non-null  bool          \n",
      " 20  priceM         19375 non-null  float64       \n",
      " 21  is_last_floor  19375 non-null  bool          \n",
      "dtypes: bool(8), datetime64[ns](1), float64(2), int64(6), object(5)\n",
      "memory usage: 2.2+ MB\n"
     ]
    }
   ],
   "source": [
    "data_avito.info()"
   ]
  },
  {
   "cell_type": "code",
   "execution_count": 10,
   "id": "a79ce37b",
   "metadata": {},
   "outputs": [
    {
     "data": {
      "text/plain": [
       "avito_id         False\n",
       "title            False\n",
       "price            False\n",
       "adr              False\n",
       "description      False\n",
       "obj_name         False\n",
       "ts               False\n",
       "avito_page       False\n",
       "place            False\n",
       "nrooms           False\n",
       "floor            False\n",
       "nfloors          False\n",
       "area             False\n",
       "is_studio        False\n",
       "is_apartment     False\n",
       "is_part          False\n",
       "is_auction       False\n",
       "is_openspace     False\n",
       "is_roof          False\n",
       "is_SNT           False\n",
       "priceM           False\n",
       "is_last_floor    False\n",
       "dtype: bool"
      ]
     },
     "execution_count": 10,
     "metadata": {},
     "output_type": "execute_result"
    }
   ],
   "source": [
    "data_avito.isnull().any()"
   ]
  },
  {
   "cell_type": "code",
   "execution_count": 11,
   "id": "a98c3001",
   "metadata": {},
   "outputs": [],
   "source": [
    "# data_avito.query('nrooms==0')\n",
    "# data_avito[ data_avito['title'].str.len()<1]"
   ]
  },
  {
   "cell_type": "markdown",
   "id": "894d9ae6",
   "metadata": {},
   "source": [
    "## собираем данные циан.ру"
   ]
  },
  {
   "cell_type": "code",
   "execution_count": 12,
   "id": "05ea79a3",
   "metadata": {},
   "outputs": [
    {
     "data": {
      "text/plain": [
       "['data/raw/flat/cian/cian_2022-09-08_14-25_raw.pkl',\n",
       " 'data/raw/flat/cian/cian_2022-09-12_13-59_raw.pkl',\n",
       " 'data/raw/flat/cian/cian_2022-09-13_13-59_raw.pkl',\n",
       " 'data/raw/flat/cian/cian_2022-09-15_10-30_raw.pkl',\n",
       " 'data/raw/flat/cian/cian_2022-09-16_15-11_raw.pkl',\n",
       " 'data/raw/flat/cian/cian_2022-09-19_12-40_raw.pkl']"
      ]
     },
     "execution_count": 12,
     "metadata": {},
     "output_type": "execute_result"
    }
   ],
   "source": [
    "import re\n",
    "from os import listdir\n",
    "\n",
    "raw_data_files = sorted([\n",
    "        cian_raw_data_path+'/'+f \n",
    "        for f in listdir(cian_raw_data_path) \n",
    "        if re.match(r'.+\\.pkl$',f)\n",
    "        #if re.match(r'.+\\.xlsx$',f)\n",
    "    \n",
    "    ])\n",
    "raw_data_files"
   ]
  },
  {
   "cell_type": "code",
   "execution_count": 13,
   "id": "bb5a87f6",
   "metadata": {},
   "outputs": [],
   "source": [
    "data_cian = pd.concat([\n",
    "        pd.read_pickle(f)\n",
    "         .dropna()\n",
    "         .drop_duplicates(['LinkArea','Description',])\n",
    "         .rename(columns={'page':'cian_page'})\n",
    "         .reset_index(drop=True)  \n",
    "        for f in raw_data_files\n",
    "    ]).reset_index(drop=True)"
   ]
  },
  {
   "cell_type": "code",
   "execution_count": 14,
   "id": "fe083793",
   "metadata": {},
   "outputs": [
    {
     "name": "stdout",
     "output_type": "stream",
     "text": [
      "<class 'pandas.core.frame.DataFrame'>\n",
      "RangeIndex: 8995 entries, 0 to 8994\n",
      "Data columns (total 12 columns):\n",
      " #   Column         Non-Null Count  Dtype         \n",
      "---  ------         --------------  -----         \n",
      " 0   OfferTitle     8995 non-null   object        \n",
      " 1   OfferSubtitle  8995 non-null   object        \n",
      " 2   Deadline       8995 non-null   object        \n",
      " 3   MainPrice      8995 non-null   object        \n",
      " 4   PriceInfo      8995 non-null   object        \n",
      " 5   GeoLabel       8995 non-null   object        \n",
      " 6   TimeLabel      8995 non-null   object        \n",
      " 7   LinkArea       8995 non-null   object        \n",
      " 8   Description    8995 non-null   object        \n",
      " 9   cian_page      8995 non-null   int64         \n",
      " 10  ts             8995 non-null   datetime64[ns]\n",
      " 11  place          8995 non-null   object        \n",
      "dtypes: datetime64[ns](1), int64(1), object(10)\n",
      "memory usage: 843.4+ KB\n"
     ]
    }
   ],
   "source": [
    "data_cian.info()"
   ]
  },
  {
   "cell_type": "code",
   "execution_count": 15,
   "id": "c7ecc2ce",
   "metadata": {},
   "outputs": [
    {
     "data": {
      "text/plain": [
       "OfferTitle       False\n",
       "OfferSubtitle    False\n",
       "Deadline         False\n",
       "MainPrice        False\n",
       "PriceInfo        False\n",
       "GeoLabel         False\n",
       "TimeLabel        False\n",
       "LinkArea         False\n",
       "Description      False\n",
       "cian_page        False\n",
       "ts               False\n",
       "place            False\n",
       "dtype: bool"
      ]
     },
     "execution_count": 15,
     "metadata": {},
     "output_type": "execute_result"
    }
   ],
   "source": [
    "data_cian.isnull().any()"
   ]
  },
  {
   "cell_type": "code",
   "execution_count": 16,
   "id": "5fb87c58",
   "metadata": {},
   "outputs": [],
   "source": [
    "swap_title = data_cian['OfferSubtitle'].str.match(r'.*\\d+ м², \\d+/\\d+ эт.*') \n",
    "\n",
    "data_cian = pd.concat([\n",
    "        data_cian[ ~swap_title ],\n",
    "        data_cian[ swap_title ]\n",
    "            .rename(columns={'OfferTitle':'OfferSubtitle','OfferSubtitle':'OfferTitle'})\n",
    "    ]).reset_index(drop=True)\n"
   ]
  },
  {
   "cell_type": "code",
   "execution_count": 17,
   "id": "33bda6e8",
   "metadata": {},
   "outputs": [],
   "source": [
    "# data_cian"
   ]
  },
  {
   "cell_type": "code",
   "execution_count": 18,
   "id": "7a11ac2f",
   "metadata": {},
   "outputs": [
    {
     "name": "stdout",
     "output_type": "stream",
     "text": [
      "8995\n"
     ]
    }
   ],
   "source": [
    "from lib.cian import CianDataCleaner\n",
    "\n",
    "data_cian = CianDataCleaner().transform( data_cian )\n",
    "\n",
    "print(len(data_cian))"
   ]
  },
  {
   "cell_type": "code",
   "execution_count": 19,
   "id": "b1df2dba",
   "metadata": {},
   "outputs": [],
   "source": [
    "assert len(data_cian)>0"
   ]
  },
  {
   "cell_type": "code",
   "execution_count": 20,
   "id": "979243e4",
   "metadata": {},
   "outputs": [
    {
     "name": "stdout",
     "output_type": "stream",
     "text": [
      "<class 'pandas.core.frame.DataFrame'>\n",
      "RangeIndex: 8995 entries, 0 to 8994\n",
      "Data columns (total 22 columns):\n",
      " #   Column         Non-Null Count  Dtype         \n",
      "---  ------         --------------  -----         \n",
      " 0   title          8995 non-null   object        \n",
      " 1   obj_name       8995 non-null   object        \n",
      " 2   adr            8995 non-null   object        \n",
      " 3   nrooms         8995 non-null   int64         \n",
      " 4   floor          8995 non-null   int64         \n",
      " 5   nfloors        8995 non-null   int64         \n",
      " 6   area           8995 non-null   float64       \n",
      " 7   is_studio      8995 non-null   bool          \n",
      " 8   is_apartment   8995 non-null   bool          \n",
      " 9   is_part        8995 non-null   bool          \n",
      " 10  is_auction     8995 non-null   bool          \n",
      " 11  is_openspace   8995 non-null   bool          \n",
      " 12  is_roof        8995 non-null   bool          \n",
      " 13  is_SNT         8995 non-null   bool          \n",
      " 14  price          8995 non-null   int64         \n",
      " 15  priceM         8995 non-null   float64       \n",
      " 16  is_last_floor  8995 non-null   bool          \n",
      " 17  cian_url       8995 non-null   object        \n",
      " 18  description    8995 non-null   object        \n",
      " 19  cian_page      8995 non-null   int64         \n",
      " 20  ts             8995 non-null   datetime64[ns]\n",
      " 21  place          8995 non-null   object        \n",
      "dtypes: bool(8), datetime64[ns](1), float64(2), int64(5), object(6)\n",
      "memory usage: 1.0+ MB\n"
     ]
    }
   ],
   "source": [
    "data_cian.info()"
   ]
  },
  {
   "cell_type": "code",
   "execution_count": 21,
   "id": "8ba603a9",
   "metadata": {},
   "outputs": [
    {
     "data": {
      "text/plain": [
       "title            False\n",
       "obj_name         False\n",
       "adr              False\n",
       "nrooms           False\n",
       "floor            False\n",
       "nfloors          False\n",
       "area             False\n",
       "is_studio        False\n",
       "is_apartment     False\n",
       "is_part          False\n",
       "is_auction       False\n",
       "is_openspace     False\n",
       "is_roof          False\n",
       "is_SNT           False\n",
       "price            False\n",
       "priceM           False\n",
       "is_last_floor    False\n",
       "cian_url         False\n",
       "description      False\n",
       "cian_page        False\n",
       "ts               False\n",
       "place            False\n",
       "dtype: bool"
      ]
     },
     "execution_count": 21,
     "metadata": {},
     "output_type": "execute_result"
    }
   ],
   "source": [
    "data_cian.isnull().any()"
   ]
  },
  {
   "cell_type": "code",
   "execution_count": 22,
   "id": "5eb571e0",
   "metadata": {},
   "outputs": [],
   "source": [
    "# data_cian\n",
    "# data_cian.query('nrooms==0')\n",
    "# data_cian[ data_cian['title'].str.len()<1 ]\n",
    "# data_cian[ data_cian['obj_name'].str.len()>0 ][['title','obj_name',]] # .to_csv('tmp/cian_title.csv',sep='\\t')|"
   ]
  },
  {
   "cell_type": "markdown",
   "id": "31f9a289",
   "metadata": {},
   "source": [
    "----"
   ]
  },
  {
   "cell_type": "code",
   "execution_count": 23,
   "id": "c6e47d9a",
   "metadata": {},
   "outputs": [
    {
     "name": "stdout",
     "output_type": "stream",
     "text": [
      "28370\n"
     ]
    }
   ],
   "source": [
    "data = pd.concat([data_avito,data_cian]).reset_index(drop=True) \n",
    "print(len(data))\n",
    "assert len(data)>0"
   ]
  },
  {
   "cell_type": "markdown",
   "id": "2903ab86",
   "metadata": {},
   "source": [
    "## обновляем таблицу адресов"
   ]
  },
  {
   "cell_type": "code",
   "execution_count": 24,
   "id": "e8800886",
   "metadata": {},
   "outputs": [],
   "source": [
    "# loc_file_path = 'data/location.pkl'# таблица адресов\n",
    "# loc=pd.read_pickle(loc_file_path)\n",
    "# loc = loc.fillna(False).query('~truncated').reset_index(drop=True)\n",
    "# loc.to_pickle(loc_file_path)"
   ]
  },
  {
   "cell_type": "code",
   "execution_count": 25,
   "id": "a32c32a3",
   "metadata": {},
   "outputs": [
    {
     "name": "stdout",
     "output_type": "stream",
     "text": [
      "sevastopol Севастополь,\n"
     ]
    }
   ],
   "source": [
    "from lib.locator import AddressTransformer\n",
    "\n",
    "data['adr'] = AddressTransformer().transform( data['adr'] )\n",
    "\n",
    "places = { # поле 'place' и название города\n",
    "#'bahchisaray': 'Бахчисарай,',\n",
    "#      'sudak': 'Судак,',\n",
    " 'sevastopol': 'Севастополь,',\n",
    "}\n",
    "\n",
    "for k,v in places.items():\n",
    "    print(k,v) # докидываем в строку адреса название города если его нет\n",
    "    f =  (data['place']==k) & (~data['adr'].str.match(v))\n",
    "    data.loc[f,'adr'] = v +' '+ data.loc[f,'adr']"
   ]
  },
  {
   "cell_type": "code",
   "execution_count": 26,
   "id": "60d30efe",
   "metadata": {},
   "outputs": [
    {
     "name": "stdout",
     "output_type": "stream",
     "text": [
      "[INFO    ] 2022-09-19 12:41:10 | LocationUpdater: 10152 addresses in location table\n",
      "[INFO    ] 2022-09-19 12:41:10 | LocationUpdater: 10172 addresses total\n",
      "[INFO    ] 2022-09-19 12:41:10 | LocationUpdater: 10152 addresses defined\n",
      "[INFO    ] 2022-09-19 12:41:10 | LocationUpdater: 20 addresses undefined\n"
     ]
    },
    {
     "data": {
      "application/vnd.jupyter.widget-view+json": {
       "model_id": "5f6045c5bc3845a38e9baa2350832512",
       "version_major": 2,
       "version_minor": 0
      },
      "text/plain": [
       "  0%|          | 0/20 [00:00<?, ?it/s]"
      ]
     },
     "metadata": {},
     "output_type": "display_data"
    },
    {
     "name": "stdout",
     "output_type": "stream",
     "text": [
      "[INFO    ] 2022-09-19 12:41:17 | LocationUpdater: 20 new addresses found\n"
     ]
    }
   ],
   "source": [
    "from lib.locator import LocationUpdater\n",
    "# from lib.locator import AddressTransformerSev\n",
    "from lib.locator import GeocoderYandex\n",
    "from yandex_keys import keys\n",
    "\n",
    "loc_file_path = 'data/location.pkl'# таблица адресов\n",
    "\n",
    "loc = LocationUpdater(\n",
    "        locator=GeocoderYandex(keys[2]),\n",
    "    ).transform(\n",
    "        adr=data['adr'],\n",
    "        loc=pd.read_pickle(loc_file_path),\n",
    "        show_pbar=True,\n",
    "    )"
   ]
  },
  {
   "cell_type": "code",
   "execution_count": 27,
   "id": "7d191d0d",
   "metadata": {},
   "outputs": [],
   "source": [
    "# from lib.locator import LocationUpdater\n",
    "\n",
    "# loc_file_path = 'data/location.pkl'# таблица адресов\n",
    "\n",
    "# loc = LocationUpdater().transform( по умолчанию пользуем OSM geocoder \n",
    "#         adr=data['adr'],\n",
    "#         loc=pd.read_pickle(loc_file_path),\n",
    "#         show_pbar=True,\n",
    "#     )"
   ]
  },
  {
   "cell_type": "code",
   "execution_count": 28,
   "id": "19741bb7",
   "metadata": {},
   "outputs": [
    {
     "data": {
      "text/html": [
       "<div>\n",
       "<style scoped>\n",
       "    .dataframe tbody tr th:only-of-type {\n",
       "        vertical-align: middle;\n",
       "    }\n",
       "\n",
       "    .dataframe tbody tr th {\n",
       "        vertical-align: top;\n",
       "    }\n",
       "\n",
       "    .dataframe thead th {\n",
       "        text-align: right;\n",
       "    }\n",
       "</style>\n",
       "<table border=\"1\" class=\"dataframe\">\n",
       "  <thead>\n",
       "    <tr style=\"text-align: right;\">\n",
       "      <th></th>\n",
       "      <th>adr</th>\n",
       "      <th>latitude</th>\n",
       "      <th>longitude</th>\n",
       "      <th>truncated</th>\n",
       "    </tr>\n",
       "  </thead>\n",
       "  <tbody>\n",
       "    <tr>\n",
       "      <th>1956</th>\n",
       "      <td>Севастополь, район Гагаринский, Стрелецкая бухта, улица Ерошенко, 9</td>\n",
       "      <td>44.60</td>\n",
       "      <td>33.47</td>\n",
       "      <td>False</td>\n",
       "    </tr>\n",
       "    <tr>\n",
       "      <th>6469</th>\n",
       "      <td>садовое товарищество Скиф, 323</td>\n",
       "      <td>44.55</td>\n",
       "      <td>33.48</td>\n",
       "      <td>False</td>\n",
       "    </tr>\n",
       "    <tr>\n",
       "      <th>2896</th>\n",
       "      <td>Севастополь, садоводческое товарищество Первомайское</td>\n",
       "      <td>44.51</td>\n",
       "      <td>33.51</td>\n",
       "      <td>False</td>\n",
       "    </tr>\n",
       "  </tbody>\n",
       "</table>\n",
       "</div>"
      ],
      "text/plain": [
       "                                                                      adr  \\\n",
       "1956  Севастополь, район Гагаринский, Стрелецкая бухта, улица Ерошенко, 9   \n",
       "6469                                       садовое товарищество Скиф, 323   \n",
       "2896                 Севастополь, садоводческое товарищество Первомайское   \n",
       "\n",
       "      latitude  longitude truncated  \n",
       "1956     44.60      33.47     False  \n",
       "6469     44.55      33.48     False  \n",
       "2896     44.51      33.51     False  "
      ]
     },
     "execution_count": 28,
     "metadata": {},
     "output_type": "execute_result"
    }
   ],
   "source": [
    "loc.sample(3)"
   ]
  },
  {
   "cell_type": "code",
   "execution_count": 29,
   "id": "a90d2398",
   "metadata": {},
   "outputs": [],
   "source": [
    "assert len(loc)>0\n",
    "loc.to_pickle(loc_file_path)"
   ]
  },
  {
   "cell_type": "markdown",
   "id": "30dbd6a6",
   "metadata": {},
   "source": [
    "## дополняем данные геометкой"
   ]
  },
  {
   "cell_type": "code",
   "execution_count": 30,
   "id": "06470644",
   "metadata": {},
   "outputs": [
    {
     "name": "stdout",
     "output_type": "stream",
     "text": [
      "всего записей: 28376\n",
      "записей без геометки: 0\n"
     ]
    }
   ],
   "source": [
    "data = data.merge(loc[['adr','latitude','longitude',]],on=['adr'],how='left')\n",
    "\n",
    "print('всего записей:', len( data) )\n",
    "print('записей без геометки:', len( data[ data['latitude'].isnull() ] ) )"
   ]
  },
  {
   "cell_type": "code",
   "execution_count": 31,
   "id": "b3161e64",
   "metadata": {},
   "outputs": [],
   "source": [
    "assert len(data)>0\n",
    "data.to_pickle(result_file_path)"
   ]
  },
  {
   "cell_type": "code",
   "execution_count": 32,
   "id": "799e47c2",
   "metadata": {},
   "outputs": [
    {
     "name": "stdout",
     "output_type": "stream",
     "text": [
      "<class 'pandas.core.frame.DataFrame'>\n",
      "Int64Index: 28376 entries, 0 to 28375\n",
      "Data columns (total 26 columns):\n",
      " #   Column         Non-Null Count  Dtype         \n",
      "---  ------         --------------  -----         \n",
      " 0   avito_id       19381 non-null  float64       \n",
      " 1   title          28376 non-null  object        \n",
      " 2   price          28376 non-null  int64         \n",
      " 3   adr            28376 non-null  object        \n",
      " 4   description    28376 non-null  object        \n",
      " 5   obj_name       28376 non-null  object        \n",
      " 6   ts             28376 non-null  datetime64[ns]\n",
      " 7   avito_page     19381 non-null  float64       \n",
      " 8   place          28376 non-null  object        \n",
      " 9   nrooms         28376 non-null  int64         \n",
      " 10  floor          28376 non-null  int64         \n",
      " 11  nfloors        28376 non-null  int64         \n",
      " 12  area           28376 non-null  float64       \n",
      " 13  is_studio      28376 non-null  bool          \n",
      " 14  is_apartment   28376 non-null  bool          \n",
      " 15  is_part        28376 non-null  bool          \n",
      " 16  is_auction     28376 non-null  bool          \n",
      " 17  is_openspace   28376 non-null  bool          \n",
      " 18  is_roof        28376 non-null  bool          \n",
      " 19  is_SNT         28376 non-null  bool          \n",
      " 20  priceM         28376 non-null  float64       \n",
      " 21  is_last_floor  28376 non-null  bool          \n",
      " 22  cian_url       8995 non-null   object        \n",
      " 23  cian_page      8995 non-null   float64       \n",
      " 24  latitude       28376 non-null  float64       \n",
      " 25  longitude      28376 non-null  float64       \n",
      "dtypes: bool(8), datetime64[ns](1), float64(7), int64(4), object(6)\n",
      "memory usage: 4.3+ MB\n"
     ]
    }
   ],
   "source": [
    "data.info()"
   ]
  }
 ],
 "metadata": {
  "kernelspec": {
   "display_name": "Python 3 (ipykernel)",
   "language": "python",
   "name": "python3"
  },
  "language_info": {
   "codemirror_mode": {
    "name": "ipython",
    "version": 3
   },
   "file_extension": ".py",
   "mimetype": "text/x-python",
   "name": "python",
   "nbconvert_exporter": "python",
   "pygments_lexer": "ipython3",
   "version": "3.10.6"
  },
  "toc": {
   "base_numbering": 1,
   "nav_menu": {},
   "number_sections": true,
   "sideBar": true,
   "skip_h1_title": false,
   "title_cell": "Table of Contents",
   "title_sidebar": "Contents",
   "toc_cell": false,
   "toc_position": {},
   "toc_section_display": true,
   "toc_window_display": true
  },
  "varInspector": {
   "cols": {
    "lenName": 16,
    "lenType": 16,
    "lenVar": 40
   },
   "kernels_config": {
    "python": {
     "delete_cmd_postfix": "",
     "delete_cmd_prefix": "del ",
     "library": "var_list.py",
     "varRefreshCmd": "print(var_dic_list())"
    },
    "r": {
     "delete_cmd_postfix": ") ",
     "delete_cmd_prefix": "rm(",
     "library": "var_list.r",
     "varRefreshCmd": "cat(var_dic_list()) "
    }
   },
   "types_to_exclude": [
    "module",
    "function",
    "builtin_function_or_method",
    "instance",
    "_Feature"
   ],
   "window_display": false
  }
 },
 "nbformat": 4,
 "nbformat_minor": 5
}
