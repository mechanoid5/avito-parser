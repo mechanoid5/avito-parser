{
 "cells": [
  {
   "cell_type": "markdown",
   "id": "7bec28d7",
   "metadata": {},
   "source": [
    "__собираем предложения по квартирам__\n",
    "\n",
    "_Evgeny S. Borisov <parser@mechanoid.su>_"
   ]
  },
  {
   "cell_type": "code",
   "execution_count": 1,
   "id": "52c5999f",
   "metadata": {},
   "outputs": [],
   "source": [
    "# !pacman -S firefox firefox-i18n-r  geckodriver\n",
    "# !pip install seleniuam"
   ]
  },
  {
   "cell_type": "code",
   "execution_count": 2,
   "id": "bcea4d8b",
   "metadata": {
    "ExecuteTime": {
     "end_time": "2022-08-26T14:19:06.118492Z",
     "start_time": "2022-08-26T14:13:37.888398Z"
    }
   },
   "outputs": [],
   "source": [
    "# import re\n",
    "import sys\n",
    "import logging\n",
    "from datetime import datetime as dtm\n",
    "from tqdm.notebook import tqdm\n",
    "import pandas as pd"
   ]
  },
  {
   "cell_type": "code",
   "execution_count": 3,
   "id": "caabc8c7",
   "metadata": {
    "ExecuteTime": {
     "end_time": "2022-08-26T14:19:06.118492Z",
     "start_time": "2022-08-26T14:13:37.888398Z"
    }
   },
   "outputs": [],
   "source": [
    "pd.set_option('display.max_colwidth', None)\n",
    "pd.set_option('display.float_format', '{:.2f}'.format)\n",
    "tqdm.pandas()\n",
    "\n",
    "logging.basicConfig(\n",
    "        format=u'[%(levelname)-8s] %(asctime)s | %(message)s',\n",
    "        datefmt='%Y-%m-%d %H:%M:%S',\n",
    "        level=logging.INFO,\n",
    "        # level=logging.DEBUG,\n",
    "        stream=sys.stdout,\n",
    "    )"
   ]
  },
  {
   "cell_type": "markdown",
   "id": "db3fe2be",
   "metadata": {},
   "source": [
    "---"
   ]
  },
  {
   "cell_type": "code",
   "execution_count": 4,
   "id": "d437eab9",
   "metadata": {},
   "outputs": [],
   "source": [
    "# каталог с файлами объявлений\n",
    "avito_raw_data_path = 'data/raw/flat/avito' \n",
    "cian_raw_data_path = 'data/raw/flat/cian'\n",
    "\n",
    "result_file_path = 'data/data_flat.pkl'"
   ]
  },
  {
   "cell_type": "code",
   "execution_count": 5,
   "id": "31463a1e",
   "metadata": {},
   "outputs": [],
   "source": [
    "# ts = dtm.now().strftime('%Y-%m-%d_%H-%M')\n",
    "# ts"
   ]
  },
  {
   "cell_type": "markdown",
   "id": "98f6384f",
   "metadata": {},
   "source": [
    "## собираем данные авито.ру"
   ]
  },
  {
   "cell_type": "code",
   "execution_count": 6,
   "id": "2673ef1f",
   "metadata": {},
   "outputs": [
    {
     "data": {
      "text/plain": [
       "['data/raw/flat/avito/avito_2022-08-26_17-29_raw.xlsx',\n",
       " 'data/raw/flat/avito/avito_2022-08-29_13-16_raw.xlsx',\n",
       " 'data/raw/flat/avito/avito_2022-08-31_17-42_raw.xlsx',\n",
       " 'data/raw/flat/avito/avito_2022-09-01_14-07_raw.xlsx',\n",
       " 'data/raw/flat/avito/avito_2022-09-02_13-04_raw.xlsx',\n",
       " 'data/raw/flat/avito/avito_2022-09-05_14-02_raw.xlsx',\n",
       " 'data/raw/flat/avito/avito_2022-09-06_13-09_raw.xlsx',\n",
       " 'data/raw/flat/avito/avito_2022-09-07_12-39_raw.xlsx',\n",
       " 'data/raw/flat/avito/avito_2022-09-08_13-36_raw.xlsx',\n",
       " 'data/raw/flat/avito/avito_2022-09-12_13-44_raw.xlsx',\n",
       " 'data/raw/flat/avito/avito_2022-09-13_13-55_raw.xlsx',\n",
       " 'data/raw/flat/avito/avito_2022-09-15_10-27_raw.xlsx',\n",
       " 'data/raw/flat/avito/avito_2022-09-16_15-07_raw.xlsx',\n",
       " 'data/raw/flat/avito/avito_2022-09-19_12-36_raw.xlsx',\n",
       " 'data/raw/flat/avito/avito_2022-09-22_09-48_raw.xlsx',\n",
       " 'data/raw/flat/avito/avito_2022-09-26_11-20_raw.xlsx',\n",
       " 'data/raw/flat/avito/avito_2022-10-08_20-34_raw.xlsx',\n",
       " 'data/raw/flat/avito/avito_2022-10-14_15-48_raw.xlsx',\n",
       " 'data/raw/flat/avito/avito_2022-11-01_13-51_raw.xlsx',\n",
       " 'data/raw/flat/avito/avito_2022-11-04_17-11_raw.xlsx',\n",
       " 'data/raw/flat/avito/avito_2022-11-07_10-43_raw.xlsx',\n",
       " 'data/raw/flat/avito/avito_2022-11-15_13-12_raw.xlsx',\n",
       " 'data/raw/flat/avito/avito_2022-11-28_13-20_raw.xlsx',\n",
       " 'data/raw/flat/avito/avito_2023-01-10_11-25_raw.xlsx',\n",
       " 'data/raw/flat/avito/avito_2023-01-27_16-33_raw.xlsx']"
      ]
     },
     "execution_count": 6,
     "metadata": {},
     "output_type": "execute_result"
    }
   ],
   "source": [
    "import re\n",
    "from os import listdir\n",
    "\n",
    "raw_data_files = sorted([\n",
    "        avito_raw_data_path+'/'+f \n",
    "        for f in listdir(avito_raw_data_path) \n",
    "        if re.match(r'.+\\.xlsx$',f)\n",
    "    ])\n",
    "raw_data_files"
   ]
  },
  {
   "cell_type": "code",
   "execution_count": 7,
   "id": "819a9675",
   "metadata": {},
   "outputs": [
    {
     "name": "stdout",
     "output_type": "stream",
     "text": [
      "24230\n"
     ]
    }
   ],
   "source": [
    "from lib.avito import AvitoDataCleanerRealtyFlat\n",
    "\n",
    "data_avito = pd.concat([\n",
    "        pd.read_excel(f)\n",
    "        .dropna()\n",
    "        .drop_duplicates(['avito_id','description'])\n",
    "        .rename(columns={'page':'avito_page'})\n",
    "        .reset_index(drop=True)  \n",
    "        for f in raw_data_files\n",
    "    ]).reset_index(drop=True)\n",
    "\n",
    "data_avito = AvitoDataCleanerRealtyFlat().transform( data_avito )\n",
    "\n",
    "print(len(data_avito))"
   ]
  },
  {
   "cell_type": "code",
   "execution_count": 8,
   "id": "ce2869e1",
   "metadata": {},
   "outputs": [],
   "source": [
    "assert len(data_avito)>0"
   ]
  },
  {
   "cell_type": "code",
   "execution_count": 9,
   "id": "12170700",
   "metadata": {},
   "outputs": [
    {
     "name": "stdout",
     "output_type": "stream",
     "text": [
      "<class 'pandas.core.frame.DataFrame'>\n",
      "RangeIndex: 24230 entries, 0 to 24229\n",
      "Data columns (total 22 columns):\n",
      " #   Column         Non-Null Count  Dtype         \n",
      "---  ------         --------------  -----         \n",
      " 0   avito_id       24230 non-null  int64         \n",
      " 1   title          24230 non-null  object        \n",
      " 2   price          24230 non-null  int64         \n",
      " 3   adr            24230 non-null  object        \n",
      " 4   description    24230 non-null  object        \n",
      " 5   obj_name       24230 non-null  object        \n",
      " 6   ts             24230 non-null  datetime64[ns]\n",
      " 7   avito_page     24230 non-null  int64         \n",
      " 8   place          24230 non-null  object        \n",
      " 9   nrooms         24230 non-null  int64         \n",
      " 10  floor          24230 non-null  int64         \n",
      " 11  nfloors        24230 non-null  int64         \n",
      " 12  area           24230 non-null  float64       \n",
      " 13  is_studio      24230 non-null  bool          \n",
      " 14  is_apartment   24230 non-null  bool          \n",
      " 15  is_part        24230 non-null  bool          \n",
      " 16  is_auction     24230 non-null  bool          \n",
      " 17  is_openspace   24230 non-null  bool          \n",
      " 18  is_roof        24230 non-null  bool          \n",
      " 19  is_SNT         24230 non-null  bool          \n",
      " 20  priceM         24230 non-null  float64       \n",
      " 21  is_last_floor  24230 non-null  bool          \n",
      "dtypes: bool(8), datetime64[ns](1), float64(2), int64(6), object(5)\n",
      "memory usage: 2.8+ MB\n"
     ]
    }
   ],
   "source": [
    "data_avito.info()"
   ]
  },
  {
   "cell_type": "code",
   "execution_count": 10,
   "id": "a79ce37b",
   "metadata": {},
   "outputs": [
    {
     "data": {
      "text/plain": [
       "avito_id         False\n",
       "title            False\n",
       "price            False\n",
       "adr              False\n",
       "description      False\n",
       "obj_name         False\n",
       "ts               False\n",
       "avito_page       False\n",
       "place            False\n",
       "nrooms           False\n",
       "floor            False\n",
       "nfloors          False\n",
       "area             False\n",
       "is_studio        False\n",
       "is_apartment     False\n",
       "is_part          False\n",
       "is_auction       False\n",
       "is_openspace     False\n",
       "is_roof          False\n",
       "is_SNT           False\n",
       "priceM           False\n",
       "is_last_floor    False\n",
       "dtype: bool"
      ]
     },
     "execution_count": 10,
     "metadata": {},
     "output_type": "execute_result"
    }
   ],
   "source": [
    "data_avito.isnull().any()"
   ]
  },
  {
   "cell_type": "code",
   "execution_count": 11,
   "id": "a98c3001",
   "metadata": {},
   "outputs": [],
   "source": [
    "# data_avito.query('nrooms==0')\n",
    "# data_avito[ data_avito['title'].str.len()<1]"
   ]
  },
  {
   "cell_type": "markdown",
   "id": "894d9ae6",
   "metadata": {},
   "source": [
    "## собираем данные циан.ру"
   ]
  },
  {
   "cell_type": "code",
   "execution_count": 12,
   "id": "05ea79a3",
   "metadata": {},
   "outputs": [
    {
     "data": {
      "text/plain": [
       "['data/raw/flat/cian/cian_2022-09-08_14-25_raw.pkl',\n",
       " 'data/raw/flat/cian/cian_2022-09-12_13-59_raw.pkl',\n",
       " 'data/raw/flat/cian/cian_2022-09-13_13-59_raw.pkl',\n",
       " 'data/raw/flat/cian/cian_2022-09-15_10-30_raw.pkl',\n",
       " 'data/raw/flat/cian/cian_2022-09-16_15-11_raw.pkl',\n",
       " 'data/raw/flat/cian/cian_2022-09-19_12-40_raw.pkl',\n",
       " 'data/raw/flat/cian/cian_2022-09-22_09-53_raw.pkl',\n",
       " 'data/raw/flat/cian/cian_2022-09-26_11-23_raw.pkl',\n",
       " 'data/raw/flat/cian/cian_2022-10-08_20-39_raw.pkl',\n",
       " 'data/raw/flat/cian/cian_2022-10-14_15-53_raw.pkl',\n",
       " 'data/raw/flat/cian/cian_2022-11-01_13-57_raw.pkl',\n",
       " 'data/raw/flat/cian/cian_2022-11-04_17-14_raw.pkl',\n",
       " 'data/raw/flat/cian/cian_2022-11-07_10-47_raw.pkl',\n",
       " 'data/raw/flat/cian/cian_2022-11-15_13-16_raw.pkl',\n",
       " 'data/raw/flat/cian/cian_2022-11-28_15-30_raw.pkl',\n",
       " 'data/raw/flat/cian/cian_2023-01-10_11-25_raw.pkl',\n",
       " 'data/raw/flat/cian/cian_2023-01-27_16-37_raw.pkl']"
      ]
     },
     "execution_count": 12,
     "metadata": {},
     "output_type": "execute_result"
    }
   ],
   "source": [
    "import re\n",
    "from os import listdir\n",
    "\n",
    "raw_data_files = sorted([\n",
    "        cian_raw_data_path+'/'+f \n",
    "        for f in listdir(cian_raw_data_path) \n",
    "        if re.match(r'.+\\.pkl$',f)\n",
    "        #if re.match(r'.+\\.xlsx$',f)\n",
    "    \n",
    "    ])\n",
    "raw_data_files"
   ]
  },
  {
   "cell_type": "code",
   "execution_count": 13,
   "id": "bb5a87f6",
   "metadata": {},
   "outputs": [],
   "source": [
    "data_cian = pd.concat([\n",
    "        pd.read_pickle(f)\n",
    "         .dropna()\n",
    "         .drop_duplicates(['LinkArea','Description',])\n",
    "         .rename(columns={'page':'cian_page'})\n",
    "         .reset_index(drop=True)  \n",
    "        for f in raw_data_files\n",
    "    ]).reset_index(drop=True)"
   ]
  },
  {
   "cell_type": "code",
   "execution_count": 14,
   "id": "fe083793",
   "metadata": {},
   "outputs": [
    {
     "name": "stdout",
     "output_type": "stream",
     "text": [
      "<class 'pandas.core.frame.DataFrame'>\n",
      "RangeIndex: 24111 entries, 0 to 24110\n",
      "Data columns (total 12 columns):\n",
      " #   Column         Non-Null Count  Dtype         \n",
      "---  ------         --------------  -----         \n",
      " 0   OfferTitle     24111 non-null  object        \n",
      " 1   OfferSubtitle  24111 non-null  object        \n",
      " 2   Deadline       24111 non-null  object        \n",
      " 3   MainPrice      24111 non-null  object        \n",
      " 4   PriceInfo      24111 non-null  object        \n",
      " 5   GeoLabel       24111 non-null  object        \n",
      " 6   TimeLabel      24111 non-null  object        \n",
      " 7   LinkArea       24111 non-null  object        \n",
      " 8   Description    24111 non-null  object        \n",
      " 9   cian_page      24111 non-null  int64         \n",
      " 10  ts             24111 non-null  datetime64[ns]\n",
      " 11  place          24111 non-null  object        \n",
      "dtypes: datetime64[ns](1), int64(1), object(10)\n",
      "memory usage: 2.2+ MB\n"
     ]
    }
   ],
   "source": [
    "data_cian.info()"
   ]
  },
  {
   "cell_type": "code",
   "execution_count": 15,
   "id": "c7ecc2ce",
   "metadata": {},
   "outputs": [
    {
     "data": {
      "text/plain": [
       "OfferTitle       False\n",
       "OfferSubtitle    False\n",
       "Deadline         False\n",
       "MainPrice        False\n",
       "PriceInfo        False\n",
       "GeoLabel         False\n",
       "TimeLabel        False\n",
       "LinkArea         False\n",
       "Description      False\n",
       "cian_page        False\n",
       "ts               False\n",
       "place            False\n",
       "dtype: bool"
      ]
     },
     "execution_count": 15,
     "metadata": {},
     "output_type": "execute_result"
    }
   ],
   "source": [
    "data_cian.isnull().any()"
   ]
  },
  {
   "cell_type": "code",
   "execution_count": 16,
   "id": "5fb87c58",
   "metadata": {},
   "outputs": [],
   "source": [
    "swap_title = data_cian['OfferSubtitle'].str.match(r'.*\\d+ м², \\d+/\\d+ эт.*') \n",
    "\n",
    "data_cian = pd.concat([\n",
    "        data_cian[ ~swap_title ],\n",
    "        data_cian[ swap_title ]\n",
    "            .rename(columns={'OfferTitle':'OfferSubtitle','OfferSubtitle':'OfferTitle'})\n",
    "    ]).reset_index(drop=True)\n"
   ]
  },
  {
   "cell_type": "code",
   "execution_count": 17,
   "id": "33bda6e8",
   "metadata": {},
   "outputs": [],
   "source": [
    "# data_cian"
   ]
  },
  {
   "cell_type": "code",
   "execution_count": 18,
   "id": "7a11ac2f",
   "metadata": {},
   "outputs": [
    {
     "name": "stdout",
     "output_type": "stream",
     "text": [
      "24111\n"
     ]
    }
   ],
   "source": [
    "from lib.cian import CianDataCleaner\n",
    "\n",
    "data_cian = CianDataCleaner().transform( data_cian )\n",
    "\n",
    "print(len(data_cian))"
   ]
  },
  {
   "cell_type": "code",
   "execution_count": 19,
   "id": "b1df2dba",
   "metadata": {},
   "outputs": [],
   "source": [
    "assert len(data_cian)>0"
   ]
  },
  {
   "cell_type": "code",
   "execution_count": 20,
   "id": "979243e4",
   "metadata": {},
   "outputs": [
    {
     "name": "stdout",
     "output_type": "stream",
     "text": [
      "<class 'pandas.core.frame.DataFrame'>\n",
      "RangeIndex: 24111 entries, 0 to 24110\n",
      "Data columns (total 22 columns):\n",
      " #   Column         Non-Null Count  Dtype         \n",
      "---  ------         --------------  -----         \n",
      " 0   title          24111 non-null  object        \n",
      " 1   obj_name       24111 non-null  object        \n",
      " 2   adr            24111 non-null  object        \n",
      " 3   nrooms         24111 non-null  int64         \n",
      " 4   floor          24111 non-null  int64         \n",
      " 5   nfloors        24111 non-null  int64         \n",
      " 6   area           24111 non-null  float64       \n",
      " 7   is_studio      24111 non-null  bool          \n",
      " 8   is_apartment   24111 non-null  bool          \n",
      " 9   is_part        24111 non-null  bool          \n",
      " 10  is_auction     24111 non-null  bool          \n",
      " 11  is_openspace   24111 non-null  bool          \n",
      " 12  is_roof        24111 non-null  bool          \n",
      " 13  is_SNT         24111 non-null  bool          \n",
      " 14  price          24111 non-null  int64         \n",
      " 15  priceM         24111 non-null  float64       \n",
      " 16  is_last_floor  24111 non-null  bool          \n",
      " 17  cian_url       24111 non-null  object        \n",
      " 18  description    24111 non-null  object        \n",
      " 19  cian_page      24111 non-null  int64         \n",
      " 20  ts             24111 non-null  datetime64[ns]\n",
      " 21  place          24111 non-null  object        \n",
      "dtypes: bool(8), datetime64[ns](1), float64(2), int64(5), object(6)\n",
      "memory usage: 2.8+ MB\n"
     ]
    }
   ],
   "source": [
    "data_cian.info()"
   ]
  },
  {
   "cell_type": "code",
   "execution_count": 21,
   "id": "8ba603a9",
   "metadata": {},
   "outputs": [
    {
     "data": {
      "text/plain": [
       "title            False\n",
       "obj_name         False\n",
       "adr              False\n",
       "nrooms           False\n",
       "floor            False\n",
       "nfloors          False\n",
       "area             False\n",
       "is_studio        False\n",
       "is_apartment     False\n",
       "is_part          False\n",
       "is_auction       False\n",
       "is_openspace     False\n",
       "is_roof          False\n",
       "is_SNT           False\n",
       "price            False\n",
       "priceM           False\n",
       "is_last_floor    False\n",
       "cian_url         False\n",
       "description      False\n",
       "cian_page        False\n",
       "ts               False\n",
       "place            False\n",
       "dtype: bool"
      ]
     },
     "execution_count": 21,
     "metadata": {},
     "output_type": "execute_result"
    }
   ],
   "source": [
    "data_cian.isnull().any()"
   ]
  },
  {
   "cell_type": "code",
   "execution_count": 22,
   "id": "5eb571e0",
   "metadata": {},
   "outputs": [],
   "source": [
    "# data_cian\n",
    "# data_cian.query('nrooms==0')\n",
    "# data_cian[ data_cian['title'].str.len()<1 ]\n",
    "# data_cian[ data_cian['obj_name'].str.len()>0 ][['title','obj_name',]] # .to_csv('tmp/cian_title.csv',sep='\\t')|"
   ]
  },
  {
   "cell_type": "markdown",
   "id": "31f9a289",
   "metadata": {},
   "source": [
    "----"
   ]
  },
  {
   "cell_type": "code",
   "execution_count": 23,
   "id": "6cca7caf",
   "metadata": {},
   "outputs": [],
   "source": [
    "data_avito['url'] = 'https://avito.ru/' + data_avito['avito_id'].astype(int).astype(str)\n",
    "data_avito = data_avito.drop(columns=['avito_id'])\n",
    "data_cian = data_cian.rename(columns={'cian_url':'url'})"
   ]
  },
  {
   "cell_type": "code",
   "execution_count": 24,
   "id": "c6e47d9a",
   "metadata": {},
   "outputs": [
    {
     "name": "stdout",
     "output_type": "stream",
     "text": [
      "48341\n"
     ]
    }
   ],
   "source": [
    "data = pd.concat([data_avito,data_cian]).reset_index(drop=True) \n",
    "print(len(data))\n",
    "assert len(data)>0"
   ]
  },
  {
   "cell_type": "code",
   "execution_count": 25,
   "id": "24f3c19b",
   "metadata": {},
   "outputs": [
    {
     "data": {
      "text/html": [
       "<div>\n",
       "<style scoped>\n",
       "    .dataframe tbody tr th:only-of-type {\n",
       "        vertical-align: middle;\n",
       "    }\n",
       "\n",
       "    .dataframe tbody tr th {\n",
       "        vertical-align: top;\n",
       "    }\n",
       "\n",
       "    .dataframe thead th {\n",
       "        text-align: right;\n",
       "    }\n",
       "</style>\n",
       "<table border=\"1\" class=\"dataframe\">\n",
       "  <thead>\n",
       "    <tr style=\"text-align: right;\">\n",
       "      <th></th>\n",
       "      <th>title</th>\n",
       "      <th>price</th>\n",
       "      <th>adr</th>\n",
       "      <th>description</th>\n",
       "      <th>obj_name</th>\n",
       "      <th>ts</th>\n",
       "      <th>avito_page</th>\n",
       "      <th>place</th>\n",
       "      <th>nrooms</th>\n",
       "      <th>floor</th>\n",
       "      <th>...</th>\n",
       "      <th>is_apartment</th>\n",
       "      <th>is_part</th>\n",
       "      <th>is_auction</th>\n",
       "      <th>is_openspace</th>\n",
       "      <th>is_roof</th>\n",
       "      <th>is_SNT</th>\n",
       "      <th>priceM</th>\n",
       "      <th>is_last_floor</th>\n",
       "      <th>url</th>\n",
       "      <th>cian_page</th>\n",
       "    </tr>\n",
       "  </thead>\n",
       "  <tbody>\n",
       "    <tr>\n",
       "      <th>7455</th>\n",
       "      <td>1-к. квартира, 30,3 м², 1/4 эт.</td>\n",
       "      <td>8000000</td>\n",
       "      <td>улица Ленина, 13</td>\n",
       "      <td>Продам 1-комнатную квартиру, расположенную на 1 этаже 4-х этажного дома по ул. Ленина, 13. Дом сталинской постройки 1952 года. \\n\\nОбщая площадь квартиры — 30.3 кв. М;\\nКухня — 7кв. М;\\nЖилая площадь -15кв. М. \\n\\nВ квартире выполнен хороший косметический ремонт</td>\n",
       "      <td>ЖК «Центр»</td>\n",
       "      <td>2022-08-31 17:42:00</td>\n",
       "      <td>0.00</td>\n",
       "      <td>sevastopol</td>\n",
       "      <td>1</td>\n",
       "      <td>1</td>\n",
       "      <td>...</td>\n",
       "      <td>False</td>\n",
       "      <td>False</td>\n",
       "      <td>False</td>\n",
       "      <td>False</td>\n",
       "      <td>False</td>\n",
       "      <td>False</td>\n",
       "      <td>8.00</td>\n",
       "      <td>False</td>\n",
       "      <td>https://avito.ru/2516879656</td>\n",
       "      <td>NaN</td>\n",
       "    </tr>\n",
       "  </tbody>\n",
       "</table>\n",
       "<p>1 rows × 23 columns</p>\n",
       "</div>"
      ],
      "text/plain": [
       "                                title    price                adr  \\\n",
       "7455  1-к. квартира, 30,3 м², 1/4 эт.  8000000   улица Ленина, 13   \n",
       "\n",
       "                                                                                                                                                                                                                                                                 description  \\\n",
       "7455  Продам 1-комнатную квартиру, расположенную на 1 этаже 4-х этажного дома по ул. Ленина, 13. Дом сталинской постройки 1952 года. \\n\\nОбщая площадь квартиры — 30.3 кв. М;\\nКухня — 7кв. М;\\nЖилая площадь -15кв. М. \\n\\nВ квартире выполнен хороший косметический ремонт   \n",
       "\n",
       "        obj_name                  ts  avito_page       place  nrooms  floor  \\\n",
       "7455  ЖК «Центр» 2022-08-31 17:42:00        0.00  sevastopol       1      1   \n",
       "\n",
       "      ...  is_apartment  is_part  is_auction  is_openspace  is_roof  is_SNT  \\\n",
       "7455  ...         False    False       False         False    False   False   \n",
       "\n",
       "      priceM  is_last_floor                          url  cian_page  \n",
       "7455    8.00          False  https://avito.ru/2516879656        NaN  \n",
       "\n",
       "[1 rows x 23 columns]"
      ]
     },
     "execution_count": 25,
     "metadata": {},
     "output_type": "execute_result"
    }
   ],
   "source": [
    "data.sample()"
   ]
  },
  {
   "cell_type": "markdown",
   "id": "2903ab86",
   "metadata": {},
   "source": [
    "## обновляем таблицу адресов"
   ]
  },
  {
   "cell_type": "code",
   "execution_count": 26,
   "id": "328c2475",
   "metadata": {},
   "outputs": [],
   "source": [
    "# data_ = data.sample(15).reset_index(drop=True)\n",
    "# data_[['adr']]"
   ]
  },
  {
   "cell_type": "code",
   "execution_count": 27,
   "id": "119c3d8a",
   "metadata": {},
   "outputs": [],
   "source": [
    "places = { \n",
    "# поле 'place' и название города\n",
    "'bahchisaray': 'Бахчисарай,',\n",
    "      'sudak': 'Судак,',\n",
    "  'sevastopol': 'Севастополь,',\n",
    "}\n",
    "\n",
    "def norm_place(d,places=places):\n",
    "    if not d['place'] in places: return d['adr_']\n",
    "    p = places[ d['place'] ]\n",
    "    return d['adr_'] if d['adr_'].find(p)>-1 else p+d['adr_']"
   ]
  },
  {
   "cell_type": "code",
   "execution_count": 28,
   "id": "34e94334",
   "metadata": {},
   "outputs": [
    {
     "data": {
      "application/vnd.jupyter.widget-view+json": {
       "model_id": "9cb55c8438104a4d876b426125502d33",
       "version_major": 2,
       "version_minor": 0
      },
      "text/plain": [
       "  0%|          | 0/48341 [00:00<?, ?it/s]"
      ]
     },
     "metadata": {},
     "output_type": "display_data"
    },
    {
     "data": {
      "application/vnd.jupyter.widget-view+json": {
       "model_id": "df4b5fca75c24a4d9c5a3cb31d53c3af",
       "version_major": 2,
       "version_minor": 0
      },
      "text/plain": [
       "  0%|          | 0/48341 [00:00<?, ?it/s]"
      ]
     },
     "metadata": {},
     "output_type": "display_data"
    }
   ],
   "source": [
    "from lib.locator import AddressTransformer\n",
    "\n",
    "atr = AddressTransformer()\n",
    "data['adr_'] = data['adr'].progress_apply(atr.transform)\n",
    "data['adr_'] = data[['adr_','place']].progress_apply(norm_place,axis=1)\n",
    "data = data.rename(columns={'adr':'adr_orig','adr_':'adr'})"
   ]
  },
  {
   "cell_type": "code",
   "execution_count": 29,
   "id": "6091bb5b",
   "metadata": {},
   "outputs": [
    {
     "data": {
      "text/html": [
       "<div>\n",
       "<style scoped>\n",
       "    .dataframe tbody tr th:only-of-type {\n",
       "        vertical-align: middle;\n",
       "    }\n",
       "\n",
       "    .dataframe tbody tr th {\n",
       "        vertical-align: top;\n",
       "    }\n",
       "\n",
       "    .dataframe thead th {\n",
       "        text-align: right;\n",
       "    }\n",
       "</style>\n",
       "<table border=\"1\" class=\"dataframe\">\n",
       "  <thead>\n",
       "    <tr style=\"text-align: right;\">\n",
       "      <th></th>\n",
       "      <th>adr_orig</th>\n",
       "      <th>adr</th>\n",
       "    </tr>\n",
       "  </thead>\n",
       "  <tbody>\n",
       "    <tr>\n",
       "      <th>35100</th>\n",
       "      <td>Севастополь, район Балаклавский, микрорайон Балаклава, улица Аксютина, 20</td>\n",
       "      <td>Севастополь, район Балаклавский, Балаклава, улица Аксютина, 20</td>\n",
       "    </tr>\n",
       "    <tr>\n",
       "      <th>45709</th>\n",
       "      <td>Севастополь, район Ленинский, улица Очаковцев, 60</td>\n",
       "      <td>Севастополь, район Ленинский, улица Очаковцев, 60</td>\n",
       "    </tr>\n",
       "    <tr>\n",
       "      <th>47530</th>\n",
       "      <td>Севастополь, район Ленинский, микрорайон Центр, улица Большая Морская, 5</td>\n",
       "      <td>Севастополь, район Ленинский, Центр, улица Большая Морская, 5</td>\n",
       "    </tr>\n",
       "    <tr>\n",
       "      <th>20918</th>\n",
       "      <td>проезд Рубежный, д. 28</td>\n",
       "      <td>Севастополь, проезд Рубежный, д. 28</td>\n",
       "    </tr>\n",
       "    <tr>\n",
       "      <th>42711</th>\n",
       "      <td>Севастополь, район Ленинский, улица Руднева, 15</td>\n",
       "      <td>Севастополь, район Ленинский, улица Руднева, 15</td>\n",
       "    </tr>\n",
       "    <tr>\n",
       "      <th>5174</th>\n",
       "      <td>улица Тараса Шевченко, 21А</td>\n",
       "      <td>Севастополь, улица Тараса Шевченко, 21А</td>\n",
       "    </tr>\n",
       "    <tr>\n",
       "      <th>10460</th>\n",
       "      <td>проспект Победы, 29В</td>\n",
       "      <td>Севастополь, проспект Победы, 29В</td>\n",
       "    </tr>\n",
       "    <tr>\n",
       "      <th>4797</th>\n",
       "      <td>проспект Генерала Острякова, 240</td>\n",
       "      <td>Севастополь, проспект Генерала Острякова, 240</td>\n",
       "    </tr>\n",
       "    <tr>\n",
       "      <th>10386</th>\n",
       "      <td>улица Военных Строителей, д. 10/3Б</td>\n",
       "      <td>Севастополь, улица Военных Строителей, д. 10/3Б</td>\n",
       "    </tr>\n",
       "    <tr>\n",
       "      <th>45743</th>\n",
       "      <td>Севастополь, район Ленинский, микрорайон Острякова, проспект Генерала Острякова, 3</td>\n",
       "      <td>Севастополь, район Ленинский, Острякова, проспект Генерала Острякова, 3</td>\n",
       "    </tr>\n",
       "  </tbody>\n",
       "</table>\n",
       "</div>"
      ],
      "text/plain": [
       "                                                                                 adr_orig  \\\n",
       "35100           Севастополь, район Балаклавский, микрорайон Балаклава, улица Аксютина, 20   \n",
       "45709                                   Севастополь, район Ленинский, улица Очаковцев, 60   \n",
       "47530            Севастополь, район Ленинский, микрорайон Центр, улица Большая Морская, 5   \n",
       "20918                                                              проезд Рубежный, д. 28   \n",
       "42711                                     Севастополь, район Ленинский, улица Руднева, 15   \n",
       "5174                                                           улица Тараса Шевченко, 21А   \n",
       "10460                                                                проспект Победы, 29В   \n",
       "4797                                                     проспект Генерала Острякова, 240   \n",
       "10386                                                  улица Военных Строителей, д. 10/3Б   \n",
       "45743  Севастополь, район Ленинский, микрорайон Острякова, проспект Генерала Острякова, 3   \n",
       "\n",
       "                                                                           adr  \n",
       "35100           Севастополь, район Балаклавский, Балаклава, улица Аксютина, 20  \n",
       "45709                        Севастополь, район Ленинский, улица Очаковцев, 60  \n",
       "47530            Севастополь, район Ленинский, Центр, улица Большая Морская, 5  \n",
       "20918                                      Севастополь, проезд Рубежный, д. 28  \n",
       "42711                          Севастополь, район Ленинский, улица Руднева, 15  \n",
       "5174                                   Севастополь, улица Тараса Шевченко, 21А  \n",
       "10460                                        Севастополь, проспект Победы, 29В  \n",
       "4797                             Севастополь, проспект Генерала Острякова, 240  \n",
       "10386                          Севастополь, улица Военных Строителей, д. 10/3Б  \n",
       "45743  Севастополь, район Ленинский, Острякова, проспект Генерала Острякова, 3  "
      ]
     },
     "execution_count": 29,
     "metadata": {},
     "output_type": "execute_result"
    }
   ],
   "source": [
    "data[['adr_orig','adr']].sample(10)"
   ]
  },
  {
   "cell_type": "code",
   "execution_count": 30,
   "id": "9f8dcec3",
   "metadata": {},
   "outputs": [
    {
     "name": "stdout",
     "output_type": "stream",
     "text": [
      "[INFO    ] 2023-01-27 16:51:06 | LocationUpdater: 8586 addresses in index\n",
      "[INFO    ] 2023-01-27 16:51:06 | LocationUpdater: 8676 addresses total\n",
      "[INFO    ] 2023-01-27 16:51:06 | LocationUpdater: 8586 addresses defined\n",
      "[INFO    ] 2023-01-27 16:51:06 | LocationUpdater: 90 addresses undefined\n"
     ]
    },
    {
     "data": {
      "application/vnd.jupyter.widget-view+json": {
       "model_id": "446fa61940af4fd283acf30ec8c457c3",
       "version_major": 2,
       "version_minor": 0
      },
      "text/plain": [
       "  0%|          | 0/90 [00:00<?, ?it/s]"
      ]
     },
     "metadata": {},
     "output_type": "display_data"
    },
    {
     "name": "stdout",
     "output_type": "stream",
     "text": [
      "[INFO    ] 2023-01-27 16:51:37 | LocationUpdater: 90 new addresses found\n"
     ]
    }
   ],
   "source": [
    "# from lib.locator import GeocoderSimpleOSM\n",
    "from lib.locator import GeocoderYandex\n",
    "from yandex_keys import keys\n",
    "\n",
    "atr = AddressTransformer()\n",
    "locator = GeocoderYandex(keys[0])\n",
    "# locator = GeocoderSimpleOSM()\n",
    "\n",
    "loc_file_path = 'data/location.pkl' # таблица адресов\n",
    "loc = pd.read_pickle(loc_file_path)\n",
    "# loc = pd.DataFrame([],columns=['adr','latitude','longitude',])\n",
    "logging.info(f'LocationUpdater: {len(loc)} addresses in index')\n",
    "\n",
    "# собираем все адреса в один список\n",
    "loc = loc.merge(\n",
    "        data[['adr']].drop_duplicates(),\n",
    "        how='outer',\n",
    "        on='adr',\n",
    "    ).drop_duplicates().reset_index(drop=True)\n",
    "\n",
    "logging.info(f'LocationUpdater: {len(loc)} addresses total')\n",
    "\n",
    "# собираем все адреса с геопозицией\n",
    "loc_def = loc[~loc['latitude'].isna()].reset_index(drop=True)\n",
    "logging.info(f'LocationUpdater: {len(loc_def)} addresses defined')\n",
    "\n",
    "# собираем все адреса без геопозиции\n",
    "loc_undef = loc[loc['latitude'].isna()][['adr']].reset_index(drop=True)\n",
    "logging.info(f'LocationUpdater: {len(loc_undef)} addresses undefined')\n",
    "\n",
    "if len(loc_undef)>0:\n",
    "    # определяем координаты по строке адреса\n",
    "    loc_undef = loc_undef.join( loc_undef['adr'].progress_apply(locator.transform).apply(pd.Series) ).dropna()     \n",
    "    logging.info(f'LocationUpdater: {len(loc_undef)} new addresses found')\n",
    "    loc = pd.concat([loc_def,loc_undef]).reset_index(drop=True) \n",
    "    assert len(loc)>0\n",
    "    loc.to_pickle(loc_file_path)"
   ]
  },
  {
   "cell_type": "code",
   "execution_count": 31,
   "id": "19741bb7",
   "metadata": {},
   "outputs": [
    {
     "name": "stdout",
     "output_type": "stream",
     "text": [
      "8676\n"
     ]
    },
    {
     "data": {
      "text/html": [
       "<div>\n",
       "<style scoped>\n",
       "    .dataframe tbody tr th:only-of-type {\n",
       "        vertical-align: middle;\n",
       "    }\n",
       "\n",
       "    .dataframe tbody tr th {\n",
       "        vertical-align: top;\n",
       "    }\n",
       "\n",
       "    .dataframe thead th {\n",
       "        text-align: right;\n",
       "    }\n",
       "</style>\n",
       "<table border=\"1\" class=\"dataframe\">\n",
       "  <thead>\n",
       "    <tr style=\"text-align: right;\">\n",
       "      <th></th>\n",
       "      <th>latitude</th>\n",
       "      <th>longitude</th>\n",
       "      <th>adr</th>\n",
       "    </tr>\n",
       "  </thead>\n",
       "  <tbody>\n",
       "    <tr>\n",
       "      <th>4833</th>\n",
       "      <td>44.583583</td>\n",
       "      <td>33.553181</td>\n",
       "      <td>Севастополь,ул. Василия Колодкина, 58</td>\n",
       "    </tr>\n",
       "    <tr>\n",
       "      <th>823</th>\n",
       "      <td>44.57</td>\n",
       "      <td>33.52</td>\n",
       "      <td>Севастополь, проспект Генерала Острякова, 136</td>\n",
       "    </tr>\n",
       "    <tr>\n",
       "      <th>4765</th>\n",
       "      <td>44.547851</td>\n",
       "      <td>33.429052</td>\n",
       "      <td>Севастополь,садоводческое товарищество Голубой залив, 96</td>\n",
       "    </tr>\n",
       "  </tbody>\n",
       "</table>\n",
       "</div>"
      ],
      "text/plain": [
       "       latitude  longitude  \\\n",
       "4833  44.583583  33.553181   \n",
       "823       44.57      33.52   \n",
       "4765  44.547851  33.429052   \n",
       "\n",
       "                                                           adr  \n",
       "4833                     Севастополь,ул. Василия Колодкина, 58  \n",
       "823              Севастополь, проспект Генерала Острякова, 136  \n",
       "4765  Севастополь,садоводческое товарищество Голубой залив, 96  "
      ]
     },
     "execution_count": 31,
     "metadata": {},
     "output_type": "execute_result"
    }
   ],
   "source": [
    "print( len(loc) )\n",
    "loc.sample(3)"
   ]
  },
  {
   "cell_type": "markdown",
   "id": "30dbd6a6",
   "metadata": {},
   "source": [
    "## дополняем данные геометкой"
   ]
  },
  {
   "cell_type": "code",
   "execution_count": 32,
   "id": "77fd1b59",
   "metadata": {},
   "outputs": [],
   "source": [
    "# data = data.rename(columns={'adr':'adr_orig','adr_':'adr'})"
   ]
  },
  {
   "cell_type": "code",
   "execution_count": 33,
   "id": "06470644",
   "metadata": {},
   "outputs": [
    {
     "name": "stdout",
     "output_type": "stream",
     "text": [
      "всего записей: 48341\n",
      "записей без геометки: 0\n"
     ]
    }
   ],
   "source": [
    "data = data.merge(loc,on=['adr'],how='left')\n",
    "\n",
    "print('всего записей:', len( data) )\n",
    "print('записей без геометки:', len( data[ data['latitude'].isna() ] ) )"
   ]
  },
  {
   "cell_type": "code",
   "execution_count": 34,
   "id": "b3161e64",
   "metadata": {},
   "outputs": [],
   "source": [
    "assert len(data)>0\n",
    "data.to_pickle(result_file_path)"
   ]
  },
  {
   "cell_type": "code",
   "execution_count": 35,
   "id": "799e47c2",
   "metadata": {},
   "outputs": [
    {
     "name": "stdout",
     "output_type": "stream",
     "text": [
      "<class 'pandas.core.frame.DataFrame'>\n",
      "Int64Index: 48341 entries, 0 to 48340\n",
      "Data columns (total 26 columns):\n",
      " #   Column         Non-Null Count  Dtype         \n",
      "---  ------         --------------  -----         \n",
      " 0   title          48341 non-null  object        \n",
      " 1   price          48341 non-null  int64         \n",
      " 2   adr_orig       48341 non-null  object        \n",
      " 3   description    48341 non-null  object        \n",
      " 4   obj_name       48341 non-null  object        \n",
      " 5   ts             48341 non-null  datetime64[ns]\n",
      " 6   avito_page     24230 non-null  float64       \n",
      " 7   place          48341 non-null  object        \n",
      " 8   nrooms         48341 non-null  int64         \n",
      " 9   floor          48341 non-null  int64         \n",
      " 10  nfloors        48341 non-null  int64         \n",
      " 11  area           48341 non-null  float64       \n",
      " 12  is_studio      48341 non-null  bool          \n",
      " 13  is_apartment   48341 non-null  bool          \n",
      " 14  is_part        48341 non-null  bool          \n",
      " 15  is_auction     48341 non-null  bool          \n",
      " 16  is_openspace   48341 non-null  bool          \n",
      " 17  is_roof        48341 non-null  bool          \n",
      " 18  is_SNT         48341 non-null  bool          \n",
      " 19  priceM         48341 non-null  float64       \n",
      " 20  is_last_floor  48341 non-null  bool          \n",
      " 21  url            48341 non-null  object        \n",
      " 22  cian_page      24111 non-null  float64       \n",
      " 23  adr            48341 non-null  object        \n",
      " 24  latitude       48341 non-null  object        \n",
      " 25  longitude      48341 non-null  object        \n",
      "dtypes: bool(8), datetime64[ns](1), float64(4), int64(4), object(9)\n",
      "memory usage: 7.4+ MB\n"
     ]
    }
   ],
   "source": [
    "data.info()"
   ]
  },
  {
   "cell_type": "code",
   "execution_count": 38,
   "id": "d8eae2b4",
   "metadata": {},
   "outputs": [
    {
     "data": {
      "text/plain": [
       "ts   2023-01-27 16:37:11.689592\n",
       "dtype: datetime64[ns]"
      ]
     },
     "execution_count": 38,
     "metadata": {},
     "output_type": "execute_result"
    }
   ],
   "source": [
    "data[['ts']].max()"
   ]
  },
  {
   "cell_type": "code",
   "execution_count": 40,
   "id": "240582b2",
   "metadata": {},
   "outputs": [
    {
     "data": {
      "text/plain": [
       "ts\n",
       "2022-08-26 17:29:00.000000    3487\n",
       "2022-08-29 13:16:00.000000    3458\n",
       "2022-08-31 17:42:00.000000    3416\n",
       "2022-09-01 14:07:00.000000    3427\n",
       "2022-09-02 13:04:00.000000     612\n",
       "2022-09-05 14:02:00.000000     635\n",
       "2022-09-06 13:09:00.000000     688\n",
       "2022-09-07 12:46:11.483000     565\n",
       "2022-09-08 13:36:05.789000     704\n",
       "2022-09-08 14:25:06.437355    1503\n",
       "2022-09-12 13:44:49.319000     462\n",
       "2022-09-12 13:59:10.149602    1506\n",
       "2022-09-13 13:55:03.079000     497\n",
       "2022-09-13 13:59:12.511147    1506\n",
       "2022-09-15 10:27:26.895000     508\n",
       "2022-09-15 10:30:49.198554    1507\n",
       "2022-09-16 15:07:31.632000     484\n",
       "2022-09-16 15:11:49.899057    1477\n",
       "2022-09-19 12:36:43.740000     432\n",
       "2022-09-19 12:40:25.246363    1496\n",
       "2022-09-22 09:48:34.368000     438\n",
       "2022-09-22 09:53:39.964462    1473\n",
       "2022-09-26 11:20:17.002000     458\n",
       "2022-09-26 11:23:56.441542    1475\n",
       "2022-10-08 20:34:54.992000     463\n",
       "2022-10-08 20:39:21.911499    1490\n",
       "2022-10-14 15:48:44.706000     435\n",
       "2022-10-14 15:53:32.427946    1499\n",
       "2022-11-01 13:51:36.763000     299\n",
       "2022-11-01 13:57:22.545204    1480\n",
       "2022-11-04 17:11:28.841000     388\n",
       "2022-11-04 17:14:54.237934    1444\n",
       "2022-11-07 10:43:26.010000     432\n",
       "2022-11-07 10:47:14.221933    1462\n",
       "2022-11-15 13:12:30.596000     351\n",
       "2022-11-15 13:16:52.865293    1437\n",
       "2022-11-28 13:20:28.620000     632\n",
       "2022-11-28 15:30:48.195785    1424\n",
       "2023-01-10 11:25:11.144238     465\n",
       "2023-01-10 11:25:50.588000     959\n",
       "2023-01-27 16:37:11.689592    1467\n",
       "dtype: int64"
      ]
     },
     "execution_count": 40,
     "metadata": {},
     "output_type": "execute_result"
    }
   ],
   "source": [
    "data[['ts']].groupby('ts').size()"
   ]
  },
  {
   "cell_type": "code",
   "execution_count": null,
   "id": "7af0eccc",
   "metadata": {},
   "outputs": [],
   "source": []
  }
 ],
 "metadata": {
  "kernelspec": {
   "display_name": "Python 3 (ipykernel)",
   "language": "python",
   "name": "python3"
  },
  "language_info": {
   "codemirror_mode": {
    "name": "ipython",
    "version": 3
   },
   "file_extension": ".py",
   "mimetype": "text/x-python",
   "name": "python",
   "nbconvert_exporter": "python",
   "pygments_lexer": "ipython3",
   "version": "3.10.8"
  },
  "toc": {
   "base_numbering": 1,
   "nav_menu": {},
   "number_sections": true,
   "sideBar": true,
   "skip_h1_title": false,
   "title_cell": "Table of Contents",
   "title_sidebar": "Contents",
   "toc_cell": false,
   "toc_position": {
    "height": "calc(100% - 180px)",
    "left": "10px",
    "top": "150px",
    "width": "360.594px"
   },
   "toc_section_display": true,
   "toc_window_display": false
  },
  "varInspector": {
   "cols": {
    "lenName": 16,
    "lenType": 16,
    "lenVar": 40
   },
   "kernels_config": {
    "python": {
     "delete_cmd_postfix": "",
     "delete_cmd_prefix": "del ",
     "library": "var_list.py",
     "varRefreshCmd": "print(var_dic_list())"
    },
    "r": {
     "delete_cmd_postfix": ") ",
     "delete_cmd_prefix": "rm(",
     "library": "var_list.r",
     "varRefreshCmd": "cat(var_dic_list()) "
    }
   },
   "types_to_exclude": [
    "module",
    "function",
    "builtin_function_or_method",
    "instance",
    "_Feature"
   ],
   "window_display": false
  }
 },
 "nbformat": 4,
 "nbformat_minor": 5
}
