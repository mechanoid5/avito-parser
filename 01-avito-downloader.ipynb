{
 "cells": [
  {
   "cell_type": "code",
   "execution_count": null,
   "id": "52c5999f",
   "metadata": {},
   "outputs": [],
   "source": [
    "# !pacman -S firefox firefox-i18n-r  geckodriver\n",
    "# !pip install selenium"
   ]
  },
  {
   "cell_type": "code",
   "execution_count": 23,
   "id": "1b191f4b",
   "metadata": {
    "ExecuteTime": {
     "end_time": "2022-08-26T13:09:18.954339Z",
     "start_time": "2022-08-26T13:09:18.693295Z"
    }
   },
   "outputs": [
    {
     "name": "stdout",
     "output_type": "stream",
     "text": [
      "удалён 'geckodriver.log_'\n",
      "mv: не удалось выполнить stat для 'geckodriver.log': Нет такого файла или каталога\n"
     ]
    }
   ],
   "source": [
    "!rm -v geckodriver.log_\n",
    "!mv -v geckodriver.log geckodriver.log_"
   ]
  },
  {
   "cell_type": "code",
   "execution_count": null,
   "id": "caabc8c7",
   "metadata": {
    "ExecuteTime": {
     "end_time": "2022-08-26T14:19:06.118492Z",
     "start_time": "2022-08-26T14:13:37.888398Z"
    }
   },
   "outputs": [],
   "source": [
    "import re\n",
    "from tqdm.notebook import tqdm\n",
    "import pandas as pd\n",
    "from bs4 import BeautifulSoup\n",
    "\n",
    "from selenium import webdriver\n",
    "from selenium.webdriver.firefox.options import Options\n",
    "from selenium.webdriver.firefox.options import FirefoxProfile"
   ]
  },
  {
   "cell_type": "code",
   "execution_count": null,
   "id": "d437eab9",
   "metadata": {},
   "outputs": [],
   "source": [
    "# url = (\n",
    "# 'https://www.avito.ru/yaroslavskaya_oblast/avtomobili/chevrolet/niva'\n",
    "# '?bt=0'\n",
    "# '&i=1'\n",
    "# '&pmax=150000'\n",
    "# '&pmin=10000'\n",
    "# )\n",
    "\n",
    "url = 'https://www.avito.ru/sevastopol/kvartiry/prodam?'# '&pmax=5000000'\n",
    "\n",
    "profile_path = '/home/mechanoid/.mozilla/firefox/p144xo2m.default-release'"
   ]
  },
  {
   "cell_type": "code",
   "execution_count": 87,
   "id": "8d1681d9",
   "metadata": {
    "ExecuteTime": {
     "end_time": "2022-08-26T14:19:06.118492Z",
     "start_time": "2022-08-26T14:13:37.888398Z"
    }
   },
   "outputs": [
    {
     "name": "stderr",
     "output_type": "stream",
     "text": [
      "/tmp/ipykernel_508904/2340081842.py:45: DeprecationWarning: firefox_profile has been deprecated, please use an Options object\n",
      "  options.profile = FirefoxProfile(profile_path)\n",
      "/tmp/ipykernel_508904/2340081842.py:45: DeprecationWarning: Setting a profile has been deprecated. Please use the set_preference and install_addons methods\n",
      "  options.profile = FirefoxProfile(profile_path)\n"
     ]
    },
    {
     "name": "stdout",
     "output_type": "stream",
     "text": [
      "81\n"
     ]
    },
    {
     "data": {
      "application/vnd.jupyter.widget-view+json": {
       "model_id": "f02db46236384fb8b0b576ae98a1a12e",
       "version_major": 2,
       "version_minor": 0
      },
      "text/plain": [
       "  0%|          | 0/79 [00:00<?, ?it/s]"
      ]
     },
     "metadata": {},
     "output_type": "display_data"
    }
   ],
   "source": [
    "def get_pages_count(root):\n",
    "    pp = re.sub( r'.*?p=', '', root.find_all('a',{'class':'pagination-page'})[-1].attrs['href'] ) \n",
    "    return 1 if not re.match(r'\\d{1,3}', pp) else int(pp)\n",
    "\n",
    "\n",
    "def parse_item(tag):\n",
    "    try:\n",
    "        return {    \n",
    "    'avito_id':tag.attrs['data-item-id'],   # https://www.avito.ru/<id>\n",
    "    'title':tag.find('a',attrs={'itemprop':'url'}).attrs['title'],    \n",
    "    'price':tag.find('meta',attrs={'itemprop':'price'}).attrs['content'],\n",
    "     # 'cur':tag.find('meta',attrs={'itemprop':'priceCurrency'}).attrs['content'],\n",
    "    'adr':tag.find('div',attrs={'data-marker':'item-address'}).text,\n",
    "    'description':tag.find('meta',attrs={'itemprop':'description'}).attrs['content'],\n",
    "        }\n",
    "    except:\n",
    "        return dict()\n",
    "\n",
    "\n",
    "options=Options()\n",
    "options.profile = FirefoxProfile(profile_path) \n",
    "options.headless = True\n",
    "driver = webdriver.Firefox( options=options)\n",
    "\n",
    "driver.get(url)\n",
    "html = driver.page_source\n",
    "\n",
    "root = BeautifulSoup(html)\n",
    "pages = get_pages_count(root)\n",
    "print(pages)\n",
    "data = [ parse_item(tag) for tag in root.find_all('div',{'data-marker':'item'}) ]\n",
    "\n",
    "for p in tqdm(range(2,pages)):\n",
    "    driver.get(url+f'&p={p}')\n",
    "    html = driver.page_source\n",
    "    root = BeautifulSoup(html)\n",
    "    data.extend( [ parse_item(tag) for tag in root.find_all('div',{'data-marker':'item'}) ] )\n",
    "\n",
    "# driver.close()\n",
    "driver.quit()"
   ]
  },
  {
   "cell_type": "code",
   "execution_count": 112,
   "id": "6b61d546",
   "metadata": {
    "ExecuteTime": {
     "end_time": "2022-08-26T14:28:54.896946Z",
     "start_time": "2022-08-26T14:28:54.857053Z"
    }
   },
   "outputs": [
    {
     "name": "stdout",
     "output_type": "stream",
     "text": [
      "3949\n"
     ]
    },
    {
     "data": {
      "text/html": [
       "<div>\n",
       "<style scoped>\n",
       "    .dataframe tbody tr th:only-of-type {\n",
       "        vertical-align: middle;\n",
       "    }\n",
       "\n",
       "    .dataframe tbody tr th {\n",
       "        vertical-align: top;\n",
       "    }\n",
       "\n",
       "    .dataframe thead th {\n",
       "        text-align: right;\n",
       "    }\n",
       "</style>\n",
       "<table border=\"1\" class=\"dataframe\">\n",
       "  <thead>\n",
       "    <tr style=\"text-align: right;\">\n",
       "      <th></th>\n",
       "      <th>title</th>\n",
       "      <th>description</th>\n",
       "      <th>price</th>\n",
       "      <th>cur</th>\n",
       "      <th>adr</th>\n",
       "      <th>avito_id</th>\n",
       "    </tr>\n",
       "  </thead>\n",
       "  <tbody>\n",
       "    <tr>\n",
       "      <th>3906</th>\n",
       "      <td>Объявление «2-к. квартира, 58,1 м², 9/9 эт.» 7...</td>\n",
       "      <td>Продается 2-х комнатная квартира в самом прекр...</td>\n",
       "      <td>11400000</td>\n",
       "      <td>RUB</td>\n",
       "      <td>ЖК «Апельсин» ул. Павла Корчагина, д. 23, блок...</td>\n",
       "      <td>2406535369</td>\n",
       "    </tr>\n",
       "    <tr>\n",
       "      <th>1882</th>\n",
       "      <td>Объявление «1-к. апартаменты, 27,5 м², 2/6 эт....</td>\n",
       "      <td>Продаются отличные апартаменты, которые распол...</td>\n",
       "      <td>3800000</td>\n",
       "      <td>RUB</td>\n",
       "      <td>Фиолентовское ш., 134к5</td>\n",
       "      <td>2424886339</td>\n",
       "    </tr>\n",
       "    <tr>\n",
       "      <th>1161</th>\n",
       "      <td>Объявление «3-к. квартира, 77 м², 2/8 эт.» 17 ...</td>\n",
       "      <td>В продаже большая трехкомнатная двухуровневая ...</td>\n",
       "      <td>12500000</td>\n",
       "      <td>RUB</td>\n",
       "      <td>ул. Адмирала Юмашева, 13</td>\n",
       "      <td>2331971549</td>\n",
       "    </tr>\n",
       "    <tr>\n",
       "      <th>3029</th>\n",
       "      <td>Объявление «3-к. квартира, 71 м², 3/5 эт.» 17 ...</td>\n",
       "      <td>Продаётся уютная трёхкомнатная квартира в Гага...</td>\n",
       "      <td>10000000</td>\n",
       "      <td>RUB</td>\n",
       "      <td>ул. Александра Маринеско, 11</td>\n",
       "      <td>2446061678</td>\n",
       "    </tr>\n",
       "    <tr>\n",
       "      <th>655</th>\n",
       "      <td>Объявление «1-к. квартира, 36,3 м², 3/9 эт.» с...</td>\n",
       "      <td>Крупнейший в Севастополе семейный микрорайон «...</td>\n",
       "      <td>5808000</td>\n",
       "      <td>RUB</td>\n",
       "      <td>ЖК «Доброгород»ул. Токарева, 7 этап, блок-секц...</td>\n",
       "      <td>2505695205</td>\n",
       "    </tr>\n",
       "    <tr>\n",
       "      <th>3520</th>\n",
       "      <td>Объявление «1-к. квартира, 30,3 м², 4/5 эт.» 6...</td>\n",
       "      <td>Однокомнатная квартира 30.3м2 на 4/5 этаже дом...</td>\n",
       "      <td>7100000</td>\n",
       "      <td>RUB</td>\n",
       "      <td>ул. Меньшикова, 19</td>\n",
       "      <td>2455862087</td>\n",
       "    </tr>\n",
       "    <tr>\n",
       "      <th>2518</th>\n",
       "      <td>Объявление «2-к. квартира, 44,7 м², 5/5 эт.» 1...</td>\n",
       "      <td>В продаже двухкомнатная уютная квартира в тихо...</td>\n",
       "      <td>5800000</td>\n",
       "      <td>RUB</td>\n",
       "      <td>ул. Маршала Бирюзова, 9</td>\n",
       "      <td>2281182173</td>\n",
       "    </tr>\n",
       "    <tr>\n",
       "      <th>670</th>\n",
       "      <td>Объявление «1-к. квартира, 28,3 м², 3/9 эт.» с...</td>\n",
       "      <td>Крупнейший в Севастополе семейный микрорайон «...</td>\n",
       "      <td>4952500</td>\n",
       "      <td>RUB</td>\n",
       "      <td>ЖК «Доброгород»ул. Токарева, 7 этап, блок-секц...</td>\n",
       "      <td>2505809392</td>\n",
       "    </tr>\n",
       "    <tr>\n",
       "      <th>1853</th>\n",
       "      <td>Объявление «2-к. квартира, 45 м², 5/5 эт.» 16 ...</td>\n",
       "      <td>Двухкомнатная квартира 45,3 м2, на 5/5 этаже д...</td>\n",
       "      <td>7000000</td>\n",
       "      <td>RUB</td>\n",
       "      <td>пр-т Генерала Острякова, 94</td>\n",
       "      <td>2425679365</td>\n",
       "    </tr>\n",
       "    <tr>\n",
       "      <th>231</th>\n",
       "      <td>Объявление «1-к. квартира, 30,6 м², 3/4 эт.» 8...</td>\n",
       "      <td>Срочно! Собственник! Продаю 1 — комнатную уютн...</td>\n",
       "      <td>4950000</td>\n",
       "      <td>RUB</td>\n",
       "      <td>ул. Героев Севастополя, 23</td>\n",
       "      <td>2464975481</td>\n",
       "    </tr>\n",
       "  </tbody>\n",
       "</table>\n",
       "</div>"
      ],
      "text/plain": [
       "                                                  title  \\\n",
       "3906  Объявление «2-к. квартира, 58,1 м², 9/9 эт.» 7...   \n",
       "1882  Объявление «1-к. апартаменты, 27,5 м², 2/6 эт....   \n",
       "1161  Объявление «3-к. квартира, 77 м², 2/8 эт.» 17 ...   \n",
       "3029  Объявление «3-к. квартира, 71 м², 3/5 эт.» 17 ...   \n",
       "655   Объявление «1-к. квартира, 36,3 м², 3/9 эт.» с...   \n",
       "3520  Объявление «1-к. квартира, 30,3 м², 4/5 эт.» 6...   \n",
       "2518  Объявление «2-к. квартира, 44,7 м², 5/5 эт.» 1...   \n",
       "670   Объявление «1-к. квартира, 28,3 м², 3/9 эт.» с...   \n",
       "1853  Объявление «2-к. квартира, 45 м², 5/5 эт.» 16 ...   \n",
       "231   Объявление «1-к. квартира, 30,6 м², 3/4 эт.» 8...   \n",
       "\n",
       "                                            description     price  cur  \\\n",
       "3906  Продается 2-х комнатная квартира в самом прекр...  11400000  RUB   \n",
       "1882  Продаются отличные апартаменты, которые распол...   3800000  RUB   \n",
       "1161  В продаже большая трехкомнатная двухуровневая ...  12500000  RUB   \n",
       "3029  Продаётся уютная трёхкомнатная квартира в Гага...  10000000  RUB   \n",
       "655   Крупнейший в Севастополе семейный микрорайон «...   5808000  RUB   \n",
       "3520  Однокомнатная квартира 30.3м2 на 4/5 этаже дом...   7100000  RUB   \n",
       "2518  В продаже двухкомнатная уютная квартира в тихо...   5800000  RUB   \n",
       "670   Крупнейший в Севастополе семейный микрорайон «...   4952500  RUB   \n",
       "1853  Двухкомнатная квартира 45,3 м2, на 5/5 этаже д...   7000000  RUB   \n",
       "231   Срочно! Собственник! Продаю 1 — комнатную уютн...   4950000  RUB   \n",
       "\n",
       "                                                    adr    avito_id  \n",
       "3906  ЖК «Апельсин» ул. Павла Корчагина, д. 23, блок...  2406535369  \n",
       "1882                            Фиолентовское ш., 134к5  2424886339  \n",
       "1161                           ул. Адмирала Юмашева, 13  2331971549  \n",
       "3029                       ул. Александра Маринеско, 11  2446061678  \n",
       "655   ЖК «Доброгород»ул. Токарева, 7 этап, блок-секц...  2505695205  \n",
       "3520                                 ул. Меньшикова, 19  2455862087  \n",
       "2518                            ул. Маршала Бирюзова, 9  2281182173  \n",
       "670   ЖК «Доброгород»ул. Токарева, 7 этап, блок-секц...  2505809392  \n",
       "1853                        пр-т Генерала Острякова, 94  2425679365  \n",
       "231                          ул. Героев Севастополя, 23  2464975481  "
      ]
     },
     "execution_count": 112,
     "metadata": {},
     "output_type": "execute_result"
    }
   ],
   "source": [
    "import pandas as pd\n",
    "df = pd.DataFrame(data).dropna()\n",
    "print(len(df))\n",
    "df.sample(10)"
   ]
  },
  {
   "cell_type": "code",
   "execution_count": 114,
   "id": "f513c10e",
   "metadata": {
    "ExecuteTime": {
     "end_time": "2022-08-26T14:29:36.194793Z",
     "start_time": "2022-08-26T14:29:35.375269Z"
    }
   },
   "outputs": [
    {
     "data": {
      "text/plain": [
       "'2022-08-26_17-29'"
      ]
     },
     "execution_count": 114,
     "metadata": {},
     "output_type": "execute_result"
    }
   ],
   "source": [
    "from datetime import datetime as dt\n",
    "\n",
    "ts = dt.now().strftime('%Y-%m-%d_%H-%M')\n",
    "df[['avito_id','title','price','adr','description',]].to_excel(f'data/avito_{ts}_raw.xlsx',index=False)\n",
    "\n",
    "ts"
   ]
  },
  {
   "cell_type": "code",
   "execution_count": null,
   "id": "b3aff3a3",
   "metadata": {},
   "outputs": [],
   "source": []
  }
 ],
 "metadata": {
  "kernelspec": {
   "display_name": "Python 3 (ipykernel)",
   "language": "python",
   "name": "python3"
  },
  "language_info": {
   "codemirror_mode": {
    "name": "ipython",
    "version": 3
   },
   "file_extension": ".py",
   "mimetype": "text/x-python",
   "name": "python",
   "nbconvert_exporter": "python",
   "pygments_lexer": "ipython3",
   "version": "3.10.6"
  },
  "toc": {
   "base_numbering": 1,
   "nav_menu": {},
   "number_sections": true,
   "sideBar": true,
   "skip_h1_title": false,
   "title_cell": "Table of Contents",
   "title_sidebar": "Contents",
   "toc_cell": false,
   "toc_position": {},
   "toc_section_display": true,
   "toc_window_display": false
  },
  "varInspector": {
   "cols": {
    "lenName": 16,
    "lenType": 16,
    "lenVar": 40
   },
   "kernels_config": {
    "python": {
     "delete_cmd_postfix": "",
     "delete_cmd_prefix": "del ",
     "library": "var_list.py",
     "varRefreshCmd": "print(var_dic_list())"
    },
    "r": {
     "delete_cmd_postfix": ") ",
     "delete_cmd_prefix": "rm(",
     "library": "var_list.r",
     "varRefreshCmd": "cat(var_dic_list()) "
    }
   },
   "types_to_exclude": [
    "module",
    "function",
    "builtin_function_or_method",
    "instance",
    "_Feature"
   ],
   "window_display": false
  }
 },
 "nbformat": 4,
 "nbformat_minor": 5
}
