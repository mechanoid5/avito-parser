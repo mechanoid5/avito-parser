{
 "cells": [
  {
   "cell_type": "markdown",
   "id": "f79cec14",
   "metadata": {},
   "source": [
    "__качаем объявления о продаже недвижимости с avito.ru__\n",
    "\n",
    "_Evgeny S. Borisov <parser@mechanoid.su>_"
   ]
  },
  {
   "cell_type": "code",
   "execution_count": 1,
   "id": "ceabc62f",
   "metadata": {},
   "outputs": [],
   "source": [
    "import logging\n",
    "import sys \n",
    "\n",
    "logging.basicConfig(\n",
    "        format=u'[%(levelname)-8s] %(asctime)s | %(message)s',\n",
    "        datefmt='%Y-%m-%d %H:%M:%S',\n",
    "        level=logging.INFO,\n",
    "        # level=logging.DEBUG,\n",
    "        stream=sys.stdout,\n",
    "    )"
   ]
  },
  {
   "cell_type": "code",
   "execution_count": 2,
   "id": "23172c9b",
   "metadata": {},
   "outputs": [],
   "source": [
    "from time import sleep\n",
    "from tqdm.auto import tqdm\n",
    "import pandas as pd\n",
    "from datetime import datetime \n",
    "\n",
    "pd.set_option('display.max_colwidth', None)\n",
    "pd.set_option('display.float_format', '{:.2f}'.format)\n",
    "tqdm.pandas()"
   ]
  },
  {
   "cell_type": "code",
   "execution_count": 3,
   "id": "97d83b45",
   "metadata": {},
   "outputs": [],
   "source": [
    "source = [\n",
    "    {\n",
    "            'place': 'sevastopol',\n",
    "        'subfolder': 'flat',\n",
    "              'url': 'https://www.avito.ru/sevastopol/kvartiry/prodam',\n",
    "    },{\n",
    "            'place': 'sevastopol',\n",
    "        'subfolder': 'land',\n",
    "              'url': 'https://www.avito.ru/sevastopol/zemelnye_uchastki/prodam',\n",
    "    },{\n",
    "            'place': 'sevastopol',\n",
    "        'subfolder': 'house',\n",
    "              'url': 'https://www.avito.ru/sevastopol/doma_dachi_kottedzhi/prodam',\n",
    "    },\n",
    "    {\n",
    "            'place': 'sudak',\n",
    "        'subfolder': 'flat',\n",
    "              'url': 'https://www.avito.ru/sudak/kvartiry/prodam',\n",
    "    },{\n",
    "            'place': 'sudak',\n",
    "        'subfolder': 'land',\n",
    "              'url': 'https://www.avito.ru/sudak/zemelnye_uchastki/prodam',\n",
    "    },{\n",
    "            'place': 'sudak',\n",
    "        'subfolder': 'house',\n",
    "              'url': 'https://www.avito.ru/sudak/doma_dachi_kottedzhi/prodam',\n",
    "    },\n",
    "#     {\n",
    "#             'place': 'bahchisaray',\n",
    "#         'subfolder': 'flat',\n",
    "#               'url': 'https://www.avito.ru/bahchisaray/kvartiry/prodam',\n",
    "#     }, \n",
    "    {\n",
    "            'place': 'bahchisaray',\n",
    "        'subfolder': 'land',\n",
    "              'url': 'https://www.avito.ru/bahchisaray/zemelnye_uchastki/prodam',\n",
    "    },{\n",
    "            'place': 'bahchisaray',\n",
    "        'subfolder': 'house',\n",
    "              'url': 'https://www.avito.ru/bahchisaray/doma_dachi_kottedzhi/prodam',\n",
    "    },\n",
    "\n",
    "]"
   ]
  },
  {
   "cell_type": "markdown",
   "id": "749d8645",
   "metadata": {},
   "source": [
    "---"
   ]
  },
  {
   "cell_type": "code",
   "execution_count": 4,
   "id": "b92abbe2",
   "metadata": {},
   "outputs": [],
   "source": [
    "# from selenium import webdriver\n",
    "# from lib.avito import AvitoPageParser\n",
    "\n",
    "# browser = webdriver.Firefox()\n",
    "# browser.get(source[0]['url'])\n",
    "# data = AvitoPageParser().transform(browser)\n",
    "# # browser.close()"
   ]
  },
  {
   "cell_type": "code",
   "execution_count": 5,
   "id": "13a281e0",
   "metadata": {},
   "outputs": [],
   "source": [
    "# browser.close()"
   ]
  },
  {
   "cell_type": "code",
   "execution_count": 6,
   "id": "8e955d4b",
   "metadata": {},
   "outputs": [],
   "source": [
    "# data"
   ]
  },
  {
   "cell_type": "markdown",
   "id": "f5e2ebb2",
   "metadata": {},
   "source": [
    "---"
   ]
  },
  {
   "cell_type": "code",
   "execution_count": 7,
   "id": "863ee8e4",
   "metadata": {},
   "outputs": [],
   "source": [
    "from selenium import webdriver\n",
    "# from selenium.webdriver.common.by import By\n",
    "from lib.avito import AvitoParser"
   ]
  },
  {
   "cell_type": "code",
   "execution_count": 8,
   "id": "8872059a",
   "metadata": {
    "scrolled": false
   },
   "outputs": [
    {
     "name": "stdout",
     "output_type": "stream",
     "text": [
      "[INFO    ] 2024-06-10 11:00:29 | open virtual browser\n"
     ]
    },
    {
     "data": {
      "text/plain": [
       "'https://www.avito.ru/sevastopol/kvartiry/prodam'"
      ]
     },
     "metadata": {},
     "output_type": "display_data"
    },
    {
     "name": "stdout",
     "output_type": "stream",
     "text": [
      "[INFO    ] 2024-06-10 11:00:43 | page 1: 53 items\n",
      "[INFO    ] 2024-06-10 11:00:56 | page 2: 50 items\n",
      "[INFO    ] 2024-06-10 11:01:08 | page 3: 50 items\n",
      "[INFO    ] 2024-06-10 11:01:20 | page 4: 50 items\n",
      "[INFO    ] 2024-06-10 11:01:30 | page 5: 50 items\n",
      "[INFO    ] 2024-06-10 11:01:43 | page 6: 50 items\n",
      "[INFO    ] 2024-06-10 11:01:54 | page 7: 50 items\n",
      "[INFO    ] 2024-06-10 11:02:06 | page 8: 50 items\n",
      "[INFO    ] 2024-06-10 11:02:18 | page 9: 50 items\n",
      "[INFO    ] 2024-06-10 11:02:30 | page 10: 50 items\n",
      "[INFO    ] 2024-06-10 11:02:42 | page 11: 50 items\n",
      "[INFO    ] 2024-06-10 11:02:55 | page 12: 50 items\n",
      "[INFO    ] 2024-06-10 11:03:06 | page 13: 50 items\n",
      "[INFO    ] 2024-06-10 11:03:17 | page 14: 50 items\n",
      "[INFO    ] 2024-06-10 11:03:28 | page 15: 50 items\n",
      "[INFO    ] 2024-06-10 11:03:40 | page 16: 50 items\n",
      "[INFO    ] 2024-06-10 11:03:52 | page 17: 50 items\n",
      "[INFO    ] 2024-06-10 11:04:03 | page 18: 50 items\n",
      "[INFO    ] 2024-06-10 11:04:14 | page 19: 50 items\n",
      "[INFO    ] 2024-06-10 11:04:26 | page 20: 50 items\n",
      "[INFO    ] 2024-06-10 11:04:37 | page 21: 50 items\n",
      "[INFO    ] 2024-06-10 11:04:48 | page 22: 50 items\n",
      "[INFO    ] 2024-06-10 11:05:01 | page 23: 50 items\n",
      "[INFO    ] 2024-06-10 11:05:12 | page 24: 49 items\n",
      "[INFO    ] 2024-06-10 11:05:24 | page 25: 49 items\n",
      "[INFO    ] 2024-06-10 11:05:36 | page 26: 50 items\n",
      "[INFO    ] 2024-06-10 11:05:47 | page 27: 49 items\n",
      "[INFO    ] 2024-06-10 11:05:59 | page 28: 49 items\n",
      "[INFO    ] 2024-06-10 11:06:11 | page 29: 50 items\n",
      "[INFO    ] 2024-06-10 11:06:22 | page 30: 49 items\n",
      "[INFO    ] 2024-06-10 11:06:34 | page 31: 50 items\n",
      "[INFO    ] 2024-06-10 11:06:46 | page 32: 50 items\n",
      "[INFO    ] 2024-06-10 11:06:58 | page 33: 50 items\n",
      "[INFO    ] 2024-06-10 11:07:10 | page 34: 50 items\n",
      "[INFO    ] 2024-06-10 11:07:21 | page 35: 50 items\n",
      "[INFO    ] 2024-06-10 11:07:33 | page 36: 50 items\n",
      "[INFO    ] 2024-06-10 11:07:44 | page 37: 50 items\n",
      "[INFO    ] 2024-06-10 11:07:56 | page 38: 50 items\n",
      "[INFO    ] 2024-06-10 11:08:07 | page 39: 50 items\n",
      "[INFO    ] 2024-06-10 11:08:18 | page 40: 48 items\n",
      "[INFO    ] 2024-06-10 11:08:30 | page 41: 50 items\n",
      "[INFO    ] 2024-06-10 11:08:42 | page 42: 50 items\n",
      "[INFO    ] 2024-06-10 11:08:53 | page 43: 50 items\n",
      "[INFO    ] 2024-06-10 11:09:06 | page 44: 50 items\n",
      "[INFO    ] 2024-06-10 11:09:20 | page 45: 50 items\n",
      "[INFO    ] 2024-06-10 11:09:33 | page 46: 50 items\n",
      "[INFO    ] 2024-06-10 11:09:45 | page 47: 50 items\n",
      "[INFO    ] 2024-06-10 11:09:57 | page 48: 50 items\n",
      "[INFO    ] 2024-06-10 11:10:09 | page 49: 50 items\n",
      "[INFO    ] 2024-06-10 11:10:21 | page 50: 50 items\n",
      "[INFO    ] 2024-06-10 11:10:33 | page 51: 50 items\n",
      "[INFO    ] 2024-06-10 11:10:44 | page 52: 50 items\n",
      "[INFO    ] 2024-06-10 11:10:56 | page 53: 49 items\n",
      "[INFO    ] 2024-06-10 11:11:07 | page 54: 49 items\n",
      "[INFO    ] 2024-06-10 11:11:19 | page 55: 49 items\n",
      "[INFO    ] 2024-06-10 11:11:31 | page 56: 50 items\n",
      "[INFO    ] 2024-06-10 11:11:44 | page 57: 50 items\n",
      "[INFO    ] 2024-06-10 11:11:56 | page 58: 50 items\n",
      "[INFO    ] 2024-06-10 11:12:08 | page 59: 50 items\n",
      "[INFO    ] 2024-06-10 11:12:20 | page 60: 48 items\n",
      "[INFO    ] 2024-06-10 11:12:31 | page 61: 44 items\n",
      "[INFO    ] 2024-06-10 11:12:43 | page 62: 45 items\n",
      "[INFO    ] 2024-06-10 11:12:54 | page 63: 46 items\n",
      "[INFO    ] 2024-06-10 11:13:05 | page 64: 47 items\n",
      "[INFO    ] 2024-06-10 11:13:17 | page 65: 47 items\n",
      "[INFO    ] 2024-06-10 11:13:28 | page 66: 45 items\n",
      "[INFO    ] 2024-06-10 11:13:40 | page 67: 46 items\n",
      "[INFO    ] 2024-06-10 11:13:51 | page 68: 45 items\n",
      "[INFO    ] 2024-06-10 11:14:02 | page 69: 46 items\n",
      "[INFO    ] 2024-06-10 11:14:13 | page 70: 45 items\n",
      "[INFO    ] 2024-06-10 11:14:24 | page 71: 45 items\n",
      "[INFO    ] 2024-06-10 11:14:36 | page 72: 46 items\n",
      "[INFO    ] 2024-06-10 11:14:48 | page 73: 46 items\n",
      "[INFO    ] 2024-06-10 11:15:00 | page 74: 47 items\n",
      "[INFO    ] 2024-06-10 11:15:12 | page 75: 48 items\n",
      "[INFO    ] 2024-06-10 11:15:24 | page 76: 48 items\n",
      "[INFO    ] 2024-06-10 11:15:36 | page 77: 45 items\n",
      "[INFO    ] 2024-06-10 11:15:47 | page 78: 42 items\n",
      "[INFO    ] 2024-06-10 11:16:00 | page 79: 47 items\n",
      "[INFO    ] 2024-06-10 11:16:13 | page 80: 50 items\n",
      "[INFO    ] 2024-06-10 11:16:26 | page 81: 48 items\n",
      "[INFO    ] 2024-06-10 11:16:38 | page 82: 46 items\n",
      "[INFO    ] 2024-06-10 11:16:48 | page 83: 29 items\n",
      "[INFO    ] 2024-06-10 11:17:01 | page 84: 42 items\n",
      "[INFO    ] 2024-06-10 11:17:14 | page 85: 48 items\n",
      "[INFO    ] 2024-06-10 11:17:26 | page 86: 47 items\n",
      "[INFO    ] 2024-06-10 11:17:35 | page 87: 26 items\n"
     ]
    },
    {
     "data": {
      "text/plain": [
       "4197"
      ]
     },
     "metadata": {},
     "output_type": "display_data"
    },
    {
     "data": {
      "text/plain": [
       "'data/raw/flat/avito/avito_2024-06-10_11-17_raw_sevastopol.pkl'"
      ]
     },
     "metadata": {},
     "output_type": "display_data"
    },
    {
     "data": {
      "text/plain": [
       "'https://www.avito.ru/sevastopol/zemelnye_uchastki/prodam'"
      ]
     },
     "metadata": {},
     "output_type": "display_data"
    },
    {
     "name": "stdout",
     "output_type": "stream",
     "text": [
      "[INFO    ] 2024-06-10 11:17:45 | page 1: 50 items\n",
      "[INFO    ] 2024-06-10 11:17:56 | page 2: 50 items\n",
      "[INFO    ] 2024-06-10 11:18:05 | page 3: 50 items\n",
      "[INFO    ] 2024-06-10 11:18:15 | page 4: 50 items\n",
      "[INFO    ] 2024-06-10 11:18:25 | page 5: 50 items\n",
      "[INFO    ] 2024-06-10 11:18:35 | page 6: 50 items\n",
      "[INFO    ] 2024-06-10 11:18:45 | page 7: 50 items\n",
      "[INFO    ] 2024-06-10 11:18:55 | page 8: 50 items\n",
      "[INFO    ] 2024-06-10 11:19:04 | page 9: 50 items\n",
      "[INFO    ] 2024-06-10 11:19:14 | page 10: 50 items\n",
      "[INFO    ] 2024-06-10 11:19:24 | page 11: 50 items\n",
      "[INFO    ] 2024-06-10 11:19:33 | page 12: 50 items\n",
      "[INFO    ] 2024-06-10 11:19:43 | page 13: 50 items\n",
      "[INFO    ] 2024-06-10 11:19:53 | page 14: 50 items\n",
      "[INFO    ] 2024-06-10 11:20:03 | page 15: 50 items\n",
      "[INFO    ] 2024-06-10 11:20:13 | page 16: 50 items\n",
      "[INFO    ] 2024-06-10 11:20:23 | page 17: 50 items\n",
      "[INFO    ] 2024-06-10 11:20:33 | page 18: 50 items\n",
      "[INFO    ] 2024-06-10 11:20:43 | page 19: 50 items\n",
      "[INFO    ] 2024-06-10 11:20:53 | page 20: 50 items\n",
      "[INFO    ] 2024-06-10 11:21:03 | page 21: 50 items\n",
      "[INFO    ] 2024-06-10 11:21:13 | page 22: 50 items\n",
      "[INFO    ] 2024-06-10 11:21:24 | page 23: 50 items\n",
      "[INFO    ] 2024-06-10 11:21:34 | page 24: 50 items\n",
      "[INFO    ] 2024-06-10 11:21:45 | page 25: 50 items\n",
      "[INFO    ] 2024-06-10 11:21:56 | page 26: 50 items\n",
      "[INFO    ] 2024-06-10 11:22:08 | page 27: 50 items\n",
      "[INFO    ] 2024-06-10 11:22:18 | page 28: 50 items\n",
      "[INFO    ] 2024-06-10 11:22:29 | page 29: 50 items\n",
      "[INFO    ] 2024-06-10 11:22:40 | page 30: 50 items\n",
      "[INFO    ] 2024-06-10 11:22:50 | page 31: 50 items\n",
      "[INFO    ] 2024-06-10 11:23:01 | page 32: 50 items\n",
      "[INFO    ] 2024-06-10 11:23:12 | page 33: 50 items\n",
      "[INFO    ] 2024-06-10 11:23:24 | page 34: 50 items\n",
      "[INFO    ] 2024-06-10 11:23:35 | page 35: 50 items\n",
      "[INFO    ] 2024-06-10 11:23:46 | page 36: 50 items\n",
      "[INFO    ] 2024-06-10 11:23:57 | page 37: 50 items\n",
      "[INFO    ] 2024-06-10 11:24:07 | page 38: 50 items\n",
      "[INFO    ] 2024-06-10 11:24:18 | page 39: 50 items\n",
      "[INFO    ] 2024-06-10 11:24:29 | page 40: 50 items\n",
      "[INFO    ] 2024-06-10 11:24:40 | page 41: 50 items\n",
      "[INFO    ] 2024-06-10 11:24:51 | page 42: 50 items\n",
      "[INFO    ] 2024-06-10 11:25:01 | page 43: 50 items\n",
      "[INFO    ] 2024-06-10 11:25:02 | page 44: 0 items\n",
      "[INFO    ] 2024-06-10 11:25:14 | page 45: 50 items\n",
      "[INFO    ] 2024-06-10 11:25:16 | page 46: 3 items\n"
     ]
    },
    {
     "data": {
      "text/plain": [
       "2203"
      ]
     },
     "metadata": {},
     "output_type": "display_data"
    },
    {
     "data": {
      "text/plain": [
       "'data/raw/land/avito/avito_2024-06-10_11-25_raw_sevastopol.pkl'"
      ]
     },
     "metadata": {},
     "output_type": "display_data"
    },
    {
     "data": {
      "text/plain": [
       "'https://www.avito.ru/sevastopol/doma_dachi_kottedzhi/prodam'"
      ]
     },
     "metadata": {},
     "output_type": "display_data"
    },
    {
     "name": "stdout",
     "output_type": "stream",
     "text": [
      "[INFO    ] 2024-06-10 11:25:27 | page 1: 50 items\n",
      "[INFO    ] 2024-06-10 11:25:37 | page 2: 50 items\n",
      "[INFO    ] 2024-06-10 11:25:47 | page 3: 50 items\n",
      "[INFO    ] 2024-06-10 11:25:57 | page 4: 50 items\n",
      "[INFO    ] 2024-06-10 11:26:07 | page 5: 50 items\n",
      "[INFO    ] 2024-06-10 11:26:17 | page 6: 50 items\n",
      "[INFO    ] 2024-06-10 11:26:26 | page 7: 50 items\n",
      "[INFO    ] 2024-06-10 11:26:36 | page 8: 50 items\n",
      "[INFO    ] 2024-06-10 11:26:46 | page 9: 50 items\n",
      "[INFO    ] 2024-06-10 11:26:56 | page 10: 50 items\n",
      "[INFO    ] 2024-06-10 11:27:06 | page 11: 50 items\n",
      "[INFO    ] 2024-06-10 11:27:15 | page 12: 50 items\n",
      "[INFO    ] 2024-06-10 11:27:25 | page 13: 50 items\n",
      "[INFO    ] 2024-06-10 11:27:35 | page 14: 50 items\n",
      "[INFO    ] 2024-06-10 11:27:45 | page 15: 50 items\n",
      "[INFO    ] 2024-06-10 11:27:54 | page 16: 50 items\n",
      "[INFO    ] 2024-06-10 11:28:04 | page 17: 50 items\n",
      "[INFO    ] 2024-06-10 11:28:14 | page 18: 50 items\n",
      "[INFO    ] 2024-06-10 11:28:23 | page 19: 50 items\n",
      "[INFO    ] 2024-06-10 11:28:33 | page 20: 50 items\n",
      "[INFO    ] 2024-06-10 11:28:43 | page 21: 50 items\n",
      "[INFO    ] 2024-06-10 11:28:55 | page 22: 50 items\n",
      "[INFO    ] 2024-06-10 11:29:06 | page 23: 50 items\n",
      "[INFO    ] 2024-06-10 11:29:16 | page 24: 50 items\n",
      "[INFO    ] 2024-06-10 11:29:26 | page 25: 50 items\n",
      "[INFO    ] 2024-06-10 11:29:38 | page 26: 50 items\n",
      "[INFO    ] 2024-06-10 11:29:49 | page 27: 50 items\n",
      "[INFO    ] 2024-06-10 11:29:59 | page 28: 50 items\n",
      "[INFO    ] 2024-06-10 11:30:10 | page 29: 50 items\n",
      "[INFO    ] 2024-06-10 11:30:21 | page 30: 50 items\n",
      "[INFO    ] 2024-06-10 11:30:33 | page 31: 50 items\n",
      "[INFO    ] 2024-06-10 11:30:44 | page 32: 50 items\n",
      "[INFO    ] 2024-06-10 11:30:55 | page 33: 50 items\n",
      "[INFO    ] 2024-06-10 11:31:06 | page 34: 50 items\n",
      "[INFO    ] 2024-06-10 11:31:22 | page 35: 50 items\n",
      "[INFO    ] 2024-06-10 11:31:32 | page 36: 50 items\n",
      "[INFO    ] 2024-06-10 11:31:42 | page 37: 50 items\n",
      "[INFO    ] 2024-06-10 11:31:54 | page 38: 50 items\n",
      "[INFO    ] 2024-06-10 11:32:06 | page 39: 50 items\n",
      "[INFO    ] 2024-06-10 11:32:17 | page 40: 50 items\n",
      "[INFO    ] 2024-06-10 11:32:27 | page 41: 50 items\n",
      "[INFO    ] 2024-06-10 11:32:38 | page 42: 50 items\n",
      "[INFO    ] 2024-06-10 11:32:49 | page 43: 50 items\n",
      "[INFO    ] 2024-06-10 11:33:01 | page 44: 50 items\n",
      "[INFO    ] 2024-06-10 11:33:12 | page 45: 50 items\n",
      "[INFO    ] 2024-06-10 11:33:24 | page 46: 50 items\n",
      "[INFO    ] 2024-06-10 11:33:36 | page 47: 50 items\n",
      "[INFO    ] 2024-06-10 11:33:36 | page 48: 0 items\n"
     ]
    },
    {
     "data": {
      "text/plain": [
       "2350"
      ]
     },
     "metadata": {},
     "output_type": "display_data"
    },
    {
     "data": {
      "text/plain": [
       "'data/raw/house/avito/avito_2024-06-10_11-33_raw_sevastopol.pkl'"
      ]
     },
     "metadata": {},
     "output_type": "display_data"
    },
    {
     "data": {
      "text/plain": [
       "'https://www.avito.ru/sudak/kvartiry/prodam'"
      ]
     },
     "metadata": {},
     "output_type": "display_data"
    },
    {
     "name": "stdout",
     "output_type": "stream",
     "text": [
      "[INFO    ] 2024-06-10 11:33:48 | page 1: 53 items\n",
      "[INFO    ] 2024-06-10 11:33:58 | page 2: 50 items\n",
      "[INFO    ] 2024-06-10 11:34:09 | page 3: 50 items\n",
      "[INFO    ] 2024-06-10 11:34:21 | page 4: 50 items\n",
      "[INFO    ] 2024-06-10 11:34:33 | page 5: 50 items\n",
      "[INFO    ] 2024-06-10 11:34:44 | page 6: 50 items\n",
      "[INFO    ] 2024-06-10 11:34:57 | page 7: 50 items\n",
      "[INFO    ] 2024-06-10 11:35:05 | page 8: 25 items\n"
     ]
    },
    {
     "data": {
      "text/plain": [
       "378"
      ]
     },
     "metadata": {},
     "output_type": "display_data"
    },
    {
     "data": {
      "text/plain": [
       "'data/raw/flat/avito/avito_2024-06-10_11-35_raw_sudak.pkl'"
      ]
     },
     "metadata": {},
     "output_type": "display_data"
    },
    {
     "data": {
      "text/plain": [
       "'https://www.avito.ru/sudak/zemelnye_uchastki/prodam'"
      ]
     },
     "metadata": {},
     "output_type": "display_data"
    },
    {
     "name": "stdout",
     "output_type": "stream",
     "text": [
      "[INFO    ] 2024-06-10 11:35:15 | page 1: 50 items\n",
      "[INFO    ] 2024-06-10 11:35:24 | page 2: 50 items\n",
      "[INFO    ] 2024-06-10 11:35:34 | page 3: 50 items\n",
      "[INFO    ] 2024-06-10 11:35:44 | page 4: 50 items\n",
      "[INFO    ] 2024-06-10 11:35:54 | page 5: 50 items\n",
      "[INFO    ] 2024-06-10 11:36:02 | page 6: 34 items\n"
     ]
    },
    {
     "data": {
      "text/plain": [
       "284"
      ]
     },
     "metadata": {},
     "output_type": "display_data"
    },
    {
     "data": {
      "text/plain": [
       "'data/raw/land/avito/avito_2024-06-10_11-36_raw_sudak.pkl'"
      ]
     },
     "metadata": {},
     "output_type": "display_data"
    },
    {
     "data": {
      "text/plain": [
       "'https://www.avito.ru/sudak/doma_dachi_kottedzhi/prodam'"
      ]
     },
     "metadata": {},
     "output_type": "display_data"
    },
    {
     "name": "stdout",
     "output_type": "stream",
     "text": [
      "[INFO    ] 2024-06-10 11:36:12 | page 1: 50 items\n",
      "[INFO    ] 2024-06-10 11:36:21 | page 2: 50 items\n",
      "[INFO    ] 2024-06-10 11:36:32 | page 3: 50 items\n",
      "[INFO    ] 2024-06-10 11:36:34 | page 4: 10 items\n"
     ]
    },
    {
     "data": {
      "text/plain": [
       "160"
      ]
     },
     "metadata": {},
     "output_type": "display_data"
    },
    {
     "data": {
      "text/plain": [
       "'data/raw/house/avito/avito_2024-06-10_11-36_raw_sudak.pkl'"
      ]
     },
     "metadata": {},
     "output_type": "display_data"
    },
    {
     "data": {
      "text/plain": [
       "'https://www.avito.ru/bahchisaray/zemelnye_uchastki/prodam'"
      ]
     },
     "metadata": {},
     "output_type": "display_data"
    },
    {
     "name": "stdout",
     "output_type": "stream",
     "text": [
      "[INFO    ] 2024-06-10 11:36:44 | page 1: 50 items\n",
      "[INFO    ] 2024-06-10 11:36:52 | page 2: 50 items\n",
      "[INFO    ] 2024-06-10 11:37:01 | page 3: 50 items\n",
      "[INFO    ] 2024-06-10 11:37:10 | page 4: 50 items\n",
      "[INFO    ] 2024-06-10 11:37:20 | page 5: 50 items\n",
      "[INFO    ] 2024-06-10 11:37:29 | page 6: 50 items\n",
      "[INFO    ] 2024-06-10 11:37:38 | page 7: 50 items\n",
      "[INFO    ] 2024-06-10 11:37:47 | page 8: 50 items\n",
      "[INFO    ] 2024-06-10 11:37:57 | page 9: 50 items\n",
      "[INFO    ] 2024-06-10 11:38:05 | page 10: 50 items\n",
      "[INFO    ] 2024-06-10 11:38:14 | page 11: 50 items\n",
      "[INFO    ] 2024-06-10 11:38:24 | page 12: 50 items\n",
      "[INFO    ] 2024-06-10 11:38:33 | page 13: 50 items\n",
      "[INFO    ] 2024-06-10 11:38:42 | page 14: 47 items\n"
     ]
    },
    {
     "data": {
      "text/plain": [
       "697"
      ]
     },
     "metadata": {},
     "output_type": "display_data"
    },
    {
     "data": {
      "text/plain": [
       "'data/raw/land/avito/avito_2024-06-10_11-38_raw_bahchisaray.pkl'"
      ]
     },
     "metadata": {},
     "output_type": "display_data"
    },
    {
     "data": {
      "text/plain": [
       "'https://www.avito.ru/bahchisaray/doma_dachi_kottedzhi/prodam'"
      ]
     },
     "metadata": {},
     "output_type": "display_data"
    },
    {
     "name": "stdout",
     "output_type": "stream",
     "text": [
      "[INFO    ] 2024-06-10 11:38:53 | page 1: 50 items\n",
      "[INFO    ] 2024-06-10 11:39:02 | page 2: 50 items\n",
      "[INFO    ] 2024-06-10 11:39:12 | page 3: 50 items\n",
      "[INFO    ] 2024-06-10 11:39:22 | page 4: 50 items\n",
      "[INFO    ] 2024-06-10 11:39:32 | page 5: 50 items\n",
      "[INFO    ] 2024-06-10 11:39:39 | page 6: 33 items\n"
     ]
    },
    {
     "data": {
      "text/plain": [
       "283"
      ]
     },
     "metadata": {},
     "output_type": "display_data"
    },
    {
     "data": {
      "text/plain": [
       "'data/raw/house/avito/avito_2024-06-10_11-39_raw_bahchisaray.pkl'"
      ]
     },
     "metadata": {},
     "output_type": "display_data"
    },
    {
     "name": "stdout",
     "output_type": "stream",
     "text": [
      "CPU times: user 4min 36s, sys: 12.1 s, total: 4min 49s\n",
      "Wall time: 39min 11s\n"
     ]
    }
   ],
   "source": [
    "%%time \n",
    "\n",
    "\n",
    "options = webdriver.FirefoxOptions()\n",
    "#options.headless = True\n",
    "browser = webdriver.Firefox(options=options)\n",
    "logging.info('open virtual browser')\n",
    "\n",
    "for s in source:\n",
    "\n",
    "    url = s['url']\n",
    "    place = s['place']\n",
    "    subfolder = s['subfolder'] \n",
    "    \n",
    "    display(url)\n",
    "    browser.get(url)\n",
    "    sleep(3)\n",
    "    \n",
    "    data = AvitoParser().transform(browser)\n",
    "    assert len(data)>0\n",
    "    \n",
    "    df = pd.DataFrame(data)\n",
    "    df['ts'] = datetime.now()\n",
    "    df['place'] = place\n",
    "\n",
    "    display( len(df) )\n",
    "    t_now = datetime.now().strftime('%Y-%m-%d_%H-%M')\n",
    "    fname = f'data/raw/{subfolder}/avito/avito_{t_now}_raw_{place}.pkl'\n",
    "    df.to_pickle(fname)\n",
    "    display( fname )\n",
    "\n",
    "browser.close()"
   ]
  },
  {
   "cell_type": "code",
   "execution_count": 9,
   "id": "c88bf05a",
   "metadata": {},
   "outputs": [],
   "source": [
    "# df"
   ]
  },
  {
   "cell_type": "code",
   "execution_count": 10,
   "id": "a98a46de",
   "metadata": {},
   "outputs": [],
   "source": [
    "# browser.close()"
   ]
  },
  {
   "cell_type": "code",
   "execution_count": 11,
   "id": "e97e319b",
   "metadata": {},
   "outputs": [
    {
     "name": "stdout",
     "output_type": "stream",
     "text": [
      "Пн 10 июн 2024 11:39:39 MSK\r\n"
     ]
    }
   ],
   "source": [
    "!date"
   ]
  },
  {
   "cell_type": "code",
   "execution_count": null,
   "id": "0fcca2ff",
   "metadata": {},
   "outputs": [],
   "source": []
  }
 ],
 "metadata": {
  "kernelspec": {
   "display_name": "Python 3 (ipykernel)",
   "language": "python",
   "name": "python3"
  },
  "language_info": {
   "codemirror_mode": {
    "name": "ipython",
    "version": 3
   },
   "file_extension": ".py",
   "mimetype": "text/x-python",
   "name": "python",
   "nbconvert_exporter": "python",
   "pygments_lexer": "ipython3",
   "version": "3.12.3"
  }
 },
 "nbformat": 4,
 "nbformat_minor": 5
}
