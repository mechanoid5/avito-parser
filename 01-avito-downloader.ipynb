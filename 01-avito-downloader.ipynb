{
 "cells": [
  {
   "cell_type": "markdown",
   "id": "f79cec14",
   "metadata": {},
   "source": [
    "__качаем объявления о продаже недвижимости с avito.ru__\n",
    "\n",
    "_Evgeny S. Borisov <parser@mechanoid.su>_"
   ]
  },
  {
   "cell_type": "code",
   "execution_count": 1,
   "id": "ceabc62f",
   "metadata": {},
   "outputs": [],
   "source": [
    "import logging\n",
    "import sys \n",
    "\n",
    "logging.basicConfig(\n",
    "        format=u'[%(levelname)-8s] %(asctime)s | %(message)s',\n",
    "        datefmt='%Y-%m-%d %H:%M:%S',\n",
    "        level=logging.INFO,\n",
    "        # level=logging.DEBUG,\n",
    "        stream=sys.stdout,\n",
    "    )"
   ]
  },
  {
   "cell_type": "code",
   "execution_count": 2,
   "id": "23172c9b",
   "metadata": {},
   "outputs": [],
   "source": [
    "from time import sleep\n",
    "from tqdm.auto import tqdm\n",
    "import pandas as pd\n",
    "from datetime import datetime \n",
    "\n",
    "pd.set_option('display.max_colwidth', None)\n",
    "pd.set_option('display.float_format', '{:.2f}'.format)\n",
    "tqdm.pandas()"
   ]
  },
  {
   "cell_type": "code",
   "execution_count": 3,
   "id": "97d83b45",
   "metadata": {},
   "outputs": [],
   "source": [
    "source = [\n",
    "    {\n",
    "            'place': 'sevastopol',\n",
    "        'subfolder': 'flat',\n",
    "              'url': 'https://www.avito.ru/sevastopol/kvartiry/prodam',\n",
    "    },{\n",
    "            'place': 'sevastopol',\n",
    "        'subfolder': 'land',\n",
    "              'url': 'https://www.avito.ru/sevastopol/zemelnye_uchastki/prodam',\n",
    "    },{\n",
    "            'place': 'sevastopol',\n",
    "        'subfolder': 'house',\n",
    "              'url': 'https://www.avito.ru/sevastopol/doma_dachi_kottedzhi/prodam',\n",
    "    },\n",
    "    {\n",
    "            'place': 'sudak',\n",
    "        'subfolder': 'flat',\n",
    "              'url': 'https://www.avito.ru/sudak/kvartiry/prodam',\n",
    "    },\n",
    "    {\n",
    "            'place': 'sudak',\n",
    "        'subfolder': 'land',\n",
    "              'url': 'https://www.avito.ru/sudak/zemelnye_uchastki/prodam',\n",
    "    },{\n",
    "            'place': 'sudak',\n",
    "        'subfolder': 'house',\n",
    "              'url': 'https://www.avito.ru/sudak/doma_dachi_kottedzhi/prodam',\n",
    "    },\n",
    "#     {\n",
    "#             'place': 'bahchisaray',\n",
    "#         'subfolder': 'flat',\n",
    "#               'url': 'https://www.avito.ru/bahchisaray/kvartiry/prodam',\n",
    "#     }, \n",
    "    {\n",
    "            'place': 'bahchisaray',\n",
    "        'subfolder': 'land',\n",
    "              'url': 'https://www.avito.ru/bahchisaray/zemelnye_uchastki/prodam',\n",
    "    },{\n",
    "            'place': 'bahchisaray',\n",
    "        'subfolder': 'house',\n",
    "              'url': 'https://www.avito.ru/bahchisaray/doma_dachi_kottedzhi/prodam',\n",
    "    },\n",
    "\n",
    "]"
   ]
  },
  {
   "cell_type": "markdown",
   "id": "749d8645",
   "metadata": {},
   "source": [
    "---"
   ]
  },
  {
   "cell_type": "code",
   "execution_count": 4,
   "id": "b92abbe2",
   "metadata": {},
   "outputs": [],
   "source": [
    "# from selenium import webdriver\n",
    "# from lib.avito import AvitoPageParser\n",
    "\n",
    "# browser = webdriver.Firefox()\n",
    "# browser.get(source[0]['url'])\n",
    "# data = AvitoPageParser().transform(browser)\n",
    "# # browser.close()"
   ]
  },
  {
   "cell_type": "code",
   "execution_count": 5,
   "id": "13a281e0",
   "metadata": {},
   "outputs": [],
   "source": [
    "# browser.close()"
   ]
  },
  {
   "cell_type": "code",
   "execution_count": 6,
   "id": "8e955d4b",
   "metadata": {},
   "outputs": [],
   "source": [
    "# data"
   ]
  },
  {
   "cell_type": "markdown",
   "id": "f5e2ebb2",
   "metadata": {},
   "source": [
    "---"
   ]
  },
  {
   "cell_type": "code",
   "execution_count": 7,
   "id": "863ee8e4",
   "metadata": {},
   "outputs": [],
   "source": [
    "from selenium import webdriver\n",
    "# from selenium.webdriver.common.by import By\n",
    "from lib.avito import AvitoParser"
   ]
  },
  {
   "cell_type": "code",
   "execution_count": 8,
   "id": "6520cd59",
   "metadata": {},
   "outputs": [],
   "source": [
    "dest_folder = 'data/2024/raw'"
   ]
  },
  {
   "cell_type": "code",
   "execution_count": 9,
   "id": "8872059a",
   "metadata": {
    "scrolled": false
   },
   "outputs": [
    {
     "name": "stdout",
     "output_type": "stream",
     "text": [
      "[INFO    ] 2024-06-19 12:07:43 | open virtual browser\n"
     ]
    },
    {
     "data": {
      "text/plain": [
       "'https://www.avito.ru/sevastopol/kvartiry/prodam'"
      ]
     },
     "metadata": {},
     "output_type": "display_data"
    },
    {
     "name": "stdout",
     "output_type": "stream",
     "text": [
      "[INFO    ] 2024-06-19 12:07:54 | page 1: 53 items\n",
      "[INFO    ] 2024-06-19 12:08:05 | page 2: 50 items\n",
      "[INFO    ] 2024-06-19 12:08:16 | page 3: 50 items\n",
      "[INFO    ] 2024-06-19 12:08:27 | page 4: 50 items\n",
      "[INFO    ] 2024-06-19 12:08:36 | page 5: 50 items\n",
      "[INFO    ] 2024-06-19 12:08:46 | page 6: 50 items\n",
      "[INFO    ] 2024-06-19 12:08:55 | page 7: 50 items\n",
      "[INFO    ] 2024-06-19 12:09:05 | page 8: 50 items\n",
      "[INFO    ] 2024-06-19 12:09:15 | page 9: 50 items\n",
      "[INFO    ] 2024-06-19 12:09:25 | page 10: 50 items\n",
      "[INFO    ] 2024-06-19 12:09:35 | page 11: 50 items\n",
      "[INFO    ] 2024-06-19 12:09:45 | page 12: 50 items\n",
      "[INFO    ] 2024-06-19 12:09:56 | page 13: 50 items\n",
      "[INFO    ] 2024-06-19 12:10:07 | page 14: 50 items\n",
      "[INFO    ] 2024-06-19 12:10:18 | page 15: 50 items\n",
      "[INFO    ] 2024-06-19 12:10:28 | page 16: 50 items\n",
      "[INFO    ] 2024-06-19 12:10:39 | page 17: 50 items\n",
      "[INFO    ] 2024-06-19 12:10:49 | page 18: 50 items\n",
      "[INFO    ] 2024-06-19 12:10:59 | page 19: 50 items\n",
      "[INFO    ] 2024-06-19 12:11:09 | page 20: 50 items\n",
      "[INFO    ] 2024-06-19 12:11:20 | page 21: 50 items\n",
      "[INFO    ] 2024-06-19 12:11:30 | page 22: 49 items\n",
      "[INFO    ] 2024-06-19 12:11:41 | page 23: 47 items\n",
      "[INFO    ] 2024-06-19 12:11:51 | page 24: 47 items\n",
      "[INFO    ] 2024-06-19 12:12:01 | page 25: 48 items\n",
      "[INFO    ] 2024-06-19 12:12:11 | page 26: 49 items\n",
      "[INFO    ] 2024-06-19 12:12:22 | page 27: 48 items\n",
      "[INFO    ] 2024-06-19 12:12:32 | page 28: 48 items\n",
      "[INFO    ] 2024-06-19 12:12:43 | page 29: 47 items\n",
      "[INFO    ] 2024-06-19 12:12:54 | page 30: 48 items\n",
      "[INFO    ] 2024-06-19 12:13:04 | page 31: 48 items\n",
      "[INFO    ] 2024-06-19 12:13:15 | page 32: 48 items\n",
      "[INFO    ] 2024-06-19 12:13:25 | page 33: 49 items\n",
      "[INFO    ] 2024-06-19 12:13:36 | page 34: 49 items\n",
      "[INFO    ] 2024-06-19 12:13:47 | page 35: 49 items\n",
      "[INFO    ] 2024-06-19 12:13:58 | page 36: 49 items\n",
      "[INFO    ] 2024-06-19 12:14:08 | page 37: 49 items\n",
      "[INFO    ] 2024-06-19 12:14:19 | page 38: 49 items\n",
      "[INFO    ] 2024-06-19 12:14:29 | page 39: 48 items\n",
      "[INFO    ] 2024-06-19 12:14:39 | page 40: 48 items\n",
      "[INFO    ] 2024-06-19 12:14:50 | page 41: 49 items\n",
      "[INFO    ] 2024-06-19 12:15:00 | page 42: 50 items\n",
      "[INFO    ] 2024-06-19 12:15:11 | page 43: 48 items\n",
      "[INFO    ] 2024-06-19 12:15:21 | page 44: 46 items\n",
      "[INFO    ] 2024-06-19 12:15:31 | page 45: 46 items\n",
      "[INFO    ] 2024-06-19 12:15:41 | page 46: 46 items\n",
      "[INFO    ] 2024-06-19 12:15:50 | page 47: 46 items\n",
      "[INFO    ] 2024-06-19 12:16:00 | page 48: 47 items\n",
      "[INFO    ] 2024-06-19 12:16:10 | page 49: 49 items\n",
      "[INFO    ] 2024-06-19 12:16:20 | page 50: 48 items\n",
      "[INFO    ] 2024-06-19 12:16:31 | page 51: 47 items\n",
      "[INFO    ] 2024-06-19 12:16:41 | page 52: 46 items\n",
      "[INFO    ] 2024-06-19 12:16:50 | page 53: 46 items\n",
      "[INFO    ] 2024-06-19 12:17:00 | page 54: 47 items\n",
      "[INFO    ] 2024-06-19 12:17:10 | page 55: 47 items\n",
      "[INFO    ] 2024-06-19 12:17:20 | page 56: 46 items\n",
      "[INFO    ] 2024-06-19 12:17:30 | page 57: 47 items\n",
      "[INFO    ] 2024-06-19 12:17:40 | page 58: 47 items\n",
      "[INFO    ] 2024-06-19 12:17:50 | page 59: 47 items\n",
      "[INFO    ] 2024-06-19 12:18:00 | page 60: 46 items\n",
      "[INFO    ] 2024-06-19 12:18:10 | page 61: 46 items\n",
      "[INFO    ] 2024-06-19 12:18:20 | page 62: 46 items\n",
      "[INFO    ] 2024-06-19 12:18:30 | page 63: 46 items\n",
      "[INFO    ] 2024-06-19 12:18:39 | page 64: 44 items\n",
      "[INFO    ] 2024-06-19 12:18:48 | page 65: 45 items\n",
      "[INFO    ] 2024-06-19 12:18:58 | page 66: 44 items\n",
      "[INFO    ] 2024-06-19 12:19:07 | page 67: 43 items\n",
      "[INFO    ] 2024-06-19 12:19:16 | page 68: 43 items\n",
      "[INFO    ] 2024-06-19 12:19:26 | page 69: 43 items\n",
      "[INFO    ] 2024-06-19 12:19:35 | page 70: 41 items\n",
      "[INFO    ] 2024-06-19 12:19:45 | page 71: 41 items\n",
      "[INFO    ] 2024-06-19 12:19:55 | page 72: 44 items\n",
      "[INFO    ] 2024-06-19 12:20:06 | page 73: 45 items\n",
      "[INFO    ] 2024-06-19 12:20:16 | page 74: 44 items\n",
      "[INFO    ] 2024-06-19 12:20:26 | page 75: 43 items\n",
      "[INFO    ] 2024-06-19 12:20:36 | page 76: 43 items\n",
      "[INFO    ] 2024-06-19 12:20:46 | page 77: 43 items\n",
      "[INFO    ] 2024-06-19 12:20:56 | page 78: 45 items\n",
      "[INFO    ] 2024-06-19 12:21:06 | page 79: 43 items\n",
      "[INFO    ] 2024-06-19 12:21:17 | page 80: 46 items\n",
      "[INFO    ] 2024-06-19 12:21:24 | page 81: 27 items\n",
      "[INFO    ] 2024-06-19 12:21:34 | page 82: 41 items\n",
      "[INFO    ] 2024-06-19 12:21:45 | page 83: 50 items\n",
      "[INFO    ] 2024-06-19 12:21:56 | page 84: 50 items\n",
      "[INFO    ] 2024-06-19 12:22:07 | page 85: 50 items\n",
      "[INFO    ] 2024-06-19 12:22:18 | page 86: 50 items\n",
      "[INFO    ] 2024-06-19 12:22:29 | page 87: 50 items\n"
     ]
    },
    {
     "data": {
      "text/plain": [
       "4107"
      ]
     },
     "metadata": {},
     "output_type": "display_data"
    },
    {
     "data": {
      "text/plain": [
       "'data/2024/raw/flat/avito/avito_2024-06-19_12-22_raw_sevastopol.pkl'"
      ]
     },
     "metadata": {},
     "output_type": "display_data"
    },
    {
     "data": {
      "text/plain": [
       "'https://www.avito.ru/sevastopol/zemelnye_uchastki/prodam'"
      ]
     },
     "metadata": {},
     "output_type": "display_data"
    },
    {
     "name": "stdout",
     "output_type": "stream",
     "text": [
      "[INFO    ] 2024-06-19 12:22:39 | page 1: 50 items\n",
      "[INFO    ] 2024-06-19 12:22:47 | page 2: 50 items\n",
      "[INFO    ] 2024-06-19 12:22:56 | page 3: 50 items\n",
      "[INFO    ] 2024-06-19 12:23:05 | page 4: 50 items\n",
      "[INFO    ] 2024-06-19 12:23:13 | page 5: 50 items\n",
      "[INFO    ] 2024-06-19 12:23:22 | page 6: 50 items\n",
      "[INFO    ] 2024-06-19 12:23:30 | page 7: 50 items\n",
      "[INFO    ] 2024-06-19 12:23:39 | page 8: 50 items\n",
      "[INFO    ] 2024-06-19 12:23:47 | page 9: 50 items\n",
      "[INFO    ] 2024-06-19 12:23:56 | page 10: 50 items\n",
      "[INFO    ] 2024-06-19 12:24:04 | page 11: 50 items\n",
      "[INFO    ] 2024-06-19 12:24:14 | page 12: 50 items\n",
      "[INFO    ] 2024-06-19 12:24:23 | page 13: 50 items\n",
      "[INFO    ] 2024-06-19 12:24:31 | page 14: 50 items\n",
      "[INFO    ] 2024-06-19 12:24:40 | page 15: 50 items\n",
      "[INFO    ] 2024-06-19 12:24:48 | page 16: 50 items\n",
      "[INFO    ] 2024-06-19 12:24:57 | page 17: 50 items\n",
      "[INFO    ] 2024-06-19 12:25:06 | page 18: 50 items\n",
      "[INFO    ] 2024-06-19 12:25:14 | page 19: 50 items\n",
      "[INFO    ] 2024-06-19 12:25:23 | page 20: 50 items\n",
      "[INFO    ] 2024-06-19 12:25:31 | page 21: 50 items\n",
      "[INFO    ] 2024-06-19 12:25:40 | page 22: 50 items\n",
      "[INFO    ] 2024-06-19 12:25:49 | page 23: 50 items\n",
      "[INFO    ] 2024-06-19 12:25:58 | page 24: 50 items\n",
      "[INFO    ] 2024-06-19 12:26:07 | page 25: 50 items\n",
      "[INFO    ] 2024-06-19 12:26:17 | page 26: 50 items\n",
      "[INFO    ] 2024-06-19 12:26:26 | page 27: 50 items\n",
      "[INFO    ] 2024-06-19 12:26:35 | page 28: 50 items\n",
      "[INFO    ] 2024-06-19 12:26:44 | page 29: 50 items\n",
      "[INFO    ] 2024-06-19 12:26:53 | page 30: 50 items\n",
      "[INFO    ] 2024-06-19 12:27:02 | page 31: 50 items\n",
      "[INFO    ] 2024-06-19 12:27:12 | page 32: 50 items\n",
      "[INFO    ] 2024-06-19 12:27:22 | page 33: 50 items\n",
      "[INFO    ] 2024-06-19 12:27:31 | page 34: 50 items\n",
      "[INFO    ] 2024-06-19 12:27:41 | page 35: 50 items\n",
      "[INFO    ] 2024-06-19 12:27:50 | page 36: 50 items\n",
      "[INFO    ] 2024-06-19 12:27:59 | page 37: 50 items\n",
      "[INFO    ] 2024-06-19 12:28:09 | page 38: 50 items\n",
      "[INFO    ] 2024-06-19 12:28:19 | page 39: 49 items\n",
      "[INFO    ] 2024-06-19 12:28:29 | page 40: 50 items\n",
      "[INFO    ] 2024-06-19 12:28:38 | page 41: 50 items\n",
      "[INFO    ] 2024-06-19 12:28:47 | page 42: 50 items\n",
      "[INFO    ] 2024-06-19 12:28:57 | page 43: 50 items\n",
      "[INFO    ] 2024-06-19 12:29:06 | page 44: 50 items\n",
      "[INFO    ] 2024-06-19 12:29:07 | page 45: 0 items\n",
      "[INFO    ] 2024-06-19 12:29:14 | page 46: 33 items\n"
     ]
    },
    {
     "data": {
      "text/plain": [
       "2232"
      ]
     },
     "metadata": {},
     "output_type": "display_data"
    },
    {
     "data": {
      "text/plain": [
       "'data/2024/raw/land/avito/avito_2024-06-19_12-29_raw_sevastopol.pkl'"
      ]
     },
     "metadata": {},
     "output_type": "display_data"
    },
    {
     "data": {
      "text/plain": [
       "'https://www.avito.ru/sevastopol/doma_dachi_kottedzhi/prodam'"
      ]
     },
     "metadata": {},
     "output_type": "display_data"
    },
    {
     "name": "stdout",
     "output_type": "stream",
     "text": [
      "[INFO    ] 2024-06-19 12:29:24 | page 1: 50 items\n",
      "[INFO    ] 2024-06-19 12:29:34 | page 2: 50 items\n",
      "[INFO    ] 2024-06-19 12:29:43 | page 3: 50 items\n",
      "[INFO    ] 2024-06-19 12:29:52 | page 4: 50 items\n",
      "[INFO    ] 2024-06-19 12:30:01 | page 5: 50 items\n",
      "[INFO    ] 2024-06-19 12:30:11 | page 6: 50 items\n",
      "[INFO    ] 2024-06-19 12:30:20 | page 7: 50 items\n",
      "[INFO    ] 2024-06-19 12:30:29 | page 8: 50 items\n",
      "[INFO    ] 2024-06-19 12:30:38 | page 9: 50 items\n",
      "[INFO    ] 2024-06-19 12:30:47 | page 10: 50 items\n",
      "[INFO    ] 2024-06-19 12:30:56 | page 11: 50 items\n",
      "[INFO    ] 2024-06-19 12:31:05 | page 12: 50 items\n",
      "[INFO    ] 2024-06-19 12:31:13 | page 13: 50 items\n",
      "[INFO    ] 2024-06-19 12:31:22 | page 14: 50 items\n",
      "[INFO    ] 2024-06-19 12:31:31 | page 15: 49 items\n",
      "[INFO    ] 2024-06-19 12:31:40 | page 16: 50 items\n",
      "[INFO    ] 2024-06-19 12:31:49 | page 17: 50 items\n",
      "[INFO    ] 2024-06-19 12:31:58 | page 18: 49 items\n",
      "[INFO    ] 2024-06-19 12:32:07 | page 19: 49 items\n",
      "[INFO    ] 2024-06-19 12:32:16 | page 20: 50 items\n",
      "[INFO    ] 2024-06-19 12:32:25 | page 21: 50 items\n",
      "[INFO    ] 2024-06-19 12:32:34 | page 22: 50 items\n",
      "[INFO    ] 2024-06-19 12:32:44 | page 23: 50 items\n",
      "[INFO    ] 2024-06-19 12:32:54 | page 24: 50 items\n",
      "[INFO    ] 2024-06-19 12:33:04 | page 25: 50 items\n",
      "[INFO    ] 2024-06-19 12:33:13 | page 26: 50 items\n",
      "[INFO    ] 2024-06-19 12:33:23 | page 27: 50 items\n",
      "[INFO    ] 2024-06-19 12:33:33 | page 28: 50 items\n",
      "[INFO    ] 2024-06-19 12:33:43 | page 29: 50 items\n",
      "[INFO    ] 2024-06-19 12:33:52 | page 30: 50 items\n",
      "[INFO    ] 2024-06-19 12:34:03 | page 31: 50 items\n",
      "[INFO    ] 2024-06-19 12:34:13 | page 32: 50 items\n",
      "[INFO    ] 2024-06-19 12:34:23 | page 33: 50 items\n",
      "[INFO    ] 2024-06-19 12:34:34 | page 34: 50 items\n",
      "[INFO    ] 2024-06-19 12:34:44 | page 35: 50 items\n",
      "[INFO    ] 2024-06-19 12:34:54 | page 36: 50 items\n",
      "[INFO    ] 2024-06-19 12:35:05 | page 37: 50 items\n",
      "[INFO    ] 2024-06-19 12:35:16 | page 38: 50 items\n",
      "[INFO    ] 2024-06-19 12:35:27 | page 39: 50 items\n",
      "[INFO    ] 2024-06-19 12:35:37 | page 40: 50 items\n",
      "[INFO    ] 2024-06-19 12:35:48 | page 41: 50 items\n",
      "[INFO    ] 2024-06-19 12:35:59 | page 42: 50 items\n",
      "[INFO    ] 2024-06-19 12:36:09 | page 43: 50 items\n",
      "[INFO    ] 2024-06-19 12:36:20 | page 44: 50 items\n",
      "[INFO    ] 2024-06-19 12:36:31 | page 45: 50 items\n",
      "[INFO    ] 2024-06-19 12:36:41 | page 46: 50 items\n",
      "[INFO    ] 2024-06-19 12:36:50 | page 47: 43 items\n"
     ]
    },
    {
     "data": {
      "text/plain": [
       "2340"
      ]
     },
     "metadata": {},
     "output_type": "display_data"
    },
    {
     "data": {
      "text/plain": [
       "'data/2024/raw/house/avito/avito_2024-06-19_12-36_raw_sevastopol.pkl'"
      ]
     },
     "metadata": {},
     "output_type": "display_data"
    },
    {
     "data": {
      "text/plain": [
       "'https://www.avito.ru/sudak/kvartiry/prodam'"
      ]
     },
     "metadata": {},
     "output_type": "display_data"
    },
    {
     "name": "stdout",
     "output_type": "stream",
     "text": [
      "[INFO    ] 2024-06-19 12:37:01 | page 1: 53 items\n",
      "[INFO    ] 2024-06-19 12:37:11 | page 2: 50 items\n",
      "[INFO    ] 2024-06-19 12:37:21 | page 3: 50 items\n",
      "[INFO    ] 2024-06-19 12:37:31 | page 4: 50 items\n",
      "[INFO    ] 2024-06-19 12:37:42 | page 5: 50 items\n",
      "[INFO    ] 2024-06-19 12:37:53 | page 6: 50 items\n",
      "[INFO    ] 2024-06-19 12:38:04 | page 7: 47 items\n"
     ]
    },
    {
     "data": {
      "text/plain": [
       "350"
      ]
     },
     "metadata": {},
     "output_type": "display_data"
    },
    {
     "data": {
      "text/plain": [
       "'data/2024/raw/flat/avito/avito_2024-06-19_12-38_raw_sudak.pkl'"
      ]
     },
     "metadata": {},
     "output_type": "display_data"
    },
    {
     "data": {
      "text/plain": [
       "'https://www.avito.ru/sudak/zemelnye_uchastki/prodam'"
      ]
     },
     "metadata": {},
     "output_type": "display_data"
    },
    {
     "name": "stdout",
     "output_type": "stream",
     "text": [
      "[INFO    ] 2024-06-19 12:38:12 | page 1: 50 items\n",
      "[INFO    ] 2024-06-19 12:38:21 | page 2: 50 items\n",
      "[INFO    ] 2024-06-19 12:38:29 | page 3: 50 items\n",
      "[INFO    ] 2024-06-19 12:38:38 | page 4: 50 items\n",
      "[INFO    ] 2024-06-19 12:38:46 | page 5: 50 items\n",
      "[INFO    ] 2024-06-19 12:38:53 | page 6: 33 items\n"
     ]
    },
    {
     "data": {
      "text/plain": [
       "283"
      ]
     },
     "metadata": {},
     "output_type": "display_data"
    },
    {
     "data": {
      "text/plain": [
       "'data/2024/raw/land/avito/avito_2024-06-19_12-38_raw_sudak.pkl'"
      ]
     },
     "metadata": {},
     "output_type": "display_data"
    },
    {
     "data": {
      "text/plain": [
       "'https://www.avito.ru/sudak/doma_dachi_kottedzhi/prodam'"
      ]
     },
     "metadata": {},
     "output_type": "display_data"
    },
    {
     "name": "stdout",
     "output_type": "stream",
     "text": [
      "[INFO    ] 2024-06-19 12:39:01 | page 1: 50 items\n",
      "[INFO    ] 2024-06-19 12:39:10 | page 2: 50 items\n",
      "[INFO    ] 2024-06-19 12:39:19 | page 3: 50 items\n",
      "[INFO    ] 2024-06-19 12:39:21 | page 4: 8 items\n"
     ]
    },
    {
     "data": {
      "text/plain": [
       "158"
      ]
     },
     "metadata": {},
     "output_type": "display_data"
    },
    {
     "data": {
      "text/plain": [
       "'data/2024/raw/house/avito/avito_2024-06-19_12-39_raw_sudak.pkl'"
      ]
     },
     "metadata": {},
     "output_type": "display_data"
    },
    {
     "data": {
      "text/plain": [
       "'https://www.avito.ru/bahchisaray/zemelnye_uchastki/prodam'"
      ]
     },
     "metadata": {},
     "output_type": "display_data"
    },
    {
     "name": "stdout",
     "output_type": "stream",
     "text": [
      "[INFO    ] 2024-06-19 12:39:30 | page 1: 50 items\n",
      "[INFO    ] 2024-06-19 12:39:38 | page 2: 50 items\n",
      "[INFO    ] 2024-06-19 12:39:46 | page 3: 50 items\n",
      "[INFO    ] 2024-06-19 12:39:54 | page 4: 50 items\n",
      "[INFO    ] 2024-06-19 12:40:02 | page 5: 50 items\n",
      "[INFO    ] 2024-06-19 12:40:10 | page 6: 50 items\n",
      "[INFO    ] 2024-06-19 12:40:18 | page 7: 50 items\n",
      "[INFO    ] 2024-06-19 12:40:26 | page 8: 50 items\n",
      "[INFO    ] 2024-06-19 12:40:34 | page 9: 50 items\n",
      "[INFO    ] 2024-06-19 12:40:42 | page 10: 50 items\n",
      "[INFO    ] 2024-06-19 12:40:50 | page 11: 50 items\n",
      "[INFO    ] 2024-06-19 12:40:59 | page 12: 50 items\n",
      "[INFO    ] 2024-06-19 12:41:07 | page 13: 50 items\n",
      "[INFO    ] 2024-06-19 12:41:13 | page 14: 36 items\n"
     ]
    },
    {
     "data": {
      "text/plain": [
       "686"
      ]
     },
     "metadata": {},
     "output_type": "display_data"
    },
    {
     "data": {
      "text/plain": [
       "'data/2024/raw/land/avito/avito_2024-06-19_12-41_raw_bahchisaray.pkl'"
      ]
     },
     "metadata": {},
     "output_type": "display_data"
    },
    {
     "data": {
      "text/plain": [
       "'https://www.avito.ru/bahchisaray/doma_dachi_kottedzhi/prodam'"
      ]
     },
     "metadata": {},
     "output_type": "display_data"
    },
    {
     "name": "stdout",
     "output_type": "stream",
     "text": [
      "[INFO    ] 2024-06-19 12:41:22 | page 1: 50 items\n",
      "[INFO    ] 2024-06-19 12:41:31 | page 2: 50 items\n",
      "[INFO    ] 2024-06-19 12:41:39 | page 3: 50 items\n",
      "[INFO    ] 2024-06-19 12:41:47 | page 4: 50 items\n",
      "[INFO    ] 2024-06-19 12:41:56 | page 5: 50 items\n",
      "[INFO    ] 2024-06-19 12:42:01 | page 6: 27 items\n"
     ]
    },
    {
     "data": {
      "text/plain": [
       "277"
      ]
     },
     "metadata": {},
     "output_type": "display_data"
    },
    {
     "data": {
      "text/plain": [
       "'data/2024/raw/house/avito/avito_2024-06-19_12-42_raw_bahchisaray.pkl'"
      ]
     },
     "metadata": {},
     "output_type": "display_data"
    },
    {
     "name": "stdout",
     "output_type": "stream",
     "text": [
      "CPU times: user 4min 27s, sys: 10.8 s, total: 4min 38s\n",
      "Wall time: 34min 20s\n"
     ]
    }
   ],
   "source": [
    "%%time \n",
    "\n",
    "\n",
    "options = webdriver.FirefoxOptions()\n",
    "#options.headless = True\n",
    "browser = webdriver.Firefox(options=options)\n",
    "logging.info('open virtual browser')\n",
    "\n",
    "for s in source:\n",
    "\n",
    "    url = s['url']\n",
    "    place = s['place']\n",
    "    subfolder = s['subfolder'] \n",
    "    \n",
    "    display(url)\n",
    "    browser.get(url)\n",
    "    # sleep(1)\n",
    "    \n",
    "    data = AvitoParser().transform(browser)\n",
    "    assert len(data)>0\n",
    "    \n",
    "    df = pd.DataFrame(data)\n",
    "    df['ts'] = datetime.now()\n",
    "    df['place'] = place\n",
    "\n",
    "    display( len(df) )\n",
    "    t_now = datetime.now().strftime('%Y-%m-%d_%H-%M')\n",
    "    fname = f'{dest_folder}/{subfolder}/avito/avito_{t_now}_raw_{place}.pkl'\n",
    "    df.to_pickle(fname)\n",
    "    display( fname )\n",
    "\n",
    "browser.close()"
   ]
  },
  {
   "cell_type": "code",
   "execution_count": 10,
   "id": "a98a46de",
   "metadata": {},
   "outputs": [],
   "source": [
    "# browser.close()"
   ]
  },
  {
   "cell_type": "code",
   "execution_count": 11,
   "id": "e97e319b",
   "metadata": {},
   "outputs": [
    {
     "name": "stdout",
     "output_type": "stream",
     "text": [
      "Ср 19 июн 2024 12:42:01 MSK\r\n"
     ]
    }
   ],
   "source": [
    "!date"
   ]
  },
  {
   "cell_type": "code",
   "execution_count": null,
   "id": "0fcca2ff",
   "metadata": {},
   "outputs": [],
   "source": []
  }
 ],
 "metadata": {
  "kernelspec": {
   "display_name": "Python 3 (ipykernel)",
   "language": "python",
   "name": "python3"
  },
  "language_info": {
   "codemirror_mode": {
    "name": "ipython",
    "version": 3
   },
   "file_extension": ".py",
   "mimetype": "text/x-python",
   "name": "python",
   "nbconvert_exporter": "python",
   "pygments_lexer": "ipython3",
   "version": "3.12.3"
  }
 },
 "nbformat": 4,
 "nbformat_minor": 5
}
