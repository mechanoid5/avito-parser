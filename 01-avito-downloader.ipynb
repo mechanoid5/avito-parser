{
 "cells": [
  {
   "cell_type": "markdown",
   "id": "7bec28d7",
   "metadata": {},
   "source": [
    "__применение парсера объявлений авито.ru__\n",
    "\n",
    "_Evgeny S. Borisov <parser@mechanoid.su>_"
   ]
  },
  {
   "cell_type": "code",
   "execution_count": 1,
   "id": "52c5999f",
   "metadata": {},
   "outputs": [],
   "source": [
    "# !pacman -S firefox firefox-i18n-r  geckodriver\n",
    "# !pip install seleniuam"
   ]
  },
  {
   "cell_type": "code",
   "execution_count": 2,
   "id": "bcea4d8b",
   "metadata": {
    "ExecuteTime": {
     "end_time": "2022-08-26T14:19:06.118492Z",
     "start_time": "2022-08-26T14:13:37.888398Z"
    }
   },
   "outputs": [],
   "source": [
    "# import re\n",
    "import sys\n",
    "import logging\n",
    "from datetime import datetime as dtm\n",
    "from tqdm.notebook import tqdm\n",
    "import pandas as pd"
   ]
  },
  {
   "cell_type": "code",
   "execution_count": 3,
   "id": "caabc8c7",
   "metadata": {
    "ExecuteTime": {
     "end_time": "2022-08-26T14:19:06.118492Z",
     "start_time": "2022-08-26T14:13:37.888398Z"
    }
   },
   "outputs": [],
   "source": [
    "pd.set_option('display.max_colwidth', None)\n",
    "pd.set_option('display.float_format', '{:.2f}'.format)\n",
    "tqdm.pandas()\n",
    "\n",
    "logging.basicConfig(\n",
    "        format=u'[%(levelname)-8s] %(asctime)s | %(message)s',\n",
    "        datefmt='%Y-%m-%d %H:%M:%S',\n",
    "        level=logging.INFO,\n",
    "        # level=logging.DEBUG,\n",
    "        stream=sys.stdout,\n",
    "    )"
   ]
  },
  {
   "cell_type": "markdown",
   "id": "db3fe2be",
   "metadata": {},
   "source": [
    "---"
   ]
  },
  {
   "cell_type": "code",
   "execution_count": 4,
   "id": "288569b0",
   "metadata": {},
   "outputs": [],
   "source": [
    "# url = (\n",
    "# 'https://www.avito.ru/yaroslavskaya_oblast/avtomobili/chevrolet/niva'\n",
    "# '?bt=0'\n",
    "# '&i=1'\n",
    "# '&pmax=150000'\n",
    "# '&pmin=10000'\n",
    "# )"
   ]
  },
  {
   "cell_type": "code",
   "execution_count": 5,
   "id": "d437eab9",
   "metadata": {},
   "outputs": [],
   "source": [
    "profile_path = '/home/mechanoid/.mozilla/firefox/p144xo2m.default-release'\n",
    "\n",
    "base_url = 'https://www.avito.ru/'\n",
    "avito_path = 'sevastopol/kvartiry/prodam'\n",
    "\n",
    "raw_data_path = 'data/raw/' # каталог с файлами объявлений\n",
    "loc_file_path = 'data/location.pkl' # таблица адресов\n",
    "result_file_path = 'data/data.pkl'"
   ]
  },
  {
   "cell_type": "code",
   "execution_count": 6,
   "id": "31463a1e",
   "metadata": {},
   "outputs": [
    {
     "data": {
      "text/plain": [
       "'2022-09-07_12-39'"
      ]
     },
     "execution_count": 6,
     "metadata": {},
     "output_type": "execute_result"
    }
   ],
   "source": [
    "ts = dtm.now().strftime('%Y-%m-%d_%H-%M')\n",
    "ts"
   ]
  },
  {
   "cell_type": "markdown",
   "id": "bed3fc93",
   "metadata": {},
   "source": [
    "## качаем новые данные"
   ]
  },
  {
   "cell_type": "code",
   "execution_count": 7,
   "id": "9ce138fe",
   "metadata": {},
   "outputs": [
    {
     "name": "stdout",
     "output_type": "stream",
     "text": [
      "[INFO    ] 2022-09-07 12:39:22 | DownloaderSeleniumFirefox: downloader init\n",
      "[INFO    ] 2022-09-07 12:39:22 | DownloaderSeleniumFirefox: open virtual browser\n",
      "[INFO    ] 2022-09-07 12:39:24 | AdsListParser: downloader init\n",
      "[INFO    ] 2022-09-07 12:39:24 | AvitoParser: init\n",
      "[INFO    ] 2022-09-07 12:39:29 | AvitoParser: 79 pages for read\n",
      "[INFO    ] 2022-09-07 12:39:29 | AdsListParser: start read and parse pages...\n",
      "[INFO    ] 2022-09-07 12:39:32 | AdsListParser: read page 1\n",
      "[INFO    ] 2022-09-07 12:39:35 | AdsListParser: read page 2\n",
      "[INFO    ] 2022-09-07 12:39:38 | AdsListParser: read page 3\n",
      "[INFO    ] 2022-09-07 12:39:41 | AdsListParser: read page 4\n",
      "[INFO    ] 2022-09-07 12:39:44 | AdsListParser: read page 5\n",
      "[INFO    ] 2022-09-07 12:39:48 | AdsListParser: read page 6\n",
      "[INFO    ] 2022-09-07 12:39:52 | AdsListParser: read page 7\n",
      "[INFO    ] 2022-09-07 12:39:55 | AdsListParser: read page 8\n",
      "[INFO    ] 2022-09-07 12:39:59 | AdsListParser: read page 9\n",
      "[INFO    ] 2022-09-07 12:40:03 | AdsListParser: read page 10\n",
      "[INFO    ] 2022-09-07 12:40:06 | AdsListParser: read page 11\n",
      "[INFO    ] 2022-09-07 12:40:11 | AdsListParser: read page 12\n",
      "[INFO    ] 2022-09-07 12:41:13 | AdsListParser: read page 13\n",
      "[INFO    ] 2022-09-07 12:41:16 | AdsListParser: read page 14\n",
      "[INFO    ] 2022-09-07 12:41:20 | AdsListParser: read page 15\n",
      "[INFO    ] 2022-09-07 12:41:23 | AdsListParser: read page 16\n",
      "[INFO    ] 2022-09-07 12:41:26 | AdsListParser: read page 17\n",
      "[INFO    ] 2022-09-07 12:41:30 | AdsListParser: read page 18\n",
      "[INFO    ] 2022-09-07 12:41:34 | AdsListParser: read page 19\n",
      "[INFO    ] 2022-09-07 12:41:39 | AdsListParser: read page 20\n",
      "[INFO    ] 2022-09-07 12:41:42 | AdsListParser: read page 21\n",
      "[INFO    ] 2022-09-07 12:41:45 | AdsListParser: read page 22\n",
      "[INFO    ] 2022-09-07 12:41:51 | AdsListParser: read page 23\n",
      "[INFO    ] 2022-09-07 12:41:57 | AdsListParser: read page 24\n",
      "[INFO    ] 2022-09-07 12:42:01 | AdsListParser: read page 25\n",
      "[INFO    ] 2022-09-07 12:42:04 | AdsListParser: read page 26\n",
      "[INFO    ] 2022-09-07 12:42:08 | AdsListParser: read page 27\n",
      "[INFO    ] 2022-09-07 12:42:11 | AdsListParser: read page 28\n",
      "[INFO    ] 2022-09-07 12:42:16 | AdsListParser: read page 29\n",
      "[INFO    ] 2022-09-07 12:42:19 | AdsListParser: read page 30\n",
      "[INFO    ] 2022-09-07 12:42:23 | AdsListParser: read page 31\n",
      "[INFO    ] 2022-09-07 12:42:27 | AdsListParser: read page 32\n",
      "[INFO    ] 2022-09-07 12:42:31 | AdsListParser: read page 33\n",
      "[INFO    ] 2022-09-07 12:42:37 | AdsListParser: read page 34\n",
      "[INFO    ] 2022-09-07 12:42:40 | AdsListParser: read page 35\n",
      "[INFO    ] 2022-09-07 12:42:44 | AdsListParser: read page 36\n",
      "[INFO    ] 2022-09-07 12:42:48 | AdsListParser: read page 37\n",
      "[INFO    ] 2022-09-07 12:42:51 | AdsListParser: read page 38\n",
      "[INFO    ] 2022-09-07 12:42:56 | AdsListParser: read page 39\n",
      "[INFO    ] 2022-09-07 12:42:59 | AdsListParser: read page 40\n",
      "[INFO    ] 2022-09-07 12:43:02 | AdsListParser: read page 41\n",
      "[INFO    ] 2022-09-07 12:43:06 | AdsListParser: read page 42\n",
      "[INFO    ] 2022-09-07 12:43:09 | AdsListParser: read page 43\n",
      "[INFO    ] 2022-09-07 12:43:12 | AdsListParser: read page 44\n",
      "[INFO    ] 2022-09-07 12:43:16 | AdsListParser: read page 45\n",
      "[INFO    ] 2022-09-07 12:43:19 | AdsListParser: read page 46\n",
      "[INFO    ] 2022-09-07 12:43:22 | AdsListParser: read page 47\n",
      "[INFO    ] 2022-09-07 12:43:26 | AdsListParser: read page 48\n",
      "[INFO    ] 2022-09-07 12:44:26 | AdsListParser: read page 49\n",
      "[INFO    ] 2022-09-07 12:44:30 | AdsListParser: read page 50\n",
      "[INFO    ] 2022-09-07 12:44:33 | AdsListParser: read page 51\n",
      "[INFO    ] 2022-09-07 12:44:36 | AdsListParser: read page 52\n",
      "[INFO    ] 2022-09-07 12:44:40 | AdsListParser: read page 53\n",
      "[INFO    ] 2022-09-07 12:44:43 | AdsListParser: read page 54\n",
      "[INFO    ] 2022-09-07 12:44:46 | AdsListParser: read page 55\n",
      "[INFO    ] 2022-09-07 12:44:50 | AdsListParser: read page 56\n",
      "[INFO    ] 2022-09-07 12:44:54 | AdsListParser: read page 57\n",
      "[INFO    ] 2022-09-07 12:44:57 | AdsListParser: read page 58\n",
      "[INFO    ] 2022-09-07 12:45:00 | AdsListParser: read page 59\n",
      "[INFO    ] 2022-09-07 12:45:09 | AdsListParser: read page 60\n",
      "[INFO    ] 2022-09-07 12:45:13 | AdsListParser: read page 61\n",
      "[INFO    ] 2022-09-07 12:45:17 | AdsListParser: read page 62\n",
      "[INFO    ] 2022-09-07 12:45:20 | AdsListParser: read page 63\n",
      "[INFO    ] 2022-09-07 12:45:23 | AdsListParser: read page 64\n",
      "[INFO    ] 2022-09-07 12:45:27 | AdsListParser: read page 65\n",
      "[INFO    ] 2022-09-07 12:45:30 | AdsListParser: read page 66\n",
      "[INFO    ] 2022-09-07 12:45:32 | AdsListParser: read page 67\n",
      "[INFO    ] 2022-09-07 12:45:36 | AdsListParser: read page 68\n",
      "[INFO    ] 2022-09-07 12:45:40 | AdsListParser: read page 69\n",
      "[INFO    ] 2022-09-07 12:45:42 | AdsListParser: read page 70\n",
      "[INFO    ] 2022-09-07 12:45:45 | AdsListParser: read page 71\n",
      "[INFO    ] 2022-09-07 12:45:48 | AdsListParser: read page 72\n",
      "[INFO    ] 2022-09-07 12:45:51 | AdsListParser: read page 73\n",
      "[INFO    ] 2022-09-07 12:45:55 | AdsListParser: read page 74\n",
      "[INFO    ] 2022-09-07 12:45:59 | AdsListParser: read page 75\n",
      "[INFO    ] 2022-09-07 12:46:03 | AdsListParser: read page 76\n",
      "[INFO    ] 2022-09-07 12:46:06 | AdsListParser: read page 77\n",
      "[INFO    ] 2022-09-07 12:46:09 | AdsListParser: read page 78\n",
      "[INFO    ] 2022-09-07 12:46:11 | AdsListParser: read page 79\n",
      "[INFO    ] 2022-09-07 12:46:11 | AdsListParser: last page detected\n",
      "[INFO    ] 2022-09-07 12:46:12 | DownloaderSeleniumFirefox: close virtual browser\n",
      "3859\n",
      "CPU times: user 16.7 s, sys: 756 ms, total: 17.4 s\n",
      "Wall time: 6min 49s\n"
     ]
    }
   ],
   "source": [
    "%%time \n",
    "\n",
    "from lib.downloader import DownloaderSeleniumFirefox\n",
    "from lib.avito import AvitoParserRealty\n",
    "\n",
    "df,html = AvitoParserRealty(\n",
    "        base_url=base_url+'/'+avito_path,\n",
    "        driver=DownloaderSeleniumFirefox(profile_path)\n",
    "    ).load(req_param='',keep_html=True) #, page_limit=4)\n",
    "\n",
    "print(len(df))"
   ]
  },
  {
   "cell_type": "code",
   "execution_count": null,
   "id": "f8bd78d3",
   "metadata": {},
   "outputs": [],
   "source": [
    "print(len(df))\n",
    "df = df.dropna().reset_index(drop=True)\n",
    "print(len(df))"
   ]
  },
  {
   "cell_type": "code",
   "execution_count": 9,
   "id": "6fa322a2",
   "metadata": {},
   "outputs": [],
   "source": [
    "assert len(df)>0\n",
    "df.to_excel(f'{raw_data_path}/avito_{ts}_raw.xlsx',index=False)"
   ]
  },
  {
   "cell_type": "code",
   "execution_count": 10,
   "id": "bcd426ee",
   "metadata": {},
   "outputs": [
    {
     "data": {
      "text/html": [
       "<div>\n",
       "<style scoped>\n",
       "    .dataframe tbody tr th:only-of-type {\n",
       "        vertical-align: middle;\n",
       "    }\n",
       "\n",
       "    .dataframe tbody tr th {\n",
       "        vertical-align: top;\n",
       "    }\n",
       "\n",
       "    .dataframe thead th {\n",
       "        text-align: right;\n",
       "    }\n",
       "</style>\n",
       "<table border=\"1\" class=\"dataframe\">\n",
       "  <thead>\n",
       "    <tr style=\"text-align: right;\">\n",
       "      <th></th>\n",
       "      <th>avito_id</th>\n",
       "      <th>title</th>\n",
       "      <th>price</th>\n",
       "      <th>obj_name</th>\n",
       "      <th>adr</th>\n",
       "      <th>description</th>\n",
       "      <th>page</th>\n",
       "      <th>ts</th>\n",
       "    </tr>\n",
       "  </thead>\n",
       "  <tbody>\n",
       "    <tr>\n",
       "      <th>874</th>\n",
       "      <td>2055843092</td>\n",
       "      <td>Объявление «1-к. апартаменты, 23,5 м², 1/5 эт.» 16 фотографий</td>\n",
       "      <td>6100000</td>\n",
       "      <td></td>\n",
       "      <td>ул. Челюскинцев, 57/2</td>\n",
       "      <td>Продаются апартаменты у моря и шикарного парка «Учкуевка». Дом новый. Полуцоколь. \\n\\nВысота потолков 3.4 м! Отделка сделана недавно, новая мебель, холодильник, микроволновка, мультиварка, вытяжка, бойлер, стиральная машинка, кондиционер зима/лето, теплые по</td>\n",
       "      <td>18</td>\n",
       "      <td>2022-09-07 12:46:11.483203</td>\n",
       "    </tr>\n",
       "    <tr>\n",
       "      <th>1146</th>\n",
       "      <td>1971022174</td>\n",
       "      <td>Объявление «4-к. квартира, 80 м², 1/3 эт.» 23 фотографии</td>\n",
       "      <td>11500000</td>\n",
       "      <td></td>\n",
       "      <td>ул. Новикова, 5</td>\n",
       "      <td>Потрясающая великолепием и простором 4х комнатная сталинка. Находится в самом Центре Балаклавы(Жемчужина Крыма с ласковым морем). Напротив нашего дома детский оборудованый Парк, школа 3 минуты пешком, детский сад 4 минуты пешком, администрация, дом культур</td>\n",
       "      <td>23</td>\n",
       "      <td>2022-09-07 12:46:11.483203</td>\n",
       "    </tr>\n",
       "  </tbody>\n",
       "</table>\n",
       "</div>"
      ],
      "text/plain": [
       "        avito_id  \\\n",
       "874   2055843092   \n",
       "1146  1971022174   \n",
       "\n",
       "                                                              title     price  \\\n",
       "874   Объявление «1-к. апартаменты, 23,5 м², 1/5 эт.» 16 фотографий   6100000   \n",
       "1146       Объявление «4-к. квартира, 80 м², 1/3 эт.» 23 фотографии  11500000   \n",
       "\n",
       "     obj_name                    adr  \\\n",
       "874            ул. Челюскинцев, 57/2   \n",
       "1146                 ул. Новикова, 5   \n",
       "\n",
       "                                                                                                                                                                                                                                                             description  \\\n",
       "874   Продаются апартаменты у моря и шикарного парка «Учкуевка». Дом новый. Полуцоколь. \\n\\nВысота потолков 3.4 м! Отделка сделана недавно, новая мебель, холодильник, микроволновка, мультиварка, вытяжка, бойлер, стиральная машинка, кондиционер зима/лето, теплые по   \n",
       "1146    Потрясающая великолепием и простором 4х комнатная сталинка. Находится в самом Центре Балаклавы(Жемчужина Крыма с ласковым морем). Напротив нашего дома детский оборудованый Парк, школа 3 минуты пешком, детский сад 4 минуты пешком, администрация, дом культур   \n",
       "\n",
       "      page                         ts  \n",
       "874     18 2022-09-07 12:46:11.483203  \n",
       "1146    23 2022-09-07 12:46:11.483203  "
      ]
     },
     "execution_count": 10,
     "metadata": {},
     "output_type": "execute_result"
    }
   ],
   "source": [
    "df.sample(2)"
   ]
  },
  {
   "cell_type": "code",
   "execution_count": 11,
   "id": "fc375694",
   "metadata": {},
   "outputs": [],
   "source": [
    "# html[-1]\n",
    "# with open('tmp/avito.html','wt') as f: f.write(html[1])"
   ]
  },
  {
   "cell_type": "markdown",
   "id": "98f6384f",
   "metadata": {},
   "source": [
    "## собираем и чистим данные"
   ]
  },
  {
   "cell_type": "code",
   "execution_count": 12,
   "id": "2673ef1f",
   "metadata": {},
   "outputs": [
    {
     "data": {
      "text/plain": [
       "['data/raw//avito_2022-08-26_17-29_raw.xlsx',\n",
       " 'data/raw//avito_2022-08-29_13-16_raw.xlsx',\n",
       " 'data/raw//avito_2022-08-31_17-42_raw.xlsx',\n",
       " 'data/raw//avito_2022-09-01_14-07_raw.xlsx',\n",
       " 'data/raw//avito_2022-09-02_13-04_raw.xlsx',\n",
       " 'data/raw//avito_2022-09-05_14-02_raw.xlsx',\n",
       " 'data/raw//avito_2022-09-06_13-09_raw.xlsx',\n",
       " 'data/raw//avito_2022-09-07_12-39_raw.xlsx']"
      ]
     },
     "execution_count": 12,
     "metadata": {},
     "output_type": "execute_result"
    }
   ],
   "source": [
    "import re\n",
    "from os import listdir\n",
    "\n",
    "raw_data_files = sorted([ raw_data_path+'/'+f for f in listdir(raw_data_path) if re.match(r'.+\\.xlsx$',f) ])\n",
    "raw_data_files"
   ]
  },
  {
   "cell_type": "code",
   "execution_count": 13,
   "id": "819a9675",
   "metadata": {},
   "outputs": [
    {
     "name": "stdout",
     "output_type": "stream",
     "text": [
      "29536\n"
     ]
    }
   ],
   "source": [
    "from lib.avito import AvitoDataCleanerRealty\n",
    "\n",
    "data = pd.concat(\n",
    "        [ pd.read_excel(f) for f in raw_data_files ]\n",
    "    ).drop_duplicates().reset_index(drop=True)\n",
    "\n",
    "data = AvitoDataCleanerRealty.transform( data )\n",
    "\n",
    "print(len(data))"
   ]
  },
  {
   "cell_type": "code",
   "execution_count": 14,
   "id": "ce2869e1",
   "metadata": {},
   "outputs": [],
   "source": [
    "assert len(data)>0"
   ]
  },
  {
   "cell_type": "code",
   "execution_count": 15,
   "id": "12170700",
   "metadata": {},
   "outputs": [
    {
     "name": "stdout",
     "output_type": "stream",
     "text": [
      "<class 'pandas.core.frame.DataFrame'>\n",
      "RangeIndex: 29536 entries, 0 to 29535\n",
      "Data columns (total 22 columns):\n",
      " #   Column         Non-Null Count  Dtype         \n",
      "---  ------         --------------  -----         \n",
      " 0   avito_id       29536 non-null  int64         \n",
      " 1   title          29536 non-null  object        \n",
      " 2   price          29536 non-null  int64         \n",
      " 3   adr            29536 non-null  object        \n",
      " 4   description    29512 non-null  object        \n",
      " 5   obj_name       17664 non-null  object        \n",
      " 6   ts             29536 non-null  datetime64[ns]\n",
      " 7   avito_page     25677 non-null  float64       \n",
      " 8   page           3859 non-null   float64       \n",
      " 9   nrooms         29536 non-null  int64         \n",
      " 10  floor          29536 non-null  int64         \n",
      " 11  nfloors        29536 non-null  int64         \n",
      " 12  area           29536 non-null  float64       \n",
      " 13  is_studio      29536 non-null  bool          \n",
      " 14  is_apartment   29536 non-null  bool          \n",
      " 15  is_part        29536 non-null  bool          \n",
      " 16  is_auction     29536 non-null  bool          \n",
      " 17  is_openspace   29536 non-null  bool          \n",
      " 18  is_roof        29512 non-null  object        \n",
      " 19  is_SNT         29536 non-null  bool          \n",
      " 20  priceM         29536 non-null  float64       \n",
      " 21  is_last_floor  29536 non-null  bool          \n",
      "dtypes: bool(7), datetime64[ns](1), float64(4), int64(5), object(5)\n",
      "memory usage: 3.6+ MB\n"
     ]
    }
   ],
   "source": [
    "data.info(2)"
   ]
  },
  {
   "cell_type": "markdown",
   "id": "2903ab86",
   "metadata": {},
   "source": [
    "### обновляем таблицу адресов"
   ]
  },
  {
   "cell_type": "code",
   "execution_count": 16,
   "id": "7d191d0d",
   "metadata": {},
   "outputs": [
    {
     "name": "stdout",
     "output_type": "stream",
     "text": [
      "[INFO    ] 2022-09-07 12:47:27 | LocationUpdater: 1837 addresses in location table\n",
      "[INFO    ] 2022-09-07 12:47:27 | LocationUpdater: 1901 addresses total\n",
      "[INFO    ] 2022-09-07 12:47:27 | LocationUpdater: 1837 addresses defined\n",
      "[INFO    ] 2022-09-07 12:47:27 | LocationUpdater: 64 addresses undefined\n"
     ]
    },
    {
     "data": {
      "application/vnd.jupyter.widget-view+json": {
       "model_id": "593fe9bba5cd4329870cd0c347bf5b87",
       "version_major": 2,
       "version_minor": 0
      },
      "text/plain": [
       "  0%|          | 0/64 [00:00<?, ?it/s]"
      ]
     },
     "metadata": {},
     "output_type": "display_data"
    },
    {
     "name": "stdout",
     "output_type": "stream",
     "text": [
      "[INFO    ] 2022-09-07 12:48:35 | LocationUpdater: 18 new addresses found\n"
     ]
    }
   ],
   "source": [
    "from lib.locator import LocationUpdater\n",
    "from lib.locator import AddressTransformerSev\n",
    "\n",
    "loc = LocationUpdater(\n",
    "        address_transformer=AddressTransformerSev(),\n",
    "    ).transform(\n",
    "        adr=data['adr'],\n",
    "        loc=pd.read_pickle(loc_file_path),\n",
    "        show_pbar=True,\n",
    "    )"
   ]
  },
  {
   "cell_type": "code",
   "execution_count": 17,
   "id": "19741bb7",
   "metadata": {},
   "outputs": [
    {
     "data": {
      "text/html": [
       "<div>\n",
       "<style scoped>\n",
       "    .dataframe tbody tr th:only-of-type {\n",
       "        vertical-align: middle;\n",
       "    }\n",
       "\n",
       "    .dataframe tbody tr th {\n",
       "        vertical-align: top;\n",
       "    }\n",
       "\n",
       "    .dataframe thead th {\n",
       "        text-align: right;\n",
       "    }\n",
       "</style>\n",
       "<table border=\"1\" class=\"dataframe\">\n",
       "  <thead>\n",
       "    <tr style=\"text-align: right;\">\n",
       "      <th></th>\n",
       "      <th>adr</th>\n",
       "      <th>latitude</th>\n",
       "      <th>longitude</th>\n",
       "      <th>truncated</th>\n",
       "    </tr>\n",
       "  </thead>\n",
       "  <tbody>\n",
       "    <tr>\n",
       "      <th>1166</th>\n",
       "      <td>Качинское шоссе , 35Б</td>\n",
       "      <td>44.66</td>\n",
       "      <td>33.55</td>\n",
       "      <td>False</td>\n",
       "    </tr>\n",
       "    <tr>\n",
       "      <th>877</th>\n",
       "      <td>улица Суворова, 31</td>\n",
       "      <td>44.61</td>\n",
       "      <td>33.52</td>\n",
       "      <td>False</td>\n",
       "    </tr>\n",
       "    <tr>\n",
       "      <th>1492</th>\n",
       "      <td>Балаклава, улица Урицкого, 3</td>\n",
       "      <td>44.51</td>\n",
       "      <td>33.60</td>\n",
       "      <td>False</td>\n",
       "    </tr>\n",
       "  </tbody>\n",
       "</table>\n",
       "</div>"
      ],
      "text/plain": [
       "                               adr  latitude  longitude truncated\n",
       "1166         Качинское шоссе , 35Б     44.66      33.55     False\n",
       "877             улица Суворова, 31     44.61      33.52     False\n",
       "1492  Балаклава, улица Урицкого, 3     44.51      33.60     False"
      ]
     },
     "execution_count": 17,
     "metadata": {},
     "output_type": "execute_result"
    }
   ],
   "source": [
    "loc.sample(3)"
   ]
  },
  {
   "cell_type": "code",
   "execution_count": 18,
   "id": "a90d2398",
   "metadata": {},
   "outputs": [],
   "source": [
    "assert len(loc)>0\n",
    "loc.to_pickle(loc_file_path)"
   ]
  },
  {
   "cell_type": "markdown",
   "id": "30dbd6a6",
   "metadata": {},
   "source": [
    "### дополняем данные геометкой"
   ]
  },
  {
   "cell_type": "code",
   "execution_count": 19,
   "id": "06470644",
   "metadata": {},
   "outputs": [
    {
     "name": "stdout",
     "output_type": "stream",
     "text": [
      "всего записей: 29536\n",
      "записей без геометки: 1372\n"
     ]
    }
   ],
   "source": [
    "data = data.merge(loc[['adr','latitude','longitude',]],on=['adr'],how='left')\n",
    "\n",
    "print('всего записей:', len( data) )\n",
    "print('записей без геометки:', len( data[ data['latitude'].isnull() ] ) )"
   ]
  },
  {
   "cell_type": "code",
   "execution_count": 20,
   "id": "b3161e64",
   "metadata": {},
   "outputs": [],
   "source": [
    "assert len(data)>0\n",
    "data.to_pickle(result_file_path)"
   ]
  },
  {
   "cell_type": "code",
   "execution_count": 21,
   "id": "799e47c2",
   "metadata": {},
   "outputs": [
    {
     "name": "stdout",
     "output_type": "stream",
     "text": [
      "<class 'pandas.core.frame.DataFrame'>\n",
      "Int64Index: 29536 entries, 0 to 29535\n",
      "Data columns (total 24 columns):\n",
      " #   Column         Non-Null Count  Dtype         \n",
      "---  ------         --------------  -----         \n",
      " 0   avito_id       29536 non-null  int64         \n",
      " 1   title          29536 non-null  object        \n",
      " 2   price          29536 non-null  int64         \n",
      " 3   adr            29536 non-null  object        \n",
      " 4   description    29512 non-null  object        \n",
      " 5   obj_name       17664 non-null  object        \n",
      " 6   ts             29536 non-null  datetime64[ns]\n",
      " 7   avito_page     25677 non-null  float64       \n",
      " 8   page           3859 non-null   float64       \n",
      " 9   nrooms         29536 non-null  int64         \n",
      " 10  floor          29536 non-null  int64         \n",
      " 11  nfloors        29536 non-null  int64         \n",
      " 12  area           29536 non-null  float64       \n",
      " 13  is_studio      29536 non-null  bool          \n",
      " 14  is_apartment   29536 non-null  bool          \n",
      " 15  is_part        29536 non-null  bool          \n",
      " 16  is_auction     29536 non-null  bool          \n",
      " 17  is_openspace   29536 non-null  bool          \n",
      " 18  is_roof        29512 non-null  object        \n",
      " 19  is_SNT         29536 non-null  bool          \n",
      " 20  priceM         29536 non-null  float64       \n",
      " 21  is_last_floor  29536 non-null  bool          \n",
      " 22  latitude       28164 non-null  float64       \n",
      " 23  longitude      28164 non-null  float64       \n",
      "dtypes: bool(7), datetime64[ns](1), float64(6), int64(5), object(5)\n",
      "memory usage: 4.3+ MB\n"
     ]
    }
   ],
   "source": [
    "data.info()"
   ]
  },
  {
   "cell_type": "code",
   "execution_count": null,
   "id": "13de0b35",
   "metadata": {},
   "outputs": [],
   "source": [
    "# for f in raw_data_files:\n",
    "#     ts = dtm.strptime( re.sub(r'.*/avito_','',f), '%Y-%m-%d_%H-%M_raw.xlsx')\n",
    "#     df = pd.read_excel(f)\n",
    "#     df['ts'] = ts\n",
    "#     df.to_excel(f,index=False)\n",
    "#     print(ts)"
   ]
  }
 ],
 "metadata": {
  "kernelspec": {
   "display_name": "Python 3 (ipykernel)",
   "language": "python",
   "name": "python3"
  },
  "language_info": {
   "codemirror_mode": {
    "name": "ipython",
    "version": 3
   },
   "file_extension": ".py",
   "mimetype": "text/x-python",
   "name": "python",
   "nbconvert_exporter": "python",
   "pygments_lexer": "ipython3",
   "version": "3.10.6"
  },
  "toc": {
   "base_numbering": 1,
   "nav_menu": {},
   "number_sections": true,
   "sideBar": true,
   "skip_h1_title": false,
   "title_cell": "Table of Contents",
   "title_sidebar": "Contents",
   "toc_cell": false,
   "toc_position": {},
   "toc_section_display": true,
   "toc_window_display": false
  },
  "varInspector": {
   "cols": {
    "lenName": 16,
    "lenType": 16,
    "lenVar": 40
   },
   "kernels_config": {
    "python": {
     "delete_cmd_postfix": "",
     "delete_cmd_prefix": "del ",
     "library": "var_list.py",
     "varRefreshCmd": "print(var_dic_list())"
    },
    "r": {
     "delete_cmd_postfix": ") ",
     "delete_cmd_prefix": "rm(",
     "library": "var_list.r",
     "varRefreshCmd": "cat(var_dic_list()) "
    }
   },
   "types_to_exclude": [
    "module",
    "function",
    "builtin_function_or_method",
    "instance",
    "_Feature"
   ],
   "window_display": false
  }
 },
 "nbformat": 4,
 "nbformat_minor": 5
}
