{
 "cells": [
  {
   "cell_type": "markdown",
   "id": "f79cec14",
   "metadata": {},
   "source": [
    "__качаем объявления о продаже недвижимости с avito.ru__\n",
    "\n",
    "_Evgeny S. Borisov <parser@mechanoid.su>_"
   ]
  },
  {
   "cell_type": "code",
   "execution_count": 1,
   "id": "ceabc62f",
   "metadata": {},
   "outputs": [],
   "source": [
    "import logging\n",
    "import sys \n",
    "\n",
    "logging.basicConfig(\n",
    "        format=u'[%(levelname)-8s] %(asctime)s | %(message)s',\n",
    "        datefmt='%Y-%m-%d %H:%M:%S',\n",
    "        level=logging.INFO,\n",
    "        # level=logging.DEBUG,\n",
    "        stream=sys.stdout,\n",
    "    )"
   ]
  },
  {
   "cell_type": "code",
   "execution_count": 2,
   "id": "23172c9b",
   "metadata": {},
   "outputs": [],
   "source": [
    "from time import sleep\n",
    "from tqdm.auto import tqdm\n",
    "import pandas as pd\n",
    "from datetime import datetime \n",
    "\n",
    "pd.set_option('display.max_colwidth', None)\n",
    "pd.set_option('display.float_format', '{:.2f}'.format)\n",
    "tqdm.pandas()"
   ]
  },
  {
   "cell_type": "code",
   "execution_count": 3,
   "id": "97d83b45",
   "metadata": {},
   "outputs": [],
   "source": [
    "source = [\n",
    "    {\n",
    "            'place': 'sevastopol',\n",
    "        'subfolder': 'flat',\n",
    "              'url': 'https://www.avito.ru/sevastopol/kvartiry/prodam',\n",
    "    },{\n",
    "            'place': 'sevastopol',\n",
    "        'subfolder': 'land',\n",
    "              'url': 'https://www.avito.ru/sevastopol/zemelnye_uchastki/prodam',\n",
    "    },{\n",
    "            'place': 'sevastopol',\n",
    "        'subfolder': 'house',\n",
    "              'url': 'https://www.avito.ru/sevastopol/doma_dachi_kottedzhi/prodam',\n",
    "    },\n",
    "    {\n",
    "            'place': 'sudak',\n",
    "        'subfolder': 'flat',\n",
    "              'url': 'https://www.avito.ru/sudak/kvartiry/prodam',\n",
    "    },\n",
    "    {\n",
    "            'place': 'sudak',\n",
    "        'subfolder': 'land',\n",
    "              'url': 'https://www.avito.ru/sudak/zemelnye_uchastki/prodam',\n",
    "    },{\n",
    "            'place': 'sudak',\n",
    "        'subfolder': 'house',\n",
    "              'url': 'https://www.avito.ru/sudak/doma_dachi_kottedzhi/prodam',\n",
    "    },\n",
    "#     {\n",
    "#             'place': 'bahchisaray',\n",
    "#         'subfolder': 'flat',\n",
    "#               'url': 'https://www.avito.ru/bahchisaray/kvartiry/prodam',\n",
    "#     }, \n",
    "    {\n",
    "            'place': 'bahchisaray',\n",
    "        'subfolder': 'land',\n",
    "              'url': 'https://www.avito.ru/bahchisaray/zemelnye_uchastki/prodam',\n",
    "    },{\n",
    "            'place': 'bahchisaray',\n",
    "        'subfolder': 'house',\n",
    "              'url': 'https://www.avito.ru/bahchisaray/doma_dachi_kottedzhi/prodam',\n",
    "    },\n",
    "\n",
    "]"
   ]
  },
  {
   "cell_type": "markdown",
   "id": "749d8645",
   "metadata": {},
   "source": [
    "---"
   ]
  },
  {
   "cell_type": "code",
   "execution_count": 4,
   "id": "b92abbe2",
   "metadata": {},
   "outputs": [],
   "source": [
    "# from selenium import webdriver\n",
    "# from lib.avito import AvitoPageParser\n",
    "\n",
    "# browser = webdriver.Firefox()\n",
    "# browser.get(source[0]['url'])\n",
    "# data = AvitoPageParser().transform(browser)\n",
    "# # browser.close()"
   ]
  },
  {
   "cell_type": "code",
   "execution_count": 5,
   "id": "13a281e0",
   "metadata": {},
   "outputs": [],
   "source": [
    "# browser.close()"
   ]
  },
  {
   "cell_type": "code",
   "execution_count": 6,
   "id": "8e955d4b",
   "metadata": {},
   "outputs": [],
   "source": [
    "# data"
   ]
  },
  {
   "cell_type": "markdown",
   "id": "f5e2ebb2",
   "metadata": {},
   "source": [
    "---"
   ]
  },
  {
   "cell_type": "code",
   "execution_count": 7,
   "id": "863ee8e4",
   "metadata": {},
   "outputs": [],
   "source": [
    "from selenium import webdriver\n",
    "# from selenium.webdriver.common.by import By\n",
    "from lib.avito import AvitoParser"
   ]
  },
  {
   "cell_type": "code",
   "execution_count": 8,
   "id": "6520cd59",
   "metadata": {},
   "outputs": [],
   "source": [
    "dest_folder = 'data/2024/raw'"
   ]
  },
  {
   "cell_type": "code",
   "execution_count": 9,
   "id": "8872059a",
   "metadata": {
    "scrolled": false
   },
   "outputs": [
    {
     "name": "stdout",
     "output_type": "stream",
     "text": [
      "[WARNING ] 2024-08-12 10:57:49 | The geckodriver version (0.34.0) detected in PATH at /usr/bin/geckodriver might not be compatible with the detected firefox version (128.0.3); currently, geckodriver 0.35.0 is recommended for firefox 128.*, so it is advised to delete the driver in PATH and retry\n",
      "[INFO    ] 2024-08-12 10:57:50 | open virtual browser\n"
     ]
    },
    {
     "data": {
      "text/plain": [
       "'https://www.avito.ru/sevastopol/kvartiry/prodam'"
      ]
     },
     "metadata": {},
     "output_type": "display_data"
    },
    {
     "name": "stdout",
     "output_type": "stream",
     "text": [
      "[INFO    ] 2024-08-12 10:58:03 | page 1: 53 items\n",
      "[INFO    ] 2024-08-12 10:58:13 | page 2: 50 items\n",
      "[INFO    ] 2024-08-12 10:58:23 | page 3: 50 items\n",
      "[INFO    ] 2024-08-12 10:58:35 | page 4: 50 items\n",
      "[INFO    ] 2024-08-12 10:58:45 | page 5: 50 items\n",
      "[INFO    ] 2024-08-12 10:58:55 | page 6: 50 items\n",
      "[INFO    ] 2024-08-12 10:59:05 | page 7: 50 items\n",
      "[INFO    ] 2024-08-12 10:59:16 | page 8: 50 items\n",
      "[INFO    ] 2024-08-12 10:59:27 | page 9: 50 items\n",
      "[INFO    ] 2024-08-12 10:59:39 | page 10: 50 items\n",
      "[INFO    ] 2024-08-12 10:59:49 | page 11: 50 items\n",
      "[INFO    ] 2024-08-12 11:00:00 | page 12: 50 items\n",
      "[INFO    ] 2024-08-12 11:00:11 | page 13: 50 items\n",
      "[INFO    ] 2024-08-12 11:00:22 | page 14: 50 items\n",
      "[INFO    ] 2024-08-12 11:00:33 | page 15: 50 items\n",
      "[INFO    ] 2024-08-12 11:00:45 | page 16: 50 items\n",
      "[INFO    ] 2024-08-12 11:00:57 | page 17: 50 items\n",
      "[INFO    ] 2024-08-12 11:01:08 | page 18: 50 items\n",
      "[INFO    ] 2024-08-12 11:01:19 | page 19: 50 items\n",
      "[INFO    ] 2024-08-12 11:01:31 | page 20: 50 items\n",
      "[INFO    ] 2024-08-12 11:01:41 | page 21: 50 items\n",
      "[INFO    ] 2024-08-12 11:01:51 | page 22: 49 items\n",
      "[INFO    ] 2024-08-12 11:02:00 | page 23: 49 items\n",
      "[INFO    ] 2024-08-12 11:02:11 | page 24: 49 items\n",
      "[INFO    ] 2024-08-12 11:02:22 | page 25: 50 items\n",
      "[INFO    ] 2024-08-12 11:02:31 | page 26: 49 items\n",
      "[INFO    ] 2024-08-12 11:02:41 | page 27: 49 items\n",
      "[INFO    ] 2024-08-12 11:02:52 | page 28: 50 items\n",
      "[INFO    ] 2024-08-12 11:03:03 | page 29: 50 items\n",
      "[INFO    ] 2024-08-12 11:03:14 | page 30: 49 items\n",
      "[INFO    ] 2024-08-12 11:03:52 | page 31: 49 items\n",
      "[INFO    ] 2024-08-12 11:04:01 | page 32: 50 items\n",
      "[INFO    ] 2024-08-12 11:04:10 | page 33: 50 items\n",
      "[INFO    ] 2024-08-12 11:04:20 | page 34: 50 items\n",
      "[INFO    ] 2024-08-12 11:04:30 | page 35: 48 items\n",
      "[INFO    ] 2024-08-12 11:04:40 | page 36: 48 items\n",
      "[INFO    ] 2024-08-12 11:04:50 | page 37: 49 items\n",
      "[INFO    ] 2024-08-12 11:05:05 | page 38: 50 items\n",
      "[INFO    ] 2024-08-12 11:05:16 | page 39: 49 items\n",
      "[INFO    ] 2024-08-12 11:05:27 | page 40: 49 items\n",
      "[INFO    ] 2024-08-12 11:05:37 | page 41: 49 items\n",
      "[INFO    ] 2024-08-12 11:05:47 | page 42: 49 items\n",
      "[INFO    ] 2024-08-12 11:05:58 | page 43: 50 items\n",
      "[INFO    ] 2024-08-12 11:06:09 | page 44: 50 items\n",
      "[INFO    ] 2024-08-12 11:06:20 | page 45: 49 items\n",
      "[INFO    ] 2024-08-12 11:06:31 | page 46: 48 items\n",
      "[INFO    ] 2024-08-12 11:06:41 | page 47: 47 items\n",
      "[INFO    ] 2024-08-12 11:06:53 | page 48: 48 items\n",
      "[INFO    ] 2024-08-12 11:07:04 | page 49: 46 items\n",
      "[INFO    ] 2024-08-12 11:07:15 | page 50: 47 items\n",
      "[INFO    ] 2024-08-12 11:07:26 | page 51: 46 items\n",
      "[INFO    ] 2024-08-12 11:07:37 | page 52: 47 items\n",
      "[INFO    ] 2024-08-12 11:07:49 | page 53: 47 items\n",
      "[INFO    ] 2024-08-12 11:08:01 | page 54: 45 items\n",
      "[INFO    ] 2024-08-12 11:08:11 | page 55: 43 items\n",
      "[INFO    ] 2024-08-12 11:08:21 | page 56: 42 items\n",
      "[INFO    ] 2024-08-12 11:08:31 | page 57: 41 items\n",
      "[INFO    ] 2024-08-12 11:08:42 | page 58: 42 items\n",
      "[INFO    ] 2024-08-12 11:08:53 | page 59: 42 items\n",
      "[INFO    ] 2024-08-12 11:09:03 | page 60: 42 items\n",
      "[INFO    ] 2024-08-12 11:09:14 | page 61: 42 items\n",
      "[INFO    ] 2024-08-12 11:09:24 | page 62: 41 items\n",
      "[INFO    ] 2024-08-12 11:09:35 | page 63: 42 items\n",
      "[INFO    ] 2024-08-12 11:09:46 | page 64: 42 items\n",
      "[INFO    ] 2024-08-12 11:09:56 | page 65: 43 items\n",
      "[INFO    ] 2024-08-12 11:10:08 | page 66: 46 items\n",
      "[INFO    ] 2024-08-12 11:10:19 | page 67: 48 items\n",
      "[INFO    ] 2024-08-12 11:10:31 | page 68: 50 items\n",
      "[INFO    ] 2024-08-12 11:10:42 | page 69: 47 items\n",
      "[INFO    ] 2024-08-12 11:10:54 | page 70: 47 items\n",
      "[INFO    ] 2024-08-12 11:11:05 | page 71: 49 items\n",
      "[INFO    ] 2024-08-12 11:11:16 | page 72: 47 items\n",
      "[INFO    ] 2024-08-12 11:11:27 | page 73: 46 items\n",
      "[INFO    ] 2024-08-12 11:11:37 | page 74: 46 items\n",
      "[INFO    ] 2024-08-12 11:11:47 | page 75: 44 items\n",
      "[INFO    ] 2024-08-12 11:11:58 | page 76: 46 items\n",
      "[INFO    ] 2024-08-12 11:12:10 | page 77: 48 items\n",
      "[INFO    ] 2024-08-12 11:12:21 | page 78: 44 items\n",
      "[INFO    ] 2024-08-12 11:12:30 | page 79: 40 items\n",
      "[INFO    ] 2024-08-12 11:12:41 | page 80: 44 items\n",
      "[INFO    ] 2024-08-12 11:12:49 | page 81: 36 items\n",
      "[INFO    ] 2024-08-12 11:12:56 | page 82: 30 items\n",
      "[INFO    ] 2024-08-12 11:13:06 | page 83: 47 items\n",
      "[INFO    ] 2024-08-12 11:13:15 | page 84: 36 items\n",
      "[INFO    ] 2024-08-12 11:13:26 | page 85: 50 items\n",
      "[INFO    ] 2024-08-12 11:13:38 | page 86: 50 items\n",
      "[INFO    ] 2024-08-12 11:13:49 | page 87: 50 items\n",
      "[INFO    ] 2024-08-12 11:13:58 | page 88: 41 items\n",
      "[INFO    ] 2024-08-12 11:14:09 | page 89: 50 items\n",
      "[INFO    ] 2024-08-12 11:14:17 | page 90: 36 items\n"
     ]
    },
    {
     "data": {
      "text/plain": [
       "4237"
      ]
     },
     "metadata": {},
     "output_type": "display_data"
    },
    {
     "data": {
      "text/plain": [
       "'data/2024/raw/flat/avito/avito_2024-08-12_11-14_raw_sevastopol.pkl'"
      ]
     },
     "metadata": {},
     "output_type": "display_data"
    },
    {
     "data": {
      "text/plain": [
       "'https://www.avito.ru/sevastopol/zemelnye_uchastki/prodam'"
      ]
     },
     "metadata": {},
     "output_type": "display_data"
    },
    {
     "name": "stdout",
     "output_type": "stream",
     "text": [
      "[INFO    ] 2024-08-12 11:14:27 | page 1: 50 items\n",
      "[INFO    ] 2024-08-12 11:14:35 | page 2: 50 items\n",
      "[INFO    ] 2024-08-12 11:14:42 | page 3: 50 items\n",
      "[INFO    ] 2024-08-12 11:14:50 | page 4: 50 items\n",
      "[INFO    ] 2024-08-12 11:14:58 | page 5: 50 items\n",
      "[INFO    ] 2024-08-12 11:15:05 | page 6: 50 items\n"
     ]
    },
    {
     "data": {
      "text/plain": [
       "300"
      ]
     },
     "metadata": {},
     "output_type": "display_data"
    },
    {
     "data": {
      "text/plain": [
       "'data/2024/raw/land/avito/avito_2024-08-12_11-20_raw_sevastopol.pkl'"
      ]
     },
     "metadata": {},
     "output_type": "display_data"
    },
    {
     "data": {
      "text/plain": [
       "'https://www.avito.ru/sevastopol/doma_dachi_kottedzhi/prodam'"
      ]
     },
     "metadata": {},
     "output_type": "display_data"
    },
    {
     "name": "stdout",
     "output_type": "stream",
     "text": [
      "[INFO    ] 2024-08-12 11:20:18 | page 1: 50 items\n",
      "[INFO    ] 2024-08-12 11:20:27 | page 2: 50 items\n",
      "[INFO    ] 2024-08-12 11:20:35 | page 3: 50 items\n",
      "[INFO    ] 2024-08-12 11:20:43 | page 4: 50 items\n",
      "[INFO    ] 2024-08-12 11:20:50 | page 5: 50 items\n",
      "[INFO    ] 2024-08-12 11:20:59 | page 6: 50 items\n",
      "[INFO    ] 2024-08-12 11:21:08 | page 7: 50 items\n",
      "[INFO    ] 2024-08-12 11:21:19 | page 8: 50 items\n",
      "[INFO    ] 2024-08-12 11:21:28 | page 9: 50 items\n",
      "[INFO    ] 2024-08-12 11:21:36 | page 10: 50 items\n",
      "[INFO    ] 2024-08-12 11:21:45 | page 11: 50 items\n",
      "[INFO    ] 2024-08-12 11:21:54 | page 12: 50 items\n",
      "[INFO    ] 2024-08-12 11:22:03 | page 13: 50 items\n",
      "[INFO    ] 2024-08-12 11:22:12 | page 14: 50 items\n",
      "[INFO    ] 2024-08-12 11:22:21 | page 15: 50 items\n",
      "[INFO    ] 2024-08-12 11:22:30 | page 16: 50 items\n",
      "[INFO    ] 2024-08-12 11:22:39 | page 17: 50 items\n",
      "[INFO    ] 2024-08-12 11:22:47 | page 18: 50 items\n",
      "[INFO    ] 2024-08-12 11:22:56 | page 19: 50 items\n",
      "[INFO    ] 2024-08-12 11:23:04 | page 20: 50 items\n",
      "[INFO    ] 2024-08-12 11:23:13 | page 21: 50 items\n",
      "[INFO    ] 2024-08-12 11:23:23 | page 22: 50 items\n",
      "[INFO    ] 2024-08-12 11:23:32 | page 23: 50 items\n",
      "[INFO    ] 2024-08-12 11:23:41 | page 24: 50 items\n",
      "[INFO    ] 2024-08-12 11:23:49 | page 25: 50 items\n",
      "[INFO    ] 2024-08-12 11:23:59 | page 26: 50 items\n",
      "[INFO    ] 2024-08-12 11:24:09 | page 27: 50 items\n",
      "[INFO    ] 2024-08-12 11:24:18 | page 28: 50 items\n",
      "[INFO    ] 2024-08-12 11:24:27 | page 29: 50 items\n",
      "[INFO    ] 2024-08-12 11:24:37 | page 30: 50 items\n",
      "[INFO    ] 2024-08-12 11:24:47 | page 31: 50 items\n",
      "[INFO    ] 2024-08-12 11:24:56 | page 32: 50 items\n",
      "[INFO    ] 2024-08-12 11:25:06 | page 33: 50 items\n",
      "[INFO    ] 2024-08-12 11:25:15 | page 34: 50 items\n",
      "[INFO    ] 2024-08-12 11:25:25 | page 35: 50 items\n",
      "[INFO    ] 2024-08-12 11:25:35 | page 36: 50 items\n",
      "[INFO    ] 2024-08-12 11:25:45 | page 37: 50 items\n",
      "[INFO    ] 2024-08-12 11:25:54 | page 38: 49 items\n",
      "[INFO    ] 2024-08-12 11:26:04 | page 39: 50 items\n",
      "[INFO    ] 2024-08-12 11:26:14 | page 40: 50 items\n",
      "[INFO    ] 2024-08-12 11:26:25 | page 41: 50 items\n",
      "[INFO    ] 2024-08-12 11:26:36 | page 42: 50 items\n",
      "[INFO    ] 2024-08-12 11:26:46 | page 43: 50 items\n",
      "[INFO    ] 2024-08-12 11:26:56 | page 44: 50 items\n",
      "[INFO    ] 2024-08-12 11:27:06 | page 45: 50 items\n",
      "[INFO    ] 2024-08-12 11:27:15 | page 46: 50 items\n",
      "[INFO    ] 2024-08-12 11:27:26 | page 47: 50 items\n",
      "[INFO    ] 2024-08-12 11:27:30 | page 48: 19 items\n"
     ]
    },
    {
     "data": {
      "text/plain": [
       "2368"
      ]
     },
     "metadata": {},
     "output_type": "display_data"
    },
    {
     "data": {
      "text/plain": [
       "'data/2024/raw/house/avito/avito_2024-08-12_11-27_raw_sevastopol.pkl'"
      ]
     },
     "metadata": {},
     "output_type": "display_data"
    },
    {
     "data": {
      "text/plain": [
       "'https://www.avito.ru/sudak/kvartiry/prodam'"
      ]
     },
     "metadata": {},
     "output_type": "display_data"
    },
    {
     "name": "stdout",
     "output_type": "stream",
     "text": [
      "[INFO    ] 2024-08-12 11:27:42 | page 1: 53 items\n",
      "[INFO    ] 2024-08-12 11:27:51 | page 2: 50 items\n",
      "[INFO    ] 2024-08-12 11:28:02 | page 3: 50 items\n",
      "[INFO    ] 2024-08-12 11:28:12 | page 4: 50 items\n",
      "[INFO    ] 2024-08-12 11:28:22 | page 5: 50 items\n",
      "[INFO    ] 2024-08-12 11:28:33 | page 6: 50 items\n",
      "[INFO    ] 2024-08-12 11:28:42 | page 7: 37 items\n"
     ]
    },
    {
     "data": {
      "text/plain": [
       "340"
      ]
     },
     "metadata": {},
     "output_type": "display_data"
    },
    {
     "data": {
      "text/plain": [
       "'data/2024/raw/flat/avito/avito_2024-08-12_11-28_raw_sudak.pkl'"
      ]
     },
     "metadata": {},
     "output_type": "display_data"
    },
    {
     "data": {
      "text/plain": [
       "'https://www.avito.ru/sudak/zemelnye_uchastki/prodam'"
      ]
     },
     "metadata": {},
     "output_type": "display_data"
    },
    {
     "name": "stdout",
     "output_type": "stream",
     "text": [
      "[INFO    ] 2024-08-12 11:28:52 | page 1: 50 items\n",
      "[INFO    ] 2024-08-12 11:29:00 | page 2: 50 items\n",
      "[INFO    ] 2024-08-12 11:29:08 | page 3: 50 items\n",
      "[INFO    ] 2024-08-12 11:29:17 | page 4: 50 items\n",
      "[INFO    ] 2024-08-12 11:29:27 | page 5: 50 items\n",
      "[INFO    ] 2024-08-12 11:29:36 | page 6: 48 items\n"
     ]
    },
    {
     "data": {
      "text/plain": [
       "298"
      ]
     },
     "metadata": {},
     "output_type": "display_data"
    },
    {
     "data": {
      "text/plain": [
       "'data/2024/raw/land/avito/avito_2024-08-12_11-29_raw_sudak.pkl'"
      ]
     },
     "metadata": {},
     "output_type": "display_data"
    },
    {
     "data": {
      "text/plain": [
       "'https://www.avito.ru/sudak/doma_dachi_kottedzhi/prodam'"
      ]
     },
     "metadata": {},
     "output_type": "display_data"
    },
    {
     "name": "stdout",
     "output_type": "stream",
     "text": [
      "[INFO    ] 2024-08-12 11:29:46 | page 1: 50 items\n",
      "[INFO    ] 2024-08-12 11:29:55 | page 2: 50 items\n",
      "[INFO    ] 2024-08-12 11:30:04 | page 3: 50 items\n",
      "[INFO    ] 2024-08-12 11:30:09 | page 4: 21 items\n"
     ]
    },
    {
     "data": {
      "text/plain": [
       "171"
      ]
     },
     "metadata": {},
     "output_type": "display_data"
    },
    {
     "data": {
      "text/plain": [
       "'data/2024/raw/house/avito/avito_2024-08-12_11-30_raw_sudak.pkl'"
      ]
     },
     "metadata": {},
     "output_type": "display_data"
    },
    {
     "data": {
      "text/plain": [
       "'https://www.avito.ru/bahchisaray/zemelnye_uchastki/prodam'"
      ]
     },
     "metadata": {},
     "output_type": "display_data"
    },
    {
     "name": "stdout",
     "output_type": "stream",
     "text": [
      "[INFO    ] 2024-08-12 11:30:18 | page 1: 50 items\n",
      "[INFO    ] 2024-08-12 11:30:26 | page 2: 50 items\n",
      "[INFO    ] 2024-08-12 11:30:34 | page 3: 50 items\n",
      "[INFO    ] 2024-08-12 11:30:42 | page 4: 50 items\n",
      "[INFO    ] 2024-08-12 11:30:50 | page 5: 50 items\n",
      "[INFO    ] 2024-08-12 11:30:57 | page 6: 50 items\n",
      "[INFO    ] 2024-08-12 11:31:05 | page 7: 50 items\n",
      "[INFO    ] 2024-08-12 11:31:13 | page 8: 50 items\n",
      "[INFO    ] 2024-08-12 11:31:21 | page 9: 50 items\n",
      "[INFO    ] 2024-08-12 11:31:30 | page 10: 50 items\n",
      "[INFO    ] 2024-08-12 11:31:38 | page 11: 50 items\n",
      "[INFO    ] 2024-08-12 11:31:47 | page 12: 50 items\n",
      "[INFO    ] 2024-08-12 11:31:54 | page 13: 50 items\n",
      "[INFO    ] 2024-08-12 11:32:02 | page 14: 49 items\n",
      "[INFO    ] 2024-08-12 11:32:08 | page 15: 33 items\n"
     ]
    },
    {
     "data": {
      "text/plain": [
       "732"
      ]
     },
     "metadata": {},
     "output_type": "display_data"
    },
    {
     "data": {
      "text/plain": [
       "'data/2024/raw/land/avito/avito_2024-08-12_11-32_raw_bahchisaray.pkl'"
      ]
     },
     "metadata": {},
     "output_type": "display_data"
    },
    {
     "data": {
      "text/plain": [
       "'https://www.avito.ru/bahchisaray/doma_dachi_kottedzhi/prodam'"
      ]
     },
     "metadata": {},
     "output_type": "display_data"
    },
    {
     "name": "stdout",
     "output_type": "stream",
     "text": [
      "[INFO    ] 2024-08-12 11:32:17 | page 1: 50 items\n",
      "[INFO    ] 2024-08-12 11:32:25 | page 2: 50 items\n",
      "[INFO    ] 2024-08-12 11:32:33 | page 3: 50 items\n",
      "[INFO    ] 2024-08-12 11:32:42 | page 4: 50 items\n",
      "[INFO    ] 2024-08-12 11:32:50 | page 5: 50 items\n",
      "[INFO    ] 2024-08-12 11:32:55 | page 6: 24 items\n"
     ]
    },
    {
     "data": {
      "text/plain": [
       "274"
      ]
     },
     "metadata": {},
     "output_type": "display_data"
    },
    {
     "data": {
      "text/plain": [
       "'data/2024/raw/house/avito/avito_2024-08-12_11-32_raw_bahchisaray.pkl'"
      ]
     },
     "metadata": {},
     "output_type": "display_data"
    },
    {
     "name": "stdout",
     "output_type": "stream",
     "text": [
      "CPU times: user 3min 40s, sys: 8.9 s, total: 3min 49s\n",
      "Wall time: 35min 7s\n"
     ]
    }
   ],
   "source": [
    "%%time \n",
    "\n",
    "\n",
    "options = webdriver.FirefoxOptions()\n",
    "#options.headless = True\n",
    "browser = webdriver.Firefox(options=options)\n",
    "logging.info('open virtual browser')\n",
    "\n",
    "for s in source:\n",
    "\n",
    "    url = s['url']\n",
    "    place = s['place']\n",
    "    subfolder = s['subfolder'] \n",
    "    \n",
    "    display(url)\n",
    "    browser.get(url)\n",
    "    sleep(3)\n",
    "    \n",
    "    data = AvitoParser().transform(browser)\n",
    "    assert len(data)>0\n",
    "    \n",
    "    df = pd.DataFrame(data)\n",
    "    df['ts'] = datetime.now()\n",
    "    df['place'] = place\n",
    "\n",
    "    display( len(df) )\n",
    "    t_now = datetime.now().strftime('%Y-%m-%d_%H-%M')\n",
    "    fname = f'{dest_folder}/{subfolder}/avito/avito_{t_now}_raw_{place}.pkl'\n",
    "    df.to_pickle(fname)\n",
    "    display( fname )\n",
    "\n",
    "browser.close()"
   ]
  },
  {
   "cell_type": "code",
   "execution_count": 10,
   "id": "a98a46de",
   "metadata": {},
   "outputs": [],
   "source": [
    "# browser.close()"
   ]
  },
  {
   "cell_type": "code",
   "execution_count": 11,
   "id": "e97e319b",
   "metadata": {},
   "outputs": [
    {
     "name": "stdout",
     "output_type": "stream",
     "text": [
      "Пн 12 авг 2024 11:32:56 MSK\r\n"
     ]
    }
   ],
   "source": [
    "!date"
   ]
  },
  {
   "cell_type": "code",
   "execution_count": null,
   "id": "0fcca2ff",
   "metadata": {},
   "outputs": [],
   "source": []
  }
 ],
 "metadata": {
  "kernelspec": {
   "display_name": "Python 3 (ipykernel)",
   "language": "python",
   "name": "python3"
  },
  "language_info": {
   "codemirror_mode": {
    "name": "ipython",
    "version": 3
   },
   "file_extension": ".py",
   "mimetype": "text/x-python",
   "name": "python",
   "nbconvert_exporter": "python",
   "pygments_lexer": "ipython3",
   "version": "3.12.4"
  }
 },
 "nbformat": 4,
 "nbformat_minor": 5
}
