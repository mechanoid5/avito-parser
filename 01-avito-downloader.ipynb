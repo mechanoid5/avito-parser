{
 "cells": [
  {
   "cell_type": "markdown",
   "id": "f79cec14",
   "metadata": {},
   "source": [
    "__качаем объявления о продаже недвижимости с avito.ru__\n",
    "\n",
    "_Evgeny S. Borisov <parser@mechanoid.su>_"
   ]
  },
  {
   "cell_type": "code",
   "execution_count": 1,
   "id": "ceabc62f",
   "metadata": {},
   "outputs": [],
   "source": [
    "import logging\n",
    "import sys \n",
    "\n",
    "logging.basicConfig(\n",
    "        format=u'[%(levelname)-8s] %(asctime)s | %(message)s',\n",
    "        datefmt='%Y-%m-%d %H:%M:%S',\n",
    "        level=logging.INFO,\n",
    "        # level=logging.DEBUG,\n",
    "        stream=sys.stdout,\n",
    "    )"
   ]
  },
  {
   "cell_type": "code",
   "execution_count": 2,
   "id": "23172c9b",
   "metadata": {},
   "outputs": [],
   "source": [
    "from time import sleep\n",
    "from tqdm.auto import tqdm\n",
    "import pandas as pd\n",
    "from datetime import datetime \n",
    "\n",
    "pd.set_option('display.max_colwidth', None)\n",
    "pd.set_option('display.float_format', '{:.2f}'.format)\n",
    "tqdm.pandas()"
   ]
  },
  {
   "cell_type": "code",
   "execution_count": 3,
   "id": "97d83b45",
   "metadata": {},
   "outputs": [],
   "source": [
    "source = [\n",
    "    {\n",
    "            'place': 'sevastopol',\n",
    "        'subfolder': 'flat',\n",
    "              'url': 'https://www.avito.ru/sevastopol/kvartiry/prodam',\n",
    "    },{\n",
    "            'place': 'sevastopol',\n",
    "        'subfolder': 'land',\n",
    "              'url': 'https://www.avito.ru/sevastopol/zemelnye_uchastki/prodam',\n",
    "    },{\n",
    "            'place': 'sevastopol',\n",
    "        'subfolder': 'house',\n",
    "              'url': 'https://www.avito.ru/sevastopol/doma_dachi_kottedzhi/prodam',\n",
    "    },\n",
    "    {\n",
    "            'place': 'sudak',\n",
    "        'subfolder': 'flat',\n",
    "              'url': 'https://www.avito.ru/sudak/kvartiry/prodam',\n",
    "    },\n",
    "    {\n",
    "            'place': 'sudak',\n",
    "        'subfolder': 'land',\n",
    "              'url': 'https://www.avito.ru/sudak/zemelnye_uchastki/prodam',\n",
    "    },{\n",
    "            'place': 'sudak',\n",
    "        'subfolder': 'house',\n",
    "              'url': 'https://www.avito.ru/sudak/doma_dachi_kottedzhi/prodam',\n",
    "    },\n",
    "#     {\n",
    "#             'place': 'bahchisaray',\n",
    "#         'subfolder': 'flat',\n",
    "#               'url': 'https://www.avito.ru/bahchisaray/kvartiry/prodam',\n",
    "#     }, \n",
    "    {\n",
    "            'place': 'bahchisaray',\n",
    "        'subfolder': 'land',\n",
    "              'url': 'https://www.avito.ru/bahchisaray/zemelnye_uchastki/prodam',\n",
    "    },{\n",
    "            'place': 'bahchisaray',\n",
    "        'subfolder': 'house',\n",
    "              'url': 'https://www.avito.ru/bahchisaray/doma_dachi_kottedzhi/prodam',\n",
    "    },\n",
    "\n",
    "]"
   ]
  },
  {
   "cell_type": "markdown",
   "id": "749d8645",
   "metadata": {},
   "source": [
    "---"
   ]
  },
  {
   "cell_type": "code",
   "execution_count": 4,
   "id": "b92abbe2",
   "metadata": {},
   "outputs": [],
   "source": [
    "# from selenium import webdriver\n",
    "# from lib.avito import AvitoPageParser\n",
    "\n",
    "# browser = webdriver.Firefox()\n",
    "# browser.get(source[0]['url'])\n",
    "# data = AvitoPageParser().transform(browser)\n",
    "# # browser.close()"
   ]
  },
  {
   "cell_type": "code",
   "execution_count": 5,
   "id": "13a281e0",
   "metadata": {},
   "outputs": [],
   "source": [
    "# browser.close()"
   ]
  },
  {
   "cell_type": "code",
   "execution_count": 6,
   "id": "8e955d4b",
   "metadata": {},
   "outputs": [],
   "source": [
    "# data"
   ]
  },
  {
   "cell_type": "markdown",
   "id": "f5e2ebb2",
   "metadata": {},
   "source": [
    "---"
   ]
  },
  {
   "cell_type": "code",
   "execution_count": 7,
   "id": "863ee8e4",
   "metadata": {},
   "outputs": [],
   "source": [
    "from selenium import webdriver\n",
    "# from selenium.webdriver.common.by import By\n",
    "from lib.avito import AvitoParser"
   ]
  },
  {
   "cell_type": "code",
   "execution_count": 8,
   "id": "6520cd59",
   "metadata": {},
   "outputs": [],
   "source": [
    "dest_folder = 'data/2024/raw'"
   ]
  },
  {
   "cell_type": "code",
   "execution_count": 9,
   "id": "8872059a",
   "metadata": {
    "scrolled": false
   },
   "outputs": [
    {
     "name": "stdout",
     "output_type": "stream",
     "text": [
      "[INFO    ] 2024-06-13 11:02:40 | open virtual browser\n"
     ]
    },
    {
     "data": {
      "text/plain": [
       "'https://www.avito.ru/sevastopol/kvartiry/prodam'"
      ]
     },
     "metadata": {},
     "output_type": "display_data"
    },
    {
     "name": "stdout",
     "output_type": "stream",
     "text": [
      "[INFO    ] 2024-06-13 11:02:51 | page 1: 53 items\n",
      "[INFO    ] 2024-06-13 11:03:02 | page 2: 50 items\n",
      "[INFO    ] 2024-06-13 11:03:12 | page 3: 50 items\n",
      "[INFO    ] 2024-06-13 11:03:23 | page 4: 50 items\n",
      "[INFO    ] 2024-06-13 11:03:32 | page 5: 50 items\n",
      "[INFO    ] 2024-06-13 11:03:41 | page 6: 50 items\n",
      "[INFO    ] 2024-06-13 11:03:51 | page 7: 50 items\n",
      "[INFO    ] 2024-06-13 11:04:02 | page 8: 50 items\n",
      "[INFO    ] 2024-06-13 11:04:12 | page 9: 50 items\n",
      "[INFO    ] 2024-06-13 11:04:22 | page 10: 50 items\n",
      "[INFO    ] 2024-06-13 11:04:32 | page 11: 50 items\n",
      "[INFO    ] 2024-06-13 11:04:42 | page 12: 50 items\n",
      "[INFO    ] 2024-06-13 11:04:52 | page 13: 50 items\n",
      "[INFO    ] 2024-06-13 11:05:03 | page 14: 50 items\n",
      "[INFO    ] 2024-06-13 11:05:13 | page 15: 50 items\n",
      "[INFO    ] 2024-06-13 11:05:23 | page 16: 50 items\n",
      "[INFO    ] 2024-06-13 11:05:33 | page 17: 50 items\n",
      "[INFO    ] 2024-06-13 11:05:43 | page 18: 50 items\n",
      "[INFO    ] 2024-06-13 11:05:53 | page 19: 50 items\n",
      "[INFO    ] 2024-06-13 11:06:03 | page 20: 50 items\n",
      "[INFO    ] 2024-06-13 11:06:14 | page 21: 50 items\n",
      "[INFO    ] 2024-06-13 11:06:24 | page 22: 50 items\n",
      "[INFO    ] 2024-06-13 11:06:34 | page 23: 50 items\n",
      "[INFO    ] 2024-06-13 11:06:44 | page 24: 49 items\n",
      "[INFO    ] 2024-06-13 11:06:54 | page 25: 49 items\n",
      "[INFO    ] 2024-06-13 11:07:05 | page 26: 49 items\n",
      "[INFO    ] 2024-06-13 11:07:15 | page 27: 49 items\n",
      "[INFO    ] 2024-06-13 11:07:25 | page 28: 49 items\n",
      "[INFO    ] 2024-06-13 11:07:35 | page 29: 48 items\n",
      "[INFO    ] 2024-06-13 11:07:45 | page 30: 48 items\n",
      "[INFO    ] 2024-06-13 11:07:55 | page 31: 48 items\n",
      "[INFO    ] 2024-06-13 11:08:06 | page 32: 50 items\n",
      "[INFO    ] 2024-06-13 11:08:16 | page 33: 50 items\n",
      "[INFO    ] 2024-06-13 11:08:27 | page 34: 50 items\n",
      "[INFO    ] 2024-06-13 11:08:37 | page 35: 49 items\n",
      "[INFO    ] 2024-06-13 11:08:47 | page 36: 49 items\n",
      "[INFO    ] 2024-06-13 11:08:58 | page 37: 49 items\n",
      "[INFO    ] 2024-06-13 11:09:08 | page 38: 49 items\n",
      "[INFO    ] 2024-06-13 11:09:18 | page 39: 50 items\n",
      "[INFO    ] 2024-06-13 11:09:28 | page 40: 49 items\n",
      "[INFO    ] 2024-06-13 11:09:39 | page 41: 49 items\n",
      "[INFO    ] 2024-06-13 11:09:48 | page 42: 49 items\n",
      "[INFO    ] 2024-06-13 11:09:59 | page 43: 50 items\n",
      "[INFO    ] 2024-06-13 11:10:09 | page 44: 50 items\n",
      "[INFO    ] 2024-06-13 11:10:19 | page 45: 50 items\n",
      "[INFO    ] 2024-06-13 11:10:30 | page 46: 50 items\n",
      "[INFO    ] 2024-06-13 11:10:40 | page 47: 50 items\n",
      "[INFO    ] 2024-06-13 11:10:51 | page 48: 50 items\n",
      "[INFO    ] 2024-06-13 11:11:01 | page 49: 50 items\n",
      "[INFO    ] 2024-06-13 11:11:13 | page 50: 50 items\n",
      "[INFO    ] 2024-06-13 11:11:23 | page 51: 50 items\n",
      "[INFO    ] 2024-06-13 11:11:33 | page 52: 50 items\n",
      "[INFO    ] 2024-06-13 11:11:43 | page 53: 50 items\n",
      "[INFO    ] 2024-06-13 11:11:53 | page 54: 50 items\n",
      "[INFO    ] 2024-06-13 11:12:03 | page 55: 50 items\n",
      "[INFO    ] 2024-06-13 11:12:14 | page 56: 50 items\n",
      "[INFO    ] 2024-06-13 11:12:25 | page 57: 50 items\n",
      "[INFO    ] 2024-06-13 11:12:35 | page 58: 50 items\n",
      "[INFO    ] 2024-06-13 11:12:45 | page 59: 50 items\n",
      "[INFO    ] 2024-06-13 11:12:56 | page 60: 48 items\n",
      "[INFO    ] 2024-06-13 11:13:06 | page 61: 49 items\n",
      "[INFO    ] 2024-06-13 11:13:17 | page 62: 48 items\n",
      "[INFO    ] 2024-06-13 11:13:27 | page 63: 50 items\n",
      "[INFO    ] 2024-06-13 11:13:37 | page 64: 48 items\n",
      "[INFO    ] 2024-06-13 11:13:47 | page 65: 48 items\n",
      "[INFO    ] 2024-06-13 11:13:58 | page 66: 47 items\n",
      "[INFO    ] 2024-06-13 11:14:10 | page 67: 43 items\n",
      "[INFO    ] 2024-06-13 11:14:20 | page 68: 46 items\n",
      "[INFO    ] 2024-06-13 11:14:30 | page 69: 46 items\n",
      "[INFO    ] 2024-06-13 11:14:42 | page 70: 47 items\n",
      "[INFO    ] 2024-06-13 11:14:54 | page 71: 47 items\n",
      "[INFO    ] 2024-06-13 11:15:04 | page 72: 47 items\n",
      "[INFO    ] 2024-06-13 11:15:15 | page 73: 46 items\n",
      "[INFO    ] 2024-06-13 11:15:25 | page 74: 45 items\n",
      "[INFO    ] 2024-06-13 11:15:36 | page 75: 46 items\n",
      "[INFO    ] 2024-06-13 11:15:46 | page 76: 46 items\n",
      "[INFO    ] 2024-06-13 11:15:56 | page 77: 46 items\n",
      "[INFO    ] 2024-06-13 11:16:06 | page 78: 45 items\n",
      "[INFO    ] 2024-06-13 11:16:18 | page 79: 49 items\n",
      "[INFO    ] 2024-06-13 11:16:30 | page 80: 50 items\n",
      "[INFO    ] 2024-06-13 11:16:41 | page 81: 50 items\n",
      "[INFO    ] 2024-06-13 11:16:51 | page 82: 41 items\n",
      "[INFO    ] 2024-06-13 11:17:02 | page 83: 49 items\n",
      "[INFO    ] 2024-06-13 11:17:10 | page 84: 33 items\n",
      "[INFO    ] 2024-06-13 11:17:21 | page 85: 36 items\n",
      "[INFO    ] 2024-06-13 11:17:30 | page 86: 44 items\n",
      "[INFO    ] 2024-06-13 11:17:37 | page 87: 25 items\n"
     ]
    },
    {
     "data": {
      "text/plain": [
       "4200"
      ]
     },
     "metadata": {},
     "output_type": "display_data"
    },
    {
     "data": {
      "text/plain": [
       "'data/2024/raw/flat/avito/avito_2024-06-13_11-17_raw_sevastopol.pkl'"
      ]
     },
     "metadata": {},
     "output_type": "display_data"
    },
    {
     "data": {
      "text/plain": [
       "'https://www.avito.ru/sevastopol/zemelnye_uchastki/prodam'"
      ]
     },
     "metadata": {},
     "output_type": "display_data"
    },
    {
     "name": "stdout",
     "output_type": "stream",
     "text": [
      "[INFO    ] 2024-06-13 11:17:47 | page 1: 50 items\n",
      "[INFO    ] 2024-06-13 11:17:56 | page 2: 50 items\n",
      "[INFO    ] 2024-06-13 11:18:04 | page 3: 50 items\n",
      "[INFO    ] 2024-06-13 11:18:13 | page 4: 50 items\n",
      "[INFO    ] 2024-06-13 11:18:21 | page 5: 50 items\n",
      "[INFO    ] 2024-06-13 11:18:30 | page 6: 50 items\n",
      "[INFO    ] 2024-06-13 11:18:39 | page 7: 50 items\n",
      "[INFO    ] 2024-06-13 11:18:48 | page 8: 50 items\n",
      "[INFO    ] 2024-06-13 11:18:56 | page 9: 50 items\n",
      "[INFO    ] 2024-06-13 11:19:05 | page 10: 50 items\n",
      "[INFO    ] 2024-06-13 11:19:14 | page 11: 50 items\n",
      "[INFO    ] 2024-06-13 11:19:24 | page 12: 50 items\n",
      "[INFO    ] 2024-06-13 11:19:33 | page 13: 50 items\n",
      "[INFO    ] 2024-06-13 11:19:43 | page 14: 50 items\n",
      "[INFO    ] 2024-06-13 11:19:53 | page 15: 50 items\n",
      "[INFO    ] 2024-06-13 11:20:02 | page 16: 50 items\n",
      "[INFO    ] 2024-06-13 11:20:11 | page 17: 50 items\n",
      "[INFO    ] 2024-06-13 11:20:20 | page 18: 50 items\n",
      "[INFO    ] 2024-06-13 11:20:29 | page 19: 50 items\n",
      "[INFO    ] 2024-06-13 11:20:38 | page 20: 50 items\n",
      "[INFO    ] 2024-06-13 11:20:48 | page 21: 50 items\n",
      "[INFO    ] 2024-06-13 11:20:58 | page 22: 50 items\n",
      "[INFO    ] 2024-06-13 11:21:08 | page 23: 50 items\n",
      "[INFO    ] 2024-06-13 11:21:18 | page 24: 50 items\n",
      "[INFO    ] 2024-06-13 11:21:28 | page 25: 50 items\n",
      "[INFO    ] 2024-06-13 11:21:38 | page 26: 50 items\n",
      "[INFO    ] 2024-06-13 11:21:48 | page 27: 50 items\n",
      "[INFO    ] 2024-06-13 11:21:58 | page 28: 50 items\n",
      "[INFO    ] 2024-06-13 11:22:08 | page 29: 50 items\n",
      "[INFO    ] 2024-06-13 11:22:19 | page 30: 50 items\n",
      "[INFO    ] 2024-06-13 11:22:29 | page 31: 50 items\n",
      "[INFO    ] 2024-06-13 11:22:38 | page 32: 50 items\n",
      "[INFO    ] 2024-06-13 11:22:47 | page 33: 50 items\n",
      "[INFO    ] 2024-06-13 11:22:57 | page 34: 50 items\n",
      "[INFO    ] 2024-06-13 11:23:06 | page 35: 50 items\n",
      "[INFO    ] 2024-06-13 11:23:16 | page 36: 50 items\n",
      "[INFO    ] 2024-06-13 11:23:25 | page 37: 49 items\n",
      "[INFO    ] 2024-06-13 11:23:35 | page 38: 50 items\n",
      "[INFO    ] 2024-06-13 11:23:45 | page 39: 50 items\n",
      "[INFO    ] 2024-06-13 11:23:54 | page 40: 50 items\n",
      "[INFO    ] 2024-06-13 11:24:04 | page 41: 50 items\n",
      "[INFO    ] 2024-06-13 11:24:13 | page 42: 50 items\n",
      "[INFO    ] 2024-06-13 11:24:14 | page 43: 3 items\n",
      "[INFO    ] 2024-06-13 11:24:24 | page 44: 50 items\n",
      "[INFO    ] 2024-06-13 11:24:33 | page 45: 50 items\n",
      "[INFO    ] 2024-06-13 11:24:39 | page 46: 28 items\n"
     ]
    },
    {
     "data": {
      "text/plain": [
       "2230"
      ]
     },
     "metadata": {},
     "output_type": "display_data"
    },
    {
     "data": {
      "text/plain": [
       "'data/2024/raw/land/avito/avito_2024-06-13_11-24_raw_sevastopol.pkl'"
      ]
     },
     "metadata": {},
     "output_type": "display_data"
    },
    {
     "data": {
      "text/plain": [
       "'https://www.avito.ru/sevastopol/doma_dachi_kottedzhi/prodam'"
      ]
     },
     "metadata": {},
     "output_type": "display_data"
    },
    {
     "name": "stdout",
     "output_type": "stream",
     "text": [
      "[INFO    ] 2024-06-13 11:24:51 | page 1: 50 items\n",
      "[INFO    ] 2024-06-13 11:25:00 | page 2: 50 items\n",
      "[INFO    ] 2024-06-13 11:25:09 | page 3: 50 items\n",
      "[INFO    ] 2024-06-13 11:25:18 | page 4: 50 items\n",
      "[INFO    ] 2024-06-13 11:25:27 | page 5: 50 items\n",
      "[INFO    ] 2024-06-13 11:25:35 | page 6: 50 items\n",
      "[INFO    ] 2024-06-13 11:25:44 | page 7: 50 items\n",
      "[INFO    ] 2024-06-13 11:25:53 | page 8: 50 items\n",
      "[INFO    ] 2024-06-13 11:26:02 | page 9: 50 items\n",
      "[INFO    ] 2024-06-13 11:26:11 | page 10: 50 items\n",
      "[INFO    ] 2024-06-13 11:26:20 | page 11: 50 items\n",
      "[INFO    ] 2024-06-13 11:26:29 | page 12: 50 items\n",
      "[INFO    ] 2024-06-13 11:26:37 | page 13: 50 items\n",
      "[INFO    ] 2024-06-13 11:26:46 | page 14: 50 items\n",
      "[INFO    ] 2024-06-13 11:26:55 | page 15: 50 items\n",
      "[INFO    ] 2024-06-13 11:27:04 | page 16: 50 items\n",
      "[INFO    ] 2024-06-13 11:27:13 | page 17: 50 items\n",
      "[INFO    ] 2024-06-13 11:27:21 | page 18: 50 items\n",
      "[INFO    ] 2024-06-13 11:27:30 | page 19: 50 items\n",
      "[INFO    ] 2024-06-13 11:27:39 | page 20: 50 items\n",
      "[INFO    ] 2024-06-13 11:27:48 | page 21: 50 items\n",
      "[INFO    ] 2024-06-13 11:27:58 | page 22: 50 items\n",
      "[INFO    ] 2024-06-13 11:28:07 | page 23: 50 items\n",
      "[INFO    ] 2024-06-13 11:28:17 | page 24: 50 items\n",
      "[INFO    ] 2024-06-13 11:28:26 | page 25: 50 items\n",
      "[INFO    ] 2024-06-13 11:28:36 | page 26: 50 items\n",
      "[INFO    ] 2024-06-13 11:28:46 | page 27: 50 items\n",
      "[INFO    ] 2024-06-13 11:28:56 | page 28: 50 items\n",
      "[INFO    ] 2024-06-13 11:29:06 | page 29: 50 items\n",
      "[INFO    ] 2024-06-13 11:29:16 | page 30: 50 items\n",
      "[INFO    ] 2024-06-13 11:29:25 | page 31: 50 items\n",
      "[INFO    ] 2024-06-13 11:29:35 | page 32: 50 items\n",
      "[INFO    ] 2024-06-13 11:29:46 | page 33: 50 items\n",
      "[INFO    ] 2024-06-13 11:29:56 | page 34: 50 items\n",
      "[INFO    ] 2024-06-13 11:30:05 | page 35: 50 items\n",
      "[INFO    ] 2024-06-13 11:30:15 | page 36: 50 items\n",
      "[INFO    ] 2024-06-13 11:30:25 | page 37: 50 items\n",
      "[INFO    ] 2024-06-13 11:30:35 | page 38: 50 items\n",
      "[INFO    ] 2024-06-13 11:30:45 | page 39: 50 items\n",
      "[INFO    ] 2024-06-13 11:30:55 | page 40: 49 items\n",
      "[INFO    ] 2024-06-13 11:31:04 | page 41: 50 items\n",
      "[INFO    ] 2024-06-13 11:31:13 | page 42: 50 items\n",
      "[INFO    ] 2024-06-13 11:31:23 | page 43: 50 items\n",
      "[INFO    ] 2024-06-13 11:31:34 | page 44: 50 items\n",
      "[INFO    ] 2024-06-13 11:31:44 | page 45: 50 items\n",
      "[INFO    ] 2024-06-13 11:31:54 | page 46: 50 items\n",
      "[INFO    ] 2024-06-13 11:32:04 | page 47: 50 items\n",
      "[INFO    ] 2024-06-13 11:32:06 | page 48: 10 items\n"
     ]
    },
    {
     "data": {
      "text/plain": [
       "2359"
      ]
     },
     "metadata": {},
     "output_type": "display_data"
    },
    {
     "data": {
      "text/plain": [
       "'data/2024/raw/house/avito/avito_2024-06-13_11-32_raw_sevastopol.pkl'"
      ]
     },
     "metadata": {},
     "output_type": "display_data"
    },
    {
     "data": {
      "text/plain": [
       "'https://www.avito.ru/sudak/kvartiry/prodam'"
      ]
     },
     "metadata": {},
     "output_type": "display_data"
    },
    {
     "name": "stdout",
     "output_type": "stream",
     "text": [
      "[INFO    ] 2024-06-13 11:32:16 | page 1: 53 items\n",
      "[INFO    ] 2024-06-13 11:32:26 | page 2: 50 items\n",
      "[INFO    ] 2024-06-13 11:32:35 | page 3: 50 items\n",
      "[INFO    ] 2024-06-13 11:32:45 | page 4: 50 items\n",
      "[INFO    ] 2024-06-13 11:32:55 | page 5: 50 items\n",
      "[INFO    ] 2024-06-13 11:33:06 | page 6: 50 items\n",
      "[INFO    ] 2024-06-13 11:33:17 | page 7: 50 items\n",
      "[INFO    ] 2024-06-13 11:33:20 | page 8: 11 items\n"
     ]
    },
    {
     "data": {
      "text/plain": [
       "364"
      ]
     },
     "metadata": {},
     "output_type": "display_data"
    },
    {
     "data": {
      "text/plain": [
       "'data/2024/raw/flat/avito/avito_2024-06-13_11-33_raw_sudak.pkl'"
      ]
     },
     "metadata": {},
     "output_type": "display_data"
    },
    {
     "data": {
      "text/plain": [
       "'https://www.avito.ru/sudak/zemelnye_uchastki/prodam'"
      ]
     },
     "metadata": {},
     "output_type": "display_data"
    },
    {
     "name": "stdout",
     "output_type": "stream",
     "text": [
      "[INFO    ] 2024-06-13 11:33:27 | page 1: 50 items\n",
      "[INFO    ] 2024-06-13 11:33:35 | page 2: 50 items\n",
      "[INFO    ] 2024-06-13 11:33:44 | page 3: 50 items\n",
      "[INFO    ] 2024-06-13 11:33:52 | page 4: 50 items\n",
      "[INFO    ] 2024-06-13 11:34:00 | page 5: 50 items\n",
      "[INFO    ] 2024-06-13 11:34:07 | page 6: 40 items\n"
     ]
    },
    {
     "data": {
      "text/plain": [
       "290"
      ]
     },
     "metadata": {},
     "output_type": "display_data"
    },
    {
     "data": {
      "text/plain": [
       "'data/2024/raw/land/avito/avito_2024-06-13_11-34_raw_sudak.pkl'"
      ]
     },
     "metadata": {},
     "output_type": "display_data"
    },
    {
     "data": {
      "text/plain": [
       "'https://www.avito.ru/sudak/doma_dachi_kottedzhi/prodam'"
      ]
     },
     "metadata": {},
     "output_type": "display_data"
    },
    {
     "name": "stdout",
     "output_type": "stream",
     "text": [
      "[INFO    ] 2024-06-13 11:34:16 | page 1: 50 items\n",
      "[INFO    ] 2024-06-13 11:34:24 | page 2: 50 items\n",
      "[INFO    ] 2024-06-13 11:34:33 | page 3: 50 items\n",
      "[INFO    ] 2024-06-13 11:34:35 | page 4: 11 items\n"
     ]
    },
    {
     "data": {
      "text/plain": [
       "161"
      ]
     },
     "metadata": {},
     "output_type": "display_data"
    },
    {
     "data": {
      "text/plain": [
       "'data/2024/raw/house/avito/avito_2024-06-13_11-34_raw_sudak.pkl'"
      ]
     },
     "metadata": {},
     "output_type": "display_data"
    },
    {
     "data": {
      "text/plain": [
       "'https://www.avito.ru/bahchisaray/zemelnye_uchastki/prodam'"
      ]
     },
     "metadata": {},
     "output_type": "display_data"
    },
    {
     "name": "stdout",
     "output_type": "stream",
     "text": [
      "[INFO    ] 2024-06-13 11:34:44 | page 1: 50 items\n",
      "[INFO    ] 2024-06-13 11:34:52 | page 2: 50 items\n",
      "[INFO    ] 2024-06-13 11:35:00 | page 3: 50 items\n",
      "[INFO    ] 2024-06-13 11:35:08 | page 4: 50 items\n",
      "[INFO    ] 2024-06-13 11:35:16 | page 5: 50 items\n",
      "[INFO    ] 2024-06-13 11:35:24 | page 6: 50 items\n",
      "[INFO    ] 2024-06-13 11:35:31 | page 7: 50 items\n",
      "[INFO    ] 2024-06-13 11:35:39 | page 8: 50 items\n",
      "[INFO    ] 2024-06-13 11:35:47 | page 9: 50 items\n",
      "[INFO    ] 2024-06-13 11:35:56 | page 10: 50 items\n",
      "[INFO    ] 2024-06-13 11:36:03 | page 11: 50 items\n",
      "[INFO    ] 2024-06-13 11:36:12 | page 12: 50 items\n",
      "[INFO    ] 2024-06-13 11:36:19 | page 13: 50 items\n",
      "[INFO    ] 2024-06-13 11:36:28 | page 14: 49 items\n"
     ]
    },
    {
     "data": {
      "text/plain": [
       "699"
      ]
     },
     "metadata": {},
     "output_type": "display_data"
    },
    {
     "data": {
      "text/plain": [
       "'data/2024/raw/land/avito/avito_2024-06-13_11-36_raw_bahchisaray.pkl'"
      ]
     },
     "metadata": {},
     "output_type": "display_data"
    },
    {
     "data": {
      "text/plain": [
       "'https://www.avito.ru/bahchisaray/doma_dachi_kottedzhi/prodam'"
      ]
     },
     "metadata": {},
     "output_type": "display_data"
    },
    {
     "name": "stdout",
     "output_type": "stream",
     "text": [
      "[INFO    ] 2024-06-13 11:36:36 | page 1: 50 items\n",
      "[INFO    ] 2024-06-13 11:36:45 | page 2: 50 items\n",
      "[INFO    ] 2024-06-13 11:36:53 | page 3: 50 items\n",
      "[INFO    ] 2024-06-13 11:37:02 | page 4: 50 items\n",
      "[INFO    ] 2024-06-13 11:37:11 | page 5: 50 items\n",
      "[INFO    ] 2024-06-13 11:37:16 | page 6: 25 items\n"
     ]
    },
    {
     "data": {
      "text/plain": [
       "275"
      ]
     },
     "metadata": {},
     "output_type": "display_data"
    },
    {
     "data": {
      "text/plain": [
       "'data/2024/raw/house/avito/avito_2024-06-13_11-37_raw_bahchisaray.pkl'"
      ]
     },
     "metadata": {},
     "output_type": "display_data"
    },
    {
     "name": "stdout",
     "output_type": "stream",
     "text": [
      "CPU times: user 4min 32s, sys: 11.3 s, total: 4min 43s\n",
      "Wall time: 34min 40s\n"
     ]
    }
   ],
   "source": [
    "%%time \n",
    "\n",
    "\n",
    "options = webdriver.FirefoxOptions()\n",
    "#options.headless = True\n",
    "browser = webdriver.Firefox(options=options)\n",
    "logging.info('open virtual browser')\n",
    "\n",
    "for s in source:\n",
    "\n",
    "    url = s['url']\n",
    "    place = s['place']\n",
    "    subfolder = s['subfolder'] \n",
    "    \n",
    "    display(url)\n",
    "    browser.get(url)\n",
    "    sleep(1)\n",
    "    \n",
    "    data = AvitoParser().transform(browser)\n",
    "    assert len(data)>0\n",
    "    \n",
    "    df = pd.DataFrame(data)\n",
    "    df['ts'] = datetime.now()\n",
    "    df['place'] = place\n",
    "\n",
    "    display( len(df) )\n",
    "    t_now = datetime.now().strftime('%Y-%m-%d_%H-%M')\n",
    "    fname = f'{dest_folder}/{subfolder}/avito/avito_{t_now}_raw_{place}.pkl'\n",
    "    df.to_pickle(fname)\n",
    "    display( fname )\n",
    "\n",
    "browser.close()"
   ]
  },
  {
   "cell_type": "code",
   "execution_count": 10,
   "id": "a98a46de",
   "metadata": {},
   "outputs": [],
   "source": [
    "# browser.close()"
   ]
  },
  {
   "cell_type": "code",
   "execution_count": 11,
   "id": "e97e319b",
   "metadata": {},
   "outputs": [
    {
     "name": "stdout",
     "output_type": "stream",
     "text": [
      "Чт 13 июн 2024 11:37:18 MSK\r\n"
     ]
    }
   ],
   "source": [
    "!date"
   ]
  },
  {
   "cell_type": "code",
   "execution_count": null,
   "id": "0fcca2ff",
   "metadata": {},
   "outputs": [],
   "source": []
  }
 ],
 "metadata": {
  "kernelspec": {
   "display_name": "Python 3 (ipykernel)",
   "language": "python",
   "name": "python3"
  },
  "language_info": {
   "codemirror_mode": {
    "name": "ipython",
    "version": 3
   },
   "file_extension": ".py",
   "mimetype": "text/x-python",
   "name": "python",
   "nbconvert_exporter": "python",
   "pygments_lexer": "ipython3",
   "version": "3.12.3"
  }
 },
 "nbformat": 4,
 "nbformat_minor": 5
}
