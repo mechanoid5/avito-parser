{
 "cells": [
  {
   "cell_type": "markdown",
   "id": "7bec28d7",
   "metadata": {},
   "source": [
    "__применение парсера объявлений авито.ru__\n",
    "\n",
    "_Evgeny S. Borisov <parser@mechanoid.su>_"
   ]
  },
  {
   "cell_type": "code",
   "execution_count": 1,
   "id": "52c5999f",
   "metadata": {},
   "outputs": [],
   "source": [
    "# !pacman -S firefox firefox-i18n-r  geckodriver\n",
    "# !pip install seleniuam"
   ]
  },
  {
   "cell_type": "code",
   "execution_count": null,
   "id": "bcea4d8b",
   "metadata": {
    "ExecuteTime": {
     "end_time": "2022-08-26T14:19:06.118492Z",
     "start_time": "2022-08-26T14:13:37.888398Z"
    }
   },
   "outputs": [],
   "source": [
    "# import re\n",
    "import sys\n",
    "import logging\n",
    "from datetime import datetime as dt\n",
    "from tqdm.notebook import tqdm\n",
    "import pandas as pd"
   ]
  },
  {
   "cell_type": "code",
   "execution_count": 2,
   "id": "caabc8c7",
   "metadata": {
    "ExecuteTime": {
     "end_time": "2022-08-26T14:19:06.118492Z",
     "start_time": "2022-08-26T14:13:37.888398Z"
    }
   },
   "outputs": [],
   "source": [
    "pd.set_option('display.max_colwidth', None)\n",
    "pd.set_option('display.float_format', '{:.2f}'.format)\n",
    "tqdm.pandas()\n",
    "\n",
    "logging.basicConfig(\n",
    "        format=u'[%(levelname)-8s] %(asctime)s | %(message)s',\n",
    "        datefmt='%Y-%m-%d %H:%M:%S',\n",
    "        level=logging.INFO,\n",
    "        # level=logging.DEBUG,\n",
    "        stream=sys.stdout,\n",
    "    )"
   ]
  },
  {
   "cell_type": "code",
   "execution_count": 7,
   "id": "d437eab9",
   "metadata": {},
   "outputs": [],
   "source": [
    "profile_path = '/home/mechanoid/.mozilla/firefox/p144xo2m.default-release'\n",
    "\n",
    "# url = (\n",
    "# 'https://www.avito.ru/yaroslavskaya_oblast/avtomobili/chevrolet/niva'\n",
    "# '?bt=0'\n",
    "# '&i=1'\n",
    "# '&pmax=150000'\n",
    "# '&pmin=10000'\n",
    "# )\n",
    "\n",
    "base_url = 'https://www.avito.ru/'\n",
    "avito_path = 'sevastopol/kvartiry/prodam'"
   ]
  },
  {
   "cell_type": "code",
   "execution_count": null,
   "id": "31463a1e",
   "metadata": {},
   "outputs": [],
   "source": [
    "ts = dt.now().strftime('%Y-%m-%d_%H-%M')\n",
    "ts"
   ]
  },
  {
   "cell_type": "markdown",
   "id": "7db09047",
   "metadata": {},
   "source": [
    "## качаем и парсим все объявления в разделе avito_path"
   ]
  },
  {
   "cell_type": "code",
   "execution_count": null,
   "id": "bcd426ee",
   "metadata": {},
   "outputs": [],
   "source": [
    "%%time \n",
    "\n",
    "from lib.downloader import DownloaderSeleniumFirefox\n",
    "from lib.avito import AvitoDownloaderRealty\n",
    "\n",
    "df, html = AvitoDownloaderRealty(\n",
    "        driver=DownloaderSeleniumFirefox(profile_path)\n",
    "    ).load(avito_path)\n",
    "\n",
    "\n",
    "df.to_excel(f'data/avito_{ts}_raw.xlsx',index=False)\n",
    "\n",
    "print(len(df))\n",
    "df.sample(2)"
   ]
  },
  {
   "cell_type": "code",
   "execution_count": null,
   "id": "51bdac62",
   "metadata": {},
   "outputs": [],
   "source": [
    "# for i,h in enumerate(html): \n",
    "#     with open(f'tmp/{i:02d}.html','wt') as f: \n",
    "#         f.write(h)"
   ]
  },
  {
   "cell_type": "markdown",
   "id": "9d1e4881",
   "metadata": {},
   "source": [
    "## дополнительная очистка данных"
   ]
  },
  {
   "cell_type": "code",
   "execution_count": null,
   "id": "29909698",
   "metadata": {},
   "outputs": [],
   "source": [
    "# import pandas as pd\n",
    "# ts = '2022-09-02_13-04'\n",
    "# data_path = f'data/raw/avito_{ts}_raw.xlsx'\n",
    "# df = pd.read_excel(data_path)\n",
    "# df.sample(3)"
   ]
  },
  {
   "cell_type": "code",
   "execution_count": 15,
   "id": "f2b39126",
   "metadata": {},
   "outputs": [],
   "source": [
    "from lib.avito import AvitoDataCleanerRealty\n",
    "\n",
    "df_ = AvitoDataCleanerRealty.transform(df)\n",
    "df_.to_excel(f'data/avito_{ts}.xlsx',index=False)\n",
    "df_.sample(2)"
   ]
  },
  {
   "cell_type": "markdown",
   "id": "ea2cd6b1",
   "metadata": {},
   "source": [
    "-----"
   ]
  },
  {
   "cell_type": "code",
   "execution_count": 12,
   "id": "eff136d0",
   "metadata": {},
   "outputs": [],
   "source": [
    "# from lib.downloader import DownloaderSimple\n",
    "# html = DownloaderSimple().get(url)"
   ]
  },
  {
   "cell_type": "code",
   "execution_count": null,
   "id": "e35ffede",
   "metadata": {},
   "outputs": [],
   "source": [
    "# from lib.downloader import DownloaderSeleniumFirefox\n",
    "# html = DownloaderSeleniumFirefox(profile_path).get(url)\n",
    "# html[:128]"
   ]
  },
  {
   "cell_type": "code",
   "execution_count": null,
   "id": "60b8af6b",
   "metadata": {},
   "outputs": [],
   "source": [
    "# from lib.downloader import DownloaderSeleniumFirefox\n",
    "# from lib.avito import AvitoDownloader\n",
    "\n",
    "# df, html = AvitoDownloader(\n",
    "#         driver=DownloaderSeleniumFirefox(profile_path)\n",
    "#     ).load(base_url+avito_path,page_limit=3)"
   ]
  },
  {
   "cell_type": "code",
   "execution_count": null,
   "id": "94679c09",
   "metadata": {},
   "outputs": [],
   "source": [
    "# # html[0][:100]\n",
    "# with open('tmp/00.html','wt') as f: f.write(html[0])"
   ]
  }
 ],
 "metadata": {
  "kernelspec": {
   "display_name": "Python 3 (ipykernel)",
   "language": "python",
   "name": "python3"
  },
  "language_info": {
   "codemirror_mode": {
    "name": "ipython",
    "version": 3
   },
   "file_extension": ".py",
   "mimetype": "text/x-python",
   "name": "python",
   "nbconvert_exporter": "python",
   "pygments_lexer": "ipython3",
   "version": "3.10.6"
  },
  "toc": {
   "base_numbering": 1,
   "nav_menu": {},
   "number_sections": true,
   "sideBar": true,
   "skip_h1_title": false,
   "title_cell": "Table of Contents",
   "title_sidebar": "Contents",
   "toc_cell": false,
   "toc_position": {},
   "toc_section_display": true,
   "toc_window_display": false
  },
  "varInspector": {
   "cols": {
    "lenName": 16,
    "lenType": 16,
    "lenVar": 40
   },
   "kernels_config": {
    "python": {
     "delete_cmd_postfix": "",
     "delete_cmd_prefix": "del ",
     "library": "var_list.py",
     "varRefreshCmd": "print(var_dic_list())"
    },
    "r": {
     "delete_cmd_postfix": ") ",
     "delete_cmd_prefix": "rm(",
     "library": "var_list.r",
     "varRefreshCmd": "cat(var_dic_list()) "
    }
   },
   "types_to_exclude": [
    "module",
    "function",
    "builtin_function_or_method",
    "instance",
    "_Feature"
   ],
   "window_display": false
  }
 },
 "nbformat": 4,
 "nbformat_minor": 5
}
