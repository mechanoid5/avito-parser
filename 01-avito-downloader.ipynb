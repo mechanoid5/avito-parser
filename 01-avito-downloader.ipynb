{
 "cells": [
  {
   "cell_type": "markdown",
   "id": "7bec28d7",
   "metadata": {},
   "source": [
    "__применение парсера объявлений авито.ru__\n",
    "\n",
    "_Evgeny S. Borisov <parser@mechanoid.su>_"
   ]
  },
  {
   "cell_type": "code",
   "execution_count": 1,
   "id": "52c5999f",
   "metadata": {},
   "outputs": [],
   "source": [
    "# !pacman -S firefox firefox-i18n-r  geckodriver\n",
    "# !pip install seleniuam"
   ]
  },
  {
   "cell_type": "code",
   "execution_count": 2,
   "id": "bcea4d8b",
   "metadata": {
    "ExecuteTime": {
     "end_time": "2022-08-26T14:19:06.118492Z",
     "start_time": "2022-08-26T14:13:37.888398Z"
    }
   },
   "outputs": [],
   "source": [
    "# import re\n",
    "import sys\n",
    "import logging\n",
    "from datetime import datetime as dt\n",
    "from tqdm.notebook import tqdm\n",
    "import pandas as pd"
   ]
  },
  {
   "cell_type": "code",
   "execution_count": 3,
   "id": "caabc8c7",
   "metadata": {
    "ExecuteTime": {
     "end_time": "2022-08-26T14:19:06.118492Z",
     "start_time": "2022-08-26T14:13:37.888398Z"
    }
   },
   "outputs": [],
   "source": [
    "pd.set_option('display.max_colwidth', None)\n",
    "pd.set_option('display.float_format', '{:.2f}'.format)\n",
    "tqdm.pandas()\n",
    "\n",
    "logging.basicConfig(\n",
    "        format=u'[%(levelname)-8s] %(asctime)s | %(message)s',\n",
    "        datefmt='%Y-%m-%d %H:%M:%S',\n",
    "        level=logging.INFO,\n",
    "        # level=logging.DEBUG,\n",
    "        stream=sys.stdout,\n",
    "    )"
   ]
  },
  {
   "cell_type": "code",
   "execution_count": 4,
   "id": "d437eab9",
   "metadata": {},
   "outputs": [],
   "source": [
    "profile_path = '/home/mechanoid/.mozilla/firefox/p144xo2m.default-release'\n",
    "\n",
    "# url = (\n",
    "# 'https://www.avito.ru/yaroslavskaya_oblast/avtomobili/chevrolet/niva'\n",
    "# '?bt=0'\n",
    "# '&i=1'\n",
    "# '&pmax=150000'\n",
    "# '&pmin=10000'\n",
    "# )\n",
    "\n",
    "base_url = 'https://www.avito.ru/'\n",
    "avito_path = 'sevastopol/kvartiry/prodam'"
   ]
  },
  {
   "cell_type": "code",
   "execution_count": 5,
   "id": "31463a1e",
   "metadata": {},
   "outputs": [
    {
     "data": {
      "text/plain": [
       "'2022-09-05_14-02'"
      ]
     },
     "execution_count": 5,
     "metadata": {},
     "output_type": "execute_result"
    }
   ],
   "source": [
    "ts = dt.now().strftime('%Y-%m-%d_%H-%M')\n",
    "ts"
   ]
  },
  {
   "cell_type": "code",
   "execution_count": 6,
   "id": "bcd426ee",
   "metadata": {},
   "outputs": [
    {
     "name": "stdout",
     "output_type": "stream",
     "text": [
      "[INFO    ] 2022-09-05 14:02:31 | DownloaderSeleniumFirefox: downloader init\n",
      "[INFO    ] 2022-09-05 14:02:31 | DownloaderSeleniumFirefox: open virtual browser\n",
      "[INFO    ] 2022-09-05 14:02:33 | AvitoDownloader: downloader init\n",
      "[INFO    ] 2022-09-05 14:02:38 | 79 pages for read\n",
      "[INFO    ] 2022-09-05 14:02:38 | AvitoDownloader: start read and parse pages...\n"
     ]
    },
    {
     "data": {
      "application/vnd.jupyter.widget-view+json": {
       "model_id": "572b118be02a4f8aa6745201bc46576c",
       "version_major": 2,
       "version_minor": 0
      },
      "text/plain": [
       "  0%|          | 0/78 [00:00<?, ?it/s]"
      ]
     },
     "metadata": {},
     "output_type": "display_data"
    },
    {
     "name": "stdout",
     "output_type": "stream",
     "text": [
      "[INFO    ] 2022-09-05 14:08:20 | DownloaderSeleniumFirefox: close virtual browser\n",
      "3922\n",
      "CPU times: user 18.2 s, sys: 616 ms, total: 18.8 s\n",
      "Wall time: 5min 50s\n"
     ]
    },
    {
     "data": {
      "text/html": [
       "<div>\n",
       "<style scoped>\n",
       "    .dataframe tbody tr th:only-of-type {\n",
       "        vertical-align: middle;\n",
       "    }\n",
       "\n",
       "    .dataframe tbody tr th {\n",
       "        vertical-align: top;\n",
       "    }\n",
       "\n",
       "    .dataframe thead th {\n",
       "        text-align: right;\n",
       "    }\n",
       "</style>\n",
       "<table border=\"1\" class=\"dataframe\">\n",
       "  <thead>\n",
       "    <tr style=\"text-align: right;\">\n",
       "      <th></th>\n",
       "      <th>avito_id</th>\n",
       "      <th>title</th>\n",
       "      <th>price</th>\n",
       "      <th>obj_name</th>\n",
       "      <th>adr</th>\n",
       "      <th>description</th>\n",
       "      <th>avito_page</th>\n",
       "    </tr>\n",
       "  </thead>\n",
       "  <tbody>\n",
       "    <tr>\n",
       "      <th>716</th>\n",
       "      <td>2505832188</td>\n",
       "      <td>Объявление «1-к. квартира, 31 м², 6/9 эт.» 3 фотографии</td>\n",
       "      <td>5425000</td>\n",
       "      <td>ЖК «Доброгород»</td>\n",
       "      <td>ул. Токарева, 7 этап, блок-секция 1</td>\n",
       "      <td>Крупнейший в Севастополе семейный микрорайон «Доброгород»! \\n\\nПобедитель всероссийской премии «Топ ЖК 2021» в номинации «Лучший жилой комплекс». \\n\\nИпотека с господдержкой, рассрочка от Застройщика. \\n\\n«Доброгород» по праву считается лучшим жилым кварталом Се</td>\n",
       "      <td>15</td>\n",
       "    </tr>\n",
       "    <tr>\n",
       "      <th>804</th>\n",
       "      <td>2505534513</td>\n",
       "      <td>Объявление «3-к. квартира, 90 м², 1/9 эт.» 3 фотографии</td>\n",
       "      <td>12150000</td>\n",
       "      <td>ЖК «Доброгород»</td>\n",
       "      <td>ул. Токарева, 7 этап, блок-секция 1</td>\n",
       "      <td>Крупнейший в Севастополе семейный микрорайон «Доброгород»! \\n\\nПобедитель всероссийской премии «Топ ЖК 2021» в номинации «Лучший жилой комплекс». \\n\\nИпотека с господдержкой, рассрочка от Застройщика. \\n\\n«Доброгород» по праву считается лучшим жилым кварталом Се</td>\n",
       "      <td>17</td>\n",
       "    </tr>\n",
       "  </tbody>\n",
       "</table>\n",
       "</div>"
      ],
      "text/plain": [
       "       avito_id                                                    title  \\\n",
       "716  2505832188  Объявление «1-к. квартира, 31 м², 6/9 эт.» 3 фотографии   \n",
       "804  2505534513  Объявление «3-к. квартира, 90 м², 1/9 эт.» 3 фотографии   \n",
       "\n",
       "        price         obj_name                                  adr  \\\n",
       "716   5425000  ЖК «Доброгород»  ул. Токарева, 7 этап, блок-секция 1   \n",
       "804  12150000  ЖК «Доброгород»  ул. Токарева, 7 этап, блок-секция 1   \n",
       "\n",
       "                                                                                                                                                                                                                                                                description  \\\n",
       "716  Крупнейший в Севастополе семейный микрорайон «Доброгород»! \\n\\nПобедитель всероссийской премии «Топ ЖК 2021» в номинации «Лучший жилой комплекс». \\n\\nИпотека с господдержкой, рассрочка от Застройщика. \\n\\n«Доброгород» по праву считается лучшим жилым кварталом Се   \n",
       "804  Крупнейший в Севастополе семейный микрорайон «Доброгород»! \\n\\nПобедитель всероссийской премии «Топ ЖК 2021» в номинации «Лучший жилой комплекс». \\n\\nИпотека с господдержкой, рассрочка от Застройщика. \\n\\n«Доброгород» по праву считается лучшим жилым кварталом Се   \n",
       "\n",
       "     avito_page  \n",
       "716          15  \n",
       "804          17  "
      ]
     },
     "execution_count": 6,
     "metadata": {},
     "output_type": "execute_result"
    }
   ],
   "source": [
    "%%time \n",
    "\n",
    "from lib.downloader import DownloaderSeleniumFirefox\n",
    "from lib.avito import AvitoDownloaderRealty\n",
    "\n",
    "df, html = AvitoDownloaderRealty(\n",
    "        driver=DownloaderSeleniumFirefox(profile_path)\n",
    "    ).load(avito_path, show_pbar=True)\n",
    "\n",
    "\n",
    "df.to_excel(f'data/raw/avito_{ts}_raw.xlsx',index=False)\n",
    "\n",
    "print(len(df))\n",
    "df.sample(2)"
   ]
  },
  {
   "cell_type": "markdown",
   "id": "a302c95f",
   "metadata": {},
   "source": [
    "---"
   ]
  },
  {
   "cell_type": "code",
   "execution_count": null,
   "id": "51bdac62",
   "metadata": {},
   "outputs": [],
   "source": [
    "# for i,h in enumerate(html): \n",
    "#     with open(f'tmp/{i:02d}.html','wt') as f: \n",
    "#         f.write(h)"
   ]
  },
  {
   "cell_type": "code",
   "execution_count": null,
   "id": "5a0c48be",
   "metadata": {},
   "outputs": [],
   "source": [
    "## дополнительная очистка данных"
   ]
  },
  {
   "cell_type": "code",
   "execution_count": null,
   "id": "29909698",
   "metadata": {},
   "outputs": [],
   "source": [
    "# import pandas as pd\n",
    "# ts = '2022-09-02_13-04'\n",
    "# data_path = f'data/raw/avito_{ts}_raw.xlsx'\n",
    "# df = pd.read_excel(data_path)\n",
    "# df.sample(3)"
   ]
  },
  {
   "cell_type": "code",
   "execution_count": null,
   "id": "f2b39126",
   "metadata": {},
   "outputs": [],
   "source": [
    "# from lib.avito import AvitoDataCleanerRealty\n",
    "\n",
    "# df_ = AvitoDataCleanerRealty.transform(df)\n",
    "# df_.to_excel(f'data/avito_{ts}.xlsx',index=False)\n",
    "# df_.sample(2)"
   ]
  },
  {
   "cell_type": "markdown",
   "id": "ea2cd6b1",
   "metadata": {},
   "source": [
    "-----"
   ]
  },
  {
   "cell_type": "code",
   "execution_count": null,
   "id": "eff136d0",
   "metadata": {},
   "outputs": [],
   "source": [
    "# from lib.downloader import DownloaderSimple\n",
    "# html = DownloaderSimple().get(url)"
   ]
  },
  {
   "cell_type": "code",
   "execution_count": null,
   "id": "e35ffede",
   "metadata": {},
   "outputs": [],
   "source": [
    "# from lib.downloader import DownloaderSeleniumFirefox\n",
    "# html = DownloaderSeleniumFirefox(profile_path).get(url)\n",
    "# html[:128]"
   ]
  },
  {
   "cell_type": "code",
   "execution_count": null,
   "id": "60b8af6b",
   "metadata": {},
   "outputs": [],
   "source": [
    "# from lib.downloader import DownloaderSeleniumFirefox\n",
    "# from lib.avito import AvitoDownloader\n",
    "\n",
    "# df, html = AvitoDownloader(\n",
    "#         driver=DownloaderSeleniumFirefox(profile_path)\n",
    "#     ).load(base_url+avito_path,page_limit=3)"
   ]
  },
  {
   "cell_type": "code",
   "execution_count": null,
   "id": "94679c09",
   "metadata": {},
   "outputs": [],
   "source": [
    "# # html[0][:100]\n",
    "# with open('tmp/00.html','wt') as f: f.write(html[0])"
   ]
  }
 ],
 "metadata": {
  "kernelspec": {
   "display_name": "Python 3 (ipykernel)",
   "language": "python",
   "name": "python3"
  },
  "language_info": {
   "codemirror_mode": {
    "name": "ipython",
    "version": 3
   },
   "file_extension": ".py",
   "mimetype": "text/x-python",
   "name": "python",
   "nbconvert_exporter": "python",
   "pygments_lexer": "ipython3",
   "version": "3.10.6"
  },
  "toc": {
   "base_numbering": 1,
   "nav_menu": {},
   "number_sections": true,
   "sideBar": true,
   "skip_h1_title": false,
   "title_cell": "Table of Contents",
   "title_sidebar": "Contents",
   "toc_cell": false,
   "toc_position": {},
   "toc_section_display": true,
   "toc_window_display": false
  },
  "varInspector": {
   "cols": {
    "lenName": 16,
    "lenType": 16,
    "lenVar": 40
   },
   "kernels_config": {
    "python": {
     "delete_cmd_postfix": "",
     "delete_cmd_prefix": "del ",
     "library": "var_list.py",
     "varRefreshCmd": "print(var_dic_list())"
    },
    "r": {
     "delete_cmd_postfix": ") ",
     "delete_cmd_prefix": "rm(",
     "library": "var_list.r",
     "varRefreshCmd": "cat(var_dic_list()) "
    }
   },
   "types_to_exclude": [
    "module",
    "function",
    "builtin_function_or_method",
    "instance",
    "_Feature"
   ],
   "window_display": false
  }
 },
 "nbformat": 4,
 "nbformat_minor": 5
}
