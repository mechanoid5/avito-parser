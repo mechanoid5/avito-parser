{
 "cells": [
  {
   "cell_type": "markdown",
   "id": "7bec28d7",
   "metadata": {},
   "source": [
    "__применение парсера объявлений авито.ru__\n",
    "\n",
    "_Evgeny S. Borisov <parser@mechanoid.su>_"
   ]
  },
  {
   "cell_type": "code",
   "execution_count": 1,
   "id": "52c5999f",
   "metadata": {},
   "outputs": [],
   "source": [
    "# !pacman -S firefox firefox-i18n-r  geckodriver\n",
    "# !pip install seleniuam"
   ]
  },
  {
   "cell_type": "code",
   "execution_count": 2,
   "id": "bcea4d8b",
   "metadata": {
    "ExecuteTime": {
     "end_time": "2022-08-26T14:19:06.118492Z",
     "start_time": "2022-08-26T14:13:37.888398Z"
    }
   },
   "outputs": [],
   "source": [
    "# import re\n",
    "import sys\n",
    "import logging\n",
    "from datetime import datetime as dt\n",
    "from tqdm.notebook import tqdm\n",
    "import pandas as pd"
   ]
  },
  {
   "cell_type": "code",
   "execution_count": 3,
   "id": "caabc8c7",
   "metadata": {
    "ExecuteTime": {
     "end_time": "2022-08-26T14:19:06.118492Z",
     "start_time": "2022-08-26T14:13:37.888398Z"
    }
   },
   "outputs": [],
   "source": [
    "pd.set_option('display.max_colwidth', None)\n",
    "pd.set_option('display.float_format', '{:.2f}'.format)\n",
    "tqdm.pandas()\n",
    "\n",
    "logging.basicConfig(\n",
    "        format=u'[%(levelname)-8s] %(asctime)s | %(message)s',\n",
    "        datefmt='%Y-%m-%d %H:%M:%S',\n",
    "        level=logging.INFO,\n",
    "        # level=logging.DEBUG,\n",
    "        stream=sys.stdout,\n",
    "    )"
   ]
  },
  {
   "cell_type": "markdown",
   "id": "db3fe2be",
   "metadata": {},
   "source": [
    "---"
   ]
  },
  {
   "cell_type": "code",
   "execution_count": 4,
   "id": "288569b0",
   "metadata": {},
   "outputs": [],
   "source": [
    "# url = (\n",
    "# 'https://www.avito.ru/yaroslavskaya_oblast/avtomobili/chevrolet/niva'\n",
    "# '?bt=0'\n",
    "# '&i=1'\n",
    "# '&pmax=150000'\n",
    "# '&pmin=10000'\n",
    "# )"
   ]
  },
  {
   "cell_type": "code",
   "execution_count": 5,
   "id": "d437eab9",
   "metadata": {},
   "outputs": [],
   "source": [
    "profile_path = '/home/mechanoid/.mozilla/firefox/p144xo2m.default-release'\n",
    "\n",
    "base_url = 'https://www.avito.ru/'\n",
    "avito_path = 'sevastopol/kvartiry/prodam'\n",
    "\n",
    "\n",
    "raw_data_path = 'data/raw/' # каталог с файлами объявлений\n",
    "loc_file_path = 'data/location.pkl' # таблица адресов\n",
    "result_file_path = 'data/data.pkl'"
   ]
  },
  {
   "cell_type": "code",
   "execution_count": 6,
   "id": "31463a1e",
   "metadata": {},
   "outputs": [
    {
     "data": {
      "text/plain": [
       "'2022-09-06_13-22'"
      ]
     },
     "execution_count": 6,
     "metadata": {},
     "output_type": "execute_result"
    }
   ],
   "source": [
    "ts = dt.now().strftime('%Y-%m-%d_%H-%M')\n",
    "ts"
   ]
  },
  {
   "cell_type": "markdown",
   "id": "bed3fc93",
   "metadata": {},
   "source": [
    "## качаем новые данные"
   ]
  },
  {
   "cell_type": "code",
   "execution_count": 7,
   "id": "ae2f2cba",
   "metadata": {},
   "outputs": [
    {
     "name": "stdout",
     "output_type": "stream",
     "text": [
      "[INFO    ] 2022-09-06 13:09:56 | DownloaderSeleniumFirefox: downloader init\n",
      "[INFO    ] 2022-09-06 13:09:56 | DownloaderSeleniumFirefox: open virtual browser\n",
      "[INFO    ] 2022-09-06 13:09:58 | AvitoDownloader: downloader init\n",
      "[INFO    ] 2022-09-06 13:10:06 | 80 pages for read\n",
      "[INFO    ] 2022-09-06 13:10:06 | AvitoDownloader: start read and parse pages...\n"
     ]
    },
    {
     "data": {
      "application/vnd.jupyter.widget-view+json": {
       "model_id": "3e918fd4b4664a98bf003ce2571b000e",
       "version_major": 2,
       "version_minor": 0
      },
      "text/plain": [
       "  0%|          | 0/79 [00:00<?, ?it/s]"
      ]
     },
     "metadata": {},
     "output_type": "display_data"
    },
    {
     "name": "stdout",
     "output_type": "stream",
     "text": [
      "[INFO    ] 2022-09-06 13:14:44 | DownloaderSeleniumFirefox: close virtual browser\n",
      "3985\n",
      "CPU times: user 17.2 s, sys: 712 ms, total: 18 s\n",
      "Wall time: 4min 47s\n"
     ]
    }
   ],
   "source": [
    "%%time \n",
    "\n",
    "from lib.downloader import DownloaderSeleniumFirefox\n",
    "from lib.avito import AvitoDownloaderRealty\n",
    "\n",
    "df, html = AvitoDownloaderRealty(\n",
    "        driver=DownloaderSeleniumFirefox(profile_path)\n",
    "    ).load(avito_path, show_pbar=True)\n",
    "\n",
    "print(len(df))"
   ]
  },
  {
   "cell_type": "code",
   "execution_count": 8,
   "id": "6fa322a2",
   "metadata": {},
   "outputs": [],
   "source": [
    "assert len(df)>0\n",
    "df.to_excel(f'{raw_data_path}/avito_{ts}_raw.xlsx',index=False)"
   ]
  },
  {
   "cell_type": "code",
   "execution_count": 9,
   "id": "bcd426ee",
   "metadata": {},
   "outputs": [
    {
     "data": {
      "text/html": [
       "<div>\n",
       "<style scoped>\n",
       "    .dataframe tbody tr th:only-of-type {\n",
       "        vertical-align: middle;\n",
       "    }\n",
       "\n",
       "    .dataframe tbody tr th {\n",
       "        vertical-align: top;\n",
       "    }\n",
       "\n",
       "    .dataframe thead th {\n",
       "        text-align: right;\n",
       "    }\n",
       "</style>\n",
       "<table border=\"1\" class=\"dataframe\">\n",
       "  <thead>\n",
       "    <tr style=\"text-align: right;\">\n",
       "      <th></th>\n",
       "      <th>avito_id</th>\n",
       "      <th>title</th>\n",
       "      <th>price</th>\n",
       "      <th>obj_name</th>\n",
       "      <th>adr</th>\n",
       "      <th>description</th>\n",
       "      <th>avito_page</th>\n",
       "    </tr>\n",
       "  </thead>\n",
       "  <tbody>\n",
       "    <tr>\n",
       "      <th>789</th>\n",
       "      <td>2340503980</td>\n",
       "      <td>Объявление «1-к. квартира, 26 м², 1/3 эт.» 5 фотографий</td>\n",
       "      <td>3650954</td>\n",
       "      <td>ЖК «Голубая Бухта»</td>\n",
       "      <td>аллея Защитников 35-й Батареи, д. 11а</td>\n",
       "      <td>ЖК «Голубая Бухта» — это неповторимое сочетание современной архитектуры и комфортной жизни с удобным расположением у самого берега Черного моря и живописным видом на Голубую бухту. \\nКомплекс имеет уникальную инфраструктуру:300м до пляжа «Голубая бухта», Sp</td>\n",
       "      <td>16</td>\n",
       "    </tr>\n",
       "    <tr>\n",
       "      <th>1330</th>\n",
       "      <td>2512947430</td>\n",
       "      <td>Объявление «1-к. квартира, 37,6 м², 1/10 эт.» 9 фотографий</td>\n",
       "      <td>6600000</td>\n",
       "      <td></td>\n",
       "      <td>ул. Тараса Шевченко, 24</td>\n",
       "      <td>Квартира расположена в новом районе. Рядом школа, детсад, рынок, магазины. До моря 25 мин пешком, 5 мин на машине. Свежий ремонт, этаж первый, высокий, в цокольном офисные помещения.</td>\n",
       "      <td>27</td>\n",
       "    </tr>\n",
       "  </tbody>\n",
       "</table>\n",
       "</div>"
      ],
      "text/plain": [
       "        avito_id                                                       title  \\\n",
       "789   2340503980     Объявление «1-к. квартира, 26 м², 1/3 эт.» 5 фотографий   \n",
       "1330  2512947430  Объявление «1-к. квартира, 37,6 м², 1/10 эт.» 9 фотографий   \n",
       "\n",
       "        price            obj_name                                    adr  \\\n",
       "789   3650954  ЖК «Голубая Бухта»  аллея Защитников 35-й Батареи, д. 11а   \n",
       "1330  6600000                                    ул. Тараса Шевченко, 24   \n",
       "\n",
       "                                                                                                                                                                                                                                                            description  \\\n",
       "789   ЖК «Голубая Бухта» — это неповторимое сочетание современной архитектуры и комфортной жизни с удобным расположением у самого берега Черного моря и живописным видом на Голубую бухту. \\nКомплекс имеет уникальную инфраструктуру:300м до пляжа «Голубая бухта», Sp   \n",
       "1330                                                                             Квартира расположена в новом районе. Рядом школа, детсад, рынок, магазины. До моря 25 мин пешком, 5 мин на машине. Свежий ремонт, этаж первый, высокий, в цокольном офисные помещения.   \n",
       "\n",
       "      avito_page  \n",
       "789           16  \n",
       "1330          27  "
      ]
     },
     "execution_count": 9,
     "metadata": {},
     "output_type": "execute_result"
    }
   ],
   "source": [
    "df.sample(2)"
   ]
  },
  {
   "cell_type": "markdown",
   "id": "98f6384f",
   "metadata": {},
   "source": [
    "## собираем и чистим данные"
   ]
  },
  {
   "cell_type": "code",
   "execution_count": 7,
   "id": "c49bb8ff",
   "metadata": {},
   "outputs": [
    {
     "data": {
      "text/plain": [
       "['data/raw//avito_2022-09-02_13-04_raw.xlsx',\n",
       " 'data/raw//avito_2022-09-05_14-02_raw.xlsx',\n",
       " 'data/raw//avito_2022-09-06_13-09_raw.xlsx']"
      ]
     },
     "execution_count": 7,
     "metadata": {},
     "output_type": "execute_result"
    }
   ],
   "source": [
    "import re\n",
    "from os import listdir\n",
    "\n",
    "raw_data_files = sorted([ raw_data_path+'/'+f for f in listdir(raw_data_path) if re.match(r'.+\\.xlsx$',f) ])\n",
    "raw_data_files"
   ]
  },
  {
   "cell_type": "code",
   "execution_count": 8,
   "id": "304f91a4",
   "metadata": {},
   "outputs": [
    {
     "name": "stdout",
     "output_type": "stream",
     "text": [
      "[INFO    ] 2022-09-06 13:22:43 | AvitoDataAggRealty: 3 raw data files\n",
      "[INFO    ] 2022-09-06 13:22:44 | AvitoDataAggRealty: 11881 records\n",
      "11881\n"
     ]
    }
   ],
   "source": [
    "from lib.avito import AvitoDataAggRealty\n",
    "\n",
    "data = AvitoDataAggRealty().transform(raw_data_files)\n",
    "print(len(data))"
   ]
  },
  {
   "cell_type": "code",
   "execution_count": 9,
   "id": "ce2869e1",
   "metadata": {},
   "outputs": [],
   "source": [
    "assert len(data)>0"
   ]
  },
  {
   "cell_type": "code",
   "execution_count": 10,
   "id": "12170700",
   "metadata": {},
   "outputs": [
    {
     "data": {
      "text/html": [
       "<div>\n",
       "<style scoped>\n",
       "    .dataframe tbody tr th:only-of-type {\n",
       "        vertical-align: middle;\n",
       "    }\n",
       "\n",
       "    .dataframe tbody tr th {\n",
       "        vertical-align: top;\n",
       "    }\n",
       "\n",
       "    .dataframe thead th {\n",
       "        text-align: right;\n",
       "    }\n",
       "</style>\n",
       "<table border=\"1\" class=\"dataframe\">\n",
       "  <thead>\n",
       "    <tr style=\"text-align: right;\">\n",
       "      <th></th>\n",
       "      <th>avito_id</th>\n",
       "      <th>title</th>\n",
       "      <th>price</th>\n",
       "      <th>obj_name</th>\n",
       "      <th>adr</th>\n",
       "      <th>description</th>\n",
       "      <th>avito_page</th>\n",
       "      <th>ts</th>\n",
       "      <th>nrooms</th>\n",
       "      <th>floor</th>\n",
       "      <th>...</th>\n",
       "      <th>area</th>\n",
       "      <th>is_studio</th>\n",
       "      <th>is_apartment</th>\n",
       "      <th>is_part</th>\n",
       "      <th>is_auction</th>\n",
       "      <th>is_openspace</th>\n",
       "      <th>is_roof</th>\n",
       "      <th>is_SNT</th>\n",
       "      <th>priceM</th>\n",
       "      <th>is_last_floor</th>\n",
       "    </tr>\n",
       "  </thead>\n",
       "  <tbody>\n",
       "    <tr>\n",
       "      <th>424</th>\n",
       "      <td>2536748272</td>\n",
       "      <td>1-к. квартира, 47,5 м², 5/10 эт.</td>\n",
       "      <td>7800000</td>\n",
       "      <td>NaN</td>\n",
       "      <td>Античный проспект , 26/1</td>\n",
       "      <td>Объект №1947. \\n\\nПредлагаю к приобретению 1 комнатную квартиру в Жилом Комплексе «Жемчужина Севастополя»! \\n\\nЖилой комплекс привлекателен для современных и ведущих динамичный образ жизни людей, завораживающий вид на море и разнообразие инфраструктуры для Ваш</td>\n",
       "      <td>9</td>\n",
       "      <td>2022-09-02 13:04:00</td>\n",
       "      <td>1</td>\n",
       "      <td>5</td>\n",
       "      <td>...</td>\n",
       "      <td>47.50</td>\n",
       "      <td>False</td>\n",
       "      <td>False</td>\n",
       "      <td>False</td>\n",
       "      <td>False</td>\n",
       "      <td>False</td>\n",
       "      <td>False</td>\n",
       "      <td>False</td>\n",
       "      <td>7.80</td>\n",
       "      <td>False</td>\n",
       "    </tr>\n",
       "    <tr>\n",
       "      <th>11127</th>\n",
       "      <td>2484518108</td>\n",
       "      <td>1-к. квартира, 32 м², 2/9 эт.</td>\n",
       "      <td>6000000</td>\n",
       "      <td>NaN</td>\n",
       "      <td>проспект Героев Сталинграда, 46</td>\n",
       "      <td>Продается отличная 1ком квартира в одном из лучших районов города Севастополя. В квартире сделан ремонт, поменяны все коммуникации, окна, двери, сантехника, комната немного увеличена за счёт лоджии( не считается перепланировкой). \\n\\nВся инфраструктура в шаг</td>\n",
       "      <td>65</td>\n",
       "      <td>2022-09-06 13:09:00</td>\n",
       "      <td>1</td>\n",
       "      <td>2</td>\n",
       "      <td>...</td>\n",
       "      <td>32.00</td>\n",
       "      <td>False</td>\n",
       "      <td>False</td>\n",
       "      <td>False</td>\n",
       "      <td>False</td>\n",
       "      <td>False</td>\n",
       "      <td>False</td>\n",
       "      <td>False</td>\n",
       "      <td>6.00</td>\n",
       "      <td>False</td>\n",
       "    </tr>\n",
       "  </tbody>\n",
       "</table>\n",
       "<p>2 rows × 21 columns</p>\n",
       "</div>"
      ],
      "text/plain": [
       "         avito_id                             title    price obj_name  \\\n",
       "424    2536748272  1-к. квартира, 47,5 м², 5/10 эт.  7800000      NaN   \n",
       "11127  2484518108     1-к. квартира, 32 м², 2/9 эт.  6000000      NaN   \n",
       "\n",
       "                                    adr  \\\n",
       "424            Античный проспект , 26/1   \n",
       "11127   проспект Героев Сталинграда, 46   \n",
       "\n",
       "                                                                                                                                                                                                                                                                description  \\\n",
       "424    Объект №1947. \\n\\nПредлагаю к приобретению 1 комнатную квартиру в Жилом Комплексе «Жемчужина Севастополя»! \\n\\nЖилой комплекс привлекателен для современных и ведущих динамичный образ жизни людей, завораживающий вид на море и разнообразие инфраструктуры для Ваш   \n",
       "11127    Продается отличная 1ком квартира в одном из лучших районов города Севастополя. В квартире сделан ремонт, поменяны все коммуникации, окна, двери, сантехника, комната немного увеличена за счёт лоджии( не считается перепланировкой). \\n\\nВся инфраструктура в шаг   \n",
       "\n",
       "       avito_page                  ts  nrooms  floor  ...  area  is_studio  \\\n",
       "424             9 2022-09-02 13:04:00       1      5  ... 47.50      False   \n",
       "11127          65 2022-09-06 13:09:00       1      2  ... 32.00      False   \n",
       "\n",
       "       is_apartment  is_part  is_auction  is_openspace  is_roof is_SNT  \\\n",
       "424           False    False       False         False    False  False   \n",
       "11127         False    False       False         False    False  False   \n",
       "\n",
       "       priceM  is_last_floor  \n",
       "424      7.80          False  \n",
       "11127    6.00          False  \n",
       "\n",
       "[2 rows x 21 columns]"
      ]
     },
     "execution_count": 10,
     "metadata": {},
     "output_type": "execute_result"
    }
   ],
   "source": [
    "data.sample(2)"
   ]
  },
  {
   "cell_type": "markdown",
   "id": "2903ab86",
   "metadata": {},
   "source": [
    "### обновляем таблицу адресов"
   ]
  },
  {
   "cell_type": "code",
   "execution_count": 13,
   "id": "7d191d0d",
   "metadata": {},
   "outputs": [
    {
     "name": "stdout",
     "output_type": "stream",
     "text": [
      "[INFO    ] 2022-09-06 13:14:46 | LocationUpdater: 1672 addresses in location table\n",
      "[INFO    ] 2022-09-06 13:14:46 | LocationUpdater: 1746 addresses total\n",
      "[INFO    ] 2022-09-06 13:14:46 | LocationUpdater: 1672 addresses defined\n",
      "[INFO    ] 2022-09-06 13:14:46 | LocationUpdater: 74 addresses undefined\n"
     ]
    },
    {
     "data": {
      "application/vnd.jupyter.widget-view+json": {
       "model_id": "e8656148b20d4fce845263efe69750c2",
       "version_major": 2,
       "version_minor": 0
      },
      "text/plain": [
       "  0%|          | 0/74 [00:00<?, ?it/s]"
      ]
     },
     "metadata": {},
     "output_type": "display_data"
    },
    {
     "name": "stdout",
     "output_type": "stream",
     "text": [
      "[INFO    ] 2022-09-06 13:15:58 | LocationUpdater: 34 new addresses found\n"
     ]
    }
   ],
   "source": [
    "from lib.locator import LocationUpdater\n",
    "from lib.locator import AddressTransformerSev\n",
    "\n",
    "loc = LocationUpdater(\n",
    "        address_transformer=AddressTransformerSev(),\n",
    "    ).transform(\n",
    "        adr=data['adr'],\n",
    "        loc=pd.read_pickle(loc_file_path),\n",
    "        show_pbar=True,\n",
    "    )"
   ]
  },
  {
   "cell_type": "code",
   "execution_count": 14,
   "id": "19741bb7",
   "metadata": {},
   "outputs": [
    {
     "data": {
      "text/html": [
       "<div>\n",
       "<style scoped>\n",
       "    .dataframe tbody tr th:only-of-type {\n",
       "        vertical-align: middle;\n",
       "    }\n",
       "\n",
       "    .dataframe tbody tr th {\n",
       "        vertical-align: top;\n",
       "    }\n",
       "\n",
       "    .dataframe thead th {\n",
       "        text-align: right;\n",
       "    }\n",
       "</style>\n",
       "<table border=\"1\" class=\"dataframe\">\n",
       "  <thead>\n",
       "    <tr style=\"text-align: right;\">\n",
       "      <th></th>\n",
       "      <th>adr</th>\n",
       "      <th>latitude</th>\n",
       "      <th>longitude</th>\n",
       "      <th>truncated</th>\n",
       "    </tr>\n",
       "  </thead>\n",
       "  <tbody>\n",
       "    <tr>\n",
       "      <th>900</th>\n",
       "      <td>улица Хрусталёва, 149</td>\n",
       "      <td>44.56</td>\n",
       "      <td>33.52</td>\n",
       "      <td>False</td>\n",
       "    </tr>\n",
       "    <tr>\n",
       "      <th>89</th>\n",
       "      <td>улица Льва Толстого, 6</td>\n",
       "      <td>44.68</td>\n",
       "      <td>33.73</td>\n",
       "      <td>False</td>\n",
       "    </tr>\n",
       "    <tr>\n",
       "      <th>76</th>\n",
       "      <td>Казачья улица , 23</td>\n",
       "      <td>44.57</td>\n",
       "      <td>33.42</td>\n",
       "      <td>False</td>\n",
       "    </tr>\n",
       "  </tbody>\n",
       "</table>\n",
       "</div>"
      ],
      "text/plain": [
       "                         adr  latitude  longitude truncated\n",
       "900    улица Хрусталёва, 149     44.56      33.52     False\n",
       "89    улица Льва Толстого, 6     44.68      33.73     False\n",
       "76        Казачья улица , 23     44.57      33.42     False"
      ]
     },
     "execution_count": 14,
     "metadata": {},
     "output_type": "execute_result"
    }
   ],
   "source": [
    "loc.sample(3)"
   ]
  },
  {
   "cell_type": "code",
   "execution_count": 15,
   "id": "a90d2398",
   "metadata": {},
   "outputs": [],
   "source": [
    "assert len(loc)>0\n",
    "loc.to_pickle(loc_file_path)"
   ]
  },
  {
   "cell_type": "markdown",
   "id": "30dbd6a6",
   "metadata": {},
   "source": [
    "### дополняем данные геометкой"
   ]
  },
  {
   "cell_type": "code",
   "execution_count": 16,
   "id": "06470644",
   "metadata": {},
   "outputs": [
    {
     "name": "stdout",
     "output_type": "stream",
     "text": [
      "всего записей: 11881\n",
      "записей без геометки: 637\n"
     ]
    }
   ],
   "source": [
    "data = data.merge(loc[['adr','latitude','longitude',]],on=['adr'],how='left')\n",
    "\n",
    "print('всего записей:', len( data) )\n",
    "print('записей без геометки:', len( data[ data['latitude'].isnull() ] ) )"
   ]
  },
  {
   "cell_type": "code",
   "execution_count": 17,
   "id": "b3161e64",
   "metadata": {},
   "outputs": [],
   "source": [
    "assert len(data)>0\n",
    "data.to_pickle(result_file_path)"
   ]
  },
  {
   "cell_type": "code",
   "execution_count": 18,
   "id": "799e47c2",
   "metadata": {},
   "outputs": [
    {
     "name": "stdout",
     "output_type": "stream",
     "text": [
      "<class 'pandas.core.frame.DataFrame'>\n",
      "Int64Index: 11881 entries, 0 to 11880\n",
      "Data columns (total 23 columns):\n",
      " #   Column         Non-Null Count  Dtype         \n",
      "---  ------         --------------  -----         \n",
      " 0   avito_id       11881 non-null  int64         \n",
      " 1   title          11881 non-null  object        \n",
      " 2   price          11881 non-null  int64         \n",
      " 3   obj_name       2958 non-null   object        \n",
      " 4   adr            11881 non-null  object        \n",
      " 5   description    11869 non-null  object        \n",
      " 6   avito_page     11881 non-null  int64         \n",
      " 7   ts             11881 non-null  datetime64[ns]\n",
      " 8   nrooms         11881 non-null  int64         \n",
      " 9   floor          11881 non-null  int64         \n",
      " 10  nfloors        11881 non-null  int64         \n",
      " 11  area           11881 non-null  float64       \n",
      " 12  is_studio      11881 non-null  bool          \n",
      " 13  is_apartment   11881 non-null  bool          \n",
      " 14  is_part        11881 non-null  bool          \n",
      " 15  is_auction     11881 non-null  bool          \n",
      " 16  is_openspace   11881 non-null  bool          \n",
      " 17  is_roof        11869 non-null  object        \n",
      " 18  is_SNT         11881 non-null  bool          \n",
      " 19  priceM         11881 non-null  float64       \n",
      " 20  is_last_floor  11881 non-null  bool          \n",
      " 21  latitude       11244 non-null  float64       \n",
      " 22  longitude      11244 non-null  float64       \n",
      "dtypes: bool(7), datetime64[ns](1), float64(4), int64(6), object(5)\n",
      "memory usage: 1.6+ MB\n"
     ]
    }
   ],
   "source": [
    "data.info()"
   ]
  }
 ],
 "metadata": {
  "kernelspec": {
   "display_name": "Python 3 (ipykernel)",
   "language": "python",
   "name": "python3"
  },
  "language_info": {
   "codemirror_mode": {
    "name": "ipython",
    "version": 3
   },
   "file_extension": ".py",
   "mimetype": "text/x-python",
   "name": "python",
   "nbconvert_exporter": "python",
   "pygments_lexer": "ipython3",
   "version": "3.10.6"
  },
  "toc": {
   "base_numbering": 1,
   "nav_menu": {},
   "number_sections": true,
   "sideBar": true,
   "skip_h1_title": false,
   "title_cell": "Table of Contents",
   "title_sidebar": "Contents",
   "toc_cell": false,
   "toc_position": {},
   "toc_section_display": true,
   "toc_window_display": false
  },
  "varInspector": {
   "cols": {
    "lenName": 16,
    "lenType": 16,
    "lenVar": 40
   },
   "kernels_config": {
    "python": {
     "delete_cmd_postfix": "",
     "delete_cmd_prefix": "del ",
     "library": "var_list.py",
     "varRefreshCmd": "print(var_dic_list())"
    },
    "r": {
     "delete_cmd_postfix": ") ",
     "delete_cmd_prefix": "rm(",
     "library": "var_list.r",
     "varRefreshCmd": "cat(var_dic_list()) "
    }
   },
   "types_to_exclude": [
    "module",
    "function",
    "builtin_function_or_method",
    "instance",
    "_Feature"
   ],
   "window_display": false
  }
 },
 "nbformat": 4,
 "nbformat_minor": 5
}
