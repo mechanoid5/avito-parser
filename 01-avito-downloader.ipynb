{
 "cells": [
  {
   "cell_type": "markdown",
   "id": "f79cec14",
   "metadata": {},
   "source": [
    "__качаем объявления о продаже недвижимости с avito.ru__\n",
    "\n",
    "_Evgeny S. Borisov <parser@mechanoid.su>_"
   ]
  },
  {
   "cell_type": "code",
   "execution_count": 1,
   "id": "ceabc62f",
   "metadata": {},
   "outputs": [],
   "source": [
    "import logging\n",
    "import sys \n",
    "\n",
    "logging.basicConfig(\n",
    "        format=u'[%(levelname)-8s] %(asctime)s | %(message)s',\n",
    "        datefmt='%Y-%m-%d %H:%M:%S',\n",
    "        level=logging.INFO,\n",
    "        # level=logging.DEBUG,\n",
    "        stream=sys.stdout,\n",
    "    )"
   ]
  },
  {
   "cell_type": "code",
   "execution_count": 2,
   "id": "23172c9b",
   "metadata": {},
   "outputs": [],
   "source": [
    "from time import sleep\n",
    "from tqdm.auto import tqdm\n",
    "import pandas as pd\n",
    "from datetime import datetime \n",
    "\n",
    "pd.set_option('display.max_colwidth', None)\n",
    "pd.set_option('display.float_format', '{:.2f}'.format)\n",
    "tqdm.pandas()"
   ]
  },
  {
   "cell_type": "code",
   "execution_count": 3,
   "id": "45ea7901-9582-4a84-b5cc-153e74247e6f",
   "metadata": {},
   "outputs": [],
   "source": [
    "# !mkdir -p data/2024/raw/flat-arenda/avito"
   ]
  },
  {
   "cell_type": "code",
   "execution_count": 4,
   "id": "97d83b45",
   "metadata": {},
   "outputs": [],
   "source": [
    "source = [\n",
    "    # {\n",
    "    #         'place': 'sevastopol',\n",
    "    #     'subfolder': 'flat-arenda',\n",
    "    #           'url': 'https://www.avito.ru/sevastopol/kvartiry/sdam/na_dlitelnyy_srok'\n",
    "    # },\n",
    "    {\n",
    "            'place': 'sevastopol',\n",
    "        'subfolder': 'flat',\n",
    "              'url': 'https://www.avito.ru/sevastopol/kvartiry/prodam',\n",
    "    },{\n",
    "            'place': 'sevastopol',\n",
    "        'subfolder': 'land',\n",
    "              'url': 'https://www.avito.ru/sevastopol/zemelnye_uchastki/prodam',\n",
    "    },{\n",
    "            'place': 'sevastopol',\n",
    "        'subfolder': 'house',\n",
    "              'url': 'https://www.avito.ru/sevastopol/doma_dachi_kottedzhi/prodam',\n",
    "    },\n",
    "    {\n",
    "            'place': 'sudak',\n",
    "        'subfolder': 'flat',\n",
    "              'url': 'https://www.avito.ru/sudak/kvartiry/prodam',\n",
    "    },\n",
    "    {\n",
    "            'place': 'sudak',\n",
    "        'subfolder': 'land',\n",
    "              'url': 'https://www.avito.ru/sudak/zemelnye_uchastki/prodam',\n",
    "    },{\n",
    "            'place': 'sudak',\n",
    "        'subfolder': 'house',\n",
    "              'url': 'https://www.avito.ru/sudak/doma_dachi_kottedzhi/prodam',\n",
    "    },\n",
    "#     {\n",
    "#             'place': 'bahchisaray',\n",
    "#         'subfolder': 'flat',\n",
    "#               'url': 'https://www.avito.ru/bahchisaray/kvartiry/prodam',\n",
    "#     }, \n",
    "    {\n",
    "            'place': 'bahchisaray',\n",
    "        'subfolder': 'land',\n",
    "              'url': 'https://www.avito.ru/bahchisaray/zemelnye_uchastki/prodam',\n",
    "    },{\n",
    "            'place': 'bahchisaray',\n",
    "        'subfolder': 'house',\n",
    "              'url': 'https://www.avito.ru/bahchisaray/doma_dachi_kottedzhi/prodam',\n",
    "    },\n",
    "\n",
    "]"
   ]
  },
  {
   "cell_type": "markdown",
   "id": "749d8645",
   "metadata": {},
   "source": [
    "---"
   ]
  },
  {
   "cell_type": "code",
   "execution_count": 5,
   "id": "b92abbe2",
   "metadata": {},
   "outputs": [],
   "source": [
    "# from selenium import webdriver\n",
    "# from lib.avito import AvitoPageParser\n",
    "\n",
    "# browser = webdriver.Firefox()\n",
    "# browser.get(source[0]['url'])\n",
    "# data = AvitoPageParser().transform(browser)\n",
    "# # browser.close()"
   ]
  },
  {
   "cell_type": "code",
   "execution_count": 6,
   "id": "13a281e0",
   "metadata": {},
   "outputs": [],
   "source": [
    "# browser.close()"
   ]
  },
  {
   "cell_type": "code",
   "execution_count": 7,
   "id": "8e955d4b",
   "metadata": {},
   "outputs": [],
   "source": [
    "# data"
   ]
  },
  {
   "cell_type": "markdown",
   "id": "f5e2ebb2",
   "metadata": {},
   "source": [
    "---"
   ]
  },
  {
   "cell_type": "code",
   "execution_count": 8,
   "id": "863ee8e4",
   "metadata": {},
   "outputs": [],
   "source": [
    "from selenium import webdriver\n",
    "# from selenium.webdriver.common.by import By\n",
    "from lib.avito import AvitoParser"
   ]
  },
  {
   "cell_type": "code",
   "execution_count": 9,
   "id": "6520cd59",
   "metadata": {},
   "outputs": [],
   "source": [
    "dest_folder = 'data/2024/raw'"
   ]
  },
  {
   "cell_type": "code",
   "execution_count": 10,
   "id": "8872059a",
   "metadata": {},
   "outputs": [
    {
     "name": "stdout",
     "output_type": "stream",
     "text": [
      "[INFO    ] 2024-10-15 11:46:32 | open virtual browser\n"
     ]
    },
    {
     "data": {
      "text/plain": [
       "'https://www.avito.ru/sevastopol/kvartiry/sdam/na_dlitelnyy_srok'"
      ]
     },
     "metadata": {},
     "output_type": "display_data"
    },
    {
     "name": "stdout",
     "output_type": "stream",
     "text": [
      "[INFO    ] 2024-10-15 11:46:46 | page 1: 50 items\n",
      "[INFO    ] 2024-10-15 11:46:56 | page 2: 50 items\n",
      "[INFO    ] 2024-10-15 11:47:05 | page 3: 50 items\n",
      "[INFO    ] 2024-10-15 11:47:14 | page 4: 50 items\n",
      "[INFO    ] 2024-10-15 11:47:23 | page 5: 50 items\n",
      "[INFO    ] 2024-10-15 11:47:34 | page 6: 50 items\n",
      "[INFO    ] 2024-10-15 11:47:43 | page 7: 50 items\n",
      "[INFO    ] 2024-10-15 11:47:52 | page 8: 50 items\n",
      "[INFO    ] 2024-10-15 11:48:01 | page 9: 50 items\n",
      "[INFO    ] 2024-10-15 11:48:09 | page 10: 50 items\n",
      "[INFO    ] 2024-10-15 11:48:18 | page 11: 50 items\n",
      "[INFO    ] 2024-10-15 11:48:27 | page 12: 50 items\n",
      "[INFO    ] 2024-10-15 11:48:37 | page 13: 50 items\n",
      "[INFO    ] 2024-10-15 11:48:47 | page 14: 50 items\n",
      "[INFO    ] 2024-10-15 11:48:57 | page 15: 50 items\n",
      "[INFO    ] 2024-10-15 11:49:06 | page 16: 50 items\n",
      "[INFO    ] 2024-10-15 11:49:16 | page 17: 50 items\n",
      "[INFO    ] 2024-10-15 11:49:25 | page 18: 50 items\n",
      "[INFO    ] 2024-10-15 11:49:32 | page 19: 37 items\n"
     ]
    },
    {
     "data": {
      "text/plain": [
       "937"
      ]
     },
     "metadata": {},
     "output_type": "display_data"
    },
    {
     "data": {
      "text/plain": [
       "'data/2024/raw/flat-arenda/avito/avito_2024-10-15_11-49_raw_sevastopol.pkl'"
      ]
     },
     "metadata": {},
     "output_type": "display_data"
    },
    {
     "name": "stdout",
     "output_type": "stream",
     "text": [
      "CPU times: user 21.8 s, sys: 941 ms, total: 22.8 s\n",
      "Wall time: 3min 4s\n"
     ]
    }
   ],
   "source": [
    "%%time \n",
    "\n",
    "\n",
    "options = webdriver.FirefoxOptions()\n",
    "#options.headless = True\n",
    "browser = webdriver.Firefox(options=options)\n",
    "logging.info('open virtual browser')\n",
    "\n",
    "for s in source:\n",
    "\n",
    "    url = s['url']\n",
    "    place = s['place']\n",
    "    subfolder = s['subfolder'] \n",
    "    \n",
    "    display(url)\n",
    "    browser.get(url)\n",
    "    sleep(3)\n",
    "    \n",
    "    data = AvitoParser().transform(browser)\n",
    "    assert len(data)>0\n",
    "    \n",
    "    df = pd.DataFrame(data)\n",
    "    df['ts'] = datetime.now()\n",
    "    df['place'] = place\n",
    "\n",
    "    display( len(df) )\n",
    "    t_now = datetime.now().strftime('%Y-%m-%d_%H-%M')\n",
    "    fname = f'{dest_folder}/{subfolder}/avito/avito_{t_now}_raw_{place}.pkl'\n",
    "    df.to_pickle(fname)\n",
    "    display( fname )\n",
    "\n",
    "browser.close()"
   ]
  },
  {
   "cell_type": "code",
   "execution_count": 11,
   "id": "a98a46de",
   "metadata": {},
   "outputs": [],
   "source": [
    "# browser.close()"
   ]
  },
  {
   "cell_type": "code",
   "execution_count": 12,
   "id": "e97e319b",
   "metadata": {},
   "outputs": [
    {
     "name": "stdout",
     "output_type": "stream",
     "text": [
      "Вт 15 окт 2024 11:49:35 MSK\n"
     ]
    }
   ],
   "source": [
    "!date"
   ]
  },
  {
   "cell_type": "code",
   "execution_count": null,
   "id": "0fcca2ff",
   "metadata": {},
   "outputs": [],
   "source": []
  }
 ],
 "metadata": {
  "kernelspec": {
   "display_name": "Python 3 (ipykernel)",
   "language": "python",
   "name": "python3"
  },
  "language_info": {
   "codemirror_mode": {
    "name": "ipython",
    "version": 3
   },
   "file_extension": ".py",
   "mimetype": "text/x-python",
   "name": "python",
   "nbconvert_exporter": "python",
   "pygments_lexer": "ipython3",
   "version": "3.12.6"
  }
 },
 "nbformat": 4,
 "nbformat_minor": 5
}
