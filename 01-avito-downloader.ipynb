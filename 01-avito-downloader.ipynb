{
 "cells": [
  {
   "cell_type": "code",
   "execution_count": 1,
   "id": "52c5999f",
   "metadata": {},
   "outputs": [],
   "source": [
    "# !pacman -S firefox firefox-i18n-r  geckodriver\n",
    "# !pip install selenium"
   ]
  },
  {
   "cell_type": "code",
   "execution_count": 2,
   "id": "caabc8c7",
   "metadata": {
    "ExecuteTime": {
     "end_time": "2022-08-26T14:19:06.118492Z",
     "start_time": "2022-08-26T14:13:37.888398Z"
    }
   },
   "outputs": [],
   "source": [
    "# import re\n",
    "from datetime import datetime as dt\n",
    "from tqdm.notebook import tqdm\n",
    "import pandas as pd"
   ]
  },
  {
   "cell_type": "code",
   "execution_count": 3,
   "id": "55d1fe22",
   "metadata": {},
   "outputs": [],
   "source": [
    "import sys\n",
    "import logging\n",
    "\n",
    "logging.basicConfig(\n",
    "        format=u'[%(levelname)-8s] %(asctime)s | %(message)s',\n",
    "        datefmt='%Y-%m-%d %H:%M:%S',\n",
    "        level=logging.INFO,\n",
    "        # level=logging.DEBUG,\n",
    "        stream=sys.stdout,\n",
    "    )"
   ]
  },
  {
   "cell_type": "code",
   "execution_count": 4,
   "id": "b8191f80",
   "metadata": {},
   "outputs": [],
   "source": [
    "pd.set_option('display.max_colwidth', None)\n",
    "pd.set_option('display.float_format', '{:.2f}'.format)"
   ]
  },
  {
   "cell_type": "code",
   "execution_count": 5,
   "id": "d437eab9",
   "metadata": {},
   "outputs": [],
   "source": [
    "profile_path = '/home/mechanoid/.mozilla/firefox/p144xo2m.default-release'\n",
    "\n",
    "# url = (\n",
    "# 'https://www.avito.ru/yaroslavskaya_oblast/avtomobili/chevrolet/niva'\n",
    "# '?bt=0'\n",
    "# '&i=1'\n",
    "# '&pmax=150000'\n",
    "# '&pmin=10000'\n",
    "# )\n",
    "\n",
    "url = 'https://www.avito.ru/sevastopol/kvartiry/prodam?'# '&pmax=5000000'"
   ]
  },
  {
   "cell_type": "markdown",
   "id": "4e364996",
   "metadata": {},
   "source": [
    "---"
   ]
  },
  {
   "cell_type": "code",
   "execution_count": 8,
   "id": "710d5e93",
   "metadata": {},
   "outputs": [],
   "source": [
    "# from lib.avito import AvitoDownloader\n",
    "\n",
    "# df, html = AvitoDownloader(profile_path).load(url,page_limit=3)"
   ]
  },
  {
   "cell_type": "markdown",
   "id": "1ebb4e21",
   "metadata": {},
   "source": [
    "----"
   ]
  },
  {
   "cell_type": "code",
   "execution_count": null,
   "id": "bcd426ee",
   "metadata": {},
   "outputs": [],
   "source": [
    "%%time \n",
    "\n",
    "from lib.avito import AvitoDownloaderRealty\n",
    "\n",
    "df, html = AvitoDownloaderRealty(profile_path).load(url)\n",
    "df.sample(5)"
   ]
  },
  {
   "cell_type": "code",
   "execution_count": null,
   "id": "51bdac62",
   "metadata": {},
   "outputs": [],
   "source": [
    "# for i,h in enumerate(html): \n",
    "#     with open(f'tmp/{i:02d}.html','wt') as f: \n",
    "#         f.write(h)"
   ]
  },
  {
   "cell_type": "code",
   "execution_count": null,
   "id": "7f95cc52",
   "metadata": {},
   "outputs": [],
   "source": [
    "ts = dt.now().strftime('%Y-%m-%d_%H-%M')\n",
    "df.to_excel(f'data/avito_{ts}_raw.xlsx',index=False)\n",
    "\n",
    "ts"
   ]
  },
  {
   "cell_type": "markdown",
   "id": "123e6776",
   "metadata": {},
   "source": [
    "----"
   ]
  },
  {
   "cell_type": "code",
   "execution_count": null,
   "id": "fc8dfd17",
   "metadata": {},
   "outputs": [],
   "source": [
    "from lib.avito import AvitoDataCleanerRealty"
   ]
  },
  {
   "cell_type": "code",
   "execution_count": null,
   "id": "48912d80",
   "metadata": {},
   "outputs": [],
   "source": [
    "df_ = AvitoDataCleanerRealty.transform(df)\n",
    "df_"
   ]
  },
  {
   "cell_type": "code",
   "execution_count": null,
   "id": "f513c10e",
   "metadata": {
    "ExecuteTime": {
     "end_time": "2022-08-26T14:29:36.194793Z",
     "start_time": "2022-08-26T14:29:35.375269Z"
    }
   },
   "outputs": [],
   "source": [
    "ts = dt.now().strftime('%Y-%m-%d_%H-%M')\n",
    "df_.to_excel(f'data/avito_{ts}.xlsx',index=False)\n",
    "\n",
    "ts"
   ]
  },
  {
   "cell_type": "markdown",
   "id": "ea2cd6b1",
   "metadata": {},
   "source": [
    "-----"
   ]
  }
 ],
 "metadata": {
  "kernelspec": {
   "display_name": "Python 3 (ipykernel)",
   "language": "python",
   "name": "python3"
  },
  "language_info": {
   "codemirror_mode": {
    "name": "ipython",
    "version": 3
   },
   "file_extension": ".py",
   "mimetype": "text/x-python",
   "name": "python",
   "nbconvert_exporter": "python",
   "pygments_lexer": "ipython3",
   "version": "3.10.6"
  },
  "toc": {
   "base_numbering": 1,
   "nav_menu": {},
   "number_sections": true,
   "sideBar": true,
   "skip_h1_title": false,
   "title_cell": "Table of Contents",
   "title_sidebar": "Contents",
   "toc_cell": false,
   "toc_position": {},
   "toc_section_display": true,
   "toc_window_display": false
  },
  "varInspector": {
   "cols": {
    "lenName": 16,
    "lenType": 16,
    "lenVar": 40
   },
   "kernels_config": {
    "python": {
     "delete_cmd_postfix": "",
     "delete_cmd_prefix": "del ",
     "library": "var_list.py",
     "varRefreshCmd": "print(var_dic_list())"
    },
    "r": {
     "delete_cmd_postfix": ") ",
     "delete_cmd_prefix": "rm(",
     "library": "var_list.r",
     "varRefreshCmd": "cat(var_dic_list()) "
    }
   },
   "types_to_exclude": [
    "module",
    "function",
    "builtin_function_or_method",
    "instance",
    "_Feature"
   ],
   "window_display": false
  }
 },
 "nbformat": 4,
 "nbformat_minor": 5
}
