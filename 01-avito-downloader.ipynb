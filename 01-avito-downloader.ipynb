{
 "cells": [
  {
   "cell_type": "markdown",
   "id": "f79cec14",
   "metadata": {},
   "source": [
    "__качаем объявления о продаже недвижимости с avito.ru__\n",
    "\n",
    "_Evgeny S. Borisov <parser@mechanoid.su>_"
   ]
  },
  {
   "cell_type": "code",
   "execution_count": 1,
   "id": "ceabc62f",
   "metadata": {},
   "outputs": [],
   "source": [
    "import logging\n",
    "import sys \n",
    "\n",
    "logging.basicConfig(\n",
    "        format=u'[%(levelname)-8s] %(asctime)s | %(message)s',\n",
    "        datefmt='%Y-%m-%d %H:%M:%S',\n",
    "        level=logging.INFO,\n",
    "        # level=logging.DEBUG,\n",
    "        stream=sys.stdout,\n",
    "    )"
   ]
  },
  {
   "cell_type": "code",
   "execution_count": 2,
   "id": "23172c9b",
   "metadata": {},
   "outputs": [],
   "source": [
    "from time import sleep\n",
    "from tqdm.auto import tqdm\n",
    "import pandas as pd\n",
    "from datetime import datetime \n",
    "\n",
    "pd.set_option('display.max_colwidth', None)\n",
    "pd.set_option('display.float_format', '{:.2f}'.format)\n",
    "tqdm.pandas()"
   ]
  },
  {
   "cell_type": "code",
   "execution_count": 3,
   "id": "97d83b45",
   "metadata": {},
   "outputs": [],
   "source": [
    "source = [\n",
    "    {\n",
    "            'place': 'sevastopol',\n",
    "        'subfolder': 'flat',\n",
    "              'url': 'https://www.avito.ru/sevastopol/kvartiry/prodam',\n",
    "    },{\n",
    "            'place': 'sevastopol',\n",
    "        'subfolder': 'land',\n",
    "              'url': 'https://www.avito.ru/sevastopol/zemelnye_uchastki/prodam',\n",
    "    },{\n",
    "            'place': 'sevastopol',\n",
    "        'subfolder': 'house',\n",
    "              'url': 'https://www.avito.ru/sevastopol/doma_dachi_kottedzhi/prodam',\n",
    "    },\n",
    "    {\n",
    "            'place': 'sudak',\n",
    "        'subfolder': 'flat',\n",
    "              'url': 'https://www.avito.ru/sudak/kvartiry/prodam',\n",
    "    },\n",
    "    {\n",
    "            'place': 'sudak',\n",
    "        'subfolder': 'land',\n",
    "              'url': 'https://www.avito.ru/sudak/zemelnye_uchastki/prodam',\n",
    "    },{\n",
    "            'place': 'sudak',\n",
    "        'subfolder': 'house',\n",
    "              'url': 'https://www.avito.ru/sudak/doma_dachi_kottedzhi/prodam',\n",
    "    },\n",
    "#     {\n",
    "#             'place': 'bahchisaray',\n",
    "#         'subfolder': 'flat',\n",
    "#               'url': 'https://www.avito.ru/bahchisaray/kvartiry/prodam',\n",
    "#     }, \n",
    "    {\n",
    "            'place': 'bahchisaray',\n",
    "        'subfolder': 'land',\n",
    "              'url': 'https://www.avito.ru/bahchisaray/zemelnye_uchastki/prodam',\n",
    "    },{\n",
    "            'place': 'bahchisaray',\n",
    "        'subfolder': 'house',\n",
    "              'url': 'https://www.avito.ru/bahchisaray/doma_dachi_kottedzhi/prodam',\n",
    "    },\n",
    "\n",
    "]"
   ]
  },
  {
   "cell_type": "markdown",
   "id": "749d8645",
   "metadata": {},
   "source": [
    "---"
   ]
  },
  {
   "cell_type": "code",
   "execution_count": 4,
   "id": "b92abbe2",
   "metadata": {},
   "outputs": [],
   "source": [
    "# from selenium import webdriver\n",
    "# from lib.avito import AvitoPageParser\n",
    "\n",
    "# browser = webdriver.Firefox()\n",
    "# browser.get(source[0]['url'])\n",
    "# data = AvitoPageParser().transform(browser)\n",
    "# # browser.close()"
   ]
  },
  {
   "cell_type": "code",
   "execution_count": 5,
   "id": "13a281e0",
   "metadata": {},
   "outputs": [],
   "source": [
    "# browser.close()"
   ]
  },
  {
   "cell_type": "code",
   "execution_count": 6,
   "id": "8e955d4b",
   "metadata": {},
   "outputs": [],
   "source": [
    "# data"
   ]
  },
  {
   "cell_type": "markdown",
   "id": "f5e2ebb2",
   "metadata": {},
   "source": [
    "---"
   ]
  },
  {
   "cell_type": "code",
   "execution_count": 7,
   "id": "863ee8e4",
   "metadata": {},
   "outputs": [],
   "source": [
    "from selenium import webdriver\n",
    "# from selenium.webdriver.common.by import By\n",
    "from lib.avito import AvitoParser"
   ]
  },
  {
   "cell_type": "code",
   "execution_count": 8,
   "id": "6520cd59",
   "metadata": {},
   "outputs": [],
   "source": [
    "dest_folder = 'data/2024/raw'"
   ]
  },
  {
   "cell_type": "code",
   "execution_count": 9,
   "id": "8872059a",
   "metadata": {
    "scrolled": false
   },
   "outputs": [
    {
     "name": "stdout",
     "output_type": "stream",
     "text": [
      "[INFO    ] 2024-07-08 13:13:03 | open virtual browser\n"
     ]
    },
    {
     "data": {
      "text/plain": [
       "'https://www.avito.ru/sevastopol/kvartiry/prodam'"
      ]
     },
     "metadata": {},
     "output_type": "display_data"
    },
    {
     "name": "stdout",
     "output_type": "stream",
     "text": [
      "[INFO    ] 2024-07-08 13:13:16 | page 1: 53 items\n",
      "[INFO    ] 2024-07-08 13:13:27 | page 2: 50 items\n",
      "[INFO    ] 2024-07-08 13:13:40 | page 3: 50 items\n",
      "[INFO    ] 2024-07-08 13:13:51 | page 4: 50 items\n",
      "[INFO    ] 2024-07-08 13:14:00 | page 5: 50 items\n",
      "[INFO    ] 2024-07-08 13:14:10 | page 6: 50 items\n",
      "[INFO    ] 2024-07-08 13:14:19 | page 7: 50 items\n",
      "[INFO    ] 2024-07-08 13:14:29 | page 8: 50 items\n",
      "[INFO    ] 2024-07-08 13:14:39 | page 9: 50 items\n",
      "[INFO    ] 2024-07-08 13:14:50 | page 10: 50 items\n",
      "[INFO    ] 2024-07-08 13:15:00 | page 11: 50 items\n",
      "[INFO    ] 2024-07-08 13:15:09 | page 12: 50 items\n",
      "[INFO    ] 2024-07-08 13:15:19 | page 13: 50 items\n",
      "[INFO    ] 2024-07-08 13:15:30 | page 14: 50 items\n",
      "[INFO    ] 2024-07-08 13:15:40 | page 15: 50 items\n",
      "[INFO    ] 2024-07-08 13:15:49 | page 16: 50 items\n",
      "[INFO    ] 2024-07-08 13:16:00 | page 17: 50 items\n",
      "[INFO    ] 2024-07-08 13:16:11 | page 18: 50 items\n",
      "[INFO    ] 2024-07-08 13:16:21 | page 19: 50 items\n",
      "[INFO    ] 2024-07-08 13:16:31 | page 20: 50 items\n",
      "[INFO    ] 2024-07-08 13:16:41 | page 21: 50 items\n",
      "[INFO    ] 2024-07-08 13:16:52 | page 22: 49 items\n",
      "[INFO    ] 2024-07-08 13:17:02 | page 23: 50 items\n",
      "[INFO    ] 2024-07-08 13:17:13 | page 24: 48 items\n",
      "[INFO    ] 2024-07-08 13:17:24 | page 25: 48 items\n",
      "[INFO    ] 2024-07-08 13:17:35 | page 26: 48 items\n",
      "[INFO    ] 2024-07-08 13:17:46 | page 27: 50 items\n",
      "[INFO    ] 2024-07-08 13:17:56 | page 28: 48 items\n",
      "[INFO    ] 2024-07-08 13:18:06 | page 29: 47 items\n",
      "[INFO    ] 2024-07-08 13:18:17 | page 30: 50 items\n",
      "[INFO    ] 2024-07-08 13:18:28 | page 31: 48 items\n",
      "[INFO    ] 2024-07-08 13:18:38 | page 32: 48 items\n",
      "[INFO    ] 2024-07-08 13:18:50 | page 33: 48 items\n",
      "[INFO    ] 2024-07-08 13:19:00 | page 34: 47 items\n",
      "[INFO    ] 2024-07-08 13:19:10 | page 35: 45 items\n",
      "[INFO    ] 2024-07-08 13:19:20 | page 36: 47 items\n",
      "[INFO    ] 2024-07-08 13:19:30 | page 37: 45 items\n",
      "[INFO    ] 2024-07-08 13:19:41 | page 38: 46 items\n",
      "[INFO    ] 2024-07-08 13:19:52 | page 39: 47 items\n",
      "[INFO    ] 2024-07-08 13:20:02 | page 40: 47 items\n",
      "[INFO    ] 2024-07-08 13:20:12 | page 41: 46 items\n",
      "[INFO    ] 2024-07-08 13:20:23 | page 42: 47 items\n",
      "[INFO    ] 2024-07-08 13:20:33 | page 43: 48 items\n",
      "[INFO    ] 2024-07-08 13:20:43 | page 44: 50 items\n",
      "[INFO    ] 2024-07-08 13:20:55 | page 45: 50 items\n",
      "[INFO    ] 2024-07-08 13:21:06 | page 46: 50 items\n",
      "[INFO    ] 2024-07-08 13:21:17 | page 47: 50 items\n",
      "[INFO    ] 2024-07-08 13:21:27 | page 48: 50 items\n",
      "[INFO    ] 2024-07-08 13:21:39 | page 49: 50 items\n",
      "[INFO    ] 2024-07-08 13:21:50 | page 50: 49 items\n",
      "[INFO    ] 2024-07-08 13:22:01 | page 51: 50 items\n",
      "[INFO    ] 2024-07-08 13:22:11 | page 52: 50 items\n",
      "[INFO    ] 2024-07-08 13:22:23 | page 53: 50 items\n",
      "[INFO    ] 2024-07-08 13:22:33 | page 54: 47 items\n",
      "[INFO    ] 2024-07-08 13:22:42 | page 55: 43 items\n",
      "[INFO    ] 2024-07-08 13:22:51 | page 56: 40 items\n",
      "[INFO    ] 2024-07-08 13:23:01 | page 57: 42 items\n",
      "[INFO    ] 2024-07-08 13:23:10 | page 58: 43 items\n",
      "[INFO    ] 2024-07-08 13:23:20 | page 59: 48 items\n",
      "[INFO    ] 2024-07-08 13:23:31 | page 60: 47 items\n",
      "[INFO    ] 2024-07-08 13:23:41 | page 61: 46 items\n",
      "[INFO    ] 2024-07-08 13:23:52 | page 62: 47 items\n",
      "[INFO    ] 2024-07-08 13:24:03 | page 63: 48 items\n",
      "[INFO    ] 2024-07-08 13:24:14 | page 64: 48 items\n",
      "[INFO    ] 2024-07-08 13:24:24 | page 65: 45 items\n",
      "[INFO    ] 2024-07-08 13:24:34 | page 66: 46 items\n",
      "[INFO    ] 2024-07-08 13:24:44 | page 67: 43 items\n",
      "[INFO    ] 2024-07-08 13:24:53 | page 68: 41 items\n",
      "[INFO    ] 2024-07-08 13:25:02 | page 69: 40 items\n",
      "[INFO    ] 2024-07-08 13:25:11 | page 70: 41 items\n",
      "[INFO    ] 2024-07-08 13:25:20 | page 71: 43 items\n",
      "[INFO    ] 2024-07-08 13:25:30 | page 72: 43 items\n",
      "[INFO    ] 2024-07-08 13:25:40 | page 73: 45 items\n",
      "[INFO    ] 2024-07-08 13:25:50 | page 74: 47 items\n",
      "[INFO    ] 2024-07-08 13:26:00 | page 75: 46 items\n",
      "[INFO    ] 2024-07-08 13:26:10 | page 76: 45 items\n",
      "[INFO    ] 2024-07-08 13:26:20 | page 77: 46 items\n",
      "[INFO    ] 2024-07-08 13:26:31 | page 78: 46 items\n",
      "[INFO    ] 2024-07-08 13:26:40 | page 79: 44 items\n",
      "[INFO    ] 2024-07-08 13:26:50 | page 80: 43 items\n",
      "[INFO    ] 2024-07-08 13:26:59 | page 81: 44 items\n",
      "[INFO    ] 2024-07-08 13:27:08 | page 82: 37 items\n",
      "[INFO    ] 2024-07-08 13:27:14 | page 83: 24 items\n",
      "[INFO    ] 2024-07-08 13:27:22 | page 84: 38 items\n",
      "[INFO    ] 2024-07-08 13:27:31 | page 85: 38 items\n",
      "[INFO    ] 2024-07-08 13:27:41 | page 86: 47 items\n",
      "[INFO    ] 2024-07-08 13:27:51 | page 87: 41 items\n",
      "[INFO    ] 2024-07-08 13:28:02 | page 88: 50 items\n",
      "[INFO    ] 2024-07-08 13:28:13 | page 89: 50 items\n",
      "[INFO    ] 2024-07-08 13:28:23 | page 90: 49 items\n",
      "[INFO    ] 2024-07-08 13:28:31 | page 91: 37 items\n",
      "[INFO    ] 2024-07-08 13:28:42 | page 92: 50 items\n",
      "[INFO    ] 2024-07-08 13:28:53 | page 93: 50 items\n",
      "[INFO    ] 2024-07-08 13:29:04 | page 94: 50 items\n",
      "[INFO    ] 2024-07-08 13:29:07 | page 95: 7 items\n"
     ]
    },
    {
     "data": {
      "text/plain": [
       "4414"
      ]
     },
     "metadata": {},
     "output_type": "display_data"
    },
    {
     "data": {
      "text/plain": [
       "'data/2024/raw/flat/avito/avito_2024-07-08_13-29_raw_sevastopol.pkl'"
      ]
     },
     "metadata": {},
     "output_type": "display_data"
    },
    {
     "data": {
      "text/plain": [
       "'https://www.avito.ru/sevastopol/zemelnye_uchastki/prodam'"
      ]
     },
     "metadata": {},
     "output_type": "display_data"
    },
    {
     "name": "stdout",
     "output_type": "stream",
     "text": [
      "[INFO    ] 2024-07-08 13:29:17 | page 1: 50 items\n",
      "[INFO    ] 2024-07-08 13:29:25 | page 2: 50 items\n",
      "[INFO    ] 2024-07-08 13:29:34 | page 3: 50 items\n",
      "[INFO    ] 2024-07-08 13:29:41 | page 4: 50 items\n",
      "[INFO    ] 2024-07-08 13:29:49 | page 5: 50 items\n",
      "[INFO    ] 2024-07-08 13:29:56 | page 6: 50 items\n",
      "[INFO    ] 2024-07-08 13:30:04 | page 7: 50 items\n",
      "[INFO    ] 2024-07-08 13:30:13 | page 8: 50 items\n",
      "[INFO    ] 2024-07-08 13:30:21 | page 9: 50 items\n",
      "[INFO    ] 2024-07-08 13:30:29 | page 10: 50 items\n",
      "[INFO    ] 2024-07-08 13:30:38 | page 11: 50 items\n",
      "[INFO    ] 2024-07-08 13:30:46 | page 12: 50 items\n",
      "[INFO    ] 2024-07-08 13:30:55 | page 13: 50 items\n",
      "[INFO    ] 2024-07-08 13:31:03 | page 14: 50 items\n",
      "[INFO    ] 2024-07-08 13:31:11 | page 15: 50 items\n",
      "[INFO    ] 2024-07-08 13:31:20 | page 16: 50 items\n",
      "[INFO    ] 2024-07-08 13:31:28 | page 17: 50 items\n",
      "[INFO    ] 2024-07-08 13:31:37 | page 18: 50 items\n",
      "[INFO    ] 2024-07-08 13:31:47 | page 19: 50 items\n",
      "[INFO    ] 2024-07-08 13:31:56 | page 20: 50 items\n",
      "[INFO    ] 2024-07-08 13:32:06 | page 21: 50 items\n",
      "[INFO    ] 2024-07-08 13:32:16 | page 22: 50 items\n",
      "[INFO    ] 2024-07-08 13:32:26 | page 23: 50 items\n",
      "[INFO    ] 2024-07-08 13:32:36 | page 24: 50 items\n",
      "[INFO    ] 2024-07-08 13:32:46 | page 25: 50 items\n",
      "[INFO    ] 2024-07-08 13:32:56 | page 26: 50 items\n",
      "[INFO    ] 2024-07-08 13:33:06 | page 27: 50 items\n",
      "[INFO    ] 2024-07-08 13:33:16 | page 28: 50 items\n",
      "[INFO    ] 2024-07-08 13:33:25 | page 29: 50 items\n",
      "[INFO    ] 2024-07-08 13:33:35 | page 30: 50 items\n",
      "[INFO    ] 2024-07-08 13:33:45 | page 31: 50 items\n",
      "[INFO    ] 2024-07-08 13:33:55 | page 32: 50 items\n",
      "[INFO    ] 2024-07-08 13:34:05 | page 33: 50 items\n",
      "[INFO    ] 2024-07-08 13:34:14 | page 34: 50 items\n",
      "[INFO    ] 2024-07-08 13:34:24 | page 35: 50 items\n",
      "[INFO    ] 2024-07-08 13:34:34 | page 36: 50 items\n",
      "[INFO    ] 2024-07-08 13:34:44 | page 37: 50 items\n",
      "[INFO    ] 2024-07-08 13:34:54 | page 38: 50 items\n",
      "[INFO    ] 2024-07-08 13:35:06 | page 39: 50 items\n",
      "[INFO    ] 2024-07-08 13:35:15 | page 40: 50 items\n",
      "[INFO    ] 2024-07-08 13:35:25 | page 41: 50 items\n",
      "[INFO    ] 2024-07-08 13:35:35 | page 42: 50 items\n",
      "[INFO    ] 2024-07-08 13:35:45 | page 43: 50 items\n",
      "[INFO    ] 2024-07-08 13:35:55 | page 44: 50 items\n",
      "[INFO    ] 2024-07-08 13:36:06 | page 45: 48 items\n"
     ]
    },
    {
     "data": {
      "text/plain": [
       "2248"
      ]
     },
     "metadata": {},
     "output_type": "display_data"
    },
    {
     "data": {
      "text/plain": [
       "'data/2024/raw/land/avito/avito_2024-07-08_13-36_raw_sevastopol.pkl'"
      ]
     },
     "metadata": {},
     "output_type": "display_data"
    },
    {
     "data": {
      "text/plain": [
       "'https://www.avito.ru/sevastopol/doma_dachi_kottedzhi/prodam'"
      ]
     },
     "metadata": {},
     "output_type": "display_data"
    },
    {
     "name": "stdout",
     "output_type": "stream",
     "text": [
      "[INFO    ] 2024-07-08 13:36:18 | page 1: 50 items\n",
      "[INFO    ] 2024-07-08 13:36:28 | page 2: 50 items\n",
      "[INFO    ] 2024-07-08 13:36:37 | page 3: 50 items\n",
      "[INFO    ] 2024-07-08 13:36:47 | page 4: 50 items\n",
      "[INFO    ] 2024-07-08 13:36:56 | page 5: 50 items\n",
      "[INFO    ] 2024-07-08 13:37:05 | page 6: 50 items\n",
      "[INFO    ] 2024-07-08 13:37:14 | page 7: 50 items\n",
      "[INFO    ] 2024-07-08 13:37:24 | page 8: 50 items\n",
      "[INFO    ] 2024-07-08 13:37:33 | page 9: 50 items\n",
      "[INFO    ] 2024-07-08 13:37:42 | page 10: 49 items\n",
      "[INFO    ] 2024-07-08 13:37:51 | page 11: 49 items\n",
      "[INFO    ] 2024-07-08 13:38:01 | page 12: 50 items\n",
      "[INFO    ] 2024-07-08 13:38:10 | page 13: 50 items\n",
      "[INFO    ] 2024-07-08 13:38:20 | page 14: 50 items\n",
      "[INFO    ] 2024-07-08 13:38:30 | page 15: 50 items\n",
      "[INFO    ] 2024-07-08 13:38:39 | page 16: 50 items\n",
      "[INFO    ] 2024-07-08 13:38:50 | page 17: 50 items\n",
      "[INFO    ] 2024-07-08 13:39:00 | page 18: 50 items\n",
      "[INFO    ] 2024-07-08 13:39:10 | page 19: 50 items\n",
      "[INFO    ] 2024-07-08 13:39:19 | page 20: 50 items\n",
      "[INFO    ] 2024-07-08 13:39:28 | page 21: 50 items\n",
      "[INFO    ] 2024-07-08 13:39:37 | page 22: 50 items\n",
      "[INFO    ] 2024-07-08 13:39:47 | page 23: 50 items\n",
      "[INFO    ] 2024-07-08 13:40:03 | page 24: 50 items\n",
      "[INFO    ] 2024-07-08 13:40:13 | page 25: 50 items\n",
      "[INFO    ] 2024-07-08 13:40:23 | page 26: 50 items\n",
      "[INFO    ] 2024-07-08 13:40:32 | page 27: 50 items\n",
      "[INFO    ] 2024-07-08 13:40:42 | page 28: 50 items\n",
      "[INFO    ] 2024-07-08 13:40:52 | page 29: 50 items\n",
      "[INFO    ] 2024-07-08 13:41:02 | page 30: 50 items\n",
      "[INFO    ] 2024-07-08 13:41:12 | page 31: 50 items\n",
      "[INFO    ] 2024-07-08 13:41:22 | page 32: 50 items\n",
      "[INFO    ] 2024-07-08 13:41:32 | page 33: 50 items\n",
      "[INFO    ] 2024-07-08 13:41:42 | page 34: 50 items\n",
      "[INFO    ] 2024-07-08 13:41:53 | page 35: 50 items\n",
      "[INFO    ] 2024-07-08 13:42:03 | page 36: 50 items\n",
      "[INFO    ] 2024-07-08 13:42:13 | page 37: 50 items\n",
      "[INFO    ] 2024-07-08 13:42:23 | page 38: 50 items\n",
      "[INFO    ] 2024-07-08 13:42:33 | page 39: 49 items\n",
      "[INFO    ] 2024-07-08 13:42:42 | page 40: 50 items\n",
      "[INFO    ] 2024-07-08 13:42:52 | page 41: 50 items\n",
      "[INFO    ] 2024-07-08 13:43:02 | page 42: 50 items\n",
      "[INFO    ] 2024-07-08 13:43:12 | page 43: 50 items\n",
      "[INFO    ] 2024-07-08 13:43:13 | page 44: 0 items\n",
      "[INFO    ] 2024-07-08 13:43:23 | page 45: 49 items\n",
      "[INFO    ] 2024-07-08 13:43:33 | page 46: 50 items\n",
      "[INFO    ] 2024-07-08 13:43:40 | page 47: 32 items\n"
     ]
    },
    {
     "data": {
      "text/plain": [
       "2278"
      ]
     },
     "metadata": {},
     "output_type": "display_data"
    },
    {
     "data": {
      "text/plain": [
       "'data/2024/raw/house/avito/avito_2024-07-08_13-43_raw_sevastopol.pkl'"
      ]
     },
     "metadata": {},
     "output_type": "display_data"
    },
    {
     "data": {
      "text/plain": [
       "'https://www.avito.ru/sudak/kvartiry/prodam'"
      ]
     },
     "metadata": {},
     "output_type": "display_data"
    },
    {
     "name": "stdout",
     "output_type": "stream",
     "text": [
      "[INFO    ] 2024-07-08 13:43:52 | page 1: 53 items\n",
      "[INFO    ] 2024-07-08 13:44:03 | page 2: 50 items\n",
      "[INFO    ] 2024-07-08 13:44:12 | page 3: 50 items\n",
      "[INFO    ] 2024-07-08 13:44:23 | page 4: 50 items\n",
      "[INFO    ] 2024-07-08 13:44:34 | page 5: 50 items\n",
      "[INFO    ] 2024-07-08 13:44:47 | page 6: 50 items\n",
      "[INFO    ] 2024-07-08 13:44:58 | page 7: 50 items\n",
      "[INFO    ] 2024-07-08 13:45:00 | page 8: 5 items\n"
     ]
    },
    {
     "data": {
      "text/plain": [
       "358"
      ]
     },
     "metadata": {},
     "output_type": "display_data"
    },
    {
     "data": {
      "text/plain": [
       "'data/2024/raw/flat/avito/avito_2024-07-08_13-45_raw_sudak.pkl'"
      ]
     },
     "metadata": {},
     "output_type": "display_data"
    },
    {
     "data": {
      "text/plain": [
       "'https://www.avito.ru/sudak/zemelnye_uchastki/prodam'"
      ]
     },
     "metadata": {},
     "output_type": "display_data"
    },
    {
     "name": "stdout",
     "output_type": "stream",
     "text": [
      "[INFO    ] 2024-07-08 13:45:10 | page 1: 50 items\n",
      "[INFO    ] 2024-07-08 13:45:18 | page 2: 50 items\n",
      "[INFO    ] 2024-07-08 13:45:26 | page 3: 50 items\n",
      "[INFO    ] 2024-07-08 13:45:35 | page 4: 50 items\n",
      "[INFO    ] 2024-07-08 13:45:44 | page 5: 50 items\n",
      "[INFO    ] 2024-07-08 13:45:53 | page 6: 50 items\n",
      "[INFO    ] 2024-07-08 13:45:55 | page 7: 12 items\n"
     ]
    },
    {
     "data": {
      "text/plain": [
       "312"
      ]
     },
     "metadata": {},
     "output_type": "display_data"
    },
    {
     "data": {
      "text/plain": [
       "'data/2024/raw/land/avito/avito_2024-07-08_13-45_raw_sudak.pkl'"
      ]
     },
     "metadata": {},
     "output_type": "display_data"
    },
    {
     "data": {
      "text/plain": [
       "'https://www.avito.ru/sudak/doma_dachi_kottedzhi/prodam'"
      ]
     },
     "metadata": {},
     "output_type": "display_data"
    },
    {
     "name": "stdout",
     "output_type": "stream",
     "text": [
      "[INFO    ] 2024-07-08 13:46:05 | page 1: 50 items\n",
      "[INFO    ] 2024-07-08 13:46:13 | page 2: 50 items\n",
      "[INFO    ] 2024-07-08 13:46:21 | page 3: 50 items\n",
      "[INFO    ] 2024-07-08 13:46:29 | page 4: 39 items\n"
     ]
    },
    {
     "data": {
      "text/plain": [
       "189"
      ]
     },
     "metadata": {},
     "output_type": "display_data"
    },
    {
     "data": {
      "text/plain": [
       "'data/2024/raw/house/avito/avito_2024-07-08_13-46_raw_sudak.pkl'"
      ]
     },
     "metadata": {},
     "output_type": "display_data"
    },
    {
     "data": {
      "text/plain": [
       "'https://www.avito.ru/bahchisaray/zemelnye_uchastki/prodam'"
      ]
     },
     "metadata": {},
     "output_type": "display_data"
    },
    {
     "name": "stdout",
     "output_type": "stream",
     "text": [
      "[INFO    ] 2024-07-08 13:46:41 | page 1: 50 items\n",
      "[INFO    ] 2024-07-08 13:46:51 | page 2: 50 items\n",
      "[INFO    ] 2024-07-08 13:46:59 | page 3: 50 items\n",
      "[INFO    ] 2024-07-08 13:47:08 | page 4: 50 items\n",
      "[INFO    ] 2024-07-08 13:47:16 | page 5: 50 items\n",
      "[INFO    ] 2024-07-08 13:47:25 | page 6: 50 items\n",
      "[INFO    ] 2024-07-08 13:47:33 | page 7: 50 items\n",
      "[INFO    ] 2024-07-08 13:47:42 | page 8: 50 items\n",
      "[INFO    ] 2024-07-08 13:47:50 | page 9: 50 items\n",
      "[INFO    ] 2024-07-08 13:47:59 | page 10: 50 items\n",
      "[INFO    ] 2024-07-08 13:48:07 | page 11: 50 items\n",
      "[INFO    ] 2024-07-08 13:48:16 | page 12: 50 items\n",
      "[INFO    ] 2024-07-08 13:48:25 | page 13: 50 items\n",
      "[INFO    ] 2024-07-08 13:48:33 | page 14: 46 items\n"
     ]
    },
    {
     "data": {
      "text/plain": [
       "696"
      ]
     },
     "metadata": {},
     "output_type": "display_data"
    },
    {
     "data": {
      "text/plain": [
       "'data/2024/raw/land/avito/avito_2024-07-08_13-48_raw_bahchisaray.pkl'"
      ]
     },
     "metadata": {},
     "output_type": "display_data"
    },
    {
     "data": {
      "text/plain": [
       "'https://www.avito.ru/bahchisaray/doma_dachi_kottedzhi/prodam'"
      ]
     },
     "metadata": {},
     "output_type": "display_data"
    },
    {
     "name": "stdout",
     "output_type": "stream",
     "text": [
      "[INFO    ] 2024-07-08 13:48:43 | page 1: 50 items\n",
      "[INFO    ] 2024-07-08 13:48:52 | page 2: 50 items\n",
      "[INFO    ] 2024-07-08 13:49:02 | page 3: 50 items\n",
      "[INFO    ] 2024-07-08 13:49:11 | page 4: 50 items\n",
      "[INFO    ] 2024-07-08 13:49:21 | page 5: 50 items\n",
      "[INFO    ] 2024-07-08 13:49:26 | page 6: 24 items\n"
     ]
    },
    {
     "data": {
      "text/plain": [
       "274"
      ]
     },
     "metadata": {},
     "output_type": "display_data"
    },
    {
     "data": {
      "text/plain": [
       "'data/2024/raw/house/avito/avito_2024-07-08_13-49_raw_bahchisaray.pkl'"
      ]
     },
     "metadata": {},
     "output_type": "display_data"
    },
    {
     "name": "stdout",
     "output_type": "stream",
     "text": [
      "CPU times: user 4min 44s, sys: 11.3 s, total: 4min 55s\n",
      "Wall time: 36min 25s\n"
     ]
    }
   ],
   "source": [
    "%%time \n",
    "\n",
    "\n",
    "options = webdriver.FirefoxOptions()\n",
    "#options.headless = True\n",
    "browser = webdriver.Firefox(options=options)\n",
    "logging.info('open virtual browser')\n",
    "\n",
    "for s in source:\n",
    "\n",
    "    url = s['url']\n",
    "    place = s['place']\n",
    "    subfolder = s['subfolder'] \n",
    "    \n",
    "    display(url)\n",
    "    browser.get(url)\n",
    "    sleep(3)\n",
    "    \n",
    "    data = AvitoParser().transform(browser)\n",
    "    assert len(data)>0\n",
    "    \n",
    "    df = pd.DataFrame(data)\n",
    "    df['ts'] = datetime.now()\n",
    "    df['place'] = place\n",
    "\n",
    "    display( len(df) )\n",
    "    t_now = datetime.now().strftime('%Y-%m-%d_%H-%M')\n",
    "    fname = f'{dest_folder}/{subfolder}/avito/avito_{t_now}_raw_{place}.pkl'\n",
    "    df.to_pickle(fname)\n",
    "    display( fname )\n",
    "\n",
    "browser.close()"
   ]
  },
  {
   "cell_type": "code",
   "execution_count": 10,
   "id": "a98a46de",
   "metadata": {},
   "outputs": [],
   "source": [
    "# browser.close()"
   ]
  },
  {
   "cell_type": "code",
   "execution_count": 11,
   "id": "e97e319b",
   "metadata": {},
   "outputs": [
    {
     "name": "stdout",
     "output_type": "stream",
     "text": [
      "Пн 08 июл 2024 13:49:27 MSK\r\n"
     ]
    }
   ],
   "source": [
    "!date"
   ]
  },
  {
   "cell_type": "code",
   "execution_count": null,
   "id": "0fcca2ff",
   "metadata": {},
   "outputs": [],
   "source": []
  }
 ],
 "metadata": {
  "kernelspec": {
   "display_name": "Python 3 (ipykernel)",
   "language": "python",
   "name": "python3"
  },
  "language_info": {
   "codemirror_mode": {
    "name": "ipython",
    "version": 3
   },
   "file_extension": ".py",
   "mimetype": "text/x-python",
   "name": "python",
   "nbconvert_exporter": "python",
   "pygments_lexer": "ipython3",
   "version": "3.12.3"
  }
 },
 "nbformat": 4,
 "nbformat_minor": 5
}
