{
 "cells": [
  {
   "cell_type": "markdown",
   "id": "f79cec14",
   "metadata": {},
   "source": [
    "__качаем объявления о продаже недвижимости с avito.ru__\n",
    "\n",
    "_Evgeny S. Borisov <parser@mechanoid.su>_"
   ]
  },
  {
   "cell_type": "code",
   "execution_count": 1,
   "id": "ceabc62f",
   "metadata": {},
   "outputs": [],
   "source": [
    "import logging\n",
    "import sys \n",
    "\n",
    "logging.basicConfig(\n",
    "        format=u'[%(levelname)-8s] %(asctime)s | %(message)s',\n",
    "        datefmt='%Y-%m-%d %H:%M:%S',\n",
    "        level=logging.INFO,\n",
    "        # level=logging.DEBUG,\n",
    "        stream=sys.stdout,\n",
    "    )"
   ]
  },
  {
   "cell_type": "code",
   "execution_count": 2,
   "id": "23172c9b",
   "metadata": {},
   "outputs": [],
   "source": [
    "from time import sleep\n",
    "from tqdm.auto import tqdm\n",
    "import pandas as pd\n",
    "from datetime import datetime \n",
    "\n",
    "pd.set_option('display.max_colwidth', None)\n",
    "pd.set_option('display.float_format', '{:.2f}'.format)\n",
    "tqdm.pandas()"
   ]
  },
  {
   "cell_type": "code",
   "execution_count": 3,
   "id": "97d83b45",
   "metadata": {},
   "outputs": [],
   "source": [
    "source = [\n",
    "    {\n",
    "            'place': 'sevastopol',\n",
    "        'subfolder': 'flat',\n",
    "              'url': 'https://www.avito.ru/sevastopol/kvartiry/prodam',\n",
    "    },{\n",
    "            'place': 'sevastopol',\n",
    "        'subfolder': 'land',\n",
    "              'url': 'https://www.avito.ru/sevastopol/zemelnye_uchastki/prodam',\n",
    "    },    {\n",
    "            'place': 'sevastopol',\n",
    "        'subfolder': 'house',\n",
    "              'url': 'https://www.avito.ru/sevastopol/doma_dachi_kottedzhi/prodam',\n",
    "    },  \n",
    "    {\n",
    "            'place': 'sudak',\n",
    "        'subfolder': 'flat',\n",
    "              'url': 'https://www.avito.ru/sudak/kvartiry/prodam',\n",
    "    },    {\n",
    "            'place': 'sudak',\n",
    "        'subfolder': 'land',\n",
    "              'url': 'https://www.avito.ru/sudak/zemelnye_uchastki/prodam',\n",
    "    },{\n",
    "            'place': 'sudak',\n",
    "        'subfolder': 'house',\n",
    "              'url': 'https://www.avito.ru/sudak/doma_dachi_kottedzhi/prodam',\n",
    "    },\n",
    "#     {\n",
    "#             'place': 'bahchisaray',\n",
    "#         'subfolder': 'flat',\n",
    "#               'url': 'https://www.avito.ru/bahchisaray/kvartiry/prodam',\n",
    "#     }, \n",
    "    {\n",
    "            'place': 'bahchisaray',\n",
    "        'subfolder': 'land',\n",
    "              'url': 'https://www.avito.ru/bahchisaray/zemelnye_uchastki/prodam',\n",
    "    },{\n",
    "            'place': 'bahchisaray',\n",
    "        'subfolder': 'house',\n",
    "              'url': 'https://www.avito.ru/bahchisaray/doma_dachi_kottedzhi/prodam',\n",
    "    }, {\n",
    "              'place': 'sevastopol',\n",
    "        'subfolder': 'flat-arenda',\n",
    "              'url': 'https://www.avito.ru/sevastopol/kvartiry/sdam/na_dlitelnyy_srok',\n",
    "    }\n",
    "\n",
    "]"
   ]
  },
  {
   "cell_type": "code",
   "execution_count": 4,
   "id": "97361090-c209-44f3-85c1-1d39ec0ac78e",
   "metadata": {},
   "outputs": [],
   "source": [
    "# source = [{\n",
    "#               'place': 'sevastopol',\n",
    "#         'subfolder': 'flat-arenda',\n",
    "#               'url': 'https://www.avito.ru/sevastopol/kvartiry/sdam/na_dlitelnyy_srok',\n",
    "#     }\n",
    "\n",
    "# ]"
   ]
  },
  {
   "cell_type": "markdown",
   "id": "749d8645",
   "metadata": {},
   "source": [
    "---"
   ]
  },
  {
   "cell_type": "code",
   "execution_count": 5,
   "id": "b92abbe2",
   "metadata": {},
   "outputs": [],
   "source": [
    "# from selenium import webdriver\n",
    "# from lib.avito import AvitoPageParser\n",
    "\n",
    "# browser = webdriver.Firefox()\n",
    "# browser.get(source[0]['url'])\n",
    "# data = AvitoPageParser().transform(browser)\n",
    "# # browser.close()"
   ]
  },
  {
   "cell_type": "code",
   "execution_count": 6,
   "id": "13a281e0",
   "metadata": {},
   "outputs": [],
   "source": [
    "# browser.close()"
   ]
  },
  {
   "cell_type": "code",
   "execution_count": 7,
   "id": "8e955d4b",
   "metadata": {},
   "outputs": [],
   "source": [
    "# data"
   ]
  },
  {
   "cell_type": "markdown",
   "id": "f5e2ebb2",
   "metadata": {},
   "source": [
    "---"
   ]
  },
  {
   "cell_type": "code",
   "execution_count": 8,
   "id": "863ee8e4",
   "metadata": {},
   "outputs": [],
   "source": [
    "from selenium import webdriver\n",
    "# from selenium.webdriver.common.by import By\n",
    "from lib.avito import AvitoParser"
   ]
  },
  {
   "cell_type": "code",
   "execution_count": 9,
   "id": "6520cd59",
   "metadata": {},
   "outputs": [],
   "source": [
    "dest_folder = 'data/2025/raw'"
   ]
  },
  {
   "cell_type": "code",
   "execution_count": 10,
   "id": "13e65519-5263-4d9b-b815-264a832692dd",
   "metadata": {},
   "outputs": [],
   "source": [
    "import random as rng\n",
    "\n",
    "# rng.randint(0,3)"
   ]
  },
  {
   "cell_type": "code",
   "execution_count": 11,
   "id": "8872059a",
   "metadata": {},
   "outputs": [
    {
     "name": "stdout",
     "output_type": "stream",
     "text": [
      "[WARNING ] 2025-03-21 11:04:01 | The geckodriver version (0.35.0) detected in PATH at /usr/bin/geckodriver might not be compatible with the detected firefox version (136.0); currently, geckodriver 0.36.0 is recommended for firefox 136.*, so it is advised to delete the driver in PATH and retry\n",
      "[INFO    ] 2025-03-21 11:04:11 | open virtual browser\n"
     ]
    },
    {
     "data": {
      "text/plain": [
       "'https://www.avito.ru/sevastopol/kvartiry/prodam'"
      ]
     },
     "metadata": {},
     "output_type": "display_data"
    },
    {
     "name": "stdout",
     "output_type": "stream",
     "text": [
      "[INFO    ] 2025-03-21 11:04:25 | page 1: 53 items\n",
      "[INFO    ] 2025-03-21 11:04:38 | page 2: 50 items\n",
      "[INFO    ] 2025-03-21 11:04:52 | page 3: 50 items\n",
      "[INFO    ] 2025-03-21 11:05:06 | page 4: 50 items\n",
      "[INFO    ] 2025-03-21 11:05:16 | page 5: 50 items\n",
      "[INFO    ] 2025-03-21 11:05:28 | page 6: 50 items\n",
      "[INFO    ] 2025-03-21 11:05:41 | page 7: 50 items\n",
      "[INFO    ] 2025-03-21 11:05:53 | page 8: 50 items\n",
      "[INFO    ] 2025-03-21 11:06:07 | page 9: 50 items\n",
      "[INFO    ] 2025-03-21 11:06:20 | page 10: 50 items\n",
      "[INFO    ] 2025-03-21 11:06:32 | page 11: 50 items\n",
      "[INFO    ] 2025-03-21 11:06:45 | page 12: 50 items\n",
      "[INFO    ] 2025-03-21 11:06:57 | page 13: 50 items\n",
      "[INFO    ] 2025-03-21 11:07:10 | page 14: 50 items\n",
      "[INFO    ] 2025-03-21 11:07:23 | page 15: 50 items\n",
      "[INFO    ] 2025-03-21 11:07:35 | page 16: 50 items\n",
      "[INFO    ] 2025-03-21 11:07:47 | page 17: 50 items\n",
      "[INFO    ] 2025-03-21 11:07:59 | page 18: 50 items\n",
      "[INFO    ] 2025-03-21 11:08:11 | page 19: 50 items\n",
      "[INFO    ] 2025-03-21 11:08:24 | page 20: 50 items\n",
      "[INFO    ] 2025-03-21 11:08:36 | page 21: 50 items\n",
      "[INFO    ] 2025-03-21 11:08:49 | page 22: 49 items\n",
      "[INFO    ] 2025-03-21 11:09:01 | page 23: 50 items\n",
      "[INFO    ] 2025-03-21 11:09:15 | page 24: 50 items\n",
      "[INFO    ] 2025-03-21 11:09:28 | page 25: 49 items\n",
      "[INFO    ] 2025-03-21 11:09:41 | page 26: 50 items\n",
      "[INFO    ] 2025-03-21 11:09:53 | page 27: 50 items\n",
      "[INFO    ] 2025-03-21 11:10:06 | page 28: 50 items\n",
      "[INFO    ] 2025-03-21 11:10:18 | page 29: 50 items\n",
      "[INFO    ] 2025-03-21 11:10:31 | page 30: 50 items\n",
      "[INFO    ] 2025-03-21 11:10:43 | page 31: 49 items\n",
      "[INFO    ] 2025-03-21 11:10:56 | page 32: 48 items\n",
      "[INFO    ] 2025-03-21 11:11:08 | page 33: 49 items\n",
      "[INFO    ] 2025-03-21 11:11:20 | page 34: 50 items\n",
      "[INFO    ] 2025-03-21 11:11:33 | page 35: 50 items\n",
      "[INFO    ] 2025-03-21 11:11:45 | page 36: 50 items\n",
      "[INFO    ] 2025-03-21 11:11:58 | page 37: 49 items\n",
      "[INFO    ] 2025-03-21 11:12:11 | page 38: 49 items\n",
      "[INFO    ] 2025-03-21 11:12:25 | page 39: 50 items\n",
      "[INFO    ] 2025-03-21 11:12:37 | page 40: 50 items\n",
      "[INFO    ] 2025-03-21 11:12:50 | page 41: 49 items\n",
      "[INFO    ] 2025-03-21 11:13:04 | page 42: 49 items\n",
      "[INFO    ] 2025-03-21 11:13:16 | page 43: 48 items\n",
      "[INFO    ] 2025-03-21 11:13:28 | page 44: 47 items\n",
      "[INFO    ] 2025-03-21 11:13:40 | page 45: 49 items\n",
      "[INFO    ] 2025-03-21 11:13:51 | page 46: 50 items\n",
      "[INFO    ] 2025-03-21 11:14:03 | page 47: 47 items\n",
      "[INFO    ] 2025-03-21 11:14:17 | page 48: 47 items\n",
      "[INFO    ] 2025-03-21 11:14:28 | page 49: 48 items\n",
      "[INFO    ] 2025-03-21 11:14:40 | page 50: 46 items\n",
      "[INFO    ] 2025-03-21 11:14:52 | page 51: 45 items\n",
      "[INFO    ] 2025-03-21 11:15:05 | page 52: 47 items\n",
      "[INFO    ] 2025-03-21 11:15:16 | page 53: 44 items\n",
      "[INFO    ] 2025-03-21 11:15:27 | page 54: 44 items\n",
      "[INFO    ] 2025-03-21 11:15:40 | page 55: 46 items\n",
      "[INFO    ] 2025-03-21 11:15:53 | page 56: 46 items\n",
      "[INFO    ] 2025-03-21 11:16:06 | page 57: 45 items\n",
      "[INFO    ] 2025-03-21 11:16:18 | page 58: 48 items\n",
      "[INFO    ] 2025-03-21 11:16:30 | page 59: 47 items\n",
      "[INFO    ] 2025-03-21 11:16:42 | page 60: 46 items\n",
      "[INFO    ] 2025-03-21 11:16:54 | page 61: 47 items\n",
      "[INFO    ] 2025-03-21 11:17:06 | page 62: 46 items\n",
      "[INFO    ] 2025-03-21 11:17:19 | page 63: 47 items\n",
      "[INFO    ] 2025-03-21 11:17:31 | page 64: 46 items\n",
      "[INFO    ] 2025-03-21 11:17:43 | page 65: 45 items\n",
      "[INFO    ] 2025-03-21 11:17:55 | page 66: 45 items\n",
      "[INFO    ] 2025-03-21 11:18:07 | page 67: 46 items\n",
      "[INFO    ] 2025-03-21 11:18:18 | page 68: 46 items\n",
      "[INFO    ] 2025-03-21 11:18:29 | page 69: 44 items\n",
      "[INFO    ] 2025-03-21 11:18:43 | page 70: 45 items\n",
      "[INFO    ] 2025-03-21 11:18:53 | page 71: 42 items\n",
      "[INFO    ] 2025-03-21 11:19:05 | page 72: 41 items\n",
      "[INFO    ] 2025-03-21 11:19:15 | page 73: 35 items\n",
      "[INFO    ] 2025-03-21 11:19:25 | page 74: 35 items\n",
      "[INFO    ] 2025-03-21 11:19:39 | page 75: 47 items\n",
      "[INFO    ] 2025-03-21 11:19:50 | page 76: 50 items\n",
      "[INFO    ] 2025-03-21 11:20:04 | page 77: 50 items\n",
      "[INFO    ] 2025-03-21 11:20:19 | page 78: 50 items\n",
      "[INFO    ] 2025-03-21 11:20:34 | page 79: 50 items\n",
      "[INFO    ] 2025-03-21 11:20:45 | page 80: 38 items\n"
     ]
    },
    {
     "data": {
      "text/plain": [
       "3828"
      ]
     },
     "metadata": {},
     "output_type": "display_data"
    },
    {
     "data": {
      "text/plain": [
       "'data/2025/raw/flat/avito/avito_2025-03-21_11-20_raw_sevastopol.pkl'"
      ]
     },
     "metadata": {},
     "output_type": "display_data"
    },
    {
     "data": {
      "text/plain": [
       "'https://www.avito.ru/sevastopol/zemelnye_uchastki/prodam'"
      ]
     },
     "metadata": {},
     "output_type": "display_data"
    },
    {
     "name": "stdout",
     "output_type": "stream",
     "text": [
      "[INFO    ] 2025-03-21 11:20:57 | page 1: 50 items\n",
      "[INFO    ] 2025-03-21 11:21:09 | page 2: 50 items\n",
      "[INFO    ] 2025-03-21 11:21:18 | page 3: 50 items\n",
      "[INFO    ] 2025-03-21 11:21:29 | page 4: 50 items\n",
      "[INFO    ] 2025-03-21 11:21:39 | page 5: 50 items\n",
      "[INFO    ] 2025-03-21 11:21:51 | page 6: 50 items\n",
      "[INFO    ] 2025-03-21 11:22:01 | page 7: 50 items\n",
      "[INFO    ] 2025-03-21 11:22:12 | page 8: 50 items\n",
      "[INFO    ] 2025-03-21 11:22:23 | page 9: 50 items\n",
      "[INFO    ] 2025-03-21 11:22:34 | page 10: 50 items\n",
      "[INFO    ] 2025-03-21 11:22:46 | page 11: 50 items\n",
      "[INFO    ] 2025-03-21 11:22:56 | page 12: 50 items\n",
      "[INFO    ] 2025-03-21 11:23:07 | page 13: 50 items\n",
      "[INFO    ] 2025-03-21 11:23:17 | page 14: 50 items\n",
      "[INFO    ] 2025-03-21 11:23:27 | page 15: 50 items\n",
      "[INFO    ] 2025-03-21 11:23:36 | page 16: 50 items\n",
      "[INFO    ] 2025-03-21 11:23:47 | page 17: 50 items\n",
      "[INFO    ] 2025-03-21 11:23:58 | page 18: 50 items\n",
      "[INFO    ] 2025-03-21 11:24:09 | page 19: 50 items\n",
      "[INFO    ] 2025-03-21 11:24:19 | page 20: 50 items\n",
      "[INFO    ] 2025-03-21 11:24:31 | page 21: 50 items\n",
      "[INFO    ] 2025-03-21 11:24:43 | page 22: 50 items\n",
      "[INFO    ] 2025-03-21 11:24:55 | page 23: 50 items\n",
      "[INFO    ] 2025-03-21 11:25:07 | page 24: 50 items\n",
      "[INFO    ] 2025-03-21 11:25:18 | page 25: 50 items\n",
      "[INFO    ] 2025-03-21 11:25:29 | page 26: 50 items\n",
      "[INFO    ] 2025-03-21 11:25:40 | page 27: 50 items\n",
      "[INFO    ] 2025-03-21 11:25:52 | page 28: 50 items\n",
      "[INFO    ] 2025-03-21 11:26:04 | page 29: 50 items\n",
      "[INFO    ] 2025-03-21 11:26:15 | page 30: 50 items\n",
      "[INFO    ] 2025-03-21 11:26:28 | page 31: 50 items\n",
      "[INFO    ] 2025-03-21 11:26:39 | page 32: 50 items\n",
      "[INFO    ] 2025-03-21 11:26:51 | page 33: 50 items\n",
      "[INFO    ] 2025-03-21 11:27:03 | page 34: 50 items\n",
      "[INFO    ] 2025-03-21 11:27:15 | page 35: 50 items\n",
      "[INFO    ] 2025-03-21 11:27:27 | page 36: 50 items\n",
      "[INFO    ] 2025-03-21 11:27:39 | page 37: 50 items\n",
      "[INFO    ] 2025-03-21 11:27:52 | page 38: 50 items\n",
      "[INFO    ] 2025-03-21 11:28:04 | page 39: 50 items\n",
      "[INFO    ] 2025-03-21 11:28:14 | page 40: 50 items\n",
      "[INFO    ] 2025-03-21 11:28:26 | page 41: 50 items\n",
      "[INFO    ] 2025-03-21 11:28:36 | page 42: 50 items\n",
      "[INFO    ] 2025-03-21 11:28:48 | page 43: 50 items\n",
      "[INFO    ] 2025-03-21 11:29:00 | page 44: 50 items\n",
      "[INFO    ] 2025-03-21 11:29:13 | page 45: 50 items\n",
      "[INFO    ] 2025-03-21 11:29:26 | page 46: 50 items\n",
      "[INFO    ] 2025-03-21 11:29:38 | page 47: 50 items\n",
      "[INFO    ] 2025-03-21 11:29:51 | page 48: 50 items\n",
      "[INFO    ] 2025-03-21 11:30:04 | page 49: 50 items\n",
      "[INFO    ] 2025-03-21 11:30:15 | page 50: 40 items\n"
     ]
    },
    {
     "data": {
      "text/plain": [
       "2490"
      ]
     },
     "metadata": {},
     "output_type": "display_data"
    },
    {
     "data": {
      "text/plain": [
       "'data/2025/raw/land/avito/avito_2025-03-21_11-30_raw_sevastopol.pkl'"
      ]
     },
     "metadata": {},
     "output_type": "display_data"
    },
    {
     "data": {
      "text/plain": [
       "'https://www.avito.ru/sevastopol/doma_dachi_kottedzhi/prodam'"
      ]
     },
     "metadata": {},
     "output_type": "display_data"
    },
    {
     "name": "stdout",
     "output_type": "stream",
     "text": [
      "[INFO    ] 2025-03-21 11:30:26 | page 1: 50 items\n",
      "[INFO    ] 2025-03-21 11:30:38 | page 2: 50 items\n",
      "[INFO    ] 2025-03-21 11:30:50 | page 3: 50 items\n",
      "[INFO    ] 2025-03-21 11:31:00 | page 4: 50 items\n",
      "[INFO    ] 2025-03-21 11:31:11 | page 5: 50 items\n",
      "[INFO    ] 2025-03-21 11:31:22 | page 6: 50 items\n",
      "[INFO    ] 2025-03-21 11:31:35 | page 7: 50 items\n",
      "[INFO    ] 2025-03-21 11:31:44 | page 8: 50 items\n",
      "[INFO    ] 2025-03-21 11:31:56 | page 9: 50 items\n",
      "[INFO    ] 2025-03-21 11:32:08 | page 10: 50 items\n",
      "[INFO    ] 2025-03-21 11:32:21 | page 11: 50 items\n",
      "[INFO    ] 2025-03-21 11:32:32 | page 12: 50 items\n",
      "[INFO    ] 2025-03-21 11:32:44 | page 13: 50 items\n",
      "[INFO    ] 2025-03-21 11:32:55 | page 14: 50 items\n",
      "[INFO    ] 2025-03-21 11:33:07 | page 15: 50 items\n",
      "[INFO    ] 2025-03-21 11:33:18 | page 16: 50 items\n",
      "[INFO    ] 2025-03-21 11:33:30 | page 17: 50 items\n",
      "[INFO    ] 2025-03-21 11:33:41 | page 18: 50 items\n",
      "[INFO    ] 2025-03-21 11:33:52 | page 19: 50 items\n",
      "[INFO    ] 2025-03-21 11:34:03 | page 20: 50 items\n",
      "[INFO    ] 2025-03-21 11:34:13 | page 21: 50 items\n",
      "[INFO    ] 2025-03-21 11:34:24 | page 22: 50 items\n",
      "[INFO    ] 2025-03-21 11:34:37 | page 23: 50 items\n",
      "[INFO    ] 2025-03-21 11:34:49 | page 24: 50 items\n",
      "[INFO    ] 2025-03-21 11:35:02 | page 25: 50 items\n",
      "[INFO    ] 2025-03-21 11:35:15 | page 26: 50 items\n",
      "[INFO    ] 2025-03-21 11:35:29 | page 27: 50 items\n",
      "[INFO    ] 2025-03-21 11:35:43 | page 28: 50 items\n",
      "[INFO    ] 2025-03-21 11:35:56 | page 29: 50 items\n",
      "[INFO    ] 2025-03-21 11:36:09 | page 30: 50 items\n",
      "[INFO    ] 2025-03-21 11:36:21 | page 31: 50 items\n",
      "[INFO    ] 2025-03-21 11:36:34 | page 32: 50 items\n",
      "[INFO    ] 2025-03-21 11:36:46 | page 33: 50 items\n",
      "[INFO    ] 2025-03-21 11:36:59 | page 34: 50 items\n",
      "[INFO    ] 2025-03-21 11:37:12 | page 35: 50 items\n",
      "[INFO    ] 2025-03-21 11:37:25 | page 36: 50 items\n",
      "[INFO    ] 2025-03-21 11:37:38 | page 37: 50 items\n",
      "[INFO    ] 2025-03-21 11:37:50 | page 38: 50 items\n",
      "[INFO    ] 2025-03-21 11:38:03 | page 39: 50 items\n",
      "[INFO    ] 2025-03-21 11:38:15 | page 40: 50 items\n",
      "[INFO    ] 2025-03-21 11:38:26 | page 41: 50 items\n",
      "[INFO    ] 2025-03-21 11:38:41 | page 42: 50 items\n",
      "[INFO    ] 2025-03-21 11:38:55 | page 43: 50 items\n",
      "[INFO    ] 2025-03-21 11:39:09 | page 44: 50 items\n",
      "[INFO    ] 2025-03-21 11:39:20 | page 45: 50 items\n",
      "[INFO    ] 2025-03-21 11:39:33 | page 46: 50 items\n",
      "[INFO    ] 2025-03-21 11:39:45 | page 47: 50 items\n",
      "[INFO    ] 2025-03-21 11:39:52 | page 48: 20 items\n"
     ]
    },
    {
     "data": {
      "text/plain": [
       "2370"
      ]
     },
     "metadata": {},
     "output_type": "display_data"
    },
    {
     "data": {
      "text/plain": [
       "'data/2025/raw/house/avito/avito_2025-03-21_11-39_raw_sevastopol.pkl'"
      ]
     },
     "metadata": {},
     "output_type": "display_data"
    },
    {
     "data": {
      "text/plain": [
       "'https://www.avito.ru/sudak/kvartiry/prodam'"
      ]
     },
     "metadata": {},
     "output_type": "display_data"
    },
    {
     "name": "stdout",
     "output_type": "stream",
     "text": [
      "[INFO    ] 2025-03-21 11:40:03 | page 1: 53 items\n",
      "[INFO    ] 2025-03-21 11:40:11 | page 2: 277 items\n",
      "[INFO    ] 2025-03-21 11:40:20 | page 3: 290 items\n",
      "[INFO    ] 2025-03-21 11:40:28 | page 4: 306 items\n",
      "[INFO    ] 2025-03-21 11:40:37 | page 5: 322 items\n",
      "[INFO    ] 2025-03-21 11:40:46 | page 6: 300 items\n",
      "[INFO    ] 2025-03-21 11:40:54 | page 7: 265 items\n",
      "[INFO    ] 2025-03-21 11:41:03 | page 8: 266 items\n",
      "[INFO    ] 2025-03-21 11:41:06 | page 9: 24 items\n"
     ]
    },
    {
     "data": {
      "text/plain": [
       "2103"
      ]
     },
     "metadata": {},
     "output_type": "display_data"
    },
    {
     "data": {
      "text/plain": [
       "'data/2025/raw/flat/avito/avito_2025-03-21_11-41_raw_sudak.pkl'"
      ]
     },
     "metadata": {},
     "output_type": "display_data"
    },
    {
     "data": {
      "text/plain": [
       "'https://www.avito.ru/sudak/zemelnye_uchastki/prodam'"
      ]
     },
     "metadata": {},
     "output_type": "display_data"
    },
    {
     "name": "stdout",
     "output_type": "stream",
     "text": [
      "[INFO    ] 2025-03-21 11:41:17 | page 1: 50 items\n",
      "[INFO    ] 2025-03-21 11:41:26 | page 2: 261 items\n",
      "[INFO    ] 2025-03-21 11:41:37 | page 3: 257 items\n",
      "[INFO    ] 2025-03-21 11:41:45 | page 4: 265 items\n",
      "[INFO    ] 2025-03-21 11:41:53 | page 5: 291 items\n",
      "[INFO    ] 2025-03-21 11:42:01 | page 6: 291 items\n",
      "[INFO    ] 2025-03-21 11:42:10 | page 7: 289 items\n",
      "[INFO    ] 2025-03-21 11:42:15 | page 8: 138 items\n"
     ]
    },
    {
     "data": {
      "text/plain": [
       "1842"
      ]
     },
     "metadata": {},
     "output_type": "display_data"
    },
    {
     "data": {
      "text/plain": [
       "'data/2025/raw/land/avito/avito_2025-03-21_11-42_raw_sudak.pkl'"
      ]
     },
     "metadata": {},
     "output_type": "display_data"
    },
    {
     "data": {
      "text/plain": [
       "'https://www.avito.ru/sudak/doma_dachi_kottedzhi/prodam'"
      ]
     },
     "metadata": {},
     "output_type": "display_data"
    },
    {
     "name": "stdout",
     "output_type": "stream",
     "text": [
      "[INFO    ] 2025-03-21 11:42:26 | page 1: 50 items\n",
      "[INFO    ] 2025-03-21 11:42:35 | page 2: 273 items\n",
      "[INFO    ] 2025-03-21 11:42:44 | page 3: 296 items\n",
      "[INFO    ] 2025-03-21 11:42:48 | page 4: 72 items\n"
     ]
    },
    {
     "data": {
      "text/plain": [
       "691"
      ]
     },
     "metadata": {},
     "output_type": "display_data"
    },
    {
     "data": {
      "text/plain": [
       "'data/2025/raw/house/avito/avito_2025-03-21_11-42_raw_sudak.pkl'"
      ]
     },
     "metadata": {},
     "output_type": "display_data"
    },
    {
     "data": {
      "text/plain": [
       "'https://www.avito.ru/bahchisaray/zemelnye_uchastki/prodam'"
      ]
     },
     "metadata": {},
     "output_type": "display_data"
    },
    {
     "name": "stdout",
     "output_type": "stream",
     "text": [
      "[INFO    ] 2025-03-21 11:43:01 | page 1: 50 items\n",
      "[INFO    ] 2025-03-21 11:43:12 | page 2: 50 items\n",
      "[INFO    ] 2025-03-21 11:43:24 | page 3: 50 items\n",
      "[INFO    ] 2025-03-21 11:43:33 | page 4: 50 items\n",
      "[INFO    ] 2025-03-21 11:43:43 | page 5: 50 items\n",
      "[INFO    ] 2025-03-21 11:43:53 | page 6: 50 items\n",
      "[INFO    ] 2025-03-21 11:44:04 | page 7: 50 items\n",
      "[INFO    ] 2025-03-21 11:44:13 | page 8: 50 items\n",
      "[INFO    ] 2025-03-21 11:44:22 | page 9: 50 items\n",
      "[INFO    ] 2025-03-21 11:44:33 | page 10: 50 items\n",
      "[INFO    ] 2025-03-21 11:44:44 | page 11: 50 items\n",
      "[INFO    ] 2025-03-21 11:44:52 | page 12: 50 items\n",
      "[INFO    ] 2025-03-21 11:45:02 | page 13: 50 items\n",
      "[INFO    ] 2025-03-21 11:45:12 | page 14: 50 items\n",
      "[INFO    ] 2025-03-21 11:45:23 | page 15: 50 items\n",
      "[INFO    ] 2025-03-21 11:45:27 | page 16: 5 items\n"
     ]
    },
    {
     "data": {
      "text/plain": [
       "755"
      ]
     },
     "metadata": {},
     "output_type": "display_data"
    },
    {
     "data": {
      "text/plain": [
       "'data/2025/raw/land/avito/avito_2025-03-21_11-45_raw_bahchisaray.pkl'"
      ]
     },
     "metadata": {},
     "output_type": "display_data"
    },
    {
     "data": {
      "text/plain": [
       "'https://www.avito.ru/bahchisaray/doma_dachi_kottedzhi/prodam'"
      ]
     },
     "metadata": {},
     "output_type": "display_data"
    },
    {
     "name": "stdout",
     "output_type": "stream",
     "text": [
      "[INFO    ] 2025-03-21 11:45:38 | page 1: 50 items\n",
      "[INFO    ] 2025-03-21 11:45:48 | page 2: 50 items\n",
      "[INFO    ] 2025-03-21 11:45:59 | page 3: 50 items\n",
      "[INFO    ] 2025-03-21 11:46:10 | page 4: 50 items\n",
      "[INFO    ] 2025-03-21 11:46:22 | page 5: 50 items\n",
      "[INFO    ] 2025-03-21 11:46:27 | page 6: 11 items\n"
     ]
    },
    {
     "data": {
      "text/plain": [
       "261"
      ]
     },
     "metadata": {},
     "output_type": "display_data"
    },
    {
     "data": {
      "text/plain": [
       "'data/2025/raw/house/avito/avito_2025-03-21_11-46_raw_bahchisaray.pkl'"
      ]
     },
     "metadata": {},
     "output_type": "display_data"
    },
    {
     "data": {
      "text/plain": [
       "'https://www.avito.ru/sevastopol/kvartiry/sdam/na_dlitelnyy_srok'"
      ]
     },
     "metadata": {},
     "output_type": "display_data"
    },
    {
     "name": "stdout",
     "output_type": "stream",
     "text": [
      "[INFO    ] 2025-03-21 11:46:39 | page 1: 50 items\n",
      "[INFO    ] 2025-03-21 11:46:50 | page 2: 50 items\n",
      "[INFO    ] 2025-03-21 11:46:59 | page 3: 50 items\n",
      "[INFO    ] 2025-03-21 11:47:11 | page 4: 50 items\n",
      "[INFO    ] 2025-03-21 11:47:23 | page 5: 50 items\n",
      "[INFO    ] 2025-03-21 11:47:34 | page 6: 50 items\n",
      "[INFO    ] 2025-03-21 11:47:45 | page 7: 50 items\n",
      "[INFO    ] 2025-03-21 11:47:57 | page 8: 50 items\n",
      "[INFO    ] 2025-03-21 11:48:09 | page 9: 50 items\n",
      "[INFO    ] 2025-03-21 11:48:22 | page 10: 50 items\n",
      "[INFO    ] 2025-03-21 11:48:26 | page 11: 4 items\n"
     ]
    },
    {
     "data": {
      "text/plain": [
       "504"
      ]
     },
     "metadata": {},
     "output_type": "display_data"
    },
    {
     "data": {
      "text/plain": [
       "'data/2025/raw/flat-arenda/avito/avito_2025-03-21_11-48_raw_sevastopol.pkl'"
      ]
     },
     "metadata": {},
     "output_type": "display_data"
    },
    {
     "name": "stdout",
     "output_type": "stream",
     "text": [
      "CPU times: user 5min 40s, sys: 16 s, total: 5min 56s\n",
      "Wall time: 44min 29s\n"
     ]
    }
   ],
   "source": [
    "%%time \n",
    "\n",
    "options = webdriver.FirefoxOptions()\n",
    "#options.headless = True\n",
    "browser = webdriver.Firefox(options=options)\n",
    "logging.info('open virtual browser')\n",
    "\n",
    "for s in source:\n",
    "\n",
    "    url = s['url']\n",
    "    place = s['place']\n",
    "    subfolder = s['subfolder'] \n",
    "    \n",
    "    display(url)\n",
    "    browser.get(url)\n",
    "    \n",
    "    sleep(1)\n",
    "        \n",
    "    data = AvitoParser().transform(browser) #, page_timeout=2 )\n",
    "    assert len(data)>0\n",
    "    \n",
    "    df = pd.DataFrame(data)\n",
    "    df['ts'] = datetime.now()\n",
    "    df['place'] = place\n",
    "\n",
    "    display( len(df) )\n",
    "    t_now = datetime.now().strftime('%Y-%m-%d_%H-%M')\n",
    "    fname = f'{dest_folder}/{subfolder}/avito/avito_{t_now}_raw_{place}.pkl'\n",
    "    df.to_pickle(fname)\n",
    "    display( fname )\n",
    "\n",
    "    # sleep( rng.randint(1,3) )\n",
    "    # sleep(8)\n",
    "    \n",
    "    \n",
    "browser.close()"
   ]
  },
  {
   "cell_type": "code",
   "execution_count": 13,
   "id": "a98a46de",
   "metadata": {},
   "outputs": [],
   "source": [
    "# browser.close()"
   ]
  },
  {
   "cell_type": "code",
   "execution_count": 14,
   "id": "52d86835-6acc-4432-8b7a-709b65a9a6e1",
   "metadata": {},
   "outputs": [
    {
     "name": "stdout",
     "output_type": "stream",
     "text": [
      "data/2025/raw/flat/cian/cian_2025-03-21_11-01_raw_sudak.pkl:\t 85.0% -- replaced with data/2025/raw/flat/cian/cian_2025-03-21_11-01_raw_sudak.pkl.gz\n",
      "data/2025/raw/flat/avito/avito_2025-03-21_11-41_raw_sudak.pkl:\t 96.8% -- replaced with data/2025/raw/flat/avito/avito_2025-03-21_11-41_raw_sudak.pkl.gz\n",
      "data/2025/raw/flat/avito/avito_2025-03-21_11-20_raw_sevastopol.pkl:\t 91.4% -- replaced with data/2025/raw/flat/avito/avito_2025-03-21_11-20_raw_sevastopol.pkl.gz\n",
      "data/2025/raw/land/cian/cian_2025-03-21_11-01_raw_sudak.pkl:\t 81.4% -- replaced with data/2025/raw/land/cian/cian_2025-03-21_11-01_raw_sudak.pkl.gz\n",
      "data/2025/raw/land/avito/avito_2025-03-21_11-30_raw_sevastopol.pkl:\t 90.2% -- replaced with data/2025/raw/land/avito/avito_2025-03-21_11-30_raw_sevastopol.pkl.gz\n",
      "data/2025/raw/land/avito/avito_2025-03-21_11-42_raw_sudak.pkl:\t 96.8% -- replaced with data/2025/raw/land/avito/avito_2025-03-21_11-42_raw_sudak.pkl.gz\n",
      " 88.2% -- replaced with data/2025/raw/land/avito/avito_2025-03-21_11-45_raw_bahchisaray.pkl.gz\n",
      "data/2025/raw/house/cian/cian_2025-03-21_11-01_raw_sudak.pkl:\t 77.3% -- replaced with data/2025/raw/house/cian/cian_2025-03-21_11-01_raw_sudak.pkl.gz\n",
      " 78.0% -- replaced with data/2025/raw/house/cian/cian_2025-03-21_11-00_raw_sevastopol.pkl.gz\n",
      "data/2025/raw/house/avito/avito_2025-03-21_11-46_raw_bahchisaray.pkl:\t 82.5% -- replaced with data/2025/raw/house/avito/avito_2025-03-21_11-46_raw_bahchisaray.pkl.gz\n",
      "data/2025/raw/house/avito/avito_2025-03-21_11-42_raw_sudak.pkl:\t 92.6% -- replaced with data/2025/raw/house/avito/avito_2025-03-21_11-42_raw_sudak.pkl.gz\n",
      " 89.1% -- replaced with data/2025/raw/house/avito/avito_2025-03-21_11-39_raw_sevastopol.pkl.gz\n",
      "data/2025/raw/flat-arenda/avito/avito_2025-03-21_11-48_raw_sevastopol.pkl:\t 84.6% -- replaced with data/2025/raw/flat-arenda/avito/avito_2025-03-21_11-48_raw_sevastopol.pkl.gz\n"
     ]
    }
   ],
   "source": [
    "!find data/2025/raw -name *.pkl | xargs gzip -v"
   ]
  },
  {
   "cell_type": "code",
   "execution_count": 15,
   "id": "e97e319b",
   "metadata": {},
   "outputs": [
    {
     "name": "stdout",
     "output_type": "stream",
     "text": [
      "Пт 21 мар 2025 11:48:31 MSK\n"
     ]
    }
   ],
   "source": [
    "!date"
   ]
  },
  {
   "cell_type": "code",
   "execution_count": null,
   "id": "0fcca2ff",
   "metadata": {},
   "outputs": [],
   "source": []
  }
 ],
 "metadata": {
  "kernelspec": {
   "display_name": "Python 3 (ipykernel)",
   "language": "python",
   "name": "python3"
  },
  "language_info": {
   "codemirror_mode": {
    "name": "ipython",
    "version": 3
   },
   "file_extension": ".py",
   "mimetype": "text/x-python",
   "name": "python",
   "nbconvert_exporter": "python",
   "pygments_lexer": "ipython3",
   "version": "3.13.2"
  }
 },
 "nbformat": 4,
 "nbformat_minor": 5
}
