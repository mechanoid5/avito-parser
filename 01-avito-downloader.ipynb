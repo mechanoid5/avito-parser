{
 "cells": [
  {
   "cell_type": "markdown",
   "id": "f79cec14",
   "metadata": {},
   "source": [
    "__качаем объявления о продаже недвижимости с avito.ru__\n",
    "\n",
    "_Evgeny S. Borisov <parser@mechanoid.su>_"
   ]
  },
  {
   "cell_type": "code",
   "execution_count": 1,
   "id": "ceabc62f",
   "metadata": {},
   "outputs": [],
   "source": [
    "import logging\n",
    "import sys \n",
    "\n",
    "logging.basicConfig(\n",
    "        format=u'[%(levelname)-8s] %(asctime)s | %(message)s',\n",
    "        datefmt='%Y-%m-%d %H:%M:%S',\n",
    "        level=logging.INFO,\n",
    "        # level=logging.DEBUG,\n",
    "        stream=sys.stdout,\n",
    "    )"
   ]
  },
  {
   "cell_type": "code",
   "execution_count": 2,
   "id": "23172c9b",
   "metadata": {},
   "outputs": [],
   "source": [
    "from time import sleep\n",
    "from tqdm.auto import tqdm\n",
    "import pandas as pd\n",
    "from datetime import datetime \n",
    "\n",
    "pd.set_option('display.max_colwidth', None)\n",
    "pd.set_option('display.float_format', '{:.2f}'.format)\n",
    "tqdm.pandas()"
   ]
  },
  {
   "cell_type": "code",
   "execution_count": 3,
   "id": "97d83b45",
   "metadata": {},
   "outputs": [],
   "source": [
    "source = [\n",
    "    {\n",
    "            'place': 'sevastopol',\n",
    "        'subfolder': 'flat',\n",
    "              'url': 'https://www.avito.ru/sevastopol/kvartiry/prodam',\n",
    "    },{\n",
    "            'place': 'sevastopol',\n",
    "        'subfolder': 'land',\n",
    "              'url': 'https://www.avito.ru/sevastopol/zemelnye_uchastki/prodam',\n",
    "    },{\n",
    "            'place': 'sevastopol',\n",
    "        'subfolder': 'house',\n",
    "              'url': 'https://www.avito.ru/sevastopol/doma_dachi_kottedzhi/prodam',\n",
    "    },\n",
    "    {\n",
    "            'place': 'sudak',\n",
    "        'subfolder': 'flat',\n",
    "              'url': 'https://www.avito.ru/sudak/kvartiry/prodam',\n",
    "    },\n",
    "    {\n",
    "            'place': 'sudak',\n",
    "        'subfolder': 'land',\n",
    "              'url': 'https://www.avito.ru/sudak/zemelnye_uchastki/prodam',\n",
    "    },{\n",
    "            'place': 'sudak',\n",
    "        'subfolder': 'house',\n",
    "              'url': 'https://www.avito.ru/sudak/doma_dachi_kottedzhi/prodam',\n",
    "    },\n",
    "#     {\n",
    "#             'place': 'bahchisaray',\n",
    "#         'subfolder': 'flat',\n",
    "#               'url': 'https://www.avito.ru/bahchisaray/kvartiry/prodam',\n",
    "#     }, \n",
    "    {\n",
    "            'place': 'bahchisaray',\n",
    "        'subfolder': 'land',\n",
    "              'url': 'https://www.avito.ru/bahchisaray/zemelnye_uchastki/prodam',\n",
    "    },{\n",
    "            'place': 'bahchisaray',\n",
    "        'subfolder': 'house',\n",
    "              'url': 'https://www.avito.ru/bahchisaray/doma_dachi_kottedzhi/prodam',\n",
    "    },\n",
    "\n",
    "]"
   ]
  },
  {
   "cell_type": "markdown",
   "id": "749d8645",
   "metadata": {},
   "source": [
    "---"
   ]
  },
  {
   "cell_type": "code",
   "execution_count": 4,
   "id": "b92abbe2",
   "metadata": {},
   "outputs": [],
   "source": [
    "# from selenium import webdriver\n",
    "# from lib.avito import AvitoPageParser\n",
    "\n",
    "# browser = webdriver.Firefox()\n",
    "# browser.get(source[0]['url'])\n",
    "# data = AvitoPageParser().transform(browser)\n",
    "# # browser.close()"
   ]
  },
  {
   "cell_type": "code",
   "execution_count": 5,
   "id": "13a281e0",
   "metadata": {},
   "outputs": [],
   "source": [
    "# browser.close()"
   ]
  },
  {
   "cell_type": "code",
   "execution_count": 6,
   "id": "8e955d4b",
   "metadata": {},
   "outputs": [],
   "source": [
    "# data"
   ]
  },
  {
   "cell_type": "markdown",
   "id": "f5e2ebb2",
   "metadata": {},
   "source": [
    "---"
   ]
  },
  {
   "cell_type": "code",
   "execution_count": 7,
   "id": "863ee8e4",
   "metadata": {},
   "outputs": [],
   "source": [
    "from selenium import webdriver\n",
    "# from selenium.webdriver.common.by import By\n",
    "from lib.avito import AvitoParser"
   ]
  },
  {
   "cell_type": "code",
   "execution_count": 8,
   "id": "6520cd59",
   "metadata": {},
   "outputs": [],
   "source": [
    "dest_folder = 'data/2024/raw'"
   ]
  },
  {
   "cell_type": "code",
   "execution_count": null,
   "id": "8872059a",
   "metadata": {
    "scrolled": false
   },
   "outputs": [
    {
     "name": "stdout",
     "output_type": "stream",
     "text": [
      "[INFO    ] 2024-09-24 10:32:29 | open virtual browser\n"
     ]
    },
    {
     "data": {
      "text/plain": [
       "'https://www.avito.ru/sevastopol/kvartiry/prodam'"
      ]
     },
     "metadata": {},
     "output_type": "display_data"
    },
    {
     "name": "stdout",
     "output_type": "stream",
     "text": [
      "[INFO    ] 2024-09-24 10:32:40 | page 1: 53 items\n",
      "[INFO    ] 2024-09-24 10:32:53 | page 2: 50 items\n",
      "[INFO    ] 2024-09-24 10:33:04 | page 3: 50 items\n",
      "[INFO    ] 2024-09-24 10:33:15 | page 4: 50 items\n",
      "[INFO    ] 2024-09-24 10:33:24 | page 5: 50 items\n",
      "[INFO    ] 2024-09-24 10:33:34 | page 6: 50 items\n",
      "[INFO    ] 2024-09-24 10:33:44 | page 7: 50 items\n",
      "[INFO    ] 2024-09-24 10:33:54 | page 8: 50 items\n",
      "[INFO    ] 2024-09-24 10:34:04 | page 9: 50 items\n",
      "[INFO    ] 2024-09-24 10:34:14 | page 10: 49 items\n",
      "[INFO    ] 2024-09-24 10:34:25 | page 11: 50 items\n",
      "[INFO    ] 2024-09-24 10:34:35 | page 12: 49 items\n",
      "[INFO    ] 2024-09-24 10:34:46 | page 13: 49 items\n",
      "[INFO    ] 2024-09-24 10:34:57 | page 14: 50 items\n",
      "[INFO    ] 2024-09-24 10:35:08 | page 15: 50 items\n",
      "[INFO    ] 2024-09-24 10:35:21 | page 16: 50 items\n",
      "[INFO    ] 2024-09-24 10:35:31 | page 17: 50 items\n",
      "[INFO    ] 2024-09-24 10:35:42 | page 18: 50 items\n",
      "[INFO    ] 2024-09-24 10:35:54 | page 19: 50 items\n",
      "[INFO    ] 2024-09-24 10:36:04 | page 20: 50 items\n",
      "[INFO    ] 2024-09-24 10:36:15 | page 21: 50 items\n",
      "[INFO    ] 2024-09-24 10:36:25 | page 22: 50 items\n",
      "[INFO    ] 2024-09-24 10:36:37 | page 23: 50 items\n",
      "[INFO    ] 2024-09-24 10:36:47 | page 24: 50 items\n",
      "[INFO    ] 2024-09-24 10:36:58 | page 25: 50 items\n",
      "[INFO    ] 2024-09-24 10:37:07 | page 26: 50 items\n",
      "[INFO    ] 2024-09-24 10:37:16 | page 27: 48 items\n",
      "[INFO    ] 2024-09-24 10:37:25 | page 28: 49 items\n",
      "[INFO    ] 2024-09-24 10:37:35 | page 29: 48 items\n",
      "[INFO    ] 2024-09-24 10:37:46 | page 30: 50 items\n",
      "[INFO    ] 2024-09-24 10:37:55 | page 31: 50 items\n",
      "[INFO    ] 2024-09-24 10:38:05 | page 32: 50 items\n"
     ]
    }
   ],
   "source": [
    "%%time \n",
    "\n",
    "\n",
    "options = webdriver.FirefoxOptions()\n",
    "#options.headless = True\n",
    "browser = webdriver.Firefox(options=options)\n",
    "logging.info('open virtual browser')\n",
    "\n",
    "for s in source:\n",
    "\n",
    "    url = s['url']\n",
    "    place = s['place']\n",
    "    subfolder = s['subfolder'] \n",
    "    \n",
    "    display(url)\n",
    "    browser.get(url)\n",
    "    sleep(3)\n",
    "    \n",
    "    data = AvitoParser().transform(browser)\n",
    "    assert len(data)>0\n",
    "    \n",
    "    df = pd.DataFrame(data)\n",
    "    df['ts'] = datetime.now()\n",
    "    df['place'] = place\n",
    "\n",
    "    display( len(df) )\n",
    "    t_now = datetime.now().strftime('%Y-%m-%d_%H-%M')\n",
    "    fname = f'{dest_folder}/{subfolder}/avito/avito_{t_now}_raw_{place}.pkl'\n",
    "    df.to_pickle(fname)\n",
    "    display( fname )\n",
    "\n",
    "browser.close()"
   ]
  },
  {
   "cell_type": "code",
   "execution_count": null,
   "id": "a98a46de",
   "metadata": {},
   "outputs": [],
   "source": [
    "# browser.close()"
   ]
  },
  {
   "cell_type": "code",
   "execution_count": null,
   "id": "e97e319b",
   "metadata": {},
   "outputs": [],
   "source": [
    "!date"
   ]
  },
  {
   "cell_type": "code",
   "execution_count": null,
   "id": "0fcca2ff",
   "metadata": {},
   "outputs": [],
   "source": []
  }
 ],
 "metadata": {
  "kernelspec": {
   "display_name": "Python 3 (ipykernel)",
   "language": "python",
   "name": "python3"
  },
  "language_info": {
   "codemirror_mode": {
    "name": "ipython",
    "version": 3
   },
   "file_extension": ".py",
   "mimetype": "text/x-python",
   "name": "python",
   "nbconvert_exporter": "python",
   "pygments_lexer": "ipython3",
   "version": "3.12.6"
  }
 },
 "nbformat": 4,
 "nbformat_minor": 5
}
