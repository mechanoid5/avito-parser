{
 "cells": [
  {
   "cell_type": "markdown",
   "id": "f79cec14",
   "metadata": {},
   "source": [
    "__качаем объявления о продаже недвижимости с avito.ru__\n",
    "\n",
    "_Evgeny S. Borisov <parser@mechanoid.su>_"
   ]
  },
  {
   "cell_type": "code",
   "execution_count": 1,
   "id": "ceabc62f",
   "metadata": {},
   "outputs": [],
   "source": [
    "import logging\n",
    "import sys \n",
    "\n",
    "logging.basicConfig(\n",
    "        format=u'[%(levelname)-8s] %(asctime)s | %(message)s',\n",
    "        datefmt='%Y-%m-%d %H:%M:%S',\n",
    "        level=logging.INFO,\n",
    "        # level=logging.DEBUG,\n",
    "        stream=sys.stdout,\n",
    "    )"
   ]
  },
  {
   "cell_type": "code",
   "execution_count": 2,
   "id": "23172c9b",
   "metadata": {},
   "outputs": [],
   "source": [
    "from time import sleep\n",
    "from tqdm.auto import tqdm\n",
    "import pandas as pd\n",
    "from datetime import datetime \n",
    "\n",
    "pd.set_option('display.max_colwidth', None)\n",
    "pd.set_option('display.float_format', '{:.2f}'.format)\n",
    "tqdm.pandas()"
   ]
  },
  {
   "cell_type": "code",
   "execution_count": 3,
   "id": "97d83b45",
   "metadata": {},
   "outputs": [],
   "source": [
    "source = [\n",
    "    {\n",
    "            'place': 'sevastopol',\n",
    "        'subfolder': 'flat',\n",
    "              'url': 'https://www.avito.ru/sevastopol/kvartiry/prodam',\n",
    "    },{\n",
    "            'place': 'sevastopol',\n",
    "        'subfolder': 'land',\n",
    "              'url': 'https://www.avito.ru/sevastopol/zemelnye_uchastki/prodam',\n",
    "    },{\n",
    "            'place': 'sevastopol',\n",
    "        'subfolder': 'house',\n",
    "              'url': 'https://www.avito.ru/sevastopol/doma_dachi_kottedzhi/prodam',\n",
    "    },\n",
    "    {\n",
    "            'place': 'sudak',\n",
    "        'subfolder': 'flat',\n",
    "              'url': 'https://www.avito.ru/sudak/kvartiry/prodam',\n",
    "    },\n",
    "    {\n",
    "            'place': 'sudak',\n",
    "        'subfolder': 'land',\n",
    "              'url': 'https://www.avito.ru/sudak/zemelnye_uchastki/prodam',\n",
    "    },{\n",
    "            'place': 'sudak',\n",
    "        'subfolder': 'house',\n",
    "              'url': 'https://www.avito.ru/sudak/doma_dachi_kottedzhi/prodam',\n",
    "    },\n",
    "#     {\n",
    "#             'place': 'bahchisaray',\n",
    "#         'subfolder': 'flat',\n",
    "#               'url': 'https://www.avito.ru/bahchisaray/kvartiry/prodam',\n",
    "#     }, \n",
    "    {\n",
    "            'place': 'bahchisaray',\n",
    "        'subfolder': 'land',\n",
    "              'url': 'https://www.avito.ru/bahchisaray/zemelnye_uchastki/prodam',\n",
    "    },{\n",
    "            'place': 'bahchisaray',\n",
    "        'subfolder': 'house',\n",
    "              'url': 'https://www.avito.ru/bahchisaray/doma_dachi_kottedzhi/prodam',\n",
    "    },\n",
    "\n",
    "]"
   ]
  },
  {
   "cell_type": "markdown",
   "id": "749d8645",
   "metadata": {},
   "source": [
    "---"
   ]
  },
  {
   "cell_type": "code",
   "execution_count": 4,
   "id": "b92abbe2",
   "metadata": {},
   "outputs": [],
   "source": [
    "# from selenium import webdriver\n",
    "# from lib.avito import AvitoPageParser\n",
    "\n",
    "# browser = webdriver.Firefox()\n",
    "# browser.get(source[0]['url'])\n",
    "# data = AvitoPageParser().transform(browser)\n",
    "# # browser.close()"
   ]
  },
  {
   "cell_type": "code",
   "execution_count": 5,
   "id": "13a281e0",
   "metadata": {},
   "outputs": [],
   "source": [
    "# browser.close()"
   ]
  },
  {
   "cell_type": "code",
   "execution_count": 6,
   "id": "8e955d4b",
   "metadata": {},
   "outputs": [],
   "source": [
    "# data"
   ]
  },
  {
   "cell_type": "markdown",
   "id": "f5e2ebb2",
   "metadata": {},
   "source": [
    "---"
   ]
  },
  {
   "cell_type": "code",
   "execution_count": 7,
   "id": "863ee8e4",
   "metadata": {},
   "outputs": [],
   "source": [
    "from selenium import webdriver\n",
    "# from selenium.webdriver.common.by import By\n",
    "from lib.avito import AvitoParser"
   ]
  },
  {
   "cell_type": "code",
   "execution_count": 8,
   "id": "6520cd59",
   "metadata": {},
   "outputs": [],
   "source": [
    "dest_folder = 'data/2024/raw'"
   ]
  },
  {
   "cell_type": "code",
   "execution_count": 9,
   "id": "8872059a",
   "metadata": {
    "scrolled": false
   },
   "outputs": [
    {
     "name": "stdout",
     "output_type": "stream",
     "text": [
      "[INFO    ] 2024-06-14 12:50:45 | open virtual browser\n"
     ]
    },
    {
     "data": {
      "text/plain": [
       "'https://www.avito.ru/sevastopol/kvartiry/prodam'"
      ]
     },
     "metadata": {},
     "output_type": "display_data"
    },
    {
     "name": "stdout",
     "output_type": "stream",
     "text": [
      "[INFO    ] 2024-06-14 12:50:57 | page 1: 53 items\n",
      "[INFO    ] 2024-06-14 12:51:08 | page 2: 50 items\n",
      "[INFO    ] 2024-06-14 12:51:20 | page 3: 50 items\n",
      "[INFO    ] 2024-06-14 12:51:32 | page 4: 50 items\n",
      "[INFO    ] 2024-06-14 12:51:42 | page 5: 50 items\n",
      "[INFO    ] 2024-06-14 12:51:52 | page 6: 50 items\n",
      "[INFO    ] 2024-06-14 12:52:03 | page 7: 50 items\n",
      "[INFO    ] 2024-06-14 12:52:14 | page 8: 50 items\n",
      "[INFO    ] 2024-06-14 12:52:24 | page 9: 50 items\n",
      "[INFO    ] 2024-06-14 12:52:35 | page 10: 50 items\n",
      "[INFO    ] 2024-06-14 12:52:46 | page 11: 50 items\n",
      "[INFO    ] 2024-06-14 12:52:56 | page 12: 50 items\n",
      "[INFO    ] 2024-06-14 12:53:08 | page 13: 50 items\n",
      "[INFO    ] 2024-06-14 12:53:20 | page 14: 50 items\n",
      "[INFO    ] 2024-06-14 12:53:30 | page 15: 50 items\n",
      "[INFO    ] 2024-06-14 12:53:41 | page 16: 50 items\n",
      "[INFO    ] 2024-06-14 12:53:52 | page 17: 50 items\n",
      "[INFO    ] 2024-06-14 12:54:03 | page 18: 50 items\n",
      "[INFO    ] 2024-06-14 12:54:13 | page 19: 50 items\n",
      "[INFO    ] 2024-06-14 12:54:24 | page 20: 50 items\n",
      "[INFO    ] 2024-06-14 12:54:36 | page 21: 50 items\n",
      "[INFO    ] 2024-06-14 12:54:48 | page 22: 50 items\n",
      "[INFO    ] 2024-06-14 12:55:00 | page 23: 49 items\n",
      "[INFO    ] 2024-06-14 12:55:12 | page 24: 50 items\n",
      "[INFO    ] 2024-06-14 12:55:24 | page 25: 49 items\n",
      "[INFO    ] 2024-06-14 12:55:36 | page 26: 49 items\n",
      "[INFO    ] 2024-06-14 12:55:49 | page 27: 49 items\n",
      "[INFO    ] 2024-06-14 12:56:00 | page 28: 49 items\n",
      "[INFO    ] 2024-06-14 12:56:12 | page 29: 49 items\n",
      "[INFO    ] 2024-06-14 12:56:22 | page 30: 48 items\n",
      "[INFO    ] 2024-06-14 12:56:33 | page 31: 50 items\n",
      "[INFO    ] 2024-06-14 12:56:43 | page 32: 49 items\n",
      "[INFO    ] 2024-06-14 12:56:55 | page 33: 50 items\n",
      "[INFO    ] 2024-06-14 12:57:07 | page 34: 50 items\n",
      "[INFO    ] 2024-06-14 12:57:18 | page 35: 49 items\n",
      "[INFO    ] 2024-06-14 12:57:30 | page 36: 50 items\n",
      "[INFO    ] 2024-06-14 12:57:41 | page 37: 49 items\n",
      "[INFO    ] 2024-06-14 12:57:52 | page 38: 48 items\n",
      "[INFO    ] 2024-06-14 12:58:02 | page 39: 49 items\n",
      "[INFO    ] 2024-06-14 12:58:13 | page 40: 47 items\n",
      "[INFO    ] 2024-06-14 12:58:23 | page 41: 48 items\n",
      "[INFO    ] 2024-06-14 12:58:36 | page 42: 48 items\n",
      "[INFO    ] 2024-06-14 12:58:44 | page 43: 47 items\n",
      "[INFO    ] 2024-06-14 12:58:54 | page 44: 47 items\n",
      "[INFO    ] 2024-06-14 12:59:04 | page 45: 48 items\n",
      "[INFO    ] 2024-06-14 12:59:15 | page 46: 50 items\n",
      "[INFO    ] 2024-06-14 12:59:26 | page 47: 50 items\n",
      "[INFO    ] 2024-06-14 12:59:37 | page 48: 50 items\n",
      "[INFO    ] 2024-06-14 12:59:49 | page 49: 50 items\n",
      "[INFO    ] 2024-06-14 13:00:00 | page 50: 50 items\n",
      "[INFO    ] 2024-06-14 13:00:11 | page 51: 50 items\n",
      "[INFO    ] 2024-06-14 13:00:22 | page 52: 50 items\n",
      "[INFO    ] 2024-06-14 13:00:33 | page 53: 50 items\n",
      "[INFO    ] 2024-06-14 13:00:45 | page 54: 50 items\n",
      "[INFO    ] 2024-06-14 13:00:56 | page 55: 50 items\n",
      "[INFO    ] 2024-06-14 13:01:07 | page 56: 50 items\n",
      "[INFO    ] 2024-06-14 13:01:19 | page 57: 50 items\n",
      "[INFO    ] 2024-06-14 13:01:30 | page 58: 50 items\n",
      "[INFO    ] 2024-06-14 13:01:41 | page 59: 50 items\n",
      "[INFO    ] 2024-06-14 13:01:53 | page 60: 50 items\n",
      "[INFO    ] 2024-06-14 13:02:04 | page 61: 50 items\n",
      "[INFO    ] 2024-06-14 13:02:18 | page 62: 50 items\n",
      "[INFO    ] 2024-06-14 13:02:30 | page 63: 50 items\n",
      "[INFO    ] 2024-06-14 13:02:42 | page 64: 48 items\n",
      "[INFO    ] 2024-06-14 13:02:52 | page 65: 46 items\n",
      "[INFO    ] 2024-06-14 13:03:03 | page 66: 48 items\n",
      "[INFO    ] 2024-06-14 13:03:14 | page 67: 47 items\n",
      "[INFO    ] 2024-06-14 13:03:25 | page 68: 47 items\n",
      "[INFO    ] 2024-06-14 13:03:35 | page 69: 43 items\n",
      "[INFO    ] 2024-06-14 13:03:46 | page 70: 45 items\n",
      "[INFO    ] 2024-06-14 13:03:57 | page 71: 46 items\n",
      "[INFO    ] 2024-06-14 13:04:09 | page 72: 47 items\n",
      "[INFO    ] 2024-06-14 13:04:20 | page 73: 47 items\n",
      "[INFO    ] 2024-06-14 13:04:31 | page 74: 46 items\n",
      "[INFO    ] 2024-06-14 13:04:42 | page 75: 46 items\n",
      "[INFO    ] 2024-06-14 13:04:53 | page 76: 46 items\n",
      "[INFO    ] 2024-06-14 13:05:05 | page 77: 47 items\n",
      "[INFO    ] 2024-06-14 13:05:16 | page 78: 47 items\n",
      "[INFO    ] 2024-06-14 13:05:28 | page 79: 50 items\n",
      "[INFO    ] 2024-06-14 13:05:39 | page 80: 49 items\n",
      "[INFO    ] 2024-06-14 13:05:51 | page 81: 50 items\n",
      "[INFO    ] 2024-06-14 13:06:04 | page 82: 50 items\n",
      "[INFO    ] 2024-06-14 13:06:12 | page 83: 30 items\n",
      "[INFO    ] 2024-06-14 13:06:20 | page 84: 33 items\n",
      "[INFO    ] 2024-06-14 13:06:31 | page 85: 50 items\n",
      "[INFO    ] 2024-06-14 13:06:41 | page 86: 43 items\n",
      "[INFO    ] 2024-06-14 13:06:45 | page 87: 15 items\n"
     ]
    },
    {
     "data": {
      "text/plain": [
       "4190"
      ]
     },
     "metadata": {},
     "output_type": "display_data"
    },
    {
     "data": {
      "text/plain": [
       "'data/2024/raw/flat/avito/avito_2024-06-14_13-06_raw_sevastopol.pkl'"
      ]
     },
     "metadata": {},
     "output_type": "display_data"
    },
    {
     "data": {
      "text/plain": [
       "'https://www.avito.ru/sevastopol/zemelnye_uchastki/prodam'"
      ]
     },
     "metadata": {},
     "output_type": "display_data"
    },
    {
     "name": "stdout",
     "output_type": "stream",
     "text": [
      "[INFO    ] 2024-06-14 13:06:55 | page 1: 50 items\n",
      "[INFO    ] 2024-06-14 13:07:04 | page 2: 50 items\n",
      "[INFO    ] 2024-06-14 13:07:13 | page 3: 49 items\n",
      "[INFO    ] 2024-06-14 13:07:22 | page 4: 50 items\n",
      "[INFO    ] 2024-06-14 13:07:31 | page 5: 50 items\n",
      "[INFO    ] 2024-06-14 13:07:39 | page 6: 50 items\n",
      "[INFO    ] 2024-06-14 13:07:48 | page 7: 50 items\n",
      "[INFO    ] 2024-06-14 13:07:57 | page 8: 50 items\n",
      "[INFO    ] 2024-06-14 13:08:05 | page 9: 50 items\n",
      "[INFO    ] 2024-06-14 13:08:13 | page 10: 50 items\n",
      "[INFO    ] 2024-06-14 13:08:22 | page 11: 50 items\n",
      "[INFO    ] 2024-06-14 13:08:30 | page 12: 50 items\n",
      "[INFO    ] 2024-06-14 13:08:38 | page 13: 50 items\n",
      "[INFO    ] 2024-06-14 13:08:46 | page 14: 50 items\n",
      "[INFO    ] 2024-06-14 13:08:55 | page 15: 50 items\n",
      "[INFO    ] 2024-06-14 13:09:03 | page 16: 50 items\n",
      "[INFO    ] 2024-06-14 13:09:11 | page 17: 50 items\n",
      "[INFO    ] 2024-06-14 13:09:19 | page 18: 50 items\n",
      "[INFO    ] 2024-06-14 13:09:28 | page 19: 50 items\n",
      "[INFO    ] 2024-06-14 13:09:36 | page 20: 50 items\n",
      "[INFO    ] 2024-06-14 13:09:45 | page 21: 50 items\n",
      "[INFO    ] 2024-06-14 13:09:54 | page 22: 50 items\n",
      "[INFO    ] 2024-06-14 13:10:02 | page 23: 50 items\n",
      "[INFO    ] 2024-06-14 13:10:12 | page 24: 50 items\n",
      "[INFO    ] 2024-06-14 13:10:20 | page 25: 50 items\n",
      "[INFO    ] 2024-06-14 13:10:29 | page 26: 50 items\n",
      "[INFO    ] 2024-06-14 13:10:39 | page 27: 50 items\n",
      "[INFO    ] 2024-06-14 13:10:48 | page 28: 50 items\n",
      "[INFO    ] 2024-06-14 13:10:56 | page 29: 50 items\n",
      "[INFO    ] 2024-06-14 13:11:06 | page 30: 50 items\n",
      "[INFO    ] 2024-06-14 13:11:15 | page 31: 50 items\n",
      "[INFO    ] 2024-06-14 13:11:24 | page 32: 50 items\n",
      "[INFO    ] 2024-06-14 13:11:34 | page 33: 50 items\n",
      "[INFO    ] 2024-06-14 13:11:44 | page 34: 50 items\n",
      "[INFO    ] 2024-06-14 13:11:53 | page 35: 50 items\n",
      "[INFO    ] 2024-06-14 13:12:03 | page 36: 50 items\n",
      "[INFO    ] 2024-06-14 13:12:11 | page 37: 50 items\n",
      "[INFO    ] 2024-06-14 13:12:20 | page 38: 50 items\n",
      "[INFO    ] 2024-06-14 13:12:29 | page 39: 50 items\n",
      "[INFO    ] 2024-06-14 13:12:38 | page 40: 50 items\n",
      "[INFO    ] 2024-06-14 13:12:47 | page 41: 50 items\n",
      "[INFO    ] 2024-06-14 13:12:56 | page 42: 50 items\n",
      "[INFO    ] 2024-06-14 13:13:05 | page 43: 50 items\n",
      "[INFO    ] 2024-06-14 13:13:14 | page 44: 50 items\n",
      "[INFO    ] 2024-06-14 13:13:23 | page 45: 50 items\n",
      "[INFO    ] 2024-06-14 13:13:27 | page 46: 17 items\n"
     ]
    },
    {
     "data": {
      "text/plain": [
       "2266"
      ]
     },
     "metadata": {},
     "output_type": "display_data"
    },
    {
     "data": {
      "text/plain": [
       "'data/2024/raw/land/avito/avito_2024-06-14_13-13_raw_sevastopol.pkl'"
      ]
     },
     "metadata": {},
     "output_type": "display_data"
    },
    {
     "data": {
      "text/plain": [
       "'https://www.avito.ru/sevastopol/doma_dachi_kottedzhi/prodam'"
      ]
     },
     "metadata": {},
     "output_type": "display_data"
    },
    {
     "name": "stdout",
     "output_type": "stream",
     "text": [
      "[INFO    ] 2024-06-14 13:13:36 | page 1: 50 items\n",
      "[INFO    ] 2024-06-14 13:13:45 | page 2: 50 items\n",
      "[INFO    ] 2024-06-14 13:13:54 | page 3: 50 items\n",
      "[INFO    ] 2024-06-14 13:14:03 | page 4: 49 items\n",
      "[INFO    ] 2024-06-14 13:14:12 | page 5: 50 items\n",
      "[INFO    ] 2024-06-14 13:14:20 | page 6: 50 items\n",
      "[INFO    ] 2024-06-14 13:14:29 | page 7: 50 items\n",
      "[INFO    ] 2024-06-14 13:14:38 | page 8: 50 items\n",
      "[INFO    ] 2024-06-14 13:14:46 | page 9: 50 items\n",
      "[INFO    ] 2024-06-14 13:14:55 | page 10: 50 items\n",
      "[INFO    ] 2024-06-14 13:15:04 | page 11: 50 items\n",
      "[INFO    ] 2024-06-14 13:15:13 | page 12: 50 items\n",
      "[INFO    ] 2024-06-14 13:15:21 | page 13: 50 items\n",
      "[INFO    ] 2024-06-14 13:15:30 | page 14: 50 items\n",
      "[INFO    ] 2024-06-14 13:15:39 | page 15: 50 items\n",
      "[INFO    ] 2024-06-14 13:15:48 | page 16: 50 items\n",
      "[INFO    ] 2024-06-14 13:15:57 | page 17: 50 items\n",
      "[INFO    ] 2024-06-14 13:16:06 | page 18: 50 items\n",
      "[INFO    ] 2024-06-14 13:16:15 | page 19: 50 items\n",
      "[INFO    ] 2024-06-14 13:16:24 | page 20: 50 items\n",
      "[INFO    ] 2024-06-14 13:16:33 | page 21: 50 items\n",
      "[INFO    ] 2024-06-14 13:16:42 | page 22: 50 items\n",
      "[INFO    ] 2024-06-14 13:16:52 | page 23: 50 items\n",
      "[INFO    ] 2024-06-14 13:17:02 | page 24: 50 items\n",
      "[INFO    ] 2024-06-14 13:17:12 | page 25: 50 items\n",
      "[INFO    ] 2024-06-14 13:17:21 | page 26: 50 items\n",
      "[INFO    ] 2024-06-14 13:17:30 | page 27: 50 items\n",
      "[INFO    ] 2024-06-14 13:17:40 | page 28: 50 items\n",
      "[INFO    ] 2024-06-14 13:17:50 | page 29: 50 items\n",
      "[INFO    ] 2024-06-14 13:18:00 | page 30: 50 items\n",
      "[INFO    ] 2024-06-14 13:18:10 | page 31: 50 items\n",
      "[INFO    ] 2024-06-14 13:18:19 | page 32: 50 items\n",
      "[INFO    ] 2024-06-14 13:18:29 | page 33: 50 items\n",
      "[INFO    ] 2024-06-14 13:18:38 | page 34: 50 items\n",
      "[INFO    ] 2024-06-14 13:18:48 | page 35: 50 items\n",
      "[INFO    ] 2024-06-14 13:18:58 | page 36: 50 items\n",
      "[INFO    ] 2024-06-14 13:19:08 | page 37: 50 items\n",
      "[INFO    ] 2024-06-14 13:19:18 | page 38: 50 items\n",
      "[INFO    ] 2024-06-14 13:19:28 | page 39: 50 items\n",
      "[INFO    ] 2024-06-14 13:19:37 | page 40: 49 items\n",
      "[INFO    ] 2024-06-14 13:19:47 | page 41: 50 items\n",
      "[INFO    ] 2024-06-14 13:19:57 | page 42: 50 items\n",
      "[INFO    ] 2024-06-14 13:20:08 | page 43: 50 items\n",
      "[INFO    ] 2024-06-14 13:20:18 | page 44: 50 items\n",
      "[INFO    ] 2024-06-14 13:20:28 | page 45: 50 items\n",
      "[INFO    ] 2024-06-14 13:20:38 | page 46: 50 items\n",
      "[INFO    ] 2024-06-14 13:20:44 | page 47: 25 items\n"
     ]
    },
    {
     "data": {
      "text/plain": [
       "2323"
      ]
     },
     "metadata": {},
     "output_type": "display_data"
    },
    {
     "data": {
      "text/plain": [
       "'data/2024/raw/house/avito/avito_2024-06-14_13-20_raw_sevastopol.pkl'"
      ]
     },
     "metadata": {},
     "output_type": "display_data"
    },
    {
     "data": {
      "text/plain": [
       "'https://www.avito.ru/sudak/kvartiry/prodam'"
      ]
     },
     "metadata": {},
     "output_type": "display_data"
    },
    {
     "name": "stdout",
     "output_type": "stream",
     "text": [
      "[INFO    ] 2024-06-14 13:20:56 | page 1: 53 items\n",
      "[INFO    ] 2024-06-14 13:21:06 | page 2: 50 items\n",
      "[INFO    ] 2024-06-14 13:21:15 | page 3: 50 items\n",
      "[INFO    ] 2024-06-14 13:21:25 | page 4: 50 items\n",
      "[INFO    ] 2024-06-14 13:21:35 | page 5: 50 items\n",
      "[INFO    ] 2024-06-14 13:21:45 | page 6: 50 items\n",
      "[INFO    ] 2024-06-14 13:21:56 | page 7: 50 items\n",
      "[INFO    ] 2024-06-14 13:21:58 | page 8: 2 items\n"
     ]
    },
    {
     "data": {
      "text/plain": [
       "355"
      ]
     },
     "metadata": {},
     "output_type": "display_data"
    },
    {
     "data": {
      "text/plain": [
       "'data/2024/raw/flat/avito/avito_2024-06-14_13-21_raw_sudak.pkl'"
      ]
     },
     "metadata": {},
     "output_type": "display_data"
    },
    {
     "data": {
      "text/plain": [
       "'https://www.avito.ru/sudak/zemelnye_uchastki/prodam'"
      ]
     },
     "metadata": {},
     "output_type": "display_data"
    },
    {
     "name": "stdout",
     "output_type": "stream",
     "text": [
      "[INFO    ] 2024-06-14 13:22:07 | page 1: 50 items\n",
      "[INFO    ] 2024-06-14 13:22:15 | page 2: 50 items\n",
      "[INFO    ] 2024-06-14 13:22:22 | page 3: 50 items\n",
      "[INFO    ] 2024-06-14 13:22:30 | page 4: 50 items\n",
      "[INFO    ] 2024-06-14 13:22:39 | page 5: 50 items\n",
      "[INFO    ] 2024-06-14 13:22:43 | page 6: 21 items\n"
     ]
    },
    {
     "data": {
      "text/plain": [
       "271"
      ]
     },
     "metadata": {},
     "output_type": "display_data"
    },
    {
     "data": {
      "text/plain": [
       "'data/2024/raw/land/avito/avito_2024-06-14_13-22_raw_sudak.pkl'"
      ]
     },
     "metadata": {},
     "output_type": "display_data"
    },
    {
     "data": {
      "text/plain": [
       "'https://www.avito.ru/sudak/doma_dachi_kottedzhi/prodam'"
      ]
     },
     "metadata": {},
     "output_type": "display_data"
    },
    {
     "name": "stdout",
     "output_type": "stream",
     "text": [
      "[INFO    ] 2024-06-14 13:22:51 | page 1: 50 items\n",
      "[INFO    ] 2024-06-14 13:22:59 | page 2: 50 items\n",
      "[INFO    ] 2024-06-14 13:23:08 | page 3: 50 items\n",
      "[INFO    ] 2024-06-14 13:23:10 | page 4: 5 items\n"
     ]
    },
    {
     "data": {
      "text/plain": [
       "155"
      ]
     },
     "metadata": {},
     "output_type": "display_data"
    },
    {
     "data": {
      "text/plain": [
       "'data/2024/raw/house/avito/avito_2024-06-14_13-23_raw_sudak.pkl'"
      ]
     },
     "metadata": {},
     "output_type": "display_data"
    },
    {
     "data": {
      "text/plain": [
       "'https://www.avito.ru/bahchisaray/zemelnye_uchastki/prodam'"
      ]
     },
     "metadata": {},
     "output_type": "display_data"
    },
    {
     "name": "stdout",
     "output_type": "stream",
     "text": [
      "[INFO    ] 2024-06-14 13:23:19 | page 1: 50 items\n",
      "[INFO    ] 2024-06-14 13:23:27 | page 2: 50 items\n",
      "[INFO    ] 2024-06-14 13:23:36 | page 3: 50 items\n",
      "[INFO    ] 2024-06-14 13:23:43 | page 4: 50 items\n",
      "[INFO    ] 2024-06-14 13:23:51 | page 5: 50 items\n",
      "[INFO    ] 2024-06-14 13:24:00 | page 6: 50 items\n",
      "[INFO    ] 2024-06-14 13:24:08 | page 7: 50 items\n"
     ]
    },
    {
     "data": {
      "text/plain": [
       "350"
      ]
     },
     "metadata": {},
     "output_type": "display_data"
    },
    {
     "data": {
      "text/plain": [
       "'data/2024/raw/land/avito/avito_2024-06-14_13-24_raw_bahchisaray.pkl'"
      ]
     },
     "metadata": {},
     "output_type": "display_data"
    },
    {
     "data": {
      "text/plain": [
       "'https://www.avito.ru/bahchisaray/doma_dachi_kottedzhi/prodam'"
      ]
     },
     "metadata": {},
     "output_type": "display_data"
    },
    {
     "name": "stdout",
     "output_type": "stream",
     "text": [
      "[INFO    ] 2024-06-14 13:24:17 | page 1: 50 items\n",
      "[INFO    ] 2024-06-14 13:24:25 | page 2: 50 items\n",
      "[INFO    ] 2024-06-14 13:24:34 | page 3: 50 items\n",
      "[INFO    ] 2024-06-14 13:24:42 | page 4: 50 items\n",
      "[INFO    ] 2024-06-14 13:24:51 | page 5: 50 items\n",
      "[INFO    ] 2024-06-14 13:24:56 | page 6: 30 items\n"
     ]
    },
    {
     "data": {
      "text/plain": [
       "280"
      ]
     },
     "metadata": {},
     "output_type": "display_data"
    },
    {
     "data": {
      "text/plain": [
       "'data/2024/raw/house/avito/avito_2024-06-14_13-24_raw_bahchisaray.pkl'"
      ]
     },
     "metadata": {},
     "output_type": "display_data"
    },
    {
     "name": "stdout",
     "output_type": "stream",
     "text": [
      "CPU times: user 4min 30s, sys: 11.5 s, total: 4min 42s\n",
      "Wall time: 34min 13s\n"
     ]
    }
   ],
   "source": [
    "%%time \n",
    "\n",
    "\n",
    "options = webdriver.FirefoxOptions()\n",
    "#options.headless = True\n",
    "browser = webdriver.Firefox(options=options)\n",
    "logging.info('open virtual browser')\n",
    "\n",
    "for s in source:\n",
    "\n",
    "    url = s['url']\n",
    "    place = s['place']\n",
    "    subfolder = s['subfolder'] \n",
    "    \n",
    "    display(url)\n",
    "    browser.get(url)\n",
    "    # sleep(1)\n",
    "    \n",
    "    data = AvitoParser().transform(browser)\n",
    "    assert len(data)>0\n",
    "    \n",
    "    df = pd.DataFrame(data)\n",
    "    df['ts'] = datetime.now()\n",
    "    df['place'] = place\n",
    "\n",
    "    display( len(df) )\n",
    "    t_now = datetime.now().strftime('%Y-%m-%d_%H-%M')\n",
    "    fname = f'{dest_folder}/{subfolder}/avito/avito_{t_now}_raw_{place}.pkl'\n",
    "    df.to_pickle(fname)\n",
    "    display( fname )\n",
    "\n",
    "browser.close()"
   ]
  },
  {
   "cell_type": "code",
   "execution_count": 10,
   "id": "a98a46de",
   "metadata": {},
   "outputs": [],
   "source": [
    "# browser.close()"
   ]
  },
  {
   "cell_type": "code",
   "execution_count": 11,
   "id": "e97e319b",
   "metadata": {},
   "outputs": [
    {
     "name": "stdout",
     "output_type": "stream",
     "text": [
      "Пт 14 июн 2024 13:24:57 MSK\r\n"
     ]
    }
   ],
   "source": [
    "!date"
   ]
  },
  {
   "cell_type": "code",
   "execution_count": null,
   "id": "0fcca2ff",
   "metadata": {},
   "outputs": [],
   "source": []
  }
 ],
 "metadata": {
  "kernelspec": {
   "display_name": "Python 3 (ipykernel)",
   "language": "python",
   "name": "python3"
  },
  "language_info": {
   "codemirror_mode": {
    "name": "ipython",
    "version": 3
   },
   "file_extension": ".py",
   "mimetype": "text/x-python",
   "name": "python",
   "nbconvert_exporter": "python",
   "pygments_lexer": "ipython3",
   "version": "3.12.3"
  }
 },
 "nbformat": 4,
 "nbformat_minor": 5
}
