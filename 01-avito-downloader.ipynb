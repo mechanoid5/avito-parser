{
 "cells": [
  {
   "cell_type": "markdown",
   "id": "7bec28d7",
   "metadata": {},
   "source": [
    "__применение парсера объявлений авито.ru__\n",
    "\n",
    "_Evgeny S. Borisov <parser@mechanoid.su>_"
   ]
  },
  {
   "cell_type": "code",
   "execution_count": 1,
   "id": "52c5999f",
   "metadata": {},
   "outputs": [],
   "source": [
    "# !pacman -S firefox firefox-i18n-r  geckodriver\n",
    "# !pip install seleniuam"
   ]
  },
  {
   "cell_type": "code",
   "execution_count": 2,
   "id": "bcea4d8b",
   "metadata": {
    "ExecuteTime": {
     "end_time": "2022-08-26T14:19:06.118492Z",
     "start_time": "2022-08-26T14:13:37.888398Z"
    }
   },
   "outputs": [],
   "source": [
    "# import re\n",
    "import sys\n",
    "import logging\n",
    "from datetime import datetime as dtm\n",
    "from tqdm.notebook import tqdm\n",
    "import pandas as pd"
   ]
  },
  {
   "cell_type": "code",
   "execution_count": 3,
   "id": "caabc8c7",
   "metadata": {
    "ExecuteTime": {
     "end_time": "2022-08-26T14:19:06.118492Z",
     "start_time": "2022-08-26T14:13:37.888398Z"
    }
   },
   "outputs": [],
   "source": [
    "pd.set_option('display.max_colwidth', None)\n",
    "pd.set_option('display.float_format', '{:.2f}'.format)\n",
    "tqdm.pandas()\n",
    "\n",
    "logging.basicConfig(\n",
    "        format=u'[%(levelname)-8s] %(asctime)s | %(message)s',\n",
    "        datefmt='%Y-%m-%d %H:%M:%S',\n",
    "        level=logging.INFO,\n",
    "        # level=logging.DEBUG,\n",
    "        stream=sys.stdout,\n",
    "    )"
   ]
  },
  {
   "cell_type": "markdown",
   "id": "db3fe2be",
   "metadata": {},
   "source": [
    "---"
   ]
  },
  {
   "cell_type": "code",
   "execution_count": 5,
   "id": "288569b0",
   "metadata": {},
   "outputs": [],
   "source": [
    "# url = (\n",
    "# 'https://www.avito.ru/yaroslavskaya_oblast/avtomobili/chevrolet/niva'\n",
    "# '?bt=0'\n",
    "# '&i=1'\n",
    "# '&pmax=150000'\n",
    "# '&pmin=10000'\n",
    "# )"
   ]
  },
  {
   "cell_type": "code",
   "execution_count": 6,
   "id": "d437eab9",
   "metadata": {},
   "outputs": [],
   "source": [
    "profile_path = '/home/mechanoid/.mozilla/firefox/p144xo2m.default-release'\n",
    "\n",
    "base_url = 'https://www.avito.ru/'\n",
    "avito_path = 'sevastopol/kvartiry/prodam'\n",
    "\n",
    "raw_data_path = 'data/raw/' # каталог с файлами объявлений\n",
    "loc_file_path = 'data/location.pkl' # таблица адресов\n",
    "result_file_path = 'data/data.pkl'"
   ]
  },
  {
   "cell_type": "code",
   "execution_count": 7,
   "id": "31463a1e",
   "metadata": {},
   "outputs": [
    {
     "data": {
      "text/plain": [
       "'2022-09-06_20-08'"
      ]
     },
     "execution_count": 7,
     "metadata": {},
     "output_type": "execute_result"
    }
   ],
   "source": [
    "ts = dtm.now().strftime('%Y-%m-%d_%H-%M')\n",
    "ts"
   ]
  },
  {
   "cell_type": "markdown",
   "id": "bed3fc93",
   "metadata": {},
   "source": [
    "## качаем новые данные"
   ]
  },
  {
   "cell_type": "code",
   "execution_count": null,
   "id": "9ce138fe",
   "metadata": {},
   "outputs": [],
   "source": [
    "%%time \n",
    "\n",
    "from lib.downloader import DownloaderSeleniumFirefox\n",
    "from lib.avito import AvitoDownloaderRealty\n",
    "\n",
    "df = AvitoDownloaderRealty(\n",
    "        driver=DownloaderSeleniumFirefox(profile_path)\n",
    "    ).load(avito_path, show_pbar=True, )\n",
    "\n",
    "print(len(df))"
   ]
  },
  {
   "cell_type": "code",
   "execution_count": null,
   "id": "6fa322a2",
   "metadata": {},
   "outputs": [],
   "source": [
    "assert len(df)>0\n",
    "df.to_excel(f'{raw_data_path}/avito_{ts}_raw.xlsx',index=False)"
   ]
  },
  {
   "cell_type": "code",
   "execution_count": null,
   "id": "bcd426ee",
   "metadata": {},
   "outputs": [],
   "source": [
    "df.sample(2)"
   ]
  },
  {
   "cell_type": "markdown",
   "id": "98f6384f",
   "metadata": {},
   "source": [
    "## собираем и чистим данные"
   ]
  },
  {
   "cell_type": "code",
   "execution_count": 8,
   "id": "2673ef1f",
   "metadata": {},
   "outputs": [
    {
     "data": {
      "text/plain": [
       "['data/raw//avito_2022-08-26_17-29_raw.xlsx',\n",
       " 'data/raw//avito_2022-08-29_13-16_raw.xlsx',\n",
       " 'data/raw//avito_2022-08-31_17-42_raw.xlsx',\n",
       " 'data/raw//avito_2022-09-01_14-07_raw.xlsx',\n",
       " 'data/raw//avito_2022-09-02_13-04_raw.xlsx',\n",
       " 'data/raw//avito_2022-09-05_14-02_raw.xlsx',\n",
       " 'data/raw//avito_2022-09-06_13-09_raw.xlsx']"
      ]
     },
     "execution_count": 8,
     "metadata": {},
     "output_type": "execute_result"
    }
   ],
   "source": [
    "import re\n",
    "from os import listdir\n",
    "\n",
    "raw_data_files = sorted([ raw_data_path+'/'+f for f in listdir(raw_data_path) if re.match(r'.+\\.xlsx$',f) ])\n",
    "raw_data_files"
   ]
  },
  {
   "cell_type": "code",
   "execution_count": 9,
   "id": "819a9675",
   "metadata": {},
   "outputs": [
    {
     "name": "stdout",
     "output_type": "stream",
     "text": [
      "25677\n"
     ]
    }
   ],
   "source": [
    "from lib.avito import AvitoDataCleanerRealty\n",
    "\n",
    "data = pd.concat(\n",
    "        [ pd.read_excel(f) for f in raw_data_files ]\n",
    "    ).drop_duplicates().reset_index(drop=True)\n",
    "\n",
    "data = AvitoDataCleanerRealty.transform( data )\n",
    "\n",
    "print(len(data))"
   ]
  },
  {
   "cell_type": "code",
   "execution_count": 10,
   "id": "ce2869e1",
   "metadata": {},
   "outputs": [],
   "source": [
    "assert len(data)>0"
   ]
  },
  {
   "cell_type": "code",
   "execution_count": 11,
   "id": "12170700",
   "metadata": {},
   "outputs": [
    {
     "name": "stdout",
     "output_type": "stream",
     "text": [
      "<class 'pandas.core.frame.DataFrame'>\n",
      "RangeIndex: 25677 entries, 0 to 25676\n",
      "Data columns (total 21 columns):\n",
      " #   Column         Non-Null Count  Dtype         \n",
      "---  ------         --------------  -----         \n",
      " 0   avito_id       25677 non-null  int64         \n",
      " 1   title          25677 non-null  object        \n",
      " 2   price          25677 non-null  int64         \n",
      " 3   adr            25677 non-null  object        \n",
      " 4   description    25657 non-null  object        \n",
      " 5   obj_name       16754 non-null  object        \n",
      " 6   ts             25677 non-null  datetime64[ns]\n",
      " 7   avito_page     25677 non-null  int64         \n",
      " 8   nrooms         25677 non-null  int64         \n",
      " 9   floor          25677 non-null  int64         \n",
      " 10  nfloors        25677 non-null  int64         \n",
      " 11  area           25677 non-null  float64       \n",
      " 12  is_studio      25677 non-null  bool          \n",
      " 13  is_apartment   25677 non-null  bool          \n",
      " 14  is_part        25677 non-null  bool          \n",
      " 15  is_auction     25677 non-null  bool          \n",
      " 16  is_openspace   25677 non-null  bool          \n",
      " 17  is_roof        25657 non-null  object        \n",
      " 18  is_SNT         25677 non-null  bool          \n",
      " 19  priceM         25677 non-null  float64       \n",
      " 20  is_last_floor  25677 non-null  bool          \n",
      "dtypes: bool(7), datetime64[ns](1), float64(2), int64(6), object(5)\n",
      "memory usage: 2.9+ MB\n"
     ]
    }
   ],
   "source": [
    "data.info(2)"
   ]
  },
  {
   "cell_type": "markdown",
   "id": "2903ab86",
   "metadata": {},
   "source": [
    "### обновляем таблицу адресов"
   ]
  },
  {
   "cell_type": "code",
   "execution_count": 12,
   "id": "7d191d0d",
   "metadata": {},
   "outputs": [
    {
     "name": "stdout",
     "output_type": "stream",
     "text": [
      "[INFO    ] 2022-09-06 20:09:15 | LocationUpdater: 1706 addresses in location table\n",
      "[INFO    ] 2022-09-06 20:09:15 | LocationUpdater: 1882 addresses total\n",
      "[INFO    ] 2022-09-06 20:09:15 | LocationUpdater: 1706 addresses defined\n",
      "[INFO    ] 2022-09-06 20:09:15 | LocationUpdater: 176 addresses undefined\n"
     ]
    },
    {
     "data": {
      "application/vnd.jupyter.widget-view+json": {
       "model_id": "943accde6eb94893a0a4fce03eaf1ddb",
       "version_major": 2,
       "version_minor": 0
      },
      "text/plain": [
       "  0%|          | 0/176 [00:00<?, ?it/s]"
      ]
     },
     "metadata": {},
     "output_type": "display_data"
    },
    {
     "name": "stdout",
     "output_type": "stream",
     "text": [
      "[INFO    ] 2022-09-06 20:11:32 | LocationUpdater: 131 new addresses found\n"
     ]
    }
   ],
   "source": [
    "from lib.locator import LocationUpdater\n",
    "from lib.locator import AddressTransformerSev\n",
    "\n",
    "loc = LocationUpdater(\n",
    "        address_transformer=AddressTransformerSev(),\n",
    "    ).transform(\n",
    "        adr=data['adr'],\n",
    "        loc=pd.read_pickle(loc_file_path),\n",
    "        show_pbar=True,\n",
    "    )"
   ]
  },
  {
   "cell_type": "code",
   "execution_count": 13,
   "id": "19741bb7",
   "metadata": {},
   "outputs": [
    {
     "data": {
      "text/html": [
       "<div>\n",
       "<style scoped>\n",
       "    .dataframe tbody tr th:only-of-type {\n",
       "        vertical-align: middle;\n",
       "    }\n",
       "\n",
       "    .dataframe tbody tr th {\n",
       "        vertical-align: top;\n",
       "    }\n",
       "\n",
       "    .dataframe thead th {\n",
       "        text-align: right;\n",
       "    }\n",
       "</style>\n",
       "<table border=\"1\" class=\"dataframe\">\n",
       "  <thead>\n",
       "    <tr style=\"text-align: right;\">\n",
       "      <th></th>\n",
       "      <th>adr</th>\n",
       "      <th>latitude</th>\n",
       "      <th>longitude</th>\n",
       "      <th>truncated</th>\n",
       "    </tr>\n",
       "  </thead>\n",
       "  <tbody>\n",
       "    <tr>\n",
       "      <th>1191</th>\n",
       "      <td>село Орловка, Качинское шоссе , 33/3</td>\n",
       "      <td>44.73</td>\n",
       "      <td>33.58</td>\n",
       "      <td>True</td>\n",
       "    </tr>\n",
       "    <tr>\n",
       "      <th>979</th>\n",
       "      <td>улица Комбрига Потапова, 29В</td>\n",
       "      <td>44.57</td>\n",
       "      <td>33.47</td>\n",
       "      <td>False</td>\n",
       "    </tr>\n",
       "    <tr>\n",
       "      <th>572</th>\n",
       "      <td>село Орловка, Качинское шоссе , 35/41</td>\n",
       "      <td>44.73</td>\n",
       "      <td>33.58</td>\n",
       "      <td>True</td>\n",
       "    </tr>\n",
       "  </tbody>\n",
       "</table>\n",
       "</div>"
      ],
      "text/plain": [
       "                                         adr  latitude  longitude truncated\n",
       "1191    село Орловка, Качинское шоссе , 33/3     44.73      33.58      True\n",
       "979             улица Комбрига Потапова, 29В     44.57      33.47     False\n",
       "572    село Орловка, Качинское шоссе , 35/41     44.73      33.58      True"
      ]
     },
     "execution_count": 13,
     "metadata": {},
     "output_type": "execute_result"
    }
   ],
   "source": [
    "loc.sample(3)"
   ]
  },
  {
   "cell_type": "code",
   "execution_count": 14,
   "id": "a90d2398",
   "metadata": {},
   "outputs": [],
   "source": [
    "assert len(loc)>0\n",
    "loc.to_pickle(loc_file_path)"
   ]
  },
  {
   "cell_type": "markdown",
   "id": "30dbd6a6",
   "metadata": {},
   "source": [
    "### дополняем данные геометкой"
   ]
  },
  {
   "cell_type": "code",
   "execution_count": 15,
   "id": "06470644",
   "metadata": {},
   "outputs": [
    {
     "name": "stdout",
     "output_type": "stream",
     "text": [
      "всего записей: 25677\n",
      "записей без геометки: 1200\n"
     ]
    }
   ],
   "source": [
    "data = data.merge(loc[['adr','latitude','longitude',]],on=['adr'],how='left')\n",
    "\n",
    "print('всего записей:', len( data) )\n",
    "print('записей без геометки:', len( data[ data['latitude'].isnull() ] ) )"
   ]
  },
  {
   "cell_type": "code",
   "execution_count": 16,
   "id": "b3161e64",
   "metadata": {},
   "outputs": [],
   "source": [
    "assert len(data)>0\n",
    "data.to_pickle(result_file_path)"
   ]
  },
  {
   "cell_type": "code",
   "execution_count": 17,
   "id": "799e47c2",
   "metadata": {},
   "outputs": [
    {
     "name": "stdout",
     "output_type": "stream",
     "text": [
      "<class 'pandas.core.frame.DataFrame'>\n",
      "Int64Index: 25677 entries, 0 to 25676\n",
      "Data columns (total 23 columns):\n",
      " #   Column         Non-Null Count  Dtype         \n",
      "---  ------         --------------  -----         \n",
      " 0   avito_id       25677 non-null  int64         \n",
      " 1   title          25677 non-null  object        \n",
      " 2   price          25677 non-null  int64         \n",
      " 3   adr            25677 non-null  object        \n",
      " 4   description    25657 non-null  object        \n",
      " 5   obj_name       16754 non-null  object        \n",
      " 6   ts             25677 non-null  datetime64[ns]\n",
      " 7   avito_page     25677 non-null  int64         \n",
      " 8   nrooms         25677 non-null  int64         \n",
      " 9   floor          25677 non-null  int64         \n",
      " 10  nfloors        25677 non-null  int64         \n",
      " 11  area           25677 non-null  float64       \n",
      " 12  is_studio      25677 non-null  bool          \n",
      " 13  is_apartment   25677 non-null  bool          \n",
      " 14  is_part        25677 non-null  bool          \n",
      " 15  is_auction     25677 non-null  bool          \n",
      " 16  is_openspace   25677 non-null  bool          \n",
      " 17  is_roof        25657 non-null  object        \n",
      " 18  is_SNT         25677 non-null  bool          \n",
      " 19  priceM         25677 non-null  float64       \n",
      " 20  is_last_floor  25677 non-null  bool          \n",
      " 21  latitude       24477 non-null  float64       \n",
      " 22  longitude      24477 non-null  float64       \n",
      "dtypes: bool(7), datetime64[ns](1), float64(4), int64(6), object(5)\n",
      "memory usage: 3.5+ MB\n"
     ]
    }
   ],
   "source": [
    "data.info()"
   ]
  },
  {
   "cell_type": "code",
   "execution_count": null,
   "id": "13de0b35",
   "metadata": {},
   "outputs": [],
   "source": [
    "# for f in raw_data_files:\n",
    "#     ts = dtm.strptime( re.sub(r'.*/avito_','',f), '%Y-%m-%d_%H-%M_raw.xlsx')\n",
    "#     df = pd.read_excel(f)\n",
    "#     df['ts'] = ts\n",
    "#     df.to_excel(f,index=False)\n",
    "#     print(ts)"
   ]
  }
 ],
 "metadata": {
  "kernelspec": {
   "display_name": "Python 3 (ipykernel)",
   "language": "python",
   "name": "python3"
  },
  "language_info": {
   "codemirror_mode": {
    "name": "ipython",
    "version": 3
   },
   "file_extension": ".py",
   "mimetype": "text/x-python",
   "name": "python",
   "nbconvert_exporter": "python",
   "pygments_lexer": "ipython3",
   "version": "3.10.6"
  },
  "toc": {
   "base_numbering": 1,
   "nav_menu": {},
   "number_sections": true,
   "sideBar": true,
   "skip_h1_title": false,
   "title_cell": "Table of Contents",
   "title_sidebar": "Contents",
   "toc_cell": false,
   "toc_position": {},
   "toc_section_display": true,
   "toc_window_display": false
  },
  "varInspector": {
   "cols": {
    "lenName": 16,
    "lenType": 16,
    "lenVar": 40
   },
   "kernels_config": {
    "python": {
     "delete_cmd_postfix": "",
     "delete_cmd_prefix": "del ",
     "library": "var_list.py",
     "varRefreshCmd": "print(var_dic_list())"
    },
    "r": {
     "delete_cmd_postfix": ") ",
     "delete_cmd_prefix": "rm(",
     "library": "var_list.r",
     "varRefreshCmd": "cat(var_dic_list()) "
    }
   },
   "types_to_exclude": [
    "module",
    "function",
    "builtin_function_or_method",
    "instance",
    "_Feature"
   ],
   "window_display": false
  }
 },
 "nbformat": 4,
 "nbformat_minor": 5
}
