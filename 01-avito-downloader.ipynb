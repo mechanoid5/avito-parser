{
 "cells": [
  {
   "cell_type": "markdown",
   "id": "f79cec14",
   "metadata": {},
   "source": [
    "__качаем объявления о продаже недвижимости с avito.ru__\n",
    "\n",
    "_Evgeny S. Borisov <parser@mechanoid.su>_"
   ]
  },
  {
   "cell_type": "code",
   "execution_count": 1,
   "id": "ceabc62f",
   "metadata": {},
   "outputs": [],
   "source": [
    "import logging\n",
    "import sys \n",
    "\n",
    "logging.basicConfig(\n",
    "        format=u'[%(levelname)-8s] %(asctime)s | %(message)s',\n",
    "        datefmt='%Y-%m-%d %H:%M:%S',\n",
    "        level=logging.INFO,\n",
    "        # level=logging.DEBUG,\n",
    "        stream=sys.stdout,\n",
    "    )"
   ]
  },
  {
   "cell_type": "code",
   "execution_count": 2,
   "id": "23172c9b",
   "metadata": {},
   "outputs": [],
   "source": [
    "from time import sleep\n",
    "from tqdm.auto import tqdm\n",
    "import pandas as pd\n",
    "from datetime import datetime \n",
    "\n",
    "pd.set_option('display.max_colwidth', None)\n",
    "pd.set_option('display.float_format', '{:.2f}'.format)\n",
    "tqdm.pandas()"
   ]
  },
  {
   "cell_type": "code",
   "execution_count": 3,
   "id": "97d83b45",
   "metadata": {},
   "outputs": [],
   "source": [
    "source = [\n",
    "    {\n",
    "            'place': 'sevastopol',\n",
    "        'subfolder': 'flat',\n",
    "              'url': 'https://www.avito.ru/sevastopol/kvartiry/prodam',\n",
    "    },{\n",
    "            'place': 'sevastopol',\n",
    "        'subfolder': 'land',\n",
    "              'url': 'https://www.avito.ru/sevastopol/zemelnye_uchastki/prodam',\n",
    "    },{\n",
    "            'place': 'sevastopol',\n",
    "        'subfolder': 'house',\n",
    "              'url': 'https://www.avito.ru/sevastopol/doma_dachi_kottedzhi/prodam',\n",
    "    },\n",
    "    {\n",
    "            'place': 'sudak',\n",
    "        'subfolder': 'flat',\n",
    "              'url': 'https://www.avito.ru/sudak/kvartiry/prodam',\n",
    "    },\n",
    "    {\n",
    "            'place': 'sudak',\n",
    "        'subfolder': 'land',\n",
    "              'url': 'https://www.avito.ru/sudak/zemelnye_uchastki/prodam',\n",
    "    },{\n",
    "            'place': 'sudak',\n",
    "        'subfolder': 'house',\n",
    "              'url': 'https://www.avito.ru/sudak/doma_dachi_kottedzhi/prodam',\n",
    "    },\n",
    "#     {\n",
    "#             'place': 'bahchisaray',\n",
    "#         'subfolder': 'flat',\n",
    "#               'url': 'https://www.avito.ru/bahchisaray/kvartiry/prodam',\n",
    "#     }, \n",
    "    {\n",
    "            'place': 'bahchisaray',\n",
    "        'subfolder': 'land',\n",
    "              'url': 'https://www.avito.ru/bahchisaray/zemelnye_uchastki/prodam',\n",
    "    },{\n",
    "            'place': 'bahchisaray',\n",
    "        'subfolder': 'house',\n",
    "              'url': 'https://www.avito.ru/bahchisaray/doma_dachi_kottedzhi/prodam',\n",
    "    },\n",
    "\n",
    "]"
   ]
  },
  {
   "cell_type": "markdown",
   "id": "749d8645",
   "metadata": {},
   "source": [
    "---"
   ]
  },
  {
   "cell_type": "code",
   "execution_count": 4,
   "id": "b92abbe2",
   "metadata": {},
   "outputs": [],
   "source": [
    "# from selenium import webdriver\n",
    "# from lib.avito import AvitoPageParser\n",
    "\n",
    "# browser = webdriver.Firefox()\n",
    "# browser.get(source[0]['url'])\n",
    "# data = AvitoPageParser().transform(browser)\n",
    "# # browser.close()"
   ]
  },
  {
   "cell_type": "code",
   "execution_count": 5,
   "id": "13a281e0",
   "metadata": {},
   "outputs": [],
   "source": [
    "# browser.close()"
   ]
  },
  {
   "cell_type": "code",
   "execution_count": 6,
   "id": "8e955d4b",
   "metadata": {},
   "outputs": [],
   "source": [
    "# data"
   ]
  },
  {
   "cell_type": "markdown",
   "id": "f5e2ebb2",
   "metadata": {},
   "source": [
    "---"
   ]
  },
  {
   "cell_type": "code",
   "execution_count": 7,
   "id": "863ee8e4",
   "metadata": {},
   "outputs": [],
   "source": [
    "from selenium import webdriver\n",
    "# from selenium.webdriver.common.by import By\n",
    "from lib.avito import AvitoParser"
   ]
  },
  {
   "cell_type": "code",
   "execution_count": 8,
   "id": "6520cd59",
   "metadata": {},
   "outputs": [],
   "source": [
    "dest_folder = 'data/2024/raw'"
   ]
  },
  {
   "cell_type": "code",
   "execution_count": 9,
   "id": "8872059a",
   "metadata": {
    "scrolled": false
   },
   "outputs": [
    {
     "name": "stdout",
     "output_type": "stream",
     "text": [
      "[INFO    ] 2024-07-16 12:24:08 | open virtual browser\n"
     ]
    },
    {
     "data": {
      "text/plain": [
       "'https://www.avito.ru/sevastopol/kvartiry/prodam'"
      ]
     },
     "metadata": {},
     "output_type": "display_data"
    },
    {
     "name": "stdout",
     "output_type": "stream",
     "text": [
      "[INFO    ] 2024-07-16 12:24:31 | page 1: 53 items\n",
      "[INFO    ] 2024-07-16 12:24:44 | page 2: 50 items\n",
      "[INFO    ] 2024-07-16 12:24:55 | page 3: 50 items\n",
      "[INFO    ] 2024-07-16 12:25:06 | page 4: 50 items\n",
      "[INFO    ] 2024-07-16 12:25:15 | page 5: 50 items\n",
      "[INFO    ] 2024-07-16 12:25:25 | page 6: 50 items\n",
      "[INFO    ] 2024-07-16 12:25:34 | page 7: 50 items\n",
      "[INFO    ] 2024-07-16 12:25:44 | page 8: 50 items\n",
      "[INFO    ] 2024-07-16 12:25:55 | page 9: 50 items\n",
      "[INFO    ] 2024-07-16 12:26:05 | page 10: 50 items\n",
      "[INFO    ] 2024-07-16 12:26:15 | page 11: 50 items\n",
      "[INFO    ] 2024-07-16 12:26:25 | page 12: 50 items\n",
      "[INFO    ] 2024-07-16 12:26:36 | page 13: 50 items\n",
      "[INFO    ] 2024-07-16 12:26:47 | page 14: 50 items\n",
      "[INFO    ] 2024-07-16 12:27:03 | page 15: 50 items\n",
      "[INFO    ] 2024-07-16 12:27:16 | page 16: 50 items\n",
      "[INFO    ] 2024-07-16 12:27:27 | page 17: 50 items\n",
      "[INFO    ] 2024-07-16 12:27:38 | page 18: 50 items\n",
      "[INFO    ] 2024-07-16 12:27:49 | page 19: 50 items\n",
      "[INFO    ] 2024-07-16 12:28:00 | page 20: 50 items\n",
      "[INFO    ] 2024-07-16 12:28:10 | page 21: 50 items\n",
      "[INFO    ] 2024-07-16 12:28:21 | page 22: 50 items\n",
      "[INFO    ] 2024-07-16 12:28:33 | page 23: 50 items\n",
      "[INFO    ] 2024-07-16 12:28:44 | page 24: 49 items\n",
      "[INFO    ] 2024-07-16 12:28:55 | page 25: 49 items\n",
      "[INFO    ] 2024-07-16 12:29:06 | page 26: 49 items\n",
      "[INFO    ] 2024-07-16 12:29:16 | page 27: 49 items\n",
      "[INFO    ] 2024-07-16 12:29:27 | page 28: 49 items\n",
      "[INFO    ] 2024-07-16 12:29:38 | page 29: 50 items\n"
     ]
    },
    {
     "data": {
      "text/plain": [
       "1448"
      ]
     },
     "metadata": {},
     "output_type": "display_data"
    },
    {
     "data": {
      "text/plain": [
       "'data/2024/raw/flat/avito/avito_2024-07-16_12-34_raw_sevastopol.pkl'"
      ]
     },
     "metadata": {},
     "output_type": "display_data"
    },
    {
     "data": {
      "text/plain": [
       "'https://www.avito.ru/sevastopol/zemelnye_uchastki/prodam'"
      ]
     },
     "metadata": {},
     "output_type": "display_data"
    },
    {
     "name": "stdout",
     "output_type": "stream",
     "text": [
      "[INFO    ] 2024-07-16 12:34:49 | page 1: 50 items\n",
      "[INFO    ] 2024-07-16 12:34:58 | page 2: 50 items\n",
      "[INFO    ] 2024-07-16 12:35:08 | page 3: 50 items\n",
      "[INFO    ] 2024-07-16 12:35:18 | page 4: 50 items\n",
      "[INFO    ] 2024-07-16 12:35:27 | page 5: 50 items\n",
      "[INFO    ] 2024-07-16 12:35:35 | page 6: 50 items\n",
      "[INFO    ] 2024-07-16 12:35:43 | page 7: 50 items\n",
      "[INFO    ] 2024-07-16 12:35:52 | page 8: 50 items\n",
      "[INFO    ] 2024-07-16 12:36:00 | page 9: 50 items\n",
      "[INFO    ] 2024-07-16 12:36:08 | page 10: 50 items\n",
      "[INFO    ] 2024-07-16 12:36:16 | page 11: 50 items\n",
      "[INFO    ] 2024-07-16 12:36:25 | page 12: 50 items\n",
      "[INFO    ] 2024-07-16 12:36:33 | page 13: 50 items\n",
      "[INFO    ] 2024-07-16 12:36:42 | page 14: 50 items\n",
      "[INFO    ] 2024-07-16 12:36:50 | page 15: 50 items\n",
      "[INFO    ] 2024-07-16 12:36:58 | page 16: 50 items\n",
      "[INFO    ] 2024-07-16 12:37:07 | page 17: 50 items\n",
      "[INFO    ] 2024-07-16 12:37:16 | page 18: 50 items\n",
      "[INFO    ] 2024-07-16 12:37:25 | page 19: 50 items\n",
      "[INFO    ] 2024-07-16 12:37:34 | page 20: 50 items\n",
      "[INFO    ] 2024-07-16 12:37:43 | page 21: 50 items\n",
      "[INFO    ] 2024-07-16 12:37:52 | page 22: 50 items\n",
      "[INFO    ] 2024-07-16 12:38:00 | page 23: 50 items\n",
      "[INFO    ] 2024-07-16 12:38:09 | page 24: 50 items\n",
      "[INFO    ] 2024-07-16 12:38:19 | page 25: 50 items\n",
      "[INFO    ] 2024-07-16 12:38:28 | page 26: 50 items\n",
      "[INFO    ] 2024-07-16 12:38:38 | page 27: 50 items\n",
      "[INFO    ] 2024-07-16 12:38:47 | page 28: 50 items\n",
      "[INFO    ] 2024-07-16 12:38:56 | page 29: 50 items\n",
      "[INFO    ] 2024-07-16 12:39:05 | page 30: 50 items\n",
      "[INFO    ] 2024-07-16 12:39:14 | page 31: 50 items\n",
      "[INFO    ] 2024-07-16 12:39:23 | page 32: 50 items\n",
      "[INFO    ] 2024-07-16 12:39:33 | page 33: 50 items\n",
      "[INFO    ] 2024-07-16 12:39:42 | page 34: 50 items\n",
      "[INFO    ] 2024-07-16 12:39:52 | page 35: 50 items\n",
      "[INFO    ] 2024-07-16 12:40:02 | page 36: 50 items\n",
      "[INFO    ] 2024-07-16 12:40:11 | page 37: 50 items\n",
      "[INFO    ] 2024-07-16 12:40:21 | page 38: 50 items\n",
      "[INFO    ] 2024-07-16 12:40:30 | page 39: 50 items\n",
      "[INFO    ] 2024-07-16 12:40:39 | page 40: 50 items\n",
      "[INFO    ] 2024-07-16 12:40:49 | page 41: 50 items\n",
      "[INFO    ] 2024-07-16 12:40:59 | page 42: 50 items\n",
      "[INFO    ] 2024-07-16 12:41:09 | page 43: 50 items\n",
      "[INFO    ] 2024-07-16 12:41:18 | page 44: 50 items\n",
      "[INFO    ] 2024-07-16 12:41:29 | page 45: 50 items\n",
      "[INFO    ] 2024-07-16 12:41:33 | page 46: 14 items\n"
     ]
    },
    {
     "data": {
      "text/plain": [
       "2264"
      ]
     },
     "metadata": {},
     "output_type": "display_data"
    },
    {
     "data": {
      "text/plain": [
       "'data/2024/raw/land/avito/avito_2024-07-16_12-41_raw_sevastopol.pkl'"
      ]
     },
     "metadata": {},
     "output_type": "display_data"
    },
    {
     "data": {
      "text/plain": [
       "'https://www.avito.ru/sevastopol/doma_dachi_kottedzhi/prodam'"
      ]
     },
     "metadata": {},
     "output_type": "display_data"
    },
    {
     "name": "stdout",
     "output_type": "stream",
     "text": [
      "[INFO    ] 2024-07-16 12:41:44 | page 1: 50 items\n",
      "[INFO    ] 2024-07-16 12:41:53 | page 2: 50 items\n",
      "[INFO    ] 2024-07-16 12:42:03 | page 3: 50 items\n",
      "[INFO    ] 2024-07-16 12:42:12 | page 4: 50 items\n",
      "[INFO    ] 2024-07-16 12:42:21 | page 5: 50 items\n",
      "[INFO    ] 2024-07-16 12:42:30 | page 6: 50 items\n",
      "[INFO    ] 2024-07-16 12:42:38 | page 7: 50 items\n",
      "[INFO    ] 2024-07-16 12:42:47 | page 8: 50 items\n",
      "[INFO    ] 2024-07-16 12:42:56 | page 9: 50 items\n",
      "[INFO    ] 2024-07-16 12:43:05 | page 10: 50 items\n",
      "[INFO    ] 2024-07-16 12:43:14 | page 11: 50 items\n",
      "[INFO    ] 2024-07-16 12:43:24 | page 12: 50 items\n",
      "[INFO    ] 2024-07-16 12:43:34 | page 13: 50 items\n",
      "[INFO    ] 2024-07-16 12:43:42 | page 14: 50 items\n",
      "[INFO    ] 2024-07-16 12:43:52 | page 15: 50 items\n",
      "[INFO    ] 2024-07-16 12:44:00 | page 16: 50 items\n",
      "[INFO    ] 2024-07-16 12:44:10 | page 17: 50 items\n",
      "[INFO    ] 2024-07-16 12:44:19 | page 18: 50 items\n",
      "[INFO    ] 2024-07-16 12:44:27 | page 19: 50 items\n",
      "[INFO    ] 2024-07-16 12:44:37 | page 20: 50 items\n",
      "[INFO    ] 2024-07-16 12:44:46 | page 21: 50 items\n",
      "[INFO    ] 2024-07-16 12:44:55 | page 22: 50 items\n",
      "[INFO    ] 2024-07-16 12:45:05 | page 23: 50 items\n",
      "[INFO    ] 2024-07-16 12:45:15 | page 24: 50 items\n",
      "[INFO    ] 2024-07-16 12:45:25 | page 25: 50 items\n",
      "[INFO    ] 2024-07-16 12:45:35 | page 26: 50 items\n",
      "[INFO    ] 2024-07-16 12:45:44 | page 27: 50 items\n",
      "[INFO    ] 2024-07-16 12:45:54 | page 28: 50 items\n",
      "[INFO    ] 2024-07-16 12:46:04 | page 29: 50 items\n",
      "[INFO    ] 2024-07-16 12:46:14 | page 30: 50 items\n",
      "[INFO    ] 2024-07-16 12:46:23 | page 31: 50 items\n",
      "[INFO    ] 2024-07-16 12:46:34 | page 32: 50 items\n",
      "[INFO    ] 2024-07-16 12:46:44 | page 33: 50 items\n",
      "[INFO    ] 2024-07-16 12:46:54 | page 34: 50 items\n",
      "[INFO    ] 2024-07-16 12:47:04 | page 35: 50 items\n",
      "[INFO    ] 2024-07-16 12:47:13 | page 36: 50 items\n",
      "[INFO    ] 2024-07-16 12:47:23 | page 37: 50 items\n",
      "[INFO    ] 2024-07-16 12:47:33 | page 38: 50 items\n",
      "[INFO    ] 2024-07-16 12:47:43 | page 39: 50 items\n",
      "[INFO    ] 2024-07-16 12:47:53 | page 40: 50 items\n",
      "[INFO    ] 2024-07-16 12:48:03 | page 41: 49 items\n",
      "[INFO    ] 2024-07-16 12:48:13 | page 42: 50 items\n",
      "[INFO    ] 2024-07-16 12:48:23 | page 43: 50 items\n",
      "[INFO    ] 2024-07-16 12:48:33 | page 44: 50 items\n",
      "[INFO    ] 2024-07-16 12:48:43 | page 45: 50 items\n",
      "[INFO    ] 2024-07-16 12:48:53 | page 46: 50 items\n",
      "[INFO    ] 2024-07-16 12:49:04 | page 47: 50 items\n",
      "[INFO    ] 2024-07-16 12:49:11 | page 48: 32 items\n"
     ]
    },
    {
     "data": {
      "text/plain": [
       "2381"
      ]
     },
     "metadata": {},
     "output_type": "display_data"
    },
    {
     "data": {
      "text/plain": [
       "'data/2024/raw/house/avito/avito_2024-07-16_12-49_raw_sevastopol.pkl'"
      ]
     },
     "metadata": {},
     "output_type": "display_data"
    },
    {
     "data": {
      "text/plain": [
       "'https://www.avito.ru/sudak/kvartiry/prodam'"
      ]
     },
     "metadata": {},
     "output_type": "display_data"
    },
    {
     "name": "stdout",
     "output_type": "stream",
     "text": [
      "[INFO    ] 2024-07-16 12:49:22 | page 1: 51 items\n",
      "[INFO    ] 2024-07-16 12:49:32 | page 2: 50 items\n",
      "[INFO    ] 2024-07-16 12:49:41 | page 3: 50 items\n",
      "[INFO    ] 2024-07-16 12:49:52 | page 4: 50 items\n",
      "[INFO    ] 2024-07-16 12:50:02 | page 5: 50 items\n",
      "[INFO    ] 2024-07-16 12:50:13 | page 6: 50 items\n",
      "[INFO    ] 2024-07-16 12:50:24 | page 7: 50 items\n",
      "[INFO    ] 2024-07-16 12:50:29 | page 8: 19 items\n"
     ]
    },
    {
     "data": {
      "text/plain": [
       "370"
      ]
     },
     "metadata": {},
     "output_type": "display_data"
    },
    {
     "data": {
      "text/plain": [
       "'data/2024/raw/flat/avito/avito_2024-07-16_12-50_raw_sudak.pkl'"
      ]
     },
     "metadata": {},
     "output_type": "display_data"
    },
    {
     "data": {
      "text/plain": [
       "'https://www.avito.ru/sudak/zemelnye_uchastki/prodam'"
      ]
     },
     "metadata": {},
     "output_type": "display_data"
    },
    {
     "name": "stdout",
     "output_type": "stream",
     "text": [
      "[INFO    ] 2024-07-16 12:50:38 | page 1: 50 items\n",
      "[INFO    ] 2024-07-16 12:50:47 | page 2: 50 items\n",
      "[INFO    ] 2024-07-16 12:50:55 | page 3: 50 items\n",
      "[INFO    ] 2024-07-16 12:51:03 | page 4: 50 items\n",
      "[INFO    ] 2024-07-16 12:51:12 | page 5: 50 items\n",
      "[INFO    ] 2024-07-16 12:51:21 | page 6: 50 items\n",
      "[INFO    ] 2024-07-16 12:51:23 | page 7: 3 items\n"
     ]
    },
    {
     "data": {
      "text/plain": [
       "303"
      ]
     },
     "metadata": {},
     "output_type": "display_data"
    },
    {
     "data": {
      "text/plain": [
       "'data/2024/raw/land/avito/avito_2024-07-16_12-51_raw_sudak.pkl'"
      ]
     },
     "metadata": {},
     "output_type": "display_data"
    },
    {
     "data": {
      "text/plain": [
       "'https://www.avito.ru/sudak/doma_dachi_kottedzhi/prodam'"
      ]
     },
     "metadata": {},
     "output_type": "display_data"
    },
    {
     "name": "stdout",
     "output_type": "stream",
     "text": [
      "[INFO    ] 2024-07-16 12:51:33 | page 1: 50 items\n",
      "[INFO    ] 2024-07-16 12:51:42 | page 2: 50 items\n",
      "[INFO    ] 2024-07-16 12:51:50 | page 3: 50 items\n",
      "[INFO    ] 2024-07-16 12:51:56 | page 4: 26 items\n"
     ]
    },
    {
     "data": {
      "text/plain": [
       "176"
      ]
     },
     "metadata": {},
     "output_type": "display_data"
    },
    {
     "data": {
      "text/plain": [
       "'data/2024/raw/house/avito/avito_2024-07-16_12-51_raw_sudak.pkl'"
      ]
     },
     "metadata": {},
     "output_type": "display_data"
    },
    {
     "data": {
      "text/plain": [
       "'https://www.avito.ru/bahchisaray/zemelnye_uchastki/prodam'"
      ]
     },
     "metadata": {},
     "output_type": "display_data"
    },
    {
     "name": "stdout",
     "output_type": "stream",
     "text": [
      "[INFO    ] 2024-07-16 12:52:05 | page 1: 50 items\n",
      "[INFO    ] 2024-07-16 12:52:13 | page 2: 50 items\n",
      "[INFO    ] 2024-07-16 12:52:22 | page 3: 50 items\n"
     ]
    },
    {
     "data": {
      "text/plain": [
       "150"
      ]
     },
     "metadata": {},
     "output_type": "display_data"
    },
    {
     "data": {
      "text/plain": [
       "'data/2024/raw/land/avito/avito_2024-07-16_12-52_raw_bahchisaray.pkl'"
      ]
     },
     "metadata": {},
     "output_type": "display_data"
    },
    {
     "data": {
      "text/plain": [
       "'https://www.avito.ru/bahchisaray/doma_dachi_kottedzhi/prodam'"
      ]
     },
     "metadata": {},
     "output_type": "display_data"
    },
    {
     "name": "stdout",
     "output_type": "stream",
     "text": [
      "[INFO    ] 2024-07-16 12:52:32 | page 1: 50 items\n",
      "[INFO    ] 2024-07-16 12:52:42 | page 2: 50 items\n",
      "[INFO    ] 2024-07-16 12:52:50 | page 3: 50 items\n",
      "[INFO    ] 2024-07-16 12:52:58 | page 4: 50 items\n",
      "[INFO    ] 2024-07-16 12:53:07 | page 5: 50 items\n",
      "[INFO    ] 2024-07-16 12:53:15 | page 6: 40 items\n"
     ]
    },
    {
     "data": {
      "text/plain": [
       "290"
      ]
     },
     "metadata": {},
     "output_type": "display_data"
    },
    {
     "data": {
      "text/plain": [
       "'data/2024/raw/house/avito/avito_2024-07-16_12-53_raw_bahchisaray.pkl'"
      ]
     },
     "metadata": {},
     "output_type": "display_data"
    },
    {
     "name": "stdout",
     "output_type": "stream",
     "text": [
      "CPU times: user 3min 5s, sys: 7.32 s, total: 3min 12s\n",
      "Wall time: 29min 8s\n"
     ]
    }
   ],
   "source": [
    "%%time \n",
    "\n",
    "\n",
    "options = webdriver.FirefoxOptions()\n",
    "#options.headless = True\n",
    "browser = webdriver.Firefox(options=options)\n",
    "logging.info('open virtual browser')\n",
    "\n",
    "for s in source:\n",
    "\n",
    "    url = s['url']\n",
    "    place = s['place']\n",
    "    subfolder = s['subfolder'] \n",
    "    \n",
    "    display(url)\n",
    "    browser.get(url)\n",
    "    sleep(3)\n",
    "    \n",
    "    data = AvitoParser().transform(browser)\n",
    "    assert len(data)>0\n",
    "    \n",
    "    df = pd.DataFrame(data)\n",
    "    df['ts'] = datetime.now()\n",
    "    df['place'] = place\n",
    "\n",
    "    display( len(df) )\n",
    "    t_now = datetime.now().strftime('%Y-%m-%d_%H-%M')\n",
    "    fname = f'{dest_folder}/{subfolder}/avito/avito_{t_now}_raw_{place}.pkl'\n",
    "    df.to_pickle(fname)\n",
    "    display( fname )\n",
    "\n",
    "browser.close()"
   ]
  },
  {
   "cell_type": "code",
   "execution_count": 10,
   "id": "a98a46de",
   "metadata": {},
   "outputs": [],
   "source": [
    "# browser.close()"
   ]
  },
  {
   "cell_type": "code",
   "execution_count": 11,
   "id": "e97e319b",
   "metadata": {},
   "outputs": [
    {
     "name": "stdout",
     "output_type": "stream",
     "text": [
      "Вт 16 июл 2024 12:53:15 MSK\r\n"
     ]
    }
   ],
   "source": [
    "!date"
   ]
  },
  {
   "cell_type": "code",
   "execution_count": null,
   "id": "0fcca2ff",
   "metadata": {},
   "outputs": [],
   "source": []
  }
 ],
 "metadata": {
  "kernelspec": {
   "display_name": "Python 3 (ipykernel)",
   "language": "python",
   "name": "python3"
  },
  "language_info": {
   "codemirror_mode": {
    "name": "ipython",
    "version": 3
   },
   "file_extension": ".py",
   "mimetype": "text/x-python",
   "name": "python",
   "nbconvert_exporter": "python",
   "pygments_lexer": "ipython3",
   "version": "3.12.3"
  }
 },
 "nbformat": 4,
 "nbformat_minor": 5
}
